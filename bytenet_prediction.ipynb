{
 "cells": [
  {
   "cell_type": "markdown",
   "id": "6d7ced5b-fbaa-4674-852a-4a1118692c41",
   "metadata": {},
   "source": [
    "# ByteNet Character Prediction Model & Experiment\n",
    "This task uses the Hutter Prize version of  the Wikipedia dataset to test"
   ]
  },
  {
   "cell_type": "code",
   "execution_count": 1,
   "id": "a67aba65-c1ad-45db-8c90-5df7542e6875",
   "metadata": {},
   "outputs": [
    {
     "name": "stdout",
     "output_type": "stream",
     "text": [
      "Requirement already satisfied: datasets in /opt/conda/lib/python3.11/site-packages (2.20.0)\n",
      "Requirement already satisfied: filelock in /opt/conda/lib/python3.11/site-packages (from datasets) (3.13.3)\n",
      "Requirement already satisfied: numpy>=1.17 in /opt/conda/lib/python3.11/site-packages (from datasets) (1.26.4)\n",
      "Requirement already satisfied: pyarrow>=15.0.0 in /opt/conda/lib/python3.11/site-packages (from datasets) (15.0.0)\n",
      "Requirement already satisfied: pyarrow-hotfix in /opt/conda/lib/python3.11/site-packages (from datasets) (0.6)\n",
      "Requirement already satisfied: dill<0.3.9,>=0.3.0 in /opt/conda/lib/python3.11/site-packages (from datasets) (0.3.8)\n",
      "Requirement already satisfied: pandas in /opt/conda/lib/python3.11/site-packages (from datasets) (1.5.3)\n",
      "Requirement already satisfied: requests>=2.32.2 in /opt/conda/lib/python3.11/site-packages (from datasets) (2.32.3)\n",
      "Requirement already satisfied: tqdm>=4.66.3 in /opt/conda/lib/python3.11/site-packages (from datasets) (4.66.4)\n",
      "Requirement already satisfied: xxhash in /opt/conda/lib/python3.11/site-packages (from datasets) (3.4.1)\n",
      "Requirement already satisfied: multiprocess in /opt/conda/lib/python3.11/site-packages (from datasets) (0.70.16)\n",
      "Requirement already satisfied: fsspec<=2024.5.0,>=2023.1.0 in /opt/conda/lib/python3.11/site-packages (from fsspec[http]<=2024.5.0,>=2023.1.0->datasets) (2024.2.0)\n",
      "Requirement already satisfied: aiohttp in /opt/conda/lib/python3.11/site-packages (from datasets) (3.9.3)\n",
      "Requirement already satisfied: huggingface-hub>=0.21.2 in /opt/conda/lib/python3.11/site-packages (from datasets) (0.22.1)\n",
      "Requirement already satisfied: packaging in /opt/conda/lib/python3.11/site-packages (from datasets) (23.2)\n",
      "Requirement already satisfied: pyyaml>=5.1 in /opt/conda/lib/python3.11/site-packages (from datasets) (6.0.1)\n",
      "Requirement already satisfied: aiosignal>=1.1.2 in /opt/conda/lib/python3.11/site-packages (from aiohttp->datasets) (1.3.1)\n",
      "Requirement already satisfied: attrs>=17.3.0 in /opt/conda/lib/python3.11/site-packages (from aiohttp->datasets) (23.2.0)\n",
      "Requirement already satisfied: frozenlist>=1.1.1 in /opt/conda/lib/python3.11/site-packages (from aiohttp->datasets) (1.4.1)\n",
      "Requirement already satisfied: multidict<7.0,>=4.5 in /opt/conda/lib/python3.11/site-packages (from aiohttp->datasets) (6.0.5)\n",
      "Requirement already satisfied: yarl<2.0,>=1.0 in /opt/conda/lib/python3.11/site-packages (from aiohttp->datasets) (1.9.4)\n",
      "Requirement already satisfied: typing-extensions>=3.7.4.3 in /opt/conda/lib/python3.11/site-packages (from huggingface-hub>=0.21.2->datasets) (4.10.0)\n",
      "Requirement already satisfied: charset-normalizer<4,>=2 in /opt/conda/lib/python3.11/site-packages (from requests>=2.32.2->datasets) (3.3.2)\n",
      "Requirement already satisfied: idna<4,>=2.5 in /opt/conda/lib/python3.11/site-packages (from requests>=2.32.2->datasets) (3.6)\n",
      "Requirement already satisfied: urllib3<3,>=1.21.1 in /opt/conda/lib/python3.11/site-packages (from requests>=2.32.2->datasets) (2.2.1)\n",
      "Requirement already satisfied: certifi>=2017.4.17 in /opt/conda/lib/python3.11/site-packages (from requests>=2.32.2->datasets) (2024.2.2)\n",
      "Requirement already satisfied: python-dateutil>=2.8.1 in /opt/conda/lib/python3.11/site-packages (from pandas->datasets) (2.9.0)\n",
      "Requirement already satisfied: pytz>=2020.1 in /opt/conda/lib/python3.11/site-packages (from pandas->datasets) (2024.1)\n",
      "Requirement already satisfied: six>=1.5 in /opt/conda/lib/python3.11/site-packages (from python-dateutil>=2.8.1->pandas->datasets) (1.16.0)\n"
     ]
    }
   ],
   "source": [
    "!pip install datasets"
   ]
  },
  {
   "cell_type": "code",
   "execution_count": 2,
   "id": "2b73eba5-ff7e-464a-9f32-4599d88ca5e0",
   "metadata": {},
   "outputs": [],
   "source": [
    "# Define Imports\n",
    "import json\n",
    "\n",
    "import requests\n",
    "import torch\n",
    "import pickle\n",
    "import torch.utils.data as data\n",
    "from torch.utils.data import Dataset, DataLoader\n",
    "from transformers import BertTokenizer\n",
    "from datasets import load_dataset\n",
    "import os\n",
    "from concurrent.futures import ThreadPoolExecutor, as_completed\n",
    "from transformers import AutoTokenizer\n"
   ]
  },
  {
   "cell_type": "code",
   "execution_count": 3,
   "id": "a2ab1d1e-a056-473f-8c78-8a0aae193c53",
   "metadata": {},
   "outputs": [],
   "source": [
    "from datasets import load_dataset\n",
    "dataset = load_dataset('enwik8')['train']"
   ]
  },
  {
   "cell_type": "code",
   "execution_count": 4,
   "id": "14a6087c-c483-4779-8262-532197a28e52",
   "metadata": {},
   "outputs": [],
   "source": [
    "from bs4 import BeautifulSoup\n",
    "\n",
    "def remove_xml_tags(example):\n",
    "    soup = BeautifulSoup(example['text'], 'lxml')\n",
    "    text_content = soup.get_text()\n",
    "    return {'text': text_content}\n",
    "\n",
    "def clean_html(example):\n",
    "    import re\n",
    "    from bs4 import BeautifulSoup\n",
    "    text = example['text'] \n",
    "    soup = BeautifulSoup(text, \"html.parser\")\n",
    "    text = soup.get_text(separator=\" \")\n",
    "    text = re.sub(r\"http\\S+|www\\S+|https\\S+\", '', text, flags=re.MULTILINE)\n",
    "    text = re.sub(r'\\[\\[|\\]\\]|\\'\\'', '', text)\n",
    "    return {'text': text}\n"
   ]
  },
  {
   "cell_type": "code",
   "execution_count": 5,
   "id": "fd429547-a9c5-4aa7-b916-492b61d3e68b",
   "metadata": {},
   "outputs": [],
   "source": [
    "filtered_dataset = dataset.map(remove_xml_tags)\n",
    "filtered_dataset = filtered_dataset.map(clean_html)"
   ]
  },
  {
   "cell_type": "code",
   "execution_count": 6,
   "id": "3be21ccb-1ddf-439a-99c2-c3861a4a4c86",
   "metadata": {},
   "outputs": [
    {
     "name": "stdout",
     "output_type": "stream",
     "text": [
      "{'text': ['', '', 'Wikipedia', '', 'MediaWiki 1.6alpha', 'first-letter', '', 'Media', 'Special', '', 'Talk', 'User', 'User talk', 'Wikipedia', 'Wikipedia talk', 'Image', 'Image talk', 'MediaWiki', 'MediaWiki talk', 'Template', 'Template talk', 'Help', 'Help talk', 'Category', 'Category talk', 'Portal', 'Portal talk', '', '', '', 'AaA', '1', '', '32899315', '2005-12-27T18:46:47Z', '', 'Jsmethers', '614213', '', '#REDIRECT AAA', '', '', '', 'AlgeriA', '5', '', '18063769', '2005-07-03T11:13:13Z', '', 'Docu', '8029', '', '', 'adding cur_id=5: {{R from CamelCase}}', '#REDIRECT Algeria{{R from CamelCase}}', '', '', '', 'AmericanSamoa', '6', '', '18063795', '2005-07-03T11:14:17Z', '', 'Docu', '8029', '', '', 'adding to cur_id=6  {{R from CamelCase}}', '#REDIRECT American Samoa{{R from CamelCase}}', '', '', '', 'AppliedEthics', '8', '', '15898943', '2002-02-25T15:43:11Z', '', 'Conversion script', '', '', 'Automated conversion', '#REDIRECT Applied ethics', '', '', '', '', 'AccessibleComputing', '10', '', '15898945', '2003-04-25T22:18:38Z', '', 'Ams80', '7543', '', '', 'Fixing redirect', '#REDIRECT Accessible_computing', '', '', '', 'AdA', '11', '', '15898946', '2002-09-22T16:02:58Z', '', 'Andre Engels', '300', '', '', '#REDIRECT Ada programming language', '', '', '', 'Anarchism', '12', '', '42136831', '2006-03-04T01:41:25Z', '', 'CJames745', '832382', '', '', '/* Anarchist Communism */  too many brackets', '{{Anarchism}}', '\\'Anarchism\\' originated as a term of abuse first used against early working class radicals including the Diggers of the English Revolution and the sans-culotte|sans-culottes of the French Revolution.[ Whilst the term is still used in a pejorative way to describe \"any act that used violent means to destroy the organization of society\" [ History of International Police Cooperation], from the final protocols of the \"International Conference of Rome for the Social Defense Against Anarchists\", 1898 , it has also been taken up as a positive label by self-defined anarchists.', '', 'The word \\'anarchism\\' is etymology|derived from the Greek language|Greek Wiktionary:αναρχία|αναρχία (\"without archons (ruler, chief, king)\"). Anarchism as a political philosophy, is the belief that rulers are unnecessary and should be abolished, although there are differing interpretations of what this means. Anarchism also refers to related social movements) that advocate the elimination of authoritarian institutions, particularly the state. [ Definitions of anarchism] on Wikiquote, accessed 2006  The word \"anarchy,\" as most anarchists use it, does not imply chaos, nihilism, or anomie, but rather a harmonious anti-authoritarian society. In place of what are regarded as authoritarian political structures and coercive economic institutions, anarchists advocate social relations based upon voluntary association of autonomous individuals, mutual aid, and self-governance.', '', 'While anarchism is most easily defined by what it is against, anarchists also offer positive visions of what they believe to be a truly free society. However, ideas about how an anarchist society might work vary considerably, especially with respect to economics; there is also disagreement about how a free society might be brought about.', '', '== Origins and predecessors ==', '', 'Peter Kropotkin|Kropotkin, and others, argue that before recorded history, human society was organized on anarchist principles. Peter Kropotkin|Kropotkin, Peter. \"Mutual Aid: A Factor of Evolution\", 1902.  Most anthropologists follow Kropotkin and Engels in believing that hunter-gatherer bands were egalitarian and lacked division of labour, accumulated wealth, or decreed law, and had equal access to resources. Friedrich Engels|Engels, Freidrich. \"[ Origins of the Family, Private Property, and the State]\", 1884.', 'Image:WilliamGodwin.jpg|thumb|right|150px|William Godwin', '', 'Anarchists including the The Anarchy Organisation and Murray Rothbard|Rothbard find anarchist attitudes in Taoism from History of China|Ancient China. The Anarchy Organization (Toronto). Taoism and Anarchy. April 14 2002 [ Toxicpop mirror] [ Vanity site mirror] Murray Rothbard|Rothbard, Murray. \"[ The Ancient Chinese Libertarian Tradition]\", an extract from \"[ Concepts of the Role of Intellectuals in Social Change Toward Laissez Faire]\", The Journal of Libertarian Studies, 9 (2) Fall 1990.  Peter Kropotkin|Kropotkin found similar ideas in stoicism|stoic Zeno of Citium. According to Kropotkin, Zeno \"repudiated the omnipotence of the state, its intervention and regimentation, and proclaimed the sovereignty of the moral law of the individual\".  [ Anarchism], written by Peter Kropotkin, from Encyclopaedia Britannica, 1910]', '', 'The Anabaptists of 16th century Europe are sometimes considered to be religious forerunners of modern anarchism. Bertrand Russell, in his History of Western Philosophy, writes that the Anabaptists \"repudiated all law, since they held that the good man will be guided at every moment by the Holy Spirit...[f]rom this premise they arrive at communism....\" Bertrand Russell|Russell, Bertrand. \"Ancient philosophy\" in A History of Western Philosophy, and its connection with political and social circumstances from the earliest times to the present day, 1945.  Diggers (True Levellers)|The Diggers or \"True Levellers\" were an early communistic movement during the time of the English Civil War, and are considered by some as forerunners of modern anarchism. [ An Anarchist Timeline], from Encyclopaedia Britannica, 1994.', '', 'In the modern era, the first to use the term to mean something other than chaos was Louis-Armand de Lom d\\'Arce de Lahontan, Baron de Lahontan|Louis-Armand, Baron de Lahontan in his Nouveaux voyages dans l\\'Amérique septentrionale, (1703), where he described the Native Americans in the United States|indigenous American society, which had no state, laws, prisons, priests, or private property, as being in anarchy [ Dictionary of the History of Ideas - ANARCHISM] . Russell Means, a libertarian and leader in the American Indian Movement, has repeatedly stated that he is \"an anarchist, and so are all [his] ancestors.\"', '', 'In 1793, in the thick of the French Revolution, William Godwin published An Enquiry Concerning Political Justice [ Although Godwin did not use the word anarchism, many later anarchists have regarded this book as the first major anarchist text, and Godwin as the \"founder of philosophical anarchism.\" But at this point no anarchist movement yet existed, and the term anarchiste was known mainly as an insult hurled by the bourgeois Girondins at more radical elements in the French revolution.', '', '==The first self-labelled anarchist==', 'Image:Pierre_Joseph_Proudhon.jpg|110px|thumb|left|Pierre Joseph Proudhon', '{{main articles|Pierre-Joseph Proudhon and Mutualism (economic theory)}}', '', 'It is commonly held that it wasn\\'t until Pierre-Joseph Proudhon published What is Property? in 1840 that the term \"anarchist\" was adopted as a self-description. It is for this reason that some claim Proudhon as the founder of modern anarchist theory. In What is Property? Proudhon answers with the famous accusation \"Property is theft.\" In this work he opposed the institution of decreed \"property\" (propriété), where owners have complete rights to \"use and abuse\" their property as they wish, such as exploiting workers for profit. Pierre-Joseph Proudhon|Proudhon, Pierre-Joseph. \"[ Chapter 3. Labour as the efficient cause of the domain of property]\" from \"What is Property?\", 1840  In its place Proudhon supported what he called \\'possession\\' - individuals can have limited rights to use resources, capital and goods in accordance with principles of equality and justice.', '', \"Proudhon's vision of anarchy, which he called mutualism (mutuellisme), involved an exchange economy where individuals and groups could trade the products of their labor using labor notes which represented the amount of working time involved in production. This would ensure that no one would profit from the labor of others. Workers could freely join together in co-operative workshops. An interest-free bank would be set up to provide everyone with access to the means of production. Proudhon's ideas were influential within French working class movements, and his followers were active in the Revolution of 1848 in France.\", '', \"Proudhon's philosophy of property is complex: it was developed in a number of works over his lifetime, and there are differing interpretations of some of his ideas. For more detailed discussion see Pierre-Joseph Proudhon|here.\", '', \"==Max Stirner's Egoism==\", '{{main articles|Max Stirner and Egoism}}', '', 'In his The Ego and Its Own Stirner argued that most commonly accepted social institutions - including the notion of State, property as a right, natural rights in general, and the very notion of society - were mere illusions or ghosts in the mind, saying of society  that \"the individuals are its reality.\" He advocated egoism and a form of amoralism, in which individuals would unite in \\'associations of egoists\\' only when it was in their self interest to do so.  For him, property simply comes about through might: \"Whoever knows how to take, to defend, the thing, to him belongs property.\" And, \"What I have in my power, that is my own. So long as I assert myself as holder, I am the proprietor of the thing.\"', '', \"Stirner never called himself an anarchist - he accepted only the label 'egoist'. Nevertheless, his ideas were influential on many individualistically-inclined anarchists, although interpretations of his thought are diverse.\", '', '==American individualist anarchism==', 'Image:BenjaminTucker.jpg|thumb|150px|left|Benjamin Tucker', '{{main articles|Individualist anarchism and American individualist anarchism}}', '', 'In 1825 Josiah Warren had participated in a communitarian experiment headed by Robert Owen called New Harmony, which failed in a few years amidst much internal conflict. Warren blamed the community\\'s failure on a lack of individual sovereignty and a lack of private property.  Warren proceeded to organise experimenal anarchist communities which respected what he called \"the sovereignty of the individual\" at Utopia (anarchist community)|Utopia and Modern Times. In 1833 Warren wrote and published The Peaceful Revolutionist, which some have noted to be the first anarchist periodical ever published. Benjamin Tucker says that Warren \"was the first man to expound and formulate the doctrine now known as Anarchism.\" (Liberty XIV (December, 1900):1)', '', 'Benjamin Tucker became interested in anarchism through meeting Josiah Warren and William B. Greene. He edited and published Liberty from August 1881 to April 1908; it is widely considered to be the finest individualist-anarchist periodical ever issued in the English language.  Tucker\\'s conception of individualist anarchism incorporated the ideas of a variety of theorists: Greene\\'s ideas on mutualism|mutual banking; Warren\\'s ideas on cost the limit of price|cost as the limit of price (a heterodox economics|heterodox variety of labour theory of value); Proudhon\\'s market anarchism; Max Stirner\\'s egoism; and, Herbert Spencer\\'s \"law of equal freedom\".  Tucker strongly supported the individual\\'s right to own the product of his or her labour as \"private property\", and believed in a  Benjamin Tucker|Tucker, Benjamin. \"[ Labor and Its Pay]\" Individual Liberty: Selections From the Writings of Benjamin R. Tucker, Vanguard Press, New York, 1926, Kraus Reprint Co., Millwood, NY, 1973. market economy for trading this property. He argued that in a truly free market system without the state, the abundance of  competition would eliminate profits and ensure that all workers received the full value of their labor.', '', 'Other 19th century individualists included Lysander Spooner, Stephen Pearl Andrews, and Victor Yarros.', '', '==The First International==', 'Image:Bakuninfull.jpg|thumb|150px|right|Bakunin|Mikhail Bakunin 1814-1876', \"{{main articles|International Workingmen's Association, Anarchism and Marxism}}\", '', \"In Europe, harsh reaction followed the revolutions of 1848. Twenty years later in 1864 the International Workingmen's Association, sometimes called the 'First International', united some diverse European revolutionary currents including anarchism. Due to its genuine links to active workers movements the International became signficiant.\", '', 'From the start Karl Marx was a leading figure in the International: he was elected to every succeeding General Council of the association.   The first objections to Marx came from the Mutualism|Mutualists who opposed communism and statism.  Shortly after Mikhail Bakunin and his followers joined in 1868, the First International became polarised into two camps, with Marx and Bakunin as their respective figureheads. The clearest difference between the camps was over strategy. The anarchists around Bakunin favoured (in Kropotkin\\'s words) \"direct economical struggle against capitalism, without interfering in the political parliamentary agitation.\"  At that time Marx and his followers focused on parliamentary activity.', '', 'Bakunin characterised Marx\\'s ideas as authoritarian, and predicted that if a Marxist party gained to power its leaders would end up as bad as the ruling class they had fought against. Mikhail Bakunin|Bakunin, Mikhail. \"[ Statism and Anarchy]\"  In 1872 the conflict climaxed with a final split between the two groups at the Hague Congress (1872)|Hague Congress. This is often cited as the origin of the Anarchist_objections_to_marxism|conflict between anarchists and Marxists. From this moment the Social democracy|social democratic and Libertarian socialism|libertarian currents of socialism had distinct organisations including rival List of left-wing internationals|\\'internationals\\'.', '', '==Anarchist Communism==', '{{main|Anarchist communism}}', 'Image:PeterKropotkin.jpg|thumb|150px|right|Peter Kropotkin', '', 'Proudhon and Bakunin both opposed communism, associating it with statism. However, in the 1870s many anarchists moved away from Bakunin\\'s economic thinking (called \"collectivism\") and embraced communist concepts. Communists believed the means of production should be owned collectively, and that goods be distributed by need, not labor. [', '', 'An early anarchist communist was Joseph Déjacque, the first person to describe himself as \"libertarian socialism|libertarian\".[ [ De l\\'être-humain mâle et femelle - Lettre à P.J. Proudhon par Joseph Déjacque] (in French language|French)  Unlike Proudhon, he argued that \"it is not the product of his or her labor that the worker has a right to, but to the satisfaction of his or her needs, whatever may be their nature.\" He announced his ideas in his US published journal Le Libertaire (1858-1861).', '', \"Peter Kropotkin, often seen as the most important theorist, outlined his economic ideas in The Conquest of Bread and Fields, Factories and Workshops. He felt co-operation is more beneficial than competition, illustrated in nature in Mutual Aid: A Factor of Evolution (1897). Subsequent anarchist communists include Emma Goldman and Alexander Berkman. Many in the anarcho-syndicalist movements (see below) saw anarchist communism as their objective. Isaac Puente's 1932 Comunismo Libertario was adopted by the Spanish CNT as its manifesto for a post-revolutionary society.\", '', 'Some anarchists disliked merging communism with anarchism. Several individualist anarchists maintained that abolition of private property was not consistent with liberty. For example, Benjamin Tucker, whilst professing respect for Kropotkin and publishing his work[ described communist anarchism as \"pseudo-anarchism\".', '', '==Propaganda of the deed==', 'Image:JohannMost.jpg|left|150px|thumb|Johann Most was an outspoken advocate of violence', '{{main|Propaganda of the deed}}', '', \"Anarchists have often been portrayed as dangerous and violent, due mainly to a number of high-profile violent acts, including riots, assassinations, insurrections, and terrorism by some anarchists. Some revolutionaries of the late 19th century encouraged acts of political violence,  such as bombings and the assassinations of head of state|heads of state to further anarchism. Such actions have sometimes been called 'propaganda by the deed'.\", '', 'One of the more outspoken advocates of this strategy was Johann Most, who said \"the existing system will be quickest and most radically overthrown by the annihilation of its exponents. Therefore, massacres of the enemies of the people must be set in motion.\"{{fact}} Most\\'s preferred method of terrorism, dynamite, earned him the moniker \"Dynamost.\"', '', 'However, there is no consensus on the legitimacy or utility of violence in general. Mikhail Bakunin and Errico Malatesta, for example, wrote of violence as a necessary and sometimes desirable force in revolutionary settings. But at the same time, they denounced acts of individual terrorism. (Malatesta in \"On Violence\" and Bakunin when he refuted Nechaev).', '', 'Other anarchists, sometimes identified as anarcho-pacifists|pacifist anarchists, advocated complete nonviolence. Leo Tolstoy, whose philosophy is often viewed as a form of Christian anarchism|Christian anarchism (see below), was a notable exponent of nonviolent resistance.', '', '==Anarchism in the labour movement==', '{{seealso|Anarcho-syndicalism}}', '', 'Image:Flag of Anarcho syndicalism.svg|thumb|175px|The red-and-black flag, coming from the experience of anarchists in the labour movement, is particularly associated with anarcho-syndicalism.', '', 'Anarcho-syndicalism was an early 20th century working class movement seeking to overthrow capitalism and the state to institute a worker controlled society. The movement pursued industrial actions, such as general strike, as a primary strategy. Many anarcho-syndicalists believed in anarchist communism, though not all communists believed in syndicalism.', '', \"After the Paris Commune|1871 repression French anarchism reemerged, influencing the Bourses de Travails of autonomous workers groups and trade unions. From this movement the Confédération Générale du Travail (General Confederation of Work, CGT) was formed in 1895 as the first major anarcho-syndicalist movement. Emile Pataud and Emile Pouget's writing for the CGT saw libertarian communism developing from a general strike.  After 1914 the CGT moved away from anarcho-syndicalism due to the appeal of Bolshevism.  French-style syndicalism was a significant movement in Europe prior to 1921, and remained a significant movement in Spain until the mid 1940s.\", '', 'The Industrial Workers of the World (IWW), founded in 1905 in the US, espoused industrial unionism|unionism and sought a general strike to usher in a stateless society. In 1923 100,000 members existed, with the support of up to 300,000. Though not explicitly anarchist, they organized by rank and file democracy, embodying a spirit of resistance that has inspired many Anglophone syndicalists.', '']}\n"
     ]
    }
   ],
   "source": [
    "print(filtered_dataset[:220])"
   ]
  },
  {
   "cell_type": "code",
   "execution_count": 7,
   "id": "a24719dc-5d7c-4ff7-bb46-0e16bc8372fa",
   "metadata": {},
   "outputs": [],
   "source": [
    "def join_to_length(data, target_length):\n",
    "    joined_data = []\n",
    "    temp_str = ''\n",
    "    for entry in data:\n",
    "        temp_str += entry\n",
    "        if len(temp_str) >= target_length:\n",
    "            joined_data.append(temp_str[:target_length])\n",
    "            temp_str = temp_str[target_length:]\n",
    "    if temp_str:  # add remaining string if it's not empty\n",
    "        joined_data.append(temp_str)\n",
    "    return joined_data"
   ]
  },
  {
   "cell_type": "code",
   "execution_count": 8,
   "id": "c727c276-0b0f-4495-93e3-ec1b08d0edec",
   "metadata": {},
   "outputs": [],
   "source": [
    "train_dataset = join_to_length(filtered_dataset['text'],500)"
   ]
  },
  {
   "cell_type": "code",
   "execution_count": 9,
   "id": "2219c06e-187e-4119-ab34-20962970e7d5",
   "metadata": {},
   "outputs": [
    {
     "name": "stdout",
     "output_type": "stream",
     "text": [
      "['WikipediaMediaWiki 1.6alphafirst-letterMediaSpecialTalkUserUser talkWikipediaWikipedia talkImageImage talkMediaWikiMediaWiki talkTemplateTemplate talkHelpHelp talkCategoryCategory talkPortalPortal talkAaA1328993152005-12-27T18:46:47ZJsmethers614213#REDIRECT AAAAlgeriA5180637692005-07-03T11:13:13ZDocu8029adding cur_id=5: {{R from CamelCase}}#REDIRECT Algeria{{R from CamelCase}}AmericanSamoa6180637952005-07-03T11:14:17ZDocu8029adding to cur_id=6  {{R from CamelCase}}#REDIRECT American Samoa{{R fro', \"m CamelCase}}AppliedEthics8158989432002-02-25T15:43:11ZConversion scriptAutomated conversion#REDIRECT Applied ethicsAccessibleComputing10158989452003-04-25T22:18:38ZAms807543Fixing redirect#REDIRECT Accessible_computingAdA11158989462002-09-22T16:02:58ZAndre Engels300#REDIRECT Ada programming languageAnarchism12421368312006-03-04T01:41:25ZCJames745832382/* Anarchist Communism */  too many brackets{{Anarchism}}'Anarchism' originated as a term of abuse first used against early working class radical\", 's including the Diggers of the English Revolution and the sans-culotte|sans-culottes of the French Revolution.[ Whilst the term is still used in a pejorative way to describe \"any act that used violent means to destroy the organization of society\" [ History of International Police Cooperation], from the final protocols of the \"International Conference of Rome for the Social Defense Against Anarchists\", 1898 , it has also been taken up as a positive label by self-defined anarchists.The word \\'anarc', 'hism\\' is etymology|derived from the Greek language|Greek Wiktionary:αναρχία|αναρχία (\"without archons (ruler, chief, king)\"). Anarchism as a political philosophy, is the belief that rulers are unnecessary and should be abolished, although there are differing interpretations of what this means. Anarchism also refers to related social movements) that advocate the elimination of authoritarian institutions, particularly the state. [ Definitions of anarchism] on Wikiquote, accessed 2006  The word \"an', 'archy,\" as most anarchists use it, does not imply chaos, nihilism, or anomie, but rather a harmonious anti-authoritarian society. In place of what are regarded as authoritarian political structures and coercive economic institutions, anarchists advocate social relations based upon voluntary association of autonomous individuals, mutual aid, and self-governance.While anarchism is most easily defined by what it is against, anarchists also offer positive visions of what they believe to be a truly f', 'ree society. However, ideas about how an anarchist society might work vary considerably, especially with respect to economics; there is also disagreement about how a free society might be brought about.== Origins and predecessors ==Peter Kropotkin|Kropotkin, and others, argue that before recorded history, human society was organized on anarchist principles. Peter Kropotkin|Kropotkin, Peter. \"Mutual Aid: A Factor of Evolution\", 1902.  Most anthropologists follow Kropotkin and Engels in believing ', 'that hunter-gatherer bands were egalitarian and lacked division of labour, accumulated wealth, or decreed law, and had equal access to resources. Friedrich Engels|Engels, Freidrich. \"[ Origins of the Family, Private Property, and the State]\", 1884.Image:WilliamGodwin.jpg|thumb|right|150px|William GodwinAnarchists including the The Anarchy Organisation and Murray Rothbard|Rothbard find anarchist attitudes in Taoism from History of China|Ancient China. The Anarchy Organization (Toronto). Taoism an', 'd Anarchy. April 14 2002 [ Toxicpop mirror] [ Vanity site mirror] Murray Rothbard|Rothbard, Murray. \"[ The Ancient Chinese Libertarian Tradition]\", an extract from \"[ Concepts of the Role of Intellectuals in Social Change Toward Laissez Faire]\", The Journal of Libertarian Studies, 9 (2) Fall 1990.  Peter Kropotkin|Kropotkin found similar ideas in stoicism|stoic Zeno of Citium. According to Kropotkin, Zeno \"repudiated the omnipotence of the state, its intervention and regimentation, and proclaime', 'd the sovereignty of the moral law of the individual\".  [ Anarchism], written by Peter Kropotkin, from Encyclopaedia Britannica, 1910]The Anabaptists of 16th century Europe are sometimes considered to be religious forerunners of modern anarchism. Bertrand Russell, in his History of Western Philosophy, writes that the Anabaptists \"repudiated all law, since they held that the good man will be guided at every moment by the Holy Spirit...[f]rom this premise they arrive at communism....\" Bertrand Rus', 'sell|Russell, Bertrand. \"Ancient philosophy\" in A History of Western Philosophy, and its connection with political and social circumstances from the earliest times to the present day, 1945.  Diggers (True Levellers)|The Diggers or \"True Levellers\" were an early communistic movement during the time of the English Civil War, and are considered by some as forerunners of modern anarchism. [ An Anarchist Timeline], from Encyclopaedia Britannica, 1994.In the modern era, the first to use the term to me', \"an something other than chaos was Louis-Armand de Lom d'Arce de Lahontan, Baron de Lahontan|Louis-Armand, Baron de Lahontan in his Nouveaux voyages dans l'Amérique septentrionale, (1703), where he described the Native Americans in the United States|indigenous American society, which had no state, laws, prisons, priests, or private property, as being in anarchy [ Dictionary of the History of Ideas - ANARCHISM] . Russell Means, a libertarian and leader in the American Indian Movement, has repeated\", 'ly stated that he is \"an anarchist, and so are all [his] ancestors.\"In 1793, in the thick of the French Revolution, William Godwin published An Enquiry Concerning Political Justice [ Although Godwin did not use the word anarchism, many later anarchists have regarded this book as the first major anarchist text, and Godwin as the \"founder of philosophical anarchism.\" But at this point no anarchist movement yet existed, and the term anarchiste was known mainly as an insult hurled by the bourgeois G', 'irondins at more radical elements in the French revolution.==The first self-labelled anarchist==Image:Pierre_Joseph_Proudhon.jpg|110px|thumb|left|Pierre Joseph Proudhon{{main articles|Pierre-Joseph Proudhon and Mutualism (economic theory)}}It is commonly held that it wasn\\'t until Pierre-Joseph Proudhon published What is Property? in 1840 that the term \"anarchist\" was adopted as a self-description. It is for this reason that some claim Proudhon as the founder of modern anarchist theory. In What i', 's Property? Proudhon answers with the famous accusation \"Property is theft.\" In this work he opposed the institution of decreed \"property\" (propriété), where owners have complete rights to \"use and abuse\" their property as they wish, such as exploiting workers for profit. Pierre-Joseph Proudhon|Proudhon, Pierre-Joseph. \"[ Chapter 3. Labour as the efficient cause of the domain of property]\" from \"What is Property?\", 1840  In its place Proudhon supported what he called \\'possession\\' - individuals c', \"an have limited rights to use resources, capital and goods in accordance with principles of equality and justice.Proudhon's vision of anarchy, which he called mutualism (mutuellisme), involved an exchange economy where individuals and groups could trade the products of their labor using labor notes which represented the amount of working time involved in production. This would ensure that no one would profit from the labor of others. Workers could freely join together in co-operative workshops. \", \"An interest-free bank would be set up to provide everyone with access to the means of production. Proudhon's ideas were influential within French working class movements, and his followers were active in the Revolution of 1848 in France.Proudhon's philosophy of property is complex: it was developed in a number of works over his lifetime, and there are differing interpretations of some of his ideas. For more detailed discussion see Pierre-Joseph Proudhon|here.==Max Stirner's Egoism=={{main articl\", 'es|Max Stirner and Egoism}}In his The Ego and Its Own Stirner argued that most commonly accepted social institutions - including the notion of State, property as a right, natural rights in general, and the very notion of society - were mere illusions or ghosts in the mind, saying of society  that \"the individuals are its reality.\" He advocated egoism and a form of amoralism, in which individuals would unite in \\'associations of egoists\\' only when it was in their self interest to do so.  For him, ', 'property simply comes about through might: \"Whoever knows how to take, to defend, the thing, to him belongs property.\" And, \"What I have in my power, that is my own. So long as I assert myself as holder, I am the proprietor of the thing.\"Stirner never called himself an anarchist - he accepted only the label \\'egoist\\'. Nevertheless, his ideas were influential on many individualistically-inclined anarchists, although interpretations of his thought are diverse.==American individualist anarchism==Ima', \"ge:BenjaminTucker.jpg|thumb|150px|left|Benjamin Tucker{{main articles|Individualist anarchism and American individualist anarchism}}In 1825 Josiah Warren had participated in a communitarian experiment headed by Robert Owen called New Harmony, which failed in a few years amidst much internal conflict. Warren blamed the community's failure on a lack of individual sovereignty and a lack of private property.  Warren proceeded to organise experimenal anarchist communities which respected what he call\", 'ed \"the sovereignty of the individual\" at Utopia (anarchist community)|Utopia and Modern Times. In 1833 Warren wrote and published The Peaceful Revolutionist, which some have noted to be the first anarchist periodical ever published. Benjamin Tucker says that Warren \"was the first man to expound and formulate the doctrine now known as Anarchism.\" (Liberty XIV (December, 1900):1)Benjamin Tucker became interested in anarchism through meeting Josiah Warren and William B. Greene. He edited and publi', \"shed Liberty from August 1881 to April 1908; it is widely considered to be the finest individualist-anarchist periodical ever issued in the English language.  Tucker's conception of individualist anarchism incorporated the ideas of a variety of theorists: Greene's ideas on mutualism|mutual banking; Warren's ideas on cost the limit of price|cost as the limit of price (a heterodox economics|heterodox variety of labour theory of value); Proudhon's market anarchism; Max Stirner's egoism; and, Herber\", 't Spencer\\'s \"law of equal freedom\".  Tucker strongly supported the individual\\'s right to own the product of his or her labour as \"private property\", and believed in a  Benjamin Tucker|Tucker, Benjamin. \"[ Labor and Its Pay]\" Individual Liberty: Selections From the Writings of Benjamin R. Tucker, Vanguard Press, New York, 1926, Kraus Reprint Co., Millwood, NY, 1973. market economy for trading this property. He argued that in a truly free market system without the state, the abundance of  competit', \"ion would eliminate profits and ensure that all workers received the full value of their labor.Other 19th century individualists included Lysander Spooner, Stephen Pearl Andrews, and Victor Yarros.==The First International==Image:Bakuninfull.jpg|thumb|150px|right|Bakunin|Mikhail Bakunin 1814-1876{{main articles|International Workingmen's Association, Anarchism and Marxism}}In Europe, harsh reaction followed the revolutions of 1848. Twenty years later in 1864 the International Workingmen's Associ\", \"ation, sometimes called the 'First International', united some diverse European revolutionary currents including anarchism. Due to its genuine links to active workers movements the International became signficiant.From the start Karl Marx was a leading figure in the International: he was elected to every succeeding General Council of the association.   The first objections to Marx came from the Mutualism|Mutualists who opposed communism and statism.  Shortly after Mikhail Bakunin and his followe\", 'rs joined in 1868, the First International became polarised into two camps, with Marx and Bakunin as their respective figureheads. The clearest difference between the camps was over strategy. The anarchists around Bakunin favoured (in Kropotkin\\'s words) \"direct economical struggle against capitalism, without interfering in the political parliamentary agitation.\"  At that time Marx and his followers focused on parliamentary activity.Bakunin characterised Marx\\'s ideas as authoritarian, and predict', 'ed that if a Marxist party gained to power its leaders would end up as bad as the ruling class they had fought against. Mikhail Bakunin|Bakunin, Mikhail. \"[ Statism and Anarchy]\"  In 1872 the conflict climaxed with a final split between the two groups at the Hague Congress (1872)|Hague Congress. This is often cited as the origin of the Anarchist_objections_to_marxism|conflict between anarchists and Marxists. From this moment the Social democracy|social democratic and Libertarian socialism|libert', 'arian currents of socialism had distinct organisations including rival List of left-wing internationals|\\'internationals\\'.==Anarchist Communism=={{main|Anarchist communism}}Image:PeterKropotkin.jpg|thumb|150px|right|Peter KropotkinProudhon and Bakunin both opposed communism, associating it with statism. However, in the 1870s many anarchists moved away from Bakunin\\'s economic thinking (called \"collectivism\") and embraced communist concepts. Communists believed the means of production should be own', 'ed collectively, and that goods be distributed by need, not labor. [An early anarchist communist was Joseph Déjacque, the first person to describe himself as \"libertarian socialism|libertarian\".[ [ De l\\'être-humain mâle et femelle - Lettre à P.J. Proudhon par Joseph Déjacque] (in French language|French)  Unlike Proudhon, he argued that \"it is not the product of his or her labor that the worker has a right to, but to the satisfaction of his or her needs, whatever may be their nature.\" He announce', 'd his ideas in his US published journal Le Libertaire (1858-1861).Peter Kropotkin, often seen as the most important theorist, outlined his economic ideas in The Conquest of Bread and Fields, Factories and Workshops. He felt co-operation is more beneficial than competition, illustrated in nature in Mutual Aid: A Factor of Evolution (1897). Subsequent anarchist communists include Emma Goldman and Alexander Berkman. Many in the anarcho-syndicalist movements (see below) saw anarchist communism as th', 'eir objective. Isaac Puente\\'s 1932 Comunismo Libertario was adopted by the Spanish CNT as its manifesto for a post-revolutionary society.Some anarchists disliked merging communism with anarchism. Several individualist anarchists maintained that abolition of private property was not consistent with liberty. For example, Benjamin Tucker, whilst professing respect for Kropotkin and publishing his work[ described communist anarchism as \"pseudo-anarchism\".==Propaganda of the deed==Image:JohannMost.jp', 'g|left|150px|thumb|Johann Most was an outspoken advocate of violence{{main|Propaganda of the deed}}Anarchists have often been portrayed as dangerous and violent, due mainly to a number of high-profile violent acts, including riots, assassinations, insurrections, and terrorism by some anarchists. Some revolutionaries of the late 19th century encouraged acts of political violence,  such as bombings and the assassinations of head of state|heads of state to further anarchism. Such actions have somet', 'imes been called \\'propaganda by the deed\\'.One of the more outspoken advocates of this strategy was Johann Most, who said \"the existing system will be quickest and most radically overthrown by the annihilation of its exponents. Therefore, massacres of the enemies of the people must be set in motion.\"{{fact}} Most\\'s preferred method of terrorism, dynamite, earned him the moniker \"Dynamost.\"However, there is no consensus on the legitimacy or utility of violence in general. Mikhail Bakunin and Erric', 'o Malatesta, for example, wrote of violence as a necessary and sometimes desirable force in revolutionary settings. But at the same time, they denounced acts of individual terrorism. (Malatesta in \"On Violence\" and Bakunin when he refuted Nechaev).Other anarchists, sometimes identified as anarcho-pacifists|pacifist anarchists, advocated complete nonviolence. Leo Tolstoy, whose philosophy is often viewed as a form of Christian anarchism|Christian anarchism (see below), was a notable exponent of n', 'onviolent resistance.==Anarchism in the labour movement=={{seealso|Anarcho-syndicalism}}Image:Flag of Anarcho syndicalism.svg|thumb|175px|The red-and-black flag, coming from the experience of anarchists in the labour movement, is particularly associated with anarcho-syndicalism.Anarcho-syndicalism was an early 20th century working class movement seeking to overthrow capitalism and the state to institute a worker controlled society. The movement pursued industrial actions, such as general strike,', \" as a primary strategy. Many anarcho-syndicalists believed in anarchist communism, though not all communists believed in syndicalism.After the Paris Commune|1871 repression French anarchism reemerged, influencing the Bourses de Travails of autonomous workers groups and trade unions. From this movement the Confédération Générale du Travail (General Confederation of Work, CGT) was formed in 1895 as the first major anarcho-syndicalist movement. Emile Pataud and Emile Pouget's writing for the CGT sa\", 'w libertarian communism developing from a general strike.  After 1914 the CGT moved away from anarcho-syndicalism due to the appeal of Bolshevism.  French-style syndicalism was a significant movement in Europe prior to 1921, and remained a significant movement in Spain until the mid 1940s.The Industrial Workers of the World (IWW), founded in 1905 in the US, espoused industrial unionism|unionism and sought a general strike to usher in a stateless society. In 1923 100,000 members existed, with the', \" support of up to 300,000. Though not explicitly anarchist, they organized by rank and file democracy, embodying a spirit of resistance that has inspired many Anglophone syndicalists.Image:CNT_tu_votar_y_ellos_deciden.jpg|thumb|175px|CNT propaganda from April 2004.  Reads: Don't let the politicians rule our lives/ You vote and they decide/ Don't allow it/ Unity, Action, Self-management.Spanish anarchist trade union federations were formed in the 1870's, 1900 and 1910. The most successful was the\", ' Confederación Nacional del Trabajo (National Confederation of Labour: CNT), founded in 1910. Prior to the 1940s the CNT was the major force in Spanish working class politics.  With a membership of 1.58 million in 1934, the CNT played a major role in the Spanish Civil War. See also: Anarchism in Spain.Syndicalists like Ricardo Flores Magón were key figures in the Mexican Revolution. Latin America|Latin American anarchism was strongly influenced, extending to the Zapatista Army of National Libera', 'tion|Zapatista rebellion and the factory occupation movements in Argentina. In Berlin in 1922 the CNT was joined with the International Workers Association, an anarcho-syndicalist successor to the First International.Contemporary anarcho-syndicalism continues as a minor force in many socities; much smaller than in the 1910s, 20s and 30s.The largest organised anarchist movement today is in Spain, in the form of the Confederación General del Trabajo and the CNT.  The CGT claims a paid-up membershi', 'p of 60,000, and received over a million votes in Spanish syndical elections.  Other active syndicalist movements include the US Workers Solidarity Alliance, and the UK Solidarity Federation.  The revolutionary industrial unionist Industrial Workers of the World also exists, claiming 2,000 paid members.  Contemporary critics of anarcho-syndicalism and revolutionary industrial unionism claim that they are workerist and fail to deal with economic life outside work.  Post-leftist critics such as Bo', 'b Black claim anarcho-syndicalism advocates oppressive social structures, such as Manual labour|work and the workplace.Anarcho-syndicalists in general uphold principles of workers solidarity, direct action, and self-management.==The Russian Revolution=={{main|Russian Revolution of 1917}}The Russian Revolution of 1917 was a seismic event in the development of anarchism as a movement and as a philosophy.Anarchists participated alongside the Bolsheviks in both February and October revolutions, many', ' anarchists initially supporting the Bolshevik coup. However the Bolsheviks soon turned against the anarchists and other left-wing opposition, a conflict which culminated in the 1918 Kronstadt rebellion. Anarchists in central Russia were imprisoned or driven underground, or joined the victorious Bolsheviks. In Ukraine anarchists fought in the Russian Civil War|civil war against both Whites and Bolsheviks within the Makhnovshchina peasant army led by Nestor Makhno).Expelled American anarchists Em', \"ma Goldman and Alexander Berkman before leaving Russia were amongst those agitating in response to Bolshevik policy and the suppression of the Kronstadt uprising. Both wrote classic accounts of their experiences in Russia, aiming to expose the reality of Bolshevik control. For them, Bakunin's predictions about the consequences of Marxist rule had proved all too true.The victory of the Bolsheviks in the October Revolution and the resulting Russian Civil War did serious damage to anarchist movemen\", 'ts internationally. Many workers and activists saw Bolshevik success as setting an example; Communist parties grew at the expense of anarchism and other socialist movements. In France and the US for example, the major syndicalist movements of the CGT and IWW began to realign themselves away from anarchism and towards the Comintern|Communist International.In Paris, the Dielo Truda group of Russian anarchist exiles which included Nestor Makhno concluded that anarchists needed to develop new forms ', \"of organisation in response to the structures of Bolshevism. Their 1926 manifesto, known as the Platformism|Organisational Platform of the Libertarian Communists, was supported by some communist anarchists, though opposed by many others.The Platform continues to inspire some contemporary anarchist groups who believe in an anarchist movement organised around its principles of 'theoretical unity', 'tactical unity', 'collective responsibility' and 'federalism'. Platformist groups today include the \", \"Workers Solidarity Movement in Ireland, the UK's Anarchist Federation, and the late North Eastern Federation of Anarchist Communists in the northeastern United States and bordering Canada.==The fight against fascism=={{main articles|Anti-fascism and Anarchism in Spain}}Image:CNT-armoured-car-factory.jpg|right|thumb|270px|Spain, 1936. Members of the CNT construct armoured cars to fight against the fascists in one of the collectivisation|collectivised factories.In the 1920s and 1930s the familiar \", 'dynamics of anarchism\\'s conflict with the state were transformed by the rise of fascism in Europe. In many cases, European anarchists faced difficult choices - should they join in popular fronts with reformist democrats and Soviet-led Communists against a common fascist enemy? Luigi Fabbri, an exile from Italian fascism, was amongst those arguing that fascism was something different::\"Fascism is not just another form of government which, like all others, uses violence. It is the most authoritari', 'an and the most violent form of government imaginable. It represents the utmost glorification of the theory and practice of the principle of authority.\" {{fact}}In France, where the fascists came close to insurrection in the February 1934 riots, anarchists divided over a \\'united front\\' policy. [ In Spain, the CNT initially refused to join a popular front electoral alliance, and abstention by CNT supporters led to a right wing election victory. But in 1936, the CNT changed its policy and anarchis', 't votes helped bring the popular front back to power. Months later, the ruling class responded with an attempted coup, and the Spanish Civil War (1936-39) was underway.In reponse to the army rebellion Anarchism in Spain|an anarchist-inspired movement of peasants and workers, supported by armed militias, took control of the major city of Barcelona and of large areas of rural Spain where they collectivization|collectivized the land. But even before the eventual fascist victory in 1939, the anarchi', 'sts were losing ground in a bitter struggle with the  Stalinists. The CNT leadership often appeared confused and divided, with some members controversially entering the government. Stalinist-led troops suppressed the collectives, and persecuted both POUM|dissident marxists and anarchists.Since the late 1970s anarchists have been involved in fighting the rise of neo-fascism|neo-fascist groups. In Germany and the United Kingdom some anarchists worked within militant anti-fascism|anti-fascist group', 's alongside members of the Marxist left. They advocated directly combating fascists with physical force rather than relying on the state.  Since the late 1990s, a similar tendency has developed within US anarchism. See also: Anti-Racist Action (US), Anti-Fascist Action (UK), Antifa==Religious anarchism==Image:LeoTolstoy.jpg|thumb|150px|Leo Tolstoy|Leo Tolstoy 1828-1910{{main articles|Christian anarchism and Anarchism and religion}}Most anarchist culture tends to be secular if not outright milita', \"nt athiesm|anti-religious.  However, the combination of religious social conscience, historical religiousity amongst oppressed social classes, and the compatibility of some interpretations of religious traditions with anarchism has resulted in religious anarchism.Christian anarchism|Christian anarchists believe that there is no higher authority than God, and oppose earthly authority such as government and established churches. They believe that Jesus' teachings were clearly anarchistic, but were\", ' corrupted when \"Christianity\" was declared the official religion of Rome. Christian anarchists, who follow Jesus\\' directive to \"turn the other cheek\", are strict pacifism|pacifists. The most famous advocate of Christian anarchism was Leo Tolstoy, author of The Kingdom of God is Within You, who called for a society based on compassion, nonviolent principles and freedom.  Christian anarchists tend to form experimental communities.  They also occasionally tax resistance|resist taxation.  Many Chri', \"stian anarchists are vegetarianism|vegetarian or veganism|vegan{{fact}}.Christian anarchy can be said to have roots as old as the religion's birth, as the early church exhibits many anarchistic tendencies, such as communal goods and wealth. By aiming to obey utterly certain of the Bible's teachings certain anabaptism|anabaptist groups of sixteenth century Europe attempted to emulate the early church's social-economic organisation and philosophy by regarding it as the only social structure capabl\", \"e of true obediance to Jesus' teachings, and utterly rejected (in theory) all earthly hierarchies and authority (and indeed non-anabaptists in general) and violence as ungodly. Such groups, for example the Hutterites, typically went from initially anarchistic beginnings to, as their movements stabalised, more authoritarian social models.Chinese Anarchism was most influential in the 1920s.  Strands of Chinese anarchism included Tai-Xu's Buddhist Anarchism which was influenced by Tolstoy and the w\", \"ell-field system.Neopaganism, with its focus on the environment and equality, along with its often decentralized nature, has lead to a number of neopagan anarchists. One of the most prominent is Starhawk, who writes extensively about both spirituality and activism.==Anarchism and feminism==Image:Goldman-4.jpg|thumb|left|150px|Emma Goldman{{main|Anarcha-Feminism}}Early French feminism|French feminists such as Jenny d'Héricourt and Juliette Adam criticised the mysogyny in the anarchism of Proudhon\", ' during the 1850s.Anarcha-feminism is a kind of radical feminism that espouses the belief that patriarchy is a fundamental problem in society.  While anarchist feminism has existed for more than a hundred years, its explicit formulation as anarcha-feminism dates back to the early 70s [ Anarcho-Feminism - Two Statements - Who we are: An Anarcho-Feminist Manifesto] , during the second-wave feminism|second-wave feminist movement.  Anarcha-feminism, views patriarchy as the first manifestation of hie', 'rarchy in human history; thus, the first form of oppression occurred in the dominance of male over female.  Anarcha-feminists then conclude that if feminists are against patriarchy, they must also be against all forms of hierarchy, and therefore must reject the authoritarian nature of the state and capitalism. {{fact}}Anarcho-primitivists see the creation of gender roles and patriarchy a creation of the start of civilization, and therefore consider primitivism to also be an anarchist school of t', 'hought that addresses feminist concerns.  Eco-feminism is often considered a feminist variant of green anarchist feminist thought.Anarcha-feminism is most often associated with early 20th-century authors and theorists such as Emma Goldman and Voltairine de Cleyre, although even early first-wave feminist Mary Wollstonecraft held proto-anarchist views, and William Godwin is often considered a feminist anarchist precursor. It should be noted that Goldman and de Cleyre, though they both opposed the ', 'state, had opposing philosophies, as de Cleyre explains: \"Miss Goldman is a communist; I am an individualist. She wishes to destroy the right of property, I wish to assert it. I make my war upon privilege and authority, whereby the right of property, the true right in that which is proper to the individual, is annihilated. She believes that co-operation would entirely supplant competition; I hold that competition in one form or another will always exist, and that it is highly desirable it should', '.\"  In the Spanish Civil War, an anarcha-feminist group, \"Free Women\", organized to defend both anarchist and feminist ideas.In the modern day anarchist movement, many anarchists, male or female, consider themselves feminists, and anarcha-feminist ideas are growing.  The publishing of Quiet Rumors, an anarcha-feminist reader, has helped to spread various kinds of anti-authoritarian and anarchist feminist ideas to the broader movement. Wendy McElroy has popularized an individualist-anarchism take', ' on feminism in her books, articles, and individualist feminist website. [ I-feminists.net]==Anarcho-capitalism==Image:Murray Rothbard Smile.JPG|thumb|left|150px|Murray Rothbard (1926-1995){{main|Anarcho-capitalism}}Anarcho-capitalism is a predominantly United States-based theoretical tradition that desires a stateless society with the economic system of free market capitalism. Unlike other branches of anarchism, it does not oppose profit or capitalism. Consequently, most anarchists do not recog', \"nise anarcho-capitalism as a form of anarchism.Murray Rothbard's synthesis of classical liberalism and Austrian economics was germinal for the development of contemporary anarcho-capitalist theory. He defines anarcho-capitalism in terms of the non-aggression principle, based on the concept of Natural Law. Competiting theorists use egoism, utilitarianism (used by David Friedman), or contractarianism (used by Jan Narveson). Some minarchism|minarchists, such as Ayn Rand, Robert Nozick, and Robert A\", '. Heinlein, have influenced anarcho-capitalism.Some anarcho-capitalists, along with some right-wing libertarian historians such as David Hart and Ralph Raico, considered similar philosophies existing prior to Rothbard to be anarcho-capitalist, such as those of Gustave de Molinari and Auberon Herbert  Gustave de Molinari|Molinari, Gustave de. [ Preface to \"The Production of Security\"], translated by J. Huston McCulloch, Occasional Papers Series #2 (Richard M. Ebeling, Editor), New York: The Cente', 'r for Libertarian Studies, May 1977. Ralph Raico|Raico, Ralph [ Authentic German Liberalism of the 19th Century] Ecole Polytechnique, Centre de Recherce en Epistemologie Appliquee, Unité associée au CNRS (2004).  Opponents of anarcho-capitalists dispute these claims. McKay, Iain; Elkin, Gary; Neal, Dave et al [ Replies to Some Errors and Distortions in Bryan Caplan\\'s \"Anarchist Theory FAQ\" version 5.2] An Anarchist FAQ Version 11.2 Accessed February 20, 2006.The place of anarcho-capitalism withi', 'n anarchism, and indeed whether it is a form of anarchism at all, is highly controversial. For more on this debate see Anarchism and anarcho-capitalism.==Anarchism and the environment=={{seealso|Anarcho-primitivism|Green anarchism|Eco-anarchism|Ecofeminism}}Since the late 1970s anarchists in Anglophone and European countries have been taking action for the natural environment. Eco-anarchism|Eco-anarchists or Green anarchism|Green anarchists believe in deep ecology.  This is a worldview that embr', 'aces biodiversity and sustainability. Eco-anarchists often use direct action against what they see as earth-destroying institutions. Of particular importance is the Earth First! movement, that takes action such as tree sitting. Another important component is ecofeminism, which sees the domination of nature as a metaphor for the domination of women. Green anarchism also involves a critique of industrial capitalism, and, for some green anarchists, civilization itself.{{fact}}Primitivism is a predo', 'minantly Western philosophy that advocates a return to a pre-industrial and usually pre-agricultural society.  It develops a critique of industrial civilization.  In this critique technology and development have alienation|alienated people from the natural world. This philosophy develops themes present in the political action of the Luddites and the writings of Jean-Jacques Rousseau. Primitivism developed in the context of the Reclaim the Streets, Earth First! and the Earth Liberation Front move', \"ments. John Zerzan wrote that civilization — not just the state — would need to fall for anarchy to be achieved.{{fact}} Anarcho-primitivists point to the anti-authoritarian nature of many 'primitive' or hunter-gatherer societies throughout the world's history, as examples of anarchist societies.==Other branches and offshoots==Anarchism generates many eclectic and syncretic philosophies and movements.  Since the Western social formet in the 1960s and 1970s a number new of movements and schools h\", 'ave appeared.  Most of these stances are limited to even smaller numbers than the schools and movements listed above.Image:Hakim Bey.jpeg|thumb|right|Hakim Bey*\\'Post-left anarchy\\' - Post-left anarchy (also called egoist-anarchism) seeks to distance itself from the traditional \"left\" - communists, liberals, social democrats, etc. - and to escape the confines of ideology in general. Post-leftists argue that anarchism has been weakened by its long attachment to contrary \"leftist\" movements and sing', 'le issue causes (anti-war, anti-nuclear, etc.). It calls for a synthesis of anarchist thought and a specifically anti-authoritarian revolutionary movement outside of the leftist milieu. It often focuses on the individual rather than speaking in terms of class or other broad generalizations and shuns organizational tendencies in favor of the complete absence of  explicit hierarchy. Important groups and individuals associated with Post-left anarchy include: CrimethInc, the magazine Anarchy: A Jour', \"nal of Desire Armed and its editor Jason McQuinn, Bob Black, Hakim Bey and others. For more information, see Infoshop.org's Anarchy After Leftism [ Infoshop.org - Anarchy After Leftism]  section, and the [ Post-left section] on [ anarchism.ws.] See also: Post-left anarchy*'Post-structuralism' - The term postanarchism was originated by Saul Newman, first receiving popular attention in his book From Bakunin to Lacan to refer to a theoretical move towards a synthesis of classical anarchist theory a\", \"nd poststructuralist thought. Subsequent to Newman's use of the term, however, it has taken on a life of its own and a wide range of ideas including autonomism, post-left anarchy, situationism, post-colonialism and Zapatismo. By its very nature post-anarchism rejects the idea that it should be a coherent set of doctrines and beliefs. As such it is difficult, if not impossible, to state with any degree of certainty who should or shouldn't be grouped under the rubric. Nonetheless key thinkers asso\", \"ciated with post-anarchism include Saul Newman, Todd May, Gilles Deleuze and Félix Guattari. External reference: Postanarchism Clearinghouse [ Post anarchist clearing house]  See also Post-anarchism*'Insurrectionary anarchism' - Insurrectionary anarchism is a form of revolutionary anarchism critical of formal anarchist labor unions and federations. Insurrectionary anarchists advocate informal organization, including small affinity groups, carrying out acts of resistance in various struggles, and\", ' mass organizations called base structures, which can include exploited individuals who are not anarchists. Proponents include Wolfi Landstreicher and Alfredo M. Bonanno, author of works including \"Armed Joy\" and \"The Anarchist Tension\". This tendency is represented in the US in magazines such as Willful Disobedience and Killing King Abacus. See also: Insurrectionary anarchism*\\'Small \\'a\\' anarchism\\' - \\'Small \\'a\\' anarchism\\' is a term used in two different, but not unconnected contexts. Dave Neal p', 'osited the term in opposition to big \\'A\\' Anarchism in the article [ Anarchism: Ideology or Methodology?]. While big \\'A\\' Anarchism referred to ideological Anarchists, small \\'a\\' anarchism was applied to their methodological counterparts; those who viewed anarchism as \"a way of acting, or a historical tendency against illegitimate authority.\" As an anti-ideological position, small \\'a\\' anarchism shares some similarities with post-left anarchy. David Graeber and Andrej Grubacic offer an alternative u', 'se of the term, applying it to groups and movements organising according to or acting in a manner consistent with anarchist principles of decentralisation, voluntary association, mutual aid, the network model, and crucially, \"the rejection of any idea that the end justifies the means, let alone that the business of a revolutionary is to seize state power and then begin imposing one\\'s vision at the point of a gun.\"[==Other issues==*\\'Conceptions of an anarchist society\\' - Many political philosophe', 'rs justify support of the state as a means of regulating violence, so that the destruction caused by human conflict is minimized and fair relationships are established. Anarchists argue that pursuit of these ends does not justify the establishment of a state; many argue that the state is incompatible with those goals and the cause of chaos, violence, and war. Anarchists argue that the state helps to create a Monopoly on the legitimate use of physical force|monopoly on violence, and uses violence', \" to advance elite interests.  Much effort has been dedicated to explaining how anarchist societies would handle criminality.See also: Anarchism and Society*'Civil rights and cultural sovereignty' - Black anarchism opposes the existence of a state, capitalism, and subjugation and domination of people of color, and favors a non-hierarchical organization of society. Theorists include Ashanti Alston, Lorenzo Komboa Ervin, and Sam Mbah. Anarchist People of Color was created as a forum for non-caucasi\", 'an anarchists to express their thoughts about racial issues within the anarchist movement, particularly within the United States. National anarchism is a political view which seeks to unite cultural or ethnic preservation with anarchist views. Its adherents propose that those preventing ethnic groups (or races) from living in separate autonomous groupings should be resisted. Anti-Racist Action is not an anarchist group, but many anarchists are involved.  It focuses on publicly confronting racist', \" agitators. The Zapatista movement of Chiapas, Mexico is a cultural sovereignty group with some anarchist proclivities.*'Neocolonialism and Globalization' - Nearly all anarchists oppose neocolonialism as an attempt to use economic coercion on a global scale, carried out through state institutions such as the World Bank, World Trade Organization, G8|Group of Eight, and the World Economic Forum. Globalization is an ambiguous term that has different meanings to different anarchist factions. Most an\", 'archists use the term to mean neocolonialism and/or cultural imperialism (which they may see as related). Many are active in the anti-globalization movement. Others, particularly anarcho-capitalists, use \"globalization\" to mean the worldwide expansion of the division of labor and trade, which they see as beneficial so long as governments do not intervene.*\\'Parallel structures\\' - Many anarchists try to set up alternatives to state-supported institutions and \"outposts,\"  such as Food Not Bombs, in', \"foshops, educational systems such as home-schooling, neighborhood mediation/arbitration groups, and so on.  The idea is to create the structures for a new anti-authoritarian society in the shell of the old, authoritarian one.*'Technology' - Recent technological developments have made the anarchist cause both easier to advance and more conceivable to people. Many people use the Internet to form on-line communities. Intellectual property is undermined and a gift-culture supported by file sharing|s\", \"haring music files,  open source programming, and the free software movement. These cyber-communities include the GNU, Linux, Indymedia, and Wiki.   Some anarchists see information technology as the best weapon to defeat authoritarianism. Some even think the information age makes eventual anarchy inevitable. [ The Sovereign Individual -- Mastering the transition to the information age]  See also: Crypto-anarchism and Cypherpunk.*'Pacifism' - Some anarchists consider Pacifism (opposition to war) \", 'to be inherent in their philosophy. Anarcho-pacifism|anarcho-pacifists take it further and follow Leo Tolstoy\\'s belief in Nonviolence|non-violence. Anarchists see war as an activity in which the state seeks to gain and consolidate power, both domestically and in foreign lands, and subscribe to Randolph Bourne\\'s view that \"war is the health of the state\" [ War is the Health of the State] . A lot of anarchist activity has been anti-war based.*\\'Parliamentarianism\\' - In general terms, the anarchist ', 'ethos opposes voting in elections, because voting amounts to condoning the state. [ The Voluntaryist - Why I would not vote against Hitler] . Voluntaryism is an anarchist school of thought which emphasizes \"tending your own garden\" and \"neither ballots nor bullets.\" The anarchist case against voting is explained in The Ethics of Voting [ Voluntaryist - The ethics of voting]  by George H. Smith. (Also see \"Voting Anarchists: An Oxymoron or What?\" by Joe Peacott, and writings by Fred Woodworth).*\\'', \"Sectarianism' - Most anarchist schools of thought are, to some degree, sectarian.  There is often a difference of opinion within each school about how to react to, or interact with, other schools.  Some, such as panarchy|panarchists, believe that it is possible for a variety of modes of social life to coexist and compete. Some anarchists view opposing schools as a social impossibility and resist interaction; others see opportunities for coalition-building, or at least temporary alliances for spe\", 'cific purposes. See anarchism without adjectives.==Criticisms of anarchism==:Main article: Criticisms of anarchism\\'Violence.\\'  Since anarchism has often been associated with violence and destruction, some people have seen it as being too violent. On the other hand hand, Frederick Engels criticsed anarchists for not being violent enough::\"A revolution is certainly the most authoritarian thing there is; it is the act whereby one part of the population imposes its will upon the other part by means ', 'of rifles, bayonets and cannon — authoritarian means, if such there be at all; and if the victorious party does not want to have fought in vain, it must maintain this rule by means of the terror which its arms inspire in the reactionists. Would the Paris Commune have lasted a single day if it had not made use of this authority of the armed people against the bourgeois?\" [ On Authority]\\'Utopianism.\\' Anarchism is often criticised as unfeasible, or plain utopian, even by many who agree that it\\'s a ', 'nice idea in principle. For example, Carl Landauer in his book European Socialism criticizes anarchism as being unrealistically utopian, and holds that government is a \"lesser evil\" than a society without \"repressive force.\" He holds that the belief that \"ill intentions will cease if repressive force disappears\" is an \"absurdity.\" Carl Landauer|Landauer, Carl. European Socialism: A History of Ideas and Movements (1959) (retrieved from \"Anarchist Theory FAQ\" by Bryan Caplan on January 27 2006  Ho', 'wever, it must be noted that not all anarchists have such a utopian view of anarchism. For example, some, such as Benjamin Tucker, advocate privately-funded institutions that defend individual liberty and property. However, other anarchists, such as Sir Herbert Read, proudly accept the characterization \"utopian.\"\\'Social class|Class character.\\' Marxists have characterised anarchism as an expression of the class interests of the petite bourgeoisie or perhaps the lumpenproletariat. See e.g. Plekhan', 'ov G. V. Plekhanov \"[ Anarchism and Socialism]\"  for a Marxist critique of 1895. Anarchists have also been characterised as spoilt middle-class dilettantes, most recently in relation to anti-capitalism|anti-capitalist protesters.\\'Tacit authoritarianism.\\' In recent decades anarchism has been criticised by \\'situationists\\', \\'post-anarchists\\' and others of preserving \\'tacitly statist\\', authoritarian or bureaucratic tendencies behind a dogmatic facade. [ Society of the Spectacle] Paragraph 91\\'Hypocri', 'sy.\\' Some critics point to the sexist Jenny P. d\\'Hericourt, \"[ Contemporary feminist critic of Proudhon]\"  and racist views of some prominent anarchists, notably Pierre-Joseph Proudhon|Proudhon and Mikhail Bakunin|Bakunin, as examples of hypocrisy inherent within anarchism. While many anarchists, however, dismiss that the personal prejudices of 19th century theorists influence the beliefs of present-day anarchists, others criticise modern anarchism for continuing to be eurocentric and reference ', 'the impact of anarchist thinkers like Proudhon on fascism through groups like Cercle Proudhon. [ Anarchist Integralism]  Anarcho-capitalist Bryan Caplan argues that the treatment of fascists and suspected fascist sympathizers by Spanish Anarchists in the Spanish Civil War was a form of illegitimate coercion, making the proffessed anarchists \"ultimately just a third faction of totalitarians,\" alongside the communists and fascists. He also criticizes the willingness of the CNT to join the (statist', ') Republican government during the civil war, and references Stanley G. Payne\\'s  book on the Franco regime which claims that the CNT entered negotiations with the fascist government six years after the war. Bryan Caplan|Caplan, Bryan. \"[ The Anarcho-Statists of Spain]\"==Cultural phenomena==Image:Noam_chomsky.jpg|thumb|150px|right| Noam Chomsky (1928–)The kind of anarchism that is most easily encountered in popular culture is represented by celebrities who publicly identify themselves as anarchis', 'ts. Although some anarchists reject any focus on such famous living individuals as inherently élitist, the following figures are examples of prominent publicly self-avowed anarchists:* the MIT professor of Linguistics Noam Chomsky* the science fiction author Ursula K. Le Guin* the social historian Howard Zinn* entertainer and author Hans Alfredsson* the Avant-garde artist Nicolás RossellóIn Denmark, the Freetown Christiania was created in downtown Copenhagen. The housing and employment crisis in', ' most of Western Europe led to the formation of commune (intentional community)|communes and squatter movements like the one still thriving in Barcelona, in Catalonia.  Militant antifa|resistance to neo-Nazi groups in places like Germany, and the uprisings of autonomous Marxism, situationist, and Autonomist groups in France and Italy also helped to give popularity to anti-authoritarian, non-capitalist ideas.In various musical styles, anarchism rose in popularity.  Most famous for the linking of ', 'anarchist ideas and music has been punk rock, although in the modern age, hip hop, and folk music are also becoming important mediums for the spreading of the anarchist message.  In the United Kingdom|UK this was associated with the punk rock movement; the band Crass is celebrated for its anarchist and pacifism|pacifist ideas. The Dutch people|Dutch punk band The Ex further exemplifies this expression.For further details, see anarcho-punk==See also==There are many concepts relevant to the topic ', 'of anarchism, this is a brief summary.  There is also a more extensive list of anarchist concepts.* individualist anarchism, anarcho-communism, anarcho-syndicalism, anarcho-capitalism, mutualism, Christian anarchism, anarcha-feminism, green anarchism, nihilist anarchism, anarcho-nationalism, black anarchism, national anarchism. post-anarchism, post-left anarchism* Libertarian Socialism* Anarchist symbolism* Anarchism/Links|List of anarchism links* List of anarchists* List of anarchist organizati', 'ons* Major conflicts within anarchist thought* Past and present anarchist communities===Historical events===*Paris Commune (1871)*Haymarket Riot (1886)*The Makhnovschina (1917 — 1921)*Kronstadt rebellion (1921)*Spanish Revolution (1936) (see Anarchism in Spain and Spanish Revolution)*May 1968, France (1968)*WTO Ministerial Conference of 1999|WTO Meeting in Seattle (1999)===Books==={{main|List of anarchist books}}The following is a sample of books that have been referenced in this page, a more co', 'mplete list can be found at the list of anarchist books.*Mikhail Bakunin, God and the State [*Emma Goldman, Anarchism & Other Essays [*Peter Kropotkin, Mutual Aid: A Factor of Evolution|Mutual Aid [*Pierre-Joseph Proudhon, What is Property? [*Rudolf Rocker, Anarcho-Syndicalism (book)|Anarcho-Syndicalism*Murray Rothbard The Ethics of Liberty [*Max Stirner, The Ego And Its Own [*Leo Tolstoy, The Kingdom of God is Within You [===Anarchism by region/culture===* African Anarchism* Anarchism in Spain*', \" Anarchism in the English tradition* Chinese anarchism==References=='These notes have no corresponding reference in the article. They might be re-used.'# {{note|bill}} [# {{note|praxeology}} [# {{note|platform}} [# {{note|appleton}} [ Against Politics - Appleton - Boston Anarchists]# {{note|Yarros-NotUtopian}} Victor Yarros|Yarros, Victor Liberty VII, January 2 1892.# {{note|totse}} [ Noam Chomsky on Anarchism by Noam Chomsky]==External links==The overwhelming diversity and number of links relat\", \"ing to anarchism is extensively covered on the List of anarchism web resources|links subpage.{{wikiquote|Definitions of anarchism}}*[ Anarchoblogs] Blogs by Anarchists.*[ Anarchy Archives] extensively archives information relating to famous anarchists.  This includes many of their books and other publications.*Hundreds of anarchists are listed, with short bios, links & dedicated pages [ at the Daily Bleed's Anarchist Encyclopedia]*[ Infoshop.org] (Infoshop.org|wikipedia page)*[ Industrial Worker\", 's of the World]Category:Anarchism|*Category:Forms of government|AnarchismCategory:Political ideology entry points|AnarchismCategory:Political theories|AnarchismCategory:Social philosophy|Anarchismar:لاسلطويةast:Anarquismubg:Анархизъмbs:Anarhizamca:Anarquismecs:Anarchismusda:Anarkismede:Anarchismuseo:Anarkiismoes:Anarquismoet:Anarhismeu:Anarkismofa:دولت\\u200cزدائیfi:Anarkismifr:Anarchismegl:Anarquismohe:אנרכיזםhu:Anarchizmusid:Anarkismeis:Stjórnleysisstefnait:Anarchismoja:アナキズムko:아나키즘lt:Anarchizmasnl:', 'Anarchismenn:Anarkismeno:Anarkismepl:Anarchizmpt:Anarquismoro:Anarhismru:Анархизмsco:Anarchismsimple:Anarchismsk:Anarchizmussl:Anarhizemsr:Анархизамsv:Anarkismth:ลัทธิอนาธิปไตยtr:Anarşizmzh:无政府主义zh-min-nan:Hui-thóng-tī-chú-gīAfghanistanHistory13158989482002-08-27T03:07:44ZMagnus Manske4whoops#REDIRECT History of AfghanistanAfghanistanGeography14158989492002-02-25T15:43:11ZConversion scriptAutomated conversion#REDIRECT Geography of AfghanistanAfghanistanPeople15158989502002-08-21T10:42:35Z-- Apri', 'l166fix link#REDIRECT Demographics of AfghanistanAfghanistanEconomy17158989512002-05-17T15:30:05ZAxelBoldt2fix redirect#REDIRECT Economy of AfghanistanAfghanistanCommunications18158989522002-09-13T13:39:26ZAndre Engels300indirect redirect#REDIRECT Communications in AfghanistanAfghanistanTransportations19158989532002-10-09T13:36:44ZMagnus Manske4#REDIRECT Transportation in Afghanistan#REDIRECT Transportation in AfghanistanAfghanistanMilitary20158989542002-09-03T01:14:20ZAndre Engels300short-circu', 'iting two-step redirect#REDIRECT Military of AfghanistanAfghanistanTransnationalIssues21158989552002-10-09T13:37:01ZMagnus Manske4#REDIRECT Foreign relations of Afghanistan#REDIRECT Foreign relations of AfghanistanAlTruism22158989562002-02-25T15:43:11ZConversion scriptAutomated conversion#REDIRECT AltruismAssistiveTechnology23158989572003-04-25T22:20:03ZAms807543Fixing redirect#REDIRECT Assistive_technologyAmoeboidTaxa24158989582002-02-25T15:43:11ZConversion scriptAutomated conversion#REDIRECT A', 'moeboidAutism25420190202006-03-03T06:39:21ZOhnoitsjamie507787rv difficult-to-follow paragraph<!-- NOTES:1) Please do not convert the bullets to subheadings here as the table of contents would be too large in that case (for example, see the FAC).2) Use ref/note combos for all links and explicitly cited references3) Reference anything you put here with notable references, as this subject tends to attract a lot of controversy.-->{{DiseaseDisorder infobox |Name  = Childhood autism |ICD10 =  F84.0 |I', \"CD9  =  {{ICD9|299.0}} |}}'Autism' is classified as a neurodevelopmental disorder that manifests itself in markedly abnormal social interaction, communication ability, patterns of interests, and patterns of behavior.Although the specific etiology of autism is unknown, many researchers suspect that autism results from genetically mediated vulnerabilities to environmental triggers. And while there is disagreement about the magnitude, nature, and mechanisms for such environmental factors, researche\", 'rs have found at least seven major genes prevalent among individuals diagnosed as autistic. Some estimate that autism occurs in as many as one United States child in 166, however the National Institute of Mental Health gives a more conservative estimate of one in 1000{{ref|NihAutismov2005}}. For families that already have one autistic child, the odds of a second autistic child may be as high as one in twenty.  Diagnosis is based on a list of Psychiatry|psychiatric criteria, and a series of stand', 'ardized clinical tests may also be used.Autism may not be Physiology|physiologically obvious. A complete physical and neurological evaluation will typically be part of diagnosing autism. Some now speculate that autism is not a single condition but a group of several distinct conditions that manifest in similar ways.By definition, autism must manifest delays in \"social interaction, language as used in social communication, or symbolic or imaginative play,\" with \"onset prior to age 3 years\", accor', 'ding to the Diagnostic and Statistical Manual of Mental Disorders. The ICD-10 also says that symptoms must \"manifest before the age of three years.\" There have been large increases in the reported Autism epidemic|incidence of autism, for reasons that are heavily debated by researchers in psychology and related fields within the scientific community.Some children with autism have improved their social and other skills to the point where they can fully participate in mainstream education and socia', \"l events, but there are lingering concerns that an absolute cure from autism is impossible with current technology. However, many autistic children and adults who are able to communicate (at least in writing) are opposed to attempts to cure their conditions, and see such conditions as part of who they are.==History==image:Asperger_kl2.jpg|frame|right|Dr. Hans Asperger described a form of autism in the 1940s that later became known as Asperger's syndrome.The word autism was first used in the Engl\", 'ish language by Swiss psychiatrist Eugene Bleuler in a 1912 number of the American Journal of Insanity. It comes from the Greek word for \"self\".However, the Medical classification|classification of autism did not occur until the middle of the twentieth century, when in 1943 psychiatrist Dr. Leo Kanner of the Johns Hopkins Hospital in Baltimore reported on 11 child patients with striking behavioral similarities, and introduced the label early infantile autism. He suggested \"autism\" from the Greek', ' language|Greek αυτος (autos), meaning \"self\", to describe the  fact that the children seemed to lack interest in other people. Although Kanner\\'s first paper on the subject was published in a (now defunct) journal, The Nervous Child, almost every characteristic he originally described is still regarded as typical of the autistic spectrum of disorders.At the same time an Austria|Austrian scientist, Dr. Hans Asperger, described a different form of autism that became known as Asperger\\'s syndrome—bu', \"t the widespread recognition of Asperger's work was delayed by World War II in Germany, and by the fact that his seminal paper wasn't translated into English for almost 50 years. The majority of his work wasn't widely read until 1997.Thus these two conditions were described and are today listed in the Diagnostic and Statistical Manual of Mental Disorders DSM-IV-TR (fourth edition, text revision 1) as two of the five Pervasive developmental disorder|pervasive developmental disorders (PDD), more o\", 'ften referred to today as Autistic spectrum|autism spectrum disorders (ASD). All of these conditions are characterized by varying degrees of difference in communication skills, social interactions, and restricted, repetitive and stereotyped patterns of Human behavior|behavior.Few clinicians today solely use the DSM-IV criteria for determining a diagnosis of autism, which are based on the absence or delay of certain developmental milestones. Many clinicians instead use an alternate means (or a co', 'mbination thereof) to more accurately determine a diagnosis.==Terminology=={{wiktionarypar2|autism|autistic}}When referring to someone diagnosed with autism, the term autistic is often used. However, the term person with autism can be used instead. This is referred to as person-first terminology. The autistic community generally prefers the term autistic for reasons that are fairly controversial. This article uses the term autistic (see Talk:Autism|talk page).==Characteristics==Image:kanner_kl2.', 'jpg|frame|right|Dr. Leo Kanner introduced the label early infantile autism in 1943.There is a great diversity in the skills and behaviors of individuals diagnosed as autistic, and physicians will often arrive at different conclusions about the appropriate diagnosis. Much of this is due to the sensory system of an autistic which is quite different from the sensory system of other people, since certain stimulus|stimulations can affect an autistic differently than a non-autistic, and the degree to ', 'which the sensory system is affected varies wildly from one autistic person to another.Nevertheless, professionals within pediatric care and development often look for early indicators of autism in order to initiate treatment as early as possible.  However, some people do not believe in treatment for autism, either because they do not believe autism is a disorder or because they believe treatment can do more harm than good.===Social development===Typically, developing infants are social beings—e', 'arly in life they do such things as gaze at people, turn toward voices, grasp a finger, and even smile. In contrast, most autistic children prefer objects to faces and seem to have tremendous difficulty learning to engage in the give-and-take of everyday human interaction. Even in the first few months of life, many seem indifferent to other people because they avoid eye contact and do not interact with them as often as non-autistic children.Children with autism often appear to prefer being alone', \" to the company of others and may passively accept such things as hugs and cuddling without reciprocating, or resist attention altogether. Later, they seldom seek comfort from others or respond to parents' displays of anger or affection in a typical way. Research has suggested that although autistic children are attached to their parents, their expression of this attachment is unusual and difficult to interpret. Parents who looked forward to the joys of cuddling, teaching, and playing with their\", ' child may feel crushed by this lack of expected attachment theory|attachment behavior.Children with autism appear to lack \"Theory of mind|theory of mind\", the ability to see things from another person\\'s perspective, a behavior cited as exclusive to human beings above the age of five and, possibly, other higher primates such as adult gorillas, Common chimpanzee|chimpanzees and bonobos. Typical 5-year-olds can develop insights into other people\\'s different knowledge, feelings, and intentions, int', \"erpretations based upon social cues (e.g., gestures, facial expressions). An individual with autism seems to lack these interpretation skills, an inability that leaves them unable to predict or understand other people's actions. The social alienation of autistic and Asperger's people is so intense from childhood that many of them have imaginary friends as companionship. However, having an imaginary friend is not necessarily a sign of autism and also occurs in non-autistic children.Although not u\", 'niversal, it is common for autistic people to not regulate their behavior. This can take the form of crying or verbal outbursts that may seem out of proportion to the situation. Individuals with autism generally prefer consistent routines and environments; they may react negatively to changes in them. It is not uncommon for these individuals to exhibit aggression, increased levels of self-stimulatory behavior, self-injury or extensive withdrawal in overwhelming situations.===Sensory system===A k', 'ey indicator to clinicians making a proper assessment for autism would include looking for symptoms much like those found in Sensory Integration Dysfunction|sensory integration dysfunction. Children will exhibit problems coping with the normal sensory input. Indicators of this disorder include oversensitivity or underreactivity to touch, movement, sights, or sounds; physical clumsiness or carelessness; poor body awareness; a tendency to be easily distracted; impulsive physical or verbal behavior', '; an activity level that is unusually high or low; not unwinding or calming oneself; difficulty learning new movements; difficulty in making transitions from one situation to another; social and/or emotional problems; delays in Speech delay|speech, Language delay|language or motor skills; specific learning difficulties/delays in academic achievement.One common example is an individual with autism Hearing (sense)|hearing. A person with Autism may have trouble hearing certain people while other pe', 'ople are louder than usual. Or the person with autism may be unable to filter out sounds in certain situations, such as in a large crowd of people (see cocktail party effect). However, this is perhaps the part of the autism that tends to vary the most from person to person, so these examples may not apply to every autistic.It should be noted that sensory difficulties, although reportedly common in autistics, are not part of the DSM-IV diagnostic criteria for autistic disorder.===Communication di', 'fficulties===By age 3, typical children have passed predictable language learning milestones; one of the earliest is babbling. By the first birthday, a typical toddler says words, turns when he or she hears his or her name, points when he or she wants a toy, and when offered something distasteful, makes it clear that the answer is \"no.\" Speech development in people with autism takes different paths.  Some remain mute throughout their lives while being fully literacy|literate and able to communic', 'ate in other ways—images, sign language, and typing are far more natural to them. Some infants who later show signs of autism coo and babble during the first few months of life, but stop soon afterwards. Others may be delayed, developing language as late as the adolescence|teenage years.  Still, inability to speak does not mean that people with autism are unintelligent or unaware.  Once given appropriate accommodations, many will happily converse for hours, and can often be found in online chat ', 'rooms, discussion boards or websites and even using communication devices at autism-community social events such as Autreat.Those who do speak often use language in unusual ways, retaining features of earlier stages of language development for long periods or throughout their lives.  Some speak only single words, while others repeat the same phrase over and over. Some repeat what they hear, a condition called echolalia.  Sing-song repetitions in particular are a calming, joyous activity that man', 'y autistic adults engage in.  Many people with autism have a strong tonality|tonal sense, and can often understand spoken language.Some children may exhibit only slight delays in language, or even seem to have precocious language and unusually large vocabulary|vocabularies, but have great difficulty in sustaining typical conversations.  The \"give and take\" of non-autistic conversation is hard for them, although they often carry on a monologue on a favorite subject, giving no one else an opportun', 'ity to comment. When given the chance to converse with other autistics, they comfortably do so in \"parallel monologue\"—taking turns expressing views and information.  Just as \"neurotypicals\" (people without autism) have trouble understanding autistic body languages, vocal tones, or phraseology, people with autism similarly have trouble with such things in people without autism.  In particular, autistic language abilities tend to be highly literal; people without autism often inappropriately attr', 'ibute hidden meaning to what people with autism say or expect the person with autism to sense such unstated meaning in their own words.The body language of people with autism can be difficult for other people to understand. Facial expressions, movements, and gestures may be easily understood by some other people with autism, but do not match those used by other people. Also, their tone of voice has a much more subtle inflection in reflecting their feelings, and the auditory system of a person wi', 'thout autism often cannot sense the fluctuations. What seems to non-autistic people like a high-pitched, sing-song, or flat, robot-like voice is common in autistic children. Some autistic children with relatively good language skills speak like little adults, rather than communicating at their current age level, which is one of the things that can lead to problems.Since non-autistic people are often unfamiliar with the autistic body language, and since autistic natural language may not tend towa', 'rds speech, autistic people often struggle to let other people know what they need. As anybody might do in such a situation, they may scream in frustration or resort to grabbing what they want. While waiting for non-autistic people to learn to communicate with them, people with autism do whatever they can to get through to them. Communication difficulties may contribute to autistic people becoming socially anxious or depressed.===Repetitive behaviors===Although people with autism usually appear ', 'physically normal and have good muscle control, unusual repetitive motions, known as self-stimulation or \"stimming,\" may set them apart. These behaviors might be extreme and highly apparent or more subtle. Some children and older individuals spend a lot of time repeatedly flapping their arms or wiggling their toes, others suddenly freeze in position. As children, they might spend hours lining up their cars and trains in a certain way, not using them for pretend play. If someone accidentally move', 's one of these toys, the child may be tremendously upset. Autistic children often need, and demand, absolute consistency in their environment. A slight change in any routine—in mealtimes, dressing, taking a bath, or going to school at a certain time and by the same route—can be extremely disturbing. People with autism sometimes have a persistent, intense preoccupation. For example, the child might be obsessed with learning all about vacuum cleaners, train schedules or lighthouses. Often they sho', \"w great interest in different languages, numbers, symbols or science topics.  Repetitive behaviors can also extend into the spoken word as well. Perseveration of a single word or phrase, even for a specific number of times can also become a part of the child's daily routine.===Effects in education===Children with autism are affected with these symptoms every day. These unusual characteristics set them apart from the everyday normal student. Because they have trouble understanding people’s though\", \"ts and feelings, they have trouble understanding what their teacher may be telling them. They do not understand that facial expressions and vocal variations hold meanings and may misinterpret what emotion their instructor is displaying. This inability to fully decipher the world around them makes education stressful. Teachers need to be aware of a student's disorder so that they are able to help the student get the best out of the lessons being taught.Some students learn better with visual aids \", 'as they are better able to understand material presented this way. Because of this, many teachers create “visual schedules” for their autistic students. This allows the student to know what is going on throughout the day, so they know what to prepare for and what activity they will be doing next. Some autistic children have trouble going from one activity to the next, so this visual schedule can help to reduce stress.Research has shown that working in pairs may be beneficial to autistic children', \".   Autistic students have problems in schools not only with language and communication, but with socialization as well. They feel self-conscious about themselves and many feel that they will always be outcasts. By allowing them to work with peers they can make friends, which in turn can help them cope with the problems that arise. By doing so they can become more integrated into the mainstream environment of the classroom.A teacher's aide can also be useful to the student. The aide is able to g\", 'ive more elaborate directions that the teacher may not have time to explain to the autistic child. The aide can also facilitate the autistic child in such a way as to allow them to stay at a similar level to the rest of the class. This allows a partially one-on-one lesson structure so that the child is still able to stay in a normal classroom but be given the extra help that they need.There are many different techniques that teachers can use to assist their students. A teacher needs to become fa', 'miliar with the child’s disorder to know what will work best with that particular child. Every child is going to be different and teachers have to be able to adjust with every one of them.Students with Autism Spectrum Disorders typically have high levels of anxiety and stress, particularly in social environments like school. If a student exhibits aggressive or explosive behavior, it is important for educational teams to recognize the impact of stress and anxiety. Preparing students for new situa', \"tions by writing Social Stories can lower anxiety. Teaching social and emotional concepts using systematic teaching approaches such as The Incredible 5-Point Scale or other Cognitive Behavioral strategies can increase a student's ability to control excessive behavioral reactions.== DSM definition ==Autism is defined in section 299.00 of the Diagnostic and Statistical Manual of Mental Disorders (DSM-IV) as:#A total of six (or more) items from (1), (2) and (3), with at least two from (1), and one \", 'each from (2) and (3):##qualitative impairment in social interaction, as manifested by at least two of the following:###marked impairment in the use of multiple nonverbal behaviors such as eye-to-eye gaze, facial expression, body postures, and gestures to regulate social interaction###failure to develop peer relationships appropriate to developmental level###a lack of spontaneous seeking to share enjoyment, interests, or achievements with other people (e.g., by a lack of showing, bringing, or po', 'inting out objects of interest)###lack of social or emotional reciprocity##qualitative impairments in communication as manifested by at least one of the following:###delay in, or total lack of, the development of spoken language (not accompanied by an attempt to compensate through alternative modes of communication such as gesture or mime)###in individuals with adequate speech, marked impairment in the ability to initiate or sustain a conversation with others###stereotyped and repetitive use of ', 'language or idiosyncratic language###lack of varied, spontaneous make-believe play or social imitative play appropriate to developmental level##restricted repetitive and stereotyped patterns of behavior, interests, and activities, as manifested by at least one of the following:###encompassing preoccupation with one or more stereotyped and restricted patterns of interest that is abnormal either in intensity or focus###apparently inflexible adherence to specific, nonfunctional routines or rituals#', \"##stereotyped and repetitive motor mannerisms (e.g., hand or finger flapping or twisting, or complex whole-body movements)###persistent preoccupation with parts of objects#Delays or abnormal functioning in at least one of the following areas, with onset prior to age 3 years: (1) social interaction, (2) language as used in social communication, or (3) symbolic or imaginative play.#The disturbance is not better accounted for by Rett syndrome|Rett's Disorder or Childhood disintegrative disorder|Chi\", \"ldhood Disintegrative Disorder.The Diagnostic and Statistical Manual 's diagnostic criteria in general is controversial for being vague and subjective.  (See the DSM cautionary statement.) The criteria for autism is much more controversial and some clinicians today may ignore it completely, instead solely relying on other methods for determining the diagnosis.== Types of autism ==Autism presents in a wide degree, from those who are nearly dysfunctional and apparently Developmental Disability|men\"]\n"
     ]
    }
   ],
   "source": [
    "print(train_dataset[:150])"
   ]
  },
  {
   "cell_type": "code",
   "execution_count": null,
   "id": "776098e4-2734-4112-9035-d6b9aea8fac9",
   "metadata": {},
   "outputs": [],
   "source": []
  },
  {
   "cell_type": "code",
   "execution_count": 10,
   "id": "b5eb6829-d5a7-4fcd-bd69-530a251dc724",
   "metadata": {},
   "outputs": [
    {
     "name": "stdout",
     "output_type": "stream",
     "text": [
      "170085\n"
     ]
    }
   ],
   "source": [
    "print(len(train_dataset))"
   ]
  },
  {
   "cell_type": "code",
   "execution_count": 11,
   "id": "b74adee8-c237-4ff2-b40e-1394fb41cc36",
   "metadata": {},
   "outputs": [],
   "source": [
    "train_split = int(0.9 * len(train_dataset))\n",
    "validation_split = int(0.95 * len(train_dataset))\n",
    "test_split = len(train_dataset)"
   ]
  },
  {
   "cell_type": "code",
   "execution_count": 12,
   "id": "bd3d4e3c-1a37-4cd4-bea5-2859dd215dc4",
   "metadata": {},
   "outputs": [],
   "source": [
    "# Takes too long for full dataset\n",
    "train_data = train_dataset[:int(0.4*train_split)]\n",
    "validation_data = train_dataset[train_split:validation_split]\n",
    "test_data = train_dataset[validation_split:test_split]"
   ]
  },
  {
   "cell_type": "code",
   "execution_count": 13,
   "id": "49c69e9a-fa9a-4d70-87ef-1deabc4a5d4d",
   "metadata": {},
   "outputs": [
    {
     "name": "stdout",
     "output_type": "stream",
     "text": [
      "61230 8504 8505\n"
     ]
    }
   ],
   "source": [
    "print(len(train_data),len(validation_data),len(test_data))"
   ]
  },
  {
   "cell_type": "code",
   "execution_count": 14,
   "id": "ec4edaab-7025-4b87-b611-647863b748e5",
   "metadata": {},
   "outputs": [],
   "source": [
    "tokenizer = AutoTokenizer.from_pretrained(\"google/byt5-small\")"
   ]
  },
  {
   "cell_type": "code",
   "execution_count": 15,
   "id": "c4be6643-b1b8-4e10-b595-d83022e76eab",
   "metadata": {},
   "outputs": [],
   "source": [
    "def tokenize_item(item):\n",
    "    src = tokenizer(item[:100], max_length=100, padding=\"max_length\", truncation=True, return_tensors=\"pt\")\n",
    "    trgt = tokenizer(item[100:], max_length=400, padding=\"max_length\", truncation=True, return_tensors=\"pt\")\n",
    "    return src['input_ids'],trgt['input_ids']"
   ]
  },
  {
   "cell_type": "code",
   "execution_count": 16,
   "id": "ebe565da-0c92-487b-aecf-d01801d0bae5",
   "metadata": {},
   "outputs": [
    {
     "data": {
      "text/plain": [
       "(tensor([[112,  35,  70, 100, 112, 104, 111,  70, 100, 118, 104, 128, 128,  68,\n",
       "          115, 115, 111, 108, 104, 103,  72, 119, 107, 108, 102, 118,  59,  52,\n",
       "           56,  59,  60,  59,  60,  55,  54,  53,  51,  51,  53,  48,  51,  53,\n",
       "           48,  53,  56,  87,  52,  56,  61,  55,  54,  61,  52,  52,  93,  70,\n",
       "          114, 113, 121, 104, 117, 118, 108, 114, 113,  35, 118, 102, 117, 108,\n",
       "          115, 119,  68, 120, 119, 114, 112, 100, 119, 104, 103,  35, 102, 114,\n",
       "          113, 121, 104, 117, 118, 108, 114, 113,  38,  85,  72,  71,  76,  85,\n",
       "           72,   1]]),\n",
       " tensor([[ 87,  35,  68, 115, 115, 111, 108, 104, 103,  35, 104, 119, 107, 108,\n",
       "          102, 118,  68, 102, 102, 104, 118, 118, 108, 101, 111, 104,  70, 114,\n",
       "          112, 115, 120, 119, 108, 113, 106,  52,  51,  52,  56,  59,  60,  59,\n",
       "           60,  55,  56,  53,  51,  51,  54,  48,  51,  55,  48,  53,  56,  87,\n",
       "           53,  53,  61,  52,  59,  61,  54,  59,  93,  68, 112, 118,  59,  51,\n",
       "           58,  56,  55,  54,  73, 108, 123, 108, 113, 106,  35, 117, 104, 103,\n",
       "          108, 117, 104, 102, 119,  38,  85,  72,  71,  76,  85,  72,  70,  87,\n",
       "           35,  68, 102, 102, 104, 118, 118, 108, 101, 111, 104,  98, 102, 114,\n",
       "          112, 115, 120, 119, 108, 113, 106,  68, 103,  68,  52,  52,  52,  56,\n",
       "           59,  60,  59,  60,  55,  57,  53,  51,  51,  53,  48,  51,  60,  48,\n",
       "           53,  53,  87,  52,  57,  61,  51,  53,  61,  56,  59,  93,  68, 113,\n",
       "          103, 117, 104,  35,  72, 113, 106, 104, 111, 118,  54,  51,  51,  38,\n",
       "           85,  72,  71,  76,  85,  72,  70,  87,  35,  68, 103, 100,  35, 115,\n",
       "          117, 114, 106, 117, 100, 112, 112, 108, 113, 106,  35, 111, 100, 113,\n",
       "          106, 120, 100, 106, 104,  68, 113, 100, 117, 102, 107, 108, 118, 112,\n",
       "           52,  53,  55,  53,  52,  54,  57,  59,  54,  52,  53,  51,  51,  57,\n",
       "           48,  51,  54,  48,  51,  55,  87,  51,  52,  61,  55,  52,  61,  53,\n",
       "           56,  93,  70,  77, 100, 112, 104, 118,  58,  55,  56,  59,  54,  53,\n",
       "           54,  59,  53,  50,  45,  35,  68, 113, 100, 117, 102, 107, 108, 118,\n",
       "          119,  35,  70, 114, 112, 112, 120, 113, 108, 118, 112,  35,  45,  50,\n",
       "           35,  35, 119, 114, 114,  35, 112, 100, 113, 124,  35, 101, 117, 100,\n",
       "          102, 110, 104, 119, 118, 126, 126,  68, 113, 100, 117, 102, 107, 108,\n",
       "          118, 112, 128, 128,  42,  68, 113, 100, 117, 102, 107, 108, 118, 112,\n",
       "           42,  35, 114, 117, 108, 106, 108, 113, 100, 119, 104, 103,  35, 100,\n",
       "          118,  35, 100,  35, 119, 104, 117, 112,  35, 114, 105,  35, 100, 101,\n",
       "          120, 118, 104,  35, 105, 108, 117, 118, 119,  35, 120, 118, 104, 103,\n",
       "           35, 100, 106, 100, 108, 113, 118, 119,  35, 104, 100, 117, 111, 124,\n",
       "           35, 122, 114, 117, 110, 108, 113, 106,  35, 102, 111, 100, 118, 118,\n",
       "           35, 117, 100, 103, 108, 102, 100,   1]]))"
      ]
     },
     "execution_count": 16,
     "metadata": {},
     "output_type": "execute_result"
    }
   ],
   "source": [
    "tokenize_item(train_data[1])"
   ]
  },
  {
   "cell_type": "code",
   "execution_count": 17,
   "id": "73cf68d9-8811-4cf4-8533-0349dadac5bc",
   "metadata": {},
   "outputs": [],
   "source": [
    "# Imports for ByteNet\n",
    "import torch\n",
    "from torch.utils.data import Dataset\n",
    "from torch import nn\n",
    "from torch.nn import init\n",
    "import torch.nn.functional as F\n",
    "from torch.utils.data import DataLoader\n",
    "from tqdm import tqdm"
   ]
  },
  {
   "cell_type": "code",
   "execution_count": 18,
   "id": "5d68d5bb-5ea0-4b66-a56e-92fe02c29b9e",
   "metadata": {},
   "outputs": [],
   "source": [
    "class DynamicLayerNorm(nn.Module):\n",
    "    def __init__(self):\n",
    "        super(DynamicLayerNorm, self).__init__()\n",
    "        self.norm = None\n",
    "\n",
    "    def forward(self, x):\n",
    "        if self.norm is None or self.norm.normalized_shape[0] != x.shape[2]:\n",
    "            self.norm = nn.LayerNorm(x.shape[2]).to(x.device)\n",
    "        return self.norm(x)"
   ]
  },
  {
   "cell_type": "code",
   "execution_count": 19,
   "id": "3884c64d-e7c0-4286-b340-0e3612e77d54",
   "metadata": {},
   "outputs": [],
   "source": [
    "class MultiplicativeUnit(nn.Module):\n",
    "    def __init__(self, d, dilation, k, masked = True):\n",
    "        super(MultiplicativeUnit, self).__init__()\n",
    "        self.receptive_field = (k-1)*dilation\n",
    "        self.masked = masked\n",
    "        self.sig_conv_1 = nn.Conv1d(d, d, k, dilation = dilation)\n",
    "        self.sig_conv_2 = nn.Conv1d(d, d, k, dilation = dilation)\n",
    "        self.sig_conv_3 = nn.Conv1d(d, d, k, dilation = dilation)\n",
    "        self.tanh_conv_1 = nn.Conv1d(d, d, k, dilation = dilation)\n",
    "\n",
    "        # 100 input tokens\n",
    "        self.layer_norm1 = DynamicLayerNorm()\n",
    "        self.layer_norm2 = DynamicLayerNorm()\n",
    "        self.layer_norm3 = DynamicLayerNorm()\n",
    "        self.layer_norm4 = DynamicLayerNorm()\n",
    "        \n",
    "    def forward(self,x):\n",
    "        residual = x\n",
    "        # Multiplicative Unit Block\n",
    "        if self.receptive_field > 0 and self.masked:\n",
    "            x = F.pad(x, (self.receptive_field, 0))\n",
    "        sig_1 = torch.sigmoid(self.layer_norm1(self.sig_conv_1(x)))\n",
    "        sig_2 = torch.sigmoid(self.layer_norm2(self.sig_conv_2(x)))\n",
    "        sig_3 = torch.sigmoid(self.layer_norm3(self.sig_conv_3(x)))\n",
    "        tanh_1 = torch.tanh(self.layer_norm4(self.tanh_conv_1(x)))\n",
    "        sig_tanh = sig_2 * tanh_1\n",
    "        residual_sig = sig_3 * residual\n",
    "        mu_out = sig_1 * torch.tanh(sig_tanh+residual_sig)\n",
    "        # Multiplicative unit block end\n",
    "        # Add back the residual\n",
    "        mu_out = mu_out * residual\n",
    "        return mu_out\n"
   ]
  },
  {
   "cell_type": "code",
   "execution_count": 20,
   "id": "41b1194a-4c1f-4b52-b0ea-c8bead0104bd",
   "metadata": {},
   "outputs": [],
   "source": [
    "class ResidualBlockMu(nn.Module):\n",
    "    \"\"\"\n",
    "    Implementation of residual Layer for Bytenet machine translation task.\n",
    "\n",
    "    :param d: The number of input features.\n",
    "    :param dilation: The initial dilation rate for the convolution layers.\n",
    "    \"\"\"\n",
    "\n",
    "    def __init__(self, d, dilation, k):\n",
    "        super(ResidualBlockMu, self).__init__()\n",
    "        self.layer_norm_in = DynamicLayerNorm()\n",
    "        self.conv_in_1 = nn.Conv1d(2*d,d,1)\n",
    "        self.layer_norm_in_2 = DynamicLayerNorm()\n",
    "        # Multiplicative block\n",
    "        # d -> d\n",
    "        self.masked_mu = MultiplicativeUnit(d,dilation,k)\n",
    "        self.mu = MultiplicativeUnit(d,1,1, masked=False)\n",
    "        self.conv_out = nn.Conv1d(d,2*d,1)\n",
    "\n",
    "    def forward(self, x):\n",
    "        residual = x\n",
    "        x = self.layer_norm_in(x)\n",
    "        x = torch.nn.ReLU()(x)\n",
    "        x = self.conv_in_1(x)\n",
    "        x = self.layer_norm_in_2(x)\n",
    "        x = torch.nn.ReLU()(x)\n",
    "        x = self.masked_mu(x)\n",
    "        x = self.mu(x)\n",
    "        x = self.conv_out(x)\n",
    "        x = x + residual\n",
    "        return x\n"
   ]
  },
  {
   "cell_type": "code",
   "execution_count": 21,
   "id": "8f8f694f-fd80-4573-a2a4-7ce8cdf4ff3a",
   "metadata": {},
   "outputs": [],
   "source": [
    "class HutterDataset(Dataset):\n",
    "    def __init__(self, data):\n",
    "        self.data = data\n",
    "\n",
    "    def __len__(self):\n",
    "        return len(self.data)\n",
    "\n",
    "    def __getitem__(self, idx):\n",
    "        item = self.data[idx]\n",
    "        src, trgt = tokenize_item(item)\n",
    "        return src, trgt\n"
   ]
  },
  {
   "cell_type": "code",
   "execution_count": 22,
   "id": "d300fd41-ea9c-475f-bef7-c07081ccf2d7",
   "metadata": {},
   "outputs": [],
   "source": [
    "train_dataset = HutterDataset(train_data)\n",
    "validation_dataset = HutterDataset(validation_data)\n",
    "test_dataset = HutterDataset(test_data)"
   ]
  },
  {
   "cell_type": "code",
   "execution_count": 23,
   "id": "548e5154-3f9c-4572-8089-12c450e4df6b",
   "metadata": {},
   "outputs": [],
   "source": [
    "batch_size = 8\n",
    "shuffle = True"
   ]
  },
  {
   "cell_type": "code",
   "execution_count": 24,
   "id": "b4244aab-0e51-4241-b13b-1da8be58b55b",
   "metadata": {},
   "outputs": [],
   "source": [
    "train_loader = DataLoader(train_dataset,batch_size=batch_size,shuffle=shuffle)\n",
    "validation_loader = DataLoader(validation_dataset,batch_size=batch_size,shuffle=shuffle)\n",
    "test_loader = DataLoader(test_dataset,batch_size=batch_size,shuffle=shuffle)"
   ]
  },
  {
   "cell_type": "code",
   "execution_count": 25,
   "id": "c3f486d0-4987-4b2f-a79b-6932908eb87f",
   "metadata": {},
   "outputs": [],
   "source": [
    "class ByteNetDecoder(nn.Module):\n",
    "    def __init__(self, vocab_size, embed_size=1024, d=512, n_sets = 4, set_size = 5, masked_kernel_size=3, max_dilation_rate=16):\n",
    "        super(ByteNetDecoder, self).__init__()\n",
    "\n",
    "        self.embedding = nn.Embedding(vocab_size,embed_size)\n",
    "        self.layers = nn.Sequential()\n",
    "\n",
    "        for _ in range(n_sets):\n",
    "            dilation_rate = 1\n",
    "            for _ in range(set_size):\n",
    "                self.layers.append(ResidualBlockMu(d,dilation_rate if dilation_rate <= max_dilation_rate else max_dilation_rate, masked_kernel_size))\n",
    "                dilation_rate = dilation_rate * 2\n",
    "        self.layers.append(nn.Conv1d(d * 2, d, 1))\n",
    "        self.layers.append(nn.ReLU())\n",
    "        self.layers.append(nn.Conv1d(d, vocab_size, 1))\n",
    "        self.layers.append(nn.Dropout(p=0.1))\n",
    "    def forward(self,x):\n",
    "        embed_x = self.embedding(x).permute(0, 2, 1)\n",
    "        x = self.layers(embed_x)\n",
    "        return x"
   ]
  },
  {
   "cell_type": "code",
   "execution_count": 26,
   "id": "70fa2329-651f-42ac-abb0-898994f709f8",
   "metadata": {},
   "outputs": [],
   "source": [
    "device = 'cuda' if torch.cuda.is_available() else 'cpu'\n",
    "decoder = ByteNetDecoder(len(tokenizer.get_vocab())).to(device)\n",
    "criterion = nn.CrossEntropyLoss()\n",
    "optimizer = torch.optim.Adam(decoder.parameters(),lr = 0.0003, weight_decay=0.0001)"
   ]
  },
  {
   "cell_type": "code",
   "execution_count": 27,
   "id": "59fae4fd-c707-46d2-9cde-3df8a9339215",
   "metadata": {},
   "outputs": [],
   "source": [
    "num_epochs = 2"
   ]
  },
  {
   "cell_type": "code",
   "execution_count": 28,
   "id": "87fe6b4d-73d8-4216-9569-104bd51b0b8c",
   "metadata": {},
   "outputs": [
    {
     "name": "stderr",
     "output_type": "stream",
     "text": [
      "2024-06-26 15:35:07.423308: I tensorflow/core/util/port.cc:113] oneDNN custom operations are on. You may see slightly different numerical results due to floating-point round-off errors from different computation orders. To turn them off, set the environment variable `TF_ENABLE_ONEDNN_OPTS=0`.\n",
      "2024-06-26 15:35:07.470022: E external/local_xla/xla/stream_executor/cuda/cuda_dnn.cc:9261] Unable to register cuDNN factory: Attempting to register factory for plugin cuDNN when one has already been registered\n",
      "2024-06-26 15:35:07.470088: E external/local_xla/xla/stream_executor/cuda/cuda_fft.cc:607] Unable to register cuFFT factory: Attempting to register factory for plugin cuFFT when one has already been registered\n",
      "2024-06-26 15:35:07.472729: E external/local_xla/xla/stream_executor/cuda/cuda_blas.cc:1515] Unable to register cuBLAS factory: Attempting to register factory for plugin cuBLAS when one has already been registered\n",
      "2024-06-26 15:35:07.485689: I tensorflow/core/platform/cpu_feature_guard.cc:182] This TensorFlow binary is optimized to use available CPU instructions in performance-critical operations.\n",
      "To enable the following instructions: AVX2 AVX512F AVX512_VNNI FMA, in other operations, rebuild TensorFlow with the appropriate compiler flags.\n",
      "2024-06-26 15:35:08.652189: W tensorflow/compiler/tf2tensorrt/utils/py_utils.cc:38] TF-TRT Warning: Could not find TensorRT\n"
     ]
    }
   ],
   "source": [
    "from torch.utils.tensorboard import SummaryWriter\n",
    "writer = SummaryWriter()"
   ]
  },
  {
   "cell_type": "code",
   "execution_count": 29,
   "id": "4b10c551-c40b-4f73-965f-e26d359bace3",
   "metadata": {},
   "outputs": [],
   "source": [
    "def unfold(inp, decoder):\n",
    "    x = inp\n",
    "    out = None\n",
    "    # 100 -> 200 -> 400 output characters\n",
    "    for i in range(4):\n",
    "        # 100 as input -> 200 as input -> 400 as input\n",
    "        out = decoder(x)\n",
    "        next_gen = torch.argmax(out,1)\n",
    "        # 200 characters  ( 100 predicted, 100 given as input) -> (300 predicted, 100 input)\n",
    "        x =  torch.cat((x,next_gen), dim = 1)\n",
    "    return out[:, :, out.size(2)//2:]"
   ]
  },
  {
   "cell_type": "code",
   "execution_count": null,
   "id": "1fe15e82-7450-4d87-a60a-8f21f95156bf",
   "metadata": {},
   "outputs": [
    {
     "name": "stderr",
     "output_type": "stream",
     "text": [
      "  0%|          | 1/7654 [00:02<6:11:05,  2.91s/it]"
     ]
    },
    {
     "name": "stdout",
     "output_type": "stream",
     "text": [
      "Epoch [1/2], Step [1/7654], Loss: 5.932135105133057\n"
     ]
    },
    {
     "name": "stderr",
     "output_type": "stream",
     "text": [
      "  0%|          | 26/7654 [00:50<4:20:50,  2.05s/it]"
     ]
    },
    {
     "name": "stdout",
     "output_type": "stream",
     "text": [
      "Epoch [1/2], Step [26/7654], Loss: 3.7533555030822754\n"
     ]
    },
    {
     "name": "stderr",
     "output_type": "stream",
     "text": [
      "  1%|          | 51/7654 [01:39<4:20:57,  2.06s/it]"
     ]
    },
    {
     "name": "stdout",
     "output_type": "stream",
     "text": [
      "Epoch [1/2], Step [51/7654], Loss: 3.7070529460906982\n"
     ]
    },
    {
     "name": "stderr",
     "output_type": "stream",
     "text": [
      "  1%|          | 76/7654 [02:27<4:20:43,  2.06s/it]"
     ]
    },
    {
     "name": "stdout",
     "output_type": "stream",
     "text": [
      "Epoch [1/2], Step [76/7654], Loss: 3.659820556640625\n"
     ]
    },
    {
     "name": "stderr",
     "output_type": "stream",
     "text": [
      "  1%|▏         | 101/7654 [03:15<4:20:24,  2.07s/it]"
     ]
    },
    {
     "name": "stdout",
     "output_type": "stream",
     "text": [
      "Epoch [1/2], Step [101/7654], Loss: 3.6643054485321045\n"
     ]
    },
    {
     "name": "stderr",
     "output_type": "stream",
     "text": [
      "  2%|▏         | 126/7654 [04:04<4:19:31,  2.07s/it]"
     ]
    },
    {
     "name": "stdout",
     "output_type": "stream",
     "text": [
      "Epoch [1/2], Step [126/7654], Loss: 3.638408899307251\n"
     ]
    },
    {
     "name": "stderr",
     "output_type": "stream",
     "text": [
      "  2%|▏         | 151/7654 [04:52<4:18:41,  2.07s/it]"
     ]
    },
    {
     "name": "stdout",
     "output_type": "stream",
     "text": [
      "Epoch [1/2], Step [151/7654], Loss: 3.5787863731384277\n"
     ]
    },
    {
     "name": "stderr",
     "output_type": "stream",
     "text": [
      "  2%|▏         | 176/7654 [05:40<4:18:53,  2.08s/it]"
     ]
    },
    {
     "name": "stdout",
     "output_type": "stream",
     "text": [
      "Epoch [1/2], Step [176/7654], Loss: 3.7078351974487305\n"
     ]
    },
    {
     "name": "stderr",
     "output_type": "stream",
     "text": [
      "  3%|▎         | 201/7654 [06:30<4:22:07,  2.11s/it]"
     ]
    },
    {
     "name": "stdout",
     "output_type": "stream",
     "text": [
      "Epoch [1/2], Step [201/7654], Loss: 3.601872444152832\n"
     ]
    },
    {
     "name": "stderr",
     "output_type": "stream",
     "text": [
      "  3%|▎         | 226/7654 [07:19<4:24:03,  2.13s/it]"
     ]
    },
    {
     "name": "stdout",
     "output_type": "stream",
     "text": [
      "Epoch [1/2], Step [226/7654], Loss: 3.6512341499328613\n"
     ]
    },
    {
     "name": "stderr",
     "output_type": "stream",
     "text": [
      "  3%|▎         | 251/7654 [08:09<4:22:18,  2.13s/it]"
     ]
    },
    {
     "name": "stdout",
     "output_type": "stream",
     "text": [
      "Epoch [1/2], Step [251/7654], Loss: 3.7560064792633057\n"
     ]
    },
    {
     "name": "stderr",
     "output_type": "stream",
     "text": [
      "  4%|▎         | 276/7654 [08:59<4:20:45,  2.12s/it]"
     ]
    },
    {
     "name": "stdout",
     "output_type": "stream",
     "text": [
      "Epoch [1/2], Step [276/7654], Loss: 3.7709479331970215\n"
     ]
    },
    {
     "name": "stderr",
     "output_type": "stream",
     "text": [
      "  4%|▍         | 301/7654 [09:48<4:17:32,  2.10s/it]"
     ]
    },
    {
     "name": "stdout",
     "output_type": "stream",
     "text": [
      "Epoch [1/2], Step [301/7654], Loss: 3.6606128215789795\n"
     ]
    },
    {
     "name": "stderr",
     "output_type": "stream",
     "text": [
      "  4%|▍         | 326/7654 [10:37<4:16:08,  2.10s/it]"
     ]
    },
    {
     "name": "stdout",
     "output_type": "stream",
     "text": [
      "Epoch [1/2], Step [326/7654], Loss: 3.739375114440918\n"
     ]
    },
    {
     "name": "stderr",
     "output_type": "stream",
     "text": [
      "  5%|▍         | 351/7654 [11:26<4:15:19,  2.10s/it]"
     ]
    },
    {
     "name": "stdout",
     "output_type": "stream",
     "text": [
      "Epoch [1/2], Step [351/7654], Loss: 3.5430426597595215\n"
     ]
    },
    {
     "name": "stderr",
     "output_type": "stream",
     "text": [
      "  5%|▍         | 376/7654 [12:15<4:13:03,  2.09s/it]"
     ]
    },
    {
     "name": "stdout",
     "output_type": "stream",
     "text": [
      "Epoch [1/2], Step [376/7654], Loss: 3.852949857711792\n"
     ]
    },
    {
     "name": "stderr",
     "output_type": "stream",
     "text": [
      "  5%|▌         | 401/7654 [13:04<4:11:51,  2.08s/it]"
     ]
    },
    {
     "name": "stdout",
     "output_type": "stream",
     "text": [
      "Epoch [1/2], Step [401/7654], Loss: 3.788132429122925\n"
     ]
    },
    {
     "name": "stderr",
     "output_type": "stream",
     "text": [
      "  6%|▌         | 426/7654 [13:53<4:14:00,  2.11s/it]"
     ]
    },
    {
     "name": "stdout",
     "output_type": "stream",
     "text": [
      "Epoch [1/2], Step [426/7654], Loss: 3.61944580078125\n"
     ]
    },
    {
     "name": "stderr",
     "output_type": "stream",
     "text": [
      "  6%|▌         | 451/7654 [14:41<4:09:49,  2.08s/it]"
     ]
    },
    {
     "name": "stdout",
     "output_type": "stream",
     "text": [
      "Epoch [1/2], Step [451/7654], Loss: 3.7573187351226807\n"
     ]
    },
    {
     "name": "stderr",
     "output_type": "stream",
     "text": [
      "  6%|▌         | 476/7654 [15:30<4:09:24,  2.08s/it]"
     ]
    },
    {
     "name": "stdout",
     "output_type": "stream",
     "text": [
      "Epoch [1/2], Step [476/7654], Loss: 3.508157968521118\n"
     ]
    },
    {
     "name": "stderr",
     "output_type": "stream",
     "text": [
      "  7%|▋         | 501/7654 [16:19<4:13:07,  2.12s/it]"
     ]
    },
    {
     "name": "stdout",
     "output_type": "stream",
     "text": [
      "Epoch [1/2], Step [501/7654], Loss: 3.946018695831299\n"
     ]
    },
    {
     "name": "stderr",
     "output_type": "stream",
     "text": [
      "  7%|▋         | 526/7654 [17:08<4:07:54,  2.09s/it]"
     ]
    },
    {
     "name": "stdout",
     "output_type": "stream",
     "text": [
      "Epoch [1/2], Step [526/7654], Loss: 3.67533540725708\n"
     ]
    },
    {
     "name": "stderr",
     "output_type": "stream",
     "text": [
      "  7%|▋         | 551/7654 [17:56<4:06:13,  2.08s/it]"
     ]
    },
    {
     "name": "stdout",
     "output_type": "stream",
     "text": [
      "Epoch [1/2], Step [551/7654], Loss: 3.57808256149292\n"
     ]
    },
    {
     "name": "stderr",
     "output_type": "stream",
     "text": [
      "  8%|▊         | 576/7654 [18:45<4:14:24,  2.16s/it]"
     ]
    },
    {
     "name": "stdout",
     "output_type": "stream",
     "text": [
      "Epoch [1/2], Step [576/7654], Loss: 3.5392262935638428\n"
     ]
    },
    {
     "name": "stderr",
     "output_type": "stream",
     "text": [
      "  8%|▊         | 601/7654 [19:34<4:04:23,  2.08s/it]"
     ]
    },
    {
     "name": "stdout",
     "output_type": "stream",
     "text": [
      "Epoch [1/2], Step [601/7654], Loss: 3.5827796459198\n"
     ]
    },
    {
     "name": "stderr",
     "output_type": "stream",
     "text": [
      "  8%|▊         | 626/7654 [20:22<4:03:29,  2.08s/it]"
     ]
    },
    {
     "name": "stdout",
     "output_type": "stream",
     "text": [
      "Epoch [1/2], Step [626/7654], Loss: 3.5759973526000977\n"
     ]
    },
    {
     "name": "stderr",
     "output_type": "stream",
     "text": [
      "  9%|▊         | 651/7654 [21:11<4:02:13,  2.08s/it]"
     ]
    },
    {
     "name": "stdout",
     "output_type": "stream",
     "text": [
      "Epoch [1/2], Step [651/7654], Loss: 3.7197155952453613\n"
     ]
    },
    {
     "name": "stderr",
     "output_type": "stream",
     "text": [
      "  9%|▉         | 676/7654 [22:00<4:01:35,  2.08s/it]"
     ]
    },
    {
     "name": "stdout",
     "output_type": "stream",
     "text": [
      "Epoch [1/2], Step [676/7654], Loss: 3.589160203933716\n"
     ]
    },
    {
     "name": "stderr",
     "output_type": "stream",
     "text": [
      "  9%|▉         | 701/7654 [22:48<4:00:43,  2.08s/it]"
     ]
    },
    {
     "name": "stdout",
     "output_type": "stream",
     "text": [
      "Epoch [1/2], Step [701/7654], Loss: 3.510446786880493\n"
     ]
    },
    {
     "name": "stderr",
     "output_type": "stream",
     "text": [
      "  9%|▉         | 726/7654 [23:37<3:59:54,  2.08s/it]"
     ]
    },
    {
     "name": "stdout",
     "output_type": "stream",
     "text": [
      "Epoch [1/2], Step [726/7654], Loss: 3.4395503997802734\n"
     ]
    },
    {
     "name": "stderr",
     "output_type": "stream",
     "text": [
      " 10%|▉         | 751/7654 [24:26<3:58:58,  2.08s/it]"
     ]
    },
    {
     "name": "stdout",
     "output_type": "stream",
     "text": [
      "Epoch [1/2], Step [751/7654], Loss: 3.5004770755767822\n"
     ]
    },
    {
     "name": "stderr",
     "output_type": "stream",
     "text": [
      " 10%|█         | 776/7654 [25:14<3:58:28,  2.08s/it]"
     ]
    },
    {
     "name": "stdout",
     "output_type": "stream",
     "text": [
      "Epoch [1/2], Step [776/7654], Loss: 3.5394339561462402\n"
     ]
    },
    {
     "name": "stderr",
     "output_type": "stream",
     "text": [
      " 10%|█         | 801/7654 [26:03<3:57:35,  2.08s/it]"
     ]
    },
    {
     "name": "stdout",
     "output_type": "stream",
     "text": [
      "Epoch [1/2], Step [801/7654], Loss: 3.5731465816497803\n"
     ]
    },
    {
     "name": "stderr",
     "output_type": "stream",
     "text": [
      " 11%|█         | 826/7654 [26:52<3:55:59,  2.07s/it]"
     ]
    },
    {
     "name": "stdout",
     "output_type": "stream",
     "text": [
      "Epoch [1/2], Step [826/7654], Loss: 3.841878890991211\n"
     ]
    },
    {
     "name": "stderr",
     "output_type": "stream",
     "text": [
      " 11%|█         | 851/7654 [27:40<3:55:56,  2.08s/it]"
     ]
    },
    {
     "name": "stdout",
     "output_type": "stream",
     "text": [
      "Epoch [1/2], Step [851/7654], Loss: 3.5975098609924316\n"
     ]
    },
    {
     "name": "stderr",
     "output_type": "stream",
     "text": [
      " 11%|█▏        | 876/7654 [28:29<3:54:43,  2.08s/it]"
     ]
    },
    {
     "name": "stdout",
     "output_type": "stream",
     "text": [
      "Epoch [1/2], Step [876/7654], Loss: 3.713879346847534\n"
     ]
    },
    {
     "name": "stderr",
     "output_type": "stream",
     "text": [
      " 12%|█▏        | 901/7654 [29:18<3:53:53,  2.08s/it]"
     ]
    },
    {
     "name": "stdout",
     "output_type": "stream",
     "text": [
      "Epoch [1/2], Step [901/7654], Loss: 3.5459067821502686\n"
     ]
    },
    {
     "name": "stderr",
     "output_type": "stream",
     "text": [
      " 12%|█▏        | 926/7654 [30:06<3:52:50,  2.08s/it]"
     ]
    },
    {
     "name": "stdout",
     "output_type": "stream",
     "text": [
      "Epoch [1/2], Step [926/7654], Loss: 3.657768964767456\n"
     ]
    },
    {
     "name": "stderr",
     "output_type": "stream",
     "text": [
      " 12%|█▏        | 951/7654 [30:55<3:52:32,  2.08s/it]"
     ]
    },
    {
     "name": "stdout",
     "output_type": "stream",
     "text": [
      "Epoch [1/2], Step [951/7654], Loss: 3.697028875350952\n"
     ]
    },
    {
     "name": "stderr",
     "output_type": "stream",
     "text": [
      " 13%|█▎        | 976/7654 [31:44<3:51:19,  2.08s/it]"
     ]
    },
    {
     "name": "stdout",
     "output_type": "stream",
     "text": [
      "Epoch [1/2], Step [976/7654], Loss: 3.7389965057373047\n"
     ]
    },
    {
     "name": "stderr",
     "output_type": "stream",
     "text": [
      " 13%|█▎        | 1001/7654 [32:32<3:50:20,  2.08s/it]"
     ]
    },
    {
     "name": "stdout",
     "output_type": "stream",
     "text": [
      "Epoch [1/2], Step [1001/7654], Loss: 3.4974594116210938\n"
     ]
    },
    {
     "name": "stderr",
     "output_type": "stream",
     "text": [
      " 13%|█▎        | 1026/7654 [33:21<3:49:29,  2.08s/it]"
     ]
    },
    {
     "name": "stdout",
     "output_type": "stream",
     "text": [
      "Epoch [1/2], Step [1026/7654], Loss: 3.602097749710083\n"
     ]
    },
    {
     "name": "stderr",
     "output_type": "stream",
     "text": [
      " 14%|█▎        | 1051/7654 [34:09<3:48:37,  2.08s/it]"
     ]
    },
    {
     "name": "stdout",
     "output_type": "stream",
     "text": [
      "Epoch [1/2], Step [1051/7654], Loss: 3.525632619857788\n"
     ]
    },
    {
     "name": "stderr",
     "output_type": "stream",
     "text": [
      " 14%|█▍        | 1076/7654 [34:58<3:47:46,  2.08s/it]"
     ]
    },
    {
     "name": "stdout",
     "output_type": "stream",
     "text": [
      "Epoch [1/2], Step [1076/7654], Loss: 3.7521305084228516\n"
     ]
    },
    {
     "name": "stderr",
     "output_type": "stream",
     "text": [
      " 14%|█▍        | 1101/7654 [35:46<3:46:43,  2.08s/it]"
     ]
    },
    {
     "name": "stdout",
     "output_type": "stream",
     "text": [
      "Epoch [1/2], Step [1101/7654], Loss: 3.638521194458008\n"
     ]
    },
    {
     "name": "stderr",
     "output_type": "stream",
     "text": [
      " 15%|█▍        | 1126/7654 [36:35<3:46:08,  2.08s/it]"
     ]
    },
    {
     "name": "stdout",
     "output_type": "stream",
     "text": [
      "Epoch [1/2], Step [1126/7654], Loss: 3.4474751949310303\n"
     ]
    },
    {
     "name": "stderr",
     "output_type": "stream",
     "text": [
      " 15%|█▌        | 1151/7654 [37:24<3:45:03,  2.08s/it]"
     ]
    },
    {
     "name": "stdout",
     "output_type": "stream",
     "text": [
      "Epoch [1/2], Step [1151/7654], Loss: 3.6853103637695312\n"
     ]
    },
    {
     "name": "stderr",
     "output_type": "stream",
     "text": [
      " 15%|█▌        | 1176/7654 [38:12<3:44:15,  2.08s/it]"
     ]
    },
    {
     "name": "stdout",
     "output_type": "stream",
     "text": [
      "Epoch [1/2], Step [1176/7654], Loss: 3.5008344650268555\n"
     ]
    },
    {
     "name": "stderr",
     "output_type": "stream",
     "text": [
      " 16%|█▌        | 1201/7654 [39:01<3:43:29,  2.08s/it]"
     ]
    },
    {
     "name": "stdout",
     "output_type": "stream",
     "text": [
      "Epoch [1/2], Step [1201/7654], Loss: 3.7366018295288086\n"
     ]
    },
    {
     "name": "stderr",
     "output_type": "stream",
     "text": [
      " 16%|█▌        | 1226/7654 [39:50<3:42:43,  2.08s/it]"
     ]
    },
    {
     "name": "stdout",
     "output_type": "stream",
     "text": [
      "Epoch [1/2], Step [1226/7654], Loss: 3.557490348815918\n"
     ]
    },
    {
     "name": "stderr",
     "output_type": "stream",
     "text": [
      " 16%|█▋        | 1251/7654 [40:38<3:41:25,  2.07s/it]"
     ]
    },
    {
     "name": "stdout",
     "output_type": "stream",
     "text": [
      "Epoch [1/2], Step [1251/7654], Loss: 3.5267717838287354\n"
     ]
    },
    {
     "name": "stderr",
     "output_type": "stream",
     "text": [
      " 17%|█▋        | 1276/7654 [41:27<3:41:01,  2.08s/it]"
     ]
    },
    {
     "name": "stdout",
     "output_type": "stream",
     "text": [
      "Epoch [1/2], Step [1276/7654], Loss: 3.5204246044158936\n"
     ]
    },
    {
     "name": "stderr",
     "output_type": "stream",
     "text": [
      " 17%|█▋        | 1301/7654 [42:15<3:39:30,  2.07s/it]"
     ]
    },
    {
     "name": "stdout",
     "output_type": "stream",
     "text": [
      "Epoch [1/2], Step [1301/7654], Loss: 3.8157970905303955\n"
     ]
    },
    {
     "name": "stderr",
     "output_type": "stream",
     "text": [
      " 17%|█▋        | 1326/7654 [43:04<3:38:50,  2.07s/it]"
     ]
    },
    {
     "name": "stdout",
     "output_type": "stream",
     "text": [
      "Epoch [1/2], Step [1326/7654], Loss: 3.7049224376678467\n"
     ]
    },
    {
     "name": "stderr",
     "output_type": "stream",
     "text": [
      " 18%|█▊        | 1351/7654 [43:52<3:39:27,  2.09s/it]"
     ]
    },
    {
     "name": "stdout",
     "output_type": "stream",
     "text": [
      "Epoch [1/2], Step [1351/7654], Loss: 3.518401861190796\n"
     ]
    },
    {
     "name": "stderr",
     "output_type": "stream",
     "text": [
      " 18%|█▊        | 1376/7654 [44:41<3:37:44,  2.08s/it]"
     ]
    },
    {
     "name": "stdout",
     "output_type": "stream",
     "text": [
      "Epoch [1/2], Step [1376/7654], Loss: 3.593738317489624\n"
     ]
    },
    {
     "name": "stderr",
     "output_type": "stream",
     "text": [
      " 18%|█▊        | 1401/7654 [45:29<3:35:56,  2.07s/it]"
     ]
    },
    {
     "name": "stdout",
     "output_type": "stream",
     "text": [
      "Epoch [1/2], Step [1401/7654], Loss: 3.5179080963134766\n"
     ]
    },
    {
     "name": "stderr",
     "output_type": "stream",
     "text": [
      " 19%|█▊        | 1426/7654 [46:18<3:37:59,  2.10s/it]"
     ]
    },
    {
     "name": "stdout",
     "output_type": "stream",
     "text": [
      "Epoch [1/2], Step [1426/7654], Loss: 3.8184409141540527\n"
     ]
    },
    {
     "name": "stderr",
     "output_type": "stream",
     "text": [
      " 19%|█▉        | 1451/7654 [47:06<3:34:15,  2.07s/it]"
     ]
    },
    {
     "name": "stdout",
     "output_type": "stream",
     "text": [
      "Epoch [1/2], Step [1451/7654], Loss: 3.798609733581543\n"
     ]
    },
    {
     "name": "stderr",
     "output_type": "stream",
     "text": [
      " 19%|█▉        | 1476/7654 [47:55<3:33:34,  2.07s/it]"
     ]
    },
    {
     "name": "stdout",
     "output_type": "stream",
     "text": [
      "Epoch [1/2], Step [1476/7654], Loss: 3.4416539669036865\n"
     ]
    },
    {
     "name": "stderr",
     "output_type": "stream",
     "text": [
      " 20%|█▉        | 1501/7654 [48:44<3:37:56,  2.13s/it]"
     ]
    },
    {
     "name": "stdout",
     "output_type": "stream",
     "text": [
      "Epoch [1/2], Step [1501/7654], Loss: 3.6953978538513184\n"
     ]
    },
    {
     "name": "stderr",
     "output_type": "stream",
     "text": [
      " 20%|█▉        | 1526/7654 [49:32<3:31:35,  2.07s/it]"
     ]
    },
    {
     "name": "stdout",
     "output_type": "stream",
     "text": [
      "Epoch [1/2], Step [1526/7654], Loss: 3.6603734493255615\n"
     ]
    },
    {
     "name": "stderr",
     "output_type": "stream",
     "text": [
      " 20%|██        | 1551/7654 [50:20<3:30:53,  2.07s/it]"
     ]
    },
    {
     "name": "stdout",
     "output_type": "stream",
     "text": [
      "Epoch [1/2], Step [1551/7654], Loss: 3.786489248275757\n"
     ]
    },
    {
     "name": "stderr",
     "output_type": "stream",
     "text": [
      " 21%|██        | 1576/7654 [51:09<3:41:22,  2.19s/it]"
     ]
    },
    {
     "name": "stdout",
     "output_type": "stream",
     "text": [
      "Epoch [1/2], Step [1576/7654], Loss: 3.5681729316711426\n"
     ]
    },
    {
     "name": "stderr",
     "output_type": "stream",
     "text": [
      " 21%|██        | 1601/7654 [51:57<3:28:30,  2.07s/it]"
     ]
    },
    {
     "name": "stdout",
     "output_type": "stream",
     "text": [
      "Epoch [1/2], Step [1601/7654], Loss: 3.566453218460083\n"
     ]
    },
    {
     "name": "stderr",
     "output_type": "stream",
     "text": [
      " 21%|██        | 1626/7654 [52:46<3:28:08,  2.07s/it]"
     ]
    },
    {
     "name": "stdout",
     "output_type": "stream",
     "text": [
      "Epoch [1/2], Step [1626/7654], Loss: 3.6062841415405273\n"
     ]
    },
    {
     "name": "stderr",
     "output_type": "stream",
     "text": [
      " 22%|██▏       | 1651/7654 [53:34<3:27:05,  2.07s/it]"
     ]
    },
    {
     "name": "stdout",
     "output_type": "stream",
     "text": [
      "Epoch [1/2], Step [1651/7654], Loss: 3.5497817993164062\n"
     ]
    },
    {
     "name": "stderr",
     "output_type": "stream",
     "text": [
      " 22%|██▏       | 1676/7654 [54:23<3:26:01,  2.07s/it]"
     ]
    },
    {
     "name": "stdout",
     "output_type": "stream",
     "text": [
      "Epoch [1/2], Step [1676/7654], Loss: 3.540512800216675\n"
     ]
    },
    {
     "name": "stderr",
     "output_type": "stream",
     "text": [
      " 22%|██▏       | 1701/7654 [55:11<3:25:31,  2.07s/it]"
     ]
    },
    {
     "name": "stdout",
     "output_type": "stream",
     "text": [
      "Epoch [1/2], Step [1701/7654], Loss: 3.480771064758301\n"
     ]
    },
    {
     "name": "stderr",
     "output_type": "stream",
     "text": [
      " 23%|██▎       | 1726/7654 [56:00<3:24:34,  2.07s/it]"
     ]
    },
    {
     "name": "stdout",
     "output_type": "stream",
     "text": [
      "Epoch [1/2], Step [1726/7654], Loss: 3.6797497272491455\n"
     ]
    },
    {
     "name": "stderr",
     "output_type": "stream",
     "text": [
      " 23%|██▎       | 1751/7654 [56:48<3:23:54,  2.07s/it]"
     ]
    },
    {
     "name": "stdout",
     "output_type": "stream",
     "text": [
      "Epoch [1/2], Step [1751/7654], Loss: 3.5935850143432617\n"
     ]
    },
    {
     "name": "stderr",
     "output_type": "stream",
     "text": [
      " 23%|██▎       | 1776/7654 [57:37<3:23:05,  2.07s/it]"
     ]
    },
    {
     "name": "stdout",
     "output_type": "stream",
     "text": [
      "Epoch [1/2], Step [1776/7654], Loss: 3.551464319229126\n"
     ]
    },
    {
     "name": "stderr",
     "output_type": "stream",
     "text": [
      " 24%|██▎       | 1801/7654 [58:25<3:22:05,  2.07s/it]"
     ]
    },
    {
     "name": "stdout",
     "output_type": "stream",
     "text": [
      "Epoch [1/2], Step [1801/7654], Loss: 3.517752170562744\n"
     ]
    },
    {
     "name": "stderr",
     "output_type": "stream",
     "text": [
      " 24%|██▍       | 1826/7654 [59:14<3:20:43,  2.07s/it]"
     ]
    },
    {
     "name": "stdout",
     "output_type": "stream",
     "text": [
      "Epoch [1/2], Step [1826/7654], Loss: 3.665013313293457\n"
     ]
    },
    {
     "name": "stderr",
     "output_type": "stream",
     "text": [
      " 24%|██▍       | 1851/7654 [1:00:02<3:20:32,  2.07s/it]"
     ]
    },
    {
     "name": "stdout",
     "output_type": "stream",
     "text": [
      "Epoch [1/2], Step [1851/7654], Loss: 3.762255907058716\n"
     ]
    },
    {
     "name": "stderr",
     "output_type": "stream",
     "text": [
      " 25%|██▍       | 1876/7654 [1:00:50<3:19:06,  2.07s/it]"
     ]
    },
    {
     "name": "stdout",
     "output_type": "stream",
     "text": [
      "Epoch [1/2], Step [1876/7654], Loss: 3.521975040435791\n"
     ]
    },
    {
     "name": "stderr",
     "output_type": "stream",
     "text": [
      " 25%|██▍       | 1901/7654 [1:01:39<3:18:20,  2.07s/it]"
     ]
    },
    {
     "name": "stdout",
     "output_type": "stream",
     "text": [
      "Epoch [1/2], Step [1901/7654], Loss: 3.580029249191284\n"
     ]
    },
    {
     "name": "stderr",
     "output_type": "stream",
     "text": [
      " 25%|██▌       | 1926/7654 [1:02:27<3:17:22,  2.07s/it]"
     ]
    },
    {
     "name": "stdout",
     "output_type": "stream",
     "text": [
      "Epoch [1/2], Step [1926/7654], Loss: 3.776118516921997\n"
     ]
    },
    {
     "name": "stderr",
     "output_type": "stream",
     "text": [
      " 25%|██▌       | 1951/7654 [1:03:16<3:16:47,  2.07s/it]"
     ]
    },
    {
     "name": "stdout",
     "output_type": "stream",
     "text": [
      "Epoch [1/2], Step [1951/7654], Loss: 3.4332435131073\n"
     ]
    },
    {
     "name": "stderr",
     "output_type": "stream",
     "text": [
      " 26%|██▌       | 1976/7654 [1:04:04<3:16:07,  2.07s/it]"
     ]
    },
    {
     "name": "stdout",
     "output_type": "stream",
     "text": [
      "Epoch [1/2], Step [1976/7654], Loss: 3.6815521717071533\n"
     ]
    },
    {
     "name": "stderr",
     "output_type": "stream",
     "text": [
      " 26%|██▌       | 2000/7654 [1:04:53<3:01:44,  1.93s/it]"
     ]
    },
    {
     "name": "stdout",
     "output_type": "stream",
     "text": [
      "Epoch [1/2], Step [2001/7654], Loss: 3.9431769847869873\n"
     ]
    },
    {
     "name": "stderr",
     "output_type": "stream",
     "text": [
      " 26%|██▌       | 2001/7654 [1:21:07<462:10:23, 294.33s/it]"
     ]
    },
    {
     "name": "stdout",
     "output_type": "stream",
     "text": [
      "Epoch [1/2], , Step [1063/7654], Val Loss: 3.3702664433620164\n"
     ]
    },
    {
     "name": "stderr",
     "output_type": "stream",
     "text": [
      " 26%|██▋       | 2026/7654 [1:21:55<3:17:50,  2.11s/it]   "
     ]
    },
    {
     "name": "stdout",
     "output_type": "stream",
     "text": [
      "Epoch [1/2], Step [2026/7654], Loss: 3.64711856842041\n"
     ]
    },
    {
     "name": "stderr",
     "output_type": "stream",
     "text": [
      " 27%|██▋       | 2051/7654 [1:22:44<3:13:31,  2.07s/it]"
     ]
    },
    {
     "name": "stdout",
     "output_type": "stream",
     "text": [
      "Epoch [1/2], Step [2051/7654], Loss: 3.683884382247925\n"
     ]
    },
    {
     "name": "stderr",
     "output_type": "stream",
     "text": [
      " 27%|██▋       | 2076/7654 [1:23:32<3:12:32,  2.07s/it]"
     ]
    },
    {
     "name": "stdout",
     "output_type": "stream",
     "text": [
      "Epoch [1/2], Step [2076/7654], Loss: 3.7578213214874268\n"
     ]
    },
    {
     "name": "stderr",
     "output_type": "stream",
     "text": [
      " 27%|██▋       | 2101/7654 [1:24:21<3:11:39,  2.07s/it]"
     ]
    },
    {
     "name": "stdout",
     "output_type": "stream",
     "text": [
      "Epoch [1/2], Step [2101/7654], Loss: 3.392252206802368\n"
     ]
    },
    {
     "name": "stderr",
     "output_type": "stream",
     "text": [
      " 28%|██▊       | 2126/7654 [1:25:09<3:10:56,  2.07s/it]"
     ]
    },
    {
     "name": "stdout",
     "output_type": "stream",
     "text": [
      "Epoch [1/2], Step [2126/7654], Loss: 3.5032544136047363\n"
     ]
    },
    {
     "name": "stderr",
     "output_type": "stream",
     "text": [
      " 28%|██▊       | 2151/7654 [1:25:58<3:09:54,  2.07s/it]"
     ]
    },
    {
     "name": "stdout",
     "output_type": "stream",
     "text": [
      "Epoch [1/2], Step [2151/7654], Loss: 3.6550564765930176\n"
     ]
    },
    {
     "name": "stderr",
     "output_type": "stream",
     "text": [
      " 28%|██▊       | 2176/7654 [1:26:46<3:09:06,  2.07s/it]"
     ]
    },
    {
     "name": "stdout",
     "output_type": "stream",
     "text": [
      "Epoch [1/2], Step [2176/7654], Loss: 3.581892967224121\n"
     ]
    },
    {
     "name": "stderr",
     "output_type": "stream",
     "text": [
      " 29%|██▉       | 2201/7654 [1:27:35<3:08:42,  2.08s/it]"
     ]
    },
    {
     "name": "stdout",
     "output_type": "stream",
     "text": [
      "Epoch [1/2], Step [2201/7654], Loss: 3.5744190216064453\n"
     ]
    },
    {
     "name": "stderr",
     "output_type": "stream",
     "text": [
      " 29%|██▉       | 2226/7654 [1:28:23<3:07:13,  2.07s/it]"
     ]
    },
    {
     "name": "stdout",
     "output_type": "stream",
     "text": [
      "Epoch [1/2], Step [2226/7654], Loss: 3.641709089279175\n"
     ]
    },
    {
     "name": "stderr",
     "output_type": "stream",
     "text": [
      " 29%|██▉       | 2251/7654 [1:29:12<3:06:03,  2.07s/it]"
     ]
    },
    {
     "name": "stdout",
     "output_type": "stream",
     "text": [
      "Epoch [1/2], Step [2251/7654], Loss: 3.549344062805176\n"
     ]
    },
    {
     "name": "stderr",
     "output_type": "stream",
     "text": [
      " 30%|██▉       | 2276/7654 [1:30:00<3:06:05,  2.08s/it]"
     ]
    },
    {
     "name": "stdout",
     "output_type": "stream",
     "text": [
      "Epoch [1/2], Step [2276/7654], Loss: 3.6602747440338135\n"
     ]
    },
    {
     "name": "stderr",
     "output_type": "stream",
     "text": [
      " 30%|███       | 2301/7654 [1:30:49<3:04:36,  2.07s/it]"
     ]
    },
    {
     "name": "stdout",
     "output_type": "stream",
     "text": [
      "Epoch [1/2], Step [2301/7654], Loss: 3.634732961654663\n"
     ]
    },
    {
     "name": "stderr",
     "output_type": "stream",
     "text": [
      " 30%|███       | 2326/7654 [1:31:37<3:03:53,  2.07s/it]"
     ]
    },
    {
     "name": "stdout",
     "output_type": "stream",
     "text": [
      "Epoch [1/2], Step [2326/7654], Loss: 3.6550798416137695\n"
     ]
    },
    {
     "name": "stderr",
     "output_type": "stream",
     "text": [
      " 31%|███       | 2351/7654 [1:32:26<3:04:48,  2.09s/it]"
     ]
    },
    {
     "name": "stdout",
     "output_type": "stream",
     "text": [
      "Epoch [1/2], Step [2351/7654], Loss: 3.8313000202178955\n"
     ]
    },
    {
     "name": "stderr",
     "output_type": "stream",
     "text": [
      " 31%|███       | 2376/7654 [1:33:14<3:02:13,  2.07s/it]"
     ]
    },
    {
     "name": "stdout",
     "output_type": "stream",
     "text": [
      "Epoch [1/2], Step [2376/7654], Loss: 3.588810920715332\n"
     ]
    },
    {
     "name": "stderr",
     "output_type": "stream",
     "text": [
      " 31%|███▏      | 2401/7654 [1:34:02<3:01:07,  2.07s/it]"
     ]
    },
    {
     "name": "stdout",
     "output_type": "stream",
     "text": [
      "Epoch [1/2], Step [2401/7654], Loss: 3.5711135864257812\n"
     ]
    },
    {
     "name": "stderr",
     "output_type": "stream",
     "text": [
      " 32%|███▏      | 2426/7654 [1:34:51<3:04:30,  2.12s/it]"
     ]
    },
    {
     "name": "stdout",
     "output_type": "stream",
     "text": [
      "Epoch [1/2], Step [2426/7654], Loss: 3.5667765140533447\n"
     ]
    },
    {
     "name": "stderr",
     "output_type": "stream",
     "text": [
      " 32%|███▏      | 2451/7654 [1:35:40<2:59:23,  2.07s/it]"
     ]
    },
    {
     "name": "stdout",
     "output_type": "stream",
     "text": [
      "Epoch [1/2], Step [2451/7654], Loss: 3.484030246734619\n"
     ]
    },
    {
     "name": "stderr",
     "output_type": "stream",
     "text": [
      " 32%|███▏      | 2476/7654 [1:36:28<2:58:33,  2.07s/it]"
     ]
    },
    {
     "name": "stdout",
     "output_type": "stream",
     "text": [
      "Epoch [1/2], Step [2476/7654], Loss: 3.457796573638916\n"
     ]
    },
    {
     "name": "stderr",
     "output_type": "stream",
     "text": [
      " 33%|███▎      | 2501/7654 [1:37:17<3:04:28,  2.15s/it]"
     ]
    },
    {
     "name": "stdout",
     "output_type": "stream",
     "text": [
      "Epoch [1/2], Step [2501/7654], Loss: 3.7230377197265625\n"
     ]
    },
    {
     "name": "stderr",
     "output_type": "stream",
     "text": [
      " 33%|███▎      | 2526/7654 [1:38:05<2:56:32,  2.07s/it]"
     ]
    },
    {
     "name": "stdout",
     "output_type": "stream",
     "text": [
      "Epoch [1/2], Step [2526/7654], Loss: 3.5808963775634766\n"
     ]
    },
    {
     "name": "stderr",
     "output_type": "stream",
     "text": [
      " 33%|███▎      | 2551/7654 [1:38:53<2:55:56,  2.07s/it]"
     ]
    },
    {
     "name": "stdout",
     "output_type": "stream",
     "text": [
      "Epoch [1/2], Step [2551/7654], Loss: 3.7430579662323\n"
     ]
    },
    {
     "name": "stderr",
     "output_type": "stream",
     "text": [
      " 34%|███▎      | 2576/7654 [1:39:41<2:55:05,  2.07s/it]"
     ]
    },
    {
     "name": "stdout",
     "output_type": "stream",
     "text": [
      "Epoch [1/2], Step [2576/7654], Loss: 3.6157970428466797\n"
     ]
    },
    {
     "name": "stderr",
     "output_type": "stream",
     "text": [
      " 34%|███▍      | 2601/7654 [1:40:30<2:53:56,  2.07s/it]"
     ]
    },
    {
     "name": "stdout",
     "output_type": "stream",
     "text": [
      "Epoch [1/2], Step [2601/7654], Loss: 3.7458603382110596\n"
     ]
    },
    {
     "name": "stderr",
     "output_type": "stream",
     "text": [
      " 34%|███▍      | 2626/7654 [1:41:18<2:53:15,  2.07s/it]"
     ]
    },
    {
     "name": "stdout",
     "output_type": "stream",
     "text": [
      "Epoch [1/2], Step [2626/7654], Loss: 3.7040939331054688\n"
     ]
    },
    {
     "name": "stderr",
     "output_type": "stream",
     "text": [
      " 35%|███▍      | 2651/7654 [1:42:07<2:52:34,  2.07s/it]"
     ]
    },
    {
     "name": "stdout",
     "output_type": "stream",
     "text": [
      "Epoch [1/2], Step [2651/7654], Loss: 3.554974317550659\n"
     ]
    },
    {
     "name": "stderr",
     "output_type": "stream",
     "text": [
      " 35%|███▍      | 2676/7654 [1:42:55<2:51:31,  2.07s/it]"
     ]
    },
    {
     "name": "stdout",
     "output_type": "stream",
     "text": [
      "Epoch [1/2], Step [2676/7654], Loss: 3.597804546356201\n"
     ]
    },
    {
     "name": "stderr",
     "output_type": "stream",
     "text": [
      " 35%|███▌      | 2701/7654 [1:43:44<2:50:37,  2.07s/it]"
     ]
    },
    {
     "name": "stdout",
     "output_type": "stream",
     "text": [
      "Epoch [1/2], Step [2701/7654], Loss: 3.7460150718688965\n"
     ]
    },
    {
     "name": "stderr",
     "output_type": "stream",
     "text": [
      " 36%|███▌      | 2726/7654 [1:44:32<2:49:50,  2.07s/it]"
     ]
    },
    {
     "name": "stdout",
     "output_type": "stream",
     "text": [
      "Epoch [1/2], Step [2726/7654], Loss: 3.4327995777130127\n"
     ]
    },
    {
     "name": "stderr",
     "output_type": "stream",
     "text": [
      " 36%|███▌      | 2751/7654 [1:45:21<2:48:36,  2.06s/it]"
     ]
    },
    {
     "name": "stdout",
     "output_type": "stream",
     "text": [
      "Epoch [1/2], Step [2751/7654], Loss: 3.476978063583374\n"
     ]
    },
    {
     "name": "stderr",
     "output_type": "stream",
     "text": [
      " 36%|███▋      | 2776/7654 [1:46:09<2:48:21,  2.07s/it]"
     ]
    },
    {
     "name": "stdout",
     "output_type": "stream",
     "text": [
      "Epoch [1/2], Step [2776/7654], Loss: 3.6380536556243896\n"
     ]
    },
    {
     "name": "stderr",
     "output_type": "stream",
     "text": [
      " 37%|███▋      | 2801/7654 [1:46:57<2:47:34,  2.07s/it]"
     ]
    },
    {
     "name": "stdout",
     "output_type": "stream",
     "text": [
      "Epoch [1/2], Step [2801/7654], Loss: 3.6405038833618164\n"
     ]
    },
    {
     "name": "stderr",
     "output_type": "stream",
     "text": [
      " 37%|███▋      | 2826/7654 [1:47:46<2:46:41,  2.07s/it]"
     ]
    },
    {
     "name": "stdout",
     "output_type": "stream",
     "text": [
      "Epoch [1/2], Step [2826/7654], Loss: 3.7385709285736084\n"
     ]
    },
    {
     "name": "stderr",
     "output_type": "stream",
     "text": [
      " 37%|███▋      | 2851/7654 [1:48:34<2:45:28,  2.07s/it]"
     ]
    },
    {
     "name": "stdout",
     "output_type": "stream",
     "text": [
      "Epoch [1/2], Step [2851/7654], Loss: 3.6369552612304688\n"
     ]
    },
    {
     "name": "stderr",
     "output_type": "stream",
     "text": [
      " 38%|███▊      | 2876/7654 [1:49:22<2:44:47,  2.07s/it]"
     ]
    },
    {
     "name": "stdout",
     "output_type": "stream",
     "text": [
      "Epoch [1/2], Step [2876/7654], Loss: 3.699734687805176\n"
     ]
    },
    {
     "name": "stderr",
     "output_type": "stream",
     "text": [
      " 38%|███▊      | 2901/7654 [1:50:11<2:44:03,  2.07s/it]"
     ]
    },
    {
     "name": "stdout",
     "output_type": "stream",
     "text": [
      "Epoch [1/2], Step [2901/7654], Loss: 3.650113105773926\n"
     ]
    },
    {
     "name": "stderr",
     "output_type": "stream",
     "text": [
      " 38%|███▊      | 2926/7654 [1:50:59<2:42:53,  2.07s/it]"
     ]
    },
    {
     "name": "stdout",
     "output_type": "stream",
     "text": [
      "Epoch [1/2], Step [2926/7654], Loss: 3.5730254650115967\n"
     ]
    },
    {
     "name": "stderr",
     "output_type": "stream",
     "text": [
      " 39%|███▊      | 2951/7654 [1:51:48<2:42:15,  2.07s/it]"
     ]
    },
    {
     "name": "stdout",
     "output_type": "stream",
     "text": [
      "Epoch [1/2], Step [2951/7654], Loss: 3.4884274005889893\n"
     ]
    },
    {
     "name": "stderr",
     "output_type": "stream",
     "text": [
      " 39%|███▉      | 2976/7654 [1:52:37<2:41:28,  2.07s/it]"
     ]
    },
    {
     "name": "stdout",
     "output_type": "stream",
     "text": [
      "Epoch [1/2], Step [2976/7654], Loss: 3.680771589279175\n"
     ]
    },
    {
     "name": "stderr",
     "output_type": "stream",
     "text": [
      " 39%|███▉      | 3001/7654 [1:53:25<2:41:08,  2.08s/it]"
     ]
    },
    {
     "name": "stdout",
     "output_type": "stream",
     "text": [
      "Epoch [1/2], Step [3001/7654], Loss: 3.5326333045959473\n"
     ]
    },
    {
     "name": "stderr",
     "output_type": "stream",
     "text": [
      " 40%|███▉      | 3026/7654 [1:54:13<2:39:13,  2.06s/it]"
     ]
    },
    {
     "name": "stdout",
     "output_type": "stream",
     "text": [
      "Epoch [1/2], Step [3026/7654], Loss: 3.585087299346924\n"
     ]
    },
    {
     "name": "stderr",
     "output_type": "stream",
     "text": [
      " 40%|███▉      | 3051/7654 [1:55:02<2:38:41,  2.07s/it]"
     ]
    },
    {
     "name": "stdout",
     "output_type": "stream",
     "text": [
      "Epoch [1/2], Step [3051/7654], Loss: 3.8108696937561035\n"
     ]
    },
    {
     "name": "stderr",
     "output_type": "stream",
     "text": [
      " 40%|████      | 3076/7654 [1:55:50<2:37:38,  2.07s/it]"
     ]
    },
    {
     "name": "stdout",
     "output_type": "stream",
     "text": [
      "Epoch [1/2], Step [3076/7654], Loss: 3.5229666233062744\n"
     ]
    },
    {
     "name": "stderr",
     "output_type": "stream",
     "text": [
      " 41%|████      | 3101/7654 [1:56:38<2:36:20,  2.06s/it]"
     ]
    },
    {
     "name": "stdout",
     "output_type": "stream",
     "text": [
      "Epoch [1/2], Step [3101/7654], Loss: 3.583500385284424\n"
     ]
    },
    {
     "name": "stderr",
     "output_type": "stream",
     "text": [
      " 41%|████      | 3126/7654 [1:57:27<2:36:39,  2.08s/it]"
     ]
    },
    {
     "name": "stdout",
     "output_type": "stream",
     "text": [
      "Epoch [1/2], Step [3126/7654], Loss: 3.709407329559326\n"
     ]
    },
    {
     "name": "stderr",
     "output_type": "stream",
     "text": [
      " 41%|████      | 3151/7654 [1:58:15<2:35:03,  2.07s/it]"
     ]
    },
    {
     "name": "stdout",
     "output_type": "stream",
     "text": [
      "Epoch [1/2], Step [3151/7654], Loss: 3.615478754043579\n"
     ]
    },
    {
     "name": "stderr",
     "output_type": "stream",
     "text": [
      " 41%|████▏     | 3176/7654 [1:59:03<2:34:16,  2.07s/it]"
     ]
    },
    {
     "name": "stdout",
     "output_type": "stream",
     "text": [
      "Epoch [1/2], Step [3176/7654], Loss: 3.6107654571533203\n"
     ]
    },
    {
     "name": "stderr",
     "output_type": "stream",
     "text": [
      " 42%|████▏     | 3201/7654 [1:59:52<2:33:50,  2.07s/it]"
     ]
    },
    {
     "name": "stdout",
     "output_type": "stream",
     "text": [
      "Epoch [1/2], Step [3201/7654], Loss: 3.654075860977173\n"
     ]
    },
    {
     "name": "stderr",
     "output_type": "stream",
     "text": [
      " 42%|████▏     | 3226/7654 [2:00:40<2:32:42,  2.07s/it]"
     ]
    },
    {
     "name": "stdout",
     "output_type": "stream",
     "text": [
      "Epoch [1/2], Step [3226/7654], Loss: 3.642332077026367\n"
     ]
    },
    {
     "name": "stderr",
     "output_type": "stream",
     "text": [
      " 42%|████▏     | 3251/7654 [2:01:29<2:32:21,  2.08s/it]"
     ]
    },
    {
     "name": "stdout",
     "output_type": "stream",
     "text": [
      "Epoch [1/2], Step [3251/7654], Loss: 3.715812921524048\n"
     ]
    },
    {
     "name": "stderr",
     "output_type": "stream",
     "text": [
      " 43%|████▎     | 3276/7654 [2:02:17<2:31:25,  2.08s/it]"
     ]
    },
    {
     "name": "stdout",
     "output_type": "stream",
     "text": [
      "Epoch [1/2], Step [3276/7654], Loss: 3.5943970680236816\n"
     ]
    },
    {
     "name": "stderr",
     "output_type": "stream",
     "text": [
      " 43%|████▎     | 3301/7654 [2:03:06<2:30:03,  2.07s/it]"
     ]
    },
    {
     "name": "stdout",
     "output_type": "stream",
     "text": [
      "Epoch [1/2], Step [3301/7654], Loss: 3.692753791809082\n"
     ]
    },
    {
     "name": "stderr",
     "output_type": "stream",
     "text": [
      " 43%|████▎     | 3326/7654 [2:03:54<2:29:09,  2.07s/it]"
     ]
    },
    {
     "name": "stdout",
     "output_type": "stream",
     "text": [
      "Epoch [1/2], Step [3326/7654], Loss: 3.652444839477539\n"
     ]
    },
    {
     "name": "stderr",
     "output_type": "stream",
     "text": [
      " 44%|████▍     | 3351/7654 [2:04:43<2:30:17,  2.10s/it]"
     ]
    },
    {
     "name": "stdout",
     "output_type": "stream",
     "text": [
      "Epoch [1/2], Step [3351/7654], Loss: 3.4484405517578125\n"
     ]
    },
    {
     "name": "stderr",
     "output_type": "stream",
     "text": [
      " 44%|████▍     | 3376/7654 [2:05:31<2:27:58,  2.08s/it]"
     ]
    },
    {
     "name": "stdout",
     "output_type": "stream",
     "text": [
      "Epoch [1/2], Step [3376/7654], Loss: 3.4691333770751953\n"
     ]
    },
    {
     "name": "stderr",
     "output_type": "stream",
     "text": [
      " 44%|████▍     | 3401/7654 [2:06:19<2:26:52,  2.07s/it]"
     ]
    },
    {
     "name": "stdout",
     "output_type": "stream",
     "text": [
      "Epoch [1/2], Step [3401/7654], Loss: 3.6426258087158203\n"
     ]
    },
    {
     "name": "stderr",
     "output_type": "stream",
     "text": [
      " 45%|████▍     | 3426/7654 [2:07:08<2:29:52,  2.13s/it]"
     ]
    },
    {
     "name": "stdout",
     "output_type": "stream",
     "text": [
      "Epoch [1/2], Step [3426/7654], Loss: 3.578839063644409\n"
     ]
    },
    {
     "name": "stderr",
     "output_type": "stream",
     "text": [
      " 45%|████▌     | 3451/7654 [2:07:57<2:25:07,  2.07s/it]"
     ]
    },
    {
     "name": "stdout",
     "output_type": "stream",
     "text": [
      "Epoch [1/2], Step [3451/7654], Loss: 3.6163530349731445\n"
     ]
    },
    {
     "name": "stderr",
     "output_type": "stream",
     "text": [
      " 45%|████▌     | 3476/7654 [2:08:45<2:24:34,  2.08s/it]"
     ]
    },
    {
     "name": "stdout",
     "output_type": "stream",
     "text": [
      "Epoch [1/2], Step [3476/7654], Loss: 3.579988479614258\n"
     ]
    },
    {
     "name": "stderr",
     "output_type": "stream",
     "text": [
      " 46%|████▌     | 3501/7654 [2:09:34<2:31:33,  2.19s/it]"
     ]
    },
    {
     "name": "stdout",
     "output_type": "stream",
     "text": [
      "Epoch [1/2], Step [3501/7654], Loss: 3.5897836685180664\n"
     ]
    },
    {
     "name": "stderr",
     "output_type": "stream",
     "text": [
      " 46%|████▌     | 3526/7654 [2:10:22<2:22:55,  2.08s/it]"
     ]
    },
    {
     "name": "stdout",
     "output_type": "stream",
     "text": [
      "Epoch [1/2], Step [3526/7654], Loss: 3.4959588050842285\n"
     ]
    },
    {
     "name": "stderr",
     "output_type": "stream",
     "text": [
      " 46%|████▋     | 3551/7654 [2:11:11<2:21:33,  2.07s/it]"
     ]
    },
    {
     "name": "stdout",
     "output_type": "stream",
     "text": [
      "Epoch [1/2], Step [3551/7654], Loss: 3.729555368423462\n"
     ]
    },
    {
     "name": "stderr",
     "output_type": "stream",
     "text": [
      " 47%|████▋     | 3576/7654 [2:11:59<2:20:51,  2.07s/it]"
     ]
    },
    {
     "name": "stdout",
     "output_type": "stream",
     "text": [
      "Epoch [1/2], Step [3576/7654], Loss: 3.6102712154388428\n"
     ]
    },
    {
     "name": "stderr",
     "output_type": "stream",
     "text": [
      " 47%|████▋     | 3601/7654 [2:12:48<2:19:45,  2.07s/it]"
     ]
    },
    {
     "name": "stdout",
     "output_type": "stream",
     "text": [
      "Epoch [1/2], Step [3601/7654], Loss: 3.6181600093841553\n"
     ]
    },
    {
     "name": "stderr",
     "output_type": "stream",
     "text": [
      " 47%|████▋     | 3626/7654 [2:13:36<2:19:20,  2.08s/it]"
     ]
    },
    {
     "name": "stdout",
     "output_type": "stream",
     "text": [
      "Epoch [1/2], Step [3626/7654], Loss: 3.6468374729156494\n"
     ]
    },
    {
     "name": "stderr",
     "output_type": "stream",
     "text": [
      " 48%|████▊     | 3651/7654 [2:14:24<2:18:15,  2.07s/it]"
     ]
    },
    {
     "name": "stdout",
     "output_type": "stream",
     "text": [
      "Epoch [1/2], Step [3651/7654], Loss: 3.658576250076294\n"
     ]
    },
    {
     "name": "stderr",
     "output_type": "stream",
     "text": [
      " 48%|████▊     | 3676/7654 [2:15:13<2:17:25,  2.07s/it]"
     ]
    },
    {
     "name": "stdout",
     "output_type": "stream",
     "text": [
      "Epoch [1/2], Step [3676/7654], Loss: 3.6709325313568115\n"
     ]
    },
    {
     "name": "stderr",
     "output_type": "stream",
     "text": [
      " 48%|████▊     | 3701/7654 [2:16:02<2:16:35,  2.07s/it]"
     ]
    },
    {
     "name": "stdout",
     "output_type": "stream",
     "text": [
      "Epoch [1/2], Step [3701/7654], Loss: 3.6272478103637695\n"
     ]
    },
    {
     "name": "stderr",
     "output_type": "stream",
     "text": [
      " 49%|████▊     | 3726/7654 [2:16:50<2:16:13,  2.08s/it]"
     ]
    },
    {
     "name": "stdout",
     "output_type": "stream",
     "text": [
      "Epoch [1/2], Step [3726/7654], Loss: 3.6940784454345703\n"
     ]
    },
    {
     "name": "stderr",
     "output_type": "stream",
     "text": [
      " 49%|████▉     | 3751/7654 [2:17:39<2:15:00,  2.08s/it]"
     ]
    },
    {
     "name": "stdout",
     "output_type": "stream",
     "text": [
      "Epoch [1/2], Step [3751/7654], Loss: 3.5735855102539062\n"
     ]
    },
    {
     "name": "stderr",
     "output_type": "stream",
     "text": [
      " 49%|████▉     | 3776/7654 [2:18:27<2:14:23,  2.08s/it]"
     ]
    },
    {
     "name": "stdout",
     "output_type": "stream",
     "text": [
      "Epoch [1/2], Step [3776/7654], Loss: 3.5428130626678467\n"
     ]
    },
    {
     "name": "stderr",
     "output_type": "stream",
     "text": [
      " 50%|████▉     | 3801/7654 [2:19:16<2:13:30,  2.08s/it]"
     ]
    },
    {
     "name": "stdout",
     "output_type": "stream",
     "text": [
      "Epoch [1/2], Step [3801/7654], Loss: 3.5466513633728027\n"
     ]
    },
    {
     "name": "stderr",
     "output_type": "stream",
     "text": [
      " 50%|████▉     | 3826/7654 [2:20:05<2:12:31,  2.08s/it]"
     ]
    },
    {
     "name": "stdout",
     "output_type": "stream",
     "text": [
      "Epoch [1/2], Step [3826/7654], Loss: 3.7237839698791504\n"
     ]
    },
    {
     "name": "stderr",
     "output_type": "stream",
     "text": [
      " 50%|█████     | 3851/7654 [2:20:53<2:11:18,  2.07s/it]"
     ]
    },
    {
     "name": "stdout",
     "output_type": "stream",
     "text": [
      "Epoch [1/2], Step [3851/7654], Loss: 3.624598503112793\n"
     ]
    },
    {
     "name": "stderr",
     "output_type": "stream",
     "text": [
      " 51%|█████     | 3876/7654 [2:21:42<2:10:56,  2.08s/it]"
     ]
    },
    {
     "name": "stdout",
     "output_type": "stream",
     "text": [
      "Epoch [1/2], Step [3876/7654], Loss: 3.705472469329834\n"
     ]
    },
    {
     "name": "stderr",
     "output_type": "stream",
     "text": [
      " 51%|█████     | 3901/7654 [2:22:31<2:09:53,  2.08s/it]"
     ]
    },
    {
     "name": "stdout",
     "output_type": "stream",
     "text": [
      "Epoch [1/2], Step [3901/7654], Loss: 3.4595706462860107\n"
     ]
    },
    {
     "name": "stderr",
     "output_type": "stream",
     "text": [
      " 51%|█████▏    | 3926/7654 [2:23:19<2:08:55,  2.07s/it]"
     ]
    },
    {
     "name": "stdout",
     "output_type": "stream",
     "text": [
      "Epoch [1/2], Step [3926/7654], Loss: 3.99259090423584\n"
     ]
    },
    {
     "name": "stderr",
     "output_type": "stream",
     "text": [
      " 52%|█████▏    | 3951/7654 [2:24:07<2:07:56,  2.07s/it]"
     ]
    },
    {
     "name": "stdout",
     "output_type": "stream",
     "text": [
      "Epoch [1/2], Step [3951/7654], Loss: 3.5244369506835938\n"
     ]
    },
    {
     "name": "stderr",
     "output_type": "stream",
     "text": [
      " 52%|█████▏    | 3976/7654 [2:24:56<2:07:23,  2.08s/it]"
     ]
    },
    {
     "name": "stdout",
     "output_type": "stream",
     "text": [
      "Epoch [1/2], Step [3976/7654], Loss: 3.538147211074829\n"
     ]
    },
    {
     "name": "stderr",
     "output_type": "stream",
     "text": [
      " 52%|█████▏    | 4000/7654 [2:25:45<1:58:07,  1.94s/it]"
     ]
    },
    {
     "name": "stdout",
     "output_type": "stream",
     "text": [
      "Epoch [1/2], Step [4001/7654], Loss: 3.7510364055633545\n"
     ]
    },
    {
     "name": "stderr",
     "output_type": "stream",
     "text": [
      " 52%|█████▏    | 4001/7654 [2:41:53<296:49:12, 292.51s/it]"
     ]
    },
    {
     "name": "stdout",
     "output_type": "stream",
     "text": [
      "Epoch [1/2], , Step [1063/7654], Val Loss: 3.377793480513349\n"
     ]
    },
    {
     "name": "stderr",
     "output_type": "stream",
     "text": [
      " 53%|█████▎    | 4026/7654 [2:42:41<2:06:57,  2.10s/it]   "
     ]
    },
    {
     "name": "stdout",
     "output_type": "stream",
     "text": [
      "Epoch [1/2], Step [4026/7654], Loss: 3.6991465091705322\n"
     ]
    },
    {
     "name": "stderr",
     "output_type": "stream",
     "text": [
      " 53%|█████▎    | 4051/7654 [2:43:30<2:04:20,  2.07s/it]"
     ]
    },
    {
     "name": "stdout",
     "output_type": "stream",
     "text": [
      "Epoch [1/2], Step [4051/7654], Loss: 3.6264476776123047\n"
     ]
    },
    {
     "name": "stderr",
     "output_type": "stream",
     "text": [
      " 53%|█████▎    | 4076/7654 [2:44:18<2:02:55,  2.06s/it]"
     ]
    },
    {
     "name": "stdout",
     "output_type": "stream",
     "text": [
      "Epoch [1/2], Step [4076/7654], Loss: 3.7156670093536377\n"
     ]
    },
    {
     "name": "stderr",
     "output_type": "stream",
     "text": [
      " 54%|█████▎    | 4101/7654 [2:45:06<2:01:59,  2.06s/it]"
     ]
    },
    {
     "name": "stdout",
     "output_type": "stream",
     "text": [
      "Epoch [1/2], Step [4101/7654], Loss: 3.5791125297546387\n"
     ]
    },
    {
     "name": "stderr",
     "output_type": "stream",
     "text": [
      " 54%|█████▍    | 4126/7654 [2:45:55<2:01:33,  2.07s/it]"
     ]
    },
    {
     "name": "stdout",
     "output_type": "stream",
     "text": [
      "Epoch [1/2], Step [4126/7654], Loss: 3.6624457836151123\n"
     ]
    },
    {
     "name": "stderr",
     "output_type": "stream",
     "text": [
      " 54%|█████▍    | 4151/7654 [2:46:43<2:00:30,  2.06s/it]"
     ]
    },
    {
     "name": "stdout",
     "output_type": "stream",
     "text": [
      "Epoch [1/2], Step [4151/7654], Loss: 3.770266532897949\n"
     ]
    },
    {
     "name": "stderr",
     "output_type": "stream",
     "text": [
      " 55%|█████▍    | 4176/7654 [2:47:31<1:59:33,  2.06s/it]"
     ]
    },
    {
     "name": "stdout",
     "output_type": "stream",
     "text": [
      "Epoch [1/2], Step [4176/7654], Loss: 3.5543596744537354\n"
     ]
    },
    {
     "name": "stderr",
     "output_type": "stream",
     "text": [
      " 55%|█████▍    | 4201/7654 [2:48:19<1:59:09,  2.07s/it]"
     ]
    },
    {
     "name": "stdout",
     "output_type": "stream",
     "text": [
      "Epoch [1/2], Step [4201/7654], Loss: 3.533764600753784\n"
     ]
    },
    {
     "name": "stderr",
     "output_type": "stream",
     "text": [
      " 55%|█████▌    | 4218/7654 [2:48:52<1:50:07,  1.92s/it]"
     ]
    }
   ],
   "source": [
    "for epoch in range(num_epochs):\n",
    "    for i, (ip,trgt) in tqdm(enumerate(train_loader), total=len(train_loader)):\n",
    "        decoder.train()\n",
    "        ip, trgt = ip.squeeze(1).to(device), trgt.squeeze(1).to(device)\n",
    "        out = unfold(ip,decoder)\n",
    "        loss = criterion(out,trgt)\n",
    "        optimizer.zero_grad()\n",
    "        loss.backward()\n",
    "        optimizer.step()\n",
    "        step = (i + 1)/len(train_loader)\n",
    "        if i % 25 == 0:\n",
    "            writer.add_scalar(\"Loss/train\",loss,step)\n",
    "            tqdm.write(f'Epoch [{epoch + 1}/{num_epochs}], Step [{i + 1}/{len(train_loader)}], Loss: {loss.item()}')\n",
    "        if i % 2000 == 0 and i > 0:\n",
    "            decoder.eval()\n",
    "            total_val_loss = 0\n",
    "            with torch.no_grad():\n",
    "                for i, (ip, trgt) in enumerate(validation_loader):\n",
    "                    ip, trgt = ip.squeeze(1).to(device), trgt.squeeze(1).to(device)\n",
    "                    out = unfold(ip,decoder)\n",
    "                    val_loss = criterion(out, trgt)\n",
    "                    total_val_loss += val_loss.item()\n",
    "        \n",
    "            avg_val_loss = total_val_loss / len(validation_loader)\n",
    "            writer.add_scalar(\"Loss/val\", avg_val_loss, step)\n",
    "            tqdm.write(f'Epoch [{epoch + 1}/{num_epochs}], , Step [{i + 1}/{len(train_loader)}], Val Loss: {avg_val_loss}')"
   ]
  },
  {
   "cell_type": "code",
   "execution_count": null,
   "id": "68d8ebfe-f9ef-440c-a595-58c67e60efdf",
   "metadata": {},
   "outputs": [],
   "source": [
    "!tensorboard --logdir=runs"
   ]
  },
  {
   "cell_type": "code",
   "execution_count": null,
   "id": "7201a467-6481-415a-a70e-f1e91b5915fb",
   "metadata": {},
   "outputs": [],
   "source": [
    "torch.save(decoder.state_dict(), 'model_state.pth')"
   ]
  },
  {
   "cell_type": "code",
   "execution_count": null,
   "id": "8fc3b185-98d7-4ebf-9e83-381cd9367189",
   "metadata": {},
   "outputs": [],
   "source": [
    "writer.close()"
   ]
  },
  {
   "cell_type": "code",
   "execution_count": null,
   "id": "81557915-004c-4483-b4b1-a9a13ba5fda2",
   "metadata": {},
   "outputs": [],
   "source": [
    "decoder = ByteNetDecoder(len(tokenizer.get_vocab())).to(device)\n",
    "decoder.load_state_dict(torch.load('model_state.pth'))"
   ]
  },
  {
   "cell_type": "code",
   "execution_count": null,
   "id": "de920db9-4f9e-4344-81b6-b9eaf244f51b",
   "metadata": {},
   "outputs": [],
   "source": [
    "def predict(inp, model,  tokenizer):\n",
    "    model.eval()\n",
    "    with torch.inference_mode():\n",
    "        out = model(inp)\n",
    "    print(out.shape)\n",
    "    out = torch.argmax(out.squeeze(0), dim=0)\n",
    "\n",
    "    out = tokenizer.decode(out.tolist())\n",
    "    out = out.replace(\"<pad>\", \"\")\n",
    "    print(f\"Predicted text:  {out}\")"
   ]
  },
  {
   "cell_type": "code",
   "execution_count": null,
   "id": "55d319bd-aecd-4af0-8444-ae8046c91238",
   "metadata": {},
   "outputs": [],
   "source": [
    "batch = next(iter(validation_loader))\n",
    "batch =  next(iter(train_loader))"
   ]
  },
  {
   "cell_type": "code",
   "execution_count": null,
   "id": "0c7d4f6b-3468-4e32-bd66-bfde6d0e3d47",
   "metadata": {},
   "outputs": [],
   "source": [
    "src = batch[0][0][0]\n",
    "trgt = batch[1][0][0]\n",
    "i =  tokenizer.decode(src.tolist())\n",
    "i = i.replace(\"<pad>\", \"\")\n",
    "print(f\"Input : {i}\")\n",
    "print(f\"Ground  Truth : {tokenizer.decode(trgt.tolist())}\")\n"
   ]
  },
  {
   "cell_type": "code",
   "execution_count": null,
   "id": "4b769625-9002-4892-918b-e8cae6756f6f",
   "metadata": {},
   "outputs": [],
   "source": [
    "predict(batch[0][0].to(device),decoder,tokenizer)"
   ]
  }
 ],
 "metadata": {
  "kernelspec": {
   "display_name": "Python 3 (ipykernel)",
   "language": "python",
   "name": "python3"
  },
  "language_info": {
   "codemirror_mode": {
    "name": "ipython",
    "version": 3
   },
   "file_extension": ".py",
   "mimetype": "text/x-python",
   "name": "python",
   "nbconvert_exporter": "python",
   "pygments_lexer": "ipython3",
   "version": "3.11.8"
  }
 },
 "nbformat": 4,
 "nbformat_minor": 5
}
