{
 "cells": [
  {
   "cell_type": "markdown",
   "id": "6d7ced5b-fbaa-4674-852a-4a1118692c41",
   "metadata": {},
   "source": [
    "# ByteNet Character Prediction Model & Experiment\n",
    "This task uses the Hutter Prize version of  the Wikipedia dataset to test"
   ]
  },
  {
   "cell_type": "code",
   "execution_count": 1,
   "id": "a67aba65-c1ad-45db-8c90-5df7542e6875",
   "metadata": {},
   "outputs": [
    {
     "name": "stdout",
     "output_type": "stream",
     "text": [
      "Requirement already satisfied: datasets in /opt/conda/lib/python3.11/site-packages (2.20.0)\n",
      "Requirement already satisfied: filelock in /opt/conda/lib/python3.11/site-packages (from datasets) (3.13.3)\n",
      "Requirement already satisfied: numpy>=1.17 in /opt/conda/lib/python3.11/site-packages (from datasets) (1.26.4)\n",
      "Requirement already satisfied: pyarrow>=15.0.0 in /opt/conda/lib/python3.11/site-packages (from datasets) (15.0.0)\n",
      "Requirement already satisfied: pyarrow-hotfix in /opt/conda/lib/python3.11/site-packages (from datasets) (0.6)\n",
      "Requirement already satisfied: dill<0.3.9,>=0.3.0 in /opt/conda/lib/python3.11/site-packages (from datasets) (0.3.8)\n",
      "Requirement already satisfied: pandas in /opt/conda/lib/python3.11/site-packages (from datasets) (1.5.3)\n",
      "Requirement already satisfied: requests>=2.32.2 in /opt/conda/lib/python3.11/site-packages (from datasets) (2.32.3)\n",
      "Requirement already satisfied: tqdm>=4.66.3 in /opt/conda/lib/python3.11/site-packages (from datasets) (4.66.4)\n",
      "Requirement already satisfied: xxhash in /opt/conda/lib/python3.11/site-packages (from datasets) (3.4.1)\n",
      "Requirement already satisfied: multiprocess in /opt/conda/lib/python3.11/site-packages (from datasets) (0.70.16)\n",
      "Requirement already satisfied: fsspec<=2024.5.0,>=2023.1.0 in /opt/conda/lib/python3.11/site-packages (from fsspec[http]<=2024.5.0,>=2023.1.0->datasets) (2024.2.0)\n",
      "Requirement already satisfied: aiohttp in /opt/conda/lib/python3.11/site-packages (from datasets) (3.9.3)\n",
      "Requirement already satisfied: huggingface-hub>=0.21.2 in /opt/conda/lib/python3.11/site-packages (from datasets) (0.22.1)\n",
      "Requirement already satisfied: packaging in /opt/conda/lib/python3.11/site-packages (from datasets) (23.2)\n",
      "Requirement already satisfied: pyyaml>=5.1 in /opt/conda/lib/python3.11/site-packages (from datasets) (6.0.1)\n",
      "Requirement already satisfied: aiosignal>=1.1.2 in /opt/conda/lib/python3.11/site-packages (from aiohttp->datasets) (1.3.1)\n",
      "Requirement already satisfied: attrs>=17.3.0 in /opt/conda/lib/python3.11/site-packages (from aiohttp->datasets) (23.2.0)\n",
      "Requirement already satisfied: frozenlist>=1.1.1 in /opt/conda/lib/python3.11/site-packages (from aiohttp->datasets) (1.4.1)\n",
      "Requirement already satisfied: multidict<7.0,>=4.5 in /opt/conda/lib/python3.11/site-packages (from aiohttp->datasets) (6.0.5)\n",
      "Requirement already satisfied: yarl<2.0,>=1.0 in /opt/conda/lib/python3.11/site-packages (from aiohttp->datasets) (1.9.4)\n",
      "Requirement already satisfied: typing-extensions>=3.7.4.3 in /opt/conda/lib/python3.11/site-packages (from huggingface-hub>=0.21.2->datasets) (4.10.0)\n",
      "Requirement already satisfied: charset-normalizer<4,>=2 in /opt/conda/lib/python3.11/site-packages (from requests>=2.32.2->datasets) (3.3.2)\n",
      "Requirement already satisfied: idna<4,>=2.5 in /opt/conda/lib/python3.11/site-packages (from requests>=2.32.2->datasets) (3.6)\n",
      "Requirement already satisfied: urllib3<3,>=1.21.1 in /opt/conda/lib/python3.11/site-packages (from requests>=2.32.2->datasets) (2.2.1)\n",
      "Requirement already satisfied: certifi>=2017.4.17 in /opt/conda/lib/python3.11/site-packages (from requests>=2.32.2->datasets) (2024.2.2)\n",
      "Requirement already satisfied: python-dateutil>=2.8.1 in /opt/conda/lib/python3.11/site-packages (from pandas->datasets) (2.9.0)\n",
      "Requirement already satisfied: pytz>=2020.1 in /opt/conda/lib/python3.11/site-packages (from pandas->datasets) (2024.1)\n",
      "Requirement already satisfied: six>=1.5 in /opt/conda/lib/python3.11/site-packages (from python-dateutil>=2.8.1->pandas->datasets) (1.16.0)\n"
     ]
    }
   ],
   "source": [
    "!pip install datasets"
   ]
  },
  {
   "cell_type": "code",
   "execution_count": 2,
   "id": "2b73eba5-ff7e-464a-9f32-4599d88ca5e0",
   "metadata": {},
   "outputs": [],
   "source": [
    "# Define Imports\n",
    "import json\n",
    "\n",
    "import requests\n",
    "import torch\n",
    "import pickle\n",
    "import torch.utils.data as data\n",
    "from torch.utils.data import Dataset, DataLoader\n",
    "from transformers import BertTokenizer\n",
    "from datasets import load_dataset\n",
    "import os\n",
    "from concurrent.futures import ThreadPoolExecutor, as_completed\n",
    "from transformers import AutoTokenizer\n"
   ]
  },
  {
   "cell_type": "code",
   "execution_count": 3,
   "id": "a2ab1d1e-a056-473f-8c78-8a0aae193c53",
   "metadata": {},
   "outputs": [],
   "source": [
    "from datasets import load_dataset\n",
    "dataset = load_dataset('enwik8')['train']"
   ]
  },
  {
   "cell_type": "code",
   "execution_count": 4,
   "id": "14a6087c-c483-4779-8262-532197a28e52",
   "metadata": {},
   "outputs": [],
   "source": [
    "from bs4 import BeautifulSoup\n",
    "\n",
    "def remove_xml_tags(example):\n",
    "    soup = BeautifulSoup(example['text'], 'lxml')\n",
    "    text_content = soup.get_text()\n",
    "    return {'text': text_content}\n"
   ]
  },
  {
   "cell_type": "code",
   "execution_count": 5,
   "id": "fd429547-a9c5-4aa7-b916-492b61d3e68b",
   "metadata": {},
   "outputs": [],
   "source": [
    "filtered_dataset = dataset.map(remove_xml_tags)\n"
   ]
  },
  {
   "cell_type": "code",
   "execution_count": 6,
   "id": "3be21ccb-1ddf-439a-99c2-c3861a4a4c86",
   "metadata": {},
   "outputs": [
    {
     "name": "stdout",
     "output_type": "stream",
     "text": [
      "{'text': ['', '', 'Wikipedia', 'http://en.wikipedia.org/wiki/Main_Page', 'MediaWiki 1.6alpha', 'first-letter', '', 'Media', 'Special', '', 'Talk', 'User', 'User talk', 'Wikipedia', 'Wikipedia talk', 'Image', 'Image talk', 'MediaWiki', 'MediaWiki talk', 'Template', 'Template talk', 'Help', 'Help talk', 'Category', 'Category talk', 'Portal', 'Portal talk', '', '', '', 'AaA', '1', '', '32899315', '2005-12-27T18:46:47Z', '', 'Jsmethers', '614213', '', '#REDIRECT [[AAA]]', '', '', '', 'AlgeriA', '5', '', '18063769', '2005-07-03T11:13:13Z', '', 'Docu', '8029', '', '', 'adding cur_id=5: {{R from CamelCase}}', '#REDIRECT [[Algeria]]{{R from CamelCase}}', '', '', '', 'AmericanSamoa', '6', '', '18063795', '2005-07-03T11:14:17Z', '', 'Docu', '8029', '', '', 'adding to cur_id=6  {{R from CamelCase}}', '#REDIRECT [[American Samoa]]{{R from CamelCase}}', '', '', '', 'AppliedEthics', '8', '', '15898943', '2002-02-25T15:43:11Z', '', 'Conversion script', '', '', 'Automated conversion', '#REDIRECT [[Applied ethics]]', '', '', '', '', 'AccessibleComputing', '10', '', '15898945', '2003-04-25T22:18:38Z', '', 'Ams80', '7543', '', '', 'Fixing redirect', '#REDIRECT [[Accessible_computing]]', '', '', '', 'AdA', '11', '', '15898946', '2002-09-22T16:02:58Z', '', 'Andre Engels', '300', '', '', '#REDIRECT [[Ada programming language]]', '', '', '', 'Anarchism', '12', '', '42136831', '2006-03-04T01:41:25Z', '', 'CJames745', '832382', '', '', '/* Anarchist Communism */  too many brackets', '{{Anarchism}}', '\\'\\'\\'Anarchism\\'\\'\\' originated as a term of abuse first used against early [[working class]] [[radical]]s including the [[Diggers]] of the [[English Revolution]] and the [[sans-culotte|\\'\\'sans-culottes\\'\\']] of the [[French Revolution]].[http://uk.encarta.msn.com/encyclopedia_761568770/Anarchism.html] Whilst the term is still used in a pejorative way to describe \\'\\'\"any act that used violent means to destroy the organization of society\"\\'\\'<ref>[http://www.cas.sc.edu/socy/faculty/deflem/zhistorintpolency.html History of International Police Cooperation], from the final protocols of the \"International Conference of Rome for the Social Defense Against Anarchists\", 1898</ref>, it has also been taken up as a positive label by self-defined anarchists.', '', 'The word \\'\\'\\'anarchism\\'\\'\\' is [[etymology|derived from]] the [[Greek language|Greek]] \\'\\'[[Wiktionary:&#945;&#957;&#945;&#961;&#967;&#943;&#945;|&#945;&#957;&#945;&#961;&#967;&#943;&#945;]]\\'\\' (\"without [[archon]]s (ruler, chief, king)\"). Anarchism as a [[political philosophy]], is the belief that \\'\\'rulers\\'\\' are unnecessary and should be abolished, although there are differing interpretations of what this means. Anarchism also refers to related [[social movement]]s) that advocate the elimination of authoritarian institutions, particularly the [[state]].<ref>[http://en.wikiquote.org/wiki/Definitions_of_anarchism Definitions of anarchism] on Wikiquote, accessed 2006</ref> The word \"[[anarchy]],\" as most anarchists use it, does not imply [[chaos]], [[nihilism]], or [[anomie]], but rather a harmonious [[anti-authoritarian]] society. In place of what are regarded as authoritarian political structures and coercive economic institutions, anarchists advocate social relations based upon [[voluntary association]] of autonomous individuals, [[mutual aid]], and [[self-governance]].', '', 'While anarchism is most easily defined by what it is against, anarchists also offer positive visions of what they believe to be a truly free society. However, ideas about how an anarchist society might work vary considerably, especially with respect to economics; there is also disagreement about how a free society might be brought about.', '', '== Origins and predecessors ==', '', '[[Peter Kropotkin|Kropotkin]], and others, argue that before recorded [[history]], human society was organized on anarchist principles.<ref>[[Peter Kropotkin|Kropotkin]], Peter. \\'\\'\"[[Mutual Aid: A Factor of Evolution]]\"\\'\\', 1902.</ref> Most anthropologists follow Kropotkin and Engels in believing that hunter-gatherer bands were egalitarian and lacked division of labour, accumulated wealth, or decreed law, and had equal access to resources.<ref>[[Friedrich Engels|Engels]], Freidrich. \\'\\'\"[http://www.marxists.org/archive/marx/works/1884/origin-family/index.htm Origins of the Family, Private Property, and the State]\"\\'\\', 1884.</ref>', '[[Image:WilliamGodwin.jpg|thumb|right|150px|William Godwin]]', '', 'Anarchists including the [[The Anarchy Organisation]] and [[Murray Rothbard|Rothbard]] find anarchist attitudes in [[Taoism]] from [[History of China|Ancient China]].<ref>The Anarchy Organization (Toronto). \\'\\'Taoism and Anarchy.\\'\\' [[April 14]] [[2002]] [http://www.toxicpop.co.uk/library/taoism.htm Toxicpop mirror] [http://www.geocities.com/SoHo/5705/taoan.html Vanity site mirror]</ref><ref>[[Murray Rothbard|Rothbard]], Murray. \\'\\'\"[http://www.lewrockwell.com/rothbard/ancient-chinese.html The Ancient Chinese Libertarian Tradition]\"\\'\\', an extract from \\'\\'\"[http://www.mises.org/journals/jls/9_2/9_2_3.pdf Concepts of the Role of Intellectuals in Social Change Toward Laissez Faire]\"\\'\\', The Journal of Libertarian Studies, 9 (2) Fall 1990.</ref> [[Peter Kropotkin|Kropotkin]] found similar ideas in [[stoicism|stoic]] [[Zeno of Citium]]. According to Kropotkin, Zeno \"repudiated the omnipotence of the state, its intervention and regimentation, and proclaimed the sovereignty of the moral law of the individual\". <ref>[http://www.blackcrayon.com/page.jsp/library/britt1910.html Anarchism], written by Peter Kropotkin, from Encyclopaedia Britannica, 1910]</ref>', '', 'The [[Anabaptist]]s of 16th century Europe are sometimes considered to be religious forerunners of modern anarchism. [[Bertrand Russell]], in his \\'\\'History of Western Philosophy\\'\\', writes that the Anabaptists \"repudiated all law, since they held that the good man will be guided at every moment by [[the Holy Spirit]]...[f]rom this premise they arrive at [[communism]]....\"<ref>[[Bertrand Russell|Russell]], Bertrand. \\'\\'\"Ancient philosophy\"\\'\\' in \\'\\'A History of Western Philosophy, and its connection with political and social circumstances from the earliest times to the present day\\'\\', 1945.</ref> [[Diggers (True Levellers)|The Diggers]] or \"True Levellers\" were an early communistic movement during the time of the [[English Civil War]], and are considered by some as forerunners of modern anarchism.<ref>[http://www.zpub.com/notes/aan-hist.html An Anarchist Timeline], from Encyclopaedia Britannica, 1994.</ref>', '', 'In the [[modern era]], the first to use the term to mean something other than chaos was [[Louis-Armand de Lom d\\'Arce de Lahontan, Baron de Lahontan|Louis-Armand, Baron de Lahontan]] in his \\'\\'Nouveaux voyages dans l\\'Amérique septentrionale\\'\\', (1703), where he described the [[Native Americans in the United States|indigenous American]] society, which had no state, laws, prisons, priests, or private property, as being in anarchy<ref>[http://etext.lib.virginia.edu/cgi-local/DHI/dhi.cgi?id=dv1-12 Dictionary of the History of Ideas - ANARCHISM]</ref>. [[Russell Means]], a [[libertarian]] and leader in the [[American Indian Movement]], has repeatedly stated that he is \"an anarchist, and so are all [his] ancestors.\"', '', 'In 1793, in the thick of the [[French Revolution]], [[William Godwin]] published \\'\\'An Enquiry Concerning Political Justice\\'\\' [http://web.bilkent.edu.tr/Online/www.english.upenn.edu/jlynch/Frank/Godwin/pjtp.html]. Although Godwin did not use the word \\'\\'anarchism\\'\\', many later anarchists have regarded this book as the first major anarchist text, and Godwin as the \"founder of philosophical anarchism.\" But at this point no anarchist movement yet existed, and the term \\'\\'anarchiste\\'\\' was known mainly as an insult hurled by the [[bourgeois]] [[Girondins]] at more radical elements in the [[French revolution]].', '', '==The first self-labelled anarchist==', '[[Image:Pierre_Joseph_Proudhon.jpg|110px|thumb|left|Pierre Joseph Proudhon]]', '{{main articles|[[Pierre-Joseph Proudhon]] and [[Mutualism (economic theory)]]}}', '', 'It is commonly held that it wasn\\'t until [[Pierre-Joseph Proudhon]] published \\'\\'[[What is Property?]]\\'\\' in 1840 that the term \"anarchist\" was adopted as a self-description. It is for this reason that some claim Proudhon as the founder of modern anarchist theory. In [[What is Property?]] Proudhon answers with the famous accusation \"[[Property is theft]].\" In this work he opposed the institution of decreed \"property\" (propriété), where owners have complete rights to \"use and abuse\" their property as they wish, such as exploiting workers for profit.<ref name=\"proudhon-prop\">[[Pierre-Joseph Proudhon|Proudhon]], Pierre-Joseph. \\'\\'\"[http://www.marxists.org/reference/subject/economics/proudhon/property/ch03.htm Chapter 3. Labour as the efficient cause of the domain of property]\"\\'\\' from \\'\\'\"[[What is Property?]]\"\\'\\', 1840</ref> In its place Proudhon supported what he called \\'possession\\' - individuals can have limited rights to use resources, capital and goods in accordance with principles of equality and justice.', '', \"Proudhon's vision of anarchy, which he called [[mutualism]] (mutuellisme), involved an exchange economy where individuals and groups could trade the products of their labor using ''labor notes'' which represented the amount of working time involved in production. This would ensure that no one would profit from the labor of others. Workers could freely join together in co-operative workshops. An interest-free bank would be set up to provide everyone with access to the means of production. Proudhon's ideas were influential within French working class movements, and his followers were active in the [[Revolution of 1848]] in France.\", '', \"Proudhon's philosophy of property is complex: it was developed in a number of works over his lifetime, and there are differing interpretations of some of his ideas. ''For more detailed discussion see [[Pierre-Joseph Proudhon|here]].''\", '', \"==Max Stirner's Egoism==\", '{{main articles|[[Max Stirner]] and [[Egoism]]}}', '', 'In his \\'\\'The Ego and Its Own\\'\\' Stirner argued that most commonly accepted social institutions - including the notion of State, property as a right, natural rights in general, and the very notion of society - were mere illusions or \\'\\'ghosts\\'\\' in the mind, saying of society  that \"the individuals are its reality.\" He advocated egoism and a form of amoralism, in which individuals would unite in \\'associations of egoists\\' only when it was in their self interest to do so.  For him, property simply comes about through might: \"Whoever knows how to take, to defend, the thing, to him belongs property.\" And, \"What I have in my power, that is my own. So long as I assert myself as holder, I am the proprietor of the thing.\"', '', \"Stirner never called himself an anarchist - he accepted only the label 'egoist'. Nevertheless, his ideas were influential on many individualistically-inclined anarchists, although interpretations of his thought are diverse.\", '', '==American individualist anarchism==', '[[Image:BenjaminTucker.jpg|thumb|150px|left|[[Benjamin Tucker]]]]', '{{main articles|[[Individualist anarchism]] and [[American individualist anarchism]]}}', '', 'In 1825 [[Josiah Warren]] had participated in a [[communitarian]] experiment headed by [[Robert Owen]] called [[New Harmony]], which failed in a few years amidst much internal conflict. Warren blamed the community\\'s failure on a lack of [[individual sovereignty]] and a lack of private property.  Warren proceeded to organise experimenal anarchist communities which respected what he called \"the sovereignty of the individual\" at [[Utopia (anarchist community)|Utopia]] and [[Modern Times]]. In 1833 Warren wrote and published \\'\\'The Peaceful Revolutionist\\'\\', which some have noted to be the first anarchist periodical ever published. Benjamin Tucker says that Warren \"was the first man to expound and formulate the doctrine now known as Anarchism.\" (\\'\\'Liberty\\'\\' XIV (December, 1900):1)', '', '[[Benjamin Tucker]] became interested in anarchism through meeting Josiah Warren and [[William B. Greene]]. He edited and published \\'\\'Liberty\\'\\' from August 1881 to April 1908; it is widely considered to be the finest individualist-anarchist periodical ever issued in the English language.  Tucker\\'s conception of individualist anarchism incorporated the ideas of a variety of theorists: Greene\\'s ideas on [[mutualism|mutual banking]]; Warren\\'s ideas on [[cost the limit of price|cost as the limit of price]] (a [[heterodox economics|heterodox]] variety of [[labour theory of value]]); [[Proudhon]]\\'s market anarchism; [[Max Stirner]]\\'s [[egoism]]; and, [[Herbert Spencer]]\\'s \"law of equal freedom\".  Tucker strongly supported the individual\\'s right to own the product of his or her labour as \"[[private property]]\", and believed in a <ref name=\"tucker-pay\">[[Benjamin Tucker|Tucker]], Benjamin. \\'\\'\"[http://www.blackcrayon.com/page.jsp/library/tucker/tucker37.htm Labor and Its Pay]\"\\'\\' Individual Liberty: Selections From the Writings of Benjamin R. Tucker, Vanguard Press, New York, 1926, Kraus Reprint Co., Millwood, NY, 1973.</ref>[[market economy]] for trading this property. He argued that in a truly free market system without the state, the abundance of  competition would eliminate profits and ensure that all workers received the full value of their labor.', '', 'Other 19th century individualists included [[Lysander Spooner]], [[Stephen Pearl Andrews]], and [[Victor Yarros]].', '', '==The First International==', '[[Image:Bakuninfull.jpg|thumb|150px|right|[[Bakunin|Mikhail Bakunin 1814-1876]]]]', \"{{main articles|[[International Workingmen's Association]], [[Anarchism and Marxism]]}}\", '', \"In Europe, harsh reaction followed the revolutions of 1848. Twenty years later in 1864 the [[International Workingmen's Association]], sometimes called the 'First International', united some diverse European revolutionary currents including anarchism. Due to its genuine links to active workers movements the International became signficiant.\", '', 'From the start [[Karl Marx]] was a leading figure in the International: he was elected to every succeeding General Council of the association.   The first objections to Marx came from the [[Mutualism|Mutualists]] who opposed communism and statism.  Shortly after [[Mikhail Bakunin]] and his followers joined in 1868, the First International became polarised into two camps, with Marx and Bakunin as their respective figureheads. The clearest difference between the camps was over strategy. The anarchists around Bakunin favoured (in Kropotkin\\'s words) \"direct economical struggle against capitalism, without interfering in the political parliamentary agitation.\"  At that time Marx and his followers focused on parliamentary activity.', '', 'Bakunin characterised Marx\\'s ideas as [[authoritarian]], and predicted that if a Marxist party gained to power its leaders would end up as bad as the [[ruling class]] they had fought against.<ref>[[Mikhail Bakunin|Bakunin]], Mikhail. \\'\\'\"[http://www.litencyc.com/php/adpage.php?id=1969 Statism and Anarchy]\"\\'\\'</ref> In 1872 the conflict climaxed with a final split between the two groups at the [[Hague Congress (1872)|Hague Congress]]. This is often cited as the origin of the [[Anarchist_objections_to_marxism|conflict between anarchists and Marxists]]. From this moment the \\'\\'[[Social democracy|social democratic]]\\'\\' and \\'\\'[[Libertarian socialism|libertarian]]\\'\\' currents of socialism had distinct organisations including rival [[List of left-wing internationals|\\'internationals\\'.]]', '', '==Anarchist Communism==', '{{main|Anarchist communism}}', '[[Image:PeterKropotkin.jpg|thumb|150px|right|Peter Kropotkin]]', '', 'Proudhon and Bakunin both opposed [[communism]], associating it with statism. However, in the 1870s many anarchists moved away from Bakunin\\'s economic thinking (called \"collectivism\") and embraced communist concepts. Communists believed the means of production should be owned collectively, and that goods be distributed by need, not labor. [http://nefac.net/node/157]', '', 'An early anarchist communist was Joseph Déjacque, the first person to describe himself as \"[[libertarian socialism|libertarian]]\".[http://recollectionbooks.com/bleed/Encyclopedia/DejacqueJoseph.htm]<ref>[http://joseph.dejacque.free.fr/ecrits/lettreapjp.htm De l\\'être-humain mâle et femelle - Lettre à P.J. Proudhon par Joseph Déjacque] (in [[French language|French]])</ref> Unlike Proudhon, he argued that \"it is not the product of his or her labor that the worker has a right to, but to the satisfaction of his or her needs, whatever may be their nature.\" He announced his ideas in his US published journal Le Libertaire (1858-1861).', '', \"Peter Kropotkin, often seen as the most important theorist, outlined his economic ideas in The Conquest of Bread and Fields, Factories and Workshops. He felt co-operation is more beneficial than competition, illustrated in nature in Mutual Aid: A Factor of Evolution (1897). Subsequent anarchist communists include Emma Goldman and Alexander Berkman. Many in the anarcho-syndicalist movements (see below) saw anarchist communism as their objective. Isaac Puente's 1932 Comunismo Libertario was adopted by the Spanish CNT as its manifesto for a post-revolutionary society.\", '', 'Some anarchists disliked merging communism with anarchism. Several individualist anarchists maintained that abolition of private property was not consistent with liberty. For example, Benjamin Tucker, whilst professing respect for Kropotkin and publishing his work[http://www.zetetics.com/mac/libdebates/apx1pubs.html], described communist anarchism as \"pseudo-anarchism\".<ref name=\"tucker-pay\"/>', '', '==Propaganda of the deed==', '[[Image:JohannMost.jpg|left|150px|thumb|[[Johann Most]] was an outspoken advocate of violence]]', '{{main|Propaganda of the deed}}', '', \"Anarchists have often been portrayed as dangerous and violent, due mainly to a number of high-profile violent acts, including [[riot]]s, [[assassination]]s, [[insurrection]]s, and [[terrorism]] by some anarchists. Some [[revolution]]aries of the late 19th century encouraged acts of political violence,  such as [[bomb]]ings and the [[assassination]]s of [[head of state|heads of state]] to further anarchism. Such actions have sometimes been called '[[propaganda by the deed]]'.\", '', 'One of the more outspoken advocates of this strategy was [[Johann Most]], who said \"the existing system will be quickest and most radically overthrown by the annihilation of its exponents. Therefore, massacres of the enemies of the people must be set in motion.\"{{fact}} Most\\'s preferred method of terrorism, dynamite, earned him the moniker \"Dynamost.\"', '', 'However, there is no [[consensus]] on the legitimacy or utility of violence in general. [[Mikhail Bakunin]] and [[Errico Malatesta]], for example, wrote of violence as a necessary and sometimes desirable force in revolutionary settings. But at the same time, they denounced acts of individual terrorism. (Malatesta in \"On Violence\" and Bakunin when he refuted Nechaev).', '', \"Other anarchists, sometimes identified as [[anarcho-pacifists|pacifist anarchists]], advocated complete [[nonviolence]]. [[Leo Tolstoy]], whose philosophy is often viewed as a form of [[Christian anarchism|Christian anarchism]] ''(see below)'', was a notable exponent of [[nonviolent resistance]].\", '', '==Anarchism in the labour movement==', '{{seealso|Anarcho-syndicalism}}', '', '[[Image:Flag of Anarcho syndicalism.svg|thumb|175px|The red-and-black flag, coming from the experience of anarchists in the labour movement, is particularly associated with anarcho-syndicalism.]]', '', '[[Anarcho-syndicalism]] was an early 20th century working class movement seeking to overthrow capitalism and the state to institute a worker controlled society. The movement pursued [[industrial action]]s, such as [[general strike]], as a primary strategy. Many anarcho-syndicalists believed in [[anarchist communism]], though not all communists believed in syndicalism.', '', \"After the [[Paris Commune|1871 repression]] French anarchism reemerged, influencing the ''Bourses de Travails'' of autonomous workers groups and trade unions. From this movement the [[Confédération Générale du Travail]] (General Confederation of Work, CGT) was formed in 1895 as the first major anarcho-syndicalist movement. [[Emile Pataud]] and [[Emile Pouget]]'s writing for the CGT saw [[libertarian communism]] developing from a [[general strike]].  After 1914 the CGT moved away from anarcho-syndicalism due to the appeal of [[Bolshevism]].  French-style syndicalism was a significant movement in Europe prior to 1921, and remained a significant movement in Spain until the mid 1940s.\", '', 'The [[Industrial Workers of the World]] (IWW), founded in 1905 in the US, espoused [[industrial unionism|unionism]] and sought a [[general strike]] to usher in a stateless society. In 1923 100,000 members existed, with the support of up to 300,000. Though not explicitly anarchist, they organized by rank and file democracy, embodying a spirit of resistance that has inspired many Anglophone syndicalists.', '']}\n"
     ]
    }
   ],
   "source": [
    "print(filtered_dataset[:220])"
   ]
  },
  {
   "cell_type": "code",
   "execution_count": 7,
   "id": "a24719dc-5d7c-4ff7-bb46-0e16bc8372fa",
   "metadata": {},
   "outputs": [],
   "source": [
    "def join_to_length(data, target_length):\n",
    "    joined_data = []\n",
    "    temp_str = ''\n",
    "    for entry in data:\n",
    "        temp_str += entry\n",
    "        if len(temp_str) >= target_length:\n",
    "            joined_data.append(temp_str[:target_length])\n",
    "            temp_str = temp_str[target_length:]\n",
    "    if temp_str:  # add remaining string if it's not empty\n",
    "        joined_data.append(temp_str)\n",
    "    return joined_data"
   ]
  },
  {
   "cell_type": "code",
   "execution_count": 8,
   "id": "c727c276-0b0f-4495-93e3-ec1b08d0edec",
   "metadata": {},
   "outputs": [],
   "source": [
    "train_dataset = join_to_length(filtered_dataset['text'],500)"
   ]
  },
  {
   "cell_type": "code",
   "execution_count": 9,
   "id": "b5eb6829-d5a7-4fcd-bd69-530a251dc724",
   "metadata": {},
   "outputs": [
    {
     "name": "stdout",
     "output_type": "stream",
     "text": [
      "186380\n"
     ]
    }
   ],
   "source": [
    "print(len(train_dataset))"
   ]
  },
  {
   "cell_type": "code",
   "execution_count": 10,
   "id": "b74adee8-c237-4ff2-b40e-1394fb41cc36",
   "metadata": {},
   "outputs": [],
   "source": [
    "train_split = int(0.9 * len(train_dataset))\n",
    "validation_split = int(0.95 * len(train_dataset))\n",
    "test_split = len(train_dataset)"
   ]
  },
  {
   "cell_type": "code",
   "execution_count": 11,
   "id": "bd3d4e3c-1a37-4cd4-bea5-2859dd215dc4",
   "metadata": {},
   "outputs": [],
   "source": [
    "train_data = train_dataset[:train_split]\n",
    "validation_data = train_dataset[train_split:validation_split]\n",
    "test_data = train_dataset[validation_split:test_split]"
   ]
  },
  {
   "cell_type": "code",
   "execution_count": 12,
   "id": "49c69e9a-fa9a-4d70-87ef-1deabc4a5d4d",
   "metadata": {},
   "outputs": [
    {
     "name": "stdout",
     "output_type": "stream",
     "text": [
      "167742 9319 9319\n"
     ]
    }
   ],
   "source": [
    "print(len(train_data),len(validation_data),len(test_data))"
   ]
  },
  {
   "cell_type": "code",
   "execution_count": 13,
   "id": "ec4edaab-7025-4b87-b611-647863b748e5",
   "metadata": {},
   "outputs": [],
   "source": [
    "tokenizer = AutoTokenizer.from_pretrained(\"google/byt5-small\")"
   ]
  },
  {
   "cell_type": "code",
   "execution_count": 14,
   "id": "c4be6643-b1b8-4e10-b595-d83022e76eab",
   "metadata": {},
   "outputs": [],
   "source": [
    "def tokenize_item(item):\n",
    "    src = tokenizer(item[:100], max_length=400, padding=\"max_length\", truncation=True, return_tensors=\"pt\")\n",
    "    trgt = tokenizer(item[100:], max_length=400, padding=\"max_length\", truncation=True, return_tensors=\"pt\")\n",
    "    return src['input_ids'],trgt['input_ids']"
   ]
  },
  {
   "cell_type": "code",
   "execution_count": 15,
   "id": "ebe565da-0c92-487b-aecf-d01801d0bae5",
   "metadata": {},
   "outputs": [
    {
     "data": {
      "text/plain": [
       "(tensor([[117, 114, 112,  35,  70, 100, 112, 104, 111,  70, 100, 118, 104, 128,\n",
       "          128,  38,  85,  72,  71,  76,  85,  72,  70,  87,  35,  94,  94,  68,\n",
       "          112, 104, 117, 108, 102, 100, 113,  35,  86, 100, 112, 114, 100,  96,\n",
       "           96, 126, 126,  85,  35, 105, 117, 114, 112,  35,  70, 100, 112, 104,\n",
       "          111,  70, 100, 118, 104, 128, 128,  68, 115, 115, 111, 108, 104, 103,\n",
       "           72, 119, 107, 108, 102, 118,  59,  52,  56,  59,  60,  59,  60,  55,\n",
       "           54,  53,  51,  51,  53,  48,  51,  53,  48,  53,  56,  87,  52,  56,\n",
       "           61,  55,   1,   0,   0,   0,   0,   0,   0,   0,   0,   0,   0,   0,\n",
       "            0,   0,   0,   0,   0,   0,   0,   0,   0,   0,   0,   0,   0,   0,\n",
       "            0,   0,   0,   0,   0,   0,   0,   0,   0,   0,   0,   0,   0,   0,\n",
       "            0,   0,   0,   0,   0,   0,   0,   0,   0,   0,   0,   0,   0,   0,\n",
       "            0,   0,   0,   0,   0,   0,   0,   0,   0,   0,   0,   0,   0,   0,\n",
       "            0,   0,   0,   0,   0,   0,   0,   0,   0,   0,   0,   0,   0,   0,\n",
       "            0,   0,   0,   0,   0,   0,   0,   0,   0,   0,   0,   0,   0,   0,\n",
       "            0,   0,   0,   0,   0,   0,   0,   0,   0,   0,   0,   0,   0,   0,\n",
       "            0,   0,   0,   0,   0,   0,   0,   0,   0,   0,   0,   0,   0,   0,\n",
       "            0,   0,   0,   0,   0,   0,   0,   0,   0,   0,   0,   0,   0,   0,\n",
       "            0,   0,   0,   0,   0,   0,   0,   0,   0,   0,   0,   0,   0,   0,\n",
       "            0,   0,   0,   0,   0,   0,   0,   0,   0,   0,   0,   0,   0,   0,\n",
       "            0,   0,   0,   0,   0,   0,   0,   0,   0,   0,   0,   0,   0,   0,\n",
       "            0,   0,   0,   0,   0,   0,   0,   0,   0,   0,   0,   0,   0,   0,\n",
       "            0,   0,   0,   0,   0,   0,   0,   0,   0,   0,   0,   0,   0,   0,\n",
       "            0,   0,   0,   0,   0,   0,   0,   0,   0,   0,   0,   0,   0,   0,\n",
       "            0,   0,   0,   0,   0,   0,   0,   0,   0,   0,   0,   0,   0,   0,\n",
       "            0,   0,   0,   0,   0,   0,   0,   0,   0,   0,   0,   0,   0,   0,\n",
       "            0,   0,   0,   0,   0,   0,   0,   0,   0,   0,   0,   0,   0,   0,\n",
       "            0,   0,   0,   0,   0,   0,   0,   0,   0,   0,   0,   0,   0,   0,\n",
       "            0,   0,   0,   0,   0,   0,   0,   0,   0,   0,   0,   0,   0,   0,\n",
       "            0,   0,   0,   0,   0,   0,   0,   0]]),\n",
       " tensor([[ 54,  61,  52,  52,  93,  70, 114, 113, 121, 104, 117, 118, 108, 114,\n",
       "          113,  35, 118, 102, 117, 108, 115, 119,  68, 120, 119, 114, 112, 100,\n",
       "          119, 104, 103,  35, 102, 114, 113, 121, 104, 117, 118, 108, 114, 113,\n",
       "           38,  85,  72,  71,  76,  85,  72,  70,  87,  35,  94,  94,  68, 115,\n",
       "          115, 111, 108, 104, 103,  35, 104, 119, 107, 108, 102, 118,  96,  96,\n",
       "           68, 102, 102, 104, 118, 118, 108, 101, 111, 104,  70, 114, 112, 115,\n",
       "          120, 119, 108, 113, 106,  52,  51,  52,  56,  59,  60,  59,  60,  55,\n",
       "           56,  53,  51,  51,  54,  48,  51,  55,  48,  53,  56,  87,  53,  53,\n",
       "           61,  52,  59,  61,  54,  59,  93,  68, 112, 118,  59,  51,  58,  56,\n",
       "           55,  54,  73, 108, 123, 108, 113, 106,  35, 117, 104, 103, 108, 117,\n",
       "          104, 102, 119,  38,  85,  72,  71,  76,  85,  72,  70,  87,  35,  94,\n",
       "           94,  68, 102, 102, 104, 118, 118, 108, 101, 111, 104,  98, 102, 114,\n",
       "          112, 115, 120, 119, 108, 113, 106,  96,  96,  68, 103,  68,  52,  52,\n",
       "           52,  56,  59,  60,  59,  60,  55,  57,  53,  51,  51,  53,  48,  51,\n",
       "           60,  48,  53,  53,  87,  52,  57,  61,  51,  53,  61,  56,  59,  93,\n",
       "           68, 113, 103, 117, 104,  35,  72, 113, 106, 104, 111, 118,  54,  51,\n",
       "           51,  38,  85,  72,  71,  76,  85,  72,  70,  87,  35,  94,  94,  68,\n",
       "          103, 100,  35, 115, 117, 114, 106, 117, 100, 112, 112, 108, 113, 106,\n",
       "           35, 111, 100, 113, 106, 120, 100, 106, 104,  96,  96,  68, 113, 100,\n",
       "          117, 102, 107, 108, 118, 112,  52,  53,  55,  53,  52,  54,  57,  59,\n",
       "           54,  52,  53,  51,  51,  57,  48,  51,  54,  48,  51,  55,  87,  51,\n",
       "           52,  61,  55,  52,  61,  53,  56,  93,  70,  77, 100, 112, 104, 118,\n",
       "           58,  55,  56,  59,  54,  53,  54,  59,  53,  50,  45,  35,  68, 113,\n",
       "          100, 117, 102, 107, 108, 118, 119,  35,  70, 114, 112, 112, 120, 113,\n",
       "          108, 118, 112,  35,  45,  50,  35,  35, 119, 114, 114,  35, 112, 100,\n",
       "          113, 124,  35, 101, 117, 100, 102, 110, 104, 119, 118, 126, 126,  68,\n",
       "          113, 100, 117, 102, 107, 108, 118, 112, 128, 128,  42,  42,  42,  68,\n",
       "          113, 100, 117, 102, 107, 108, 118, 112,  42,  42,  42,  35, 114, 117,\n",
       "          108, 106, 108, 113, 100, 119, 104,   1]]))"
      ]
     },
     "execution_count": 15,
     "metadata": {},
     "output_type": "execute_result"
    }
   ],
   "source": [
    "tokenize_item(train_data[1])"
   ]
  },
  {
   "cell_type": "code",
   "execution_count": 16,
   "id": "73cf68d9-8811-4cf4-8533-0349dadac5bc",
   "metadata": {},
   "outputs": [],
   "source": [
    "# Imports for ByteNet\n",
    "import torch\n",
    "from torch.utils.data import Dataset\n",
    "from torch import nn\n",
    "from torch.nn import init\n",
    "import torch.nn.functional as F\n",
    "from torch.utils.data import DataLoader\n",
    "from tqdm import tqdm"
   ]
  },
  {
   "cell_type": "code",
   "execution_count": 17,
   "id": "3884c64d-e7c0-4286-b340-0e3612e77d54",
   "metadata": {},
   "outputs": [],
   "source": [
    "class MultiplicativeUnit(nn.Module):\n",
    "    def __init__(self, d, dilation, k, masked = True):\n",
    "        super(MultiplicativeUnit, self).__init__()\n",
    "        self.receptive_field = (k-1)*dilation\n",
    "        self.masked = masked\n",
    "        self.sig_conv_1 = nn.Conv1d(d, d, k, dilation = dilation)\n",
    "        self.sig_conv_2 = nn.Conv1d(d, d, k, dilation = dilation)\n",
    "        self.sig_conv_3 = nn.Conv1d(d, d, k, dilation = dilation)\n",
    "        self.tanh_conv_1 = nn.Conv1d(d, d, k, dilation = dilation)\n",
    "\n",
    "        # 100 input tokens\n",
    "        self.layer_norm1 = nn.LayerNorm(400)\n",
    "        self.layer_norm2 = nn.LayerNorm(400)\n",
    "        self.layer_norm3 = nn.LayerNorm(400)\n",
    "        self.layer_norm4 = nn.LayerNorm(400)\n",
    "        \n",
    "    def forward(self,x):\n",
    "        residual = x\n",
    "        # Multiplicative Unit Block\n",
    "        if self.receptive_field > 0 and self.masked:\n",
    "            x = F.pad(x, (self.receptive_field, 0))\n",
    "        sig_1 = torch.sigmoid(self.layer_norm1(self.sig_conv_1(x)))\n",
    "        sig_2 = torch.sigmoid(self.layer_norm2(self.sig_conv_2(x)))\n",
    "        sig_3 = torch.sigmoid(self.layer_norm3(self.sig_conv_3(x)))\n",
    "        tanh_1 = torch.tanh(self.layer_norm4(self.tanh_conv_1(x)))\n",
    "        sig_tanh = sig_2 * tanh_1\n",
    "        residual_sig = sig_3 * residual\n",
    "        mu_out = sig_1 * torch.tanh(sig_tanh+residual_sig)\n",
    "        # Multiplicative unit block end\n",
    "        # Add back the residual\n",
    "        mu_out = mu_out * residual\n",
    "        return mu_out\n"
   ]
  },
  {
   "cell_type": "code",
   "execution_count": 18,
   "id": "41b1194a-4c1f-4b52-b0ea-c8bead0104bd",
   "metadata": {},
   "outputs": [],
   "source": [
    "class ResidualBlockMu(nn.Module):\n",
    "    \"\"\"\n",
    "    Implementation of residual Layer for Bytenet machine translation task.\n",
    "\n",
    "    :param d: The number of input features.\n",
    "    :param dilation: The initial dilation rate for the convolution layers.\n",
    "    \"\"\"\n",
    "\n",
    "    def __init__(self, d, dilation, k):\n",
    "        super(ResidualBlockMu, self).__init__()\n",
    "        self.layer_norm_in = nn.LayerNorm(400)\n",
    "        self.conv_in_1 = nn.Conv1d(2*d,d,1)\n",
    "        self.layer_norm_in_2 = nn.LayerNorm(400)\n",
    "        # Multiplicative block\n",
    "        # d -> d\n",
    "        self.masked_mu = MultiplicativeUnit(d,dilation,k)\n",
    "        self.mu = MultiplicativeUnit(d,1,1, masked=False)\n",
    "        self.conv_out = nn.Conv1d(d,2*d,1)\n",
    "\n",
    "    def forward(self, x):\n",
    "        residual = x\n",
    "        x = self.layer_norm_in(x)\n",
    "        x = torch.nn.ReLU()(x)\n",
    "        x = self.conv_in_1(x)\n",
    "        x = self.layer_norm_in_2(x)\n",
    "        x = torch.nn.ReLU()(x)\n",
    "        x = self.masked_mu(x)\n",
    "        x = self.mu(x)\n",
    "        x = self.conv_out(x)\n",
    "        return x\n"
   ]
  },
  {
   "cell_type": "code",
   "execution_count": 19,
   "id": "8f8f694f-fd80-4573-a2a4-7ce8cdf4ff3a",
   "metadata": {},
   "outputs": [],
   "source": [
    "class HutterDataset(Dataset):\n",
    "    def __init__(self, data):\n",
    "        self.data = data\n",
    "\n",
    "    def __len__(self):\n",
    "        return len(self.data)\n",
    "\n",
    "    def __getitem__(self, idx):\n",
    "        item = self.data[idx]\n",
    "        src, trgt = tokenize_item(item)\n",
    "        return src, trgt\n"
   ]
  },
  {
   "cell_type": "code",
   "execution_count": 20,
   "id": "d300fd41-ea9c-475f-bef7-c07081ccf2d7",
   "metadata": {},
   "outputs": [],
   "source": [
    "train_dataset = HutterDataset(train_data)\n",
    "validation_dataset = HutterDataset(validation_data)\n",
    "test_dataset = HutterDataset(test_data)"
   ]
  },
  {
   "cell_type": "code",
   "execution_count": 21,
   "id": "548e5154-3f9c-4572-8089-12c450e4df6b",
   "metadata": {},
   "outputs": [],
   "source": [
    "batch_size = 16\n",
    "shuffle = True"
   ]
  },
  {
   "cell_type": "code",
   "execution_count": 22,
   "id": "b4244aab-0e51-4241-b13b-1da8be58b55b",
   "metadata": {},
   "outputs": [],
   "source": [
    "train_loader = DataLoader(train_dataset,batch_size=batch_size,shuffle=shuffle)\n",
    "validation_loader = DataLoader(validation_dataset,batch_size=batch_size,shuffle=shuffle)\n",
    "test_loader = DataLoader(test_dataset,batch_size=batch_size,shuffle=shuffle)"
   ]
  },
  {
   "cell_type": "code",
   "execution_count": 23,
   "id": "c3f486d0-4987-4b2f-a79b-6932908eb87f",
   "metadata": {},
   "outputs": [],
   "source": [
    "class ByteNetDecoder(nn.Module):\n",
    "    def __init__(self, vocab_size, embed_size=1024, d=512, n_sets = 6, set_size = 5, masked_kernel_size=3, max_dilation_rate=16):\n",
    "        super(ByteNetDecoder, self).__init__()\n",
    "\n",
    "        self.embedding = nn.Embedding(vocab_size,embed_size)\n",
    "        self.layers = nn.Sequential()\n",
    "\n",
    "        for _ in range(n_sets):\n",
    "            dilation_rate = 1\n",
    "            for _ in range(set_size):\n",
    "                self.layers.append(ResidualBlockMu(d,dilation_rate if dilation_rate <= max_dilation_rate else max_dilation_rate, masked_kernel_size))\n",
    "                dilation_rate = dilation_rate * 2\n",
    "        self.layers.append(nn.Conv1d(d * 2, d, 1))\n",
    "        self.layers.append(nn.ReLU())\n",
    "        self.layers.append(nn.Conv1d(d, vocab_size, 1))\n",
    "        self.layers.append(nn.Dropout(p=0.1))\n",
    "    def forward(self,x):\n",
    "        embed_x = self.embedding(x).permute(0, 2, 1)\n",
    "        x = self.layers(embed_x)\n",
    "        return x"
   ]
  },
  {
   "cell_type": "code",
   "execution_count": 24,
   "id": "70fa2329-651f-42ac-abb0-898994f709f8",
   "metadata": {},
   "outputs": [],
   "source": [
    "device = 'cuda' if torch.cuda.is_available() else 'cpu'\n",
    "decoder = ByteNetDecoder(len(tokenizer.get_vocab())).to(device)\n",
    "criterion = nn.CrossEntropyLoss()\n",
    "optimizer = torch.optim.Adam(decoder.parameters(),lr = 0.0003, weight_decay=0.0001)"
   ]
  },
  {
   "cell_type": "code",
   "execution_count": 25,
   "id": "59fae4fd-c707-46d2-9cde-3df8a9339215",
   "metadata": {},
   "outputs": [],
   "source": [
    "num_epochs = 1"
   ]
  },
  {
   "cell_type": "code",
   "execution_count": null,
   "id": "1fe15e82-7450-4d87-a60a-8f21f95156bf",
   "metadata": {},
   "outputs": [
    {
     "name": "stderr",
     "output_type": "stream",
     "text": [
      "  0%|          | 1/10484 [00:02<8:23:18,  2.88s/it]"
     ]
    },
    {
     "name": "stdout",
     "output_type": "stream",
     "text": [
      "Epoch [1/1], Step [1/10484], Loss: 5.955323696136475\n"
     ]
    },
    {
     "name": "stderr",
     "output_type": "stream",
     "text": [
      "  0%|          | 26/10484 [01:00<6:27:04,  2.22s/it]"
     ]
    },
    {
     "name": "stdout",
     "output_type": "stream",
     "text": [
      "Epoch [1/1], Step [26/10484], Loss: 5.3454437255859375\n"
     ]
    },
    {
     "name": "stderr",
     "output_type": "stream",
     "text": [
      "  0%|          | 48/10484 [01:45<6:06:14,  2.11s/it]"
     ]
    }
   ],
   "source": [
    "for epoch in range(num_epochs):\n",
    "    for i, (ip,trgt) in tqdm(enumerate(train_loader), total=len(train_loader)):\n",
    "        decoder.train()\n",
    "        ip, trgt = ip.squeeze(1).to(device), trgt.squeeze(1).to(device)\n",
    "        out = decoder(ip)\n",
    "        loss = criterion(out,trgt)\n",
    "        optimizer.zero_grad()\n",
    "        loss.backward()\n",
    "        optimizer.step()\n",
    "        if i % 25 == 0:\n",
    "            tqdm.write(f'Epoch [{epoch + 1}/{num_epochs}], Step [{i + 1}/{len(train_loader)}], Loss: {loss.item()}')\n"
   ]
  },
  {
   "cell_type": "code",
   "execution_count": null,
   "id": "68d8ebfe-f9ef-440c-a595-58c67e60efdf",
   "metadata": {},
   "outputs": [],
   "source": [
    "torch.cuda.empty_cache()\n",
    "!nvidia-smi"
   ]
  }
 ],
 "metadata": {
  "kernelspec": {
   "display_name": "Python 3 (ipykernel)",
   "language": "python",
   "name": "python3"
  },
  "language_info": {
   "codemirror_mode": {
    "name": "ipython",
    "version": 3
   },
   "file_extension": ".py",
   "mimetype": "text/x-python",
   "name": "python",
   "nbconvert_exporter": "python",
   "pygments_lexer": "ipython3",
   "version": "3.11.8"
  }
 },
 "nbformat": 4,
 "nbformat_minor": 5
}
