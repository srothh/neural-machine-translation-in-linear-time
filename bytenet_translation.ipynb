{
 "cells": [
  {
   "cell_type": "markdown",
   "source": [
    "# Bytenet\n",
    "Implementation of the paper Neural Machine Translation in Linear Time (https://arxiv.org/pdf/1610.10099). The Bynet is a CNN based Encoder/Decoder Model used here for Sequence to Sequence Translation. The model is trained on a part of the WMT2014 english to german dataset."
   ],
   "metadata": {
    "collapsed": false
   },
   "id": "eb90835381221e48"
  },
  {
   "cell_type": "markdown",
   "source": [
    "### Data Preprocessing\n",
    "Data is loaded and tokenized in this step."
   ],
   "metadata": {
    "collapsed": false
   },
   "id": "794a8cb65fc8fc79"
  },
  {
   "cell_type": "code",
   "outputs": [],
   "source": [
    "# Define Imports\n",
    "import json\n",
    "\n",
    "import requests\n",
    "import torch\n",
    "import pickle\n",
    "import torch.utils.data as data\n",
    "from torch.utils.data import Dataset, DataLoader\n",
    "from transformers import BertTokenizer\n",
    "from datasets import load_dataset\n",
    "import os\n",
    "from concurrent.futures import ThreadPoolExecutor, as_completed\n",
    "from transformers import AutoTokenizer\n"
   ],
   "metadata": {
    "collapsed": false,
    "ExecuteTime": {
     "end_time": "2024-06-26T16:35:02.712874600Z",
     "start_time": "2024-06-26T16:34:55.201783100Z"
    }
   },
   "id": "1c3a272ad06be98f",
   "execution_count": 3
  },
  {
   "cell_type": "code",
   "outputs": [],
   "source": [
    "import requests\n",
    "\n",
    "\n",
    "class WMT19JSONLoader:\n",
    "    def __init__(self, file_path, source_lang='de', target_lang='en', max_length=128):\n",
    "        self.source_lang = source_lang\n",
    "        self.target_lang = target_lang\n",
    "        self.max_length = max_length\n",
    "        # self.tokenizer = BertTokenizer.from_pretrained(\"bert-base-multilingual-cased\")\n",
    "        self.file_path = file_path\n",
    "        self.tokenizer = AutoTokenizer.from_pretrained(\"google/byt5-small\")\n",
    "\n",
    "    def load_json_data(self, file_path):\n",
    "        \"\"\"\n",
    "        Function that loads the downloaded JSON file\n",
    "\n",
    "        :param file_path:\n",
    "        :return:\n",
    "        \"\"\"\n",
    "        loaded_data = []\n",
    "        with open(file_path, 'r', encoding='utf-8', errors='ignore') as f:\n",
    "            for line in f:\n",
    "                try:\n",
    "                    loaded_data.append(json.loads(line.strip()))\n",
    "                except json.JSONDecodeError as e:\n",
    "                    print(f\"Error when line is decoded: {e}\")\n",
    "        return loaded_data\n",
    "\n",
    "    def convert_to_tensor(self, src, trg):\n",
    "        \"\"\"\n",
    "        Checks if source and target are tensor\n",
    "        If both are not tensor, they are converted to tensors\n",
    "\n",
    "        :param src:\n",
    "        :param trg:\n",
    "        :return:\n",
    "        \"\"\"\n",
    "        if not torch.is_tensor(src):\n",
    "            src = torch.Tensor(src)\n",
    "        if not torch.is_tensor(trg):\n",
    "            trg = torch.tensor(trg, dtype=torch.int32)\n",
    "        return src, trg\n",
    "\n",
    "    def extract_source_target(self, load_data):\n",
    "        \"\"\"\n",
    "        Function that extracts out of the downloaded JSON the\n",
    "        german rows as source and the english rows as targets\n",
    "\n",
    "        :param load_data:\n",
    "        :param source_lang:\n",
    "        :param target_lang:\n",
    "        :return:\n",
    "        \"\"\"\n",
    "        source_texts = []\n",
    "        target_texts = []\n",
    "        for item in load_data:\n",
    "            if ('row' in item and 'translation' in item['row'] and\n",
    "                    self.source_lang in item['row']['translation'] and\n",
    "                    self.target_lang in item['row']['translation']):\n",
    "                source_texts.append(item['row']['translation'][self.source_lang])\n",
    "                target_texts.append(item['row']['translation'][self.target_lang])\n",
    "        return source_texts, target_texts\n",
    "\n",
    "    def tokenize_texts(self, texts):\n",
    "        \"\"\"\n",
    "        Function for tokenizing the text data\n",
    "        Uses BERT-Tokenizer as tokenizer model\n",
    "\n",
    "        :param texts:\n",
    "        :return:\n",
    "        \"\"\"\n",
    "        tokenized_texts = []\n",
    "        for text in texts:\n",
    "            tokens = self.tokenizer(text, max_length=self.max_length, padding=\"max_length\", truncation=True, return_tensors=\"pt\")\n",
    "            \n",
    "            tokenized_texts.append(tokens['input_ids'].squeeze())\n",
    "        return tokenized_texts\n",
    "\n",
    "    def load_and_tokenize(self, json_file_path):\n",
    "        \"\"\"\n",
    "        Function that does the load json data\n",
    "        and the tokenizing process\n",
    "\n",
    "        :param json_file_path:\n",
    "        \"\"\"\n",
    "        loaded_data = self.load_json_data(json_file_path)\n",
    "\n",
    "        source_texts, target_texts = self.extract_source_target(loaded_data)\n",
    "\n",
    "        # The tokenized source and targets\n",
    "        # self.tokenizer is a object of type transformers from the Bert model\n",
    "        # padding=\"max_length\": is used to fill sequence to maximal length\n",
    "        # truncation = True: Means that the sequence is cutted, if longer than max_length\n",
    "        # return_tensors=\"pt\": Means that a pytorch tensor is returned\n",
    "        # the source text is tokenized into smaller elements\n",
    "        tokenized_source_texts = self.tokenize_texts(source_texts)\n",
    "\n",
    "        # the target text is tokenized into smaller elements\n",
    "        tokenized_target_texts = self.tokenize_texts(target_texts)\n",
    "\n",
    "        #TODO: evetually squeeze as in WMTLoader\n",
    "\n",
    "        return tokenized_source_texts, tokenized_target_texts\n",
    "\n",
    "\n",
    "def download_data(offset, length):\n",
    "    \"\"\"\n",
    "    Method for downloading the dataset as JSON\n",
    "    F.e. if the first 10 rows have to be downloaded, offset has to\n",
    "    be 0 and length has to be 10\n",
    "\n",
    "    :param offset: The offset used in the url\n",
    "    :param length: The length of the selected number of rows in the dataset\n",
    "    :return:\n",
    "    \"\"\"\n",
    "    url = f\"https://datasets-server.huggingface.co/rows?dataset=wmt%2Fwmt19&config=de-en&split=train&offset={offset}&length={length}\"\n",
    "    query_parameters = {\"downloadformat\": \"json\"}\n",
    "    response = requests.get(url, params=query_parameters)\n",
    "    if response.status_code == 200:\n",
    "        loaded_data = response.json()\n",
    "        print(f\"Downloading dataset-offset: {offset}\")\n",
    "        return loaded_data['rows']\n",
    "    else:\n",
    "        print(f\"Error while downloading data: {response.status_code}\")\n",
    "        return []\n",
    "\n",
    "\n",
    "def save_data_to_json(load_data, file_path):\n",
    "    \"\"\"\n",
    "    Writes data into the JSON object\n",
    "\n",
    "    :param load_data: The data that has to be writen into file\n",
    "    :param file_path: The file path where the file has to be saved\n",
    "    \"\"\"\n",
    "    os.makedirs(os.path.dirname(file_path), exist_ok=True)\n",
    "    with open(file_path, 'a', encoding='utf-8') as f:\n",
    "        for item in load_data:\n",
    "            json.dump(item, f, ensure_ascii=False)\n",
    "            f.write('\\n')\n",
    "\n",
    "\n",
    "def download_batch_and_save(offset, length, output_file):\n",
    "    \"\"\"\n",
    "    Downloads and saves the batch\n",
    "\n",
    "    :param offset: The offset which is currently used to download\n",
    "    :param length: The length is defined with 100\n",
    "    :param output_file: The name of the file to be saved\n",
    "    \"\"\"\n",
    "    loaded_data = download_data(offset, length)\n",
    "    save_data_to_json(loaded_data, output_file)\n",
    "\n",
    "\n",
    "def download_entire_de_en_dataset(batch_size, output_dir, num_workers):\n",
    "    \"\"\"\n",
    "    Downloads the entire WMT19 dataset. Uses a ThreadPoolExecutor for\n",
    "    faster download of the dataset.\n",
    "\n",
    "    :param batch_size:\n",
    "    :param output_dir:\n",
    "    :param num_workers:\n",
    "    \"\"\"\n",
    "    offset = 0\n",
    "    output_file = os.path.join(output_dir, 'wmt_19_de_en.json')\n",
    "    with ThreadPoolExecutor(max_workers=num_workers) as executor:\n",
    "        offset = 0\n",
    "        futures = []\n",
    "        while True:\n",
    "            futures.append(executor.submit(download_batch_and_save, offset, batch_size, output_file))\n",
    "            offset += batch_size\n",
    "            # if offset >= 34800000:\n",
    "            # This controls how much of the dataset is actually downloaded\n",
    "            if offset >= 50000:\n",
    "                break\n",
    "\n",
    "        for future in as_completed(futures):\n",
    "            future.result()\n"
   ],
   "metadata": {
    "collapsed": true,
    "ExecuteTime": {
     "end_time": "2024-06-26T16:35:35.139247600Z",
     "start_time": "2024-06-26T16:35:35.132581500Z"
    }
   },
   "id": "initial_id",
   "execution_count": 6
  },
  {
   "cell_type": "markdown",
   "source": [
    "### ByteNet Model\n",
    "The following Cells implement the necessary parts of the ByteNet model. The model is made up of a number of sets of, each of which contains a number of residual blocks that apply LayerNorm and 1D Convolutions, which is further masked for the Decoder part of the Network."
   ],
   "metadata": {
    "collapsed": false
   },
   "id": "af5e56fee0d9e654"
  },
  {
   "cell_type": "code",
   "outputs": [],
   "source": [
    "# Imports for ByteNet\n",
    "import torch\n",
    "from torch.utils.data import Dataset\n",
    "from torch import nn\n",
    "from torch.nn import init\n",
    "import torch.nn.functional as F\n",
    "from torch.utils.data import DataLoader\n",
    "from tqdm import tqdm\n",
    "from data.data_loader import WMTLoader, WMT19JSONLoader, download_entire_de_en_dataset\n"
   ],
   "metadata": {
    "collapsed": false,
    "ExecuteTime": {
     "end_time": "2024-06-26T16:35:38.563092600Z",
     "start_time": "2024-06-26T16:35:37.476134600Z"
    }
   },
   "id": "1c87aa7aeddcd1c7",
   "execution_count": 7
  },
  {
   "cell_type": "code",
   "outputs": [],
   "source": [
    "class ResidualBlockReLu(nn.Module):\n",
    "    \"\"\"\n",
    "    Implementation of residual Layer for Bytenet machine translation task.\n",
    "\n",
    "    :param d: The number of input features.\n",
    "    :param dilation: The initial dilation rate for the convolution layers.\n",
    "    \"\"\"\n",
    "\n",
    "    def __init__(self, d, dilation, k, decoder=False):\n",
    "        super(ResidualBlockReLu, self).__init__()\n",
    "        self.decoder = decoder\n",
    "        self.layer_norm1 = nn.LayerNorm(128)\n",
    "        self.reLu1 = nn.ReLU()\n",
    "        # 2*d -> d\n",
    "        self.conv1 = nn.Conv1d(d * 2, d, 1)\n",
    "        self.layer_norm2 = nn.LayerNorm(128)\n",
    "        self.reLu2 = nn.ReLU()\n",
    "        # Masked kernel size is k\n",
    "        # Dilation only used for masked convolution\n",
    "        # d -> d\n",
    "        if decoder:\n",
    "            # Masked convolution basically means all padding on left side\n",
    "            self.receptive_field = (k - 1) * dilation\n",
    "            self.conv2 = nn.Conv1d(d, d, k, dilation=dilation)\n",
    "        else:\n",
    "            # Padding still needed to keep the size of the input and output the same\n",
    "            padding = (k - 1) * dilation // 2\n",
    "            if padding > 0:\n",
    "                self.conv2 = nn.Conv1d(d, d, k, dilation=dilation, padding=padding)\n",
    "            else:\n",
    "                self.conv2 = nn.Conv1d(d, d, k, dilation=dilation)\n",
    "        self.layer_norm3 = nn.LayerNorm(128)\n",
    "        self.reLu3 = nn.ReLU()\n",
    "        # d -> 2*d\n",
    "        self.conv3 = nn.Conv1d(d, d * 2, 1)\n",
    "\n",
    "    def forward(self, x):\n",
    "        residual = x\n",
    "        x = self.layer_norm1(x)\n",
    "        x = self.reLu1(x)\n",
    "        x = self.conv1(x)\n",
    "        x = self.layer_norm2(x)\n",
    "        x = self.reLu2(x)\n",
    "        # When Decoder is used, the convolution is causal\n",
    "        if self.decoder and self.receptive_field > 0:\n",
    "            x = F.pad(x, (self.receptive_field, 0))\n",
    "        x = self.conv2(x)\n",
    "        x = self.layer_norm3(x)\n",
    "        x = self.reLu3(x)\n",
    "        x = self.conv3(x)\n",
    "        # Add back the residual\n",
    "        x += residual\n",
    "        return x\n"
   ],
   "metadata": {
    "collapsed": false,
    "ExecuteTime": {
     "end_time": "2024-06-26T16:35:39.257747400Z",
     "start_time": "2024-06-26T16:35:39.249232100Z"
    }
   },
   "id": "b7b0836c6097c8f0",
   "execution_count": 8
  },
  {
   "cell_type": "code",
   "outputs": [],
   "source": [
    "class BytenetEncoder(nn.Module):\n",
    "    \"\"\"\n",
    "    Implementation of the ByteNet Encoder. Default Parameters are set to the ones used in the paper.\n",
    "    \n",
    "    :param kernel_size: The kernel size for the unmasked (padded) convolution in the residual block.\n",
    "    :param max_dilation_rate: The maximum dilation rate for the convolution layers.\n",
    "    :param masked_kernel_size: The kernel size for the masked convolution in the residual block (only interesting for decoder).\n",
    "    :param num_sets: The number of sets of residual blocks.\n",
    "    :param set_size: The number of residual blocks in each set.\n",
    "    :param hidden_channels: The number of hidden channels in the model.\n",
    "    \"\"\"\n",
    "    def __init__(self, kernel_size=3, max_dilation_rate=16, masked_kernel_size=3, num_sets=6, set_size=5,\n",
    "                 hidden_channels=800, emb_size = 1600):\n",
    "        super(BytenetEncoder, self).__init__()\n",
    "        self.num_channels = hidden_channels\n",
    "        self.kernel_size = kernel_size\n",
    "        self.layers = nn.Sequential()\n",
    "        # 128 is size of tokenizer\n",
    "        # input of shape [batch_size, 128, 128] as [batch_size, tokens, embedding_size]\n",
    "        self.layers.append(nn.Conv1d(in_channels=emb_size, out_channels=hidden_channels * 2, kernel_size=1))\n",
    "        # From the Paper:\n",
    "        # Model has a series of residual blocks of increased dilation rate\n",
    "        # With unmasked convolutions for the encoder\n",
    "        for _ in range(num_sets):\n",
    "            dilation_rate = 1\n",
    "            for _ in range(set_size):\n",
    "                # Dilation rate does not exceed a given maximum\n",
    "                # Example from the paper: 16\n",
    "                self.layers.append(ResidualBlockReLu(hidden_channels,\n",
    "                                                     dilation_rate if dilation_rate <= max_dilation_rate else max_dilation_rate,\n",
    "                                                     masked_kernel_size))\n",
    "                                # Dilation Rate doubles each layer (starting out at 1)\n",
    "                dilation_rate = dilation_rate * 2\n",
    "\n",
    "            # \"the network applies one more convolution\"\n",
    "        # Note: The output of the residual layers is 2*input_features, however the output of the final convolutions is not specified in the paper\n",
    "        # Experimentation needed if it should be 2*input_features or input_features\n",
    "        self.encoder_out_conv = nn.Conv1d(in_channels=hidden_channels * 2, out_channels=2 * hidden_channels, kernel_size=1)\n",
    "        # \"and ReLU\"\n",
    "        # Not sure if these last 2 layers should be in encoder or just decoder\n",
    "        # self.layers.append(nn.ReLU())\n",
    "        # \"followed by a convolution\"\n",
    "        # self.layers.append(nn.Conv1d(hidden_channels, hidden_channels, kernel_size))\n",
    "        # \"and a final softmax layer\" (probably not for encoder, however paper does not specify)\n",
    "        # self.layers.append(nn.Softmax(dim=1))\n",
    "\n",
    "    def forward(self, x):\n",
    "        # Temporary\n",
    "        x = x.float()\n",
    "        for layer in self.layers:\n",
    "            x = layer(x)\n",
    "        x = self.encoder_out_conv(x)\n",
    "        return x\n"
   ],
   "metadata": {
    "collapsed": false,
    "ExecuteTime": {
     "end_time": "2024-06-26T16:35:41.053037100Z",
     "start_time": "2024-06-26T16:35:41.044394300Z"
    }
   },
   "id": "e51d4e256313426",
   "execution_count": 9
  },
  {
   "cell_type": "code",
   "outputs": [],
   "source": [
    "class BytenetDecoder(nn.Module):\n",
    "    \"\"\"\n",
    "    Implementation of the ByteNet Decoder. Default Parameters are set to the ones used in the paper.\n",
    "    \n",
    "    :param kernel_size: The kernel size for the unmasked (padded) convolution in the residual block (not important for decoder).\n",
    "    :param max_dilation_rate: The maximum dilation rate for the convolution layers.\n",
    "    :param masked_kernel_size: The kernel size for the masked convolution in the residual block.\n",
    "    :param num_sets: The number of sets of residual blocks.\n",
    "    :param set_size: The number of residual blocks in each set.\n",
    "    :param hidden_channels: The number of hidden channels in the model.\n",
    "    \"\"\"\n",
    "    def __init__(self, kernel_size=3, max_dilation_rate=16, masked_kernel_size=3, num_sets=6, set_size=5,\n",
    "                 hidden_channels=800, output_channels=384):\n",
    "        super(BytenetDecoder, self).__init__()\n",
    "        self.num_channels = hidden_channels\n",
    "        self.kernel_size = kernel_size\n",
    "        self.layers = nn.Sequential()\n",
    "        # From the Paper:\n",
    "        # Model has a series of residual blocks of increased dilation rate\n",
    "        # With masekd convolution for decoder\n",
    "        for _ in range(num_sets):\n",
    "            dilation_rate = 1\n",
    "            for _ in range(set_size):\n",
    "                # Dilation Rate doubles each layer (starting out at 1)\n",
    "                # 1, 2, 4, 8, 16\n",
    "                # Dilation rate does not exceed a given maximum\n",
    "                # Example from the paper: 16\n",
    "                self.layers.append(ResidualBlockReLu(hidden_channels,\n",
    "                                                     dilation_rate if dilation_rate <= max_dilation_rate else max_dilation_rate,\n",
    "                                                     masked_kernel_size, decoder=True))\n",
    "                dilation_rate = dilation_rate * 2\n",
    "\n",
    "        # \"the network applies one more convolution\"\n",
    "        # Note: The output of the residual layers is 2*input_features, however the output of the final convolutions is not specified in the paper\n",
    "        # Experimentation needed if it should be 2*input_features or input_features\n",
    "        self.layers.append(nn.Conv1d(hidden_channels * 2, hidden_channels, 1))\n",
    "        # \"and ReLU\"\n",
    "        self.layers.append(nn.ReLU())\n",
    "        # \"followed by a convolution\"\n",
    "        self.layers.append(nn.Conv1d(hidden_channels, output_channels, 1))\n",
    "        # \"and a final softmax layer\"\n",
    "        # self.layers.append(nn.LogSoftmax(dim=-1))\n",
    "\n",
    "        # self.layers.append(nn.Softmax(dim=1))\n",
    "\n",
    "    def forward(self, x):\n",
    "        for layer in self.layers:\n",
    "            x = layer(x)\n",
    "        return x\n"
   ],
   "metadata": {
    "collapsed": false,
    "ExecuteTime": {
     "end_time": "2024-06-26T16:35:42.887637100Z",
     "start_time": "2024-06-26T16:35:42.879412100Z"
    }
   },
   "id": "b8c0481c8e2822a6",
   "execution_count": 10
  },
  {
   "cell_type": "code",
   "outputs": [],
   "source": [
    "class EncoderDecoderStacking(nn.Module):\n",
    "    \"\"\"\n",
    "    Stacks the encoder and decoder for the ByteNet model.\n",
    "    This means passing the output of the encoder as input to the decoder.\n",
    "    \n",
    "    :param kernel_size: The kernel size for the unmasked (padded) convolution in the residual block (for Encoder).\n",
    "    :param max_dilation_rate: The maximum dilation rate for the convolution layers.\n",
    "    :param masked_kernel_size: The kernel size for the masked convolution in the residual block (for Decoder).\n",
    "    :param num_sets: The number of sets of residual blocks.\n",
    "    :param set_size: The number of residual blocks in each set.\n",
    "    :param hidden_channels: The number of hidden channels in the model.\n",
    "    :param output_channels: The number of output channels in the model (vocab size).\n",
    "\n",
    "    :return x: The output of the decoder.\n",
    "    \"\"\"\n",
    "\n",
    "    def __init__(self, kernel_size=3, max_dilation_rate=16, masked_kernel_size=3, n_sets=6, blocks_per_set=5,\n",
    "                 hidden_channels=800, output_channels = 384, emb_size= 1600):\n",
    "        super(EncoderDecoderStacking, self).__init__()\n",
    "        self.embed = nn.Embedding(vocab_size, emb_size)\n",
    "        self.encoder = BytenetEncoder(kernel_size=kernel_size, max_dilation_rate=max_dilation_rate,\n",
    "                                      masked_kernel_size=masked_kernel_size, num_sets=n_sets, set_size=blocks_per_set,\n",
    "                                      hidden_channels=hidden_channels, emb_size=emb_size)\n",
    "        self.decoder = BytenetDecoder(kernel_size=kernel_size, max_dilation_rate=max_dilation_rate,\n",
    "                                      masked_kernel_size=masked_kernel_size, num_sets=n_sets, set_size=blocks_per_set,\n",
    "                                      hidden_channels=hidden_channels, output_channels=output_channels)\n",
    "\n",
    "    def forward(self, x):\n",
    "        # This permutation is needed for embeddings in pytorch with 1d convolutions\n",
    "        embed_x = self.embed(x).permute(0, 2, 1)\n",
    "        x = self.encoder(embed_x)\n",
    "        x = self.decoder(x)\n",
    "        return x\n"
   ],
   "metadata": {
    "collapsed": false,
    "ExecuteTime": {
     "end_time": "2024-06-26T16:35:44.453321Z",
     "start_time": "2024-06-26T16:35:44.444803500Z"
    }
   },
   "id": "b840fe3aa4af1592",
   "execution_count": 11
  },
  {
   "cell_type": "code",
   "outputs": [],
   "source": [
    "class InputEmbeddingTensor:\n",
    "    \"\"\"\n",
    "    Class which enables the embedding of tokens.\n",
    "\n",
    "    :param vocab_size: The size of the vocabulary as int.\n",
    "    :param embed_size: The size of the embedding units as int.\n",
    "    \"\"\"\n",
    "\n",
    "    def __init__(self, vocab_size, embed_size):\n",
    "        super(InputEmbeddingTensor, self).__init__()\n",
    "        self.vocab_size = vocab_size\n",
    "        self.embed_size = embed_size\n",
    "        # This is the actual lookup table.\n",
    "        # A lookup table is an array of data that maps input values to output values\n",
    "        self.lookup_table_non_zero = nn.Embedding(vocab_size - 1, embed_size)\n",
    "        init.xavier_uniform_(self.lookup_table_non_zero.weight)\n",
    "\n",
    "    def embed(self, in_values):\n",
    "        \"\"\"\n",
    "        In this method the first n tokens are embedded via look-up table.\n",
    "        The n tokens serve as targets for the predictions.\n",
    "\n",
    "        :param in_values: The train input values from batch, more exact: the tokens\n",
    "        :return: A embedded tensor of size n × 2d where d is the number of inner\n",
    "                channels in the network\n",
    "        \"\"\"\n",
    "        lookup_table_zero = torch.zeros(1, self.embed_size).to(in_values.device)\n",
    "        # Here the both look up tables are combined. The rows with the zeros and the rows\n",
    "        # with values from the actual lookup table are combined therefore\n",
    "        lookup_table = torch.cat((lookup_table_zero, self.lookup_table_non_zero.weight.to(device)),\n",
    "                                 0)  # Move to the same device as inputs\n",
    "        # Next the input ids are embedded into the lookup table, which means that each id has it own\n",
    "        # embedding-vector, f.e:\n",
    "        # id: 5 => [1,5,4]; id:7 => [3,2,9]\n",
    "        # The input ids are the tokens\n",
    "        # If a token sequence of 5;7 is used, the resulting matrix is:\n",
    "        # [1,5,4],[3,2,9]\n",
    "        return F.embedding(in_values, lookup_table).to(in_values.device)\n"
   ],
   "metadata": {
    "collapsed": false,
    "ExecuteTime": {
     "end_time": "2024-06-26T16:35:45.958082800Z",
     "start_time": "2024-06-26T16:35:45.949428500Z"
    }
   },
   "id": "3cd398c96893f06c",
   "execution_count": 12
  },
  {
   "cell_type": "markdown",
   "source": [
    "### Training\n",
    "The following cells implement the training of the ByteNet model. The model is trained on a part of the WMT2014 english to german dataset."
   ],
   "metadata": {
    "collapsed": false
   },
   "id": "3c907c805a3bd6b0"
  },
  {
   "cell_type": "code",
   "outputs": [
    {
     "name": "stdout",
     "output_type": "stream",
     "text": [
      "Downloading dataset-offset: 0\n",
      "Downloading dataset-offset: 128\n",
      "Downloading dataset-offset: 192\n",
      "Downloading dataset-offset: 64\n",
      "Downloading dataset-offset: 256\n",
      "Downloading dataset-offset: 320\n",
      "Using device: cuda\n"
     ]
    }
   ],
   "source": [
    "# Load the data\n",
    "device = 'cuda' if torch.cuda.is_available() else 'cpu'\n",
    "cache_dir = 'F:/wmt19_cache'\n",
    "#    wmt_loader = WMTLoader(split=\"train\", cache_dir=cache_dir)\n",
    "# Number of workers provides parallel loading\n",
    "num_workers = 8\n",
    "#    data_load = DataLoader(wmt_loader, batch_size=32, collate_fn=wmt_loader.collate_fn, num_workers=num_workers)\n",
    "#    temp = data_load\n",
    "#\n",
    "# for batch in wmt_loader:\n",
    "#     src_batch, tgt_batch = batch\n",
    "#     break\n",
    "batch_size = 64\n",
    "# change as needed\n",
    "output_dir = 'F:\\\\wmt19_json'\n",
    "download_entire_de_en_dataset(batch_size, output_dir, 4)\n",
    "device = 'cuda' if torch.cuda.is_available() else 'cpu'\n",
    "print(f'Using device: {device}')\n",
    "wmt_json_loader = WMT19JSONLoader(output_dir)\n"
   ],
   "metadata": {
    "collapsed": false,
    "ExecuteTime": {
     "end_time": "2024-06-26T12:02:23.560457200Z",
     "start_time": "2024-06-26T12:02:22.331465100Z"
    }
   },
   "id": "70480f0620367b3c",
   "execution_count": 10
  },
  {
   "cell_type": "code",
   "outputs": [
    {
     "name": "stdout",
     "output_type": "stream",
     "text": [
      "{'<pad>': 0, '</s>': 1, '<unk>': 2, '\\x00': 3, '\\x01': 4, '\\x02': 5, '\\x03': 6, '\\x04': 7, '\\x05': 8, '\\x06': 9, '\\x07': 10, '\\x08': 11, '\\t': 12, '\\n': 13, '\\x0b': 14, '\\x0c': 15, '\\r': 16, '\\x0e': 17, '\\x0f': 18, '\\x10': 19, '\\x11': 20, '\\x12': 21, '\\x13': 22, '\\x14': 23, '\\x15': 24, '\\x16': 25, '\\x17': 26, '\\x18': 27, '\\x19': 28, '\\x1a': 29, '\\x1b': 30, '\\x1c': 31, '\\x1d': 32, '\\x1e': 33, '\\x1f': 34, ' ': 35, '!': 36, '\"': 37, '#': 38, '$': 39, '%': 40, '&': 41, \"'\": 42, '(': 43, ')': 44, '*': 45, '+': 46, ',': 47, '-': 48, '.': 49, '/': 50, '0': 51, '1': 52, '2': 53, '3': 54, '4': 55, '5': 56, '6': 57, '7': 58, '8': 59, '9': 60, ':': 61, ';': 62, '<': 63, '=': 64, '>': 65, '?': 66, '@': 67, 'A': 68, 'B': 69, 'C': 70, 'D': 71, 'E': 72, 'F': 73, 'G': 74, 'H': 75, 'I': 76, 'J': 77, 'K': 78, 'L': 79, 'M': 80, 'N': 81, 'O': 82, 'P': 83, 'Q': 84, 'R': 85, 'S': 86, 'T': 87, 'U': 88, 'V': 89, 'W': 90, 'X': 91, 'Y': 92, 'Z': 93, '[': 94, '\\\\': 95, ']': 96, '^': 97, '_': 98, '`': 99, 'a': 100, 'b': 101, 'c': 102, 'd': 103, 'e': 104, 'f': 105, 'g': 106, 'h': 107, 'i': 108, 'j': 109, 'k': 110, 'l': 111, 'm': 112, 'n': 113, 'o': 114, 'p': 115, 'q': 116, 'r': 117, 's': 118, 't': 119, 'u': 120, 'v': 121, 'w': 122, 'x': 123, 'y': 124, 'z': 125, '{': 126, '|': 127, '}': 128, '~': 129, '\\x7f': 130, '\\x80': 131, '\\x81': 132, '\\x82': 133, '\\x83': 134, '\\x84': 135, '\\x85': 136, '\\x86': 137, '\\x87': 138, '\\x88': 139, '\\x89': 140, '\\x8a': 141, '\\x8b': 142, '\\x8c': 143, '\\x8d': 144, '\\x8e': 145, '\\x8f': 146, '\\x90': 147, '\\x91': 148, '\\x92': 149, '\\x93': 150, '\\x94': 151, '\\x95': 152, '\\x96': 153, '\\x97': 154, '\\x98': 155, '\\x99': 156, '\\x9a': 157, '\\x9b': 158, '\\x9c': 159, '\\x9d': 160, '\\x9e': 161, '\\x9f': 162, '\\xa0': 163, '¡': 164, '¢': 165, '£': 166, '¤': 167, '¥': 168, '¦': 169, '§': 170, '¨': 171, '©': 172, 'ª': 173, '«': 174, '¬': 175, '\\xad': 176, '®': 177, '¯': 178, '°': 179, '±': 180, '²': 181, '³': 182, '´': 183, 'µ': 184, '¶': 185, '·': 186, '¸': 187, '¹': 188, 'º': 189, '»': 190, '¼': 191, '½': 192, '¾': 193, '¿': 194, 'À': 195, 'Á': 196, 'Â': 197, 'Ã': 198, 'Ä': 199, 'Å': 200, 'Æ': 201, 'Ç': 202, 'È': 203, 'É': 204, 'Ê': 205, 'Ë': 206, 'Ì': 207, 'Í': 208, 'Î': 209, 'Ï': 210, 'Ð': 211, 'Ñ': 212, 'Ò': 213, 'Ó': 214, 'Ô': 215, 'Õ': 216, 'Ö': 217, '×': 218, 'Ø': 219, 'Ù': 220, 'Ú': 221, 'Û': 222, 'Ü': 223, 'Ý': 224, 'Þ': 225, 'ß': 226, 'à': 227, 'á': 228, 'â': 229, 'ã': 230, 'ä': 231, 'å': 232, 'æ': 233, 'ç': 234, 'è': 235, 'é': 236, 'ê': 237, 'ë': 238, 'ì': 239, 'í': 240, 'î': 241, 'ï': 242, 'ð': 243, 'ñ': 244, 'ò': 245, 'ó': 246, 'ô': 247, 'õ': 248, 'ö': 249, '÷': 250, 'ø': 251, 'ù': 252, 'ú': 253, 'û': 254, 'ü': 255, 'ý': 256, 'þ': 257, 'ÿ': 258, '<extra_id_0>': 259, '<extra_id_1>': 260, '<extra_id_2>': 261, '<extra_id_3>': 262, '<extra_id_4>': 263, '<extra_id_5>': 264, '<extra_id_6>': 265, '<extra_id_7>': 266, '<extra_id_8>': 267, '<extra_id_9>': 268, '<extra_id_10>': 269, '<extra_id_11>': 270, '<extra_id_12>': 271, '<extra_id_13>': 272, '<extra_id_14>': 273, '<extra_id_15>': 274, '<extra_id_16>': 275, '<extra_id_17>': 276, '<extra_id_18>': 277, '<extra_id_19>': 278, '<extra_id_20>': 279, '<extra_id_21>': 280, '<extra_id_22>': 281, '<extra_id_23>': 282, '<extra_id_24>': 283, '<extra_id_25>': 284, '<extra_id_26>': 285, '<extra_id_27>': 286, '<extra_id_28>': 287, '<extra_id_29>': 288, '<extra_id_30>': 289, '<extra_id_31>': 290, '<extra_id_32>': 291, '<extra_id_33>': 292, '<extra_id_34>': 293, '<extra_id_35>': 294, '<extra_id_36>': 295, '<extra_id_37>': 296, '<extra_id_38>': 297, '<extra_id_39>': 298, '<extra_id_40>': 299, '<extra_id_41>': 300, '<extra_id_42>': 301, '<extra_id_43>': 302, '<extra_id_44>': 303, '<extra_id_45>': 304, '<extra_id_46>': 305, '<extra_id_47>': 306, '<extra_id_48>': 307, '<extra_id_49>': 308, '<extra_id_50>': 309, '<extra_id_51>': 310, '<extra_id_52>': 311, '<extra_id_53>': 312, '<extra_id_54>': 313, '<extra_id_55>': 314, '<extra_id_56>': 315, '<extra_id_57>': 316, '<extra_id_58>': 317, '<extra_id_59>': 318, '<extra_id_60>': 319, '<extra_id_61>': 320, '<extra_id_62>': 321, '<extra_id_63>': 322, '<extra_id_64>': 323, '<extra_id_65>': 324, '<extra_id_66>': 325, '<extra_id_67>': 326, '<extra_id_68>': 327, '<extra_id_69>': 328, '<extra_id_70>': 329, '<extra_id_71>': 330, '<extra_id_72>': 331, '<extra_id_73>': 332, '<extra_id_74>': 333, '<extra_id_75>': 334, '<extra_id_76>': 335, '<extra_id_77>': 336, '<extra_id_78>': 337, '<extra_id_79>': 338, '<extra_id_80>': 339, '<extra_id_81>': 340, '<extra_id_82>': 341, '<extra_id_83>': 342, '<extra_id_84>': 343, '<extra_id_85>': 344, '<extra_id_86>': 345, '<extra_id_87>': 346, '<extra_id_88>': 347, '<extra_id_89>': 348, '<extra_id_90>': 349, '<extra_id_91>': 350, '<extra_id_92>': 351, '<extra_id_93>': 352, '<extra_id_94>': 353, '<extra_id_95>': 354, '<extra_id_96>': 355, '<extra_id_97>': 356, '<extra_id_98>': 357, '<extra_id_99>': 358, '<extra_id_100>': 359, '<extra_id_101>': 360, '<extra_id_102>': 361, '<extra_id_103>': 362, '<extra_id_104>': 363, '<extra_id_105>': 364, '<extra_id_106>': 365, '<extra_id_107>': 366, '<extra_id_108>': 367, '<extra_id_109>': 368, '<extra_id_110>': 369, '<extra_id_111>': 370, '<extra_id_112>': 371, '<extra_id_113>': 372, '<extra_id_114>': 373, '<extra_id_115>': 374, '<extra_id_116>': 375, '<extra_id_117>': 376, '<extra_id_118>': 377, '<extra_id_119>': 378, '<extra_id_120>': 379, '<extra_id_121>': 380, '<extra_id_122>': 381, '<extra_id_123>': 382, '<extra_id_124>': 383}\n"
     ]
    }
   ],
   "source": [
    "print(wmt_json_loader.tokenizer.get_vocab())"
   ],
   "metadata": {
    "collapsed": false,
    "ExecuteTime": {
     "end_time": "2024-06-26T12:02:23.567568400Z",
     "start_time": "2024-06-26T12:02:23.562458500Z"
    }
   },
   "id": "157fee8a0b54625a",
   "execution_count": 11
  },
  {
   "cell_type": "code",
   "outputs": [],
   "source": [
    "# HYPERPARAMETERS\n",
    "num_sets = 3\n",
    "set_size = 5\n",
    "embed_size = 1600 # Paper\n",
    "batch_size = 64"
   ],
   "metadata": {
    "collapsed": false,
    "ExecuteTime": {
     "end_time": "2024-06-26T12:02:23.570085900Z",
     "start_time": "2024-06-26T12:02:23.565840800Z"
    }
   },
   "id": "3b8377ed35cfd67f",
   "execution_count": 12
  },
  {
   "cell_type": "code",
   "outputs": [],
   "source": [
    "class TranslationDataset(Dataset):\n",
    "    def __init__(self, source_texts, target_texts):\n",
    "        self.source_texts = source_texts\n",
    "        self.target_texts = target_texts\n",
    "\n",
    "    def __len__(self):\n",
    "        return len(self.source_texts)\n",
    "\n",
    "    def __getitem__(self, idx):\n",
    "        return self.source_texts[idx], self.target_texts[idx]\n"
   ],
   "metadata": {
    "collapsed": false,
    "ExecuteTime": {
     "end_time": "2024-06-26T12:02:23.571995300Z",
     "start_time": "2024-06-26T12:02:23.570085900Z"
    }
   },
   "id": "dc4f1067395033b3",
   "execution_count": 13
  },
  {
   "cell_type": "code",
   "outputs": [
    {
     "name": "stdout",
     "output_type": "stream",
     "text": [
      "Using device: cuda\n",
      "Error when line is decoded: Expecting ',' delimiter: line 1 column 228 (char 227)\n",
      "Error when line is decoded: Expecting value: line 1 column 1 (char 0)\n",
      "Error when line is decoded: Expecting ',' delimiter: line 1 column 619 (char 618)\n",
      "Error when line is decoded: Extra data: line 1 column 2 (char 1)\n",
      "Error when line is decoded: Expecting value: line 1 column 1 (char 0)\n",
      "Error when line is decoded: Expecting value: line 1 column 1 (char 0)\n",
      "Error when line is decoded: Expecting ',' delimiter: line 1 column 745 (char 744)\n",
      "Error when line is decoded: Expecting value: line 1 column 1 (char 0)\n",
      "Error when line is decoded: Expecting ',' delimiter: line 1 column 257 (char 256)\n",
      "Error when line is decoded: Expecting ':' delimiter: line 1 column 138 (char 137)\n",
      "Error when line is decoded: Expecting value: line 1 column 1 (char 0)\n",
      "Error when line is decoded: Expecting ',' delimiter: line 1 column 550 (char 549)\n",
      "Error when line is decoded: Expecting value: line 1 column 1 (char 0)\n",
      "Error when line is decoded: Expecting ',' delimiter: line 1 column 903 (char 902)\n",
      "Error when line is decoded: Expecting value: line 1 column 1 (char 0)\n",
      "Error when line is decoded: Expecting ',' delimiter: line 1 column 627 (char 626)\n",
      "Error when line is decoded: Expecting ':' delimiter: line 1 column 386 (char 385)\n",
      "Error when line is decoded: Extra data: line 1 column 785 (char 784)\n",
      "Error when line is decoded: Expecting ',' delimiter: line 1 column 447 (char 446)\n",
      "Error when line is decoded: Expecting ':' delimiter: line 1 column 257 (char 256)\n",
      "Error when line is decoded: Expecting ',' delimiter: line 1 column 59 (char 58)\n",
      "Error when line is decoded: Expecting value: line 1 column 1 (char 0)\n",
      "Error when line is decoded: Expecting ',' delimiter: line 1 column 293 (char 292)\n",
      "Error when line is decoded: Expecting value: line 1 column 1 (char 0)\n",
      "Error when line is decoded: Expecting ',' delimiter: line 1 column 325 (char 324)\n",
      "Error when line is decoded: Expecting value: line 1 column 1 (char 0)\n",
      "Error when line is decoded: Expecting value: line 1 column 1 (char 0)\n",
      "Error when line is decoded: Expecting ',' delimiter: line 1 column 694 (char 693)\n",
      "Error when line is decoded: Expecting value: line 1 column 1 (char 0)\n",
      "Error when line is decoded: Expecting value: line 1 column 51 (char 50)\n",
      "Error when line is decoded: Expecting value: line 1 column 1 (char 0)\n",
      "Error when line is decoded: Expecting ',' delimiter: line 1 column 410 (char 409)\n",
      "Error when line is decoded: Expecting ':' delimiter: line 1 column 49 (char 48)\n",
      "Error when line is decoded: Expecting value: line 1 column 51 (char 50)\n",
      "Error when line is decoded: Extra data: line 1 column 274 (char 273)\n",
      "Error when line is decoded: Expecting ',' delimiter: line 1 column 751 (char 750)\n",
      "Error when line is decoded: Expecting value: line 1 column 1 (char 0)\n",
      "Error when line is decoded: Expecting ',' delimiter: line 1 column 499 (char 498)\n",
      "Error when line is decoded: Expecting value: line 1 column 1 (char 0)\n",
      "Error when line is decoded: Expecting ',' delimiter: line 1 column 467 (char 466)\n",
      "Error when line is decoded: Extra data: line 1 column 5 (char 4)\n",
      "Error when line is decoded: Expecting ',' delimiter: line 1 column 510 (char 509)\n",
      "Error when line is decoded: Expecting value: line 1 column 1 (char 0)\n",
      "Error when line is decoded: Expecting value: line 1 column 1 (char 0)\n",
      "Error when line is decoded: Expecting ',' delimiter: line 1 column 982 (char 981)\n",
      "Error when line is decoded: Extra data: line 1 column 170 (char 169)\n",
      "Error when line is decoded: Expecting property name enclosed in double quotes: line 1 column 260 (char 259)\n",
      "Error when line is decoded: Expecting ',' delimiter: line 1 column 366 (char 365)\n",
      "Error when line is decoded: Extra data: line 1 column 281 (char 280)\n",
      "Error when line is decoded: Expecting ',' delimiter: line 1 column 740 (char 739)\n",
      "Error when line is decoded: Expecting value: line 1 column 1 (char 0)\n",
      "Error when line is decoded: Expecting ',' delimiter: line 1 column 281 (char 280)\n",
      "Error when line is decoded: Expecting ',' delimiter: line 1 column 450 (char 449)\n",
      "Error when line is decoded: Expecting value: line 1 column 1 (char 0)\n",
      "Error when line is decoded: Expecting value: line 1 column 1 (char 0)\n",
      "Error when line is decoded: Expecting value: line 1 column 1 (char 0)\n",
      "Error when line is decoded: Expecting property name enclosed in double quotes: line 1 column 784 (char 783)\n",
      "Error when line is decoded: Expecting ',' delimiter: line 1 column 68 (char 67)\n",
      "Error when line is decoded: Expecting ':' delimiter: line 1 column 146 (char 145)\n",
      "Error when line is decoded: Expecting ',' delimiter: line 1 column 60 (char 59)\n",
      "Error when line is decoded: Expecting value: line 1 column 1 (char 0)\n",
      "Error when line is decoded: Expecting ',' delimiter: line 1 column 451 (char 450)\n",
      "Error when line is decoded: Expecting value: line 1 column 1 (char 0)\n",
      "Error when line is decoded: Expecting ',' delimiter: line 1 column 499 (char 498)\n",
      "Error when line is decoded: Expecting value: line 1 column 1 (char 0)\n",
      "Error when line is decoded: Expecting ',' delimiter: line 1 column 180 (char 179)\n",
      "Error when line is decoded: Expecting ':' delimiter: line 1 column 331 (char 330)\n",
      "Error when line is decoded: Expecting value: line 1 column 1 (char 0)\n",
      "Error when line is decoded: Expecting property name enclosed in double quotes: line 1 column 2 (char 1)\n",
      "Error when line is decoded: Expecting ',' delimiter: line 1 column 60 (char 59)\n",
      "Error when line is decoded: Expecting value: line 1 column 1 (char 0)\n",
      "Error when line is decoded: Expecting ',' delimiter: line 1 column 763 (char 762)\n",
      "Error when line is decoded: Expecting value: line 1 column 1 (char 0)\n",
      "Error when line is decoded: Extra data: line 1 column 141 (char 140)\n",
      "Error when line is decoded: Expecting ',' delimiter: line 1 column 654 (char 653)\n",
      "Error when line is decoded: Expecting ',' delimiter: line 1 column 429 (char 428)\n",
      "Error when line is decoded: Expecting value: line 1 column 299 (char 298)\n",
      "Error when line is decoded: Expecting value: line 1 column 1 (char 0)\n",
      "Error when line is decoded: Expecting ',' delimiter: line 1 column 717 (char 716)\n",
      "Error when line is decoded: Expecting ':' delimiter: line 1 column 11 (char 10)\n",
      "Error when line is decoded: Expecting value: line 1 column 432 (char 431)\n",
      "Error when line is decoded: Expecting value: line 1 column 1 (char 0)\n",
      "Error when line is decoded: Expecting value: line 1 column 1 (char 0)\n",
      "Error when line is decoded: Expecting ':' delimiter: line 1 column 297 (char 296)\n",
      "Error when line is decoded: Expecting value: line 1 column 49 (char 48)\n",
      "Error when line is decoded: Expecting value: line 1 column 1 (char 0)\n",
      "Error when line is decoded: Expecting value: line 1 column 1 (char 0)\n",
      "Error when line is decoded: Expecting ',' delimiter: line 1 column 637 (char 636)\n",
      "Error when line is decoded: Extra data: line 1 column 257 (char 256)\n",
      "Error when line is decoded: Extra data: line 1 column 4 (char 3)\n",
      "Error when line is decoded: Expecting value: line 1 column 1 (char 0)\n",
      "Error when line is decoded: Expecting value: line 1 column 1 (char 0)\n",
      "Error when line is decoded: Expecting ',' delimiter: line 1 column 278 (char 277)\n",
      "Error when line is decoded: Expecting value: line 1 column 1 (char 0)\n",
      "Error when line is decoded: Expecting ',' delimiter: line 1 column 543 (char 542)\n",
      "Error when line is decoded: Expecting ':' delimiter: line 1 column 149 (char 148)\n",
      "Error when line is decoded: Expecting ',' delimiter: line 1 column 398 (char 397)\n",
      "Error when line is decoded: Extra data: line 1 column 341 (char 340)\n",
      "Error when line is decoded: Expecting value: line 1 column 1 (char 0)\n",
      "Vocabulary size: 384\n"
     ]
    }
   ],
   "source": [
    "device = 'cuda' if torch.cuda.is_available() else 'cpu'\n",
    "output_dir = 'F:\\\\wmt19_json'\n",
    "\n",
    "print(f'Using device: {device}')\n",
    "wmt_json_loader = WMT19JSONLoader(output_dir)\n",
    "\n",
    "cache_dir = 'F:/wmt19_cache'\n",
    "# wmt_loader = WMTLoader(split=\"train\", cache_dir=cache_dir)\n",
    "# index = 0\n",
    "# source, target = wmt_loader[index]\n",
    "# print(\"Source:\", source)\n",
    "# print(\"Target:\", target)\n",
    "\n",
    "# use drive in which to save dataset in cache\n",
    "tokenized_source_texts, tokenized_target_texts = wmt_json_loader.load_and_tokenize(\n",
    "    'F:\\\\wmt19_json\\\\wmt_19_de_en.json')\n",
    "src = tokenized_source_texts\n",
    "trgt = tokenized_target_texts\n",
    "vocab_size = len(wmt_json_loader.tokenizer.get_vocab())\n",
    "print(f\"Vocabulary size: {vocab_size}\")"
   ],
   "metadata": {
    "collapsed": false,
    "ExecuteTime": {
     "end_time": "2024-06-26T16:40:01.082287700Z",
     "start_time": "2024-06-26T16:38:53.802795800Z"
    }
   },
   "id": "2cb4cf49e4c46a03",
   "execution_count": 17
  },
  {
   "cell_type": "code",
   "outputs": [
    {
     "name": "stdout",
     "output_type": "stream",
     "text": [
      "[tensor([ 75, 108, 104, 117,  35, 107, 100, 119,  35, 113, 108, 102, 107, 119,\n",
      "         35, 104, 119, 122, 100,  35, 103, 100, 118,  35,  83, 100, 117, 111,\n",
      "        100, 112, 104, 113, 119,  35, 103, 108, 104,  35,  83, 117, 108, 113,\n",
      "        125, 108, 115, 108, 104, 113,  35, 103, 104, 117,  35,  87, 117, 100,\n",
      "        113, 118, 115, 100, 117, 104, 113, 125,  35, 120, 113, 103,  35,  82,\n",
      "        105, 105, 104, 113, 107, 104, 108, 119,  35, 108, 113,  35, 103, 108,\n",
      "        104,  35,  87, 100, 119,  35, 120, 112, 106, 104, 118, 104, 119, 125,\n",
      "        119,  47,  35, 118, 114, 113, 103, 104, 117, 113,  35, 104, 118,  35,\n",
      "        122, 120, 117, 103, 104, 113,  35, 105, 198, 191, 117,  35, 104, 108,\n",
      "        113,   1])]\n"
     ]
    }
   ],
   "source": [
    "print(src[:1])"
   ],
   "metadata": {
    "collapsed": false,
    "ExecuteTime": {
     "end_time": "2024-06-26T12:03:30.117754700Z",
     "start_time": "2024-06-26T12:03:30.114972200Z"
    }
   },
   "id": "3da6107dbdf4562d",
   "execution_count": 15
  },
  {
   "cell_type": "code",
   "outputs": [
    {
     "name": "stdout",
     "output_type": "stream",
     "text": [
      "[tensor([ 87, 107, 108, 118,  35, 122, 100, 118,  35, 113, 114, 119,  35, 119,\n",
      "        107, 104,  35, 117, 104, 118, 120, 111, 119,  35, 114, 105,  35,  83,\n",
      "        100, 117, 111, 108, 100, 112, 104, 113, 119,  35, 115, 120, 119, 119,\n",
      "        108, 113, 106,  35, 108, 113, 119, 114,  35, 115, 117, 100, 102, 119,\n",
      "        108, 102, 104,  35, 119, 107, 104,  35, 115, 117, 108, 113, 102, 108,\n",
      "        115, 111, 104, 118,  35, 114, 105,  35, 119, 117, 100, 113, 118, 115,\n",
      "        100, 117, 104, 113, 102, 124,  35, 100, 113, 103,  35, 114, 115, 104,\n",
      "        113, 113, 104, 118, 118,  47,  35, 101, 120, 119,  35, 105, 114, 111,\n",
      "        111, 114, 122, 118,  35, 119, 107, 104,  35, 102, 114, 115, 124, 108,\n",
      "        113,   1]), tensor([ 81, 114, 122,  35, 119, 107, 100, 119,  35, 119, 107, 104,  35, 117,\n",
      "        104, 102, 114, 117, 103, 118,  35, 107, 100, 121, 104,  35, 101, 104,\n",
      "        104, 113,  35, 115, 120, 119,  35, 108, 113, 119, 114,  35, 119, 107,\n",
      "        104,  35, 115, 120, 101, 111, 108, 102,  35, 103, 114, 112, 100, 108,\n",
      "        113,  47,  35, 122, 108, 111, 111,  35, 124, 114, 120,  35, 100, 103,\n",
      "        121, 108, 118, 104,  35, 100, 111, 111,  35, 102, 114, 113, 102, 104,\n",
      "        117, 113, 104, 103,  35, 113, 114, 119,  35, 119, 114,  35, 100, 111,\n",
      "        111, 114, 122,  35,  83, 100, 117, 111, 108, 100, 112, 104, 113, 119,\n",
      "         35, 119, 114,  35, 102, 114, 113, 119, 108, 113, 120, 104,  35, 111,\n",
      "        114,   1]), tensor([ 80, 100, 103, 100, 112,  35,  83, 117, 104, 118, 108, 103, 104, 113,\n",
      "        119,  47,  35,  76,  35, 100, 111, 118, 114,  35, 117, 104, 106, 117,\n",
      "        104, 119,  35, 119, 107, 100, 119,  35, 100,  35,  69, 117, 108, 119,\n",
      "        108, 118, 107,  35, 102, 114, 112, 104, 103, 124,  35, 115, 117, 114,\n",
      "        106, 117, 100, 112, 112, 104,  35, 118, 114, 120, 106, 107, 119,  35,\n",
      "        119, 114,  35, 112, 100, 110, 104,  35, 111, 108, 106, 107, 119,  35,\n",
      "        114, 105,  35,  83, 100, 117, 111, 108, 100, 112, 104, 113, 119,  35,\n",
      "        100, 113, 103,  35, 122, 114, 120, 111, 103,  35, 115, 114, 108, 113,\n",
      "        119,  35, 114, 120, 119,  35, 119, 107, 100, 119,  35, 112, 124,  35,\n",
      "        114,   1]), tensor([ 76, 119,  35, 117, 104, 112, 100, 108, 113, 118,  35, 114, 115, 104,\n",
      "        113,  35, 119, 114,  35,  80, 117,  35,  71, 100, 121, 108, 104, 118,\n",
      "         42,  35, 106, 117, 114, 120, 115,  35, 119, 114,  35, 105, 114, 111,\n",
      "        111, 114, 122,  35, 118, 120, 108, 119,  35, 100, 113, 103,  35, 105,\n",
      "        114, 111, 111, 114, 122,  35, 114, 120, 117,  35, 111, 104, 100, 103,\n",
      "         35, 108, 113,  35, 115, 120, 119, 119, 108, 113, 106,  35, 119, 107,\n",
      "        104,  35, 117, 104, 106, 108, 118, 119, 104, 117,  35, 114, 105,  35,\n",
      "        108, 113, 119, 104, 117, 104, 118, 119, 118,  35, 114, 113,  35, 119,\n",
      "        107, 104,  35,  76, 113, 119, 104, 117, 113, 104, 119,  49,   1,   0,\n",
      "          0,   0]), tensor([ 76, 113,  35, 119, 107, 104,  35, 112, 104, 100, 113, 119, 108, 112,\n",
      "        104,  47,  35,  76,  35, 100, 106, 117, 104, 104,  35, 122, 108, 119,\n",
      "        107,  35, 107, 108, 112,  49,   1,   0,   0,   0,   0,   0,   0,   0,\n",
      "          0,   0,   0,   0,   0,   0,   0,   0,   0,   0,   0,   0,   0,   0,\n",
      "          0,   0,   0,   0,   0,   0,   0,   0,   0,   0,   0,   0,   0,   0,\n",
      "          0,   0,   0,   0,   0,   0,   0,   0,   0,   0,   0,   0,   0,   0,\n",
      "          0,   0,   0,   0,   0,   0,   0,   0,   0,   0,   0,   0,   0,   0,\n",
      "          0,   0,   0,   0,   0,   0,   0,   0,   0,   0,   0,   0,   0,   0,\n",
      "          0,   0,   0,   0,   0,   0,   0,   0,   0,   0,   0,   0,   0,   0,\n",
      "          0,   0]), tensor([ 76,  35, 119, 107, 108, 113, 110,  35, 119, 107, 104,  35, 118, 114,\n",
      "        114, 113, 104, 117,  35, 119, 107, 108, 118,  35, 108, 118,  35, 114,\n",
      "        113,  35, 119, 107, 104,  35,  76, 113, 119, 104, 117, 113, 104, 119,\n",
      "         47,  35, 119, 107, 104,  35, 101, 104, 119, 119, 104, 117,  49,   1,\n",
      "          0,   0,   0,   0,   0,   0,   0,   0,   0,   0,   0,   0,   0,   0,\n",
      "          0,   0,   0,   0,   0,   0,   0,   0,   0,   0,   0,   0,   0,   0,\n",
      "          0,   0,   0,   0,   0,   0,   0,   0,   0,   0,   0,   0,   0,   0,\n",
      "          0,   0,   0,   0,   0,   0,   0,   0,   0,   0,   0,   0,   0,   0,\n",
      "          0,   0,   0,   0,   0,   0,   0,   0,   0,   0,   0,   0,   0,   0,\n",
      "          0,   0]), tensor([ 76, 119,  35, 108, 118,  35, 100,  35, 112, 100, 119, 119, 104, 117,\n",
      "         35, 114, 105,  35, 115, 120, 101, 111, 108, 102,  35, 117, 104, 102,\n",
      "        114, 117, 103,  49,   1,   0,   0,   0,   0,   0,   0,   0,   0,   0,\n",
      "          0,   0,   0,   0,   0,   0,   0,   0,   0,   0,   0,   0,   0,   0,\n",
      "          0,   0,   0,   0,   0,   0,   0,   0,   0,   0,   0,   0,   0,   0,\n",
      "          0,   0,   0,   0,   0,   0,   0,   0,   0,   0,   0,   0,   0,   0,\n",
      "          0,   0,   0,   0,   0,   0,   0,   0,   0,   0,   0,   0,   0,   0,\n",
      "          0,   0,   0,   0,   0,   0,   0,   0,   0,   0,   0,   0,   0,   0,\n",
      "          0,   0,   0,   0,   0,   0,   0,   0,   0,   0,   0,   0,   0,   0,\n",
      "          0,   0]), tensor([ 87, 107, 104, 117, 104,  35, 108, 118,  35, 113, 114,  35, 117, 104,\n",
      "        100, 118, 114, 113,  35, 122, 107, 124,  35, 108, 119,  35, 118, 107,\n",
      "        114, 120, 111, 103,  35, 101, 104,  35, 110, 104, 115, 119,  35, 118,\n",
      "        104, 102, 117, 104, 119,  49,   1,   0,   0,   0,   0,   0,   0,   0,\n",
      "          0,   0,   0,   0,   0,   0,   0,   0,   0,   0,   0,   0,   0,   0,\n",
      "          0,   0,   0,   0,   0,   0,   0,   0,   0,   0,   0,   0,   0,   0,\n",
      "          0,   0,   0,   0,   0,   0,   0,   0,   0,   0,   0,   0,   0,   0,\n",
      "          0,   0,   0,   0,   0,   0,   0,   0,   0,   0,   0,   0,   0,   0,\n",
      "          0,   0,   0,   0,   0,   0,   0,   0,   0,   0,   0,   0,   0,   0,\n",
      "          0,   0]), tensor([ 87, 107, 100, 119,  35, 108, 118,  35, 119, 107, 104,  35, 115, 114,\n",
      "        108, 113, 119,  35,  76,  35, 101, 104, 111, 108, 104, 121, 104,  35,\n",
      "        119, 107, 104,  35,  84, 120, 100, 104, 118, 119, 114, 117, 118,  35,\n",
      "        122, 108, 111, 111,  35, 101, 104,  35, 120, 117, 106, 108, 113, 106,\n",
      "         35, 114, 113,  35, 119, 107, 104,  35,  69, 120, 117, 104, 100, 120,\n",
      "         35, 108, 113,  35, 119, 107, 104,  35, 113, 104, 100, 117,  35, 105,\n",
      "        120, 119, 120, 117, 104,  49,   1,   0,   0,   0,   0,   0,   0,   0,\n",
      "          0,   0,   0,   0,   0,   0,   0,   0,   0,   0,   0,   0,   0,   0,\n",
      "          0,   0,   0,   0,   0,   0,   0,   0,   0,   0,   0,   0,   0,   0,\n",
      "          0,   0]), tensor([ 70, 117, 104, 103, 108, 119,  35, 108, 113, 118, 119, 108, 119, 120,\n",
      "        119, 108, 114, 113, 118,   1,   0,   0,   0,   0,   0,   0,   0,   0,\n",
      "          0,   0,   0,   0,   0,   0,   0,   0,   0,   0,   0,   0,   0,   0,\n",
      "          0,   0,   0,   0,   0,   0,   0,   0,   0,   0,   0,   0,   0,   0,\n",
      "          0,   0,   0,   0,   0,   0,   0,   0,   0,   0,   0,   0,   0,   0,\n",
      "          0,   0,   0,   0,   0,   0,   0,   0,   0,   0,   0,   0,   0,   0,\n",
      "          0,   0,   0,   0,   0,   0,   0,   0,   0,   0,   0,   0,   0,   0,\n",
      "          0,   0,   0,   0,   0,   0,   0,   0,   0,   0,   0,   0,   0,   0,\n",
      "          0,   0,   0,   0,   0,   0,   0,   0,   0,   0,   0,   0,   0,   0,\n",
      "          0,   0]), tensor([ 87, 107, 104,  35, 113, 104, 123, 119,  35, 108, 119, 104, 112,  35,\n",
      "        108, 118,  35, 119, 107, 104,  35, 117, 104, 102, 114, 112, 112, 104,\n",
      "        113, 103, 100, 119, 108, 114, 113,  35, 105, 114, 117,  35, 118, 104,\n",
      "        102, 114, 113, 103,  35, 117, 104, 100, 103, 108, 113, 106,  35,  43,\n",
      "         68,  56,  48,  51,  54,  57,  60,  50,  53,  51,  51,  51,  44,  47,\n",
      "         35, 101, 124,  35,  80, 117, 118,  35,  83, 104, 108, 109, 118,  47,\n",
      "         35, 114, 113,  35, 101, 104, 107, 100, 111, 105,  35, 114, 105,  35,\n",
      "        119, 107, 104,  35,  70, 114, 112, 112, 108, 119, 119, 104, 104,  35,\n",
      "        114, 113,  35,  72, 102, 114, 113, 114, 112, 108, 102,  35, 100, 113,\n",
      "        103,   1]), tensor([ 80, 100, 103, 100, 112,  35,  83, 117, 104, 118, 108, 103, 104, 113,\n",
      "        119,  47,  35, 119, 107, 104,  35,  72, 120, 117, 114, 115, 104, 100,\n",
      "        113,  35,  70, 114, 112, 112, 108, 118, 118, 108, 114, 113,  35, 119,\n",
      "        100, 101, 111, 104, 103,  35, 100,  35, 115, 117, 114, 115, 114, 118,\n",
      "        100, 111,  35, 105, 114, 117,  35, 100,  35, 103, 108, 117, 104, 102,\n",
      "        119, 108, 121, 104,  35, 114, 113,  35, 119, 107, 104,  35, 102, 114,\n",
      "        114, 117, 103, 108, 113, 100, 119, 108, 114, 113,  35, 114, 105,  35,\n",
      "        111, 100, 122, 118,  47,  35, 117, 104, 106, 120, 111, 100, 119, 108,\n",
      "        114, 113, 118,  35, 100, 113, 103,  35, 100, 103, 112, 108, 113, 108,\n",
      "        118,   1]), tensor([ 87, 107, 100, 119,  35, 118, 114,  35, 112, 120, 102, 107,  35, 119,\n",
      "        108, 112, 104,  35, 107, 100, 118,  35, 111, 100, 115, 118, 104, 103,\n",
      "         47,  35, 108, 118,  35, 111, 100, 117, 106, 104, 111, 124,  35, 103,\n",
      "        114, 122, 113,  35, 119, 114,  35, 119, 107, 104,  35,  74, 108, 101,\n",
      "        117, 100, 111, 119, 100, 117,  35, 108, 118, 118, 120, 104,  49,   1,\n",
      "          0,   0,   0,   0,   0,   0,   0,   0,   0,   0,   0,   0,   0,   0,\n",
      "          0,   0,   0,   0,   0,   0,   0,   0,   0,   0,   0,   0,   0,   0,\n",
      "          0,   0,   0,   0,   0,   0,   0,   0,   0,   0,   0,   0,   0,   0,\n",
      "          0,   0,   0,   0,   0,   0,   0,   0,   0,   0,   0,   0,   0,   0,\n",
      "          0,   0]), tensor([ 87, 107, 104,  35, 115, 120, 117, 115, 114, 118, 104,  35, 114, 105,\n",
      "         35, 119, 107, 104,  35, 103, 108, 117, 104, 102, 119, 108, 121, 104,\n",
      "         35, 108, 118,  35, 119, 114,  35, 104, 113, 118, 120, 117, 104,  35,\n",
      "        119, 107, 100, 119,  35, 100,  35, 102, 117, 104, 103, 108, 119,  35,\n",
      "        108, 113, 118, 119, 108, 119, 120, 119, 108, 114, 113,  35, 100, 113,\n",
      "        103,  35, 108, 119, 118,  35, 101, 117, 100, 113, 102, 107, 104, 118,\n",
      "         35, 108, 113,  35, 114, 119, 107, 104, 117,  35,  80, 104, 112, 101,\n",
      "        104, 117,  35,  86, 119, 100, 119, 104, 118,  35, 100, 117, 104,  35,\n",
      "        117, 104, 114, 117, 106, 100, 113, 108, 118, 104, 103,  35, 114, 117,\n",
      "         35,   1]), tensor([ 87, 107, 108, 118,  35, 112, 104, 100, 113, 118,  35, 119, 107, 100,\n",
      "        119,  35, 119, 107, 104,  35, 100, 103, 112, 108, 113, 108, 118, 119,\n",
      "        117, 100, 119, 108, 121, 104,  35, 100, 120, 119, 107, 114, 117, 108,\n",
      "        119, 108, 104, 118,  35, 114, 105,  35, 119, 107, 104,  35, 107, 114,\n",
      "        112, 104,  35,  80, 104, 112, 101, 104, 117,  35,  86, 119, 100, 119,\n",
      "        104,  35, 107, 100, 121, 104,  35, 118, 114, 111, 104,  35, 109, 120,\n",
      "        117, 108, 118, 103, 108, 102, 119, 108, 114, 113,  35, 108, 113,  35,\n",
      "        102, 100, 117, 117, 124, 108, 113, 106,  35, 114, 120, 119,  35, 119,\n",
      "        107, 104,  35, 117, 104, 114, 117, 106, 100, 113, 108, 118, 100, 119,\n",
      "        108,   1]), tensor([ 87, 107, 108, 118,  35, 100, 115, 115, 111, 108, 104, 118,  35, 119,\n",
      "        114,  35, 100, 111, 111,  35, 102, 100, 118, 104, 118,  47,  35, 104,\n",
      "        123, 102, 104, 115, 119,  35, 122, 107, 104, 117, 104,  35,  68, 117,\n",
      "        119, 108, 102, 111, 104,  35,  53,  51,  35, 114, 105,  35, 119, 107,\n",
      "        108, 118,  35, 103, 108, 117, 104, 102, 119, 108, 121, 104,  35, 118,\n",
      "        115, 104, 102, 108, 105, 108, 104, 118,  35, 114, 119, 107, 104, 117,\n",
      "        122, 108, 118, 104,  49,   1,   0,   0,   0,   0,   0,   0,   0,   0,\n",
      "          0,   0,   0,   0,   0,   0,   0,   0,   0,   0,   0,   0,   0,   0,\n",
      "          0,   0,   0,   0,   0,   0,   0,   0,   0,   0,   0,   0,   0,   0,\n",
      "          0,   0]), tensor([ 87, 107, 104,  35, 100, 108, 112,  35, 114, 105,  35, 119, 107, 104,\n",
      "         35, 103, 108, 117, 104, 102, 119, 108, 121, 104,  35, 108, 118,  47,\n",
      "         35, 119, 107, 120, 118,  47,  35, 113, 114, 119,  35, 119, 114,  35,\n",
      "        107, 100, 117, 112, 114, 113, 108, 118, 104,  35, 101, 120, 119,  35,\n",
      "        119, 114,  35, 104, 113, 118, 120, 117, 104,  35, 104, 116, 120, 100,\n",
      "        111,  35, 119, 117, 104, 100, 119, 112, 104, 113, 119,  35, 114, 105,\n",
      "         35, 100, 111, 111,  35, 102, 117, 104, 103, 108, 119, 114, 117, 118,\n",
      "         35, 100, 113, 103,  35, 100,  35, 102, 114, 113, 118, 108, 118, 119,\n",
      "        104, 113, 119,  35, 100, 115, 115, 117, 114, 100, 102, 107,  35, 100,\n",
      "        102,   1]), tensor([ 68, 118,  35, 117, 100, 115, 115, 114, 117, 119, 104, 120, 117,  47,\n",
      "         35,  76,  35, 102, 100, 113,  35, 102, 114, 112, 115, 111, 104, 119,\n",
      "        104, 111, 124,  35, 108, 103, 104, 113, 119, 108, 105, 124,  35, 122,\n",
      "        108, 119, 107,  35, 119, 107, 104,  35, 119, 107, 117, 120, 118, 119,\n",
      "         35, 114, 105,  35, 119, 107, 108, 118,  35, 117, 104, 115, 114, 117,\n",
      "        119,  49,   1,   0,   0,   0,   0,   0,   0,   0,   0,   0,   0,   0,\n",
      "          0,   0,   0,   0,   0,   0,   0,   0,   0,   0,   0,   0,   0,   0,\n",
      "          0,   0,   0,   0,   0,   0,   0,   0,   0,   0,   0,   0,   0,   0,\n",
      "          0,   0,   0,   0,   0,   0,   0,   0,   0,   0,   0,   0,   0,   0,\n",
      "          0,   0]), tensor([ 76, 113,  35, 119, 100, 113, 103, 104, 112,  35, 122, 108, 119, 107,\n",
      "         35, 119, 107, 104,  35,  70, 114, 120, 113, 102, 108, 111,  35, 100,\n",
      "        113, 103,  35,  70, 114, 112, 112, 108, 118, 118, 108, 114, 113,  47,\n",
      "         35,  76,  35, 107, 100, 121, 104,  35, 119, 117, 108, 104, 103,  35,\n",
      "        119, 114,  35, 112, 100, 110, 104,  35, 100,  35, 105, 104, 122,  35,\n",
      "        108, 112, 115, 117, 114, 121, 104, 112, 104, 113, 119, 118,  35, 119,\n",
      "        114,  35, 119, 107, 108, 118,  35, 117, 104, 115, 114, 117, 119,  35,\n",
      "        108, 113,  35, 119, 107, 104,  35, 118, 107, 100, 115, 104,  35, 114,\n",
      "        105,  35, 119, 122, 114,  35, 119, 124, 115, 104, 118,  35, 114, 105,\n",
      "         35,   1]), tensor([ 87, 107, 104,  35, 105, 108, 117, 118, 119,  35, 119, 124, 115, 104,\n",
      "         35, 108, 118,  35, 117, 104, 111, 100, 119, 104, 103,  35, 119, 114,\n",
      "         35, 119, 107, 104,  35, 105, 100, 102, 119,  35, 119, 107, 100, 119,\n",
      "         35, 119, 107, 104,  35, 122, 114, 117, 103, 108, 113, 106,  35, 114,\n",
      "        105,  35, 119, 107, 104,  35,  70, 114, 120, 113, 102, 108, 111,  42,\n",
      "         35, 118,  35, 102, 114, 112, 112, 114, 113,  35, 115, 114, 118, 108,\n",
      "        119, 108, 114, 113,  35, 122, 100, 118,  35, 113, 114, 119,  35, 102,\n",
      "        114, 113, 118, 108, 118, 119, 104, 113, 119,  35, 122, 108, 119, 107,\n",
      "         35, 119, 107, 104,  35, 104, 123, 108, 118, 119, 108, 113, 106,  35,\n",
      "        108,   1]), tensor([ 87, 107, 108, 118,  35, 110, 108, 113, 103,  35, 114, 105,  35, 103,\n",
      "        108, 118, 102, 117, 104, 115, 100, 113, 102, 124,  35, 108, 113,  35,\n",
      "        103, 108, 117, 104, 102, 119, 108, 121, 104, 118,  35, 122, 107, 108,\n",
      "        102, 107,  35, 102, 114, 121, 104, 117,  35, 119, 107, 104,  35, 118,\n",
      "        100, 112, 104,  35, 118, 120, 101, 109, 104, 102, 119,  35, 112, 100,\n",
      "        119, 119, 104, 117,  35, 108, 118,  35, 120, 113, 100, 102, 102, 104,\n",
      "        115, 119, 100, 101, 111, 104,  47,  35, 120, 113, 111, 104, 118, 118,\n",
      "         35, 119, 107, 104, 117, 104,  35, 108, 118,  35, 100,  35, 106, 114,\n",
      "        114, 103,  35, 117, 104, 100, 118, 114, 113,  35, 105, 114, 117,  35,\n",
      "        108,   1]), tensor([ 68, 118,  35, 117, 100, 115, 115, 114, 117, 119, 104, 120, 117,  47,\n",
      "         35,  76,  35, 107, 100, 121, 104,  35, 119, 100, 110, 104, 113,  35,\n",
      "        106, 117, 104, 100, 119,  35, 115, 117, 108, 103, 104,  35, 108, 113,\n",
      "         35, 117, 104, 113, 103, 104, 117, 108, 113, 106,  35, 111, 104, 106,\n",
      "        108, 118, 111, 100, 119, 108, 114, 113,  35, 114, 113,  35, 119, 107,\n",
      "        108, 118,  35, 115, 100, 117, 119, 108, 102, 120, 111, 100, 117, 111,\n",
      "        124,  35, 108, 112, 115, 114, 117, 119, 100, 113, 119,  35, 118, 120,\n",
      "        101, 109, 104, 102, 119,  35, 112, 100, 119, 119, 104, 117,  35, 100,\n",
      "        118,  35, 102, 111, 104, 100, 117, 111, 124,  35, 100, 113, 103,  35,\n",
      "        119,   1]), tensor([ 68, 111, 111,  35, 114, 120, 117,  35, 100, 112, 104, 113, 103, 112,\n",
      "        104, 113, 119, 118,  35, 115, 104, 117, 119, 100, 108, 113,  35, 119,\n",
      "        114,  35,  68, 117, 119, 108, 102, 111, 104,  35,  53,  51,  47,  35,\n",
      "        122, 107, 108, 102, 107,  35, 103, 104, 100, 111, 118,  35, 122, 108,\n",
      "        119, 107,  35, 119, 107, 104,  35, 104, 123, 102, 104, 115, 119, 108,\n",
      "        114, 113, 118,  35, 119, 114,  35, 119, 107, 104,  35, 117, 120, 111,\n",
      "        104,  49,   1,   0,   0,   0,   0,   0,   0,   0,   0,   0,   0,   0,\n",
      "          0,   0,   0,   0,   0,   0,   0,   0,   0,   0,   0,   0,   0,   0,\n",
      "          0,   0,   0,   0,   0,   0,   0,   0,   0,   0,   0,   0,   0,   0,\n",
      "          0,   0]), tensor([ 86, 114, 112, 104,  35, 100, 112, 104, 113, 103, 112, 104, 113, 119,\n",
      "        118,  35, 101, 117, 108, 113, 106,  35, 119, 107, 104,  35, 103, 108,\n",
      "        117, 104, 102, 119, 108, 121, 104,  35, 108, 113, 119, 114,  35, 111,\n",
      "        108, 113, 104,  35, 122, 108, 119, 107,  35, 114, 119, 107, 104, 117,\n",
      "         35, 103, 108, 117, 104, 102, 119, 108, 121, 104, 118,  47,  35, 118,\n",
      "        120, 102, 107,  35, 100, 118,  35, 119, 107, 104,  35, 108, 113, 118,\n",
      "        114, 111, 121, 104, 113, 102, 124,  35, 103, 108, 117, 104, 102, 119,\n",
      "        108, 121, 104,  35, 100, 113, 103,  35, 119, 107, 104,  35, 122, 108,\n",
      "        113, 103, 108, 113, 106,  35, 120, 115,  35, 114, 105,  35, 108, 113,\n",
      "        118,   1]), tensor([ 69, 124,  35, 112, 104, 100, 113, 118,  35, 114, 105,  35,  68, 117,\n",
      "        119, 108, 102, 111, 104, 118,  35,  53,  51, 100,  35, 119, 114,  35,\n",
      "         53,  51, 103,  47,  35, 119, 107, 104, 124,  35, 100, 117, 104,  35,\n",
      "        117, 104,  48, 108, 113, 119, 117, 114, 103, 120, 102, 104, 103,  35,\n",
      "        108, 113,  35, 119, 107, 104,  35, 117, 104, 115, 114, 117, 119,  47,\n",
      "         35, 101, 120, 119,  35, 119, 107, 108, 118,  35, 119, 108, 112, 104,\n",
      "         35, 101, 124,  35, 120, 118, 108, 113, 106,  35, 119, 107, 104,  35,\n",
      "        118, 100, 112, 104,  35, 122, 114, 117, 103, 108, 113, 106,  35, 100,\n",
      "        118,  35, 108, 113,  35, 119, 107, 104,  35, 114, 119, 107, 104, 117,\n",
      "         35,   1]), tensor([ 87, 107, 104,  35, 118, 104, 102, 114, 113, 103,  35, 119, 124, 115,\n",
      "        104,  35, 114, 105,  35, 100, 112, 104, 113, 103, 112, 104, 113, 119,\n",
      "         35, 115, 104, 117, 119, 100, 108, 113, 118,  35, 119, 114,  35, 119,\n",
      "        107, 104,  35, 103, 104, 111, 104, 119, 108, 114, 113,  35, 114, 105,\n",
      "         35, 100,  35, 113, 120, 112, 101, 104, 117,  35, 114, 105,  35, 104,\n",
      "        123, 102, 104, 115, 119, 108, 114, 113, 118,  35, 119, 114,  35, 119,\n",
      "        107, 104,  35, 112, 100, 108, 113,  35, 117, 120, 111, 104,  49,   1,\n",
      "          0,   0,   0,   0,   0,   0,   0,   0,   0,   0,   0,   0,   0,   0,\n",
      "          0,   0,   0,   0,   0,   0,   0,   0,   0,   0,   0,   0,   0,   0,\n",
      "          0,   0]), tensor([ 87, 107, 104, 118, 104,  35, 104, 123, 102, 104, 115, 119, 108, 114,\n",
      "        113, 118,  35, 107, 100, 103,  35, 101, 104, 104, 113,  35, 122, 114,\n",
      "        117, 103, 104, 103,  35, 108, 113,  35, 100, 113,  35, 100, 112, 101,\n",
      "        108, 106, 120, 114, 120, 118,  35, 112, 100, 113, 113, 104, 117,  35,\n",
      "        100, 113, 103,  35, 122, 104, 117, 104,  35, 114, 115, 104, 113,  35,\n",
      "        119, 114,  35, 108, 113, 119, 104, 117, 115, 117, 104, 119, 100, 119,\n",
      "        108, 114, 113,  49,   1,   0,   0,   0,   0,   0,   0,   0,   0,   0,\n",
      "          0,   0,   0,   0,   0,   0,   0,   0,   0,   0,   0,   0,   0,   0,\n",
      "          0,   0,   0,   0,   0,   0,   0,   0,   0,   0,   0,   0,   0,   0,\n",
      "          0,   0]), tensor([ 68, 111, 118, 114,  47,  35, 119, 107, 104, 117, 104,  35, 122, 100,\n",
      "        118,  35, 119, 107, 104,  35, 117, 108, 118, 110,  47,  35, 108, 113,\n",
      "         35, 119, 107, 104,  35, 100, 117, 119, 108, 102, 111, 104,  35, 114,\n",
      "        113,  35, 119, 107, 104,  35, 117, 104, 106, 120, 111, 100, 119, 104,\n",
      "        103,  35, 112, 100, 117, 110, 104, 119, 118,  47,  35, 119, 107, 100,\n",
      "        119,  35, 119, 107, 104,  35, 104, 123, 102, 104, 115, 119, 108, 114,\n",
      "        113,  35, 122, 100, 118,  35, 112, 114, 117, 104,  35, 102, 114, 112,\n",
      "        115, 117, 104, 107, 104, 113, 118, 108, 121, 104,  35, 119, 107, 100,\n",
      "        113,  35, 119, 107, 104,  35, 112, 100, 108, 113,  35, 117, 120, 111,\n",
      "        104,   1]), tensor([ 71, 104, 118, 115, 108, 119, 104,  35, 119, 107, 108, 118,  47,  35,\n",
      "        119, 107, 104,  35, 100, 117, 119, 108, 102, 111, 104, 118,  35, 114,\n",
      "        113,  35, 117, 104, 106, 120, 111, 100, 119, 104, 103,  35, 112, 100,\n",
      "        117, 110, 104, 119, 118,  47,  35, 117, 104, 115, 120, 117, 102, 107,\n",
      "        100, 118, 104,  35, 100, 106, 117, 104, 104, 112, 104, 113, 119, 118,\n",
      "         47,  35, 113, 104, 119, 119, 108, 113, 106,  35, 100, 106, 117, 104,\n",
      "        104, 112, 104, 113, 119, 118,  35, 100, 113, 103,  35, 103, 104, 101,\n",
      "        119,  35, 117, 104, 113, 104, 122, 100, 111,  35, 122, 104, 117, 104,\n",
      "         35, 108, 113, 102, 111, 120, 103, 104, 103,  35, 100, 118,  35, 118,\n",
      "        120,   1]), tensor([ 76, 113,  35, 119, 107, 104,  35, 105, 108, 117, 118, 119,  35, 108,\n",
      "        113, 118, 119, 100, 113, 102, 104,  47,  35,  76,  35, 122, 100, 113,\n",
      "        119, 104, 103,  35, 119, 114,  35, 118, 104, 104,  35, 119, 107, 104,\n",
      "        118, 104,  35, 100, 117, 119, 108, 102, 111, 104, 118,  35, 103, 104,\n",
      "        111, 104, 119, 104, 103,  49,   1,   0,   0,   0,   0,   0,   0,   0,\n",
      "          0,   0,   0,   0,   0,   0,   0,   0,   0,   0,   0,   0,   0,   0,\n",
      "          0,   0,   0,   0,   0,   0,   0,   0,   0,   0,   0,   0,   0,   0,\n",
      "          0,   0,   0,   0,   0,   0,   0,   0,   0,   0,   0,   0,   0,   0,\n",
      "          0,   0,   0,   0,   0,   0,   0,   0,   0,   0,   0,   0,   0,   0,\n",
      "          0,   0]), tensor([ 87, 107, 104,  35, 114, 113, 111, 124,  35, 115, 117, 114, 101, 111,\n",
      "        104, 112,  35, 122, 100, 118,  35, 119, 107, 100, 119,  35, 102, 104,\n",
      "        117, 119, 100, 108, 113,  35, 115, 100, 117, 119, 108, 104, 118,  35,\n",
      "        122, 108, 119, 107, 108, 113,  35, 119, 107, 104,  35,  70, 114, 120,\n",
      "        113, 102, 108, 111,  35, 102, 114, 120, 111, 103,  35, 113, 114, 119,\n",
      "         35, 111, 108, 121, 104,  35, 122, 108, 119, 107,  35, 102, 114, 112,\n",
      "        115, 111, 104, 119, 104, 111, 124,  35, 103, 104, 111, 104, 119, 108,\n",
      "        113, 106,  35, 119, 107, 104, 118, 104,  35, 100, 117, 119, 108, 102,\n",
      "        111, 104, 118,  49,   1,   0,   0,   0,   0,   0,   0,   0,   0,   0,\n",
      "          0,   0]), tensor([ 73, 114, 117,  35, 119, 107, 108, 118,  35, 117, 104, 100, 118, 114,\n",
      "        113,  47,  35,  76,  35, 107, 100, 121, 104,  35, 119, 117, 108, 104,\n",
      "        103,  35, 119, 114,  35, 117, 104, 100, 102, 107,  35, 100, 106, 117,\n",
      "        104, 104, 112, 104, 113, 119,  35, 122, 108, 119, 107,  35, 119, 107,\n",
      "        104,  35,  70, 114, 120, 113, 102, 108, 111,  47,  35, 100, 113, 103,\n",
      "         35, 119, 107, 108, 118,  35, 122, 100, 118,  35, 103, 114, 113, 104,\n",
      "         35, 100, 119,  35, 119, 107, 104,  35, 104, 111, 104, 121, 104, 113,\n",
      "        119, 107,  35, 107, 114, 120, 117,  35, 111, 100, 118, 119,  35,  90,\n",
      "        104, 103, 113, 104, 118, 103, 100, 124,  49,   1,   0,   0,   0,   0,\n",
      "          0,   0]), tensor([ 87, 107, 104,  35, 102, 114, 112, 115, 117, 114, 112, 108, 118, 104,\n",
      "         35, 118, 119, 108, 111, 111,  35, 115, 117, 104, 118, 102, 117, 108,\n",
      "        101, 104, 118,  35, 119, 107, 104,  35, 103, 104, 111, 104, 119, 108,\n",
      "        114, 113,  35, 114, 105,  35, 119, 107, 104,  35, 119, 107, 117, 104,\n",
      "        104,  35, 100, 117, 119, 108, 102, 111, 104, 118,  47,  35, 101, 120,\n",
      "        119,  35, 119, 107, 117, 104, 104,  35, 114, 119, 107, 104, 117,  35,\n",
      "        100, 117, 119, 108, 102, 111, 104, 118,  35, 122, 108, 111, 111,  35,\n",
      "        101, 104,  35, 108, 113, 118, 104, 117, 119, 104, 103,  35, 108, 113,\n",
      "        118, 119, 104, 100, 103,  49,   1,   0,   0,   0,   0,   0,   0,   0,\n",
      "          0,   0]), tensor([ 69, 117, 114, 100, 103, 111, 124,  35, 118, 115, 104, 100, 110, 108,\n",
      "        113, 106,  47,  35, 119, 107, 104,  35, 102, 114, 112, 115, 117, 114,\n",
      "        112, 108, 118, 104,  35, 100, 117, 119, 108, 102, 111, 104, 118,  35,\n",
      "        103, 114,  35, 113, 114, 119,  35, 115, 117, 104, 109, 120, 103, 108,\n",
      "        102, 104,  35, 111, 104, 106, 108, 118, 111, 100, 119, 108, 114, 113,\n",
      "         35, 114, 105,  35, 119, 107, 104,  35,  80, 104, 112, 101, 104, 117,\n",
      "         35,  86, 119, 100, 119, 104,  35, 119, 114,  35, 122, 107, 108, 102,\n",
      "        107,  35, 119, 107, 104,  35, 102, 114, 113, 119, 117, 100, 102, 119,\n",
      "         35, 115, 104, 117, 119, 100, 108, 113, 118,  49,   1,   0,   0,   0,\n",
      "          0,   0]), tensor([ 87, 107, 104, 118, 104,  35, 100, 117, 119, 108, 102, 111, 104, 118,\n",
      "         35, 100, 111, 118, 114,  35, 102, 111, 100, 117, 108, 105, 124,  35,\n",
      "        119, 107, 100, 119,  35, 119, 107, 104,  35, 101, 100, 113, 110, 117,\n",
      "        120, 115, 119, 102, 124,  35, 117, 120, 111, 104, 118,  35, 114, 105,\n",
      "         35, 119, 107, 104,  35, 107, 114, 112, 104,  35,  80, 104, 112, 101,\n",
      "        104, 117,  35,  86, 119, 100, 119, 104,  35, 114, 105,  35, 119, 107,\n",
      "        104,  35, 102, 117, 104, 103, 108, 119,  35, 108, 113, 118, 119, 108,\n",
      "        119, 120, 119, 108, 114, 113,  35, 108, 113,  35, 116, 120, 104, 118,\n",
      "        119, 108, 114, 113,  35, 100, 117, 104,  35, 113, 114, 119,  35, 115,\n",
      "        117,   1]), tensor([ 87, 107, 100, 119,  35, 112, 104, 100, 113, 118,  47,  35, 119, 107,\n",
      "        104, 117, 104, 105, 114, 117, 104,  47,  35, 119, 107, 100, 119,  35,\n",
      "        108, 105,  35, 102, 114, 113, 119, 117, 100, 102, 119, 118,  35, 100,\n",
      "        117, 104,  35, 102, 114, 113, 102, 111, 120, 103, 104, 103,  35, 122,\n",
      "        108, 119, 107,  35, 117, 104, 106, 120, 111, 100, 119, 104, 103,  35,\n",
      "        108, 113, 118, 119, 108, 119, 120, 119, 108, 114, 113, 118,  47,  35,\n",
      "        119, 107, 104,  35, 115, 117, 114, 102, 104, 104, 103, 118,  35, 105,\n",
      "        117, 114, 112,  35, 119, 107, 114, 118, 104,  35, 102, 114, 113, 119,\n",
      "        117, 100, 102, 119, 118,  35, 100, 117, 104,  35, 118, 119, 108, 111,\n",
      "        111,   1]), tensor([ 87, 107, 100, 119,  35, 108, 118,  35, 122, 107, 100, 119,  35, 119,\n",
      "        107, 108, 118,  35, 108, 118,  35, 100, 101, 114, 120, 119,  47,  35,\n",
      "        100, 113, 103,  35, 119, 107, 100, 119,  35, 122, 100, 118,  35, 119,\n",
      "        107, 104,  35, 117, 104, 100, 118, 114, 113,  35, 101, 104, 107, 108,\n",
      "        113, 103,  35, 112, 124,  35, 114, 117, 108, 106, 108, 113, 100, 111,\n",
      "         35, 115, 117, 114, 115, 114, 118, 100, 111,  35, 119, 114,  35, 103,\n",
      "        104, 111, 104, 119, 104,  49,   1,   0,   0,   0,   0,   0,   0,   0,\n",
      "          0,   0,   0,   0,   0,   0,   0,   0,   0,   0,   0,   0,   0,   0,\n",
      "          0,   0,   0,   0,   0,   0,   0,   0,   0,   0,   0,   0,   0,   0,\n",
      "          0,   0]), tensor([ 72, 121, 104, 117, 124, 119, 107, 108, 113, 106,  35, 108, 118,  35,\n",
      "        113, 114, 122,  35, 118, 115, 104, 111, 111, 104, 103,  35, 114, 120,\n",
      "        119,  35, 111, 114, 120, 103,  35, 100, 113, 103,  35, 102, 111, 104,\n",
      "        100, 117,  47,  35, 104, 121, 104, 117, 124, 114, 113, 104,  35, 108,\n",
      "        118,  35, 107, 100, 115, 115, 124,  35, 100, 113, 103,  35,  76,  35,\n",
      "        100, 112,  35, 103, 104, 111, 108, 106, 107, 119, 104, 103,  35, 119,\n",
      "        107, 100, 119,  47,  35, 101, 124,  35, 109, 114, 108, 113, 108, 113,\n",
      "        106,  35, 105, 114, 117, 102, 104, 118,  47,  35, 122, 104,  35, 107,\n",
      "        100, 121, 104,  35, 115, 117, 114, 101, 100, 101, 111, 124,  35, 100,\n",
      "        121,   1]), tensor([ 90, 104,  35, 100, 117, 104,  35, 119, 107, 120, 118,  35, 119, 100,\n",
      "        101, 111, 108, 113, 106,  35, 119, 122, 114,  35, 119, 124, 115, 104,\n",
      "        118,  35, 114, 105,  35, 100, 112, 104, 113, 103, 112, 104, 113, 119,\n",
      "         49,   1,   0,   0,   0,   0,   0,   0,   0,   0,   0,   0,   0,   0,\n",
      "          0,   0,   0,   0,   0,   0,   0,   0,   0,   0,   0,   0,   0,   0,\n",
      "          0,   0,   0,   0,   0,   0,   0,   0,   0,   0,   0,   0,   0,   0,\n",
      "          0,   0,   0,   0,   0,   0,   0,   0,   0,   0,   0,   0,   0,   0,\n",
      "          0,   0,   0,   0,   0,   0,   0,   0,   0,   0,   0,   0,   0,   0,\n",
      "          0,   0,   0,   0,   0,   0,   0,   0,   0,   0,   0,   0,   0,   0,\n",
      "          0,   0]), tensor([ 82, 113, 104,  35, 119, 124, 115, 104,  35, 108, 118,  35, 108, 113,\n",
      "        119, 117, 114, 103, 120, 102, 108, 113, 106,  35, 107, 100, 117, 112,\n",
      "        114, 113, 108, 118, 100, 119, 108, 114, 113,  35, 122, 108, 119, 107,\n",
      "         35, 117, 104, 118, 115, 104, 102, 119,  35, 119, 114,  35, 114, 119,\n",
      "        107, 104, 117,  35, 103, 108, 117, 104, 102, 119, 108, 121, 104, 118,\n",
      "         47,  35, 119, 107, 104,  35, 114, 119, 107, 104, 117,  35, 103, 104,\n",
      "        111, 104, 119, 108, 113, 106,  35, 100,  35, 113, 120, 112, 101, 104,\n",
      "        117,  35, 114, 105,  35, 104, 123, 102, 104, 115, 119, 108, 114, 113,\n",
      "        118,  49,   1,   0,   0,   0,   0,   0,   0,   0,   0,   0,   0,   0,\n",
      "          0,   0]), tensor([ 76,  35, 107, 114, 115, 104,  35, 105, 117, 114, 112,  35, 119, 107,\n",
      "        104,  35, 101, 114, 119, 119, 114, 112,  35, 114, 105,  35, 112, 124,\n",
      "         35, 107, 104, 100, 117, 119,  35, 119, 107, 100, 119,  35, 119, 107,\n",
      "        108, 118,  35, 111, 104, 106, 108, 118, 111, 100, 119, 108, 114, 113,\n",
      "         47,  35, 122, 107, 108, 102, 107,  35,  76,  35, 101, 104, 111, 108,\n",
      "        104, 121, 104,  35,  83, 100, 117, 111, 108, 100, 112, 104, 113, 119,\n",
      "         35, 107, 100, 118,  35, 120, 115, 106, 117, 100, 103, 104, 103,  35,\n",
      "        108, 113,  35, 119, 104, 117, 112, 118,  35, 114, 105,  35, 116, 120,\n",
      "        100, 111, 108, 119, 124,  47,  35, 122, 108, 111, 111,  35, 113, 104,\n",
      "        121,   1]), tensor([ 80, 117,  35,  83, 117, 104, 118, 108, 103, 104, 113, 119,  47,  35,\n",
      "        119, 107, 104,  35, 112, 100, 108, 113,  35, 115, 114, 108, 113, 119,\n",
      "        118,  35, 114, 105,  35, 102, 114, 113, 119, 117, 114, 121, 104, 117,\n",
      "        118, 124,  35, 108, 113,  35, 119, 107, 108, 118,  35, 117, 104, 115,\n",
      "        114, 117, 119,  35, 102, 114, 113, 102, 104, 117, 113,  35, 119, 107,\n",
      "        117, 104, 104,  35, 103, 108, 105, 105, 104, 117, 104, 113, 119,  35,\n",
      "        119, 124, 115, 104, 118,  35, 114, 105,  35, 102, 114, 113, 119, 117,\n",
      "        100, 102, 119, 120, 100, 111,  35, 100, 106, 117, 104, 104, 112, 104,\n",
      "        113, 119,  47,  35, 113, 100, 112, 104, 111, 124,  35, 117, 104, 115,\n",
      "        114,   1]), tensor([ 68, 118,  35,  80, 117, 118,  35,  83, 104, 108, 109, 118,  42,  35,\n",
      "        117, 104, 115, 114, 117, 119,  35, 114, 120, 119, 111, 108, 113, 104,\n",
      "        103,  47,  35, 119, 107, 104, 118, 104,  35, 119, 124, 115, 104, 118,\n",
      "         35, 114, 105,  35, 102, 114, 113, 119, 117, 100, 102, 119, 118,  35,\n",
      "        122, 104, 117, 104,  35, 103, 108, 118, 102, 120, 118, 118, 104, 103,\n",
      "         35, 108, 113,  35, 102, 114, 112, 112, 108, 119, 119, 104, 104,  35,\n",
      "        115, 104, 113, 103, 108, 113, 106,  35, 119, 107, 108, 118,  35, 103,\n",
      "        104, 101, 100, 119, 104,  35, 100, 113, 103,  47,  35, 108, 113,  35,\n",
      "        104, 118, 118, 104, 113, 102, 104,  47,  35, 122, 107, 100, 119,  35,\n",
      "        122,   1]), tensor([ 87, 107, 104, 117, 104,  35, 108, 118,  35, 100,  35, 118, 104, 115,\n",
      "        100, 117, 100, 119, 108, 114, 113,  35, 107, 104, 117, 104,  35, 101,\n",
      "        104, 119, 122, 104, 104, 113,  35, 119, 107, 104,  35, 111, 100, 122,\n",
      "         35, 114, 105,  35, 119, 107, 104,  35, 102, 114, 113, 119, 117, 100,\n",
      "        102, 119,  35, 100, 113, 103,  35, 119, 107, 104,  35, 104, 123, 119,\n",
      "        104, 117, 113, 100, 111,  35, 108, 113, 118, 114, 111, 121, 104, 113,\n",
      "        102, 124,  35, 111, 100, 122,  47,  35, 101, 104, 102, 100, 120, 118,\n",
      "        104,  35, 108, 119,  35, 108, 118,  35, 116, 120, 108, 119, 104,  35,\n",
      "        108, 112, 115, 114, 117, 119, 100, 113, 119,  35, 119, 114,  35, 104,\n",
      "        113,   1]), tensor([ 81, 114, 122,  35, 100,  35, 115, 117, 114, 101, 111, 104, 112,  35,\n",
      "        100, 117, 108, 118, 104, 118,  35, 102, 114, 113, 102, 104, 117, 113,\n",
      "        108, 113, 106,  35, 119, 107, 104,  35, 108, 113, 119, 104, 117, 100,\n",
      "        102, 119, 108, 114, 113,  35, 101, 104, 119, 122, 104, 104, 113,  35,\n",
      "        119, 107, 104,  35, 111, 100, 122,  35, 114, 105,  35, 102, 114, 113,\n",
      "        119, 117, 100, 102, 119,  35, 100, 113, 103,  35, 108, 113, 118, 114,\n",
      "        111, 121, 104, 113, 102, 124,  35, 111, 100, 122,  49,   1,   0,   0,\n",
      "          0,   0,   0,   0,   0,   0,   0,   0,   0,   0,   0,   0,   0,   0,\n",
      "          0,   0,   0,   0,   0,   0,   0,   0,   0,   0,   0,   0,   0,   0,\n",
      "          0,   0]), tensor([ 90, 107, 100, 119,  35, 122, 104,  35, 100, 117, 104,  35, 119, 117,\n",
      "        124, 108, 113, 106,  35, 119, 114,  35, 103, 114,  35, 108, 118,  35,\n",
      "        119, 114,  35, 104, 113, 118, 120, 117, 104,  35, 119, 107, 100, 119,\n",
      "         35, 119, 107, 104,  35, 102, 114, 113, 119, 117, 100, 102, 119,  35,\n",
      "        114, 115, 104, 117, 100, 119, 104, 118,  35, 100, 113, 103,  35, 122,\n",
      "        107, 100, 119, 104, 121, 104, 117,  35, 115, 117, 114, 102, 104, 104,\n",
      "        103, 118,  35, 100, 117, 104,  35, 111, 104, 105, 119,  35, 100, 119,\n",
      "         35, 119, 107, 104,  35, 114, 119, 107, 104, 117,  35, 104, 113, 103,\n",
      "         35, 100, 117, 104,  35, 119, 107, 104, 113,  35, 103, 104, 100, 111,\n",
      "        119,   1]), tensor([ 87, 107, 104, 117, 104,  35, 108, 118,  35, 118, 119, 108, 111, 111,\n",
      "         35, 114, 113, 104,  35, 118, 111, 108, 106, 107, 119,  35, 120, 113,\n",
      "        102, 104, 117, 119, 100, 108, 113, 119, 124,  35, 108, 113,  35, 119,\n",
      "        107, 104,  35, 119, 104, 123, 119,  35, 100, 101, 114, 120, 119,  35,\n",
      "        122, 107, 100, 119,  35, 107, 100, 115, 115, 104, 113, 118,  35, 122,\n",
      "        108, 119, 107,  35, 117, 104, 106, 108, 112, 104, 118,  47,  35, 105,\n",
      "        114, 117,  35, 104, 123, 100, 112, 115, 111, 104,  47,  35, 108, 113,\n",
      "         35,  86, 115, 100, 108, 113,  35, 122, 107, 108, 102, 107,  35, 107,\n",
      "        100, 121, 104,  35, 108, 113, 118, 114, 111, 121, 104, 113, 102, 124,\n",
      "         35,   1]), tensor([ 76, 113,  35, 104, 118, 118, 104, 113, 102, 104,  47,  35, 119, 107,\n",
      "        104, 118, 104,  35, 100, 117, 104,  35, 110, 113, 114, 122, 113,  35,\n",
      "        100, 118,  35, 100, 120, 119, 114, 112, 100, 119, 108, 102,  35, 118,\n",
      "        119, 100, 124, 118,  35, 100, 113, 103,  35, 112, 104, 100, 113,  35,\n",
      "        119, 107, 100, 119,  35, 108, 113,  35, 102, 104, 117, 119, 100, 108,\n",
      "        113,  35, 102, 114, 120, 113, 119, 117, 108, 104, 118,  47,  35, 118,\n",
      "        120, 102, 107,  35, 100, 118,  35,  86, 115, 100, 108, 113,  47,  35,\n",
      "         76,  35, 101, 104, 111, 108, 104, 121, 104,  35, 100, 111, 111,  35,\n",
      "        102, 114, 113, 119, 117, 100, 102, 119, 118,  35, 100, 117, 104,  35,\n",
      "        118,   1]), tensor([ 76,  35, 100, 115, 115, 111, 100, 120, 103,  35,  80, 117, 118,  35,\n",
      "         83, 104, 108, 109, 118,  42,  35, 122, 114, 117, 110,  35, 108, 113,\n",
      "         35, 117, 104, 102, 114, 113, 102, 108, 111, 108, 113, 106,  35, 122,\n",
      "        107, 100, 119,  35, 111, 114, 114, 110, 104, 103,  35, 105, 100, 108,\n",
      "        117, 111, 124,  35, 108, 117, 117, 104, 102, 114, 113, 102, 108, 111,\n",
      "        100, 101, 111, 104,  35, 100, 113, 103,  35, 102, 114, 112, 108, 113,\n",
      "        106,  35, 120, 115,  35, 122, 108, 119, 107,  35, 100,  35, 118, 114,\n",
      "        111, 120, 119, 108, 114, 113,  35, 119, 107, 100, 119,  35, 105, 100,\n",
      "        121, 114, 120, 117, 118,  35, 107, 114, 112, 104,  35,  86, 119, 100,\n",
      "        119,   1]), tensor([ 76,  35, 107, 114, 115, 104,  35, 119, 107, 100, 119,  35, 122, 104,\n",
      "         35, 122, 108, 111, 111,  35, 113, 114, 119,  35, 107, 100, 121, 104,\n",
      "         35, 119, 114,  35, 107, 100, 121, 104,  35, 100,  35, 119, 107, 108,\n",
      "        117, 103,  35, 117, 104, 100, 103, 108, 113, 106,  47,  35, 101, 120,\n",
      "        119,  35, 122, 104,  35, 112, 100, 124,  35, 107, 100, 121, 104,  35,\n",
      "        119, 114,  35, 109, 120, 118, 119,  35, 119, 114,  35, 112, 100, 110,\n",
      "        104,  35, 108, 119,  35, 100, 101, 118, 114, 111, 120, 119, 104, 111,\n",
      "        124,  35, 102, 111, 104, 100, 117,  35, 119, 107, 100, 119,  35, 119,\n",
      "        107, 104, 118, 104,  35, 100, 120, 119, 114, 112, 100, 119, 108, 102,\n",
      "         35,   1]), tensor([ 76,  35, 122, 114, 120, 111, 103,  35, 100, 115, 115, 104, 100, 111,\n",
      "         35, 119, 114,  35, 119, 107, 104,  35,  75, 114, 120, 118, 104,  35,\n",
      "        119, 107, 100, 119,  35, 108, 113,  35, 118, 114, 112, 104,  35, 122,\n",
      "        100, 124, 118,  35, 108, 119,  35, 108, 118,  35, 112, 114, 117, 104,\n",
      "         35, 108, 112, 115, 114, 117, 119, 100, 113, 119,  35, 119, 114,  35,\n",
      "        106, 104, 119,  35, 100,  35, 102, 111, 104, 100, 117,  35, 100, 113,\n",
      "        118, 122, 104, 117,  35, 119, 107, 100, 113,  35, 119, 114,  35, 106,\n",
      "        104, 119,  35, 114, 113, 104,  35, 119, 107, 100, 119,  35, 118, 120,\n",
      "        108, 119, 118,  35, 104, 121, 104, 117, 124, 114, 113, 104,  62,  35,\n",
      "        114,   1]), tensor([ 69, 104, 102, 100, 120, 118, 104,  35, 122, 108, 119, 107,  35, 100,\n",
      "         35, 102, 111, 104, 100, 117,  35, 100, 113, 118, 122, 104, 117,  35,\n",
      "        115, 104, 114, 115, 111, 104,  35, 102, 100, 113,  35, 100, 117, 117,\n",
      "        100, 113, 106, 104,  35, 119, 107, 104, 108, 117,  35, 119, 117, 100,\n",
      "        113, 118, 100, 102, 119, 108, 114, 113, 118,  35, 100, 117, 114, 120,\n",
      "        113, 103,  35, 119, 107, 104,  35, 105, 117, 100, 112, 104, 122, 114,\n",
      "        117, 110,  35, 119, 107, 100, 119,  35, 122, 104,  35, 107, 100, 121,\n",
      "        104,  35, 118, 104, 119,  35, 120, 115,  49,   1,   0,   0,   0,   0,\n",
      "          0,   0,   0,   0,   0,   0,   0,   0,   0,   0,   0,   0,   0,   0,\n",
      "          0,   0]), tensor([ 76, 119,  35, 108, 118,  35, 121, 108, 119, 100, 111,  35, 119, 114,\n",
      "         35, 103, 114,  35, 119, 107, 100, 119,  49,   1,   0,   0,   0,   0,\n",
      "          0,   0,   0,   0,   0,   0,   0,   0,   0,   0,   0,   0,   0,   0,\n",
      "          0,   0,   0,   0,   0,   0,   0,   0,   0,   0,   0,   0,   0,   0,\n",
      "          0,   0,   0,   0,   0,   0,   0,   0,   0,   0,   0,   0,   0,   0,\n",
      "          0,   0,   0,   0,   0,   0,   0,   0,   0,   0,   0,   0,   0,   0,\n",
      "          0,   0,   0,   0,   0,   0,   0,   0,   0,   0,   0,   0,   0,   0,\n",
      "          0,   0,   0,   0,   0,   0,   0,   0,   0,   0,   0,   0,   0,   0,\n",
      "          0,   0,   0,   0,   0,   0,   0,   0,   0,   0,   0,   0,   0,   0,\n",
      "          0,   0]), tensor([ 76,  35, 100, 115, 115, 111, 100, 120, 103,  35, 119, 107, 104,  35,\n",
      "        122, 114, 117, 110,  35, 119, 107, 100, 119,  35,  80, 117, 118,  35,\n",
      "         83, 104, 108, 109, 118,  35, 107, 100, 118,  35, 103, 114, 113, 104,\n",
      "         35, 100, 113, 103,  35,  76,  35, 107, 114, 115, 104,  35, 119, 107,\n",
      "        100, 119,  35, 122, 104,  35, 107, 100, 121, 104,  35, 105, 108, 113,\n",
      "        100, 111, 111, 124,  35, 118, 114, 117, 119, 104, 103,  35, 119, 107,\n",
      "        108, 118,  35, 108, 118, 118, 120, 104,  35, 114, 120, 119,  49,   1,\n",
      "          0,   0,   0,   0,   0,   0,   0,   0,   0,   0,   0,   0,   0,   0,\n",
      "          0,   0,   0,   0,   0,   0,   0,   0,   0,   0,   0,   0,   0,   0,\n",
      "          0,   0]), tensor([ 76,  35, 109, 120, 118, 119,  35, 107, 100, 121, 104,  35, 102, 104,\n",
      "        117, 119, 100, 108, 113,  35, 122, 114, 117, 117, 108, 104, 118,  35,\n",
      "        100, 101, 114, 120, 119,  35, 119, 107, 104,  35, 100, 120, 119, 114,\n",
      "        112, 100, 119, 108, 102,  35, 118, 119, 100, 124, 118,  35, 100, 113,\n",
      "        103,  35, 118, 120, 118, 115, 104, 102, 119,  35, 119, 107, 100, 119,\n",
      "         35, 122, 104,  35, 112, 108, 106, 107, 119,  35, 113, 104, 104, 103,\n",
      "         35, 118, 114, 112, 104,  35, 105, 108, 113, 104,  48, 119, 120, 113,\n",
      "        108, 113, 106,  35, 100, 119,  35, 100,  35, 111, 100, 119, 104, 117,\n",
      "         35, 118, 119, 100, 106, 104,  49,   1,   0,   0,   0,   0,   0,   0,\n",
      "          0,   0]), tensor([ 87, 107, 104,  35, 114, 119, 107, 104, 117,  35, 102, 114, 113, 119,\n",
      "        117, 114, 121, 104, 117, 118, 108, 100, 111,  35, 108, 118, 118, 120,\n",
      "        104,  35, 108, 113, 121, 114, 111, 121, 104, 118,  35, 117, 108, 106,\n",
      "        107, 119,  35, 108, 113,  35, 117, 104, 112,  35, 100, 113, 103,  35,\n",
      "        119, 107, 104,  35, 103, 108, 105, 105, 104, 117, 104, 113, 102, 104,\n",
      "         35, 101, 104, 119, 122, 104, 104, 113,  35, 119, 107, 104,  35, 102,\n",
      "        114, 112, 112, 114, 113,  35, 115, 114, 118, 108, 119, 108, 114, 113,\n",
      "         35, 100, 113, 103,  35, 119, 107, 104,  35, 119, 108, 103, 124, 108,\n",
      "        113, 106,  35, 120, 115,  35, 114, 115, 104, 117, 100, 119, 108, 114,\n",
      "        113,   1]), tensor([ 76, 113,  35, 104, 118, 118, 104, 113, 102, 104,  47,  35, 119, 107,\n",
      "        104, 117, 104,  35, 108, 118,  35, 100,  35, 111, 114, 119,  35, 114,\n",
      "        105,  35, 102, 114, 112, 112, 114, 113,  35, 106, 117, 114, 120, 113,\n",
      "        103,  35, 101, 104, 119, 122, 104, 104, 113,  35, 122, 107, 100, 119,\n",
      "         35, 119, 107, 104,  35,  70, 114, 120, 113, 102, 108, 111,  35, 115,\n",
      "        117, 114, 115, 114, 118, 104, 118,  35, 108, 113,  35, 119, 107, 104,\n",
      "         35, 102, 114, 112, 112, 114, 113,  35, 115, 114, 118, 108, 119, 108,\n",
      "        114, 113,  35, 100, 113, 103,  35, 119, 107, 104,  35, 100, 111, 119,\n",
      "        104, 117, 113, 100, 119, 108, 121, 104,  35, 122, 114, 117, 103, 108,\n",
      "        113,   1]), tensor([ 76,  35, 100, 112,  35, 108, 113, 102, 111, 108, 113, 104, 103,  35,\n",
      "        119, 114,  35, 119, 107, 108, 113, 110,  47,  35, 108, 113,  35, 121,\n",
      "        108, 104, 122,  35, 114, 105,  35, 119, 107, 104,  35, 120, 113, 102,\n",
      "        104, 117, 119, 100, 108, 113, 119, 124,  47,  35, 119, 107, 100, 119,\n",
      "         35, 108, 119,  35, 112, 100, 124,  35, 122, 104, 111, 111,  35, 101,\n",
      "        104,  35, 122, 114, 117, 119, 107,  35, 118, 119, 108, 102, 110, 108,\n",
      "        113, 106,  35, 119, 114,  35, 119, 107, 104,  35, 102, 114, 112, 112,\n",
      "        114, 113,  35, 115, 114, 118, 108, 119, 108, 114, 113,  35, 114, 113,\n",
      "         35, 119, 107, 100, 119,  35, 115, 100, 117, 119, 108, 102, 120, 111,\n",
      "        100,   1]), tensor([ 87, 107, 108, 118,  35, 108, 118,  35, 113, 114, 119,  35, 100,  35,\n",
      "        118, 119, 117, 100, 119, 104, 106, 108, 102,  35, 108, 113, 119, 104,\n",
      "        117, 104, 118, 119,  35, 119, 114,  35, 112, 104,  35, 100, 118,  35,\n",
      "        100,  35,  69, 117, 108, 119, 108, 118, 107,  35,  80,  72,  83,  47,\n",
      "         35, 101, 104, 102, 100, 120, 118, 104,  35, 108, 119,  35, 103, 114,\n",
      "        104, 118,  35, 113, 114, 119,  35, 100, 105, 105, 104, 102, 119,  35,\n",
      "        119, 107, 104,  35,  69, 117, 108, 119, 108, 118, 107,  35, 112, 100,\n",
      "        117, 110, 104, 119,  35, 108, 113,  35, 100, 113, 124,  35, 122, 100,\n",
      "        124,  35,  48,  35, 108, 119,  35, 108, 118,  35, 112, 120, 102, 107,\n",
      "         35,   1]), tensor([ 76,  35, 122, 114, 120, 111, 103,  35, 102, 114, 113, 106, 117, 100,\n",
      "        119, 120, 111, 100, 119, 104,  35,  80, 117, 118,  35,  83, 104, 108,\n",
      "        109, 118,  35, 114, 113,  35, 107, 104, 117,  35, 122, 114, 117, 110,\n",
      "         49,   1,   0,   0,   0,   0,   0,   0,   0,   0,   0,   0,   0,   0,\n",
      "          0,   0,   0,   0,   0,   0,   0,   0,   0,   0,   0,   0,   0,   0,\n",
      "          0,   0,   0,   0,   0,   0,   0,   0,   0,   0,   0,   0,   0,   0,\n",
      "          0,   0,   0,   0,   0,   0,   0,   0,   0,   0,   0,   0,   0,   0,\n",
      "          0,   0,   0,   0,   0,   0,   0,   0,   0,   0,   0,   0,   0,   0,\n",
      "          0,   0,   0,   0,   0,   0,   0,   0,   0,   0,   0,   0,   0,   0,\n",
      "          0,   0]), tensor([ 76, 119,  35, 108, 118,  35, 100,  35, 121, 104, 117, 124,  35, 106,\n",
      "        114, 114, 103,  35, 117, 104, 115, 114, 117, 119,  49,  35,  87, 107,\n",
      "        104, 117, 104,  35, 100, 117, 104,  35, 118, 119, 108, 111, 111,  35,\n",
      "        114, 113, 104,  35, 114, 117,  35, 119, 122, 114,  35, 118, 112, 100,\n",
      "        111, 111,  35, 115, 114, 108, 113, 119, 118,  35, 114, 105,  35, 102,\n",
      "        114, 113, 119, 117, 114, 121, 104, 117, 118, 124,  35, 108, 113,  35,\n",
      "        108, 119,  47,  35, 101, 120, 119,  35, 118, 107, 104,  35, 107, 100,\n",
      "        118,  35, 103, 114, 113, 104,  35, 100, 113,  35, 104, 123, 102, 104,\n",
      "        111, 111, 104, 113, 119,  35, 109, 114, 101,  49,   1,   0,   0,   0,\n",
      "          0,   0]), tensor([ 76,  35, 100, 115, 114, 111, 114, 106, 108, 118, 104,  35, 105, 114,\n",
      "        117,  35, 119, 107, 104,  35, 102, 114, 113, 105, 120, 118, 108, 114,\n",
      "        113,  35, 122, 104,  35, 107, 100, 121, 104,  35, 107, 100, 103,  35,\n",
      "        108, 113,  35, 102, 114, 112, 112, 108, 119, 119, 104, 104,  35, 114,\n",
      "        121, 104, 117,  35, 119, 107, 104,  35, 121, 114, 119, 108, 113, 106,\n",
      "         35, 100, 113, 103,  35,  76,  35, 100, 112,  35, 106, 111, 100, 103,\n",
      "         35, 119, 107, 100, 119,  35, 108, 119,  35, 107, 100, 118,  35, 100,\n",
      "        111, 111,  35, 101, 104, 104, 113,  35, 117, 104, 118, 114, 111, 121,\n",
      "        104, 103,  35, 113, 114, 122,  49,   1,   0,   0,   0,   0,   0,   0,\n",
      "          0,   0]), tensor([ 80, 117,  35,  83, 117, 104, 118, 108, 103, 104, 113, 119,  47,  35,\n",
      "         76,  35, 103, 114,  35, 113, 114, 119,  35, 105, 104, 104, 111,  35,\n",
      "        119, 107, 100, 119,  35,  76,  35, 122, 108, 111, 111,  35, 113, 104,\n",
      "        104, 103,  35, 119, 107, 104,  35, 105, 120, 111, 111,  35, 105, 108,\n",
      "        121, 104,  35, 112, 108, 113, 120, 119, 104, 118,  47,  35, 107, 114,\n",
      "        115, 104, 105, 120, 111, 111, 124,  35, 119, 107, 108, 118,  35, 122,\n",
      "        108, 111, 111,  35, 100, 111, 111, 114, 122,  35, 124, 114, 120,  35,\n",
      "        119, 114,  35, 118, 115, 104, 104, 103,  35, 120, 115,  35, 115, 117,\n",
      "        114, 102, 104, 104, 103, 108, 113, 106, 118,  35, 119, 114, 113, 108,\n",
      "        106,   1]), tensor([ 76,  35, 122, 114, 120, 111, 103,  35, 105, 108, 117, 118, 119, 111,\n",
      "        124,  35, 111, 108, 110, 104,  35, 119, 114,  35, 102, 114, 113, 106,\n",
      "        117, 100, 119, 120, 111, 100, 119, 104,  35,  80, 117, 118,  35,  83,\n",
      "        104, 108, 109, 118,  35, 100, 118,  35, 117, 100, 115, 115, 114, 117,\n",
      "        119, 104, 120, 117,  35, 114, 113,  35, 119, 107, 108, 118,  35, 117,\n",
      "        104, 115, 114, 117, 119,  35, 122, 107, 108, 102, 107,  47,  35, 100,\n",
      "        118,  35,  80, 117, 118,  35,  89, 108, 111, 111, 108, 104, 117, 118,\n",
      "         35, 107, 100, 118,  35, 100, 111, 117, 104, 100, 103, 124,  35, 114,\n",
      "        120, 119, 111, 108, 113, 104, 103,  47,  35, 107, 100, 118,  35, 101,\n",
      "        104,   1]), tensor([ 85, 104, 118, 120, 112, 115, 119, 108, 114, 113,  35, 114, 105,  35,\n",
      "        119, 107, 104,  35, 118, 104, 118, 118, 108, 114, 113,   1,   0,   0,\n",
      "          0,   0,   0,   0,   0,   0,   0,   0,   0,   0,   0,   0,   0,   0,\n",
      "          0,   0,   0,   0,   0,   0,   0,   0,   0,   0,   0,   0,   0,   0,\n",
      "          0,   0,   0,   0,   0,   0,   0,   0,   0,   0,   0,   0,   0,   0,\n",
      "          0,   0,   0,   0,   0,   0,   0,   0,   0,   0,   0,   0,   0,   0,\n",
      "          0,   0,   0,   0,   0,   0,   0,   0,   0,   0,   0,   0,   0,   0,\n",
      "          0,   0,   0,   0,   0,   0,   0,   0,   0,   0,   0,   0,   0,   0,\n",
      "          0,   0,   0,   0,   0,   0,   0,   0,   0,   0,   0,   0,   0,   0,\n",
      "          0,   0]), tensor([ 76,  35, 103, 104, 102, 111, 100, 117, 104,  35, 117, 104, 118, 120,\n",
      "        112, 104, 103,  35, 119, 107, 104,  35, 118, 104, 118, 118, 108, 114,\n",
      "        113,  35, 114, 105,  35, 119, 107, 104,  35,  72, 120, 117, 114, 115,\n",
      "        104, 100, 113,  35,  83, 100, 117, 111, 108, 100, 112, 104, 113, 119,\n",
      "         35, 100, 103, 109, 114, 120, 117, 113, 104, 103,  35, 114, 113,  35,\n",
      "         73, 117, 108, 103, 100, 124,  47,  35,  52,  56,  35,  71, 104, 102,\n",
      "        104, 112, 101, 104, 117,  35,  53,  51,  51,  51,  49,   1,   0,   0,\n",
      "          0,   0,   0,   0,   0,   0,   0,   0,   0,   0,   0,   0,   0,   0,\n",
      "          0,   0,   0,   0,   0,   0,   0,   0,   0,   0,   0,   0,   0,   0,\n",
      "          0,   0]), tensor([ 86, 119, 100, 119, 104, 112, 104, 113, 119, 118,  35, 101, 124,  35,\n",
      "        119, 107, 104,  35,  83, 117, 104, 118, 108, 103, 104, 113, 119,   1,\n",
      "          0,   0,   0,   0,   0,   0,   0,   0,   0,   0,   0,   0,   0,   0,\n",
      "          0,   0,   0,   0,   0,   0,   0,   0,   0,   0,   0,   0,   0,   0,\n",
      "          0,   0,   0,   0,   0,   0,   0,   0,   0,   0,   0,   0,   0,   0,\n",
      "          0,   0,   0,   0,   0,   0,   0,   0,   0,   0,   0,   0,   0,   0,\n",
      "          0,   0,   0,   0,   0,   0,   0,   0,   0,   0,   0,   0,   0,   0,\n",
      "          0,   0,   0,   0,   0,   0,   0,   0,   0,   0,   0,   0,   0,   0,\n",
      "          0,   0,   0,   0,   0,   0,   0,   0,   0,   0,   0,   0,   0,   0,\n",
      "          0,   0]), tensor([ 79, 100, 103, 108, 104, 118,  35, 100, 113, 103,  35, 106, 104, 113,\n",
      "        119, 111, 104, 112, 104, 113,  47,  35, 114, 113,  35,  86, 100, 119,\n",
      "        120, 117, 103, 100, 124,  47,  35, 100, 118,  35, 124, 114, 120,  35,\n",
      "        110, 113, 114, 122,  47,  35, 100, 113,  35, 104, 100, 117, 119, 107,\n",
      "        116, 120, 100, 110, 104,  35, 118, 119, 117, 120, 102, 110,  35,  70,\n",
      "        104, 113, 119, 117, 100, 111,  35,  68, 112, 104, 117, 108, 102, 100,\n",
      "         35, 114, 113, 102, 104,  35, 100, 106, 100, 108, 113,  47,  35, 122,\n",
      "        108, 119, 107,  35, 119, 117, 100, 106, 108, 102,  35, 102, 114, 113,\n",
      "        118, 104, 116, 120, 104, 113, 102, 104, 118,  49,  35,  87, 107, 108,\n",
      "        118,   1]), tensor([ 87, 107, 104,  35, 111, 100, 119, 104, 118, 119,  47,  35, 115, 117,\n",
      "        114, 121, 108, 118, 108, 114, 113, 100, 111,  47,  35, 105, 108, 106,\n",
      "        120, 117, 104, 118,  35, 105, 114, 117,  35, 121, 108, 102, 119, 108,\n",
      "        112, 118,  35, 108, 113,  35,  72, 111,  35,  86, 100, 111, 121, 100,\n",
      "        103, 114, 117,  35, 100, 117, 104,  35, 100, 111, 117, 104, 100, 103,\n",
      "        124,  35, 121, 104, 117, 124,  35, 107, 108, 106, 107,  49,  35,  87,\n",
      "        107, 104, 117, 104,  35, 100, 117, 104,  35,  54,  56,  51,  35, 115,\n",
      "        104, 114, 115, 111, 104,  35, 103, 104, 100, 103,  47,  35,  52,  35,\n",
      "         53,  51,  51,  35, 115, 104, 114, 115, 111, 104,  35, 112, 108, 118,\n",
      "        118,   1]), tensor([ 87, 107, 104,  35,  72, 120, 117, 114, 115, 104, 100, 113,  35,  88,\n",
      "        113, 108, 114, 113,  35, 107, 100, 118,  35, 100, 111, 117, 104, 100,\n",
      "        103, 124,  35, 118, 107, 114, 122, 113,  35, 108, 119, 118,  35, 118,\n",
      "        114, 111, 108, 103, 100, 117, 108, 119, 124,  35, 101, 124,  35, 118,\n",
      "        104, 113, 103, 108, 113, 106,  35, 100,  35, 117, 104, 118, 102, 120,\n",
      "        104,  35, 119, 104, 100, 112,  35, 119, 114,  35, 119, 107, 104,  35,\n",
      "        100, 117, 104, 100,  47,  35, 122, 107, 108, 111, 118, 119,  35, 105,\n",
      "        108, 113, 100, 113, 102, 108, 100, 111,  35, 100, 118, 118, 108, 118,\n",
      "        119, 100, 113, 102, 104,  35, 105, 117, 114, 112,  35, 119, 107, 104,\n",
      "         35,   1]), tensor([ 75, 114, 122, 104, 121, 104, 117,  47,  35,  76,  35, 118, 107, 114,\n",
      "        120, 111, 103,  35, 111, 108, 110, 104,  35, 119, 114,  35, 108, 113,\n",
      "        105, 114, 117, 112,  35, 124, 114, 120,  35, 119, 107, 100, 119,  35,\n",
      "         76,  35, 107, 100, 121, 104,  47,  35, 114, 105,  35, 102, 114, 120,\n",
      "        117, 118, 104,  47,  35, 114, 113,  35, 101, 104, 107, 100, 111, 105,\n",
      "         35, 114, 105,  35, 119, 107, 104,  35,  72, 120, 117, 114, 115, 104,\n",
      "        100, 113,  35,  88, 113, 108, 114, 113,  47,  35, 104, 123, 115, 117,\n",
      "        104, 118, 118, 104, 103,  35, 114, 120, 117,  35, 118, 108, 113, 102,\n",
      "        104, 117, 104,  35, 102, 114, 113, 103, 114, 111, 104, 113, 102, 104,\n",
      "        118,   1]), tensor([ 76,  35, 122, 114, 120, 111, 103,  35, 100, 118, 110,  35, 124, 114,\n",
      "        120,  47,  35, 100, 118,  35, 100,  35, 112, 100, 117, 110,  35, 114,\n",
      "        105,  35, 117, 104, 118, 115, 104, 102, 119,  35, 105, 114, 117,  35,\n",
      "        119, 107, 104,  35, 121, 108, 102, 119, 108, 112, 118,  35, 100, 113,\n",
      "        103,  35, 105, 114, 117,  35, 119, 107, 104,  35, 108, 112, 112, 104,\n",
      "        113, 118, 104,  35, 118, 120, 105, 105, 104, 117, 108, 113, 106,  35,\n",
      "        114, 105,  35, 119, 107, 104, 108, 117,  35, 105, 100, 112, 108, 111,\n",
      "        108, 104, 118,  47,  35, 119, 114,  35, 114, 101, 118, 104, 117, 121,\n",
      "        104,  35, 100,  35, 112, 108, 113, 120, 119, 104,  42,  35, 118,  35,\n",
      "        118,   1]), tensor([ 43,  87, 107, 104,  35,  75, 114, 120, 118, 104,  35, 117, 114, 118,\n",
      "        104,  35, 100, 113, 103,  35, 114, 101, 118, 104, 117, 121, 104, 103,\n",
      "         35, 100,  35, 112, 108, 113, 120, 119, 104,  42,  35, 118,  35, 118,\n",
      "        108, 111, 104, 113, 102, 104,  44,   1,   0,   0,   0,   0,   0,   0,\n",
      "          0,   0,   0,   0,   0,   0,   0,   0,   0,   0,   0,   0,   0,   0,\n",
      "          0,   0,   0,   0,   0,   0,   0,   0,   0,   0,   0,   0,   0,   0,\n",
      "          0,   0,   0,   0,   0,   0,   0,   0,   0,   0,   0,   0,   0,   0,\n",
      "          0,   0,   0,   0,   0,   0,   0,   0,   0,   0,   0,   0,   0,   0,\n",
      "          0,   0,   0,   0,   0,   0,   0,   0,   0,   0,   0,   0,   0,   0,\n",
      "          0,   0]), tensor([ 83, 117, 104, 118, 108, 103, 104, 113, 119,  49,   1,   0,   0,   0,\n",
      "          0,   0,   0,   0,   0,   0,   0,   0,   0,   0,   0,   0,   0,   0,\n",
      "          0,   0,   0,   0,   0,   0,   0,   0,   0,   0,   0,   0,   0,   0,\n",
      "          0,   0,   0,   0,   0,   0,   0,   0,   0,   0,   0,   0,   0,   0,\n",
      "          0,   0,   0,   0,   0,   0,   0,   0,   0,   0,   0,   0,   0,   0,\n",
      "          0,   0,   0,   0,   0,   0,   0,   0,   0,   0,   0,   0,   0,   0,\n",
      "          0,   0,   0,   0,   0,   0,   0,   0,   0,   0,   0,   0,   0,   0,\n",
      "          0,   0,   0,   0,   0,   0,   0,   0,   0,   0,   0,   0,   0,   0,\n",
      "          0,   0,   0,   0,   0,   0,   0,   0,   0,   0,   0,   0,   0,   0,\n",
      "          0,   0]), tensor([ 87, 117, 100, 106, 108, 102, 100, 111, 111, 124,  47,  35, 114, 113,\n",
      "         35,  54,  52,  35,  71, 104, 102, 104, 112, 101, 104, 117,  47,  35,\n",
      "        100,  35, 103, 100, 124,  35, 119, 107, 100, 119,  35, 112, 114, 118,\n",
      "        119,  35, 114, 105,  35, 120, 118,  35, 102, 114, 112, 112, 104, 112,\n",
      "        114, 117, 100, 119, 104,  35, 122, 108, 119, 107,  35, 102, 104, 111,\n",
      "        104, 101, 117, 100, 119, 108, 114, 113,  47,  35, 101, 104, 102, 100,\n",
      "        112, 104,  35, 100,  35, 103, 100, 124,  35, 114, 105,  35, 112, 114,\n",
      "        120, 117, 113, 108, 113, 106,  35, 105, 114, 117,  35, 119, 107, 104,\n",
      "         35, 105, 100, 112, 108, 111, 108, 104, 118,  35, 114, 105,  35,  89,\n",
      "        114,   1]), tensor([ 76,  35, 118, 107, 114, 120, 111, 103,  35, 111, 108, 110, 104,  47,\n",
      "         35, 114, 113,  35, 101, 104, 107, 100, 111, 105,  35, 114, 105,  35,\n",
      "        119, 107, 104,  35,  72, 120, 117, 114, 115, 104, 100, 113,  35,  83,\n",
      "        100, 117, 111, 108, 100, 112, 104, 113, 119,  47,  35, 119, 114,  35,\n",
      "        104, 123, 115, 117, 104, 118, 118,  35, 114, 120, 117,  35, 118, 124,\n",
      "        112, 115, 100, 119, 107, 124,  35, 119, 114,  35, 119, 107, 104,  35,\n",
      "        115, 100, 117, 104, 113, 119, 118,  35, 100, 113, 103,  35, 105, 100,\n",
      "        112, 108, 111, 108, 104, 118,  35, 114, 105,  35, 119, 107, 104,  35,\n",
      "        121, 108, 102, 119, 108, 112, 118,  49,   1,   0,   0,   0,   0,   0,\n",
      "          0,   0]), tensor([ 76,  35, 118, 107, 114, 120, 111, 103,  35, 100, 111, 118, 114,  35,\n",
      "        111, 108, 110, 104,  35, 119, 114,  35, 122, 108, 118, 107,  35, 119,\n",
      "        107, 104,  35,  52,  59,  51,  35, 115, 104, 114, 115, 111, 104,  35,\n",
      "        108, 113, 109, 120, 117, 104, 103,  35, 108, 113,  35, 119, 107, 108,\n",
      "        118,  35, 100, 122, 105, 120, 111,  35, 105, 108, 117, 104,  35, 100,\n",
      "         35, 118, 115, 104, 104, 103, 124,  35, 117, 104, 102, 114, 121, 104,\n",
      "        117, 124,  49,   1,   0,   0,   0,   0,   0,   0,   0,   0,   0,   0,\n",
      "          0,   0,   0,   0,   0,   0,   0,   0,   0,   0,   0,   0,   0,   0,\n",
      "          0,   0,   0,   0,   0,   0,   0,   0,   0,   0,   0,   0,   0,   0,\n",
      "          0,   0]), tensor([ 76,  35, 118, 107, 114, 120, 111, 103,  35, 113, 114, 119,  35, 105,\n",
      "        114, 117, 106, 104, 119,  35, 119, 107, 100, 119,  35, 112, 100, 113,\n",
      "        124,  35, 115, 111, 100, 102, 104, 118,  47,  35, 122, 107, 104, 117,\n",
      "        104,  35, 109, 114, 124, 105, 120, 111,  35, 102, 104, 111, 104, 101,\n",
      "        117, 100, 119, 108, 114, 113, 118,  35, 100, 117, 104,  35, 100, 111,\n",
      "        118, 114,  35, 107, 104, 111, 103,  47,  35, 100, 117, 104,  35, 100,\n",
      "        111, 111,  35, 119, 114, 114,  35, 114, 105, 119, 104, 113,  35, 119,\n",
      "        117, 100, 113, 118, 105, 114, 117, 112, 104, 103,  35, 101, 124,  35,\n",
      "        118, 100, 103, 113, 104, 118, 118,  35, 100, 113, 103,  35, 112, 114,\n",
      "        120,   1]), tensor([ 76, 119,  35, 108, 118,  35, 108, 113,  35, 119, 107, 104,  35, 118,\n",
      "        100, 112, 104,  35, 118, 115, 108, 117, 108, 119,  35, 119, 107, 100,\n",
      "        119,  35,  76,  35, 118, 107, 114, 120, 111, 103,  35, 111, 108, 110,\n",
      "        104,  35, 119, 114,  35, 104, 123, 115, 117, 104, 118, 118,  35, 112,\n",
      "        124,  35, 102, 114, 113, 103, 114, 111, 104, 113, 102, 104, 118,  35,\n",
      "        119, 114,  35, 119, 107, 104,  35, 105, 100, 112, 108, 111, 108, 104,\n",
      "        118,  35, 114, 105,  35, 119, 107, 104,  35,  54,  51,  60,  35, 121,\n",
      "        108, 102, 119, 108, 112, 118,  35, 114, 105,  35, 119, 107, 104,  35,\n",
      "        105, 108, 117, 104,  35, 100, 119,  35, 100,  35, 103, 108, 118, 102,\n",
      "        114,   1]), tensor([ 43,  87, 107, 104,  35,  75, 114, 120, 118, 104,  35, 117, 114, 118,\n",
      "        104,  35, 100, 113, 103,  35, 114, 101, 118, 104, 117, 121, 104, 103,\n",
      "         35, 100,  35, 112, 108, 113, 120, 119, 104,  42,  35, 118,  35, 118,\n",
      "        108, 111, 104, 113, 102, 104,  44,   1,   0,   0,   0,   0,   0,   0,\n",
      "          0,   0,   0,   0,   0,   0,   0,   0,   0,   0,   0,   0,   0,   0,\n",
      "          0,   0,   0,   0,   0,   0,   0,   0,   0,   0,   0,   0,   0,   0,\n",
      "          0,   0,   0,   0,   0,   0,   0,   0,   0,   0,   0,   0,   0,   0,\n",
      "          0,   0,   0,   0,   0,   0,   0,   0,   0,   0,   0,   0,   0,   0,\n",
      "          0,   0,   0,   0,   0,   0,   0,   0,   0,   0,   0,   0,   0,   0,\n",
      "          0,   0]), tensor([ 83, 117, 104, 118, 108, 103, 104, 113, 119,  49,   1,   0,   0,   0,\n",
      "          0,   0,   0,   0,   0,   0,   0,   0,   0,   0,   0,   0,   0,   0,\n",
      "          0,   0,   0,   0,   0,   0,   0,   0,   0,   0,   0,   0,   0,   0,\n",
      "          0,   0,   0,   0,   0,   0,   0,   0,   0,   0,   0,   0,   0,   0,\n",
      "          0,   0,   0,   0,   0,   0,   0,   0,   0,   0,   0,   0,   0,   0,\n",
      "          0,   0,   0,   0,   0,   0,   0,   0,   0,   0,   0,   0,   0,   0,\n",
      "          0,   0,   0,   0,   0,   0,   0,   0,   0,   0,   0,   0,   0,   0,\n",
      "          0,   0,   0,   0,   0,   0,   0,   0,   0,   0,   0,   0,   0,   0,\n",
      "          0,   0,   0,   0,   0,   0,   0,   0,   0,   0,   0,   0,   0,   0,\n",
      "          0,   0]), tensor([ 79, 100, 103, 108, 104, 118,  35, 100, 113, 103,  35, 106, 104, 113,\n",
      "        119, 111, 104, 112, 104, 113,  47,  35,  76,  35, 107, 100, 103,  35,\n",
      "        122, 108, 118, 107, 104, 103,  47,  35, 100, 118,  35, 104, 121, 104,\n",
      "        117, 124, 114, 113, 104,  35, 107, 100, 103,  47,  35, 119, 107, 100,\n",
      "        119,  35, 122, 104,  35, 122, 114, 120, 111, 103,  35, 101, 104,  35,\n",
      "        100, 101, 111, 104,  35, 119, 114,  35, 114, 115, 104, 113,  35, 114,\n",
      "        120, 117,  35, 105, 108, 117, 118, 119,  35, 115, 100, 117, 119,  48,\n",
      "        118, 104, 118, 118, 108, 114, 113,  35, 114, 105,  35, 119, 107, 104,\n",
      "         35, 124, 104, 100, 117,  35, 122, 108, 119, 107, 114, 120, 119,  35,\n",
      "        107,   1]), tensor([ 88, 113, 105, 114, 117, 119, 120, 113, 100, 119, 104, 111, 124,  47,\n",
      "         35, 114, 113,  35,  53,  51,  35,  71, 104, 102, 104, 112, 101, 104,\n",
      "        117,  47,  35,  77, 120, 100, 113,  35,  80, 108, 106, 120, 104, 111,\n",
      "         35,  74, 104, 117, 121, 108, 111, 111, 100,  47,  35, 100,  35, 115,\n",
      "        114, 111, 108, 102, 104,  35, 114, 105, 105, 108, 102, 104, 117,  35,\n",
      "        108, 113,  35,  69, 100, 117, 102, 104, 111, 114, 113, 100,  47,  35,\n",
      "        122, 100, 118,  35, 110, 108, 111, 111, 104, 103,  35, 101, 124,  35,\n",
      "        119, 104, 117, 117, 114, 117, 108, 118, 119, 118,  49,   1,   0,   0,\n",
      "          0,   0,   0,   0,   0,   0,   0,   0,   0,   0,   0,   0,   0,   0,\n",
      "          0,   0]), tensor([ 75, 104,  35, 107, 100, 103,  35, 103, 108, 118, 119, 120, 117, 101,\n",
      "        104, 103,  35, 107, 108, 118,  35, 110, 108, 111, 111, 104, 117, 118,\n",
      "         35, 100, 118,  35, 119, 107, 104, 124,  35, 122, 104, 117, 104,  35,\n",
      "        115, 117, 104, 115, 100, 117, 108, 113, 106,  35, 100, 113,  35, 100,\n",
      "        119, 119, 100, 102, 110,  49,   1,   0,   0,   0,   0,   0,   0,   0,\n",
      "          0,   0,   0,   0,   0,   0,   0,   0,   0,   0,   0,   0,   0,   0,\n",
      "          0,   0,   0,   0,   0,   0,   0,   0,   0,   0,   0,   0,   0,   0,\n",
      "          0,   0,   0,   0,   0,   0,   0,   0,   0,   0,   0,   0,   0,   0,\n",
      "          0,   0,   0,   0,   0,   0,   0,   0,   0,   0,   0,   0,   0,   0,\n",
      "          0,   0]), tensor([ 75, 108, 118,  35, 102, 114, 120, 117, 100, 106, 104, 114, 120, 118,\n",
      "         35, 100, 102, 119, 108, 114, 113, 118,  35, 120, 113, 105, 114, 117,\n",
      "        119, 120, 113, 100, 119, 104, 111, 124,  35, 102, 114, 118, 119,  35,\n",
      "        107, 108, 112,  35, 107, 108, 118,  35, 111, 108, 105, 104,  35, 101,\n",
      "        120, 119,  35, 120, 113, 103, 114, 120, 101, 119, 104, 103, 111, 124,\n",
      "         35, 100, 111, 118, 114,  35, 118, 100, 121, 104, 103,  35, 112, 100,\n",
      "        113, 124,  35, 114, 119, 107, 104, 117, 118,  49,   1,   0,   0,   0,\n",
      "          0,   0,   0,   0,   0,   0,   0,   0,   0,   0,   0,   0,   0,   0,\n",
      "          0,   0,   0,   0,   0,   0,   0,   0,   0,   0,   0,   0,   0,   0,\n",
      "          0,   0]), tensor([ 87, 107, 108, 118,  35, 108, 118,  35, 122, 107, 124,  35,  76,  35,\n",
      "        122, 114, 120, 111, 103,  35, 111, 108, 110, 104,  35, 119, 114,  35,\n",
      "        115, 100, 124,  35, 119, 117, 108, 101, 120, 119, 104,  35, 119, 114,\n",
      "         35, 107, 108, 112,  35, 108, 113,  35, 115, 100, 117, 119, 108, 102,\n",
      "        120, 111, 100, 117,  35, 100, 113, 103,  35,  76,  35, 122, 114, 120,\n",
      "        111, 103,  35, 100, 118, 110,  35, 124, 114, 120,  35, 100, 106, 100,\n",
      "        108, 113,  35, 119, 114,  35, 114, 101, 118, 104, 117, 121, 104,  35,\n",
      "        100,  35, 112, 108, 113, 120, 119, 104,  42,  35, 118,  35, 118, 108,\n",
      "        111, 104, 113, 102, 104,  49,   1,   0,   0,   0,   0,   0,   0,   0,\n",
      "          0,   0]), tensor([ 43,  87, 107, 104,  35,  75, 114, 120, 118, 104,  35, 117, 114, 118,\n",
      "        104,  35, 100, 113, 103,  35, 114, 101, 118, 104, 117, 121, 104, 103,\n",
      "         35, 100,  35, 112, 108, 113, 120, 119, 104,  42,  35, 118,  35, 118,\n",
      "        108, 111, 104, 113, 102, 104,  44,   1,   0,   0,   0,   0,   0,   0,\n",
      "          0,   0,   0,   0,   0,   0,   0,   0,   0,   0,   0,   0,   0,   0,\n",
      "          0,   0,   0,   0,   0,   0,   0,   0,   0,   0,   0,   0,   0,   0,\n",
      "          0,   0,   0,   0,   0,   0,   0,   0,   0,   0,   0,   0,   0,   0,\n",
      "          0,   0,   0,   0,   0,   0,   0,   0,   0,   0,   0,   0,   0,   0,\n",
      "          0,   0,   0,   0,   0,   0,   0,   0,   0,   0,   0,   0,   0,   0,\n",
      "          0,   0]), tensor([ 85, 104, 105, 104, 117, 117, 100, 111,  35, 101, 100, 102, 110,  35,\n",
      "        119, 114,  35, 102, 114, 112, 112, 108, 119, 119, 104, 104,   1,   0,\n",
      "          0,   0,   0,   0,   0,   0,   0,   0,   0,   0,   0,   0,   0,   0,\n",
      "          0,   0,   0,   0,   0,   0,   0,   0,   0,   0,   0,   0,   0,   0,\n",
      "          0,   0,   0,   0,   0,   0,   0,   0,   0,   0,   0,   0,   0,   0,\n",
      "          0,   0,   0,   0,   0,   0,   0,   0,   0,   0,   0,   0,   0,   0,\n",
      "          0,   0,   0,   0,   0,   0,   0,   0,   0,   0,   0,   0,   0,   0,\n",
      "          0,   0,   0,   0,   0,   0,   0,   0,   0,   0,   0,   0,   0,   0,\n",
      "          0,   0,   0,   0,   0,   0,   0,   0,   0,   0,   0,   0,   0,   0,\n",
      "          0,   0]), tensor([ 90, 108, 119, 107,  35, 117, 104, 106, 100, 117, 103,  35, 119, 114,\n",
      "         35, 119, 107, 104,  35, 117, 104, 115, 114, 117, 119,  35, 101, 124,\n",
      "         35,  80, 117,  35,  70, 100, 118, 107, 112, 100, 113,  35, 114, 113,\n",
      "         35, 115, 120, 101, 111, 108, 102,  35, 100, 102, 102, 104, 118, 118,\n",
      "         35, 119, 114,  35,  83, 100, 117, 111, 108, 100, 112, 104, 113, 119,\n",
      "         47,  35,  70, 114, 120, 113, 102, 108, 111,  35, 100, 113, 103,  35,\n",
      "         70, 114, 112, 112, 108, 118, 118, 108, 114, 113,  35, 103, 114, 102,\n",
      "        120, 112, 104, 113, 119, 118,  47,  35, 105, 114, 117,  35, 122, 107,\n",
      "        108, 102, 107,  35, 119, 107, 104,  35, 121, 114, 119, 104,  35, 114,\n",
      "        113,   1]), tensor([ 87, 107, 108, 118,  35, 108, 118,  35, 122, 107, 124,  35, 108, 119,\n",
      "         35, 107, 100, 118,  35, 117, 104, 116, 120, 104, 118, 119, 104, 103,\n",
      "         35, 119, 107, 100, 119,  35, 108, 119,  35, 101, 104,  35, 117, 104,\n",
      "        105, 104, 117, 117, 104, 103,  35, 101, 100, 102, 110,  35, 119, 114,\n",
      "         35, 102, 114, 112, 112, 108, 119, 119, 104, 104,  35, 115, 120, 117,\n",
      "        118, 120, 100, 113, 119,  35, 119, 114,  35,  85, 120, 111, 104,  35,\n",
      "         52,  55,  55,  43,  52,  44,  35, 114, 105,  35, 119, 107, 104,  35,\n",
      "         85, 120, 111, 104, 118,  35, 114, 105,  35,  83, 117, 114, 102, 104,\n",
      "        103, 120, 117, 104,  49,   1,   0,   0,   0,   0,   0,   0,   0,   0,\n",
      "          0,   0]), tensor([ 76,  35, 118, 107, 100, 111, 111,  35, 113, 114, 122,  35, 106, 108,\n",
      "        121, 104,  35, 119, 107, 104,  35, 105, 111, 114, 114, 117,  35, 119,\n",
      "        114,  35,  80, 117,  35,  90, 100, 119, 118, 114, 113,  47,  35,  70,\n",
      "        107, 100, 108, 117, 112, 100, 113,  35, 114, 105,  35, 119, 107, 108,\n",
      "        118,  35, 102, 114, 112, 112, 108, 119, 119, 104, 104,  47,  35, 118,\n",
      "        114,  35, 119, 107, 100, 119,  35, 107, 104,  35, 102, 100, 113,  35,\n",
      "        115, 117, 104, 118, 104, 113, 119,  35, 119, 107, 104,  35, 117, 104,\n",
      "        116, 120, 104, 118, 119,  35, 114, 113,  35, 108, 119, 118,  35, 101,\n",
      "        104, 107, 100, 111, 105,  49,   1,   0,   0,   0,   0,   0,   0,   0,\n",
      "          0,   0]), tensor([ 80, 100, 103, 100, 112,  35,  83, 117, 104, 118, 108, 103, 104, 113,\n",
      "        119,  47,  35, 119, 107, 104,  35,  75, 114, 120, 118, 104,  35, 110,\n",
      "        108, 113, 103, 111, 124,  35, 100, 106, 117, 104, 104, 103,  35, 114,\n",
      "        113,  35,  52,  57,  35,  81, 114, 121, 104, 112, 101, 104, 117,  35,\n",
      "        119, 114,  35, 100,  35, 117, 104, 116, 120, 104, 118, 119,  35, 105,\n",
      "        117, 114, 112,  35, 119, 107, 104,  35, 102, 114, 112, 112, 108, 119,\n",
      "        119, 104, 104,  35, 122, 107, 108, 102, 107,  35,  76,  35, 107, 100,\n",
      "        121, 104,  35, 119, 107, 104,  35, 107, 114, 113, 114, 120, 117,  35,\n",
      "        119, 114,  35, 102, 107, 100, 108, 117,  35, 119, 114,  35, 103, 104,\n",
      "        111,   1]), tensor([ 87, 107, 100, 119,  35, 103, 104, 111, 100, 124,  35, 122, 100, 118,\n",
      "         35, 108, 113, 119, 104, 113, 103, 104, 103,  35, 119, 114,  35, 100,\n",
      "        111, 111, 114, 122,  35, 119, 108, 112, 104,  35, 105, 114, 117,  35,\n",
      "        119, 107, 104,  35, 114, 119, 107, 104, 117,  35, 108, 113, 118, 119,\n",
      "        108, 119, 120, 119, 108, 114, 113, 118,  35, 119, 114,  35, 102, 114,\n",
      "        113, 118, 108, 103, 104, 117,  35, 114, 120, 117,  35, 100, 112, 104,\n",
      "        113, 103, 112, 104, 113, 119, 118,  35, 100, 113, 103,  35, 105, 114,\n",
      "        117,  35, 119, 107, 104,  35,  70, 114, 112, 112, 108, 118, 118, 108,\n",
      "        114, 113,  35, 119, 114,  35, 105, 114, 117, 112, 120, 111, 100, 119,\n",
      "        104,   1]), tensor([ 86, 108, 113, 102, 104,  35, 114, 120, 117,  35,  81, 114, 121, 104,\n",
      "        112, 101, 104, 117,  35, 115, 100, 117, 119,  48, 118, 104, 118, 118,\n",
      "        108, 114, 113,  47,  35, 122, 104,  35, 107, 100, 121, 104,  35, 107,\n",
      "        100, 103,  35, 102, 114, 113, 119, 100, 102, 119, 118,  35, 122, 108,\n",
      "        119, 107,  35, 119, 107, 104,  35, 114, 119, 107, 104, 117,  35, 108,\n",
      "        113, 118, 119, 108, 119, 120, 119, 108, 114, 113, 118,  47,  35, 119,\n",
      "        107, 114, 120, 106, 107,  35, 100, 118,  35, 124, 104, 119,  35, 113,\n",
      "        114,  35, 100, 106, 117, 104, 104, 112, 104, 113, 119,  35, 107, 100,\n",
      "        118,  35, 101, 104, 104, 113,  35, 105, 114, 117, 119, 107, 102, 114,\n",
      "        112,   1]), tensor([ 87, 107, 104, 117, 104, 105, 114, 117, 104,  47,  35, 122, 104,  35,\n",
      "        122, 114, 120, 111, 103,  35, 100, 118, 110,  35, 119, 107, 104,  35,\n",
      "         75, 114, 120, 118, 104,  35, 105, 114, 117,  35, 100,  35, 115, 117,\n",
      "        114, 117, 114, 106, 100, 119, 108, 114, 113,  35, 114, 105,  35, 119,\n",
      "        107, 104,  35, 103, 104, 111, 100, 124,  35, 114, 105,  35, 100,  35,\n",
      "        112, 100, 123, 108, 112, 120, 112,  35, 114, 105,  35, 119, 122, 114,\n",
      "         35, 112, 114, 113, 119, 107, 118,  35, 108, 113,  35, 114, 117, 103,\n",
      "        104, 117,  35, 119, 114,  35, 102, 114, 113, 102, 111, 120, 103, 104,\n",
      "         35, 119, 107, 104,  35, 103, 108, 100, 111, 114, 106, 120, 104,  35,\n",
      "        100,   1]), tensor([ 43,  83, 100, 117, 111, 108, 100, 112, 104, 113, 119,  35, 100, 115,\n",
      "        115, 117, 114, 121, 104, 103,  35, 119, 107, 104,  35, 117, 104, 116,\n",
      "        120, 104, 118, 119,  44,   1,   0,   0,   0,   0,   0,   0,   0,   0,\n",
      "          0,   0,   0,   0,   0,   0,   0,   0,   0,   0,   0,   0,   0,   0,\n",
      "          0,   0,   0,   0,   0,   0,   0,   0,   0,   0,   0,   0,   0,   0,\n",
      "          0,   0,   0,   0,   0,   0,   0,   0,   0,   0,   0,   0,   0,   0,\n",
      "          0,   0,   0,   0,   0,   0,   0,   0,   0,   0,   0,   0,   0,   0,\n",
      "          0,   0,   0,   0,   0,   0,   0,   0,   0,   0,   0,   0,   0,   0,\n",
      "          0,   0,   0,   0,   0,   0,   0,   0,   0,   0,   0,   0,   0,   0,\n",
      "          0,   0]), tensor([ 68, 106, 104, 113, 103, 100,   1,   0,   0,   0,   0,   0,   0,   0,\n",
      "          0,   0,   0,   0,   0,   0,   0,   0,   0,   0,   0,   0,   0,   0,\n",
      "          0,   0,   0,   0,   0,   0,   0,   0,   0,   0,   0,   0,   0,   0,\n",
      "          0,   0,   0,   0,   0,   0,   0,   0,   0,   0,   0,   0,   0,   0,\n",
      "          0,   0,   0,   0,   0,   0,   0,   0,   0,   0,   0,   0,   0,   0,\n",
      "          0,   0,   0,   0,   0,   0,   0,   0,   0,   0,   0,   0,   0,   0,\n",
      "          0,   0,   0,   0,   0,   0,   0,   0,   0,   0,   0,   0,   0,   0,\n",
      "          0,   0,   0,   0,   0,   0,   0,   0,   0,   0,   0,   0,   0,   0,\n",
      "          0,   0,   0,   0,   0,   0,   0,   0,   0,   0,   0,   0,   0,   0,\n",
      "          0,   0]), tensor([ 87, 107, 104,  35, 113, 104, 123, 119,  35, 108, 119, 104, 112,  35,\n",
      "        108, 118,  35, 119, 107, 104,  35, 105, 108, 113, 100, 111,  35, 103,\n",
      "        117, 100, 105, 119,  35, 100, 106, 104, 113, 103, 100,  35, 100, 118,\n",
      "         35, 103, 117, 100, 122, 113,  35, 120, 115,  35, 101, 124,  35, 119,\n",
      "        107, 104,  35,  70, 114, 113, 105, 104, 117, 104, 113, 102, 104,  35,\n",
      "        114, 105,  35,  83, 117, 104, 118, 108, 103, 104, 113, 119, 118,  35,\n",
      "        100, 119,  35, 108, 119, 118,  35, 112, 104, 104, 119, 108, 113, 106,\n",
      "         35, 114, 105,  35,  87, 120, 104, 118, 103, 100, 124,  35,  52,  52,\n",
      "         35,  77, 100, 113, 120, 100, 117, 124,  49,   1,   0,   0,   0,   0,\n",
      "          0,   0]), tensor([ 86, 108, 119, 119, 108, 113, 106, 118,  35, 105, 117, 114, 112,  35,\n",
      "         52,  56,  35, 119, 114,  35,  52,  59,  35,  77, 100, 113, 120, 100,\n",
      "        117, 124,  35, 108, 113,  35,  86, 119, 117, 100, 118, 101, 114, 120,\n",
      "        117, 106,  35,  83, 117, 104, 118, 108, 103, 104, 113, 119,  49,   1,\n",
      "          0,   0,   0,   0,   0,   0,   0,   0,   0,   0,   0,   0,   0,   0,\n",
      "          0,   0,   0,   0,   0,   0,   0,   0,   0,   0,   0,   0,   0,   0,\n",
      "          0,   0,   0,   0,   0,   0,   0,   0,   0,   0,   0,   0,   0,   0,\n",
      "          0,   0,   0,   0,   0,   0,   0,   0,   0,   0,   0,   0,   0,   0,\n",
      "          0,   0,   0,   0,   0,   0,   0,   0,   0,   0,   0,   0,   0,   0,\n",
      "          0,   0]), tensor([ 76,  35, 107, 100, 121, 104,  35, 117, 104, 102, 104, 108, 121, 104,\n",
      "        103,  35, 113, 114,  35, 117, 104, 116, 120, 104, 118, 119, 118,  35,\n",
      "        105, 114, 117,  35, 100, 112, 104, 113, 103, 112, 104, 113, 119, 118,\n",
      "         35, 119, 114,  35, 119, 107, 104,  35, 100, 106, 104, 113, 103, 100,\n",
      "         35, 105, 114, 117,  35,  80, 114, 113, 103, 100, 124,  47,  35,  87,\n",
      "        120, 104, 118, 103, 100, 124,  35, 114, 117,  35,  90, 104, 103, 113,\n",
      "        104, 118, 103, 100, 124,  49,   1,   0,   0,   0,   0,   0,   0,   0,\n",
      "          0,   0,   0,   0,   0,   0,   0,   0,   0,   0,   0,   0,   0,   0,\n",
      "          0,   0,   0,   0,   0,   0,   0,   0,   0,   0,   0,   0,   0,   0,\n",
      "          0,   0]), tensor([ 80, 100, 103, 100, 112,  35,  83, 117, 104, 118, 108, 103, 104, 113,\n",
      "        119,  47,  35,  76,  35, 122, 114, 120, 111, 103,  35, 111, 108, 110,\n",
      "        104,  35, 119, 114,  35, 115, 114, 108, 113, 119,  35, 114, 120, 119,\n",
      "         35, 119, 114,  35, 112, 124,  35, 105, 104, 111, 111, 114, 122,  35,\n",
      "         80, 104, 112, 101, 104, 117, 118,  35, 100, 113, 103,  35, 119, 114,\n",
      "         35, 124, 114, 120, 117, 118, 104, 111, 105,  47,  35, 119, 107, 100,\n",
      "        119,  47,  35, 122, 107, 108, 111, 118, 119,  35,  76,  35, 120, 113,\n",
      "        103, 104, 117, 118, 119, 100, 113, 103,  35, 119, 107, 104,  35, 117,\n",
      "        104, 100, 118, 114, 113, 118,  35, 122, 107, 108, 102, 107,  35, 111,\n",
      "        104,   1]), tensor([ 76,  35, 100, 112,  35, 118, 114, 117, 117, 124,  35, 119, 114,  35,\n",
      "        107, 100, 121, 104,  35, 119, 114,  35, 115, 114, 108, 113, 119,  35,\n",
      "        119, 107, 108, 118,  35, 114, 120, 119,  47,  35, 100, 118,  35,  76,\n",
      "         35, 110, 113, 114, 122,  35, 122, 104,  35, 107, 100, 121, 104,  35,\n",
      "        100,  35, 121, 104, 117, 124,  35, 101, 120, 118, 124,  35, 103, 100,\n",
      "        124,  35, 114, 113,  35,  90, 104, 103, 113, 104, 118, 103, 100, 124,\n",
      "         47,  35, 101, 120, 119,  35, 111, 104, 119,  35, 120, 118,  35, 119,\n",
      "        117, 124,  35, 119, 114,  35, 102, 107, 100, 113, 106, 104,  35, 119,\n",
      "        107, 108, 118,  47,  35, 100, 118,  47,  35, 100, 105, 119, 104, 117,\n",
      "         35,   1]), tensor([ 87, 107, 100, 113, 110,  35, 124, 114, 120,  47,  35,  80, 117,  35,\n",
      "         71, 104, 111, 111,  42,  35,  68, 111, 101, 100,  49,   1,   0,   0,\n",
      "          0,   0,   0,   0,   0,   0,   0,   0,   0,   0,   0,   0,   0,   0,\n",
      "          0,   0,   0,   0,   0,   0,   0,   0,   0,   0,   0,   0,   0,   0,\n",
      "          0,   0,   0,   0,   0,   0,   0,   0,   0,   0,   0,   0,   0,   0,\n",
      "          0,   0,   0,   0,   0,   0,   0,   0,   0,   0,   0,   0,   0,   0,\n",
      "          0,   0,   0,   0,   0,   0,   0,   0,   0,   0,   0,   0,   0,   0,\n",
      "          0,   0,   0,   0,   0,   0,   0,   0,   0,   0,   0,   0,   0,   0,\n",
      "          0,   0,   0,   0,   0,   0,   0,   0,   0,   0,   0,   0,   0,   0,\n",
      "          0,   0]), tensor([ 76,  35, 122, 108, 111, 111,  47,  35, 114, 105,  35, 102, 114, 120,\n",
      "        117, 118, 104,  47,  35, 119, 100, 110, 104,  35, 113, 114, 119, 104,\n",
      "         35, 114, 105,  35, 124, 114, 120, 117,  35, 102, 114, 112, 112, 104,\n",
      "        113, 119,  49,   1,   0,   0,   0,   0,   0,   0,   0,   0,   0,   0,\n",
      "          0,   0,   0,   0,   0,   0,   0,   0,   0,   0,   0,   0,   0,   0,\n",
      "          0,   0,   0,   0,   0,   0,   0,   0,   0,   0,   0,   0,   0,   0,\n",
      "          0,   0,   0,   0,   0,   0,   0,   0,   0,   0,   0,   0,   0,   0,\n",
      "          0,   0,   0,   0,   0,   0,   0,   0,   0,   0,   0,   0,   0,   0,\n",
      "          0,   0,   0,   0,   0,   0,   0,   0,   0,   0,   0,   0,   0,   0,\n",
      "          0,   0]), tensor([ 80, 100, 103, 100, 112,  35,  83, 117, 104, 118, 108, 103, 104, 113,\n",
      "        119,  47,  35,  76,  35, 122, 114, 120, 111, 103,  35, 111, 108, 110,\n",
      "        104,  35, 119, 114,  35, 119, 100, 110, 104,  35, 120, 115,  35, 118,\n",
      "        114, 112, 104,  35, 115, 114, 108, 113, 119, 118,  35, 112, 100, 103,\n",
      "        104,  35, 101, 124,  35,  80, 117,  35,  71, 104, 111, 111,  42,  68,\n",
      "        111, 101, 100,  35, 100, 113, 103,  35, 100, 111, 118, 114,  35, 118,\n",
      "        100, 124,  35, 118, 114, 112, 104, 119, 107, 108, 113, 106,  35, 100,\n",
      "        101, 114, 120, 119,  35,  90, 104, 103, 113, 104, 118, 103, 100, 124,\n",
      "         42,  35, 118,  35, 118, 108, 119, 119, 108, 113, 106,  49,   1,   0,\n",
      "          0,   0]), tensor([ 81, 114, 119,  35, 114, 113, 111, 124,  35, 108, 118,  35,  90, 104,\n",
      "        103, 113, 104, 118, 103, 100, 124,  42,  35, 118,  35, 100, 106, 104,\n",
      "        113, 103, 100,  35, 102, 114, 112, 115, 111, 104, 119, 104, 111, 124,\n",
      "         35, 114, 121, 104, 117, 101, 114, 114, 110, 104, 103,  47,  35, 101,\n",
      "        120, 119,  35, 108, 112, 115, 114, 117, 119, 100, 113, 119,  35, 117,\n",
      "        104, 115, 114, 117, 119, 118,  35,  48,  35, 118, 120, 102, 107,  35,\n",
      "        100, 118,  35, 119, 107, 104,  35,  86, 109, 198, 185, 118, 119, 104,\n",
      "        103, 119,  35, 117, 104, 115, 114, 117, 119,  35, 114, 113,  35, 113,\n",
      "        100, 119, 120, 117, 100, 111,  35, 107, 100, 101, 108, 119, 100, 119,\n",
      "        118,   1]), tensor([ 87, 107, 108, 118,  35, 102, 100, 113,  35, 101, 104,  35, 115, 120,\n",
      "        119,  35, 103, 114, 122, 113,  35, 119, 114,  35, 119, 107, 104,  35,\n",
      "        103, 108, 118, 100, 118, 119, 117, 114, 120, 118,  35, 103, 104, 102,\n",
      "        108, 118, 108, 114, 113,  35, 119, 114,  35, 102, 100, 113, 102, 104,\n",
      "        111,  35,  73, 117, 108, 103, 100, 124,  35, 118, 108, 119, 119, 108,\n",
      "        113, 106, 118,  47,  35, 122, 107, 108, 102, 107,  35,  76,  35, 122,\n",
      "        114, 120, 111, 103,  35, 111, 108, 110, 104,  35, 119, 114,  35, 119,\n",
      "        100, 110, 104,  35, 119, 107, 108, 118,  35, 114, 115, 115, 114, 117,\n",
      "        119, 120, 113, 108, 119, 124,  35, 119, 114,  35, 107, 108, 106, 107,\n",
      "        111,   1]), tensor([ 80, 100, 103, 100, 112,  35,  83, 117, 104, 118, 108, 103, 104, 113,\n",
      "        119,  47,  35,  76,  35, 107, 100, 121, 104,  35, 117, 104, 116, 120,\n",
      "        104, 118, 119, 104, 103,  35, 119, 107, 104,  35, 105, 111, 114, 114,\n",
      "        117,  35, 108, 113,  35, 114, 117, 103, 104, 117,  35, 119, 114,  35,\n",
      "        118, 115, 104, 100, 110,  35, 100, 101, 114, 120, 119,  35,  87, 120,\n",
      "        104, 118, 103, 100, 124,  42,  35, 118,  35, 109, 114, 108, 113, 119,\n",
      "         35, 103, 104, 101, 100, 119, 104,  35, 114, 113,  35, 105, 108, 118,\n",
      "        107, 104, 117, 108, 104, 118,  49,   1,   0,   0,   0,   0,   0,   0,\n",
      "          0,   0,   0,   0,   0,   0,   0,   0,   0,   0,   0,   0,   0,   0,\n",
      "          0,   0]), tensor([ 76, 105,  35,  76,  35, 107, 100, 103,  47,  35,  76,  35, 122, 114,\n",
      "        120, 111, 103,  35, 113, 100, 119, 120, 117, 100, 111, 111, 124,  35,\n",
      "        107, 100, 121, 104,  35, 108, 113, 105, 114, 117, 112, 104, 103,  35,\n",
      "        119, 107, 104,  35,  75, 114, 120, 118, 104,  49,   1,   0,   0,   0,\n",
      "          0,   0,   0,   0,   0,   0,   0,   0,   0,   0,   0,   0,   0,   0,\n",
      "          0,   0,   0,   0,   0,   0,   0,   0,   0,   0,   0,   0,   0,   0,\n",
      "          0,   0,   0,   0,   0,   0,   0,   0,   0,   0,   0,   0,   0,   0,\n",
      "          0,   0,   0,   0,   0,   0,   0,   0,   0,   0,   0,   0,   0,   0,\n",
      "          0,   0,   0,   0,   0,   0,   0,   0,   0,   0,   0,   0,   0,   0,\n",
      "          0,   0]), tensor([ 80, 100, 103, 100, 112,  35,  83, 117, 104, 118, 108, 103, 104, 113,\n",
      "        119,  47,  35, 108, 113,  35, 117, 104, 102, 104, 113, 119,  35, 103,\n",
      "        100, 124, 118,  47,  35, 104, 121, 104, 113,  35, 100, 118,  35, 122,\n",
      "        104,  35, 118, 115, 104, 100, 110,  47,  35, 117, 104, 115, 114, 117,\n",
      "        119, 118,  35, 107, 100, 121, 104,  35, 101, 104, 104, 113,  35, 105,\n",
      "        111, 114, 114, 103, 108, 113, 106,  35, 108, 113,  35, 114, 105,  35,\n",
      "        119, 107, 104,  35, 108, 113, 102, 117, 104, 100, 118, 108, 113, 106,\n",
      "         35, 113, 120, 112, 101, 104, 117,  35, 114, 105,  35, 102, 100, 118,\n",
      "        104, 118,  35, 114, 105,  35, 124, 114, 120, 113, 106,  35, 118, 114,\n",
      "        111,   1]), tensor([ 73, 108, 117, 118, 119, 111, 124,  47,  35,  80, 100, 103, 100, 112,\n",
      "         35,  83, 117, 104, 118, 108, 103, 104, 113, 119,  47,  35,  76,  35,\n",
      "        100, 112,  35, 118, 120, 117, 104,  35, 122, 104,  35, 122, 114, 120,\n",
      "        111, 103,  35, 100, 111, 111,  35, 122, 108, 118, 107,  35, 119, 114,\n",
      "         35, 118, 104, 113, 103,  35, 114, 120, 117,  35, 103, 104, 104, 115,\n",
      "        104, 118, 119,  35, 118, 124, 112, 115, 100, 119, 107, 124,  35, 119,\n",
      "        114,  35, 119, 107, 104,  35, 105, 100, 112, 108, 111, 108, 104, 118,\n",
      "         35, 114, 105,  35, 119, 107, 104,  35, 124, 114, 120, 113, 106,  35,\n",
      "        118, 114, 111, 103, 108, 104, 117, 118,  47,  35, 119, 107, 104,  35,\n",
      "         72,   1]), tensor([ 86, 104, 102, 114, 113, 103, 111, 124,  47,  35,  76,  35, 112, 120,\n",
      "        118, 119,  35, 119, 104, 111, 111,  35, 124, 114, 120,  35, 119, 107,\n",
      "        100, 119,  35,  76,  35, 106, 117, 104, 100, 119, 111, 124,  35, 122,\n",
      "        104, 111, 102, 114, 112, 104,  35, 124, 114, 120, 117,  35, 118, 119,\n",
      "        100, 119, 104, 112, 104, 113, 119, 118,  35, 114, 113,  35, 119, 107,\n",
      "        104,  35, 103, 104, 115, 111, 104, 119, 104, 103,  35, 120, 117, 100,\n",
      "        113, 108, 120, 112,  35, 108, 118, 118, 120, 104,  49,  35,  76, 113,\n",
      "         35, 115, 100, 117, 119, 108, 102, 120, 111, 100, 117,  47,  35,  76,\n",
      "         35, 118, 120, 115, 115, 114, 117, 119,  35, 124, 114, 120, 117,  35,\n",
      "        102,   1]), tensor([ 76,  35, 100, 112,  35, 116, 120, 108, 119, 104,  35, 100, 122, 100,\n",
      "        117, 104,  35, 119, 107, 100, 119,  35, 118, 114, 112, 104,  35, 115,\n",
      "        104, 114, 115, 111, 104,  35, 103, 104, 113, 124,  35, 119, 107, 100,\n",
      "        119,  35, 119, 107, 104, 117, 104,  35, 108, 118,  35, 100, 113, 124,\n",
      "         35, 100, 118, 118, 114, 102, 108, 100, 119, 108, 114, 113,  35, 101,\n",
      "        104, 119, 122, 104, 104, 113,  35, 119, 107, 104,  35, 103, 104, 100,\n",
      "        119, 107, 118,  35, 100, 113, 103,  35, 108, 111, 111,  35, 107, 104,\n",
      "        100, 111, 119, 107,  35, 100, 113, 103,  35, 119, 107, 104,  35, 120,\n",
      "        118, 104,  35, 114, 105,  35, 119, 107, 104,  35, 118, 107, 104, 111,\n",
      "        111,   1]), tensor([ 87, 107, 104, 117, 104, 105, 114, 117, 104,  47,  35, 108, 105,  35,\n",
      "        108, 119,  35, 108, 118,  35, 113, 114, 119,  35, 115, 114, 118, 118,\n",
      "        108, 101, 111, 104,  35, 119, 114,  35, 114, 101, 119, 100, 108, 113,\n",
      "         35, 100, 113,  35, 108, 112, 112, 104, 103, 108, 100, 119, 104,  35,\n",
      "        101, 100, 113,  47,  35, 108, 119,  35, 108, 118,  35, 104, 118, 118,\n",
      "        104, 113, 119, 108, 100, 111,  35, 119, 114,  35, 108, 112, 115, 114,\n",
      "        118, 104,  35, 100, 113,  35, 108, 112, 112, 104, 103, 108, 100, 119,\n",
      "        104,  35, 112, 114, 117, 100, 119, 114, 117, 108, 120, 112,  47,  35,\n",
      "        105, 114, 117,  35, 100, 111, 119, 107, 114, 120, 106, 107,  35, 119,\n",
      "        107,   1]), tensor([ 76,  35, 119, 117, 120, 118, 119,  35, 119, 107, 100, 119,  35, 124,\n",
      "        114, 120,  35, 122, 108, 111, 111,  35, 115, 120, 117, 118, 120, 104,\n",
      "         35, 119, 107, 108, 118,  35, 112, 100, 119, 119, 104, 117,  49,   1,\n",
      "          0,   0,   0,   0,   0,   0,   0,   0,   0,   0,   0,   0,   0,   0,\n",
      "          0,   0,   0,   0,   0,   0,   0,   0,   0,   0,   0,   0,   0,   0,\n",
      "          0,   0,   0,   0,   0,   0,   0,   0,   0,   0,   0,   0,   0,   0,\n",
      "          0,   0,   0,   0,   0,   0,   0,   0,   0,   0,   0,   0,   0,   0,\n",
      "          0,   0,   0,   0,   0,   0,   0,   0,   0,   0,   0,   0,   0,   0,\n",
      "          0,   0,   0,   0,   0,   0,   0,   0,   0,   0,   0,   0,   0,   0,\n",
      "          0,   0]), tensor([ 80, 100, 103, 100, 112,  35,  83, 117, 104, 118, 108, 103, 104, 113,\n",
      "        119,  47,  35, 100, 119,  35,  59,  35, 100,  49, 112,  49,  35, 119,\n",
      "        107, 108, 118,  35, 112, 114, 117, 113, 108, 113, 106,  47,  35,  76,\n",
      "         35, 105, 114, 120, 113, 103,  35, 112, 124, 118, 104, 111, 105,  35,\n",
      "        108, 113,  35, 119, 107, 104,  35, 106, 114, 114, 103,  35, 102, 114,\n",
      "        112, 115, 100, 113, 124,  35, 114, 105,  35,  53,  55,  35, 114, 119,\n",
      "        107, 104, 117,  35,  80,  72,  83, 118,  47,  35, 118, 119, 100, 105,\n",
      "        105,  35, 100, 113, 103,  35, 114, 113, 104,  35,  70, 114, 112, 112,\n",
      "        108, 118, 118, 108, 114, 113, 104, 117,  35, 100, 119,  35,  86, 102,\n",
      "        107,   1]), tensor([ 90, 104,  35, 122, 104, 117, 104,  35, 117, 104, 100, 111, 111, 124,\n",
      "         35, 111, 114, 114, 110, 108, 113, 106,  35, 105, 114, 117, 122, 100,\n",
      "        117, 103,  35, 119, 114,  35, 118, 115, 104, 113, 103, 108, 113, 106,\n",
      "         35, 100, 113, 114, 119, 107, 104, 117,  35, 122, 104, 104, 110,  35,\n",
      "        108, 113,  35,  86, 119, 117, 100, 118, 101, 114, 120, 117, 106,  35,\n",
      "        100, 105, 119, 104, 117,  35, 119, 107, 104,  35, 107, 114, 111, 108,\n",
      "        103, 100, 124, 118,  47,  35, 101, 120, 119,  35, 114, 120, 117,  35,\n",
      "        105, 111, 108, 106, 107, 119,  35, 122, 100, 118,  35, 102, 100, 113,\n",
      "        102, 104, 111, 111, 104, 103,  47,  35, 120, 113, 105, 114, 117, 119,\n",
      "        120,   1]), tensor([ 87, 107, 108, 118,  35, 108, 118,  35, 113, 114, 119,  35, 119, 107,\n",
      "        104,  35, 105, 108, 117, 118, 119,  35, 119, 108, 112, 104,  49,   1,\n",
      "          0,   0,   0,   0,   0,   0,   0,   0,   0,   0,   0,   0,   0,   0,\n",
      "          0,   0,   0,   0,   0,   0,   0,   0,   0,   0,   0,   0,   0,   0,\n",
      "          0,   0,   0,   0,   0,   0,   0,   0,   0,   0,   0,   0,   0,   0,\n",
      "          0,   0,   0,   0,   0,   0,   0,   0,   0,   0,   0,   0,   0,   0,\n",
      "          0,   0,   0,   0,   0,   0,   0,   0,   0,   0,   0,   0,   0,   0,\n",
      "          0,   0,   0,   0,   0,   0,   0,   0,   0,   0,   0,   0,   0,   0,\n",
      "          0,   0,   0,   0,   0,   0,   0,   0,   0,   0,   0,   0,   0,   0,\n",
      "          0,   0]), tensor([ 90, 104,  35, 105, 111, 124,  35, 119, 114,  35,  86, 119, 117, 100,\n",
      "        118, 101, 114, 120, 117, 106,  35, 122, 108, 119, 107,  35,  85, 104,\n",
      "        106, 108, 114, 113, 100, 111,  35,  68, 108, 117, 111, 108, 113, 104,\n",
      "        118,  49,   1,   0,   0,   0,   0,   0,   0,   0,   0,   0,   0,   0,\n",
      "          0,   0,   0,   0,   0,   0,   0,   0,   0,   0,   0,   0,   0,   0,\n",
      "          0,   0,   0,   0,   0,   0,   0,   0,   0,   0,   0,   0,   0,   0,\n",
      "          0,   0,   0,   0,   0,   0,   0,   0,   0,   0,   0,   0,   0,   0,\n",
      "          0,   0,   0,   0,   0,   0,   0,   0,   0,   0,   0,   0,   0,   0,\n",
      "          0,   0,   0,   0,   0,   0,   0,   0,   0,   0,   0,   0,   0,   0,\n",
      "          0,   0]), tensor([ 86, 108, 113, 102, 104,  35, 119, 107, 108, 118,  35, 100, 121, 108,\n",
      "        100, 119, 108, 114, 113,  35, 102, 114, 112, 115, 100, 113, 124,  35,\n",
      "        122, 100, 118,  35, 119, 100, 110, 104, 113,  35, 114, 121, 104, 117,\n",
      "         35, 101, 124,  35,  68, 108, 117,  35,  73, 117, 100, 113, 102, 104,\n",
      "         35, 119, 107, 108, 118,  35, 124, 104, 100, 117,  47,  35, 114, 113,\n",
      "        104,  35, 108, 113,  35, 119, 122, 114,  35, 105, 111, 108, 106, 107,\n",
      "        119, 118,  35, 107, 100, 118,  35, 101, 104, 104, 113,  35, 102, 100,\n",
      "        113, 102, 104, 111, 111, 104, 103,  49,   1,   0,   0,   0,   0,   0,\n",
      "          0,   0,   0,   0,   0,   0,   0,   0,   0,   0,   0,   0,   0,   0,\n",
      "          0,   0]), tensor([ 87, 107, 100, 119,  35, 112, 104, 100, 113, 118,  35, 119, 107, 100,\n",
      "        119,  35, 104, 100, 102, 107,  35, 119, 108, 112, 104,  35, 122, 104,\n",
      "         35, 119, 117, 124,  35, 119, 114,  35, 112, 100, 110, 104,  35, 114,\n",
      "        120, 117,  35, 122, 100, 124,  35, 119, 114,  35,  86, 119, 117, 100,\n",
      "        118, 101, 114, 120, 117, 106,  47,  35, 108, 113,  35, 106, 114, 114,\n",
      "        103,  35, 118, 115, 108, 117, 108, 119, 118,  47,  35, 122, 104,  35,\n",
      "        118, 119, 120, 112, 101, 111, 104,  35, 100, 102, 117, 114, 118, 118,\n",
      "         35, 124, 104, 119,  35, 100, 113, 114, 119, 107, 104, 117,  35, 107,\n",
      "        108, 119, 102, 107,  49,   1,   0,   0,   0,   0,   0,   0,   0,   0,\n",
      "          0,   0]), tensor([ 87, 114, 103, 100, 124,  35, 119, 114, 114,  47,  35, 122, 104,  35,\n",
      "        107, 100, 103,  35, 119, 114,  35, 105, 111, 124,  35, 121, 108, 100,\n",
      "         35,  83, 100, 117, 108, 118,  35, 119, 114,  35,  86, 119, 117, 100,\n",
      "        118, 101, 114, 120, 117, 106,  49,   1,   0,   0,   0,   0,   0,   0,\n",
      "          0,   0,   0,   0,   0,   0,   0,   0,   0,   0,   0,   0,   0,   0,\n",
      "          0,   0,   0,   0,   0,   0,   0,   0,   0,   0,   0,   0,   0,   0,\n",
      "          0,   0,   0,   0,   0,   0,   0,   0,   0,   0,   0,   0,   0,   0,\n",
      "          0,   0,   0,   0,   0,   0,   0,   0,   0,   0,   0,   0,   0,   0,\n",
      "          0,   0,   0,   0,   0,   0,   0,   0,   0,   0,   0,   0,   0,   0,\n",
      "          0,   0]), tensor([ 86, 114,  47,  35, 100, 111, 119, 107, 114, 120, 106, 107,  35,  76,\n",
      "         35, 122, 100, 118,  35, 100, 119,  35,  86, 102, 107, 108, 115, 107,\n",
      "        114, 111,  35, 108, 113,  35,  68, 112, 118, 119, 104, 117, 103, 100,\n",
      "        112,  35, 100, 119,  35,  59,  35, 100,  49, 112,  49,  47,  35,  76,\n",
      "         47,  35, 100, 111, 114, 113, 106,  35, 122, 108, 119, 107,  35,  53,\n",
      "         55,  35, 114, 119, 107, 104, 117, 118,  47,  35, 103, 108, 103,  35,\n",
      "        113, 114, 119,  35, 100, 117, 117, 108, 121, 104,  35, 108, 113,  35,\n",
      "         86, 119, 117, 100, 118, 101, 114, 120, 117, 106,  35, 120, 113, 119,\n",
      "        108, 111,  35,  55,  35, 115,  49, 112,  49,   1,   0,   0,   0,   0,\n",
      "          0,   0]), tensor([ 68, 119,  35, 115, 117, 104, 118, 104, 113, 119,  47,  35,  68, 108,\n",
      "        117,  35,  73, 117, 100, 113, 102, 104,  35, 108, 118,  35, 118, 119,\n",
      "        108, 111, 111,  35,  52,  51,  51,  40,  35, 118, 119, 100, 119, 104,\n",
      "         48, 114, 122, 113, 104, 103,  47,  35, 100, 113, 103,  35, 119, 107,\n",
      "        104,  35,  73, 117, 104, 113, 102, 107,  35,  74, 114, 121, 104, 117,\n",
      "        113, 112, 104, 113, 119,  35, 107, 100, 118,  35, 100, 118, 118, 120,\n",
      "        117, 104, 103,  35, 120, 118,  35, 119, 107, 100, 119,  35, 108, 119,\n",
      "         35, 122, 108, 111, 111,  35, 101, 104, 113, 103,  35, 114, 121, 104,\n",
      "        117,  35, 101, 100, 102, 110, 122, 100, 117, 103, 118,  35, 119, 114,\n",
      "         35,   1]), tensor([ 87, 107, 100, 119,  35, 108, 118,  35, 122, 107, 124,  35,  76,  35,\n",
      "        122, 114, 120, 111, 103,  35, 100, 118, 110,  35, 124, 114, 120,  35,\n",
      "        119, 114,  35, 115, 100, 118, 118,  35, 119, 107, 108, 118,  35, 102,\n",
      "        114, 112, 115, 111, 100, 108, 113, 119,  35, 114, 113,  35, 119, 114,\n",
      "         35, 119, 107, 104,  35,  73, 117, 104, 113, 102, 107,  35,  74, 114,\n",
      "        121, 104, 117, 113, 112, 104, 113, 119,  47,  35, 101, 104, 102, 100,\n",
      "        120, 118, 104,  35, 122, 104,  35, 122, 114, 120, 111, 103,  35, 118,\n",
      "        108, 112, 115, 111, 124,  35, 111, 108, 110, 104,  35, 119, 114,  35,\n",
      "        102, 100, 119, 102, 107,  35, 114, 120, 117,  35, 103, 108, 117, 104,\n",
      "        102,   1]), tensor([ 80, 117, 118,  35,  83, 111, 114, 114, 108, 109,  48, 121, 100, 113,\n",
      "         35,  74, 114, 117, 118, 104, 111,  47,  35,  76,  35, 100, 112,  35,\n",
      "        104, 123, 119, 117, 104, 112, 104, 111, 124,  35, 102, 114, 113, 102,\n",
      "        104, 117, 113, 104, 103,  35, 101, 124,  35, 122, 107, 100, 119,  35,\n",
      "        124, 114, 120,  35, 107, 100, 121, 104,  35, 119, 114, 111, 103,  35,\n",
      "        112, 104,  35, 100, 113, 103,  35,  76,  35, 102, 100, 113,  35, 100,\n",
      "        118, 118, 120, 117, 104,  35, 124, 114, 120,  35, 119, 107, 100, 119,\n",
      "         35,  76,  35, 118, 107, 100, 111, 111,  35, 112, 114, 118, 119,  35,\n",
      "        102, 104, 117, 119, 100, 108, 113, 111, 124,  35, 102, 114, 113, 121,\n",
      "        104,   1]), tensor([ 80, 100, 103, 100, 112,  35,  83, 117, 104, 118, 108, 103, 104, 113,\n",
      "        119,  47,  35, 114, 113,  35, 100,  35, 115, 114, 108, 113, 119,  35,\n",
      "        114, 105,  35, 114, 117, 103, 104, 117,  49,   1,   0,   0,   0,   0,\n",
      "          0,   0,   0,   0,   0,   0,   0,   0,   0,   0,   0,   0,   0,   0,\n",
      "          0,   0,   0,   0,   0,   0,   0,   0,   0,   0,   0,   0,   0,   0,\n",
      "          0,   0,   0,   0,   0,   0,   0,   0,   0,   0,   0,   0,   0,   0,\n",
      "          0,   0,   0,   0,   0,   0,   0,   0,   0,   0,   0,   0,   0,   0,\n",
      "          0,   0,   0,   0,   0,   0,   0,   0,   0,   0,   0,   0,   0,   0,\n",
      "          0,   0,   0,   0,   0,   0,   0,   0,   0,   0,   0,   0,   0,   0,\n",
      "          0,   0]), tensor([ 76,  35, 122, 108, 118, 107,  35, 119, 114,  35, 103, 117, 100, 122,\n",
      "         35, 119, 107, 104,  35, 100, 119, 119, 104, 113, 119, 108, 114, 113,\n",
      "         35, 114, 105,  35, 119, 107, 104,  35,  75, 114, 120, 118, 104,  35,\n",
      "        119, 114,  35, 100, 113,  35, 120, 113, 105, 114, 117, 119, 120, 113,\n",
      "        100, 119, 104,  35, 108, 113, 102, 108, 103, 104, 113, 119,  35, 122,\n",
      "        107, 108, 102, 107,  35, 107, 100, 118,  35, 114, 102, 102, 120, 117,\n",
      "        117, 104, 103,  35, 118, 108, 113, 102, 104,  35, 114, 120, 117,  35,\n",
      "        111, 100, 118, 119,  35, 115, 100, 117, 119,  48, 118, 104, 118, 118,\n",
      "        108, 114, 113,  47,  35, 100, 113, 103,  35, 119, 107, 100, 119,  35,\n",
      "        108,   1]), tensor([ 68,  35, 112, 100, 109, 114, 117,  35, 103, 104, 101, 100, 119, 104,\n",
      "         35, 107, 100, 118,  35, 101, 104, 104, 113,  35, 118, 102, 107, 104,\n",
      "        103, 120, 111, 104, 103,  35, 105, 114, 117,  35, 119, 107, 100, 119,\n",
      "         35, 103, 100, 124,  35, 100, 113, 103,  35, 119, 107, 104,  35,  70,\n",
      "        114, 113, 105, 104, 117, 104, 113, 102, 104,  35, 114, 105,  35,  83,\n",
      "        117, 104, 118, 108, 103, 104, 113, 119, 118,  35, 107, 100, 118,  35,\n",
      "        103, 104, 102, 108, 103, 104, 103,  35, 119, 114,  35, 108, 113, 102,\n",
      "        111, 120, 103, 104,  35, 100,  35,  70, 114, 112, 112, 108, 118, 118,\n",
      "        108, 114, 113,  35, 118, 119, 100, 119, 104, 112, 104, 113, 119,  35,\n",
      "        114,   1]), tensor([ 68, 118,  35, 124, 114, 120,  35, 110, 113, 114, 122,  47,  35, 119,\n",
      "        107, 108, 118,  35, 108, 118,  35, 100,  35, 121, 104, 117, 124,  35,\n",
      "        118, 104, 113, 118, 108, 119, 108, 121, 104,  35, 108, 118, 118, 120,\n",
      "        104,  35, 100, 113, 103,  35,  76,  35, 122, 114, 120, 111, 103,  35,\n",
      "        100, 118, 110,  35, 124, 114, 120,  35, 119, 114,  35, 102, 111, 100,\n",
      "        117, 108, 105, 124,  35, 100,  35, 105, 104, 122,  35, 119, 107, 108,\n",
      "        113, 106, 118,  47,  35, 100, 118,  35, 119, 107, 104,  35, 108, 113,\n",
      "        102, 111, 120, 118, 108, 114, 113,  35, 114, 105,  35, 119, 107, 108,\n",
      "        118,  35, 108, 118, 118, 120, 104,  35, 112, 100, 124,  35, 118, 114,\n",
      "        112,   1]), tensor([ 76,  35, 122, 114, 120, 111, 103,  35, 100, 118, 110,  35, 124, 114,\n",
      "        120,  35, 105, 108, 117, 118, 119,  35, 114, 105,  35, 100, 111, 111,\n",
      "         35, 119, 114,  35, 118, 119, 100, 119, 104,  35, 100, 119,  35, 122,\n",
      "        107, 114, 118, 104,  35, 101, 104, 107, 104, 118, 119,  35, 119, 107,\n",
      "        108, 118,  35, 122, 100, 118,  35, 108, 113, 102, 111, 120, 103, 104,\n",
      "        103,  47,  35, 108, 113,  35, 114, 119, 107, 104, 117,  35, 122, 114,\n",
      "        117, 103, 118,  47,  35, 122, 107, 104, 119, 107, 104, 117,  35, 108,\n",
      "        119,  35, 122, 100, 118,  35, 119, 107, 104,  35,  70, 114, 112, 112,\n",
      "        108, 118, 118, 108, 114, 113,  35, 108, 119, 118, 104, 111, 105,  35,\n",
      "        119,   1]), tensor([ 73, 120, 117, 119, 107, 104, 117, 112, 114, 117, 104,  47,  35, 108,\n",
      "        113,  35, 100, 102, 102, 114, 117, 103, 100, 113, 102, 104,  35, 122,\n",
      "        108, 119, 107,  35, 119, 107, 104,  35, 103, 104, 101, 100, 119, 104,\n",
      "         42,  35, 118,  35, 100, 106, 104, 113, 103, 100,  47,  35, 119, 107,\n",
      "        104,  35, 113, 114, 117, 112, 100, 111,  35, 102, 114, 120, 117, 118,\n",
      "        104,  35, 114, 105,  35, 100, 102, 119, 108, 114, 113,  35, 122, 114,\n",
      "        120, 111, 103,  35, 101, 104,  35, 105, 114, 117,  35, 119, 107, 104,\n",
      "         35, 109, 114, 108, 113, 119,  35, 103, 104, 101, 100, 119, 104,  35,\n",
      "        114, 113,  35, 119, 107, 104,  35, 105, 114, 120, 117,  35, 117, 104,\n",
      "        115,   1]), tensor([ 86, 108, 113, 102, 104,  35, 108, 119,  35, 113, 114,  35, 111, 114,\n",
      "        113, 106, 104, 117,  35, 100, 115, 115, 104, 100, 117, 118,  35, 115,\n",
      "        114, 118, 118, 108, 101, 111, 104,  35, 105, 114, 117,  35, 104, 121,\n",
      "        104, 113, 119, 118,  35, 119, 114,  35, 119, 100, 110, 104,  35, 115,\n",
      "        111, 100, 102, 104,  35, 108, 113,  35, 119, 107, 108, 118,  35, 122,\n",
      "        100, 124,  47,  35, 101, 104, 102, 100, 120, 118, 104,  35, 119, 107,\n",
      "        104,  35, 115, 114, 111, 108, 119, 108, 102, 100, 111,  35, 106, 117,\n",
      "        114, 120, 115, 118,  35, 107, 100, 121, 104,  35, 100, 111, 117, 104,\n",
      "        100, 103, 124,  35, 103, 108, 118, 119, 117, 108, 101, 120, 119, 104,\n",
      "        103,   1]), tensor([ 80, 100, 103, 100, 112,  35,  83, 117, 104, 118, 108, 103, 104, 113,\n",
      "        119,  47,  35,  76,  35, 118, 107, 100, 111, 111,  35, 101, 104,  35,\n",
      "        103, 104, 111, 108, 106, 107, 119, 104, 103,  35, 119, 114,  35, 117,\n",
      "        104, 115, 111, 124,  35, 119, 114,  35,  80, 117,  35,  89, 100, 117,\n",
      "        104, 111, 100,  35,  86, 120, 100, 113, 125, 104, 118,  48,  70, 100,\n",
      "        117, 115, 104, 106, 113, 100,  49,   1,   0,   0,   0,   0,   0,   0,\n",
      "          0,   0,   0,   0,   0,   0,   0,   0,   0,   0,   0,   0,   0,   0,\n",
      "          0,   0,   0,   0,   0,   0,   0,   0,   0,   0,   0,   0,   0,   0,\n",
      "          0,   0,   0,   0,   0,   0,   0,   0,   0,   0,   0,   0,   0,   0,\n",
      "          0,   0]), tensor([ 87, 107, 104,  35,  86, 114, 102, 108, 100, 111, 108, 118, 119,  35,\n",
      "         74, 117, 114, 120, 115,  35, 117, 104, 116, 120, 104, 118, 119, 104,\n",
      "        103,  35, 119, 107, 108, 118,  35,  70, 114, 112, 112, 108, 118, 118,\n",
      "        108, 114, 113,  35, 118, 119, 100, 119, 104, 112, 104, 113, 119,  35,\n",
      "         48,  35,  76,  35, 103, 114,  35, 113, 114, 119,  35, 110, 113, 114,\n",
      "        122,  35, 108, 105,  35, 100, 113, 124,  35, 114, 105,  35, 119, 107,\n",
      "        104,  35, 114, 119, 107, 104, 117,  35, 106, 117, 114, 120, 115, 118,\n",
      "         35, 112, 100, 103, 104,  35, 119, 107, 104,  35, 118, 100, 112, 104,\n",
      "         35, 117, 104, 116, 120, 104, 118, 119,  49,   1,   0,   0,   0,   0,\n",
      "          0,   0]), tensor([ 90, 104,  35, 103, 108, 103,  35, 118, 114,  35, 105, 114, 117,  35,\n",
      "        100,  35, 121, 104, 117, 124,  35, 118, 108, 112, 115, 111, 104,  35,\n",
      "        117, 104, 100, 118, 114, 113,  61,  35, 108, 113,  35, 119, 107, 104,\n",
      "         35, 111, 100, 118, 119,  35, 105, 104, 122,  35, 103, 100, 124, 118,\n",
      "         35, 122, 104,  35, 107, 100, 121, 104,  35, 118, 104, 104, 113,  35,\n",
      "         70, 114, 112, 112, 108, 118, 118, 108, 114, 113, 104, 117,  35,  73,\n",
      "        108, 118, 102, 107, 111, 104, 117,  35, 118, 120, 118, 115, 104, 113,\n",
      "        103,  35, 113, 104, 106, 114, 119, 108, 100, 119, 108, 114, 113, 118,\n",
      "         35, 114, 113,  35, 111, 108, 121, 104,  35, 119, 104, 111, 104, 121,\n",
      "        108,   1]), tensor([ 87, 107, 108, 118,  35, 117, 104, 100, 111, 111, 124,  35, 108, 118,\n",
      "         35, 119, 107, 104,  35, 112, 114, 118, 119,  35, 100, 115, 115, 117,\n",
      "        114, 115, 117, 108, 100, 119, 104,  35, 119, 108, 112, 104,  47,  35,\n",
      "        122, 107, 104, 113,  35, 122, 104,  35, 100, 117, 104,  35, 103, 108,\n",
      "        118, 102, 120, 118, 118, 108, 113, 106,  35, 119, 107, 104,  35, 105,\n",
      "        120, 119, 120, 117, 104,  35, 114, 105,  35, 114, 120, 117,  35, 105,\n",
      "        108, 118, 107, 104, 117, 108, 104, 118,  35, 115, 114, 111, 108, 102,\n",
      "        124,  35, 114, 113,  35, 119, 107, 104,  35, 101, 100, 118, 108, 118,\n",
      "         35, 114, 105,  35, 105, 114, 120, 117,  35, 117, 104, 115, 114, 117,\n",
      "        119,   1]), tensor([ 87, 107, 108, 118,  35, 108, 118,  35, 119, 107, 104,  35, 119, 107,\n",
      "        108, 113, 110, 108, 113, 106,  35, 119, 107, 100, 119,  35, 111, 104,\n",
      "        103,  35, 119, 107, 104,  35,  86, 114, 102, 108, 100, 111, 108, 118,\n",
      "        119,  35,  74, 117, 114, 120, 115,  35, 119, 114,  35, 112, 100, 110,\n",
      "        104,  35, 119, 107, 108, 118,  35, 117, 104, 116, 120, 104, 118, 119,\n",
      "         49,   1,   0,   0,   0,   0,   0,   0,   0,   0,   0,   0,   0,   0,\n",
      "          0,   0,   0,   0,   0,   0,   0,   0,   0,   0,   0,   0,   0,   0,\n",
      "          0,   0,   0,   0,   0,   0,   0,   0,   0,   0,   0,   0,   0,   0,\n",
      "          0,   0,   0,   0,   0,   0,   0,   0,   0,   0,   0,   0,   0,   0,\n",
      "          0,   0]), tensor([ 87, 107, 100, 113, 110,  35, 124, 114, 120,  47,  35,  80, 117,  35,\n",
      "         69, 100, 117, 198, 182, 113,  35,  70, 117, 104, 118, 115, 114,  49,\n",
      "          1,   0,   0,   0,   0,   0,   0,   0,   0,   0,   0,   0,   0,   0,\n",
      "          0,   0,   0,   0,   0,   0,   0,   0,   0,   0,   0,   0,   0,   0,\n",
      "          0,   0,   0,   0,   0,   0,   0,   0,   0,   0,   0,   0,   0,   0,\n",
      "          0,   0,   0,   0,   0,   0,   0,   0,   0,   0,   0,   0,   0,   0,\n",
      "          0,   0,   0,   0,   0,   0,   0,   0,   0,   0,   0,   0,   0,   0,\n",
      "          0,   0,   0,   0,   0,   0,   0,   0,   0,   0,   0,   0,   0,   0,\n",
      "          0,   0,   0,   0,   0,   0,   0,   0,   0,   0,   0,   0,   0,   0,\n",
      "          0,   0]), tensor([ 80, 117,  35,  89, 100, 117, 104, 111, 100,  47,  35,  80, 117,  35,\n",
      "         69, 100, 117, 198, 182, 113,  35,  70, 117, 104, 118, 115, 114,  35,\n",
      "        107, 100, 118,  35, 106, 108, 121, 104, 113,  35, 124, 114, 120,  35,\n",
      "        124, 114, 120, 117,  35, 100, 113, 118, 122, 104, 117,  49,   1,   0,\n",
      "          0,   0,   0,   0,   0,   0,   0,   0,   0,   0,   0,   0,   0,   0,\n",
      "          0,   0,   0,   0,   0,   0,   0,   0,   0,   0,   0,   0,   0,   0,\n",
      "          0,   0,   0,   0,   0,   0,   0,   0,   0,   0,   0,   0,   0,   0,\n",
      "          0,   0,   0,   0,   0,   0,   0,   0,   0,   0,   0,   0,   0,   0,\n",
      "          0,   0,   0,   0,   0,   0,   0,   0,   0,   0,   0,   0,   0,   0,\n",
      "          0,   0]), tensor([ 87, 107, 104,  35, 117, 104, 116, 120, 104, 118, 119,  35, 122, 100,\n",
      "        118,  35, 112, 100, 103, 104,  35, 101, 124,  35, 119, 107, 104,  35,\n",
      "         74, 117, 114, 120, 115,  35, 114, 105,  35, 119, 107, 104,  35,  83,\n",
      "        100, 117, 119, 124,  35, 114, 105,  35, 119, 107, 104,  35,  72, 120,\n",
      "        117, 114, 115, 104, 100, 113,  35,  86, 114, 102, 108, 100, 111, 108,\n",
      "        118, 119, 118,  47,  35, 101, 120, 119,  35,  76,  35, 102, 100, 113,\n",
      "         35, 108, 113, 105, 114, 117, 112,  35, 124, 114, 120,  35, 119, 107,\n",
      "        100, 119,  35, 108, 119,  35, 122, 100, 118,  35, 100, 115, 115, 117,\n",
      "        114, 121, 104, 103,  35, 120, 113, 100, 113, 108, 112, 114, 120, 118,\n",
      "        111,   1]), tensor([ 80, 100, 103, 100, 112,  35,  83, 117, 104, 118, 108, 103, 104, 113,\n",
      "        119,  47,  35,  76,  35, 100, 118, 110, 104, 103,  35, 105, 114, 117,\n",
      "         35, 102, 111, 100, 117, 108, 105, 108, 102, 100, 119, 108, 114, 113,\n",
      "         62,  35,  76,  35, 107, 100, 121, 104,  35, 100, 101, 118, 114, 111,\n",
      "        120, 119, 104, 111, 124,  35, 113, 114,  35, 108, 113, 119, 104, 113,\n",
      "        119, 108, 114, 113,  35, 114, 105,  35, 100, 117, 106, 120, 108, 113,\n",
      "        106,  35, 100, 101, 114, 120, 119,  35, 119, 107, 104,  35, 100, 115,\n",
      "        115, 117, 114, 115, 117, 108, 100, 119, 104, 113, 104, 118, 118,  35,\n",
      "        114, 105,  35, 100,  35,  70, 114, 112, 112, 108, 118, 118, 108, 114,\n",
      "        113,   1]), tensor([ 76,  35, 122, 100, 113, 119,  35, 119, 114,  35, 112, 100, 110, 104,\n",
      "         35, 108, 119,  35, 102, 111, 104, 100, 117,  35, 119, 107, 100, 119,\n",
      "         35, 122, 104,  35, 118, 120, 115, 115, 114, 117, 119,  35, 108, 119,\n",
      "         47,  35, 100, 113, 103,  35,  76,  35, 101, 104, 111, 108, 104, 121,\n",
      "        104,  35, 119, 107, 100, 119,  35, 108, 119,  35, 122, 100, 118,  35,\n",
      "        100, 111, 118, 114,  35, 118, 120, 115, 115, 114, 117, 119, 104, 103,\n",
      "         35, 108, 113,  35, 119, 107, 104,  35,  70, 114, 113, 105, 104, 117,\n",
      "        104, 113, 102, 104,  35, 114, 105,  35,  83, 117, 104, 118, 108, 103,\n",
      "        104, 113, 119, 118,  35, 114, 105,  35, 115, 114, 111, 108, 119, 108,\n",
      "        102,   1]), tensor([ 68, 118,  35,  70, 107, 100, 108, 117, 112, 100, 113,  35, 114, 105,\n",
      "         35, 119, 107, 100, 119,  35, 102, 114, 112, 112, 108, 119, 119, 104,\n",
      "        104,  47,  35,  76,  35, 122, 100, 113, 119, 104, 103,  35, 119, 114,\n",
      "         35, 107, 100, 121, 104,  35, 100, 111, 111,  35, 119, 107, 104,  35,\n",
      "        108, 113, 105, 114, 117, 112, 100, 119, 108, 114, 113,  35, 118, 114,\n",
      "         35, 119, 107, 100, 119,  35,  76,  35, 102, 114, 120, 111, 103,  35,\n",
      "        102, 114, 112, 112, 120, 113, 108, 102, 100, 119, 104,  35, 108, 119,\n",
      "         35, 119, 114,  35, 119, 107, 104,  35, 114, 119, 107, 104, 117,  35,\n",
      "        102, 114, 112, 112, 108, 119, 119, 104, 104,  35, 112, 104, 112, 101,\n",
      "        104,   1]), tensor([ 76, 113,  35, 113, 114,  35, 122, 100, 124,  35, 103, 114,  35, 122,\n",
      "        104,  35, 114, 115, 115, 114, 118, 104,  35, 108, 119,  49,  35,  73,\n",
      "        100, 117,  35, 105, 117, 114, 112,  35, 108, 119,  49,   1,   0,   0,\n",
      "          0,   0,   0,   0,   0,   0,   0,   0,   0,   0,   0,   0,   0,   0,\n",
      "          0,   0,   0,   0,   0,   0,   0,   0,   0,   0,   0,   0,   0,   0,\n",
      "          0,   0,   0,   0,   0,   0,   0,   0,   0,   0,   0,   0,   0,   0,\n",
      "          0,   0,   0,   0,   0,   0,   0,   0,   0,   0,   0,   0,   0,   0,\n",
      "          0,   0,   0,   0,   0,   0,   0,   0,   0,   0,   0,   0,   0,   0,\n",
      "          0,   0,   0,   0,   0,   0,   0,   0,   0,   0,   0,   0,   0,   0,\n",
      "          0,   0]), tensor([ 82, 120, 117,  35, 106, 117, 114, 120, 115,  35, 107, 100, 118,  35,\n",
      "        100, 111, 118, 114,  35, 118, 120, 115, 115, 114, 117, 119, 104, 103,\n",
      "         35, 108, 119,  49,  35,  86, 114,  35, 119, 107, 100, 119,  35, 119,\n",
      "        107, 104,  35, 103, 104, 101, 100, 119, 104,  35, 112, 100, 124,  35,\n",
      "        101, 104,  35, 107, 104, 111, 103,  35, 108, 113,  35, 100, 113,  35,\n",
      "        114, 117, 103, 104, 117, 104, 103,  35, 105, 100, 118, 107, 108, 114,\n",
      "        113,  47,  35, 122, 107, 108, 102, 107,  35, 108, 118,  35, 122, 107,\n",
      "        100, 119,  35, 112, 114, 118, 119,  35, 102, 114, 113, 102, 104, 117,\n",
      "        113, 118,  35, 112, 104,  47,  35, 101, 104, 102, 100, 120, 118, 104,\n",
      "         35,   1]), tensor([ 87, 107, 104,  35, 102, 114, 112, 115, 104, 119, 104, 113, 119,  35,\n",
      "        118, 104, 117, 121, 108, 102, 104, 118,  35, 107, 100, 103,  35, 108,\n",
      "        113, 105, 114, 117, 112, 104, 103,  35, 112, 104,  35, 119, 107, 100,\n",
      "        119,  35, 119, 107, 104,  35, 114, 117, 103, 104, 117,  35, 114, 105,\n",
      "         35, 108, 113, 119, 104, 117, 121, 104, 113, 119, 108, 114, 113, 118,\n",
      "         35, 122, 114, 120, 111, 103,  35, 101, 104,  35, 100, 118,  35, 105,\n",
      "        114, 111, 111, 114, 122, 118,  61,  35, 105, 108, 117, 118, 119, 111,\n",
      "        124,  35, 119, 107, 104,  35, 105, 114, 120, 117,  35, 117, 100, 115,\n",
      "        115, 114, 117, 119, 104, 120, 117, 118,  35, 114, 105,  35, 119, 107,\n",
      "        104,   1]), tensor([ 76, 113,  35, 119, 107, 100, 119,  35, 102, 100, 118, 104,  47,  35,\n",
      "        119, 107, 104,  35, 117, 100, 115, 115, 114, 117, 119, 104, 120, 117,\n",
      "        118,  35, 122, 114, 120, 111, 103,  35, 113, 114, 119,  35, 101, 104,\n",
      "         35, 100, 101, 111, 104,  35, 119, 114,  35, 117, 104, 115, 111, 124,\n",
      "         35, 119, 114,  35, 119, 107, 104,  35,  70, 114, 112, 112, 108, 118,\n",
      "        118, 108, 114, 113, 104, 117,  35, 103, 120, 117, 108, 113, 106,  35,\n",
      "        119, 107, 104,  35, 109, 114, 108, 113, 119,  35, 103, 104, 101, 100,\n",
      "        119, 104,  49,   1,   0,   0,   0,   0,   0,   0,   0,   0,   0,   0,\n",
      "          0,   0,   0,   0,   0,   0,   0,   0,   0,   0,   0,   0,   0,   0,\n",
      "          0,   0]), tensor([ 75, 104,  35, 122, 100, 118,  35, 100, 101, 103, 120, 102, 119, 104,\n",
      "        103,  35, 105, 117, 114, 112,  35, 119, 107, 104,  35, 119, 104, 117,\n",
      "        117, 108, 119, 114, 117, 124,  35, 114, 105,  35, 100,  35,  72, 120,\n",
      "        117, 114, 115, 104, 100, 113,  35,  88, 113, 108, 114, 113,  35,  80,\n",
      "        104, 112, 101, 104, 117,  35,  86, 119, 100, 119, 104,  49,   1,   0,\n",
      "          0,   0,   0,   0,   0,   0,   0,   0,   0,   0,   0,   0,   0,   0,\n",
      "          0,   0,   0,   0,   0,   0,   0,   0,   0,   0,   0,   0,   0,   0,\n",
      "          0,   0,   0,   0,   0,   0,   0,   0,   0,   0,   0,   0,   0,   0,\n",
      "          0,   0,   0,   0,   0,   0,   0,   0,   0,   0,   0,   0,   0,   0,\n",
      "          0,   0]), tensor([ 76,  35, 122, 114, 120, 111, 103,  35, 100, 118, 110,  35, 119, 107,\n",
      "        104,  35,  83, 117, 104, 118, 108, 103, 104, 113, 119,  35, 119, 114,\n",
      "         35, 104, 123, 115, 117, 104, 118, 118,  35, 114, 120, 117,  35, 102,\n",
      "        114, 113, 102, 104, 117, 113,  35, 119, 114,  35, 119, 107, 104,  35,\n",
      "         68, 113, 110, 100, 117, 100,  35,  74, 114, 121, 104, 117, 113, 112,\n",
      "        104, 113, 119,  35, 100, 101, 114, 120, 119,  35, 119, 107, 108, 118,\n",
      "         35, 108, 113, 102, 108, 103, 104, 113, 119,  35, 100, 113, 103,  35,\n",
      "        114, 120, 117,  35, 107, 114, 115, 104,  35, 119, 107, 100, 119,  35,\n",
      "        119, 107, 108, 118,  35, 120, 113, 105, 114, 117, 119, 120, 113, 100,\n",
      "        119,   1]), tensor([ 80, 100, 103, 100, 112,  35,  83, 117, 104, 118, 108, 103, 104, 113,\n",
      "        119,  47,  35, 112, 100, 124,  35,  76,  35, 118, 119, 100, 117, 119,\n",
      "         35, 101, 124,  35, 118, 100, 124, 108, 113, 106,  35, 119, 107, 100,\n",
      "        119,  35,  76,  35, 100, 106, 117, 104, 104,  35, 122, 107, 114, 111,\n",
      "        104, 107, 104, 100, 117, 119, 104, 103, 111, 124,  35, 122, 108, 119,\n",
      "        107,  35, 122, 107, 100, 119,  35,  80, 117,  35,  70, 114, 118, 118,\n",
      "        120, 119, 119, 100,  35, 109, 120, 118, 119,  35, 118, 100, 108, 103,\n",
      "         47,  35, 100, 111, 119, 107, 114, 120, 106, 107,  35, 119, 107, 100,\n",
      "        119,  35, 108, 118,  35, 113, 114, 119,  35, 122, 107, 124,  35,  76,\n",
      "         35,   1]), tensor([ 76,  35, 100, 118, 110, 104, 103,  35, 105, 114, 117,  35, 119, 107,\n",
      "        104,  35, 105, 111, 114, 114, 117,  35, 114, 113,  35, 119, 107, 104,\n",
      "         35, 112, 100, 119, 119, 104, 117,  35, 117, 100, 108, 118, 104, 103,\n",
      "         35, 101, 124,  35,  80, 117, 118,  35,  89, 108, 111, 111, 108, 104,\n",
      "        117, 118,  47,  35, 108, 113,  35, 114, 117, 103, 104, 117,  35, 119,\n",
      "        114,  35, 103, 104, 102, 117, 124,  35, 124, 104, 119,  35, 100, 113,\n",
      "        114, 119, 107, 104, 117,  35, 100, 102, 119,  35, 114, 105,  35, 119,\n",
      "        104, 117, 117, 114, 117, 108, 118, 112,  35, 114, 113,  35, 119, 107,\n",
      "        104,  35, 115, 100, 117, 119,  35, 114, 105,  35, 119, 107, 104,  35,\n",
      "         87,   1]), tensor([ 80, 124,  35, 105, 104, 111, 111, 114, 122,  35,  80, 104, 112, 101,\n",
      "        104, 117,  35, 107, 100, 118,  35, 103, 104, 118, 102, 117, 108, 101,\n",
      "        104, 103,  35, 119, 107, 104,  35, 102, 108, 117, 102, 120, 112, 118,\n",
      "        119, 100, 113, 102, 104, 118,  35, 100, 113, 103,  35,  76,  35, 113,\n",
      "        104, 104, 103,  35, 100, 103, 103,  35, 113, 114,  35, 105, 120, 117,\n",
      "        119, 107, 104, 117,  35, 103, 104, 119, 100, 108, 111, 118,  49,   1,\n",
      "          0,   0,   0,   0,   0,   0,   0,   0,   0,   0,   0,   0,   0,   0,\n",
      "          0,   0,   0,   0,   0,   0,   0,   0,   0,   0,   0,   0,   0,   0,\n",
      "          0,   0,   0,   0,   0,   0,   0,   0,   0,   0,   0,   0,   0,   0,\n",
      "          0,   0]), tensor([ 76,  35, 122, 114, 120, 111, 103,  35, 109, 120, 118, 119,  35, 115,\n",
      "        114, 108, 113, 119,  35, 114, 120, 119,  35, 119, 107, 100, 119,  35,\n",
      "        113, 114, 119,  35, 114, 113, 111, 124,  35, 122, 100, 118,  35,  80,\n",
      "        117,  35,  87, 118, 108, 100, 110, 114, 120, 117, 112, 100, 118,  35,\n",
      "        100, 101, 103, 120, 102, 119, 104, 103,  35, 114, 113,  35, 118, 114,\n",
      "        108, 111,  35, 101, 104, 111, 114, 113, 106, 108, 113, 106,  35, 119,\n",
      "        114,  35, 119, 107, 104,  35,  69, 117, 108, 119, 108, 118, 107,  35,\n",
      "        101, 100, 118, 104, 118,  47,  35, 107, 104,  35, 122, 100, 118,  35,\n",
      "        100, 101, 103, 120, 102, 119, 104, 103,  35, 100, 113, 103,  35, 108,\n",
      "        118,   1]), tensor([ 70, 114, 113, 118, 104, 116, 120, 104, 113, 119, 111, 124,  47,  35,\n",
      "        104, 121, 104, 117, 124,  35, 100, 121, 104, 113, 120, 104,  35, 105,\n",
      "        114, 117,  35, 119, 100, 110, 108, 113, 106,  35, 100, 102, 119, 108,\n",
      "        114, 113,  35, 100, 106, 100, 108, 113, 118, 119,  35,  87, 120, 117,\n",
      "        110, 104, 124,  35, 108, 118,  35, 114, 115, 104, 113,  35, 119, 114,\n",
      "         35, 120, 118,  35, 100, 113, 103,  35,  76,  35, 102, 100, 111, 111,\n",
      "         35, 114, 113,  35, 124, 114, 120,  47,  35,  80, 100, 103, 100, 112,\n",
      "         35,  83, 117, 104, 118, 108, 103, 104, 113, 119,  47,  35, 100, 113,\n",
      "        103,  35, 100, 111, 111,  35, 112, 124,  35, 105, 104, 111, 111, 114,\n",
      "        122,   1]), tensor([ 76, 113,  35, 105, 100, 102, 119,  47,  35, 119, 107, 104,  35, 122,\n",
      "        107, 114, 111, 104,  35, 101, 120, 118, 108, 113, 104, 118, 118,  35,\n",
      "        100, 115, 115, 104, 100, 117, 118,  35, 119, 114,  35, 101, 104,  35,\n",
      "        100,  35, 118, 104, 119,  35, 120, 115,  47,  35, 119, 107, 104,  35,\n",
      "        118, 114, 111, 104,  35, 115, 120, 117, 115, 114, 118, 104,  35, 114,\n",
      "        105,  35, 122, 107, 108, 102, 107,  35, 108, 118,  35, 119, 114,  35,\n",
      "        104, 123, 102, 107, 100, 113, 106, 104,  35,  80, 117,  35,  87, 118,\n",
      "        108, 100, 110, 114, 120, 117, 112, 100, 118,  35, 105, 114, 117,  35,\n",
      "        100,  35,  87, 120, 117, 110, 108, 118, 107,  35, 103, 117, 120, 106,\n",
      "         35,   1]), tensor([ 80, 117,  35,  68, 111, 124, 118, 118, 100, 113, 103, 117, 100, 110,\n",
      "        108, 118,  47,  35, 122, 104,  35, 118, 107, 100, 111, 111,  35, 118,\n",
      "        104, 104,  35, 122, 107, 100, 119,  35, 122, 104,  35, 102, 100, 113,\n",
      "         35, 103, 114,  35, 100, 101, 114, 120, 119,  35, 119, 107, 108, 118,\n",
      "         49,   1,   0,   0,   0,   0,   0,   0,   0,   0,   0,   0,   0,   0,\n",
      "          0,   0,   0,   0,   0,   0,   0,   0,   0,   0,   0,   0,   0,   0,\n",
      "          0,   0,   0,   0,   0,   0,   0,   0,   0,   0,   0,   0,   0,   0,\n",
      "          0,   0,   0,   0,   0,   0,   0,   0,   0,   0,   0,   0,   0,   0,\n",
      "          0,   0,   0,   0,   0,   0,   0,   0,   0,   0,   0,   0,   0,   0,\n",
      "          0,   0]), tensor([ 76,  35, 111, 108, 118, 119, 104, 113, 104, 103,  35, 102, 111, 114,\n",
      "        118, 104, 111, 124,  35, 119, 114,  35, 101, 114, 119, 107,  35, 124,\n",
      "        114, 120, 117,  35, 118, 115, 104, 104, 102, 107,  35, 100, 113, 103,\n",
      "         35, 119, 107, 100, 119,  35, 112, 100, 103, 104,  35, 101, 124,  35,\n",
      "        119, 107, 104,  35,  80, 104, 112, 101, 104, 117,  35, 101, 104, 105,\n",
      "        114, 117, 104,  35, 124, 114, 120,  49,   1,   0,   0,   0,   0,   0,\n",
      "          0,   0,   0,   0,   0,   0,   0,   0,   0,   0,   0,   0,   0,   0,\n",
      "          0,   0,   0,   0,   0,   0,   0,   0,   0,   0,   0,   0,   0,   0,\n",
      "          0,   0,   0,   0,   0,   0,   0,   0,   0,   0,   0,   0,   0,   0,\n",
      "          0,   0]), tensor([ 90, 108, 119, 107,  35, 117, 104, 106, 100, 117, 103,  35, 119, 114,\n",
      "         35,  80, 117,  35,  70, 114, 118, 118, 120, 119, 119, 100,  42,  35,\n",
      "        118,  35, 118, 115, 104, 104, 102, 107,  47,  35, 107, 104,  35, 108,\n",
      "        118,  35, 100, 122, 100, 117, 104,  35, 119, 107, 100, 119,  35,  76,\n",
      "         35, 112, 100, 103, 104,  35, 100,  35, 118, 119, 100, 119, 104, 112,\n",
      "        104, 113, 119,  35, 122, 107, 108, 102, 107,  35, 105, 120, 111, 111,\n",
      "        124,  35, 118, 120, 115, 115, 114, 117, 119, 118,  35, 107, 108, 118,\n",
      "         35, 114, 122, 113,  35, 118, 104, 113, 119, 108, 112, 104, 113, 119,\n",
      "        118,  49,   1,   0,   0,   0,   0,   0,   0,   0,   0,   0,   0,   0,\n",
      "          0,   0]), tensor([ 80, 100, 103, 100, 112,  35,  83, 117, 104, 118, 108, 103, 104, 113,\n",
      "        119,  47,  35,  76,  35, 119, 114, 114,  35, 122, 108, 118, 107,  35,\n",
      "        119, 114,  35, 100, 103, 103,  35, 119, 114,  35, 119, 107, 104,  35,\n",
      "        115, 117, 114, 119, 104, 118, 119, 118,  35, 121, 114, 108, 102, 104,\n",
      "        103,  35, 101, 124,  35,  80, 117, 118,  35,  89, 108, 111, 111, 108,\n",
      "        104, 117, 118,  35, 100, 113, 103,  35,  80, 117,  35,  68, 111, 124,\n",
      "        118, 118, 100, 113, 103, 117, 100, 110, 108, 118,  35, 100, 119,  35,\n",
      "        119, 107, 104,  35, 115, 117, 104, 112, 104, 103, 108, 119, 100, 119,\n",
      "        104, 103,  35, 100, 101, 103, 120, 102, 119, 108, 114, 113,  35, 114,\n",
      "        105,   1]), tensor([ 81, 114, 119,  35, 114, 113, 111, 124,  35, 108, 118,  35, 119, 107,\n",
      "        108, 118,  35, 112, 100, 113,  35, 108, 111, 111,  47,  35, 101, 120,\n",
      "        119,  35, 100,  35, 101, 100, 106,  35, 114, 105,  35, 107, 100, 118,\n",
      "        107, 108, 118, 107,  35, 122, 100, 118,  35, 115, 111, 100, 113, 119,\n",
      "        104, 103,  35, 113, 104, 123, 119,  35, 119, 114,  35, 107, 108, 112,\n",
      "         35, 118, 114,  35, 119, 107, 100, 119,  35, 107, 104,  35, 102, 114,\n",
      "        120, 111, 103,  35, 101, 104,  35, 100, 102, 102, 120, 118, 104, 103,\n",
      "         35, 114, 105,  35, 103, 117, 120, 106,  35, 118, 112, 120, 106, 106,\n",
      "        111, 108, 113, 106,  47,  35, 104, 121, 104, 113,  35, 119, 107, 114,\n",
      "        120,   1]), tensor([ 90, 104,  35, 113, 104, 104, 103,  35, 119, 114,  35, 100, 102, 119,\n",
      "         35, 105, 100, 118, 119,  35, 101, 104, 102, 100, 120, 118, 104,  35,\n",
      "         76,  35, 100, 112,  35, 100, 105, 117, 100, 108, 103,  35, 119, 107,\n",
      "        100, 119,  47,  35, 113, 114, 122,  35, 119, 107, 100, 119,  35,  87,\n",
      "        120, 117, 110, 104, 124,  35, 107, 100, 118,  35, 101, 104, 104, 113,\n",
      "         35, 100, 102, 102, 104, 115, 119, 104, 103,  35, 100, 118,  35, 100,\n",
      "         35, 102, 100, 113, 103, 108, 103, 100, 119, 104,  35, 102, 114, 120,\n",
      "        113, 119, 117, 124,  35, 114, 105,  35, 119, 107, 104,  35,  72, 120,\n",
      "        117, 114, 115, 104, 100, 113,  35,  88, 113, 108, 114, 113,  47,  35,\n",
      "        108,   1]), tensor([ 80, 100, 103, 100, 112,  35,  83, 117, 104, 118, 108, 103, 104, 113,\n",
      "        119,  47,  35,  76,  35, 122, 108, 118, 107,  35, 119, 114,  35, 108,\n",
      "        113, 105, 114, 117, 112,  35,  80, 117,  35,  89, 100, 117, 104, 111,\n",
      "        100,  35,  86, 120, 100, 113, 125, 104, 118,  48,  70, 100, 117, 115,\n",
      "        104, 106, 113, 100,  35, 119, 107, 100, 119,  35, 119, 107, 104, 118,\n",
      "        104,  35, 100, 117, 104,  35, 119, 107, 104,  35, 119, 104, 117, 112,\n",
      "        118,  35, 114, 105,  35, 119, 107, 104,  35,  70, 114, 113, 105, 104,\n",
      "        117, 104, 113, 102, 104,  35, 114, 105,  35,  83, 117, 104, 118, 108,\n",
      "        103, 104, 113, 119, 118,  47,  35, 101, 120, 119,  35,  76,  35, 118,\n",
      "        104,   1]), tensor([ 87, 107, 104,  35, 108, 103, 104, 100,  35,  48,  35, 100, 119,  35,\n",
      "        119, 107, 104,  35, 117, 104, 116, 120, 104, 118, 119,  35, 114, 105,\n",
      "         35, 112, 114, 118, 119,  35, 106, 117, 114, 120, 115,  35,  70, 107,\n",
      "        100, 108, 117, 112, 104, 113,  35,  48,  35, 122, 100, 118,  35, 119,\n",
      "        107, 100, 119,  35, 119, 107, 104,  35, 105, 114, 120, 117,  35, 117,\n",
      "        100, 115, 115, 114, 117, 119, 104, 120, 117, 118,  35, 122, 114, 120,\n",
      "        111, 103,  35, 118, 115, 104, 100, 110,  35, 105, 108, 117, 118, 119,\n",
      "         47,  35, 100, 113, 103,  35, 119, 107, 104, 113,  35, 119, 107, 104,\n",
      "         35, 117, 104, 115, 117, 104, 118, 104, 113, 119, 100, 119, 108, 121,\n",
      "        104,   1]), tensor([ 87, 107, 108, 118,  35, 122, 100, 118,  35, 122, 107, 100, 119,  35,\n",
      "        107, 100, 115, 115, 104, 113, 104, 103,  35, 108, 113,  35, 119, 107,\n",
      "        104,  35,  70, 114, 113, 105, 104, 117, 104, 113, 102, 104,  35, 114,\n",
      "        105,  35,  83, 117, 104, 118, 108, 103, 104, 113, 119, 118,  47,  35,\n",
      "        100, 119,  35, 122, 107, 108, 102, 107,  35,  76,  35, 107, 100, 103,\n",
      "         35, 119, 107, 104,  35, 107, 114, 113, 114, 120, 117,  35, 114, 105,\n",
      "         35, 117, 104, 115, 117, 104, 118, 104, 113, 119, 108, 113, 106,  35,\n",
      "        124, 114, 120,  47,  35,  80, 100, 103, 100, 112,  35,  83, 117, 104,\n",
      "        118, 108, 103, 104, 113, 119,  49,   1,   0,   0,   0,   0,   0,   0,\n",
      "          0,   0]), tensor([ 80, 117,  35,  89, 100, 117, 104, 111, 100,  42,  35, 118,  35, 117,\n",
      "        104, 116, 120, 104, 118, 119,  35, 108, 118,  35, 114, 120, 119,  35,\n",
      "        114, 105,  35, 115, 111, 100, 102, 104,  49,   1,   0,   0,   0,   0,\n",
      "          0,   0,   0,   0,   0,   0,   0,   0,   0,   0,   0,   0,   0,   0,\n",
      "          0,   0,   0,   0,   0,   0,   0,   0,   0,   0,   0,   0,   0,   0,\n",
      "          0,   0,   0,   0,   0,   0,   0,   0,   0,   0,   0,   0,   0,   0,\n",
      "          0,   0,   0,   0,   0,   0,   0,   0,   0,   0,   0,   0,   0,   0,\n",
      "          0,   0,   0,   0,   0,   0,   0,   0,   0,   0,   0,   0,   0,   0,\n",
      "          0,   0,   0,   0,   0,   0,   0,   0,   0,   0,   0,   0,   0,   0,\n",
      "          0,   0]), tensor([ 80, 100, 103, 100, 112,  35,  83, 117, 104, 118, 108, 103, 104, 113,\n",
      "        119,  47,  35,  76,  35, 122, 114, 120, 111, 103,  35, 111, 108, 110,\n",
      "        104,  35, 119, 114,  35, 104, 123, 115, 111, 100, 108, 113,  35, 121,\n",
      "        104, 117, 124,  35, 101, 117, 108, 104, 105, 111, 124,  35, 122, 107,\n",
      "        124,  35, 112, 124,  35, 106, 117, 114, 120, 115,  35, 107, 100, 118,\n",
      "         35, 119, 100, 101, 111, 104, 103,  35, 119, 107, 108, 118,  35, 112,\n",
      "        114, 119, 108, 114, 113,  35, 122, 107, 108, 102, 107,  47,  35, 117,\n",
      "        104, 111, 100, 119, 104, 118,  35, 119, 114,  35, 122, 107, 100, 119,\n",
      "         35, 108, 118,  35, 101, 104, 102, 114, 112, 108, 113, 106,  35, 110,\n",
      "        113,   1]), tensor([ 87, 107, 108, 118,  35, 108, 118,  35, 100, 113,  35, 108, 112, 115,\n",
      "        114, 117, 119, 100, 113, 119,  35, 108, 118, 118, 120, 104,  35, 119,\n",
      "        107, 100, 119,  35, 106, 114, 104, 118,  35, 101, 104, 124, 114, 113,\n",
      "        103,  35, 119, 107, 104,  35, 111, 108, 112, 108, 119, 118,  35, 114,\n",
      "        105,  35, 117, 104, 118, 115, 114, 113, 118, 108, 101, 108, 111, 108,\n",
      "        119, 124,  35, 114, 105,  35, 114, 113, 104,  35, 106, 117, 114, 120,\n",
      "        115,  49,   1,   0,   0,   0,   0,   0,   0,   0,   0,   0,   0,   0,\n",
      "          0,   0,   0,   0,   0,   0,   0,   0,   0,   0,   0,   0,   0,   0,\n",
      "          0,   0,   0,   0,   0,   0,   0,   0,   0,   0,   0,   0,   0,   0,\n",
      "          0,   0]), tensor([ 68, 118,  35, 108, 119,  35, 107, 100, 115, 115, 104, 113, 118,  47,\n",
      "         35, 108, 119,  35, 102, 114, 113, 102, 104, 117, 113, 118,  35, 119,\n",
      "        107, 104,  35, 115, 114, 111, 108, 102, 124,  35, 114, 105,  35, 100,\n",
      "         35, 111, 100, 117, 106, 104,  35, 105, 114, 114, 103,  35, 115, 117,\n",
      "        114, 102, 104, 118, 118, 108, 113, 106,  35, 102, 114, 112, 115, 100,\n",
      "        113, 124,  35, 122, 107, 108, 102, 107,  35, 107, 100, 118,  35, 117,\n",
      "        104, 102, 104, 113, 119, 111, 124,  35, 100, 102, 107, 108, 104, 121,\n",
      "        104, 103,  35, 105, 108, 113, 100, 113, 102, 108, 100, 111,  35, 117,\n",
      "        104, 118, 120, 111, 119, 118,  35, 103, 104, 118, 102, 117, 108, 101,\n",
      "        104,   1]), tensor([ 76, 119,  35, 118, 104, 104, 112, 118,  35, 119, 114,  35, 112, 104,\n",
      "         35, 119, 107, 100, 119,  35, 122, 104,  35, 102, 100, 113, 113, 114,\n",
      "        119,  47,  35, 114, 113,  35, 119, 107, 104,  35, 114, 113, 104,  35,\n",
      "        107, 100, 113, 103,  47,  35, 112, 100, 110, 104,  35, 105, 120, 111,\n",
      "        111,  35, 104, 112, 115, 111, 114, 124, 112, 104, 113, 119,  35, 100,\n",
      "         35, 115, 117, 108, 114, 117, 108, 119, 124,  35, 105, 114, 117,  35,\n",
      "         72, 120, 117, 114, 115, 104, 100, 113,  35,  88, 113, 108, 114, 113,\n",
      "         35, 100, 102, 119, 108, 114, 113,  35, 100, 113, 103,  35, 122, 114,\n",
      "        117, 110,  35, 114, 113,  35, 103, 117, 100, 105, 119, 108, 113, 106,\n",
      "         35,   1]), tensor([ 87, 107, 108, 118,  35, 108, 118,  35, 122, 107, 124,  35,  76,  35,\n",
      "        115, 117, 114, 115, 114, 118, 104,  35, 100, 113,  35, 120, 117, 106,\n",
      "        104, 113, 119,  35, 103, 104, 101, 100, 119, 104,  35, 114, 113,  35,\n",
      "        119, 107, 108, 118,  35, 112, 100, 119, 119, 104, 117,  49,   1,   0,\n",
      "          0,   0,   0,   0,   0,   0,   0,   0,   0,   0,   0,   0,   0,   0,\n",
      "          0,   0,   0,   0,   0,   0,   0,   0,   0,   0,   0,   0,   0,   0,\n",
      "          0,   0,   0,   0,   0,   0,   0,   0,   0,   0,   0,   0,   0,   0,\n",
      "          0,   0,   0,   0,   0,   0,   0,   0,   0,   0,   0,   0,   0,   0,\n",
      "          0,   0,   0,   0,   0,   0,   0,   0,   0,   0,   0,   0,   0,   0,\n",
      "          0,   0]), tensor([ 80, 100, 103, 100, 112,  35,  83, 117, 104, 118, 108, 103, 104, 113,\n",
      "        119,  47,  35, 112, 124,  35, 106, 117, 114, 120, 115,  35, 122, 108,\n",
      "        111, 111,  35, 101, 104,  35, 121, 114, 119, 108, 113, 106,  35, 108,\n",
      "        113,  35, 105, 100, 121, 114, 120, 117,  35, 114, 105,  35, 119, 107,\n",
      "        108, 118,  35, 115, 117, 114, 115, 114, 118, 100, 111,  35, 101, 104,\n",
      "        102, 100, 120, 118, 104,  47,  35, 119, 114,  35, 119, 100, 110, 104,\n",
      "         35, 120, 115,  35,  80, 117,  35,  90, 120, 117, 119, 125,  42,  35,\n",
      "        118,  35, 100, 117, 106, 120, 112, 104, 113, 119, 118,  47,  35, 119,\n",
      "        107, 108, 118,  35, 108, 118,  35, 113, 114, 119,  35, 109, 120, 118,\n",
      "        119,   1]), tensor([ 73, 120, 117, 119, 107, 104, 117, 112, 114, 117, 104,  47,  35, 101,\n",
      "        104, 102, 100, 120, 118, 104,  35, 119, 107, 104,  35,  72, 120, 117,\n",
      "        114, 115, 104, 100, 113,  35,  70, 114, 112, 115, 100, 113, 124,  35,\n",
      "         86, 119, 100, 119, 120, 119, 104,  35, 107, 100, 118,  35, 101, 104,\n",
      "        104, 113,  35, 100, 115, 115, 117, 114, 121, 104, 103,  35, 101, 124,\n",
      "         35, 119, 107, 104,  35,  87, 117, 104, 100, 119, 124,  35, 114, 105,\n",
      "         35,  81, 108, 102, 104,  47,  35, 122, 104,  35, 105, 104, 104, 111,\n",
      "         35, 119, 107, 100, 119,  35, 119, 107, 108, 118,  35, 108, 118,  35,\n",
      "        100, 113,  35, 104, 123, 119, 117, 104, 112, 104, 111, 124,  35, 119,\n",
      "        114,   1]), tensor([ 69, 104, 100, 117, 108, 113, 106,  35, 108, 113,  35, 112, 108, 113,\n",
      "        103,  35, 119, 107, 104,  35, 105, 100, 102, 119,  35, 119, 107, 100,\n",
      "        119,  35, 112, 124,  35, 106, 117, 114, 120, 115,  35, 107, 100, 118,\n",
      "         35, 100, 111, 118, 114,  35, 101, 117, 114, 120, 106, 107, 119,  35,\n",
      "        120, 115,  35, 119, 107, 104,  35, 118, 108, 119, 120, 100, 119, 108,\n",
      "        114, 113,  35, 114, 105,  35, 114, 119, 107, 104, 117,  35, 112, 120,\n",
      "        111, 119, 108, 113, 100, 119, 108, 114, 113, 100, 111,  35, 102, 114,\n",
      "        112, 115, 100, 113, 108, 104, 118,  35, 119, 107, 100, 119,  35, 114,\n",
      "        115, 104, 117, 100, 119, 104,  35, 100, 102, 117, 114, 118, 118,  35,\n",
      "         72,   1]), tensor([ 80, 100, 124, 101, 104,  35, 119, 107, 108, 118,  35, 102, 114, 120,\n",
      "        111, 103,  35, 117, 104, 115, 111, 100, 102, 104,  35, 100, 113, 114,\n",
      "        119, 107, 104, 117,  35, 108, 119, 104, 112,  47,  35, 101, 104, 102,\n",
      "        100, 120, 118, 104,  35, 119, 107, 104,  35, 108, 118, 118, 120, 104,\n",
      "         35, 108, 118,  35, 118, 104, 117, 108, 114, 120, 118,  35, 104, 113,\n",
      "        114, 120, 106, 107,  35, 119, 114,  35, 122, 100, 117, 117, 100, 113,\n",
      "        119,  35, 100,  35, 112, 114, 117, 104,  35, 108, 113,  48, 103, 104,\n",
      "        115, 119, 107,  35, 100, 113, 103,  35, 103, 104, 119, 100, 108, 111,\n",
      "        104, 103,  35, 118, 119, 120, 103, 124,  49,   1,   0,   0,   0,   0,\n",
      "          0,   0]), tensor([ 80, 100, 103, 100, 112,  35,  83, 117, 104, 118, 108, 103, 104, 113,\n",
      "        119,  47,  35, 122, 104,  35, 103, 114,  35, 113, 114, 119,  35, 103,\n",
      "        114, 120, 101, 119,  35, 119, 107, 100, 119,  35, 108, 119,  35, 108,\n",
      "        118,  35, 100, 113,  35, 108, 112, 115, 114, 117, 119, 100, 113, 119,\n",
      "         35, 108, 118, 118, 120, 104,  35, 122, 104,  35, 100, 117, 104,  35,\n",
      "        103, 108, 118, 102, 120, 118, 118, 108, 113, 106,  35, 107, 104, 117,\n",
      "        104,  47,  35, 101, 120, 119,  35, 119, 107, 108, 118,  35, 108, 118,\n",
      "         35, 118, 114, 112, 104, 119, 107, 108, 113, 106,  35, 119, 107, 100,\n",
      "        119,  35, 102, 117, 114, 115, 118,  35, 120, 115,  35, 119, 108, 112,\n",
      "        104,   1]), tensor([ 76, 113,  35, 119, 107, 104,  35, 115, 100, 118, 119,  47,  35, 122,\n",
      "        104,  35, 100, 111, 122, 100, 124, 118,  35, 100, 106, 117, 104, 104,\n",
      "        103,  35, 119, 107, 100, 119,  35, 122, 104,  35, 122, 114, 120, 111,\n",
      "        103,  35, 103, 104, 100, 111,  35, 122, 108, 119, 107,  35, 118, 120,\n",
      "        102, 107,  35, 108, 118, 118, 120, 104, 118,  35, 100, 118,  35, 115,\n",
      "        100, 117, 119,  35, 114, 105,  35, 100,  35, 112, 114, 117, 104,  35,\n",
      "        102, 114, 112, 115, 117, 104, 107, 104, 113, 118, 108, 121, 104,  35,\n",
      "        103, 104, 101, 100, 119, 104,  49,   1,   0,   0,   0,   0,   0,   0,\n",
      "          0,   0,   0,   0,   0,   0,   0,   0,   0,   0,   0,   0,   0,   0,\n",
      "          0,   0]), tensor([ 76, 119,  35, 108, 118,  35, 119, 107, 104, 117, 104, 105, 114, 117,\n",
      "        104,  35, 108, 113, 100, 115, 115, 117, 114, 115, 117, 108, 100, 119,\n",
      "        104,  35, 119, 114,  35, 108, 113, 121, 114, 110, 104,  35, 119, 107,\n",
      "        104,  35, 120, 117, 106, 104, 113, 119,  35, 115, 117, 114, 102, 104,\n",
      "        103, 120, 117, 104,  47,  35, 115, 100, 117, 119, 108, 102, 120, 111,\n",
      "        100, 117, 111, 124,  35, 100, 118,  35, 119, 107, 104,  35, 108, 118,\n",
      "        118, 120, 104,  35, 122, 107, 108, 102, 107,  35, 108, 118,  35, 119,\n",
      "        114,  35, 101, 104,  35, 111, 104, 105, 119,  35, 114, 105, 105,  35,\n",
      "        119, 107, 104,  35, 100, 106, 104, 113, 103, 100,  47,  35, 108, 118,\n",
      "         35,   1]), tensor([ 76, 119,  35, 107, 100, 118,  35, 100, 111, 117, 104, 100, 103, 124,\n",
      "         35, 100, 103, 121, 100, 113, 102, 104, 103,  35, 119, 114,  35, 115,\n",
      "        114, 118, 108, 119, 108, 114, 113, 118,  35, 100, 119,  35, 119, 122,\n",
      "        114,  35, 115, 114, 108, 113, 119, 118,  35, 114, 113,  35, 119, 107,\n",
      "        104,  35, 101, 114, 117, 103, 104, 117,  35, 122, 108, 119, 107,  35,\n",
      "        119, 107, 104,  35, 101, 120, 105, 105, 104, 117,  35, 125, 114, 113,\n",
      "        104,  35, 108, 113,  35,  70, 124, 115, 117, 120, 118,  47,  35, 108,\n",
      "        113,  35, 121, 108, 114, 111, 100, 119, 108, 114, 113,  35, 114, 105,\n",
      "         35,  88,  81,  35, 100, 117, 117, 100, 113, 106, 104, 112, 104, 113,\n",
      "        119,   1]), tensor([ 80, 114, 117, 104, 114, 121, 104, 117,  47,  35,  80, 117,  35,  71,\n",
      "        104, 113, 110, 119, 100, 118, 107,  47,  35, 119, 107, 104,  35, 111,\n",
      "        104, 100, 103, 104, 117,  35, 114, 105,  35,  37,  81, 114, 117, 119,\n",
      "        107,  35,  70, 124, 115, 117, 120, 118,  37,  35, 122, 107, 108, 102,\n",
      "        107,  47,  35,  76,  35, 122, 114, 120, 111, 103,  35, 117, 104, 112,\n",
      "        108, 113, 103,  35, 119, 107, 104,  35,  75, 114, 120, 118, 104,  47,\n",
      "         35, 108, 118,  35, 120, 113, 103, 104, 117,  35,  87, 120, 117, 110,\n",
      "        108, 118, 107,  35, 114, 102, 102, 120, 115, 100, 119, 108, 114, 113,\n",
      "         47,  35, 107, 100, 118,  35, 117, 104, 105, 120, 118, 104, 103,  35,\n",
      "        119,   1]), tensor([ 80, 100, 103, 100, 112,  35,  83, 117, 104, 118, 108, 103, 104, 113,\n",
      "        119,  47,  35,  76,  35, 122, 114, 120, 111, 103,  35, 111, 108, 110,\n",
      "        104,  35, 119, 114,  35, 103, 117, 100, 122,  35, 124, 114, 120, 117,\n",
      "         35, 100, 119, 119, 104, 113, 119, 108, 114, 113,  35, 119, 114,  35,\n",
      "        119, 107, 104,  35, 105, 100, 102, 119,  35, 119, 107, 100, 119,  35,\n",
      "        119, 107, 104,  35,  70, 114, 120, 113, 102, 108, 111,  35,  48,  35,\n",
      "        113, 114, 119,  35, 105, 114, 117,  35, 119, 107, 104,  35, 105, 108,\n",
      "        117, 118, 119,  35, 119, 108, 112, 104,  47,  35,  76,  35, 112, 108,\n",
      "        106, 107, 119,  35, 100, 103, 103,  35,  48,  35, 107, 100, 118,  35,\n",
      "        102,   1]), tensor([ 87, 107, 104,  35, 115, 114, 108, 113, 119,  35, 101, 104, 108, 113,\n",
      "        106,  35, 119, 107, 100, 119,  35, 122, 104,  35,  80,  72,  83, 118,\n",
      "         35, 107, 100, 121, 104,  35, 119, 107, 104,  35, 114, 115, 115, 114,\n",
      "        117, 119, 120, 113, 108, 119, 124,  47,  35, 114, 113, 102, 104,  35,\n",
      "        100,  35, 112, 114, 113, 119, 107,  47,  35, 119, 114,  35, 118, 120,\n",
      "        101, 112, 108, 119,  35, 100,  35, 122, 117, 108, 119, 119, 104, 113,\n",
      "         35, 116, 120, 104, 118, 119, 108, 114, 113,  47,  35, 105, 114, 117,\n",
      "         35, 115, 117, 108, 114, 117, 108, 119, 124,  35, 102, 114, 113, 118,\n",
      "        108, 103, 104, 117, 100, 119, 108, 114, 113,  35, 122, 107, 108, 102,\n",
      "        107,   1]), tensor([ 81, 114, 122,  35, 122, 107, 100, 119,  35, 122, 104,  35, 100, 117,\n",
      "        104,  35, 105, 108, 113, 103, 108, 113, 106,  35, 108, 118,  35, 119,\n",
      "        107, 100, 119,  35, 108, 113, 102, 117, 104, 100, 118, 108, 113, 106,\n",
      "        111, 124,  35, 114, 105, 119, 104, 113,  47,  35, 119, 107, 104,  35,\n",
      "         70, 114, 120, 113, 102, 108, 111,  35, 108, 118,  35, 105, 100, 108,\n",
      "        111, 108, 113, 106,  35, 119, 114,  35, 110, 104, 104, 115,  35, 119,\n",
      "        114,  35, 119, 107, 108, 118,  35, 119, 108, 112, 104,  35, 118, 102,\n",
      "        100, 111, 104,  49,   1,   0,   0,   0,   0,   0,   0,   0,   0,   0,\n",
      "          0,   0,   0,   0,   0,   0,   0,   0,   0,   0,   0,   0,   0,   0,\n",
      "          0,   0]), tensor([ 75, 104, 117, 104,  35, 108, 118,  35, 119, 107, 104,  35, 111, 100,\n",
      "        119, 104, 118, 119,  35, 104, 123, 100, 112, 115, 111, 104,  61,  35,\n",
      "         76,  35, 118, 120, 101, 112, 108, 119, 119, 104, 103,  35, 100,  35,\n",
      "        116, 120, 104, 118, 119, 108, 114, 113,  35, 108, 113,  35,  82, 102,\n",
      "        119, 114, 101, 104, 117,  47,  35, 119, 114,  35, 122, 107, 108, 102,\n",
      "        107,  35,  76,  35, 107, 100, 121, 104,  35, 113, 114, 119,  35, 117,\n",
      "        104, 102, 104, 108, 121, 104, 103,  35, 100, 113,  35, 100, 113, 118,\n",
      "        122, 104, 117,  35, 119, 114,  35, 119, 107, 108, 118,  35, 103, 100,\n",
      "        124,  47,  35, 113, 100, 112, 104, 111, 124,  35, 122, 107, 104, 113,\n",
      "         35,   1]), tensor([ 87, 107, 108, 118,  35, 108, 118,  35, 113, 114, 119,  35, 100, 113,\n",
      "         35, 108, 118, 114, 111, 100, 119, 104, 103,  35, 102, 100, 118, 104,\n",
      "         47,  35, 117, 100, 119, 107, 104, 117,  35, 118, 120, 102, 107,  35,\n",
      "        108, 113, 118, 119, 100, 113, 102, 104, 118,  35, 100, 117, 104,  35,\n",
      "        112, 114, 120, 113, 119, 108, 113, 106,  35, 120, 115,  49,   1,   0,\n",
      "          0,   0,   0,   0,   0,   0,   0,   0,   0,   0,   0,   0,   0,   0,\n",
      "          0,   0,   0,   0,   0,   0,   0,   0,   0,   0,   0,   0,   0,   0,\n",
      "          0,   0,   0,   0,   0,   0,   0,   0,   0,   0,   0,   0,   0,   0,\n",
      "          0,   0,   0,   0,   0,   0,   0,   0,   0,   0,   0,   0,   0,   0,\n",
      "          0,   0]), tensor([ 76,  35, 122, 114, 120, 111, 103,  35, 120, 117, 106, 104,  35, 124,\n",
      "        114, 120,  35, 119, 114,  35, 115, 117, 104, 118, 118,  35, 119, 107,\n",
      "        104,  35,  70, 114, 120, 113, 102, 108, 111,  35, 119, 114,  35, 114,\n",
      "        101, 118, 104, 117, 121, 104,  35, 119, 107, 104,  35,  85, 120, 111,\n",
      "        104, 118,  35, 114, 105,  35,  83, 117, 114, 102, 104, 103, 120, 117,\n",
      "        104,  49,   1,   0,   0,   0,   0,   0,   0,   0,   0,   0,   0,   0,\n",
      "          0,   0,   0,   0,   0,   0,   0,   0,   0,   0,   0,   0,   0,   0,\n",
      "          0,   0,   0,   0,   0,   0,   0,   0,   0,   0,   0,   0,   0,   0,\n",
      "          0,   0,   0,   0,   0,   0,   0,   0,   0,   0,   0,   0,   0,   0,\n",
      "          0,   0]), tensor([ 80, 100, 103, 100, 112,  35,  83, 117, 104, 118, 108, 103, 104, 113,\n",
      "        119,  47,  35,  76,  35, 119, 100, 110, 104,  35, 119, 107, 104,  35,\n",
      "        105, 111, 114, 114, 117,  35, 108, 113,  35, 114, 117, 103, 104, 117,\n",
      "         35, 119, 114,  35, 115, 114, 108, 113, 119,  35, 114, 120, 119,  35,\n",
      "        124, 104, 119,  35, 100, 106, 100, 108, 113,  35,  48,  35, 107, 100,\n",
      "        121, 108, 113, 106,  35, 122, 117, 108, 119, 119, 104, 113,  35, 119,\n",
      "        114,  35, 124, 114, 120,  35, 117, 104, 115, 104, 100, 119, 104, 103,\n",
      "        111, 124,  35, 114, 113,  35, 119, 107, 104,  35, 112, 100, 119, 119,\n",
      "        104, 117,  35,  48,  35, 119, 107, 100, 119,  35, 105, 114, 117,  35,\n",
      "        112,   1]), tensor([ 90, 104,  35, 100, 111, 111,  35, 110, 113, 114, 122,  35, 122, 107,\n",
      "        100, 119,  35, 100,  35, 103, 100, 117, 110,  35, 103, 100, 124,  35,\n",
      "        108, 119,  35, 122, 100, 118,  35, 105, 114, 117,  35, 119, 107, 104,\n",
      "         35, 122, 107, 114, 111, 104,  35, 114, 105,  35, 112, 100, 113, 110,\n",
      "        108, 113, 103,  35, 122, 107, 104, 113,  35, 119, 107, 104,  35,  87,\n",
      "        120, 117, 110, 108, 118, 107,  35, 112, 108, 111, 108, 119, 100, 117,\n",
      "        124,  35, 100, 113, 103,  35, 115, 114, 111, 108, 102, 104,  35, 105,\n",
      "        114, 117, 102, 104, 118,  35, 101, 117, 120, 119, 100, 111, 111, 124,\n",
      "         35, 108, 113, 121, 100, 103, 104, 103,  35, 119, 107, 104,  35, 115,\n",
      "        117,   1]), tensor([ 87, 107, 104, 124,  35, 110, 108, 111, 111, 104, 103,  35, 115, 104,\n",
      "        114, 115, 111, 104,  49,   1,   0,   0,   0,   0,   0,   0,   0,   0,\n",
      "          0,   0,   0,   0,   0,   0,   0,   0,   0,   0,   0,   0,   0,   0,\n",
      "          0,   0,   0,   0,   0,   0,   0,   0,   0,   0,   0,   0,   0,   0,\n",
      "          0,   0,   0,   0,   0,   0,   0,   0,   0,   0,   0,   0,   0,   0,\n",
      "          0,   0,   0,   0,   0,   0,   0,   0,   0,   0,   0,   0,   0,   0,\n",
      "          0,   0,   0,   0,   0,   0,   0,   0,   0,   0,   0,   0,   0,   0,\n",
      "          0,   0,   0,   0,   0,   0,   0,   0,   0,   0,   0,   0,   0,   0,\n",
      "          0,   0,   0,   0,   0,   0,   0,   0,   0,   0,   0,   0,   0,   0,\n",
      "          0,   0]), tensor([ 87, 107, 104, 124,  35, 105, 108, 117, 104, 103,  35, 114, 113,  35,\n",
      "        115, 117, 108, 118, 114, 113, 104, 117, 118,  49,   1,   0,   0,   0,\n",
      "          0,   0,   0,   0,   0,   0,   0,   0,   0,   0,   0,   0,   0,   0,\n",
      "          0,   0,   0,   0,   0,   0,   0,   0,   0,   0,   0,   0,   0,   0,\n",
      "          0,   0,   0,   0,   0,   0,   0,   0,   0,   0,   0,   0,   0,   0,\n",
      "          0,   0,   0,   0,   0,   0,   0,   0,   0,   0,   0,   0,   0,   0,\n",
      "          0,   0,   0,   0,   0,   0,   0,   0,   0,   0,   0,   0,   0,   0,\n",
      "          0,   0,   0,   0,   0,   0,   0,   0,   0,   0,   0,   0,   0,   0,\n",
      "          0,   0,   0,   0,   0,   0,   0,   0,   0,   0,   0,   0,   0,   0,\n",
      "          0,   0]), tensor([ 87, 107, 104, 124,  35, 101, 117, 120, 119, 100, 111, 111, 124,  35,\n",
      "        100, 119, 119, 100, 102, 110, 104, 103,  35, 119, 107, 104,  35, 105,\n",
      "        100, 112, 108, 111, 108, 104, 118,  35, 114, 105,  35, 115, 114, 111,\n",
      "        108, 119, 108, 102, 100, 111,  35, 115, 117, 108, 118, 114, 113, 104,\n",
      "        117, 118,  35, 115, 117, 114, 119, 104, 118, 119, 108, 113, 106,  35,\n",
      "        114, 120, 119, 118, 108, 103, 104,  35, 119, 107, 104,  35, 109, 100,\n",
      "        108, 111, 118,  35, 100, 113, 103,  35, 111, 108, 110, 104, 122, 108,\n",
      "        118, 104,  35, 114, 113,  35, 107, 120, 113, 106, 104, 117,  35, 118,\n",
      "        119, 117, 108, 110, 104,  49,   1,   0,   0,   0,   0,   0,   0,   0,\n",
      "          0,   0]), tensor([ 76,  35, 119, 107, 108, 113, 110,  35, 119, 107, 100, 119,  35, 108,\n",
      "        119,  35, 108, 118,  35, 122, 117, 114, 113, 106,  35, 119, 107, 100,\n",
      "        119,  35, 113, 104, 108, 119, 107, 104, 117,  35, 122, 104,  35, 113,\n",
      "        114, 117,  35, 119, 107, 104,  35, 101, 120, 117, 104, 100, 120,  35,\n",
      "        107, 100, 121, 104,  35, 100, 118,  35, 124, 104, 119,  35, 115, 117,\n",
      "        114, 119, 104, 118, 119, 104, 103,  35, 100, 106, 100, 108, 113, 118,\n",
      "        119,  35, 119, 107, 108, 118,  35, 118, 108, 119, 120, 100, 119, 108,\n",
      "        114, 113,  35, 108, 113,  35, 118, 119, 117, 114, 113, 106, 104, 117,\n",
      "         47,  35, 112, 114, 117, 104,  35, 102, 100, 119, 104, 106, 114, 117,\n",
      "        108,   1]), tensor([ 86, 114,  35,  76,  35, 100, 118, 110,  47,  35, 104, 121, 104, 113,\n",
      "         35, 113, 114, 122,  47,  35, 119, 107, 100, 119,  35, 124, 114, 120,\n",
      "         35, 117, 100, 108, 118, 104,  35, 124, 114, 120, 117,  35, 121, 114,\n",
      "        108, 102, 104,  35, 100, 113, 103,  35, 112, 100, 110, 104,  35, 114,\n",
      "        120, 117,  35, 118, 124, 112, 115, 100, 119, 107, 108, 104, 118,  35,\n",
      "        110, 113, 114, 122, 113,  49,   1,   0,   0,   0,   0,   0,   0,   0,\n",
      "          0,   0,   0,   0,   0,   0,   0,   0,   0,   0,   0,   0,   0,   0,\n",
      "          0,   0,   0,   0,   0,   0,   0,   0,   0,   0,   0,   0,   0,   0,\n",
      "          0,   0,   0,   0,   0,   0,   0,   0,   0,   0,   0,   0,   0,   0,\n",
      "          0,   0]), tensor([ 80, 100, 103, 100, 112,  35,  83, 117, 104, 118, 108, 103, 104, 113,\n",
      "        119,  47,  35, 122, 108, 119, 107,  35, 119, 107, 104,  35,  81, 104,\n",
      "        122,  35,  92, 104, 100, 117,  35, 122, 104,  35, 107, 100, 121, 104,\n",
      "         35, 111, 104, 100, 117, 113, 104, 103,  35, 119, 107, 117, 114, 120,\n",
      "        106, 107,  35, 119, 107, 104,  35,  86, 115, 100, 113, 108, 118, 107,\n",
      "         35,  69, 114, 111, 104, 119, 198, 176, 113,  35,  82, 105, 108, 102,\n",
      "        108, 100, 111,  35, 103, 104, 111,  35,  72, 118, 119, 100, 103, 114,\n",
      "         35, 119, 107, 100, 119,  35, 104, 111, 104, 121, 104, 113,  35, 115,\n",
      "        114, 111, 108, 102, 104, 112, 104, 113,  35, 100, 113, 103,  35, 119,\n",
      "        107,   1]), tensor([ 73, 104, 122,  35, 102, 100, 118, 104, 118,  35, 114, 105,  35, 119,\n",
      "        114, 117, 119, 120, 117, 104,  35, 100, 117, 104,  35, 100, 103, 112,\n",
      "        108, 119, 119, 104, 103,  35, 101, 124,  35, 119, 107, 104,  35,  86,\n",
      "        115, 100, 113, 108, 118, 107,  35, 102, 114, 120, 117, 119, 118,  49,\n",
      "          1,   0,   0,   0,   0,   0,   0,   0,   0,   0,   0,   0,   0,   0,\n",
      "          0,   0,   0,   0,   0,   0,   0,   0,   0,   0,   0,   0,   0,   0,\n",
      "          0,   0,   0,   0,   0,   0,   0,   0,   0,   0,   0,   0,   0,   0,\n",
      "          0,   0,   0,   0,   0,   0,   0,   0,   0,   0,   0,   0,   0,   0,\n",
      "          0,   0,   0,   0,   0,   0,   0,   0,   0,   0,   0,   0,   0,   0,\n",
      "          0,   0]), tensor([ 82, 113,  35, 119, 107, 104,  35, 102, 114, 113, 119, 117, 100, 117,\n",
      "        124,  47,  35, 112, 100, 113, 124,  35, 114, 105, 105, 108, 102, 108,\n",
      "        100, 111, 118,  35, 100, 117, 104,  35, 115, 117, 114, 112, 114, 119,\n",
      "        104, 103,  35, 101, 104, 102, 100, 120, 118, 104,  35, 114, 105,  35,\n",
      "        118, 120, 102, 107,  35, 100, 102, 119, 108, 121, 108, 119, 108, 104,\n",
      "        118,  49,   1,   0,   0,   0,   0,   0,   0,   0,   0,   0,   0,   0,\n",
      "          0,   0,   0,   0,   0,   0,   0,   0,   0,   0,   0,   0,   0,   0,\n",
      "          0,   0,   0,   0,   0,   0,   0,   0,   0,   0,   0,   0,   0,   0,\n",
      "          0,   0,   0,   0,   0,   0,   0,   0,   0,   0,   0,   0,   0,   0,\n",
      "          0,   0]), tensor([ 76, 113, 118, 108, 103, 104,  35, 119, 107, 104,  35,  72, 120, 117,\n",
      "        114, 115, 104, 100, 113,  35,  88, 113, 108, 114, 113,  35, 119, 107,\n",
      "        100, 119,  35, 108, 118,  35, 118, 108, 112, 115, 111, 124,  35, 113,\n",
      "        114, 119,  35, 119, 114, 111, 104, 117, 100, 101, 111, 104,  49,   1,\n",
      "          0,   0,   0,   0,   0,   0,   0,   0,   0,   0,   0,   0,   0,   0,\n",
      "          0,   0,   0,   0,   0,   0,   0,   0,   0,   0,   0,   0,   0,   0,\n",
      "          0,   0,   0,   0,   0,   0,   0,   0,   0,   0,   0,   0,   0,   0,\n",
      "          0,   0,   0,   0,   0,   0,   0,   0,   0,   0,   0,   0,   0,   0,\n",
      "          0,   0,   0,   0,   0,   0,   0,   0,   0,   0,   0,   0,   0,   0,\n",
      "          0,   0]), tensor([ 76, 119,  35, 108, 118,  35, 108, 113, 102, 120, 112, 101, 104, 113,\n",
      "        119,  35, 120, 115, 114, 113,  35, 120, 118,  35, 119, 114,  35, 115,\n",
      "        117, 104, 118, 118,  35, 119, 107, 104,  35,  86, 115, 100, 113, 108,\n",
      "        118, 107,  35,  74, 114, 121, 104, 117, 113, 112, 104, 113, 119,  35,\n",
      "        114, 113,  35, 119, 107, 108, 118,  35, 108, 118, 118, 120, 104,  49,\n",
      "          1,   0,   0,   0,   0,   0,   0,   0,   0,   0,   0,   0,   0,   0,\n",
      "          0,   0,   0,   0,   0,   0,   0,   0,   0,   0,   0,   0,   0,   0,\n",
      "          0,   0,   0,   0,   0,   0,   0,   0,   0,   0,   0,   0,   0,   0,\n",
      "          0,   0,   0,   0,   0,   0,   0,   0,   0,   0,   0,   0,   0,   0,\n",
      "          0,   0]), tensor([ 76,  35, 122, 114, 120, 111, 103,  35, 120, 117, 106, 104,  35, 119,\n",
      "        107, 108, 118,  35,  83, 100, 117, 111, 108, 100, 112, 104, 113, 119,\n",
      "         35, 119, 114,  35, 108, 118, 118, 120, 104,  35, 100,  35, 103, 104,\n",
      "        102, 111, 100, 117, 100, 119, 108, 114, 113,  35, 108, 113,  35, 119,\n",
      "        107, 104,  35, 102, 111, 104, 100, 117, 104, 118, 119,  35, 115, 114,\n",
      "        118, 118, 108, 101, 111, 104,  35, 119, 104, 117, 112, 118,  35, 119,\n",
      "        114,  35, 118, 107, 114, 122,  35, 114, 120, 117,  35, 118, 119, 104,\n",
      "        100, 103, 105, 100, 118, 119,  35, 114, 115, 115, 114, 118, 108, 119,\n",
      "        108, 114, 113,  35, 119, 114,  35, 119, 114, 117, 119, 120, 117, 104,\n",
      "         49,   1]), tensor([ 76,  35, 100, 112,  35, 118, 120, 117, 104,  35, 119, 107, 100, 119,\n",
      "         35, 124, 114, 120,  35, 122, 108, 111, 111,  35, 122, 100, 113, 119,\n",
      "         35, 119, 114,  35, 117, 104, 118, 115, 114, 113, 103,  35, 105, 120,\n",
      "        111, 111, 124,  35, 100, 113, 103,  35, 117, 100, 115, 108, 103, 111,\n",
      "        124,  35, 119, 114,  35, 119, 107, 108, 118,  35, 102, 114, 113, 102,\n",
      "        104, 117, 113,  49,   1,   0,   0,   0,   0,   0,   0,   0,   0,   0,\n",
      "          0,   0,   0,   0,   0,   0,   0,   0,   0,   0,   0,   0,   0,   0,\n",
      "          0,   0,   0,   0,   0,   0,   0,   0,   0,   0,   0,   0,   0,   0,\n",
      "          0,   0,   0,   0,   0,   0,   0,   0,   0,   0,   0,   0,   0,   0,\n",
      "          0,   0]), tensor([ 80, 100, 103, 100, 112,  35,  83, 117, 104, 118, 108, 103, 104, 113,\n",
      "        119,  47,  35, 107, 100, 118,  35, 108, 119,  35, 101, 104, 104, 113,\n",
      "         35, 101, 117, 114, 120, 106, 107, 119,  35, 119, 114,  35, 124, 114,\n",
      "        120, 117,  35, 100, 119, 119, 104, 113, 119, 108, 114, 113,  35, 119,\n",
      "        107, 100, 119,  35, 119, 107, 104,  35,  80, 104, 112, 101, 104, 117,\n",
      "        118,  42,  35, 117, 104, 106, 108, 118, 119, 104, 117,  35, 114, 105,\n",
      "         35, 108, 113, 119, 104, 117, 104, 118, 119, 118,  35, 122, 100, 118,\n",
      "         35, 111, 100, 118, 119,  35, 122, 104, 104, 110,  35, 115, 120, 101,\n",
      "        111, 108, 118, 107, 104, 103,  35, 114, 113,  35, 100, 113,  35,  76,\n",
      "        113,   1]), tensor([ 85, 104, 106, 100, 117, 103, 108, 113, 106,  35, 119, 107, 104,  35,\n",
      "        115, 117, 114, 115, 114, 118, 100, 111,  35, 101, 124,  35,  80, 117,\n",
      "         35,  69, 100, 117, 198, 182, 113,  35,  70, 117, 104, 118, 115, 114,\n",
      "         47,  35,  76,  35, 100, 112,  35, 108, 113,  35, 102, 114, 112, 115,\n",
      "        111, 104, 119, 104,  35, 100, 106, 117, 104, 104, 112, 104, 113, 119,\n",
      "         35, 122, 108, 119, 107,  35, 119, 107, 104,  35, 115, 117, 114, 115,\n",
      "        114, 118, 100, 111,  35, 119, 114,  35, 117, 104, 105, 104, 117,  35,\n",
      "        119, 107, 104,  35, 122, 107, 114, 111, 104,  35, 112, 100, 119, 119,\n",
      "        104, 117,  47,  35, 108,  49, 104,  49,  35,  71, 100, 113, 114, 113,\n",
      "        104,   1]), tensor([ 76,  35, 103, 114,  35, 113, 114, 119,  35, 113, 104, 102, 104, 118,\n",
      "        118, 100, 117, 108, 111, 124,  35, 122, 108, 118, 107,  35, 119, 107,\n",
      "        100, 119,  35, 119, 107, 108, 118,  35, 101, 104,  35, 119, 117, 104,\n",
      "        100, 119, 104, 103,  35, 100, 118,  35, 100, 113,  35, 120, 117, 106,\n",
      "        104, 113, 119,  35, 119, 114, 115, 108, 102,  47,  35, 101, 120, 119,\n",
      "         35,  76,  35, 103, 114,  35, 119, 107, 108, 113, 110,  35, 119, 107,\n",
      "        100, 119,  35, 122, 104,  35, 118, 107, 114, 120, 111, 103,  35, 119,\n",
      "        100, 110, 104,  35, 113, 114, 119, 104,  35, 114, 105,  35, 119, 107,\n",
      "        108, 118,  35, 106, 117, 100, 121, 104,  35, 108, 113, 102, 114, 113,\n",
      "        118,   1]), tensor([ 87, 107, 104, 117, 104, 105, 114, 117, 104,  47,  35, 108, 105,  35,\n",
      "        100, 111, 111,  35,  80, 104, 112, 101, 104, 117, 118,  35, 100, 117,\n",
      "        104,  35, 108, 113,  35, 100, 106, 117, 104, 104, 112, 104, 113, 119,\n",
      "         47,  35,  76,  35, 122, 114, 120, 111, 103,  35, 102, 104, 117, 119,\n",
      "        100, 108, 113, 111, 124,  35, 122, 108, 118, 107,  35, 119, 114,  35,\n",
      "        117, 104, 105, 104, 117,  35, 119, 107, 108, 118,  35, 112, 100, 119,\n",
      "        119, 104, 117,  35, 119, 114,  35, 119, 107, 104,  35,  70, 114, 112,\n",
      "        112, 108, 119, 119, 104, 104,  35, 114, 113,  35,  72, 112, 115, 111,\n",
      "        114, 124, 112, 104, 113, 119,  35, 100, 113, 103,  35,  86, 114, 102,\n",
      "        108,   1]), tensor([ 80, 117,  35,  90, 120, 117, 119, 125,  47,  35, 118, 107, 114, 120,\n",
      "        111, 103,  35,  76,  35, 100, 118, 118, 120, 112, 104,  35, 119, 107,\n",
      "        104, 113,  35, 119, 107, 100, 119,  35, 124, 114, 120,  35, 122, 108,\n",
      "        118, 107,  35, 119, 114,  35, 122, 108, 119, 107, 103, 117, 100, 122,\n",
      "         35, 119, 107, 104,  35, 102, 120, 117, 117, 104, 113, 119,  35, 115,\n",
      "        117, 114, 115, 114, 118, 100, 111,  35, 119, 114,  35, 117, 104, 115,\n",
      "        111, 100, 102, 104,  35, 108, 119, 104, 112,  35,  56,  35, 108, 113,\n",
      "         35, 119, 107, 104,  35, 103, 104, 101, 100, 119, 104,  35, 114, 113,\n",
      "         35, 119, 114, 115, 108, 102, 100, 111,  35, 100, 113, 103,  35, 120,\n",
      "        117,   1]), tensor([ 80, 100, 124,  35,  76,  35, 102, 114, 113, 102, 111, 120, 103, 104,\n",
      "         35, 119, 107, 100, 119,  35, 119, 107, 104, 117, 104,  35, 108, 118,\n",
      "         35, 101, 117, 114, 100, 103,  35, 102, 114, 113, 118, 104, 113, 118,\n",
      "        120, 118,  35, 114, 113,  35,  80, 117,  35,  69, 100, 117, 198, 182,\n",
      "        113,  35,  70, 117, 104, 118, 115, 114,  42,  35, 118,  35, 115, 117,\n",
      "        114, 115, 114, 118, 100, 111,  66,   1,   0,   0,   0,   0,   0,   0,\n",
      "          0,   0,   0,   0,   0,   0,   0,   0,   0,   0,   0,   0,   0,   0,\n",
      "          0,   0,   0,   0,   0,   0,   0,   0,   0,   0,   0,   0,   0,   0,\n",
      "          0,   0,   0,   0,   0,   0,   0,   0,   0,   0,   0,   0,   0,   0,\n",
      "          0,   0]), tensor([ 76,  35, 102, 100, 113,  35, 118, 104, 104,  35, 119, 107, 100, 119,\n",
      "         35, 119, 107, 108, 118,  35, 108, 118,  35, 119, 107, 104,  35, 102,\n",
      "        100, 118, 104,  49,   1,   0,   0,   0,   0,   0,   0,   0,   0,   0,\n",
      "          0,   0,   0,   0,   0,   0,   0,   0,   0,   0,   0,   0,   0,   0,\n",
      "          0,   0,   0,   0,   0,   0,   0,   0,   0,   0,   0,   0,   0,   0,\n",
      "          0,   0,   0,   0,   0,   0,   0,   0,   0,   0,   0,   0,   0,   0,\n",
      "          0,   0,   0,   0,   0,   0,   0,   0,   0,   0,   0,   0,   0,   0,\n",
      "          0,   0,   0,   0,   0,   0,   0,   0,   0,   0,   0,   0,   0,   0,\n",
      "          0,   0,   0,   0,   0,   0,   0,   0,   0,   0,   0,   0,   0,   0,\n",
      "          0,   0]), tensor([ 71, 114, 104, 118,  35, 100, 113, 124,  35,  80, 104, 112, 101, 104,\n",
      "        117,  35, 114, 105,  35, 119, 107, 104,  35,  88, 113, 108, 114, 113,\n",
      "         35, 105, 114, 117,  35, 100,  35,  72, 120, 117, 114, 115, 104,  35,\n",
      "        114, 105,  35,  81, 100, 119, 108, 114, 113, 118,  35,  74, 117, 114,\n",
      "        120, 115,  35, 122, 108, 118, 107,  35, 119, 114,  35, 115, 117, 104,\n",
      "        118, 104, 113, 119,  35, 119, 107, 104,  35, 117, 104, 116, 120, 104,\n",
      "        118, 119,  35, 119, 114,  35, 117, 104, 115, 111, 100, 102, 104,  35,\n",
      "        119, 107, 104,  35, 108, 119, 104, 112,  35, 122, 108, 119, 107,  35,\n",
      "         37,  86, 108, 119, 120, 100, 119, 108, 114, 113,  35, 108, 113,  35,\n",
      "         68,   1]), tensor([ 80, 100, 103, 100, 112,  35,  83, 117, 104, 118, 108, 103, 104, 113,\n",
      "        119,  47,  35, 124, 114, 120,  35, 112, 104, 113, 119, 108, 114, 113,\n",
      "        104, 103,  35, 104, 100, 117, 111, 108, 104, 117,  35, 119, 107, 104,\n",
      "         35, 107, 114, 117, 117, 114, 117, 118,  35, 119, 107, 100, 119,  35,\n",
      "        107, 100, 121, 104,  35, 101, 104, 104, 113,  35, 117, 104, 115, 114,\n",
      "        117, 119, 104, 103,  47,  35, 122, 107, 108, 102, 107,  35, 100, 117,\n",
      "        104,  35, 117, 104, 111, 100, 119, 104, 103,  35, 119, 114,  35, 119,\n",
      "        104, 117, 117, 114, 117, 108, 118, 112,  49,   1,   0,   0,   0,   0,\n",
      "          0,   0,   0,   0,   0,   0,   0,   0,   0,   0,   0,   0,   0,   0,\n",
      "          0,   0]), tensor([ 70, 114, 113, 118, 104, 116, 120, 104, 113, 119, 111, 124,  47,  35,\n",
      "        119, 107, 104,  35,  88, 113, 108, 114, 113,  35, 105, 114, 117,  35,\n",
      "        100,  35,  72, 120, 117, 114, 115, 104,  35, 114, 105,  35,  81, 100,\n",
      "        119, 108, 114, 113, 118,  35,  74, 117, 114, 120, 115,  35, 122, 100,\n",
      "        113, 119, 104, 103,  35, 119, 107, 104,  35,  75, 114, 120, 118, 104,\n",
      "         35, 119, 114,  35, 101, 104,  35, 100, 101, 111, 104,  35, 119, 114,\n",
      "         35, 107, 114, 111, 103,  35, 100, 113,  35, 120, 117, 106, 104, 113,\n",
      "        119,  35, 103, 104, 101, 100, 119, 104,  35, 114, 113,  35, 119, 107,\n",
      "        104,  35, 118, 108, 119, 120, 100, 119, 108, 114, 113,  35, 108, 113,\n",
      "         35,   1]), tensor([ 79, 100, 118, 119,  35, 122, 104, 104, 110,  47,  35, 122, 104,  35,\n",
      "        122, 104, 117, 104,  35, 100, 111, 111,  35, 100, 101, 111, 104,  35,\n",
      "        119, 114,  35, 122, 108, 119, 113, 104, 118, 118,  35, 119, 107, 104,\n",
      "         35, 119, 104, 111, 104, 121, 108, 118, 108, 114, 113,  35, 101, 117,\n",
      "        114, 100, 103, 102, 100, 118, 119, 118,  35, 114, 105,  35, 119, 107,\n",
      "        104,  35, 120, 113, 101, 104, 100, 117, 100, 101, 111, 104,  35, 108,\n",
      "        112, 100, 106, 104, 118,  35, 114, 105,  35, 117, 104, 102, 104, 113,\n",
      "        119,  35, 112, 100, 118, 118, 100, 102, 117, 104, 118,  35, 102, 100,\n",
      "        117, 117, 108, 104, 103,  35, 114, 120, 119,  35, 108, 113,  35,  68,\n",
      "        111,   1]), tensor([ 90, 104,  35, 102, 100, 113, 113, 114, 119,  47,  35, 119, 107, 104,\n",
      "        117, 104, 105, 114, 117, 104,  47,  35, 120, 113, 103, 104, 117, 118,\n",
      "        119, 100, 113, 103,  35, 122, 107, 124,  35,  83, 100, 117, 111, 108,\n",
      "        100, 112, 104, 113, 119,  47,  35, 122, 107, 108, 102, 107,  35, 108,\n",
      "        118,  35, 100, 111, 122, 100, 124, 118,  35, 118, 114,  35, 115, 100,\n",
      "        117, 119, 108, 102, 120, 111, 100, 117,  35, 114, 113,  35, 107, 120,\n",
      "        112, 100, 113,  35, 117, 108, 106, 107, 119, 118,  35, 108, 118, 118,\n",
      "        120, 104, 118,  47,  35, 118, 107, 114, 120, 111, 103,  35, 117, 104,\n",
      "        112, 100, 108, 113,  35, 118, 108, 111, 104, 113, 119,  35, 105, 114,\n",
      "        111,   1]), tensor([ 75, 114, 111, 103, 108, 113, 106,  35, 119, 107, 108, 118,  35, 103,\n",
      "        104, 101, 100, 119, 104,  35, 122, 114, 120, 111, 103,  35, 100, 111,\n",
      "        111, 114, 122,  35, 120, 118,  35, 119, 114,  35, 117, 104, 100, 105,\n",
      "        105, 108, 117, 112,  35, 119, 107, 100, 119,  35, 100, 111, 111,  35,\n",
      "        119, 107, 104,  35, 112, 104, 100, 118, 120, 117, 104, 118,  35, 119,\n",
      "        107, 100, 119,  35, 107, 100, 121, 104,  35, 101, 104, 104, 113,  35,\n",
      "        100, 103, 114, 115, 119, 104, 103,  35, 108, 113,  35,  81, 114, 117,\n",
      "        119, 107,  35,  68, 105, 117, 108, 102, 100, 113,  35, 102, 114, 120,\n",
      "        113, 119, 117, 108, 104, 118,  47,  35,  68, 111, 106, 104, 117, 108,\n",
      "        100,   1]), tensor([ 90, 104,  35, 118, 104, 104,  35, 108, 119,  35, 100, 118,  35, 114,\n",
      "        120, 117,  35, 103, 120, 119, 124,  35, 119, 114,  35, 118, 104, 113,\n",
      "        103,  35, 119, 107, 104,  35,  68, 111, 106, 104, 117, 108, 100, 113,\n",
      "         35, 115, 104, 114, 115, 111, 104,  35, 100,  35, 112, 104, 118, 118,\n",
      "        100, 106, 104,  35, 114, 105,  35, 114, 120, 117,  35, 118, 124, 112,\n",
      "        115, 100, 119, 107, 124,  35, 100, 113, 103,  35, 118, 114, 111, 108,\n",
      "        103, 100, 117, 108, 119, 124,  35, 100, 113, 103,  35, 119, 114,  35,\n",
      "        104, 113, 102, 114, 120, 117, 100, 106, 104,  35, 119, 107, 104,  35,\n",
      "         68, 111, 106, 104, 117, 108, 100, 113,  35,  74, 114, 121, 104, 117,\n",
      "        113,   1]), tensor([ 76,  35, 101, 104, 111, 108, 104, 121, 104,  35, 119, 107, 100, 119,\n",
      "         35, 100, 113, 124, 114, 113, 104,  35, 122, 107, 114,  35, 107, 100,\n",
      "        118,  35, 107, 100, 103,  35, 119, 107, 104,  35, 114, 115, 115, 114,\n",
      "        117, 119, 120, 113, 108, 119, 124,  35, 119, 114,  35, 121, 108, 118,\n",
      "        108, 119,  35,  68, 111, 106, 104, 117, 108, 100,  35, 103, 120, 117,\n",
      "        108, 113, 106,  35, 117, 104, 102, 104, 113, 119,  35, 112, 114, 113,\n",
      "        119, 107, 118,  35, 114, 117,  35, 124, 104, 100, 117, 118,  35, 102,\n",
      "        100, 113,  35, 112, 100, 110, 104,  35, 100,  35, 101, 104, 119, 119,\n",
      "        104, 117,  35, 100, 118, 118, 104, 118, 118, 112, 104, 113, 119,  35,\n",
      "        114,   1]), tensor([ 76,  35, 119, 107, 104, 117, 104, 105, 114, 117, 104,  35, 101, 104,\n",
      "        111, 108, 104, 121, 104,  35, 119, 107, 100, 119,  35, 119, 107, 108,\n",
      "        118,  35, 108, 118,  35, 100,  35, 106, 114, 114, 103,  35, 118, 120,\n",
      "        106, 106, 104, 118, 119, 108, 114, 113,  49,   1,   0,   0,   0,   0,\n",
      "          0,   0,   0,   0,   0,   0,   0,   0,   0,   0,   0,   0,   0,   0,\n",
      "          0,   0,   0,   0,   0,   0,   0,   0,   0,   0,   0,   0,   0,   0,\n",
      "          0,   0,   0,   0,   0,   0,   0,   0,   0,   0,   0,   0,   0,   0,\n",
      "          0,   0,   0,   0,   0,   0,   0,   0,   0,   0,   0,   0,   0,   0,\n",
      "          0,   0,   0,   0,   0,   0,   0,   0,   0,   0,   0,   0,   0,   0,\n",
      "          0,   0]), tensor([ 80, 100, 103, 100, 112,  35,  83, 117, 104, 118, 108, 103, 104, 113,\n",
      "        119,  47,  35, 119, 107, 104,  35, 101, 108, 106,  35, 115, 117, 114,\n",
      "        101, 111, 104, 112,  35, 108, 118,  35, 119, 107, 100, 119,  35, 118,\n",
      "        114,  35, 112, 120, 102, 107,  35, 108, 118,  35, 107, 100, 115, 115,\n",
      "        104, 113, 108, 113, 106,  35, 114, 113,  35, 119, 107, 104,  35, 122,\n",
      "        114, 117, 111, 103,  35, 118, 119, 100, 106, 104,  49,   1,   0,   0,\n",
      "          0,   0,   0,   0,   0,   0,   0,   0,   0,   0,   0,   0,   0,   0,\n",
      "          0,   0,   0,   0,   0,   0,   0,   0,   0,   0,   0,   0,   0,   0,\n",
      "          0,   0,   0,   0,   0,   0,   0,   0,   0,   0,   0,   0,   0,   0,\n",
      "          0,   0]), tensor([ 79, 114, 114, 110, 108, 113, 106,  35, 100, 119,  35, 119, 107, 104,\n",
      "         35, 108, 113, 118, 119, 100, 113, 102, 104, 118,  35, 108, 113, 103,\n",
      "        108, 121, 108, 103, 120, 100, 111, 111, 124,  47,  35, 122, 104,  35,\n",
      "        122, 114, 113, 103, 104, 117,  35, 122, 107, 124,  35, 119, 107, 104,\n",
      "        124,  35, 100, 117, 104,  35, 113, 114, 119,  35, 106, 108, 121, 104,\n",
      "        113,  35, 119, 107, 104,  35, 107, 108, 106, 107, 104, 118, 119,  35,\n",
      "        115, 117, 108, 114, 117, 108, 119, 124,  49,   1,   0,   0,   0,   0,\n",
      "          0,   0,   0,   0,   0,   0,   0,   0,   0,   0,   0,   0,   0,   0,\n",
      "          0,   0,   0,   0,   0,   0,   0,   0,   0,   0,   0,   0,   0,   0,\n",
      "          0,   0]), tensor([ 87, 107, 108, 118,  35, 108, 118,  35, 119, 107, 104,  35, 102, 100,\n",
      "        118, 104,  35, 105, 114, 117,  35,  68, 111, 106, 104, 117, 108, 100,\n",
      "         49,   1,   0,   0,   0,   0,   0,   0,   0,   0,   0,   0,   0,   0,\n",
      "          0,   0,   0,   0,   0,   0,   0,   0,   0,   0,   0,   0,   0,   0,\n",
      "          0,   0,   0,   0,   0,   0,   0,   0,   0,   0,   0,   0,   0,   0,\n",
      "          0,   0,   0,   0,   0,   0,   0,   0,   0,   0,   0,   0,   0,   0,\n",
      "          0,   0,   0,   0,   0,   0,   0,   0,   0,   0,   0,   0,   0,   0,\n",
      "          0,   0,   0,   0,   0,   0,   0,   0,   0,   0,   0,   0,   0,   0,\n",
      "          0,   0,   0,   0,   0,   0,   0,   0,   0,   0,   0,   0,   0,   0,\n",
      "          0,   0]), tensor([ 69, 120, 119,  35, 119, 107, 104, 113,  35, 119, 107, 104, 117, 104,\n",
      "         35, 108, 118,  35, 100, 111, 118, 114,  35, 119, 107, 104,  35, 121,\n",
      "        108, 118, 100,  35, 114, 101, 111, 108, 106, 100, 119, 108, 114, 113,\n",
      "         35, 122, 107, 108, 102, 107,  35,  85, 120, 118, 118, 108, 100,  35,\n",
      "        107, 100, 118,  35, 120, 113, 108, 111, 100, 119, 104, 117, 100, 111,\n",
      "        111, 124,  35, 108, 112, 115, 114, 118, 104, 103,  35, 114, 113,  35,\n",
      "         74, 104, 114, 117, 106, 108, 100,  35, 118, 108, 113, 102, 104,  35,\n",
      "         56,  35,  71, 104, 102, 104, 112, 101, 104, 117,  35,  53,  51,  51,\n",
      "         51,  49,   1,   0,   0,   0,   0,   0,   0,   0,   0,   0,   0,   0,\n",
      "          0,   0]), tensor([ 90, 107, 114, 104, 121, 104, 117,  35, 108, 118,  35, 100, 102, 116,\n",
      "        120, 100, 108, 113, 119, 104, 103,  35, 122, 108, 119, 107,  35, 119,\n",
      "        107, 104,  35, 118, 108, 119, 120, 100, 119, 108, 114, 113,  35, 100,\n",
      "        102, 117, 114, 118, 118,  35, 119, 107, 104,  35, 104, 113, 119, 108,\n",
      "        117, 104,  35, 117, 104, 106, 108, 114, 113,  47,  35, 110, 113, 114,\n",
      "        122, 118,  35, 119, 107, 100, 119,  35, 119, 107, 108, 118,  35, 108,\n",
      "        118,  35, 100,  35, 101, 120, 117, 113, 108, 113, 106,  35, 108, 118,\n",
      "        118, 120, 104,  47,  35, 100, 113, 103,  35, 122, 104,  35, 102, 100,\n",
      "        113,  35, 119, 107, 120, 118,  35, 104, 123, 115, 104, 102, 119,  35,\n",
      "        102,   1]), tensor([ 82, 120, 117,  35, 115, 100, 117, 111, 108, 100, 112, 104, 113, 119,\n",
      "        100, 117, 124,  35, 102, 114, 112, 112, 108, 119, 119, 104, 104,  35,\n",
      "        107, 100, 118,  35, 104, 123, 115, 111, 108, 102, 108, 119, 111, 124,\n",
      "         35, 100, 118, 110, 104, 103,  35, 119, 114,  35, 115, 117, 108, 114,\n",
      "        117, 108, 119, 108, 118, 104,  35, 119, 107, 108, 118,  35, 119, 114,\n",
      "        115, 108, 102,  47,  35, 122, 107, 108, 102, 107,  35, 122, 100, 118,\n",
      "         35, 118, 107, 104, 111, 121, 104, 103,  35, 111, 100, 118, 119,  35,\n",
      "        119, 108, 112, 104,  49,   1,   0,   0,   0,   0,   0,   0,   0,   0,\n",
      "          0,   0,   0,   0,   0,   0,   0,   0,   0,   0,   0,   0,   0,   0,\n",
      "          0,   0]), tensor([ 86, 114,  35,  76,  35, 119, 107, 108, 113, 110,  35, 108, 119,  35,\n",
      "        108, 118,  35, 114, 113, 111, 124,  35, 105, 100, 108, 117,  35, 119,\n",
      "        107, 100, 119,  35, 122, 104,  35, 118, 107, 114, 120, 111, 103,  35,\n",
      "        119, 120, 117, 113,  35, 119, 107, 104,  35, 118, 115, 114, 119, 111,\n",
      "        108, 106, 107, 119,  35, 114, 113,  35, 119, 107, 108, 118,  35, 117,\n",
      "        104, 106, 108, 114, 113,  47,  35, 118, 114,  35, 100, 118,  35, 119,\n",
      "        114,  35, 100, 121, 114, 108, 103,  35, 102, 114, 113, 105, 111, 108,\n",
      "        102, 119,  35, 100, 119,  35, 100,  35, 111, 100, 119, 104, 117,  35,\n",
      "        103, 100, 119, 104,  35, 100, 118,  35, 105, 100, 117,  35, 100, 118,\n",
      "         35,   1]), tensor([ 80, 100, 103, 100, 112,  35,  83, 117, 104, 118, 108, 103, 104, 113,\n",
      "        119,  47,  35, 108, 113,  35, 114, 117, 103, 104, 117,  35, 119, 114,\n",
      "         35, 100, 121, 114, 108, 103,  35, 102, 114, 112, 115, 104, 119, 108,\n",
      "        119, 108, 114, 113,  35, 100, 117, 108, 118, 108, 113, 106,  35, 101,\n",
      "        104, 119, 122, 104, 104, 113,  35, 119, 107, 104, 118, 104,  35, 119,\n",
      "        122, 114,  35, 108, 118, 118, 120, 104, 118,  47,  35, 122, 114, 120,\n",
      "        111, 103,  35, 108, 119,  35, 115, 104, 117, 107, 100, 115, 118,  35,\n",
      "        101, 104,  35, 115, 114, 118, 118, 108, 101, 111, 104,  35, 119, 114,\n",
      "         35, 103, 108, 118, 102, 120, 118, 118,  35, 119, 107, 104,  35, 118,\n",
      "        108,   1]), tensor([ 80, 100, 103, 100, 112,  35,  83, 117, 104, 118, 108, 103, 104, 113,\n",
      "        119,  47,  35,  76,  35, 122, 114, 120, 111, 103,  35, 111, 108, 110,\n",
      "        104,  35, 119, 114,  35, 102, 114, 113, 119, 108, 113, 120, 104,  35,\n",
      "        122, 108, 119, 107,  35, 119, 107, 104,  35, 118, 120, 101, 109, 104,\n",
      "        102, 119,  35, 114, 105,  35, 119, 107, 104,  35,  87, 107, 120, 117,\n",
      "        118, 103, 100, 124,  35, 118, 108, 119, 119, 108, 113, 106,  49,   1,\n",
      "          0,   0,   0,   0,   0,   0,   0,   0,   0,   0,   0,   0,   0,   0,\n",
      "          0,   0,   0,   0,   0,   0,   0,   0,   0,   0,   0,   0,   0,   0,\n",
      "          0,   0,   0,   0,   0,   0,   0,   0,   0,   0,   0,   0,   0,   0,\n",
      "          0,   0]), tensor([ 76,  35, 122, 114, 120, 111, 103,  35, 111, 108, 110, 104,  35, 119,\n",
      "        114,  35, 103, 117, 100, 122,  35, 124, 114, 120, 117,  35, 100, 119,\n",
      "        119, 104, 113, 119, 108, 114, 113,  35, 119, 114,  35, 119, 107, 104,\n",
      "         35, 115, 111, 100, 113,  35, 105, 114, 117,  35,  87, 107, 120, 117,\n",
      "        118, 103, 100, 124,  42,  35, 118,  35, 118, 108, 119, 119, 108, 113,\n",
      "        106,  47,  35, 122, 107, 108, 102, 107,  35, 107, 100, 118,  35, 119,\n",
      "        107, 104,  35, 103, 104, 101, 100, 119, 104,  35, 114, 113,  35, 117,\n",
      "        104, 115, 114, 117, 119, 118,  35, 102, 114, 113, 119, 108, 113, 120,\n",
      "        108, 113, 106,  35, 100, 105, 119, 104, 117,  35,  56,  49,  54,  51,\n",
      "         35,   1]), tensor([ 86, 120, 117, 115, 117, 108, 118, 108, 113, 106, 111, 124,  47,  35,\n",
      "        119, 107, 104,  35, 117, 104, 115, 114, 117, 119,  35, 119, 114,  35,\n",
      "        101, 104,  35, 103, 108, 118, 102, 120, 118, 118, 104, 103,  35, 100,\n",
      "        119,  35, 119, 107, 100, 119,  35, 119, 108, 112, 104,  35, 102, 114,\n",
      "        113, 102, 104, 117, 113, 118,  35, 119, 107, 104,  35, 102, 114, 112,\n",
      "        115, 104, 119, 108, 119, 108, 121, 104, 113, 104, 118, 118,  35, 114,\n",
      "        105,  35, 105, 114, 117, 104, 118, 119,  48, 101, 100, 118, 104, 103,\n",
      "         35, 108, 113, 103, 120, 118, 119, 117, 108, 104, 118,  47,  35, 122,\n",
      "        107, 108, 102, 107,  35,  76,  35, 119, 100, 101, 111, 104, 103,  35,\n",
      "        105,   1]), tensor([ 68, 105, 119, 104, 117,  35, 119, 107, 100, 119,  47,  35, 100, 119,\n",
      "         35,  57,  49,  54,  51,  35, 115,  49, 112,  49,  47,  35, 119, 107,\n",
      "        104, 117, 104,  35, 108, 118,  35, 119, 107, 104,  35, 121, 114, 119,\n",
      "        104,  35, 114, 113,  35, 119, 107, 108, 118,  35, 117, 104, 115, 114,\n",
      "        117, 119,  47,  35, 122, 107, 108, 102, 107,  35, 100, 105, 105, 104,\n",
      "        102, 119, 118,  35, 119, 107, 104,  35, 109, 114, 101, 118,  35, 114,\n",
      "        105,  35, 105, 114, 120, 117,  35, 112, 108, 111, 111, 108, 114, 113,\n",
      "         35, 104, 112, 115, 111, 114, 124, 104, 104, 118,  35, 108, 113,  35,\n",
      "         72, 120, 117, 114, 115, 104,  35, 100, 113, 103,  35, 102, 114, 112,\n",
      "        115,   1]), tensor([ 76, 113,  35, 112, 124,  35, 114, 115, 108, 113, 108, 114, 113,  47,\n",
      "         35, 108, 105,  35, 122, 104,  35, 107, 100, 121, 104,  35, 119, 114,\n",
      "         35, 103, 104, 101, 100, 119, 104,  35, 100,  35, 117, 104, 115, 114,\n",
      "        117, 119,  35, 111, 108, 110, 104,  35, 119, 107, 108, 118,  35, 114,\n",
      "        113, 104,  47,  35, 122, 107, 108, 102, 107,  35, 100, 105, 105, 104,\n",
      "        102, 119, 118,  35, 119, 107, 104,  35, 109, 114, 101, 118,  35, 114,\n",
      "        105,  35, 105, 114, 120, 117,  35, 112, 108, 111, 111, 108, 114, 113,\n",
      "         35, 115, 104, 114, 115, 111, 104,  47,  35, 100, 119,  35,  56,  49,\n",
      "         54,  51,  35, 115,  49, 112,  49,  47,  35, 119, 107, 104, 113,  35,\n",
      "        119,   1]), tensor([ 76,  35, 110, 113, 114, 122,  35, 119, 107, 100, 119,  35, 100,  35,\n",
      "        105, 104, 122,  35, 103, 114, 125, 104, 113,  35, 115, 104, 114, 115,\n",
      "        111, 104,  35, 100, 119,  35, 112, 114, 118, 119,  35, 122, 108, 111,\n",
      "        111,  35, 117, 104, 112, 100, 108, 113,  35, 119, 114,  35, 121, 114,\n",
      "        119, 104,  49,   1,   0,   0,   0,   0,   0,   0,   0,   0,   0,   0,\n",
      "          0,   0,   0,   0,   0,   0,   0,   0,   0,   0,   0,   0,   0,   0,\n",
      "          0,   0,   0,   0,   0,   0,   0,   0,   0,   0,   0,   0,   0,   0,\n",
      "          0,   0,   0,   0,   0,   0,   0,   0,   0,   0,   0,   0,   0,   0,\n",
      "          0,   0,   0,   0,   0,   0,   0,   0,   0,   0,   0,   0,   0,   0,\n",
      "          0,   0]), tensor([ 76, 119,  35, 108, 118,  35, 103, 104, 106, 117, 100, 103, 108, 113,\n",
      "        106,  35, 105, 114, 117,  35,  83, 100, 117, 111, 108, 100, 112, 104,\n",
      "        113, 119,  35, 119, 107, 100, 119,  35, 122, 104,  35, 118, 107, 114,\n",
      "        120, 111, 103,  35, 100, 103, 114, 115, 119,  35, 100,  35, 115, 114,\n",
      "        118, 108, 119, 108, 114, 113,  35, 114, 113,  35, 100,  35, 117, 104,\n",
      "        115, 114, 117, 119,  35, 114, 113,  35, 118, 120, 102, 107,  35, 100,\n",
      "         35, 122, 108, 103, 104,  35, 108, 118, 118, 120, 104,  35, 122, 108,\n",
      "        119, 107,  35, 118, 120, 102, 107,  35, 100,  35, 118, 112, 100, 111,\n",
      "        111,  35, 106, 117, 114, 120, 115,  35, 114, 105,  35,  80, 104, 112,\n",
      "        101,   1]), tensor([ 73, 114, 117,  35, 119, 107, 108, 118,  35, 117, 104, 100, 118, 114,\n",
      "        113,  35,  76,  35, 122, 114, 120, 111, 103,  35, 115, 117, 104, 105,\n",
      "        104, 117,  35, 108, 119,  35, 108, 105,  35,  87, 107, 120, 117, 118,\n",
      "        103, 100, 124,  42,  35, 118,  35, 104, 121, 104, 113, 108, 113, 106,\n",
      "         35, 118, 108, 119, 119, 108, 113, 106,  35, 102, 114, 120, 111, 103,\n",
      "         35, 101, 104,  35, 120, 118, 104, 103,  35, 109, 120, 118, 119,  35,\n",
      "        119, 114,  35, 121, 114, 119, 104,  35, 114, 113,  35, 120, 117, 106,\n",
      "        104, 113, 119,  35, 112, 100, 119, 119, 104, 117, 118,  47,  35, 100,\n",
      "        113, 103,  35, 121, 114, 119, 108, 113, 106,  35, 102, 114, 113, 113,\n",
      "        104,   1]), tensor([ 80, 100, 103, 100, 112,  35,  83, 117, 104, 118, 108, 103, 104, 113,\n",
      "        119,  47,  35, 114, 113,  35, 100,  35, 115, 114, 108, 113, 119,  35,\n",
      "        114, 105,  35, 114, 117, 103, 104, 117,  49,   1,   0,   0,   0,   0,\n",
      "          0,   0,   0,   0,   0,   0,   0,   0,   0,   0,   0,   0,   0,   0,\n",
      "          0,   0,   0,   0,   0,   0,   0,   0,   0,   0,   0,   0,   0,   0,\n",
      "          0,   0,   0,   0,   0,   0,   0,   0,   0,   0,   0,   0,   0,   0,\n",
      "          0,   0,   0,   0,   0,   0,   0,   0,   0,   0,   0,   0,   0,   0,\n",
      "          0,   0,   0,   0,   0,   0,   0,   0,   0,   0,   0,   0,   0,   0,\n",
      "          0,   0,   0,   0,   0,   0,   0,   0,   0,   0,   0,   0,   0,   0,\n",
      "          0,   0]), tensor([ 76,  35, 103, 117, 100, 122,  35, 124, 114, 120, 117,  35, 100, 119,\n",
      "        119, 104, 113, 119, 108, 114, 113,  35, 119, 114,  35, 119, 107, 104,\n",
      "         35, 105, 100, 102, 119,  35, 119, 107, 100, 119,  35, 100, 111, 100,\n",
      "        117, 112, 108, 113, 106,  35, 104, 121, 104, 113, 119, 118,  35, 107,\n",
      "        100, 121, 104,  35, 101, 104, 104, 113,  35, 119, 100, 110, 108, 113,\n",
      "        106,  35, 115, 111, 100, 102, 104,  35, 108, 113,  35,  80, 114, 118,\n",
      "        102, 114, 122,  35, 108, 113,  35, 119, 107, 104,  35, 115, 100, 118,\n",
      "        119,  35,  53,  55,  35, 107, 114, 120, 117, 118,  47,  35, 112, 100,\n",
      "        108, 113, 111, 124,  35, 100, 108, 112, 104, 103,  35, 100, 119,  35,\n",
      "        119,   1]), tensor([ 80, 104, 103, 108, 100,  48,  80, 114, 118, 119,  35, 117, 120, 113,\n",
      "        118,  35, 119, 107, 104,  35, 108, 113, 103, 104, 115, 104, 113, 103,\n",
      "        104, 113, 119,  35, 119, 104, 111, 104, 121, 108, 118, 108, 114, 113,\n",
      "         35, 114, 105,  35,  85, 120, 118, 118, 108, 100,  35, 100, 113, 103,\n",
      "         35, 108, 119, 118,  35, 114, 117, 106, 100, 113, 108, 118, 100, 119,\n",
      "        108, 114, 113,  35, 107, 100, 118,  35, 100,  35, 113, 120, 112, 101,\n",
      "        104, 117,  35, 114, 105,  35, 117, 100, 103, 108, 114,  35, 118, 119,\n",
      "        100, 119, 108, 114, 113, 118,  35, 100, 113, 103,  35, 108, 113, 103,\n",
      "        104, 115, 104, 113, 103, 104, 113, 119,  35, 112, 100, 106, 100, 125,\n",
      "        108,   1]), tensor([ 80, 117,  35,  68, 113, 103, 117, 104, 124,  35,  87, 118, 108, 112,\n",
      "        100, 124, 111, 114,  47,  35, 119, 107, 104,  35, 103, 104, 115, 120,\n",
      "        119, 124,  35, 102, 107, 100, 108, 117, 112, 100, 113,  35, 114, 105,\n",
      "         35,  80, 104, 103, 108, 100,  48,  80, 114, 118, 119,  47,  35, 122,\n",
      "        100, 118,  35, 124, 104, 118, 119, 104, 117, 103, 100, 124,  35, 100,\n",
      "        117, 117, 104, 118, 119, 104, 103,  35, 100, 113, 103,  35, 118, 120,\n",
      "        101, 109, 104, 102, 119, 104, 103,  35, 119, 114,  35, 105, 108, 121,\n",
      "        104,  35, 107, 114, 120, 117, 118,  35, 114, 105,  35, 108, 113, 119,\n",
      "        104, 117, 117, 114, 106, 100, 119, 108, 114, 113,  47,  35, 105, 114,\n",
      "        111,   1]), tensor([ 68,  35, 113, 120, 112, 101, 104, 117,  35, 114, 105,  35, 114, 119,\n",
      "        107, 104, 117,  35, 109, 120, 113, 108, 114, 117,  35, 104, 112, 115,\n",
      "        111, 114, 124, 104, 104, 118,  35, 114, 105,  35, 108, 113, 103, 104,\n",
      "        115, 104, 113, 103, 104, 113, 119,  35, 119, 104, 111, 104, 121, 108,\n",
      "        118, 108, 114, 113,  35, 100, 117, 104,  35, 101, 104, 108, 113, 106,\n",
      "         35, 100, 117, 117, 104, 118, 119, 104, 103,  35, 100, 113, 103,  35,\n",
      "        108, 113, 119, 104, 117, 117, 114, 106, 100, 119, 104, 103,  35, 100,\n",
      "        118,  35, 122, 104,  35, 118, 108, 119,  35, 107, 104, 117, 104,  35,\n",
      "        113, 114, 122,  49,   1,   0,   0,   0,   0,   0,   0,   0,   0,   0,\n",
      "          0,   0]), tensor([ 87, 107, 108, 118,  35, 108, 118,  35, 100, 113,  35, 100, 111, 100,\n",
      "        117, 112, 108, 113, 106,  35, 103, 104, 121, 104, 111, 114, 115, 112,\n",
      "        104, 113, 119,  35, 100, 113, 103,  35, 108, 119,  35, 106, 114, 104,\n",
      "        118,  35, 101, 104, 124, 114, 113, 103,  35, 119, 107, 104,  35, 115,\n",
      "        104, 117, 118, 114, 113, 100, 111,  35, 116, 120, 104, 118, 119, 108,\n",
      "        114, 113,  35, 114, 105,  35,  80, 117,  35,  74, 120, 118, 108, 113,\n",
      "        118, 110, 124,  47,  35, 122, 107, 108, 102, 107,  35,  76,  35, 107,\n",
      "        100, 121, 104,  35, 117, 100, 108, 118, 104, 103,  35, 101, 104, 105,\n",
      "        114, 117, 104,  35, 100, 113, 103,  47,  35, 100, 118,  35, 108, 118,\n",
      "         35,   1]), tensor([ 80, 100, 103, 100, 112,  35,  83, 117, 104, 118, 108, 103, 104, 113,\n",
      "        119,  47,  35, 102, 114, 120, 111, 103,  35, 122, 104,  35, 119, 100,\n",
      "        110, 104,  35, 119, 107, 108, 118,  35, 112, 100, 119, 119, 104, 117,\n",
      "         35, 108, 113, 119, 114,  35, 102, 114, 113, 118, 108, 103, 104, 117,\n",
      "        100, 119, 108, 114, 113,  66,   1,   0,   0,   0,   0,   0,   0,   0,\n",
      "          0,   0,   0,   0,   0,   0,   0,   0,   0,   0,   0,   0,   0,   0,\n",
      "          0,   0,   0,   0,   0,   0,   0,   0,   0,   0,   0,   0,   0,   0,\n",
      "          0,   0,   0,   0,   0,   0,   0,   0,   0,   0,   0,   0,   0,   0,\n",
      "          0,   0,   0,   0,   0,   0,   0,   0,   0,   0,   0,   0,   0,   0,\n",
      "          0,   0]), tensor([ 92, 114, 120,  35, 112, 104, 119,  35, 119, 107, 104,  35, 103, 104,\n",
      "        115, 120, 119, 124,  35, 102, 107, 100, 108, 117, 112, 100, 113,  35,\n",
      "        114, 105,  35,  80, 104, 103, 108, 100,  48,  80, 114, 118, 119,  35,\n",
      "        108, 113,  35,  77, 120, 113, 104,  47,  35,  80, 117,  35,  80, 100,\n",
      "        111, 100, 118, 107, 104, 113, 110, 114,  49,   1,   0,   0,   0,   0,\n",
      "          0,   0,   0,   0,   0,   0,   0,   0,   0,   0,   0,   0,   0,   0,\n",
      "          0,   0,   0,   0,   0,   0,   0,   0,   0,   0,   0,   0,   0,   0,\n",
      "          0,   0,   0,   0,   0,   0,   0,   0,   0,   0,   0,   0,   0,   0,\n",
      "          0,   0,   0,   0,   0,   0,   0,   0,   0,   0,   0,   0,   0,   0,\n",
      "          0,   0]), tensor([ 92, 114, 120,  35, 118, 115, 114, 110, 104,  35, 119, 114,  35, 107,\n",
      "        108, 112,  35, 100, 101, 114, 120, 119,  35, 119, 107, 108, 118,  35,\n",
      "        115, 117, 114, 101, 111, 104, 112,  35, 114, 105,  35, 106, 114, 121,\n",
      "        104, 117, 113, 112, 104, 113, 119,  35, 115, 117, 104, 118, 118, 120,\n",
      "        117, 104,  35, 114, 113,  35, 105, 117, 104, 104, 103, 114, 112,  35,\n",
      "        114, 105,  35, 119, 107, 104,  35, 115, 117, 104, 118, 118,  35, 100,\n",
      "        113, 103,  35, 124, 114, 120,  35, 118, 120, 106, 106, 104, 118, 119,\n",
      "        104, 103,  35, 119, 107, 100, 119,  35, 118, 114, 112, 104, 119, 107,\n",
      "        108, 113, 106,  35, 118, 107, 114, 120, 111, 103,  35, 101, 104,  35,\n",
      "        103,   1]), tensor([ 70, 100, 113,  35, 122, 104,  35, 119, 117, 124,  35, 119, 114,  35,\n",
      "        105, 108, 113, 103,  35, 118, 114, 112, 104,  35, 122, 100, 124,  35,\n",
      "        114, 105,  35, 102, 114, 113, 121, 104, 124, 108, 113, 106,  35, 114,\n",
      "        120, 117,  35, 121, 108, 104, 122, 118,  35, 119, 114,  35, 119, 107,\n",
      "        104,  35,  85, 120, 118, 118, 108, 100, 113,  35,  74, 114, 121, 104,\n",
      "        117, 113, 112, 104, 113, 119,  35, 100, 113, 103,  35, 118, 114, 117,\n",
      "        119, 108, 113, 106,  35, 114, 120, 119,  35, 119, 107, 108, 118,  35,\n",
      "        116, 120, 104, 118, 119, 108, 114, 113,  35, 114, 105,  35, 105, 117,\n",
      "        104, 104, 103, 114, 112,  35, 114, 105,  35, 119, 107, 104,  35, 115,\n",
      "        117,   1]), tensor([ 80, 100, 103, 100, 112,  35,  83, 117, 104, 118, 108, 103, 104, 113,\n",
      "        119,  47,  35, 108, 105,  35,  76,  35, 117, 104, 102, 100, 111, 111,\n",
      "         35, 102, 114, 117, 117, 104, 102, 119, 111, 124,  47,  35, 105, 114,\n",
      "        111, 111, 114, 122, 108, 113, 106,  35, 119, 107, 104,  35, 117, 104,\n",
      "        118, 114, 111, 120, 119, 108, 114, 113,  35, 114, 113,  35,  87, 120,\n",
      "        113, 108, 118, 108, 100,  35, 122, 107, 108, 102, 107,  35, 122, 104,\n",
      "         35, 100, 103, 114, 115, 119, 104, 103,  35, 108, 113,  35,  71, 104,\n",
      "        102, 104, 112, 101, 104, 117,  47,  35,  83, 117, 104, 118, 108, 103,\n",
      "        104, 113, 119,  35,  69, 104, 113,  35,  68, 111, 108,  35, 122, 100,\n",
      "        118,   1]), tensor([ 76, 105,  35, 119, 107, 108, 118,  35, 108, 118,  35, 102, 114, 117,\n",
      "        117, 104, 102, 119,  47,  35, 122, 114, 120, 111, 103,  35, 124, 114,\n",
      "        120,  35, 118, 107, 100, 117, 104,  35, 119, 107, 104,  35, 102, 114,\n",
      "        113, 119, 104, 113, 119, 118,  35, 114, 105,  35, 119, 107, 100, 119,\n",
      "         35, 111, 104, 119, 119, 104, 117,  35, 122, 108, 119, 107,  35, 120,\n",
      "        118,  66,   1,   0,   0,   0,   0,   0,   0,   0,   0,   0,   0,   0,\n",
      "          0,   0,   0,   0,   0,   0,   0,   0,   0,   0,   0,   0,   0,   0,\n",
      "          0,   0,   0,   0,   0,   0,   0,   0,   0,   0,   0,   0,   0,   0,\n",
      "          0,   0,   0,   0,   0,   0,   0,   0,   0,   0,   0,   0,   0,   0,\n",
      "          0,   0]), tensor([ 82, 113, 104,  35, 114, 105,  35, 119, 107, 104,  35, 110, 104, 124,\n",
      "         35, 115, 117, 114, 101, 111, 104, 112, 118,  35, 108, 113,  35, 114,\n",
      "        120, 117,  35, 102, 114, 112, 115, 111, 104, 123,  35, 118, 114, 102,\n",
      "        108, 104, 119, 124,  35, 108, 118,  35, 115, 117, 114, 101, 100, 101,\n",
      "        111, 124,  35, 119, 107, 104,  35, 105, 100, 102, 119,  35, 119, 107,\n",
      "        100, 119,  35, 122, 104,  35, 115, 117, 114, 103, 120, 102, 104,  35,\n",
      "        105, 100, 117,  35, 119, 114, 114,  35, 112, 100, 113, 124,  35, 117,\n",
      "        104, 106, 120, 111, 100, 119, 108, 114, 113, 118,  35, 108, 113,  35,\n",
      "        118, 120, 102, 107,  35, 100, 101, 120, 113, 103, 100, 113, 102, 104,\n",
      "         35,   1]), tensor([ 87, 107, 104,  35, 102, 114, 113, 118, 104, 116, 120, 104, 113, 102,\n",
      "        104, 118,  35, 102, 100, 113,  35, 101, 104,  35, 103, 108, 118, 100,\n",
      "        118, 119, 117, 114, 120, 118,  47,  35, 100, 118,  35, 100,  35, 117,\n",
      "        104, 102, 104, 113, 119,  35, 108, 113, 102, 108, 103, 104, 113, 119,\n",
      "         35, 108, 113,  35, 119, 107, 104,  35,  81, 104, 119, 107, 104, 117,\n",
      "        111, 100, 113, 103, 118,  35, 115, 117, 114, 121, 104, 103,  35, 114,\n",
      "        113, 102, 104,  35, 112, 114, 117, 104,  49,   1,   0,   0,   0,   0,\n",
      "          0,   0,   0,   0,   0,   0,   0,   0,   0,   0,   0,   0,   0,   0,\n",
      "          0,   0,   0,   0,   0,   0,   0,   0,   0,   0,   0,   0,   0,   0,\n",
      "          0,   0]), tensor([ 76, 113,  35, 112, 124,  35, 114, 115, 108, 113, 108, 114, 113,  47,\n",
      "         35, 119, 107, 104,  35, 107, 104, 100, 121, 124,  35, 100, 103, 112,\n",
      "        108, 113, 108, 118, 119, 117, 100, 119, 108, 121, 104,  35, 101, 120,\n",
      "        117, 103, 104, 113,  35, 114, 113,  35, 102, 108, 119, 108, 125, 104,\n",
      "        113, 118,  35, 100, 113, 103,  35, 101, 120, 118, 108, 113, 104, 118,\n",
      "        118, 104, 118,  47,  35, 102, 114, 112, 101, 108, 113, 104, 103,  35,\n",
      "        122, 108, 119, 107,  35, 119, 107, 104,  35, 106, 114, 121, 104, 117,\n",
      "        113, 112, 104, 113, 119,  42,  35, 118,  35, 108, 113, 102, 100, 115,\n",
      "        100, 102, 108, 119, 124,  35, 119, 114,  35, 104, 113, 118, 120, 117,\n",
      "        104,   1]), tensor([ 90, 107, 108, 111, 104,  35,  76,  35, 122, 104, 111, 102, 114, 112,\n",
      "        104,  35, 119, 107, 104,  35,  86,  79,  76,  80,  35, 115, 117, 114,\n",
      "        109, 104, 102, 119,  47,  35, 122, 107, 108, 102, 107,  35, 119, 107,\n",
      "        104,  35,  70, 114, 112, 112, 108, 118, 118, 108, 114, 113,  35, 111,\n",
      "        100, 120, 113, 102, 107, 104, 103,  35, 108, 113,  35,  52,  60,  60,\n",
      "         57,  35, 100, 113, 103,  35, 122, 107, 108, 102, 107,  35, 108, 118,\n",
      "         35, 120, 113, 103, 104, 117,  35, 103, 108, 118, 102, 120, 118, 118,\n",
      "        108, 114, 113,  35, 119, 107, 108, 118,  35, 104, 121, 104, 113, 108,\n",
      "        113, 106,  47,  35, 100, 118,  35,  76,  35, 118, 119, 100, 119, 104,\n",
      "        103,   1]), tensor([ 70, 114, 112, 115, 100, 117, 104, 103,  35, 119, 114,  35, 119, 107,\n",
      "        104,  35, 111, 104, 106, 108, 118, 111, 100, 119, 108, 121, 104,  35,\n",
      "        112, 100, 102, 107, 108, 113, 104, 117, 124,  35, 100, 118,  35, 100,\n",
      "         35, 122, 107, 114, 111, 104,  47,  35, 108, 119,  35, 108, 118,  35,\n",
      "        114, 113, 111, 124,  35, 100,  35, 103, 117, 114, 115,  35, 108, 113,\n",
      "         35, 119, 107, 104,  35, 114, 102, 104, 100, 113,  49,   1,   0,   0,\n",
      "          0,   0,   0,   0,   0,   0,   0,   0,   0,   0,   0,   0,   0,   0,\n",
      "          0,   0,   0,   0,   0,   0,   0,   0,   0,   0,   0,   0,   0,   0,\n",
      "          0,   0,   0,   0,   0,   0,   0,   0,   0,   0,   0,   0,   0,   0,\n",
      "          0,   0]), tensor([ 87, 107, 100, 119,  35, 108, 118,  35, 122, 107, 124,  35,  76,  35,\n",
      "        100, 117, 106, 120, 104,  35, 108, 113,  35, 105, 100, 121, 114, 120,\n",
      "        117,  35, 114, 105,  35, 100, 103, 103, 104, 103,  35, 112, 114, 112,\n",
      "        104, 113, 119, 120, 112,  47,  35, 100, 118,  35, 122, 104, 111, 111,\n",
      "         35, 100, 118,  35, 118, 107, 114, 117, 119, 104, 117,  35, 108, 112,\n",
      "        115, 111, 104, 112, 104, 113, 119, 100, 119, 108, 114, 113,  35, 115,\n",
      "        104, 117, 108, 114, 103, 118,  35, 105, 114, 117,  35, 119, 107, 104,\n",
      "         35, 117, 104, 118, 120, 111, 119, 118,  35, 114, 105,  35, 119, 107,\n",
      "        104,  35,  86,  79,  76,  80,  35, 122, 114, 117, 110, 108, 113, 106,\n",
      "         35,   1]), tensor([ 75, 114, 122, 104, 121, 104, 117,  47,  35,  76,  35, 100, 119, 119,\n",
      "        100, 102, 107,  35, 124, 104, 119,  35, 112, 114, 117, 104,  35, 108,\n",
      "        112, 115, 114, 117, 119, 100, 113, 102, 104,  35, 119, 114,  35, 118,\n",
      "        108, 112, 115, 111, 108, 105, 124, 108, 113, 106,  35, 111, 104, 106,\n",
      "        108, 118, 111, 100, 119, 108, 114, 113,  35, 108, 113,  35, 108, 119,\n",
      "        118,  35, 104, 113, 119, 108, 117, 104, 119, 124,  49,   1,   0,   0,\n",
      "          0,   0,   0,   0,   0,   0,   0,   0,   0,   0,   0,   0,   0,   0,\n",
      "          0,   0,   0,   0,   0,   0,   0,   0,   0,   0,   0,   0,   0,   0,\n",
      "          0,   0,   0,   0,   0,   0,   0,   0,   0,   0,   0,   0,   0,   0,\n",
      "          0,   0]), tensor([ 83, 100, 117, 119, 108, 102, 120, 111, 100, 117,  35, 100, 119, 119,\n",
      "        104, 113, 119, 108, 114, 113,  35, 122, 108, 111, 111,  35, 113, 104,\n",
      "        104, 103,  35, 119, 114,  35, 101, 104,  35, 115, 100, 108, 103,  35,\n",
      "        119, 114,  35, 119, 107, 104,  35, 122, 100, 124,  35, 108, 113,  35,\n",
      "        122, 107, 108, 102, 107,  35, 111, 104, 106, 108, 118, 111, 100, 119,\n",
      "        108, 114, 113,  35, 108, 118,  35, 103, 104, 121, 104, 111, 114, 115,\n",
      "        104, 103,  49,   1,   0,   0,   0,   0,   0,   0,   0,   0,   0,   0,\n",
      "          0,   0,   0,   0,   0,   0,   0,   0,   0,   0,   0,   0,   0,   0,\n",
      "          0,   0,   0,   0,   0,   0,   0,   0,   0,   0,   0,   0,   0,   0,\n",
      "          0,   0]), tensor([ 68, 105, 119, 104, 117,  35, 100, 111, 111,  47,  35, 108, 119,  35,\n",
      "        108, 118,  35, 112, 120, 102, 107,  35, 104, 100, 118, 108, 104, 117,\n",
      "         35, 119, 114,  35, 119, 100, 110, 104,  35, 118, 108, 112, 115, 111,\n",
      "        108, 105, 124, 108, 113, 106,  35, 112, 104, 100, 118, 120, 117, 104,\n",
      "        118,  35, 108, 113,  35, 119, 107, 104,  35, 104, 100, 117, 111, 124,\n",
      "         35, 118, 119, 100, 106, 104, 118,  35, 119, 107, 100, 113,  35, 119,\n",
      "        114,  35, 100, 103, 100, 115, 119,  35, 104, 123, 108, 118, 119, 108,\n",
      "        113, 106,  35, 111, 104, 106, 108, 118, 111, 100, 119, 108, 114, 113,\n",
      "         35, 111, 100, 119, 104, 117,  35, 114, 113,  47,  35, 100, 119,  35,\n",
      "        106,   1]), tensor([ 72, 121, 104, 117, 124,  35, 100, 121, 100, 108, 111, 100, 101, 111,\n",
      "        104,  35, 104, 105, 105, 114, 117, 119,  35, 112, 120, 118, 119,  35,\n",
      "        101, 104,  35, 112, 100, 103, 104,  35, 104, 100, 117, 111, 124,  35,\n",
      "        114, 113,  35, 119, 114,  35, 111, 100, 124,  35, 103, 114, 122, 113,\n",
      "         35, 107, 108, 106, 107,  48, 116, 120, 100, 111, 108, 119, 124,  35,\n",
      "        111, 104, 106, 108, 118, 111, 100, 119, 108, 114, 113,  35, 100, 113,\n",
      "        103,  35, 119, 114,  35, 117, 104, 118, 119, 117, 108, 102, 119,  35,\n",
      "        119, 107, 104,  35, 100, 103, 112, 108, 113, 108, 118, 119, 117, 100,\n",
      "        119, 108, 121, 104,  35, 100, 113, 103,  35, 105, 108, 113, 100, 113,\n",
      "        102,   1]), tensor([ 87, 107, 104,  35,  81, 104, 119, 107, 104, 117, 111, 100, 113, 103,\n",
      "        118,  35, 107, 100, 118,  35, 118, 104, 104, 113,  35, 119, 107, 104,\n",
      "         35, 117, 104, 102, 104, 113, 119,  35, 108, 113, 119, 117, 114, 103,\n",
      "        120, 102, 119, 108, 114, 113,  35, 114, 105,  35,  68, 102, 119, 100,\n",
      "        111,  47,  35, 122, 107, 108, 102, 107,  35,  76,  35, 112, 104, 113,\n",
      "        119, 108, 114, 113, 104, 103,  35, 100,  35, 112, 114, 112, 104, 113,\n",
      "        119,  35, 100, 106, 114,  49,   1,   0,   0,   0,   0,   0,   0,   0,\n",
      "          0,   0,   0,   0,   0,   0,   0,   0,   0,   0,   0,   0,   0,   0,\n",
      "          0,   0,   0,   0,   0,   0,   0,   0,   0,   0,   0,   0,   0,   0,\n",
      "          0,   0]), tensor([ 68, 102, 119, 100, 111,  35, 108, 118,  35, 100, 113,  35, 108, 113,\n",
      "        103, 104, 115, 104, 113, 103, 104, 113, 119,  35, 122, 100, 119, 102,\n",
      "        107, 103, 114, 106,  35, 122, 107, 114, 118, 104,  35, 103, 120, 119,\n",
      "        124,  35, 108, 119,  35, 108, 118,  35, 119, 114,  35, 104, 123, 100,\n",
      "        112, 108, 113, 104,  35, 103, 117, 100, 105, 119,  35, 111, 104, 106,\n",
      "        108, 118, 111, 100, 119, 108, 121, 104,  35, 115, 117, 114, 115, 114,\n",
      "        118, 100, 111, 118,  35, 100, 113, 103,  35, 119, 114,  35, 104, 123,\n",
      "        115, 114, 118, 104,  35, 100, 113, 124,  35, 113, 104, 106, 100, 119,\n",
      "        108, 121, 104,  35, 100, 103, 112, 108, 113, 108, 118, 119, 117, 100,\n",
      "        119,   1]), tensor([ 68, 113,  35, 104, 123, 102, 104, 111, 111, 104, 113, 119,  35, 108,\n",
      "        113, 108, 119, 108, 100, 119, 108, 121, 104,  35, 122, 107, 108, 102,\n",
      "        107,  47,  35,  76,  35, 107, 114, 115, 104,  47,  35, 122, 108, 111,\n",
      "        111,  35, 101, 104,  35, 102, 114, 115, 108, 104, 103,  35, 111, 108,\n",
      "        101, 104, 117, 100, 111, 111, 124,  35, 108, 113,  35, 114, 119, 107,\n",
      "        104, 117,  35,  80, 104, 112, 101, 104, 117,  35,  86, 119, 100, 119,\n",
      "        104, 118,  35, 100, 113, 103,  35, 100, 119,  35,  72,  88,  35, 111,\n",
      "        104, 121, 104, 111,  49,   1,   0,   0,   0,   0,   0,   0,   0,   0,\n",
      "          0,   0,   0,   0,   0,   0,   0,   0,   0,   0,   0,   0,   0,   0,\n",
      "          0,   0]), tensor([ 76,  35, 122, 114, 120, 111, 103,  35, 112, 100, 110, 104,  35, 100,\n",
      "        113,  35, 120, 117, 106, 104, 113, 119,  35, 100, 115, 115, 104, 100,\n",
      "        111,  35, 119, 114,  35, 119, 107, 104,  35,  72, 120, 117, 114, 115,\n",
      "        104, 100, 113,  35,  70, 114, 112, 112, 108, 118, 118, 108, 114, 113,\n",
      "         35, 119, 114,  35, 112, 100, 110, 104,  35, 100,  35, 112, 100, 123,\n",
      "        108, 112, 120, 112,  35, 104, 105, 105, 114, 117, 119,  35, 119, 114,\n",
      "         35, 108, 112, 115, 117, 114, 121, 104,  35, 119, 107, 104,  35, 116,\n",
      "        120, 100, 111, 108, 119, 124,  35, 114, 105,  35, 111, 104, 106, 108,\n",
      "        118, 111, 100, 119, 108, 114, 113,  35, 100, 113, 103,  35, 119, 114,\n",
      "         35,   1]), tensor([ 76, 105,  35, 119, 107, 104,  35, 102, 120, 117, 117, 104, 113, 119,\n",
      "         35, 118, 108, 119, 120, 100, 119, 108, 114, 113,  35, 102, 114, 113,\n",
      "        119, 108, 113, 120, 104, 118,  35, 105, 114, 117,  35, 112, 120, 102,\n",
      "        107,  35, 111, 114, 113, 106, 104, 117,  47,  35, 119, 107, 104,  35,\n",
      "         72, 120, 117, 114, 115, 104, 100, 113,  35,  83, 100, 117, 111, 108,\n",
      "        100, 112, 104, 113, 119,  47,  35, 119, 114, 114,  47,  35, 122, 108,\n",
      "        111, 111,  35, 113, 104, 104, 103,  35, 119, 114,  35, 102, 114, 113,\n",
      "        118, 108, 103, 104, 117,  35, 119, 107, 104,  35, 102, 114, 113, 118,\n",
      "        104, 116, 120, 104, 113, 102, 104, 118,  35, 114, 105,  35, 111, 104,\n",
      "        106,   1]), tensor([ 76, 105,  35, 114, 119, 107, 104, 117, 118,  35, 105, 100, 108, 111,\n",
      "         35, 119, 114,  35, 102, 114, 112, 104,  35, 120, 115,  35, 122, 108,\n",
      "        119, 107,  35, 119, 107, 104,  35, 106, 114, 114, 103, 118,  47,  35,\n",
      "        122, 104,  35, 112, 108, 106, 107, 119,  35, 107, 100, 121, 104,  35,\n",
      "        119, 114,  35, 105, 114, 111, 111, 114, 122,  35, 108, 113,  35, 119,\n",
      "        107, 104,  35, 105, 114, 114, 119, 118, 119, 104, 115, 118,  35, 114,\n",
      "        105,  35, 119, 107, 104,  35,  68, 112, 104, 117, 108, 102, 100, 113,\n",
      "         35,  70, 114, 113, 106, 117, 104, 118, 118,  35, 100, 113, 103,  35,\n",
      "        118, 104, 119,  35, 120, 115,  35, 100,  35, 118, 104, 117, 121, 108,\n",
      "        102,   1]), tensor([ 80, 117,  35,  83, 117, 104, 118, 108, 103, 104, 113, 119,  47,  35,\n",
      "         70, 114, 112, 112, 108, 118, 118, 108, 114, 113, 104, 117,  35,  69,\n",
      "        114, 111, 110, 104, 118, 119, 104, 108, 113,  47,  35, 111, 100, 103,\n",
      "        108, 104, 118,  35, 100, 113, 103,  35, 106, 104, 113, 119, 111, 104,\n",
      "        112, 104, 113,  47,  35, 119, 107, 104,  35, 118, 108, 112, 115, 111,\n",
      "        104, 117,  35, 111, 104, 106, 108, 118, 111, 100, 119, 108, 114, 113,\n",
      "         35, 105, 114, 117,  35, 119, 107, 104,  35, 108, 113, 119, 104, 117,\n",
      "        113, 100, 111,  35, 112, 100, 117, 110, 104, 119,  35, 108, 113, 108,\n",
      "        119, 108, 100, 119, 108, 121, 104,  35, 108, 118,  35, 114, 113, 104,\n",
      "         35,   1]), tensor([ 68, 119,  35, 111, 104, 100, 118, 119,  35, 105, 114, 117,  35, 112,\n",
      "        124,  35, 115, 100, 117, 119, 124,  35, 108, 113,  35,  73, 108, 113,\n",
      "        111, 100, 113, 103,  47,  35, 119, 107, 104,  35,  81, 100, 119, 108,\n",
      "        114, 113, 100, 111,  35,  70, 114, 100, 111, 108, 119, 108, 114, 113,\n",
      "         47,  35, 119, 107, 104,  35, 118, 119, 117, 104, 100, 112, 111, 108,\n",
      "        113, 108, 113, 106,  35, 114, 105,  35, 111, 104, 106, 108, 118, 111,\n",
      "        100, 119, 108, 114, 113,  35, 100, 113, 103,  35, 100, 113,  35, 104,\n",
      "        113, 103,  35, 119, 114,  35, 119, 107, 104,  35, 113, 104, 104, 103,\n",
      "        111, 104, 118, 118,  35, 102, 107, 120, 117, 113, 108, 113, 106,  35,\n",
      "        114,   1]), tensor([ 76,  35, 101, 104, 111, 108, 104, 121, 104,  35, 119, 107, 100, 119,\n",
      "         35, 112, 120, 102, 107,  35, 121, 100, 111, 120, 104,  35, 108, 118,\n",
      "         35, 100, 119, 119, 100, 102, 107, 104, 103,  35, 119, 114,  35, 119,\n",
      "        107, 108, 118,  35, 100, 115, 115, 117, 114, 100, 102, 107,  35, 108,\n",
      "        113,  35, 112, 100, 113, 124,  35, 114, 119, 107, 104, 117,  35, 116,\n",
      "        120, 100, 117, 119, 104, 117, 118,  35, 119, 114, 114,  49,   1,   0,\n",
      "          0,   0,   0,   0,   0,   0,   0,   0,   0,   0,   0,   0,   0,   0,\n",
      "          0,   0,   0,   0,   0,   0,   0,   0,   0,   0,   0,   0,   0,   0,\n",
      "          0,   0,   0,   0,   0,   0,   0,   0,   0,   0,   0,   0,   0,   0,\n",
      "          0,   0]), tensor([ 87, 107, 104,  35,  70, 114, 112, 112, 108, 118, 118, 108, 114, 113,\n",
      "         35, 102, 114, 112, 112, 120, 113, 108, 102, 100, 119, 108, 114, 113,\n",
      "         35, 114, 113,  35, 119, 107, 104,  35, 115, 117, 104, 118, 104, 113,\n",
      "        119,  35, 118, 119, 100, 119, 104,  35, 114, 105,  35, 119, 107, 104,\n",
      "         35,  86,  79,  76,  80,  35, 115, 117, 114, 109, 104, 102, 119,  35,\n",
      "        108, 118,  35, 121, 104, 117, 124,  35, 106, 117, 100, 119, 108, 105,\n",
      "        124, 108, 113, 106,  47,  35, 101, 120, 119,  35, 101, 124,  35, 113,\n",
      "        114,  35, 112, 104, 100, 113, 118,  35, 105, 120, 111, 111, 124,  35,\n",
      "        100, 103, 104, 116, 120, 100, 119, 104,  47,  35, 100, 118,  35, 124,\n",
      "        104,   1]), tensor([ 76, 119,  35, 108, 118,  35, 121, 108, 119, 100, 111, 111, 124,  35,\n",
      "        108, 112, 115, 114, 117, 119, 100, 113, 119,  35, 119, 107, 100, 119,\n",
      "         35, 119, 107, 104,  35,  70, 114, 112, 112, 108, 118, 118, 108, 114,\n",
      "        113,  35, 108, 118,  35, 100, 101, 111, 104,  35, 119, 114,  35, 112,\n",
      "        100, 110, 104,  35, 119, 107, 104,  35, 115, 117, 114, 115, 114, 118,\n",
      "        100, 111, 118,  35, 105, 114, 117,  35, 119, 107, 104,  35, 115, 117,\n",
      "        114, 109, 104, 102, 119,  42,  35, 118,  35, 119, 107, 108, 117, 103,\n",
      "         35, 100, 113, 103,  35, 105, 114, 120, 117, 119, 107,  35, 115, 107,\n",
      "        100, 118, 104, 118,  35, 108, 113, 119, 114,  35, 102, 111, 104, 100,\n",
      "        117,   1]), tensor([ 73, 120, 117, 119, 107, 104, 117, 112, 114, 117, 104,  47,  35, 119,\n",
      "        107, 104,  35, 118, 108, 123,  48, 112, 114, 113, 119, 107,  35, 103,\n",
      "        104, 100, 103, 111, 108, 113, 104,  35, 115, 117, 114, 115, 114, 118,\n",
      "        104, 103,  35, 101, 124,  35, 119, 107, 104,  35, 117, 100, 115, 115,\n",
      "        114, 117, 119, 104, 120, 117,  35, 118, 107, 114, 120, 111, 103,  35,\n",
      "        101, 104,  35, 119, 100, 110, 104, 113,  35, 118, 104, 117, 108, 114,\n",
      "        120, 118, 111, 124,  49,   1,   0,   0,   0,   0,   0,   0,   0,   0,\n",
      "          0,   0,   0,   0,   0,   0,   0,   0,   0,   0,   0,   0,   0,   0,\n",
      "          0,   0,   0,   0,   0,   0,   0,   0,   0,   0,   0,   0,   0,   0,\n",
      "          0,   0]), tensor([ 76,  35, 122, 100, 117, 112, 111, 124,  35, 118, 120, 115, 115, 114,\n",
      "        117, 119,  35, 114, 120, 117,  35, 117, 100, 115, 115, 114, 117, 119,\n",
      "        104, 120, 117,  42,  35, 118,  35, 115, 117, 114, 115, 114, 118, 100,\n",
      "        111, 118,  35, 119, 107, 100, 119,  35, 119, 107, 104,  35, 120, 118,\n",
      "        104, 117, 118,  35, 114, 105,  35, 119, 107, 104,  35, 111, 104, 106,\n",
      "        108, 118, 111, 100, 119, 108, 114, 113,  35,  48,  35, 119, 107, 104,\n",
      "         35, 102, 120, 118, 119, 114, 112, 104, 117, 118,  35, 114, 105,  35,\n",
      "        114, 120, 117,  35, 103, 104, 102, 108, 118, 108, 114, 113,  35, 112,\n",
      "        100, 110, 104, 117, 118,  35,  48,  35, 118, 107, 114, 120, 111, 103,\n",
      "         35,   1]), tensor([ 82, 113, 111, 124,  35, 119, 107, 108, 118,  35, 118, 114, 117, 119,\n",
      "         35, 114, 105,  35, 102, 114, 117, 104, 106, 120, 111, 100, 119, 108,\n",
      "        114, 113,  35, 102, 100, 113,  35, 105, 120, 111, 111, 124,  35, 118,\n",
      "        104, 117, 121, 104,  35, 119, 114,  35, 118, 115, 104, 104, 103,  35,\n",
      "        120, 115,  35, 119, 107, 104,  35, 103, 104, 121, 104, 111, 114, 115,\n",
      "        112, 104, 113, 119,  35, 114, 105,  35, 119, 107, 104,  35,  72, 120,\n",
      "        117, 114, 115, 104, 100, 113,  35, 108, 113, 119, 104, 117, 113, 100,\n",
      "        111,  35, 112, 100, 117, 110, 104, 119,  47,  35, 100, 113, 103,  47,\n",
      "         35, 120, 111, 119, 108, 112, 100, 119, 104, 111, 124,  47,  35, 106,\n",
      "        120,   1]), tensor([ 83, 117, 114, 115, 114, 118, 100, 111, 118,  35, 100, 111, 114, 113,\n",
      "        104,  35, 100, 117, 104,  35, 114, 101, 121, 108, 114, 120, 118, 111,\n",
      "        124,  35, 113, 114, 119,  35, 104, 113, 114, 120, 106, 107,  61,  35,\n",
      "        119, 107, 104, 124,  35, 112, 120, 118, 119,  35, 100, 111, 118, 114,\n",
      "         35, 101, 104,  35, 100, 101, 111, 104,  35, 119, 114,  35, 101, 104,\n",
      "         35, 115, 117, 114, 102, 104, 118, 118, 104, 103,  35, 118, 122, 108,\n",
      "        105, 119, 111, 124,  35, 101, 114, 119, 107,  35, 108, 113,  35,  83,\n",
      "        100, 117, 111, 108, 100, 112, 104, 113, 119,  35, 100, 113, 103,  35,\n",
      "        108, 113,  35, 119, 107, 104,  35,  70, 114, 120, 113, 102, 108, 111,\n",
      "         49,   1]), tensor([ 90, 104,  35, 103, 114,  35, 107, 100, 121, 104,  35, 103, 104, 101,\n",
      "        100, 119, 104, 118,  35, 114, 113,  35, 118, 115, 104, 104, 103, 108,\n",
      "        113, 106,  35, 120, 115,  35, 119, 107, 104,  35, 111, 104, 106, 108,\n",
      "        118, 111, 100, 119, 108, 121, 104,  35, 115, 117, 114, 102, 104, 118,\n",
      "        118,  35, 105, 117, 114, 112,  35, 119, 108, 112, 104,  35, 119, 114,\n",
      "         35, 119, 108, 112, 104,  35, 107, 104, 117, 104,  35, 108, 113,  35,\n",
      "         83, 100, 117, 111, 108, 100, 112, 104, 113, 119,  49,   1,   0,   0,\n",
      "          0,   0,   0,   0,   0,   0,   0,   0,   0,   0,   0,   0,   0,   0,\n",
      "          0,   0,   0,   0,   0,   0,   0,   0,   0,   0,   0,   0,   0,   0,\n",
      "          0,   0]), tensor([ 90, 104,  35, 112, 104, 112, 101, 104, 117, 118,  35, 114, 105,  35,\n",
      "        119, 107, 104,  35,  70, 114, 112, 112, 108, 119, 119, 104, 104,  35,\n",
      "        114, 113,  35,  72, 102, 114, 113, 114, 112, 108, 102,  35, 100, 113,\n",
      "        103,  35,  80, 114, 113, 104, 119, 100, 117, 124,  35,  68, 105, 105,\n",
      "        100, 108, 117, 118,  35, 108, 113,  35, 115, 100, 117, 119, 108, 102,\n",
      "        120, 111, 100, 117,  35, 100, 122, 100, 108, 119,  35, 122, 108, 119,\n",
      "        107,  35, 108, 113, 119, 104, 117, 104, 118, 119,  35, 119, 107, 104,\n",
      "         35, 115, 117, 114, 115, 114, 118, 100, 111, 118,  35, 101, 124,  35,\n",
      "        119, 107, 104,  35,  79, 100, 112, 105, 100, 111, 120, 118, 118, 124,\n",
      "         35,   1]), tensor([ 68, 111, 119, 107, 114, 120, 106, 107,  35, 119, 107, 104, 108, 117,\n",
      "         35, 108, 113, 119, 104, 117, 108, 112,  35, 117, 104, 115, 114, 117,\n",
      "        119,  35, 122, 100, 118,  35, 118, 119, 108, 111, 111,  35, 113, 114,\n",
      "        119,  35, 121, 104, 117, 124,  35, 103, 104, 119, 100, 108, 111, 104,\n",
      "        103,  47,  35, 108, 119,  35, 113, 104, 121, 104, 117, 119, 107, 104,\n",
      "        111, 104, 118, 118,  35, 106, 108, 121, 104, 118,  35, 120, 118,  35,\n",
      "        119, 114,  35, 120, 113, 103, 104, 117, 118, 119, 100, 113, 103,  35,\n",
      "        119, 107, 100, 119,  35, 119, 107, 104,  35, 122, 114, 117, 110, 108,\n",
      "        113, 106,  35, 115, 100, 117, 119, 124,  35, 108, 118,  35, 115, 114,\n",
      "        113,   1]), tensor([ 76, 113,  35, 115, 117, 108, 113, 102, 108, 115, 111, 104,  47,  35,\n",
      "         76,  35, 119, 100, 110, 104,  35, 100,  35, 115, 114, 118, 108, 119,\n",
      "        108, 121, 104,  35, 121, 108, 104, 122,  35, 114, 105,  35, 118, 120,\n",
      "        102, 107,  35, 115, 117, 114, 115, 114, 118, 100, 111, 118,  47,  35,\n",
      "        100, 111, 119, 107, 114, 120, 106, 107,  35, 108, 119,  35, 108, 118,\n",
      "         35, 113, 114, 119, 114, 117, 108, 114, 120, 118, 111, 124,  35, 103,\n",
      "        108, 105, 105, 108, 102, 120, 111, 119,  35, 105, 114, 117,  35, 120,\n",
      "        118,  35, 115, 100, 117, 111, 108, 100, 112, 104, 113, 119, 100, 117,\n",
      "        108, 100, 113, 118,  35, 119, 114,  35, 117, 104, 111, 108, 113, 116,\n",
      "        120,   1]), tensor([ 76,  35, 101, 104, 111, 108, 104, 121, 104,  35, 119, 107, 100, 119,\n",
      "         35, 119, 107, 104,  35, 117, 104, 111, 108, 113, 116, 120, 108, 118,\n",
      "        107, 112, 104, 113, 119,  35, 114, 105,  35, 115, 114, 122, 104, 117,\n",
      "         35, 108, 113,  35, 102, 104, 117, 119, 100, 108, 113,  35, 117, 104,\n",
      "        118, 115, 104, 102, 119, 118,  35, 122, 108, 111, 111,  35, 101, 104,\n",
      "         35, 108, 113, 104, 121, 108, 119, 100, 101, 111, 104,  35, 119, 114,\n",
      "         35, 117, 104, 112, 114, 121, 104,  35, 119, 107, 104,  35, 105, 108,\n",
      "        113, 100, 111,  35, 101, 100, 117, 117, 108, 104, 117, 118,  35, 119,\n",
      "        114,  35, 119, 107, 104,  35, 108, 113, 119, 104, 117, 113, 100, 111,\n",
      "         35,   1]), tensor([ 80, 124,  35, 105, 108, 113, 100, 111,  35, 115, 114, 118, 108, 119,\n",
      "        108, 114, 113,  47,  35, 100, 113, 103,  35, 119, 107, 100, 119,  35,\n",
      "        114, 105,  35, 112, 124,  35, 106, 117, 114, 120, 115,  47,  35, 122,\n",
      "        108, 111, 111,  35, 118, 120, 117, 104, 111, 124,  35, 103, 104, 115,\n",
      "        104, 113, 103,  35, 114, 113,  35, 122, 107, 100, 119,  35, 105, 114,\n",
      "        117, 112,  35, 119, 107, 104,  35, 105, 100, 118, 119,  48, 119, 117,\n",
      "        100, 102, 110,  35, 115, 117, 114, 102, 104, 103, 120, 117, 104,  35,\n",
      "        122, 108, 111, 111,  35, 119, 100, 110, 104,  49,   1,   0,   0,   0,\n",
      "          0,   0,   0,   0,   0,   0,   0,   0,   0,   0,   0,   0,   0,   0,\n",
      "          0,   0]), tensor([ 76, 113,  35, 113, 114,  35, 102, 100, 118, 104,  35, 118, 107, 114,\n",
      "        120, 111, 103,  35, 108, 119,  35, 101, 104,  35, 100, 113,  35, 108,\n",
      "        112, 108, 119, 100, 119, 108, 114, 113,  35, 114, 105,  35, 119, 107,\n",
      "        104,  35, 115, 117, 104, 118, 104, 113, 119,  35, 102, 114, 112, 108,\n",
      "        119, 114, 111, 114, 106, 124,  35, 115, 117, 114, 102, 104, 103, 120,\n",
      "        117, 104,  47,  35, 122, 107, 104, 117, 104,  35, 119, 107, 104, 117,\n",
      "        104,  35, 108, 118,  35, 100,  35, 121, 104, 117, 124,  35, 106, 117,\n",
      "        104, 100, 119,  35, 113, 104, 104, 103,  35, 105, 114, 117,  35, 117,\n",
      "        104, 105, 114, 117, 112,  47,  35, 104, 118, 115, 104, 102, 108, 100,\n",
      "        111,   1]), tensor([ 82, 120, 117,  35, 117, 100, 115, 115, 114, 117, 119, 104, 120, 117,\n",
      "         35, 100, 111, 118, 114,  35, 117, 104, 105, 104, 117, 117, 104, 103,\n",
      "         35, 119, 114,  35, 119, 107, 108, 118,  49,   1,   0,   0,   0,   0,\n",
      "          0,   0,   0,   0,   0,   0,   0,   0,   0,   0,   0,   0,   0,   0,\n",
      "          0,   0,   0,   0,   0,   0,   0,   0,   0,   0,   0,   0,   0,   0,\n",
      "          0,   0,   0,   0,   0,   0,   0,   0,   0,   0,   0,   0,   0,   0,\n",
      "          0,   0,   0,   0,   0,   0,   0,   0,   0,   0,   0,   0,   0,   0,\n",
      "          0,   0,   0,   0,   0,   0,   0,   0,   0,   0,   0,   0,   0,   0,\n",
      "          0,   0,   0,   0,   0,   0,   0,   0,   0,   0,   0,   0,   0,   0,\n",
      "          0,   0]), tensor([ 68, 118,  35, 117, 104, 106, 100, 117, 103, 118,  35, 119, 107, 104,\n",
      "         35, 106, 104, 113, 104, 117, 100, 111,  35, 103, 104, 121, 104, 111,\n",
      "        114, 115, 112, 104, 113, 119,  35, 114, 105,  35, 119, 107, 104,  35,\n",
      "        111, 104, 106, 108, 118, 111, 100, 119, 108, 121, 104,  35, 115, 117,\n",
      "        114, 102, 104, 118, 118,  47,  35,  76,  35, 100, 111, 118, 114,  35,\n",
      "        100, 122, 100, 108, 119,  35, 122, 108, 119, 107,  35, 108, 113, 119,\n",
      "        104, 117, 104, 118, 119,  35, 119, 107, 104,  35,  70, 114, 112, 112,\n",
      "        108, 118, 118, 108, 114, 113,  42,  35, 118,  35, 122, 107, 108, 119,\n",
      "        104,  35, 115, 100, 115, 104, 117,  35, 114, 113,  35, 106, 114, 121,\n",
      "        104,   1]), tensor([ 90, 107, 100, 119, 104, 121, 104, 117,  35, 119, 107, 104,  35,  70,\n",
      "        114, 112, 112, 108, 118, 118, 108, 114, 113,  35, 115, 117, 114, 115,\n",
      "        114, 118, 104, 118,  35, 108, 113,  35, 108, 119, 118,  35, 115, 100,\n",
      "        115, 104, 117,  35, 122, 108, 111, 111,  35, 103, 104, 119, 104, 117,\n",
      "        112, 108, 113, 104,  35, 107, 114, 122,  35, 116, 120, 108, 102, 110,\n",
      "        111, 124,  35, 113, 104, 122,  35, 115, 117, 114, 109, 104, 102, 119,\n",
      "        118,  35, 105, 114, 117,  35, 111, 104, 106, 108, 118, 111, 100, 119,\n",
      "        108, 114, 113,  35, 100, 117, 104,  35, 103, 104, 100, 111, 119,  35,\n",
      "        122, 108, 119, 107,  47,  35, 100, 113, 103,  47,  35, 107, 114, 122,\n",
      "         35,   1]), tensor([ 75, 114, 115, 104, 105, 120, 111, 111, 124,  47,  35, 119, 107, 104,\n",
      "         35, 115, 100, 115, 104, 117,  35, 122, 108, 111, 111,  35, 102, 114,\n",
      "        113, 119, 100, 108, 113,  35, 106, 114, 114, 103,  47,  35, 102, 114,\n",
      "        113, 102, 117, 104, 119, 104,  35, 115, 117, 114, 115, 114, 118, 100,\n",
      "        111, 118,  47,  35, 101, 120, 119,  35,  76,  35, 100, 111, 118, 114,\n",
      "         35, 107, 114, 115, 104,  35, 119, 107, 100, 119,  35, 122, 104,  35,\n",
      "        102, 100, 113,  35, 118, 119, 108, 111, 111,  35, 115, 120, 119,  35,\n",
      "        118, 114, 112, 104,  35, 104, 105, 105, 114, 117, 119,  35, 108, 113,\n",
      "        119, 114,  35, 119, 107, 104,  35,  86,  79,  76,  80,  35, 115, 117,\n",
      "        114,   1]), tensor([ 80, 117,  35,  83, 117, 104, 118, 108, 103, 104, 113, 119,  47,  35,\n",
      "        108, 119,  35, 108, 118,  35, 102, 111, 104, 100, 117,  35, 119, 107,\n",
      "        100, 119,  35, 108, 112, 115, 117, 114, 121, 108, 113, 106,  35, 119,\n",
      "        107, 104,  35, 116, 120, 100, 111, 108, 119, 124,  35, 114, 105,  35,\n",
      "        111, 104, 106, 108, 118, 111, 100, 119, 108, 114, 113,  35, 108, 118,\n",
      "         35, 104, 118, 118, 104, 113, 119, 108, 100, 111,  35, 119, 114,  35,\n",
      "        119, 107, 104,  35, 104, 105, 105, 104, 102, 119, 108, 121, 104,  35,\n",
      "        105, 120, 113, 102, 119, 108, 114, 113, 108, 113, 106,  35, 114, 105,\n",
      "         35, 119, 107, 104,  35, 108, 113, 119, 104, 117, 113, 100, 111,  35,\n",
      "        112,   1]), tensor([ 86, 114,  35, 122, 104,  35, 100, 111, 111,  35, 122, 104, 111, 102,\n",
      "        114, 112, 104,  35, 119, 107, 104,  35,  86,  79,  76,  80,  35, 108,\n",
      "        113, 108, 119, 108, 100, 119, 108, 121, 104,  47,  35, 101, 120, 119,\n",
      "         35, 122, 104,  35, 112, 120, 118, 119,  35, 100, 111, 111,  35, 118,\n",
      "        107, 100, 117, 104,  35, 119, 107, 104,  35, 117, 100, 115, 115, 114,\n",
      "        117, 119, 104, 120, 117,  42, 118,  35, 117, 104, 118, 104, 117, 121,\n",
      "        100, 119, 108, 114, 113, 118,  35, 100, 101, 114, 120, 119,  35, 107,\n",
      "        114, 122,  35, 108, 119,  35, 107, 100, 118,  35, 122, 114, 117, 110,\n",
      "        104, 103,  35, 118, 114,  35, 105, 100, 117,  49,   1,   0,   0,   0,\n",
      "          0,   0]), tensor([ 87, 107, 104, 117, 104,  35, 100, 117, 104,  35, 118, 120, 117, 115,\n",
      "        117, 108, 118, 108, 113, 106, 111, 124,  35, 105, 104, 122,  35, 100,\n",
      "        117, 104, 100, 118,  35, 122, 107, 108, 102, 107,  35, 107, 100, 121,\n",
      "        104,  35, 101, 104, 104, 113,  35, 118, 120, 101, 109, 104, 102, 119,\n",
      "         35, 119, 114,  35, 119, 107, 104,  35,  86,  79,  76,  80,  35, 115,\n",
      "        117, 114, 102, 104, 118, 118,  35, 100, 113, 103,  35, 108, 119,  35,\n",
      "        108, 118,  35, 113, 114, 119,  35, 100, 111, 122, 100, 124, 118,  35,\n",
      "        102, 111, 104, 100, 117,  35, 122, 107, 124,  35, 119, 107, 114, 118,\n",
      "        104,  35, 115, 100, 117, 119, 108, 102, 120, 111, 100, 117,  35, 100,\n",
      "        117,   1]), tensor([ 90, 104,  35, 113, 104, 104, 103,  47,  35, 122, 108, 119, 107, 114,\n",
      "        120, 119,  35, 100,  35, 103, 114, 120, 101, 119,  47,  35, 100,  35,\n",
      "        105, 100, 118, 119,  48, 119, 117, 100, 102, 110,  35, 115, 117, 114,\n",
      "        102, 104, 103, 120, 117, 104,  35, 119, 114,  35, 119, 120, 117, 113,\n",
      "         35,  86,  79,  76,  80,  35, 114, 115, 108, 113, 108, 114, 113, 118,\n",
      "         35, 108, 113, 119, 114,  35, 111, 104, 106, 108, 118, 111, 100, 119,\n",
      "        108, 121, 104,  35, 115, 117, 114, 115, 114, 118, 100, 111, 118,  47,\n",
      "         35, 101, 104, 102, 100, 120, 118, 104,  35, 108, 119,  35, 100, 111,\n",
      "        111,  35, 118, 104, 104, 112, 118,  35, 119, 114,  35, 119, 100, 110,\n",
      "        104,   1]), tensor([ 86, 114,  35, 122, 104,  35, 122, 104, 111, 102, 114, 112, 104,  35,\n",
      "        119, 107, 104,  35, 115, 117, 114, 115, 114, 118, 100, 111,  35, 119,\n",
      "        114,  35, 118, 104, 119,  35, 120, 115,  35, 100,  35, 118, 115, 104,\n",
      "        102, 108, 100, 111,  35, 106, 117, 114, 120, 115,  35, 122, 108, 119,\n",
      "        107, 108, 113,  35, 119, 107, 104,  35,  68, 103, 121, 108, 118, 114,\n",
      "        117, 124,  35,  70, 114, 112, 112, 108, 119, 119, 104, 104,  35, 100,\n",
      "        113, 103,  35, 122, 104,  35, 122, 104, 111, 102, 114, 112, 104,  35,\n",
      "        119, 107, 104,  35, 117, 100, 115, 115, 114, 117, 119, 104, 120, 117,\n",
      "         42, 118,  35, 118, 120, 106, 106, 104, 118, 119, 108, 114, 113,  35,\n",
      "        119,   1]), tensor([ 70, 111, 104, 100, 117, 111, 124,  35, 122, 104,  35, 100, 111, 118,\n",
      "        114,  35, 113, 104, 104, 103,  35, 106, 117, 104, 100, 119, 104, 117,\n",
      "         35, 118, 124, 113, 104, 117, 106, 124,  35, 101, 104, 119, 122, 104,\n",
      "        104, 113,  35, 119, 107, 104,  35, 103, 108, 105, 105, 104, 117, 104,\n",
      "        113, 119,  35,  70, 114, 112, 112, 108, 118, 118, 108, 114, 113,  35,\n",
      "        108, 113, 108, 119, 108, 100, 119, 108, 121, 104, 118,  35, 105, 114,\n",
      "        117,  35, 108, 112, 115, 117, 114, 121, 108, 113, 106,  35, 111, 104,\n",
      "        106, 108, 118, 111, 100, 119, 108, 114, 113,  49,   1,   0,   0,   0,\n",
      "          0,   0,   0,   0,   0,   0,   0,   0,   0,   0,   0,   0,   0,   0,\n",
      "          0,   0]), tensor([ 90, 104,  35, 118, 114, 112, 104, 119, 108, 112, 104, 118,  35, 119,\n",
      "        107, 108, 113, 110,  35, 119, 107, 100, 119,  35, 119, 107, 104,  35,\n",
      "        103, 108, 105, 105, 104, 117, 104, 113, 119,  35, 115, 100, 117, 119,\n",
      "        118,  35, 100, 117, 104,  35, 114, 115, 104, 117, 100, 119, 108, 113,\n",
      "        106,  35, 108, 113,  35, 108, 118, 114, 111, 100, 119, 108, 114, 113,\n",
      "         49,   1,   0,   0,   0,   0,   0,   0,   0,   0,   0,   0,   0,   0,\n",
      "          0,   0,   0,   0,   0,   0,   0,   0,   0,   0,   0,   0,   0,   0,\n",
      "          0,   0,   0,   0,   0,   0,   0,   0,   0,   0,   0,   0,   0,   0,\n",
      "          0,   0,   0,   0,   0,   0,   0,   0,   0,   0,   0,   0,   0,   0,\n",
      "          0,   0]), tensor([ 68, 113, 103,  47,  35, 114, 105,  35, 102, 114, 120, 117, 118, 104,\n",
      "         47,  35, 122, 104,  35, 113, 104, 104, 103,  35, 106, 117, 104, 100,\n",
      "        119, 104, 117,  35, 102, 114, 114, 115, 104, 117, 100, 119, 108, 114,\n",
      "        113,  35, 101, 104, 119, 122, 104, 104, 113,  35,  80, 104, 112, 101,\n",
      "        104, 117,  35,  86, 119, 100, 119, 104, 118,  35, 100, 113, 103,  35,\n",
      "        119, 114,  35, 114, 121, 104, 117, 121, 108, 104, 122,  35, 101, 104,\n",
      "        118, 119,  35, 115, 117, 100, 102, 119, 108, 102, 104,  35, 100, 113,\n",
      "        103,  35, 118, 104, 104, 110,  35, 119, 114,  35, 117, 104, 115, 104,\n",
      "        100, 119,  35, 101, 104, 118, 119,  35, 115, 117, 100, 102, 119, 108,\n",
      "        102,   1]), tensor([ 68, 113, 103,  35, 105, 108, 113, 100, 111, 111, 124,  47,  35, 108,\n",
      "        119,  35, 108, 118,  35, 102, 117, 120, 102, 108, 100, 111,  35, 119,\n",
      "        114,  35, 104, 113, 118, 120, 117, 104,  35, 112, 100, 123, 108, 112,\n",
      "        120, 112,  35, 108, 113, 121, 114, 111, 121, 104, 112, 104, 113, 119,\n",
      "         35, 114, 105,  35, 119, 107, 104,  35, 120, 118, 104, 117, 118,  35,\n",
      "        114, 105,  35, 119, 107, 108, 118,  35, 111, 104, 106, 108, 118, 111,\n",
      "        100, 119, 108, 114, 113,  47,  35, 115, 100, 117, 119, 108, 102, 120,\n",
      "        111, 100, 117, 111, 124,  35, 101, 120, 118, 108, 113, 104, 118, 118,\n",
      "        104, 118,  47,  35, 101, 104, 102, 100, 120, 118, 104,  35, 119, 107,\n",
      "        104,   1]), tensor([ 75, 114, 122, 104, 121, 104, 117,  47,  35, 107, 100, 121, 108, 113,\n",
      "        106,  35, 118, 100, 108, 103,  35, 119, 107, 100, 119,  47,  35, 124,\n",
      "        114, 120,  35, 102, 114, 120, 111, 103,  35, 116, 120, 108, 119, 104,\n",
      "         35, 102, 114, 113, 102, 104, 108, 121, 100, 101, 111, 124,  35, 115,\n",
      "        117, 114, 103, 120, 102, 104,  35, 122, 114, 113, 103, 104, 117, 105,\n",
      "        120, 111,  47,  35, 118, 108, 112, 115, 111, 104,  35, 111, 104, 106,\n",
      "        108, 118, 111, 100, 119, 108, 114, 113,  47,  35, 124, 104, 119,  35,\n",
      "        108, 119,  35, 102, 114, 120, 111, 103,  35, 101, 104,  35, 102, 114,\n",
      "        112, 115, 111, 104, 119, 104, 111, 124,  35, 103, 104, 118, 119, 117,\n",
      "        114,   1]), tensor([ 90, 104,  35, 112, 120, 118, 119,  35, 120, 113, 103, 104, 117, 118,\n",
      "        119, 100, 113, 103,  35, 119, 107, 100, 119,  35, 119, 107, 104, 117,\n",
      "        104,  35, 100, 117, 104,  35, 119, 107, 117, 104, 104,  35, 118, 119,\n",
      "        100, 106, 104, 118,  35, 114, 105,  35, 111, 104, 106, 108, 118, 111,\n",
      "        100, 119, 108, 114, 113,  35,  48,  35, 105, 114, 117, 112, 120, 111,\n",
      "        100, 119, 108, 114, 113,  47,  35, 108, 112, 115, 111, 104, 112, 104,\n",
      "        113, 119, 100, 119, 108, 114, 113,  47,  35, 108, 113, 102, 111, 120,\n",
      "        103, 108, 113, 106,  35, 119, 117, 100, 113, 118, 115, 114, 118, 108,\n",
      "        119, 108, 114, 113,  47,  35, 100, 113, 103,  35, 104, 113, 105, 114,\n",
      "        117,   1]), tensor([ 90, 104,  35, 114, 105, 119, 104, 113,  35, 105, 108, 113, 103,  35,\n",
      "        119, 107, 104,  35, 106, 117, 104, 100, 119, 104, 118, 119,  35, 115,\n",
      "        117, 114, 101, 111, 104, 112,  35, 108, 118,  35, 113, 114, 119,  35,\n",
      "        119, 107, 104,  35, 114, 117, 108, 106, 108, 113, 100, 111,  35, 111,\n",
      "        104, 106, 108, 118, 111, 100, 119, 108, 114, 113,  35, 101, 120, 119,\n",
      "         35, 107, 114, 122,  35, 108, 119,  35, 107, 100, 118,  35, 101, 104,\n",
      "        104, 113,  35, 119, 117, 100, 113, 118, 115, 114, 118, 104, 103,  35,\n",
      "        101, 124,  35,  80, 104, 112, 101, 104, 117,  35,  86, 119, 100, 119,\n",
      "        104, 118,  35, 100, 113, 103,  35, 119, 107, 104,  35, 118, 115, 104,\n",
      "        104,   1]), tensor([ 76,  35, 100, 112,  35, 114, 105, 119, 104, 113,  35, 116, 120, 108,\n",
      "        119, 104,  35, 118, 120, 117, 115, 117, 108, 118, 104, 103,  35, 101,\n",
      "        124,  35, 107, 114, 122,  35, 117, 104, 111, 100, 119, 108, 121, 104,\n",
      "        111, 124,  35, 118, 108, 112, 115, 111, 104,  35, 108, 103, 104, 100,\n",
      "        118,  35, 100, 117, 104,  35, 119, 120, 117, 113, 104, 103,  35, 108,\n",
      "        113, 119, 114,  35, 119, 107, 104,  35, 112, 114, 118, 119,  35, 102,\n",
      "        114, 112, 115, 111, 104, 123,  35, 113, 108, 106, 107, 119, 112, 100,\n",
      "        117, 104, 118,  35, 100, 118,  35, 122, 104,  35, 106, 114,  35, 119,\n",
      "        107, 117, 114, 120, 106, 107,  35, 119, 107, 100, 119,  35, 115, 117,\n",
      "        114,   1]), tensor([ 68, 118,  35, 115, 100, 117, 119,  35, 114, 105,  35, 119, 107, 108,\n",
      "        118,  35, 114, 113,  48, 106, 114, 108, 113, 106,  35, 103, 104, 119,\n",
      "        104, 117, 112, 108, 113, 100, 119, 108, 114, 113,  35, 101, 124,  35,\n",
      "        119, 107, 104,  35,  70, 114, 112, 112, 108, 118, 118, 108, 114, 113,\n",
      "         35, 119, 114,  35, 118, 108, 112, 115, 111, 108, 105, 124,  35, 111,\n",
      "        104, 106, 108, 118, 111, 100, 119, 108, 114, 113,  47,  35,  76,  35,\n",
      "        122, 114, 120, 111, 103,  35, 111, 108, 110, 104,  35, 119, 114,  35,\n",
      "        118, 104, 104,  35, 112, 120, 102, 107,  35, 106, 117, 104, 100, 119,\n",
      "        104, 117,  35, 102, 114, 114, 115, 104, 117, 100, 119, 108, 114, 113,\n",
      "         35,   1]), tensor([ 86, 114,  35, 122, 104,  35, 112, 120, 118, 119,  35, 102, 114, 113,\n",
      "        118, 108, 103, 104, 117,  35, 119, 107, 104,  35, 122, 107, 114, 111,\n",
      "        104,  35, 115, 117, 114, 102, 104, 118, 118,  35, 122, 107, 104, 113,\n",
      "         35, 122, 104,  35, 103, 117, 100, 105, 119,  35, 119, 107, 104,  35,\n",
      "        114, 117, 108, 106, 108, 113, 100, 111,  35, 111, 104, 106, 108, 118,\n",
      "        111, 100, 119, 108, 114, 113,  49,   1,   0,   0,   0,   0,   0,   0,\n",
      "          0,   0,   0,   0,   0,   0,   0,   0,   0,   0,   0,   0,   0,   0,\n",
      "          0,   0,   0,   0,   0,   0,   0,   0,   0,   0,   0,   0,   0,   0,\n",
      "          0,   0,   0,   0,   0,   0,   0,   0,   0,   0,   0,   0,   0,   0,\n",
      "          0,   0]), tensor([ 76, 113,  35, 118, 114, 112, 104,  35, 122, 100, 124, 118,  47,  35,\n",
      "        124, 114, 120,  35, 102, 114, 120, 111, 103,  35, 100, 117, 106, 120,\n",
      "        104,  47,  35, 122, 104,  35, 118, 107, 114, 120, 111, 103,  35, 118,\n",
      "        119, 100, 117, 119,  35, 100, 119,  35, 119, 107, 104,  35, 104, 113,\n",
      "        103,  35, 100, 113, 103,  35, 111, 114, 114, 110,  35, 100, 119,  35,\n",
      "        107, 114, 122,  35, 122, 104,  35, 104, 113, 105, 114, 117, 102, 104,\n",
      "         35, 108, 119,  35, 100, 113, 103,  35, 119, 107, 104, 113,  35, 122,\n",
      "        114, 117, 110,  35, 101, 100, 102, 110, 122, 100, 117, 103, 118,  35,\n",
      "        100, 118,  35, 100,  35, 122, 100, 124,  35, 114, 105,  35, 106, 104,\n",
      "        119,   1]), tensor([ 69, 120, 119,  35, 119, 107, 104,  35,  86,  79,  76,  80,  35, 115,\n",
      "        117, 114, 102, 104, 118, 118,  35, 114, 120, 106, 107, 119,  35, 119,\n",
      "        114,  35, 106, 114,  35, 112, 120, 102, 107,  35, 105, 120, 117, 119,\n",
      "        107, 104, 117,  49,   1,   0,   0,   0,   0,   0,   0,   0,   0,   0,\n",
      "          0,   0,   0,   0,   0,   0,   0,   0,   0,   0,   0,   0,   0,   0,\n",
      "          0,   0,   0,   0,   0,   0,   0,   0,   0,   0,   0,   0,   0,   0,\n",
      "          0,   0,   0,   0,   0,   0,   0,   0,   0,   0,   0,   0,   0,   0,\n",
      "          0,   0,   0,   0,   0,   0,   0,   0,   0,   0,   0,   0,   0,   0,\n",
      "          0,   0,   0,   0,   0,   0,   0,   0,   0,   0,   0,   0,   0,   0,\n",
      "          0,   0]), tensor([ 90, 104,  35, 113, 104, 104, 103,  35, 100,  35, 117, 114, 111, 111,\n",
      "        108, 113, 106,  35, 115, 117, 114, 106, 117, 100, 112, 112, 104,  35,\n",
      "        122, 107, 108, 102, 107,  35, 122, 108, 111, 111,  35, 102, 114, 121,\n",
      "        104, 117,  35, 100, 111, 111,  35, 111, 104, 106, 108, 118, 111, 100,\n",
      "        119, 108, 114, 113,  35, 100, 113, 103,  35, 111, 114, 114, 110,  35,\n",
      "        100, 119,  35, 118, 108, 112, 115, 111, 108, 105, 124, 108, 113, 106,\n",
      "         47,  35, 102, 114, 113, 118, 114, 111, 108, 103, 100, 119, 108, 113,\n",
      "        106,  47,  35, 117, 104,  48, 102, 100, 118, 119, 108, 113, 106,  47,\n",
      "         35, 118, 114, 112, 104, 119, 108, 112, 104, 118,  35, 117, 104, 115,\n",
      "        104,   1]), tensor([ 86, 114, 112, 104, 119, 108, 112, 104, 118,  35, 122, 104,  35, 112,\n",
      "        100, 124,  35, 113, 104, 104, 103,  35, 119, 114,  35, 106, 114,  35,\n",
      "        105, 114, 117,  35, 119, 107, 104,  35, 118, 119, 100, 119, 120, 118,\n",
      "         35, 116, 120, 114,  47,  35, 101, 120, 119,  35, 122, 104,  35, 113,\n",
      "        104, 104, 103,  35, 100,  35, 112, 114, 117, 104,  35, 103, 124, 113,\n",
      "        100, 112, 108, 102,  35, 115, 117, 114, 102, 104, 118, 118,  35, 119,\n",
      "        107, 100, 113,  35, 122, 104,  35, 107, 100, 121, 104,  35, 107, 100,\n",
      "        103,  35, 118, 114,  35, 105, 100, 117,  49,   1,   0,   0,   0,   0,\n",
      "          0,   0,   0,   0,   0,   0,   0,   0,   0,   0,   0,   0,   0,   0,\n",
      "          0,   0]), tensor([ 80, 117,  35,  83, 117, 104, 118, 108, 103, 104, 113, 119,  47,  35,\n",
      "         70, 114, 112, 112, 108, 118, 118, 108, 114, 113, 104, 117,  47,  35,\n",
      "        111, 100, 103, 108, 104, 118,  35, 100, 113, 103,  35, 106, 104, 113,\n",
      "        119, 111, 104, 112, 104, 113,  47,  35,  76,  35, 118, 107, 100, 117,\n",
      "        104,  35, 119, 107, 104,  35, 117, 100, 115, 115, 114, 117, 119, 104,\n",
      "        120, 117,  42,  35, 118,  35, 102, 114, 113, 102, 104, 117, 113,  35,\n",
      "        100, 101, 114, 120, 119,  35, 119, 107, 104,  35, 105, 100, 102, 119,\n",
      "         35, 119, 107, 100, 119,  35, 104, 121, 108, 103, 104, 113, 119, 111,\n",
      "        124,  47,  35,  72, 120, 117, 114, 115, 104, 100, 113,  35, 108, 113,\n",
      "        118,   1]), tensor([ 68, 111, 111,  35, 102, 117, 104, 103, 108, 119,  35, 119, 114,  35,\n",
      "         80, 117,  35,  71, 114, 114, 117, 113,  47,  35, 122, 107, 114,  35,\n",
      "        107, 100, 118,  35, 112, 100, 113, 100, 106, 104, 103,  35, 119, 114,\n",
      "         35, 115, 120, 119,  35, 107, 108, 118,  35, 105, 108, 113, 106, 104,\n",
      "        117,  35, 114, 113,  35, 119, 107, 104,  35, 115, 117, 114, 101, 111,\n",
      "        104, 112,  49,   1,   0,   0,   0,   0,   0,   0,   0,   0,   0,   0,\n",
      "          0,   0,   0,   0,   0,   0,   0,   0,   0,   0,   0,   0,   0,   0,\n",
      "          0,   0,   0,   0,   0,   0,   0,   0,   0,   0,   0,   0,   0,   0,\n",
      "          0,   0,   0,   0,   0,   0,   0,   0,   0,   0,   0,   0,   0,   0,\n",
      "          0,   0]), tensor([ 76, 119,  35, 118, 107, 114, 120, 111, 103,  35, 101, 104,  35, 107,\n",
      "        108, 106, 107, 111, 108, 106, 107, 119, 104, 103,  47,  35, 117, 108,\n",
      "        106, 107, 119, 111, 124,  35, 118, 114,  47,  35, 119, 107, 100, 119,\n",
      "         35,  72,  88,  35, 102, 108, 119, 108, 125, 104, 113, 118,  35, 100,\n",
      "        113, 103,  35, 101, 120, 118, 108, 113, 104, 118, 118, 104, 118,  35,\n",
      "        102, 114, 113, 118, 108, 103, 104, 117,  35, 102, 114, 112, 115, 111,\n",
      "        104, 123,  35, 111, 104, 106, 108, 118, 111, 100, 119, 108, 114, 113,\n",
      "         35, 100, 113, 103,  35, 117, 104, 103,  35, 119, 100, 115, 104,  35,\n",
      "        119, 114,  35, 101, 104,  35, 104, 121, 108, 103, 104, 113, 102, 104,\n",
      "         35,   1]), tensor([ 87, 107, 104,  35, 102, 100, 120, 118, 104, 118,  35, 100, 117, 104,\n",
      "         35, 114, 101, 121, 108, 114, 120, 118,  49,   1,   0,   0,   0,   0,\n",
      "          0,   0,   0,   0,   0,   0,   0,   0,   0,   0,   0,   0,   0,   0,\n",
      "          0,   0,   0,   0,   0,   0,   0,   0,   0,   0,   0,   0,   0,   0,\n",
      "          0,   0,   0,   0,   0,   0,   0,   0,   0,   0,   0,   0,   0,   0,\n",
      "          0,   0,   0,   0,   0,   0,   0,   0,   0,   0,   0,   0,   0,   0,\n",
      "          0,   0,   0,   0,   0,   0,   0,   0,   0,   0,   0,   0,   0,   0,\n",
      "          0,   0,   0,   0,   0,   0,   0,   0,   0,   0,   0,   0,   0,   0,\n",
      "          0,   0,   0,   0,   0,   0,   0,   0,   0,   0,   0,   0,   0,   0,\n",
      "          0,   0]), tensor([ 68, 118,  35, 111, 114, 113, 106,  35, 100, 118,  35, 119, 107, 104,\n",
      "         35,  70, 114, 112, 112, 108, 118, 118, 108, 114, 113,  35, 103, 114,\n",
      "        104, 118,  35, 113, 114, 119,  35, 100, 103, 114, 115, 119,  35, 100,\n",
      "         35, 102, 111, 104, 100, 117,  47,  35, 102, 104, 113, 119, 117, 100,\n",
      "        111, 108, 118, 104, 103,  35, 100, 115, 115, 117, 114, 100, 102, 107,\n",
      "         35, 119, 114,  35,  86,  79,  76,  80,  47,  35, 119, 107, 104,  35,\n",
      "         86,  79,  76,  80,  35, 108, 113, 108, 119, 108, 100, 119, 108, 121,\n",
      "        104,  35, 117, 104, 112, 100, 108, 113, 118,  35, 100, 113,  35, 104,\n",
      "        123, 104, 117, 102, 108, 118, 104,  35, 122, 108, 119, 107,  35, 113,\n",
      "        114,   1]), tensor([ 76, 119,  35, 118, 107, 114, 120, 111, 103,  35, 101, 104,  35, 100,\n",
      "        113, 124, 119, 107, 108, 113, 106,  35, 101, 120, 119,  35, 119, 107,\n",
      "        100, 119,  49,   1,   0,   0,   0,   0,   0,   0,   0,   0,   0,   0,\n",
      "          0,   0,   0,   0,   0,   0,   0,   0,   0,   0,   0,   0,   0,   0,\n",
      "          0,   0,   0,   0,   0,   0,   0,   0,   0,   0,   0,   0,   0,   0,\n",
      "          0,   0,   0,   0,   0,   0,   0,   0,   0,   0,   0,   0,   0,   0,\n",
      "          0,   0,   0,   0,   0,   0,   0,   0,   0,   0,   0,   0,   0,   0,\n",
      "          0,   0,   0,   0,   0,   0,   0,   0,   0,   0,   0,   0,   0,   0,\n",
      "          0,   0,   0,   0,   0,   0,   0,   0,   0,   0,   0,   0,   0,   0,\n",
      "          0,   0]), tensor([ 76, 113,  35, 112, 124,  35, 114, 115, 108, 113, 108, 114, 113,  47,\n",
      "         35, 119, 122, 114,  35, 106, 114, 100, 111, 118,  35, 113, 104, 104,\n",
      "        103,  35, 119, 114,  35, 101, 104,  35, 101, 117, 114, 120, 106, 107,\n",
      "        119,  35, 108, 113, 119, 114,  35, 105, 114, 102, 120, 118,  47,  35,\n",
      "        108, 113,  35, 100, 103, 103, 108, 119, 108, 114, 113,  35, 119, 114,\n",
      "         35, 119, 107, 104,  35, 117, 104, 102, 114, 112, 112, 104, 113, 103,\n",
      "        100, 119, 108, 114, 113, 118,  35, 122, 107, 108, 102, 107,  35, 100,\n",
      "        117, 104,  35, 102, 120, 117, 117, 104, 113, 119, 111, 124,  35, 108,\n",
      "        113,  35, 119, 107, 104,  35, 117, 104, 115, 114, 117, 119,  49,   1,\n",
      "          0,   0]), tensor([ 73, 108, 117, 118, 119,  35, 114, 105,  35, 100, 111, 111,  47,  35,\n",
      "        119, 107, 104,  35,  86,  79,  76,  80,  35, 108, 113, 108, 119, 108,\n",
      "        100, 119, 108, 121, 104,  35, 112, 120, 118, 119,  35, 101, 104,  35,\n",
      "        111, 104, 113, 119,  35, 100,  35, 101, 108, 113, 103, 108, 113, 106,\n",
      "         35, 102, 107, 100, 117, 100, 102, 119, 104, 117,  47,  35, 115, 100,\n",
      "        117, 119, 108, 102, 120, 111, 100, 117, 111, 124,  35, 122, 108, 119,\n",
      "        107,  35,  72,  88,  35, 104, 113, 111, 100, 117, 106, 104, 112, 104,\n",
      "        113, 119,  35, 114, 113,  35, 119, 107, 104,  35, 107, 114, 117, 108,\n",
      "        125, 114, 113,  49,   1,   0,   0,   0,   0,   0,   0,   0,   0,   0,\n",
      "          0,   0]), tensor([ 86, 104, 102, 114, 113, 103, 111, 124,  47,  35,  80, 104, 112, 101,\n",
      "        104, 117,  35,  86, 119, 100, 119, 104, 118,  35, 112, 120, 118, 119,\n",
      "         47,  35, 100, 118,  35, 114, 105,  35, 113, 114, 122,  47,  35, 118,\n",
      "        104, 119,  35, 100,  35, 106, 114, 114, 103,  35, 104, 123, 100, 112,\n",
      "        115, 111, 104,  35, 101, 124,  35, 106, 120, 100, 117, 100, 113, 119,\n",
      "        104, 104, 108, 113, 106,  35, 100,  35, 102, 114, 117, 117, 104, 102,\n",
      "        119,  47,  35, 101, 120, 119,  35, 100, 101, 114, 121, 104,  35, 100,\n",
      "        111, 111,  47,  35, 119, 108, 112, 104, 111, 124,  35, 119, 117, 100,\n",
      "        113, 118, 115, 114, 118, 108, 119, 108, 114, 113,  35, 114, 105,  35,\n",
      "         72,   1]), tensor([ 87, 107, 104,  35, 108, 118, 118, 120, 104,  35, 107, 100, 118,  35,\n",
      "        111, 114, 113, 106,  35, 101, 104, 104, 113,  35, 115, 117, 114, 101,\n",
      "        111, 104, 112, 100, 119, 108, 102,  47,  35, 112, 100, 108, 113, 111,\n",
      "        124,  35, 101, 104, 102, 100, 120, 118, 104,  35, 114, 105,  35, 119,\n",
      "        107, 104,  35, 113, 100, 119, 108, 114, 113, 100, 111,  35, 103, 108,\n",
      "        105, 105, 104, 117, 104, 113, 102, 104, 118,  35, 100, 119,  35, 106,\n",
      "        114, 121, 104, 117, 113, 112, 104, 113, 119, 100, 111,  35, 111, 104,\n",
      "        121, 104, 111,  47,  35, 117, 100, 119, 107, 104, 117,  35, 119, 107,\n",
      "        100, 113,  35, 119, 107, 104,  35, 108, 118, 118, 120, 104, 118,  35,\n",
      "        103,   1]), tensor([ 76, 113,  35, 100, 113,  35, 104, 105, 105, 114, 117, 119,  35, 119,\n",
      "        114,  35, 115, 117, 114, 121, 108, 103, 104,  35, 105, 114, 117,  35,\n",
      "        104, 116, 120, 100, 111,  35, 119, 117, 104, 100, 119, 112, 104, 113,\n",
      "        119,  35, 100, 102, 117, 114, 118, 118,  35, 119, 107, 104,  35,  72,\n",
      "         88,  47,  35, 119, 107, 104,  35, 115, 117, 108, 113, 102, 108, 115,\n",
      "        111, 104, 118,  35, 114, 105,  35, 120, 113, 108, 119, 124,  35, 100,\n",
      "        113, 103,  35, 120, 113, 108, 121, 104, 117, 118, 100, 111, 108, 119,\n",
      "        124,  35, 100, 117, 104,  35, 119, 107, 104,  35, 102, 104, 113, 119,\n",
      "        117, 100, 111,  35, 115, 108, 111, 111, 100, 117, 118,  47,  35, 114,\n",
      "        105,   1]), tensor([ 86, 108, 112, 108, 111, 100, 117, 111, 124,  35, 119, 107, 104,  35,\n",
      "        117, 108, 106, 107, 119, 118,  35, 114, 105,  35, 102, 117, 104, 103,\n",
      "        108, 119, 114, 117, 118,  35, 108, 113,  35,  80, 104, 112, 101, 104,\n",
      "        117,  35,  86, 119, 100, 119, 104, 118,  35, 114, 119, 107, 104, 117,\n",
      "         35, 119, 107, 100, 113,  35, 119, 107, 104, 108, 117,  35, 114, 122,\n",
      "        113,  35, 100, 117, 104,  35, 118, 100, 105, 104, 106, 120, 100, 117,\n",
      "        103, 104, 103,  35, 101, 124,  35, 119, 107, 104,  35, 100, 118, 118,\n",
      "        120, 117, 100, 113, 102, 104, 118,  35, 114, 105,  35, 102, 114, 114,\n",
      "        115, 104, 117, 100, 119, 108, 114, 113,  35, 101, 104, 119, 122, 104,\n",
      "        104,   1]), tensor([ 83, 100, 117, 111, 108, 100, 112, 104, 113, 119,  42, 118,  35, 118,\n",
      "        120, 102, 102, 104, 118, 118,  35, 108, 113,  35, 108, 113, 119, 117,\n",
      "        114, 103, 120, 102, 108, 113, 106,  35, 118, 120, 101, 118, 119, 100,\n",
      "        113, 119, 108, 100, 111,  35, 102, 107, 100, 113, 106, 104, 118,  35,\n",
      "        108, 113,  35, 119, 107, 104,  35, 114, 117, 108, 106, 108, 113, 100,\n",
      "        111,  35, 115, 117, 114, 115, 114, 118, 100, 111,  35, 108, 118,  35,\n",
      "        108, 112, 115, 114, 117, 119, 100, 113, 119,  49,   1,   0,   0,   0,\n",
      "          0,   0,   0,   0,   0,   0,   0,   0,   0,   0,   0,   0,   0,   0,\n",
      "          0,   0,   0,   0,   0,   0,   0,   0,   0,   0,   0,   0,   0,   0,\n",
      "          0,   0]), tensor([ 87, 107, 104, 117, 104,  35, 100, 117, 104,  35, 112, 100, 113, 124,\n",
      "         35, 108, 113,  35,  83, 100, 117, 111, 108, 100, 112, 104, 113, 119,\n",
      "         35, 122, 107, 114,  35, 105, 104, 104, 111,  35, 119, 107, 104,  35,\n",
      "        108, 118, 118, 120, 104, 118,  35, 107, 104, 117, 104,  35, 100, 117,\n",
      "        104,  35, 114, 105,  35, 117, 104, 100, 111,  35, 102, 114, 113, 102,\n",
      "        104, 117, 113,  35, 118, 108, 113, 102, 104,  35, 119, 107, 104, 124,\n",
      "         35, 100, 111, 111,  35, 102, 114, 113, 102, 104, 117, 113,  35, 119,\n",
      "        107, 104,  35, 118, 100, 105, 104, 106, 120, 100, 117, 103, 108, 113,\n",
      "        106,  35, 114, 105,  35,  72, 120, 117, 114, 115, 104, 100, 113,  35,\n",
      "        102,   1]), tensor([ 69, 120, 119,  47,  35, 114, 105,  35, 102, 114, 120, 117, 118, 104,\n",
      "         47,  35, 112, 100, 113, 124,  35, 114, 105,  35, 119, 107, 104,  35,\n",
      "        102, 107, 100, 113, 106, 104, 118,  35, 108, 113,  35, 119, 107, 104,\n",
      "         35, 102, 114, 112, 112, 114, 113,  35, 115, 114, 118, 108, 119, 108,\n",
      "        114, 113,  35, 122, 107, 108, 102, 107,  35, 105, 108, 113, 100, 111,\n",
      "        111, 124,  35, 102, 100, 112, 104,  35, 101, 100, 102, 110,  35, 119,\n",
      "        114,  35, 120, 118,  35, 107, 100, 121, 104,  35, 119, 114,  35, 101,\n",
      "        104,  35, 122, 104, 111, 102, 114, 112, 104, 103,  47,  35, 100, 118,\n",
      "         35, 119, 107, 104, 124,  35, 117, 104, 105, 111, 104, 102, 119,  35,\n",
      "        112,   1]), tensor([ 76, 119,  35, 108, 118,  35, 119, 107, 104, 117, 104, 105, 114, 117,\n",
      "        104,  35, 118, 104, 113, 118, 108, 101, 111, 104,  35, 105, 114, 117,\n",
      "         35,  83, 100, 117, 111, 108, 100, 112, 104, 113, 119,  47,  35, 122,\n",
      "        107, 108, 111, 118, 119,  35, 100, 102, 102, 104, 115, 119, 108, 113,\n",
      "        106,  35, 119, 107, 104,  35, 108, 112, 115, 117, 114, 121, 104, 103,\n",
      "         35, 103, 114, 102, 120, 112, 104, 113, 119,  42, 118,  35, 108, 113,\n",
      "        119, 104, 113, 119, 108, 114, 113, 118,  47,  35, 119, 114,  35, 117,\n",
      "        104, 108, 112, 115, 114, 118, 104,  35, 114, 120, 117,  35, 115, 117,\n",
      "        108, 114, 117, 108, 119, 108, 104, 118,  35, 105, 117, 114, 112,  35,\n",
      "        119,   1]), tensor([ 68, 112, 104, 113, 103, 112, 104, 113, 119, 118,  35,  81, 114, 118,\n",
      "         35,  52,  35, 100, 113, 103,  35,  53,  35, 101, 117, 108, 113, 106,\n",
      "         35, 119, 107, 104,  35, 119, 104, 123, 119,  35, 108, 113, 119, 114,\n",
      "         35, 111, 108, 113, 104,  35, 122, 108, 119, 107,  35, 119, 107, 104,\n",
      "         35, 108, 113, 118, 114, 111, 121, 104, 113, 102, 124,  35, 117, 104,\n",
      "        106, 120, 111, 100, 119, 108, 114, 113,  35, 100, 113, 103,  35, 119,\n",
      "        107, 104,  35, 108, 113, 118, 120, 117, 100, 113, 102, 104,  35, 122,\n",
      "        108, 113, 103, 108, 113, 106,  48, 120, 115,  35, 115, 117, 114, 115,\n",
      "        114, 118, 100, 111, 118,  35, 122, 107, 108, 102, 107,  35, 107, 100,\n",
      "        103,   1]), tensor([ 76,  35, 100, 111, 118, 114,  35, 118, 104, 104,  35, 106, 117, 104,\n",
      "        100, 119,  35, 118, 119, 117, 104, 113, 106, 119, 107,  35, 105, 114,\n",
      "        117,  35, 102, 117, 104, 103, 108, 119, 114, 117, 118,  35, 108, 113,\n",
      "         35,  68, 112, 104, 113, 103, 112, 104, 113, 119, 118,  35,  81, 114,\n",
      "        118,  35,  54,  47,  35,  56,  35, 100, 113, 103,  35,  57,  35, 122,\n",
      "        107, 108, 111, 104,  35, 117, 104, 102, 114, 106, 113, 108, 118, 108,\n",
      "        113, 106,  35, 119, 107, 100, 119,  35, 114, 119, 107, 104, 117,  35,\n",
      "        113, 100, 119, 108, 114, 113, 100, 111,  35, 103, 104, 111, 104, 106,\n",
      "        100, 119, 108, 114, 113, 118,  47,  35, 104, 118, 115, 104, 102, 108,\n",
      "        100,   1]), tensor([ 69, 120, 119,  35,  76,  35, 115, 104, 117, 118, 114, 113, 100, 111,\n",
      "        111, 124,  35, 114, 105, 105, 104, 117,  35, 112, 124,  35, 118, 120,\n",
      "        115, 115, 114, 117, 119,  35, 119, 114,  35, 119, 107, 104,  35, 108,\n",
      "        103, 104, 100,  35, 114, 105,  35, 101, 117, 108, 113, 106, 108, 113,\n",
      "        106,  35, 119, 107, 108, 118,  35, 103, 108, 117, 104, 102, 119, 108,\n",
      "        121, 104,  35, 108, 113,  35, 111, 108, 113, 104,  35, 122, 108, 119,\n",
      "        107,  35, 119, 107, 104,  35, 108, 113, 118, 114, 111, 121, 104, 113,\n",
      "        102, 124,  35, 117, 104, 106, 120, 111, 100, 119, 108, 114, 113,  35,\n",
      "        100, 113, 103,  35, 119, 107, 104,  35, 108, 113, 118, 120, 117, 100,\n",
      "        113,   1]), tensor([ 76, 119,  35, 118, 104, 104, 112, 118,  35, 119, 114,  35, 112, 104,\n",
      "         35, 119, 107, 100, 119,  47,  35, 105, 108, 113, 100, 111, 111, 124,\n",
      "         47,  35, 108, 113,  35, 119, 107, 104,  35, 117, 104, 112, 100, 108,\n",
      "        113, 108, 113, 106,  35, 100, 112, 104, 113, 103, 112, 104, 113, 119,\n",
      "        118,  47,  35, 105, 114, 111, 111, 114, 122, 108, 113, 106,  35, 108,\n",
      "        113,  35, 119, 107, 104,  35, 119, 117, 100, 103, 108, 119, 108, 114,\n",
      "        113,  35, 114, 105,  35, 119, 108, 103, 124, 108, 113, 106,  35, 120,\n",
      "        115,  35, 119, 104, 123, 119, 118,  35, 105, 114, 117,  35, 119, 107,\n",
      "        104,  35, 115, 120, 117, 115, 114, 118, 104,  35, 114, 105,  35, 102,\n",
      "        111,   1]), tensor([ 90, 107, 108, 111, 118, 119,  35, 108, 118, 118, 120, 104, 118,  35,\n",
      "        118, 120, 102, 107,  35, 100, 118,  35, 113, 104, 119, 119, 108, 113,\n",
      "        106,  35, 118, 104, 104, 112,  35, 119, 114,  35, 107, 100, 121, 104,\n",
      "         35, 101, 104, 104, 113,  35, 118, 111, 114, 119, 119, 104, 103,  35,\n",
      "        108, 113,  35, 100, 118,  35, 100, 113,  35, 104, 123, 119, 117, 100,\n",
      "         35, 118, 104, 117, 108, 104, 118,  35, 114, 105,  35, 100, 112, 104,\n",
      "        113, 103, 112, 104, 113, 119, 118,  47,  35, 122, 107, 100, 119,  35,\n",
      "        122, 104,  35, 107, 100, 121, 104,  35, 107, 104, 117, 104,  35, 108,\n",
      "        118,  35, 100,  35, 122, 114, 117, 110, 100, 101, 111, 104,  35, 103,\n",
      "        114,   1]), tensor([ 80, 117,  35,  83, 117, 104, 118, 108, 103, 104, 113, 119,  47,  35,\n",
      "         70, 114, 112, 112, 108, 118, 118, 108, 114, 113, 104, 117,  47,  35,\n",
      "        111, 100, 103, 108, 104, 118,  35, 100, 113, 103,  35, 106, 104, 113,\n",
      "        119, 111, 104, 112, 104, 113,  47,  35, 122, 104,  35, 100, 117, 104,\n",
      "         35, 100, 111, 111,  35, 100, 106, 117, 104, 104, 103,  35, 119, 107,\n",
      "        100, 119,  35, 119, 107, 104,  35, 103, 108, 117, 104, 102, 119, 108,\n",
      "        121, 104,  35, 114, 113,  35, 119, 107, 104,  35, 117, 104, 114, 117,\n",
      "        106, 100, 113, 108, 118, 100, 119, 108, 114, 113,  35, 114, 105,  35,\n",
      "        102, 117, 104, 103, 108, 119,  35, 108, 113, 118, 119, 108, 119, 120,\n",
      "        119,   1]), tensor([ 68,  35, 120, 113, 108, 105, 114, 117, 112,  35, 115, 117, 114, 102,\n",
      "        104, 103, 120, 117, 104,  35, 108, 118,  35, 100, 119,  35, 111, 100,\n",
      "        118, 119,  35, 119, 114,  35, 101, 104,  35, 104, 118, 119, 100, 101,\n",
      "        111, 108, 118, 107, 104, 103,  35, 100, 113, 103,  35, 119, 107, 104,\n",
      "        117, 104,  35, 108, 118,  35, 119, 114,  35, 101, 104,  35, 102, 114,\n",
      "        107, 104, 117, 104, 113, 102, 104,  35, 101, 104, 119, 122, 104, 104,\n",
      "        113,  35, 119, 107, 104,  35, 117, 104, 114, 117, 106, 100, 113, 108,\n",
      "        118, 100, 119, 108, 114, 113,  35, 115, 117, 114, 102, 104, 103, 120,\n",
      "        117, 104,  35, 100, 113, 103,  35, 119, 107, 104,  35, 108, 113, 118,\n",
      "        114,   1]), tensor([ 90, 104,  35, 122, 114, 120, 111, 103,  35, 103, 114,  35, 122, 104,\n",
      "        111, 111,  35, 119, 114,  35, 118, 119, 117, 104, 118, 118,  35, 119,\n",
      "        107, 100, 119,  35, 119, 107, 104,  35, 115, 117, 114, 121, 108, 118,\n",
      "        108, 114, 113, 118,  35, 114, 113,  35, 115, 117, 114, 119, 104, 102,\n",
      "        119, 108, 113, 106,  35, 102, 117, 104, 103, 108, 119, 114, 117, 118,\n",
      "         42,  35, 117, 108, 106, 107, 119, 118,  47,  35, 108, 113,  35, 115,\n",
      "        100, 117, 119, 108, 102, 120, 111, 100, 117,  47,  35, 100, 117, 104,\n",
      "         35, 114, 105,  35, 102, 117, 120, 102, 108, 100, 111,  35, 108, 112,\n",
      "        115, 114, 117, 119, 100, 113, 102, 104,  35, 107, 104, 117, 104,  47,\n",
      "         35,   1]), tensor([ 76, 113,  35, 119, 107, 108, 118,  35, 122, 100, 124,  47,  35, 100,\n",
      "        111, 111,  35, 102, 117, 104, 103, 108, 119, 114, 117, 118,  47,  35,\n",
      "        108, 113, 102, 111, 120, 103, 108, 113, 106,  35, 119, 107, 114, 118,\n",
      "        104,  35, 108, 113,  35, 102, 114, 120, 113, 119, 117, 108, 104, 118,\n",
      "         35, 114, 119, 107, 104, 117,  35, 119, 107, 100, 113,  35, 119, 107,\n",
      "        104,  35, 107, 114, 112, 104,  35,  80, 104, 112, 101, 104, 117,  35,\n",
      "         86, 119, 100, 119, 104,  47,  35, 100, 117, 104,  35, 106, 120, 100,\n",
      "        117, 100, 113, 119, 104, 104, 103,  35, 104, 116, 120, 100, 111,  35,\n",
      "        119, 117, 104, 100, 119, 112, 104, 113, 119,  35, 120, 113, 103, 104,\n",
      "        117,   1]), tensor([ 68, 111, 119, 107, 114, 120, 106, 107,  35, 119, 107, 104,  35, 119,\n",
      "        104, 123, 119,  35, 108, 113,  35, 108, 119, 118,  35, 102, 120, 117,\n",
      "        117, 104, 113, 119,  35, 105, 114, 117, 112,  35, 108, 118,  35, 100,\n",
      "        101, 118, 114, 111, 120, 119, 104, 111, 124,  35, 104, 123, 102, 104,\n",
      "        111, 111, 104, 113, 119,  47,  35, 118, 114, 112, 104,  35, 102, 111,\n",
      "        100, 117, 108, 105, 108, 102, 100, 119, 108, 114, 113,  35, 108, 118,\n",
      "         35, 113, 104, 104, 103, 104, 103,  49,   1,   0,   0,   0,   0,   0,\n",
      "          0,   0,   0,   0,   0,   0,   0,   0,   0,   0,   0,   0,   0,   0,\n",
      "          0,   0,   0,   0,   0,   0,   0,   0,   0,   0,   0,   0,   0,   0,\n",
      "          0,   0]), tensor([ 87, 107, 120, 118,  47,  35, 105, 114, 117,  35, 104, 123, 100, 112,\n",
      "        115, 111, 104,  47,  35, 119, 107, 104,  35, 100, 111, 111,  48, 108,\n",
      "        112, 115, 114, 117, 119, 100, 113, 119,  35, 115, 117, 108, 113, 102,\n",
      "        108, 115, 111, 104,  35, 114, 105,  35, 120, 113, 108, 121, 104, 117,\n",
      "        118, 100, 111, 108, 119, 124,  35, 122, 100, 118,  35, 118, 119, 117,\n",
      "        104, 113, 106, 119, 107, 104, 113, 104, 103,  35, 101, 124,  35, 100,\n",
      "         35, 118, 104, 117, 108, 104, 118,  35, 114, 105,  35, 100, 112, 104,\n",
      "        113, 103, 112, 104, 113, 119, 118,  35, 108, 113,  35, 102, 114, 112,\n",
      "        112, 108, 119, 119, 104, 104,  47,  35, 100, 113, 103,  35, 118, 104,\n",
      "        121,   1]), tensor([ 92, 114, 120,  35, 122, 108, 111, 111,  35, 100, 111, 117, 104, 100,\n",
      "        103, 124,  35, 107, 100, 121, 104,  35, 113, 114, 119, 108, 102, 104,\n",
      "        103,  35, 108, 113,  35, 119, 107, 104,  35, 102, 114, 120, 117, 118,\n",
      "        104,  35, 114, 105,  35, 119, 107, 104,  35, 103, 104, 101, 100, 119,\n",
      "        104,  35, 119, 107, 100, 119,  35, 122, 104,  35, 103, 108, 105, 105,\n",
      "        104, 117,  35, 114, 113,  35, 114, 113, 104,  35, 115, 114, 108, 113,\n",
      "        119,  47,  35, 118, 115, 104, 102, 108, 105, 108, 102, 100, 111, 111,\n",
      "        124,  35, 108, 113,  35, 117, 104, 111, 100, 119, 108, 114, 113,  35,\n",
      "        119, 114,  35,  68, 112, 104, 113, 103, 112, 104, 113, 119, 118,  35,\n",
      "         81,   1]), tensor([ 82, 115, 108, 113, 108, 114, 113,  35, 103, 108, 105, 105, 104, 117,\n",
      "        118,  35, 114, 113,  35, 119, 107, 108, 118,  35, 101, 104, 102, 100,\n",
      "        120, 118, 104,  35, 122, 104,  35, 101, 104, 111, 108, 104, 121, 104,\n",
      "         35, 122, 107, 100, 119,  35, 122, 104,  35, 100, 117, 104,  35, 119,\n",
      "        100, 111, 110, 108, 113, 106,  35, 100, 101, 114, 120, 119,  35, 107,\n",
      "        104, 117, 104,  35, 100, 117, 104,  35, 103, 108, 105, 105, 104, 117,\n",
      "        104, 113, 119,  35, 115, 117, 114, 103, 120, 102, 119, 118,  47,  35,\n",
      "        100, 113, 103,  35, 118, 114, 112, 104, 119, 108, 112, 104, 118,  35,\n",
      "        103, 108, 105, 105, 104, 117, 104, 113, 119,  35, 112, 100, 117, 110,\n",
      "        104,   1]), tensor([ 87, 107, 104,  35, 102, 114, 112, 112, 114, 113,  35, 115, 114, 118,\n",
      "        108, 119, 108, 114, 113,  35, 108, 118,  35, 122, 104, 111, 111,  48,\n",
      "        101, 100, 111, 100, 113, 102, 104, 103,  35, 119, 114,  35, 112, 124,\n",
      "         35, 112, 108, 113, 103,  35, 100, 113, 103,  35, 122, 100, 118,  35,\n",
      "        108, 112, 115, 117, 114, 121, 104, 103,  35, 114, 113,  47,  35, 119,\n",
      "        114,  35, 118, 114, 112, 104,  35, 104, 123, 119, 104, 113, 119,  47,\n",
      "         35, 101, 124,  35, 119, 107, 104,  35, 102, 114, 112, 112, 108, 119,\n",
      "        119, 104, 104,  42,  35, 118,  35, 100, 112, 104, 113, 103, 112, 104,\n",
      "        113, 119, 118,  35, 100, 113, 103,  35, 119, 107, 114, 118, 104,  35,\n",
      "        119,   1]), tensor([ 87, 107, 104,  35, 119, 104, 123, 119,  35, 114, 120, 106, 107, 119,\n",
      "         47,  35, 119, 107, 104, 117, 104, 105, 114, 117, 104,  47,  35, 119,\n",
      "        114,  35, 101, 104,  35, 100, 103, 114, 115, 119, 104, 103,  35, 122,\n",
      "        108, 119, 107, 114, 120, 119,  35, 103, 104, 111, 100, 124,  35, 100,\n",
      "        113, 103,  35, 119, 117, 100, 113, 118, 115, 114, 118, 104, 103,  35,\n",
      "        101, 124,  35, 119, 107, 104,  35,  80, 104, 112, 101, 104, 117,  35,\n",
      "         86, 119, 100, 119, 104, 118,  49,   1,   0,   0,   0,   0,   0,   0,\n",
      "          0,   0,   0,   0,   0,   0,   0,   0,   0,   0,   0,   0,   0,   0,\n",
      "          0,   0,   0,   0,   0,   0,   0,   0,   0,   0,   0,   0,   0,   0,\n",
      "          0,   0]), tensor([ 76,  35, 117, 104, 106, 117, 104, 119,  35, 119, 107, 100, 119,  35,\n",
      "        119, 107, 104,  35, 103, 108, 118, 115, 120, 119, 104,  35, 108, 113,\n",
      "         35, 119, 107, 104,  35,  70, 114, 120, 113, 102, 108, 111,  35, 107,\n",
      "        100, 118,  35, 111, 104, 103,  35, 119, 114,  35, 119, 107, 108, 118,\n",
      "         35, 101, 104, 108, 113, 106,  35, 103, 104, 111, 100, 124, 104, 103,\n",
      "         35, 101, 124,  35, 112, 114, 117, 104,  35, 119, 107, 100, 113,  35,\n",
      "        100,  35, 103, 104, 102, 100, 103, 104,  49,   1,   0,   0,   0,   0,\n",
      "          0,   0,   0,   0,   0,   0,   0,   0,   0,   0,   0,   0,   0,   0,\n",
      "          0,   0,   0,   0,   0,   0,   0,   0,   0,   0,   0,   0,   0,   0,\n",
      "          0,   0]), tensor([ 76,  35, 122, 114, 120, 111, 103,  35, 115, 114, 108, 113, 119,  35,\n",
      "        114, 120, 119,  35, 119, 107, 100, 119,  35, 119, 107, 104,  35,  70,\n",
      "        114, 112, 112, 108, 118, 118, 108, 114, 113,  42,  35, 118,  35, 105,\n",
      "        108, 117, 118, 119,  35, 115, 117, 114, 115, 114, 118, 100, 111,  35,\n",
      "        122, 100, 118,  35, 115, 120, 101, 111, 108, 118, 107, 104, 103,  35,\n",
      "        100, 118,  35, 104, 100, 117, 111, 124,  35, 100, 118,  35,  52,  60,\n",
      "         59,  56,  35, 100, 113, 103,  35,  83, 100, 117, 111, 108, 100, 112,\n",
      "        104, 113, 119,  42,  35, 118,  35, 105, 108, 117, 118, 119,  35, 117,\n",
      "        104, 100, 103, 108, 113, 106,  35, 122, 100, 118,  35, 107, 104, 111,\n",
      "        103,   1]), tensor([ 87, 107, 104,  35, 117, 104, 100, 118, 114, 113,  35,  76,  35, 118,\n",
      "        119, 117, 104, 118, 118,  35, 119, 107, 108, 118,  35, 108, 118,  35,\n",
      "        101, 104, 102, 100, 120, 118, 104,  35, 122, 104,  35, 102, 114, 113,\n",
      "        118, 119, 100, 113, 119, 111, 124,  35, 103, 108, 118, 102, 120, 118,\n",
      "        118,  35, 119, 107, 104,  35, 101, 100, 111, 100, 113, 102, 104,  35,\n",
      "        101, 104, 119, 122, 104, 104, 113,  35, 119, 107, 104,  35,  72, 120,\n",
      "        117, 114, 115, 104, 100, 113,  35, 108, 113, 118, 119, 108, 119, 120,\n",
      "        119, 108, 114, 113, 118,  35, 108, 113,  35, 114, 120, 117,  35, 103,\n",
      "        104, 101, 100, 119, 104, 118,  35,  48,  35, 115, 100, 117, 119, 108,\n",
      "        102,   1]), tensor([ 87, 107, 108, 118,  35, 103, 114, 104, 118,  35, 113, 114, 119,  35,\n",
      "        109, 120, 118, 119,  35, 100, 115, 115, 111, 124,  35, 119, 114,  35,\n",
      "         83, 100, 117, 111, 108, 100, 112, 104, 113, 119,  47,  35, 122, 107,\n",
      "        108, 102, 107,  35, 108, 118,  35, 114, 105, 119, 104, 113,  35, 119,\n",
      "        107, 104,  35, 108, 112, 115, 117, 104, 118, 118, 108, 114, 113,  35,\n",
      "        106, 108, 121, 104, 113,  35, 108, 113,  35, 119, 107, 104,  35, 115,\n",
      "        120, 101, 111, 108, 102,  35, 100, 117, 104, 113, 100,  47,  35, 100,\n",
      "        111, 119, 107, 114, 120, 106, 107,  35, 122, 104,  35, 122, 114, 120,\n",
      "        111, 103,  47,  35, 114, 105,  35, 102, 114, 120, 117, 118, 104,  47,\n",
      "         35,   1]), tensor([ 69, 120, 119,  35, 119, 107, 108, 118,  35, 108, 118,  35, 113, 114,\n",
      "        119,  35, 100, 101, 114, 120, 119,  35, 100, 115, 115, 114, 117, 119,\n",
      "        108, 114, 113, 108, 113, 106,  35, 101, 111, 100, 112, 104,  49,   1,\n",
      "          0,   0,   0,   0,   0,   0,   0,   0,   0,   0,   0,   0,   0,   0,\n",
      "          0,   0,   0,   0,   0,   0,   0,   0,   0,   0,   0,   0,   0,   0,\n",
      "          0,   0,   0,   0,   0,   0,   0,   0,   0,   0,   0,   0,   0,   0,\n",
      "          0,   0,   0,   0,   0,   0,   0,   0,   0,   0,   0,   0,   0,   0,\n",
      "          0,   0,   0,   0,   0,   0,   0,   0,   0,   0,   0,   0,   0,   0,\n",
      "          0,   0,   0,   0,   0,   0,   0,   0,   0,   0,   0,   0,   0,   0,\n",
      "          0,   0]), tensor([ 75, 114, 122, 104, 121, 104, 117,  47,  35, 103, 114, 120, 101, 119,\n",
      "        111, 104, 118, 118,  35, 119, 107, 104,  35, 114, 115, 108, 113, 108,\n",
      "        114, 113,  48, 105, 114, 117, 112, 108, 113, 106,  35, 100, 113, 103,\n",
      "         35, 103, 104, 102, 108, 118, 108, 114, 113,  48, 112, 100, 110, 108,\n",
      "        113, 106,  35, 115, 117, 114, 102, 104, 118, 118,  35, 108, 113,  35,\n",
      "        119, 107, 104,  35,  72, 120, 117, 114, 115, 104, 100, 113,  35,  70,\n",
      "        114, 120, 113, 102, 108, 111,  35, 114, 105, 105, 104, 117, 118,  35,\n",
      "        119, 107, 104,  35, 101, 104, 118, 119,  35, 101, 104, 119,  35, 105,\n",
      "        114, 117,  35, 100, 102, 102, 104, 111, 104, 117, 100, 119, 108, 113,\n",
      "        106,   1]), tensor([ 87, 107, 100, 119,  35, 107, 100, 118,  35, 101, 104, 104, 113,  35,\n",
      "        112, 100, 103, 104,  35, 102, 117, 124, 118, 119, 100, 111,  35, 102,\n",
      "        111, 104, 100, 117,  35, 100, 106, 100, 108, 113,  35, 107, 104, 117,\n",
      "        104,  49,   1,   0,   0,   0,   0,   0,   0,   0,   0,   0,   0,   0,\n",
      "          0,   0,   0,   0,   0,   0,   0,   0,   0,   0,   0,   0,   0,   0,\n",
      "          0,   0,   0,   0,   0,   0,   0,   0,   0,   0,   0,   0,   0,   0,\n",
      "          0,   0,   0,   0,   0,   0,   0,   0,   0,   0,   0,   0,   0,   0,\n",
      "          0,   0,   0,   0,   0,   0,   0,   0,   0,   0,   0,   0,   0,   0,\n",
      "          0,   0,   0,   0,   0,   0,   0,   0,   0,   0,   0,   0,   0,   0,\n",
      "          0,   0]), tensor([ 87, 107, 104,  35,  70, 114, 112, 112, 108, 118, 118, 108, 114, 113,\n",
      "         35, 115, 117, 114, 115, 114, 118, 100, 111,  35, 108, 118,  35, 103,\n",
      "        104, 118, 108, 106, 113, 104, 103,  35, 119, 114,  35, 104, 113, 118,\n",
      "        120, 117, 104,  35, 119, 107, 100, 119,  35, 100,  35, 102, 117, 104,\n",
      "        103, 108, 119,  35, 108, 113, 118, 119, 108, 119, 120, 119, 108, 114,\n",
      "        113,  35, 100, 113, 103,  35, 108, 119, 118,  35, 101, 117, 100, 113,\n",
      "        102, 107,  35, 114, 105, 105, 108, 102, 104, 118,  35, 108, 113,  35,\n",
      "        114, 119, 107, 104, 117,  35,  80, 104, 112, 101, 104, 117,  35,  86,\n",
      "        119, 100, 119, 104, 118,  35, 102, 100, 113,  35, 101, 104,  35, 117,\n",
      "        104,   1]), tensor([ 87, 107, 100, 119,  35, 108, 118,  35, 106, 120, 100, 117, 100, 113,\n",
      "        119, 104, 104, 103,  35, 120, 113, 103, 104, 117,  35, 119, 107, 108,\n",
      "        118,  35, 115, 117, 114, 115, 114, 118, 104, 103,  35, 103, 108, 117,\n",
      "        104, 102, 119, 108, 121, 104,  49,   1,   0,   0,   0,   0,   0,   0,\n",
      "          0,   0,   0,   0,   0,   0,   0,   0,   0,   0,   0,   0,   0,   0,\n",
      "          0,   0,   0,   0,   0,   0,   0,   0,   0,   0,   0,   0,   0,   0,\n",
      "          0,   0,   0,   0,   0,   0,   0,   0,   0,   0,   0,   0,   0,   0,\n",
      "          0,   0,   0,   0,   0,   0,   0,   0,   0,   0,   0,   0,   0,   0,\n",
      "          0,   0,   0,   0,   0,   0,   0,   0,   0,   0,   0,   0,   0,   0,\n",
      "          0,   0]), tensor([ 80, 117,  35,  83, 117, 104, 118, 108, 103, 104, 113, 119,  47,  35,\n",
      "        119, 107, 104,  35, 112, 100, 117, 110, 104, 119,  35, 100, 113, 103,\n",
      "         35, 113, 100, 119, 108, 114, 113, 100, 111,  35, 100, 120, 119, 107,\n",
      "        114, 117, 108, 119, 108, 104, 118,  35, 107, 100, 121, 104,  35, 101,\n",
      "        104, 104, 113,  35, 111, 114, 114, 110, 108, 113, 106,  35, 105, 114,\n",
      "        117, 122, 100, 117, 103,  35, 119, 114,  35, 119, 107, 104,  35, 103,\n",
      "        108, 117, 104, 102, 119, 108, 121, 104,  35, 114, 113,  35, 119, 107,\n",
      "        104,  35, 117, 104, 114, 117, 106, 100, 113, 108, 118, 100, 119, 108,\n",
      "        114, 113,  35, 100, 113, 103,  35, 119, 107, 104,  35, 122, 108, 113,\n",
      "        103,   1]), tensor([ 87, 107, 108, 118,  35, 103, 108, 117, 104, 102, 119, 108, 121, 104,\n",
      "         47,  35, 108, 113,  35, 105, 100, 102, 119,  47,  35, 100, 108, 112,\n",
      "        118,  35, 119, 114,  35, 115, 117, 114, 121, 108, 103, 104,  35, 100,\n",
      "         35, 106, 120, 100, 117, 100, 113, 119, 104, 104,  35, 122, 108, 119,\n",
      "        107,  35, 117, 104, 106, 100, 117, 103,  35, 119, 114,  35, 119, 107,\n",
      "        104,  35, 117, 104, 106, 120, 111, 100, 119, 108, 114, 113, 118,  35,\n",
      "        122, 107, 108, 102, 107,  47,  35, 108, 113,  35, 100, 113,  35, 114,\n",
      "        117, 106, 100, 113, 108, 102,  35, 112, 100, 113, 113, 104, 117,  35,\n",
      "        100, 113, 103,  35, 108, 113,  35, 100,  35, 122, 100, 124,  35, 122,\n",
      "        107,   1]), tensor([ 87, 107, 108, 118,  35, 103, 108, 117, 104, 102, 119, 108, 121, 104,\n",
      "         35, 118, 115, 104, 100, 117, 107, 104, 100, 103, 118,  35, 119, 107,\n",
      "        104,  35, 100, 102, 119, 108, 114, 113,  35, 115, 111, 100, 113,  35,\n",
      "        105, 114, 117,  35, 105, 108, 113, 100, 113, 102, 108, 100, 111,  35,\n",
      "        118, 104, 117, 121, 108, 102, 104, 118,  49,   1,   0,   0,   0,   0,\n",
      "          0,   0,   0,   0,   0,   0,   0,   0,   0,   0,   0,   0,   0,   0,\n",
      "          0,   0,   0,   0,   0,   0,   0,   0,   0,   0,   0,   0,   0,   0,\n",
      "          0,   0,   0,   0,   0,   0,   0,   0,   0,   0,   0,   0,   0,   0,\n",
      "          0,   0,   0,   0,   0,   0,   0,   0,   0,   0,   0,   0,   0,   0,\n",
      "          0,   0]), tensor([ 76, 113,  35, 108, 119, 118,  35, 102, 114, 112, 112, 114, 113,  35,\n",
      "        115, 114, 118, 108, 119, 108, 114, 113,  47,  35, 104, 118, 119, 100,\n",
      "        101, 111, 108, 118, 107, 104, 103,  35, 101, 124,  35, 116, 120, 100,\n",
      "        111, 108, 105, 108, 104, 103,  35, 112, 100, 109, 114, 117, 108, 119,\n",
      "        124,  47,  35, 119, 107, 104,  35,  70, 114, 120, 113, 102, 108, 111,\n",
      "         35, 103, 108, 118, 115, 111, 100, 124, 104, 103,  35, 100,  35, 103,\n",
      "        108, 118, 102, 104, 117, 113, 108, 113, 106,  35, 100, 113, 103,  35,\n",
      "        110, 104, 104, 113,  35, 108, 113, 118, 108, 106, 107, 119,  35, 108,\n",
      "        113, 119, 114,  35, 119, 107, 104,  35, 118, 115, 104, 102, 108, 105,\n",
      "        108,   1]), tensor([ 87, 107, 108, 118,  35, 108, 118,  35, 122, 107, 124,  35,  68, 117,\n",
      "        119, 108, 102, 111, 104,  35,  53,  51,  35, 114, 105,  35, 119, 107,\n",
      "        104,  35, 102, 114, 112, 112, 114, 113,  35, 115, 114, 118, 108, 119,\n",
      "        108, 114, 113,  35, 106, 117, 100, 113, 119, 118,  35, 119, 107, 104,\n",
      "         35, 101, 100, 113, 110, 108, 113, 106,  35, 118, 104, 102, 119, 114,\n",
      "        117,  35, 118, 115, 104, 102, 108, 100, 111,  35, 119, 117, 104, 100,\n",
      "        119, 112, 104, 113, 119,  35, 114, 113,  35, 100,  35, 113, 120, 112,\n",
      "        101, 104, 117,  35, 114, 105,  35, 118, 102, 114, 117, 104, 118,  49,\n",
      "          1,   0,   0,   0,   0,   0,   0,   0,   0,   0,   0,   0,   0,   0,\n",
      "          0,   0]), tensor([ 87, 107, 108, 118,  35, 118, 115, 104, 102, 108, 100, 111,  35, 119,\n",
      "        117, 104, 100, 119, 112, 104, 113, 119,  35, 103, 114, 104, 118,  35,\n",
      "        113, 114, 119,  35, 108, 113,  35, 100, 113, 124,  35, 122, 100, 124,\n",
      "         35, 115, 117, 104, 109, 120, 103, 108, 102, 104,  35, 119, 107, 104,\n",
      "         35, 107, 100, 117, 112, 114, 113, 124,  35, 100, 113, 103,  35, 111,\n",
      "        114, 106, 108, 102,  35, 114, 105,  35, 100,  35, 118, 104, 119,  35,\n",
      "        114, 105,  35, 117, 120, 111, 104, 118,  35, 105, 114, 117,  35, 119,\n",
      "        107, 104,  35, 105, 108, 113, 100, 113, 102, 108, 100, 111,  35, 118,\n",
      "        104, 117, 121, 108, 102, 104, 118,  35, 100, 118,  35, 100,  35, 122,\n",
      "        107,   1]), tensor([ 84, 120, 108, 119, 104,  35, 119, 107, 104,  35, 117, 104, 121, 104,\n",
      "        117, 118, 104,  47,  35, 108, 113,  35, 105, 100, 102, 119,  62,  35,\n",
      "        108, 119,  35, 103, 114, 104, 118,  35, 109, 120, 118, 119, 108, 102,\n",
      "        104,  35, 119, 114,  35, 119, 107, 104,  35, 118, 115, 104, 102, 108,\n",
      "        105, 108, 102,  35, 102, 107, 100, 117, 100, 102, 119, 104, 117, 108,\n",
      "        118, 119, 108, 102, 118,  35, 114, 105,  35, 101, 100, 113, 110, 108,\n",
      "        113, 106,  47,  35, 119, 107, 120, 118,  35, 106, 108, 121, 108, 113,\n",
      "        106,  35, 100,  35, 101, 104, 119, 119, 104, 117,  35, 106, 120, 100,\n",
      "        117, 100, 113, 119, 104, 104,  35, 105, 114, 117,  35, 118, 119, 100,\n",
      "        101,   1]), tensor([ 87, 107, 104,  35, 117, 104, 115, 114, 117, 119,  35, 101, 124,  35,\n",
      "         80, 117, 118,  35,  83, 104, 108, 109, 118,  47,  35, 114, 113,  35,\n",
      "        122, 107, 108, 102, 107,  35,  76,  35, 122, 114, 120, 111, 103,  35,\n",
      "        111, 108, 110, 104,  35, 119, 114,  35, 102, 114, 113, 106, 117, 100,\n",
      "        119, 120, 111, 100, 119, 104,  35, 107, 104, 117,  35, 114, 113,  35,\n",
      "        101, 104, 107, 100, 111, 105,  35, 114, 105,  35, 119, 107, 104,  35,\n",
      "         70, 114, 112, 112, 108, 118, 118, 108, 114, 113,  47,  35, 100, 113,\n",
      "        103,  35, 108, 113,  35, 117, 104, 118, 115, 104, 102, 119,  35, 114,\n",
      "        105,  35, 122, 107, 108, 102, 107,  35,  76,  35, 122, 114, 120, 111,\n",
      "        103,   1]), tensor([ 87, 107, 104,  35,  70, 114, 112, 112, 108, 118, 118, 108, 114, 113,\n",
      "         35, 102, 100, 113,  35, 100, 115, 115, 117, 114, 121, 104,  35, 119,\n",
      "        107, 104,  35, 115, 120, 117, 115, 114, 117, 119,  35, 114, 105,  35,\n",
      "        119, 107, 104, 118, 104,  35, 100, 112, 104, 113, 103, 112, 104, 113,\n",
      "        119, 118,  47,  35, 101, 100, 117, 117, 108, 113, 106,  35, 114, 113,\n",
      "        104,  49,   1,   0,   0,   0,   0,   0,   0,   0,   0,   0,   0,   0,\n",
      "          0,   0,   0,   0,   0,   0,   0,   0,   0,   0,   0,   0,   0,   0,\n",
      "          0,   0,   0,   0,   0,   0,   0,   0,   0,   0,   0,   0,   0,   0,\n",
      "          0,   0,   0,   0,   0,   0,   0,   0,   0,   0,   0,   0,   0,   0,\n",
      "          0,   0]), tensor([ 76, 119,  35, 114, 101, 109, 104, 102, 119, 118,  47,  35, 100, 119,\n",
      "         35, 111, 104, 100, 118, 119,  35, 108, 113,  35, 115, 117, 108, 113,\n",
      "        102, 108, 115, 111, 104,  47,  35, 119, 114,  35,  68, 112, 104, 113,\n",
      "        103, 112, 104, 113, 119,  35,  81, 114,  35,  52,  35, 122, 108, 119,\n",
      "        107,  35, 117, 104, 106, 100, 117, 103,  35, 119, 114,  35, 117, 104,\n",
      "        115, 120, 117, 102, 107, 100, 118, 104,  35, 100, 106, 117, 104, 104,\n",
      "        112, 104, 113, 119, 118,  49,   1,   0,   0,   0,   0,   0,   0,   0,\n",
      "          0,   0,   0,   0,   0,   0,   0,   0,   0,   0,   0,   0,   0,   0,\n",
      "          0,   0,   0,   0,   0,   0,   0,   0,   0,   0,   0,   0,   0,   0,\n",
      "          0,   0]), tensor([ 68, 105, 119, 104, 117,  35, 100, 111, 111,  47,  35, 108, 119,  35,\n",
      "        108, 118,  35, 114, 105,  35, 110, 104, 124,  35, 108, 112, 115, 114,\n",
      "        117, 119, 100, 113, 102, 104,  35, 119, 107, 100, 119,  35, 119, 107,\n",
      "        104,  35, 101, 100, 113, 110, 118,  35, 110, 113, 114, 122,  35, 108,\n",
      "        113,  35, 100, 103, 121, 100, 113, 102, 104,  35, 122, 107, 100, 119,\n",
      "         35, 111, 104, 106, 108, 118, 111, 100, 119, 108, 114, 113,  35, 122,\n",
      "        108, 111, 111,  35, 106, 114, 121, 104, 117, 113,  35, 117, 104, 115,\n",
      "        120, 117, 102, 107, 100, 118, 104,  35, 100, 106, 117, 104, 104, 112,\n",
      "        104, 113, 119, 118,  49,   1,   0,   0,   0,   0,   0,   0,   0,   0,\n",
      "          0,   0]), tensor([ 68, 118,  35, 108, 119,  35, 107, 100, 115, 115, 104, 113, 118,  47,\n",
      "         35,  80, 117, 118,  35,  83, 104, 108, 109, 118,  47,  35, 114, 113,\n",
      "         35, 101, 104, 107, 100, 111, 105,  35, 114, 105,  35, 119, 107, 104,\n",
      "         35,  83,  83,  72,  48,  71,  72,  35,  74, 117, 114, 120, 115,  47,\n",
      "         35, 107, 100, 118,  35, 119, 100, 101, 111, 104, 103,  35, 105, 108,\n",
      "        121, 104,  35, 113, 104, 122,  35, 100, 112, 104, 113, 103, 112, 104,\n",
      "        113, 119, 118,  49,   1,   0,   0,   0,   0,   0,   0,   0,   0,   0,\n",
      "          0,   0,   0,   0,   0,   0,   0,   0,   0,   0,   0,   0,   0,   0,\n",
      "          0,   0,   0,   0,   0,   0,   0,   0,   0,   0,   0,   0,   0,   0,\n",
      "          0,   0]), tensor([ 87, 107, 104, 118, 104,  35, 100, 112, 104, 113, 103, 112, 104, 113,\n",
      "        119, 118,  35, 103, 117, 100, 122,  35, 119, 107, 104,  35, 100, 112,\n",
      "        104, 113, 103, 112, 104, 113, 119, 118,  35, 100, 103, 114, 115, 119,\n",
      "        104, 103,  35, 101, 124,  35, 119, 107, 104,  35,  72, 102, 114, 113,\n",
      "        114, 112, 108, 102,  35, 100, 113, 103,  35,  80, 114, 113, 104, 119,\n",
      "        100, 117, 124,  35,  70, 114, 112, 112, 108, 118, 118, 108, 114, 113,\n",
      "         35, 119, 114, 106, 104, 119, 107, 104, 117,  35, 108, 113,  35, 100,\n",
      "         35, 102, 114, 107, 104, 117, 104, 113, 119,  35, 112, 100, 113, 113,\n",
      "        104, 117,  35, 122, 107, 108, 102, 107,  35, 103, 114, 104, 118,  35,\n",
      "        109,   1]), tensor([ 88, 113, 103, 104, 117,  35, 100,  35, 103, 108, 105, 105, 104, 117,\n",
      "        104, 113, 119,  35, 106, 120, 108, 118, 104,  47,  35, 119, 107, 104,\n",
      "         35, 113, 104, 122,  35, 100, 112, 104, 113, 103, 112, 104, 113, 119,\n",
      "        118,  35, 119, 100, 110, 104,  35, 108, 113, 119, 114,  35, 102, 114,\n",
      "        113, 118, 108, 103, 104, 117, 100, 119, 108, 114, 113,  35, 119, 107,\n",
      "        104,  35, 118, 115, 104, 102, 108, 105, 108, 102,  35, 117, 104, 116,\n",
      "        120, 108, 117, 104, 112, 104, 113, 119, 118,  35, 122, 107, 108, 102,\n",
      "        107,  35, 100, 117, 104,  35, 115, 117, 104, 118, 102, 117, 108, 101,\n",
      "        104, 103,  35, 108, 113,  35, 119, 107, 104,  35, 101, 100, 113, 110,\n",
      "        108,   1]), tensor([ 87, 107, 104,  35,  70, 114, 112, 112, 108, 118, 118, 108, 114, 113,\n",
      "         35, 102, 100, 113,  35, 106, 114,  35, 100, 111, 114, 113, 106,  35,\n",
      "        122, 108, 119, 107,  35, 119, 107, 104,  35, 118, 115, 108, 117, 108,\n",
      "        119,  35, 114, 105,  35, 119, 107, 104, 118, 104,  35, 100, 112, 104,\n",
      "        113, 103, 112, 104, 113, 119, 118,  47,  35, 100, 118,  35, 108, 118,\n",
      "         35, 100, 115, 115, 100, 117, 104, 113, 119,  35, 108, 113,  35, 108,\n",
      "        119, 118,  35, 104, 123, 115, 111, 100, 113, 100, 119, 114, 117, 124,\n",
      "         35, 118, 119, 100, 119, 104, 112, 104, 113, 119,  49,   1,   0,   0,\n",
      "          0,   0,   0,   0,   0,   0,   0,   0,   0,   0,   0,   0,   0,   0,\n",
      "          0,   0]), tensor([ 76, 105,  35, 119, 107, 104,  35, 105, 108, 121, 104,  35, 113, 104,\n",
      "        122,  35, 100, 112, 104, 113, 103, 112, 104, 113, 119, 118,  35, 100,\n",
      "        117, 104,  35, 100, 103, 114, 115, 119, 104, 103,  35, 101, 124,  35,\n",
      "        119, 107, 108, 118,  35,  83, 100, 117, 111, 108, 100, 112, 104, 113,\n",
      "        119,  47,  35, 119, 107, 104,  35,  70, 114, 112, 112, 108, 118, 118,\n",
      "        108, 114, 113,  35, 102, 100, 113,  35, 100, 118, 118, 104, 113, 119,\n",
      "         35, 119, 114,  35, 119, 107, 104,  35, 118, 115, 108, 117, 108, 119,\n",
      "         35, 114, 105,  35, 100, 111, 111,  35, 100, 112, 104, 113, 103, 112,\n",
      "        104, 113, 119, 118,  35, 115, 117, 114, 115, 114, 118, 104, 103,  35,\n",
      "        108,   1]), tensor([ 75, 114, 122, 104, 121, 104, 117,  47,  35, 119, 107, 104,  35, 122,\n",
      "        114, 117, 103, 108, 113, 106,  35, 114, 105,  35, 100, 111, 111,  35,\n",
      "        100, 112, 104, 113, 103, 112, 104, 113, 119, 118,  35,  48,  35, 100,\n",
      "        113, 103,  35,  76,  35, 100, 112,  35, 100, 111, 118, 114,  35, 112,\n",
      "        100, 110, 108, 113, 106,  35, 119, 107, 108, 118,  35, 115, 114, 108,\n",
      "        113, 119,  35, 108, 113,  35, 117, 104, 118, 115, 114, 113, 118, 104,\n",
      "         35, 119, 114,  35, 102, 114, 112, 112, 104, 113, 119, 118,  35, 112,\n",
      "        100, 103, 104,  35, 101, 124,  35,  80, 117, 118,  35,  89, 108, 111,\n",
      "        111, 108, 104, 117, 118,  35,  48,  35, 122, 114, 120, 111, 103,  35,\n",
      "        119,   1]), tensor([ 87, 107, 104,  35, 103, 104, 101, 100, 119, 104,  35, 108, 118,  35,\n",
      "        102, 111, 114, 118, 104, 103,  49,   1,   0,   0,   0,   0,   0,   0,\n",
      "          0,   0,   0,   0,   0,   0,   0,   0,   0,   0,   0,   0,   0,   0,\n",
      "          0,   0,   0,   0,   0,   0,   0,   0,   0,   0,   0,   0,   0,   0,\n",
      "          0,   0,   0,   0,   0,   0,   0,   0,   0,   0,   0,   0,   0,   0,\n",
      "          0,   0,   0,   0,   0,   0,   0,   0,   0,   0,   0,   0,   0,   0,\n",
      "          0,   0,   0,   0,   0,   0,   0,   0,   0,   0,   0,   0,   0,   0,\n",
      "          0,   0,   0,   0,   0,   0,   0,   0,   0,   0,   0,   0,   0,   0,\n",
      "          0,   0,   0,   0,   0,   0,   0,   0,   0,   0,   0,   0,   0,   0,\n",
      "          0,   0]), tensor([ 87, 107, 104,  35, 121, 114, 119, 104,  35, 122, 108, 111, 111,  35,\n",
      "        101, 104,  35, 119, 100, 110, 104, 113,  35, 119, 114, 112, 114, 117,\n",
      "        117, 114, 122,  35, 100, 119,  35,  52,  53,  35, 113, 114, 114, 113,\n",
      "         49,   1,   0,   0,   0,   0,   0,   0,   0,   0,   0,   0,   0,   0,\n",
      "          0,   0,   0,   0,   0,   0,   0,   0,   0,   0,   0,   0,   0,   0,\n",
      "          0,   0,   0,   0,   0,   0,   0,   0,   0,   0,   0,   0,   0,   0,\n",
      "          0,   0,   0,   0,   0,   0,   0,   0,   0,   0,   0,   0,   0,   0,\n",
      "          0,   0,   0,   0,   0,   0,   0,   0,   0,   0,   0,   0,   0,   0,\n",
      "          0,   0,   0,   0,   0,   0,   0,   0,   0,   0,   0,   0,   0,   0,\n",
      "          0,   0]), tensor([ 86, 108, 112, 115, 111, 104, 117,  35, 111, 104, 106, 108, 118, 111,\n",
      "        100, 119, 108, 114, 113,  35, 105, 114, 117,  35, 119, 107, 104,  35,\n",
      "        108, 113, 119, 104, 117, 113, 100, 111,  35, 112, 100, 117, 110, 104,\n",
      "        119,  35,  43,  86,  79,  76,  80,  44,   1,   0,   0,   0,   0,   0,\n",
      "          0,   0,   0,   0,   0,   0,   0,   0,   0,   0,   0,   0,   0,   0,\n",
      "          0,   0,   0,   0,   0,   0,   0,   0,   0,   0,   0,   0,   0,   0,\n",
      "          0,   0,   0,   0,   0,   0,   0,   0,   0,   0,   0,   0,   0,   0,\n",
      "          0,   0,   0,   0,   0,   0,   0,   0,   0,   0,   0,   0,   0,   0,\n",
      "          0,   0,   0,   0,   0,   0,   0,   0,   0,   0,   0,   0,   0,   0,\n",
      "          0,   0]), tensor([ 87, 107, 104,  35, 113, 104, 123, 119,  35, 108, 119, 104, 112,  35,\n",
      "        108, 118,  35, 119, 107, 104,  35, 117, 104, 115, 114, 117, 119,  35,\n",
      "        101, 124,  35,  80, 117,  35,  71, 114, 114, 117, 113,  35, 114, 113,\n",
      "         35, 101, 104, 107, 100, 111, 105,  35, 114, 105,  35, 119, 107, 104,\n",
      "         35,  70, 114, 112, 112, 108, 119, 119, 104, 104,  35, 114, 113,  35,\n",
      "         79, 104, 106, 100, 111,  35,  68, 105, 105, 100, 108, 117, 118,  35,\n",
      "        100, 113, 103,  35, 119, 107, 104,  35,  76, 113, 119, 104, 117, 113,\n",
      "        100, 111,  35,  80, 100, 117, 110, 104, 119,  35, 114, 113,  35, 119,\n",
      "        107, 104,  35, 102, 114, 112, 112, 120, 113, 108, 102, 100, 119, 108,\n",
      "        114,   1]), tensor([ 80, 117,  35,  83, 117, 104, 118, 108, 103, 104, 113, 119,  47,  35,\n",
      "        117, 104, 103,  35, 119, 100, 115, 104,  35, 122, 108, 119, 107, 108,\n",
      "        113,  35,  71, 120, 119, 102, 107,  35, 108, 113, 103, 120, 118, 119,\n",
      "        117, 124,  35, 100, 112, 114, 120, 113, 119, 118,  35, 119, 114,  35,\n",
      "        113, 104, 100, 117,  35, 104, 113, 114, 120, 106, 107,  35,  72,  88,\n",
      "         85,  35,  60,  35, 101, 108, 111, 111, 108, 114, 113,  35, 115, 104,\n",
      "        117,  35, 100, 113, 113, 120, 112,  49,  35,  87, 107, 108, 118,  35,\n",
      "        122, 100, 118,  35, 117, 104, 121, 104, 100, 111, 104, 103,  35, 108,\n",
      "        113,  35, 119, 107, 104,  35,  81, 104, 119, 107, 104, 117, 111, 100,\n",
      "        113,   1]), tensor([ 87, 107, 104,  35, 100, 121, 104, 117, 100, 106, 104,  35, 104, 113,\n",
      "        119, 117, 104, 115, 117, 104, 113, 104, 120, 117,  35, 118, 115, 104,\n",
      "        113, 103, 118,  35, 100, 115, 115, 117, 114, 123, 108, 112, 100, 119,\n",
      "        104, 111, 124,  35, 119, 104, 113,  35, 107, 114, 120, 117, 118,  35,\n",
      "        114, 113,  35, 102, 114, 112, 115, 111, 104, 119, 108, 113, 106,  35,\n",
      "        100, 103, 112, 108, 113, 108, 118, 119, 117, 100, 119, 108, 121, 104,\n",
      "         35, 119, 100, 118, 110, 118,  35, 100, 113, 103,  35, 105, 114, 117,\n",
      "        112, 118,  49,   1,   0,   0,   0,   0,   0,   0,   0,   0,   0,   0,\n",
      "          0,   0,   0,   0,   0,   0,   0,   0,   0,   0,   0,   0,   0,   0,\n",
      "          0,   0]), tensor([ 87, 107, 104,  35,  81, 104, 119, 107, 104, 117, 111, 100, 113, 103,\n",
      "        118,  47,  35, 100, 118,  35, 105, 100, 117,  35, 100, 118,  35, 119,\n",
      "        107, 108, 118,  35, 108, 118,  35, 102, 114, 113, 102, 104, 117, 113,\n",
      "        104, 103,  47,  35, 108, 118,  35, 113, 114,  35, 104, 123, 102, 104,\n",
      "        115, 119, 108, 114, 113,  49,   1,   0,   0,   0,   0,   0,   0,   0,\n",
      "          0,   0,   0,   0,   0,   0,   0,   0,   0,   0,   0,   0,   0,   0,\n",
      "          0,   0,   0,   0,   0,   0,   0,   0,   0,   0,   0,   0,   0,   0,\n",
      "          0,   0,   0,   0,   0,   0,   0,   0,   0,   0,   0,   0,   0,   0,\n",
      "          0,   0,   0,   0,   0,   0,   0,   0,   0,   0,   0,   0,   0,   0,\n",
      "          0,   0]), tensor([ 85, 104, 118, 104, 100, 117, 102, 107,  35, 107, 100, 118,  35, 118,\n",
      "        107, 114, 122, 113,  35, 119, 107, 100, 119,  35, 120, 113, 113, 104,\n",
      "        102, 104, 118, 118, 100, 117, 124,  35, 101, 120, 117, 104, 100, 120,\n",
      "        102, 117, 100, 119, 108, 102,  35, 115, 117, 114, 102, 104, 103, 120,\n",
      "        117, 104, 118,  35, 122, 108, 119, 107, 108, 113,  35, 102, 114, 112,\n",
      "        115, 100, 113, 108, 104, 118,  35, 100, 102, 102, 114, 120, 113, 119,\n",
      "         35, 105, 114, 117,  35,  55,  35, 119, 114,  35,  57,  35, 115, 104,\n",
      "        117,  35, 102, 104, 113, 119,  35, 114, 105,  35, 119, 107, 104,  35,\n",
      "         74,  81,  83,  35, 114, 105,  35,  72,  88,  35,  80, 104, 112, 101,\n",
      "        104,   1]), tensor([ 87, 107, 108, 118,  35, 108, 118,  35, 100,  35, 107, 104, 100, 121,\n",
      "        124,  35, 101, 120, 117, 103, 104, 113,  47,  35, 122, 107, 108, 102,\n",
      "        107,  35, 107, 108, 119, 118,  35, 118, 112, 100, 111, 111,  35, 102,\n",
      "        114, 112, 115, 100, 113, 108, 104, 118,  35, 115, 100, 117, 119, 108,\n",
      "        102, 120, 111, 100, 117, 111, 124,  35, 107, 100, 117, 103,  49,   1,\n",
      "          0,   0,   0,   0,   0,   0,   0,   0,   0,   0,   0,   0,   0,   0,\n",
      "          0,   0,   0,   0,   0,   0,   0,   0,   0,   0,   0,   0,   0,   0,\n",
      "          0,   0,   0,   0,   0,   0,   0,   0,   0,   0,   0,   0,   0,   0,\n",
      "          0,   0,   0,   0,   0,   0,   0,   0,   0,   0,   0,   0,   0,   0,\n",
      "          0,   0]), tensor([ 76,  35, 110, 113, 114, 122,  35, 114, 105,  35, 104, 113, 119, 117,\n",
      "        104, 115, 117, 104, 113, 104, 120, 117, 118,  35, 122, 107, 114,  35,\n",
      "        107, 100, 121, 104,  35, 116, 120, 108, 119, 104,  35, 102, 114, 113,\n",
      "        118, 102, 108, 114, 120, 118, 111, 124,  35, 103, 104, 102, 108, 103,\n",
      "        104, 103,  35, 100, 106, 100, 108, 113, 118, 119,  35, 105, 120, 117,\n",
      "        119, 107, 104, 117,  35, 104, 123, 115, 100, 113, 118, 108, 114, 113,\n",
      "         35, 114, 105,  35, 119, 107, 104, 108, 117,  35, 101, 120, 118, 108,\n",
      "        113, 104, 118, 118, 104, 118,  35, 101, 104, 102, 100, 120, 118, 104,\n",
      "         35, 119, 107, 104, 124,  35, 122, 100, 113, 119,  35, 119, 114,  35,\n",
      "        100,   1]), tensor([ 80, 100, 113, 124,  35, 100, 117, 104,  35, 103, 104, 119, 104, 117,\n",
      "        117, 104, 103,  35, 101, 124,  35, 119, 107, 104,  35, 100, 103, 112,\n",
      "        108, 113, 108, 118, 119, 117, 100, 119, 108, 121, 104,  35, 117, 104,\n",
      "        103,  35, 119, 100, 115, 104,  35, 108, 113, 121, 114, 111, 121, 104,\n",
      "        103,  49,   1,   0,   0,   0,   0,   0,   0,   0,   0,   0,   0,   0,\n",
      "          0,   0,   0,   0,   0,   0,   0,   0,   0,   0,   0,   0,   0,   0,\n",
      "          0,   0,   0,   0,   0,   0,   0,   0,   0,   0,   0,   0,   0,   0,\n",
      "          0,   0,   0,   0,   0,   0,   0,   0,   0,   0,   0,   0,   0,   0,\n",
      "          0,   0,   0,   0,   0,   0,   0,   0,   0,   0,   0,   0,   0,   0,\n",
      "          0,   0]), tensor([ 76, 113,  35, 119, 107, 108, 118,  35, 122, 100, 124,  47,  35, 119,\n",
      "        107, 104,  35, 112, 100, 113, 124,  35, 114, 101, 111, 108, 106, 100,\n",
      "        119, 108, 114, 113, 118,  35, 108, 112, 115, 114, 118, 104, 103,  35,\n",
      "        101, 124,  35, 106, 114, 121, 104, 117, 113, 112, 104, 113, 119, 118,\n",
      "         35, 114, 113,  35, 104, 113, 119, 117, 104, 115, 117, 104, 113, 104,\n",
      "        120, 117, 118,  35, 107, 108, 113, 103, 104, 117,  35, 119, 107, 104,\n",
      "         35, 106, 117, 114, 122, 119, 107,  35, 114, 105,  35, 115, 117, 114,\n",
      "        103, 120, 102, 119, 108, 114, 113,  35, 100, 113, 103,  35, 104, 112,\n",
      "        115, 111, 114, 124, 112, 104, 113, 119,  49,   1,   0,   0,   0,   0,\n",
      "          0,   0]), tensor([ 86, 114, 112, 104,  35, 114, 105,  35, 119, 107, 104,  35, 119, 108,\n",
      "        112, 104,  47,  35, 108, 119,  35, 108, 118,  35, 113, 114, 119,  35,\n",
      "        104, 121, 104, 113,  35, 119, 107, 104,  35, 111, 104, 106, 108, 118,\n",
      "        111, 100, 119, 108, 114, 113,  35, 122, 107, 108, 102, 107,  35, 108,\n",
      "        118,  35, 122, 117, 114, 113, 106,  35, 114, 117,  35, 108, 113, 104,\n",
      "        105, 105, 104, 102, 119, 108, 121, 104,  47,  35, 101, 120, 119,  35,\n",
      "        108, 119,  35, 108, 118,  35, 114, 105, 119, 104, 113,  35, 119, 107,\n",
      "        104,  35, 100, 102, 102, 120, 112, 120, 111, 100, 119, 108, 114, 113,\n",
      "         35, 114, 105,  35, 114, 101, 111, 108, 106, 100, 119, 108, 114, 113,\n",
      "        118,   1]), tensor([ 87, 107, 108, 118,  35, 117, 104, 112, 108, 113, 103, 118,  35, 112,\n",
      "        104,  35, 114, 105,  35, 100,  35, 117, 104, 115, 114, 117, 119,  35,\n",
      "        122, 104,  35, 103, 108, 118, 102, 120, 118, 118, 104, 103,  35, 111,\n",
      "        100, 118, 119,  35, 124, 104, 100, 117,  35, 122, 107, 108, 102, 107,\n",
      "         35, 117, 104, 111, 100, 119, 104, 103,  35, 119, 114,  35, 119, 107,\n",
      "        104,  35, 122, 114, 117, 110, 108, 113, 106,  35, 102, 114, 113, 103,\n",
      "        108, 119, 108, 114, 113, 118,  35, 114, 113,  35, 102, 114, 113, 118,\n",
      "        119, 117, 120, 102, 119, 108, 114, 113,  35, 118, 108, 119, 104, 118,\n",
      "         49,   1,   0,   0,   0,   0,   0,   0,   0,   0,   0,   0,   0,   0,\n",
      "          0,   0]), tensor([ 82, 113, 104,  35, 114, 105,  35, 119, 107, 104,  35, 115, 117, 114,\n",
      "        107, 108, 101, 108, 119, 108, 114, 113, 118,  35, 108, 113,  35, 119,\n",
      "        107, 100, 119,  35, 117, 104, 115, 114, 117, 119,  47,  35, 119, 107,\n",
      "        100, 113, 110, 118,  35, 119, 114,  35, 100, 113,  35, 100, 112, 104,\n",
      "        113, 103, 112, 104, 113, 119,  35, 108, 113,  35,  83, 100, 117, 111,\n",
      "        108, 100, 112, 104, 113, 119,  47,  35, 115, 104, 117, 119, 100, 108,\n",
      "        113, 118,  35, 119, 114,  35, 107, 114, 111, 103, 108, 113, 106,  35,\n",
      "        100,  35, 111, 100, 103, 103, 104, 117,  35, 122, 107, 108, 111, 104,\n",
      "         35, 118, 114, 112, 104, 114, 113, 104,  35, 108, 118,  35, 118, 119,\n",
      "        100,   1]), tensor([ 84, 120, 108, 119, 104,  35, 100, 115, 100, 117, 119,  35, 105, 117,\n",
      "        114, 112,  35, 119, 107, 104,  35, 100, 101, 118, 120, 117, 103, 108,\n",
      "        119, 124,  35, 114, 105,  35, 118, 120, 102, 107,  35, 115, 117, 114,\n",
      "        121, 108, 118, 108, 114, 113, 118,  47,  35, 114, 113, 104,  35, 122,\n",
      "        114, 113, 103, 104, 117, 118,  35, 122, 107, 114,  35, 118, 120, 101,\n",
      "        118, 104, 116, 120, 104, 113, 119, 111, 124,  35, 112, 114, 113, 108,\n",
      "        119, 114, 117, 118,  35, 102, 114, 112, 115, 111, 108, 100, 113, 102,\n",
      "        104,  35, 122, 108, 119, 107,  35, 119, 107, 108, 118,  35, 110, 108,\n",
      "        113, 103,  35, 114, 105,  35, 111, 104, 106, 108, 118, 111, 100, 119,\n",
      "        108,   1]), tensor([ 85, 104, 118, 120, 112, 115, 119, 108, 114, 113,  35, 114, 105,  35,\n",
      "        119, 107, 104,  35, 118, 104, 118, 118, 108, 114, 113,   1,   0,   0,\n",
      "          0,   0,   0,   0,   0,   0,   0,   0,   0,   0,   0,   0,   0,   0,\n",
      "          0,   0,   0,   0,   0,   0,   0,   0,   0,   0,   0,   0,   0,   0,\n",
      "          0,   0,   0,   0,   0,   0,   0,   0,   0,   0,   0,   0,   0,   0,\n",
      "          0,   0,   0,   0,   0,   0,   0,   0,   0,   0,   0,   0,   0,   0,\n",
      "          0,   0,   0,   0,   0,   0,   0,   0,   0,   0,   0,   0,   0,   0,\n",
      "          0,   0,   0,   0,   0,   0,   0,   0,   0,   0,   0,   0,   0,   0,\n",
      "          0,   0,   0,   0,   0,   0,   0,   0,   0,   0,   0,   0,   0,   0,\n",
      "          0,   0]), tensor([ 76,  35, 103, 104, 102, 111, 100, 117, 104,  35, 117, 104, 118, 120,\n",
      "        112, 104, 103,  35, 119, 107, 104,  35, 118, 104, 118, 118, 108, 114,\n",
      "        113,  35, 114, 105,  35, 119, 107, 104,  35,  72, 120, 117, 114, 115,\n",
      "        104, 100, 113,  35,  83, 100, 117, 111, 108, 100, 112, 104, 113, 119,\n",
      "         35, 100, 103, 109, 114, 120, 117, 113, 104, 103,  35, 114, 113,  35,\n",
      "         73, 117, 108, 103, 100, 124,  47,  35,  52,  56,  35,  71, 104, 102,\n",
      "        104, 112, 101, 104, 117,  35,  53,  51,  51,  51,  49,   1,   0,   0,\n",
      "          0,   0,   0,   0,   0,   0,   0,   0,   0,   0,   0,   0,   0,   0,\n",
      "          0,   0,   0,   0,   0,   0,   0,   0,   0,   0,   0,   0,   0,   0,\n",
      "          0,   0]), tensor([ 86, 119, 100, 119, 104, 112, 104, 113, 119, 118,  35, 101, 124,  35,\n",
      "        119, 107, 104,  35,  83, 117, 104, 118, 108, 103, 104, 113, 119,   1,\n",
      "          0,   0,   0,   0,   0,   0,   0,   0,   0,   0,   0,   0,   0,   0,\n",
      "          0,   0,   0,   0,   0,   0,   0,   0,   0,   0,   0,   0,   0,   0,\n",
      "          0,   0,   0,   0,   0,   0,   0,   0,   0,   0,   0,   0,   0,   0,\n",
      "          0,   0,   0,   0,   0,   0,   0,   0,   0,   0,   0,   0,   0,   0,\n",
      "          0,   0,   0,   0,   0,   0,   0,   0,   0,   0,   0,   0,   0,   0,\n",
      "          0,   0,   0,   0,   0,   0,   0,   0,   0,   0,   0,   0,   0,   0,\n",
      "          0,   0,   0,   0,   0,   0,   0,   0,   0,   0,   0,   0,   0,   0,\n",
      "          0,   0]), tensor([ 79, 100, 103, 108, 104, 118,  35, 100, 113, 103,  35, 106, 104, 113,\n",
      "        119, 111, 104, 112, 104, 113,  47,  35, 114, 113,  35,  86, 100, 119,\n",
      "        120, 117, 103, 100, 124,  47,  35, 100, 118,  35, 124, 114, 120,  35,\n",
      "        110, 113, 114, 122,  47,  35, 100, 113,  35, 104, 100, 117, 119, 107,\n",
      "        116, 120, 100, 110, 104,  35, 118, 119, 117, 120, 102, 110,  35,  70,\n",
      "        104, 113, 119, 117, 100, 111,  35,  68, 112, 104, 117, 108, 102, 100,\n",
      "         35, 114, 113, 102, 104,  35, 100, 106, 100, 108, 113,  47,  35, 122,\n",
      "        108, 119, 107,  35, 119, 117, 100, 106, 108, 102,  35, 102, 114, 113,\n",
      "        118, 104, 116, 120, 104, 113, 102, 104, 118,  49,  35,  87, 107, 108,\n",
      "        118,   1]), tensor([ 87, 107, 104,  35, 111, 100, 119, 104, 118, 119,  47,  35, 115, 117,\n",
      "        114, 121, 108, 118, 108, 114, 113, 100, 111,  47,  35, 105, 108, 106,\n",
      "        120, 117, 104, 118,  35, 105, 114, 117,  35, 121, 108, 102, 119, 108,\n",
      "        112, 118,  35, 108, 113,  35,  72, 111,  35,  86, 100, 111, 121, 100,\n",
      "        103, 114, 117,  35, 100, 117, 104,  35, 100, 111, 117, 104, 100, 103,\n",
      "        124,  35, 121, 104, 117, 124,  35, 107, 108, 106, 107,  49,  35,  87,\n",
      "        107, 104, 117, 104,  35, 100, 117, 104,  35,  54,  56,  51,  35, 115,\n",
      "        104, 114, 115, 111, 104,  35, 103, 104, 100, 103,  47,  35,  52,  35,\n",
      "         53,  51,  51,  35, 115, 104, 114, 115, 111, 104,  35, 112, 108, 118,\n",
      "        118,   1]), tensor([ 87, 107, 104,  35,  72, 120, 117, 114, 115, 104, 100, 113,  35,  88,\n",
      "        113, 108, 114, 113,  35, 107, 100, 118,  35, 100, 111, 117, 104, 100,\n",
      "        103, 124,  35, 118, 107, 114, 122, 113,  35, 108, 119, 118,  35, 118,\n",
      "        114, 111, 108, 103, 100, 117, 108, 119, 124,  35, 101, 124,  35, 118,\n",
      "        104, 113, 103, 108, 113, 106,  35, 100,  35, 117, 104, 118, 102, 120,\n",
      "        104,  35, 119, 104, 100, 112,  35, 119, 114,  35, 119, 107, 104,  35,\n",
      "        100, 117, 104, 100,  47,  35, 122, 107, 108, 111, 118, 119,  35, 105,\n",
      "        108, 113, 100, 113, 102, 108, 100, 111,  35, 100, 118, 118, 108, 118,\n",
      "        119, 100, 113, 102, 104,  35, 105, 117, 114, 112,  35, 119, 107, 104,\n",
      "         35,   1]), tensor([ 75, 114, 122, 104, 121, 104, 117,  47,  35,  76,  35, 118, 107, 114,\n",
      "        120, 111, 103,  35, 111, 108, 110, 104,  35, 119, 114,  35, 108, 113,\n",
      "        105, 114, 117, 112,  35, 124, 114, 120,  35, 119, 107, 100, 119,  35,\n",
      "         76,  35, 107, 100, 121, 104,  47,  35, 114, 105,  35, 102, 114, 120,\n",
      "        117, 118, 104,  47,  35, 114, 113,  35, 101, 104, 107, 100, 111, 105,\n",
      "         35, 114, 105,  35, 119, 107, 104,  35,  72, 120, 117, 114, 115, 104,\n",
      "        100, 113,  35,  88, 113, 108, 114, 113,  47,  35, 104, 123, 115, 117,\n",
      "        104, 118, 118, 104, 103,  35, 114, 120, 117,  35, 118, 108, 113, 102,\n",
      "        104, 117, 104,  35, 102, 114, 113, 103, 114, 111, 104, 113, 102, 104,\n",
      "        118,   1]), tensor([ 76,  35, 122, 114, 120, 111, 103,  35, 100, 118, 110,  35, 124, 114,\n",
      "        120,  47,  35, 100, 118,  35, 100,  35, 112, 100, 117, 110,  35, 114,\n",
      "        105,  35, 117, 104, 118, 115, 104, 102, 119,  35, 105, 114, 117,  35,\n",
      "        119, 107, 104,  35, 121, 108, 102, 119, 108, 112, 118,  35, 100, 113,\n",
      "        103,  35, 105, 114, 117,  35, 119, 107, 104,  35, 108, 112, 112, 104,\n",
      "        113, 118, 104,  35, 118, 120, 105, 105, 104, 117, 108, 113, 106,  35,\n",
      "        114, 105,  35, 119, 107, 104, 108, 117,  35, 105, 100, 112, 108, 111,\n",
      "        108, 104, 118,  47,  35, 119, 114,  35, 114, 101, 118, 104, 117, 121,\n",
      "        104,  35, 100,  35, 112, 108, 113, 120, 119, 104,  42,  35, 118,  35,\n",
      "        118,   1]), tensor([ 43,  87, 107, 104,  35,  75, 114, 120, 118, 104,  35, 117, 114, 118,\n",
      "        104,  35, 100, 113, 103,  35, 114, 101, 118, 104, 117, 121, 104, 103,\n",
      "         35, 100,  35, 112, 108, 113, 120, 119, 104,  42,  35, 118,  35, 118,\n",
      "        108, 111, 104, 113, 102, 104,  44,   1,   0,   0,   0,   0,   0,   0,\n",
      "          0,   0,   0,   0,   0,   0,   0,   0,   0,   0,   0,   0,   0,   0,\n",
      "          0,   0,   0,   0,   0,   0,   0,   0,   0,   0,   0,   0,   0,   0,\n",
      "          0,   0,   0,   0,   0,   0,   0,   0,   0,   0,   0,   0,   0,   0,\n",
      "          0,   0,   0,   0,   0,   0,   0,   0,   0,   0,   0,   0,   0,   0,\n",
      "          0,   0,   0,   0,   0,   0,   0,   0,   0,   0,   0,   0,   0,   0,\n",
      "          0,   0]), tensor([ 83, 117, 104, 118, 108, 103, 104, 113, 119,  49,   1,   0,   0,   0,\n",
      "          0,   0,   0,   0,   0,   0,   0,   0,   0,   0,   0,   0,   0,   0,\n",
      "          0,   0,   0,   0,   0,   0,   0,   0,   0,   0,   0,   0,   0,   0,\n",
      "          0,   0,   0,   0,   0,   0,   0,   0,   0,   0,   0,   0,   0,   0,\n",
      "          0,   0,   0,   0,   0,   0,   0,   0,   0,   0,   0,   0,   0,   0,\n",
      "          0,   0,   0,   0,   0,   0,   0,   0,   0,   0,   0,   0,   0,   0,\n",
      "          0,   0,   0,   0,   0,   0,   0,   0,   0,   0,   0,   0,   0,   0,\n",
      "          0,   0,   0,   0,   0,   0,   0,   0,   0,   0,   0,   0,   0,   0,\n",
      "          0,   0,   0,   0,   0,   0,   0,   0,   0,   0,   0,   0,   0,   0,\n",
      "          0,   0]), tensor([ 87, 117, 100, 106, 108, 102, 100, 111, 111, 124,  47,  35, 114, 113,\n",
      "         35,  54,  52,  35,  71, 104, 102, 104, 112, 101, 104, 117,  47,  35,\n",
      "        100,  35, 103, 100, 124,  35, 119, 107, 100, 119,  35, 112, 114, 118,\n",
      "        119,  35, 114, 105,  35, 120, 118,  35, 102, 114, 112, 112, 104, 112,\n",
      "        114, 117, 100, 119, 104,  35, 122, 108, 119, 107,  35, 102, 104, 111,\n",
      "        104, 101, 117, 100, 119, 108, 114, 113,  47,  35, 101, 104, 102, 100,\n",
      "        112, 104,  35, 100,  35, 103, 100, 124,  35, 114, 105,  35, 112, 114,\n",
      "        120, 117, 113, 108, 113, 106,  35, 105, 114, 117,  35, 119, 107, 104,\n",
      "         35, 105, 100, 112, 108, 111, 108, 104, 118,  35, 114, 105,  35,  89,\n",
      "        114,   1]), tensor([ 76,  35, 118, 107, 114, 120, 111, 103,  35, 111, 108, 110, 104,  47,\n",
      "         35, 114, 113,  35, 101, 104, 107, 100, 111, 105,  35, 114, 105,  35,\n",
      "        119, 107, 104,  35,  72, 120, 117, 114, 115, 104, 100, 113,  35,  83,\n",
      "        100, 117, 111, 108, 100, 112, 104, 113, 119,  47,  35, 119, 114,  35,\n",
      "        104, 123, 115, 117, 104, 118, 118,  35, 114, 120, 117,  35, 118, 124,\n",
      "        112, 115, 100, 119, 107, 124,  35, 119, 114,  35, 119, 107, 104,  35,\n",
      "        115, 100, 117, 104, 113, 119, 118,  35, 100, 113, 103,  35, 105, 100,\n",
      "        112, 108, 111, 108, 104, 118,  35, 114, 105,  35, 119, 107, 104,  35,\n",
      "        121, 108, 102, 119, 108, 112, 118,  49,   1,   0,   0,   0,   0,   0,\n",
      "          0,   0]), tensor([ 76,  35, 118, 107, 114, 120, 111, 103,  35, 100, 111, 118, 114,  35,\n",
      "        111, 108, 110, 104,  35, 119, 114,  35, 122, 108, 118, 107,  35, 119,\n",
      "        107, 104,  35,  52,  59,  51,  35, 115, 104, 114, 115, 111, 104,  35,\n",
      "        108, 113, 109, 120, 117, 104, 103,  35, 108, 113,  35, 119, 107, 108,\n",
      "        118,  35, 100, 122, 105, 120, 111,  35, 105, 108, 117, 104,  35, 100,\n",
      "         35, 118, 115, 104, 104, 103, 124,  35, 117, 104, 102, 114, 121, 104,\n",
      "        117, 124,  49,   1,   0,   0,   0,   0,   0,   0,   0,   0,   0,   0,\n",
      "          0,   0,   0,   0,   0,   0,   0,   0,   0,   0,   0,   0,   0,   0,\n",
      "          0,   0,   0,   0,   0,   0,   0,   0,   0,   0,   0,   0,   0,   0,\n",
      "          0,   0]), tensor([ 76,  35, 118, 107, 114, 120, 111, 103,  35, 113, 114, 119,  35, 105,\n",
      "        114, 117, 106, 104, 119,  35, 119, 107, 100, 119,  35, 112, 100, 113,\n",
      "        124,  35, 115, 111, 100, 102, 104, 118,  47,  35, 122, 107, 104, 117,\n",
      "        104,  35, 109, 114, 124, 105, 120, 111,  35, 102, 104, 111, 104, 101,\n",
      "        117, 100, 119, 108, 114, 113, 118,  35, 100, 117, 104,  35, 100, 111,\n",
      "        118, 114,  35, 107, 104, 111, 103,  47,  35, 100, 117, 104,  35, 100,\n",
      "        111, 111,  35, 119, 114, 114,  35, 114, 105, 119, 104, 113,  35, 119,\n",
      "        117, 100, 113, 118, 105, 114, 117, 112, 104, 103,  35, 101, 124,  35,\n",
      "        118, 100, 103, 113, 104, 118, 118,  35, 100, 113, 103,  35, 112, 114,\n",
      "        120,   1]), tensor([ 76, 119,  35, 108, 118,  35, 108, 113,  35, 119, 107, 104,  35, 118,\n",
      "        100, 112, 104,  35, 118, 115, 108, 117, 108, 119,  35, 119, 107, 100,\n",
      "        119,  35,  76,  35, 118, 107, 114, 120, 111, 103,  35, 111, 108, 110,\n",
      "        104,  35, 119, 114,  35, 104, 123, 115, 117, 104, 118, 118,  35, 112,\n",
      "        124,  35, 102, 114, 113, 103, 114, 111, 104, 113, 102, 104, 118,  35,\n",
      "        119, 114,  35, 119, 107, 104,  35, 105, 100, 112, 108, 111, 108, 104,\n",
      "        118,  35, 114, 105,  35, 119, 107, 104,  35,  54,  51,  60,  35, 121,\n",
      "        108, 102, 119, 108, 112, 118,  35, 114, 105,  35, 119, 107, 104,  35,\n",
      "        105, 108, 117, 104,  35, 100, 119,  35, 100,  35, 103, 108, 118, 102,\n",
      "        114,   1]), tensor([ 43,  87, 107, 104,  35,  75, 114, 120, 118, 104,  35, 117, 114, 118,\n",
      "        104,  35, 100, 113, 103,  35, 114, 101, 118, 104, 117, 121, 104, 103,\n",
      "         35, 100,  35, 112, 108, 113, 120, 119, 104,  42,  35, 118,  35, 118,\n",
      "        108, 111, 104, 113, 102, 104,  44,   1,   0,   0,   0,   0,   0,   0,\n",
      "          0,   0,   0,   0,   0,   0,   0,   0,   0,   0,   0,   0,   0,   0,\n",
      "          0,   0,   0,   0,   0,   0,   0,   0,   0,   0,   0,   0,   0,   0,\n",
      "          0,   0,   0,   0,   0,   0,   0,   0,   0,   0,   0,   0,   0,   0,\n",
      "          0,   0,   0,   0,   0,   0,   0,   0,   0,   0,   0,   0,   0,   0,\n",
      "          0,   0,   0,   0,   0,   0,   0,   0,   0,   0,   0,   0,   0,   0,\n",
      "          0,   0]), tensor([ 83, 117, 104, 118, 108, 103, 104, 113, 119,  49,   1,   0,   0,   0,\n",
      "          0,   0,   0,   0,   0,   0,   0,   0,   0,   0,   0,   0,   0,   0,\n",
      "          0,   0,   0,   0,   0,   0,   0,   0,   0,   0,   0,   0,   0,   0,\n",
      "          0,   0,   0,   0,   0,   0,   0,   0,   0,   0,   0,   0,   0,   0,\n",
      "          0,   0,   0,   0,   0,   0,   0,   0,   0,   0,   0,   0,   0,   0,\n",
      "          0,   0,   0,   0,   0,   0,   0,   0,   0,   0,   0,   0,   0,   0,\n",
      "          0,   0,   0,   0,   0,   0,   0,   0,   0,   0,   0,   0,   0,   0,\n",
      "          0,   0,   0,   0,   0,   0,   0,   0,   0,   0,   0,   0,   0,   0,\n",
      "          0,   0,   0,   0,   0,   0,   0,   0,   0,   0,   0,   0,   0,   0,\n",
      "          0,   0]), tensor([ 79, 100, 103, 108, 104, 118,  35, 100, 113, 103,  35, 106, 104, 113,\n",
      "        119, 111, 104, 112, 104, 113,  47,  35,  76,  35, 107, 100, 103,  35,\n",
      "        122, 108, 118, 107, 104, 103,  47,  35, 100, 118,  35, 104, 121, 104,\n",
      "        117, 124, 114, 113, 104,  35, 107, 100, 103,  47,  35, 119, 107, 100,\n",
      "        119,  35, 122, 104,  35, 122, 114, 120, 111, 103,  35, 101, 104,  35,\n",
      "        100, 101, 111, 104,  35, 119, 114,  35, 114, 115, 104, 113,  35, 114,\n",
      "        120, 117,  35, 105, 108, 117, 118, 119,  35, 115, 100, 117, 119,  48,\n",
      "        118, 104, 118, 118, 108, 114, 113,  35, 114, 105,  35, 119, 107, 104,\n",
      "         35, 124, 104, 100, 117,  35, 122, 108, 119, 107, 114, 120, 119,  35,\n",
      "        107,   1]), tensor([ 88, 113, 105, 114, 117, 119, 120, 113, 100, 119, 104, 111, 124,  47,\n",
      "         35, 114, 113,  35,  53,  51,  35,  71, 104, 102, 104, 112, 101, 104,\n",
      "        117,  47,  35,  77, 120, 100, 113,  35,  80, 108, 106, 120, 104, 111,\n",
      "         35,  74, 104, 117, 121, 108, 111, 111, 100,  47,  35, 100,  35, 115,\n",
      "        114, 111, 108, 102, 104,  35, 114, 105, 105, 108, 102, 104, 117,  35,\n",
      "        108, 113,  35,  69, 100, 117, 102, 104, 111, 114, 113, 100,  47,  35,\n",
      "        122, 100, 118,  35, 110, 108, 111, 111, 104, 103,  35, 101, 124,  35,\n",
      "        119, 104, 117, 117, 114, 117, 108, 118, 119, 118,  49,   1,   0,   0,\n",
      "          0,   0,   0,   0,   0,   0,   0,   0,   0,   0,   0,   0,   0,   0,\n",
      "          0,   0]), tensor([ 75, 104,  35, 107, 100, 103,  35, 103, 108, 118, 119, 120, 117, 101,\n",
      "        104, 103,  35, 107, 108, 118,  35, 110, 108, 111, 111, 104, 117, 118,\n",
      "         35, 100, 118,  35, 119, 107, 104, 124,  35, 122, 104, 117, 104,  35,\n",
      "        115, 117, 104, 115, 100, 117, 108, 113, 106,  35, 100, 113,  35, 100,\n",
      "        119, 119, 100, 102, 110,  49,   1,   0,   0,   0,   0,   0,   0,   0,\n",
      "          0,   0,   0,   0,   0,   0,   0,   0,   0,   0,   0,   0,   0,   0,\n",
      "          0,   0,   0,   0,   0,   0,   0,   0,   0,   0,   0,   0,   0,   0,\n",
      "          0,   0,   0,   0,   0,   0,   0,   0,   0,   0,   0,   0,   0,   0,\n",
      "          0,   0,   0,   0,   0,   0,   0,   0,   0,   0,   0,   0,   0,   0,\n",
      "          0,   0]), tensor([ 75, 108, 118,  35, 102, 114, 120, 117, 100, 106, 104, 114, 120, 118,\n",
      "         35, 100, 102, 119, 108, 114, 113, 118,  35, 120, 113, 105, 114, 117,\n",
      "        119, 120, 113, 100, 119, 104, 111, 124,  35, 102, 114, 118, 119,  35,\n",
      "        107, 108, 112,  35, 107, 108, 118,  35, 111, 108, 105, 104,  35, 101,\n",
      "        120, 119,  35, 120, 113, 103, 114, 120, 101, 119, 104, 103, 111, 124,\n",
      "         35, 100, 111, 118, 114,  35, 118, 100, 121, 104, 103,  35, 112, 100,\n",
      "        113, 124,  35, 114, 119, 107, 104, 117, 118,  49,   1,   0,   0,   0,\n",
      "          0,   0,   0,   0,   0,   0,   0,   0,   0,   0,   0,   0,   0,   0,\n",
      "          0,   0,   0,   0,   0,   0,   0,   0,   0,   0,   0,   0,   0,   0,\n",
      "          0,   0]), tensor([ 87, 107, 108, 118,  35, 108, 118,  35, 122, 107, 124,  35,  76,  35,\n",
      "        122, 114, 120, 111, 103,  35, 111, 108, 110, 104,  35, 119, 114,  35,\n",
      "        115, 100, 124,  35, 119, 117, 108, 101, 120, 119, 104,  35, 119, 114,\n",
      "         35, 107, 108, 112,  35, 108, 113,  35, 115, 100, 117, 119, 108, 102,\n",
      "        120, 111, 100, 117,  35, 100, 113, 103,  35,  76,  35, 122, 114, 120,\n",
      "        111, 103,  35, 100, 118, 110,  35, 124, 114, 120,  35, 100, 106, 100,\n",
      "        108, 113,  35, 119, 114,  35, 114, 101, 118, 104, 117, 121, 104,  35,\n",
      "        100,  35, 112, 108, 113, 120, 119, 104,  42,  35, 118,  35, 118, 108,\n",
      "        111, 104, 113, 102, 104,  49,   1,   0,   0,   0,   0,   0,   0,   0,\n",
      "          0,   0]), tensor([ 43,  87, 107, 104,  35,  75, 114, 120, 118, 104,  35, 117, 114, 118,\n",
      "        104,  35, 100, 113, 103,  35, 114, 101, 118, 104, 117, 121, 104, 103,\n",
      "         35, 100,  35, 112, 108, 113, 120, 119, 104,  42,  35, 118,  35, 118,\n",
      "        108, 111, 104, 113, 102, 104,  44,   1,   0,   0,   0,   0,   0,   0,\n",
      "          0,   0,   0,   0,   0,   0,   0,   0,   0,   0,   0,   0,   0,   0,\n",
      "          0,   0,   0,   0,   0,   0,   0,   0,   0,   0,   0,   0,   0,   0,\n",
      "          0,   0,   0,   0,   0,   0,   0,   0,   0,   0,   0,   0,   0,   0,\n",
      "          0,   0,   0,   0,   0,   0,   0,   0,   0,   0,   0,   0,   0,   0,\n",
      "          0,   0,   0,   0,   0,   0,   0,   0,   0,   0,   0,   0,   0,   0,\n",
      "          0,   0]), tensor([ 85, 104, 105, 104, 117, 117, 100, 111,  35, 101, 100, 102, 110,  35,\n",
      "        119, 114,  35, 102, 114, 112, 112, 108, 119, 119, 104, 104,   1,   0,\n",
      "          0,   0,   0,   0,   0,   0,   0,   0,   0,   0,   0,   0,   0,   0,\n",
      "          0,   0,   0,   0,   0,   0,   0,   0,   0,   0,   0,   0,   0,   0,\n",
      "          0,   0,   0,   0,   0,   0,   0,   0,   0,   0,   0,   0,   0,   0,\n",
      "          0,   0,   0,   0,   0,   0,   0,   0,   0,   0,   0,   0,   0,   0,\n",
      "          0,   0,   0,   0,   0,   0,   0,   0,   0,   0,   0,   0,   0,   0,\n",
      "          0,   0,   0,   0,   0,   0,   0,   0,   0,   0,   0,   0,   0,   0,\n",
      "          0,   0,   0,   0,   0,   0,   0,   0,   0,   0,   0,   0,   0,   0,\n",
      "          0,   0]), tensor([ 90, 108, 119, 107,  35, 117, 104, 106, 100, 117, 103,  35, 119, 114,\n",
      "         35, 119, 107, 104,  35, 117, 104, 115, 114, 117, 119,  35, 101, 124,\n",
      "         35,  80, 117,  35,  70, 100, 118, 107, 112, 100, 113,  35, 114, 113,\n",
      "         35, 115, 120, 101, 111, 108, 102,  35, 100, 102, 102, 104, 118, 118,\n",
      "         35, 119, 114,  35,  83, 100, 117, 111, 108, 100, 112, 104, 113, 119,\n",
      "         47,  35,  70, 114, 120, 113, 102, 108, 111,  35, 100, 113, 103,  35,\n",
      "         70, 114, 112, 112, 108, 118, 118, 108, 114, 113,  35, 103, 114, 102,\n",
      "        120, 112, 104, 113, 119, 118,  47,  35, 105, 114, 117,  35, 122, 107,\n",
      "        108, 102, 107,  35, 119, 107, 104,  35, 121, 114, 119, 104,  35, 114,\n",
      "        113,   1]), tensor([ 87, 107, 108, 118,  35, 108, 118,  35, 122, 107, 124,  35, 108, 119,\n",
      "         35, 107, 100, 118,  35, 117, 104, 116, 120, 104, 118, 119, 104, 103,\n",
      "         35, 119, 107, 100, 119,  35, 108, 119,  35, 101, 104,  35, 117, 104,\n",
      "        105, 104, 117, 117, 104, 103,  35, 101, 100, 102, 110,  35, 119, 114,\n",
      "         35, 102, 114, 112, 112, 108, 119, 119, 104, 104,  35, 115, 120, 117,\n",
      "        118, 120, 100, 113, 119,  35, 119, 114,  35,  85, 120, 111, 104,  35,\n",
      "         52,  55,  55,  43,  52,  44,  35, 114, 105,  35, 119, 107, 104,  35,\n",
      "         85, 120, 111, 104, 118,  35, 114, 105,  35,  83, 117, 114, 102, 104,\n",
      "        103, 120, 117, 104,  49,   1,   0,   0,   0,   0,   0,   0,   0,   0,\n",
      "          0,   0]), tensor([ 76,  35, 118, 107, 100, 111, 111,  35, 113, 114, 122,  35, 106, 108,\n",
      "        121, 104,  35, 119, 107, 104,  35, 105, 111, 114, 114, 117,  35, 119,\n",
      "        114,  35,  80, 117,  35,  90, 100, 119, 118, 114, 113,  47,  35,  70,\n",
      "        107, 100, 108, 117, 112, 100, 113,  35, 114, 105,  35, 119, 107, 108,\n",
      "        118,  35, 102, 114, 112, 112, 108, 119, 119, 104, 104,  47,  35, 118,\n",
      "        114,  35, 119, 107, 100, 119,  35, 107, 104,  35, 102, 100, 113,  35,\n",
      "        115, 117, 104, 118, 104, 113, 119,  35, 119, 107, 104,  35, 117, 104,\n",
      "        116, 120, 104, 118, 119,  35, 114, 113,  35, 108, 119, 118,  35, 101,\n",
      "        104, 107, 100, 111, 105,  49,   1,   0,   0,   0,   0,   0,   0,   0,\n",
      "          0,   0]), tensor([ 80, 100, 103, 100, 112,  35,  83, 117, 104, 118, 108, 103, 104, 113,\n",
      "        119,  47,  35, 119, 107, 104,  35,  75, 114, 120, 118, 104,  35, 110,\n",
      "        108, 113, 103, 111, 124,  35, 100, 106, 117, 104, 104, 103,  35, 114,\n",
      "        113,  35,  52,  57,  35,  81, 114, 121, 104, 112, 101, 104, 117,  35,\n",
      "        119, 114,  35, 100,  35, 117, 104, 116, 120, 104, 118, 119,  35, 105,\n",
      "        117, 114, 112,  35, 119, 107, 104,  35, 102, 114, 112, 112, 108, 119,\n",
      "        119, 104, 104,  35, 122, 107, 108, 102, 107,  35,  76,  35, 107, 100,\n",
      "        121, 104,  35, 119, 107, 104,  35, 107, 114, 113, 114, 120, 117,  35,\n",
      "        119, 114,  35, 102, 107, 100, 108, 117,  35, 119, 114,  35, 103, 104,\n",
      "        111,   1]), tensor([ 87, 107, 100, 119,  35, 103, 104, 111, 100, 124,  35, 122, 100, 118,\n",
      "         35, 108, 113, 119, 104, 113, 103, 104, 103,  35, 119, 114,  35, 100,\n",
      "        111, 111, 114, 122,  35, 119, 108, 112, 104,  35, 105, 114, 117,  35,\n",
      "        119, 107, 104,  35, 114, 119, 107, 104, 117,  35, 108, 113, 118, 119,\n",
      "        108, 119, 120, 119, 108, 114, 113, 118,  35, 119, 114,  35, 102, 114,\n",
      "        113, 118, 108, 103, 104, 117,  35, 114, 120, 117,  35, 100, 112, 104,\n",
      "        113, 103, 112, 104, 113, 119, 118,  35, 100, 113, 103,  35, 105, 114,\n",
      "        117,  35, 119, 107, 104,  35,  70, 114, 112, 112, 108, 118, 118, 108,\n",
      "        114, 113,  35, 119, 114,  35, 105, 114, 117, 112, 120, 111, 100, 119,\n",
      "        104,   1]), tensor([ 86, 108, 113, 102, 104,  35, 114, 120, 117,  35,  81, 114, 121, 104,\n",
      "        112, 101, 104, 117,  35, 115, 100, 117, 119,  48, 118, 104, 118, 118,\n",
      "        108, 114, 113,  47,  35, 122, 104,  35, 107, 100, 121, 104,  35, 107,\n",
      "        100, 103,  35, 102, 114, 113, 119, 100, 102, 119, 118,  35, 122, 108,\n",
      "        119, 107,  35, 119, 107, 104,  35, 114, 119, 107, 104, 117,  35, 108,\n",
      "        113, 118, 119, 108, 119, 120, 119, 108, 114, 113, 118,  47,  35, 119,\n",
      "        107, 114, 120, 106, 107,  35, 100, 118,  35, 124, 104, 119,  35, 113,\n",
      "        114,  35, 100, 106, 117, 104, 104, 112, 104, 113, 119,  35, 107, 100,\n",
      "        118,  35, 101, 104, 104, 113,  35, 105, 114, 117, 119, 107, 102, 114,\n",
      "        112,   1]), tensor([ 87, 107, 104, 117, 104, 105, 114, 117, 104,  47,  35, 122, 104,  35,\n",
      "        122, 114, 120, 111, 103,  35, 100, 118, 110,  35, 119, 107, 104,  35,\n",
      "         75, 114, 120, 118, 104,  35, 105, 114, 117,  35, 100,  35, 115, 117,\n",
      "        114, 117, 114, 106, 100, 119, 108, 114, 113,  35, 114, 105,  35, 119,\n",
      "        107, 104,  35, 103, 104, 111, 100, 124,  35, 114, 105,  35, 100,  35,\n",
      "        112, 100, 123, 108, 112, 120, 112,  35, 114, 105,  35, 119, 122, 114,\n",
      "         35, 112, 114, 113, 119, 107, 118,  35, 108, 113,  35, 114, 117, 103,\n",
      "        104, 117,  35, 119, 114,  35, 102, 114, 113, 102, 111, 120, 103, 104,\n",
      "         35, 119, 107, 104,  35, 103, 108, 100, 111, 114, 106, 120, 104,  35,\n",
      "        100,   1]), tensor([ 43,  83, 100, 117, 111, 108, 100, 112, 104, 113, 119,  35, 100, 115,\n",
      "        115, 117, 114, 121, 104, 103,  35, 119, 107, 104,  35, 117, 104, 116,\n",
      "        120, 104, 118, 119,  44,   1,   0,   0,   0,   0,   0,   0,   0,   0,\n",
      "          0,   0,   0,   0,   0,   0,   0,   0,   0,   0,   0,   0,   0,   0,\n",
      "          0,   0,   0,   0,   0,   0,   0,   0,   0,   0,   0,   0,   0,   0,\n",
      "          0,   0,   0,   0,   0,   0,   0,   0,   0,   0,   0,   0,   0,   0,\n",
      "          0,   0,   0,   0,   0,   0,   0,   0,   0,   0,   0,   0,   0,   0,\n",
      "          0,   0,   0,   0,   0,   0,   0,   0,   0,   0,   0,   0,   0,   0,\n",
      "          0,   0,   0,   0,   0,   0,   0,   0,   0,   0,   0,   0,   0,   0,\n",
      "          0,   0]), tensor([ 68, 106, 104, 113, 103, 100,   1,   0,   0,   0,   0,   0,   0,   0,\n",
      "          0,   0,   0,   0,   0,   0,   0,   0,   0,   0,   0,   0,   0,   0,\n",
      "          0,   0,   0,   0,   0,   0,   0,   0,   0,   0,   0,   0,   0,   0,\n",
      "          0,   0,   0,   0,   0,   0,   0,   0,   0,   0,   0,   0,   0,   0,\n",
      "          0,   0,   0,   0,   0,   0,   0,   0,   0,   0,   0,   0,   0,   0,\n",
      "          0,   0,   0,   0,   0,   0,   0,   0,   0,   0,   0,   0,   0,   0,\n",
      "          0,   0,   0,   0,   0,   0,   0,   0,   0,   0,   0,   0,   0,   0,\n",
      "          0,   0,   0,   0,   0,   0,   0,   0,   0,   0,   0,   0,   0,   0,\n",
      "          0,   0,   0,   0,   0,   0,   0,   0,   0,   0,   0,   0,   0,   0,\n",
      "          0,   0]), tensor([ 87, 107, 104,  35, 113, 104, 123, 119,  35, 108, 119, 104, 112,  35,\n",
      "        108, 118,  35, 119, 107, 104,  35, 105, 108, 113, 100, 111,  35, 103,\n",
      "        117, 100, 105, 119,  35, 100, 106, 104, 113, 103, 100,  35, 100, 118,\n",
      "         35, 103, 117, 100, 122, 113,  35, 120, 115,  35, 101, 124,  35, 119,\n",
      "        107, 104,  35,  70, 114, 113, 105, 104, 117, 104, 113, 102, 104,  35,\n",
      "        114, 105,  35,  83, 117, 104, 118, 108, 103, 104, 113, 119, 118,  35,\n",
      "        100, 119,  35, 108, 119, 118,  35, 112, 104, 104, 119, 108, 113, 106,\n",
      "         35, 114, 105,  35,  87, 120, 104, 118, 103, 100, 124,  35,  52,  52,\n",
      "         35,  77, 100, 113, 120, 100, 117, 124,  49,   1,   0,   0,   0,   0,\n",
      "          0,   0]), tensor([ 86, 108, 119, 119, 108, 113, 106, 118,  35, 105, 117, 114, 112,  35,\n",
      "         52,  56,  35, 119, 114,  35,  52,  59,  35,  77, 100, 113, 120, 100,\n",
      "        117, 124,  35, 108, 113,  35,  86, 119, 117, 100, 118, 101, 114, 120,\n",
      "        117, 106,  35,  83, 117, 104, 118, 108, 103, 104, 113, 119,  49,   1,\n",
      "          0,   0,   0,   0,   0,   0,   0,   0,   0,   0,   0,   0,   0,   0,\n",
      "          0,   0,   0,   0,   0,   0,   0,   0,   0,   0,   0,   0,   0,   0,\n",
      "          0,   0,   0,   0,   0,   0,   0,   0,   0,   0,   0,   0,   0,   0,\n",
      "          0,   0,   0,   0,   0,   0,   0,   0,   0,   0,   0,   0,   0,   0,\n",
      "          0,   0,   0,   0,   0,   0,   0,   0,   0,   0,   0,   0,   0,   0,\n",
      "          0,   0]), tensor([ 76,  35, 107, 100, 121, 104,  35, 117, 104, 102, 104, 108, 121, 104,\n",
      "        103,  35, 113, 114,  35, 117, 104, 116, 120, 104, 118, 119, 118,  35,\n",
      "        105, 114, 117,  35, 100, 112, 104, 113, 103, 112, 104, 113, 119, 118,\n",
      "         35, 119, 114,  35, 119, 107, 104,  35, 100, 106, 104, 113, 103, 100,\n",
      "         35, 105, 114, 117,  35,  80, 114, 113, 103, 100, 124,  47,  35,  87,\n",
      "        120, 104, 118, 103, 100, 124,  35, 114, 117,  35,  90, 104, 103, 113,\n",
      "        104, 118, 103, 100, 124,  49,   1,   0,   0,   0,   0,   0,   0,   0,\n",
      "          0,   0,   0,   0,   0,   0,   0,   0,   0,   0,   0,   0,   0,   0,\n",
      "          0,   0,   0,   0,   0,   0,   0,   0,   0,   0,   0,   0,   0,   0,\n",
      "          0,   0]), tensor([ 80, 100, 103, 100, 112,  35,  83, 117, 104, 118, 108, 103, 104, 113,\n",
      "        119,  47,  35,  76,  35, 122, 114, 120, 111, 103,  35, 111, 108, 110,\n",
      "        104,  35, 119, 114,  35, 115, 114, 108, 113, 119,  35, 114, 120, 119,\n",
      "         35, 119, 114,  35, 112, 124,  35, 105, 104, 111, 111, 114, 122,  35,\n",
      "         80, 104, 112, 101, 104, 117, 118,  35, 100, 113, 103,  35, 119, 114,\n",
      "         35, 124, 114, 120, 117, 118, 104, 111, 105,  47,  35, 119, 107, 100,\n",
      "        119,  47,  35, 122, 107, 108, 111, 118, 119,  35,  76,  35, 120, 113,\n",
      "        103, 104, 117, 118, 119, 100, 113, 103,  35, 119, 107, 104,  35, 117,\n",
      "        104, 100, 118, 114, 113, 118,  35, 122, 107, 108, 102, 107,  35, 111,\n",
      "        104,   1]), tensor([ 76,  35, 100, 112,  35, 118, 114, 117, 117, 124,  35, 119, 114,  35,\n",
      "        107, 100, 121, 104,  35, 119, 114,  35, 115, 114, 108, 113, 119,  35,\n",
      "        119, 107, 108, 118,  35, 114, 120, 119,  47,  35, 100, 118,  35,  76,\n",
      "         35, 110, 113, 114, 122,  35, 122, 104,  35, 107, 100, 121, 104,  35,\n",
      "        100,  35, 121, 104, 117, 124,  35, 101, 120, 118, 124,  35, 103, 100,\n",
      "        124,  35, 114, 113,  35,  90, 104, 103, 113, 104, 118, 103, 100, 124,\n",
      "         47,  35, 101, 120, 119,  35, 111, 104, 119,  35, 120, 118,  35, 119,\n",
      "        117, 124,  35, 119, 114,  35, 102, 107, 100, 113, 106, 104,  35, 119,\n",
      "        107, 108, 118,  47,  35, 100, 118,  47,  35, 100, 105, 119, 104, 117,\n",
      "         35,   1]), tensor([ 87, 107, 100, 113, 110,  35, 124, 114, 120,  47,  35,  80, 117,  35,\n",
      "         71, 104, 111, 111,  42,  35,  68, 111, 101, 100,  49,   1,   0,   0,\n",
      "          0,   0,   0,   0,   0,   0,   0,   0,   0,   0,   0,   0,   0,   0,\n",
      "          0,   0,   0,   0,   0,   0,   0,   0,   0,   0,   0,   0,   0,   0,\n",
      "          0,   0,   0,   0,   0,   0,   0,   0,   0,   0,   0,   0,   0,   0,\n",
      "          0,   0,   0,   0,   0,   0,   0,   0,   0,   0,   0,   0,   0,   0,\n",
      "          0,   0,   0,   0,   0,   0,   0,   0,   0,   0,   0,   0,   0,   0,\n",
      "          0,   0,   0,   0,   0,   0,   0,   0,   0,   0,   0,   0,   0,   0,\n",
      "          0,   0,   0,   0,   0,   0,   0,   0,   0,   0,   0,   0,   0,   0,\n",
      "          0,   0]), tensor([ 76,  35, 122, 108, 111, 111,  47,  35, 114, 105,  35, 102, 114, 120,\n",
      "        117, 118, 104,  47,  35, 119, 100, 110, 104,  35, 113, 114, 119, 104,\n",
      "         35, 114, 105,  35, 124, 114, 120, 117,  35, 102, 114, 112, 112, 104,\n",
      "        113, 119,  49,   1,   0,   0,   0,   0,   0,   0,   0,   0,   0,   0,\n",
      "          0,   0,   0,   0,   0,   0,   0,   0,   0,   0,   0,   0,   0,   0,\n",
      "          0,   0,   0,   0,   0,   0,   0,   0,   0,   0,   0,   0,   0,   0,\n",
      "          0,   0,   0,   0,   0,   0,   0,   0,   0,   0,   0,   0,   0,   0,\n",
      "          0,   0,   0,   0,   0,   0,   0,   0,   0,   0,   0,   0,   0,   0,\n",
      "          0,   0,   0,   0,   0,   0,   0,   0,   0,   0,   0,   0,   0,   0,\n",
      "          0,   0]), tensor([ 80, 100, 103, 100, 112,  35,  83, 117, 104, 118, 108, 103, 104, 113,\n",
      "        119,  47,  35,  76,  35, 122, 114, 120, 111, 103,  35, 111, 108, 110,\n",
      "        104,  35, 119, 114,  35, 119, 100, 110, 104,  35, 120, 115,  35, 118,\n",
      "        114, 112, 104,  35, 115, 114, 108, 113, 119, 118,  35, 112, 100, 103,\n",
      "        104,  35, 101, 124,  35,  80, 117,  35,  71, 104, 111, 111,  42,  68,\n",
      "        111, 101, 100,  35, 100, 113, 103,  35, 100, 111, 118, 114,  35, 118,\n",
      "        100, 124,  35, 118, 114, 112, 104, 119, 107, 108, 113, 106,  35, 100,\n",
      "        101, 114, 120, 119,  35,  90, 104, 103, 113, 104, 118, 103, 100, 124,\n",
      "         42,  35, 118,  35, 118, 108, 119, 119, 108, 113, 106,  49,   1,   0,\n",
      "          0,   0]), tensor([ 81, 114, 119,  35, 114, 113, 111, 124,  35, 108, 118,  35,  90, 104,\n",
      "        103, 113, 104, 118, 103, 100, 124,  42,  35, 118,  35, 100, 106, 104,\n",
      "        113, 103, 100,  35, 102, 114, 112, 115, 111, 104, 119, 104, 111, 124,\n",
      "         35, 114, 121, 104, 117, 101, 114, 114, 110, 104, 103,  47,  35, 101,\n",
      "        120, 119,  35, 108, 112, 115, 114, 117, 119, 100, 113, 119,  35, 117,\n",
      "        104, 115, 114, 117, 119, 118,  35,  48,  35, 118, 120, 102, 107,  35,\n",
      "        100, 118,  35, 119, 107, 104,  35,  86, 109, 198, 185, 118, 119, 104,\n",
      "        103, 119,  35, 117, 104, 115, 114, 117, 119,  35, 114, 113,  35, 113,\n",
      "        100, 119, 120, 117, 100, 111,  35, 107, 100, 101, 108, 119, 100, 119,\n",
      "        118,   1]), tensor([ 87, 107, 108, 118,  35, 102, 100, 113,  35, 101, 104,  35, 115, 120,\n",
      "        119,  35, 103, 114, 122, 113,  35, 119, 114,  35, 119, 107, 104,  35,\n",
      "        103, 108, 118, 100, 118, 119, 117, 114, 120, 118,  35, 103, 104, 102,\n",
      "        108, 118, 108, 114, 113,  35, 119, 114,  35, 102, 100, 113, 102, 104,\n",
      "        111,  35,  73, 117, 108, 103, 100, 124,  35, 118, 108, 119, 119, 108,\n",
      "        113, 106, 118,  47,  35, 122, 107, 108, 102, 107,  35,  76,  35, 122,\n",
      "        114, 120, 111, 103,  35, 111, 108, 110, 104,  35, 119, 114,  35, 119,\n",
      "        100, 110, 104,  35, 119, 107, 108, 118,  35, 114, 115, 115, 114, 117,\n",
      "        119, 120, 113, 108, 119, 124,  35, 119, 114,  35, 107, 108, 106, 107,\n",
      "        111,   1]), tensor([ 80, 100, 103, 100, 112,  35,  83, 117, 104, 118, 108, 103, 104, 113,\n",
      "        119,  47,  35,  76,  35, 107, 100, 121, 104,  35, 117, 104, 116, 120,\n",
      "        104, 118, 119, 104, 103,  35, 119, 107, 104,  35, 105, 111, 114, 114,\n",
      "        117,  35, 108, 113,  35, 114, 117, 103, 104, 117,  35, 119, 114,  35,\n",
      "        118, 115, 104, 100, 110,  35, 100, 101, 114, 120, 119,  35,  87, 120,\n",
      "        104, 118, 103, 100, 124,  42,  35, 118,  35, 109, 114, 108, 113, 119,\n",
      "         35, 103, 104, 101, 100, 119, 104,  35, 114, 113,  35, 105, 108, 118,\n",
      "        107, 104, 117, 108, 104, 118,  49,   1,   0,   0,   0,   0,   0,   0,\n",
      "          0,   0,   0,   0,   0,   0,   0,   0,   0,   0,   0,   0,   0,   0,\n",
      "          0,   0]), tensor([ 68,  35, 112, 100, 109, 114, 117,  35, 103, 104, 101, 100, 119, 104,\n",
      "         35, 107, 100, 118,  35, 101, 104, 104, 113,  35, 118, 102, 107, 104,\n",
      "        103, 120, 111, 104, 103,  35, 105, 114, 117,  35, 119, 107, 100, 119,\n",
      "         35, 103, 100, 124,  35, 100, 113, 103,  35, 119, 107, 104,  35,  70,\n",
      "        114, 113, 105, 104, 117, 104, 113, 102, 104,  35, 114, 105,  35,  83,\n",
      "        117, 104, 118, 108, 103, 104, 113, 119, 118,  35, 107, 100, 118,  35,\n",
      "        103, 104, 102, 108, 103, 104, 103,  35, 119, 114,  35, 108, 113, 102,\n",
      "        111, 120, 103, 104,  35, 100,  35,  70, 114, 112, 112, 108, 118, 118,\n",
      "        108, 114, 113,  35, 118, 119, 100, 119, 104, 112, 104, 113, 119,  35,\n",
      "        114,   1]), tensor([ 68, 118,  35, 124, 114, 120,  35, 110, 113, 114, 122,  47,  35, 119,\n",
      "        107, 108, 118,  35, 108, 118,  35, 100,  35, 121, 104, 117, 124,  35,\n",
      "        118, 104, 113, 118, 108, 119, 108, 121, 104,  35, 108, 118, 118, 120,\n",
      "        104,  35, 100, 113, 103,  35,  76,  35, 122, 114, 120, 111, 103,  35,\n",
      "        100, 118, 110,  35, 124, 114, 120,  35, 119, 114,  35, 102, 111, 100,\n",
      "        117, 108, 105, 124,  35, 100,  35, 105, 104, 122,  35, 119, 107, 108,\n",
      "        113, 106, 118,  47,  35, 100, 118,  35, 119, 107, 104,  35, 108, 113,\n",
      "        102, 111, 120, 118, 108, 114, 113,  35, 114, 105,  35, 119, 107, 108,\n",
      "        118,  35, 108, 118, 118, 120, 104,  35, 112, 100, 124,  35, 118, 114,\n",
      "        112,   1]), tensor([ 76,  35, 122, 114, 120, 111, 103,  35, 100, 118, 110,  35, 124, 114,\n",
      "        120,  35, 105, 108, 117, 118, 119,  35, 114, 105,  35, 100, 111, 111,\n",
      "         35, 119, 114,  35, 118, 119, 100, 119, 104,  35, 100, 119,  35, 122,\n",
      "        107, 114, 118, 104,  35, 101, 104, 107, 104, 118, 119,  35, 119, 107,\n",
      "        108, 118,  35, 122, 100, 118,  35, 108, 113, 102, 111, 120, 103, 104,\n",
      "        103,  47,  35, 108, 113,  35, 114, 119, 107, 104, 117,  35, 122, 114,\n",
      "        117, 103, 118,  47,  35, 122, 107, 104, 119, 107, 104, 117,  35, 108,\n",
      "        119,  35, 122, 100, 118,  35, 119, 107, 104,  35,  70, 114, 112, 112,\n",
      "        108, 118, 118, 108, 114, 113,  35, 108, 119, 118, 104, 111, 105,  35,\n",
      "        119,   1]), tensor([ 73, 120, 117, 119, 107, 104, 117, 112, 114, 117, 104,  47,  35, 108,\n",
      "        113,  35, 100, 102, 102, 114, 117, 103, 100, 113, 102, 104,  35, 122,\n",
      "        108, 119, 107,  35, 119, 107, 104,  35, 103, 104, 101, 100, 119, 104,\n",
      "         42,  35, 118,  35, 100, 106, 104, 113, 103, 100,  47,  35, 119, 107,\n",
      "        104,  35, 113, 114, 117, 112, 100, 111,  35, 102, 114, 120, 117, 118,\n",
      "        104,  35, 114, 105,  35, 100, 102, 119, 108, 114, 113,  35, 122, 114,\n",
      "        120, 111, 103,  35, 101, 104,  35, 105, 114, 117,  35, 119, 107, 104,\n",
      "         35, 109, 114, 108, 113, 119,  35, 103, 104, 101, 100, 119, 104,  35,\n",
      "        114, 113,  35, 119, 107, 104,  35, 105, 114, 120, 117,  35, 117, 104,\n",
      "        115,   1]), tensor([ 86, 108, 113, 102, 104,  35, 108, 119,  35, 113, 114,  35, 111, 114,\n",
      "        113, 106, 104, 117,  35, 100, 115, 115, 104, 100, 117, 118,  35, 115,\n",
      "        114, 118, 118, 108, 101, 111, 104,  35, 105, 114, 117,  35, 104, 121,\n",
      "        104, 113, 119, 118,  35, 119, 114,  35, 119, 100, 110, 104,  35, 115,\n",
      "        111, 100, 102, 104,  35, 108, 113,  35, 119, 107, 108, 118,  35, 122,\n",
      "        100, 124,  47,  35, 101, 104, 102, 100, 120, 118, 104,  35, 119, 107,\n",
      "        104,  35, 115, 114, 111, 108, 119, 108, 102, 100, 111,  35, 106, 117,\n",
      "        114, 120, 115, 118,  35, 107, 100, 121, 104,  35, 100, 111, 117, 104,\n",
      "        100, 103, 124,  35, 103, 108, 118, 119, 117, 108, 101, 120, 119, 104,\n",
      "        103,   1]), tensor([ 80, 100, 103, 100, 112,  35,  83, 117, 104, 118, 108, 103, 104, 113,\n",
      "        119,  47,  35,  76,  35, 118, 107, 100, 111, 111,  35, 101, 104,  35,\n",
      "        103, 104, 111, 108, 106, 107, 119, 104, 103,  35, 119, 114,  35, 117,\n",
      "        104, 115, 111, 124,  35, 119, 114,  35,  80, 117,  35,  89, 100, 117,\n",
      "        104, 111, 100,  35,  86, 120, 100, 113, 125, 104, 118,  48,  70, 100,\n",
      "        117, 115, 104, 106, 113, 100,  49,   1,   0,   0,   0,   0,   0,   0,\n",
      "          0,   0,   0,   0,   0,   0,   0,   0,   0,   0,   0,   0,   0,   0,\n",
      "          0,   0,   0,   0,   0,   0,   0,   0,   0,   0,   0,   0,   0,   0,\n",
      "          0,   0,   0,   0,   0,   0,   0,   0,   0,   0,   0,   0,   0,   0,\n",
      "          0,   0]), tensor([ 87, 107, 104,  35,  86, 114, 102, 108, 100, 111, 108, 118, 119,  35,\n",
      "         74, 117, 114, 120, 115,  35, 117, 104, 116, 120, 104, 118, 119, 104,\n",
      "        103,  35, 119, 107, 108, 118,  35,  70, 114, 112, 112, 108, 118, 118,\n",
      "        108, 114, 113,  35, 118, 119, 100, 119, 104, 112, 104, 113, 119,  35,\n",
      "         48,  35,  76,  35, 103, 114,  35, 113, 114, 119,  35, 110, 113, 114,\n",
      "        122,  35, 108, 105,  35, 100, 113, 124,  35, 114, 105,  35, 119, 107,\n",
      "        104,  35, 114, 119, 107, 104, 117,  35, 106, 117, 114, 120, 115, 118,\n",
      "         35, 112, 100, 103, 104,  35, 119, 107, 104,  35, 118, 100, 112, 104,\n",
      "         35, 117, 104, 116, 120, 104, 118, 119,  49,   1,   0,   0,   0,   0,\n",
      "          0,   0]), tensor([ 90, 104,  35, 103, 108, 103,  35, 118, 114,  35, 105, 114, 117,  35,\n",
      "        100,  35, 121, 104, 117, 124,  35, 118, 108, 112, 115, 111, 104,  35,\n",
      "        117, 104, 100, 118, 114, 113,  61,  35, 108, 113,  35, 119, 107, 104,\n",
      "         35, 111, 100, 118, 119,  35, 105, 104, 122,  35, 103, 100, 124, 118,\n",
      "         35, 122, 104,  35, 107, 100, 121, 104,  35, 118, 104, 104, 113,  35,\n",
      "         70, 114, 112, 112, 108, 118, 118, 108, 114, 113, 104, 117,  35,  73,\n",
      "        108, 118, 102, 107, 111, 104, 117,  35, 118, 120, 118, 115, 104, 113,\n",
      "        103,  35, 113, 104, 106, 114, 119, 108, 100, 119, 108, 114, 113, 118,\n",
      "         35, 114, 113,  35, 111, 108, 121, 104,  35, 119, 104, 111, 104, 121,\n",
      "        108,   1]), tensor([ 87, 107, 108, 118,  35, 117, 104, 100, 111, 111, 124,  35, 108, 118,\n",
      "         35, 119, 107, 104,  35, 112, 114, 118, 119,  35, 100, 115, 115, 117,\n",
      "        114, 115, 117, 108, 100, 119, 104,  35, 119, 108, 112, 104,  47,  35,\n",
      "        122, 107, 104, 113,  35, 122, 104,  35, 100, 117, 104,  35, 103, 108,\n",
      "        118, 102, 120, 118, 118, 108, 113, 106,  35, 119, 107, 104,  35, 105,\n",
      "        120, 119, 120, 117, 104,  35, 114, 105,  35, 114, 120, 117,  35, 105,\n",
      "        108, 118, 107, 104, 117, 108, 104, 118,  35, 115, 114, 111, 108, 102,\n",
      "        124,  35, 114, 113,  35, 119, 107, 104,  35, 101, 100, 118, 108, 118,\n",
      "         35, 114, 105,  35, 105, 114, 120, 117,  35, 117, 104, 115, 114, 117,\n",
      "        119,   1]), tensor([ 87, 107, 108, 118,  35, 108, 118,  35, 119, 107, 104,  35, 119, 107,\n",
      "        108, 113, 110, 108, 113, 106,  35, 119, 107, 100, 119,  35, 111, 104,\n",
      "        103,  35, 119, 107, 104,  35,  86, 114, 102, 108, 100, 111, 108, 118,\n",
      "        119,  35,  74, 117, 114, 120, 115,  35, 119, 114,  35, 112, 100, 110,\n",
      "        104,  35, 119, 107, 108, 118,  35, 117, 104, 116, 120, 104, 118, 119,\n",
      "         49,   1,   0,   0,   0,   0,   0,   0,   0,   0,   0,   0,   0,   0,\n",
      "          0,   0,   0,   0,   0,   0,   0,   0,   0,   0,   0,   0,   0,   0,\n",
      "          0,   0,   0,   0,   0,   0,   0,   0,   0,   0,   0,   0,   0,   0,\n",
      "          0,   0,   0,   0,   0,   0,   0,   0,   0,   0,   0,   0,   0,   0,\n",
      "          0,   0]), tensor([ 87, 107, 100, 113, 110,  35, 124, 114, 120,  47,  35,  80, 117,  35,\n",
      "         69, 100, 117, 198, 182, 113,  35,  70, 117, 104, 118, 115, 114,  49,\n",
      "          1,   0,   0,   0,   0,   0,   0,   0,   0,   0,   0,   0,   0,   0,\n",
      "          0,   0,   0,   0,   0,   0,   0,   0,   0,   0,   0,   0,   0,   0,\n",
      "          0,   0,   0,   0,   0,   0,   0,   0,   0,   0,   0,   0,   0,   0,\n",
      "          0,   0,   0,   0,   0,   0,   0,   0,   0,   0,   0,   0,   0,   0,\n",
      "          0,   0,   0,   0,   0,   0,   0,   0,   0,   0,   0,   0,   0,   0,\n",
      "          0,   0,   0,   0,   0,   0,   0,   0,   0,   0,   0,   0,   0,   0,\n",
      "          0,   0,   0,   0,   0,   0,   0,   0,   0,   0,   0,   0,   0,   0,\n",
      "          0,   0]), tensor([ 80, 117,  35,  89, 100, 117, 104, 111, 100,  47,  35,  80, 117,  35,\n",
      "         69, 100, 117, 198, 182, 113,  35,  70, 117, 104, 118, 115, 114,  35,\n",
      "        107, 100, 118,  35, 106, 108, 121, 104, 113,  35, 124, 114, 120,  35,\n",
      "        124, 114, 120, 117,  35, 100, 113, 118, 122, 104, 117,  49,   1,   0,\n",
      "          0,   0,   0,   0,   0,   0,   0,   0,   0,   0,   0,   0,   0,   0,\n",
      "          0,   0,   0,   0,   0,   0,   0,   0,   0,   0,   0,   0,   0,   0,\n",
      "          0,   0,   0,   0,   0,   0,   0,   0,   0,   0,   0,   0,   0,   0,\n",
      "          0,   0,   0,   0,   0,   0,   0,   0,   0,   0,   0,   0,   0,   0,\n",
      "          0,   0,   0,   0,   0,   0,   0,   0,   0,   0,   0,   0,   0,   0,\n",
      "          0,   0]), tensor([ 87, 107, 104,  35, 117, 104, 116, 120, 104, 118, 119,  35, 122, 100,\n",
      "        118,  35, 112, 100, 103, 104,  35, 101, 124,  35, 119, 107, 104,  35,\n",
      "         74, 117, 114, 120, 115,  35, 114, 105,  35, 119, 107, 104,  35,  83,\n",
      "        100, 117, 119, 124,  35, 114, 105,  35, 119, 107, 104,  35,  72, 120,\n",
      "        117, 114, 115, 104, 100, 113,  35,  86, 114, 102, 108, 100, 111, 108,\n",
      "        118, 119, 118,  47,  35, 101, 120, 119,  35,  76,  35, 102, 100, 113,\n",
      "         35, 108, 113, 105, 114, 117, 112,  35, 124, 114, 120,  35, 119, 107,\n",
      "        100, 119,  35, 108, 119,  35, 122, 100, 118,  35, 100, 115, 115, 117,\n",
      "        114, 121, 104, 103,  35, 120, 113, 100, 113, 108, 112, 114, 120, 118,\n",
      "        111,   1]), tensor([ 80, 100, 103, 100, 112,  35,  83, 117, 104, 118, 108, 103, 104, 113,\n",
      "        119,  47,  35,  76,  35, 100, 118, 110, 104, 103,  35, 105, 114, 117,\n",
      "         35, 102, 111, 100, 117, 108, 105, 108, 102, 100, 119, 108, 114, 113,\n",
      "         62,  35,  76,  35, 107, 100, 121, 104,  35, 100, 101, 118, 114, 111,\n",
      "        120, 119, 104, 111, 124,  35, 113, 114,  35, 108, 113, 119, 104, 113,\n",
      "        119, 108, 114, 113,  35, 114, 105,  35, 100, 117, 106, 120, 108, 113,\n",
      "        106,  35, 100, 101, 114, 120, 119,  35, 119, 107, 104,  35, 100, 115,\n",
      "        115, 117, 114, 115, 117, 108, 100, 119, 104, 113, 104, 118, 118,  35,\n",
      "        114, 105,  35, 100,  35,  70, 114, 112, 112, 108, 118, 118, 108, 114,\n",
      "        113,   1]), tensor([ 76,  35, 122, 100, 113, 119,  35, 119, 114,  35, 112, 100, 110, 104,\n",
      "         35, 108, 119,  35, 102, 111, 104, 100, 117,  35, 119, 107, 100, 119,\n",
      "         35, 122, 104,  35, 118, 120, 115, 115, 114, 117, 119,  35, 108, 119,\n",
      "         47,  35, 100, 113, 103,  35,  76,  35, 101, 104, 111, 108, 104, 121,\n",
      "        104,  35, 119, 107, 100, 119,  35, 108, 119,  35, 122, 100, 118,  35,\n",
      "        100, 111, 118, 114,  35, 118, 120, 115, 115, 114, 117, 119, 104, 103,\n",
      "         35, 108, 113,  35, 119, 107, 104,  35,  70, 114, 113, 105, 104, 117,\n",
      "        104, 113, 102, 104,  35, 114, 105,  35,  83, 117, 104, 118, 108, 103,\n",
      "        104, 113, 119, 118,  35, 114, 105,  35, 115, 114, 111, 108, 119, 108,\n",
      "        102,   1]), tensor([ 68, 118,  35,  70, 107, 100, 108, 117, 112, 100, 113,  35, 114, 105,\n",
      "         35, 119, 107, 100, 119,  35, 102, 114, 112, 112, 108, 119, 119, 104,\n",
      "        104,  47,  35,  76,  35, 122, 100, 113, 119, 104, 103,  35, 119, 114,\n",
      "         35, 107, 100, 121, 104,  35, 100, 111, 111,  35, 119, 107, 104,  35,\n",
      "        108, 113, 105, 114, 117, 112, 100, 119, 108, 114, 113,  35, 118, 114,\n",
      "         35, 119, 107, 100, 119,  35,  76,  35, 102, 114, 120, 111, 103,  35,\n",
      "        102, 114, 112, 112, 120, 113, 108, 102, 100, 119, 104,  35, 108, 119,\n",
      "         35, 119, 114,  35, 119, 107, 104,  35, 114, 119, 107, 104, 117,  35,\n",
      "        102, 114, 112, 112, 108, 119, 119, 104, 104,  35, 112, 104, 112, 101,\n",
      "        104,   1]), tensor([ 76, 113,  35, 113, 114,  35, 122, 100, 124,  35, 103, 114,  35, 122,\n",
      "        104,  35, 114, 115, 115, 114, 118, 104,  35, 108, 119,  49,  35,  73,\n",
      "        100, 117,  35, 105, 117, 114, 112,  35, 108, 119,  49,   1,   0,   0,\n",
      "          0,   0,   0,   0,   0,   0,   0,   0,   0,   0,   0,   0,   0,   0,\n",
      "          0,   0,   0,   0,   0,   0,   0,   0,   0,   0,   0,   0,   0,   0,\n",
      "          0,   0,   0,   0,   0,   0,   0,   0,   0,   0,   0,   0,   0,   0,\n",
      "          0,   0,   0,   0,   0,   0,   0,   0,   0,   0,   0,   0,   0,   0,\n",
      "          0,   0,   0,   0,   0,   0,   0,   0,   0,   0,   0,   0,   0,   0,\n",
      "          0,   0,   0,   0,   0,   0,   0,   0,   0,   0,   0,   0,   0,   0,\n",
      "          0,   0]), tensor([ 82, 120, 117,  35, 106, 117, 114, 120, 115,  35, 107, 100, 118,  35,\n",
      "        100, 111, 118, 114,  35, 118, 120, 115, 115, 114, 117, 119, 104, 103,\n",
      "         35, 108, 119,  49,  35,  86, 114,  35, 119, 107, 100, 119,  35, 119,\n",
      "        107, 104,  35, 103, 104, 101, 100, 119, 104,  35, 112, 100, 124,  35,\n",
      "        101, 104,  35, 107, 104, 111, 103,  35, 108, 113,  35, 100, 113,  35,\n",
      "        114, 117, 103, 104, 117, 104, 103,  35, 105, 100, 118, 107, 108, 114,\n",
      "        113,  47,  35, 122, 107, 108, 102, 107,  35, 108, 118,  35, 122, 107,\n",
      "        100, 119,  35, 112, 114, 118, 119,  35, 102, 114, 113, 102, 104, 117,\n",
      "        113, 118,  35, 112, 104,  47,  35, 101, 104, 102, 100, 120, 118, 104,\n",
      "         35,   1]), tensor([ 87, 107, 104,  35, 102, 114, 112, 115, 104, 119, 104, 113, 119,  35,\n",
      "        118, 104, 117, 121, 108, 102, 104, 118,  35, 107, 100, 103,  35, 108,\n",
      "        113, 105, 114, 117, 112, 104, 103,  35, 112, 104,  35, 119, 107, 100,\n",
      "        119,  35, 119, 107, 104,  35, 114, 117, 103, 104, 117,  35, 114, 105,\n",
      "         35, 108, 113, 119, 104, 117, 121, 104, 113, 119, 108, 114, 113, 118,\n",
      "         35, 122, 114, 120, 111, 103,  35, 101, 104,  35, 100, 118,  35, 105,\n",
      "        114, 111, 111, 114, 122, 118,  61,  35, 105, 108, 117, 118, 119, 111,\n",
      "        124,  35, 119, 107, 104,  35, 105, 114, 120, 117,  35, 117, 100, 115,\n",
      "        115, 114, 117, 119, 104, 120, 117, 118,  35, 114, 105,  35, 119, 107,\n",
      "        104,   1]), tensor([ 76, 113,  35, 119, 107, 100, 119,  35, 102, 100, 118, 104,  47,  35,\n",
      "        119, 107, 104,  35, 117, 100, 115, 115, 114, 117, 119, 104, 120, 117,\n",
      "        118,  35, 122, 114, 120, 111, 103,  35, 113, 114, 119,  35, 101, 104,\n",
      "         35, 100, 101, 111, 104,  35, 119, 114,  35, 117, 104, 115, 111, 124,\n",
      "         35, 119, 114,  35, 119, 107, 104,  35,  70, 114, 112, 112, 108, 118,\n",
      "        118, 108, 114, 113, 104, 117,  35, 103, 120, 117, 108, 113, 106,  35,\n",
      "        119, 107, 104,  35, 109, 114, 108, 113, 119,  35, 103, 104, 101, 100,\n",
      "        119, 104,  49,   1,   0,   0,   0,   0,   0,   0,   0,   0,   0,   0,\n",
      "          0,   0,   0,   0,   0,   0,   0,   0,   0,   0,   0,   0,   0,   0,\n",
      "          0,   0]), tensor([ 76,  35, 107, 100, 121, 104,  35, 113, 114, 119,  35, 117, 104, 102,\n",
      "        104, 108, 121, 104, 103,  35, 100, 113, 124,  35, 118, 120, 102, 107,\n",
      "         35, 111, 104, 119, 119, 104, 117,  49,   1,   0,   0,   0,   0,   0,\n",
      "          0,   0,   0,   0,   0,   0,   0,   0,   0,   0,   0,   0,   0,   0,\n",
      "          0,   0,   0,   0,   0,   0,   0,   0,   0,   0,   0,   0,   0,   0,\n",
      "          0,   0,   0,   0,   0,   0,   0,   0,   0,   0,   0,   0,   0,   0,\n",
      "          0,   0,   0,   0,   0,   0,   0,   0,   0,   0,   0,   0,   0,   0,\n",
      "          0,   0,   0,   0,   0,   0,   0,   0,   0,   0,   0,   0,   0,   0,\n",
      "          0,   0,   0,   0,   0,   0,   0,   0,   0,   0,   0,   0,   0,   0,\n",
      "          0,   0]), tensor([ 76, 105,  35,  76,  35, 107, 100, 103,  47,  35,  76,  35, 122, 114,\n",
      "        120, 111, 103,  35, 113, 100, 119, 120, 117, 100, 111, 111, 124,  35,\n",
      "        107, 100, 121, 104,  35, 108, 113, 105, 114, 117, 112, 104, 103,  35,\n",
      "        119, 107, 104,  35,  75, 114, 120, 118, 104,  49,   1,   0,   0,   0,\n",
      "          0,   0,   0,   0,   0,   0,   0,   0,   0,   0,   0,   0,   0,   0,\n",
      "          0,   0,   0,   0,   0,   0,   0,   0,   0,   0,   0,   0,   0,   0,\n",
      "          0,   0,   0,   0,   0,   0,   0,   0,   0,   0,   0,   0,   0,   0,\n",
      "          0,   0,   0,   0,   0,   0,   0,   0,   0,   0,   0,   0,   0,   0,\n",
      "          0,   0,   0,   0,   0,   0,   0,   0,   0,   0,   0,   0,   0,   0,\n",
      "          0,   0]), tensor([ 80, 100, 103, 100, 112,  35,  83, 117, 104, 118, 108, 103, 104, 113,\n",
      "        119,  47,  35, 108, 113,  35, 117, 104, 102, 104, 113, 119,  35, 103,\n",
      "        100, 124, 118,  47,  35, 104, 121, 104, 113,  35, 100, 118,  35, 122,\n",
      "        104,  35, 118, 115, 104, 100, 110,  47,  35, 117, 104, 115, 114, 117,\n",
      "        119, 118,  35, 107, 100, 121, 104,  35, 101, 104, 104, 113,  35, 105,\n",
      "        111, 114, 114, 103, 108, 113, 106,  35, 108, 113,  35, 114, 105,  35,\n",
      "        119, 107, 104,  35, 108, 113, 102, 117, 104, 100, 118, 108, 113, 106,\n",
      "         35, 113, 120, 112, 101, 104, 117,  35, 114, 105,  35, 102, 100, 118,\n",
      "        104, 118,  35, 114, 105,  35, 124, 114, 120, 113, 106,  35, 118, 114,\n",
      "        111,   1]), tensor([ 73, 108, 117, 118, 119, 111, 124,  47,  35,  80, 100, 103, 100, 112,\n",
      "         35,  83, 117, 104, 118, 108, 103, 104, 113, 119,  47,  35,  76,  35,\n",
      "        100, 112,  35, 118, 120, 117, 104,  35, 122, 104,  35, 122, 114, 120,\n",
      "        111, 103,  35, 100, 111, 111,  35, 122, 108, 118, 107,  35, 119, 114,\n",
      "         35, 118, 104, 113, 103,  35, 114, 120, 117,  35, 103, 104, 104, 115,\n",
      "        104, 118, 119,  35, 118, 124, 112, 115, 100, 119, 107, 124,  35, 119,\n",
      "        114,  35, 119, 107, 104,  35, 105, 100, 112, 108, 111, 108, 104, 118,\n",
      "         35, 114, 105,  35, 119, 107, 104,  35, 124, 114, 120, 113, 106,  35,\n",
      "        118, 114, 111, 103, 108, 104, 117, 118,  47,  35, 119, 107, 104,  35,\n",
      "         72,   1]), tensor([ 86, 104, 102, 114, 113, 103, 111, 124,  47,  35,  76,  35, 112, 120,\n",
      "        118, 119,  35, 119, 104, 111, 111,  35, 124, 114, 120,  35, 119, 107,\n",
      "        100, 119,  35,  76,  35, 106, 117, 104, 100, 119, 111, 124,  35, 122,\n",
      "        104, 111, 102, 114, 112, 104,  35, 124, 114, 120, 117,  35, 118, 119,\n",
      "        100, 119, 104, 112, 104, 113, 119, 118,  35, 114, 113,  35, 119, 107,\n",
      "        104,  35, 103, 104, 115, 111, 104, 119, 104, 103,  35, 120, 117, 100,\n",
      "        113, 108, 120, 112,  35, 108, 118, 118, 120, 104,  49,  35,  76, 113,\n",
      "         35, 115, 100, 117, 119, 108, 102, 120, 111, 100, 117,  47,  35,  76,\n",
      "         35, 118, 120, 115, 115, 114, 117, 119,  35, 124, 114, 120, 117,  35,\n",
      "        102,   1]), tensor([ 76,  35, 100, 112,  35, 116, 120, 108, 119, 104,  35, 100, 122, 100,\n",
      "        117, 104,  35, 119, 107, 100, 119,  35, 118, 114, 112, 104,  35, 115,\n",
      "        104, 114, 115, 111, 104,  35, 103, 104, 113, 124,  35, 119, 107, 100,\n",
      "        119,  35, 119, 107, 104, 117, 104,  35, 108, 118,  35, 100, 113, 124,\n",
      "         35, 100, 118, 118, 114, 102, 108, 100, 119, 108, 114, 113,  35, 101,\n",
      "        104, 119, 122, 104, 104, 113,  35, 119, 107, 104,  35, 103, 104, 100,\n",
      "        119, 107, 118,  35, 100, 113, 103,  35, 108, 111, 111,  35, 107, 104,\n",
      "        100, 111, 119, 107,  35, 100, 113, 103,  35, 119, 107, 104,  35, 120,\n",
      "        118, 104,  35, 114, 105,  35, 119, 107, 104,  35, 118, 107, 104, 111,\n",
      "        111,   1]), tensor([ 87, 107, 104, 117, 104, 105, 114, 117, 104,  47,  35, 108, 105,  35,\n",
      "        108, 119,  35, 108, 118,  35, 113, 114, 119,  35, 115, 114, 118, 118,\n",
      "        108, 101, 111, 104,  35, 119, 114,  35, 114, 101, 119, 100, 108, 113,\n",
      "         35, 100, 113,  35, 108, 112, 112, 104, 103, 108, 100, 119, 104,  35,\n",
      "        101, 100, 113,  47,  35, 108, 119,  35, 108, 118,  35, 104, 118, 118,\n",
      "        104, 113, 119, 108, 100, 111,  35, 119, 114,  35, 108, 112, 115, 114,\n",
      "        118, 104,  35, 100, 113,  35, 108, 112, 112, 104, 103, 108, 100, 119,\n",
      "        104,  35, 112, 114, 117, 100, 119, 114, 117, 108, 120, 112,  47,  35,\n",
      "        105, 114, 117,  35, 100, 111, 119, 107, 114, 120, 106, 107,  35, 119,\n",
      "        107,   1]), tensor([ 76,  35, 119, 117, 120, 118, 119,  35, 119, 107, 100, 119,  35, 124,\n",
      "        114, 120,  35, 122, 108, 111, 111,  35, 115, 120, 117, 118, 120, 104,\n",
      "         35, 119, 107, 108, 118,  35, 112, 100, 119, 119, 104, 117,  49,   1,\n",
      "          0,   0,   0,   0,   0,   0,   0,   0,   0,   0,   0,   0,   0,   0,\n",
      "          0,   0,   0,   0,   0,   0,   0,   0,   0,   0,   0,   0,   0,   0,\n",
      "          0,   0,   0,   0,   0,   0,   0,   0,   0,   0,   0,   0,   0,   0,\n",
      "          0,   0,   0,   0,   0,   0,   0,   0,   0,   0,   0,   0,   0,   0,\n",
      "          0,   0,   0,   0,   0,   0,   0,   0,   0,   0,   0,   0,   0,   0,\n",
      "          0,   0,   0,   0,   0,   0,   0,   0,   0,   0,   0,   0,   0,   0,\n",
      "          0,   0]), tensor([ 80, 100, 103, 100, 112,  35,  83, 117, 104, 118, 108, 103, 104, 113,\n",
      "        119,  47,  35, 100, 119,  35,  59,  35, 100,  49, 112,  49,  35, 119,\n",
      "        107, 108, 118,  35, 112, 114, 117, 113, 108, 113, 106,  47,  35,  76,\n",
      "         35, 105, 114, 120, 113, 103,  35, 112, 124, 118, 104, 111, 105,  35,\n",
      "        108, 113,  35, 119, 107, 104,  35, 106, 114, 114, 103,  35, 102, 114,\n",
      "        112, 115, 100, 113, 124,  35, 114, 105,  35,  53,  55,  35, 114, 119,\n",
      "        107, 104, 117,  35,  80,  72,  83, 118,  47,  35, 118, 119, 100, 105,\n",
      "        105,  35, 100, 113, 103,  35, 114, 113, 104,  35,  70, 114, 112, 112,\n",
      "        108, 118, 118, 108, 114, 113, 104, 117,  35, 100, 119,  35,  86, 102,\n",
      "        107,   1]), tensor([ 90, 104,  35, 122, 104, 117, 104,  35, 117, 104, 100, 111, 111, 124,\n",
      "         35, 111, 114, 114, 110, 108, 113, 106,  35, 105, 114, 117, 122, 100,\n",
      "        117, 103,  35, 119, 114,  35, 118, 115, 104, 113, 103, 108, 113, 106,\n",
      "         35, 100, 113, 114, 119, 107, 104, 117,  35, 122, 104, 104, 110,  35,\n",
      "        108, 113,  35,  86, 119, 117, 100, 118, 101, 114, 120, 117, 106,  35,\n",
      "        100, 105, 119, 104, 117,  35, 119, 107, 104,  35, 107, 114, 111, 108,\n",
      "        103, 100, 124, 118,  47,  35, 101, 120, 119,  35, 114, 120, 117,  35,\n",
      "        105, 111, 108, 106, 107, 119,  35, 122, 100, 118,  35, 102, 100, 113,\n",
      "        102, 104, 111, 111, 104, 103,  47,  35, 120, 113, 105, 114, 117, 119,\n",
      "        120,   1]), tensor([ 87, 107, 108, 118,  35, 108, 118,  35, 113, 114, 119,  35, 119, 107,\n",
      "        104,  35, 105, 108, 117, 118, 119,  35, 119, 108, 112, 104,  49,   1,\n",
      "          0,   0,   0,   0,   0,   0,   0,   0,   0,   0,   0,   0,   0,   0,\n",
      "          0,   0,   0,   0,   0,   0,   0,   0,   0,   0,   0,   0,   0,   0,\n",
      "          0,   0,   0,   0,   0,   0,   0,   0,   0,   0,   0,   0,   0,   0,\n",
      "          0,   0,   0,   0,   0,   0,   0,   0,   0,   0,   0,   0,   0,   0,\n",
      "          0,   0,   0,   0,   0,   0,   0,   0,   0,   0,   0,   0,   0,   0,\n",
      "          0,   0,   0,   0,   0,   0,   0,   0,   0,   0,   0,   0,   0,   0,\n",
      "          0,   0,   0,   0,   0,   0,   0,   0,   0,   0,   0,   0,   0,   0,\n",
      "          0,   0]), tensor([ 90, 104,  35, 105, 111, 124,  35, 119, 114,  35,  86, 119, 117, 100,\n",
      "        118, 101, 114, 120, 117, 106,  35, 122, 108, 119, 107,  35,  85, 104,\n",
      "        106, 108, 114, 113, 100, 111,  35,  68, 108, 117, 111, 108, 113, 104,\n",
      "        118,  49,   1,   0,   0,   0,   0,   0,   0,   0,   0,   0,   0,   0,\n",
      "          0,   0,   0,   0,   0,   0,   0,   0,   0,   0,   0,   0,   0,   0,\n",
      "          0,   0,   0,   0,   0,   0,   0,   0,   0,   0,   0,   0,   0,   0,\n",
      "          0,   0,   0,   0,   0,   0,   0,   0,   0,   0,   0,   0,   0,   0,\n",
      "          0,   0,   0,   0,   0,   0,   0,   0,   0,   0,   0,   0,   0,   0,\n",
      "          0,   0,   0,   0,   0,   0,   0,   0,   0,   0,   0,   0,   0,   0,\n",
      "          0,   0]), tensor([ 86, 108, 113, 102, 104,  35, 119, 107, 108, 118,  35, 100, 121, 108,\n",
      "        100, 119, 108, 114, 113,  35, 102, 114, 112, 115, 100, 113, 124,  35,\n",
      "        122, 100, 118,  35, 119, 100, 110, 104, 113,  35, 114, 121, 104, 117,\n",
      "         35, 101, 124,  35,  68, 108, 117,  35,  73, 117, 100, 113, 102, 104,\n",
      "         35, 119, 107, 108, 118,  35, 124, 104, 100, 117,  47,  35, 114, 113,\n",
      "        104,  35, 108, 113,  35, 119, 122, 114,  35, 105, 111, 108, 106, 107,\n",
      "        119, 118,  35, 107, 100, 118,  35, 101, 104, 104, 113,  35, 102, 100,\n",
      "        113, 102, 104, 111, 111, 104, 103,  49,   1,   0,   0,   0,   0,   0,\n",
      "          0,   0,   0,   0,   0,   0,   0,   0,   0,   0,   0,   0,   0,   0,\n",
      "          0,   0]), tensor([ 87, 107, 100, 119,  35, 112, 104, 100, 113, 118,  35, 119, 107, 100,\n",
      "        119,  35, 104, 100, 102, 107,  35, 119, 108, 112, 104,  35, 122, 104,\n",
      "         35, 119, 117, 124,  35, 119, 114,  35, 112, 100, 110, 104,  35, 114,\n",
      "        120, 117,  35, 122, 100, 124,  35, 119, 114,  35,  86, 119, 117, 100,\n",
      "        118, 101, 114, 120, 117, 106,  47,  35, 108, 113,  35, 106, 114, 114,\n",
      "        103,  35, 118, 115, 108, 117, 108, 119, 118,  47,  35, 122, 104,  35,\n",
      "        118, 119, 120, 112, 101, 111, 104,  35, 100, 102, 117, 114, 118, 118,\n",
      "         35, 124, 104, 119,  35, 100, 113, 114, 119, 107, 104, 117,  35, 107,\n",
      "        108, 119, 102, 107,  49,   1,   0,   0,   0,   0,   0,   0,   0,   0,\n",
      "          0,   0]), tensor([ 87, 114, 103, 100, 124,  35, 119, 114, 114,  47,  35, 122, 104,  35,\n",
      "        107, 100, 103,  35, 119, 114,  35, 105, 111, 124,  35, 121, 108, 100,\n",
      "         35,  83, 100, 117, 108, 118,  35, 119, 114,  35,  86, 119, 117, 100,\n",
      "        118, 101, 114, 120, 117, 106,  49,   1,   0,   0,   0,   0,   0,   0,\n",
      "          0,   0,   0,   0,   0,   0,   0,   0,   0,   0,   0,   0,   0,   0,\n",
      "          0,   0,   0,   0,   0,   0,   0,   0,   0,   0,   0,   0,   0,   0,\n",
      "          0,   0,   0,   0,   0,   0,   0,   0,   0,   0,   0,   0,   0,   0,\n",
      "          0,   0,   0,   0,   0,   0,   0,   0,   0,   0,   0,   0,   0,   0,\n",
      "          0,   0,   0,   0,   0,   0,   0,   0,   0,   0,   0,   0,   0,   0,\n",
      "          0,   0]), tensor([ 86, 114,  47,  35, 100, 111, 119, 107, 114, 120, 106, 107,  35,  76,\n",
      "         35, 122, 100, 118,  35, 100, 119,  35,  86, 102, 107, 108, 115, 107,\n",
      "        114, 111,  35, 108, 113,  35,  68, 112, 118, 119, 104, 117, 103, 100,\n",
      "        112,  35, 100, 119,  35,  59,  35, 100,  49, 112,  49,  47,  35,  76,\n",
      "         47,  35, 100, 111, 114, 113, 106,  35, 122, 108, 119, 107,  35,  53,\n",
      "         55,  35, 114, 119, 107, 104, 117, 118,  47,  35, 103, 108, 103,  35,\n",
      "        113, 114, 119,  35, 100, 117, 117, 108, 121, 104,  35, 108, 113,  35,\n",
      "         86, 119, 117, 100, 118, 101, 114, 120, 117, 106,  35, 120, 113, 119,\n",
      "        108, 111,  35,  55,  35, 115,  49, 112,  49,   1,   0,   0,   0,   0,\n",
      "          0,   0]), tensor([ 68, 119,  35, 115, 117, 104, 118, 104, 113, 119,  47,  35,  68, 108,\n",
      "        117,  35,  73, 117, 100, 113, 102, 104,  35, 108, 118,  35, 118, 119,\n",
      "        108, 111, 111,  35,  52,  51,  51,  40,  35, 118, 119, 100, 119, 104,\n",
      "         48, 114, 122, 113, 104, 103,  47,  35, 100, 113, 103,  35, 119, 107,\n",
      "        104,  35,  73, 117, 104, 113, 102, 107,  35,  74, 114, 121, 104, 117,\n",
      "        113, 112, 104, 113, 119,  35, 107, 100, 118,  35, 100, 118, 118, 120,\n",
      "        117, 104, 103,  35, 120, 118,  35, 119, 107, 100, 119,  35, 108, 119,\n",
      "         35, 122, 108, 111, 111,  35, 101, 104, 113, 103,  35, 114, 121, 104,\n",
      "        117,  35, 101, 100, 102, 110, 122, 100, 117, 103, 118,  35, 119, 114,\n",
      "         35,   1]), tensor([ 87, 107, 100, 119,  35, 108, 118,  35, 122, 107, 124,  35,  76,  35,\n",
      "        122, 114, 120, 111, 103,  35, 100, 118, 110,  35, 124, 114, 120,  35,\n",
      "        119, 114,  35, 115, 100, 118, 118,  35, 119, 107, 108, 118,  35, 102,\n",
      "        114, 112, 115, 111, 100, 108, 113, 119,  35, 114, 113,  35, 119, 114,\n",
      "         35, 119, 107, 104,  35,  73, 117, 104, 113, 102, 107,  35,  74, 114,\n",
      "        121, 104, 117, 113, 112, 104, 113, 119,  47,  35, 101, 104, 102, 100,\n",
      "        120, 118, 104,  35, 122, 104,  35, 122, 114, 120, 111, 103,  35, 118,\n",
      "        108, 112, 115, 111, 124,  35, 111, 108, 110, 104,  35, 119, 114,  35,\n",
      "        102, 100, 119, 102, 107,  35, 114, 120, 117,  35, 103, 108, 117, 104,\n",
      "        102,   1]), tensor([ 80, 117, 118,  35,  83, 111, 114, 114, 108, 109,  48, 121, 100, 113,\n",
      "         35,  74, 114, 117, 118, 104, 111,  47,  35,  76,  35, 100, 112,  35,\n",
      "        104, 123, 119, 117, 104, 112, 104, 111, 124,  35, 102, 114, 113, 102,\n",
      "        104, 117, 113, 104, 103,  35, 101, 124,  35, 122, 107, 100, 119,  35,\n",
      "        124, 114, 120,  35, 107, 100, 121, 104,  35, 119, 114, 111, 103,  35,\n",
      "        112, 104,  35, 100, 113, 103,  35,  76,  35, 102, 100, 113,  35, 100,\n",
      "        118, 118, 120, 117, 104,  35, 124, 114, 120,  35, 119, 107, 100, 119,\n",
      "         35,  76,  35, 118, 107, 100, 111, 111,  35, 112, 114, 118, 119,  35,\n",
      "        102, 104, 117, 119, 100, 108, 113, 111, 124,  35, 102, 114, 113, 121,\n",
      "        104,   1]), tensor([ 80, 100, 103, 100, 112,  35,  83, 117, 104, 118, 108, 103, 104, 113,\n",
      "        119,  47,  35, 114, 113,  35, 100,  35, 115, 114, 108, 113, 119,  35,\n",
      "        114, 105,  35, 114, 117, 103, 104, 117,  49,   1,   0,   0,   0,   0,\n",
      "          0,   0,   0,   0,   0,   0,   0,   0,   0,   0,   0,   0,   0,   0,\n",
      "          0,   0,   0,   0,   0,   0,   0,   0,   0,   0,   0,   0,   0,   0,\n",
      "          0,   0,   0,   0,   0,   0,   0,   0,   0,   0,   0,   0,   0,   0,\n",
      "          0,   0,   0,   0,   0,   0,   0,   0,   0,   0,   0,   0,   0,   0,\n",
      "          0,   0,   0,   0,   0,   0,   0,   0,   0,   0,   0,   0,   0,   0,\n",
      "          0,   0,   0,   0,   0,   0,   0,   0,   0,   0,   0,   0,   0,   0,\n",
      "          0,   0]), tensor([ 76,  35, 122, 108, 118, 107,  35, 119, 114,  35, 103, 117, 100, 122,\n",
      "         35, 119, 107, 104,  35, 100, 119, 119, 104, 113, 119, 108, 114, 113,\n",
      "         35, 114, 105,  35, 119, 107, 104,  35,  75, 114, 120, 118, 104,  35,\n",
      "        119, 114,  35, 100, 113,  35, 120, 113, 105, 114, 117, 119, 120, 113,\n",
      "        100, 119, 104,  35, 108, 113, 102, 108, 103, 104, 113, 119,  35, 122,\n",
      "        107, 108, 102, 107,  35, 107, 100, 118,  35, 114, 102, 102, 120, 117,\n",
      "        117, 104, 103,  35, 118, 108, 113, 102, 104,  35, 114, 120, 117,  35,\n",
      "        111, 100, 118, 119,  35, 115, 100, 117, 119,  48, 118, 104, 118, 118,\n",
      "        108, 114, 113,  47,  35, 100, 113, 103,  35, 119, 107, 100, 119,  35,\n",
      "        108,   1]), tensor([ 80, 100, 113, 124,  35, 114, 105,  35, 124, 114, 120,  35, 112, 100,\n",
      "        124,  35, 101, 104,  35, 120, 113, 100, 122, 100, 117, 104,  35, 119,\n",
      "        107, 100, 119,  35, 115, 100, 117, 119,  35, 114, 105,  35,  70, 124,\n",
      "        115, 117, 120, 118,  35, 108, 118,  35, 100, 111, 117, 104, 100, 103,\n",
      "        124,  35, 115, 100, 117, 119,  35, 114, 105,  35, 119, 107, 104,  35,\n",
      "         72, 120, 117, 114, 115, 104, 100, 113,  35,  88, 113, 108, 114, 113,\n",
      "         35, 101, 104, 102, 100, 120, 118, 104,  35,  74, 117, 104, 100, 119,\n",
      "         35,  69, 117, 108, 119, 100, 108, 113,  35, 117, 104, 119, 100, 108,\n",
      "        113, 104, 103,  35, 118, 114, 121, 104, 117, 104, 108, 106, 113,  35,\n",
      "        101,   1]), tensor([ 87, 107, 100, 119,  35, 118, 104, 108, 125, 120, 117, 104,  35, 122,\n",
      "        100, 118,  35, 100, 113,  35, 108, 111, 111, 104, 106, 100, 111,  35,\n",
      "        100, 102, 119,  49,   1,   0,   0,   0,   0,   0,   0,   0,   0,   0,\n",
      "          0,   0,   0,   0,   0,   0,   0,   0,   0,   0,   0,   0,   0,   0,\n",
      "          0,   0,   0,   0,   0,   0,   0,   0,   0,   0,   0,   0,   0,   0,\n",
      "          0,   0,   0,   0,   0,   0,   0,   0,   0,   0,   0,   0,   0,   0,\n",
      "          0,   0,   0,   0,   0,   0,   0,   0,   0,   0,   0,   0,   0,   0,\n",
      "          0,   0,   0,   0,   0,   0,   0,   0,   0,   0,   0,   0,   0,   0,\n",
      "          0,   0,   0,   0,   0,   0,   0,   0,   0,   0,   0,   0,   0,   0,\n",
      "          0,   0]), tensor([ 80, 117,  35,  87, 118, 108, 100, 110, 114, 120, 117, 112, 100, 118,\n",
      "         35, 108, 118,  35, 113, 114, 122,  35, 101, 104, 108, 113, 106,  35,\n",
      "        107, 104, 111, 103,  35, 108, 113,  35,  81, 114, 117, 119, 107,  35,\n",
      "         70, 124, 115, 117, 120, 118,  49,   1,   0,   0,   0,   0,   0,   0,\n",
      "          0,   0,   0,   0,   0,   0,   0,   0,   0,   0,   0,   0,   0,   0,\n",
      "          0,   0,   0,   0,   0,   0,   0,   0,   0,   0,   0,   0,   0,   0,\n",
      "          0,   0,   0,   0,   0,   0,   0,   0,   0,   0,   0,   0,   0,   0,\n",
      "          0,   0,   0,   0,   0,   0,   0,   0,   0,   0,   0,   0,   0,   0,\n",
      "          0,   0,   0,   0,   0,   0,   0,   0,   0,   0,   0,   0,   0,   0,\n",
      "          0,   0]), tensor([ 76,  35, 122, 114, 120, 111, 103,  35, 100, 115, 115, 104, 100, 111,\n",
      "         35, 119, 114,  35, 119, 107, 104,  35,  75, 114, 120, 118, 104,  35,\n",
      "        119, 114,  35, 104, 123, 115, 117, 104, 118, 118,  35, 108, 119, 118,\n",
      "         35, 118, 124, 112, 115, 100, 119, 107, 124,  35, 122, 108, 119, 107,\n",
      "         35,  80, 117,  35,  87, 118, 108, 100, 110, 114, 120, 117, 112, 100,\n",
      "        118,  35, 100, 113, 103,  35, 107, 108, 118,  35, 105, 100, 112, 108,\n",
      "        111, 124,  49,   1,   0,   0,   0,   0,   0,   0,   0,   0,   0,   0,\n",
      "          0,   0,   0,   0,   0,   0,   0,   0,   0,   0,   0,   0,   0,   0,\n",
      "          0,   0,   0,   0,   0,   0,   0,   0,   0,   0,   0,   0,   0,   0,\n",
      "          0,   0]), tensor([ 75, 104,  35, 107, 100, 118,  35, 101, 104, 104, 113,  35, 100, 102,\n",
      "        102, 120, 118, 104, 103,  35, 114, 105,  35, 100,  35, 102, 117, 108,\n",
      "        112, 104,  35, 114, 105,  35, 122, 107, 108, 102, 107,  35,  76,  35,\n",
      "        103, 114,  35, 113, 114, 119,  35, 119, 107, 108, 113, 110,  35, 107,\n",
      "        104,  35, 108, 118,  35, 106, 120, 108, 111, 119, 124,  49,   1,   0,\n",
      "          0,   0,   0,   0,   0,   0,   0,   0,   0,   0,   0,   0,   0,   0,\n",
      "          0,   0,   0,   0,   0,   0,   0,   0,   0,   0,   0,   0,   0,   0,\n",
      "          0,   0,   0,   0,   0,   0,   0,   0,   0,   0,   0,   0,   0,   0,\n",
      "          0,   0,   0,   0,   0,   0,   0,   0,   0,   0,   0,   0,   0,   0,\n",
      "          0,   0]), tensor([ 75, 114, 122, 104, 121, 104, 117,  47,  35, 122, 107, 100, 119, 104,\n",
      "        121, 104, 117,  35, 119, 107, 104,  35, 112, 104, 117, 108, 119, 118,\n",
      "         35, 114, 105,  35, 107, 108, 118,  35, 102, 100, 118, 104,  47,  35,\n",
      "        119, 107, 104,  35, 102, 108, 117, 102, 120, 112, 118, 119, 100, 113,\n",
      "        102, 104, 118,  35, 114, 105,  35, 107, 108, 118,  35, 100, 101, 103,\n",
      "        120, 102, 119, 108, 114, 113,  35, 122, 104, 117, 104,  35, 120, 113,\n",
      "        100, 102, 102, 104, 115, 119, 100, 101, 111, 104,  49,   1,   0,   0,\n",
      "          0,   0,   0,   0,   0,   0,   0,   0,   0,   0,   0,   0,   0,   0,\n",
      "          0,   0,   0,   0,   0,   0,   0,   0,   0,   0,   0,   0,   0,   0,\n",
      "          0,   0]), tensor([ 75, 104,  35, 122, 100, 118,  35, 100, 101, 103, 120, 102, 119, 104,\n",
      "        103,  35, 105, 117, 114, 112,  35, 119, 107, 104,  35, 119, 104, 117,\n",
      "        117, 108, 119, 114, 117, 124,  35, 114, 105,  35, 100,  35,  72, 120,\n",
      "        117, 114, 115, 104, 100, 113,  35,  88, 113, 108, 114, 113,  35,  80,\n",
      "        104, 112, 101, 104, 117,  35,  86, 119, 100, 119, 104,  49,   1,   0,\n",
      "          0,   0,   0,   0,   0,   0,   0,   0,   0,   0,   0,   0,   0,   0,\n",
      "          0,   0,   0,   0,   0,   0,   0,   0,   0,   0,   0,   0,   0,   0,\n",
      "          0,   0,   0,   0,   0,   0,   0,   0,   0,   0,   0,   0,   0,   0,\n",
      "          0,   0,   0,   0,   0,   0,   0,   0,   0,   0,   0,   0,   0,   0,\n",
      "          0,   0]), tensor([ 76,  35, 122, 114, 120, 111, 103,  35, 100, 118, 110,  35, 119, 107,\n",
      "        104,  35,  83, 117, 104, 118, 108, 103, 104, 113, 119,  35, 119, 114,\n",
      "         35, 104, 123, 115, 117, 104, 118, 118,  35, 114, 120, 117,  35, 102,\n",
      "        114, 113, 102, 104, 117, 113,  35, 119, 114,  35, 119, 107, 104,  35,\n",
      "         68, 113, 110, 100, 117, 100,  35,  74, 114, 121, 104, 117, 113, 112,\n",
      "        104, 113, 119,  35, 100, 101, 114, 120, 119,  35, 119, 107, 108, 118,\n",
      "         35, 108, 113, 102, 108, 103, 104, 113, 119,  35, 100, 113, 103,  35,\n",
      "        114, 120, 117,  35, 107, 114, 115, 104,  35, 119, 107, 100, 119,  35,\n",
      "        119, 107, 108, 118,  35, 120, 113, 105, 114, 117, 119, 120, 113, 100,\n",
      "        119,   1]), tensor([ 80, 100, 103, 100, 112,  35,  83, 117, 104, 118, 108, 103, 104, 113,\n",
      "        119,  47,  35, 112, 100, 124,  35,  76,  35, 118, 119, 100, 117, 119,\n",
      "         35, 101, 124,  35, 118, 100, 124, 108, 113, 106,  35, 119, 107, 100,\n",
      "        119,  35,  76,  35, 100, 106, 117, 104, 104,  35, 122, 107, 114, 111,\n",
      "        104, 107, 104, 100, 117, 119, 104, 103, 111, 124,  35, 122, 108, 119,\n",
      "        107,  35, 122, 107, 100, 119,  35,  80, 117,  35,  70, 114, 118, 118,\n",
      "        120, 119, 119, 100,  35, 109, 120, 118, 119,  35, 118, 100, 108, 103,\n",
      "         47,  35, 100, 111, 119, 107, 114, 120, 106, 107,  35, 119, 107, 100,\n",
      "        119,  35, 108, 118,  35, 113, 114, 119,  35, 122, 107, 124,  35,  76,\n",
      "         35,   1]), tensor([ 76,  35, 100, 118, 110, 104, 103,  35, 105, 114, 117,  35, 119, 107,\n",
      "        104,  35, 105, 111, 114, 114, 117,  35, 114, 113,  35, 119, 107, 104,\n",
      "         35, 112, 100, 119, 119, 104, 117,  35, 117, 100, 108, 118, 104, 103,\n",
      "         35, 101, 124,  35,  80, 117, 118,  35,  89, 108, 111, 111, 108, 104,\n",
      "        117, 118,  47,  35, 108, 113,  35, 114, 117, 103, 104, 117,  35, 119,\n",
      "        114,  35, 103, 104, 102, 117, 124,  35, 124, 104, 119,  35, 100, 113,\n",
      "        114, 119, 107, 104, 117,  35, 100, 102, 119,  35, 114, 105,  35, 119,\n",
      "        104, 117, 117, 114, 117, 108, 118, 112,  35, 114, 113,  35, 119, 107,\n",
      "        104,  35, 115, 100, 117, 119,  35, 114, 105,  35, 119, 107, 104,  35,\n",
      "         87,   1]), tensor([ 80, 124,  35, 105, 104, 111, 111, 114, 122,  35,  80, 104, 112, 101,\n",
      "        104, 117,  35, 107, 100, 118,  35, 103, 104, 118, 102, 117, 108, 101,\n",
      "        104, 103,  35, 119, 107, 104,  35, 102, 108, 117, 102, 120, 112, 118,\n",
      "        119, 100, 113, 102, 104, 118,  35, 100, 113, 103,  35,  76,  35, 113,\n",
      "        104, 104, 103,  35, 100, 103, 103,  35, 113, 114,  35, 105, 120, 117,\n",
      "        119, 107, 104, 117,  35, 103, 104, 119, 100, 108, 111, 118,  49,   1,\n",
      "          0,   0,   0,   0,   0,   0,   0,   0,   0,   0,   0,   0,   0,   0,\n",
      "          0,   0,   0,   0,   0,   0,   0,   0,   0,   0,   0,   0,   0,   0,\n",
      "          0,   0,   0,   0,   0,   0,   0,   0,   0,   0,   0,   0,   0,   0,\n",
      "          0,   0]), tensor([ 76,  35, 122, 114, 120, 111, 103,  35, 109, 120, 118, 119,  35, 115,\n",
      "        114, 108, 113, 119,  35, 114, 120, 119,  35, 119, 107, 100, 119,  35,\n",
      "        113, 114, 119,  35, 114, 113, 111, 124,  35, 122, 100, 118,  35,  80,\n",
      "        117,  35,  87, 118, 108, 100, 110, 114, 120, 117, 112, 100, 118,  35,\n",
      "        100, 101, 103, 120, 102, 119, 104, 103,  35, 114, 113,  35, 118, 114,\n",
      "        108, 111,  35, 101, 104, 111, 114, 113, 106, 108, 113, 106,  35, 119,\n",
      "        114,  35, 119, 107, 104,  35,  69, 117, 108, 119, 108, 118, 107,  35,\n",
      "        101, 100, 118, 104, 118,  47,  35, 107, 104,  35, 122, 100, 118,  35,\n",
      "        100, 101, 103, 120, 102, 119, 104, 103,  35, 100, 113, 103,  35, 108,\n",
      "        118,   1]), tensor([ 70, 114, 113, 118, 104, 116, 120, 104, 113, 119, 111, 124,  47,  35,\n",
      "        104, 121, 104, 117, 124,  35, 100, 121, 104, 113, 120, 104,  35, 105,\n",
      "        114, 117,  35, 119, 100, 110, 108, 113, 106,  35, 100, 102, 119, 108,\n",
      "        114, 113,  35, 100, 106, 100, 108, 113, 118, 119,  35,  87, 120, 117,\n",
      "        110, 104, 124,  35, 108, 118,  35, 114, 115, 104, 113,  35, 119, 114,\n",
      "         35, 120, 118,  35, 100, 113, 103,  35,  76,  35, 102, 100, 111, 111,\n",
      "         35, 114, 113,  35, 124, 114, 120,  47,  35,  80, 100, 103, 100, 112,\n",
      "         35,  83, 117, 104, 118, 108, 103, 104, 113, 119,  47,  35, 100, 113,\n",
      "        103,  35, 100, 111, 111,  35, 112, 124,  35, 105, 104, 111, 111, 114,\n",
      "        122,   1]), tensor([ 76, 113,  35, 105, 100, 102, 119,  47,  35, 119, 107, 104,  35, 122,\n",
      "        107, 114, 111, 104,  35, 101, 120, 118, 108, 113, 104, 118, 118,  35,\n",
      "        100, 115, 115, 104, 100, 117, 118,  35, 119, 114,  35, 101, 104,  35,\n",
      "        100,  35, 118, 104, 119,  35, 120, 115,  47,  35, 119, 107, 104,  35,\n",
      "        118, 114, 111, 104,  35, 115, 120, 117, 115, 114, 118, 104,  35, 114,\n",
      "        105,  35, 122, 107, 108, 102, 107,  35, 108, 118,  35, 119, 114,  35,\n",
      "        104, 123, 102, 107, 100, 113, 106, 104,  35,  80, 117,  35,  87, 118,\n",
      "        108, 100, 110, 114, 120, 117, 112, 100, 118,  35, 105, 114, 117,  35,\n",
      "        100,  35,  87, 120, 117, 110, 108, 118, 107,  35, 103, 117, 120, 106,\n",
      "         35,   1]), tensor([ 80, 117,  35,  68, 111, 124, 118, 118, 100, 113, 103, 117, 100, 110,\n",
      "        108, 118,  47,  35, 122, 104,  35, 118, 107, 100, 111, 111,  35, 118,\n",
      "        104, 104,  35, 122, 107, 100, 119,  35, 122, 104,  35, 102, 100, 113,\n",
      "         35, 103, 114,  35, 100, 101, 114, 120, 119,  35, 119, 107, 108, 118,\n",
      "         49,   1,   0,   0,   0,   0,   0,   0,   0,   0,   0,   0,   0,   0,\n",
      "          0,   0,   0,   0,   0,   0,   0,   0,   0,   0,   0,   0,   0,   0,\n",
      "          0,   0,   0,   0,   0,   0,   0,   0,   0,   0,   0,   0,   0,   0,\n",
      "          0,   0,   0,   0,   0,   0,   0,   0,   0,   0,   0,   0,   0,   0,\n",
      "          0,   0,   0,   0,   0,   0,   0,   0,   0,   0,   0,   0,   0,   0,\n",
      "          0,   0]), tensor([ 76,  35, 111, 108, 118, 119, 104, 113, 104, 103,  35, 102, 111, 114,\n",
      "        118, 104, 111, 124,  35, 119, 114,  35, 101, 114, 119, 107,  35, 124,\n",
      "        114, 120, 117,  35, 118, 115, 104, 104, 102, 107,  35, 100, 113, 103,\n",
      "         35, 119, 107, 100, 119,  35, 112, 100, 103, 104,  35, 101, 124,  35,\n",
      "        119, 107, 104,  35,  80, 104, 112, 101, 104, 117,  35, 101, 104, 105,\n",
      "        114, 117, 104,  35, 124, 114, 120,  49,   1,   0,   0,   0,   0,   0,\n",
      "          0,   0,   0,   0,   0,   0,   0,   0,   0,   0,   0,   0,   0,   0,\n",
      "          0,   0,   0,   0,   0,   0,   0,   0,   0,   0,   0,   0,   0,   0,\n",
      "          0,   0,   0,   0,   0,   0,   0,   0,   0,   0,   0,   0,   0,   0,\n",
      "          0,   0]), tensor([ 90, 108, 119, 107,  35, 117, 104, 106, 100, 117, 103,  35, 119, 114,\n",
      "         35,  80, 117,  35,  70, 114, 118, 118, 120, 119, 119, 100,  42,  35,\n",
      "        118,  35, 118, 115, 104, 104, 102, 107,  47,  35, 107, 104,  35, 108,\n",
      "        118,  35, 100, 122, 100, 117, 104,  35, 119, 107, 100, 119,  35,  76,\n",
      "         35, 112, 100, 103, 104,  35, 100,  35, 118, 119, 100, 119, 104, 112,\n",
      "        104, 113, 119,  35, 122, 107, 108, 102, 107,  35, 105, 120, 111, 111,\n",
      "        124,  35, 118, 120, 115, 115, 114, 117, 119, 118,  35, 107, 108, 118,\n",
      "         35, 114, 122, 113,  35, 118, 104, 113, 119, 108, 112, 104, 113, 119,\n",
      "        118,  49,   1,   0,   0,   0,   0,   0,   0,   0,   0,   0,   0,   0,\n",
      "          0,   0]), tensor([ 80, 100, 103, 100, 112,  35,  83, 117, 104, 118, 108, 103, 104, 113,\n",
      "        119,  47,  35,  76,  35, 119, 114, 114,  35, 122, 108, 118, 107,  35,\n",
      "        119, 114,  35, 100, 103, 103,  35, 119, 114,  35, 119, 107, 104,  35,\n",
      "        115, 117, 114, 119, 104, 118, 119, 118,  35, 121, 114, 108, 102, 104,\n",
      "        103,  35, 101, 124,  35,  80, 117, 118,  35,  89, 108, 111, 111, 108,\n",
      "        104, 117, 118,  35, 100, 113, 103,  35,  80, 117,  35,  68, 111, 124,\n",
      "        118, 118, 100, 113, 103, 117, 100, 110, 108, 118,  35, 100, 119,  35,\n",
      "        119, 107, 104,  35, 115, 117, 104, 112, 104, 103, 108, 119, 100, 119,\n",
      "        104, 103,  35, 100, 101, 103, 120, 102, 119, 108, 114, 113,  35, 114,\n",
      "        105,   1]), tensor([ 81, 114, 119,  35, 114, 113, 111, 124,  35, 108, 118,  35, 119, 107,\n",
      "        108, 118,  35, 112, 100, 113,  35, 108, 111, 111,  47,  35, 101, 120,\n",
      "        119,  35, 100,  35, 101, 100, 106,  35, 114, 105,  35, 107, 100, 118,\n",
      "        107, 108, 118, 107,  35, 122, 100, 118,  35, 115, 111, 100, 113, 119,\n",
      "        104, 103,  35, 113, 104, 123, 119,  35, 119, 114,  35, 107, 108, 112,\n",
      "         35, 118, 114,  35, 119, 107, 100, 119,  35, 107, 104,  35, 102, 114,\n",
      "        120, 111, 103,  35, 101, 104,  35, 100, 102, 102, 120, 118, 104, 103,\n",
      "         35, 114, 105,  35, 103, 117, 120, 106,  35, 118, 112, 120, 106, 106,\n",
      "        111, 108, 113, 106,  47,  35, 104, 121, 104, 113,  35, 119, 107, 114,\n",
      "        120,   1]), tensor([ 90, 104,  35, 113, 104, 104, 103,  35, 119, 114,  35, 100, 102, 119,\n",
      "         35, 105, 100, 118, 119,  35, 101, 104, 102, 100, 120, 118, 104,  35,\n",
      "         76,  35, 100, 112,  35, 100, 105, 117, 100, 108, 103,  35, 119, 107,\n",
      "        100, 119,  47,  35, 113, 114, 122,  35, 119, 107, 100, 119,  35,  87,\n",
      "        120, 117, 110, 104, 124,  35, 107, 100, 118,  35, 101, 104, 104, 113,\n",
      "         35, 100, 102, 102, 104, 115, 119, 104, 103,  35, 100, 118,  35, 100,\n",
      "         35, 102, 100, 113, 103, 108, 103, 100, 119, 104,  35, 102, 114, 120,\n",
      "        113, 119, 117, 124,  35, 114, 105,  35, 119, 107, 104,  35,  72, 120,\n",
      "        117, 114, 115, 104, 100, 113,  35,  88, 113, 108, 114, 113,  47,  35,\n",
      "        108,   1]), tensor([ 76, 119,  35, 107, 100, 118,  35, 100, 111, 117, 104, 100, 103, 124,\n",
      "         35, 100, 103, 121, 100, 113, 102, 104, 103,  35, 119, 114,  35, 115,\n",
      "        114, 118, 108, 119, 108, 114, 113, 118,  35, 100, 119,  35, 119, 122,\n",
      "        114,  35, 115, 114, 108, 113, 119, 118,  35, 114, 113,  35, 119, 107,\n",
      "        104,  35, 101, 114, 117, 103, 104, 117,  35, 122, 108, 119, 107,  35,\n",
      "        119, 107, 104,  35, 101, 120, 105, 105, 104, 117,  35, 125, 114, 113,\n",
      "        104,  35, 108, 113,  35,  70, 124, 115, 117, 120, 118,  47,  35, 108,\n",
      "        113,  35, 121, 108, 114, 111, 100, 119, 108, 114, 113,  35, 114, 105,\n",
      "         35,  88,  81,  35, 100, 117, 117, 100, 113, 106, 104, 112, 104, 113,\n",
      "        119,   1]), tensor([ 80, 114, 117, 104, 114, 121, 104, 117,  47,  35,  80, 117,  35,  71,\n",
      "        104, 113, 110, 119, 100, 118, 107,  47,  35, 119, 107, 104,  35, 111,\n",
      "        104, 100, 103, 104, 117,  35, 114, 105,  35,  37,  81, 114, 117, 119,\n",
      "        107,  35,  70, 124, 115, 117, 120, 118,  37,  35, 122, 107, 108, 102,\n",
      "        107,  47,  35,  76,  35, 122, 114, 120, 111, 103,  35, 117, 104, 112,\n",
      "        108, 113, 103,  35, 119, 107, 104,  35,  75, 114, 120, 118, 104,  47,\n",
      "         35, 108, 118,  35, 120, 113, 103, 104, 117,  35,  87, 120, 117, 110,\n",
      "        108, 118, 107,  35, 114, 102, 102, 120, 115, 100, 119, 108, 114, 113,\n",
      "         47,  35, 107, 100, 118,  35, 117, 104, 105, 120, 118, 104, 103,  35,\n",
      "        119,   1]), tensor([ 80, 100, 103, 100, 112,  35,  83, 117, 104, 118, 108, 103, 104, 113,\n",
      "        119,  47,  35,  76,  35, 122, 114, 120, 111, 103,  35, 111, 108, 110,\n",
      "        104,  35, 119, 114,  35, 103, 117, 100, 122,  35, 124, 114, 120, 117,\n",
      "         35, 100, 119, 119, 104, 113, 119, 108, 114, 113,  35, 119, 114,  35,\n",
      "        119, 107, 104,  35, 105, 100, 102, 119,  35, 119, 107, 100, 119,  35,\n",
      "        119, 107, 104,  35,  70, 114, 120, 113, 102, 108, 111,  35,  48,  35,\n",
      "        113, 114, 119,  35, 105, 114, 117,  35, 119, 107, 104,  35, 105, 108,\n",
      "        117, 118, 119,  35, 119, 108, 112, 104,  47,  35,  76,  35, 112, 108,\n",
      "        106, 107, 119,  35, 100, 103, 103,  35,  48,  35, 107, 100, 118,  35,\n",
      "        102,   1]), tensor([ 87, 107, 104,  35, 115, 114, 108, 113, 119,  35, 101, 104, 108, 113,\n",
      "        106,  35, 119, 107, 100, 119,  35, 122, 104,  35,  80,  72,  83, 118,\n",
      "         35, 107, 100, 121, 104,  35, 119, 107, 104,  35, 114, 115, 115, 114,\n",
      "        117, 119, 120, 113, 108, 119, 124,  47,  35, 114, 113, 102, 104,  35,\n",
      "        100,  35, 112, 114, 113, 119, 107,  47,  35, 119, 114,  35, 118, 120,\n",
      "        101, 112, 108, 119,  35, 100,  35, 122, 117, 108, 119, 119, 104, 113,\n",
      "         35, 116, 120, 104, 118, 119, 108, 114, 113,  47,  35, 105, 114, 117,\n",
      "         35, 115, 117, 108, 114, 117, 108, 119, 124,  35, 102, 114, 113, 118,\n",
      "        108, 103, 104, 117, 100, 119, 108, 114, 113,  35, 122, 107, 108, 102,\n",
      "        107,   1]), tensor([ 81, 114, 122,  35, 122, 107, 100, 119,  35, 122, 104,  35, 100, 117,\n",
      "        104,  35, 105, 108, 113, 103, 108, 113, 106,  35, 108, 118,  35, 119,\n",
      "        107, 100, 119,  35, 108, 113, 102, 117, 104, 100, 118, 108, 113, 106,\n",
      "        111, 124,  35, 114, 105, 119, 104, 113,  47,  35, 119, 107, 104,  35,\n",
      "         70, 114, 120, 113, 102, 108, 111,  35, 108, 118,  35, 105, 100, 108,\n",
      "        111, 108, 113, 106,  35, 119, 114,  35, 110, 104, 104, 115,  35, 119,\n",
      "        114,  35, 119, 107, 108, 118,  35, 119, 108, 112, 104,  35, 118, 102,\n",
      "        100, 111, 104,  49,   1,   0,   0,   0,   0,   0,   0,   0,   0,   0,\n",
      "          0,   0,   0,   0,   0,   0,   0,   0,   0,   0,   0,   0,   0,   0,\n",
      "          0,   0]), tensor([ 75, 104, 117, 104,  35, 108, 118,  35, 119, 107, 104,  35, 111, 100,\n",
      "        119, 104, 118, 119,  35, 104, 123, 100, 112, 115, 111, 104,  61,  35,\n",
      "         76,  35, 118, 120, 101, 112, 108, 119, 119, 104, 103,  35, 100,  35,\n",
      "        116, 120, 104, 118, 119, 108, 114, 113,  35, 108, 113,  35,  82, 102,\n",
      "        119, 114, 101, 104, 117,  47,  35, 119, 114,  35, 122, 107, 108, 102,\n",
      "        107,  35,  76,  35, 107, 100, 121, 104,  35, 113, 114, 119,  35, 117,\n",
      "        104, 102, 104, 108, 121, 104, 103,  35, 100, 113,  35, 100, 113, 118,\n",
      "        122, 104, 117,  35, 119, 114,  35, 119, 107, 108, 118,  35, 103, 100,\n",
      "        124,  47,  35, 113, 100, 112, 104, 111, 124,  35, 122, 107, 104, 113,\n",
      "         35,   1]), tensor([ 87, 107, 108, 118,  35, 108, 118,  35, 113, 114, 119,  35, 100, 113,\n",
      "         35, 108, 118, 114, 111, 100, 119, 104, 103,  35, 102, 100, 118, 104,\n",
      "         47,  35, 117, 100, 119, 107, 104, 117,  35, 118, 120, 102, 107,  35,\n",
      "        108, 113, 118, 119, 100, 113, 102, 104, 118,  35, 100, 117, 104,  35,\n",
      "        112, 114, 120, 113, 119, 108, 113, 106,  35, 120, 115,  49,   1,   0,\n",
      "          0,   0,   0,   0,   0,   0,   0,   0,   0,   0,   0,   0,   0,   0,\n",
      "          0,   0,   0,   0,   0,   0,   0,   0,   0,   0,   0,   0,   0,   0,\n",
      "          0,   0,   0,   0,   0,   0,   0,   0,   0,   0,   0,   0,   0,   0,\n",
      "          0,   0,   0,   0,   0,   0,   0,   0,   0,   0,   0,   0,   0,   0,\n",
      "          0,   0]), tensor([ 76,  35, 122, 114, 120, 111, 103,  35, 120, 117, 106, 104,  35, 124,\n",
      "        114, 120,  35, 119, 114,  35, 115, 117, 104, 118, 118,  35, 119, 107,\n",
      "        104,  35,  70, 114, 120, 113, 102, 108, 111,  35, 119, 114,  35, 114,\n",
      "        101, 118, 104, 117, 121, 104,  35, 119, 107, 104,  35,  85, 120, 111,\n",
      "        104, 118,  35, 114, 105,  35,  83, 117, 114, 102, 104, 103, 120, 117,\n",
      "        104,  49,   1,   0,   0,   0,   0,   0,   0,   0,   0,   0,   0,   0,\n",
      "          0,   0,   0,   0,   0,   0,   0,   0,   0,   0,   0,   0,   0,   0,\n",
      "          0,   0,   0,   0,   0,   0,   0,   0,   0,   0,   0,   0,   0,   0,\n",
      "          0,   0,   0,   0,   0,   0,   0,   0,   0,   0,   0,   0,   0,   0,\n",
      "          0,   0]), tensor([ 80, 100, 103, 100, 112,  35,  83, 117, 104, 118, 108, 103, 104, 113,\n",
      "        119,  47,  35,  76,  35, 119, 100, 110, 104,  35, 119, 107, 104,  35,\n",
      "        105, 111, 114, 114, 117,  35, 108, 113,  35, 114, 117, 103, 104, 117,\n",
      "         35, 119, 114,  35, 115, 114, 108, 113, 119,  35, 114, 120, 119,  35,\n",
      "        124, 104, 119,  35, 100, 106, 100, 108, 113,  35,  48,  35, 107, 100,\n",
      "        121, 108, 113, 106,  35, 122, 117, 108, 119, 119, 104, 113,  35, 119,\n",
      "        114,  35, 124, 114, 120,  35, 117, 104, 115, 104, 100, 119, 104, 103,\n",
      "        111, 124,  35, 114, 113,  35, 119, 107, 104,  35, 112, 100, 119, 119,\n",
      "        104, 117,  35,  48,  35, 119, 107, 100, 119,  35, 105, 114, 117,  35,\n",
      "        112,   1]), tensor([ 90, 104,  35, 100, 111, 111,  35, 110, 113, 114, 122,  35, 122, 107,\n",
      "        100, 119,  35, 100,  35, 103, 100, 117, 110,  35, 103, 100, 124,  35,\n",
      "        108, 119,  35, 122, 100, 118,  35, 105, 114, 117,  35, 119, 107, 104,\n",
      "         35, 122, 107, 114, 111, 104,  35, 114, 105,  35, 112, 100, 113, 110,\n",
      "        108, 113, 103,  35, 122, 107, 104, 113,  35, 119, 107, 104,  35,  87,\n",
      "        120, 117, 110, 108, 118, 107,  35, 112, 108, 111, 108, 119, 100, 117,\n",
      "        124,  35, 100, 113, 103,  35, 115, 114, 111, 108, 102, 104,  35, 105,\n",
      "        114, 117, 102, 104, 118,  35, 101, 117, 120, 119, 100, 111, 111, 124,\n",
      "         35, 108, 113, 121, 100, 103, 104, 103,  35, 119, 107, 104,  35, 115,\n",
      "        117,   1]), tensor([ 87, 107, 104, 124,  35, 110, 108, 111, 111, 104, 103,  35, 115, 104,\n",
      "        114, 115, 111, 104,  49,   1,   0,   0,   0,   0,   0,   0,   0,   0,\n",
      "          0,   0,   0,   0,   0,   0,   0,   0,   0,   0,   0,   0,   0,   0,\n",
      "          0,   0,   0,   0,   0,   0,   0,   0,   0,   0,   0,   0,   0,   0,\n",
      "          0,   0,   0,   0,   0,   0,   0,   0,   0,   0,   0,   0,   0,   0,\n",
      "          0,   0,   0,   0,   0,   0,   0,   0,   0,   0,   0,   0,   0,   0,\n",
      "          0,   0,   0,   0,   0,   0,   0,   0,   0,   0,   0,   0,   0,   0,\n",
      "          0,   0,   0,   0,   0,   0,   0,   0,   0,   0,   0,   0,   0,   0,\n",
      "          0,   0,   0,   0,   0,   0,   0,   0,   0,   0,   0,   0,   0,   0,\n",
      "          0,   0]), tensor([ 87, 107, 104, 124,  35, 105, 108, 117, 104, 103,  35, 114, 113,  35,\n",
      "        115, 117, 108, 118, 114, 113, 104, 117, 118,  49,   1,   0,   0,   0,\n",
      "          0,   0,   0,   0,   0,   0,   0,   0,   0,   0,   0,   0,   0,   0,\n",
      "          0,   0,   0,   0,   0,   0,   0,   0,   0,   0,   0,   0,   0,   0,\n",
      "          0,   0,   0,   0,   0,   0,   0,   0,   0,   0,   0,   0,   0,   0,\n",
      "          0,   0,   0,   0,   0,   0,   0,   0,   0,   0,   0,   0,   0,   0,\n",
      "          0,   0,   0,   0,   0,   0,   0,   0,   0,   0,   0,   0,   0,   0,\n",
      "          0,   0,   0,   0,   0,   0,   0,   0,   0,   0,   0,   0,   0,   0,\n",
      "          0,   0,   0,   0,   0,   0,   0,   0,   0,   0,   0,   0,   0,   0,\n",
      "          0,   0]), tensor([ 87, 107, 104, 124,  35, 101, 117, 120, 119, 100, 111, 111, 124,  35,\n",
      "        100, 119, 119, 100, 102, 110, 104, 103,  35, 119, 107, 104,  35, 105,\n",
      "        100, 112, 108, 111, 108, 104, 118,  35, 114, 105,  35, 115, 114, 111,\n",
      "        108, 119, 108, 102, 100, 111,  35, 115, 117, 108, 118, 114, 113, 104,\n",
      "        117, 118,  35, 115, 117, 114, 119, 104, 118, 119, 108, 113, 106,  35,\n",
      "        114, 120, 119, 118, 108, 103, 104,  35, 119, 107, 104,  35, 109, 100,\n",
      "        108, 111, 118,  35, 100, 113, 103,  35, 111, 108, 110, 104, 122, 108,\n",
      "        118, 104,  35, 114, 113,  35, 107, 120, 113, 106, 104, 117,  35, 118,\n",
      "        119, 117, 108, 110, 104,  49,   1,   0,   0,   0,   0,   0,   0,   0,\n",
      "          0,   0]), tensor([ 76,  35, 119, 107, 108, 113, 110,  35, 119, 107, 100, 119,  35, 108,\n",
      "        119,  35, 108, 118,  35, 122, 117, 114, 113, 106,  35, 119, 107, 100,\n",
      "        119,  35, 113, 104, 108, 119, 107, 104, 117,  35, 122, 104,  35, 113,\n",
      "        114, 117,  35, 119, 107, 104,  35, 101, 120, 117, 104, 100, 120,  35,\n",
      "        107, 100, 121, 104,  35, 100, 118,  35, 124, 104, 119,  35, 115, 117,\n",
      "        114, 119, 104, 118, 119, 104, 103,  35, 100, 106, 100, 108, 113, 118,\n",
      "        119,  35, 119, 107, 108, 118,  35, 118, 108, 119, 120, 100, 119, 108,\n",
      "        114, 113,  35, 108, 113,  35, 118, 119, 117, 114, 113, 106, 104, 117,\n",
      "         47,  35, 112, 114, 117, 104,  35, 102, 100, 119, 104, 106, 114, 117,\n",
      "        108,   1]), tensor([ 86, 114,  35,  76,  35, 100, 118, 110,  47,  35, 104, 121, 104, 113,\n",
      "         35, 113, 114, 122,  47,  35, 119, 107, 100, 119,  35, 124, 114, 120,\n",
      "         35, 117, 100, 108, 118, 104,  35, 124, 114, 120, 117,  35, 121, 114,\n",
      "        108, 102, 104,  35, 100, 113, 103,  35, 112, 100, 110, 104,  35, 114,\n",
      "        120, 117,  35, 118, 124, 112, 115, 100, 119, 107, 108, 104, 118,  35,\n",
      "        110, 113, 114, 122, 113,  49,   1,   0,   0,   0,   0,   0,   0,   0,\n",
      "          0,   0,   0,   0,   0,   0,   0,   0,   0,   0,   0,   0,   0,   0,\n",
      "          0,   0,   0,   0,   0,   0,   0,   0,   0,   0,   0,   0,   0,   0,\n",
      "          0,   0,   0,   0,   0,   0,   0,   0,   0,   0,   0,   0,   0,   0,\n",
      "          0,   0]), tensor([ 80, 100, 103, 100, 112,  35,  83, 117, 104, 118, 108, 103, 104, 113,\n",
      "        119,  47,  35, 122, 108, 119, 107,  35, 119, 107, 104,  35,  81, 104,\n",
      "        122,  35,  92, 104, 100, 117,  35, 122, 104,  35, 107, 100, 121, 104,\n",
      "         35, 111, 104, 100, 117, 113, 104, 103,  35, 119, 107, 117, 114, 120,\n",
      "        106, 107,  35, 119, 107, 104,  35,  86, 115, 100, 113, 108, 118, 107,\n",
      "         35,  69, 114, 111, 104, 119, 198, 176, 113,  35,  82, 105, 108, 102,\n",
      "        108, 100, 111,  35, 103, 104, 111,  35,  72, 118, 119, 100, 103, 114,\n",
      "         35, 119, 107, 100, 119,  35, 104, 111, 104, 121, 104, 113,  35, 115,\n",
      "        114, 111, 108, 102, 104, 112, 104, 113,  35, 100, 113, 103,  35, 119,\n",
      "        107,   1]), tensor([ 73, 104, 122,  35, 102, 100, 118, 104, 118,  35, 114, 105,  35, 119,\n",
      "        114, 117, 119, 120, 117, 104,  35, 100, 117, 104,  35, 100, 103, 112,\n",
      "        108, 119, 119, 104, 103,  35, 101, 124,  35, 119, 107, 104,  35,  86,\n",
      "        115, 100, 113, 108, 118, 107,  35, 102, 114, 120, 117, 119, 118,  49,\n",
      "          1,   0,   0,   0,   0,   0,   0,   0,   0,   0,   0,   0,   0,   0,\n",
      "          0,   0,   0,   0,   0,   0,   0,   0,   0,   0,   0,   0,   0,   0,\n",
      "          0,   0,   0,   0,   0,   0,   0,   0,   0,   0,   0,   0,   0,   0,\n",
      "          0,   0,   0,   0,   0,   0,   0,   0,   0,   0,   0,   0,   0,   0,\n",
      "          0,   0,   0,   0,   0,   0,   0,   0,   0,   0,   0,   0,   0,   0,\n",
      "          0,   0]), tensor([ 82, 113,  35, 119, 107, 104,  35, 102, 114, 113, 119, 117, 100, 117,\n",
      "        124,  47,  35, 112, 100, 113, 124,  35, 114, 105, 105, 108, 102, 108,\n",
      "        100, 111, 118,  35, 100, 117, 104,  35, 115, 117, 114, 112, 114, 119,\n",
      "        104, 103,  35, 101, 104, 102, 100, 120, 118, 104,  35, 114, 105,  35,\n",
      "        118, 120, 102, 107,  35, 100, 102, 119, 108, 121, 108, 119, 108, 104,\n",
      "        118,  49,   1,   0,   0,   0,   0,   0,   0,   0,   0,   0,   0,   0,\n",
      "          0,   0,   0,   0,   0,   0,   0,   0,   0,   0,   0,   0,   0,   0,\n",
      "          0,   0,   0,   0,   0,   0,   0,   0,   0,   0,   0,   0,   0,   0,\n",
      "          0,   0,   0,   0,   0,   0,   0,   0,   0,   0,   0,   0,   0,   0,\n",
      "          0,   0]), tensor([ 76, 113, 118, 108, 103, 104,  35, 119, 107, 104,  35,  72, 120, 117,\n",
      "        114, 115, 104, 100, 113,  35,  88, 113, 108, 114, 113,  35, 119, 107,\n",
      "        100, 119,  35, 108, 118,  35, 118, 108, 112, 115, 111, 124,  35, 113,\n",
      "        114, 119,  35, 119, 114, 111, 104, 117, 100, 101, 111, 104,  49,   1,\n",
      "          0,   0,   0,   0,   0,   0,   0,   0,   0,   0,   0,   0,   0,   0,\n",
      "          0,   0,   0,   0,   0,   0,   0,   0,   0,   0,   0,   0,   0,   0,\n",
      "          0,   0,   0,   0,   0,   0,   0,   0,   0,   0,   0,   0,   0,   0,\n",
      "          0,   0,   0,   0,   0,   0,   0,   0,   0,   0,   0,   0,   0,   0,\n",
      "          0,   0,   0,   0,   0,   0,   0,   0,   0,   0,   0,   0,   0,   0,\n",
      "          0,   0]), tensor([ 76, 119,  35, 108, 118,  35, 108, 113, 102, 120, 112, 101, 104, 113,\n",
      "        119,  35, 120, 115, 114, 113,  35, 120, 118,  35, 119, 114,  35, 115,\n",
      "        117, 104, 118, 118,  35, 119, 107, 104,  35,  86, 115, 100, 113, 108,\n",
      "        118, 107,  35,  74, 114, 121, 104, 117, 113, 112, 104, 113, 119,  35,\n",
      "        114, 113,  35, 119, 107, 108, 118,  35, 108, 118, 118, 120, 104,  49,\n",
      "          1,   0,   0,   0,   0,   0,   0,   0,   0,   0,   0,   0,   0,   0,\n",
      "          0,   0,   0,   0,   0,   0,   0,   0,   0,   0,   0,   0,   0,   0,\n",
      "          0,   0,   0,   0,   0,   0,   0,   0,   0,   0,   0,   0,   0,   0,\n",
      "          0,   0,   0,   0,   0,   0,   0,   0,   0,   0,   0,   0,   0,   0,\n",
      "          0,   0]), tensor([ 76,  35, 122, 114, 120, 111, 103,  35, 120, 117, 106, 104,  35, 119,\n",
      "        107, 108, 118,  35,  83, 100, 117, 111, 108, 100, 112, 104, 113, 119,\n",
      "         35, 119, 114,  35, 108, 118, 118, 120, 104,  35, 100,  35, 103, 104,\n",
      "        102, 111, 100, 117, 100, 119, 108, 114, 113,  35, 108, 113,  35, 119,\n",
      "        107, 104,  35, 102, 111, 104, 100, 117, 104, 118, 119,  35, 115, 114,\n",
      "        118, 118, 108, 101, 111, 104,  35, 119, 104, 117, 112, 118,  35, 119,\n",
      "        114,  35, 118, 107, 114, 122,  35, 114, 120, 117,  35, 118, 119, 104,\n",
      "        100, 103, 105, 100, 118, 119,  35, 114, 115, 115, 114, 118, 108, 119,\n",
      "        108, 114, 113,  35, 119, 114,  35, 119, 114, 117, 119, 120, 117, 104,\n",
      "         49,   1]), tensor([ 76,  35, 100, 112,  35, 118, 120, 117, 104,  35, 119, 107, 100, 119,\n",
      "         35, 124, 114, 120,  35, 122, 108, 111, 111,  35, 122, 100, 113, 119,\n",
      "         35, 119, 114,  35, 117, 104, 118, 115, 114, 113, 103,  35, 105, 120,\n",
      "        111, 111, 124,  35, 100, 113, 103,  35, 117, 100, 115, 108, 103, 111,\n",
      "        124,  35, 119, 114,  35, 119, 107, 108, 118,  35, 102, 114, 113, 102,\n",
      "        104, 117, 113,  49,   1,   0,   0,   0,   0,   0,   0,   0,   0,   0,\n",
      "          0,   0,   0,   0,   0,   0,   0,   0,   0,   0,   0,   0,   0,   0,\n",
      "          0,   0,   0,   0,   0,   0,   0,   0,   0,   0,   0,   0,   0,   0,\n",
      "          0,   0,   0,   0,   0,   0,   0,   0,   0,   0,   0,   0,   0,   0,\n",
      "          0,   0]), tensor([ 80, 100, 103, 100, 112,  35,  83, 117, 104, 118, 108, 103, 104, 113,\n",
      "        119,  47,  35, 107, 100, 118,  35, 108, 119,  35, 101, 104, 104, 113,\n",
      "         35, 101, 117, 114, 120, 106, 107, 119,  35, 119, 114,  35, 124, 114,\n",
      "        120, 117,  35, 100, 119, 119, 104, 113, 119, 108, 114, 113,  35, 119,\n",
      "        107, 100, 119,  35, 119, 107, 104,  35,  80, 104, 112, 101, 104, 117,\n",
      "        118,  42,  35, 117, 104, 106, 108, 118, 119, 104, 117,  35, 114, 105,\n",
      "         35, 108, 113, 119, 104, 117, 104, 118, 119, 118,  35, 122, 100, 118,\n",
      "         35, 111, 100, 118, 119,  35, 122, 104, 104, 110,  35, 115, 120, 101,\n",
      "        111, 108, 118, 107, 104, 103,  35, 114, 113,  35, 100, 113,  35,  76,\n",
      "        113,   1])]\n"
     ]
    }
   ],
   "source": [
    "print(trgt[:500])"
   ],
   "metadata": {
    "collapsed": false,
    "ExecuteTime": {
     "end_time": "2024-06-26T12:03:30.272552700Z",
     "start_time": "2024-06-26T12:03:30.117754700Z"
    }
   },
   "id": "6ebe0d5915106d",
   "execution_count": 16
  },
  {
   "cell_type": "code",
   "outputs": [],
   "source": [
    "# Idea for what could be used for unfolding, however even with batch size 1, it does not work as I run ot of memory so I could not test it\n",
    "def decode(decoder, context_vector):\n",
    "    batch_size = context_vector.shape[0]\n",
    "\n",
    "    output_sequence = []\n",
    "    end_of_sequence_mask = torch.zeros((batch_size, 384), dtype=torch.bool, device=context_vector.device)\n",
    "\n",
    "    for _ in range(128):\n",
    "        if len(output_sequence) == 0:  # for the first step, use context vector\n",
    "            decoder_input = context_vector\n",
    "        else:  # for subsequent steps, use the last output token\n",
    "            input_token = output_sequence[-1]\n",
    "            input_token_embedded = encoder_decoder.embed(input_token).permute(0, 2, 1)\n",
    "            decoder_input = torch.cat([context_vector, input_token_embedded], dim=-1)\n",
    "\n",
    "        output_token = decoder(decoder_input)\n",
    "        predicted_token = torch.argmax(output_token, dim=-1)\n",
    "        end_of_sequence_mask |= (predicted_token.squeeze() == 1)\n",
    "        predicted_token[end_of_sequence_mask] = 0\n",
    "\n",
    "        output_sequence.append(predicted_token.squeeze())\n",
    "\n",
    "    return torch.stack(output_sequence, dim=1)[:, 1:]"
   ],
   "metadata": {
    "collapsed": false,
    "ExecuteTime": {
     "end_time": "2024-06-26T21:18:39.614943600Z",
     "start_time": "2024-06-26T21:18:39.610195600Z"
    }
   },
   "id": "a760f492922ae291",
   "execution_count": 1
  },
  {
   "cell_type": "code",
   "outputs": [
    {
     "ename": "NameError",
     "evalue": "name 'nn' is not defined",
     "output_type": "error",
     "traceback": [
      "\u001B[1;31m---------------------------------------------------------------------------\u001B[0m",
      "\u001B[1;31mNameError\u001B[0m                                 Traceback (most recent call last)",
      "Cell \u001B[1;32mIn[2], line 2\u001B[0m\n\u001B[0;32m      1\u001B[0m \u001B[38;5;66;03m# LayerNorm that can take changing input sequence lengths\u001B[39;00m\n\u001B[1;32m----> 2\u001B[0m \u001B[38;5;28;01mclass\u001B[39;00m \u001B[38;5;21;01mDynamicLayerNorm\u001B[39;00m(\u001B[43mnn\u001B[49m\u001B[38;5;241m.\u001B[39mModule):\n\u001B[0;32m      3\u001B[0m     \u001B[38;5;28;01mdef\u001B[39;00m \u001B[38;5;21m__init__\u001B[39m(\u001B[38;5;28mself\u001B[39m):\n\u001B[0;32m      4\u001B[0m         \u001B[38;5;28msuper\u001B[39m(DynamicLayerNorm, \u001B[38;5;28mself\u001B[39m)\u001B[38;5;241m.\u001B[39m\u001B[38;5;21m__init__\u001B[39m()\n",
      "\u001B[1;31mNameError\u001B[0m: name 'nn' is not defined"
     ]
    }
   ],
   "source": [
    "# LayerNorm that can take changing input sequence lengths\n",
    "class DynamicLayerNorm(nn.Module):\n",
    "    def __init__(self):\n",
    "        super(DynamicLayerNorm, self).__init__()\n",
    "        self.norm = None\n",
    "\n",
    "    def forward(self, x):\n",
    "        if self.norm is None or self.norm.normalized_shape[0] != x.shape[2]:\n",
    "            self.norm = nn.LayerNorm(x.shape[2]).to(x.device)\n",
    "        return self.norm(x)"
   ],
   "metadata": {
    "collapsed": false,
    "ExecuteTime": {
     "end_time": "2024-06-26T21:18:41.918594Z",
     "start_time": "2024-06-26T21:18:41.697843800Z"
    }
   },
   "id": "b46e6e78dbdf8af0",
   "execution_count": 2
  },
  {
   "cell_type": "code",
   "outputs": [],
   "source": [
    "translation_dataset = TranslationDataset(tokenized_source_texts, tokenized_target_texts)\n",
    "dataset_size = len(translation_dataset)\n",
    "train_size = int(0.9 * dataset_size)\n",
    "test_size = dataset_size - train_size\n",
    "train_dataset, test_dataset = torch.utils.data.random_split(translation_dataset, [train_size, test_size])\n",
    "train_loader = DataLoader(train_dataset, batch_size=batch_size, shuffle=True)\n",
    "test_loader = DataLoader(test_dataset, batch_size=batch_size, shuffle=True)"
   ],
   "metadata": {
    "collapsed": false,
    "ExecuteTime": {
     "end_time": "2024-06-26T12:03:30.280924700Z",
     "start_time": "2024-06-26T12:03:30.269553Z"
    }
   },
   "id": "7832e3ebab290ddf",
   "execution_count": 17
  },
  {
   "cell_type": "code",
   "outputs": [],
   "source": [
    "criterion = torch.nn.CrossEntropyLoss()\n",
    "inputEmbedding = InputEmbeddingTensor(vocab_size, embed_size)\n",
    "# size and all params according to the paper, reduce for performance\n",
    "encoder_decoder = EncoderDecoderStacking(n_sets=3, blocks_per_set=5, output_channels=vocab_size,emb_size=embed_size).to(\n",
    "    device)\n",
    "\n",
    "# Define a loss function and an optimizer\n",
    "# When changing Loss function, make sure to check if the decoder should have the softmax layer, and adjust that\n",
    "optimizer = torch.optim.Adam(encoder_decoder.parameters(), lr=0.001)  #  Paper: 0.0003\n",
    "# Number of epochs\n",
    "num_epochs = 5\n"
   ],
   "metadata": {
    "collapsed": false,
    "ExecuteTime": {
     "end_time": "2024-06-26T12:03:31.816472400Z",
     "start_time": "2024-06-26T12:03:30.281925Z"
    }
   },
   "id": "102fd7de4aaea82a",
   "execution_count": 18
  },
  {
   "cell_type": "code",
   "outputs": [
    {
     "name": "stdout",
     "output_type": "stream",
     "text": [
      "Requirement already satisfied: tensorboard in f:\\pycharmprojects\\neural-machine-translation-in-linear-time\\venv\\lib\\site-packages (2.17.0)\n",
      "Requirement already satisfied: absl-py>=0.4 in f:\\pycharmprojects\\neural-machine-translation-in-linear-time\\venv\\lib\\site-packages (from tensorboard) (2.1.0)\n",
      "Requirement already satisfied: grpcio>=1.48.2 in f:\\pycharmprojects\\neural-machine-translation-in-linear-time\\venv\\lib\\site-packages (from tensorboard) (1.64.1)\n",
      "Requirement already satisfied: markdown>=2.6.8 in f:\\pycharmprojects\\neural-machine-translation-in-linear-time\\venv\\lib\\site-packages (from tensorboard) (3.6)\n",
      "Requirement already satisfied: numpy>=1.12.0 in f:\\pycharmprojects\\neural-machine-translation-in-linear-time\\venv\\lib\\site-packages (from tensorboard) (1.26.3)\n",
      "Requirement already satisfied: protobuf!=4.24.0,<5.0.0,>=3.19.6 in f:\\pycharmprojects\\neural-machine-translation-in-linear-time\\venv\\lib\\site-packages (from tensorboard) (4.25.3)\n",
      "Requirement already satisfied: setuptools>=41.0.0 in f:\\pycharmprojects\\neural-machine-translation-in-linear-time\\venv\\lib\\site-packages (from tensorboard) (70.1.0)\n",
      "Requirement already satisfied: six>1.9 in f:\\pycharmprojects\\neural-machine-translation-in-linear-time\\venv\\lib\\site-packages (from tensorboard) (1.16.0)\n",
      "Requirement already satisfied: tensorboard-data-server<0.8.0,>=0.7.0 in f:\\pycharmprojects\\neural-machine-translation-in-linear-time\\venv\\lib\\site-packages (from tensorboard) (0.7.2)\n",
      "Requirement already satisfied: werkzeug>=1.0.1 in f:\\pycharmprojects\\neural-machine-translation-in-linear-time\\venv\\lib\\site-packages (from tensorboard) (3.0.3)\n",
      "Requirement already satisfied: MarkupSafe>=2.1.1 in f:\\pycharmprojects\\neural-machine-translation-in-linear-time\\venv\\lib\\site-packages (from werkzeug>=1.0.1->tensorboard) (2.1.5)\n"
     ]
    },
    {
     "name": "stderr",
     "output_type": "stream",
     "text": [
      "\n",
      "[notice] A new release of pip is available: 23.2.1 -> 24.1\n",
      "[notice] To update, run: python.exe -m pip install --upgrade pip\n"
     ]
    }
   ],
   "source": [
    "!pip install tensorboard"
   ],
   "metadata": {
    "collapsed": false,
    "ExecuteTime": {
     "end_time": "2024-06-26T12:03:34.265404300Z",
     "start_time": "2024-06-26T12:03:31.817474100Z"
    }
   },
   "id": "eef17975ed56d49",
   "execution_count": 19
  },
  {
   "cell_type": "code",
   "outputs": [],
   "source": [
    "from torch.utils.tensorboard import SummaryWriter\n",
    "writer = SummaryWriter()"
   ],
   "metadata": {
    "collapsed": false,
    "ExecuteTime": {
     "end_time": "2024-06-26T12:03:34.384376900Z",
     "start_time": "2024-06-26T12:03:34.265404300Z"
    }
   },
   "id": "ddd17620cc4a1b8",
   "execution_count": 20
  },
  {
   "cell_type": "code",
   "outputs": [
    {
     "name": "stderr",
     "output_type": "stream",
     "text": [
      "  0%|          | 1/3551 [00:00<50:37,  1.17it/s]"
     ]
    },
    {
     "name": "stdout",
     "output_type": "stream",
     "text": [
      "Epoch [1/5], Step [1/3551], Loss: 5.874279499053955\n"
     ]
    },
    {
     "name": "stderr",
     "output_type": "stream",
     "text": [
      "  1%|▏         | 51/3551 [00:27<31:52,  1.83it/s]"
     ]
    },
    {
     "name": "stdout",
     "output_type": "stream",
     "text": [
      "Epoch [1/5], Step [51/3551], Loss: 2.6860663890838623\n"
     ]
    },
    {
     "name": "stderr",
     "output_type": "stream",
     "text": [
      "  3%|▎         | 101/3551 [00:54<32:02,  1.79it/s]"
     ]
    },
    {
     "name": "stdout",
     "output_type": "stream",
     "text": [
      "Epoch [1/5], Step [101/3551], Loss: 2.603867530822754\n"
     ]
    },
    {
     "name": "stderr",
     "output_type": "stream",
     "text": [
      "  4%|▍         | 151/3551 [01:21<30:57,  1.83it/s]"
     ]
    },
    {
     "name": "stdout",
     "output_type": "stream",
     "text": [
      "Epoch [1/5], Step [151/3551], Loss: 2.613537311553955\n"
     ]
    },
    {
     "name": "stderr",
     "output_type": "stream",
     "text": [
      "  6%|▌         | 201/3551 [01:48<30:48,  1.81it/s]"
     ]
    },
    {
     "name": "stdout",
     "output_type": "stream",
     "text": [
      "Epoch [1/5], Step [201/3551], Loss: 2.632150888442993\n"
     ]
    },
    {
     "name": "stderr",
     "output_type": "stream",
     "text": [
      "  7%|▋         | 251/3551 [02:16<30:43,  1.79it/s]"
     ]
    },
    {
     "name": "stdout",
     "output_type": "stream",
     "text": [
      "Epoch [1/5], Step [251/3551], Loss: 2.5785038471221924\n"
     ]
    },
    {
     "name": "stderr",
     "output_type": "stream",
     "text": [
      "  8%|▊         | 301/3551 [02:43<29:21,  1.85it/s]"
     ]
    },
    {
     "name": "stdout",
     "output_type": "stream",
     "text": [
      "Epoch [1/5], Step [301/3551], Loss: 2.506746768951416\n"
     ]
    },
    {
     "name": "stderr",
     "output_type": "stream",
     "text": [
      " 10%|▉         | 351/3551 [03:10<29:10,  1.83it/s]"
     ]
    },
    {
     "name": "stdout",
     "output_type": "stream",
     "text": [
      "Epoch [1/5], Step [351/3551], Loss: 2.5559065341949463\n"
     ]
    },
    {
     "name": "stderr",
     "output_type": "stream",
     "text": [
      " 11%|█▏        | 401/3551 [03:38<30:04,  1.75it/s]"
     ]
    },
    {
     "name": "stdout",
     "output_type": "stream",
     "text": [
      "Epoch [1/5], Step [401/3551], Loss: 2.5895378589630127\n"
     ]
    },
    {
     "name": "stderr",
     "output_type": "stream",
     "text": [
      " 13%|█▎        | 451/3551 [04:05<28:00,  1.84it/s]"
     ]
    },
    {
     "name": "stdout",
     "output_type": "stream",
     "text": [
      "Epoch [1/5], Step [451/3551], Loss: 2.6078150272369385\n"
     ]
    },
    {
     "name": "stderr",
     "output_type": "stream",
     "text": [
      " 14%|█▍        | 501/3551 [04:32<27:44,  1.83it/s]"
     ]
    },
    {
     "name": "stdout",
     "output_type": "stream",
     "text": [
      "Epoch [1/5], Step [501/3551], Loss: 2.4895026683807373\n"
     ]
    },
    {
     "name": "stderr",
     "output_type": "stream",
     "text": [
      " 16%|█▌        | 551/3551 [04:59<27:07,  1.84it/s]"
     ]
    },
    {
     "name": "stdout",
     "output_type": "stream",
     "text": [
      "Epoch [1/5], Step [551/3551], Loss: 2.643693685531616\n"
     ]
    },
    {
     "name": "stderr",
     "output_type": "stream",
     "text": [
      " 17%|█▋        | 601/3551 [05:26<26:43,  1.84it/s]"
     ]
    },
    {
     "name": "stdout",
     "output_type": "stream",
     "text": [
      "Epoch [1/5], Step [601/3551], Loss: 2.5177292823791504\n"
     ]
    },
    {
     "name": "stderr",
     "output_type": "stream",
     "text": [
      " 18%|█▊        | 651/3551 [05:53<26:14,  1.84it/s]"
     ]
    },
    {
     "name": "stdout",
     "output_type": "stream",
     "text": [
      "Epoch [1/5], Step [651/3551], Loss: 2.287750244140625\n"
     ]
    },
    {
     "name": "stderr",
     "output_type": "stream",
     "text": [
      " 20%|█▉        | 701/3551 [06:20<25:55,  1.83it/s]"
     ]
    },
    {
     "name": "stdout",
     "output_type": "stream",
     "text": [
      "Epoch [1/5], Step [701/3551], Loss: 2.370805025100708\n"
     ]
    },
    {
     "name": "stderr",
     "output_type": "stream",
     "text": [
      " 21%|██        | 751/3551 [06:47<26:06,  1.79it/s]"
     ]
    },
    {
     "name": "stdout",
     "output_type": "stream",
     "text": [
      "Epoch [1/5], Step [751/3551], Loss: 2.5987722873687744\n"
     ]
    },
    {
     "name": "stderr",
     "output_type": "stream",
     "text": [
      " 23%|██▎       | 801/3551 [07:14<24:49,  1.85it/s]"
     ]
    },
    {
     "name": "stdout",
     "output_type": "stream",
     "text": [
      "Epoch [1/5], Step [801/3551], Loss: 2.4467763900756836\n"
     ]
    },
    {
     "name": "stderr",
     "output_type": "stream",
     "text": [
      " 24%|██▍       | 851/3551 [07:41<24:21,  1.85it/s]"
     ]
    },
    {
     "name": "stdout",
     "output_type": "stream",
     "text": [
      "Epoch [1/5], Step [851/3551], Loss: 2.535731554031372\n"
     ]
    },
    {
     "name": "stderr",
     "output_type": "stream",
     "text": [
      " 25%|██▌       | 901/3551 [08:08<24:18,  1.82it/s]"
     ]
    },
    {
     "name": "stdout",
     "output_type": "stream",
     "text": [
      "Epoch [1/5], Step [901/3551], Loss: 2.4842069149017334\n"
     ]
    },
    {
     "name": "stderr",
     "output_type": "stream",
     "text": [
      " 27%|██▋       | 951/3551 [08:35<23:50,  1.82it/s]"
     ]
    },
    {
     "name": "stdout",
     "output_type": "stream",
     "text": [
      "Epoch [1/5], Step [951/3551], Loss: 2.5968689918518066\n"
     ]
    },
    {
     "name": "stderr",
     "output_type": "stream",
     "text": [
      " 28%|██▊       | 1001/3551 [09:02<23:06,  1.84it/s]"
     ]
    },
    {
     "name": "stdout",
     "output_type": "stream",
     "text": [
      "Epoch [1/5], Step [1001/3551], Loss: 2.5029633045196533\n"
     ]
    },
    {
     "name": "stderr",
     "output_type": "stream",
     "text": [
      " 30%|██▉       | 1051/3551 [09:29<22:57,  1.81it/s]"
     ]
    },
    {
     "name": "stdout",
     "output_type": "stream",
     "text": [
      "Epoch [1/5], Step [1051/3551], Loss: 2.53466796875\n"
     ]
    },
    {
     "name": "stderr",
     "output_type": "stream",
     "text": [
      " 31%|███       | 1101/3551 [09:57<22:24,  1.82it/s]"
     ]
    },
    {
     "name": "stdout",
     "output_type": "stream",
     "text": [
      "Epoch [1/5], Step [1101/3551], Loss: 2.325892686843872\n"
     ]
    },
    {
     "name": "stderr",
     "output_type": "stream",
     "text": [
      " 32%|███▏      | 1151/3551 [10:24<21:59,  1.82it/s]"
     ]
    },
    {
     "name": "stdout",
     "output_type": "stream",
     "text": [
      "Epoch [1/5], Step [1151/3551], Loss: 2.563166856765747\n"
     ]
    },
    {
     "name": "stderr",
     "output_type": "stream",
     "text": [
      " 34%|███▍      | 1201/3551 [10:51<21:32,  1.82it/s]"
     ]
    },
    {
     "name": "stdout",
     "output_type": "stream",
     "text": [
      "Epoch [1/5], Step [1201/3551], Loss: 2.6073241233825684\n"
     ]
    },
    {
     "name": "stderr",
     "output_type": "stream",
     "text": [
      " 35%|███▌      | 1251/3551 [11:18<20:51,  1.84it/s]"
     ]
    },
    {
     "name": "stdout",
     "output_type": "stream",
     "text": [
      "Epoch [1/5], Step [1251/3551], Loss: 2.6762595176696777\n"
     ]
    },
    {
     "name": "stderr",
     "output_type": "stream",
     "text": [
      " 37%|███▋      | 1301/3551 [11:46<20:53,  1.79it/s]"
     ]
    },
    {
     "name": "stdout",
     "output_type": "stream",
     "text": [
      "Epoch [1/5], Step [1301/3551], Loss: 2.4904122352600098\n"
     ]
    },
    {
     "name": "stderr",
     "output_type": "stream",
     "text": [
      " 38%|███▊      | 1351/3551 [12:14<20:04,  1.83it/s]"
     ]
    },
    {
     "name": "stdout",
     "output_type": "stream",
     "text": [
      "Epoch [1/5], Step [1351/3551], Loss: 2.528141736984253\n"
     ]
    },
    {
     "name": "stderr",
     "output_type": "stream",
     "text": [
      " 39%|███▉      | 1401/3551 [12:41<19:56,  1.80it/s]"
     ]
    },
    {
     "name": "stdout",
     "output_type": "stream",
     "text": [
      "Epoch [1/5], Step [1401/3551], Loss: 2.4934821128845215\n"
     ]
    },
    {
     "name": "stderr",
     "output_type": "stream",
     "text": [
      " 41%|████      | 1451/3551 [13:09<19:12,  1.82it/s]"
     ]
    },
    {
     "name": "stdout",
     "output_type": "stream",
     "text": [
      "Epoch [1/5], Step [1451/3551], Loss: 2.5008108615875244\n"
     ]
    },
    {
     "name": "stderr",
     "output_type": "stream",
     "text": [
      " 42%|████▏     | 1501/3551 [13:36<18:42,  1.83it/s]"
     ]
    },
    {
     "name": "stdout",
     "output_type": "stream",
     "text": [
      "Epoch [1/5], Step [1501/3551], Loss: 2.545868158340454\n"
     ]
    },
    {
     "name": "stderr",
     "output_type": "stream",
     "text": [
      " 44%|████▎     | 1551/3551 [14:03<18:09,  1.84it/s]"
     ]
    },
    {
     "name": "stdout",
     "output_type": "stream",
     "text": [
      "Epoch [1/5], Step [1551/3551], Loss: 2.515972852706909\n"
     ]
    },
    {
     "name": "stderr",
     "output_type": "stream",
     "text": [
      " 45%|████▌     | 1601/3551 [14:31<17:53,  1.82it/s]"
     ]
    },
    {
     "name": "stdout",
     "output_type": "stream",
     "text": [
      "Epoch [1/5], Step [1601/3551], Loss: 2.555776357650757\n"
     ]
    },
    {
     "name": "stderr",
     "output_type": "stream",
     "text": [
      " 46%|████▋     | 1651/3551 [14:58<17:32,  1.81it/s]"
     ]
    },
    {
     "name": "stdout",
     "output_type": "stream",
     "text": [
      "Epoch [1/5], Step [1651/3551], Loss: 2.484743595123291\n"
     ]
    },
    {
     "name": "stderr",
     "output_type": "stream",
     "text": [
      " 48%|████▊     | 1701/3551 [15:25<17:46,  1.73it/s]"
     ]
    },
    {
     "name": "stdout",
     "output_type": "stream",
     "text": [
      "Epoch [1/5], Step [1701/3551], Loss: 2.583036184310913\n"
     ]
    },
    {
     "name": "stderr",
     "output_type": "stream",
     "text": [
      " 49%|████▉     | 1751/3551 [15:52<16:19,  1.84it/s]"
     ]
    },
    {
     "name": "stdout",
     "output_type": "stream",
     "text": [
      "Epoch [1/5], Step [1751/3551], Loss: 2.5414388179779053\n"
     ]
    },
    {
     "name": "stderr",
     "output_type": "stream",
     "text": [
      " 51%|█████     | 1801/3551 [16:19<15:55,  1.83it/s]"
     ]
    },
    {
     "name": "stdout",
     "output_type": "stream",
     "text": [
      "Epoch [1/5], Step [1801/3551], Loss: 2.5452709197998047\n"
     ]
    },
    {
     "name": "stderr",
     "output_type": "stream",
     "text": [
      " 52%|█████▏    | 1851/3551 [16:46<15:35,  1.82it/s]"
     ]
    },
    {
     "name": "stdout",
     "output_type": "stream",
     "text": [
      "Epoch [1/5], Step [1851/3551], Loss: 2.468043327331543\n"
     ]
    },
    {
     "name": "stderr",
     "output_type": "stream",
     "text": [
      " 54%|█████▎    | 1901/3551 [17:14<14:54,  1.85it/s]"
     ]
    },
    {
     "name": "stdout",
     "output_type": "stream",
     "text": [
      "Epoch [1/5], Step [1901/3551], Loss: 2.452723264694214\n"
     ]
    },
    {
     "name": "stderr",
     "output_type": "stream",
     "text": [
      " 55%|█████▍    | 1951/3551 [17:41<14:37,  1.82it/s]"
     ]
    },
    {
     "name": "stdout",
     "output_type": "stream",
     "text": [
      "Epoch [1/5], Step [1951/3551], Loss: 2.442843437194824\n"
     ]
    },
    {
     "name": "stderr",
     "output_type": "stream",
     "text": [
      " 56%|█████▋    | 2001/3551 [18:08<14:18,  1.80it/s]"
     ]
    },
    {
     "name": "stdout",
     "output_type": "stream",
     "text": [
      "Epoch [1/5], Step [2001/3551], Loss: 2.574573040008545\n"
     ]
    },
    {
     "name": "stderr",
     "output_type": "stream",
     "text": [
      " 58%|█████▊    | 2051/3551 [18:35<13:36,  1.84it/s]"
     ]
    },
    {
     "name": "stdout",
     "output_type": "stream",
     "text": [
      "Epoch [1/5], Step [2051/3551], Loss: 2.405710458755493\n"
     ]
    },
    {
     "name": "stderr",
     "output_type": "stream",
     "text": [
      " 59%|█████▉    | 2101/3551 [19:02<13:05,  1.85it/s]"
     ]
    },
    {
     "name": "stdout",
     "output_type": "stream",
     "text": [
      "Epoch [1/5], Step [2101/3551], Loss: 2.5057902336120605\n"
     ]
    },
    {
     "name": "stderr",
     "output_type": "stream",
     "text": [
      " 61%|██████    | 2151/3551 [19:29<13:14,  1.76it/s]"
     ]
    },
    {
     "name": "stdout",
     "output_type": "stream",
     "text": [
      "Epoch [1/5], Step [2151/3551], Loss: 2.4921913146972656\n"
     ]
    },
    {
     "name": "stderr",
     "output_type": "stream",
     "text": [
      " 62%|██████▏   | 2201/3551 [19:58<12:44,  1.77it/s]"
     ]
    },
    {
     "name": "stdout",
     "output_type": "stream",
     "text": [
      "Epoch [1/5], Step [2201/3551], Loss: 2.448138475418091\n"
     ]
    },
    {
     "name": "stderr",
     "output_type": "stream",
     "text": [
      " 63%|██████▎   | 2251/3551 [20:26<12:10,  1.78it/s]"
     ]
    },
    {
     "name": "stdout",
     "output_type": "stream",
     "text": [
      "Epoch [1/5], Step [2251/3551], Loss: 2.6758856773376465\n"
     ]
    },
    {
     "name": "stderr",
     "output_type": "stream",
     "text": [
      " 65%|██████▍   | 2301/3551 [20:53<11:50,  1.76it/s]"
     ]
    },
    {
     "name": "stdout",
     "output_type": "stream",
     "text": [
      "Epoch [1/5], Step [2301/3551], Loss: 2.5243256092071533\n"
     ]
    },
    {
     "name": "stderr",
     "output_type": "stream",
     "text": [
      " 66%|██████▌   | 2351/3551 [21:21<11:01,  1.81it/s]"
     ]
    },
    {
     "name": "stdout",
     "output_type": "stream",
     "text": [
      "Epoch [1/5], Step [2351/3551], Loss: 2.5018162727355957\n"
     ]
    },
    {
     "name": "stderr",
     "output_type": "stream",
     "text": [
      " 68%|██████▊   | 2401/3551 [21:48<10:35,  1.81it/s]"
     ]
    },
    {
     "name": "stdout",
     "output_type": "stream",
     "text": [
      "Epoch [1/5], Step [2401/3551], Loss: 2.46651029586792\n"
     ]
    },
    {
     "name": "stderr",
     "output_type": "stream",
     "text": [
      " 69%|██████▉   | 2451/3551 [22:16<10:03,  1.82it/s]"
     ]
    },
    {
     "name": "stdout",
     "output_type": "stream",
     "text": [
      "Epoch [1/5], Step [2451/3551], Loss: 2.4105265140533447\n"
     ]
    },
    {
     "name": "stderr",
     "output_type": "stream",
     "text": [
      " 70%|███████   | 2501/3551 [22:43<09:35,  1.82it/s]"
     ]
    },
    {
     "name": "stdout",
     "output_type": "stream",
     "text": [
      "Epoch [1/5], Step [2501/3551], Loss: 2.544501543045044\n"
     ]
    },
    {
     "name": "stderr",
     "output_type": "stream",
     "text": [
      " 72%|███████▏  | 2551/3551 [23:10<09:26,  1.76it/s]"
     ]
    },
    {
     "name": "stdout",
     "output_type": "stream",
     "text": [
      "Epoch [1/5], Step [2551/3551], Loss: 2.4084837436676025\n"
     ]
    },
    {
     "name": "stderr",
     "output_type": "stream",
     "text": [
      " 73%|███████▎  | 2601/3551 [23:38<08:46,  1.81it/s]"
     ]
    },
    {
     "name": "stdout",
     "output_type": "stream",
     "text": [
      "Epoch [1/5], Step [2601/3551], Loss: 2.440166711807251\n"
     ]
    },
    {
     "name": "stderr",
     "output_type": "stream",
     "text": [
      " 75%|███████▍  | 2651/3551 [24:06<08:12,  1.83it/s]"
     ]
    },
    {
     "name": "stdout",
     "output_type": "stream",
     "text": [
      "Epoch [1/5], Step [2651/3551], Loss: 2.3053905963897705\n"
     ]
    },
    {
     "name": "stderr",
     "output_type": "stream",
     "text": [
      " 76%|███████▌  | 2701/3551 [24:33<07:54,  1.79it/s]"
     ]
    },
    {
     "name": "stdout",
     "output_type": "stream",
     "text": [
      "Epoch [1/5], Step [2701/3551], Loss: 2.4461276531219482\n"
     ]
    },
    {
     "name": "stderr",
     "output_type": "stream",
     "text": [
      " 77%|███████▋  | 2751/3551 [25:01<07:41,  1.73it/s]"
     ]
    },
    {
     "name": "stdout",
     "output_type": "stream",
     "text": [
      "Epoch [1/5], Step [2751/3551], Loss: 2.500408411026001\n"
     ]
    },
    {
     "name": "stderr",
     "output_type": "stream",
     "text": [
      " 79%|███████▉  | 2801/3551 [25:29<07:07,  1.75it/s]"
     ]
    },
    {
     "name": "stdout",
     "output_type": "stream",
     "text": [
      "Epoch [1/5], Step [2801/3551], Loss: 2.38733172416687\n"
     ]
    },
    {
     "name": "stderr",
     "output_type": "stream",
     "text": [
      " 80%|████████  | 2851/3551 [25:57<06:38,  1.76it/s]"
     ]
    },
    {
     "name": "stdout",
     "output_type": "stream",
     "text": [
      "Epoch [1/5], Step [2851/3551], Loss: 2.4048938751220703\n"
     ]
    },
    {
     "name": "stderr",
     "output_type": "stream",
     "text": [
      " 82%|████████▏ | 2901/3551 [26:25<05:59,  1.81it/s]"
     ]
    },
    {
     "name": "stdout",
     "output_type": "stream",
     "text": [
      "Epoch [1/5], Step [2901/3551], Loss: 2.5767698287963867\n"
     ]
    },
    {
     "name": "stderr",
     "output_type": "stream",
     "text": [
      " 83%|████████▎ | 2951/3551 [26:52<05:34,  1.79it/s]"
     ]
    },
    {
     "name": "stdout",
     "output_type": "stream",
     "text": [
      "Epoch [1/5], Step [2951/3551], Loss: 2.513230800628662\n"
     ]
    },
    {
     "name": "stderr",
     "output_type": "stream",
     "text": [
      " 85%|████████▍ | 3001/3551 [27:20<05:13,  1.75it/s]"
     ]
    },
    {
     "name": "stdout",
     "output_type": "stream",
     "text": [
      "Epoch [1/5], Step [3001/3551], Loss: 2.5411903858184814\n"
     ]
    },
    {
     "name": "stderr",
     "output_type": "stream",
     "text": [
      " 86%|████████▌ | 3051/3551 [27:49<04:51,  1.72it/s]"
     ]
    },
    {
     "name": "stdout",
     "output_type": "stream",
     "text": [
      "Epoch [1/5], Step [3051/3551], Loss: 2.5570294857025146\n"
     ]
    },
    {
     "name": "stderr",
     "output_type": "stream",
     "text": [
      " 87%|████████▋ | 3101/3551 [28:17<04:14,  1.77it/s]"
     ]
    },
    {
     "name": "stdout",
     "output_type": "stream",
     "text": [
      "Epoch [1/5], Step [3101/3551], Loss: 2.4853034019470215\n"
     ]
    },
    {
     "name": "stderr",
     "output_type": "stream",
     "text": [
      " 89%|████████▊ | 3151/3551 [28:45<03:48,  1.75it/s]"
     ]
    },
    {
     "name": "stdout",
     "output_type": "stream",
     "text": [
      "Epoch [1/5], Step [3151/3551], Loss: 2.571009397506714\n"
     ]
    },
    {
     "name": "stderr",
     "output_type": "stream",
     "text": [
      " 90%|█████████ | 3201/3551 [29:14<03:18,  1.77it/s]"
     ]
    },
    {
     "name": "stdout",
     "output_type": "stream",
     "text": [
      "Epoch [1/5], Step [3201/3551], Loss: 2.468646764755249\n"
     ]
    },
    {
     "name": "stderr",
     "output_type": "stream",
     "text": [
      " 92%|█████████▏| 3251/3551 [29:41<02:44,  1.82it/s]"
     ]
    },
    {
     "name": "stdout",
     "output_type": "stream",
     "text": [
      "Epoch [1/5], Step [3251/3551], Loss: 2.5347537994384766\n"
     ]
    },
    {
     "name": "stderr",
     "output_type": "stream",
     "text": [
      " 93%|█████████▎| 3301/3551 [30:09<02:21,  1.77it/s]"
     ]
    },
    {
     "name": "stdout",
     "output_type": "stream",
     "text": [
      "Epoch [1/5], Step [3301/3551], Loss: 2.4041059017181396\n"
     ]
    },
    {
     "name": "stderr",
     "output_type": "stream",
     "text": [
      " 94%|█████████▍| 3351/3551 [30:37<01:50,  1.81it/s]"
     ]
    },
    {
     "name": "stdout",
     "output_type": "stream",
     "text": [
      "Epoch [1/5], Step [3351/3551], Loss: 2.6321582794189453\n"
     ]
    },
    {
     "name": "stderr",
     "output_type": "stream",
     "text": [
      " 96%|█████████▌| 3401/3551 [31:05<01:26,  1.73it/s]"
     ]
    },
    {
     "name": "stdout",
     "output_type": "stream",
     "text": [
      "Epoch [1/5], Step [3401/3551], Loss: 2.4252851009368896\n"
     ]
    },
    {
     "name": "stderr",
     "output_type": "stream",
     "text": [
      " 97%|█████████▋| 3451/3551 [31:32<00:55,  1.81it/s]"
     ]
    },
    {
     "name": "stdout",
     "output_type": "stream",
     "text": [
      "Epoch [1/5], Step [3451/3551], Loss: 2.3623440265655518\n"
     ]
    },
    {
     "name": "stderr",
     "output_type": "stream",
     "text": [
      " 99%|█████████▊| 3501/3551 [32:00<00:27,  1.81it/s]"
     ]
    },
    {
     "name": "stdout",
     "output_type": "stream",
     "text": [
      "Epoch [1/5], Step [3501/3551], Loss: 2.5065364837646484\n"
     ]
    },
    {
     "name": "stderr",
     "output_type": "stream",
     "text": [
      "100%|██████████| 3551/3551 [32:27<00:00,  1.82it/s]\n"
     ]
    },
    {
     "name": "stdout",
     "output_type": "stream",
     "text": [
      "Epoch [1/5], Step [3551/3551], Loss: 2.677116632461548\n",
      "Validation Loss: 2.472609027427963\n"
     ]
    },
    {
     "name": "stderr",
     "output_type": "stream",
     "text": [
      "  0%|          | 1/3551 [00:00<32:45,  1.81it/s]"
     ]
    },
    {
     "name": "stdout",
     "output_type": "stream",
     "text": [
      "Epoch [2/5], Step [1/3551], Loss: 2.494256019592285\n"
     ]
    },
    {
     "name": "stderr",
     "output_type": "stream",
     "text": [
      "  1%|▏         | 51/3551 [00:27<32:28,  1.80it/s]"
     ]
    },
    {
     "name": "stdout",
     "output_type": "stream",
     "text": [
      "Epoch [2/5], Step [51/3551], Loss: 2.358346700668335\n"
     ]
    },
    {
     "name": "stderr",
     "output_type": "stream",
     "text": [
      "  3%|▎         | 101/3551 [00:55<32:17,  1.78it/s]"
     ]
    },
    {
     "name": "stdout",
     "output_type": "stream",
     "text": [
      "Epoch [2/5], Step [101/3551], Loss: 2.537179470062256\n"
     ]
    },
    {
     "name": "stderr",
     "output_type": "stream",
     "text": [
      "  4%|▍         | 151/3551 [01:23<32:36,  1.74it/s]"
     ]
    },
    {
     "name": "stdout",
     "output_type": "stream",
     "text": [
      "Epoch [2/5], Step [151/3551], Loss: 2.411990165710449\n"
     ]
    },
    {
     "name": "stderr",
     "output_type": "stream",
     "text": [
      "  6%|▌         | 201/3551 [01:52<44:00,  1.27it/s]"
     ]
    },
    {
     "name": "stdout",
     "output_type": "stream",
     "text": [
      "Epoch [2/5], Step [201/3551], Loss: 2.5170958042144775\n"
     ]
    },
    {
     "name": "stderr",
     "output_type": "stream",
     "text": [
      "  7%|▋         | 251/3551 [02:26<33:45,  1.63it/s]"
     ]
    },
    {
     "name": "stdout",
     "output_type": "stream",
     "text": [
      "Epoch [2/5], Step [251/3551], Loss: 2.349385976791382\n"
     ]
    },
    {
     "name": "stderr",
     "output_type": "stream",
     "text": [
      "  8%|▊         | 301/3551 [03:03<47:55,  1.13it/s]"
     ]
    },
    {
     "name": "stdout",
     "output_type": "stream",
     "text": [
      "Epoch [2/5], Step [301/3551], Loss: 2.609746217727661\n"
     ]
    },
    {
     "name": "stderr",
     "output_type": "stream",
     "text": [
      " 10%|▉         | 351/3551 [03:36<36:09,  1.47it/s]"
     ]
    },
    {
     "name": "stdout",
     "output_type": "stream",
     "text": [
      "Epoch [2/5], Step [351/3551], Loss: 2.505084753036499\n"
     ]
    },
    {
     "name": "stderr",
     "output_type": "stream",
     "text": [
      " 11%|█▏        | 401/3551 [04:08<32:39,  1.61it/s]"
     ]
    },
    {
     "name": "stdout",
     "output_type": "stream",
     "text": [
      "Epoch [2/5], Step [401/3551], Loss: 2.3499257564544678\n"
     ]
    },
    {
     "name": "stderr",
     "output_type": "stream",
     "text": [
      " 13%|█▎        | 451/3551 [04:41<33:46,  1.53it/s]"
     ]
    },
    {
     "name": "stdout",
     "output_type": "stream",
     "text": [
      "Epoch [2/5], Step [451/3551], Loss: 2.523761034011841\n"
     ]
    },
    {
     "name": "stderr",
     "output_type": "stream",
     "text": [
      " 14%|█▍        | 501/3551 [05:12<31:32,  1.61it/s]"
     ]
    },
    {
     "name": "stdout",
     "output_type": "stream",
     "text": [
      "Epoch [2/5], Step [501/3551], Loss: 2.4324424266815186\n"
     ]
    },
    {
     "name": "stderr",
     "output_type": "stream",
     "text": [
      " 16%|█▌        | 551/3551 [05:45<31:42,  1.58it/s]"
     ]
    },
    {
     "name": "stdout",
     "output_type": "stream",
     "text": [
      "Epoch [2/5], Step [551/3551], Loss: 2.548150062561035\n"
     ]
    },
    {
     "name": "stderr",
     "output_type": "stream",
     "text": [
      " 17%|█▋        | 601/3551 [06:21<39:36,  1.24it/s]"
     ]
    },
    {
     "name": "stdout",
     "output_type": "stream",
     "text": [
      "Epoch [2/5], Step [601/3551], Loss: 2.4298758506774902\n"
     ]
    },
    {
     "name": "stderr",
     "output_type": "stream",
     "text": [
      " 18%|█▊        | 651/3551 [06:58<32:40,  1.48it/s]"
     ]
    },
    {
     "name": "stdout",
     "output_type": "stream",
     "text": [
      "Epoch [2/5], Step [651/3551], Loss: 2.4512040615081787\n"
     ]
    },
    {
     "name": "stderr",
     "output_type": "stream",
     "text": [
      " 20%|█▉        | 701/3551 [07:30<31:46,  1.49it/s]"
     ]
    },
    {
     "name": "stdout",
     "output_type": "stream",
     "text": [
      "Epoch [2/5], Step [701/3551], Loss: 2.459383487701416\n"
     ]
    },
    {
     "name": "stderr",
     "output_type": "stream",
     "text": [
      " 21%|██        | 751/3551 [08:07<30:24,  1.53it/s]"
     ]
    },
    {
     "name": "stdout",
     "output_type": "stream",
     "text": [
      "Epoch [2/5], Step [751/3551], Loss: 2.520547389984131\n"
     ]
    },
    {
     "name": "stderr",
     "output_type": "stream",
     "text": [
      " 23%|██▎       | 801/3551 [08:48<29:29,  1.55it/s]"
     ]
    },
    {
     "name": "stdout",
     "output_type": "stream",
     "text": [
      "Epoch [2/5], Step [801/3551], Loss: 2.405019521713257\n"
     ]
    },
    {
     "name": "stderr",
     "output_type": "stream",
     "text": [
      " 24%|██▍       | 851/3551 [09:26<29:46,  1.51it/s]"
     ]
    },
    {
     "name": "stdout",
     "output_type": "stream",
     "text": [
      "Epoch [2/5], Step [851/3551], Loss: 2.6540169715881348\n"
     ]
    },
    {
     "name": "stderr",
     "output_type": "stream",
     "text": [
      " 25%|██▌       | 901/3551 [10:00<32:53,  1.34it/s]"
     ]
    },
    {
     "name": "stdout",
     "output_type": "stream",
     "text": [
      "Epoch [2/5], Step [901/3551], Loss: 2.552517890930176\n"
     ]
    },
    {
     "name": "stderr",
     "output_type": "stream",
     "text": [
      " 27%|██▋       | 951/3551 [10:42<50:24,  1.16s/it]"
     ]
    },
    {
     "name": "stdout",
     "output_type": "stream",
     "text": [
      "Epoch [2/5], Step [951/3551], Loss: 2.517550468444824\n"
     ]
    },
    {
     "name": "stderr",
     "output_type": "stream",
     "text": [
      " 28%|██▊       | 1001/3551 [11:24<43:41,  1.03s/it]"
     ]
    },
    {
     "name": "stdout",
     "output_type": "stream",
     "text": [
      "Epoch [2/5], Step [1001/3551], Loss: 2.4128611087799072\n"
     ]
    },
    {
     "name": "stderr",
     "output_type": "stream",
     "text": [
      " 30%|██▉       | 1051/3551 [12:09<25:42,  1.62it/s]"
     ]
    },
    {
     "name": "stdout",
     "output_type": "stream",
     "text": [
      "Epoch [2/5], Step [1051/3551], Loss: 2.464664936065674\n"
     ]
    },
    {
     "name": "stderr",
     "output_type": "stream",
     "text": [
      " 31%|███       | 1101/3551 [12:46<29:55,  1.36it/s]"
     ]
    },
    {
     "name": "stdout",
     "output_type": "stream",
     "text": [
      "Epoch [2/5], Step [1101/3551], Loss: 2.3766589164733887\n"
     ]
    },
    {
     "name": "stderr",
     "output_type": "stream",
     "text": [
      " 32%|███▏      | 1151/3551 [13:22<32:36,  1.23it/s]"
     ]
    },
    {
     "name": "stdout",
     "output_type": "stream",
     "text": [
      "Epoch [2/5], Step [1151/3551], Loss: 2.482229709625244\n"
     ]
    },
    {
     "name": "stderr",
     "output_type": "stream",
     "text": [
      " 34%|███▍      | 1201/3551 [13:56<25:26,  1.54it/s]"
     ]
    },
    {
     "name": "stdout",
     "output_type": "stream",
     "text": [
      "Epoch [2/5], Step [1201/3551], Loss: 2.357384204864502\n"
     ]
    },
    {
     "name": "stderr",
     "output_type": "stream",
     "text": [
      " 35%|███▌      | 1251/3551 [14:29<24:46,  1.55it/s]"
     ]
    },
    {
     "name": "stdout",
     "output_type": "stream",
     "text": [
      "Epoch [2/5], Step [1251/3551], Loss: 2.4759130477905273\n"
     ]
    },
    {
     "name": "stderr",
     "output_type": "stream",
     "text": [
      " 37%|███▋      | 1301/3551 [15:04<25:00,  1.50it/s]"
     ]
    },
    {
     "name": "stdout",
     "output_type": "stream",
     "text": [
      "Epoch [2/5], Step [1301/3551], Loss: 2.43741774559021\n"
     ]
    },
    {
     "name": "stderr",
     "output_type": "stream",
     "text": [
      " 38%|███▊      | 1351/3551 [15:37<23:59,  1.53it/s]"
     ]
    },
    {
     "name": "stdout",
     "output_type": "stream",
     "text": [
      "Epoch [2/5], Step [1351/3551], Loss: 2.4414618015289307\n"
     ]
    },
    {
     "name": "stderr",
     "output_type": "stream",
     "text": [
      " 39%|███▉      | 1401/3551 [16:13<23:22,  1.53it/s]"
     ]
    },
    {
     "name": "stdout",
     "output_type": "stream",
     "text": [
      "Epoch [2/5], Step [1401/3551], Loss: 2.3750083446502686\n"
     ]
    },
    {
     "name": "stderr",
     "output_type": "stream",
     "text": [
      " 41%|████      | 1451/3551 [16:47<23:45,  1.47it/s]"
     ]
    },
    {
     "name": "stdout",
     "output_type": "stream",
     "text": [
      "Epoch [2/5], Step [1451/3551], Loss: 2.3814964294433594\n"
     ]
    },
    {
     "name": "stderr",
     "output_type": "stream",
     "text": [
      " 42%|████▏     | 1501/3551 [17:22<26:31,  1.29it/s]"
     ]
    },
    {
     "name": "stdout",
     "output_type": "stream",
     "text": [
      "Epoch [2/5], Step [1501/3551], Loss: 2.440310478210449\n"
     ]
    },
    {
     "name": "stderr",
     "output_type": "stream",
     "text": [
      " 44%|████▎     | 1551/3551 [18:02<22:10,  1.50it/s]"
     ]
    },
    {
     "name": "stdout",
     "output_type": "stream",
     "text": [
      "Epoch [2/5], Step [1551/3551], Loss: 2.521256923675537\n"
     ]
    },
    {
     "name": "stderr",
     "output_type": "stream",
     "text": [
      " 45%|████▌     | 1601/3551 [18:36<20:39,  1.57it/s]"
     ]
    },
    {
     "name": "stdout",
     "output_type": "stream",
     "text": [
      "Epoch [2/5], Step [1601/3551], Loss: 2.5201971530914307\n"
     ]
    },
    {
     "name": "stderr",
     "output_type": "stream",
     "text": [
      " 46%|████▋     | 1651/3551 [19:16<20:50,  1.52it/s]"
     ]
    },
    {
     "name": "stdout",
     "output_type": "stream",
     "text": [
      "Epoch [2/5], Step [1651/3551], Loss: 2.3889944553375244\n"
     ]
    },
    {
     "name": "stderr",
     "output_type": "stream",
     "text": [
      " 48%|████▊     | 1701/3551 [19:56<31:14,  1.01s/it]"
     ]
    },
    {
     "name": "stdout",
     "output_type": "stream",
     "text": [
      "Epoch [2/5], Step [1701/3551], Loss: 2.515343189239502\n"
     ]
    },
    {
     "name": "stderr",
     "output_type": "stream",
     "text": [
      " 49%|████▉     | 1751/3551 [20:34<20:52,  1.44it/s]"
     ]
    },
    {
     "name": "stdout",
     "output_type": "stream",
     "text": [
      "Epoch [2/5], Step [1751/3551], Loss: 2.5665714740753174\n"
     ]
    },
    {
     "name": "stderr",
     "output_type": "stream",
     "text": [
      " 51%|█████     | 1801/3551 [21:08<22:44,  1.28it/s]"
     ]
    },
    {
     "name": "stdout",
     "output_type": "stream",
     "text": [
      "Epoch [2/5], Step [1801/3551], Loss: 2.5205440521240234\n"
     ]
    },
    {
     "name": "stderr",
     "output_type": "stream",
     "text": [
      " 52%|█████▏    | 1851/3551 [21:42<20:04,  1.41it/s]"
     ]
    },
    {
     "name": "stdout",
     "output_type": "stream",
     "text": [
      "Epoch [2/5], Step [1851/3551], Loss: 2.4301342964172363\n"
     ]
    },
    {
     "name": "stderr",
     "output_type": "stream",
     "text": [
      " 54%|█████▎    | 1901/3551 [22:17<17:26,  1.58it/s]"
     ]
    },
    {
     "name": "stdout",
     "output_type": "stream",
     "text": [
      "Epoch [2/5], Step [1901/3551], Loss: 2.518019199371338\n"
     ]
    },
    {
     "name": "stderr",
     "output_type": "stream",
     "text": [
      " 55%|█████▍    | 1951/3551 [22:52<19:33,  1.36it/s]"
     ]
    },
    {
     "name": "stdout",
     "output_type": "stream",
     "text": [
      "Epoch [2/5], Step [1951/3551], Loss: 2.3188838958740234\n"
     ]
    },
    {
     "name": "stderr",
     "output_type": "stream",
     "text": [
      " 56%|█████▋    | 2001/3551 [23:25<17:58,  1.44it/s]"
     ]
    },
    {
     "name": "stdout",
     "output_type": "stream",
     "text": [
      "Epoch [2/5], Step [2001/3551], Loss: 2.5274245738983154\n"
     ]
    },
    {
     "name": "stderr",
     "output_type": "stream",
     "text": [
      " 58%|█████▊    | 2051/3551 [24:02<24:31,  1.02it/s]"
     ]
    },
    {
     "name": "stdout",
     "output_type": "stream",
     "text": [
      "Epoch [2/5], Step [2051/3551], Loss: 2.5117993354797363\n"
     ]
    },
    {
     "name": "stderr",
     "output_type": "stream",
     "text": [
      " 59%|█████▉    | 2101/3551 [24:38<17:41,  1.37it/s]"
     ]
    },
    {
     "name": "stdout",
     "output_type": "stream",
     "text": [
      "Epoch [2/5], Step [2101/3551], Loss: 2.557192802429199\n"
     ]
    },
    {
     "name": "stderr",
     "output_type": "stream",
     "text": [
      " 61%|██████    | 2151/3551 [25:15<19:24,  1.20it/s]"
     ]
    },
    {
     "name": "stdout",
     "output_type": "stream",
     "text": [
      "Epoch [2/5], Step [2151/3551], Loss: 2.5969157218933105\n"
     ]
    },
    {
     "name": "stderr",
     "output_type": "stream",
     "text": [
      " 62%|██████▏   | 2201/3551 [25:48<14:07,  1.59it/s]"
     ]
    },
    {
     "name": "stdout",
     "output_type": "stream",
     "text": [
      "Epoch [2/5], Step [2201/3551], Loss: 2.4098777770996094\n"
     ]
    },
    {
     "name": "stderr",
     "output_type": "stream",
     "text": [
      " 63%|██████▎   | 2251/3551 [26:18<13:10,  1.65it/s]"
     ]
    },
    {
     "name": "stdout",
     "output_type": "stream",
     "text": [
      "Epoch [2/5], Step [2251/3551], Loss: 2.4969322681427\n"
     ]
    },
    {
     "name": "stderr",
     "output_type": "stream",
     "text": [
      " 65%|██████▍   | 2301/3551 [26:48<14:43,  1.42it/s]"
     ]
    },
    {
     "name": "stdout",
     "output_type": "stream",
     "text": [
      "Epoch [2/5], Step [2301/3551], Loss: 2.4259538650512695\n"
     ]
    },
    {
     "name": "stderr",
     "output_type": "stream",
     "text": [
      " 66%|██████▌   | 2351/3551 [27:18<11:49,  1.69it/s]"
     ]
    },
    {
     "name": "stdout",
     "output_type": "stream",
     "text": [
      "Epoch [2/5], Step [2351/3551], Loss: 2.3403661251068115\n"
     ]
    },
    {
     "name": "stderr",
     "output_type": "stream",
     "text": [
      " 68%|██████▊   | 2401/3551 [27:48<11:28,  1.67it/s]"
     ]
    },
    {
     "name": "stdout",
     "output_type": "stream",
     "text": [
      "Epoch [2/5], Step [2401/3551], Loss: 2.461550235748291\n"
     ]
    },
    {
     "name": "stderr",
     "output_type": "stream",
     "text": [
      " 69%|██████▉   | 2451/3551 [28:17<10:57,  1.67it/s]"
     ]
    },
    {
     "name": "stdout",
     "output_type": "stream",
     "text": [
      "Epoch [2/5], Step [2451/3551], Loss: 2.454007625579834\n"
     ]
    },
    {
     "name": "stderr",
     "output_type": "stream",
     "text": [
      " 70%|███████   | 2501/3551 [28:54<14:16,  1.23it/s]"
     ]
    },
    {
     "name": "stdout",
     "output_type": "stream",
     "text": [
      "Epoch [2/5], Step [2501/3551], Loss: 2.466019630432129\n"
     ]
    },
    {
     "name": "stderr",
     "output_type": "stream",
     "text": [
      " 72%|███████▏  | 2551/3551 [29:35<13:36,  1.22it/s]"
     ]
    },
    {
     "name": "stdout",
     "output_type": "stream",
     "text": [
      "Epoch [2/5], Step [2551/3551], Loss: 2.5419952869415283\n"
     ]
    },
    {
     "name": "stderr",
     "output_type": "stream",
     "text": [
      " 73%|███████▎  | 2601/3551 [30:16<13:18,  1.19it/s]"
     ]
    },
    {
     "name": "stdout",
     "output_type": "stream",
     "text": [
      "Epoch [2/5], Step [2601/3551], Loss: 2.454570770263672\n"
     ]
    },
    {
     "name": "stderr",
     "output_type": "stream",
     "text": [
      " 75%|███████▍  | 2651/3551 [30:59<13:01,  1.15it/s]"
     ]
    },
    {
     "name": "stdout",
     "output_type": "stream",
     "text": [
      "Epoch [2/5], Step [2651/3551], Loss: 2.3878135681152344\n"
     ]
    },
    {
     "name": "stderr",
     "output_type": "stream",
     "text": [
      " 76%|███████▌  | 2701/3551 [31:42<12:13,  1.16it/s]"
     ]
    },
    {
     "name": "stdout",
     "output_type": "stream",
     "text": [
      "Epoch [2/5], Step [2701/3551], Loss: 2.5399880409240723\n"
     ]
    },
    {
     "name": "stderr",
     "output_type": "stream",
     "text": [
      " 77%|███████▋  | 2751/3551 [32:24<11:32,  1.16it/s]"
     ]
    },
    {
     "name": "stdout",
     "output_type": "stream",
     "text": [
      "Epoch [2/5], Step [2751/3551], Loss: 2.4130282402038574\n"
     ]
    },
    {
     "name": "stderr",
     "output_type": "stream",
     "text": [
      " 79%|███████▉  | 2801/3551 [33:07<10:23,  1.20it/s]"
     ]
    },
    {
     "name": "stdout",
     "output_type": "stream",
     "text": [
      "Epoch [2/5], Step [2801/3551], Loss: 2.606778621673584\n"
     ]
    },
    {
     "name": "stderr",
     "output_type": "stream",
     "text": [
      " 80%|████████  | 2851/3551 [33:48<09:47,  1.19it/s]"
     ]
    },
    {
     "name": "stdout",
     "output_type": "stream",
     "text": [
      "Epoch [2/5], Step [2851/3551], Loss: 2.4339966773986816\n"
     ]
    },
    {
     "name": "stderr",
     "output_type": "stream",
     "text": [
      " 82%|████████▏ | 2901/3551 [34:29<09:22,  1.16it/s]"
     ]
    },
    {
     "name": "stdout",
     "output_type": "stream",
     "text": [
      "Epoch [2/5], Step [2901/3551], Loss: 2.5462300777435303\n"
     ]
    },
    {
     "name": "stderr",
     "output_type": "stream",
     "text": [
      " 83%|████████▎ | 2951/3551 [35:10<08:16,  1.21it/s]"
     ]
    },
    {
     "name": "stdout",
     "output_type": "stream",
     "text": [
      "Epoch [2/5], Step [2951/3551], Loss: 2.658470869064331\n"
     ]
    },
    {
     "name": "stderr",
     "output_type": "stream",
     "text": [
      " 85%|████████▍ | 3001/3551 [35:55<08:17,  1.11it/s]"
     ]
    },
    {
     "name": "stdout",
     "output_type": "stream",
     "text": [
      "Epoch [2/5], Step [3001/3551], Loss: 2.592412233352661\n"
     ]
    },
    {
     "name": "stderr",
     "output_type": "stream",
     "text": [
      " 86%|████████▌ | 3051/3551 [36:36<07:01,  1.19it/s]"
     ]
    },
    {
     "name": "stdout",
     "output_type": "stream",
     "text": [
      "Epoch [2/5], Step [3051/3551], Loss: 2.479116439819336\n"
     ]
    },
    {
     "name": "stderr",
     "output_type": "stream",
     "text": [
      " 87%|████████▋ | 3101/3551 [37:18<06:16,  1.20it/s]"
     ]
    },
    {
     "name": "stdout",
     "output_type": "stream",
     "text": [
      "Epoch [2/5], Step [3101/3551], Loss: 2.622445583343506\n"
     ]
    },
    {
     "name": "stderr",
     "output_type": "stream",
     "text": [
      " 89%|████████▊ | 3151/3551 [37:59<05:22,  1.24it/s]"
     ]
    },
    {
     "name": "stdout",
     "output_type": "stream",
     "text": [
      "Epoch [2/5], Step [3151/3551], Loss: 2.471534490585327\n"
     ]
    },
    {
     "name": "stderr",
     "output_type": "stream",
     "text": [
      " 90%|█████████ | 3201/3551 [38:41<04:59,  1.17it/s]"
     ]
    },
    {
     "name": "stdout",
     "output_type": "stream",
     "text": [
      "Epoch [2/5], Step [3201/3551], Loss: 2.3571715354919434\n"
     ]
    },
    {
     "name": "stderr",
     "output_type": "stream",
     "text": [
      " 92%|█████████▏| 3251/3551 [39:22<04:11,  1.19it/s]"
     ]
    },
    {
     "name": "stdout",
     "output_type": "stream",
     "text": [
      "Epoch [2/5], Step [3251/3551], Loss: 2.369288206100464\n"
     ]
    },
    {
     "name": "stderr",
     "output_type": "stream",
     "text": [
      " 93%|█████████▎| 3301/3551 [40:03<03:30,  1.19it/s]"
     ]
    },
    {
     "name": "stdout",
     "output_type": "stream",
     "text": [
      "Epoch [2/5], Step [3301/3551], Loss: 2.33292555809021\n"
     ]
    },
    {
     "name": "stderr",
     "output_type": "stream",
     "text": [
      " 94%|█████████▍| 3351/3551 [40:44<02:44,  1.21it/s]"
     ]
    },
    {
     "name": "stdout",
     "output_type": "stream",
     "text": [
      "Epoch [2/5], Step [3351/3551], Loss: 2.3339903354644775\n"
     ]
    },
    {
     "name": "stderr",
     "output_type": "stream",
     "text": [
      " 96%|█████████▌| 3401/3551 [41:24<01:58,  1.27it/s]"
     ]
    },
    {
     "name": "stdout",
     "output_type": "stream",
     "text": [
      "Epoch [2/5], Step [3401/3551], Loss: 2.448197841644287\n"
     ]
    },
    {
     "name": "stderr",
     "output_type": "stream",
     "text": [
      " 97%|█████████▋| 3451/3551 [42:04<01:19,  1.26it/s]"
     ]
    },
    {
     "name": "stdout",
     "output_type": "stream",
     "text": [
      "Epoch [2/5], Step [3451/3551], Loss: 2.5420141220092773\n"
     ]
    },
    {
     "name": "stderr",
     "output_type": "stream",
     "text": [
      " 99%|█████████▊| 3501/3551 [42:43<00:31,  1.60it/s]"
     ]
    },
    {
     "name": "stdout",
     "output_type": "stream",
     "text": [
      "Epoch [2/5], Step [3501/3551], Loss: 2.6272950172424316\n"
     ]
    },
    {
     "name": "stderr",
     "output_type": "stream",
     "text": [
      "100%|██████████| 3551/3551 [43:16<00:00,  1.37it/s]\n"
     ]
    },
    {
     "name": "stdout",
     "output_type": "stream",
     "text": [
      "Epoch [2/5], Step [3551/3551], Loss: 1.469866394996643\n",
      "Validation Loss: 2.4517747474622125\n"
     ]
    },
    {
     "name": "stderr",
     "output_type": "stream",
     "text": [
      "  0%|          | 1/3551 [00:00<37:10,  1.59it/s]"
     ]
    },
    {
     "name": "stdout",
     "output_type": "stream",
     "text": [
      "Epoch [3/5], Step [1/3551], Loss: 2.468337059020996\n"
     ]
    },
    {
     "name": "stderr",
     "output_type": "stream",
     "text": [
      "  1%|▏         | 51/3551 [00:32<35:54,  1.62it/s]"
     ]
    },
    {
     "name": "stdout",
     "output_type": "stream",
     "text": [
      "Epoch [3/5], Step [51/3551], Loss: 2.408777952194214\n"
     ]
    },
    {
     "name": "stderr",
     "output_type": "stream",
     "text": [
      "  3%|▎         | 101/3551 [01:04<33:29,  1.72it/s]"
     ]
    },
    {
     "name": "stdout",
     "output_type": "stream",
     "text": [
      "Epoch [3/5], Step [101/3551], Loss: 2.490530252456665\n"
     ]
    },
    {
     "name": "stderr",
     "output_type": "stream",
     "text": [
      "  4%|▍         | 151/3551 [01:38<43:55,  1.29it/s]"
     ]
    },
    {
     "name": "stdout",
     "output_type": "stream",
     "text": [
      "Epoch [3/5], Step [151/3551], Loss: 2.449276924133301\n"
     ]
    },
    {
     "name": "stderr",
     "output_type": "stream",
     "text": [
      "  6%|▌         | 201/3551 [02:11<38:16,  1.46it/s]"
     ]
    },
    {
     "name": "stdout",
     "output_type": "stream",
     "text": [
      "Epoch [3/5], Step [201/3551], Loss: 2.4751787185668945\n"
     ]
    },
    {
     "name": "stderr",
     "output_type": "stream",
     "text": [
      "  7%|▋         | 251/3551 [02:46<38:45,  1.42it/s]"
     ]
    },
    {
     "name": "stdout",
     "output_type": "stream",
     "text": [
      "Epoch [3/5], Step [251/3551], Loss: 2.3216686248779297\n"
     ]
    },
    {
     "name": "stderr",
     "output_type": "stream",
     "text": [
      "  8%|▊         | 301/3551 [03:28<49:19,  1.10it/s]"
     ]
    },
    {
     "name": "stdout",
     "output_type": "stream",
     "text": [
      "Epoch [3/5], Step [301/3551], Loss: 2.3752975463867188\n"
     ]
    },
    {
     "name": "stderr",
     "output_type": "stream",
     "text": [
      " 10%|▉         | 351/3551 [04:08<51:39,  1.03it/s]"
     ]
    },
    {
     "name": "stdout",
     "output_type": "stream",
     "text": [
      "Epoch [3/5], Step [351/3551], Loss: 2.4226958751678467\n"
     ]
    },
    {
     "name": "stderr",
     "output_type": "stream",
     "text": [
      " 11%|█▏        | 401/3551 [04:43<54:20,  1.03s/it]"
     ]
    },
    {
     "name": "stdout",
     "output_type": "stream",
     "text": [
      "Epoch [3/5], Step [401/3551], Loss: 2.278576135635376\n"
     ]
    },
    {
     "name": "stderr",
     "output_type": "stream",
     "text": [
      " 13%|█▎        | 451/3551 [05:27<51:53,  1.00s/it]"
     ]
    },
    {
     "name": "stdout",
     "output_type": "stream",
     "text": [
      "Epoch [3/5], Step [451/3551], Loss: 2.4513065814971924\n"
     ]
    },
    {
     "name": "stderr",
     "output_type": "stream",
     "text": [
      " 14%|█▍        | 501/3551 [06:08<40:43,  1.25it/s]"
     ]
    },
    {
     "name": "stdout",
     "output_type": "stream",
     "text": [
      "Epoch [3/5], Step [501/3551], Loss: 2.494425058364868\n"
     ]
    },
    {
     "name": "stderr",
     "output_type": "stream",
     "text": [
      " 16%|█▌        | 551/3551 [06:49<48:31,  1.03it/s]"
     ]
    },
    {
     "name": "stdout",
     "output_type": "stream",
     "text": [
      "Epoch [3/5], Step [551/3551], Loss: 2.3765108585357666\n"
     ]
    },
    {
     "name": "stderr",
     "output_type": "stream",
     "text": [
      " 17%|█▋        | 601/3551 [07:33<31:22,  1.57it/s]  "
     ]
    },
    {
     "name": "stdout",
     "output_type": "stream",
     "text": [
      "Epoch [3/5], Step [601/3551], Loss: 2.3054709434509277\n"
     ]
    },
    {
     "name": "stderr",
     "output_type": "stream",
     "text": [
      " 18%|█▊        | 651/3551 [08:07<37:08,  1.30it/s]"
     ]
    },
    {
     "name": "stdout",
     "output_type": "stream",
     "text": [
      "Epoch [3/5], Step [651/3551], Loss: 2.3429172039031982\n"
     ]
    },
    {
     "name": "stderr",
     "output_type": "stream",
     "text": [
      " 20%|█▉        | 701/3551 [08:42<34:29,  1.38it/s]"
     ]
    },
    {
     "name": "stdout",
     "output_type": "stream",
     "text": [
      "Epoch [3/5], Step [701/3551], Loss: 2.333503484725952\n"
     ]
    },
    {
     "name": "stderr",
     "output_type": "stream",
     "text": [
      " 21%|██        | 751/3551 [09:18<36:30,  1.28it/s]"
     ]
    },
    {
     "name": "stdout",
     "output_type": "stream",
     "text": [
      "Epoch [3/5], Step [751/3551], Loss: 2.3649542331695557\n"
     ]
    },
    {
     "name": "stderr",
     "output_type": "stream",
     "text": [
      " 23%|██▎       | 801/3551 [09:56<29:24,  1.56it/s]"
     ]
    },
    {
     "name": "stdout",
     "output_type": "stream",
     "text": [
      "Epoch [3/5], Step [801/3551], Loss: 2.323568820953369\n"
     ]
    },
    {
     "name": "stderr",
     "output_type": "stream",
     "text": [
      " 24%|██▍       | 851/3551 [10:26<28:05,  1.60it/s]"
     ]
    },
    {
     "name": "stdout",
     "output_type": "stream",
     "text": [
      "Epoch [3/5], Step [851/3551], Loss: 2.517500638961792\n"
     ]
    },
    {
     "name": "stderr",
     "output_type": "stream",
     "text": [
      " 25%|██▌       | 901/3551 [10:59<33:51,  1.30it/s]"
     ]
    },
    {
     "name": "stdout",
     "output_type": "stream",
     "text": [
      "Epoch [3/5], Step [901/3551], Loss: 2.5006489753723145\n"
     ]
    },
    {
     "name": "stderr",
     "output_type": "stream",
     "text": [
      " 27%|██▋       | 951/3551 [11:32<26:26,  1.64it/s]"
     ]
    },
    {
     "name": "stdout",
     "output_type": "stream",
     "text": [
      "Epoch [3/5], Step [951/3551], Loss: 2.4240496158599854\n"
     ]
    },
    {
     "name": "stderr",
     "output_type": "stream",
     "text": [
      " 28%|██▊       | 1001/3551 [12:15<49:36,  1.17s/it]"
     ]
    },
    {
     "name": "stdout",
     "output_type": "stream",
     "text": [
      "Epoch [3/5], Step [1001/3551], Loss: 2.4317030906677246\n"
     ]
    },
    {
     "name": "stderr",
     "output_type": "stream",
     "text": [
      " 30%|██▉       | 1051/3551 [12:57<28:32,  1.46it/s]"
     ]
    },
    {
     "name": "stdout",
     "output_type": "stream",
     "text": [
      "Epoch [3/5], Step [1051/3551], Loss: 2.462522506713867\n"
     ]
    },
    {
     "name": "stderr",
     "output_type": "stream",
     "text": [
      " 31%|███       | 1101/3551 [13:39<34:24,  1.19it/s]"
     ]
    },
    {
     "name": "stdout",
     "output_type": "stream",
     "text": [
      "Epoch [3/5], Step [1101/3551], Loss: 2.5181384086608887\n"
     ]
    },
    {
     "name": "stderr",
     "output_type": "stream",
     "text": [
      " 32%|███▏      | 1151/3551 [14:12<25:14,  1.59it/s]"
     ]
    },
    {
     "name": "stdout",
     "output_type": "stream",
     "text": [
      "Epoch [3/5], Step [1151/3551], Loss: 2.4276044368743896\n"
     ]
    },
    {
     "name": "stderr",
     "output_type": "stream",
     "text": [
      " 34%|███▍      | 1201/3551 [14:43<24:10,  1.62it/s]"
     ]
    },
    {
     "name": "stdout",
     "output_type": "stream",
     "text": [
      "Epoch [3/5], Step [1201/3551], Loss: 2.4819416999816895\n"
     ]
    },
    {
     "name": "stderr",
     "output_type": "stream",
     "text": [
      " 35%|███▌      | 1251/3551 [15:13<23:18,  1.65it/s]"
     ]
    },
    {
     "name": "stdout",
     "output_type": "stream",
     "text": [
      "Epoch [3/5], Step [1251/3551], Loss: 2.4686851501464844\n"
     ]
    },
    {
     "name": "stderr",
     "output_type": "stream",
     "text": [
      " 37%|███▋      | 1301/3551 [15:43<23:11,  1.62it/s]"
     ]
    },
    {
     "name": "stdout",
     "output_type": "stream",
     "text": [
      "Epoch [3/5], Step [1301/3551], Loss: 2.504477024078369\n"
     ]
    },
    {
     "name": "stderr",
     "output_type": "stream",
     "text": [
      " 38%|███▊      | 1351/3551 [16:13<22:32,  1.63it/s]"
     ]
    },
    {
     "name": "stdout",
     "output_type": "stream",
     "text": [
      "Epoch [3/5], Step [1351/3551], Loss: 2.444460391998291\n"
     ]
    },
    {
     "name": "stderr",
     "output_type": "stream",
     "text": [
      " 39%|███▉      | 1401/3551 [16:43<21:40,  1.65it/s]"
     ]
    },
    {
     "name": "stdout",
     "output_type": "stream",
     "text": [
      "Epoch [3/5], Step [1401/3551], Loss: 2.5618743896484375\n"
     ]
    },
    {
     "name": "stderr",
     "output_type": "stream",
     "text": [
      " 41%|████      | 1451/3551 [17:14<21:27,  1.63it/s]"
     ]
    },
    {
     "name": "stdout",
     "output_type": "stream",
     "text": [
      "Epoch [3/5], Step [1451/3551], Loss: 2.634786605834961\n"
     ]
    },
    {
     "name": "stderr",
     "output_type": "stream",
     "text": [
      " 42%|████▏     | 1501/3551 [17:43<20:32,  1.66it/s]"
     ]
    },
    {
     "name": "stdout",
     "output_type": "stream",
     "text": [
      "Epoch [3/5], Step [1501/3551], Loss: 2.4487195014953613\n"
     ]
    },
    {
     "name": "stderr",
     "output_type": "stream",
     "text": [
      " 44%|████▎     | 1551/3551 [18:13<20:37,  1.62it/s]"
     ]
    },
    {
     "name": "stdout",
     "output_type": "stream",
     "text": [
      "Epoch [3/5], Step [1551/3551], Loss: 2.5812089443206787\n"
     ]
    },
    {
     "name": "stderr",
     "output_type": "stream",
     "text": [
      " 45%|████▌     | 1601/3551 [18:44<20:09,  1.61it/s]"
     ]
    },
    {
     "name": "stdout",
     "output_type": "stream",
     "text": [
      "Epoch [3/5], Step [1601/3551], Loss: 2.4220099449157715\n"
     ]
    },
    {
     "name": "stderr",
     "output_type": "stream",
     "text": [
      " 46%|████▋     | 1651/3551 [19:15<19:43,  1.61it/s]"
     ]
    },
    {
     "name": "stdout",
     "output_type": "stream",
     "text": [
      "Epoch [3/5], Step [1651/3551], Loss: 2.3748390674591064\n"
     ]
    },
    {
     "name": "stderr",
     "output_type": "stream",
     "text": [
      " 48%|████▊     | 1701/3551 [19:45<18:27,  1.67it/s]"
     ]
    },
    {
     "name": "stdout",
     "output_type": "stream",
     "text": [
      "Epoch [3/5], Step [1701/3551], Loss: 2.3574399948120117\n"
     ]
    },
    {
     "name": "stderr",
     "output_type": "stream",
     "text": [
      " 49%|████▉     | 1751/3551 [20:15<18:32,  1.62it/s]"
     ]
    },
    {
     "name": "stdout",
     "output_type": "stream",
     "text": [
      "Epoch [3/5], Step [1751/3551], Loss: 2.507389783859253\n"
     ]
    },
    {
     "name": "stderr",
     "output_type": "stream",
     "text": [
      " 51%|█████     | 1801/3551 [20:45<18:29,  1.58it/s]"
     ]
    },
    {
     "name": "stdout",
     "output_type": "stream",
     "text": [
      "Epoch [3/5], Step [1801/3551], Loss: 2.4715576171875\n"
     ]
    },
    {
     "name": "stderr",
     "output_type": "stream",
     "text": [
      " 52%|█████▏    | 1851/3551 [21:15<16:57,  1.67it/s]"
     ]
    },
    {
     "name": "stdout",
     "output_type": "stream",
     "text": [
      "Epoch [3/5], Step [1851/3551], Loss: 2.4894115924835205\n"
     ]
    },
    {
     "name": "stderr",
     "output_type": "stream",
     "text": [
      " 54%|█████▎    | 1901/3551 [21:46<17:03,  1.61it/s]"
     ]
    },
    {
     "name": "stdout",
     "output_type": "stream",
     "text": [
      "Epoch [3/5], Step [1901/3551], Loss: 2.3646440505981445\n"
     ]
    },
    {
     "name": "stderr",
     "output_type": "stream",
     "text": [
      " 55%|█████▍    | 1951/3551 [22:16<16:23,  1.63it/s]"
     ]
    },
    {
     "name": "stdout",
     "output_type": "stream",
     "text": [
      "Epoch [3/5], Step [1951/3551], Loss: 2.545091152191162\n"
     ]
    },
    {
     "name": "stderr",
     "output_type": "stream",
     "text": [
      " 56%|█████▋    | 2001/3551 [22:47<15:53,  1.62it/s]"
     ]
    },
    {
     "name": "stdout",
     "output_type": "stream",
     "text": [
      "Epoch [3/5], Step [2001/3551], Loss: 2.3303966522216797\n"
     ]
    },
    {
     "name": "stderr",
     "output_type": "stream",
     "text": [
      " 58%|█████▊    | 2051/3551 [23:17<15:21,  1.63it/s]"
     ]
    },
    {
     "name": "stdout",
     "output_type": "stream",
     "text": [
      "Epoch [3/5], Step [2051/3551], Loss: 2.442039728164673\n"
     ]
    },
    {
     "name": "stderr",
     "output_type": "stream",
     "text": [
      " 59%|█████▉    | 2101/3551 [23:47<14:32,  1.66it/s]"
     ]
    },
    {
     "name": "stdout",
     "output_type": "stream",
     "text": [
      "Epoch [3/5], Step [2101/3551], Loss: 2.497882843017578\n"
     ]
    },
    {
     "name": "stderr",
     "output_type": "stream",
     "text": [
      " 61%|██████    | 2151/3551 [24:16<14:06,  1.65it/s]"
     ]
    },
    {
     "name": "stdout",
     "output_type": "stream",
     "text": [
      "Epoch [3/5], Step [2151/3551], Loss: 2.409789800643921\n"
     ]
    },
    {
     "name": "stderr",
     "output_type": "stream",
     "text": [
      " 62%|██████▏   | 2201/3551 [24:46<13:43,  1.64it/s]"
     ]
    },
    {
     "name": "stdout",
     "output_type": "stream",
     "text": [
      "Epoch [3/5], Step [2201/3551], Loss: 2.4090585708618164\n"
     ]
    },
    {
     "name": "stderr",
     "output_type": "stream",
     "text": [
      " 63%|██████▎   | 2251/3551 [25:16<13:21,  1.62it/s]"
     ]
    },
    {
     "name": "stdout",
     "output_type": "stream",
     "text": [
      "Epoch [3/5], Step [2251/3551], Loss: 2.503422498703003\n"
     ]
    },
    {
     "name": "stderr",
     "output_type": "stream",
     "text": [
      " 65%|██████▍   | 2301/3551 [25:46<12:45,  1.63it/s]"
     ]
    },
    {
     "name": "stdout",
     "output_type": "stream",
     "text": [
      "Epoch [3/5], Step [2301/3551], Loss: 2.450700044631958\n"
     ]
    },
    {
     "name": "stderr",
     "output_type": "stream",
     "text": [
      " 66%|██████▌   | 2351/3551 [26:17<12:24,  1.61it/s]"
     ]
    },
    {
     "name": "stdout",
     "output_type": "stream",
     "text": [
      "Epoch [3/5], Step [2351/3551], Loss: 2.545867443084717\n"
     ]
    },
    {
     "name": "stderr",
     "output_type": "stream",
     "text": [
      " 68%|██████▊   | 2401/3551 [26:47<11:44,  1.63it/s]"
     ]
    },
    {
     "name": "stdout",
     "output_type": "stream",
     "text": [
      "Epoch [3/5], Step [2401/3551], Loss: 2.391794443130493\n"
     ]
    },
    {
     "name": "stderr",
     "output_type": "stream",
     "text": [
      " 69%|██████▉   | 2451/3551 [27:18<11:28,  1.60it/s]"
     ]
    },
    {
     "name": "stdout",
     "output_type": "stream",
     "text": [
      "Epoch [3/5], Step [2451/3551], Loss: 2.460563898086548\n"
     ]
    },
    {
     "name": "stderr",
     "output_type": "stream",
     "text": [
      " 70%|███████   | 2501/3551 [27:48<10:46,  1.62it/s]"
     ]
    },
    {
     "name": "stdout",
     "output_type": "stream",
     "text": [
      "Epoch [3/5], Step [2501/3551], Loss: 2.492554187774658\n"
     ]
    },
    {
     "name": "stderr",
     "output_type": "stream",
     "text": [
      " 72%|███████▏  | 2551/3551 [28:19<10:15,  1.62it/s]"
     ]
    },
    {
     "name": "stdout",
     "output_type": "stream",
     "text": [
      "Epoch [3/5], Step [2551/3551], Loss: 2.5037968158721924\n"
     ]
    },
    {
     "name": "stderr",
     "output_type": "stream",
     "text": [
      " 73%|███████▎  | 2601/3551 [28:48<09:23,  1.69it/s]"
     ]
    },
    {
     "name": "stdout",
     "output_type": "stream",
     "text": [
      "Epoch [3/5], Step [2601/3551], Loss: 2.4076733589172363\n"
     ]
    },
    {
     "name": "stderr",
     "output_type": "stream",
     "text": [
      " 75%|███████▍  | 2651/3551 [29:18<09:10,  1.63it/s]"
     ]
    },
    {
     "name": "stdout",
     "output_type": "stream",
     "text": [
      "Epoch [3/5], Step [2651/3551], Loss: 2.5544800758361816\n"
     ]
    },
    {
     "name": "stderr",
     "output_type": "stream",
     "text": [
      " 76%|███████▌  | 2701/3551 [29:48<08:41,  1.63it/s]"
     ]
    },
    {
     "name": "stdout",
     "output_type": "stream",
     "text": [
      "Epoch [3/5], Step [2701/3551], Loss: 2.479673147201538\n"
     ]
    },
    {
     "name": "stderr",
     "output_type": "stream",
     "text": [
      " 77%|███████▋  | 2751/3551 [30:19<08:13,  1.62it/s]"
     ]
    },
    {
     "name": "stdout",
     "output_type": "stream",
     "text": [
      "Epoch [3/5], Step [2751/3551], Loss: 2.446486234664917\n"
     ]
    },
    {
     "name": "stderr",
     "output_type": "stream",
     "text": [
      " 79%|███████▉  | 2801/3551 [30:49<07:45,  1.61it/s]"
     ]
    },
    {
     "name": "stdout",
     "output_type": "stream",
     "text": [
      "Epoch [3/5], Step [2801/3551], Loss: 2.3800365924835205\n"
     ]
    },
    {
     "name": "stderr",
     "output_type": "stream",
     "text": [
      " 80%|████████  | 2851/3551 [31:22<07:23,  1.58it/s]"
     ]
    },
    {
     "name": "stdout",
     "output_type": "stream",
     "text": [
      "Epoch [3/5], Step [2851/3551], Loss: 2.561187982559204\n"
     ]
    },
    {
     "name": "stderr",
     "output_type": "stream",
     "text": [
      " 82%|████████▏ | 2901/3551 [31:52<06:40,  1.62it/s]"
     ]
    },
    {
     "name": "stdout",
     "output_type": "stream",
     "text": [
      "Epoch [3/5], Step [2901/3551], Loss: 2.405590295791626\n"
     ]
    },
    {
     "name": "stderr",
     "output_type": "stream",
     "text": [
      " 83%|████████▎ | 2951/3551 [32:23<06:10,  1.62it/s]"
     ]
    },
    {
     "name": "stdout",
     "output_type": "stream",
     "text": [
      "Epoch [3/5], Step [2951/3551], Loss: 2.404393434524536\n"
     ]
    },
    {
     "name": "stderr",
     "output_type": "stream",
     "text": [
      " 85%|████████▍ | 3001/3551 [32:53<05:33,  1.65it/s]"
     ]
    },
    {
     "name": "stdout",
     "output_type": "stream",
     "text": [
      "Epoch [3/5], Step [3001/3551], Loss: 2.293161630630493\n"
     ]
    },
    {
     "name": "stderr",
     "output_type": "stream",
     "text": [
      " 86%|████████▌ | 3051/3551 [33:23<05:05,  1.64it/s]"
     ]
    },
    {
     "name": "stdout",
     "output_type": "stream",
     "text": [
      "Epoch [3/5], Step [3051/3551], Loss: 2.5190138816833496\n"
     ]
    },
    {
     "name": "stderr",
     "output_type": "stream",
     "text": [
      " 87%|████████▋ | 3101/3551 [33:54<04:34,  1.64it/s]"
     ]
    },
    {
     "name": "stdout",
     "output_type": "stream",
     "text": [
      "Epoch [3/5], Step [3101/3551], Loss: 2.48305344581604\n"
     ]
    },
    {
     "name": "stderr",
     "output_type": "stream",
     "text": [
      " 89%|████████▊ | 3151/3551 [34:23<04:00,  1.66it/s]"
     ]
    },
    {
     "name": "stdout",
     "output_type": "stream",
     "text": [
      "Epoch [3/5], Step [3151/3551], Loss: 2.446277379989624\n"
     ]
    },
    {
     "name": "stderr",
     "output_type": "stream",
     "text": [
      " 90%|█████████ | 3201/3551 [34:53<03:32,  1.65it/s]"
     ]
    },
    {
     "name": "stdout",
     "output_type": "stream",
     "text": [
      "Epoch [3/5], Step [3201/3551], Loss: 2.407923460006714\n"
     ]
    },
    {
     "name": "stderr",
     "output_type": "stream",
     "text": [
      " 92%|█████████▏| 3251/3551 [35:23<03:05,  1.61it/s]"
     ]
    },
    {
     "name": "stdout",
     "output_type": "stream",
     "text": [
      "Epoch [3/5], Step [3251/3551], Loss: 2.6499416828155518\n"
     ]
    },
    {
     "name": "stderr",
     "output_type": "stream",
     "text": [
      " 93%|█████████▎| 3301/3551 [35:54<02:49,  1.48it/s]"
     ]
    },
    {
     "name": "stdout",
     "output_type": "stream",
     "text": [
      "Epoch [3/5], Step [3301/3551], Loss: 2.467775344848633\n"
     ]
    },
    {
     "name": "stderr",
     "output_type": "stream",
     "text": [
      " 94%|█████████▍| 3351/3551 [36:25<02:01,  1.64it/s]"
     ]
    },
    {
     "name": "stdout",
     "output_type": "stream",
     "text": [
      "Epoch [3/5], Step [3351/3551], Loss: 2.4871327877044678\n"
     ]
    },
    {
     "name": "stderr",
     "output_type": "stream",
     "text": [
      " 96%|█████████▌| 3401/3551 [36:55<01:31,  1.64it/s]"
     ]
    },
    {
     "name": "stdout",
     "output_type": "stream",
     "text": [
      "Epoch [3/5], Step [3401/3551], Loss: 2.4619011878967285\n"
     ]
    },
    {
     "name": "stderr",
     "output_type": "stream",
     "text": [
      " 97%|█████████▋| 3451/3551 [37:26<01:01,  1.62it/s]"
     ]
    },
    {
     "name": "stdout",
     "output_type": "stream",
     "text": [
      "Epoch [3/5], Step [3451/3551], Loss: 2.4009716510772705\n"
     ]
    },
    {
     "name": "stderr",
     "output_type": "stream",
     "text": [
      " 99%|█████████▊| 3501/3551 [37:56<00:30,  1.63it/s]"
     ]
    },
    {
     "name": "stdout",
     "output_type": "stream",
     "text": [
      "Epoch [3/5], Step [3501/3551], Loss: 2.3631632328033447\n"
     ]
    },
    {
     "name": "stderr",
     "output_type": "stream",
     "text": [
      "100%|██████████| 3551/3551 [38:26<00:00,  1.54it/s]\n"
     ]
    },
    {
     "name": "stdout",
     "output_type": "stream",
     "text": [
      "Epoch [3/5], Step [3551/3551], Loss: 2.164804220199585\n",
      "Validation Loss: 2.4500190390816217\n"
     ]
    },
    {
     "name": "stderr",
     "output_type": "stream",
     "text": [
      "  0%|          | 1/3551 [00:00<38:23,  1.54it/s]"
     ]
    },
    {
     "name": "stdout",
     "output_type": "stream",
     "text": [
      "Epoch [4/5], Step [1/3551], Loss: 2.4277961254119873\n"
     ]
    },
    {
     "name": "stderr",
     "output_type": "stream",
     "text": [
      "  1%|▏         | 51/3551 [00:30<34:53,  1.67it/s]"
     ]
    },
    {
     "name": "stdout",
     "output_type": "stream",
     "text": [
      "Epoch [4/5], Step [51/3551], Loss: 2.5398168563842773\n"
     ]
    },
    {
     "name": "stderr",
     "output_type": "stream",
     "text": [
      "  3%|▎         | 101/3551 [01:00<35:08,  1.64it/s]"
     ]
    },
    {
     "name": "stdout",
     "output_type": "stream",
     "text": [
      "Epoch [4/5], Step [101/3551], Loss: 2.3583016395568848\n"
     ]
    },
    {
     "name": "stderr",
     "output_type": "stream",
     "text": [
      "  4%|▍         | 151/3551 [01:31<34:42,  1.63it/s]"
     ]
    },
    {
     "name": "stdout",
     "output_type": "stream",
     "text": [
      "Epoch [4/5], Step [151/3551], Loss: 2.4253480434417725\n"
     ]
    },
    {
     "name": "stderr",
     "output_type": "stream",
     "text": [
      "  6%|▌         | 201/3551 [02:01<34:00,  1.64it/s]"
     ]
    },
    {
     "name": "stdout",
     "output_type": "stream",
     "text": [
      "Epoch [4/5], Step [201/3551], Loss: 2.329566240310669\n"
     ]
    },
    {
     "name": "stderr",
     "output_type": "stream",
     "text": [
      "  7%|▋         | 251/3551 [02:33<39:48,  1.38it/s]"
     ]
    },
    {
     "name": "stdout",
     "output_type": "stream",
     "text": [
      "Epoch [4/5], Step [251/3551], Loss: 2.4421374797821045\n"
     ]
    },
    {
     "name": "stderr",
     "output_type": "stream",
     "text": [
      "  8%|▊         | 301/3551 [03:06<36:11,  1.50it/s]"
     ]
    },
    {
     "name": "stdout",
     "output_type": "stream",
     "text": [
      "Epoch [4/5], Step [301/3551], Loss: 2.459641695022583\n"
     ]
    },
    {
     "name": "stderr",
     "output_type": "stream",
     "text": [
      " 10%|▉         | 351/3551 [03:38<33:18,  1.60it/s]"
     ]
    },
    {
     "name": "stdout",
     "output_type": "stream",
     "text": [
      "Epoch [4/5], Step [351/3551], Loss: 2.46999454498291\n"
     ]
    },
    {
     "name": "stderr",
     "output_type": "stream",
     "text": [
      " 11%|█▏        | 401/3551 [04:18<37:51,  1.39it/s]"
     ]
    },
    {
     "name": "stdout",
     "output_type": "stream",
     "text": [
      "Epoch [4/5], Step [401/3551], Loss: 2.492246150970459\n"
     ]
    },
    {
     "name": "stderr",
     "output_type": "stream",
     "text": [
      " 13%|█▎        | 451/3551 [04:54<36:33,  1.41it/s]"
     ]
    },
    {
     "name": "stdout",
     "output_type": "stream",
     "text": [
      "Epoch [4/5], Step [451/3551], Loss: 2.4722025394439697\n"
     ]
    },
    {
     "name": "stderr",
     "output_type": "stream",
     "text": [
      " 14%|█▍        | 501/3551 [05:26<32:29,  1.56it/s]"
     ]
    },
    {
     "name": "stdout",
     "output_type": "stream",
     "text": [
      "Epoch [4/5], Step [501/3551], Loss: 2.5053882598876953\n"
     ]
    },
    {
     "name": "stderr",
     "output_type": "stream",
     "text": [
      " 16%|█▌        | 551/3551 [06:01<31:06,  1.61it/s]"
     ]
    },
    {
     "name": "stdout",
     "output_type": "stream",
     "text": [
      "Epoch [4/5], Step [551/3551], Loss: 2.2801156044006348\n"
     ]
    },
    {
     "name": "stderr",
     "output_type": "stream",
     "text": [
      " 17%|█▋        | 601/3551 [06:42<52:45,  1.07s/it]"
     ]
    },
    {
     "name": "stdout",
     "output_type": "stream",
     "text": [
      "Epoch [4/5], Step [601/3551], Loss: 2.4842734336853027\n"
     ]
    },
    {
     "name": "stderr",
     "output_type": "stream",
     "text": [
      " 18%|█▊        | 651/3551 [07:29<36:38,  1.32it/s]"
     ]
    },
    {
     "name": "stdout",
     "output_type": "stream",
     "text": [
      "Epoch [4/5], Step [651/3551], Loss: 2.5668089389801025\n"
     ]
    },
    {
     "name": "stderr",
     "output_type": "stream",
     "text": [
      " 20%|█▉        | 701/3551 [08:06<34:01,  1.40it/s]"
     ]
    },
    {
     "name": "stdout",
     "output_type": "stream",
     "text": [
      "Epoch [4/5], Step [701/3551], Loss: 2.3175406455993652\n"
     ]
    },
    {
     "name": "stderr",
     "output_type": "stream",
     "text": [
      " 21%|██        | 751/3551 [08:40<37:07,  1.26it/s]"
     ]
    },
    {
     "name": "stdout",
     "output_type": "stream",
     "text": [
      "Epoch [4/5], Step [751/3551], Loss: 2.4494524002075195\n"
     ]
    },
    {
     "name": "stderr",
     "output_type": "stream",
     "text": [
      " 23%|██▎       | 801/3551 [09:16<36:42,  1.25it/s]"
     ]
    },
    {
     "name": "stdout",
     "output_type": "stream",
     "text": [
      "Epoch [4/5], Step [801/3551], Loss: 2.394958257675171\n"
     ]
    },
    {
     "name": "stderr",
     "output_type": "stream",
     "text": [
      " 24%|██▍       | 851/3551 [09:49<31:19,  1.44it/s]"
     ]
    },
    {
     "name": "stdout",
     "output_type": "stream",
     "text": [
      "Epoch [4/5], Step [851/3551], Loss: 2.4166722297668457\n"
     ]
    },
    {
     "name": "stderr",
     "output_type": "stream",
     "text": [
      " 25%|██▌       | 901/3551 [10:25<45:48,  1.04s/it]"
     ]
    },
    {
     "name": "stdout",
     "output_type": "stream",
     "text": [
      "Epoch [4/5], Step [901/3551], Loss: 2.3432559967041016\n"
     ]
    },
    {
     "name": "stderr",
     "output_type": "stream",
     "text": [
      " 27%|██▋       | 951/3551 [11:01<30:19,  1.43it/s]"
     ]
    },
    {
     "name": "stdout",
     "output_type": "stream",
     "text": [
      "Epoch [4/5], Step [951/3551], Loss: 2.4579274654388428\n"
     ]
    },
    {
     "name": "stderr",
     "output_type": "stream",
     "text": [
      " 28%|██▊       | 1001/3551 [11:36<29:51,  1.42it/s]"
     ]
    },
    {
     "name": "stdout",
     "output_type": "stream",
     "text": [
      "Epoch [4/5], Step [1001/3551], Loss: 2.3331451416015625\n"
     ]
    },
    {
     "name": "stderr",
     "output_type": "stream",
     "text": [
      " 30%|██▉       | 1051/3551 [12:11<27:58,  1.49it/s]"
     ]
    },
    {
     "name": "stdout",
     "output_type": "stream",
     "text": [
      "Epoch [4/5], Step [1051/3551], Loss: 2.3483047485351562\n"
     ]
    },
    {
     "name": "stderr",
     "output_type": "stream",
     "text": [
      " 31%|███       | 1101/3551 [12:46<30:01,  1.36it/s]"
     ]
    },
    {
     "name": "stdout",
     "output_type": "stream",
     "text": [
      "Epoch [4/5], Step [1101/3551], Loss: 2.4297471046447754\n"
     ]
    },
    {
     "name": "stderr",
     "output_type": "stream",
     "text": [
      " 32%|███▏      | 1151/3551 [13:20<29:16,  1.37it/s]"
     ]
    },
    {
     "name": "stdout",
     "output_type": "stream",
     "text": [
      "Epoch [4/5], Step [1151/3551], Loss: 2.1846938133239746\n"
     ]
    },
    {
     "name": "stderr",
     "output_type": "stream",
     "text": [
      " 34%|███▍      | 1201/3551 [13:55<27:52,  1.41it/s]"
     ]
    },
    {
     "name": "stdout",
     "output_type": "stream",
     "text": [
      "Epoch [4/5], Step [1201/3551], Loss: 2.465590238571167\n"
     ]
    },
    {
     "name": "stderr",
     "output_type": "stream",
     "text": [
      " 35%|███▌      | 1251/3551 [14:29<27:22,  1.40it/s]"
     ]
    },
    {
     "name": "stdout",
     "output_type": "stream",
     "text": [
      "Epoch [4/5], Step [1251/3551], Loss: 2.3645179271698\n"
     ]
    },
    {
     "name": "stderr",
     "output_type": "stream",
     "text": [
      " 37%|███▋      | 1301/3551 [15:04<25:42,  1.46it/s]"
     ]
    },
    {
     "name": "stdout",
     "output_type": "stream",
     "text": [
      "Epoch [4/5], Step [1301/3551], Loss: 2.320164918899536\n"
     ]
    },
    {
     "name": "stderr",
     "output_type": "stream",
     "text": [
      " 38%|███▊      | 1351/3551 [15:38<25:12,  1.45it/s]"
     ]
    },
    {
     "name": "stdout",
     "output_type": "stream",
     "text": [
      "Epoch [4/5], Step [1351/3551], Loss: 2.67384934425354\n"
     ]
    },
    {
     "name": "stderr",
     "output_type": "stream",
     "text": [
      " 39%|███▉      | 1401/3551 [16:12<25:00,  1.43it/s]"
     ]
    },
    {
     "name": "stdout",
     "output_type": "stream",
     "text": [
      "Epoch [4/5], Step [1401/3551], Loss: 2.395723342895508\n"
     ]
    },
    {
     "name": "stderr",
     "output_type": "stream",
     "text": [
      " 41%|████      | 1451/3551 [16:54<30:53,  1.13it/s]"
     ]
    },
    {
     "name": "stdout",
     "output_type": "stream",
     "text": [
      "Epoch [4/5], Step [1451/3551], Loss: 2.4171221256256104\n"
     ]
    },
    {
     "name": "stderr",
     "output_type": "stream",
     "text": [
      " 42%|████▏     | 1501/3551 [17:30<24:29,  1.39it/s]"
     ]
    },
    {
     "name": "stdout",
     "output_type": "stream",
     "text": [
      "Epoch [4/5], Step [1501/3551], Loss: 2.3908658027648926\n"
     ]
    },
    {
     "name": "stderr",
     "output_type": "stream",
     "text": [
      " 44%|████▎     | 1551/3551 [18:08<27:43,  1.20it/s]"
     ]
    },
    {
     "name": "stdout",
     "output_type": "stream",
     "text": [
      "Epoch [4/5], Step [1551/3551], Loss: 2.4089131355285645\n"
     ]
    },
    {
     "name": "stderr",
     "output_type": "stream",
     "text": [
      " 45%|████▌     | 1601/3551 [18:46<27:42,  1.17it/s]"
     ]
    },
    {
     "name": "stdout",
     "output_type": "stream",
     "text": [
      "Epoch [4/5], Step [1601/3551], Loss: 2.343975782394409\n"
     ]
    },
    {
     "name": "stderr",
     "output_type": "stream",
     "text": [
      " 46%|████▋     | 1651/3551 [19:23<22:45,  1.39it/s]"
     ]
    },
    {
     "name": "stdout",
     "output_type": "stream",
     "text": [
      "Epoch [4/5], Step [1651/3551], Loss: 2.47025728225708\n"
     ]
    },
    {
     "name": "stderr",
     "output_type": "stream",
     "text": [
      " 48%|████▊     | 1701/3551 [20:01<27:24,  1.12it/s]"
     ]
    },
    {
     "name": "stdout",
     "output_type": "stream",
     "text": [
      "Epoch [4/5], Step [1701/3551], Loss: 2.4582719802856445\n"
     ]
    },
    {
     "name": "stderr",
     "output_type": "stream",
     "text": [
      " 49%|████▉     | 1751/3551 [20:36<20:37,  1.45it/s]"
     ]
    },
    {
     "name": "stdout",
     "output_type": "stream",
     "text": [
      "Epoch [4/5], Step [1751/3551], Loss: 2.423372745513916\n"
     ]
    },
    {
     "name": "stderr",
     "output_type": "stream",
     "text": [
      " 51%|█████     | 1801/3551 [21:12<20:01,  1.46it/s]"
     ]
    },
    {
     "name": "stdout",
     "output_type": "stream",
     "text": [
      "Epoch [4/5], Step [1801/3551], Loss: 2.503695011138916\n"
     ]
    },
    {
     "name": "stderr",
     "output_type": "stream",
     "text": [
      " 52%|█████▏    | 1851/3551 [21:49<21:02,  1.35it/s]"
     ]
    },
    {
     "name": "stdout",
     "output_type": "stream",
     "text": [
      "Epoch [4/5], Step [1851/3551], Loss: 2.4679229259490967\n"
     ]
    },
    {
     "name": "stderr",
     "output_type": "stream",
     "text": [
      " 54%|█████▎    | 1901/3551 [22:27<25:22,  1.08it/s]"
     ]
    },
    {
     "name": "stdout",
     "output_type": "stream",
     "text": [
      "Epoch [4/5], Step [1901/3551], Loss: 2.2710952758789062\n"
     ]
    },
    {
     "name": "stderr",
     "output_type": "stream",
     "text": [
      " 55%|█████▍    | 1951/3551 [23:10<18:32,  1.44it/s]"
     ]
    },
    {
     "name": "stdout",
     "output_type": "stream",
     "text": [
      "Epoch [4/5], Step [1951/3551], Loss: 2.394608974456787\n"
     ]
    },
    {
     "name": "stderr",
     "output_type": "stream",
     "text": [
      " 56%|█████▋    | 2001/3551 [23:44<16:42,  1.55it/s]"
     ]
    },
    {
     "name": "stdout",
     "output_type": "stream",
     "text": [
      "Epoch [4/5], Step [2001/3551], Loss: 2.341055393218994\n"
     ]
    },
    {
     "name": "stderr",
     "output_type": "stream",
     "text": [
      " 58%|█████▊    | 2051/3551 [24:21<19:17,  1.30it/s]"
     ]
    },
    {
     "name": "stdout",
     "output_type": "stream",
     "text": [
      "Epoch [4/5], Step [2051/3551], Loss: 2.488637924194336\n"
     ]
    },
    {
     "name": "stderr",
     "output_type": "stream",
     "text": [
      " 59%|█████▉    | 2101/3551 [24:57<21:47,  1.11it/s]"
     ]
    },
    {
     "name": "stdout",
     "output_type": "stream",
     "text": [
      "Epoch [4/5], Step [2101/3551], Loss: 2.5185210704803467\n"
     ]
    },
    {
     "name": "stderr",
     "output_type": "stream",
     "text": [
      " 61%|██████    | 2151/3551 [25:33<15:08,  1.54it/s]"
     ]
    },
    {
     "name": "stdout",
     "output_type": "stream",
     "text": [
      "Epoch [4/5], Step [2151/3551], Loss: 2.2169137001037598\n"
     ]
    },
    {
     "name": "stderr",
     "output_type": "stream",
     "text": [
      " 62%|██████▏   | 2201/3551 [26:06<16:18,  1.38it/s]"
     ]
    },
    {
     "name": "stdout",
     "output_type": "stream",
     "text": [
      "Epoch [4/5], Step [2201/3551], Loss: 2.3455092906951904\n"
     ]
    },
    {
     "name": "stderr",
     "output_type": "stream",
     "text": [
      " 63%|██████▎   | 2251/3551 [26:37<13:13,  1.64it/s]"
     ]
    },
    {
     "name": "stdout",
     "output_type": "stream",
     "text": [
      "Epoch [4/5], Step [2251/3551], Loss: 2.4422366619110107\n"
     ]
    },
    {
     "name": "stderr",
     "output_type": "stream",
     "text": [
      " 65%|██████▍   | 2301/3551 [27:10<12:27,  1.67it/s]"
     ]
    },
    {
     "name": "stdout",
     "output_type": "stream",
     "text": [
      "Epoch [4/5], Step [2301/3551], Loss: 2.3519065380096436\n"
     ]
    },
    {
     "name": "stderr",
     "output_type": "stream",
     "text": [
      " 66%|██████▌   | 2351/3551 [27:41<11:54,  1.68it/s]"
     ]
    },
    {
     "name": "stdout",
     "output_type": "stream",
     "text": [
      "Epoch [4/5], Step [2351/3551], Loss: 2.421510934829712\n"
     ]
    },
    {
     "name": "stderr",
     "output_type": "stream",
     "text": [
      " 68%|██████▊   | 2401/3551 [28:12<11:03,  1.73it/s]"
     ]
    },
    {
     "name": "stdout",
     "output_type": "stream",
     "text": [
      "Epoch [4/5], Step [2401/3551], Loss: 2.4246673583984375\n"
     ]
    },
    {
     "name": "stderr",
     "output_type": "stream",
     "text": [
      " 69%|██████▉   | 2451/3551 [28:41<10:34,  1.73it/s]"
     ]
    },
    {
     "name": "stdout",
     "output_type": "stream",
     "text": [
      "Epoch [4/5], Step [2451/3551], Loss: 2.510911703109741\n"
     ]
    },
    {
     "name": "stderr",
     "output_type": "stream",
     "text": [
      " 70%|███████   | 2501/3551 [29:10<09:58,  1.75it/s]"
     ]
    },
    {
     "name": "stdout",
     "output_type": "stream",
     "text": [
      "Epoch [4/5], Step [2501/3551], Loss: 2.528066873550415\n"
     ]
    },
    {
     "name": "stderr",
     "output_type": "stream",
     "text": [
      " 72%|███████▏  | 2551/3551 [29:40<09:45,  1.71it/s]"
     ]
    },
    {
     "name": "stdout",
     "output_type": "stream",
     "text": [
      "Epoch [4/5], Step [2551/3551], Loss: 2.1578586101531982\n"
     ]
    },
    {
     "name": "stderr",
     "output_type": "stream",
     "text": [
      " 73%|███████▎  | 2601/3551 [30:09<11:53,  1.33it/s]"
     ]
    },
    {
     "name": "stdout",
     "output_type": "stream",
     "text": [
      "Epoch [4/5], Step [2601/3551], Loss: 2.3580589294433594\n"
     ]
    },
    {
     "name": "stderr",
     "output_type": "stream",
     "text": [
      " 75%|███████▍  | 2651/3551 [30:42<11:20,  1.32it/s]"
     ]
    },
    {
     "name": "stdout",
     "output_type": "stream",
     "text": [
      "Epoch [4/5], Step [2651/3551], Loss: 2.4564356803894043\n"
     ]
    },
    {
     "name": "stderr",
     "output_type": "stream",
     "text": [
      " 76%|███████▌  | 2701/3551 [31:14<10:04,  1.41it/s]"
     ]
    },
    {
     "name": "stdout",
     "output_type": "stream",
     "text": [
      "Epoch [4/5], Step [2701/3551], Loss: 2.2973039150238037\n"
     ]
    },
    {
     "name": "stderr",
     "output_type": "stream",
     "text": [
      " 77%|███████▋  | 2751/3551 [31:48<09:27,  1.41it/s]"
     ]
    },
    {
     "name": "stdout",
     "output_type": "stream",
     "text": [
      "Epoch [4/5], Step [2751/3551], Loss: 2.4613895416259766\n"
     ]
    },
    {
     "name": "stderr",
     "output_type": "stream",
     "text": [
      " 79%|███████▉  | 2801/3551 [32:20<07:05,  1.76it/s]"
     ]
    },
    {
     "name": "stdout",
     "output_type": "stream",
     "text": [
      "Epoch [4/5], Step [2801/3551], Loss: 2.3817360401153564\n"
     ]
    },
    {
     "name": "stderr",
     "output_type": "stream",
     "text": [
      " 80%|████████  | 2851/3551 [32:48<06:35,  1.77it/s]"
     ]
    },
    {
     "name": "stdout",
     "output_type": "stream",
     "text": [
      "Epoch [4/5], Step [2851/3551], Loss: 2.6874265670776367\n"
     ]
    },
    {
     "name": "stderr",
     "output_type": "stream",
     "text": [
      " 82%|████████▏ | 2901/3551 [33:17<06:20,  1.71it/s]"
     ]
    },
    {
     "name": "stdout",
     "output_type": "stream",
     "text": [
      "Epoch [4/5], Step [2901/3551], Loss: 2.5024943351745605\n"
     ]
    },
    {
     "name": "stderr",
     "output_type": "stream",
     "text": [
      " 83%|████████▎ | 2951/3551 [33:45<05:46,  1.73it/s]"
     ]
    },
    {
     "name": "stdout",
     "output_type": "stream",
     "text": [
      "Epoch [4/5], Step [2951/3551], Loss: 2.447706937789917\n"
     ]
    },
    {
     "name": "stderr",
     "output_type": "stream",
     "text": [
      " 85%|████████▍ | 3001/3551 [34:17<05:21,  1.71it/s]"
     ]
    },
    {
     "name": "stdout",
     "output_type": "stream",
     "text": [
      "Epoch [4/5], Step [3001/3551], Loss: 2.3885838985443115\n"
     ]
    },
    {
     "name": "stderr",
     "output_type": "stream",
     "text": [
      " 86%|████████▌ | 3051/3551 [34:48<05:36,  1.49it/s]"
     ]
    },
    {
     "name": "stdout",
     "output_type": "stream",
     "text": [
      "Epoch [4/5], Step [3051/3551], Loss: 2.579310178756714\n"
     ]
    },
    {
     "name": "stderr",
     "output_type": "stream",
     "text": [
      " 87%|████████▋ | 3101/3551 [35:19<04:41,  1.60it/s]"
     ]
    },
    {
     "name": "stdout",
     "output_type": "stream",
     "text": [
      "Epoch [4/5], Step [3101/3551], Loss: 2.3635711669921875\n"
     ]
    },
    {
     "name": "stderr",
     "output_type": "stream",
     "text": [
      " 89%|████████▊ | 3151/3551 [35:49<03:44,  1.78it/s]"
     ]
    },
    {
     "name": "stdout",
     "output_type": "stream",
     "text": [
      "Epoch [4/5], Step [3151/3551], Loss: 2.4435954093933105\n"
     ]
    },
    {
     "name": "stderr",
     "output_type": "stream",
     "text": [
      " 90%|█████████ | 3201/3551 [36:16<03:15,  1.79it/s]"
     ]
    },
    {
     "name": "stdout",
     "output_type": "stream",
     "text": [
      "Epoch [4/5], Step [3201/3551], Loss: 2.3870677947998047\n"
     ]
    },
    {
     "name": "stderr",
     "output_type": "stream",
     "text": [
      " 92%|█████████▏| 3251/3551 [36:44<02:48,  1.79it/s]"
     ]
    },
    {
     "name": "stdout",
     "output_type": "stream",
     "text": [
      "Epoch [4/5], Step [3251/3551], Loss: 2.532822608947754\n"
     ]
    },
    {
     "name": "stderr",
     "output_type": "stream",
     "text": [
      " 93%|█████████▎| 3301/3551 [37:12<02:20,  1.78it/s]"
     ]
    },
    {
     "name": "stdout",
     "output_type": "stream",
     "text": [
      "Epoch [4/5], Step [3301/3551], Loss: 2.418844699859619\n"
     ]
    },
    {
     "name": "stderr",
     "output_type": "stream",
     "text": [
      " 94%|█████████▍| 3351/3551 [37:40<01:52,  1.78it/s]"
     ]
    },
    {
     "name": "stdout",
     "output_type": "stream",
     "text": [
      "Epoch [4/5], Step [3351/3551], Loss: 2.327195167541504\n"
     ]
    },
    {
     "name": "stderr",
     "output_type": "stream",
     "text": [
      " 96%|█████████▌| 3401/3551 [38:08<01:23,  1.79it/s]"
     ]
    },
    {
     "name": "stdout",
     "output_type": "stream",
     "text": [
      "Epoch [4/5], Step [3401/3551], Loss: 2.448355197906494\n"
     ]
    },
    {
     "name": "stderr",
     "output_type": "stream",
     "text": [
      " 97%|█████████▋| 3451/3551 [38:36<01:04,  1.55it/s]"
     ]
    },
    {
     "name": "stdout",
     "output_type": "stream",
     "text": [
      "Epoch [4/5], Step [3451/3551], Loss: 2.4969096183776855\n"
     ]
    },
    {
     "name": "stderr",
     "output_type": "stream",
     "text": [
      " 99%|█████████▊| 3501/3551 [39:09<00:29,  1.69it/s]"
     ]
    },
    {
     "name": "stdout",
     "output_type": "stream",
     "text": [
      "Epoch [4/5], Step [3501/3551], Loss: 2.126668930053711\n"
     ]
    },
    {
     "name": "stderr",
     "output_type": "stream",
     "text": [
      "100%|██████████| 3551/3551 [39:54<00:00,  1.48it/s]\n"
     ]
    },
    {
     "name": "stdout",
     "output_type": "stream",
     "text": [
      "Epoch [4/5], Step [3551/3551], Loss: 2.0919885635375977\n",
      "Validation Loss: 2.4308744665942617\n"
     ]
    },
    {
     "name": "stderr",
     "output_type": "stream",
     "text": [
      "  0%|          | 1/3551 [00:00<58:32,  1.01it/s]"
     ]
    },
    {
     "name": "stdout",
     "output_type": "stream",
     "text": [
      "Epoch [5/5], Step [1/3551], Loss: 2.413022041320801\n"
     ]
    },
    {
     "name": "stderr",
     "output_type": "stream",
     "text": [
      "  1%|▏         | 51/3551 [00:48<50:00,  1.17it/s]  "
     ]
    },
    {
     "name": "stdout",
     "output_type": "stream",
     "text": [
      "Epoch [5/5], Step [51/3551], Loss: 2.484943389892578\n"
     ]
    },
    {
     "name": "stderr",
     "output_type": "stream",
     "text": [
      "  3%|▎         | 101/3551 [01:32<49:56,  1.15it/s] "
     ]
    },
    {
     "name": "stdout",
     "output_type": "stream",
     "text": [
      "Epoch [5/5], Step [101/3551], Loss: 2.2748396396636963\n"
     ]
    },
    {
     "name": "stderr",
     "output_type": "stream",
     "text": [
      "  4%|▍         | 151/3551 [02:21<51:31,  1.10it/s]  "
     ]
    },
    {
     "name": "stdout",
     "output_type": "stream",
     "text": [
      "Epoch [5/5], Step [151/3551], Loss: 2.3111703395843506\n"
     ]
    },
    {
     "name": "stderr",
     "output_type": "stream",
     "text": [
      "  6%|▌         | 201/3551 [03:04<50:13,  1.11it/s]  "
     ]
    },
    {
     "name": "stdout",
     "output_type": "stream",
     "text": [
      "Epoch [5/5], Step [201/3551], Loss: 2.6119844913482666\n"
     ]
    },
    {
     "name": "stderr",
     "output_type": "stream",
     "text": [
      "  7%|▋         | 251/3551 [03:51<39:46,  1.38it/s]  "
     ]
    },
    {
     "name": "stdout",
     "output_type": "stream",
     "text": [
      "Epoch [5/5], Step [251/3551], Loss: 2.5571093559265137\n"
     ]
    },
    {
     "name": "stderr",
     "output_type": "stream",
     "text": [
      "  8%|▊         | 301/3551 [04:45<47:30,  1.14it/s]  "
     ]
    },
    {
     "name": "stdout",
     "output_type": "stream",
     "text": [
      "Epoch [5/5], Step [301/3551], Loss: 2.4009828567504883\n"
     ]
    },
    {
     "name": "stderr",
     "output_type": "stream",
     "text": [
      " 10%|▉         | 351/3551 [05:32<1:01:06,  1.15s/it]"
     ]
    },
    {
     "name": "stdout",
     "output_type": "stream",
     "text": [
      "Epoch [5/5], Step [351/3551], Loss: 2.2521119117736816\n"
     ]
    },
    {
     "name": "stderr",
     "output_type": "stream",
     "text": [
      " 11%|█▏        | 401/3551 [06:21<49:32,  1.06it/s]  "
     ]
    },
    {
     "name": "stdout",
     "output_type": "stream",
     "text": [
      "Epoch [5/5], Step [401/3551], Loss: 2.4921646118164062\n"
     ]
    },
    {
     "name": "stderr",
     "output_type": "stream",
     "text": [
      " 13%|█▎        | 451/3551 [07:07<46:13,  1.12it/s]"
     ]
    },
    {
     "name": "stdout",
     "output_type": "stream",
     "text": [
      "Epoch [5/5], Step [451/3551], Loss: 2.479564905166626\n"
     ]
    },
    {
     "name": "stderr",
     "output_type": "stream",
     "text": [
      " 14%|█▍        | 501/3551 [07:38<31:04,  1.64it/s]"
     ]
    },
    {
     "name": "stdout",
     "output_type": "stream",
     "text": [
      "Epoch [5/5], Step [501/3551], Loss: 2.5162758827209473\n"
     ]
    },
    {
     "name": "stderr",
     "output_type": "stream",
     "text": [
      " 16%|█▌        | 551/3551 [08:09<30:30,  1.64it/s]"
     ]
    },
    {
     "name": "stdout",
     "output_type": "stream",
     "text": [
      "Epoch [5/5], Step [551/3551], Loss: 2.3637826442718506\n"
     ]
    },
    {
     "name": "stderr",
     "output_type": "stream",
     "text": [
      " 17%|█▋        | 601/3551 [08:40<30:02,  1.64it/s]"
     ]
    },
    {
     "name": "stdout",
     "output_type": "stream",
     "text": [
      "Epoch [5/5], Step [601/3551], Loss: 2.5399746894836426\n"
     ]
    },
    {
     "name": "stderr",
     "output_type": "stream",
     "text": [
      " 18%|█▊        | 651/3551 [09:13<37:12,  1.30it/s]"
     ]
    },
    {
     "name": "stdout",
     "output_type": "stream",
     "text": [
      "Epoch [5/5], Step [651/3551], Loss: 2.2613024711608887\n"
     ]
    },
    {
     "name": "stderr",
     "output_type": "stream",
     "text": [
      " 20%|█▉        | 701/3551 [09:51<31:48,  1.49it/s]"
     ]
    },
    {
     "name": "stdout",
     "output_type": "stream",
     "text": [
      "Epoch [5/5], Step [701/3551], Loss: 2.4682750701904297\n"
     ]
    },
    {
     "name": "stderr",
     "output_type": "stream",
     "text": [
      " 21%|██        | 751/3551 [10:32<47:41,  1.02s/it]"
     ]
    },
    {
     "name": "stdout",
     "output_type": "stream",
     "text": [
      "Epoch [5/5], Step [751/3551], Loss: 2.4792063236236572\n"
     ]
    },
    {
     "name": "stderr",
     "output_type": "stream",
     "text": [
      " 23%|██▎       | 801/3551 [11:22<43:46,  1.05it/s]  "
     ]
    },
    {
     "name": "stdout",
     "output_type": "stream",
     "text": [
      "Epoch [5/5], Step [801/3551], Loss: 2.4685797691345215\n"
     ]
    },
    {
     "name": "stderr",
     "output_type": "stream",
     "text": [
      " 24%|██▍       | 851/3551 [12:10<40:40,  1.11it/s]"
     ]
    },
    {
     "name": "stdout",
     "output_type": "stream",
     "text": [
      "Epoch [5/5], Step [851/3551], Loss: 2.672905445098877\n"
     ]
    },
    {
     "name": "stderr",
     "output_type": "stream",
     "text": [
      " 25%|██▌       | 901/3551 [12:52<32:14,  1.37it/s]"
     ]
    },
    {
     "name": "stdout",
     "output_type": "stream",
     "text": [
      "Epoch [5/5], Step [901/3551], Loss: 2.3609347343444824\n"
     ]
    },
    {
     "name": "stderr",
     "output_type": "stream",
     "text": [
      " 27%|██▋       | 951/3551 [13:38<45:25,  1.05s/it]"
     ]
    },
    {
     "name": "stdout",
     "output_type": "stream",
     "text": [
      "Epoch [5/5], Step [951/3551], Loss: 2.5506467819213867\n"
     ]
    },
    {
     "name": "stderr",
     "output_type": "stream",
     "text": [
      " 28%|██▊       | 1001/3551 [14:28<35:59,  1.18it/s] "
     ]
    },
    {
     "name": "stdout",
     "output_type": "stream",
     "text": [
      "Epoch [5/5], Step [1001/3551], Loss: 2.47353458404541\n"
     ]
    },
    {
     "name": "stderr",
     "output_type": "stream",
     "text": [
      " 30%|██▉       | 1051/3551 [15:06<1:00:07,  1.44s/it]"
     ]
    },
    {
     "name": "stdout",
     "output_type": "stream",
     "text": [
      "Epoch [5/5], Step [1051/3551], Loss: 2.45589280128479\n"
     ]
    },
    {
     "name": "stderr",
     "output_type": "stream",
     "text": [
      " 31%|███       | 1101/3551 [15:46<27:15,  1.50it/s]  "
     ]
    },
    {
     "name": "stdout",
     "output_type": "stream",
     "text": [
      "Epoch [5/5], Step [1101/3551], Loss: 2.29241943359375\n"
     ]
    },
    {
     "name": "stderr",
     "output_type": "stream",
     "text": [
      " 32%|███▏      | 1151/3551 [16:18<24:20,  1.64it/s]"
     ]
    },
    {
     "name": "stdout",
     "output_type": "stream",
     "text": [
      "Epoch [5/5], Step [1151/3551], Loss: 2.3158631324768066\n"
     ]
    },
    {
     "name": "stderr",
     "output_type": "stream",
     "text": [
      " 34%|███▍      | 1201/3551 [16:50<25:54,  1.51it/s]"
     ]
    },
    {
     "name": "stdout",
     "output_type": "stream",
     "text": [
      "Epoch [5/5], Step [1201/3551], Loss: 2.282144784927368\n"
     ]
    },
    {
     "name": "stderr",
     "output_type": "stream",
     "text": [
      " 35%|███▌      | 1251/3551 [17:22<23:45,  1.61it/s]"
     ]
    },
    {
     "name": "stdout",
     "output_type": "stream",
     "text": [
      "Epoch [5/5], Step [1251/3551], Loss: 2.4173953533172607\n"
     ]
    },
    {
     "name": "stderr",
     "output_type": "stream",
     "text": [
      " 37%|███▋      | 1301/3551 [17:55<25:07,  1.49it/s]"
     ]
    },
    {
     "name": "stdout",
     "output_type": "stream",
     "text": [
      "Epoch [5/5], Step [1301/3551], Loss: 2.2517504692077637\n"
     ]
    },
    {
     "name": "stderr",
     "output_type": "stream",
     "text": [
      " 38%|███▊      | 1351/3551 [18:28<22:59,  1.59it/s]"
     ]
    },
    {
     "name": "stdout",
     "output_type": "stream",
     "text": [
      "Epoch [5/5], Step [1351/3551], Loss: 2.316084146499634\n"
     ]
    },
    {
     "name": "stderr",
     "output_type": "stream",
     "text": [
      " 39%|███▉      | 1401/3551 [19:03<23:16,  1.54it/s]"
     ]
    },
    {
     "name": "stdout",
     "output_type": "stream",
     "text": [
      "Epoch [5/5], Step [1401/3551], Loss: 2.3639333248138428\n"
     ]
    },
    {
     "name": "stderr",
     "output_type": "stream",
     "text": [
      " 41%|████      | 1451/3551 [19:41<22:11,  1.58it/s]"
     ]
    },
    {
     "name": "stdout",
     "output_type": "stream",
     "text": [
      "Epoch [5/5], Step [1451/3551], Loss: 2.3742687702178955\n"
     ]
    },
    {
     "name": "stderr",
     "output_type": "stream",
     "text": [
      " 42%|████▏     | 1501/3551 [20:14<22:47,  1.50it/s]"
     ]
    },
    {
     "name": "stdout",
     "output_type": "stream",
     "text": [
      "Epoch [5/5], Step [1501/3551], Loss: 2.485152244567871\n"
     ]
    },
    {
     "name": "stderr",
     "output_type": "stream",
     "text": [
      " 44%|████▎     | 1551/3551 [20:49<24:17,  1.37it/s]"
     ]
    },
    {
     "name": "stdout",
     "output_type": "stream",
     "text": [
      "Epoch [5/5], Step [1551/3551], Loss: 2.4057400226593018\n"
     ]
    },
    {
     "name": "stderr",
     "output_type": "stream",
     "text": [
      " 45%|████▌     | 1601/3551 [21:23<19:43,  1.65it/s]"
     ]
    },
    {
     "name": "stdout",
     "output_type": "stream",
     "text": [
      "Epoch [5/5], Step [1601/3551], Loss: 2.5207386016845703\n"
     ]
    },
    {
     "name": "stderr",
     "output_type": "stream",
     "text": [
      " 46%|████▋     | 1651/3551 [21:53<19:09,  1.65it/s]"
     ]
    },
    {
     "name": "stdout",
     "output_type": "stream",
     "text": [
      "Epoch [5/5], Step [1651/3551], Loss: 2.367220878601074\n"
     ]
    },
    {
     "name": "stderr",
     "output_type": "stream",
     "text": [
      " 48%|████▊     | 1701/3551 [22:26<22:38,  1.36it/s]"
     ]
    },
    {
     "name": "stdout",
     "output_type": "stream",
     "text": [
      "Epoch [5/5], Step [1701/3551], Loss: 2.4486727714538574\n"
     ]
    },
    {
     "name": "stderr",
     "output_type": "stream",
     "text": [
      " 49%|████▉     | 1751/3551 [23:07<24:39,  1.22it/s]"
     ]
    },
    {
     "name": "stdout",
     "output_type": "stream",
     "text": [
      "Epoch [5/5], Step [1751/3551], Loss: 2.4442222118377686\n"
     ]
    },
    {
     "name": "stderr",
     "output_type": "stream",
     "text": [
      " 51%|█████     | 1801/3551 [23:58<34:10,  1.17s/it]"
     ]
    },
    {
     "name": "stdout",
     "output_type": "stream",
     "text": [
      "Epoch [5/5], Step [1801/3551], Loss: 2.3982596397399902\n"
     ]
    },
    {
     "name": "stderr",
     "output_type": "stream",
     "text": [
      " 52%|█████▏    | 1851/3551 [24:39<17:53,  1.58it/s]"
     ]
    },
    {
     "name": "stdout",
     "output_type": "stream",
     "text": [
      "Epoch [5/5], Step [1851/3551], Loss: 2.312260866165161\n"
     ]
    },
    {
     "name": "stderr",
     "output_type": "stream",
     "text": [
      " 54%|█████▎    | 1901/3551 [25:12<17:52,  1.54it/s]"
     ]
    },
    {
     "name": "stdout",
     "output_type": "stream",
     "text": [
      "Epoch [5/5], Step [1901/3551], Loss: 2.415961503982544\n"
     ]
    },
    {
     "name": "stderr",
     "output_type": "stream",
     "text": [
      " 55%|█████▍    | 1951/3551 [25:49<19:38,  1.36it/s]"
     ]
    },
    {
     "name": "stdout",
     "output_type": "stream",
     "text": [
      "Epoch [5/5], Step [1951/3551], Loss: 2.4436285495758057\n"
     ]
    },
    {
     "name": "stderr",
     "output_type": "stream",
     "text": [
      " 56%|█████▋    | 2001/3551 [26:39<32:16,  1.25s/it]"
     ]
    },
    {
     "name": "stdout",
     "output_type": "stream",
     "text": [
      "Epoch [5/5], Step [2001/3551], Loss: 2.492671489715576\n"
     ]
    },
    {
     "name": "stderr",
     "output_type": "stream",
     "text": [
      " 58%|█████▊    | 2051/3551 [27:15<15:18,  1.63it/s]"
     ]
    },
    {
     "name": "stdout",
     "output_type": "stream",
     "text": [
      "Epoch [5/5], Step [2051/3551], Loss: 2.439377546310425\n"
     ]
    },
    {
     "name": "stderr",
     "output_type": "stream",
     "text": [
      " 59%|█████▉    | 2101/3551 [27:45<14:49,  1.63it/s]"
     ]
    },
    {
     "name": "stdout",
     "output_type": "stream",
     "text": [
      "Epoch [5/5], Step [2101/3551], Loss: 2.3586983680725098\n"
     ]
    },
    {
     "name": "stderr",
     "output_type": "stream",
     "text": [
      " 61%|██████    | 2151/3551 [28:15<14:33,  1.60it/s]"
     ]
    },
    {
     "name": "stdout",
     "output_type": "stream",
     "text": [
      "Epoch [5/5], Step [2151/3551], Loss: 2.3991892337799072\n"
     ]
    },
    {
     "name": "stderr",
     "output_type": "stream",
     "text": [
      " 62%|██████▏   | 2201/3551 [28:46<13:42,  1.64it/s]"
     ]
    },
    {
     "name": "stdout",
     "output_type": "stream",
     "text": [
      "Epoch [5/5], Step [2201/3551], Loss: 2.4774744510650635\n"
     ]
    },
    {
     "name": "stderr",
     "output_type": "stream",
     "text": [
      " 63%|██████▎   | 2251/3551 [29:16<13:29,  1.61it/s]"
     ]
    },
    {
     "name": "stdout",
     "output_type": "stream",
     "text": [
      "Epoch [5/5], Step [2251/3551], Loss: 2.1582319736480713\n"
     ]
    },
    {
     "name": "stderr",
     "output_type": "stream",
     "text": [
      " 65%|██████▍   | 2301/3551 [29:47<13:00,  1.60it/s]"
     ]
    },
    {
     "name": "stdout",
     "output_type": "stream",
     "text": [
      "Epoch [5/5], Step [2301/3551], Loss: 2.435537338256836\n"
     ]
    },
    {
     "name": "stderr",
     "output_type": "stream",
     "text": [
      " 66%|██████▌   | 2351/3551 [30:20<18:41,  1.07it/s]"
     ]
    },
    {
     "name": "stdout",
     "output_type": "stream",
     "text": [
      "Epoch [5/5], Step [2351/3551], Loss: 2.383193016052246\n"
     ]
    },
    {
     "name": "stderr",
     "output_type": "stream",
     "text": [
      " 68%|██████▊   | 2401/3551 [31:11<15:55,  1.20it/s]"
     ]
    },
    {
     "name": "stdout",
     "output_type": "stream",
     "text": [
      "Epoch [5/5], Step [2401/3551], Loss: 2.398545026779175\n"
     ]
    },
    {
     "name": "stderr",
     "output_type": "stream",
     "text": [
      " 69%|██████▉   | 2451/3551 [31:44<11:21,  1.61it/s]"
     ]
    },
    {
     "name": "stdout",
     "output_type": "stream",
     "text": [
      "Epoch [5/5], Step [2451/3551], Loss: 2.376009702682495\n"
     ]
    },
    {
     "name": "stderr",
     "output_type": "stream",
     "text": [
      " 70%|███████   | 2501/3551 [32:17<10:54,  1.60it/s]"
     ]
    },
    {
     "name": "stdout",
     "output_type": "stream",
     "text": [
      "Epoch [5/5], Step [2501/3551], Loss: 2.364232301712036\n"
     ]
    },
    {
     "name": "stderr",
     "output_type": "stream",
     "text": [
      " 72%|███████▏  | 2551/3551 [32:57<10:36,  1.57it/s]"
     ]
    },
    {
     "name": "stdout",
     "output_type": "stream",
     "text": [
      "Epoch [5/5], Step [2551/3551], Loss: 2.501002550125122\n"
     ]
    },
    {
     "name": "stderr",
     "output_type": "stream",
     "text": [
      " 73%|███████▎  | 2601/3551 [33:28<09:48,  1.61it/s]"
     ]
    },
    {
     "name": "stdout",
     "output_type": "stream",
     "text": [
      "Epoch [5/5], Step [2601/3551], Loss: 2.4274566173553467\n"
     ]
    },
    {
     "name": "stderr",
     "output_type": "stream",
     "text": [
      " 75%|███████▍  | 2651/3551 [34:27<18:53,  1.26s/it]"
     ]
    },
    {
     "name": "stdout",
     "output_type": "stream",
     "text": [
      "Epoch [5/5], Step [2651/3551], Loss: 2.363659620285034\n"
     ]
    },
    {
     "name": "stderr",
     "output_type": "stream",
     "text": [
      " 76%|███████▌  | 2701/3551 [35:26<11:50,  1.20it/s]"
     ]
    },
    {
     "name": "stdout",
     "output_type": "stream",
     "text": [
      "Epoch [5/5], Step [2701/3551], Loss: 2.4274699687957764\n"
     ]
    },
    {
     "name": "stderr",
     "output_type": "stream",
     "text": [
      " 77%|███████▋  | 2751/3551 [36:00<09:53,  1.35it/s]"
     ]
    },
    {
     "name": "stdout",
     "output_type": "stream",
     "text": [
      "Epoch [5/5], Step [2751/3551], Loss: 2.40085506439209\n"
     ]
    },
    {
     "name": "stderr",
     "output_type": "stream",
     "text": [
      " 79%|███████▉  | 2801/3551 [36:34<07:59,  1.56it/s]"
     ]
    },
    {
     "name": "stdout",
     "output_type": "stream",
     "text": [
      "Epoch [5/5], Step [2801/3551], Loss: 2.449610710144043\n"
     ]
    },
    {
     "name": "stderr",
     "output_type": "stream",
     "text": [
      " 80%|████████  | 2851/3551 [37:10<09:53,  1.18it/s]"
     ]
    },
    {
     "name": "stdout",
     "output_type": "stream",
     "text": [
      "Epoch [5/5], Step [2851/3551], Loss: 2.4753453731536865\n"
     ]
    },
    {
     "name": "stderr",
     "output_type": "stream",
     "text": [
      " 82%|████████▏ | 2901/3551 [37:43<07:44,  1.40it/s]"
     ]
    },
    {
     "name": "stdout",
     "output_type": "stream",
     "text": [
      "Epoch [5/5], Step [2901/3551], Loss: 2.3705391883850098\n"
     ]
    },
    {
     "name": "stderr",
     "output_type": "stream",
     "text": [
      " 83%|████████▎ | 2951/3551 [38:14<06:11,  1.61it/s]"
     ]
    },
    {
     "name": "stdout",
     "output_type": "stream",
     "text": [
      "Epoch [5/5], Step [2951/3551], Loss: 2.3870012760162354\n"
     ]
    },
    {
     "name": "stderr",
     "output_type": "stream",
     "text": [
      " 85%|████████▍ | 3001/3551 [38:57<07:24,  1.24it/s]"
     ]
    },
    {
     "name": "stdout",
     "output_type": "stream",
     "text": [
      "Epoch [5/5], Step [3001/3551], Loss: 2.497218608856201\n"
     ]
    },
    {
     "name": "stderr",
     "output_type": "stream",
     "text": [
      " 86%|████████▌ | 3051/3551 [39:31<05:36,  1.49it/s]"
     ]
    },
    {
     "name": "stdout",
     "output_type": "stream",
     "text": [
      "Epoch [5/5], Step [3051/3551], Loss: 2.5153021812438965\n"
     ]
    },
    {
     "name": "stderr",
     "output_type": "stream",
     "text": [
      " 87%|████████▋ | 3101/3551 [40:07<05:26,  1.38it/s]"
     ]
    },
    {
     "name": "stdout",
     "output_type": "stream",
     "text": [
      "Epoch [5/5], Step [3101/3551], Loss: 2.4815151691436768\n"
     ]
    },
    {
     "name": "stderr",
     "output_type": "stream",
     "text": [
      " 89%|████████▊ | 3151/3551 [40:46<04:56,  1.35it/s]"
     ]
    },
    {
     "name": "stdout",
     "output_type": "stream",
     "text": [
      "Epoch [5/5], Step [3151/3551], Loss: 2.4224064350128174\n"
     ]
    },
    {
     "name": "stderr",
     "output_type": "stream",
     "text": [
      " 90%|█████████ | 3201/3551 [41:22<04:11,  1.39it/s]"
     ]
    },
    {
     "name": "stdout",
     "output_type": "stream",
     "text": [
      "Epoch [5/5], Step [3201/3551], Loss: 2.2583913803100586\n"
     ]
    },
    {
     "name": "stderr",
     "output_type": "stream",
     "text": [
      " 92%|█████████▏| 3251/3551 [41:56<03:15,  1.54it/s]"
     ]
    },
    {
     "name": "stdout",
     "output_type": "stream",
     "text": [
      "Epoch [5/5], Step [3251/3551], Loss: 2.333813428878784\n"
     ]
    },
    {
     "name": "stderr",
     "output_type": "stream",
     "text": [
      " 93%|█████████▎| 3301/3551 [42:30<02:39,  1.57it/s]"
     ]
    },
    {
     "name": "stdout",
     "output_type": "stream",
     "text": [
      "Epoch [5/5], Step [3301/3551], Loss: 2.4086861610412598\n"
     ]
    },
    {
     "name": "stderr",
     "output_type": "stream",
     "text": [
      " 94%|█████████▍| 3351/3551 [43:03<02:02,  1.63it/s]"
     ]
    },
    {
     "name": "stdout",
     "output_type": "stream",
     "text": [
      "Epoch [5/5], Step [3351/3551], Loss: 2.3760459423065186\n"
     ]
    },
    {
     "name": "stderr",
     "output_type": "stream",
     "text": [
      " 96%|█████████▌| 3401/3551 [43:37<01:51,  1.34it/s]"
     ]
    },
    {
     "name": "stdout",
     "output_type": "stream",
     "text": [
      "Epoch [5/5], Step [3401/3551], Loss: 2.3026256561279297\n"
     ]
    },
    {
     "name": "stderr",
     "output_type": "stream",
     "text": [
      " 97%|█████████▋| 3451/3551 [44:12<01:19,  1.26it/s]"
     ]
    },
    {
     "name": "stdout",
     "output_type": "stream",
     "text": [
      "Epoch [5/5], Step [3451/3551], Loss: 2.490705966949463\n"
     ]
    },
    {
     "name": "stderr",
     "output_type": "stream",
     "text": [
      " 99%|█████████▊| 3501/3551 [44:44<00:33,  1.49it/s]"
     ]
    },
    {
     "name": "stdout",
     "output_type": "stream",
     "text": [
      "Epoch [5/5], Step [3501/3551], Loss: 2.412125587463379\n"
     ]
    },
    {
     "name": "stderr",
     "output_type": "stream",
     "text": [
      "100%|██████████| 3551/3551 [45:17<00:00,  1.31it/s]\n"
     ]
    },
    {
     "name": "stdout",
     "output_type": "stream",
     "text": [
      "Epoch [5/5], Step [3551/3551], Loss: 2.256152868270874\n",
      "Validation Loss: 2.4189310043672974\n"
     ]
    }
   ],
   "source": [
    " # Train the model loop\n",
    " for epoch in range(num_epochs):\n",
    "    encoder_decoder.train()\n",
    "    for i, (inputs, targets) in tqdm(enumerate(train_loader), total=len(train_loader)):\n",
    "        # Move data to the appropriate device\n",
    "        # inputs = inputEmbedding.embed(inputs.to(device))  # Ad batch dimension\n",
    "        inputs = inputs.to(device)  # Add batch\n",
    "        targets = targets.to(device)  # Add batch\n",
    "\n",
    "        outputs = encoder_decoder(inputs.to(device))\n",
    "        # Compute loss\n",
    "        loss = criterion(outputs, targets)\n",
    "\n",
    "        optimizer.zero_grad()\n",
    "        loss.backward()\n",
    "        optimizer.step()\n",
    "\n",
    "        # Print loss every 100 steps\n",
    "        if i % 50 == 0:\n",
    "            tqdm.write(\n",
    "            f'Epoch [{epoch + 1}/{num_epochs}], Step [{i + 1}/{len(train_loader)}], Loss: {loss.item()}')\n",
    "            writer.add_scalar('Loss/train', loss.item(), (i+1)/len(train_loader))\n",
    "    encoder_decoder.eval()\n",
    "    total_val_loss = 0\n",
    "    with torch.inference_mode():\n",
    "        for i, (inputs, targets) in enumerate(test_loader):\n",
    "            inputs = inputs.to(device)\n",
    "            targets = targets.to(device)\n",
    "            outputs = encoder_decoder(inputs)\n",
    "            loss = criterion(outputs, targets)\n",
    "            total_val_loss += loss.item()\n",
    "        avg_val_loss = total_val_loss / len(test_loader)\n",
    "        tqdm.write(f'Validation Loss: {avg_val_loss}')\n",
    "        writer.add_scalar('Loss/val', avg_val_loss, epoch)\n",
    "        "
   ],
   "metadata": {
    "collapsed": false,
    "ExecuteTime": {
     "end_time": "2024-06-26T15:29:13.451150Z",
     "start_time": "2024-06-26T12:03:34.385376200Z"
    }
   },
   "id": "2769f3ba23895957",
   "execution_count": 21
  },
  {
   "cell_type": "code",
   "outputs": [],
   "source": [
    "torch.save(encoder_decoder.state_dict(), 'model_state3.pth')\n"
   ],
   "metadata": {
    "collapsed": false,
    "ExecuteTime": {
     "end_time": "2024-06-26T15:29:13.941266800Z",
     "start_time": "2024-06-26T15:29:13.453148600Z"
    }
   },
   "id": "3a83fbc682708c15",
   "execution_count": 22
  },
  {
   "cell_type": "code",
   "outputs": [
    {
     "name": "stdout",
     "output_type": "stream",
     "text": [
      "^C\n"
     ]
    }
   ],
   "source": [
    "!tensorboard --logdir=runs"
   ],
   "metadata": {
    "collapsed": false,
    "ExecuteTime": {
     "end_time": "2024-06-26T15:29:26.412406800Z",
     "start_time": "2024-06-26T15:29:13.944268200Z"
    }
   },
   "id": "d2fbf27034e627c6",
   "execution_count": 23
  },
  {
   "cell_type": "code",
   "outputs": [],
   "source": [
    "# TODO: I have no idea what I'm doing or if this is correct\n",
    "def translate(to_translate, model, loader):\n",
    "    model.eval()\n",
    "    inp = loader.tokenize_texts([to_translate])[0].unsqueeze(0).to(device)\n",
    "    with torch.no_grad():\n",
    "        out = model(inp)\n",
    "    print(out.shape)\n",
    "\n",
    "    out = torch.argmax(out.squeeze(0), dim=0)\n",
    "    token_ids = out.tolist()\n",
    "    translated_texts = loader.tokenizer.decode(token_ids)\n",
    "    translated_texts = translated_texts.replace(\"<pad>\", \"\")\n",
    "    print(f\"Translated text: {translated_texts}\")\n"
   ],
   "metadata": {
    "collapsed": false,
    "ExecuteTime": {
     "end_time": "2024-06-26T16:40:28.235743400Z",
     "start_time": "2024-06-26T16:40:28.225603Z"
    }
   },
   "id": "8457b3d17cd13475",
   "execution_count": 18
  },
  {
   "cell_type": "code",
   "outputs": [
    {
     "ename": "NameError",
     "evalue": "name 'encoder_decoder' is not defined",
     "output_type": "error",
     "traceback": [
      "\u001B[1;31m---------------------------------------------------------------------------\u001B[0m",
      "\u001B[1;31mNameError\u001B[0m                                 Traceback (most recent call last)",
      "Cell \u001B[1;32mIn[19], line 1\u001B[0m\n\u001B[1;32m----> 1\u001B[0m torch\u001B[38;5;241m.\u001B[39msave(\u001B[43mencoder_decoder\u001B[49m, \u001B[38;5;124m'\u001B[39m\u001B[38;5;124mmodel_whole.pth\u001B[39m\u001B[38;5;124m'\u001B[39m)\n",
      "\u001B[1;31mNameError\u001B[0m: name 'encoder_decoder' is not defined"
     ]
    }
   ],
   "source": [
    "torch.save(encoder_decoder, 'model_whole.pth')\n"
   ],
   "metadata": {
    "collapsed": false,
    "ExecuteTime": {
     "end_time": "2024-06-26T16:40:30.507230400Z",
     "start_time": "2024-06-26T16:40:30.478807400Z"
    }
   },
   "id": "ab01e83d511cf8f",
   "execution_count": 19
  },
  {
   "cell_type": "code",
   "outputs": [
    {
     "name": "stdout",
     "output_type": "stream",
     "text": [
      "Translating: ['Hallo, wie geht es dir?']\n",
      "torch.Size([1, 384, 128])\n",
      "Translated text: Ia tor             \n"
     ]
    }
   ],
   "source": [
    "encoder_decoder.eval()\n",
    "text = [\"Hallo, wie geht es dir?\"]\n",
    "print(f\"Translating: {text}\")\n",
    "translate(text, encoder_decoder, wmt_json_loader)\n",
    "writer.close()"
   ],
   "metadata": {
    "collapsed": false,
    "ExecuteTime": {
     "end_time": "2024-06-26T15:29:33.922425400Z",
     "start_time": "2024-06-26T15:29:33.683391700Z"
    }
   },
   "id": "77f0ce0d46bc04c4",
   "execution_count": 31
  },
  {
   "cell_type": "code",
   "outputs": [],
   "source": [
    "loaded_model = torch.load('model_whole.pth')"
   ],
   "metadata": {
    "collapsed": false,
    "ExecuteTime": {
     "end_time": "2024-06-26T16:40:36.997635100Z",
     "start_time": "2024-06-26T16:40:36.473563700Z"
    }
   },
   "id": "5f7f3d54455149ad",
   "execution_count": 20
  },
  {
   "cell_type": "code",
   "outputs": [
    {
     "name": "stdout",
     "output_type": "stream",
     "text": [
      "Translating: ['Was ist es?']\n",
      "torch.Size([1, 384, 128])\n",
      "Translated text: What is    \n"
     ]
    }
   ],
   "source": [
    "loaded_model.eval()\n",
    "text = [\"Was ist es?\"]\n",
    "print(f\"Translating: {text}\")\n",
    "translate(text, loaded_model, wmt_json_loader)\n"
   ],
   "metadata": {
    "collapsed": false,
    "ExecuteTime": {
     "end_time": "2024-06-26T16:41:11.012965900Z",
     "start_time": "2024-06-26T16:41:10.826220100Z"
    }
   },
   "id": "5fac5f1ef390c4b6",
   "execution_count": 24
  },
  {
   "cell_type": "code",
   "outputs": [
    {
     "ename": "NameError",
     "evalue": "name 'writer' is not defined",
     "output_type": "error",
     "traceback": [
      "\u001B[1;31m---------------------------------------------------------------------------\u001B[0m",
      "\u001B[1;31mNameError\u001B[0m                                 Traceback (most recent call last)",
      "Cell \u001B[1;32mIn[3], line 1\u001B[0m\n\u001B[1;32m----> 1\u001B[0m \u001B[43mwriter\u001B[49m\u001B[38;5;241m.\u001B[39mclose()\n",
      "\u001B[1;31mNameError\u001B[0m: name 'writer' is not defined"
     ]
    }
   ],
   "source": [
    "writer.close()\n"
   ],
   "metadata": {
    "collapsed": false,
    "ExecuteTime": {
     "end_time": "2024-06-26T21:18:52.881141300Z",
     "start_time": "2024-06-26T21:18:52.870104500Z"
    }
   },
   "id": "2828b30a18209a00",
   "execution_count": 3
  }
 ],
 "metadata": {
  "kernelspec": {
   "display_name": "Python 3",
   "language": "python",
   "name": "python3"
  },
  "language_info": {
   "codemirror_mode": {
    "name": "ipython",
    "version": 2
   },
   "file_extension": ".py",
   "mimetype": "text/x-python",
   "name": "python",
   "nbconvert_exporter": "python",
   "pygments_lexer": "ipython2",
   "version": "2.7.6"
  }
 },
 "nbformat": 4,
 "nbformat_minor": 5
}
