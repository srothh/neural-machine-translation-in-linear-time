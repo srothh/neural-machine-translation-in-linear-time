{
 "cells": [
  {
   "cell_type": "code",
   "execution_count": 1,
   "id": "662e856e-5468-4cd1-b751-82d73aca4774",
   "metadata": {},
   "outputs": [],
   "source": [
    "# pip install nltk"
   ]
  },
  {
   "cell_type": "code",
   "execution_count": 2,
   "id": "1ab77b85-4927-4bd1-bf20-190783606629",
   "metadata": {},
   "outputs": [],
   "source": [
    "# pip install datasets requests transformers tqdm"
   ]
  },
  {
   "cell_type": "code",
   "execution_count": 3,
   "id": "57349304-1abb-4837-9222-0251e5dd7532",
   "metadata": {},
   "outputs": [],
   "source": [
    "# Import necessary libraries\n",
    "import torch\n",
    "from torch.utils.data import DataLoader, Dataset\n",
    "from torch import nn\n",
    "from tqdm import tqdm\n",
    "from nltk.translate.bleu_score import sentence_bleu, SmoothingFunction\n",
    "import json\n",
    "import os\n",
    "from transformers import AutoTokenizer\n",
    "from data.data_loader import WMTLoader, WMT19JSONLoader, download_entire_de_en_dataset"
   ]
  },
  {
   "cell_type": "code",
   "execution_count": 4,
   "id": "c717c130-382f-4ca2-bedb-52a062d059fe",
   "metadata": {},
   "outputs": [],
   "source": [
    "# Define device\n",
    "device = 'cuda' if torch.cuda.is_available() else 'cpu'\n",
    "\n",
    "# Define BytenetEncoder and BytenetDecoder classes\n",
    "class ResidualBlockReLu(nn.Module):\n",
    "    \"\"\"\n",
    "    Implementation of residual Layer for Bytenet machine translation task.\n",
    "\n",
    "    :param d: The number of input features.\n",
    "    :param dilation: The initial dilation rate for the convolution layers.\n",
    "    \"\"\"\n",
    "    def __init__(self, d, dilation, k, decoder=False):\n",
    "        super(ResidualBlockReLu, self).__init__()\n",
    "        self.decoder = decoder\n",
    "        self.layer_norm1 = nn.LayerNorm(128)\n",
    "        self.reLu1 = nn.ReLU()\n",
    "        self.conv1 = nn.Conv1d(d * 2, d, 1)\n",
    "        self.layer_norm2 = nn.LayerNorm(128)\n",
    "        self.reLu2 = nn.ReLU()\n",
    "        if decoder:\n",
    "            self.receptive_field = (k - 1) * dilation\n",
    "            self.conv2 = nn.Conv1d(d, d, k, dilation=dilation)\n",
    "        else:\n",
    "            padding = (k - 1) * dilation // 2\n",
    "            self.conv2 = nn.Conv1d(d, d, k, dilation=dilation, padding=padding)\n",
    "        self.layer_norm3 = nn.LayerNorm(128)\n",
    "        self.reLu3 = nn.ReLU()\n",
    "        self.conv3 = nn.Conv1d(d, d * 2, 1)\n",
    "\n",
    "    def forward(self, x):\n",
    "        residual = x\n",
    "        x = self.layer_norm1(x)\n",
    "        x = self.reLu1(x)\n",
    "        x = self.conv1(x)\n",
    "        x = self.layer_norm2(x)\n",
    "        x = self.reLu2(x)\n",
    "        if self.decoder and self.receptive_field > 0:\n",
    "            x = torch.nn.functional.pad(x, (self.receptive_field, 0))\n",
    "        x = self.conv2(x)\n",
    "        x = self.layer_norm3(x)\n",
    "        x = self.reLu3(x)\n",
    "        x = self.conv3(x)\n",
    "        x += residual\n",
    "        return x\n",
    "\n",
    "class BytenetEncoder(nn.Module):\n",
    "    \"\"\"\n",
    "    Implementation of the ByteNet Encoder. Default Parameters are set to the ones used in the paper.\n",
    "    \n",
    "    :param kernel_size: The kernel size for the unmasked (padded) convolution in the residual block.\n",
    "    :param max_dilation_rate: The maximum dilation rate for the convolution layers.\n",
    "    :param masked_kernel_size: The kernel size for the masked convolution in the residual block (only interesting for decoder).\n",
    "    :param num_sets: The number of sets of residual blocks.\n",
    "    :param set_size: The number of residual blocks in each set.\n",
    "    :param hidden_channels: The number of hidden channels in the model.\n",
    "    \"\"\"\n",
    "    def __init__(self, kernel_size=3, max_dilation_rate=16, masked_kernel_size=3, num_sets=6, set_size=5,\n",
    "                 hidden_channels=800, emb_size=1600):\n",
    "        super(BytenetEncoder, self).__init__()\n",
    "        self.num_channels = hidden_channels\n",
    "        self.kernel_size = kernel_size\n",
    "        self.layers = nn.Sequential()\n",
    "        self.layers.append(nn.Conv1d(in_channels=emb_size, out_channels=hidden_channels * 2, kernel_size=1))\n",
    "        for _ in range(num_sets):\n",
    "            dilation_rate = 1\n",
    "            for _ in range(set_size):\n",
    "                self.layers.append(ResidualBlockReLu(hidden_channels,\n",
    "                                                     dilation_rate if dilation_rate <= max_dilation_rate else max_dilation_rate,\n",
    "                                                     masked_kernel_size))\n",
    "                dilation_rate *= 2\n",
    "        self.encoder_out_conv = nn.Conv1d(in_channels=hidden_channels * 2, out_channels=2 * hidden_channels, kernel_size=1)\n",
    "\n",
    "    def forward(self, x):\n",
    "        x = x.float()\n",
    "        for layer in self.layers:\n",
    "            x = layer(x)\n",
    "        x = self.encoder_out_conv(x)\n",
    "        return x\n",
    "\n",
    "class BytenetDecoder(nn.Module):\n",
    "    \"\"\"\n",
    "    Implementation of the ByteNet Decoder. Default Parameters are set to the ones used in the paper.\n",
    "    \n",
    "    :param kernel_size: The kernel size for the unmasked (padded) convolution in the residual block (not important for decoder).\n",
    "    :param max_dilation_rate: The maximum dilation rate for the convolution layers.\n",
    "    :param masked_kernel_size: The kernel size for the masked convolution in the residual block.\n",
    "    :param num_sets: The number of sets of residual blocks.\n",
    "    :param set_size: The number of residual blocks in each set.\n",
    "    :param hidden_channels: The number of hidden channels in the model.\n",
    "    \"\"\"\n",
    "    def __init__(self, kernel_size=3, max_dilation_rate=16, masked_kernel_size=3, num_sets=6, set_size=5,\n",
    "                 hidden_channels=800, output_channels=384):\n",
    "        super(BytenetDecoder, self).__init__()\n",
    "        self.num_channels = hidden_channels\n",
    "        self.kernel_size = kernel_size\n",
    "        self.layers = nn.Sequential()\n",
    "        for _ in range(num_sets):\n",
    "            dilation_rate = 1\n",
    "            for _ in range(set_size):\n",
    "                self.layers.append(ResidualBlockReLu(hidden_channels,\n",
    "                                                     dilation_rate if dilation_rate <= max_dilation_rate else max_dilation_rate,\n",
    "                                                     masked_kernel_size, decoder=True))\n",
    "                dilation_rate *= 2\n",
    "        self.layers.append(nn.Conv1d(hidden_channels * 2, hidden_channels, 1))\n",
    "        self.layers.append(nn.ReLU())\n",
    "        self.layers.append(nn.Conv1d(hidden_channels, output_channels, 1))\n",
    "\n",
    "    def forward(self, x):\n",
    "        for layer in self.layers:\n",
    "            x = layer(x)\n",
    "        return x\n",
    "\n",
    "class EncoderDecoderStacking(nn.Module):\n",
    "    \"\"\"\n",
    "    Stacks the encoder and decoder for the ByteNet model.\n",
    "    This means passing the output of the encoder as input to the decoder.\n",
    "    \n",
    "    :param kernel_size: The kernel size for the unmasked (padded) convolution in the residual block (for Encoder).\n",
    "    :param max_dilation_rate: The maximum dilation rate for the convolution layers.\n",
    "    :param masked_kernel_size: The kernel size for the masked convolution in the residual block (for Decoder).\n",
    "    :param num_sets: The number of sets of residual blocks.\n",
    "    :param set_size: The number of residual blocks in each set.\n",
    "    :param hidden_channels: The number of hidden channels in the model.\n",
    "    :param output_channels: The number of output channels in the model (vocab size).\n",
    "\n",
    "    :return x: The output of the decoder.\n",
    "    \"\"\"\n",
    "    def __init__(self, vocab_size, kernel_size=3, max_dilation_rate=16, masked_kernel_size=3, n_sets=6, blocks_per_set=5,\n",
    "                 hidden_channels=800, output_channels=384, emb_size=1600):\n",
    "        super(EncoderDecoderStacking, self).__init__()\n",
    "        self.embed = nn.Embedding(vocab_size, emb_size)\n",
    "        self.encoder = BytenetEncoder(kernel_size=kernel_size, max_dilation_rate=max_dilation_rate,\n",
    "                                      masked_kernel_size=masked_kernel_size, num_sets=n_sets, set_size=blocks_per_set,\n",
    "                                      hidden_channels=hidden_channels, emb_size=emb_size)\n",
    "        self.decoder = BytenetDecoder(kernel_size=kernel_size, max_dilation_rate=max_dilation_rate,\n",
    "                                      masked_kernel_size=masked_kernel_size, num_sets=n_sets, set_size=blocks_per_set,\n",
    "                                      hidden_channels=hidden_channels, output_channels=output_channels)\n",
    "\n",
    "    def forward(self, x):\n",
    "        embed_x = self.embed(x).permute(0, 2, 1)\n",
    "        x = self.encoder(embed_x)\n",
    "        x = self.decoder(x)\n",
    "        return x\n"
   ]
  },
  {
   "cell_type": "code",
   "execution_count": 5,
   "id": "4c0fdff0-b98f-4e3d-a798-ff88a7024a97",
   "metadata": {},
   "outputs": [],
   "source": [
    "# Define function to load and tokenize test data\n",
    "def load_and_tokenize(file_path):\n",
    "    with open(file_path, 'r', encoding='utf-8') as f:\n",
    "        data = [json.loads(line) for line in f]\n",
    "\n",
    "    source_texts = [item['row']['translation']['de'] for item in data]\n",
    "    target_texts = [item['row']['translation']['en'] for item in data]\n",
    "\n",
    "    source_tokens = tokenizer(source_texts, max_length=128, padding='max_length', truncation=True, return_tensors=\"pt\")['input_ids']\n",
    "    target_tokens = tokenizer(target_texts, max_length=128, padding='max_length', truncation=True, return_tensors=\"pt\")['input_ids']\n",
    "    \n",
    "    return source_tokens, target_tokens\n"
   ]
  },
  {
   "cell_type": "code",
   "execution_count": 6,
   "id": "73057511-6fbf-4e31-90e1-adabff922fb7",
   "metadata": {},
   "outputs": [],
   "source": [
    "\n",
    "# Define a custom dataset class for loading the test data\n",
    "class TranslationDataset(Dataset):\n",
    "    def __init__(self, source_texts, target_texts):\n",
    "        self.source_texts = source_texts\n",
    "        self.target_texts = target_texts\n",
    "\n",
    "    def __len__(self):\n",
    "        return len(self.source_texts)\n",
    "\n",
    "    def __getitem__(self, idx):\n",
    "        return self.source_texts[idx], self.target_texts[idx]\n"
   ]
  },
  {
   "cell_type": "code",
   "execution_count": 7,
   "id": "587ce768-f26c-4554-9aec-17da16eb2745",
   "metadata": {},
   "outputs": [],
   "source": [
    "device = 'cuda' if torch.cuda.is_available() else 'cpu'\n",
    "num_workers = 4\n",
    "batch_size = 64\n",
    "\n",
    "current_path = os.getcwd()\n",
    "\n",
    "\n",
    "# Load the entire model\n",
    "loaded_model = torch.load('model_whole.pth', map_location=device)\n",
    "loaded_model.to(device)\n",
    "\n",
    "output_dir = current_path+'/wmt19_json_eval'\n",
    "\n",
    "download_entire_de_en_dataset(batch_size, output_dir, 4)\n",
    "\n",
    "wmt_json_loader = WMT19JSONLoader(output_dir)\n"
   ]
  },
  {
   "cell_type": "code",
   "execution_count": 8,
   "id": "55035438-d768-4dac-a899-e2ad042ebdbf",
   "metadata": {},
   "outputs": [],
   "source": [
    "cache_dir = current_path+'/wmt19_cache'\n",
    "\n",
    "# use drive in which to save dataset in cache\n",
    "source_tokens, target_tokens = wmt_json_loader.load_and_tokenize(current_path+'/wmt19_json_eval/wmt_19_de_en.json')\n",
    "\n",
    "translation_dataset = TranslationDataset(source_tokens, target_tokens)\n",
    "test_loader = DataLoader(translation_dataset, batch_size=batch_size, shuffle=False, num_workers=4)\n"
   ]
  },
  {
   "cell_type": "markdown",
   "id": "f423c6a5-9be4-4191-95d6-9e063c360f0a",
   "metadata": {},
   "source": [
    "Second evaluatio test with wmt 14\n",
    "\n",
    "TODOs if you want to run these tests:\n",
    "- need to do some changes in the dataloader file for reproduction!!!\n",
    "- uncommend text below\n",
    "- uncomment last cell\n"
   ]
  },
  {
   "cell_type": "code",
   "execution_count": null,
   "id": "807bc7c2-55e2-4671-951c-f830cc18ed77",
   "metadata": {},
   "outputs": [],
   "source": [
    "#output_dir = current_path+'/wmt14_json_eval'\n",
    "\n",
    "# download_entire_de_en_dataset(batch_size, output_dir, 4)\n",
    "\n",
    "#source_tokens2, target_tokens2 = wmt_json_loader.load_and_tokenize(current_path+'/wmt14_json_eval/wmt_14_de_en.json')\n",
    "#translation_dataset2 = TranslationDataset(source_tokens2, target_tokens2)\n",
    "#test_loader2 = DataLoader(translation_dataset2, batch_size=batch_size, shuffle=False, num_workers=4)\n"
   ]
  },
  {
   "cell_type": "markdown",
   "id": "099b95a7-6abe-4d8d-a0f5-c2a9ad6e532a",
   "metadata": {},
   "source": [
    "# Average BLEU-score \n",
    "- per sentence\n",
    "- on batch level\n",
    "- on character level\n",
    "\n",
    "Character-Level BLEU Scores: Character-level BLEU scores may be lower than word-level scores because the evaluation becomes more fine-grained.\n",
    "\n",
    "paper results: \n",
    "BLEU Score: 22.85 (0.380 bits/character) 25.53 (0.389 bits/character)\n",
    "means 0.2285 and 0.2553"
   ]
  },
  {
   "cell_type": "code",
   "execution_count": 9,
   "id": "2ab907a7-5c32-4eb9-b76c-c000ac6f5a87",
   "metadata": {},
   "outputs": [
    {
     "name": "stderr",
     "output_type": "stream",
     "text": [
      "[nltk_data] Downloading package punkt to /home/e12230488/nltk_data...\n",
      "[nltk_data]   Package punkt is already up-to-date!\n"
     ]
    },
    {
     "data": {
      "text/plain": [
       "True"
      ]
     },
     "execution_count": 9,
     "metadata": {},
     "output_type": "execute_result"
    }
   ],
   "source": [
    "from torch.utils.data import DataLoader\n",
    "import zlib\n",
    "import matplotlib.pyplot as plt\n",
    "from tqdm import tqdm\n",
    "from nltk.translate.bleu_score import sentence_bleu, SmoothingFunction\n",
    "import nltk\n",
    "from nltk.translate.bleu_score import sentence_bleu, SmoothingFunction\n",
    "nltk.download('punkt')"
   ]
  },
  {
   "cell_type": "code",
   "execution_count": 10,
   "id": "aefe6211-2591-4f01-86d3-9dae6e576a83",
   "metadata": {},
   "outputs": [
    {
     "name": "stdout",
     "output_type": "stream",
     "text": [
      "Translating: ['Wiederaufnahme der Sitzungsperiode']\n"
     ]
    },
    {
     "name": "stderr",
     "output_type": "stream",
     "text": [
      "2024-06-27 08:42:05.952390: E external/local_xla/xla/stream_executor/cuda/cuda_dnn.cc:9261] Unable to register cuDNN factory: Attempting to register factory for plugin cuDNN when one has already been registered\n",
      "2024-06-27 08:42:05.952467: E external/local_xla/xla/stream_executor/cuda/cuda_fft.cc:607] Unable to register cuFFT factory: Attempting to register factory for plugin cuFFT when one has already been registered\n",
      "2024-06-27 08:42:05.955611: E external/local_xla/xla/stream_executor/cuda/cuda_blas.cc:1515] Unable to register cuBLAS factory: Attempting to register factory for plugin cuBLAS when one has already been registered\n",
      "2024-06-27 08:42:05.970346: I tensorflow/core/platform/cpu_feature_guard.cc:182] This TensorFlow binary is optimized to use available CPU instructions in performance-critical operations.\n",
      "To enable the following instructions: AVX2 AVX512F FMA, in other operations, rebuild TensorFlow with the appropriate compiler flags.\n",
      "2024-06-27 08:42:07.625952: W tensorflow/compiler/tf2tensorrt/utils/py_utils.cc:38] TF-TRT Warning: Could not find TensorRT\n"
     ]
    },
    {
     "name": "stdout",
     "output_type": "stream",
     "text": [
      "Translated text: Resumption of the session\n"
     ]
    }
   ],
   "source": [
    "def translate(to_translate, model, loader):\n",
    "    model.eval()\n",
    "    inp = loader.tokenize_texts([to_translate])[0].unsqueeze(0).to(device)\n",
    "    with torch.no_grad():\n",
    "        out = model(inp)\n",
    "    # print(out.shape)\n",
    "\n",
    "    out = torch.argmax(out.squeeze(0), dim=0)\n",
    "    token_ids = out.tolist()\n",
    "    translated_texts = loader.tokenizer.decode(token_ids, skip_special_tokens = True)\n",
    "    return translated_texts"
   ]
  },
  {
   "cell_type": "code",
   "execution_count": null,
   "id": "e0bc0404-2c3f-4e56-b510-70445c4c1fa1",
   "metadata": {},
   "outputs": [],
   "source": [
    "#manual test to check translation \n",
    "\n",
    "loaded_model.eval()\n",
    "text = [\"Wiederaufnahme der Sitzungsperiode\"]\n",
    "print(f\"Translating: {text}\")\n",
    "translated_texts = translate(text, loaded_model, wmt_json_loader)\n",
    "print(f\"Translated text: {translated_texts}\")"
   ]
  },
  {
   "cell_type": "code",
   "execution_count": 11,
   "id": "acf1d120-ba77-4735-910b-3054d7d3462a",
   "metadata": {},
   "outputs": [],
   "source": [
    "def evaluate_model_with_translate(model, test_loader, loader):\n",
    "    model.eval()\n",
    "    smooth_sentence = SmoothingFunction().method1\n",
    "    smooth_batch = SmoothingFunction().method4\n",
    "    smooth_char = SmoothingFunction().method1\n",
    "\n",
    "    total_bleu_score_sentence = 0.0\n",
    "    total_bleu_score_batch = 0.0\n",
    "    total_bleu_score_char = 0.0\n",
    "\n",
    "    count_sentence = 0\n",
    "    num_batches = 0\n",
    "    count_char = 0\n",
    "\n",
    "    total_compressed_bits = 0\n",
    "    total_characters = 0\n",
    "\n",
    "    total_correct_chars = 0\n",
    "    total_chars = 0\n",
    "\n",
    "    first_sample_printed = False\n",
    "\n",
    "    with torch.no_grad():\n",
    "        for inputs, targets in tqdm(test_loader, total=len(test_loader)):\n",
    "            # Decode input text\n",
    "            input_texts = [loader.tokenizer.decode(input.tolist(), skip_special_tokens=True) for input in inputs]\n",
    "            target_texts = [loader.tokenizer.decode(target.tolist(), skip_special_tokens=True) for target in targets]\n",
    "\n",
    "            for input_text, target_text in zip(input_texts, target_texts):\n",
    "                predicted_text = translate(input_text, model, loader)\n",
    "\n",
    "                # Print the first sample\n",
    "                if not first_sample_printed:\n",
    "                    print(f\"Input: {input_text}\")\n",
    "                    print(f\"Predicted: {predicted_text}\")\n",
    "                    print(f\"Target: {target_text}\")\n",
    "                    first_sample_printed = True\n",
    "\n",
    "                # Sentence level BLEU\n",
    "                bleu_score_sentence = sentence_bleu([target_text.split()], predicted_text.split(), smoothing_function=smooth_sentence)\n",
    "                total_bleu_score_sentence += bleu_score_sentence\n",
    "                count_sentence += 1\n",
    "\n",
    "                # Calculate BPC\n",
    "                compressed_output = zlib.compress(predicted_text.encode('utf-8'))\n",
    "                total_compressed_bits += len(compressed_output) * 8  # Convert to bits\n",
    "                total_characters += len(predicted_text)\n",
    "\n",
    "                # Character-level accuracy\n",
    "                for pred_char, true_char in zip(predicted_text, target_text):\n",
    "                    if pred_char == true_char:\n",
    "                        total_correct_chars += 1\n",
    "                    total_chars += 1\n",
    "\n",
    "                # Character level BLEU\n",
    "                output_chars = list(predicted_text)\n",
    "                target_chars = list(target_text)\n",
    "\n",
    "                bleu_score_char = sentence_bleu([target_chars], output_chars, smoothing_function=smooth_char)\n",
    "                total_bleu_score_char += bleu_score_char\n",
    "                count_char += 1\n",
    "\n",
    "                # Batch level BLEU\n",
    "                predicted_tokens = nltk.word_tokenize(predicted_text)\n",
    "                target_tokens = [nltk.word_tokenize(target_text)]\n",
    "\n",
    "                bleu_score_batch = sentence_bleu(target_tokens, predicted_tokens, smoothing_function=smooth_batch)\n",
    "                total_bleu_score_batch += bleu_score_batch\n",
    "\n",
    "                num_batches += 1\n",
    "\n",
    "    avg_bleu_score_sentence = total_bleu_score_sentence / count_sentence\n",
    "    avg_bleu_score_batch = total_bleu_score_batch / num_batches\n",
    "    avg_bleu_score_char = total_bleu_score_char / count_char\n",
    "\n",
    "    bpc = total_compressed_bits / total_characters if total_characters > 0 else float('inf')\n",
    "    char_accuracy = total_correct_chars / total_chars if total_chars > 0 else 0\n",
    "\n",
    "    print(f\"Average BLEU Score per Sentence: {avg_bleu_score_sentence:.4f}\")\n",
    "    print(f\"Average BLEU Score on Batch Level: {avg_bleu_score_batch:.4f}\")\n",
    "    print(f\"Average BLEU Score on Character Level: {avg_bleu_score_char:.4f}\")\n",
    "    print(f\"Total Bits per Character (BPC): {bpc:.4f}\")\n",
    "    print(f\"Character-Level Accuracy: {char_accuracy:.4f}\")\n",
    "\n"
   ]
  },
  {
   "cell_type": "markdown",
   "id": "5f9e982f-c798-47b6-b676-dcca91a4391e",
   "metadata": {},
   "source": [
    "# Evaluate the model with wmt19\n",
    "dataset we trained with"
   ]
  },
  {
   "cell_type": "code",
   "execution_count": 12,
   "id": "34ccef1c-7732-4627-acb8-706bb06040ed",
   "metadata": {},
   "outputs": [
    {
     "name": "stderr",
     "output_type": "stream",
     "text": [
      "  0%|          | 0/6 [00:00<?, ?it/s]"
     ]
    },
    {
     "name": "stdout",
     "output_type": "stream",
     "text": [
      "Input: Wiederaufnahme der Sitzungsperiode\n",
      "Predicted: Resumption of the session\n",
      "Target: Resumption of the session\n"
     ]
    },
    {
     "name": "stderr",
     "output_type": "stream",
     "text": [
      "100%|██████████| 6/6 [01:02<00:00, 10.37s/it]"
     ]
    },
    {
     "name": "stdout",
     "output_type": "stream",
     "text": [
      "Average BLEU Score per Sentence: 0.8439\n",
      "Average BLEU Score on Batch Level: 0.8571\n",
      "Average BLEU Score on Character Level: 0.9712\n",
      "Total Bits per Character (BPC): 6.8211\n",
      "Character-Level Accuracy: 0.9872\n"
     ]
    },
    {
     "name": "stderr",
     "output_type": "stream",
     "text": [
      "\n"
     ]
    }
   ],
   "source": [
    "evaluate_model_with_translate(loaded_model, test_loader, wmt_json_loader)"
   ]
  },
  {
   "cell_type": "markdown",
   "id": "a0f16ae1-a84c-4915-a0e0-3883eb831211",
   "metadata": {},
   "source": [
    "# Evaluate the model with wmt14\n",
    "if you want to try with this dataset: uncomment cell bellow and cell for downloading andl loading wmt14 (cell 9) "
   ]
  },
  {
   "cell_type": "code",
   "execution_count": 13,
   "id": "4f87fddd-fb90-4e85-be58-2885a29a2a91",
   "metadata": {
    "scrolled": true
   },
   "outputs": [
    {
     "name": "stderr",
     "output_type": "stream",
     "text": [
      "  0%|          | 0/6 [00:00<?, ?it/s]"
     ]
    },
    {
     "name": "stdout",
     "output_type": "stream",
     "text": [
      "Input: Weshalb also sollten Waffenhersteller in der EU auf Kosten unschuldiger Menschen Profite einstreichen?\n",
      "Predicted: Soywhse he tho warmes  hes ye te te we th ie  ar  eo  chtt oh   ee  h  h  ph ne?  n   t?\n",
      "Target: So why should EU arms producers profit at the expense of innocent people?\n"
     ]
    },
    {
     "name": "stderr",
     "output_type": "stream",
     "text": [
      "100%|██████████| 6/6 [00:59<00:00,  9.84s/it]"
     ]
    },
    {
     "name": "stdout",
     "output_type": "stream",
     "text": [
      "Average BLEU Score per Sentence: 0.0429\n",
      "Average BLEU Score on Batch Level: 0.0540\n",
      "Average BLEU Score on Character Level: 0.2166\n",
      "Total Bits per Character (BPC): 6.3390\n",
      "Character-Level Accuracy: 0.1754\n"
     ]
    },
    {
     "name": "stderr",
     "output_type": "stream",
     "text": [
      "\n"
     ]
    }
   ],
   "source": [
    "# evaluate_model_with_translate(loaded_model, test_loader2, wmt_json_loader)"
   ]
  },
  {
   "cell_type": "code",
   "execution_count": null,
   "id": "e3defc4b-6255-48fa-9a12-54948a1cb9d9",
   "metadata": {},
   "outputs": [],
   "source": []
  },
  {
   "cell_type": "code",
   "execution_count": null,
   "id": "c247ea37-4820-4d03-ac7f-3378585154e5",
   "metadata": {},
   "outputs": [],
   "source": []
  }
 ],
 "metadata": {
  "kernelspec": {
   "display_name": "Python 3 (ipykernel)",
   "language": "python",
   "name": "python3"
  },
  "language_info": {
   "codemirror_mode": {
    "name": "ipython",
    "version": 3
   },
   "file_extension": ".py",
   "mimetype": "text/x-python",
   "name": "python",
   "nbconvert_exporter": "python",
   "pygments_lexer": "ipython3",
   "version": "3.11.8"
  }
 },
 "nbformat": 4,
 "nbformat_minor": 5
}
