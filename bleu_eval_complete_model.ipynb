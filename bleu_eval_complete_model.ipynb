{
 "cells": [
  {
   "cell_type": "code",
   "execution_count": 1,
   "id": "57349304-1abb-4837-9222-0251e5dd7532",
   "metadata": {},
   "outputs": [],
   "source": [
    "# Import necessary libraries\n",
    "import torch\n",
    "from torch.utils.data import DataLoader, Dataset\n",
    "from torch import nn\n",
    "from tqdm import tqdm\n",
    "from nltk.translate.bleu_score import sentence_bleu, SmoothingFunction\n",
    "import json\n",
    "import os\n",
    "from transformers import AutoTokenizer\n",
    "from data.data_loader import WMTLoader, WMT19JSONLoader, download_entire_de_en_dataset"
   ]
  },
  {
   "cell_type": "code",
   "execution_count": 2,
   "id": "c717c130-382f-4ca2-bedb-52a062d059fe",
   "metadata": {},
   "outputs": [],
   "source": [
    "# Define device\n",
    "device = 'cuda' if torch.cuda.is_available() else 'cpu'\n",
    "\n",
    "# Define BytenetEncoder and BytenetDecoder classes\n",
    "class ResidualBlockReLu(nn.Module):\n",
    "    \"\"\"\n",
    "    Implementation of residual Layer for Bytenet machine translation task.\n",
    "\n",
    "    :param d: The number of input features.\n",
    "    :param dilation: The initial dilation rate for the convolution layers.\n",
    "    \"\"\"\n",
    "    def __init__(self, d, dilation, k, decoder=False):\n",
    "        super(ResidualBlockReLu, self).__init__()\n",
    "        self.decoder = decoder\n",
    "        self.layer_norm1 = nn.LayerNorm(128)\n",
    "        self.reLu1 = nn.ReLU()\n",
    "        self.conv1 = nn.Conv1d(d * 2, d, 1)\n",
    "        self.layer_norm2 = nn.LayerNorm(128)\n",
    "        self.reLu2 = nn.ReLU()\n",
    "        if decoder:\n",
    "            self.receptive_field = (k - 1) * dilation\n",
    "            self.conv2 = nn.Conv1d(d, d, k, dilation=dilation)\n",
    "        else:\n",
    "            padding = (k - 1) * dilation // 2\n",
    "            self.conv2 = nn.Conv1d(d, d, k, dilation=dilation, padding=padding)\n",
    "        self.layer_norm3 = nn.LayerNorm(128)\n",
    "        self.reLu3 = nn.ReLU()\n",
    "        self.conv3 = nn.Conv1d(d, d * 2, 1)\n",
    "\n",
    "    def forward(self, x):\n",
    "        residual = x\n",
    "        x = self.layer_norm1(x)\n",
    "        x = self.reLu1(x)\n",
    "        x = self.conv1(x)\n",
    "        x = self.layer_norm2(x)\n",
    "        x = self.reLu2(x)\n",
    "        if self.decoder and self.receptive_field > 0:\n",
    "            x = torch.nn.functional.pad(x, (self.receptive_field, 0))\n",
    "        x = self.conv2(x)\n",
    "        x = self.layer_norm3(x)\n",
    "        x = self.reLu3(x)\n",
    "        x = self.conv3(x)\n",
    "        x += residual\n",
    "        return x\n",
    "\n",
    "class BytenetEncoder(nn.Module):\n",
    "    \"\"\"\n",
    "    Implementation of the ByteNet Encoder. Default Parameters are set to the ones used in the paper.\n",
    "    \n",
    "    :param kernel_size: The kernel size for the unmasked (padded) convolution in the residual block.\n",
    "    :param max_dilation_rate: The maximum dilation rate for the convolution layers.\n",
    "    :param masked_kernel_size: The kernel size for the masked convolution in the residual block (only interesting for decoder).\n",
    "    :param num_sets: The number of sets of residual blocks.\n",
    "    :param set_size: The number of residual blocks in each set.\n",
    "    :param hidden_channels: The number of hidden channels in the model.\n",
    "    \"\"\"\n",
    "    def __init__(self, kernel_size=3, max_dilation_rate=16, masked_kernel_size=3, num_sets=6, set_size=5,\n",
    "                 hidden_channels=800, emb_size=1600):\n",
    "        super(BytenetEncoder, self).__init__()\n",
    "        self.num_channels = hidden_channels\n",
    "        self.kernel_size = kernel_size\n",
    "        self.layers = nn.Sequential()\n",
    "        self.layers.append(nn.Conv1d(in_channels=emb_size, out_channels=hidden_channels * 2, kernel_size=1))\n",
    "        for _ in range(num_sets):\n",
    "            dilation_rate = 1\n",
    "            for _ in range(set_size):\n",
    "                self.layers.append(ResidualBlockReLu(hidden_channels,\n",
    "                                                     dilation_rate if dilation_rate <= max_dilation_rate else max_dilation_rate,\n",
    "                                                     masked_kernel_size))\n",
    "                dilation_rate *= 2\n",
    "        self.encoder_out_conv = nn.Conv1d(in_channels=hidden_channels * 2, out_channels=2 * hidden_channels, kernel_size=1)\n",
    "\n",
    "    def forward(self, x):\n",
    "        x = x.float()\n",
    "        for layer in self.layers:\n",
    "            x = layer(x)\n",
    "        x = self.encoder_out_conv(x)\n",
    "        return x\n",
    "\n",
    "class BytenetDecoder(nn.Module):\n",
    "    \"\"\"\n",
    "    Implementation of the ByteNet Decoder. Default Parameters are set to the ones used in the paper.\n",
    "    \n",
    "    :param kernel_size: The kernel size for the unmasked (padded) convolution in the residual block (not important for decoder).\n",
    "    :param max_dilation_rate: The maximum dilation rate for the convolution layers.\n",
    "    :param masked_kernel_size: The kernel size for the masked convolution in the residual block.\n",
    "    :param num_sets: The number of sets of residual blocks.\n",
    "    :param set_size: The number of residual blocks in each set.\n",
    "    :param hidden_channels: The number of hidden channels in the model.\n",
    "    \"\"\"\n",
    "    def __init__(self, kernel_size=3, max_dilation_rate=16, masked_kernel_size=3, num_sets=6, set_size=5,\n",
    "                 hidden_channels=800, output_channels=384):\n",
    "        super(BytenetDecoder, self).__init__()\n",
    "        self.num_channels = hidden_channels\n",
    "        self.kernel_size = kernel_size\n",
    "        self.layers = nn.Sequential()\n",
    "        for _ in range(num_sets):\n",
    "            dilation_rate = 1\n",
    "            for _ in range(set_size):\n",
    "                self.layers.append(ResidualBlockReLu(hidden_channels,\n",
    "                                                     dilation_rate if dilation_rate <= max_dilation_rate else max_dilation_rate,\n",
    "                                                     masked_kernel_size, decoder=True))\n",
    "                dilation_rate *= 2\n",
    "        self.layers.append(nn.Conv1d(hidden_channels * 2, hidden_channels, 1))\n",
    "        self.layers.append(nn.ReLU())\n",
    "        self.layers.append(nn.Conv1d(hidden_channels, output_channels, 1))\n",
    "\n",
    "    def forward(self, x):\n",
    "        for layer in self.layers:\n",
    "            x = layer(x)\n",
    "        return x\n",
    "\n",
    "class EncoderDecoderStacking(nn.Module):\n",
    "    \"\"\"\n",
    "    Stacks the encoder and decoder for the ByteNet model.\n",
    "    This means passing the output of the encoder as input to the decoder.\n",
    "    \n",
    "    :param kernel_size: The kernel size for the unmasked (padded) convolution in the residual block (for Encoder).\n",
    "    :param max_dilation_rate: The maximum dilation rate for the convolution layers.\n",
    "    :param masked_kernel_size: The kernel size for the masked convolution in the residual block (for Decoder).\n",
    "    :param num_sets: The number of sets of residual blocks.\n",
    "    :param set_size: The number of residual blocks in each set.\n",
    "    :param hidden_channels: The number of hidden channels in the model.\n",
    "    :param output_channels: The number of output channels in the model (vocab size).\n",
    "\n",
    "    :return x: The output of the decoder.\n",
    "    \"\"\"\n",
    "    def __init__(self, vocab_size, kernel_size=3, max_dilation_rate=16, masked_kernel_size=3, n_sets=6, blocks_per_set=5,\n",
    "                 hidden_channels=800, output_channels=384, emb_size=1600):\n",
    "        super(EncoderDecoderStacking, self).__init__()\n",
    "        self.embed = nn.Embedding(vocab_size, emb_size)\n",
    "        self.encoder = BytenetEncoder(kernel_size=kernel_size, max_dilation_rate=max_dilation_rate,\n",
    "                                      masked_kernel_size=masked_kernel_size, num_sets=n_sets, set_size=blocks_per_set,\n",
    "                                      hidden_channels=hidden_channels, emb_size=emb_size)\n",
    "        self.decoder = BytenetDecoder(kernel_size=kernel_size, max_dilation_rate=max_dilation_rate,\n",
    "                                      masked_kernel_size=masked_kernel_size, num_sets=n_sets, set_size=blocks_per_set,\n",
    "                                      hidden_channels=hidden_channels, output_channels=output_channels)\n",
    "\n",
    "    def forward(self, x):\n",
    "        embed_x = self.embed(x).permute(0, 2, 1)\n",
    "        x = self.encoder(embed_x)\n",
    "        x = self.decoder(x)\n",
    "        return x\n"
   ]
  },
  {
   "cell_type": "code",
   "execution_count": 3,
   "id": "4c0fdff0-b98f-4e3d-a798-ff88a7024a97",
   "metadata": {},
   "outputs": [],
   "source": [
    "\n",
    "# Define function to load and tokenize test data\n",
    "def load_and_tokenize(file_path):\n",
    "    with open(file_path, 'r', encoding='utf-8') as f:\n",
    "        data = [json.loads(line) for line in f]\n",
    "\n",
    "    source_texts = [item['row']['translation']['de'] for item in data]\n",
    "    target_texts = [item['row']['translation']['en'] for item in data]\n",
    "\n",
    "    source_tokens = tokenizer(source_texts, max_length=128, padding='max_length', truncation=True, return_tensors=\"pt\")['input_ids']\n",
    "    target_tokens = tokenizer(target_texts, max_length=128, padding='max_length', truncation=True, return_tensors=\"pt\")['input_ids']\n",
    "    \n",
    "    return source_tokens, target_tokens\n",
    "\n",
    "# Load and tokenize test data\n",
    "# source_tokens, target_tokens = load_and_tokenize('wmt19_json1/wmt_19_de_en.json')\n",
    "\n",
    "# Create dataset and dataloader\n",
    "# translation_dataset = TranslationDataset(source_tokens, target_tokens)\n",
    "# test_loader = DataLoader(translation_dataset, batch_size=32, shuffle=False,  num_workers=4)\n"
   ]
  },
  {
   "cell_type": "code",
   "execution_count": 4,
   "id": "587ce768-f26c-4554-9aec-17da16eb2745",
   "metadata": {},
   "outputs": [
    {
     "name": "stdout",
     "output_type": "stream",
     "text": [
      "Downloading dataset-offset: 128\n",
      "Downloading dataset-offset: 0\n",
      "Downloading dataset-offset: 192\n",
      "Downloading dataset-offset: 64\n",
      "Downloading dataset-offset: 256\n",
      "Downloading dataset-offset: 320\n"
     ]
    }
   ],
   "source": [
    "# Load the entire model\n",
    "loaded_model = torch.load('model_whole.pth', map_location=device)\n",
    "loaded_model.to(device)\n",
    "\n",
    "\n",
    "device = 'cuda' if torch.cuda.is_available() else 'cpu'\n",
    "num_workers = 4\n",
    "batch_size = 64\n",
    "\n",
    "current_path = os.getcwd()\n",
    "output_dir = current_path+'/wmt19_json_eval'\n",
    "download_entire_de_en_dataset(batch_size, output_dir, 4)\n",
    "wmt_json_loader = WMT19JSONLoader(output_dir)\n"
   ]
  },
  {
   "cell_type": "code",
   "execution_count": 5,
   "id": "73057511-6fbf-4e31-90e1-adabff922fb7",
   "metadata": {},
   "outputs": [],
   "source": [
    "\n",
    "# Define a custom dataset class for loading the test data\n",
    "class TranslationDataset(Dataset):\n",
    "    def __init__(self, source_texts, target_texts):\n",
    "        self.source_texts = source_texts\n",
    "        self.target_texts = target_texts\n",
    "\n",
    "    def __len__(self):\n",
    "        return len(self.source_texts)\n",
    "\n",
    "    def __getitem__(self, idx):\n",
    "        return self.source_texts[idx], self.target_texts[idx]\n"
   ]
  },
  {
   "cell_type": "code",
   "execution_count": 6,
   "id": "55035438-d768-4dac-a899-e2ad042ebdbf",
   "metadata": {},
   "outputs": [],
   "source": [
    "cache_dir = current_path+'/wmt19_cache'\n",
    "# wmt_loader = WMTLoader(split=\"train\", cache_dir=cache_dir)\n",
    "# index = 0\n",
    "# source, target = wmt_loader[index]\n",
    "# print(\"Source:\", source)\n",
    "# print(\"Target:\", target)\n",
    "\n",
    "# use drive in which to save dataset in cache\n",
    "source_tokens, target_tokens = wmt_json_loader.load_and_tokenize(current_path+'/wmt19_json_eval/wmt_19_de_en.json')\n",
    "\n",
    "translation_dataset = TranslationDataset(source_tokens, target_tokens)\n",
    "test_loader = DataLoader(translation_dataset, batch_size=batch_size, shuffle=True)\n",
    "\n",
    "#dataset_size = len(translation_dataset)\n",
    "#train_size = int(0.8 * dataset_size)\n",
    "#test_size = dataset_size - train_size\n",
    "#train_dataset, test_dataset = torch.utils.data.random_split(translation_dataset, [train_size, test_size])\n",
    "\n",
    "#test_loader = DataLoader(test_dataset, batch_size=batch_size, shuffle=True)"
   ]
  },
  {
   "cell_type": "markdown",
   "id": "099b95a7-6abe-4d8d-a0f5-c2a9ad6e532a",
   "metadata": {},
   "source": [
    "# Average BLEU-score \n",
    "- per sentence\n",
    "- on batch level\n",
    "- on character level\n",
    "\n",
    "Character-Level BLEU Scores: Character-level BLEU scores may be lower than word-level scores because the evaluation becomes more fine-grained."
   ]
  },
  {
   "cell_type": "code",
   "execution_count": 7,
   "id": "2ab907a7-5c32-4eb9-b76c-c000ac6f5a87",
   "metadata": {},
   "outputs": [
    {
     "name": "stderr",
     "output_type": "stream",
     "text": [
      "[nltk_data] Downloading package punkt to /home/e12230488/nltk_data...\n",
      "[nltk_data]   Package punkt is already up-to-date!\n"
     ]
    },
    {
     "data": {
      "text/plain": [
       "True"
      ]
     },
     "execution_count": 7,
     "metadata": {},
     "output_type": "execute_result"
    }
   ],
   "source": [
    "from torch.utils.data import DataLoader\n",
    "import matplotlib.pyplot as plt\n",
    "from tqdm import tqdm\n",
    "from nltk.translate.bleu_score import sentence_bleu, SmoothingFunction\n",
    "import nltk\n",
    "from nltk.translate.bleu_score import sentence_bleu, SmoothingFunction\n",
    "nltk.download('punkt')"
   ]
  },
  {
   "cell_type": "code",
   "execution_count": 8,
   "id": "acf1d120-ba77-4735-910b-3054d7d3462a",
   "metadata": {},
   "outputs": [],
   "source": [
    "def evaluate_model(model, test_loader, tokenizer):\n",
    "    \n",
    "    #average bleu score per sentence  \n",
    "    #average bleu score on batch level\n",
    "    #average bleu score on character level\n",
    "    \n",
    "    \n",
    "    model.eval()\n",
    "\n",
    "    smooth_sentence = SmoothingFunction().method1\n",
    "    smooth_batch = SmoothingFunction().method4\n",
    "    smooth_char = SmoothingFunction().method1\n",
    "\n",
    "    total_bleu_score_sentence = 0.0\n",
    "    total_bleu_score_batch = 0.0\n",
    "    total_bleu_score_char = 0.0\n",
    "\n",
    "    count_sentence = 0\n",
    "    num_batches = 0 \n",
    "    count_char = 0\n",
    "\n",
    "    bleu_scores_sentence = []\n",
    "    bleu_scores_batch = []\n",
    "    bleu_scores_char = []\n",
    "\n",
    "    \n",
    "    with torch.no_grad():\n",
    "        for inputs, targets in tqdm(test_loader, total=len(test_loader)):\n",
    "            inputs = inputs.to(device)\n",
    "            targets = targets.to(device)\n",
    "\n",
    "            # Forward pass\n",
    "            outputs = model(inputs)\n",
    "            outputs = torch.argmax(outputs, dim=-1)\n",
    "\n",
    "            # Sentence level BLEU\n",
    "            output_token_ids = outputs.cpu().tolist()\n",
    "            target_token_ids = targets.cpu().tolist()\n",
    "\n",
    "            for output_tokens, target_tokens in zip(output_token_ids, target_token_ids):\n",
    "                output_text = tokenizer.decode(output_tokens, skip_special_tokens=True)\n",
    "                target_text = tokenizer.decode(target_tokens, skip_special_tokens=True)\n",
    "\n",
    "                bleu_score_sentence = sentence_bleu([target_text.split()], output_text.split(), smoothing_function=smooth_sentence)\n",
    "                total_bleu_score_sentence += bleu_score_sentence\n",
    "                count_sentence += 1\n",
    "           \n",
    "            # Character level BLEU\n",
    "            for output_tokens, target_tokens in zip(output_token_ids, target_token_ids):\n",
    "                output_text = tokenizer.decode(output_tokens, skip_special_tokens=True)\n",
    "                target_text = tokenizer.decode(target_tokens, skip_special_tokens=True)\n",
    "\n",
    "                output_chars = list(output_text)\n",
    "                target_chars = list(target_text)\n",
    "\n",
    "                bleu_score_char = sentence_bleu([target_chars], output_chars, smoothing_function=smooth_char)\n",
    "                total_bleu_score_char += bleu_score_char\n",
    "                count_char += 1\n",
    "                \n",
    "            # Batch level BLEU\n",
    "            for i in range(outputs.size(0)):\n",
    "                predicted_seq = tokenizer.decode(outputs[i].cpu().numpy(), skip_special_tokens=True)\n",
    "                target_seq = tokenizer.decode(targets[i].cpu().numpy(), skip_special_tokens=True)\n",
    "\n",
    "                predicted_tokens = nltk.word_tokenize(predicted_seq)\n",
    "                target_tokens = [nltk.word_tokenize(target_seq)]\n",
    "\n",
    "                bleu_score_batch = sentence_bleu(target_tokens, predicted_tokens, smoothing_function=smooth_batch)\n",
    "                total_bleu_score_batch += bleu_score_batch\n",
    "\n",
    "                num_batches += 1\n",
    "\n",
    "            avg_bleu_score_sentence = total_bleu_score_sentence / count_sentence\n",
    "            print(f\"Average BLEU Score per Sentence : {avg_bleu_score_sentence:.4f}\")\n",
    "   \n",
    "            avg_bleu_score_batch = total_bleu_score_batch / num_batches\n",
    "            print(f'Average BLEU Score on batch level: {avg_bleu_score_batch:.4f}')\n",
    "\n",
    "            avg_bleu_score_char = total_bleu_score_char / count_char\n",
    "            print(f'Average BLEU Score on character level: {avg_bleu_score_char:.4f}')\n",
    "\n",
    "    \n",
    "    avg_bleu_score_sentence = total_bleu_score_sentence / count_sentence\n",
    "    print(f\"Average BLEU Score per Sentence : {avg_bleu_score_sentence:.4f}\")\n",
    "    \n",
    "    avg_bleu_score_batch = total_bleu_score_batch / num_batches\n",
    "    print(f'Average BLEU Score on batch level: {avg_bleu_score_batch:.4f}')\n",
    "\n",
    "    avg_bleu_score_char = total_bleu_score_char / count_char\n",
    "    print(f'Average BLEU Score on character level: {avg_bleu_score_char:.4f}')\n",
    "\n",
    "   "
   ]
  },
  {
   "cell_type": "code",
   "execution_count": 9,
   "id": "ac4fd4e6-9c44-4800-9318-6060813475a5",
   "metadata": {},
   "outputs": [
    {
     "name": "stderr",
     "output_type": "stream",
     "text": [
      "  0%|          | 0/6 [00:00<?, ?it/s]2024-06-26 16:51:58.640958: I tensorflow/core/util/port.cc:113] oneDNN custom operations are on. You may see slightly different numerical results due to floating-point round-off errors from different computation orders. To turn them off, set the environment variable `TF_ENABLE_ONEDNN_OPTS=0`.\n",
      "2024-06-26 16:51:58.683613: E external/local_xla/xla/stream_executor/cuda/cuda_dnn.cc:9261] Unable to register cuDNN factory: Attempting to register factory for plugin cuDNN when one has already been registered\n",
      "2024-06-26 16:51:58.683666: E external/local_xla/xla/stream_executor/cuda/cuda_fft.cc:607] Unable to register cuFFT factory: Attempting to register factory for plugin cuFFT when one has already been registered\n",
      "2024-06-26 16:51:58.686060: E external/local_xla/xla/stream_executor/cuda/cuda_blas.cc:1515] Unable to register cuBLAS factory: Attempting to register factory for plugin cuBLAS when one has already been registered\n",
      "2024-06-26 16:51:58.697603: I tensorflow/core/platform/cpu_feature_guard.cc:182] This TensorFlow binary is optimized to use available CPU instructions in performance-critical operations.\n",
      "To enable the following instructions: AVX2 AVX512F AVX512_VNNI FMA, in other operations, rebuild TensorFlow with the appropriate compiler flags.\n",
      "2024-06-26 16:52:00.008030: W tensorflow/compiler/tf2tensorrt/utils/py_utils.cc:38] TF-TRT Warning: Could not find TensorRT\n",
      " 17%|█▋        | 1/6 [00:16<01:22, 16.47s/it]"
     ]
    },
    {
     "name": "stdout",
     "output_type": "stream",
     "text": [
      "Average BLEU Score per Sentence : 0.0000\n",
      "Average BLEU Score on batch level: 0.0032\n",
      "Average BLEU Score on character level: 0.0011\n"
     ]
    },
    {
     "name": "stderr",
     "output_type": "stream",
     "text": [
      " 33%|███▎      | 2/6 [00:29<00:57, 14.37s/it]"
     ]
    },
    {
     "name": "stdout",
     "output_type": "stream",
     "text": [
      "Average BLEU Score per Sentence : 0.0000\n",
      "Average BLEU Score on batch level: 0.0032\n",
      "Average BLEU Score on character level: 0.0011\n"
     ]
    },
    {
     "name": "stderr",
     "output_type": "stream",
     "text": [
      " 50%|█████     | 3/6 [00:42<00:41, 13.84s/it]"
     ]
    },
    {
     "name": "stdout",
     "output_type": "stream",
     "text": [
      "Average BLEU Score per Sentence : 0.0000\n",
      "Average BLEU Score on batch level: 0.0031\n",
      "Average BLEU Score on character level: 0.0011\n"
     ]
    },
    {
     "name": "stderr",
     "output_type": "stream",
     "text": [
      " 67%|██████▋   | 4/6 [00:56<00:27, 13.87s/it]"
     ]
    },
    {
     "name": "stdout",
     "output_type": "stream",
     "text": [
      "Average BLEU Score per Sentence : 0.0000\n",
      "Average BLEU Score on batch level: 0.0031\n",
      "Average BLEU Score on character level: 0.0011\n"
     ]
    },
    {
     "name": "stderr",
     "output_type": "stream",
     "text": [
      " 83%|████████▎ | 5/6 [01:09<00:13, 13.52s/it]"
     ]
    },
    {
     "name": "stdout",
     "output_type": "stream",
     "text": [
      "Average BLEU Score per Sentence : 0.0001\n",
      "Average BLEU Score on batch level: 0.0028\n",
      "Average BLEU Score on character level: 0.0011\n"
     ]
    },
    {
     "name": "stderr",
     "output_type": "stream",
     "text": [
      "100%|██████████| 6/6 [01:22<00:00, 13.81s/it]"
     ]
    },
    {
     "name": "stdout",
     "output_type": "stream",
     "text": [
      "Average BLEU Score per Sentence : 0.0000\n",
      "Average BLEU Score on batch level: 0.0027\n",
      "Average BLEU Score on character level: 0.0011\n",
      "Average BLEU Score per Sentence : 0.0000\n",
      "Average BLEU Score on batch level: 0.0027\n",
      "Average BLEU Score on character level: 0.0011\n"
     ]
    },
    {
     "name": "stderr",
     "output_type": "stream",
     "text": [
      "\n"
     ]
    }
   ],
   "source": [
    "evaluate_model(loaded_model, test_loader, wmt_json_loader.tokenizer)"
   ]
  },
  {
   "cell_type": "code",
   "execution_count": null,
   "id": "aefe6211-2591-4f01-86d3-9dae6e576a83",
   "metadata": {},
   "outputs": [],
   "source": []
  }
 ],
 "metadata": {
  "kernelspec": {
   "display_name": "Python 3 (ipykernel)",
   "language": "python",
   "name": "python3"
  },
  "language_info": {
   "codemirror_mode": {
    "name": "ipython",
    "version": 3
   },
   "file_extension": ".py",
   "mimetype": "text/x-python",
   "name": "python",
   "nbconvert_exporter": "python",
   "pygments_lexer": "ipython3",
   "version": "3.11.8"
  }
 },
 "nbformat": 4,
 "nbformat_minor": 5
}
