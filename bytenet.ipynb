{
 "cells": [
  {
   "cell_type": "markdown",
   "source": [
    "# Bytenet\n",
    "Implementation of the paper Neural Machine Translation in Linear Time (https://arxiv.org/pdf/1610.10099). The Bynet is a CNN based Encoder/Decoder Model used here for Sequence to Sequence Translation. The model is trained on a part of the WMT2014 english to german dataset."
   ],
   "metadata": {
    "collapsed": false
   },
   "id": "eb90835381221e48"
  },
  {
   "cell_type": "markdown",
   "source": [
    "### Data Preprocessing\n",
    "Data is loaded and tokenized in this step."
   ],
   "metadata": {
    "collapsed": false
   },
   "id": "794a8cb65fc8fc79"
  },
  {
   "cell_type": "code",
   "outputs": [],
   "source": [
    "# Define Imports\n",
    "import json\n",
    "\n",
    "import requests\n",
    "import torch\n",
    "import pickle\n",
    "import torch.utils.data as data\n",
    "from torch.utils.data import Dataset, DataLoader\n",
    "from transformers import BertTokenizer\n",
    "from datasets import load_dataset\n",
    "import os\n",
    "from concurrent.futures import ThreadPoolExecutor, as_completed\n",
    "from transformers import AutoTokenizer\n"
   ],
   "metadata": {
    "collapsed": false,
    "ExecuteTime": {
     "end_time": "2024-06-24T22:02:10.065868100Z",
     "start_time": "2024-06-24T22:02:06.971808700Z"
    }
   },
   "id": "1c3a272ad06be98f",
   "execution_count": 1
  },
  {
   "cell_type": "code",
   "outputs": [],
   "source": [
    "import requests\n",
    "\n",
    "\n",
    "class WMT19JSONLoader:\n",
    "    def __init__(self, file_path, source_lang='de', target_lang='en', max_length=128):\n",
    "        self.source_lang = source_lang\n",
    "        self.target_lang = target_lang\n",
    "        self.max_length = max_length\n",
    "        # self.tokenizer = BertTokenizer.from_pretrained(\"bert-base-multilingual-cased\")\n",
    "        self.file_path = file_path\n",
    "        self.tokenizer = AutoTokenizer.from_pretrained(\"google/byt5-small\")\n",
    "\n",
    "    def load_json_data(self, file_path):\n",
    "        \"\"\"\n",
    "        Function that loads the downloaded JSON file\n",
    "\n",
    "        :param file_path:\n",
    "        :return:\n",
    "        \"\"\"\n",
    "        loaded_data = []\n",
    "        with open(file_path, 'r', encoding='utf-8', errors='ignore') as f:\n",
    "            for line in f:\n",
    "                try:\n",
    "                    loaded_data.append(json.loads(line.strip()))\n",
    "                except json.JSONDecodeError as e:\n",
    "                    print(f\"Error when line is decoded: {e}\")\n",
    "        return loaded_data\n",
    "\n",
    "    def convert_to_tensor(self, src, trg):\n",
    "        \"\"\"\n",
    "        Checks if source and target are tensor\n",
    "        If both are not tensor, they are converted to tensors\n",
    "\n",
    "        :param src:\n",
    "        :param trg:\n",
    "        :return:\n",
    "        \"\"\"\n",
    "        if not torch.is_tensor(src):\n",
    "            src = torch.Tensor(src)\n",
    "        if not torch.is_tensor(trg):\n",
    "            trg = torch.tensor(trg, dtype=torch.int32)\n",
    "        return src, trg\n",
    "\n",
    "    def extract_source_target(self, load_data):\n",
    "        \"\"\"\n",
    "        Function that extracts out of the downloaded JSON the\n",
    "        german rows as source and the english rows as targets\n",
    "\n",
    "        :param load_data:\n",
    "        :param source_lang:\n",
    "        :param target_lang:\n",
    "        :return:\n",
    "        \"\"\"\n",
    "        source_texts = []\n",
    "        target_texts = []\n",
    "        for item in load_data:\n",
    "            if ('row' in item and 'translation' in item['row'] and\n",
    "                    self.source_lang in item['row']['translation'] and\n",
    "                    self.target_lang in item['row']['translation']):\n",
    "                source_texts.append(item['row']['translation'][self.source_lang])\n",
    "                target_texts.append(item['row']['translation'][self.target_lang])\n",
    "        return source_texts, target_texts\n",
    "\n",
    "    def tokenize_texts(self, texts):\n",
    "        \"\"\"\n",
    "        Function for tokenizing the text data\n",
    "        Uses BERT-Tokenizer as tokenizer model\n",
    "\n",
    "        :param texts:\n",
    "        :return:\n",
    "        \"\"\"\n",
    "        tokenized_texts = []\n",
    "        for text in texts:\n",
    "            tokens = self.tokenizer(text, max_length=self.max_length, padding=\"max_length\", truncation=True, return_tensors=\"pt\")\n",
    "            \n",
    "            tokenized_texts.append(tokens['input_ids'].squeeze())\n",
    "        return tokenized_texts\n",
    "\n",
    "    def load_and_tokenize(self, json_file_path):\n",
    "        \"\"\"\n",
    "        Function that does the load json data\n",
    "        and the tokenizing process\n",
    "\n",
    "        :param json_file_path:\n",
    "        \"\"\"\n",
    "        loaded_data = self.load_json_data(json_file_path)\n",
    "\n",
    "        source_texts, target_texts = self.extract_source_target(loaded_data)\n",
    "\n",
    "        # The tokenized source and targets\n",
    "        # self.tokenizer is a object of type transformers from the Bert model\n",
    "        # padding=\"max_length\": is used to fill sequence to maximal length\n",
    "        # truncation = True: Means that the sequence is cutted, if longer than max_length\n",
    "        # return_tensors=\"pt\": Means that a pytorch tensor is returned\n",
    "        # the source text is tokenized into smaller elements\n",
    "        tokenized_source_texts = self.tokenize_texts(source_texts)\n",
    "\n",
    "        # the target text is tokenized into smaller elements\n",
    "        tokenized_target_texts = self.tokenize_texts(target_texts)\n",
    "\n",
    "        #TODO: evetually squeeze as in WMTLoader\n",
    "\n",
    "        return tokenized_source_texts, tokenized_target_texts\n",
    "\n",
    "\n",
    "def download_data(offset, length):\n",
    "    \"\"\"\n",
    "    Method for downloading the dataset as JSON\n",
    "    F.e. if the first 10 rows have to be downloaded, offset has to\n",
    "    be 0 and length has to be 10\n",
    "\n",
    "    :param offset: The offset used in the url\n",
    "    :param length: The length of the selected number of rows in the dataset\n",
    "    :return:\n",
    "    \"\"\"\n",
    "    url = f\"https://datasets-server.huggingface.co/rows?dataset=wmt%2Fwmt19&config=de-en&split=train&offset={offset}&length={length}\"\n",
    "    query_parameters = {\"downloadformat\": \"json\"}\n",
    "    response = requests.get(url, params=query_parameters)\n",
    "    if response.status_code == 200:\n",
    "        loaded_data = response.json()\n",
    "        print(f\"Downloading dataset-offset: {offset}\")\n",
    "        return loaded_data['rows']\n",
    "    else:\n",
    "        print(f\"Error while downloading data: {response.status_code}\")\n",
    "        return []\n",
    "\n",
    "\n",
    "def save_data_to_json(load_data, file_path):\n",
    "    \"\"\"\n",
    "    Writes data into the JSON object\n",
    "\n",
    "    :param load_data: The data that has to be writen into file\n",
    "    :param file_path: The file path where the file has to be saved\n",
    "    \"\"\"\n",
    "    os.makedirs(os.path.dirname(file_path), exist_ok=True)\n",
    "    with open(file_path, 'a', encoding='utf-8') as f:\n",
    "        for item in load_data:\n",
    "            json.dump(item, f, ensure_ascii=False)\n",
    "            f.write('\\n')\n",
    "\n",
    "\n",
    "def download_batch_and_save(offset, length, output_file):\n",
    "    \"\"\"\n",
    "    Downloads and saves the batch\n",
    "\n",
    "    :param offset: The offset which is currently used to download\n",
    "    :param length: The length is defined with 100\n",
    "    :param output_file: The name of the file to be saved\n",
    "    \"\"\"\n",
    "    loaded_data = download_data(offset, length)\n",
    "    save_data_to_json(loaded_data, output_file)\n",
    "\n",
    "\n",
    "def download_entire_de_en_dataset(batch_size, output_dir, num_workers):\n",
    "    \"\"\"\n",
    "    Downloads the entire WMT19 dataset. Uses a ThreadPoolExecutor for\n",
    "    faster download of the dataset.\n",
    "\n",
    "    :param batch_size:\n",
    "    :param output_dir:\n",
    "    :param num_workers:\n",
    "    \"\"\"\n",
    "    offset = 0\n",
    "    output_file = os.path.join(output_dir, 'wmt_19_de_en.json')\n",
    "    with ThreadPoolExecutor(max_workers=num_workers) as executor:\n",
    "        futures = []\n",
    "        while True:\n",
    "            futures.append(executor.submit(download_batch_and_save, offset, batch_size, output_file))\n",
    "            offset += batch_size\n",
    "            # if offset >= 34800000:\n",
    "            # This controls how much of the dataset is actually downloaded\n",
    "            if offset >= 40000:\n",
    "                break\n",
    "\n",
    "        for future in as_completed(futures):\n",
    "            future.result()\n"
   ],
   "metadata": {
    "collapsed": true,
    "ExecuteTime": {
     "end_time": "2024-06-24T22:02:10.075311700Z",
     "start_time": "2024-06-24T22:02:10.068871Z"
    }
   },
   "id": "initial_id",
   "execution_count": 2
  },
  {
   "cell_type": "markdown",
   "source": [
    "### ByteNet Model\n",
    "The following Cells implement the necessary parts of the ByteNet model. The model is made up of a number of sets of, each of which contains a number of residual blocks that apply LayerNorm and 1D Convolutions, which is further masked for the Decoder part of the Network."
   ],
   "metadata": {
    "collapsed": false
   },
   "id": "af5e56fee0d9e654"
  },
  {
   "cell_type": "code",
   "outputs": [],
   "source": [
    "# Imports for ByteNet\n",
    "import torch\n",
    "from torch.utils.data import Dataset\n",
    "from torch import nn\n",
    "from torch.nn import init\n",
    "import torch.nn.functional as F\n",
    "from torch.utils.data import DataLoader\n",
    "from tqdm import tqdm\n",
    "from data.data_loader import WMTLoader, WMT19JSONLoader, download_entire_de_en_dataset\n"
   ],
   "metadata": {
    "collapsed": false,
    "ExecuteTime": {
     "end_time": "2024-06-24T22:02:10.600276200Z",
     "start_time": "2024-06-24T22:02:10.072311600Z"
    }
   },
   "id": "1c87aa7aeddcd1c7",
   "execution_count": 3
  },
  {
   "cell_type": "code",
   "outputs": [],
   "source": [
    "class ResidualBlockReLu(nn.Module):\n",
    "    \"\"\"\n",
    "    Implementation of residual Layer for Bytenet machine translation task.\n",
    "\n",
    "    :param d: The number of input features.\n",
    "    :param dilation: The initial dilation rate for the convolution layers.\n",
    "    \"\"\"\n",
    "\n",
    "    def __init__(self, d, dilation, k, decoder=False):\n",
    "        super(ResidualBlockReLu, self).__init__()\n",
    "        self.decoder = decoder\n",
    "        self.layer_norm1 = nn.LayerNorm(128)\n",
    "        self.reLu1 = nn.ReLU()\n",
    "        # 2*d -> d\n",
    "        self.conv1 = nn.Conv1d(d * 2, d, 1)\n",
    "        self.layer_norm2 = nn.LayerNorm(128)\n",
    "        self.reLu2 = nn.ReLU()\n",
    "        # Masked kernel size is k\n",
    "        # Dilation only used for masked convolution\n",
    "        # d -> d\n",
    "        if decoder:\n",
    "            # Masked convolution basically means all padding on left side\n",
    "            self.receptive_field = (k - 1) * dilation\n",
    "            self.conv2 = nn.Conv1d(d, d, k, dilation=dilation)\n",
    "        else:\n",
    "            # Padding still needed to keep the size of the input and output the same\n",
    "            padding = (k - 1) * dilation // 2\n",
    "            if padding > 0:\n",
    "                self.conv2 = nn.Conv1d(d, d, k, dilation=dilation, padding=padding)\n",
    "            else:\n",
    "                self.conv2 = nn.Conv1d(d, d, k, dilation=dilation)\n",
    "        self.layer_norm3 = nn.LayerNorm(128)\n",
    "        self.reLu3 = nn.ReLU()\n",
    "        # d -> 2*d\n",
    "        self.conv3 = nn.Conv1d(d, d * 2, 1)\n",
    "\n",
    "    def forward(self, x):\n",
    "        residual = x\n",
    "        x = self.layer_norm1(x)\n",
    "        x = self.reLu1(x)\n",
    "        x = self.conv1(x)\n",
    "        x = self.layer_norm2(x)\n",
    "        x = self.reLu2(x)\n",
    "        # When Decoder is used, the convolution is causal\n",
    "        if self.decoder and self.receptive_field > 0:\n",
    "            x = F.pad(x, (self.receptive_field, 0))\n",
    "        x = self.conv2(x)\n",
    "        x = self.layer_norm3(x)\n",
    "        x = self.reLu3(x)\n",
    "        x = self.conv3(x)\n",
    "        # Add back the residual\n",
    "        x += residual\n",
    "        return x\n"
   ],
   "metadata": {
    "collapsed": false,
    "ExecuteTime": {
     "end_time": "2024-06-24T22:02:10.608697300Z",
     "start_time": "2024-06-24T22:02:10.603274200Z"
    }
   },
   "id": "b7b0836c6097c8f0",
   "execution_count": 4
  },
  {
   "cell_type": "code",
   "outputs": [],
   "source": [
    "class BytenetEncoder(nn.Module):\n",
    "    \"\"\"\n",
    "    Implementation of the ByteNet Encoder. Default Parameters are set to the ones used in the paper.\n",
    "    \n",
    "    :param kernel_size: The kernel size for the unmasked (padded) convolution in the residual block.\n",
    "    :param max_dilation_rate: The maximum dilation rate for the convolution layers.\n",
    "    :param masked_kernel_size: The kernel size for the masked convolution in the residual block (only interesting for decoder).\n",
    "    :param num_sets: The number of sets of residual blocks.\n",
    "    :param set_size: The number of residual blocks in each set.\n",
    "    :param hidden_channels: The number of hidden channels in the model.\n",
    "    \"\"\"\n",
    "    def __init__(self, kernel_size=3, max_dilation_rate=16, masked_kernel_size=3, num_sets=6, set_size=5,\n",
    "                 hidden_channels=800, emb_size = 1600):\n",
    "        super(BytenetEncoder, self).__init__()\n",
    "        self.num_channels = hidden_channels\n",
    "        self.kernel_size = kernel_size\n",
    "        self.layers = nn.Sequential()\n",
    "        # 128 is size of tokenizer\n",
    "        # input of shape [batch_size, 128, 128] as [batch_size, tokens, embedding_size]\n",
    "        self.layers.append(nn.Conv1d(in_channels=emb_size, out_channels=hidden_channels * 2, kernel_size=1))\n",
    "        # From the Paper:\n",
    "        # Model has a series of residual blocks of increased dilation rate\n",
    "        # With unmasked convolutions for the encoder\n",
    "        for _ in range(num_sets):\n",
    "            dilation_rate = 1\n",
    "            for _ in range(set_size):\n",
    "                # Dilation rate does not exceed a given maximum\n",
    "                # Example from the paper: 16\n",
    "                self.layers.append(ResidualBlockReLu(hidden_channels,\n",
    "                                                     dilation_rate if dilation_rate <= max_dilation_rate else max_dilation_rate,\n",
    "                                                     masked_kernel_size))\n",
    "                                # Dilation Rate doubles each layer (starting out at 1)\n",
    "                dilation_rate = dilation_rate * 2\n",
    "\n",
    "            # \"the network applies one more convolution\"\n",
    "        # Note: The output of the residual layers is 2*input_features, however the output of the final convolutions is not specified in the paper\n",
    "        # Experimentation needed if it should be 2*input_features or input_features\n",
    "        self.encoder_out_conv = nn.Conv1d(in_channels=hidden_channels * 2, out_channels=2 * hidden_channels, kernel_size=1)\n",
    "        # \"and ReLU\"\n",
    "        # Not sure if these last 2 layers should be in encoder or just decoder\n",
    "        # self.layers.append(nn.ReLU())\n",
    "        # \"followed by a convolution\"\n",
    "        # self.layers.append(nn.Conv1d(hidden_channels, hidden_channels, kernel_size))\n",
    "        # \"and a final softmax layer\" (probably not for encoder, however paper does not specify)\n",
    "        # self.layers.append(nn.Softmax(dim=1))\n",
    "\n",
    "    def forward(self, x):\n",
    "        # Temporary\n",
    "        x = x.float()\n",
    "        for layer in self.layers:\n",
    "            x = layer(x)\n",
    "        x = self.encoder_out_conv(x)\n",
    "        return x\n"
   ],
   "metadata": {
    "collapsed": false,
    "ExecuteTime": {
     "end_time": "2024-06-24T22:02:10.610941400Z",
     "start_time": "2024-06-24T22:02:10.607696900Z"
    }
   },
   "id": "e51d4e256313426",
   "execution_count": 5
  },
  {
   "cell_type": "code",
   "outputs": [],
   "source": [
    "class BytenetDecoder(nn.Module):\n",
    "    \"\"\"\n",
    "    Implementation of the ByteNet Decoder. Default Parameters are set to the ones used in the paper.\n",
    "    \n",
    "    :param kernel_size: The kernel size for the unmasked (padded) convolution in the residual block (not important for decoder).\n",
    "    :param max_dilation_rate: The maximum dilation rate for the convolution layers.\n",
    "    :param masked_kernel_size: The kernel size for the masked convolution in the residual block.\n",
    "    :param num_sets: The number of sets of residual blocks.\n",
    "    :param set_size: The number of residual blocks in each set.\n",
    "    :param hidden_channels: The number of hidden channels in the model.\n",
    "    \"\"\"\n",
    "    def __init__(self, kernel_size=3, max_dilation_rate=16, masked_kernel_size=3, num_sets=6, set_size=5,\n",
    "                 hidden_channels=800, output_channels=384):\n",
    "        super(BytenetDecoder, self).__init__()\n",
    "        self.num_channels = hidden_channels\n",
    "        self.kernel_size = kernel_size\n",
    "        self.layers = nn.Sequential()\n",
    "        # From the Paper:\n",
    "        # Model has a series of residual blocks of increased dilation rate\n",
    "        # With masekd convolution for decoder\n",
    "        for _ in range(num_sets):\n",
    "            dilation_rate = 1\n",
    "            for _ in range(set_size):\n",
    "                # Dilation Rate doubles each layer (starting out at 1)\n",
    "                # 1, 2, 4, 8, 16\n",
    "                # Dilation rate does not exceed a given maximum\n",
    "                # Example from the paper: 16\n",
    "                self.layers.append(ResidualBlockReLu(hidden_channels,\n",
    "                                                     dilation_rate if dilation_rate <= max_dilation_rate else max_dilation_rate,\n",
    "                                                     masked_kernel_size, decoder=True))\n",
    "                dilation_rate = dilation_rate * 2\n",
    "\n",
    "        # \"the network applies one more convolution\"\n",
    "        # Note: The output of the residual layers is 2*input_features, however the output of the final convolutions is not specified in the paper\n",
    "        # Experimentation needed if it should be 2*input_features or input_features\n",
    "        self.layers.append(nn.Conv1d(hidden_channels * 2, hidden_channels, 1))\n",
    "        # \"and ReLU\"\n",
    "        self.layers.append(nn.ReLU())\n",
    "        # \"followed by a convolution\"\n",
    "        self.layers.append(nn.Conv1d(hidden_channels, output_channels, 1))\n",
    "        # \"and a final softmax layer\"\n",
    "        # self.layers.append(nn.LogSoftmax(dim=-1))\n",
    "\n",
    "        # self.layers.append(nn.Softmax(dim=1))\n",
    "\n",
    "    def forward(self, x):\n",
    "        for layer in self.layers:\n",
    "            x = layer(x)\n",
    "        return x\n"
   ],
   "metadata": {
    "collapsed": false,
    "ExecuteTime": {
     "end_time": "2024-06-24T22:02:10.620760Z",
     "start_time": "2024-06-24T22:02:10.612940700Z"
    }
   },
   "id": "b8c0481c8e2822a6",
   "execution_count": 6
  },
  {
   "cell_type": "code",
   "outputs": [],
   "source": [
    "class EncoderDecoderStacking(nn.Module):\n",
    "    \"\"\"\n",
    "    Stacks the encoder and decoder for the ByteNet model.\n",
    "    This means passing the output of the encoder as input to the decoder.\n",
    "    \n",
    "    :param kernel_size: The kernel size for the unmasked (padded) convolution in the residual block (for Encoder).\n",
    "    :param max_dilation_rate: The maximum dilation rate for the convolution layers.\n",
    "    :param masked_kernel_size: The kernel size for the masked convolution in the residual block (for Decoder).\n",
    "    :param num_sets: The number of sets of residual blocks.\n",
    "    :param set_size: The number of residual blocks in each set.\n",
    "    :param hidden_channels: The number of hidden channels in the model.\n",
    "    :param output_channels: The number of output channels in the model (vocab size).\n",
    "\n",
    "    :return x: The output of the decoder.\n",
    "    \"\"\"\n",
    "\n",
    "    def __init__(self, kernel_size=3, max_dilation_rate=16, masked_kernel_size=3, n_sets=6, blocks_per_set=5,\n",
    "                 hidden_channels=800, output_channels = 384, emb_size= 1600):\n",
    "        super(EncoderDecoderStacking, self).__init__()\n",
    "        self.embed = nn.Embedding(vocab_size, emb_size)\n",
    "        self.encoder = BytenetEncoder(kernel_size=kernel_size, max_dilation_rate=max_dilation_rate,\n",
    "                                      masked_kernel_size=masked_kernel_size, num_sets=n_sets, set_size=blocks_per_set,\n",
    "                                      hidden_channels=hidden_channels, emb_size=emb_size)\n",
    "        self.decoder = BytenetDecoder(kernel_size=kernel_size, max_dilation_rate=max_dilation_rate,\n",
    "                                      masked_kernel_size=masked_kernel_size, num_sets=n_sets, set_size=blocks_per_set,\n",
    "                                      hidden_channels=hidden_channels, output_channels=output_channels)\n",
    "\n",
    "    def forward(self, x):\n",
    "        # This permutation is needed for embeddings in pytorch with 1d convolutions\n",
    "        embed_x = self.embed(x).permute(0, 2, 1)\n",
    "        x = self.encoder(embed_x)\n",
    "        x = self.decoder(x)\n",
    "        return x\n"
   ],
   "metadata": {
    "collapsed": false,
    "ExecuteTime": {
     "end_time": "2024-06-24T22:02:10.628666800Z",
     "start_time": "2024-06-24T22:02:10.619760600Z"
    }
   },
   "id": "b840fe3aa4af1592",
   "execution_count": 7
  },
  {
   "cell_type": "code",
   "outputs": [],
   "source": [
    "class InputEmbeddingTensor:\n",
    "    \"\"\"\n",
    "    Class which enables the embedding of tokens.\n",
    "\n",
    "    :param vocab_size: The size of the vocabulary as int.\n",
    "    :param embed_size: The size of the embedding units as int.\n",
    "    \"\"\"\n",
    "\n",
    "    def __init__(self, vocab_size, embed_size):\n",
    "        super(InputEmbeddingTensor, self).__init__()\n",
    "        self.vocab_size = vocab_size\n",
    "        self.embed_size = embed_size\n",
    "        # This is the actual lookup table.\n",
    "        # A lookup table is an array of data that maps input values to output values\n",
    "        self.lookup_table_non_zero = nn.Embedding(vocab_size - 1, embed_size)\n",
    "        init.xavier_uniform_(self.lookup_table_non_zero.weight)\n",
    "\n",
    "    def embed(self, in_values):\n",
    "        \"\"\"\n",
    "        In this method the first n tokens are embedded via look-up table.\n",
    "        The n tokens serve as targets for the predictions.\n",
    "\n",
    "        :param in_values: The train input values from batch, more exact: the tokens\n",
    "        :return: A embedded tensor of size n × 2d where d is the number of inner\n",
    "                channels in the network\n",
    "        \"\"\"\n",
    "        lookup_table_zero = torch.zeros(1, self.embed_size).to(in_values.device)\n",
    "        # Here the both look up tables are combined. The rows with the zeros and the rows\n",
    "        # with values from the actual lookup table are combined therefore\n",
    "        lookup_table = torch.cat((lookup_table_zero, self.lookup_table_non_zero.weight.to(device)),\n",
    "                                 0)  # Move to the same device as inputs\n",
    "        # Next the input ids are embedded into the lookup table, which means that each id has it own\n",
    "        # embedding-vector, f.e:\n",
    "        # id: 5 => [1,5,4]; id:7 => [3,2,9]\n",
    "        # The input ids are the tokens\n",
    "        # If a token sequence of 5;7 is used, the resulting matrix is:\n",
    "        # [1,5,4],[3,2,9]\n",
    "        return F.embedding(in_values, lookup_table).to(in_values.device)\n"
   ],
   "metadata": {
    "collapsed": false,
    "ExecuteTime": {
     "end_time": "2024-06-24T22:02:10.628666800Z",
     "start_time": "2024-06-24T22:02:10.623263300Z"
    }
   },
   "id": "3cd398c96893f06c",
   "execution_count": 8
  },
  {
   "cell_type": "markdown",
   "source": [
    "### Training\n",
    "The following cells implement the training of the ByteNet model. The model is trained on a part of the WMT2014 english to german dataset."
   ],
   "metadata": {
    "collapsed": false
   },
   "id": "3c907c805a3bd6b0"
  },
  {
   "cell_type": "code",
   "outputs": [
    {
     "name": "stdout",
     "output_type": "stream",
     "text": [
      "Downloading dataset-offset: 100\n",
      "Downloading dataset-offset: 0\n",
      "Downloading dataset-offset: 200\n",
      "Downloading dataset-offset: 300\n",
      "Using device: cuda\n"
     ]
    }
   ],
   "source": [
    "# Load the data\n",
    "device = 'cuda' if torch.cuda.is_available() else 'cpu'\n",
    "cache_dir = 'F:/wmt19_cache'\n",
    "#    wmt_loader = WMTLoader(split=\"train\", cache_dir=cache_dir)\n",
    "# Number of workers provides parallel loading\n",
    "num_workers = 4\n",
    "#    data_load = DataLoader(wmt_loader, batch_size=32, collate_fn=wmt_loader.collate_fn, num_workers=num_workers)\n",
    "#    temp = data_load\n",
    "#\n",
    "# for batch in wmt_loader:\n",
    "#     src_batch, tgt_batch = batch\n",
    "#     break\n",
    "\n",
    "batch_size = 100\n",
    "# change as needed\n",
    "output_dir = 'F:\\\\wmt19_json'\n",
    "download_entire_de_en_dataset(batch_size, output_dir, 4)\n",
    "device = 'cuda' if torch.cuda.is_available() else 'cpu'\n",
    "print(f'Using device: {device}')\n",
    "wmt_json_loader = WMT19JSONLoader(output_dir)\n"
   ],
   "metadata": {
    "collapsed": false,
    "ExecuteTime": {
     "end_time": "2024-06-24T22:02:11.498460900Z",
     "start_time": "2024-06-24T22:02:10.628666800Z"
    }
   },
   "id": "70480f0620367b3c",
   "execution_count": 9
  },
  {
   "cell_type": "code",
   "outputs": [
    {
     "name": "stdout",
     "output_type": "stream",
     "text": [
      "{'<pad>': 0, '</s>': 1, '<unk>': 2, '\\x00': 3, '\\x01': 4, '\\x02': 5, '\\x03': 6, '\\x04': 7, '\\x05': 8, '\\x06': 9, '\\x07': 10, '\\x08': 11, '\\t': 12, '\\n': 13, '\\x0b': 14, '\\x0c': 15, '\\r': 16, '\\x0e': 17, '\\x0f': 18, '\\x10': 19, '\\x11': 20, '\\x12': 21, '\\x13': 22, '\\x14': 23, '\\x15': 24, '\\x16': 25, '\\x17': 26, '\\x18': 27, '\\x19': 28, '\\x1a': 29, '\\x1b': 30, '\\x1c': 31, '\\x1d': 32, '\\x1e': 33, '\\x1f': 34, ' ': 35, '!': 36, '\"': 37, '#': 38, '$': 39, '%': 40, '&': 41, \"'\": 42, '(': 43, ')': 44, '*': 45, '+': 46, ',': 47, '-': 48, '.': 49, '/': 50, '0': 51, '1': 52, '2': 53, '3': 54, '4': 55, '5': 56, '6': 57, '7': 58, '8': 59, '9': 60, ':': 61, ';': 62, '<': 63, '=': 64, '>': 65, '?': 66, '@': 67, 'A': 68, 'B': 69, 'C': 70, 'D': 71, 'E': 72, 'F': 73, 'G': 74, 'H': 75, 'I': 76, 'J': 77, 'K': 78, 'L': 79, 'M': 80, 'N': 81, 'O': 82, 'P': 83, 'Q': 84, 'R': 85, 'S': 86, 'T': 87, 'U': 88, 'V': 89, 'W': 90, 'X': 91, 'Y': 92, 'Z': 93, '[': 94, '\\\\': 95, ']': 96, '^': 97, '_': 98, '`': 99, 'a': 100, 'b': 101, 'c': 102, 'd': 103, 'e': 104, 'f': 105, 'g': 106, 'h': 107, 'i': 108, 'j': 109, 'k': 110, 'l': 111, 'm': 112, 'n': 113, 'o': 114, 'p': 115, 'q': 116, 'r': 117, 's': 118, 't': 119, 'u': 120, 'v': 121, 'w': 122, 'x': 123, 'y': 124, 'z': 125, '{': 126, '|': 127, '}': 128, '~': 129, '\\x7f': 130, '\\x80': 131, '\\x81': 132, '\\x82': 133, '\\x83': 134, '\\x84': 135, '\\x85': 136, '\\x86': 137, '\\x87': 138, '\\x88': 139, '\\x89': 140, '\\x8a': 141, '\\x8b': 142, '\\x8c': 143, '\\x8d': 144, '\\x8e': 145, '\\x8f': 146, '\\x90': 147, '\\x91': 148, '\\x92': 149, '\\x93': 150, '\\x94': 151, '\\x95': 152, '\\x96': 153, '\\x97': 154, '\\x98': 155, '\\x99': 156, '\\x9a': 157, '\\x9b': 158, '\\x9c': 159, '\\x9d': 160, '\\x9e': 161, '\\x9f': 162, '\\xa0': 163, '¡': 164, '¢': 165, '£': 166, '¤': 167, '¥': 168, '¦': 169, '§': 170, '¨': 171, '©': 172, 'ª': 173, '«': 174, '¬': 175, '\\xad': 176, '®': 177, '¯': 178, '°': 179, '±': 180, '²': 181, '³': 182, '´': 183, 'µ': 184, '¶': 185, '·': 186, '¸': 187, '¹': 188, 'º': 189, '»': 190, '¼': 191, '½': 192, '¾': 193, '¿': 194, 'À': 195, 'Á': 196, 'Â': 197, 'Ã': 198, 'Ä': 199, 'Å': 200, 'Æ': 201, 'Ç': 202, 'È': 203, 'É': 204, 'Ê': 205, 'Ë': 206, 'Ì': 207, 'Í': 208, 'Î': 209, 'Ï': 210, 'Ð': 211, 'Ñ': 212, 'Ò': 213, 'Ó': 214, 'Ô': 215, 'Õ': 216, 'Ö': 217, '×': 218, 'Ø': 219, 'Ù': 220, 'Ú': 221, 'Û': 222, 'Ü': 223, 'Ý': 224, 'Þ': 225, 'ß': 226, 'à': 227, 'á': 228, 'â': 229, 'ã': 230, 'ä': 231, 'å': 232, 'æ': 233, 'ç': 234, 'è': 235, 'é': 236, 'ê': 237, 'ë': 238, 'ì': 239, 'í': 240, 'î': 241, 'ï': 242, 'ð': 243, 'ñ': 244, 'ò': 245, 'ó': 246, 'ô': 247, 'õ': 248, 'ö': 249, '÷': 250, 'ø': 251, 'ù': 252, 'ú': 253, 'û': 254, 'ü': 255, 'ý': 256, 'þ': 257, 'ÿ': 258, '<extra_id_0>': 259, '<extra_id_1>': 260, '<extra_id_2>': 261, '<extra_id_3>': 262, '<extra_id_4>': 263, '<extra_id_5>': 264, '<extra_id_6>': 265, '<extra_id_7>': 266, '<extra_id_8>': 267, '<extra_id_9>': 268, '<extra_id_10>': 269, '<extra_id_11>': 270, '<extra_id_12>': 271, '<extra_id_13>': 272, '<extra_id_14>': 273, '<extra_id_15>': 274, '<extra_id_16>': 275, '<extra_id_17>': 276, '<extra_id_18>': 277, '<extra_id_19>': 278, '<extra_id_20>': 279, '<extra_id_21>': 280, '<extra_id_22>': 281, '<extra_id_23>': 282, '<extra_id_24>': 283, '<extra_id_25>': 284, '<extra_id_26>': 285, '<extra_id_27>': 286, '<extra_id_28>': 287, '<extra_id_29>': 288, '<extra_id_30>': 289, '<extra_id_31>': 290, '<extra_id_32>': 291, '<extra_id_33>': 292, '<extra_id_34>': 293, '<extra_id_35>': 294, '<extra_id_36>': 295, '<extra_id_37>': 296, '<extra_id_38>': 297, '<extra_id_39>': 298, '<extra_id_40>': 299, '<extra_id_41>': 300, '<extra_id_42>': 301, '<extra_id_43>': 302, '<extra_id_44>': 303, '<extra_id_45>': 304, '<extra_id_46>': 305, '<extra_id_47>': 306, '<extra_id_48>': 307, '<extra_id_49>': 308, '<extra_id_50>': 309, '<extra_id_51>': 310, '<extra_id_52>': 311, '<extra_id_53>': 312, '<extra_id_54>': 313, '<extra_id_55>': 314, '<extra_id_56>': 315, '<extra_id_57>': 316, '<extra_id_58>': 317, '<extra_id_59>': 318, '<extra_id_60>': 319, '<extra_id_61>': 320, '<extra_id_62>': 321, '<extra_id_63>': 322, '<extra_id_64>': 323, '<extra_id_65>': 324, '<extra_id_66>': 325, '<extra_id_67>': 326, '<extra_id_68>': 327, '<extra_id_69>': 328, '<extra_id_70>': 329, '<extra_id_71>': 330, '<extra_id_72>': 331, '<extra_id_73>': 332, '<extra_id_74>': 333, '<extra_id_75>': 334, '<extra_id_76>': 335, '<extra_id_77>': 336, '<extra_id_78>': 337, '<extra_id_79>': 338, '<extra_id_80>': 339, '<extra_id_81>': 340, '<extra_id_82>': 341, '<extra_id_83>': 342, '<extra_id_84>': 343, '<extra_id_85>': 344, '<extra_id_86>': 345, '<extra_id_87>': 346, '<extra_id_88>': 347, '<extra_id_89>': 348, '<extra_id_90>': 349, '<extra_id_91>': 350, '<extra_id_92>': 351, '<extra_id_93>': 352, '<extra_id_94>': 353, '<extra_id_95>': 354, '<extra_id_96>': 355, '<extra_id_97>': 356, '<extra_id_98>': 357, '<extra_id_99>': 358, '<extra_id_100>': 359, '<extra_id_101>': 360, '<extra_id_102>': 361, '<extra_id_103>': 362, '<extra_id_104>': 363, '<extra_id_105>': 364, '<extra_id_106>': 365, '<extra_id_107>': 366, '<extra_id_108>': 367, '<extra_id_109>': 368, '<extra_id_110>': 369, '<extra_id_111>': 370, '<extra_id_112>': 371, '<extra_id_113>': 372, '<extra_id_114>': 373, '<extra_id_115>': 374, '<extra_id_116>': 375, '<extra_id_117>': 376, '<extra_id_118>': 377, '<extra_id_119>': 378, '<extra_id_120>': 379, '<extra_id_121>': 380, '<extra_id_122>': 381, '<extra_id_123>': 382, '<extra_id_124>': 383}\n"
     ]
    }
   ],
   "source": [
    "print(wmt_json_loader.tokenizer.get_vocab())"
   ],
   "metadata": {
    "collapsed": false,
    "ExecuteTime": {
     "end_time": "2024-06-24T22:02:11.507185700Z",
     "start_time": "2024-06-24T22:02:11.500765300Z"
    }
   },
   "id": "157fee8a0b54625a",
   "execution_count": 10
  },
  {
   "cell_type": "code",
   "outputs": [],
   "source": [
    "# HYPERPARAMETERS\n",
    "num_sets = 3\n",
    "set_size = 5\n",
    "embed_size = 1600 # Paper\n",
    "batch_size = 64"
   ],
   "metadata": {
    "collapsed": false,
    "ExecuteTime": {
     "end_time": "2024-06-24T22:02:11.507185700Z",
     "start_time": "2024-06-24T22:02:11.503279600Z"
    }
   },
   "id": "3b8377ed35cfd67f",
   "execution_count": 11
  },
  {
   "cell_type": "code",
   "outputs": [],
   "source": [
    "class TranslationDataset(Dataset):\n",
    "    def __init__(self, source_texts, target_texts):\n",
    "        self.source_texts = source_texts\n",
    "        self.target_texts = target_texts\n",
    "\n",
    "    def __len__(self):\n",
    "        return len(self.source_texts)\n",
    "\n",
    "    def __getitem__(self, idx):\n",
    "        return self.source_texts[idx], self.target_texts[idx]\n"
   ],
   "metadata": {
    "collapsed": false,
    "ExecuteTime": {
     "end_time": "2024-06-24T22:02:11.516540Z",
     "start_time": "2024-06-24T22:02:11.507716Z"
    }
   },
   "id": "dc4f1067395033b3",
   "execution_count": 12
  },
  {
   "cell_type": "code",
   "outputs": [
    {
     "name": "stdout",
     "output_type": "stream",
     "text": [
      "Error when line is decoded: Expecting ',' delimiter: line 1 column 1109 (char 1108)\n",
      "Error when line is decoded: Expecting ':' delimiter: line 1 column 401 (char 400)\n",
      "Error when line is decoded: Expecting ',' delimiter: line 1 column 614 (char 613)\n",
      "Error when line is decoded: Extra data: line 1 column 489 (char 488)\n",
      "Error when line is decoded: Expecting ',' delimiter: line 1 column 462 (char 461)\n",
      "Error when line is decoded: Expecting ':' delimiter: line 1 column 784 (char 783)\n",
      "Error when line is decoded: Expecting ',' delimiter: line 1 column 186 (char 185)\n",
      "Error when line is decoded: Expecting value: line 1 column 1 (char 0)\n",
      "Error when line is decoded: Expecting ',' delimiter: line 1 column 390 (char 389)\n",
      "Error when line is decoded: Expecting ':' delimiter: line 1 column 274 (char 273)\n",
      "Error when line is decoded: Expecting ',' delimiter: line 1 column 227 (char 226)\n",
      "Error when line is decoded: Extra data: line 1 column 314 (char 313)\n",
      "Error when line is decoded: Expecting value: line 1 column 1 (char 0)\n",
      "Error when line is decoded: Expecting ',' delimiter: line 1 column 925 (char 924)\n",
      "Error when line is decoded: Expecting ':' delimiter: line 1 column 409 (char 408)\n",
      "Error when line is decoded: Expecting ',' delimiter: line 1 column 450 (char 449)\n",
      "Error when line is decoded: Expecting ',' delimiter: line 1 column 93 (char 92)\n",
      "Error when line is decoded: Expecting ',' delimiter: line 1 column 223 (char 222)\n",
      "Error when line is decoded: Expecting value: line 1 column 1 (char 0)\n",
      "Error when line is decoded: Expecting property name enclosed in double quotes: line 1 column 550 (char 549)\n",
      "Error when line is decoded: Expecting ',' delimiter: line 1 column 54 (char 53)\n",
      "Error when line is decoded: Expecting ',' delimiter: line 1 column 223 (char 222)\n",
      "Error when line is decoded: Expecting ':' delimiter: line 1 column 282 (char 281)\n",
      "Error when line is decoded: Expecting value: line 1 column 269 (char 268)\n",
      "Error when line is decoded: Expecting value: line 1 column 1 (char 0)\n",
      "Error when line is decoded: Expecting property name enclosed in double quotes: line 1 column 27 (char 26)\n",
      "Error when line is decoded: Expecting ',' delimiter: line 1 column 240 (char 239)\n",
      "Error when line is decoded: Expecting value: line 1 column 1 (char 0)\n",
      "Error when line is decoded: Expecting value: line 1 column 1 (char 0)\n",
      "Error when line is decoded: Expecting ',' delimiter: line 1 column 688 (char 687)\n",
      "Error when line is decoded: Expecting value: line 1 column 1 (char 0)\n",
      "Error when line is decoded: Expecting ',' delimiter: line 1 column 313 (char 312)\n",
      "Error when line is decoded: Expecting ':' delimiter: line 1 column 178 (char 177)\n",
      "Error when line is decoded: Expecting ',' delimiter: line 1 column 252 (char 251)\n",
      "Error when line is decoded: Expecting value: line 1 column 1 (char 0)\n",
      "Error when line is decoded: Expecting ',' delimiter: line 1 column 648 (char 647)\n",
      "Error when line is decoded: Expecting ':' delimiter: line 1 column 245 (char 244)\n",
      "Error when line is decoded: Expecting value: line 1 column 1 (char 0)\n",
      "Error when line is decoded: Expecting ',' delimiter: line 1 column 186 (char 185)\n",
      "Error when line is decoded: Extra data: line 1 column 273 (char 272)\n",
      "Error when line is decoded: Expecting ',' delimiter: line 1 column 856 (char 855)\n",
      "Error when line is decoded: Expecting value: line 1 column 1 (char 0)\n",
      "Error when line is decoded: Expecting value: line 1 column 1 (char 0)\n",
      "Error when line is decoded: Expecting property name enclosed in double quotes: line 1 column 27 (char 26)\n",
      "Error when line is decoded: Expecting ',' delimiter: line 1 column 167 (char 166)\n",
      "Error when line is decoded: Expecting ':' delimiter: line 1 column 108 (char 107)\n",
      "Error when line is decoded: Expecting ',' delimiter: line 1 column 54 (char 53)\n",
      "Error when line is decoded: Expecting value: line 1 column 1 (char 0)\n",
      "Error when line is decoded: Expecting ',' delimiter: line 1 column 242 (char 241)\n",
      "Error when line is decoded: Extra data: line 1 column 117 (char 116)\n",
      "Error when line is decoded: Expecting ',' delimiter: line 1 column 257 (char 256)\n",
      "Error when line is decoded: Expecting ':' delimiter: line 1 column 134 (char 133)\n",
      "Error when line is decoded: Expecting ',' delimiter: line 1 column 52 (char 51)\n",
      "Error when line is decoded: Expecting value: line 1 column 1 (char 0)\n",
      "Error when line is decoded: Expecting ',' delimiter: line 1 column 704 (char 703)\n",
      "Error when line is decoded: Expecting value: line 1 column 1 (char 0)\n",
      "Error when line is decoded: Expecting ',' delimiter: line 1 column 257 (char 256)\n",
      "Error when line is decoded: Expecting ':' delimiter: line 1 column 134 (char 133)\n",
      "Error when line is decoded: Expecting ',' delimiter: line 1 column 52 (char 51)\n",
      "Error when line is decoded: Extra data: line 1 column 378 (char 377)\n",
      "Error when line is decoded: Expecting ',' delimiter: line 1 column 636 (char 635)\n",
      "Error when line is decoded: Expecting ',' delimiter: line 1 column 421 (char 420)\n",
      "Error when line is decoded: Expecting ',' delimiter: line 1 column 230 (char 229)\n",
      "Error when line is decoded: Expecting value: line 1 column 1 (char 0)\n",
      "Error when line is decoded: Expecting ',' delimiter: line 1 column 333 (char 332)\n",
      "Error when line is decoded: Expecting value: line 1 column 1 (char 0)\n",
      "Error when line is decoded: Expecting ',' delimiter: line 1 column 617 (char 616)\n",
      "Error when line is decoded: Extra data: line 1 column 192 (char 191)\n",
      "Error when line is decoded: Expecting ',' delimiter: line 1 column 641 (char 640)\n",
      "Error when line is decoded: Expecting ':' delimiter: line 1 column 447 (char 446)\n",
      "Error when line is decoded: Expecting ',' delimiter: line 1 column 66 (char 65)\n",
      "Error when line is decoded: Extra data: line 1 column 182 (char 181)\n",
      "Error when line is decoded: Expecting ',' delimiter: line 1 column 349 (char 348)\n",
      "Error when line is decoded: Expecting ',' delimiter: line 1 column 987 (char 986)\n",
      "Error when line is decoded: Expecting value: line 1 column 1 (char 0)\n",
      "Error when line is decoded: Expecting ',' delimiter: line 1 column 790 (char 789)\n",
      "Error when line is decoded: Extra data: line 1 column 84 (char 83)\n",
      "Error when line is decoded: Expecting ',' delimiter: line 1 column 368 (char 367)\n",
      "Error when line is decoded: Expecting ':' delimiter: line 1 column 238 (char 237)\n",
      "Error when line is decoded: Expecting ',' delimiter: line 1 column 367 (char 366)\n",
      "Error when line is decoded: Expecting value: line 1 column 1 (char 0)\n",
      "Error when line is decoded: Expecting ',' delimiter: line 1 column 796 (char 795)\n",
      "Error when line is decoded: Expecting value: line 1 column 1 (char 0)\n",
      "Error when line is decoded: Expecting ',' delimiter: line 1 column 186 (char 185)\n",
      "Error when line is decoded: Expecting property name enclosed in double quotes: line 1 column 146 (char 145)\n",
      "Error when line is decoded: Expecting ',' delimiter: line 1 column 53 (char 52)\n",
      "Error when line is decoded: Expecting value: line 1 column 1 (char 0)\n",
      "Error when line is decoded: Expecting ',' delimiter: line 1 column 571 (char 570)\n",
      "Error when line is decoded: Expecting ':' delimiter: line 1 column 287 (char 286)\n",
      "Error when line is decoded: Extra data: line 1 column 18 (char 17)\n",
      "Error when line is decoded: Expecting ',' delimiter: line 1 column 813 (char 812)\n",
      "Error when line is decoded: Expecting ':' delimiter: line 1 column 624 (char 623)\n",
      "Error when line is decoded: Expecting value: line 1 column 1 (char 0)\n",
      "Error when line is decoded: Expecting ',' delimiter: line 1 column 376 (char 375)\n",
      "Error when line is decoded: Extra data: line 1 column 828 (char 827)\n",
      "Error when line is decoded: Expecting value: line 1 column 1 (char 0)\n",
      "Error when line is decoded: Expecting value: line 1 column 1 (char 0)\n",
      "Error when line is decoded: Expecting ',' delimiter: line 1 column 254 (char 253)\n",
      "Error when line is decoded: Expecting ':' delimiter: line 1 column 340 (char 339)\n",
      "Error when line is decoded: Expecting ',' delimiter: line 1 column 135 (char 134)\n",
      "Error when line is decoded: Extra data: line 1 column 74 (char 73)\n",
      "Error when line is decoded: Expecting ',' delimiter: line 1 column 630 (char 629)\n",
      "Error when line is decoded: Expecting value: line 1 column 49 (char 48)\n",
      "Error when line is decoded: Extra data: line 1 column 182 (char 181)\n",
      "Error when line is decoded: Expecting ',' delimiter: line 1 column 907 (char 906)\n",
      "Error when line is decoded: Expecting value: line 1 column 1 (char 0)\n",
      "Error when line is decoded: Expecting ',' delimiter: line 1 column 285 (char 284)\n",
      "Error when line is decoded: Extra data: line 1 column 147 (char 146)\n",
      "Error when line is decoded: Expecting ',' delimiter: line 1 column 429 (char 428)\n",
      "Error when line is decoded: Extra data: line 1 column 362 (char 361)\n",
      "Error when line is decoded: Expecting ',' delimiter: line 1 column 309 (char 308)\n",
      "Error when line is decoded: Expecting ':' delimiter: line 1 column 102 (char 101)\n",
      "Error when line is decoded: Expecting value: line 1 column 1 (char 0)\n",
      "Error when line is decoded: Expecting ',' delimiter: line 1 column 510 (char 509)\n",
      "Error when line is decoded: Expecting value: line 1 column 1 (char 0)\n",
      "Error when line is decoded: Expecting ',' delimiter: line 1 column 708 (char 707)\n",
      "Error when line is decoded: Expecting ':' delimiter: line 1 column 278 (char 277)\n",
      "Error when line is decoded: Expecting ',' delimiter: line 1 column 63 (char 62)\n",
      "Error when line is decoded: Expecting value: line 1 column 1 (char 0)\n",
      "Error when line is decoded: Expecting ',' delimiter: line 1 column 869 (char 868)\n",
      "Error when line is decoded: Expecting value: line 1 column 1 (char 0)\n",
      "Error when line is decoded: Expecting property name enclosed in double quotes: line 1 column 28 (char 27)\n",
      "Error when line is decoded: Extra data: line 1 column 967 (char 966)\n",
      "Error when line is decoded: Expecting ',' delimiter: line 1 column 277 (char 276)\n",
      "Error when line is decoded: Expecting ',' delimiter: line 1 column 53 (char 52)\n",
      "Error when line is decoded: Expecting value: line 1 column 1 (char 0)\n",
      "Error when line is decoded: Expecting ',' delimiter: line 1 column 534 (char 533)\n",
      "Error when line is decoded: Expecting ':' delimiter: line 1 column 362 (char 361)\n",
      "Error when line is decoded: Expecting ',' delimiter: line 1 column 67 (char 66)\n",
      "Error when line is decoded: Expecting ':' delimiter: line 1 column 136 (char 135)\n",
      "Error when line is decoded: Extra data: line 1 column 10 (char 9)\n",
      "Error when line is decoded: Expecting ',' delimiter: line 1 column 354 (char 353)\n",
      "Error when line is decoded: Expecting value: line 1 column 1 (char 0)\n",
      "Error when line is decoded: Expecting ',' delimiter: line 1 column 500 (char 499)\n",
      "Error when line is decoded: Expecting ':' delimiter: line 1 column 126 (char 125)\n",
      "Error when line is decoded: Expecting ',' delimiter: line 1 column 54 (char 53)\n",
      "Error when line is decoded: Expecting ':' delimiter: line 1 column 25 (char 24)\n",
      "Error when line is decoded: Expecting value: line 1 column 50 (char 49)\n",
      "Error when line is decoded: Expecting value: line 1 column 1 (char 0)\n",
      "Error when line is decoded: Expecting ',' delimiter: line 1 column 366 (char 365)\n",
      "Error when line is decoded: Expecting ':' delimiter: line 1 column 41 (char 40)\n",
      "Error when line is decoded: Expecting property name enclosed in double quotes: line 1 column 2 (char 1)\n",
      "Error when line is decoded: Expecting ',' delimiter: line 1 column 59 (char 58)\n",
      "Error when line is decoded: Extra data: line 1 column 229 (char 228)\n",
      "Error when line is decoded: Extra data: line 1 column 151 (char 150)\n",
      "Error when line is decoded: Expecting value: line 1 column 49 (char 48)\n",
      "Error when line is decoded: Expecting value: line 1 column 1 (char 0)\n",
      "Error when line is decoded: Expecting ',' delimiter: line 1 column 313 (char 312)\n",
      "Error when line is decoded: Expecting ':' delimiter: line 1 column 178 (char 177)\n",
      "Error when line is decoded: Expecting ',' delimiter: line 1 column 513 (char 512)\n",
      "Error when line is decoded: Expecting ',' delimiter: line 1 column 230 (char 229)\n",
      "Error when line is decoded: Expecting value: line 1 column 1 (char 0)\n",
      "Error when line is decoded: Expecting value: line 1 column 1 (char 0)\n",
      "Error when line is decoded: Expecting ',' delimiter: line 1 column 317 (char 316)\n",
      "Error when line is decoded: Expecting ':' delimiter: line 1 column 1107 (char 1106)\n",
      "Error when line is decoded: Expecting ',' delimiter: line 1 column 578 (char 577)\n",
      "Error when line is decoded: Expecting ':' delimiter: line 1 column 11 (char 10)\n",
      "Error when line is decoded: Expecting value: line 1 column 193 (char 192)\n",
      "Error when line is decoded: Expecting ':' delimiter: line 1 column 337 (char 336)\n",
      "Error when line is decoded: Expecting ',' delimiter: line 1 column 161 (char 160)\n",
      "Error when line is decoded: Extra data: line 1 column 80 (char 79)\n",
      "Error when line is decoded: Expecting ',' delimiter: line 1 column 186 (char 185)\n",
      "Error when line is decoded: Extra data: line 1 column 395 (char 394)\n",
      "Error when line is decoded: Expecting ',' delimiter: line 1 column 192 (char 191)\n",
      "Error when line is decoded: Expecting ':' delimiter: line 1 column 612 (char 611)\n",
      "Error when line is decoded: Expecting ',' delimiter: line 1 column 67 (char 66)\n",
      "Error when line is decoded: Expecting value: line 1 column 1 (char 0)\n",
      "Error when line is decoded: Expecting ',' delimiter: line 1 column 583 (char 582)\n",
      "Error when line is decoded: Expecting ':' delimiter: line 1 column 430 (char 429)\n",
      "Error when line is decoded: Expecting ',' delimiter: line 1 column 66 (char 65)\n",
      "Error when line is decoded: Expecting value: line 1 column 1 (char 0)\n",
      "Error when line is decoded: Expecting ',' delimiter: line 1 column 285 (char 284)\n",
      "Error when line is decoded: Extra data: line 1 column 75 (char 74)\n",
      "Error when line is decoded: Expecting value: line 1 column 1 (char 0)\n",
      "Error when line is decoded: Expecting ',' delimiter: line 1 column 235 (char 234)\n",
      "Error when line is decoded: Expecting property name enclosed in double quotes: line 1 column 451 (char 450)\n",
      "Error when line is decoded: Expecting ',' delimiter: line 1 column 67 (char 66)\n",
      "Error when line is decoded: Expecting value: line 1 column 1 (char 0)\n",
      "Error when line is decoded: Expecting ',' delimiter: line 1 column 832 (char 831)\n",
      "Error when line is decoded: Expecting ':' delimiter: line 1 column 785 (char 784)\n",
      "Error when line is decoded: Expecting ':' delimiter: line 1 column 41 (char 40)\n",
      "Error when line is decoded: Expecting property name enclosed in double quotes: line 1 column 2 (char 1)\n",
      "Error when line is decoded: Expecting ',' delimiter: line 1 column 59 (char 58)\n",
      "Error when line is decoded: Expecting ':' delimiter: line 1 column 42 (char 41)\n",
      "Error when line is decoded: Expecting value: line 1 column 1 (char 0)\n",
      "Error when line is decoded: Expecting value: line 1 column 1 (char 0)\n",
      "Error when line is decoded: Expecting ',' delimiter: line 1 column 391 (char 390)\n",
      "Error when line is decoded: Expecting value: line 1 column 1 (char 0)\n",
      "Error when line is decoded: Extra data: line 1 column 176 (char 175)\n",
      "Error when line is decoded: Expecting value: line 1 column 49 (char 48)\n",
      "Error when line is decoded: Expecting value: line 1 column 1 (char 0)\n",
      "Error when line is decoded: Expecting ',' delimiter: line 1 column 205 (char 204)\n",
      "Error when line is decoded: Expecting ',' delimiter: line 1 column 357 (char 356)\n",
      "Error when line is decoded: Expecting ':' delimiter: line 1 column 41 (char 40)\n",
      "Error when line is decoded: Expecting value: line 1 column 50 (char 49)\n",
      "Error when line is decoded: Expecting value: line 1 column 1 (char 0)\n",
      "Error when line is decoded: Expecting value: line 1 column 1 (char 0)\n",
      "Error when line is decoded: Expecting value: line 1 column 1 (char 0)\n",
      "Error when line is decoded: Expecting ',' delimiter: line 1 column 354 (char 353)\n",
      "Error when line is decoded: Expecting ':' delimiter: line 1 column 254 (char 253)\n",
      "Error when line is decoded: Expecting ',' delimiter: line 1 column 434 (char 433)\n",
      "Error when line is decoded: Expecting ':' delimiter: line 1 column 930 (char 929)\n",
      "Error when line is decoded: Expecting ',' delimiter: line 1 column 414 (char 413)\n",
      "Error when line is decoded: Expecting ':' delimiter: line 1 column 400 (char 399)\n",
      "Error when line is decoded: Expecting value: line 1 column 1 (char 0)\n",
      "Error when line is decoded: Expecting ',' delimiter: line 1 column 311 (char 310)\n",
      "Error when line is decoded: Expecting value: line 1 column 1 (char 0)\n",
      "Error when line is decoded: Expecting ':' delimiter: line 1 column 41 (char 40)\n",
      "Error when line is decoded: Expecting value: line 1 column 50 (char 49)\n",
      "Error when line is decoded: Expecting value: line 1 column 1 (char 0)\n",
      "Error when line is decoded: Expecting ',' delimiter: line 1 column 406 (char 405)\n",
      "Error when line is decoded: Extra data: line 1 column 296 (char 295)\n",
      "Error when line is decoded: Expecting ',' delimiter: line 1 column 190 (char 189)\n",
      "Error when line is decoded: Expecting ':' delimiter: line 1 column 166 (char 165)\n",
      "Error when line is decoded: Extra data: line 1 column 210 (char 209)\n",
      "Error when line is decoded: Expecting property name enclosed in double quotes: line 1 column 28 (char 27)\n",
      "Error when line is decoded: Expecting ',' delimiter: line 1 column 63 (char 62)\n",
      "Error when line is decoded: Expecting ':' delimiter: line 1 column 229 (char 228)\n",
      "Error when line is decoded: Expecting ',' delimiter: line 1 column 351 (char 350)\n",
      "Error when line is decoded: Expecting ',' delimiter: line 1 column 258 (char 257)\n",
      "Error when line is decoded: Expecting value: line 1 column 1 (char 0)\n",
      "Error when line is decoded: Extra data: line 1 column 142 (char 141)\n",
      "Error when line is decoded: Expecting ',' delimiter: line 1 column 951 (char 950)\n",
      "Error when line is decoded: Expecting ':' delimiter: line 1 column 25 (char 24)\n",
      "Error when line is decoded: Expecting value: line 1 column 102 (char 101)\n",
      "Error when line is decoded: Expecting ':' delimiter: line 1 column 291 (char 290)\n",
      "Error when line is decoded: Expecting ':' delimiter: line 1 column 722 (char 721)\n",
      "Error when line is decoded: Expecting property name enclosed in double quotes: line 1 column 244 (char 243)\n",
      "Error when line is decoded: Expecting ',' delimiter: line 1 column 546 (char 545)\n",
      "Error when line is decoded: Expecting value: line 1 column 1 (char 0)\n",
      "Error when line is decoded: Expecting ',' delimiter: line 1 column 319 (char 318)\n",
      "Error when line is decoded: Extra data: line 1 column 329 (char 328)\n",
      "Error when line is decoded: Expecting ',' delimiter: line 1 column 456 (char 455)\n",
      "Error when line is decoded: Expecting value: line 1 column 1 (char 0)\n",
      "Error when line is decoded: Expecting ',' delimiter: line 1 column 343 (char 342)\n",
      "Error when line is decoded: Expecting ':' delimiter: line 1 column 110 (char 109)\n",
      "Error when line is decoded: Expecting ',' delimiter: line 1 column 553 (char 552)\n",
      "Error when line is decoded: Expecting value: line 1 column 435 (char 434)\n",
      "Error when line is decoded: Expecting value: line 1 column 1 (char 0)\n",
      "Error when line is decoded: Expecting value: line 1 column 1 (char 0)\n",
      "Error when line is decoded: Expecting value: line 1 column 1 (char 0)\n",
      "Error when line is decoded: Expecting ',' delimiter: line 1 column 532 (char 531)\n",
      "Error when line is decoded: Expecting value: line 1 column 1 (char 0)\n",
      "Error when line is decoded: Expecting ',' delimiter: line 1 column 719 (char 718)\n",
      "Error when line is decoded: Extra data: line 1 column 118 (char 117)\n",
      "Error when line is decoded: Expecting ',' delimiter: line 1 column 477 (char 476)\n",
      "Error when line is decoded: Expecting ':' delimiter: line 1 column 488 (char 487)\n",
      "Error when line is decoded: Expecting ',' delimiter: line 1 column 67 (char 66)\n",
      "Error when line is decoded: Expecting value: line 1 column 1 (char 0)\n",
      "Error when line is decoded: Expecting ',' delimiter: line 1 column 1145 (char 1144)\n",
      "Error when line is decoded: Expecting value: line 1 column 1 (char 0)\n",
      "Error when line is decoded: Expecting ',' delimiter: line 1 column 545 (char 544)\n",
      "Error when line is decoded: Extra data: line 1 column 409 (char 408)\n",
      "Error when line is decoded: Expecting ',' delimiter: line 1 column 226 (char 225)\n",
      "Error when line is decoded: Extra data: line 1 column 147 (char 146)\n",
      "Error when line is decoded: Expecting ',' delimiter: line 1 column 527 (char 526)\n",
      "Error when line is decoded: Expecting ':' delimiter: line 1 column 315 (char 314)\n",
      "Error when line is decoded: Expecting value: line 1 column 1 (char 0)\n",
      "Error when line is decoded: Expecting ',' delimiter: line 1 column 425 (char 424)\n",
      "Error when line is decoded: Expecting ':' delimiter: line 1 column 184 (char 183)\n",
      "Error when line is decoded: Extra data: line 1 column 14 (char 13)\n",
      "Error when line is decoded: Expecting value: line 1 column 1 (char 0)\n",
      "Error when line is decoded: Expecting property name enclosed in double quotes: line 1 column 430 (char 429)\n",
      "Error when line is decoded: Expecting ',' delimiter: line 1 column 67 (char 66)\n",
      "Error when line is decoded: Expecting ':' delimiter: line 1 column 41 (char 40)\n",
      "Error when line is decoded: Expecting value: line 1 column 50 (char 49)\n",
      "Error when line is decoded: Expecting value: line 1 column 1 (char 0)\n",
      "Error when line is decoded: Expecting ',' delimiter: line 1 column 390 (char 389)\n",
      "Error when line is decoded: Expecting ':' delimiter: line 1 column 274 (char 273)\n",
      "Error when line is decoded: Expecting ',' delimiter: line 1 column 227 (char 226)\n",
      "Error when line is decoded: Expecting value: line 1 column 1 (char 0)\n",
      "Error when line is decoded: Expecting ',' delimiter: line 1 column 459 (char 458)\n",
      "Error when line is decoded: Expecting value: line 1 column 1 (char 0)\n",
      "Error when line is decoded: Expecting ',' delimiter: line 1 column 1104 (char 1103)\n",
      "Error when line is decoded: Expecting value: line 1 column 1 (char 0)\n",
      "Error when line is decoded: Expecting ',' delimiter: line 1 column 395 (char 394)\n",
      "Error when line is decoded: Expecting ':' delimiter: line 1 column 112 (char 111)\n",
      "Error when line is decoded: Expecting value: line 1 column 1 (char 0)\n",
      "Error when line is decoded: Expecting ',' delimiter: line 1 column 313 (char 312)\n",
      "Error when line is decoded: Expecting value: line 1 column 1 (char 0)\n",
      "Error when line is decoded: Expecting ',' delimiter: line 1 column 319 (char 318)\n",
      "Error when line is decoded: Expecting value: line 1 column 1 (char 0)\n",
      "Error when line is decoded: Expecting value: line 1 column 1 (char 0)\n",
      "Error when line is decoded: Expecting value: line 1 column 1 (char 0)\n",
      "Error when line is decoded: Expecting ',' delimiter: line 1 column 702 (char 701)\n",
      "Error when line is decoded: Extra data: line 1 column 277 (char 276)\n",
      "Error when line is decoded: Expecting ',' delimiter: line 1 column 246 (char 245)\n",
      "Error when line is decoded: Expecting ':' delimiter: line 1 column 143 (char 142)\n",
      "Error when line is decoded: Expecting ',' delimiter: line 1 column 63 (char 62)\n",
      "Error when line is decoded: Expecting value: line 1 column 1 (char 0)\n",
      "Error when line is decoded: Expecting ',' delimiter: line 1 column 748 (char 747)\n",
      "Error when line is decoded: Expecting ':' delimiter: line 1 column 553 (char 552)\n",
      "Error when line is decoded: Expecting ',' delimiter: line 1 column 452 (char 451)\n",
      "Error when line is decoded: Expecting value: line 1 column 1 (char 0)\n",
      "Error when line is decoded: Expecting ',' delimiter: line 1 column 635 (char 634)\n",
      "Error when line is decoded: Expecting ':' delimiter: line 1 column 690 (char 689)\n",
      "Error when line is decoded: Expecting ',' delimiter: line 1 column 329 (char 328)\n",
      "Error when line is decoded: Expecting value: line 1 column 1 (char 0)\n",
      "Error when line is decoded: Expecting ',' delimiter: line 1 column 502 (char 501)\n",
      "Error when line is decoded: Extra data: line 1 column 314 (char 313)\n",
      "Error when line is decoded: Expecting value: line 1 column 1 (char 0)\n",
      "Error when line is decoded: Expecting ',' delimiter: line 1 column 937 (char 936)\n",
      "Error when line is decoded: Expecting value: line 1 column 1 (char 0)\n",
      "Error when line is decoded: Expecting ',' delimiter: line 1 column 776 (char 775)\n",
      "Error when line is decoded: Expecting ':' delimiter: line 1 column 442 (char 441)\n",
      "Error when line is decoded: Expecting ',' delimiter: line 1 column 54 (char 53)\n",
      "Error when line is decoded: Expecting value: line 1 column 1 (char 0)\n",
      "Error when line is decoded: Expecting ',' delimiter: line 1 column 423 (char 422)\n",
      "Error when line is decoded: Expecting ':' delimiter: line 1 column 773 (char 772)\n",
      "Error when line is decoded: Expecting ',' delimiter: line 1 column 54 (char 53)\n",
      "Error when line is decoded: Expecting ':' delimiter: line 1 column 114 (char 113)\n",
      "Error when line is decoded: Expecting ',' delimiter: line 1 column 219 (char 218)\n",
      "Error when line is decoded: Extra data: line 1 column 237 (char 236)\n",
      "Error when line is decoded: Expecting value: line 1 column 764 (char 763)\n",
      "Error when line is decoded: Extra data: line 1 column 551 (char 550)\n",
      "Error when line is decoded: Expecting property name enclosed in double quotes: line 1 column 2 (char 1)\n",
      "Error when line is decoded: Expecting ',' delimiter: line 1 column 340 (char 339)\n",
      "Error when line is decoded: Extra data: line 1 column 6 (char 5)\n",
      "Error when line is decoded: Expecting property name enclosed in double quotes: line 1 column 297 (char 296)\n",
      "Error when line is decoded: Expecting ',' delimiter: line 1 column 284 (char 283)\n",
      "Error when line is decoded: Expecting ':' delimiter: line 1 column 227 (char 226)\n",
      "Error when line is decoded: Expecting ',' delimiter: line 1 column 59 (char 58)\n",
      "Error when line is decoded: Extra data: line 1 column 193 (char 192)\n",
      "Error when line is decoded: Expecting ',' delimiter: line 1 column 317 (char 316)\n",
      "Error when line is decoded: Expecting value: line 1 column 1 (char 0)\n",
      "Error when line is decoded: Expecting ',' delimiter: line 1 column 286 (char 285)\n",
      "Error when line is decoded: Expecting ':' delimiter: line 1 column 331 (char 330)\n",
      "Error when line is decoded: Expecting ',' delimiter: line 1 column 59 (char 58)\n",
      "Error when line is decoded: Expecting value: line 1 column 530 (char 529)\n",
      "Error when line is decoded: Extra data: line 1 column 2 (char 1)\n",
      "Error when line is decoded: Expecting property name enclosed in double quotes: line 1 column 300 (char 299)\n",
      "Error when line is decoded: Expecting ',' delimiter: line 1 column 67 (char 66)\n",
      "Error when line is decoded: Expecting ':' delimiter: line 1 column 487 (char 486)\n",
      "Error when line is decoded: Expecting ':' delimiter: line 1 column 41 (char 40)\n",
      "Error when line is decoded: Expecting value: line 1 column 309 (char 308)\n",
      "Error when line is decoded: Expecting ':' delimiter: line 1 column 41 (char 40)\n",
      "Error when line is decoded: Expecting value: line 1 column 43 (char 42)\n",
      "Error when line is decoded: Extra data: line 1 column 250 (char 249)\n",
      "Error when line is decoded: Expecting property name enclosed in double quotes: line 1 column 148 (char 147)\n",
      "Error when line is decoded: Expecting ',' delimiter: line 1 column 65 (char 64)\n",
      "Error when line is decoded: Extra data: line 1 column 229 (char 228)\n",
      "Error when line is decoded: Expecting ',' delimiter: line 1 column 462 (char 461)\n",
      "Error when line is decoded: Expecting value: line 1 column 1 (char 0)\n",
      "Error when line is decoded: Expecting ',' delimiter: line 1 column 746 (char 745)\n",
      "Error when line is decoded: Expecting ':' delimiter: line 1 column 535 (char 534)\n",
      "Error when line is decoded: Expecting ',' delimiter: line 1 column 53 (char 52)\n",
      "Error when line is decoded: Expecting value: line 1 column 1 (char 0)\n",
      "Error when line is decoded: Expecting ',' delimiter: line 1 column 701 (char 700)\n",
      "Error when line is decoded: Expecting ':' delimiter: line 1 column 24 (char 23)\n",
      "Error when line is decoded: Expecting value: line 1 column 49 (char 48)\n",
      "Error when line is decoded: Expecting value: line 1 column 1 (char 0)\n",
      "Error when line is decoded: Expecting ',' delimiter: line 1 column 442 (char 441)\n",
      "Error when line is decoded: Expecting value: line 1 column 1 (char 0)\n",
      "Error when line is decoded: Expecting ',' delimiter: line 1 column 538 (char 537)\n",
      "Error when line is decoded: Expecting value: line 1 column 1 (char 0)\n",
      "Error when line is decoded: Expecting ',' delimiter: line 1 column 994 (char 993)\n",
      "Error when line is decoded: Expecting ':' delimiter: line 1 column 246 (char 245)\n",
      "Error when line is decoded: Expecting ',' delimiter: line 1 column 54 (char 53)\n",
      "Error when line is decoded: Expecting ':' delimiter: line 1 column 310 (char 309)\n",
      "Error when line is decoded: Expecting value: line 1 column 1 (char 0)\n",
      "Error when line is decoded: Expecting property name enclosed in double quotes: line 1 column 465 (char 464)\n",
      "Error when line is decoded: Expecting ',' delimiter: line 1 column 343 (char 342)\n",
      "Error when line is decoded: Expecting value: line 1 column 1 (char 0)\n",
      "Error when line is decoded: Expecting value: line 1 column 1 (char 0)\n",
      "Error when line is decoded: Expecting ',' delimiter: line 1 column 882 (char 881)\n",
      "Error when line is decoded: Expecting ':' delimiter: line 1 column 508 (char 507)\n",
      "Error when line is decoded: Expecting ',' delimiter: line 1 column 245 (char 244)\n",
      "Error when line is decoded: Expecting value: line 1 column 1 (char 0)\n",
      "Error when line is decoded: Expecting property name enclosed in double quotes: line 1 column 20 (char 19)\n",
      "Error when line is decoded: Expecting ',' delimiter: line 1 column 753 (char 752)\n",
      "Error when line is decoded: Expecting ',' delimiter: line 1 column 63 (char 62)\n",
      "Error when line is decoded: Expecting value: line 1 column 1 (char 0)\n",
      "Error when line is decoded: Expecting ',' delimiter: line 1 column 423 (char 422)\n",
      "Error when line is decoded: Expecting ',' delimiter: line 1 column 1091 (char 1090)\n",
      "Error when line is decoded: Expecting value: line 1 column 1 (char 0)\n",
      "Error when line is decoded: Expecting ',' delimiter: line 1 column 757 (char 756)\n",
      "Error when line is decoded: Expecting ',' delimiter: line 1 column 585 (char 584)\n",
      "Error when line is decoded: Expecting ':' delimiter: line 1 column 365 (char 364)\n",
      "Error when line is decoded: Expecting value: line 1 column 1 (char 0)\n",
      "Error when line is decoded: Expecting ',' delimiter: line 1 column 236 (char 235)\n",
      "Error when line is decoded: Expecting ',' delimiter: line 1 column 548 (char 547)\n",
      "Error when line is decoded: Expecting ':' delimiter: line 1 column 11 (char 10)\n",
      "Error when line is decoded: Expecting value: line 1 column 49 (char 48)\n",
      "Error when line is decoded: Expecting ':' delimiter: line 1 column 449 (char 448)\n",
      "Error when line is decoded: Expecting value: line 1 column 1 (char 0)\n",
      "Error when line is decoded: Expecting ',' delimiter: line 1 column 681 (char 680)\n",
      "Error when line is decoded: Expecting ':' delimiter: line 1 column 664 (char 663)\n",
      "Error when line is decoded: Expecting ',' delimiter: line 1 column 67 (char 66)\n",
      "Error when line is decoded: Expecting ':' delimiter: line 1 column 652 (char 651)\n",
      "Error when line is decoded: Expecting ',' delimiter: line 1 column 67 (char 66)\n",
      "Error when line is decoded: Extra data: line 1 column 462 (char 461)\n",
      "Error when line is decoded: Expecting ',' delimiter: line 1 column 437 (char 436)\n",
      "Error when line is decoded: Expecting ':' delimiter: line 1 column 329 (char 328)\n",
      "Error when line is decoded: Expecting ',' delimiter: line 1 column 67 (char 66)\n",
      "Error when line is decoded: Extra data: line 1 column 312 (char 311)\n",
      "Error when line is decoded: Expecting value: line 1 column 1 (char 0)\n",
      "Error when line is decoded: Expecting ',' delimiter: line 1 column 889 (char 888)\n",
      "Error when line is decoded: Expecting ':' delimiter: line 1 column 11 (char 10)\n",
      "Error when line is decoded: Expecting value: line 1 column 1 (char 0)\n",
      "Error when line is decoded: Expecting property name enclosed in double quotes: line 1 column 19 (char 18)\n",
      "Error when line is decoded: Expecting ',' delimiter: line 1 column 54 (char 53)\n",
      "Error when line is decoded: Expecting ':' delimiter: line 1 column 797 (char 796)\n",
      "Error when line is decoded: Expecting ',' delimiter: line 1 column 53 (char 52)\n",
      "Error when line is decoded: Extra data: line 1 column 202 (char 201)\n",
      "Error when line is decoded: Expecting value: line 1 column 1 (char 0)\n",
      "Error when line is decoded: Expecting property name enclosed in double quotes: line 1 column 366 (char 365)\n",
      "Error when line is decoded: Expecting ',' delimiter: line 1 column 67 (char 66)\n",
      "Error when line is decoded: Expecting value: line 1 column 1 (char 0)\n",
      "Error when line is decoded: Expecting ',' delimiter: line 1 column 282 (char 281)\n",
      "Error when line is decoded: Expecting ',' delimiter: line 1 column 186 (char 185)\n",
      "Error when line is decoded: Expecting value: line 1 column 1 (char 0)\n",
      "Error when line is decoded: Expecting property name enclosed in double quotes: line 1 column 260 (char 259)\n",
      "Error when line is decoded: Expecting ',' delimiter: line 1 column 67 (char 66)\n",
      "Error when line is decoded: Expecting ':' delimiter: line 1 column 348 (char 347)\n",
      "Error when line is decoded: Expecting ',' delimiter: line 1 column 121 (char 120)\n",
      "Error when line is decoded: Extra data: line 1 column 41 (char 40)\n",
      "Error when line is decoded: Expecting value: line 1 column 1 (char 0)\n",
      "Error when line is decoded: Expecting ',' delimiter: line 1 column 445 (char 444)\n",
      "Error when line is decoded: Expecting value: line 1 column 1 (char 0)\n",
      "Error when line is decoded: Expecting ',' delimiter: line 1 column 489 (char 488)\n",
      "Error when line is decoded: Expecting value: line 1 column 1 (char 0)\n",
      "Error when line is decoded: Expecting ',' delimiter: line 1 column 694 (char 693)\n",
      "Error when line is decoded: Expecting ':' delimiter: line 1 column 396 (char 395)\n",
      "Error when line is decoded: Expecting value: line 1 column 1 (char 0)\n",
      "Error when line is decoded: Expecting ',' delimiter: line 1 column 418 (char 417)\n",
      "Error when line is decoded: Expecting ':' delimiter: line 1 column 84 (char 83)\n",
      "Error when line is decoded: Extra data: line 1 column 104 (char 103)\n",
      "Error when line is decoded: Expecting ',' delimiter: line 1 column 621 (char 620)\n",
      "Error when line is decoded: Expecting ':' delimiter: line 1 column 41 (char 40)\n",
      "Error when line is decoded: Expecting value: line 1 column 1 (char 0)\n",
      "Error when line is decoded: Expecting ',' delimiter: line 1 column 532 (char 531)\n",
      "Error when line is decoded: Expecting ':' delimiter: line 1 column 377 (char 376)\n",
      "Error when line is decoded: Expecting ',' delimiter: line 1 column 54 (char 53)\n",
      "Error when line is decoded: Extra data: line 1 column 107 (char 106)\n",
      "Error when line is decoded: Expecting ',' delimiter: line 1 column 313 (char 312)\n",
      "Error when line is decoded: Expecting value: line 1 column 1 (char 0)\n",
      "Error when line is decoded: Expecting property name enclosed in double quotes: line 1 column 19 (char 18)\n",
      "Error when line is decoded: Expecting ',' delimiter: line 1 column 54 (char 53)\n",
      "Error when line is decoded: Expecting ',' delimiter: line 1 column 223 (char 222)\n",
      "Error when line is decoded: Expecting value: line 1 column 209 (char 208)\n",
      "Error when line is decoded: Expecting value: line 1 column 1 (char 0)\n",
      "Error when line is decoded: Expecting property name enclosed in double quotes: line 1 column 207 (char 206)\n",
      "Error when line is decoded: Expecting ',' delimiter: line 1 column 292 (char 291)\n",
      "Error when line is decoded: Expecting value: line 1 column 1 (char 0)\n",
      "Error when line is decoded: Expecting ',' delimiter: line 1 column 535 (char 534)\n",
      "Error when line is decoded: Expecting ':' delimiter: line 1 column 86 (char 85)\n",
      "Error when line is decoded: Expecting ',' delimiter: line 1 column 62 (char 61)\n",
      "Error when line is decoded: Expecting ':' delimiter: line 1 column 111 (char 110)\n",
      "Error when line is decoded: Expecting ',' delimiter: line 1 column 149 (char 148)\n",
      "Error when line is decoded: Expecting value: line 1 column 1 (char 0)\n",
      "Error when line is decoded: Expecting ',' delimiter: line 1 column 682 (char 681)\n",
      "Error when line is decoded: Expecting ':' delimiter: line 1 column 275 (char 274)\n",
      "Error when line is decoded: Expecting ',' delimiter: line 1 column 248 (char 247)\n",
      "Error when line is decoded: Expecting ',' delimiter: line 1 column 17 (char 16)\n",
      "Error when line is decoded: Expecting property name enclosed in double quotes: line 1 column 27 (char 26)\n",
      "Error when line is decoded: Expecting ',' delimiter: line 1 column 62 (char 61)\n",
      "Error when line is decoded: Expecting value: line 1 column 1 (char 0)\n",
      "Error when line is decoded: Expecting value: line 1 column 1 (char 0)\n",
      "Error when line is decoded: Expecting ',' delimiter: line 1 column 964 (char 963)\n",
      "Error when line is decoded: Expecting ':' delimiter: line 1 column 349 (char 348)\n",
      "Error when line is decoded: Expecting ',' delimiter: line 1 column 381 (char 380)\n",
      "Error when line is decoded: Extra data: line 1 column 81 (char 80)\n",
      "Error when line is decoded: Expecting ',' delimiter: line 1 column 311 (char 310)\n",
      "Error when line is decoded: Extra data: line 1 column 6 (char 5)\n",
      "Error when line is decoded: Expecting ',' delimiter: line 1 column 622 (char 621)\n",
      "Error when line is decoded: Expecting value: line 1 column 1 (char 0)\n",
      "Error when line is decoded: Expecting ',' delimiter: line 1 column 385 (char 384)\n",
      "Error when line is decoded: Expecting ',' delimiter: line 1 column 248 (char 247)\n",
      "Error when line is decoded: Expecting value: line 1 column 1 (char 0)\n",
      "Error when line is decoded: Expecting ',' delimiter: line 1 column 273 (char 272)\n",
      "Error when line is decoded: Expecting ',' delimiter: line 1 column 321 (char 320)\n",
      "Error when line is decoded: Expecting property name enclosed in double quotes: line 1 column 207 (char 206)\n",
      "Error when line is decoded: Expecting ',' delimiter: line 1 column 66 (char 65)\n",
      "Error when line is decoded: Expecting value: line 1 column 1 (char 0)\n",
      "Error when line is decoded: Expecting ',' delimiter: line 1 column 788 (char 787)\n",
      "Error when line is decoded: Extra data: line 1 column 954 (char 953)\n",
      "Error when line is decoded: Expecting value: line 1 column 1 (char 0)\n",
      "Error when line is decoded: Expecting ',' delimiter: line 1 column 392 (char 391)\n",
      "Error when line is decoded: Expecting value: line 1 column 1 (char 0)\n",
      "Error when line is decoded: Expecting ',' delimiter: line 1 column 1104 (char 1103)\n",
      "Error when line is decoded: Expecting ',' delimiter: line 1 column 376 (char 375)\n",
      "Error when line is decoded: Expecting ',' delimiter: line 1 column 205 (char 204)\n",
      "Error when line is decoded: Expecting value: line 1 column 50 (char 49)\n",
      "Error when line is decoded: Expecting ',' delimiter: line 1 column 639 (char 638)\n",
      "Error when line is decoded: Expecting value: line 1 column 50 (char 49)\n",
      "Error when line is decoded: Extra data: line 1 column 211 (char 210)\n",
      "Error when line is decoded: Expecting ',' delimiter: line 1 column 639 (char 638)\n",
      "Error when line is decoded: Expecting value: line 1 column 1 (char 0)\n",
      "Error when line is decoded: Extra data: line 1 column 18 (char 17)\n",
      "Error when line is decoded: Expecting ',' delimiter: line 1 column 853 (char 852)\n",
      "Error when line is decoded: Expecting value: line 1 column 1 (char 0)\n",
      "Error when line is decoded: Expecting property name enclosed in double quotes: line 1 column 27 (char 26)\n",
      "Error when line is decoded: Expecting ',' delimiter: line 1 column 438 (char 437)\n",
      "Error when line is decoded: Expecting ':' delimiter: line 1 column 520 (char 519)\n",
      "Error when line is decoded: Expecting ',' delimiter: line 1 column 277 (char 276)\n",
      "Error when line is decoded: Expecting value: line 1 column 1 (char 0)\n",
      "Error when line is decoded: Expecting ',' delimiter: line 1 column 676 (char 675)\n",
      "Error when line is decoded: Expecting value: line 1 column 1 (char 0)\n",
      "Error when line is decoded: Expecting ',' delimiter: line 1 column 448 (char 447)\n",
      "Error when line is decoded: Expecting value: line 1 column 1 (char 0)\n",
      "Error when line is decoded: Expecting property name enclosed in double quotes: line 1 column 175 (char 174)\n",
      "Error when line is decoded: Expecting ',' delimiter: line 1 column 67 (char 66)\n",
      "Error when line is decoded: Expecting ':' delimiter: line 1 column 291 (char 290)\n",
      "Error when line is decoded: Expecting ',' delimiter: line 1 column 272 (char 271)\n",
      "Error when line is decoded: Extra data: line 1 column 5 (char 4)\n",
      "Error when line is decoded: Expecting ',' delimiter: line 1 column 421 (char 420)\n",
      "Error when line is decoded: Extra data: line 1 column 318 (char 317)\n",
      "Error when line is decoded: Expecting ',' delimiter: line 1 column 529 (char 528)\n",
      "Error when line is decoded: Expecting value: line 1 column 1 (char 0)\n",
      "Error when line is decoded: Expecting value: line 1 column 1 (char 0)\n",
      "Error when line is decoded: Expecting ',' delimiter: line 1 column 599 (char 598)\n",
      "Error when line is decoded: Expecting value: line 1 column 1 (char 0)\n",
      "Error when line is decoded: Expecting ',' delimiter: line 1 column 857 (char 856)\n",
      "Error when line is decoded: Expecting ':' delimiter: line 1 column 344 (char 343)\n",
      "Error when line is decoded: Expecting ',' delimiter: line 1 column 63 (char 62)\n",
      "Error when line is decoded: Expecting value: line 1 column 1 (char 0)\n",
      "Error when line is decoded: Expecting value: line 1 column 1 (char 0)\n",
      "Error when line is decoded: Expecting property name enclosed in double quotes: line 1 column 2 (char 1)\n",
      "Error when line is decoded: Expecting ',' delimiter: line 1 column 59 (char 58)\n",
      "Error when line is decoded: Extra data: line 1 column 202 (char 201)\n",
      "Error when line is decoded: Expecting property name enclosed in double quotes: line 1 column 2 (char 1)\n",
      "Error when line is decoded: Expecting ',' delimiter: line 1 column 254 (char 253)\n",
      "Error when line is decoded: Extra data: line 1 column 277 (char 276)\n",
      "Error when line is decoded: Expecting ',' delimiter: line 1 column 612 (char 611)\n",
      "Error when line is decoded: Expecting ',' delimiter: line 1 column 258 (char 257)\n",
      "Error when line is decoded: Expecting value: line 1 column 50 (char 49)\n",
      "Error when line is decoded: Extra data: line 1 column 313 (char 312)\n",
      "Error when line is decoded: Expecting ',' delimiter: line 1 column 373 (char 372)\n",
      "Error when line is decoded: Expecting value: line 1 column 1 (char 0)\n",
      "Error when line is decoded: Expecting property name enclosed in double quotes: line 1 column 2 (char 1)\n",
      "Error when line is decoded: Expecting ',' delimiter: line 1 column 293 (char 292)\n",
      "Error when line is decoded: Expecting value: line 1 column 1 (char 0)\n",
      "Error when line is decoded: Expecting ',' delimiter: line 1 column 442 (char 441)\n",
      "Error when line is decoded: Expecting value: line 1 column 1 (char 0)\n",
      "Error when line is decoded: Expecting ',' delimiter: line 1 column 861 (char 860)\n",
      "Error when line is decoded: Expecting ':' delimiter: line 1 column 252 (char 251)\n",
      "Error when line is decoded: Extra data: line 1 column 140 (char 139)\n",
      "Error when line is decoded: Expecting value: line 1 column 49 (char 48)\n",
      "Error when line is decoded: Extra data: line 1 column 245 (char 244)\n",
      "Error when line is decoded: Expecting ',' delimiter: line 1 column 302 (char 301)\n",
      "Error when line is decoded: Expecting value: line 1 column 1 (char 0)\n",
      "Error when line is decoded: Expecting ',' delimiter: line 1 column 384 (char 383)\n",
      "Error when line is decoded: Expecting value: line 1 column 1 (char 0)\n",
      "Error when line is decoded: Expecting ',' delimiter: line 1 column 445 (char 444)\n",
      "Error when line is decoded: Expecting value: line 1 column 1 (char 0)\n",
      "Error when line is decoded: Expecting ',' delimiter: line 1 column 557 (char 556)\n",
      "Error when line is decoded: Expecting ':' delimiter: line 1 column 193 (char 192)\n",
      "Error when line is decoded: Expecting ',' delimiter: line 1 column 62 (char 61)\n",
      "Error when line is decoded: Extra data: line 1 column 301 (char 300)\n",
      "Error when line is decoded: Expecting ',' delimiter: line 1 column 512 (char 511)\n",
      "Error when line is decoded: Expecting ':' delimiter: line 1 column 135 (char 134)\n",
      "Error when line is decoded: Expecting ',' delimiter: line 1 column 415 (char 414)\n",
      "Error when line is decoded: Expecting value: line 1 column 1 (char 0)\n",
      "Error when line is decoded: Expecting ':' delimiter: line 1 column 108 (char 107)\n",
      "Error when line is decoded: Expecting value: line 1 column 209 (char 208)\n",
      "Error when line is decoded: Expecting ':' delimiter: line 1 column 364 (char 363)\n",
      "Error when line is decoded: Expecting ',' delimiter: line 1 column 59 (char 58)\n",
      "Error when line is decoded: Expecting value: line 1 column 1 (char 0)\n",
      "Error when line is decoded: Expecting ',' delimiter: line 1 column 679 (char 678)\n",
      "Error when line is decoded: Expecting ':' delimiter: line 1 column 302 (char 301)\n",
      "Error when line is decoded: Expecting ',' delimiter: line 1 column 430 (char 429)\n",
      "Error when line is decoded: Expecting ',' delimiter: line 1 column 172 (char 171)\n",
      "Error when line is decoded: Expecting ':' delimiter: line 1 column 753 (char 752)\n",
      "Error when line is decoded: Expecting ',' delimiter: line 1 column 144 (char 143)\n",
      "Error when line is decoded: Expecting value: line 1 column 1 (char 0)\n",
      "Error when line is decoded: Expecting ',' delimiter: line 1 column 312 (char 311)\n",
      "Error when line is decoded: Expecting ',' delimiter: line 1 column 399 (char 398)\n",
      "Error when line is decoded: Expecting value: line 1 column 389 (char 388)\n",
      "Error when line is decoded: Expecting ':' delimiter: line 1 column 1217 (char 1216)\n",
      "Error when line is decoded: Expecting ',' delimiter: line 1 column 358 (char 357)\n",
      "Error when line is decoded: Extra data: line 1 column 165 (char 164)\n",
      "Error when line is decoded: Expecting ',' delimiter: line 1 column 607 (char 606)\n",
      "Error when line is decoded: Expecting ':' delimiter: line 1 column 117 (char 116)\n",
      "Error when line is decoded: Expecting ',' delimiter: line 1 column 255 (char 254)\n",
      "Error when line is decoded: Expecting ':' delimiter: line 1 column 529 (char 528)\n",
      "Error when line is decoded: Expecting value: line 1 column 1 (char 0)\n",
      "Error when line is decoded: Expecting ',' delimiter: line 1 column 655 (char 654)\n",
      "Error when line is decoded: Extra data: line 1 column 269 (char 268)\n",
      "Error when line is decoded: Expecting value: line 1 column 1 (char 0)\n",
      "Error when line is decoded: Expecting ',' delimiter: line 1 column 325 (char 324)\n",
      "Error when line is decoded: Expecting ':' delimiter: line 1 column 143 (char 142)\n",
      "Error when line is decoded: Expecting value: line 1 column 1 (char 0)\n",
      "Error when line is decoded: Expecting property name enclosed in double quotes: line 1 column 370 (char 369)\n",
      "Error when line is decoded: Expecting ',' delimiter: line 1 column 50 (char 49)\n",
      "Error when line is decoded: Expecting ',' delimiter: line 1 column 293 (char 292)\n",
      "Error when line is decoded: Expecting ':' delimiter: line 1 column 802 (char 801)\n",
      "Error when line is decoded: Expecting ',' delimiter: line 1 column 67 (char 66)\n",
      "Error when line is decoded: Expecting value: line 1 column 1 (char 0)\n",
      "Vocabulary size: 384\n"
     ]
    }
   ],
   "source": [
    "cache_dir = 'F:/wmt19_cache'\n",
    "# wmt_loader = WMTLoader(split=\"train\", cache_dir=cache_dir)\n",
    "# index = 0\n",
    "# source, target = wmt_loader[index]\n",
    "# print(\"Source:\", source)\n",
    "# print(\"Target:\", target)\n",
    "\n",
    "# use drive in which to save dataset in cache\n",
    "tokenized_source_texts, tokenized_target_texts = wmt_json_loader.load_and_tokenize(\n",
    "    'F:\\\\wmt19_json\\\\wmt_19_de_en.json')\n",
    "src = tokenized_source_texts\n",
    "trgt = tokenized_target_texts\n",
    "vocab_size = len(wmt_json_loader.tokenizer.get_vocab())\n",
    "print(f\"Vocabulary size: {vocab_size}\")"
   ],
   "metadata": {
    "collapsed": false,
    "ExecuteTime": {
     "end_time": "2024-06-24T22:08:28.500479Z",
     "start_time": "2024-06-24T22:02:11.512456Z"
    }
   },
   "id": "2cb4cf49e4c46a03",
   "execution_count": 13
  },
  {
   "cell_type": "code",
   "outputs": [
    {
     "name": "stdout",
     "output_type": "stream",
     "text": [
      "[tensor([ 90, 108, 104, 103, 104, 117, 100, 120, 105, 113, 100, 107, 112, 104,\n",
      "         35, 103, 104, 117,  35,  86, 108, 119, 125, 120, 113, 106, 118, 115,\n",
      "        104, 117, 108, 114, 103, 104,   1,   0,   0,   0,   0,   0,   0,   0,\n",
      "          0,   0,   0,   0,   0,   0,   0,   0,   0,   0,   0,   0,   0,   0,\n",
      "          0,   0,   0,   0,   0,   0,   0,   0,   0,   0,   0,   0,   0,   0,\n",
      "          0,   0,   0,   0,   0,   0,   0,   0,   0,   0,   0,   0,   0,   0,\n",
      "          0,   0,   0,   0,   0,   0,   0,   0,   0,   0,   0,   0,   0,   0,\n",
      "          0,   0,   0,   0,   0,   0,   0,   0,   0,   0,   0,   0,   0,   0,\n",
      "          0,   0,   0,   0,   0,   0,   0,   0,   0,   0,   0,   0,   0,   0,\n",
      "          0,   0])]\n"
     ]
    }
   ],
   "source": [
    "print(src[:1])"
   ],
   "metadata": {
    "collapsed": false,
    "ExecuteTime": {
     "end_time": "2024-06-24T22:08:28.506540Z",
     "start_time": "2024-06-24T22:08:28.501478600Z"
    }
   },
   "id": "3da6107dbdf4562d",
   "execution_count": 14
  },
  {
   "cell_type": "code",
   "outputs": [
    {
     "name": "stdout",
     "output_type": "stream",
     "text": [
      "[tensor([ 85, 104, 118, 120, 112, 115, 119, 108, 114, 113,  35, 114, 105,  35,\n",
      "        119, 107, 104,  35, 118, 104, 118, 118, 108, 114, 113,   1,   0,   0,\n",
      "          0,   0,   0,   0,   0,   0,   0,   0,   0,   0,   0,   0,   0,   0,\n",
      "          0,   0,   0,   0,   0,   0,   0,   0,   0,   0,   0,   0,   0,   0,\n",
      "          0,   0,   0,   0,   0,   0,   0,   0,   0,   0,   0,   0,   0,   0,\n",
      "          0,   0,   0,   0,   0,   0,   0,   0,   0,   0,   0,   0,   0,   0,\n",
      "          0,   0,   0,   0,   0,   0,   0,   0,   0,   0,   0,   0,   0,   0,\n",
      "          0,   0,   0,   0,   0,   0,   0,   0,   0,   0,   0,   0,   0,   0,\n",
      "          0,   0,   0,   0,   0,   0,   0,   0,   0,   0,   0,   0,   0,   0,\n",
      "          0,   0]), tensor([ 76,  35, 103, 104, 102, 111, 100, 117, 104,  35, 117, 104, 118, 120,\n",
      "        112, 104, 103,  35, 119, 107, 104,  35, 118, 104, 118, 118, 108, 114,\n",
      "        113,  35, 114, 105,  35, 119, 107, 104,  35,  72, 120, 117, 114, 115,\n",
      "        104, 100, 113,  35,  83, 100, 117, 111, 108, 100, 112, 104, 113, 119,\n",
      "         35, 100, 103, 109, 114, 120, 117, 113, 104, 103,  35, 114, 113,  35,\n",
      "         73, 117, 108, 103, 100, 124,  47,  35,  52,  56,  35,  71, 104, 102,\n",
      "        104, 112, 101, 104, 117,  35,  53,  51,  51,  51,  49,   1,   0,   0,\n",
      "          0,   0,   0,   0,   0,   0,   0,   0,   0,   0,   0,   0,   0,   0,\n",
      "          0,   0,   0,   0,   0,   0,   0,   0,   0,   0,   0,   0,   0,   0,\n",
      "          0,   0]), tensor([ 86, 119, 100, 119, 104, 112, 104, 113, 119, 118,  35, 101, 124,  35,\n",
      "        119, 107, 104,  35,  83, 117, 104, 118, 108, 103, 104, 113, 119,   1,\n",
      "          0,   0,   0,   0,   0,   0,   0,   0,   0,   0,   0,   0,   0,   0,\n",
      "          0,   0,   0,   0,   0,   0,   0,   0,   0,   0,   0,   0,   0,   0,\n",
      "          0,   0,   0,   0,   0,   0,   0,   0,   0,   0,   0,   0,   0,   0,\n",
      "          0,   0,   0,   0,   0,   0,   0,   0,   0,   0,   0,   0,   0,   0,\n",
      "          0,   0,   0,   0,   0,   0,   0,   0,   0,   0,   0,   0,   0,   0,\n",
      "          0,   0,   0,   0,   0,   0,   0,   0,   0,   0,   0,   0,   0,   0,\n",
      "          0,   0,   0,   0,   0,   0,   0,   0,   0,   0,   0,   0,   0,   0,\n",
      "          0,   0]), tensor([ 79, 100, 103, 108, 104, 118,  35, 100, 113, 103,  35, 106, 104, 113,\n",
      "        119, 111, 104, 112, 104, 113,  47,  35, 114, 113,  35,  86, 100, 119,\n",
      "        120, 117, 103, 100, 124,  47,  35, 100, 118,  35, 124, 114, 120,  35,\n",
      "        110, 113, 114, 122,  47,  35, 100, 113,  35, 104, 100, 117, 119, 107,\n",
      "        116, 120, 100, 110, 104,  35, 118, 119, 117, 120, 102, 110,  35,  70,\n",
      "        104, 113, 119, 117, 100, 111,  35,  68, 112, 104, 117, 108, 102, 100,\n",
      "         35, 114, 113, 102, 104,  35, 100, 106, 100, 108, 113,  47,  35, 122,\n",
      "        108, 119, 107,  35, 119, 117, 100, 106, 108, 102,  35, 102, 114, 113,\n",
      "        118, 104, 116, 120, 104, 113, 102, 104, 118,  49,  35,  87, 107, 108,\n",
      "        118,   1]), tensor([ 87, 107, 104,  35, 111, 100, 119, 104, 118, 119,  47,  35, 115, 117,\n",
      "        114, 121, 108, 118, 108, 114, 113, 100, 111,  47,  35, 105, 108, 106,\n",
      "        120, 117, 104, 118,  35, 105, 114, 117,  35, 121, 108, 102, 119, 108,\n",
      "        112, 118,  35, 108, 113,  35,  72, 111,  35,  86, 100, 111, 121, 100,\n",
      "        103, 114, 117,  35, 100, 117, 104,  35, 100, 111, 117, 104, 100, 103,\n",
      "        124,  35, 121, 104, 117, 124,  35, 107, 108, 106, 107,  49,  35,  87,\n",
      "        107, 104, 117, 104,  35, 100, 117, 104,  35,  54,  56,  51,  35, 115,\n",
      "        104, 114, 115, 111, 104,  35, 103, 104, 100, 103,  47,  35,  52,  35,\n",
      "         53,  51,  51,  35, 115, 104, 114, 115, 111, 104,  35, 112, 108, 118,\n",
      "        118,   1]), tensor([ 87, 107, 104,  35,  72, 120, 117, 114, 115, 104, 100, 113,  35,  88,\n",
      "        113, 108, 114, 113,  35, 107, 100, 118,  35, 100, 111, 117, 104, 100,\n",
      "        103, 124,  35, 118, 107, 114, 122, 113,  35, 108, 119, 118,  35, 118,\n",
      "        114, 111, 108, 103, 100, 117, 108, 119, 124,  35, 101, 124,  35, 118,\n",
      "        104, 113, 103, 108, 113, 106,  35, 100,  35, 117, 104, 118, 102, 120,\n",
      "        104,  35, 119, 104, 100, 112,  35, 119, 114,  35, 119, 107, 104,  35,\n",
      "        100, 117, 104, 100,  47,  35, 122, 107, 108, 111, 118, 119,  35, 105,\n",
      "        108, 113, 100, 113, 102, 108, 100, 111,  35, 100, 118, 118, 108, 118,\n",
      "        119, 100, 113, 102, 104,  35, 105, 117, 114, 112,  35, 119, 107, 104,\n",
      "         35,   1]), tensor([ 75, 114, 122, 104, 121, 104, 117,  47,  35,  76,  35, 118, 107, 114,\n",
      "        120, 111, 103,  35, 111, 108, 110, 104,  35, 119, 114,  35, 108, 113,\n",
      "        105, 114, 117, 112,  35, 124, 114, 120,  35, 119, 107, 100, 119,  35,\n",
      "         76,  35, 107, 100, 121, 104,  47,  35, 114, 105,  35, 102, 114, 120,\n",
      "        117, 118, 104,  47,  35, 114, 113,  35, 101, 104, 107, 100, 111, 105,\n",
      "         35, 114, 105,  35, 119, 107, 104,  35,  72, 120, 117, 114, 115, 104,\n",
      "        100, 113,  35,  88, 113, 108, 114, 113,  47,  35, 104, 123, 115, 117,\n",
      "        104, 118, 118, 104, 103,  35, 114, 120, 117,  35, 118, 108, 113, 102,\n",
      "        104, 117, 104,  35, 102, 114, 113, 103, 114, 111, 104, 113, 102, 104,\n",
      "        118,   1]), tensor([ 76,  35, 122, 114, 120, 111, 103,  35, 100, 118, 110,  35, 124, 114,\n",
      "        120,  47,  35, 100, 118,  35, 100,  35, 112, 100, 117, 110,  35, 114,\n",
      "        105,  35, 117, 104, 118, 115, 104, 102, 119,  35, 105, 114, 117,  35,\n",
      "        119, 107, 104,  35, 121, 108, 102, 119, 108, 112, 118,  35, 100, 113,\n",
      "        103,  35, 105, 114, 117,  35, 119, 107, 104,  35, 108, 112, 112, 104,\n",
      "        113, 118, 104,  35, 118, 120, 105, 105, 104, 117, 108, 113, 106,  35,\n",
      "        114, 105,  35, 119, 107, 104, 108, 117,  35, 105, 100, 112, 108, 111,\n",
      "        108, 104, 118,  47,  35, 119, 114,  35, 114, 101, 118, 104, 117, 121,\n",
      "        104,  35, 100,  35, 112, 108, 113, 120, 119, 104,  42,  35, 118,  35,\n",
      "        118,   1]), tensor([ 43,  87, 107, 104,  35,  75, 114, 120, 118, 104,  35, 117, 114, 118,\n",
      "        104,  35, 100, 113, 103,  35, 114, 101, 118, 104, 117, 121, 104, 103,\n",
      "         35, 100,  35, 112, 108, 113, 120, 119, 104,  42,  35, 118,  35, 118,\n",
      "        108, 111, 104, 113, 102, 104,  44,   1,   0,   0,   0,   0,   0,   0,\n",
      "          0,   0,   0,   0,   0,   0,   0,   0,   0,   0,   0,   0,   0,   0,\n",
      "          0,   0,   0,   0,   0,   0,   0,   0,   0,   0,   0,   0,   0,   0,\n",
      "          0,   0,   0,   0,   0,   0,   0,   0,   0,   0,   0,   0,   0,   0,\n",
      "          0,   0,   0,   0,   0,   0,   0,   0,   0,   0,   0,   0,   0,   0,\n",
      "          0,   0,   0,   0,   0,   0,   0,   0,   0,   0,   0,   0,   0,   0,\n",
      "          0,   0]), tensor([ 83, 117, 104, 118, 108, 103, 104, 113, 119,  49,   1,   0,   0,   0,\n",
      "          0,   0,   0,   0,   0,   0,   0,   0,   0,   0,   0,   0,   0,   0,\n",
      "          0,   0,   0,   0,   0,   0,   0,   0,   0,   0,   0,   0,   0,   0,\n",
      "          0,   0,   0,   0,   0,   0,   0,   0,   0,   0,   0,   0,   0,   0,\n",
      "          0,   0,   0,   0,   0,   0,   0,   0,   0,   0,   0,   0,   0,   0,\n",
      "          0,   0,   0,   0,   0,   0,   0,   0,   0,   0,   0,   0,   0,   0,\n",
      "          0,   0,   0,   0,   0,   0,   0,   0,   0,   0,   0,   0,   0,   0,\n",
      "          0,   0,   0,   0,   0,   0,   0,   0,   0,   0,   0,   0,   0,   0,\n",
      "          0,   0,   0,   0,   0,   0,   0,   0,   0,   0,   0,   0,   0,   0,\n",
      "          0,   0]), tensor([ 87, 117, 100, 106, 108, 102, 100, 111, 111, 124,  47,  35, 114, 113,\n",
      "         35,  54,  52,  35,  71, 104, 102, 104, 112, 101, 104, 117,  47,  35,\n",
      "        100,  35, 103, 100, 124,  35, 119, 107, 100, 119,  35, 112, 114, 118,\n",
      "        119,  35, 114, 105,  35, 120, 118,  35, 102, 114, 112, 112, 104, 112,\n",
      "        114, 117, 100, 119, 104,  35, 122, 108, 119, 107,  35, 102, 104, 111,\n",
      "        104, 101, 117, 100, 119, 108, 114, 113,  47,  35, 101, 104, 102, 100,\n",
      "        112, 104,  35, 100,  35, 103, 100, 124,  35, 114, 105,  35, 112, 114,\n",
      "        120, 117, 113, 108, 113, 106,  35, 105, 114, 117,  35, 119, 107, 104,\n",
      "         35, 105, 100, 112, 108, 111, 108, 104, 118,  35, 114, 105,  35,  89,\n",
      "        114,   1]), tensor([ 76,  35, 118, 107, 114, 120, 111, 103,  35, 111, 108, 110, 104,  47,\n",
      "         35, 114, 113,  35, 101, 104, 107, 100, 111, 105,  35, 114, 105,  35,\n",
      "        119, 107, 104,  35,  72, 120, 117, 114, 115, 104, 100, 113,  35,  83,\n",
      "        100, 117, 111, 108, 100, 112, 104, 113, 119,  47,  35, 119, 114,  35,\n",
      "        104, 123, 115, 117, 104, 118, 118,  35, 114, 120, 117,  35, 118, 124,\n",
      "        112, 115, 100, 119, 107, 124,  35, 119, 114,  35, 119, 107, 104,  35,\n",
      "        115, 100, 117, 104, 113, 119, 118,  35, 100, 113, 103,  35, 105, 100,\n",
      "        112, 108, 111, 108, 104, 118,  35, 114, 105,  35, 119, 107, 104,  35,\n",
      "        121, 108, 102, 119, 108, 112, 118,  49,   1,   0,   0,   0,   0,   0,\n",
      "          0,   0]), tensor([ 76,  35, 118, 107, 114, 120, 111, 103,  35, 100, 111, 118, 114,  35,\n",
      "        111, 108, 110, 104,  35, 119, 114,  35, 122, 108, 118, 107,  35, 119,\n",
      "        107, 104,  35,  52,  59,  51,  35, 115, 104, 114, 115, 111, 104,  35,\n",
      "        108, 113, 109, 120, 117, 104, 103,  35, 108, 113,  35, 119, 107, 108,\n",
      "        118,  35, 100, 122, 105, 120, 111,  35, 105, 108, 117, 104,  35, 100,\n",
      "         35, 118, 115, 104, 104, 103, 124,  35, 117, 104, 102, 114, 121, 104,\n",
      "        117, 124,  49,   1,   0,   0,   0,   0,   0,   0,   0,   0,   0,   0,\n",
      "          0,   0,   0,   0,   0,   0,   0,   0,   0,   0,   0,   0,   0,   0,\n",
      "          0,   0,   0,   0,   0,   0,   0,   0,   0,   0,   0,   0,   0,   0,\n",
      "          0,   0]), tensor([ 76,  35, 118, 107, 114, 120, 111, 103,  35, 113, 114, 119,  35, 105,\n",
      "        114, 117, 106, 104, 119,  35, 119, 107, 100, 119,  35, 112, 100, 113,\n",
      "        124,  35, 115, 111, 100, 102, 104, 118,  47,  35, 122, 107, 104, 117,\n",
      "        104,  35, 109, 114, 124, 105, 120, 111,  35, 102, 104, 111, 104, 101,\n",
      "        117, 100, 119, 108, 114, 113, 118,  35, 100, 117, 104,  35, 100, 111,\n",
      "        118, 114,  35, 107, 104, 111, 103,  47,  35, 100, 117, 104,  35, 100,\n",
      "        111, 111,  35, 119, 114, 114,  35, 114, 105, 119, 104, 113,  35, 119,\n",
      "        117, 100, 113, 118, 105, 114, 117, 112, 104, 103,  35, 101, 124,  35,\n",
      "        118, 100, 103, 113, 104, 118, 118,  35, 100, 113, 103,  35, 112, 114,\n",
      "        120,   1]), tensor([ 76, 119,  35, 108, 118,  35, 108, 113,  35, 119, 107, 104,  35, 118,\n",
      "        100, 112, 104,  35, 118, 115, 108, 117, 108, 119,  35, 119, 107, 100,\n",
      "        119,  35,  76,  35, 118, 107, 114, 120, 111, 103,  35, 111, 108, 110,\n",
      "        104,  35, 119, 114,  35, 104, 123, 115, 117, 104, 118, 118,  35, 112,\n",
      "        124,  35, 102, 114, 113, 103, 114, 111, 104, 113, 102, 104, 118,  35,\n",
      "        119, 114,  35, 119, 107, 104,  35, 105, 100, 112, 108, 111, 108, 104,\n",
      "        118,  35, 114, 105,  35, 119, 107, 104,  35,  54,  51,  60,  35, 121,\n",
      "        108, 102, 119, 108, 112, 118,  35, 114, 105,  35, 119, 107, 104,  35,\n",
      "        105, 108, 117, 104,  35, 100, 119,  35, 100,  35, 103, 108, 118, 102,\n",
      "        114,   1]), tensor([ 43,  87, 107, 104,  35,  75, 114, 120, 118, 104,  35, 117, 114, 118,\n",
      "        104,  35, 100, 113, 103,  35, 114, 101, 118, 104, 117, 121, 104, 103,\n",
      "         35, 100,  35, 112, 108, 113, 120, 119, 104,  42,  35, 118,  35, 118,\n",
      "        108, 111, 104, 113, 102, 104,  44,   1,   0,   0,   0,   0,   0,   0,\n",
      "          0,   0,   0,   0,   0,   0,   0,   0,   0,   0,   0,   0,   0,   0,\n",
      "          0,   0,   0,   0,   0,   0,   0,   0,   0,   0,   0,   0,   0,   0,\n",
      "          0,   0,   0,   0,   0,   0,   0,   0,   0,   0,   0,   0,   0,   0,\n",
      "          0,   0,   0,   0,   0,   0,   0,   0,   0,   0,   0,   0,   0,   0,\n",
      "          0,   0,   0,   0,   0,   0,   0,   0,   0,   0,   0,   0,   0,   0,\n",
      "          0,   0]), tensor([ 83, 117, 104, 118, 108, 103, 104, 113, 119,  49,   1,   0,   0,   0,\n",
      "          0,   0,   0,   0,   0,   0,   0,   0,   0,   0,   0,   0,   0,   0,\n",
      "          0,   0,   0,   0,   0,   0,   0,   0,   0,   0,   0,   0,   0,   0,\n",
      "          0,   0,   0,   0,   0,   0,   0,   0,   0,   0,   0,   0,   0,   0,\n",
      "          0,   0,   0,   0,   0,   0,   0,   0,   0,   0,   0,   0,   0,   0,\n",
      "          0,   0,   0,   0,   0,   0,   0,   0,   0,   0,   0,   0,   0,   0,\n",
      "          0,   0,   0,   0,   0,   0,   0,   0,   0,   0,   0,   0,   0,   0,\n",
      "          0,   0,   0,   0,   0,   0,   0,   0,   0,   0,   0,   0,   0,   0,\n",
      "          0,   0,   0,   0,   0,   0,   0,   0,   0,   0,   0,   0,   0,   0,\n",
      "          0,   0]), tensor([ 79, 100, 103, 108, 104, 118,  35, 100, 113, 103,  35, 106, 104, 113,\n",
      "        119, 111, 104, 112, 104, 113,  47,  35,  76,  35, 107, 100, 103,  35,\n",
      "        122, 108, 118, 107, 104, 103,  47,  35, 100, 118,  35, 104, 121, 104,\n",
      "        117, 124, 114, 113, 104,  35, 107, 100, 103,  47,  35, 119, 107, 100,\n",
      "        119,  35, 122, 104,  35, 122, 114, 120, 111, 103,  35, 101, 104,  35,\n",
      "        100, 101, 111, 104,  35, 119, 114,  35, 114, 115, 104, 113,  35, 114,\n",
      "        120, 117,  35, 105, 108, 117, 118, 119,  35, 115, 100, 117, 119,  48,\n",
      "        118, 104, 118, 118, 108, 114, 113,  35, 114, 105,  35, 119, 107, 104,\n",
      "         35, 124, 104, 100, 117,  35, 122, 108, 119, 107, 114, 120, 119,  35,\n",
      "        107,   1]), tensor([ 88, 113, 105, 114, 117, 119, 120, 113, 100, 119, 104, 111, 124,  47,\n",
      "         35, 114, 113,  35,  53,  51,  35,  71, 104, 102, 104, 112, 101, 104,\n",
      "        117,  47,  35,  77, 120, 100, 113,  35,  80, 108, 106, 120, 104, 111,\n",
      "         35,  74, 104, 117, 121, 108, 111, 111, 100,  47,  35, 100,  35, 115,\n",
      "        114, 111, 108, 102, 104,  35, 114, 105, 105, 108, 102, 104, 117,  35,\n",
      "        108, 113,  35,  69, 100, 117, 102, 104, 111, 114, 113, 100,  47,  35,\n",
      "        122, 100, 118,  35, 110, 108, 111, 111, 104, 103,  35, 101, 124,  35,\n",
      "        119, 104, 117, 117, 114, 117, 108, 118, 119, 118,  49,   1,   0,   0,\n",
      "          0,   0,   0,   0,   0,   0,   0,   0,   0,   0,   0,   0,   0,   0,\n",
      "          0,   0]), tensor([ 75, 104,  35, 107, 100, 103,  35, 103, 108, 118, 119, 120, 117, 101,\n",
      "        104, 103,  35, 107, 108, 118,  35, 110, 108, 111, 111, 104, 117, 118,\n",
      "         35, 100, 118,  35, 119, 107, 104, 124,  35, 122, 104, 117, 104,  35,\n",
      "        115, 117, 104, 115, 100, 117, 108, 113, 106,  35, 100, 113,  35, 100,\n",
      "        119, 119, 100, 102, 110,  49,   1,   0,   0,   0,   0,   0,   0,   0,\n",
      "          0,   0,   0,   0,   0,   0,   0,   0,   0,   0,   0,   0,   0,   0,\n",
      "          0,   0,   0,   0,   0,   0,   0,   0,   0,   0,   0,   0,   0,   0,\n",
      "          0,   0,   0,   0,   0,   0,   0,   0,   0,   0,   0,   0,   0,   0,\n",
      "          0,   0,   0,   0,   0,   0,   0,   0,   0,   0,   0,   0,   0,   0,\n",
      "          0,   0]), tensor([ 75, 108, 118,  35, 102, 114, 120, 117, 100, 106, 104, 114, 120, 118,\n",
      "         35, 100, 102, 119, 108, 114, 113, 118,  35, 120, 113, 105, 114, 117,\n",
      "        119, 120, 113, 100, 119, 104, 111, 124,  35, 102, 114, 118, 119,  35,\n",
      "        107, 108, 112,  35, 107, 108, 118,  35, 111, 108, 105, 104,  35, 101,\n",
      "        120, 119,  35, 120, 113, 103, 114, 120, 101, 119, 104, 103, 111, 124,\n",
      "         35, 100, 111, 118, 114,  35, 118, 100, 121, 104, 103,  35, 112, 100,\n",
      "        113, 124,  35, 114, 119, 107, 104, 117, 118,  49,   1,   0,   0,   0,\n",
      "          0,   0,   0,   0,   0,   0,   0,   0,   0,   0,   0,   0,   0,   0,\n",
      "          0,   0,   0,   0,   0,   0,   0,   0,   0,   0,   0,   0,   0,   0,\n",
      "          0,   0]), tensor([ 87, 107, 108, 118,  35, 108, 118,  35, 122, 107, 124,  35,  76,  35,\n",
      "        122, 114, 120, 111, 103,  35, 111, 108, 110, 104,  35, 119, 114,  35,\n",
      "        115, 100, 124,  35, 119, 117, 108, 101, 120, 119, 104,  35, 119, 114,\n",
      "         35, 107, 108, 112,  35, 108, 113,  35, 115, 100, 117, 119, 108, 102,\n",
      "        120, 111, 100, 117,  35, 100, 113, 103,  35,  76,  35, 122, 114, 120,\n",
      "        111, 103,  35, 100, 118, 110,  35, 124, 114, 120,  35, 100, 106, 100,\n",
      "        108, 113,  35, 119, 114,  35, 114, 101, 118, 104, 117, 121, 104,  35,\n",
      "        100,  35, 112, 108, 113, 120, 119, 104,  42,  35, 118,  35, 118, 108,\n",
      "        111, 104, 113, 102, 104,  49,   1,   0,   0,   0,   0,   0,   0,   0,\n",
      "          0,   0]), tensor([ 43,  87, 107, 104,  35,  75, 114, 120, 118, 104,  35, 117, 114, 118,\n",
      "        104,  35, 100, 113, 103,  35, 114, 101, 118, 104, 117, 121, 104, 103,\n",
      "         35, 100,  35, 112, 108, 113, 120, 119, 104,  42,  35, 118,  35, 118,\n",
      "        108, 111, 104, 113, 102, 104,  44,   1,   0,   0,   0,   0,   0,   0,\n",
      "          0,   0,   0,   0,   0,   0,   0,   0,   0,   0,   0,   0,   0,   0,\n",
      "          0,   0,   0,   0,   0,   0,   0,   0,   0,   0,   0,   0,   0,   0,\n",
      "          0,   0,   0,   0,   0,   0,   0,   0,   0,   0,   0,   0,   0,   0,\n",
      "          0,   0,   0,   0,   0,   0,   0,   0,   0,   0,   0,   0,   0,   0,\n",
      "          0,   0,   0,   0,   0,   0,   0,   0,   0,   0,   0,   0,   0,   0,\n",
      "          0,   0]), tensor([ 85, 104, 105, 104, 117, 117, 100, 111,  35, 101, 100, 102, 110,  35,\n",
      "        119, 114,  35, 102, 114, 112, 112, 108, 119, 119, 104, 104,   1,   0,\n",
      "          0,   0,   0,   0,   0,   0,   0,   0,   0,   0,   0,   0,   0,   0,\n",
      "          0,   0,   0,   0,   0,   0,   0,   0,   0,   0,   0,   0,   0,   0,\n",
      "          0,   0,   0,   0,   0,   0,   0,   0,   0,   0,   0,   0,   0,   0,\n",
      "          0,   0,   0,   0,   0,   0,   0,   0,   0,   0,   0,   0,   0,   0,\n",
      "          0,   0,   0,   0,   0,   0,   0,   0,   0,   0,   0,   0,   0,   0,\n",
      "          0,   0,   0,   0,   0,   0,   0,   0,   0,   0,   0,   0,   0,   0,\n",
      "          0,   0,   0,   0,   0,   0,   0,   0,   0,   0,   0,   0,   0,   0,\n",
      "          0,   0]), tensor([ 90, 108, 119, 107,  35, 117, 104, 106, 100, 117, 103,  35, 119, 114,\n",
      "         35, 119, 107, 104,  35, 117, 104, 115, 114, 117, 119,  35, 101, 124,\n",
      "         35,  80, 117,  35,  70, 100, 118, 107, 112, 100, 113,  35, 114, 113,\n",
      "         35, 115, 120, 101, 111, 108, 102,  35, 100, 102, 102, 104, 118, 118,\n",
      "         35, 119, 114,  35,  83, 100, 117, 111, 108, 100, 112, 104, 113, 119,\n",
      "         47,  35,  70, 114, 120, 113, 102, 108, 111,  35, 100, 113, 103,  35,\n",
      "         70, 114, 112, 112, 108, 118, 118, 108, 114, 113,  35, 103, 114, 102,\n",
      "        120, 112, 104, 113, 119, 118,  47,  35, 105, 114, 117,  35, 122, 107,\n",
      "        108, 102, 107,  35, 119, 107, 104,  35, 121, 114, 119, 104,  35, 114,\n",
      "        113,   1]), tensor([ 87, 107, 108, 118,  35, 108, 118,  35, 122, 107, 124,  35, 108, 119,\n",
      "         35, 107, 100, 118,  35, 117, 104, 116, 120, 104, 118, 119, 104, 103,\n",
      "         35, 119, 107, 100, 119,  35, 108, 119,  35, 101, 104,  35, 117, 104,\n",
      "        105, 104, 117, 117, 104, 103,  35, 101, 100, 102, 110,  35, 119, 114,\n",
      "         35, 102, 114, 112, 112, 108, 119, 119, 104, 104,  35, 115, 120, 117,\n",
      "        118, 120, 100, 113, 119,  35, 119, 114,  35,  85, 120, 111, 104,  35,\n",
      "         52,  55,  55,  43,  52,  44,  35, 114, 105,  35, 119, 107, 104,  35,\n",
      "         85, 120, 111, 104, 118,  35, 114, 105,  35,  83, 117, 114, 102, 104,\n",
      "        103, 120, 117, 104,  49,   1,   0,   0,   0,   0,   0,   0,   0,   0,\n",
      "          0,   0]), tensor([ 76,  35, 118, 107, 100, 111, 111,  35, 113, 114, 122,  35, 106, 108,\n",
      "        121, 104,  35, 119, 107, 104,  35, 105, 111, 114, 114, 117,  35, 119,\n",
      "        114,  35,  80, 117,  35,  90, 100, 119, 118, 114, 113,  47,  35,  70,\n",
      "        107, 100, 108, 117, 112, 100, 113,  35, 114, 105,  35, 119, 107, 108,\n",
      "        118,  35, 102, 114, 112, 112, 108, 119, 119, 104, 104,  47,  35, 118,\n",
      "        114,  35, 119, 107, 100, 119,  35, 107, 104,  35, 102, 100, 113,  35,\n",
      "        115, 117, 104, 118, 104, 113, 119,  35, 119, 107, 104,  35, 117, 104,\n",
      "        116, 120, 104, 118, 119,  35, 114, 113,  35, 108, 119, 118,  35, 101,\n",
      "        104, 107, 100, 111, 105,  49,   1,   0,   0,   0,   0,   0,   0,   0,\n",
      "          0,   0]), tensor([ 80, 100, 103, 100, 112,  35,  83, 117, 104, 118, 108, 103, 104, 113,\n",
      "        119,  47,  35, 119, 107, 104,  35,  75, 114, 120, 118, 104,  35, 110,\n",
      "        108, 113, 103, 111, 124,  35, 100, 106, 117, 104, 104, 103,  35, 114,\n",
      "        113,  35,  52,  57,  35,  81, 114, 121, 104, 112, 101, 104, 117,  35,\n",
      "        119, 114,  35, 100,  35, 117, 104, 116, 120, 104, 118, 119,  35, 105,\n",
      "        117, 114, 112,  35, 119, 107, 104,  35, 102, 114, 112, 112, 108, 119,\n",
      "        119, 104, 104,  35, 122, 107, 108, 102, 107,  35,  76,  35, 107, 100,\n",
      "        121, 104,  35, 119, 107, 104,  35, 107, 114, 113, 114, 120, 117,  35,\n",
      "        119, 114,  35, 102, 107, 100, 108, 117,  35, 119, 114,  35, 103, 104,\n",
      "        111,   1]), tensor([ 87, 107, 100, 119,  35, 103, 104, 111, 100, 124,  35, 122, 100, 118,\n",
      "         35, 108, 113, 119, 104, 113, 103, 104, 103,  35, 119, 114,  35, 100,\n",
      "        111, 111, 114, 122,  35, 119, 108, 112, 104,  35, 105, 114, 117,  35,\n",
      "        119, 107, 104,  35, 114, 119, 107, 104, 117,  35, 108, 113, 118, 119,\n",
      "        108, 119, 120, 119, 108, 114, 113, 118,  35, 119, 114,  35, 102, 114,\n",
      "        113, 118, 108, 103, 104, 117,  35, 114, 120, 117,  35, 100, 112, 104,\n",
      "        113, 103, 112, 104, 113, 119, 118,  35, 100, 113, 103,  35, 105, 114,\n",
      "        117,  35, 119, 107, 104,  35,  70, 114, 112, 112, 108, 118, 118, 108,\n",
      "        114, 113,  35, 119, 114,  35, 105, 114, 117, 112, 120, 111, 100, 119,\n",
      "        104,   1]), tensor([ 86, 108, 113, 102, 104,  35, 114, 120, 117,  35,  81, 114, 121, 104,\n",
      "        112, 101, 104, 117,  35, 115, 100, 117, 119,  48, 118, 104, 118, 118,\n",
      "        108, 114, 113,  47,  35, 122, 104,  35, 107, 100, 121, 104,  35, 107,\n",
      "        100, 103,  35, 102, 114, 113, 119, 100, 102, 119, 118,  35, 122, 108,\n",
      "        119, 107,  35, 119, 107, 104,  35, 114, 119, 107, 104, 117,  35, 108,\n",
      "        113, 118, 119, 108, 119, 120, 119, 108, 114, 113, 118,  47,  35, 119,\n",
      "        107, 114, 120, 106, 107,  35, 100, 118,  35, 124, 104, 119,  35, 113,\n",
      "        114,  35, 100, 106, 117, 104, 104, 112, 104, 113, 119,  35, 107, 100,\n",
      "        118,  35, 101, 104, 104, 113,  35, 105, 114, 117, 119, 107, 102, 114,\n",
      "        112,   1]), tensor([ 87, 107, 104, 117, 104, 105, 114, 117, 104,  47,  35, 122, 104,  35,\n",
      "        122, 114, 120, 111, 103,  35, 100, 118, 110,  35, 119, 107, 104,  35,\n",
      "         75, 114, 120, 118, 104,  35, 105, 114, 117,  35, 100,  35, 115, 117,\n",
      "        114, 117, 114, 106, 100, 119, 108, 114, 113,  35, 114, 105,  35, 119,\n",
      "        107, 104,  35, 103, 104, 111, 100, 124,  35, 114, 105,  35, 100,  35,\n",
      "        112, 100, 123, 108, 112, 120, 112,  35, 114, 105,  35, 119, 122, 114,\n",
      "         35, 112, 114, 113, 119, 107, 118,  35, 108, 113,  35, 114, 117, 103,\n",
      "        104, 117,  35, 119, 114,  35, 102, 114, 113, 102, 111, 120, 103, 104,\n",
      "         35, 119, 107, 104,  35, 103, 108, 100, 111, 114, 106, 120, 104,  35,\n",
      "        100,   1]), tensor([ 43,  83, 100, 117, 111, 108, 100, 112, 104, 113, 119,  35, 100, 115,\n",
      "        115, 117, 114, 121, 104, 103,  35, 119, 107, 104,  35, 117, 104, 116,\n",
      "        120, 104, 118, 119,  44,   1,   0,   0,   0,   0,   0,   0,   0,   0,\n",
      "          0,   0,   0,   0,   0,   0,   0,   0,   0,   0,   0,   0,   0,   0,\n",
      "          0,   0,   0,   0,   0,   0,   0,   0,   0,   0,   0,   0,   0,   0,\n",
      "          0,   0,   0,   0,   0,   0,   0,   0,   0,   0,   0,   0,   0,   0,\n",
      "          0,   0,   0,   0,   0,   0,   0,   0,   0,   0,   0,   0,   0,   0,\n",
      "          0,   0,   0,   0,   0,   0,   0,   0,   0,   0,   0,   0,   0,   0,\n",
      "          0,   0,   0,   0,   0,   0,   0,   0,   0,   0,   0,   0,   0,   0,\n",
      "          0,   0]), tensor([ 68, 106, 104, 113, 103, 100,   1,   0,   0,   0,   0,   0,   0,   0,\n",
      "          0,   0,   0,   0,   0,   0,   0,   0,   0,   0,   0,   0,   0,   0,\n",
      "          0,   0,   0,   0,   0,   0,   0,   0,   0,   0,   0,   0,   0,   0,\n",
      "          0,   0,   0,   0,   0,   0,   0,   0,   0,   0,   0,   0,   0,   0,\n",
      "          0,   0,   0,   0,   0,   0,   0,   0,   0,   0,   0,   0,   0,   0,\n",
      "          0,   0,   0,   0,   0,   0,   0,   0,   0,   0,   0,   0,   0,   0,\n",
      "          0,   0,   0,   0,   0,   0,   0,   0,   0,   0,   0,   0,   0,   0,\n",
      "          0,   0,   0,   0,   0,   0,   0,   0,   0,   0,   0,   0,   0,   0,\n",
      "          0,   0,   0,   0,   0,   0,   0,   0,   0,   0,   0,   0,   0,   0,\n",
      "          0,   0]), tensor([ 87, 107, 104,  35, 113, 104, 123, 119,  35, 108, 119, 104, 112,  35,\n",
      "        108, 118,  35, 119, 107, 104,  35, 105, 108, 113, 100, 111,  35, 103,\n",
      "        117, 100, 105, 119,  35, 100, 106, 104, 113, 103, 100,  35, 100, 118,\n",
      "         35, 103, 117, 100, 122, 113,  35, 120, 115,  35, 101, 124,  35, 119,\n",
      "        107, 104,  35,  70, 114, 113, 105, 104, 117, 104, 113, 102, 104,  35,\n",
      "        114, 105,  35,  83, 117, 104, 118, 108, 103, 104, 113, 119, 118,  35,\n",
      "        100, 119,  35, 108, 119, 118,  35, 112, 104, 104, 119, 108, 113, 106,\n",
      "         35, 114, 105,  35,  87, 120, 104, 118, 103, 100, 124,  35,  52,  52,\n",
      "         35,  77, 100, 113, 120, 100, 117, 124,  49,   1,   0,   0,   0,   0,\n",
      "          0,   0]), tensor([ 86, 108, 119, 119, 108, 113, 106, 118,  35, 105, 117, 114, 112,  35,\n",
      "         52,  56,  35, 119, 114,  35,  52,  59,  35,  77, 100, 113, 120, 100,\n",
      "        117, 124,  35, 108, 113,  35,  86, 119, 117, 100, 118, 101, 114, 120,\n",
      "        117, 106,  35,  83, 117, 104, 118, 108, 103, 104, 113, 119,  49,   1,\n",
      "          0,   0,   0,   0,   0,   0,   0,   0,   0,   0,   0,   0,   0,   0,\n",
      "          0,   0,   0,   0,   0,   0,   0,   0,   0,   0,   0,   0,   0,   0,\n",
      "          0,   0,   0,   0,   0,   0,   0,   0,   0,   0,   0,   0,   0,   0,\n",
      "          0,   0,   0,   0,   0,   0,   0,   0,   0,   0,   0,   0,   0,   0,\n",
      "          0,   0,   0,   0,   0,   0,   0,   0,   0,   0,   0,   0,   0,   0,\n",
      "          0,   0]), tensor([ 76,  35, 107, 100, 121, 104,  35, 117, 104, 102, 104, 108, 121, 104,\n",
      "        103,  35, 113, 114,  35, 117, 104, 116, 120, 104, 118, 119, 118,  35,\n",
      "        105, 114, 117,  35, 100, 112, 104, 113, 103, 112, 104, 113, 119, 118,\n",
      "         35, 119, 114,  35, 119, 107, 104,  35, 100, 106, 104, 113, 103, 100,\n",
      "         35, 105, 114, 117,  35,  80, 114, 113, 103, 100, 124,  47,  35,  87,\n",
      "        120, 104, 118, 103, 100, 124,  35, 114, 117,  35,  90, 104, 103, 113,\n",
      "        104, 118, 103, 100, 124,  49,   1,   0,   0,   0,   0,   0,   0,   0,\n",
      "          0,   0,   0,   0,   0,   0,   0,   0,   0,   0,   0,   0,   0,   0,\n",
      "          0,   0,   0,   0,   0,   0,   0,   0,   0,   0,   0,   0,   0,   0,\n",
      "          0,   0]), tensor([ 80, 100, 103, 100, 112,  35,  83, 117, 104, 118, 108, 103, 104, 113,\n",
      "        119,  47,  35,  76,  35, 122, 114, 120, 111, 103,  35, 111, 108, 110,\n",
      "        104,  35, 119, 114,  35, 115, 114, 108, 113, 119,  35, 114, 120, 119,\n",
      "         35, 119, 114,  35, 112, 124,  35, 105, 104, 111, 111, 114, 122,  35,\n",
      "         80, 104, 112, 101, 104, 117, 118,  35, 100, 113, 103,  35, 119, 114,\n",
      "         35, 124, 114, 120, 117, 118, 104, 111, 105,  47,  35, 119, 107, 100,\n",
      "        119,  47,  35, 122, 107, 108, 111, 118, 119,  35,  76,  35, 120, 113,\n",
      "        103, 104, 117, 118, 119, 100, 113, 103,  35, 119, 107, 104,  35, 117,\n",
      "        104, 100, 118, 114, 113, 118,  35, 122, 107, 108, 102, 107,  35, 111,\n",
      "        104,   1]), tensor([ 76,  35, 100, 112,  35, 118, 114, 117, 117, 124,  35, 119, 114,  35,\n",
      "        107, 100, 121, 104,  35, 119, 114,  35, 115, 114, 108, 113, 119,  35,\n",
      "        119, 107, 108, 118,  35, 114, 120, 119,  47,  35, 100, 118,  35,  76,\n",
      "         35, 110, 113, 114, 122,  35, 122, 104,  35, 107, 100, 121, 104,  35,\n",
      "        100,  35, 121, 104, 117, 124,  35, 101, 120, 118, 124,  35, 103, 100,\n",
      "        124,  35, 114, 113,  35,  90, 104, 103, 113, 104, 118, 103, 100, 124,\n",
      "         47,  35, 101, 120, 119,  35, 111, 104, 119,  35, 120, 118,  35, 119,\n",
      "        117, 124,  35, 119, 114,  35, 102, 107, 100, 113, 106, 104,  35, 119,\n",
      "        107, 108, 118,  47,  35, 100, 118,  47,  35, 100, 105, 119, 104, 117,\n",
      "         35,   1]), tensor([ 87, 107, 100, 113, 110,  35, 124, 114, 120,  47,  35,  80, 117,  35,\n",
      "         71, 104, 111, 111,  42,  35,  68, 111, 101, 100,  49,   1,   0,   0,\n",
      "          0,   0,   0,   0,   0,   0,   0,   0,   0,   0,   0,   0,   0,   0,\n",
      "          0,   0,   0,   0,   0,   0,   0,   0,   0,   0,   0,   0,   0,   0,\n",
      "          0,   0,   0,   0,   0,   0,   0,   0,   0,   0,   0,   0,   0,   0,\n",
      "          0,   0,   0,   0,   0,   0,   0,   0,   0,   0,   0,   0,   0,   0,\n",
      "          0,   0,   0,   0,   0,   0,   0,   0,   0,   0,   0,   0,   0,   0,\n",
      "          0,   0,   0,   0,   0,   0,   0,   0,   0,   0,   0,   0,   0,   0,\n",
      "          0,   0,   0,   0,   0,   0,   0,   0,   0,   0,   0,   0,   0,   0,\n",
      "          0,   0]), tensor([ 76,  35, 122, 108, 111, 111,  47,  35, 114, 105,  35, 102, 114, 120,\n",
      "        117, 118, 104,  47,  35, 119, 100, 110, 104,  35, 113, 114, 119, 104,\n",
      "         35, 114, 105,  35, 124, 114, 120, 117,  35, 102, 114, 112, 112, 104,\n",
      "        113, 119,  49,   1,   0,   0,   0,   0,   0,   0,   0,   0,   0,   0,\n",
      "          0,   0,   0,   0,   0,   0,   0,   0,   0,   0,   0,   0,   0,   0,\n",
      "          0,   0,   0,   0,   0,   0,   0,   0,   0,   0,   0,   0,   0,   0,\n",
      "          0,   0,   0,   0,   0,   0,   0,   0,   0,   0,   0,   0,   0,   0,\n",
      "          0,   0,   0,   0,   0,   0,   0,   0,   0,   0,   0,   0,   0,   0,\n",
      "          0,   0,   0,   0,   0,   0,   0,   0,   0,   0,   0,   0,   0,   0,\n",
      "          0,   0]), tensor([ 80, 100, 103, 100, 112,  35,  83, 117, 104, 118, 108, 103, 104, 113,\n",
      "        119,  47,  35,  76,  35, 122, 114, 120, 111, 103,  35, 111, 108, 110,\n",
      "        104,  35, 119, 114,  35, 119, 100, 110, 104,  35, 120, 115,  35, 118,\n",
      "        114, 112, 104,  35, 115, 114, 108, 113, 119, 118,  35, 112, 100, 103,\n",
      "        104,  35, 101, 124,  35,  80, 117,  35,  71, 104, 111, 111,  42,  68,\n",
      "        111, 101, 100,  35, 100, 113, 103,  35, 100, 111, 118, 114,  35, 118,\n",
      "        100, 124,  35, 118, 114, 112, 104, 119, 107, 108, 113, 106,  35, 100,\n",
      "        101, 114, 120, 119,  35,  90, 104, 103, 113, 104, 118, 103, 100, 124,\n",
      "         42,  35, 118,  35, 118, 108, 119, 119, 108, 113, 106,  49,   1,   0,\n",
      "          0,   0]), tensor([ 81, 114, 119,  35, 114, 113, 111, 124,  35, 108, 118,  35,  90, 104,\n",
      "        103, 113, 104, 118, 103, 100, 124,  42,  35, 118,  35, 100, 106, 104,\n",
      "        113, 103, 100,  35, 102, 114, 112, 115, 111, 104, 119, 104, 111, 124,\n",
      "         35, 114, 121, 104, 117, 101, 114, 114, 110, 104, 103,  47,  35, 101,\n",
      "        120, 119,  35, 108, 112, 115, 114, 117, 119, 100, 113, 119,  35, 117,\n",
      "        104, 115, 114, 117, 119, 118,  35,  48,  35, 118, 120, 102, 107,  35,\n",
      "        100, 118,  35, 119, 107, 104,  35,  86, 109, 198, 185, 118, 119, 104,\n",
      "        103, 119,  35, 117, 104, 115, 114, 117, 119,  35, 114, 113,  35, 113,\n",
      "        100, 119, 120, 117, 100, 111,  35, 107, 100, 101, 108, 119, 100, 119,\n",
      "        118,   1]), tensor([ 87, 107, 108, 118,  35, 102, 100, 113,  35, 101, 104,  35, 115, 120,\n",
      "        119,  35, 103, 114, 122, 113,  35, 119, 114,  35, 119, 107, 104,  35,\n",
      "        103, 108, 118, 100, 118, 119, 117, 114, 120, 118,  35, 103, 104, 102,\n",
      "        108, 118, 108, 114, 113,  35, 119, 114,  35, 102, 100, 113, 102, 104,\n",
      "        111,  35,  73, 117, 108, 103, 100, 124,  35, 118, 108, 119, 119, 108,\n",
      "        113, 106, 118,  47,  35, 122, 107, 108, 102, 107,  35,  76,  35, 122,\n",
      "        114, 120, 111, 103,  35, 111, 108, 110, 104,  35, 119, 114,  35, 119,\n",
      "        100, 110, 104,  35, 119, 107, 108, 118,  35, 114, 115, 115, 114, 117,\n",
      "        119, 120, 113, 108, 119, 124,  35, 119, 114,  35, 107, 108, 106, 107,\n",
      "        111,   1]), tensor([ 80, 100, 103, 100, 112,  35,  83, 117, 104, 118, 108, 103, 104, 113,\n",
      "        119,  47,  35,  76,  35, 107, 100, 121, 104,  35, 117, 104, 116, 120,\n",
      "        104, 118, 119, 104, 103,  35, 119, 107, 104,  35, 105, 111, 114, 114,\n",
      "        117,  35, 108, 113,  35, 114, 117, 103, 104, 117,  35, 119, 114,  35,\n",
      "        118, 115, 104, 100, 110,  35, 100, 101, 114, 120, 119,  35,  87, 120,\n",
      "        104, 118, 103, 100, 124,  42,  35, 118,  35, 109, 114, 108, 113, 119,\n",
      "         35, 103, 104, 101, 100, 119, 104,  35, 114, 113,  35, 105, 108, 118,\n",
      "        107, 104, 117, 108, 104, 118,  49,   1,   0,   0,   0,   0,   0,   0,\n",
      "          0,   0,   0,   0,   0,   0,   0,   0,   0,   0,   0,   0,   0,   0,\n",
      "          0,   0]), tensor([ 68,  35, 112, 100, 109, 114, 117,  35, 103, 104, 101, 100, 119, 104,\n",
      "         35, 107, 100, 118,  35, 101, 104, 104, 113,  35, 118, 102, 107, 104,\n",
      "        103, 120, 111, 104, 103,  35, 105, 114, 117,  35, 119, 107, 100, 119,\n",
      "         35, 103, 100, 124,  35, 100, 113, 103,  35, 119, 107, 104,  35,  70,\n",
      "        114, 113, 105, 104, 117, 104, 113, 102, 104,  35, 114, 105,  35,  83,\n",
      "        117, 104, 118, 108, 103, 104, 113, 119, 118,  35, 107, 100, 118,  35,\n",
      "        103, 104, 102, 108, 103, 104, 103,  35, 119, 114,  35, 108, 113, 102,\n",
      "        111, 120, 103, 104,  35, 100,  35,  70, 114, 112, 112, 108, 118, 118,\n",
      "        108, 114, 113,  35, 118, 119, 100, 119, 104, 112, 104, 113, 119,  35,\n",
      "        114,   1]), tensor([ 68, 118,  35, 124, 114, 120,  35, 110, 113, 114, 122,  47,  35, 119,\n",
      "        107, 108, 118,  35, 108, 118,  35, 100,  35, 121, 104, 117, 124,  35,\n",
      "        118, 104, 113, 118, 108, 119, 108, 121, 104,  35, 108, 118, 118, 120,\n",
      "        104,  35, 100, 113, 103,  35,  76,  35, 122, 114, 120, 111, 103,  35,\n",
      "        100, 118, 110,  35, 124, 114, 120,  35, 119, 114,  35, 102, 111, 100,\n",
      "        117, 108, 105, 124,  35, 100,  35, 105, 104, 122,  35, 119, 107, 108,\n",
      "        113, 106, 118,  47,  35, 100, 118,  35, 119, 107, 104,  35, 108, 113,\n",
      "        102, 111, 120, 118, 108, 114, 113,  35, 114, 105,  35, 119, 107, 108,\n",
      "        118,  35, 108, 118, 118, 120, 104,  35, 112, 100, 124,  35, 118, 114,\n",
      "        112,   1]), tensor([ 76,  35, 122, 114, 120, 111, 103,  35, 100, 118, 110,  35, 124, 114,\n",
      "        120,  35, 105, 108, 117, 118, 119,  35, 114, 105,  35, 100, 111, 111,\n",
      "         35, 119, 114,  35, 118, 119, 100, 119, 104,  35, 100, 119,  35, 122,\n",
      "        107, 114, 118, 104,  35, 101, 104, 107, 104, 118, 119,  35, 119, 107,\n",
      "        108, 118,  35, 122, 100, 118,  35, 108, 113, 102, 111, 120, 103, 104,\n",
      "        103,  47,  35, 108, 113,  35, 114, 119, 107, 104, 117,  35, 122, 114,\n",
      "        117, 103, 118,  47,  35, 122, 107, 104, 119, 107, 104, 117,  35, 108,\n",
      "        119,  35, 122, 100, 118,  35, 119, 107, 104,  35,  70, 114, 112, 112,\n",
      "        108, 118, 118, 108, 114, 113,  35, 108, 119, 118, 104, 111, 105,  35,\n",
      "        119,   1]), tensor([ 73, 120, 117, 119, 107, 104, 117, 112, 114, 117, 104,  47,  35, 108,\n",
      "        113,  35, 100, 102, 102, 114, 117, 103, 100, 113, 102, 104,  35, 122,\n",
      "        108, 119, 107,  35, 119, 107, 104,  35, 103, 104, 101, 100, 119, 104,\n",
      "         42,  35, 118,  35, 100, 106, 104, 113, 103, 100,  47,  35, 119, 107,\n",
      "        104,  35, 113, 114, 117, 112, 100, 111,  35, 102, 114, 120, 117, 118,\n",
      "        104,  35, 114, 105,  35, 100, 102, 119, 108, 114, 113,  35, 122, 114,\n",
      "        120, 111, 103,  35, 101, 104,  35, 105, 114, 117,  35, 119, 107, 104,\n",
      "         35, 109, 114, 108, 113, 119,  35, 103, 104, 101, 100, 119, 104,  35,\n",
      "        114, 113,  35, 119, 107, 104,  35, 105, 114, 120, 117,  35, 117, 104,\n",
      "        115,   1]), tensor([ 86, 108, 113, 102, 104,  35, 108, 119,  35, 113, 114,  35, 111, 114,\n",
      "        113, 106, 104, 117,  35, 100, 115, 115, 104, 100, 117, 118,  35, 115,\n",
      "        114, 118, 118, 108, 101, 111, 104,  35, 105, 114, 117,  35, 104, 121,\n",
      "        104, 113, 119, 118,  35, 119, 114,  35, 119, 100, 110, 104,  35, 115,\n",
      "        111, 100, 102, 104,  35, 108, 113,  35, 119, 107, 108, 118,  35, 122,\n",
      "        100, 124,  47,  35, 101, 104, 102, 100, 120, 118, 104,  35, 119, 107,\n",
      "        104,  35, 115, 114, 111, 108, 119, 108, 102, 100, 111,  35, 106, 117,\n",
      "        114, 120, 115, 118,  35, 107, 100, 121, 104,  35, 100, 111, 117, 104,\n",
      "        100, 103, 124,  35, 103, 108, 118, 119, 117, 108, 101, 120, 119, 104,\n",
      "        103,   1]), tensor([ 80, 100, 103, 100, 112,  35,  83, 117, 104, 118, 108, 103, 104, 113,\n",
      "        119,  47,  35,  76,  35, 118, 107, 100, 111, 111,  35, 101, 104,  35,\n",
      "        103, 104, 111, 108, 106, 107, 119, 104, 103,  35, 119, 114,  35, 117,\n",
      "        104, 115, 111, 124,  35, 119, 114,  35,  80, 117,  35,  89, 100, 117,\n",
      "        104, 111, 100,  35,  86, 120, 100, 113, 125, 104, 118,  48,  70, 100,\n",
      "        117, 115, 104, 106, 113, 100,  49,   1,   0,   0,   0,   0,   0,   0,\n",
      "          0,   0,   0,   0,   0,   0,   0,   0,   0,   0,   0,   0,   0,   0,\n",
      "          0,   0,   0,   0,   0,   0,   0,   0,   0,   0,   0,   0,   0,   0,\n",
      "          0,   0,   0,   0,   0,   0,   0,   0,   0,   0,   0,   0,   0,   0,\n",
      "          0,   0]), tensor([ 87, 107, 104,  35,  86, 114, 102, 108, 100, 111, 108, 118, 119,  35,\n",
      "         74, 117, 114, 120, 115,  35, 117, 104, 116, 120, 104, 118, 119, 104,\n",
      "        103,  35, 119, 107, 108, 118,  35,  70, 114, 112, 112, 108, 118, 118,\n",
      "        108, 114, 113,  35, 118, 119, 100, 119, 104, 112, 104, 113, 119,  35,\n",
      "         48,  35,  76,  35, 103, 114,  35, 113, 114, 119,  35, 110, 113, 114,\n",
      "        122,  35, 108, 105,  35, 100, 113, 124,  35, 114, 105,  35, 119, 107,\n",
      "        104,  35, 114, 119, 107, 104, 117,  35, 106, 117, 114, 120, 115, 118,\n",
      "         35, 112, 100, 103, 104,  35, 119, 107, 104,  35, 118, 100, 112, 104,\n",
      "         35, 117, 104, 116, 120, 104, 118, 119,  49,   1,   0,   0,   0,   0,\n",
      "          0,   0]), tensor([ 90, 104,  35, 103, 108, 103,  35, 118, 114,  35, 105, 114, 117,  35,\n",
      "        100,  35, 121, 104, 117, 124,  35, 118, 108, 112, 115, 111, 104,  35,\n",
      "        117, 104, 100, 118, 114, 113,  61,  35, 108, 113,  35, 119, 107, 104,\n",
      "         35, 111, 100, 118, 119,  35, 105, 104, 122,  35, 103, 100, 124, 118,\n",
      "         35, 122, 104,  35, 107, 100, 121, 104,  35, 118, 104, 104, 113,  35,\n",
      "         70, 114, 112, 112, 108, 118, 118, 108, 114, 113, 104, 117,  35,  73,\n",
      "        108, 118, 102, 107, 111, 104, 117,  35, 118, 120, 118, 115, 104, 113,\n",
      "        103,  35, 113, 104, 106, 114, 119, 108, 100, 119, 108, 114, 113, 118,\n",
      "         35, 114, 113,  35, 111, 108, 121, 104,  35, 119, 104, 111, 104, 121,\n",
      "        108,   1]), tensor([ 87, 107, 108, 118,  35, 117, 104, 100, 111, 111, 124,  35, 108, 118,\n",
      "         35, 119, 107, 104,  35, 112, 114, 118, 119,  35, 100, 115, 115, 117,\n",
      "        114, 115, 117, 108, 100, 119, 104,  35, 119, 108, 112, 104,  47,  35,\n",
      "        122, 107, 104, 113,  35, 122, 104,  35, 100, 117, 104,  35, 103, 108,\n",
      "        118, 102, 120, 118, 118, 108, 113, 106,  35, 119, 107, 104,  35, 105,\n",
      "        120, 119, 120, 117, 104,  35, 114, 105,  35, 114, 120, 117,  35, 105,\n",
      "        108, 118, 107, 104, 117, 108, 104, 118,  35, 115, 114, 111, 108, 102,\n",
      "        124,  35, 114, 113,  35, 119, 107, 104,  35, 101, 100, 118, 108, 118,\n",
      "         35, 114, 105,  35, 105, 114, 120, 117,  35, 117, 104, 115, 114, 117,\n",
      "        119,   1]), tensor([ 87, 107, 108, 118,  35, 108, 118,  35, 119, 107, 104,  35, 119, 107,\n",
      "        108, 113, 110, 108, 113, 106,  35, 119, 107, 100, 119,  35, 111, 104,\n",
      "        103,  35, 119, 107, 104,  35,  86, 114, 102, 108, 100, 111, 108, 118,\n",
      "        119,  35,  74, 117, 114, 120, 115,  35, 119, 114,  35, 112, 100, 110,\n",
      "        104,  35, 119, 107, 108, 118,  35, 117, 104, 116, 120, 104, 118, 119,\n",
      "         49,   1,   0,   0,   0,   0,   0,   0,   0,   0,   0,   0,   0,   0,\n",
      "          0,   0,   0,   0,   0,   0,   0,   0,   0,   0,   0,   0,   0,   0,\n",
      "          0,   0,   0,   0,   0,   0,   0,   0,   0,   0,   0,   0,   0,   0,\n",
      "          0,   0,   0,   0,   0,   0,   0,   0,   0,   0,   0,   0,   0,   0,\n",
      "          0,   0]), tensor([ 87, 107, 100, 113, 110,  35, 124, 114, 120,  47,  35,  80, 117,  35,\n",
      "         69, 100, 117, 198, 182, 113,  35,  70, 117, 104, 118, 115, 114,  49,\n",
      "          1,   0,   0,   0,   0,   0,   0,   0,   0,   0,   0,   0,   0,   0,\n",
      "          0,   0,   0,   0,   0,   0,   0,   0,   0,   0,   0,   0,   0,   0,\n",
      "          0,   0,   0,   0,   0,   0,   0,   0,   0,   0,   0,   0,   0,   0,\n",
      "          0,   0,   0,   0,   0,   0,   0,   0,   0,   0,   0,   0,   0,   0,\n",
      "          0,   0,   0,   0,   0,   0,   0,   0,   0,   0,   0,   0,   0,   0,\n",
      "          0,   0,   0,   0,   0,   0,   0,   0,   0,   0,   0,   0,   0,   0,\n",
      "          0,   0,   0,   0,   0,   0,   0,   0,   0,   0,   0,   0,   0,   0,\n",
      "          0,   0]), tensor([ 80, 117,  35,  89, 100, 117, 104, 111, 100,  47,  35,  80, 117,  35,\n",
      "         69, 100, 117, 198, 182, 113,  35,  70, 117, 104, 118, 115, 114,  35,\n",
      "        107, 100, 118,  35, 106, 108, 121, 104, 113,  35, 124, 114, 120,  35,\n",
      "        124, 114, 120, 117,  35, 100, 113, 118, 122, 104, 117,  49,   1,   0,\n",
      "          0,   0,   0,   0,   0,   0,   0,   0,   0,   0,   0,   0,   0,   0,\n",
      "          0,   0,   0,   0,   0,   0,   0,   0,   0,   0,   0,   0,   0,   0,\n",
      "          0,   0,   0,   0,   0,   0,   0,   0,   0,   0,   0,   0,   0,   0,\n",
      "          0,   0,   0,   0,   0,   0,   0,   0,   0,   0,   0,   0,   0,   0,\n",
      "          0,   0,   0,   0,   0,   0,   0,   0,   0,   0,   0,   0,   0,   0,\n",
      "          0,   0]), tensor([ 87, 107, 104,  35, 117, 104, 116, 120, 104, 118, 119,  35, 122, 100,\n",
      "        118,  35, 112, 100, 103, 104,  35, 101, 124,  35, 119, 107, 104,  35,\n",
      "         74, 117, 114, 120, 115,  35, 114, 105,  35, 119, 107, 104,  35,  83,\n",
      "        100, 117, 119, 124,  35, 114, 105,  35, 119, 107, 104,  35,  72, 120,\n",
      "        117, 114, 115, 104, 100, 113,  35,  86, 114, 102, 108, 100, 111, 108,\n",
      "        118, 119, 118,  47,  35, 101, 120, 119,  35,  76,  35, 102, 100, 113,\n",
      "         35, 108, 113, 105, 114, 117, 112,  35, 124, 114, 120,  35, 119, 107,\n",
      "        100, 119,  35, 108, 119,  35, 122, 100, 118,  35, 100, 115, 115, 117,\n",
      "        114, 121, 104, 103,  35, 120, 113, 100, 113, 108, 112, 114, 120, 118,\n",
      "        111,   1]), tensor([ 80, 100, 103, 100, 112,  35,  83, 117, 104, 118, 108, 103, 104, 113,\n",
      "        119,  47,  35,  76,  35, 100, 118, 110, 104, 103,  35, 105, 114, 117,\n",
      "         35, 102, 111, 100, 117, 108, 105, 108, 102, 100, 119, 108, 114, 113,\n",
      "         62,  35,  76,  35, 107, 100, 121, 104,  35, 100, 101, 118, 114, 111,\n",
      "        120, 119, 104, 111, 124,  35, 113, 114,  35, 108, 113, 119, 104, 113,\n",
      "        119, 108, 114, 113,  35, 114, 105,  35, 100, 117, 106, 120, 108, 113,\n",
      "        106,  35, 100, 101, 114, 120, 119,  35, 119, 107, 104,  35, 100, 115,\n",
      "        115, 117, 114, 115, 117, 108, 100, 119, 104, 113, 104, 118, 118,  35,\n",
      "        114, 105,  35, 100,  35,  70, 114, 112, 112, 108, 118, 118, 108, 114,\n",
      "        113,   1]), tensor([ 76,  35, 122, 100, 113, 119,  35, 119, 114,  35, 112, 100, 110, 104,\n",
      "         35, 108, 119,  35, 102, 111, 104, 100, 117,  35, 119, 107, 100, 119,\n",
      "         35, 122, 104,  35, 118, 120, 115, 115, 114, 117, 119,  35, 108, 119,\n",
      "         47,  35, 100, 113, 103,  35,  76,  35, 101, 104, 111, 108, 104, 121,\n",
      "        104,  35, 119, 107, 100, 119,  35, 108, 119,  35, 122, 100, 118,  35,\n",
      "        100, 111, 118, 114,  35, 118, 120, 115, 115, 114, 117, 119, 104, 103,\n",
      "         35, 108, 113,  35, 119, 107, 104,  35,  70, 114, 113, 105, 104, 117,\n",
      "        104, 113, 102, 104,  35, 114, 105,  35,  83, 117, 104, 118, 108, 103,\n",
      "        104, 113, 119, 118,  35, 114, 105,  35, 115, 114, 111, 108, 119, 108,\n",
      "        102,   1]), tensor([ 68, 118,  35,  70, 107, 100, 108, 117, 112, 100, 113,  35, 114, 105,\n",
      "         35, 119, 107, 100, 119,  35, 102, 114, 112, 112, 108, 119, 119, 104,\n",
      "        104,  47,  35,  76,  35, 122, 100, 113, 119, 104, 103,  35, 119, 114,\n",
      "         35, 107, 100, 121, 104,  35, 100, 111, 111,  35, 119, 107, 104,  35,\n",
      "        108, 113, 105, 114, 117, 112, 100, 119, 108, 114, 113,  35, 118, 114,\n",
      "         35, 119, 107, 100, 119,  35,  76,  35, 102, 114, 120, 111, 103,  35,\n",
      "        102, 114, 112, 112, 120, 113, 108, 102, 100, 119, 104,  35, 108, 119,\n",
      "         35, 119, 114,  35, 119, 107, 104,  35, 114, 119, 107, 104, 117,  35,\n",
      "        102, 114, 112, 112, 108, 119, 119, 104, 104,  35, 112, 104, 112, 101,\n",
      "        104,   1]), tensor([ 76, 113,  35, 113, 114,  35, 122, 100, 124,  35, 103, 114,  35, 122,\n",
      "        104,  35, 114, 115, 115, 114, 118, 104,  35, 108, 119,  49,  35,  73,\n",
      "        100, 117,  35, 105, 117, 114, 112,  35, 108, 119,  49,   1,   0,   0,\n",
      "          0,   0,   0,   0,   0,   0,   0,   0,   0,   0,   0,   0,   0,   0,\n",
      "          0,   0,   0,   0,   0,   0,   0,   0,   0,   0,   0,   0,   0,   0,\n",
      "          0,   0,   0,   0,   0,   0,   0,   0,   0,   0,   0,   0,   0,   0,\n",
      "          0,   0,   0,   0,   0,   0,   0,   0,   0,   0,   0,   0,   0,   0,\n",
      "          0,   0,   0,   0,   0,   0,   0,   0,   0,   0,   0,   0,   0,   0,\n",
      "          0,   0,   0,   0,   0,   0,   0,   0,   0,   0,   0,   0,   0,   0,\n",
      "          0,   0]), tensor([ 82, 120, 117,  35, 106, 117, 114, 120, 115,  35, 107, 100, 118,  35,\n",
      "        100, 111, 118, 114,  35, 118, 120, 115, 115, 114, 117, 119, 104, 103,\n",
      "         35, 108, 119,  49,  35,  86, 114,  35, 119, 107, 100, 119,  35, 119,\n",
      "        107, 104,  35, 103, 104, 101, 100, 119, 104,  35, 112, 100, 124,  35,\n",
      "        101, 104,  35, 107, 104, 111, 103,  35, 108, 113,  35, 100, 113,  35,\n",
      "        114, 117, 103, 104, 117, 104, 103,  35, 105, 100, 118, 107, 108, 114,\n",
      "        113,  47,  35, 122, 107, 108, 102, 107,  35, 108, 118,  35, 122, 107,\n",
      "        100, 119,  35, 112, 114, 118, 119,  35, 102, 114, 113, 102, 104, 117,\n",
      "        113, 118,  35, 112, 104,  47,  35, 101, 104, 102, 100, 120, 118, 104,\n",
      "         35,   1]), tensor([ 87, 107, 104,  35, 102, 114, 112, 115, 104, 119, 104, 113, 119,  35,\n",
      "        118, 104, 117, 121, 108, 102, 104, 118,  35, 107, 100, 103,  35, 108,\n",
      "        113, 105, 114, 117, 112, 104, 103,  35, 112, 104,  35, 119, 107, 100,\n",
      "        119,  35, 119, 107, 104,  35, 114, 117, 103, 104, 117,  35, 114, 105,\n",
      "         35, 108, 113, 119, 104, 117, 121, 104, 113, 119, 108, 114, 113, 118,\n",
      "         35, 122, 114, 120, 111, 103,  35, 101, 104,  35, 100, 118,  35, 105,\n",
      "        114, 111, 111, 114, 122, 118,  61,  35, 105, 108, 117, 118, 119, 111,\n",
      "        124,  35, 119, 107, 104,  35, 105, 114, 120, 117,  35, 117, 100, 115,\n",
      "        115, 114, 117, 119, 104, 120, 117, 118,  35, 114, 105,  35, 119, 107,\n",
      "        104,   1]), tensor([ 76, 113,  35, 119, 107, 100, 119,  35, 102, 100, 118, 104,  47,  35,\n",
      "        119, 107, 104,  35, 117, 100, 115, 115, 114, 117, 119, 104, 120, 117,\n",
      "        118,  35, 122, 114, 120, 111, 103,  35, 113, 114, 119,  35, 101, 104,\n",
      "         35, 100, 101, 111, 104,  35, 119, 114,  35, 117, 104, 115, 111, 124,\n",
      "         35, 119, 114,  35, 119, 107, 104,  35,  70, 114, 112, 112, 108, 118,\n",
      "        118, 108, 114, 113, 104, 117,  35, 103, 120, 117, 108, 113, 106,  35,\n",
      "        119, 107, 104,  35, 109, 114, 108, 113, 119,  35, 103, 104, 101, 100,\n",
      "        119, 104,  49,   1,   0,   0,   0,   0,   0,   0,   0,   0,   0,   0,\n",
      "          0,   0,   0,   0,   0,   0,   0,   0,   0,   0,   0,   0,   0,   0,\n",
      "          0,   0]), tensor([ 90, 107, 100, 119,  35,  76,  35, 119, 107, 104, 117, 104, 105, 114,\n",
      "        117, 104,  35, 100, 118, 110,  35, 108, 118,  35, 119, 107, 100, 119,\n",
      "         35, 119, 107, 104,  35,  70, 114, 112, 112, 108, 118, 118, 108, 114,\n",
      "        113,  35, 118, 119, 100, 119, 104, 112, 104, 113, 119,  35, 101, 104,\n",
      "         35, 112, 100, 103, 104,  35, 105, 108, 117, 118, 119,  35, 100, 113,\n",
      "        103,  35, 119, 107, 100, 119,  35, 119, 107, 104, 113,  35, 119, 107,\n",
      "        104,  35, 118, 115, 104, 100, 110, 104, 117, 118,  35, 118, 107, 114,\n",
      "        120, 111, 103,  35, 119, 100, 110, 104,  35, 119, 107, 104,  35, 105,\n",
      "        111, 114, 114, 117,  47,  35, 118, 114,  35, 119, 107, 100, 119,  35,\n",
      "        104,   1]), tensor([ 80, 100, 103, 100, 112,  35,  83, 117, 104, 118, 108, 103, 104, 113,\n",
      "        119,  47,  35,  76,  35, 122, 108, 118, 107,  35, 119, 114,  35, 108,\n",
      "        113, 105, 114, 117, 112,  35,  80, 117,  35,  89, 100, 117, 104, 111,\n",
      "        100,  35,  86, 120, 100, 113, 125, 104, 118,  48,  70, 100, 117, 115,\n",
      "        104, 106, 113, 100,  35, 119, 107, 100, 119,  35, 119, 107, 104, 118,\n",
      "        104,  35, 100, 117, 104,  35, 119, 107, 104,  35, 119, 104, 117, 112,\n",
      "        118,  35, 114, 105,  35, 119, 107, 104,  35,  70, 114, 113, 105, 104,\n",
      "        117, 104, 113, 102, 104,  35, 114, 105,  35,  83, 117, 104, 118, 108,\n",
      "        103, 104, 113, 119, 118,  47,  35, 101, 120, 119,  35,  76,  35, 118,\n",
      "        104,   1]), tensor([ 87, 107, 104,  35, 108, 103, 104, 100,  35,  48,  35, 100, 119,  35,\n",
      "        119, 107, 104,  35, 117, 104, 116, 120, 104, 118, 119,  35, 114, 105,\n",
      "         35, 112, 114, 118, 119,  35, 106, 117, 114, 120, 115,  35,  70, 107,\n",
      "        100, 108, 117, 112, 104, 113,  35,  48,  35, 122, 100, 118,  35, 119,\n",
      "        107, 100, 119,  35, 119, 107, 104,  35, 105, 114, 120, 117,  35, 117,\n",
      "        100, 115, 115, 114, 117, 119, 104, 120, 117, 118,  35, 122, 114, 120,\n",
      "        111, 103,  35, 118, 115, 104, 100, 110,  35, 105, 108, 117, 118, 119,\n",
      "         47,  35, 100, 113, 103,  35, 119, 107, 104, 113,  35, 119, 107, 104,\n",
      "         35, 117, 104, 115, 117, 104, 118, 104, 113, 119, 100, 119, 108, 121,\n",
      "        104,   1]), tensor([ 87, 107, 108, 118,  35, 122, 100, 118,  35, 122, 107, 100, 119,  35,\n",
      "        107, 100, 115, 115, 104, 113, 104, 103,  35, 108, 113,  35, 119, 107,\n",
      "        104,  35,  70, 114, 113, 105, 104, 117, 104, 113, 102, 104,  35, 114,\n",
      "        105,  35,  83, 117, 104, 118, 108, 103, 104, 113, 119, 118,  47,  35,\n",
      "        100, 119,  35, 122, 107, 108, 102, 107,  35,  76,  35, 107, 100, 103,\n",
      "         35, 119, 107, 104,  35, 107, 114, 113, 114, 120, 117,  35, 114, 105,\n",
      "         35, 117, 104, 115, 117, 104, 118, 104, 113, 119, 108, 113, 106,  35,\n",
      "        124, 114, 120,  47,  35,  80, 100, 103, 100, 112,  35,  83, 117, 104,\n",
      "        118, 108, 103, 104, 113, 119,  49,   1,   0,   0,   0,   0,   0,   0,\n",
      "          0,   0]), tensor([ 80, 117,  35,  89, 100, 117, 104, 111, 100,  42,  35, 118,  35, 117,\n",
      "        104, 116, 120, 104, 118, 119,  35, 108, 118,  35, 114, 120, 119,  35,\n",
      "        114, 105,  35, 115, 111, 100, 102, 104,  49,   1,   0,   0,   0,   0,\n",
      "          0,   0,   0,   0,   0,   0,   0,   0,   0,   0,   0,   0,   0,   0,\n",
      "          0,   0,   0,   0,   0,   0,   0,   0,   0,   0,   0,   0,   0,   0,\n",
      "          0,   0,   0,   0,   0,   0,   0,   0,   0,   0,   0,   0,   0,   0,\n",
      "          0,   0,   0,   0,   0,   0,   0,   0,   0,   0,   0,   0,   0,   0,\n",
      "          0,   0,   0,   0,   0,   0,   0,   0,   0,   0,   0,   0,   0,   0,\n",
      "          0,   0,   0,   0,   0,   0,   0,   0,   0,   0,   0,   0,   0,   0,\n",
      "          0,   0]), tensor([ 80, 100, 103, 100, 112,  35,  83, 117, 104, 118, 108, 103, 104, 113,\n",
      "        119,  47,  35,  76,  35, 122, 114, 120, 111, 103,  35, 111, 108, 110,\n",
      "        104,  35, 119, 114,  35, 104, 123, 115, 111, 100, 108, 113,  35, 121,\n",
      "        104, 117, 124,  35, 101, 117, 108, 104, 105, 111, 124,  35, 122, 107,\n",
      "        124,  35, 112, 124,  35, 106, 117, 114, 120, 115,  35, 107, 100, 118,\n",
      "         35, 119, 100, 101, 111, 104, 103,  35, 119, 107, 108, 118,  35, 112,\n",
      "        114, 119, 108, 114, 113,  35, 122, 107, 108, 102, 107,  47,  35, 117,\n",
      "        104, 111, 100, 119, 104, 118,  35, 119, 114,  35, 122, 107, 100, 119,\n",
      "         35, 108, 118,  35, 101, 104, 102, 114, 112, 108, 113, 106,  35, 110,\n",
      "        113,   1]), tensor([ 87, 107, 108, 118,  35, 108, 118,  35, 100, 113,  35, 108, 112, 115,\n",
      "        114, 117, 119, 100, 113, 119,  35, 108, 118, 118, 120, 104,  35, 119,\n",
      "        107, 100, 119,  35, 106, 114, 104, 118,  35, 101, 104, 124, 114, 113,\n",
      "        103,  35, 119, 107, 104,  35, 111, 108, 112, 108, 119, 118,  35, 114,\n",
      "        105,  35, 117, 104, 118, 115, 114, 113, 118, 108, 101, 108, 111, 108,\n",
      "        119, 124,  35, 114, 105,  35, 114, 113, 104,  35, 106, 117, 114, 120,\n",
      "        115,  49,   1,   0,   0,   0,   0,   0,   0,   0,   0,   0,   0,   0,\n",
      "          0,   0,   0,   0,   0,   0,   0,   0,   0,   0,   0,   0,   0,   0,\n",
      "          0,   0,   0,   0,   0,   0,   0,   0,   0,   0,   0,   0,   0,   0,\n",
      "          0,   0]), tensor([ 68, 118,  35, 108, 119,  35, 107, 100, 115, 115, 104, 113, 118,  47,\n",
      "         35, 108, 119,  35, 102, 114, 113, 102, 104, 117, 113, 118,  35, 119,\n",
      "        107, 104,  35, 115, 114, 111, 108, 102, 124,  35, 114, 105,  35, 100,\n",
      "         35, 111, 100, 117, 106, 104,  35, 105, 114, 114, 103,  35, 115, 117,\n",
      "        114, 102, 104, 118, 118, 108, 113, 106,  35, 102, 114, 112, 115, 100,\n",
      "        113, 124,  35, 122, 107, 108, 102, 107,  35, 107, 100, 118,  35, 117,\n",
      "        104, 102, 104, 113, 119, 111, 124,  35, 100, 102, 107, 108, 104, 121,\n",
      "        104, 103,  35, 105, 108, 113, 100, 113, 102, 108, 100, 111,  35, 117,\n",
      "        104, 118, 120, 111, 119, 118,  35, 103, 104, 118, 102, 117, 108, 101,\n",
      "        104,   1]), tensor([ 76, 119,  35, 118, 104, 104, 112, 118,  35, 119, 114,  35, 112, 104,\n",
      "         35, 119, 107, 100, 119,  35, 122, 104,  35, 102, 100, 113, 113, 114,\n",
      "        119,  47,  35, 114, 113,  35, 119, 107, 104,  35, 114, 113, 104,  35,\n",
      "        107, 100, 113, 103,  47,  35, 112, 100, 110, 104,  35, 105, 120, 111,\n",
      "        111,  35, 104, 112, 115, 111, 114, 124, 112, 104, 113, 119,  35, 100,\n",
      "         35, 115, 117, 108, 114, 117, 108, 119, 124,  35, 105, 114, 117,  35,\n",
      "         72, 120, 117, 114, 115, 104, 100, 113,  35,  88, 113, 108, 114, 113,\n",
      "         35, 100, 102, 119, 108, 114, 113,  35, 100, 113, 103,  35, 122, 114,\n",
      "        117, 110,  35, 114, 113,  35, 103, 117, 100, 105, 119, 108, 113, 106,\n",
      "         35,   1]), tensor([ 87, 107, 108, 118,  35, 108, 118,  35, 122, 107, 124,  35,  76,  35,\n",
      "        115, 117, 114, 115, 114, 118, 104,  35, 100, 113,  35, 120, 117, 106,\n",
      "        104, 113, 119,  35, 103, 104, 101, 100, 119, 104,  35, 114, 113,  35,\n",
      "        119, 107, 108, 118,  35, 112, 100, 119, 119, 104, 117,  49,   1,   0,\n",
      "          0,   0,   0,   0,   0,   0,   0,   0,   0,   0,   0,   0,   0,   0,\n",
      "          0,   0,   0,   0,   0,   0,   0,   0,   0,   0,   0,   0,   0,   0,\n",
      "          0,   0,   0,   0,   0,   0,   0,   0,   0,   0,   0,   0,   0,   0,\n",
      "          0,   0,   0,   0,   0,   0,   0,   0,   0,   0,   0,   0,   0,   0,\n",
      "          0,   0,   0,   0,   0,   0,   0,   0,   0,   0,   0,   0,   0,   0,\n",
      "          0,   0]), tensor([ 80, 100, 103, 100, 112,  35,  83, 117, 104, 118, 108, 103, 104, 113,\n",
      "        119,  47,  35, 112, 124,  35, 106, 117, 114, 120, 115,  35, 122, 108,\n",
      "        111, 111,  35, 101, 104,  35, 121, 114, 119, 108, 113, 106,  35, 108,\n",
      "        113,  35, 105, 100, 121, 114, 120, 117,  35, 114, 105,  35, 119, 107,\n",
      "        108, 118,  35, 115, 117, 114, 115, 114, 118, 100, 111,  35, 101, 104,\n",
      "        102, 100, 120, 118, 104,  47,  35, 119, 114,  35, 119, 100, 110, 104,\n",
      "         35, 120, 115,  35,  80, 117,  35,  90, 120, 117, 119, 125,  42,  35,\n",
      "        118,  35, 100, 117, 106, 120, 112, 104, 113, 119, 118,  47,  35, 119,\n",
      "        107, 108, 118,  35, 108, 118,  35, 113, 114, 119,  35, 109, 120, 118,\n",
      "        119,   1]), tensor([ 73, 120, 117, 119, 107, 104, 117, 112, 114, 117, 104,  47,  35, 101,\n",
      "        104, 102, 100, 120, 118, 104,  35, 119, 107, 104,  35,  72, 120, 117,\n",
      "        114, 115, 104, 100, 113,  35,  70, 114, 112, 115, 100, 113, 124,  35,\n",
      "         86, 119, 100, 119, 120, 119, 104,  35, 107, 100, 118,  35, 101, 104,\n",
      "        104, 113,  35, 100, 115, 115, 117, 114, 121, 104, 103,  35, 101, 124,\n",
      "         35, 119, 107, 104,  35,  87, 117, 104, 100, 119, 124,  35, 114, 105,\n",
      "         35,  81, 108, 102, 104,  47,  35, 122, 104,  35, 105, 104, 104, 111,\n",
      "         35, 119, 107, 100, 119,  35, 119, 107, 108, 118,  35, 108, 118,  35,\n",
      "        100, 113,  35, 104, 123, 119, 117, 104, 112, 104, 111, 124,  35, 119,\n",
      "        114,   1]), tensor([ 69, 104, 100, 117, 108, 113, 106,  35, 108, 113,  35, 112, 108, 113,\n",
      "        103,  35, 119, 107, 104,  35, 105, 100, 102, 119,  35, 119, 107, 100,\n",
      "        119,  35, 112, 124,  35, 106, 117, 114, 120, 115,  35, 107, 100, 118,\n",
      "         35, 100, 111, 118, 114,  35, 101, 117, 114, 120, 106, 107, 119,  35,\n",
      "        120, 115,  35, 119, 107, 104,  35, 118, 108, 119, 120, 100, 119, 108,\n",
      "        114, 113,  35, 114, 105,  35, 114, 119, 107, 104, 117,  35, 112, 120,\n",
      "        111, 119, 108, 113, 100, 119, 108, 114, 113, 100, 111,  35, 102, 114,\n",
      "        112, 115, 100, 113, 108, 104, 118,  35, 119, 107, 100, 119,  35, 114,\n",
      "        115, 104, 117, 100, 119, 104,  35, 100, 102, 117, 114, 118, 118,  35,\n",
      "         72,   1]), tensor([ 80, 100, 124, 101, 104,  35, 119, 107, 108, 118,  35, 102, 114, 120,\n",
      "        111, 103,  35, 117, 104, 115, 111, 100, 102, 104,  35, 100, 113, 114,\n",
      "        119, 107, 104, 117,  35, 108, 119, 104, 112,  47,  35, 101, 104, 102,\n",
      "        100, 120, 118, 104,  35, 119, 107, 104,  35, 108, 118, 118, 120, 104,\n",
      "         35, 108, 118,  35, 118, 104, 117, 108, 114, 120, 118,  35, 104, 113,\n",
      "        114, 120, 106, 107,  35, 119, 114,  35, 122, 100, 117, 117, 100, 113,\n",
      "        119,  35, 100,  35, 112, 114, 117, 104,  35, 108, 113,  48, 103, 104,\n",
      "        115, 119, 107,  35, 100, 113, 103,  35, 103, 104, 119, 100, 108, 111,\n",
      "        104, 103,  35, 118, 119, 120, 103, 124,  49,   1,   0,   0,   0,   0,\n",
      "          0,   0]), tensor([ 80, 100, 103, 100, 112,  35,  83, 117, 104, 118, 108, 103, 104, 113,\n",
      "        119,  47,  35, 122, 104,  35, 103, 114,  35, 113, 114, 119,  35, 103,\n",
      "        114, 120, 101, 119,  35, 119, 107, 100, 119,  35, 108, 119,  35, 108,\n",
      "        118,  35, 100, 113,  35, 108, 112, 115, 114, 117, 119, 100, 113, 119,\n",
      "         35, 108, 118, 118, 120, 104,  35, 122, 104,  35, 100, 117, 104,  35,\n",
      "        103, 108, 118, 102, 120, 118, 118, 108, 113, 106,  35, 107, 104, 117,\n",
      "        104,  47,  35, 101, 120, 119,  35, 119, 107, 108, 118,  35, 108, 118,\n",
      "         35, 118, 114, 112, 104, 119, 107, 108, 113, 106,  35, 119, 107, 100,\n",
      "        119,  35, 102, 117, 114, 115, 118,  35, 120, 115,  35, 119, 108, 112,\n",
      "        104,   1]), tensor([ 76, 113,  35, 119, 107, 104,  35, 115, 100, 118, 119,  47,  35, 122,\n",
      "        104,  35, 100, 111, 122, 100, 124, 118,  35, 100, 106, 117, 104, 104,\n",
      "        103,  35, 119, 107, 100, 119,  35, 122, 104,  35, 122, 114, 120, 111,\n",
      "        103,  35, 103, 104, 100, 111,  35, 122, 108, 119, 107,  35, 118, 120,\n",
      "        102, 107,  35, 108, 118, 118, 120, 104, 118,  35, 100, 118,  35, 115,\n",
      "        100, 117, 119,  35, 114, 105,  35, 100,  35, 112, 114, 117, 104,  35,\n",
      "        102, 114, 112, 115, 117, 104, 107, 104, 113, 118, 108, 121, 104,  35,\n",
      "        103, 104, 101, 100, 119, 104,  49,   1,   0,   0,   0,   0,   0,   0,\n",
      "          0,   0,   0,   0,   0,   0,   0,   0,   0,   0,   0,   0,   0,   0,\n",
      "          0,   0]), tensor([ 76, 119,  35, 108, 118,  35, 119, 107, 104, 117, 104, 105, 114, 117,\n",
      "        104,  35, 108, 113, 100, 115, 115, 117, 114, 115, 117, 108, 100, 119,\n",
      "        104,  35, 119, 114,  35, 108, 113, 121, 114, 110, 104,  35, 119, 107,\n",
      "        104,  35, 120, 117, 106, 104, 113, 119,  35, 115, 117, 114, 102, 104,\n",
      "        103, 120, 117, 104,  47,  35, 115, 100, 117, 119, 108, 102, 120, 111,\n",
      "        100, 117, 111, 124,  35, 100, 118,  35, 119, 107, 104,  35, 108, 118,\n",
      "        118, 120, 104,  35, 122, 107, 108, 102, 107,  35, 108, 118,  35, 119,\n",
      "        114,  35, 101, 104,  35, 111, 104, 105, 119,  35, 114, 105, 105,  35,\n",
      "        119, 107, 104,  35, 100, 106, 104, 113, 103, 100,  47,  35, 108, 118,\n",
      "         35,   1]), tensor([ 76,  35, 122, 114, 120, 111, 103,  35, 100, 111, 118, 114,  35, 111,\n",
      "        108, 110, 104,  35, 119, 114,  35, 115, 114, 108, 113, 119,  35, 114,\n",
      "        120, 119,  35,  48,  35, 100, 111, 119, 107, 114, 120, 106, 107,  35,\n",
      "         76,  35, 122, 100, 118,  35, 120, 113, 100, 101, 111, 104,  35, 119,\n",
      "        114,  35, 115, 100, 117, 119, 108, 102, 108, 115, 100, 119, 104,  35,\n",
      "        108, 113,  35, 119, 107, 104,  35,  70, 114, 113, 105, 104, 117, 104,\n",
      "        113, 102, 104,  35, 114, 105,  35,  83, 117, 104, 118, 108, 103, 104,\n",
      "        113, 119, 118,  35, 108, 113,  35, 115, 104, 117, 118, 114, 113,  47,\n",
      "         35, 114, 122, 108, 113, 106,  35, 119, 114,  35, 114, 120, 117,  35,\n",
      "         72,   1]), tensor([ 90, 104,  35, 100, 117, 104,  35, 100, 106, 100, 108, 113, 118, 119,\n",
      "         35, 108, 113, 121, 114, 110, 108, 113, 106,  35, 119, 107, 104,  35,\n",
      "        120, 117, 106, 104, 113, 119,  35, 115, 117, 114, 102, 104, 103, 120,\n",
      "        117, 104,  35, 114, 113,  35, 119, 107, 108, 118,  35, 108, 118, 118,\n",
      "        120, 104,  49,   1,   0,   0,   0,   0,   0,   0,   0,   0,   0,   0,\n",
      "          0,   0,   0,   0,   0,   0,   0,   0,   0,   0,   0,   0,   0,   0,\n",
      "          0,   0,   0,   0,   0,   0,   0,   0,   0,   0,   0,   0,   0,   0,\n",
      "          0,   0,   0,   0,   0,   0,   0,   0,   0,   0,   0,   0,   0,   0,\n",
      "          0,   0,   0,   0,   0,   0,   0,   0,   0,   0,   0,   0,   0,   0,\n",
      "          0,   0]), tensor([ 80, 100, 103, 100, 112,  35,  83, 117, 104, 118, 108, 103, 104, 113,\n",
      "        119,  47,  35, 105, 108, 117, 118, 119,  35, 114, 105,  35, 100, 111,\n",
      "        111,  47,  35,  80, 117,  35,  83, 114, 104, 119, 119, 104, 117, 108,\n",
      "        113, 106,  35, 102, 100, 113,  35, 101, 104,  35, 105, 114, 117, 106,\n",
      "        108, 121, 104, 113,  35, 105, 114, 117,  35, 107, 108, 118,  35, 112,\n",
      "        108, 118, 119, 100, 110, 104,  35, 118, 108, 113, 102, 104,  35, 107,\n",
      "        104,  35, 122, 100, 118,  35, 100, 101, 118, 104, 113, 119,  49,   1,\n",
      "          0,   0,   0,   0,   0,   0,   0,   0,   0,   0,   0,   0,   0,   0,\n",
      "          0,   0,   0,   0,   0,   0,   0,   0,   0,   0,   0,   0,   0,   0,\n",
      "          0,   0]), tensor([ 75, 114, 122, 104, 121, 104, 117,  47,  35,  80, 117,  35,  83, 114,\n",
      "        104, 119, 119, 104, 117, 108, 113, 106,  47,  35,  76,  35, 122, 114,\n",
      "        120, 111, 103,  35, 111, 108, 110, 104,  35, 119, 114,  35, 119, 104,\n",
      "        111, 111,  35, 124, 114, 120,  35, 119, 107, 100, 119,  35, 119, 107,\n",
      "        104,  35,  70, 114, 113, 105, 104, 117, 104, 113, 102, 104,  35, 114,\n",
      "        105,  35,  83, 117, 104, 118, 108, 103, 104, 113, 119, 118,  35, 102,\n",
      "        104, 117, 119, 100, 108, 113, 111, 124,  35, 103, 108, 103,  35, 113,\n",
      "        114, 119,  35, 121, 114, 119, 104,  35, 105, 114, 117,  35, 114, 117,\n",
      "         35, 100, 106, 100, 108, 113, 118, 119,  35, 119, 107, 108, 118,  35,\n",
      "        112,   1]), tensor([ 85, 104, 106, 100, 117, 103, 108, 113, 106,  35, 119, 107, 104,  35,\n",
      "        115, 117, 114, 115, 114, 118, 100, 111,  35, 101, 124,  35,  80, 117,\n",
      "         35,  69, 100, 117, 198, 182, 113,  35,  70, 117, 104, 118, 115, 114,\n",
      "         47,  35,  76,  35, 100, 112,  35, 108, 113,  35, 102, 114, 112, 115,\n",
      "        111, 104, 119, 104,  35, 100, 106, 117, 104, 104, 112, 104, 113, 119,\n",
      "         35, 122, 108, 119, 107,  35, 119, 107, 104,  35, 115, 117, 114, 115,\n",
      "        114, 118, 100, 111,  35, 119, 114,  35, 117, 104, 105, 104, 117,  35,\n",
      "        119, 107, 104,  35, 122, 107, 114, 111, 104,  35, 112, 100, 119, 119,\n",
      "        104, 117,  47,  35, 108,  49, 104,  49,  35,  71, 100, 113, 114, 113,\n",
      "        104,   1]), tensor([ 76,  35, 103, 114,  35, 113, 114, 119,  35, 113, 104, 102, 104, 118,\n",
      "        118, 100, 117, 108, 111, 124,  35, 122, 108, 118, 107,  35, 119, 107,\n",
      "        100, 119,  35, 119, 107, 108, 118,  35, 101, 104,  35, 119, 117, 104,\n",
      "        100, 119, 104, 103,  35, 100, 118,  35, 100, 113,  35, 120, 117, 106,\n",
      "        104, 113, 119,  35, 119, 114, 115, 108, 102,  47,  35, 101, 120, 119,\n",
      "         35,  76,  35, 103, 114,  35, 119, 107, 108, 113, 110,  35, 119, 107,\n",
      "        100, 119,  35, 122, 104,  35, 118, 107, 114, 120, 111, 103,  35, 119,\n",
      "        100, 110, 104,  35, 113, 114, 119, 104,  35, 114, 105,  35, 119, 107,\n",
      "        108, 118,  35, 106, 117, 100, 121, 104,  35, 108, 113, 102, 114, 113,\n",
      "        118,   1]), tensor([ 87, 107, 104, 117, 104, 105, 114, 117, 104,  47,  35, 108, 105,  35,\n",
      "        100, 111, 111,  35,  80, 104, 112, 101, 104, 117, 118,  35, 100, 117,\n",
      "        104,  35, 108, 113,  35, 100, 106, 117, 104, 104, 112, 104, 113, 119,\n",
      "         47,  35,  76,  35, 122, 114, 120, 111, 103,  35, 102, 104, 117, 119,\n",
      "        100, 108, 113, 111, 124,  35, 122, 108, 118, 107,  35, 119, 114,  35,\n",
      "        117, 104, 105, 104, 117,  35, 119, 107, 108, 118,  35, 112, 100, 119,\n",
      "        119, 104, 117,  35, 119, 114,  35, 119, 107, 104,  35,  70, 114, 112,\n",
      "        112, 108, 119, 119, 104, 104,  35, 114, 113,  35,  72, 112, 115, 111,\n",
      "        114, 124, 112, 104, 113, 119,  35, 100, 113, 103,  35,  86, 114, 102,\n",
      "        108,   1]), tensor([ 80, 117,  35,  90, 120, 117, 119, 125,  47,  35, 118, 107, 114, 120,\n",
      "        111, 103,  35,  76,  35, 100, 118, 118, 120, 112, 104,  35, 119, 107,\n",
      "        104, 113,  35, 119, 107, 100, 119,  35, 124, 114, 120,  35, 122, 108,\n",
      "        118, 107,  35, 119, 114,  35, 122, 108, 119, 107, 103, 117, 100, 122,\n",
      "         35, 119, 107, 104,  35, 102, 120, 117, 117, 104, 113, 119,  35, 115,\n",
      "        117, 114, 115, 114, 118, 100, 111,  35, 119, 114,  35, 117, 104, 115,\n",
      "        111, 100, 102, 104,  35, 108, 119, 104, 112,  35,  56,  35, 108, 113,\n",
      "         35, 119, 107, 104,  35, 103, 104, 101, 100, 119, 104,  35, 114, 113,\n",
      "         35, 119, 114, 115, 108, 102, 100, 111,  35, 100, 113, 103,  35, 120,\n",
      "        117,   1]), tensor([ 80, 100, 124,  35,  76,  35, 102, 114, 113, 102, 111, 120, 103, 104,\n",
      "         35, 119, 107, 100, 119,  35, 119, 107, 104, 117, 104,  35, 108, 118,\n",
      "         35, 101, 117, 114, 100, 103,  35, 102, 114, 113, 118, 104, 113, 118,\n",
      "        120, 118,  35, 114, 113,  35,  80, 117,  35,  69, 100, 117, 198, 182,\n",
      "        113,  35,  70, 117, 104, 118, 115, 114,  42,  35, 118,  35, 115, 117,\n",
      "        114, 115, 114, 118, 100, 111,  66,   1,   0,   0,   0,   0,   0,   0,\n",
      "          0,   0,   0,   0,   0,   0,   0,   0,   0,   0,   0,   0,   0,   0,\n",
      "          0,   0,   0,   0,   0,   0,   0,   0,   0,   0,   0,   0,   0,   0,\n",
      "          0,   0,   0,   0,   0,   0,   0,   0,   0,   0,   0,   0,   0,   0,\n",
      "          0,   0]), tensor([ 76,  35, 102, 100, 113,  35, 118, 104, 104,  35, 119, 107, 100, 119,\n",
      "         35, 119, 107, 108, 118,  35, 108, 118,  35, 119, 107, 104,  35, 102,\n",
      "        100, 118, 104,  49,   1,   0,   0,   0,   0,   0,   0,   0,   0,   0,\n",
      "          0,   0,   0,   0,   0,   0,   0,   0,   0,   0,   0,   0,   0,   0,\n",
      "          0,   0,   0,   0,   0,   0,   0,   0,   0,   0,   0,   0,   0,   0,\n",
      "          0,   0,   0,   0,   0,   0,   0,   0,   0,   0,   0,   0,   0,   0,\n",
      "          0,   0,   0,   0,   0,   0,   0,   0,   0,   0,   0,   0,   0,   0,\n",
      "          0,   0,   0,   0,   0,   0,   0,   0,   0,   0,   0,   0,   0,   0,\n",
      "          0,   0,   0,   0,   0,   0,   0,   0,   0,   0,   0,   0,   0,   0,\n",
      "          0,   0]), tensor([ 71, 114, 104, 118,  35, 100, 113, 124,  35,  80, 104, 112, 101, 104,\n",
      "        117,  35, 114, 105,  35, 119, 107, 104,  35,  88, 113, 108, 114, 113,\n",
      "         35, 105, 114, 117,  35, 100,  35,  72, 120, 117, 114, 115, 104,  35,\n",
      "        114, 105,  35,  81, 100, 119, 108, 114, 113, 118,  35,  74, 117, 114,\n",
      "        120, 115,  35, 122, 108, 118, 107,  35, 119, 114,  35, 115, 117, 104,\n",
      "        118, 104, 113, 119,  35, 119, 107, 104,  35, 117, 104, 116, 120, 104,\n",
      "        118, 119,  35, 119, 114,  35, 117, 104, 115, 111, 100, 102, 104,  35,\n",
      "        119, 107, 104,  35, 108, 119, 104, 112,  35, 122, 108, 119, 107,  35,\n",
      "         37,  86, 108, 119, 120, 100, 119, 108, 114, 113,  35, 108, 113,  35,\n",
      "         68,   1]), tensor([ 80, 100, 103, 100, 112,  35,  83, 117, 104, 118, 108, 103, 104, 113,\n",
      "        119,  47,  35, 124, 114, 120,  35, 112, 104, 113, 119, 108, 114, 113,\n",
      "        104, 103,  35, 104, 100, 117, 111, 108, 104, 117,  35, 119, 107, 104,\n",
      "         35, 107, 114, 117, 117, 114, 117, 118,  35, 119, 107, 100, 119,  35,\n",
      "        107, 100, 121, 104,  35, 101, 104, 104, 113,  35, 117, 104, 115, 114,\n",
      "        117, 119, 104, 103,  47,  35, 122, 107, 108, 102, 107,  35, 100, 117,\n",
      "        104,  35, 117, 104, 111, 100, 119, 104, 103,  35, 119, 114,  35, 119,\n",
      "        104, 117, 117, 114, 117, 108, 118, 112,  49,   1,   0,   0,   0,   0,\n",
      "          0,   0,   0,   0,   0,   0,   0,   0,   0,   0,   0,   0,   0,   0,\n",
      "          0,   0]), tensor([ 70, 114, 113, 118, 104, 116, 120, 104, 113, 119, 111, 124,  47,  35,\n",
      "        119, 107, 104,  35,  88, 113, 108, 114, 113,  35, 105, 114, 117,  35,\n",
      "        100,  35,  72, 120, 117, 114, 115, 104,  35, 114, 105,  35,  81, 100,\n",
      "        119, 108, 114, 113, 118,  35,  74, 117, 114, 120, 115,  35, 122, 100,\n",
      "        113, 119, 104, 103,  35, 119, 107, 104,  35,  75, 114, 120, 118, 104,\n",
      "         35, 119, 114,  35, 101, 104,  35, 100, 101, 111, 104,  35, 119, 114,\n",
      "         35, 107, 114, 111, 103,  35, 100, 113,  35, 120, 117, 106, 104, 113,\n",
      "        119,  35, 103, 104, 101, 100, 119, 104,  35, 114, 113,  35, 119, 107,\n",
      "        104,  35, 118, 108, 119, 120, 100, 119, 108, 114, 113,  35, 108, 113,\n",
      "         35,   1]), tensor([ 79, 100, 118, 119,  35, 122, 104, 104, 110,  47,  35, 122, 104,  35,\n",
      "        122, 104, 117, 104,  35, 100, 111, 111,  35, 100, 101, 111, 104,  35,\n",
      "        119, 114,  35, 122, 108, 119, 113, 104, 118, 118,  35, 119, 107, 104,\n",
      "         35, 119, 104, 111, 104, 121, 108, 118, 108, 114, 113,  35, 101, 117,\n",
      "        114, 100, 103, 102, 100, 118, 119, 118,  35, 114, 105,  35, 119, 107,\n",
      "        104,  35, 120, 113, 101, 104, 100, 117, 100, 101, 111, 104,  35, 108,\n",
      "        112, 100, 106, 104, 118,  35, 114, 105,  35, 117, 104, 102, 104, 113,\n",
      "        119,  35, 112, 100, 118, 118, 100, 102, 117, 104, 118,  35, 102, 100,\n",
      "        117, 117, 108, 104, 103,  35, 114, 120, 119,  35, 108, 113,  35,  68,\n",
      "        111,   1]), tensor([ 90, 104,  35, 102, 100, 113, 113, 114, 119,  47,  35, 119, 107, 104,\n",
      "        117, 104, 105, 114, 117, 104,  47,  35, 120, 113, 103, 104, 117, 118,\n",
      "        119, 100, 113, 103,  35, 122, 107, 124,  35,  83, 100, 117, 111, 108,\n",
      "        100, 112, 104, 113, 119,  47,  35, 122, 107, 108, 102, 107,  35, 108,\n",
      "        118,  35, 100, 111, 122, 100, 124, 118,  35, 118, 114,  35, 115, 100,\n",
      "        117, 119, 108, 102, 120, 111, 100, 117,  35, 114, 113,  35, 107, 120,\n",
      "        112, 100, 113,  35, 117, 108, 106, 107, 119, 118,  35, 108, 118, 118,\n",
      "        120, 104, 118,  47,  35, 118, 107, 114, 120, 111, 103,  35, 117, 104,\n",
      "        112, 100, 108, 113,  35, 118, 108, 111, 104, 113, 119,  35, 105, 114,\n",
      "        111,   1]), tensor([ 75, 114, 111, 103, 108, 113, 106,  35, 119, 107, 108, 118,  35, 103,\n",
      "        104, 101, 100, 119, 104,  35, 122, 114, 120, 111, 103,  35, 100, 111,\n",
      "        111, 114, 122,  35, 120, 118,  35, 119, 114,  35, 117, 104, 100, 105,\n",
      "        105, 108, 117, 112,  35, 119, 107, 100, 119,  35, 100, 111, 111,  35,\n",
      "        119, 107, 104,  35, 112, 104, 100, 118, 120, 117, 104, 118,  35, 119,\n",
      "        107, 100, 119,  35, 107, 100, 121, 104,  35, 101, 104, 104, 113,  35,\n",
      "        100, 103, 114, 115, 119, 104, 103,  35, 108, 113,  35,  81, 114, 117,\n",
      "        119, 107,  35,  68, 105, 117, 108, 102, 100, 113,  35, 102, 114, 120,\n",
      "        113, 119, 117, 108, 104, 118,  47,  35,  68, 111, 106, 104, 117, 108,\n",
      "        100,   1]), tensor([ 90, 104,  35, 118, 104, 104,  35, 108, 119,  35, 100, 118,  35, 114,\n",
      "        120, 117,  35, 103, 120, 119, 124,  35, 119, 114,  35, 118, 104, 113,\n",
      "        103,  35, 119, 107, 104,  35,  68, 111, 106, 104, 117, 108, 100, 113,\n",
      "         35, 115, 104, 114, 115, 111, 104,  35, 100,  35, 112, 104, 118, 118,\n",
      "        100, 106, 104,  35, 114, 105,  35, 114, 120, 117,  35, 118, 124, 112,\n",
      "        115, 100, 119, 107, 124,  35, 100, 113, 103,  35, 118, 114, 111, 108,\n",
      "        103, 100, 117, 108, 119, 124,  35, 100, 113, 103,  35, 119, 114,  35,\n",
      "        104, 113, 102, 114, 120, 117, 100, 106, 104,  35, 119, 107, 104,  35,\n",
      "         68, 111, 106, 104, 117, 108, 100, 113,  35,  74, 114, 121, 104, 117,\n",
      "        113,   1]), tensor([ 76,  35, 101, 104, 111, 108, 104, 121, 104,  35, 119, 107, 100, 119,\n",
      "         35, 100, 113, 124, 114, 113, 104,  35, 122, 107, 114,  35, 107, 100,\n",
      "        118,  35, 107, 100, 103,  35, 119, 107, 104,  35, 114, 115, 115, 114,\n",
      "        117, 119, 120, 113, 108, 119, 124,  35, 119, 114,  35, 121, 108, 118,\n",
      "        108, 119,  35,  68, 111, 106, 104, 117, 108, 100,  35, 103, 120, 117,\n",
      "        108, 113, 106,  35, 117, 104, 102, 104, 113, 119,  35, 112, 114, 113,\n",
      "        119, 107, 118,  35, 114, 117,  35, 124, 104, 100, 117, 118,  35, 102,\n",
      "        100, 113,  35, 112, 100, 110, 104,  35, 100,  35, 101, 104, 119, 119,\n",
      "        104, 117,  35, 100, 118, 118, 104, 118, 118, 112, 104, 113, 119,  35,\n",
      "        114,   1]), tensor([ 76,  35, 119, 107, 104, 117, 104, 105, 114, 117, 104,  35, 101, 104,\n",
      "        111, 108, 104, 121, 104,  35, 119, 107, 100, 119,  35, 119, 107, 108,\n",
      "        118,  35, 108, 118,  35, 100,  35, 106, 114, 114, 103,  35, 118, 120,\n",
      "        106, 106, 104, 118, 119, 108, 114, 113,  49,   1,   0,   0,   0,   0,\n",
      "          0,   0,   0,   0,   0,   0,   0,   0,   0,   0,   0,   0,   0,   0,\n",
      "          0,   0,   0,   0,   0,   0,   0,   0,   0,   0,   0,   0,   0,   0,\n",
      "          0,   0,   0,   0,   0,   0,   0,   0,   0,   0,   0,   0,   0,   0,\n",
      "          0,   0,   0,   0,   0,   0,   0,   0,   0,   0,   0,   0,   0,   0,\n",
      "          0,   0,   0,   0,   0,   0,   0,   0,   0,   0,   0,   0,   0,   0,\n",
      "          0,   0]), tensor([ 87, 107, 100, 119,  35, 108, 118,  35, 119, 107, 104,  35, 115, 114,\n",
      "        108, 113, 119,  35,  76,  35, 101, 104, 111, 108, 104, 121, 104,  35,\n",
      "        119, 107, 104,  35,  84, 120, 100, 104, 118, 119, 114, 117, 118,  35,\n",
      "        122, 108, 111, 111,  35, 101, 104,  35, 120, 117, 106, 108, 113, 106,\n",
      "         35, 114, 113,  35, 119, 107, 104,  35,  69, 120, 117, 104, 100, 120,\n",
      "         35, 108, 113,  35, 119, 107, 104,  35, 113, 104, 100, 117,  35, 105,\n",
      "        120, 119, 120, 117, 104,  49,   1,   0,   0,   0,   0,   0,   0,   0,\n",
      "          0,   0,   0,   0,   0,   0,   0,   0,   0,   0,   0,   0,   0,   0,\n",
      "          0,   0,   0,   0,   0,   0,   0,   0,   0,   0,   0,   0,   0,   0,\n",
      "          0,   0]), tensor([ 70, 117, 104, 103, 108, 119,  35, 108, 113, 118, 119, 108, 119, 120,\n",
      "        119, 108, 114, 113, 118,   1,   0,   0,   0,   0,   0,   0,   0,   0,\n",
      "          0,   0,   0,   0,   0,   0,   0,   0,   0,   0,   0,   0,   0,   0,\n",
      "          0,   0,   0,   0,   0,   0,   0,   0,   0,   0,   0,   0,   0,   0,\n",
      "          0,   0,   0,   0,   0,   0,   0,   0,   0,   0,   0,   0,   0,   0,\n",
      "          0,   0,   0,   0,   0,   0,   0,   0,   0,   0,   0,   0,   0,   0,\n",
      "          0,   0,   0,   0,   0,   0,   0,   0,   0,   0,   0,   0,   0,   0,\n",
      "          0,   0,   0,   0,   0,   0,   0,   0,   0,   0,   0,   0,   0,   0,\n",
      "          0,   0,   0,   0,   0,   0,   0,   0,   0,   0,   0,   0,   0,   0,\n",
      "          0,   0]), tensor([ 87, 107, 104,  35, 113, 104, 123, 119,  35, 108, 119, 104, 112,  35,\n",
      "        108, 118,  35, 119, 107, 104,  35, 117, 104, 102, 114, 112, 112, 104,\n",
      "        113, 103, 100, 119, 108, 114, 113,  35, 105, 114, 117,  35, 118, 104,\n",
      "        102, 114, 113, 103,  35, 117, 104, 100, 103, 108, 113, 106,  35,  43,\n",
      "         68,  56,  48,  51,  54,  57,  60,  50,  53,  51,  51,  51,  44,  47,\n",
      "         35, 101, 124,  35,  80, 117, 118,  35,  83, 104, 108, 109, 118,  47,\n",
      "         35, 114, 113,  35, 101, 104, 107, 100, 111, 105,  35, 114, 105,  35,\n",
      "        119, 107, 104,  35,  70, 114, 112, 112, 108, 119, 119, 104, 104,  35,\n",
      "        114, 113,  35,  72, 102, 114, 113, 114, 112, 108, 102,  35, 100, 113,\n",
      "        103,   1]), tensor([ 80, 100, 103, 100, 112,  35,  83, 117, 104, 118, 108, 103, 104, 113,\n",
      "        119,  47,  35, 119, 107, 104,  35,  72, 120, 117, 114, 115, 104, 100,\n",
      "        113,  35,  70, 114, 112, 112, 108, 118, 118, 108, 114, 113,  35, 119,\n",
      "        100, 101, 111, 104, 103,  35, 100,  35, 115, 117, 114, 115, 114, 118,\n",
      "        100, 111,  35, 105, 114, 117,  35, 100,  35, 103, 108, 117, 104, 102,\n",
      "        119, 108, 121, 104,  35, 114, 113,  35, 119, 107, 104,  35, 102, 114,\n",
      "        114, 117, 103, 108, 113, 100, 119, 108, 114, 113,  35, 114, 105,  35,\n",
      "        111, 100, 122, 118,  47,  35, 117, 104, 106, 120, 111, 100, 119, 108,\n",
      "        114, 113, 118,  35, 100, 113, 103,  35, 100, 103, 112, 108, 113, 108,\n",
      "        118,   1]), tensor([ 87, 107, 100, 119,  35, 118, 114,  35, 112, 120, 102, 107,  35, 119,\n",
      "        108, 112, 104,  35, 107, 100, 118,  35, 111, 100, 115, 118, 104, 103,\n",
      "         47,  35, 108, 118,  35, 111, 100, 117, 106, 104, 111, 124,  35, 103,\n",
      "        114, 122, 113,  35, 119, 114,  35, 119, 107, 104,  35,  74, 108, 101,\n",
      "        117, 100, 111, 119, 100, 117,  35, 108, 118, 118, 120, 104,  49,   1,\n",
      "          0,   0,   0,   0,   0,   0,   0,   0,   0,   0,   0,   0,   0,   0,\n",
      "          0,   0,   0,   0,   0,   0,   0,   0,   0,   0,   0,   0,   0,   0,\n",
      "          0,   0,   0,   0,   0,   0,   0,   0,   0,   0,   0,   0,   0,   0,\n",
      "          0,   0,   0,   0,   0,   0,   0,   0,   0,   0,   0,   0,   0,   0,\n",
      "          0,   0]), tensor([ 87, 107, 104,  35, 115, 120, 117, 115, 114, 118, 104,  35, 114, 105,\n",
      "         35, 119, 107, 104,  35, 103, 108, 117, 104, 102, 119, 108, 121, 104,\n",
      "         35, 108, 118,  35, 119, 114,  35, 104, 113, 118, 120, 117, 104,  35,\n",
      "        119, 107, 100, 119,  35, 100,  35, 102, 117, 104, 103, 108, 119,  35,\n",
      "        108, 113, 118, 119, 108, 119, 120, 119, 108, 114, 113,  35, 100, 113,\n",
      "        103,  35, 108, 119, 118,  35, 101, 117, 100, 113, 102, 107, 104, 118,\n",
      "         35, 108, 113,  35, 114, 119, 107, 104, 117,  35,  80, 104, 112, 101,\n",
      "        104, 117,  35,  86, 119, 100, 119, 104, 118,  35, 100, 117, 104,  35,\n",
      "        117, 104, 114, 117, 106, 100, 113, 108, 118, 104, 103,  35, 114, 117,\n",
      "         35,   1]), tensor([ 87, 107, 108, 118,  35, 112, 104, 100, 113, 118,  35, 119, 107, 100,\n",
      "        119,  35, 119, 107, 104,  35, 100, 103, 112, 108, 113, 108, 118, 119,\n",
      "        117, 100, 119, 108, 121, 104,  35, 100, 120, 119, 107, 114, 117, 108,\n",
      "        119, 108, 104, 118,  35, 114, 105,  35, 119, 107, 104,  35, 107, 114,\n",
      "        112, 104,  35,  80, 104, 112, 101, 104, 117,  35,  86, 119, 100, 119,\n",
      "        104,  35, 107, 100, 121, 104,  35, 118, 114, 111, 104,  35, 109, 120,\n",
      "        117, 108, 118, 103, 108, 102, 119, 108, 114, 113,  35, 108, 113,  35,\n",
      "        102, 100, 117, 117, 124, 108, 113, 106,  35, 114, 120, 119,  35, 119,\n",
      "        107, 104,  35, 117, 104, 114, 117, 106, 100, 113, 108, 118, 100, 119,\n",
      "        108,   1]), tensor([ 87, 107, 108, 118,  35, 100, 115, 115, 111, 108, 104, 118,  35, 119,\n",
      "        114,  35, 100, 111, 111,  35, 102, 100, 118, 104, 118,  47,  35, 104,\n",
      "        123, 102, 104, 115, 119,  35, 122, 107, 104, 117, 104,  35,  68, 117,\n",
      "        119, 108, 102, 111, 104,  35,  53,  51,  35, 114, 105,  35, 119, 107,\n",
      "        108, 118,  35, 103, 108, 117, 104, 102, 119, 108, 121, 104,  35, 118,\n",
      "        115, 104, 102, 108, 105, 108, 104, 118,  35, 114, 119, 107, 104, 117,\n",
      "        122, 108, 118, 104,  49,   1,   0,   0,   0,   0,   0,   0,   0,   0,\n",
      "          0,   0,   0,   0,   0,   0,   0,   0,   0,   0,   0,   0,   0,   0,\n",
      "          0,   0,   0,   0,   0,   0,   0,   0,   0,   0,   0,   0,   0,   0,\n",
      "          0,   0]), tensor([ 87, 107, 104,  35, 100, 108, 112,  35, 114, 105,  35, 119, 107, 104,\n",
      "         35, 103, 108, 117, 104, 102, 119, 108, 121, 104,  35, 108, 118,  47,\n",
      "         35, 119, 107, 120, 118,  47,  35, 113, 114, 119,  35, 119, 114,  35,\n",
      "        107, 100, 117, 112, 114, 113, 108, 118, 104,  35, 101, 120, 119,  35,\n",
      "        119, 114,  35, 104, 113, 118, 120, 117, 104,  35, 104, 116, 120, 100,\n",
      "        111,  35, 119, 117, 104, 100, 119, 112, 104, 113, 119,  35, 114, 105,\n",
      "         35, 100, 111, 111,  35, 102, 117, 104, 103, 108, 119, 114, 117, 118,\n",
      "         35, 100, 113, 103,  35, 100,  35, 102, 114, 113, 118, 108, 118, 119,\n",
      "        104, 113, 119,  35, 100, 115, 115, 117, 114, 100, 102, 107,  35, 100,\n",
      "        102,   1]), tensor([ 68, 118,  35, 117, 100, 115, 115, 114, 117, 119, 104, 120, 117,  47,\n",
      "         35,  76,  35, 102, 100, 113,  35, 102, 114, 112, 115, 111, 104, 119,\n",
      "        104, 111, 124,  35, 108, 103, 104, 113, 119, 108, 105, 124,  35, 122,\n",
      "        108, 119, 107,  35, 119, 107, 104,  35, 119, 107, 117, 120, 118, 119,\n",
      "         35, 114, 105,  35, 119, 107, 108, 118,  35, 117, 104, 115, 114, 117,\n",
      "        119,  49,   1,   0,   0,   0,   0,   0,   0,   0,   0,   0,   0,   0,\n",
      "          0,   0,   0,   0,   0,   0,   0,   0,   0,   0,   0,   0,   0,   0,\n",
      "          0,   0,   0,   0,   0,   0,   0,   0,   0,   0,   0,   0,   0,   0,\n",
      "          0,   0,   0,   0,   0,   0,   0,   0,   0,   0,   0,   0,   0,   0,\n",
      "          0,   0]), tensor([ 76, 113,  35, 119, 100, 113, 103, 104, 112,  35, 122, 108, 119, 107,\n",
      "         35, 119, 107, 104,  35,  70, 114, 120, 113, 102, 108, 111,  35, 100,\n",
      "        113, 103,  35,  70, 114, 112, 112, 108, 118, 118, 108, 114, 113,  47,\n",
      "         35,  76,  35, 107, 100, 121, 104,  35, 119, 117, 108, 104, 103,  35,\n",
      "        119, 114,  35, 112, 100, 110, 104,  35, 100,  35, 105, 104, 122,  35,\n",
      "        108, 112, 115, 117, 114, 121, 104, 112, 104, 113, 119, 118,  35, 119,\n",
      "        114,  35, 119, 107, 108, 118,  35, 117, 104, 115, 114, 117, 119,  35,\n",
      "        108, 113,  35, 119, 107, 104,  35, 118, 107, 100, 115, 104,  35, 114,\n",
      "        105,  35, 119, 122, 114,  35, 119, 124, 115, 104, 118,  35, 114, 105,\n",
      "         35,   1]), tensor([ 87, 107, 104,  35, 105, 108, 117, 118, 119,  35, 119, 124, 115, 104,\n",
      "         35, 108, 118,  35, 117, 104, 111, 100, 119, 104, 103,  35, 119, 114,\n",
      "         35, 119, 107, 104,  35, 105, 100, 102, 119,  35, 119, 107, 100, 119,\n",
      "         35, 119, 107, 104,  35, 122, 114, 117, 103, 108, 113, 106,  35, 114,\n",
      "        105,  35, 119, 107, 104,  35,  70, 114, 120, 113, 102, 108, 111,  42,\n",
      "         35, 118,  35, 102, 114, 112, 112, 114, 113,  35, 115, 114, 118, 108,\n",
      "        119, 108, 114, 113,  35, 122, 100, 118,  35, 113, 114, 119,  35, 102,\n",
      "        114, 113, 118, 108, 118, 119, 104, 113, 119,  35, 122, 108, 119, 107,\n",
      "         35, 119, 107, 104,  35, 104, 123, 108, 118, 119, 108, 113, 106,  35,\n",
      "        108,   1]), tensor([ 87, 107, 108, 118,  35, 110, 108, 113, 103,  35, 114, 105,  35, 103,\n",
      "        108, 118, 102, 117, 104, 115, 100, 113, 102, 124,  35, 108, 113,  35,\n",
      "        103, 108, 117, 104, 102, 119, 108, 121, 104, 118,  35, 122, 107, 108,\n",
      "        102, 107,  35, 102, 114, 121, 104, 117,  35, 119, 107, 104,  35, 118,\n",
      "        100, 112, 104,  35, 118, 120, 101, 109, 104, 102, 119,  35, 112, 100,\n",
      "        119, 119, 104, 117,  35, 108, 118,  35, 120, 113, 100, 102, 102, 104,\n",
      "        115, 119, 100, 101, 111, 104,  47,  35, 120, 113, 111, 104, 118, 118,\n",
      "         35, 119, 107, 104, 117, 104,  35, 108, 118,  35, 100,  35, 106, 114,\n",
      "        114, 103,  35, 117, 104, 100, 118, 114, 113,  35, 105, 114, 117,  35,\n",
      "        108,   1]), tensor([ 68, 118,  35, 117, 100, 115, 115, 114, 117, 119, 104, 120, 117,  47,\n",
      "         35,  76,  35, 107, 100, 121, 104,  35, 119, 100, 110, 104, 113,  35,\n",
      "        106, 117, 104, 100, 119,  35, 115, 117, 108, 103, 104,  35, 108, 113,\n",
      "         35, 117, 104, 113, 103, 104, 117, 108, 113, 106,  35, 111, 104, 106,\n",
      "        108, 118, 111, 100, 119, 108, 114, 113,  35, 114, 113,  35, 119, 107,\n",
      "        108, 118,  35, 115, 100, 117, 119, 108, 102, 120, 111, 100, 117, 111,\n",
      "        124,  35, 108, 112, 115, 114, 117, 119, 100, 113, 119,  35, 118, 120,\n",
      "        101, 109, 104, 102, 119,  35, 112, 100, 119, 119, 104, 117,  35, 100,\n",
      "        118,  35, 102, 111, 104, 100, 117, 111, 124,  35, 100, 113, 103,  35,\n",
      "        119,   1]), tensor([ 68, 111, 111,  35, 114, 120, 117,  35, 100, 112, 104, 113, 103, 112,\n",
      "        104, 113, 119, 118,  35, 115, 104, 117, 119, 100, 108, 113,  35, 119,\n",
      "        114,  35,  68, 117, 119, 108, 102, 111, 104,  35,  53,  51,  47,  35,\n",
      "        122, 107, 108, 102, 107,  35, 103, 104, 100, 111, 118,  35, 122, 108,\n",
      "        119, 107,  35, 119, 107, 104,  35, 104, 123, 102, 104, 115, 119, 108,\n",
      "        114, 113, 118,  35, 119, 114,  35, 119, 107, 104,  35, 117, 120, 111,\n",
      "        104,  49,   1,   0,   0,   0,   0,   0,   0,   0,   0,   0,   0,   0,\n",
      "          0,   0,   0,   0,   0,   0,   0,   0,   0,   0,   0,   0,   0,   0,\n",
      "          0,   0,   0,   0,   0,   0,   0,   0,   0,   0,   0,   0,   0,   0,\n",
      "          0,   0]), tensor([ 86, 114, 112, 104,  35, 100, 112, 104, 113, 103, 112, 104, 113, 119,\n",
      "        118,  35, 101, 117, 108, 113, 106,  35, 119, 107, 104,  35, 103, 108,\n",
      "        117, 104, 102, 119, 108, 121, 104,  35, 108, 113, 119, 114,  35, 111,\n",
      "        108, 113, 104,  35, 122, 108, 119, 107,  35, 114, 119, 107, 104, 117,\n",
      "         35, 103, 108, 117, 104, 102, 119, 108, 121, 104, 118,  47,  35, 118,\n",
      "        120, 102, 107,  35, 100, 118,  35, 119, 107, 104,  35, 108, 113, 118,\n",
      "        114, 111, 121, 104, 113, 102, 124,  35, 103, 108, 117, 104, 102, 119,\n",
      "        108, 121, 104,  35, 100, 113, 103,  35, 119, 107, 104,  35, 122, 108,\n",
      "        113, 103, 108, 113, 106,  35, 120, 115,  35, 114, 105,  35, 108, 113,\n",
      "        118,   1]), tensor([ 69, 124,  35, 112, 104, 100, 113, 118,  35, 114, 105,  35,  68, 117,\n",
      "        119, 108, 102, 111, 104, 118,  35,  53,  51, 100,  35, 119, 114,  35,\n",
      "         53,  51, 103,  47,  35, 119, 107, 104, 124,  35, 100, 117, 104,  35,\n",
      "        117, 104,  48, 108, 113, 119, 117, 114, 103, 120, 102, 104, 103,  35,\n",
      "        108, 113,  35, 119, 107, 104,  35, 117, 104, 115, 114, 117, 119,  47,\n",
      "         35, 101, 120, 119,  35, 119, 107, 108, 118,  35, 119, 108, 112, 104,\n",
      "         35, 101, 124,  35, 120, 118, 108, 113, 106,  35, 119, 107, 104,  35,\n",
      "        118, 100, 112, 104,  35, 122, 114, 117, 103, 108, 113, 106,  35, 100,\n",
      "        118,  35, 108, 113,  35, 119, 107, 104,  35, 114, 119, 107, 104, 117,\n",
      "         35,   1]), tensor([ 87, 107, 104,  35, 118, 104, 102, 114, 113, 103,  35, 119, 124, 115,\n",
      "        104,  35, 114, 105,  35, 100, 112, 104, 113, 103, 112, 104, 113, 119,\n",
      "         35, 115, 104, 117, 119, 100, 108, 113, 118,  35, 119, 114,  35, 119,\n",
      "        107, 104,  35, 103, 104, 111, 104, 119, 108, 114, 113,  35, 114, 105,\n",
      "         35, 100,  35, 113, 120, 112, 101, 104, 117,  35, 114, 105,  35, 104,\n",
      "        123, 102, 104, 115, 119, 108, 114, 113, 118,  35, 119, 114,  35, 119,\n",
      "        107, 104,  35, 112, 100, 108, 113,  35, 117, 120, 111, 104,  49,   1,\n",
      "          0,   0,   0,   0,   0,   0,   0,   0,   0,   0,   0,   0,   0,   0,\n",
      "          0,   0,   0,   0,   0,   0,   0,   0,   0,   0,   0,   0,   0,   0,\n",
      "          0,   0]), tensor([ 87, 107, 104, 118, 104,  35, 104, 123, 102, 104, 115, 119, 108, 114,\n",
      "        113, 118,  35, 107, 100, 103,  35, 101, 104, 104, 113,  35, 122, 114,\n",
      "        117, 103, 104, 103,  35, 108, 113,  35, 100, 113,  35, 100, 112, 101,\n",
      "        108, 106, 120, 114, 120, 118,  35, 112, 100, 113, 113, 104, 117,  35,\n",
      "        100, 113, 103,  35, 122, 104, 117, 104,  35, 114, 115, 104, 113,  35,\n",
      "        119, 114,  35, 108, 113, 119, 104, 117, 115, 117, 104, 119, 100, 119,\n",
      "        108, 114, 113,  49,   1,   0,   0,   0,   0,   0,   0,   0,   0,   0,\n",
      "          0,   0,   0,   0,   0,   0,   0,   0,   0,   0,   0,   0,   0,   0,\n",
      "          0,   0,   0,   0,   0,   0,   0,   0,   0,   0,   0,   0,   0,   0,\n",
      "          0,   0]), tensor([ 68, 111, 118, 114,  47,  35, 119, 107, 104, 117, 104,  35, 122, 100,\n",
      "        118,  35, 119, 107, 104,  35, 117, 108, 118, 110,  47,  35, 108, 113,\n",
      "         35, 119, 107, 104,  35, 100, 117, 119, 108, 102, 111, 104,  35, 114,\n",
      "        113,  35, 119, 107, 104,  35, 117, 104, 106, 120, 111, 100, 119, 104,\n",
      "        103,  35, 112, 100, 117, 110, 104, 119, 118,  47,  35, 119, 107, 100,\n",
      "        119,  35, 119, 107, 104,  35, 104, 123, 102, 104, 115, 119, 108, 114,\n",
      "        113,  35, 122, 100, 118,  35, 112, 114, 117, 104,  35, 102, 114, 112,\n",
      "        115, 117, 104, 107, 104, 113, 118, 108, 121, 104,  35, 119, 107, 100,\n",
      "        113,  35, 119, 107, 104,  35, 112, 100, 108, 113,  35, 117, 120, 111,\n",
      "        104,   1]), tensor([ 71, 104, 118, 115, 108, 119, 104,  35, 119, 107, 108, 118,  47,  35,\n",
      "        119, 107, 104,  35, 100, 117, 119, 108, 102, 111, 104, 118,  35, 114,\n",
      "        113,  35, 117, 104, 106, 120, 111, 100, 119, 104, 103,  35, 112, 100,\n",
      "        117, 110, 104, 119, 118,  47,  35, 117, 104, 115, 120, 117, 102, 107,\n",
      "        100, 118, 104,  35, 100, 106, 117, 104, 104, 112, 104, 113, 119, 118,\n",
      "         47,  35, 113, 104, 119, 119, 108, 113, 106,  35, 100, 106, 117, 104,\n",
      "        104, 112, 104, 113, 119, 118,  35, 100, 113, 103,  35, 103, 104, 101,\n",
      "        119,  35, 117, 104, 113, 104, 122, 100, 111,  35, 122, 104, 117, 104,\n",
      "         35, 108, 113, 102, 111, 120, 103, 104, 103,  35, 100, 118,  35, 118,\n",
      "        120,   1]), tensor([ 76, 113,  35, 119, 107, 104,  35, 105, 108, 117, 118, 119,  35, 108,\n",
      "        113, 118, 119, 100, 113, 102, 104,  47,  35,  76,  35, 122, 100, 113,\n",
      "        119, 104, 103,  35, 119, 114,  35, 118, 104, 104,  35, 119, 107, 104,\n",
      "        118, 104,  35, 100, 117, 119, 108, 102, 111, 104, 118,  35, 103, 104,\n",
      "        111, 104, 119, 104, 103,  49,   1,   0,   0,   0,   0,   0,   0,   0,\n",
      "          0,   0,   0,   0,   0,   0,   0,   0,   0,   0,   0,   0,   0,   0,\n",
      "          0,   0,   0,   0,   0,   0,   0,   0,   0,   0,   0,   0,   0,   0,\n",
      "          0,   0,   0,   0,   0,   0,   0,   0,   0,   0,   0,   0,   0,   0,\n",
      "          0,   0,   0,   0,   0,   0,   0,   0,   0,   0,   0,   0,   0,   0,\n",
      "          0,   0]), tensor([ 87, 107, 104,  35, 114, 113, 111, 124,  35, 115, 117, 114, 101, 111,\n",
      "        104, 112,  35, 122, 100, 118,  35, 119, 107, 100, 119,  35, 102, 104,\n",
      "        117, 119, 100, 108, 113,  35, 115, 100, 117, 119, 108, 104, 118,  35,\n",
      "        122, 108, 119, 107, 108, 113,  35, 119, 107, 104,  35,  70, 114, 120,\n",
      "        113, 102, 108, 111,  35, 102, 114, 120, 111, 103,  35, 113, 114, 119,\n",
      "         35, 111, 108, 121, 104,  35, 122, 108, 119, 107,  35, 102, 114, 112,\n",
      "        115, 111, 104, 119, 104, 111, 124,  35, 103, 104, 111, 104, 119, 108,\n",
      "        113, 106,  35, 119, 107, 104, 118, 104,  35, 100, 117, 119, 108, 102,\n",
      "        111, 104, 118,  49,   1,   0,   0,   0,   0,   0,   0,   0,   0,   0,\n",
      "          0,   0]), tensor([ 73, 114, 117,  35, 119, 107, 108, 118,  35, 117, 104, 100, 118, 114,\n",
      "        113,  47,  35,  76,  35, 107, 100, 121, 104,  35, 119, 117, 108, 104,\n",
      "        103,  35, 119, 114,  35, 117, 104, 100, 102, 107,  35, 100, 106, 117,\n",
      "        104, 104, 112, 104, 113, 119,  35, 122, 108, 119, 107,  35, 119, 107,\n",
      "        104,  35,  70, 114, 120, 113, 102, 108, 111,  47,  35, 100, 113, 103,\n",
      "         35, 119, 107, 108, 118,  35, 122, 100, 118,  35, 103, 114, 113, 104,\n",
      "         35, 100, 119,  35, 119, 107, 104,  35, 104, 111, 104, 121, 104, 113,\n",
      "        119, 107,  35, 107, 114, 120, 117,  35, 111, 100, 118, 119,  35,  90,\n",
      "        104, 103, 113, 104, 118, 103, 100, 124,  49,   1,   0,   0,   0,   0,\n",
      "          0,   0]), tensor([ 87, 107, 104,  35, 102, 114, 112, 115, 117, 114, 112, 108, 118, 104,\n",
      "         35, 118, 119, 108, 111, 111,  35, 115, 117, 104, 118, 102, 117, 108,\n",
      "        101, 104, 118,  35, 119, 107, 104,  35, 103, 104, 111, 104, 119, 108,\n",
      "        114, 113,  35, 114, 105,  35, 119, 107, 104,  35, 119, 107, 117, 104,\n",
      "        104,  35, 100, 117, 119, 108, 102, 111, 104, 118,  47,  35, 101, 120,\n",
      "        119,  35, 119, 107, 117, 104, 104,  35, 114, 119, 107, 104, 117,  35,\n",
      "        100, 117, 119, 108, 102, 111, 104, 118,  35, 122, 108, 111, 111,  35,\n",
      "        101, 104,  35, 108, 113, 118, 104, 117, 119, 104, 103,  35, 108, 113,\n",
      "        118, 119, 104, 100, 103,  49,   1,   0,   0,   0,   0,   0,   0,   0,\n",
      "          0,   0]), tensor([ 69, 117, 114, 100, 103, 111, 124,  35, 118, 115, 104, 100, 110, 108,\n",
      "        113, 106,  47,  35, 119, 107, 104,  35, 102, 114, 112, 115, 117, 114,\n",
      "        112, 108, 118, 104,  35, 100, 117, 119, 108, 102, 111, 104, 118,  35,\n",
      "        103, 114,  35, 113, 114, 119,  35, 115, 117, 104, 109, 120, 103, 108,\n",
      "        102, 104,  35, 111, 104, 106, 108, 118, 111, 100, 119, 108, 114, 113,\n",
      "         35, 114, 105,  35, 119, 107, 104,  35,  80, 104, 112, 101, 104, 117,\n",
      "         35,  86, 119, 100, 119, 104,  35, 119, 114,  35, 122, 107, 108, 102,\n",
      "        107,  35, 119, 107, 104,  35, 102, 114, 113, 119, 117, 100, 102, 119,\n",
      "         35, 115, 104, 117, 119, 100, 108, 113, 118,  49,   1,   0,   0,   0,\n",
      "          0,   0]), tensor([ 87, 107, 104, 118, 104,  35, 100, 117, 119, 108, 102, 111, 104, 118,\n",
      "         35, 100, 111, 118, 114,  35, 102, 111, 100, 117, 108, 105, 124,  35,\n",
      "        119, 107, 100, 119,  35, 119, 107, 104,  35, 101, 100, 113, 110, 117,\n",
      "        120, 115, 119, 102, 124,  35, 117, 120, 111, 104, 118,  35, 114, 105,\n",
      "         35, 119, 107, 104,  35, 107, 114, 112, 104,  35,  80, 104, 112, 101,\n",
      "        104, 117,  35,  86, 119, 100, 119, 104,  35, 114, 105,  35, 119, 107,\n",
      "        104,  35, 102, 117, 104, 103, 108, 119,  35, 108, 113, 118, 119, 108,\n",
      "        119, 120, 119, 108, 114, 113,  35, 108, 113,  35, 116, 120, 104, 118,\n",
      "        119, 108, 114, 113,  35, 100, 117, 104,  35, 113, 114, 119,  35, 115,\n",
      "        117,   1]), tensor([ 87, 107, 100, 119,  35, 112, 104, 100, 113, 118,  47,  35, 119, 107,\n",
      "        104, 117, 104, 105, 114, 117, 104,  47,  35, 119, 107, 100, 119,  35,\n",
      "        108, 105,  35, 102, 114, 113, 119, 117, 100, 102, 119, 118,  35, 100,\n",
      "        117, 104,  35, 102, 114, 113, 102, 111, 120, 103, 104, 103,  35, 122,\n",
      "        108, 119, 107,  35, 117, 104, 106, 120, 111, 100, 119, 104, 103,  35,\n",
      "        108, 113, 118, 119, 108, 119, 120, 119, 108, 114, 113, 118,  47,  35,\n",
      "        119, 107, 104,  35, 115, 117, 114, 102, 104, 104, 103, 118,  35, 105,\n",
      "        117, 114, 112,  35, 119, 107, 114, 118, 104,  35, 102, 114, 113, 119,\n",
      "        117, 100, 102, 119, 118,  35, 100, 117, 104,  35, 118, 119, 108, 111,\n",
      "        111,   1]), tensor([ 87, 107, 100, 119,  35, 108, 118,  35, 122, 107, 100, 119,  35, 119,\n",
      "        107, 108, 118,  35, 108, 118,  35, 100, 101, 114, 120, 119,  47,  35,\n",
      "        100, 113, 103,  35, 119, 107, 100, 119,  35, 122, 100, 118,  35, 119,\n",
      "        107, 104,  35, 117, 104, 100, 118, 114, 113,  35, 101, 104, 107, 108,\n",
      "        113, 103,  35, 112, 124,  35, 114, 117, 108, 106, 108, 113, 100, 111,\n",
      "         35, 115, 117, 114, 115, 114, 118, 100, 111,  35, 119, 114,  35, 103,\n",
      "        104, 111, 104, 119, 104,  49,   1,   0,   0,   0,   0,   0,   0,   0,\n",
      "          0,   0,   0,   0,   0,   0,   0,   0,   0,   0,   0,   0,   0,   0,\n",
      "          0,   0,   0,   0,   0,   0,   0,   0,   0,   0,   0,   0,   0,   0,\n",
      "          0,   0]), tensor([ 72, 121, 104, 117, 124, 119, 107, 108, 113, 106,  35, 108, 118,  35,\n",
      "        113, 114, 122,  35, 118, 115, 104, 111, 111, 104, 103,  35, 114, 120,\n",
      "        119,  35, 111, 114, 120, 103,  35, 100, 113, 103,  35, 102, 111, 104,\n",
      "        100, 117,  47,  35, 104, 121, 104, 117, 124, 114, 113, 104,  35, 108,\n",
      "        118,  35, 107, 100, 115, 115, 124,  35, 100, 113, 103,  35,  76,  35,\n",
      "        100, 112,  35, 103, 104, 111, 108, 106, 107, 119, 104, 103,  35, 119,\n",
      "        107, 100, 119,  47,  35, 101, 124,  35, 109, 114, 108, 113, 108, 113,\n",
      "        106,  35, 105, 114, 117, 102, 104, 118,  47,  35, 122, 104,  35, 107,\n",
      "        100, 121, 104,  35, 115, 117, 114, 101, 100, 101, 111, 124,  35, 100,\n",
      "        121,   1]), tensor([ 90, 104,  35, 100, 117, 104,  35, 119, 107, 120, 118,  35, 119, 100,\n",
      "        101, 111, 108, 113, 106,  35, 119, 122, 114,  35, 119, 124, 115, 104,\n",
      "        118,  35, 114, 105,  35, 100, 112, 104, 113, 103, 112, 104, 113, 119,\n",
      "         49,   1,   0,   0,   0,   0,   0,   0,   0,   0,   0,   0,   0,   0,\n",
      "          0,   0,   0,   0,   0,   0,   0,   0,   0,   0,   0,   0,   0,   0,\n",
      "          0,   0,   0,   0,   0,   0,   0,   0,   0,   0,   0,   0,   0,   0,\n",
      "          0,   0,   0,   0,   0,   0,   0,   0,   0,   0,   0,   0,   0,   0,\n",
      "          0,   0,   0,   0,   0,   0,   0,   0,   0,   0,   0,   0,   0,   0,\n",
      "          0,   0,   0,   0,   0,   0,   0,   0,   0,   0,   0,   0,   0,   0,\n",
      "          0,   0]), tensor([ 82, 113, 104,  35, 119, 124, 115, 104,  35, 108, 118,  35, 108, 113,\n",
      "        119, 117, 114, 103, 120, 102, 108, 113, 106,  35, 107, 100, 117, 112,\n",
      "        114, 113, 108, 118, 100, 119, 108, 114, 113,  35, 122, 108, 119, 107,\n",
      "         35, 117, 104, 118, 115, 104, 102, 119,  35, 119, 114,  35, 114, 119,\n",
      "        107, 104, 117,  35, 103, 108, 117, 104, 102, 119, 108, 121, 104, 118,\n",
      "         47,  35, 119, 107, 104,  35, 114, 119, 107, 104, 117,  35, 103, 104,\n",
      "        111, 104, 119, 108, 113, 106,  35, 100,  35, 113, 120, 112, 101, 104,\n",
      "        117,  35, 114, 105,  35, 104, 123, 102, 104, 115, 119, 108, 114, 113,\n",
      "        118,  49,   1,   0,   0,   0,   0,   0,   0,   0,   0,   0,   0,   0,\n",
      "          0,   0]), tensor([ 76,  35, 107, 114, 115, 104,  35, 105, 117, 114, 112,  35, 119, 107,\n",
      "        104,  35, 101, 114, 119, 119, 114, 112,  35, 114, 105,  35, 112, 124,\n",
      "         35, 107, 104, 100, 117, 119,  35, 119, 107, 100, 119,  35, 119, 107,\n",
      "        108, 118,  35, 111, 104, 106, 108, 118, 111, 100, 119, 108, 114, 113,\n",
      "         47,  35, 122, 107, 108, 102, 107,  35,  76,  35, 101, 104, 111, 108,\n",
      "        104, 121, 104,  35,  83, 100, 117, 111, 108, 100, 112, 104, 113, 119,\n",
      "         35, 107, 100, 118,  35, 120, 115, 106, 117, 100, 103, 104, 103,  35,\n",
      "        108, 113,  35, 119, 104, 117, 112, 118,  35, 114, 105,  35, 116, 120,\n",
      "        100, 111, 108, 119, 124,  47,  35, 122, 108, 111, 111,  35, 113, 104,\n",
      "        121,   1]), tensor([ 80, 117,  35,  83, 117, 104, 118, 108, 103, 104, 113, 119,  47,  35,\n",
      "        119, 107, 104,  35, 112, 100, 108, 113,  35, 115, 114, 108, 113, 119,\n",
      "        118,  35, 114, 105,  35, 102, 114, 113, 119, 117, 114, 121, 104, 117,\n",
      "        118, 124,  35, 108, 113,  35, 119, 107, 108, 118,  35, 117, 104, 115,\n",
      "        114, 117, 119,  35, 102, 114, 113, 102, 104, 117, 113,  35, 119, 107,\n",
      "        117, 104, 104,  35, 103, 108, 105, 105, 104, 117, 104, 113, 119,  35,\n",
      "        119, 124, 115, 104, 118,  35, 114, 105,  35, 102, 114, 113, 119, 117,\n",
      "        100, 102, 119, 120, 100, 111,  35, 100, 106, 117, 104, 104, 112, 104,\n",
      "        113, 119,  47,  35, 113, 100, 112, 104, 111, 124,  35, 117, 104, 115,\n",
      "        114,   1]), tensor([ 68, 118,  35,  80, 117, 118,  35,  83, 104, 108, 109, 118,  42,  35,\n",
      "        117, 104, 115, 114, 117, 119,  35, 114, 120, 119, 111, 108, 113, 104,\n",
      "        103,  47,  35, 119, 107, 104, 118, 104,  35, 119, 124, 115, 104, 118,\n",
      "         35, 114, 105,  35, 102, 114, 113, 119, 117, 100, 102, 119, 118,  35,\n",
      "        122, 104, 117, 104,  35, 103, 108, 118, 102, 120, 118, 118, 104, 103,\n",
      "         35, 108, 113,  35, 102, 114, 112, 112, 108, 119, 119, 104, 104,  35,\n",
      "        115, 104, 113, 103, 108, 113, 106,  35, 119, 107, 108, 118,  35, 103,\n",
      "        104, 101, 100, 119, 104,  35, 100, 113, 103,  47,  35, 108, 113,  35,\n",
      "        104, 118, 118, 104, 113, 102, 104,  47,  35, 122, 107, 100, 119,  35,\n",
      "        122,   1]), tensor([ 87, 107, 104, 117, 104,  35, 108, 118,  35, 100,  35, 118, 104, 115,\n",
      "        100, 117, 100, 119, 108, 114, 113,  35, 107, 104, 117, 104,  35, 101,\n",
      "        104, 119, 122, 104, 104, 113,  35, 119, 107, 104,  35, 111, 100, 122,\n",
      "         35, 114, 105,  35, 119, 107, 104,  35, 102, 114, 113, 119, 117, 100,\n",
      "        102, 119,  35, 100, 113, 103,  35, 119, 107, 104,  35, 104, 123, 119,\n",
      "        104, 117, 113, 100, 111,  35, 108, 113, 118, 114, 111, 121, 104, 113,\n",
      "        102, 124,  35, 111, 100, 122,  47,  35, 101, 104, 102, 100, 120, 118,\n",
      "        104,  35, 108, 119,  35, 108, 118,  35, 116, 120, 108, 119, 104,  35,\n",
      "        108, 112, 115, 114, 117, 119, 100, 113, 119,  35, 119, 114,  35, 104,\n",
      "        113,   1]), tensor([ 81, 114, 122,  35, 100,  35, 115, 117, 114, 101, 111, 104, 112,  35,\n",
      "        100, 117, 108, 118, 104, 118,  35, 102, 114, 113, 102, 104, 117, 113,\n",
      "        108, 113, 106,  35, 119, 107, 104,  35, 108, 113, 119, 104, 117, 100,\n",
      "        102, 119, 108, 114, 113,  35, 101, 104, 119, 122, 104, 104, 113,  35,\n",
      "        119, 107, 104,  35, 111, 100, 122,  35, 114, 105,  35, 102, 114, 113,\n",
      "        119, 117, 100, 102, 119,  35, 100, 113, 103,  35, 108, 113, 118, 114,\n",
      "        111, 121, 104, 113, 102, 124,  35, 111, 100, 122,  49,   1,   0,   0,\n",
      "          0,   0,   0,   0,   0,   0,   0,   0,   0,   0,   0,   0,   0,   0,\n",
      "          0,   0,   0,   0,   0,   0,   0,   0,   0,   0,   0,   0,   0,   0,\n",
      "          0,   0]), tensor([ 90, 107, 100, 119,  35, 122, 104,  35, 100, 117, 104,  35, 119, 117,\n",
      "        124, 108, 113, 106,  35, 119, 114,  35, 103, 114,  35, 108, 118,  35,\n",
      "        119, 114,  35, 104, 113, 118, 120, 117, 104,  35, 119, 107, 100, 119,\n",
      "         35, 119, 107, 104,  35, 102, 114, 113, 119, 117, 100, 102, 119,  35,\n",
      "        114, 115, 104, 117, 100, 119, 104, 118,  35, 100, 113, 103,  35, 122,\n",
      "        107, 100, 119, 104, 121, 104, 117,  35, 115, 117, 114, 102, 104, 104,\n",
      "        103, 118,  35, 100, 117, 104,  35, 111, 104, 105, 119,  35, 100, 119,\n",
      "         35, 119, 107, 104,  35, 114, 119, 107, 104, 117,  35, 104, 113, 103,\n",
      "         35, 100, 117, 104,  35, 119, 107, 104, 113,  35, 103, 104, 100, 111,\n",
      "        119,   1]), tensor([ 87, 107, 104, 117, 104,  35, 108, 118,  35, 118, 119, 108, 111, 111,\n",
      "         35, 114, 113, 104,  35, 118, 111, 108, 106, 107, 119,  35, 120, 113,\n",
      "        102, 104, 117, 119, 100, 108, 113, 119, 124,  35, 108, 113,  35, 119,\n",
      "        107, 104,  35, 119, 104, 123, 119,  35, 100, 101, 114, 120, 119,  35,\n",
      "        122, 107, 100, 119,  35, 107, 100, 115, 115, 104, 113, 118,  35, 122,\n",
      "        108, 119, 107,  35, 117, 104, 106, 108, 112, 104, 118,  47,  35, 105,\n",
      "        114, 117,  35, 104, 123, 100, 112, 115, 111, 104,  47,  35, 108, 113,\n",
      "         35,  86, 115, 100, 108, 113,  35, 122, 107, 108, 102, 107,  35, 107,\n",
      "        100, 121, 104,  35, 108, 113, 118, 114, 111, 121, 104, 113, 102, 124,\n",
      "         35,   1]), tensor([ 76, 113,  35, 104, 118, 118, 104, 113, 102, 104,  47,  35, 119, 107,\n",
      "        104, 118, 104,  35, 100, 117, 104,  35, 110, 113, 114, 122, 113,  35,\n",
      "        100, 118,  35, 100, 120, 119, 114, 112, 100, 119, 108, 102,  35, 118,\n",
      "        119, 100, 124, 118,  35, 100, 113, 103,  35, 112, 104, 100, 113,  35,\n",
      "        119, 107, 100, 119,  35, 108, 113,  35, 102, 104, 117, 119, 100, 108,\n",
      "        113,  35, 102, 114, 120, 113, 119, 117, 108, 104, 118,  47,  35, 118,\n",
      "        120, 102, 107,  35, 100, 118,  35,  86, 115, 100, 108, 113,  47,  35,\n",
      "         76,  35, 101, 104, 111, 108, 104, 121, 104,  35, 100, 111, 111,  35,\n",
      "        102, 114, 113, 119, 117, 100, 102, 119, 118,  35, 100, 117, 104,  35,\n",
      "        118,   1]), tensor([ 76,  35, 100, 115, 115, 111, 100, 120, 103,  35,  80, 117, 118,  35,\n",
      "         83, 104, 108, 109, 118,  42,  35, 122, 114, 117, 110,  35, 108, 113,\n",
      "         35, 117, 104, 102, 114, 113, 102, 108, 111, 108, 113, 106,  35, 122,\n",
      "        107, 100, 119,  35, 111, 114, 114, 110, 104, 103,  35, 105, 100, 108,\n",
      "        117, 111, 124,  35, 108, 117, 117, 104, 102, 114, 113, 102, 108, 111,\n",
      "        100, 101, 111, 104,  35, 100, 113, 103,  35, 102, 114, 112, 108, 113,\n",
      "        106,  35, 120, 115,  35, 122, 108, 119, 107,  35, 100,  35, 118, 114,\n",
      "        111, 120, 119, 108, 114, 113,  35, 119, 107, 100, 119,  35, 105, 100,\n",
      "        121, 114, 120, 117, 118,  35, 107, 114, 112, 104,  35,  86, 119, 100,\n",
      "        119,   1]), tensor([ 76,  35, 107, 114, 115, 104,  35, 119, 107, 100, 119,  35, 122, 104,\n",
      "         35, 122, 108, 111, 111,  35, 113, 114, 119,  35, 107, 100, 121, 104,\n",
      "         35, 119, 114,  35, 107, 100, 121, 104,  35, 100,  35, 119, 107, 108,\n",
      "        117, 103,  35, 117, 104, 100, 103, 108, 113, 106,  47,  35, 101, 120,\n",
      "        119,  35, 122, 104,  35, 112, 100, 124,  35, 107, 100, 121, 104,  35,\n",
      "        119, 114,  35, 109, 120, 118, 119,  35, 119, 114,  35, 112, 100, 110,\n",
      "        104,  35, 108, 119,  35, 100, 101, 118, 114, 111, 120, 119, 104, 111,\n",
      "        124,  35, 102, 111, 104, 100, 117,  35, 119, 107, 100, 119,  35, 119,\n",
      "        107, 104, 118, 104,  35, 100, 120, 119, 114, 112, 100, 119, 108, 102,\n",
      "         35,   1]), tensor([ 76,  35, 122, 114, 120, 111, 103,  35, 100, 115, 115, 104, 100, 111,\n",
      "         35, 119, 114,  35, 119, 107, 104,  35,  75, 114, 120, 118, 104,  35,\n",
      "        119, 107, 100, 119,  35, 108, 113,  35, 118, 114, 112, 104,  35, 122,\n",
      "        100, 124, 118,  35, 108, 119,  35, 108, 118,  35, 112, 114, 117, 104,\n",
      "         35, 108, 112, 115, 114, 117, 119, 100, 113, 119,  35, 119, 114,  35,\n",
      "        106, 104, 119,  35, 100,  35, 102, 111, 104, 100, 117,  35, 100, 113,\n",
      "        118, 122, 104, 117,  35, 119, 107, 100, 113,  35, 119, 114,  35, 106,\n",
      "        104, 119,  35, 114, 113, 104,  35, 119, 107, 100, 119,  35, 118, 120,\n",
      "        108, 119, 118,  35, 104, 121, 104, 117, 124, 114, 113, 104,  62,  35,\n",
      "        114,   1]), tensor([ 69, 104, 102, 100, 120, 118, 104,  35, 122, 108, 119, 107,  35, 100,\n",
      "         35, 102, 111, 104, 100, 117,  35, 100, 113, 118, 122, 104, 117,  35,\n",
      "        115, 104, 114, 115, 111, 104,  35, 102, 100, 113,  35, 100, 117, 117,\n",
      "        100, 113, 106, 104,  35, 119, 107, 104, 108, 117,  35, 119, 117, 100,\n",
      "        113, 118, 100, 102, 119, 108, 114, 113, 118,  35, 100, 117, 114, 120,\n",
      "        113, 103,  35, 119, 107, 104,  35, 105, 117, 100, 112, 104, 122, 114,\n",
      "        117, 110,  35, 119, 107, 100, 119,  35, 122, 104,  35, 107, 100, 121,\n",
      "        104,  35, 118, 104, 119,  35, 120, 115,  49,   1,   0,   0,   0,   0,\n",
      "          0,   0,   0,   0,   0,   0,   0,   0,   0,   0,   0,   0,   0,   0,\n",
      "          0,   0]), tensor([ 76, 119,  35, 108, 118,  35, 121, 108, 119, 100, 111,  35, 119, 114,\n",
      "         35, 103, 114,  35, 119, 107, 100, 119,  49,   1,   0,   0,   0,   0,\n",
      "          0,   0,   0,   0,   0,   0,   0,   0,   0,   0,   0,   0,   0,   0,\n",
      "          0,   0,   0,   0,   0,   0,   0,   0,   0,   0,   0,   0,   0,   0,\n",
      "          0,   0,   0,   0,   0,   0,   0,   0,   0,   0,   0,   0,   0,   0,\n",
      "          0,   0,   0,   0,   0,   0,   0,   0,   0,   0,   0,   0,   0,   0,\n",
      "          0,   0,   0,   0,   0,   0,   0,   0,   0,   0,   0,   0,   0,   0,\n",
      "          0,   0,   0,   0,   0,   0,   0,   0,   0,   0,   0,   0,   0,   0,\n",
      "          0,   0,   0,   0,   0,   0,   0,   0,   0,   0,   0,   0,   0,   0,\n",
      "          0,   0]), tensor([ 76,  35, 100, 115, 115, 111, 100, 120, 103,  35, 119, 107, 104,  35,\n",
      "        122, 114, 117, 110,  35, 119, 107, 100, 119,  35,  80, 117, 118,  35,\n",
      "         83, 104, 108, 109, 118,  35, 107, 100, 118,  35, 103, 114, 113, 104,\n",
      "         35, 100, 113, 103,  35,  76,  35, 107, 114, 115, 104,  35, 119, 107,\n",
      "        100, 119,  35, 122, 104,  35, 107, 100, 121, 104,  35, 105, 108, 113,\n",
      "        100, 111, 111, 124,  35, 118, 114, 117, 119, 104, 103,  35, 119, 107,\n",
      "        108, 118,  35, 108, 118, 118, 120, 104,  35, 114, 120, 119,  49,   1,\n",
      "          0,   0,   0,   0,   0,   0,   0,   0,   0,   0,   0,   0,   0,   0,\n",
      "          0,   0,   0,   0,   0,   0,   0,   0,   0,   0,   0,   0,   0,   0,\n",
      "          0,   0]), tensor([ 76,  35, 109, 120, 118, 119,  35, 107, 100, 121, 104,  35, 102, 104,\n",
      "        117, 119, 100, 108, 113,  35, 122, 114, 117, 117, 108, 104, 118,  35,\n",
      "        100, 101, 114, 120, 119,  35, 119, 107, 104,  35, 100, 120, 119, 114,\n",
      "        112, 100, 119, 108, 102,  35, 118, 119, 100, 124, 118,  35, 100, 113,\n",
      "        103,  35, 118, 120, 118, 115, 104, 102, 119,  35, 119, 107, 100, 119,\n",
      "         35, 122, 104,  35, 112, 108, 106, 107, 119,  35, 113, 104, 104, 103,\n",
      "         35, 118, 114, 112, 104,  35, 105, 108, 113, 104,  48, 119, 120, 113,\n",
      "        108, 113, 106,  35, 100, 119,  35, 100,  35, 111, 100, 119, 104, 117,\n",
      "         35, 118, 119, 100, 106, 104,  49,   1,   0,   0,   0,   0,   0,   0,\n",
      "          0,   0]), tensor([ 87, 107, 104,  35, 114, 119, 107, 104, 117,  35, 102, 114, 113, 119,\n",
      "        117, 114, 121, 104, 117, 118, 108, 100, 111,  35, 108, 118, 118, 120,\n",
      "        104,  35, 108, 113, 121, 114, 111, 121, 104, 118,  35, 117, 108, 106,\n",
      "        107, 119,  35, 108, 113,  35, 117, 104, 112,  35, 100, 113, 103,  35,\n",
      "        119, 107, 104,  35, 103, 108, 105, 105, 104, 117, 104, 113, 102, 104,\n",
      "         35, 101, 104, 119, 122, 104, 104, 113,  35, 119, 107, 104,  35, 102,\n",
      "        114, 112, 112, 114, 113,  35, 115, 114, 118, 108, 119, 108, 114, 113,\n",
      "         35, 100, 113, 103,  35, 119, 107, 104,  35, 119, 108, 103, 124, 108,\n",
      "        113, 106,  35, 120, 115,  35, 114, 115, 104, 117, 100, 119, 108, 114,\n",
      "        113,   1]), tensor([ 76, 113,  35, 104, 118, 118, 104, 113, 102, 104,  47,  35, 119, 107,\n",
      "        104, 117, 104,  35, 108, 118,  35, 100,  35, 111, 114, 119,  35, 114,\n",
      "        105,  35, 102, 114, 112, 112, 114, 113,  35, 106, 117, 114, 120, 113,\n",
      "        103,  35, 101, 104, 119, 122, 104, 104, 113,  35, 122, 107, 100, 119,\n",
      "         35, 119, 107, 104,  35,  70, 114, 120, 113, 102, 108, 111,  35, 115,\n",
      "        117, 114, 115, 114, 118, 104, 118,  35, 108, 113,  35, 119, 107, 104,\n",
      "         35, 102, 114, 112, 112, 114, 113,  35, 115, 114, 118, 108, 119, 108,\n",
      "        114, 113,  35, 100, 113, 103,  35, 119, 107, 104,  35, 100, 111, 119,\n",
      "        104, 117, 113, 100, 119, 108, 121, 104,  35, 122, 114, 117, 103, 108,\n",
      "        113,   1]), tensor([ 76,  35, 100, 112,  35, 108, 113, 102, 111, 108, 113, 104, 103,  35,\n",
      "        119, 114,  35, 119, 107, 108, 113, 110,  47,  35, 108, 113,  35, 121,\n",
      "        108, 104, 122,  35, 114, 105,  35, 119, 107, 104,  35, 120, 113, 102,\n",
      "        104, 117, 119, 100, 108, 113, 119, 124,  47,  35, 119, 107, 100, 119,\n",
      "         35, 108, 119,  35, 112, 100, 124,  35, 122, 104, 111, 111,  35, 101,\n",
      "        104,  35, 122, 114, 117, 119, 107,  35, 118, 119, 108, 102, 110, 108,\n",
      "        113, 106,  35, 119, 114,  35, 119, 107, 104,  35, 102, 114, 112, 112,\n",
      "        114, 113,  35, 115, 114, 118, 108, 119, 108, 114, 113,  35, 114, 113,\n",
      "         35, 119, 107, 100, 119,  35, 115, 100, 117, 119, 108, 102, 120, 111,\n",
      "        100,   1]), tensor([ 87, 107, 108, 118,  35, 108, 118,  35, 113, 114, 119,  35, 100,  35,\n",
      "        118, 119, 117, 100, 119, 104, 106, 108, 102,  35, 108, 113, 119, 104,\n",
      "        117, 104, 118, 119,  35, 119, 114,  35, 112, 104,  35, 100, 118,  35,\n",
      "        100,  35,  69, 117, 108, 119, 108, 118, 107,  35,  80,  72,  83,  47,\n",
      "         35, 101, 104, 102, 100, 120, 118, 104,  35, 108, 119,  35, 103, 114,\n",
      "        104, 118,  35, 113, 114, 119,  35, 100, 105, 105, 104, 102, 119,  35,\n",
      "        119, 107, 104,  35,  69, 117, 108, 119, 108, 118, 107,  35, 112, 100,\n",
      "        117, 110, 104, 119,  35, 108, 113,  35, 100, 113, 124,  35, 122, 100,\n",
      "        124,  35,  48,  35, 108, 119,  35, 108, 118,  35, 112, 120, 102, 107,\n",
      "         35,   1]), tensor([ 76,  35, 122, 114, 120, 111, 103,  35, 102, 114, 113, 106, 117, 100,\n",
      "        119, 120, 111, 100, 119, 104,  35,  80, 117, 118,  35,  83, 104, 108,\n",
      "        109, 118,  35, 114, 113,  35, 107, 104, 117,  35, 122, 114, 117, 110,\n",
      "         49,   1,   0,   0,   0,   0,   0,   0,   0,   0,   0,   0,   0,   0,\n",
      "          0,   0,   0,   0,   0,   0,   0,   0,   0,   0,   0,   0,   0,   0,\n",
      "          0,   0,   0,   0,   0,   0,   0,   0,   0,   0,   0,   0,   0,   0,\n",
      "          0,   0,   0,   0,   0,   0,   0,   0,   0,   0,   0,   0,   0,   0,\n",
      "          0,   0,   0,   0,   0,   0,   0,   0,   0,   0,   0,   0,   0,   0,\n",
      "          0,   0,   0,   0,   0,   0,   0,   0,   0,   0,   0,   0,   0,   0,\n",
      "          0,   0]), tensor([ 76, 119,  35, 108, 118,  35, 100,  35, 121, 104, 117, 124,  35, 106,\n",
      "        114, 114, 103,  35, 117, 104, 115, 114, 117, 119,  49,  35,  87, 107,\n",
      "        104, 117, 104,  35, 100, 117, 104,  35, 118, 119, 108, 111, 111,  35,\n",
      "        114, 113, 104,  35, 114, 117,  35, 119, 122, 114,  35, 118, 112, 100,\n",
      "        111, 111,  35, 115, 114, 108, 113, 119, 118,  35, 114, 105,  35, 102,\n",
      "        114, 113, 119, 117, 114, 121, 104, 117, 118, 124,  35, 108, 113,  35,\n",
      "        108, 119,  47,  35, 101, 120, 119,  35, 118, 107, 104,  35, 107, 100,\n",
      "        118,  35, 103, 114, 113, 104,  35, 100, 113,  35, 104, 123, 102, 104,\n",
      "        111, 111, 104, 113, 119,  35, 109, 114, 101,  49,   1,   0,   0,   0,\n",
      "          0,   0]), tensor([ 76,  35, 100, 115, 114, 111, 114, 106, 108, 118, 104,  35, 105, 114,\n",
      "        117,  35, 119, 107, 104,  35, 102, 114, 113, 105, 120, 118, 108, 114,\n",
      "        113,  35, 122, 104,  35, 107, 100, 121, 104,  35, 107, 100, 103,  35,\n",
      "        108, 113,  35, 102, 114, 112, 112, 108, 119, 119, 104, 104,  35, 114,\n",
      "        121, 104, 117,  35, 119, 107, 104,  35, 121, 114, 119, 108, 113, 106,\n",
      "         35, 100, 113, 103,  35,  76,  35, 100, 112,  35, 106, 111, 100, 103,\n",
      "         35, 119, 107, 100, 119,  35, 108, 119,  35, 107, 100, 118,  35, 100,\n",
      "        111, 111,  35, 101, 104, 104, 113,  35, 117, 104, 118, 114, 111, 121,\n",
      "        104, 103,  35, 113, 114, 122,  49,   1,   0,   0,   0,   0,   0,   0,\n",
      "          0,   0]), tensor([ 80, 117,  35,  83, 117, 104, 118, 108, 103, 104, 113, 119,  47,  35,\n",
      "         76,  35, 103, 114,  35, 113, 114, 119,  35, 105, 104, 104, 111,  35,\n",
      "        119, 107, 100, 119,  35,  76,  35, 122, 108, 111, 111,  35, 113, 104,\n",
      "        104, 103,  35, 119, 107, 104,  35, 105, 120, 111, 111,  35, 105, 108,\n",
      "        121, 104,  35, 112, 108, 113, 120, 119, 104, 118,  47,  35, 107, 114,\n",
      "        115, 104, 105, 120, 111, 111, 124,  35, 119, 107, 108, 118,  35, 122,\n",
      "        108, 111, 111,  35, 100, 111, 111, 114, 122,  35, 124, 114, 120,  35,\n",
      "        119, 114,  35, 118, 115, 104, 104, 103,  35, 120, 115,  35, 115, 117,\n",
      "        114, 102, 104, 104, 103, 108, 113, 106, 118,  35, 119, 114, 113, 108,\n",
      "        106,   1]), tensor([ 76,  35, 122, 114, 120, 111, 103,  35, 105, 108, 117, 118, 119, 111,\n",
      "        124,  35, 111, 108, 110, 104,  35, 119, 114,  35, 102, 114, 113, 106,\n",
      "        117, 100, 119, 120, 111, 100, 119, 104,  35,  80, 117, 118,  35,  83,\n",
      "        104, 108, 109, 118,  35, 100, 118,  35, 117, 100, 115, 115, 114, 117,\n",
      "        119, 104, 120, 117,  35, 114, 113,  35, 119, 107, 108, 118,  35, 117,\n",
      "        104, 115, 114, 117, 119,  35, 122, 107, 108, 102, 107,  47,  35, 100,\n",
      "        118,  35,  80, 117, 118,  35,  89, 108, 111, 111, 108, 104, 117, 118,\n",
      "         35, 107, 100, 118,  35, 100, 111, 117, 104, 100, 103, 124,  35, 114,\n",
      "        120, 119, 111, 108, 113, 104, 103,  47,  35, 107, 100, 118,  35, 101,\n",
      "        104,   1]), tensor([ 87, 107, 104,  35, 108, 118, 118, 120, 104,  35, 107, 100, 118,  35,\n",
      "        111, 114, 113, 106,  35, 101, 104, 104, 113,  35, 115, 117, 114, 101,\n",
      "        111, 104, 112, 100, 119, 108, 102,  47,  35, 112, 100, 108, 113, 111,\n",
      "        124,  35, 101, 104, 102, 100, 120, 118, 104,  35, 114, 105,  35, 119,\n",
      "        107, 104,  35, 113, 100, 119, 108, 114, 113, 100, 111,  35, 103, 108,\n",
      "        105, 105, 104, 117, 104, 113, 102, 104, 118,  35, 100, 119,  35, 106,\n",
      "        114, 121, 104, 117, 113, 112, 104, 113, 119, 100, 111,  35, 111, 104,\n",
      "        121, 104, 111,  47,  35, 117, 100, 119, 107, 104, 117,  35, 119, 107,\n",
      "        100, 113,  35, 119, 107, 104,  35, 108, 118, 118, 120, 104, 118,  35,\n",
      "        103,   1]), tensor([ 76, 113,  35, 100, 113,  35, 104, 105, 105, 114, 117, 119,  35, 119,\n",
      "        114,  35, 115, 117, 114, 121, 108, 103, 104,  35, 105, 114, 117,  35,\n",
      "        104, 116, 120, 100, 111,  35, 119, 117, 104, 100, 119, 112, 104, 113,\n",
      "        119,  35, 100, 102, 117, 114, 118, 118,  35, 119, 107, 104,  35,  72,\n",
      "         88,  47,  35, 119, 107, 104,  35, 115, 117, 108, 113, 102, 108, 115,\n",
      "        111, 104, 118,  35, 114, 105,  35, 120, 113, 108, 119, 124,  35, 100,\n",
      "        113, 103,  35, 120, 113, 108, 121, 104, 117, 118, 100, 111, 108, 119,\n",
      "        124,  35, 100, 117, 104,  35, 119, 107, 104,  35, 102, 104, 113, 119,\n",
      "        117, 100, 111,  35, 115, 108, 111, 111, 100, 117, 118,  47,  35, 114,\n",
      "        105,   1]), tensor([ 86, 108, 112, 108, 111, 100, 117, 111, 124,  35, 119, 107, 104,  35,\n",
      "        117, 108, 106, 107, 119, 118,  35, 114, 105,  35, 102, 117, 104, 103,\n",
      "        108, 119, 114, 117, 118,  35, 108, 113,  35,  80, 104, 112, 101, 104,\n",
      "        117,  35,  86, 119, 100, 119, 104, 118,  35, 114, 119, 107, 104, 117,\n",
      "         35, 119, 107, 100, 113,  35, 119, 107, 104, 108, 117,  35, 114, 122,\n",
      "        113,  35, 100, 117, 104,  35, 118, 100, 105, 104, 106, 120, 100, 117,\n",
      "        103, 104, 103,  35, 101, 124,  35, 119, 107, 104,  35, 100, 118, 118,\n",
      "        120, 117, 100, 113, 102, 104, 118,  35, 114, 105,  35, 102, 114, 114,\n",
      "        115, 104, 117, 100, 119, 108, 114, 113,  35, 101, 104, 119, 122, 104,\n",
      "        104,   1]), tensor([ 83, 100, 117, 111, 108, 100, 112, 104, 113, 119,  42, 118,  35, 118,\n",
      "        120, 102, 102, 104, 118, 118,  35, 108, 113,  35, 108, 113, 119, 117,\n",
      "        114, 103, 120, 102, 108, 113, 106,  35, 118, 120, 101, 118, 119, 100,\n",
      "        113, 119, 108, 100, 111,  35, 102, 107, 100, 113, 106, 104, 118,  35,\n",
      "        108, 113,  35, 119, 107, 104,  35, 114, 117, 108, 106, 108, 113, 100,\n",
      "        111,  35, 115, 117, 114, 115, 114, 118, 100, 111,  35, 108, 118,  35,\n",
      "        108, 112, 115, 114, 117, 119, 100, 113, 119,  49,   1,   0,   0,   0,\n",
      "          0,   0,   0,   0,   0,   0,   0,   0,   0,   0,   0,   0,   0,   0,\n",
      "          0,   0,   0,   0,   0,   0,   0,   0,   0,   0,   0,   0,   0,   0,\n",
      "          0,   0]), tensor([ 87, 107, 104, 117, 104,  35, 100, 117, 104,  35, 112, 100, 113, 124,\n",
      "         35, 108, 113,  35,  83, 100, 117, 111, 108, 100, 112, 104, 113, 119,\n",
      "         35, 122, 107, 114,  35, 105, 104, 104, 111,  35, 119, 107, 104,  35,\n",
      "        108, 118, 118, 120, 104, 118,  35, 107, 104, 117, 104,  35, 100, 117,\n",
      "        104,  35, 114, 105,  35, 117, 104, 100, 111,  35, 102, 114, 113, 102,\n",
      "        104, 117, 113,  35, 118, 108, 113, 102, 104,  35, 119, 107, 104, 124,\n",
      "         35, 100, 111, 111,  35, 102, 114, 113, 102, 104, 117, 113,  35, 119,\n",
      "        107, 104,  35, 118, 100, 105, 104, 106, 120, 100, 117, 103, 108, 113,\n",
      "        106,  35, 114, 105,  35,  72, 120, 117, 114, 115, 104, 100, 113,  35,\n",
      "        102,   1]), tensor([ 69, 120, 119,  47,  35, 114, 105,  35, 102, 114, 120, 117, 118, 104,\n",
      "         47,  35, 112, 100, 113, 124,  35, 114, 105,  35, 119, 107, 104,  35,\n",
      "        102, 107, 100, 113, 106, 104, 118,  35, 108, 113,  35, 119, 107, 104,\n",
      "         35, 102, 114, 112, 112, 114, 113,  35, 115, 114, 118, 108, 119, 108,\n",
      "        114, 113,  35, 122, 107, 108, 102, 107,  35, 105, 108, 113, 100, 111,\n",
      "        111, 124,  35, 102, 100, 112, 104,  35, 101, 100, 102, 110,  35, 119,\n",
      "        114,  35, 120, 118,  35, 107, 100, 121, 104,  35, 119, 114,  35, 101,\n",
      "        104,  35, 122, 104, 111, 102, 114, 112, 104, 103,  47,  35, 100, 118,\n",
      "         35, 119, 107, 104, 124,  35, 117, 104, 105, 111, 104, 102, 119,  35,\n",
      "        112,   1]), tensor([ 76, 119,  35, 108, 118,  35, 119, 107, 104, 117, 104, 105, 114, 117,\n",
      "        104,  35, 118, 104, 113, 118, 108, 101, 111, 104,  35, 105, 114, 117,\n",
      "         35,  83, 100, 117, 111, 108, 100, 112, 104, 113, 119,  47,  35, 122,\n",
      "        107, 108, 111, 118, 119,  35, 100, 102, 102, 104, 115, 119, 108, 113,\n",
      "        106,  35, 119, 107, 104,  35, 108, 112, 115, 117, 114, 121, 104, 103,\n",
      "         35, 103, 114, 102, 120, 112, 104, 113, 119,  42, 118,  35, 108, 113,\n",
      "        119, 104, 113, 119, 108, 114, 113, 118,  47,  35, 119, 114,  35, 117,\n",
      "        104, 108, 112, 115, 114, 118, 104,  35, 114, 120, 117,  35, 115, 117,\n",
      "        108, 114, 117, 108, 119, 108, 104, 118,  35, 105, 117, 114, 112,  35,\n",
      "        119,   1]), tensor([ 68, 112, 104, 113, 103, 112, 104, 113, 119, 118,  35,  81, 114, 118,\n",
      "         35,  52,  35, 100, 113, 103,  35,  53,  35, 101, 117, 108, 113, 106,\n",
      "         35, 119, 107, 104,  35, 119, 104, 123, 119,  35, 108, 113, 119, 114,\n",
      "         35, 111, 108, 113, 104,  35, 122, 108, 119, 107,  35, 119, 107, 104,\n",
      "         35, 108, 113, 118, 114, 111, 121, 104, 113, 102, 124,  35, 117, 104,\n",
      "        106, 120, 111, 100, 119, 108, 114, 113,  35, 100, 113, 103,  35, 119,\n",
      "        107, 104,  35, 108, 113, 118, 120, 117, 100, 113, 102, 104,  35, 122,\n",
      "        108, 113, 103, 108, 113, 106,  48, 120, 115,  35, 115, 117, 114, 115,\n",
      "        114, 118, 100, 111, 118,  35, 122, 107, 108, 102, 107,  35, 107, 100,\n",
      "        103,   1]), tensor([ 76,  35, 100, 111, 118, 114,  35, 118, 104, 104,  35, 106, 117, 104,\n",
      "        100, 119,  35, 118, 119, 117, 104, 113, 106, 119, 107,  35, 105, 114,\n",
      "        117,  35, 102, 117, 104, 103, 108, 119, 114, 117, 118,  35, 108, 113,\n",
      "         35,  68, 112, 104, 113, 103, 112, 104, 113, 119, 118,  35,  81, 114,\n",
      "        118,  35,  54,  47,  35,  56,  35, 100, 113, 103,  35,  57,  35, 122,\n",
      "        107, 108, 111, 104,  35, 117, 104, 102, 114, 106, 113, 108, 118, 108,\n",
      "        113, 106,  35, 119, 107, 100, 119,  35, 114, 119, 107, 104, 117,  35,\n",
      "        113, 100, 119, 108, 114, 113, 100, 111,  35, 103, 104, 111, 104, 106,\n",
      "        100, 119, 108, 114, 113, 118,  47,  35, 104, 118, 115, 104, 102, 108,\n",
      "        100,   1]), tensor([ 69, 120, 119,  35,  76,  35, 115, 104, 117, 118, 114, 113, 100, 111,\n",
      "        111, 124,  35, 114, 105, 105, 104, 117,  35, 112, 124,  35, 118, 120,\n",
      "        115, 115, 114, 117, 119,  35, 119, 114,  35, 119, 107, 104,  35, 108,\n",
      "        103, 104, 100,  35, 114, 105,  35, 101, 117, 108, 113, 106, 108, 113,\n",
      "        106,  35, 119, 107, 108, 118,  35, 103, 108, 117, 104, 102, 119, 108,\n",
      "        121, 104,  35, 108, 113,  35, 111, 108, 113, 104,  35, 122, 108, 119,\n",
      "        107,  35, 119, 107, 104,  35, 108, 113, 118, 114, 111, 121, 104, 113,\n",
      "        102, 124,  35, 117, 104, 106, 120, 111, 100, 119, 108, 114, 113,  35,\n",
      "        100, 113, 103,  35, 119, 107, 104,  35, 108, 113, 118, 120, 117, 100,\n",
      "        113,   1]), tensor([ 76, 119,  35, 118, 104, 104, 112, 118,  35, 119, 114,  35, 112, 104,\n",
      "         35, 119, 107, 100, 119,  47,  35, 105, 108, 113, 100, 111, 111, 124,\n",
      "         47,  35, 108, 113,  35, 119, 107, 104,  35, 117, 104, 112, 100, 108,\n",
      "        113, 108, 113, 106,  35, 100, 112, 104, 113, 103, 112, 104, 113, 119,\n",
      "        118,  47,  35, 105, 114, 111, 111, 114, 122, 108, 113, 106,  35, 108,\n",
      "        113,  35, 119, 107, 104,  35, 119, 117, 100, 103, 108, 119, 108, 114,\n",
      "        113,  35, 114, 105,  35, 119, 108, 103, 124, 108, 113, 106,  35, 120,\n",
      "        115,  35, 119, 104, 123, 119, 118,  35, 105, 114, 117,  35, 119, 107,\n",
      "        104,  35, 115, 120, 117, 115, 114, 118, 104,  35, 114, 105,  35, 102,\n",
      "        111,   1]), tensor([ 90, 107, 108, 111, 118, 119,  35, 108, 118, 118, 120, 104, 118,  35,\n",
      "        118, 120, 102, 107,  35, 100, 118,  35, 113, 104, 119, 119, 108, 113,\n",
      "        106,  35, 118, 104, 104, 112,  35, 119, 114,  35, 107, 100, 121, 104,\n",
      "         35, 101, 104, 104, 113,  35, 118, 111, 114, 119, 119, 104, 103,  35,\n",
      "        108, 113,  35, 100, 118,  35, 100, 113,  35, 104, 123, 119, 117, 100,\n",
      "         35, 118, 104, 117, 108, 104, 118,  35, 114, 105,  35, 100, 112, 104,\n",
      "        113, 103, 112, 104, 113, 119, 118,  47,  35, 122, 107, 100, 119,  35,\n",
      "        122, 104,  35, 107, 100, 121, 104,  35, 107, 104, 117, 104,  35, 108,\n",
      "        118,  35, 100,  35, 122, 114, 117, 110, 100, 101, 111, 104,  35, 103,\n",
      "        114,   1]), tensor([ 80, 117,  35,  83, 117, 104, 118, 108, 103, 104, 113, 119,  47,  35,\n",
      "         70, 114, 112, 112, 108, 118, 118, 108, 114, 113, 104, 117,  47,  35,\n",
      "        111, 100, 103, 108, 104, 118,  35, 100, 113, 103,  35, 106, 104, 113,\n",
      "        119, 111, 104, 112, 104, 113,  47,  35, 122, 104,  35, 100, 117, 104,\n",
      "         35, 100, 111, 111,  35, 100, 106, 117, 104, 104, 103,  35, 119, 107,\n",
      "        100, 119,  35, 119, 107, 104,  35, 103, 108, 117, 104, 102, 119, 108,\n",
      "        121, 104,  35, 114, 113,  35, 119, 107, 104,  35, 117, 104, 114, 117,\n",
      "        106, 100, 113, 108, 118, 100, 119, 108, 114, 113,  35, 114, 105,  35,\n",
      "        102, 117, 104, 103, 108, 119,  35, 108, 113, 118, 119, 108, 119, 120,\n",
      "        119,   1]), tensor([ 68,  35, 120, 113, 108, 105, 114, 117, 112,  35, 115, 117, 114, 102,\n",
      "        104, 103, 120, 117, 104,  35, 108, 118,  35, 100, 119,  35, 111, 100,\n",
      "        118, 119,  35, 119, 114,  35, 101, 104,  35, 104, 118, 119, 100, 101,\n",
      "        111, 108, 118, 107, 104, 103,  35, 100, 113, 103,  35, 119, 107, 104,\n",
      "        117, 104,  35, 108, 118,  35, 119, 114,  35, 101, 104,  35, 102, 114,\n",
      "        107, 104, 117, 104, 113, 102, 104,  35, 101, 104, 119, 122, 104, 104,\n",
      "        113,  35, 119, 107, 104,  35, 117, 104, 114, 117, 106, 100, 113, 108,\n",
      "        118, 100, 119, 108, 114, 113,  35, 115, 117, 114, 102, 104, 103, 120,\n",
      "        117, 104,  35, 100, 113, 103,  35, 119, 107, 104,  35, 108, 113, 118,\n",
      "        114,   1]), tensor([ 90, 104,  35, 122, 114, 120, 111, 103,  35, 103, 114,  35, 122, 104,\n",
      "        111, 111,  35, 119, 114,  35, 118, 119, 117, 104, 118, 118,  35, 119,\n",
      "        107, 100, 119,  35, 119, 107, 104,  35, 115, 117, 114, 121, 108, 118,\n",
      "        108, 114, 113, 118,  35, 114, 113,  35, 115, 117, 114, 119, 104, 102,\n",
      "        119, 108, 113, 106,  35, 102, 117, 104, 103, 108, 119, 114, 117, 118,\n",
      "         42,  35, 117, 108, 106, 107, 119, 118,  47,  35, 108, 113,  35, 115,\n",
      "        100, 117, 119, 108, 102, 120, 111, 100, 117,  47,  35, 100, 117, 104,\n",
      "         35, 114, 105,  35, 102, 117, 120, 102, 108, 100, 111,  35, 108, 112,\n",
      "        115, 114, 117, 119, 100, 113, 102, 104,  35, 107, 104, 117, 104,  47,\n",
      "         35,   1]), tensor([ 76, 113,  35, 119, 107, 108, 118,  35, 122, 100, 124,  47,  35, 100,\n",
      "        111, 111,  35, 102, 117, 104, 103, 108, 119, 114, 117, 118,  47,  35,\n",
      "        108, 113, 102, 111, 120, 103, 108, 113, 106,  35, 119, 107, 114, 118,\n",
      "        104,  35, 108, 113,  35, 102, 114, 120, 113, 119, 117, 108, 104, 118,\n",
      "         35, 114, 119, 107, 104, 117,  35, 119, 107, 100, 113,  35, 119, 107,\n",
      "        104,  35, 107, 114, 112, 104,  35,  80, 104, 112, 101, 104, 117,  35,\n",
      "         86, 119, 100, 119, 104,  47,  35, 100, 117, 104,  35, 106, 120, 100,\n",
      "        117, 100, 113, 119, 104, 104, 103,  35, 104, 116, 120, 100, 111,  35,\n",
      "        119, 117, 104, 100, 119, 112, 104, 113, 119,  35, 120, 113, 103, 104,\n",
      "        117,   1]), tensor([ 68, 111, 119, 107, 114, 120, 106, 107,  35, 119, 107, 104,  35, 119,\n",
      "        104, 123, 119,  35, 108, 113,  35, 108, 119, 118,  35, 102, 120, 117,\n",
      "        117, 104, 113, 119,  35, 105, 114, 117, 112,  35, 108, 118,  35, 100,\n",
      "        101, 118, 114, 111, 120, 119, 104, 111, 124,  35, 104, 123, 102, 104,\n",
      "        111, 111, 104, 113, 119,  47,  35, 118, 114, 112, 104,  35, 102, 111,\n",
      "        100, 117, 108, 105, 108, 102, 100, 119, 108, 114, 113,  35, 108, 118,\n",
      "         35, 113, 104, 104, 103, 104, 103,  49,   1,   0,   0,   0,   0,   0,\n",
      "          0,   0,   0,   0,   0,   0,   0,   0,   0,   0,   0,   0,   0,   0,\n",
      "          0,   0,   0,   0,   0,   0,   0,   0,   0,   0,   0,   0,   0,   0,\n",
      "          0,   0]), tensor([ 87, 107, 120, 118,  47,  35, 105, 114, 117,  35, 104, 123, 100, 112,\n",
      "        115, 111, 104,  47,  35, 119, 107, 104,  35, 100, 111, 111,  48, 108,\n",
      "        112, 115, 114, 117, 119, 100, 113, 119,  35, 115, 117, 108, 113, 102,\n",
      "        108, 115, 111, 104,  35, 114, 105,  35, 120, 113, 108, 121, 104, 117,\n",
      "        118, 100, 111, 108, 119, 124,  35, 122, 100, 118,  35, 118, 119, 117,\n",
      "        104, 113, 106, 119, 107, 104, 113, 104, 103,  35, 101, 124,  35, 100,\n",
      "         35, 118, 104, 117, 108, 104, 118,  35, 114, 105,  35, 100, 112, 104,\n",
      "        113, 103, 112, 104, 113, 119, 118,  35, 108, 113,  35, 102, 114, 112,\n",
      "        112, 108, 119, 119, 104, 104,  47,  35, 100, 113, 103,  35, 118, 104,\n",
      "        121,   1]), tensor([ 92, 114, 120,  35, 122, 108, 111, 111,  35, 100, 111, 117, 104, 100,\n",
      "        103, 124,  35, 107, 100, 121, 104,  35, 113, 114, 119, 108, 102, 104,\n",
      "        103,  35, 108, 113,  35, 119, 107, 104,  35, 102, 114, 120, 117, 118,\n",
      "        104,  35, 114, 105,  35, 119, 107, 104,  35, 103, 104, 101, 100, 119,\n",
      "        104,  35, 119, 107, 100, 119,  35, 122, 104,  35, 103, 108, 105, 105,\n",
      "        104, 117,  35, 114, 113,  35, 114, 113, 104,  35, 115, 114, 108, 113,\n",
      "        119,  47,  35, 118, 115, 104, 102, 108, 105, 108, 102, 100, 111, 111,\n",
      "        124,  35, 108, 113,  35, 117, 104, 111, 100, 119, 108, 114, 113,  35,\n",
      "        119, 114,  35,  68, 112, 104, 113, 103, 112, 104, 113, 119, 118,  35,\n",
      "         81,   1]), tensor([ 82, 115, 108, 113, 108, 114, 113,  35, 103, 108, 105, 105, 104, 117,\n",
      "        118,  35, 114, 113,  35, 119, 107, 108, 118,  35, 101, 104, 102, 100,\n",
      "        120, 118, 104,  35, 122, 104,  35, 101, 104, 111, 108, 104, 121, 104,\n",
      "         35, 122, 107, 100, 119,  35, 122, 104,  35, 100, 117, 104,  35, 119,\n",
      "        100, 111, 110, 108, 113, 106,  35, 100, 101, 114, 120, 119,  35, 107,\n",
      "        104, 117, 104,  35, 100, 117, 104,  35, 103, 108, 105, 105, 104, 117,\n",
      "        104, 113, 119,  35, 115, 117, 114, 103, 120, 102, 119, 118,  47,  35,\n",
      "        100, 113, 103,  35, 118, 114, 112, 104, 119, 108, 112, 104, 118,  35,\n",
      "        103, 108, 105, 105, 104, 117, 104, 113, 119,  35, 112, 100, 117, 110,\n",
      "        104,   1]), tensor([ 87, 107, 104,  35, 102, 114, 112, 112, 114, 113,  35, 115, 114, 118,\n",
      "        108, 119, 108, 114, 113,  35, 108, 118,  35, 122, 104, 111, 111,  48,\n",
      "        101, 100, 111, 100, 113, 102, 104, 103,  35, 119, 114,  35, 112, 124,\n",
      "         35, 112, 108, 113, 103,  35, 100, 113, 103,  35, 122, 100, 118,  35,\n",
      "        108, 112, 115, 117, 114, 121, 104, 103,  35, 114, 113,  47,  35, 119,\n",
      "        114,  35, 118, 114, 112, 104,  35, 104, 123, 119, 104, 113, 119,  47,\n",
      "         35, 101, 124,  35, 119, 107, 104,  35, 102, 114, 112, 112, 108, 119,\n",
      "        119, 104, 104,  42,  35, 118,  35, 100, 112, 104, 113, 103, 112, 104,\n",
      "        113, 119, 118,  35, 100, 113, 103,  35, 119, 107, 114, 118, 104,  35,\n",
      "        119,   1]), tensor([ 87, 107, 104,  35, 119, 104, 123, 119,  35, 114, 120, 106, 107, 119,\n",
      "         47,  35, 119, 107, 104, 117, 104, 105, 114, 117, 104,  47,  35, 119,\n",
      "        114,  35, 101, 104,  35, 100, 103, 114, 115, 119, 104, 103,  35, 122,\n",
      "        108, 119, 107, 114, 120, 119,  35, 103, 104, 111, 100, 124,  35, 100,\n",
      "        113, 103,  35, 119, 117, 100, 113, 118, 115, 114, 118, 104, 103,  35,\n",
      "        101, 124,  35, 119, 107, 104,  35,  80, 104, 112, 101, 104, 117,  35,\n",
      "         86, 119, 100, 119, 104, 118,  49,   1,   0,   0,   0,   0,   0,   0,\n",
      "          0,   0,   0,   0,   0,   0,   0,   0,   0,   0,   0,   0,   0,   0,\n",
      "          0,   0,   0,   0,   0,   0,   0,   0,   0,   0,   0,   0,   0,   0,\n",
      "          0,   0]), tensor([ 76,  35, 117, 104, 106, 117, 104, 119,  35, 119, 107, 100, 119,  35,\n",
      "        119, 107, 104,  35, 103, 108, 118, 115, 120, 119, 104,  35, 108, 113,\n",
      "         35, 119, 107, 104,  35,  70, 114, 120, 113, 102, 108, 111,  35, 107,\n",
      "        100, 118,  35, 111, 104, 103,  35, 119, 114,  35, 119, 107, 108, 118,\n",
      "         35, 101, 104, 108, 113, 106,  35, 103, 104, 111, 100, 124, 104, 103,\n",
      "         35, 101, 124,  35, 112, 114, 117, 104,  35, 119, 107, 100, 113,  35,\n",
      "        100,  35, 103, 104, 102, 100, 103, 104,  49,   1,   0,   0,   0,   0,\n",
      "          0,   0,   0,   0,   0,   0,   0,   0,   0,   0,   0,   0,   0,   0,\n",
      "          0,   0,   0,   0,   0,   0,   0,   0,   0,   0,   0,   0,   0,   0,\n",
      "          0,   0]), tensor([ 76,  35, 122, 114, 120, 111, 103,  35, 115, 114, 108, 113, 119,  35,\n",
      "        114, 120, 119,  35, 119, 107, 100, 119,  35, 119, 107, 104,  35,  70,\n",
      "        114, 112, 112, 108, 118, 118, 108, 114, 113,  42,  35, 118,  35, 105,\n",
      "        108, 117, 118, 119,  35, 115, 117, 114, 115, 114, 118, 100, 111,  35,\n",
      "        122, 100, 118,  35, 115, 120, 101, 111, 108, 118, 107, 104, 103,  35,\n",
      "        100, 118,  35, 104, 100, 117, 111, 124,  35, 100, 118,  35,  52,  60,\n",
      "         59,  56,  35, 100, 113, 103,  35,  83, 100, 117, 111, 108, 100, 112,\n",
      "        104, 113, 119,  42,  35, 118,  35, 105, 108, 117, 118, 119,  35, 117,\n",
      "        104, 100, 103, 108, 113, 106,  35, 122, 100, 118,  35, 107, 104, 111,\n",
      "        103,   1]), tensor([ 87, 107, 104,  35, 117, 104, 100, 118, 114, 113,  35,  76,  35, 118,\n",
      "        119, 117, 104, 118, 118,  35, 119, 107, 108, 118,  35, 108, 118,  35,\n",
      "        101, 104, 102, 100, 120, 118, 104,  35, 122, 104,  35, 102, 114, 113,\n",
      "        118, 119, 100, 113, 119, 111, 124,  35, 103, 108, 118, 102, 120, 118,\n",
      "        118,  35, 119, 107, 104,  35, 101, 100, 111, 100, 113, 102, 104,  35,\n",
      "        101, 104, 119, 122, 104, 104, 113,  35, 119, 107, 104,  35,  72, 120,\n",
      "        117, 114, 115, 104, 100, 113,  35, 108, 113, 118, 119, 108, 119, 120,\n",
      "        119, 108, 114, 113, 118,  35, 108, 113,  35, 114, 120, 117,  35, 103,\n",
      "        104, 101, 100, 119, 104, 118,  35,  48,  35, 115, 100, 117, 119, 108,\n",
      "        102,   1]), tensor([ 87, 107, 108, 118,  35, 103, 114, 104, 118,  35, 113, 114, 119,  35,\n",
      "        109, 120, 118, 119,  35, 100, 115, 115, 111, 124,  35, 119, 114,  35,\n",
      "         83, 100, 117, 111, 108, 100, 112, 104, 113, 119,  47,  35, 122, 107,\n",
      "        108, 102, 107,  35, 108, 118,  35, 114, 105, 119, 104, 113,  35, 119,\n",
      "        107, 104,  35, 108, 112, 115, 117, 104, 118, 118, 108, 114, 113,  35,\n",
      "        106, 108, 121, 104, 113,  35, 108, 113,  35, 119, 107, 104,  35, 115,\n",
      "        120, 101, 111, 108, 102,  35, 100, 117, 104, 113, 100,  47,  35, 100,\n",
      "        111, 119, 107, 114, 120, 106, 107,  35, 122, 104,  35, 122, 114, 120,\n",
      "        111, 103,  47,  35, 114, 105,  35, 102, 114, 120, 117, 118, 104,  47,\n",
      "         35,   1]), tensor([ 69, 120, 119,  35, 119, 107, 108, 118,  35, 108, 118,  35, 113, 114,\n",
      "        119,  35, 100, 101, 114, 120, 119,  35, 100, 115, 115, 114, 117, 119,\n",
      "        108, 114, 113, 108, 113, 106,  35, 101, 111, 100, 112, 104,  49,   1,\n",
      "          0,   0,   0,   0,   0,   0,   0,   0,   0,   0,   0,   0,   0,   0,\n",
      "          0,   0,   0,   0,   0,   0,   0,   0,   0,   0,   0,   0,   0,   0,\n",
      "          0,   0,   0,   0,   0,   0,   0,   0,   0,   0,   0,   0,   0,   0,\n",
      "          0,   0,   0,   0,   0,   0,   0,   0,   0,   0,   0,   0,   0,   0,\n",
      "          0,   0,   0,   0,   0,   0,   0,   0,   0,   0,   0,   0,   0,   0,\n",
      "          0,   0,   0,   0,   0,   0,   0,   0,   0,   0,   0,   0,   0,   0,\n",
      "          0,   0]), tensor([ 75, 114, 122, 104, 121, 104, 117,  47,  35, 103, 114, 120, 101, 119,\n",
      "        111, 104, 118, 118,  35, 119, 107, 104,  35, 114, 115, 108, 113, 108,\n",
      "        114, 113,  48, 105, 114, 117, 112, 108, 113, 106,  35, 100, 113, 103,\n",
      "         35, 103, 104, 102, 108, 118, 108, 114, 113,  48, 112, 100, 110, 108,\n",
      "        113, 106,  35, 115, 117, 114, 102, 104, 118, 118,  35, 108, 113,  35,\n",
      "        119, 107, 104,  35,  72, 120, 117, 114, 115, 104, 100, 113,  35,  70,\n",
      "        114, 120, 113, 102, 108, 111,  35, 114, 105, 105, 104, 117, 118,  35,\n",
      "        119, 107, 104,  35, 101, 104, 118, 119,  35, 101, 104, 119,  35, 105,\n",
      "        114, 117,  35, 100, 102, 102, 104, 111, 104, 117, 100, 119, 108, 113,\n",
      "        106,   1]), tensor([ 87, 107, 100, 119,  35, 107, 100, 118,  35, 101, 104, 104, 113,  35,\n",
      "        112, 100, 103, 104,  35, 102, 117, 124, 118, 119, 100, 111,  35, 102,\n",
      "        111, 104, 100, 117,  35, 100, 106, 100, 108, 113,  35, 107, 104, 117,\n",
      "        104,  49,   1,   0,   0,   0,   0,   0,   0,   0,   0,   0,   0,   0,\n",
      "          0,   0,   0,   0,   0,   0,   0,   0,   0,   0,   0,   0,   0,   0,\n",
      "          0,   0,   0,   0,   0,   0,   0,   0,   0,   0,   0,   0,   0,   0,\n",
      "          0,   0,   0,   0,   0,   0,   0,   0,   0,   0,   0,   0,   0,   0,\n",
      "          0,   0,   0,   0,   0,   0,   0,   0,   0,   0,   0,   0,   0,   0,\n",
      "          0,   0,   0,   0,   0,   0,   0,   0,   0,   0,   0,   0,   0,   0,\n",
      "          0,   0]), tensor([ 87, 107, 104,  35,  70, 114, 112, 112, 108, 118, 118, 108, 114, 113,\n",
      "         35, 115, 117, 114, 115, 114, 118, 100, 111,  35, 108, 118,  35, 103,\n",
      "        104, 118, 108, 106, 113, 104, 103,  35, 119, 114,  35, 104, 113, 118,\n",
      "        120, 117, 104,  35, 119, 107, 100, 119,  35, 100,  35, 102, 117, 104,\n",
      "        103, 108, 119,  35, 108, 113, 118, 119, 108, 119, 120, 119, 108, 114,\n",
      "        113,  35, 100, 113, 103,  35, 108, 119, 118,  35, 101, 117, 100, 113,\n",
      "        102, 107,  35, 114, 105, 105, 108, 102, 104, 118,  35, 108, 113,  35,\n",
      "        114, 119, 107, 104, 117,  35,  80, 104, 112, 101, 104, 117,  35,  86,\n",
      "        119, 100, 119, 104, 118,  35, 102, 100, 113,  35, 101, 104,  35, 117,\n",
      "        104,   1]), tensor([ 87, 107, 100, 119,  35, 108, 118,  35, 106, 120, 100, 117, 100, 113,\n",
      "        119, 104, 104, 103,  35, 120, 113, 103, 104, 117,  35, 119, 107, 108,\n",
      "        118,  35, 115, 117, 114, 115, 114, 118, 104, 103,  35, 103, 108, 117,\n",
      "        104, 102, 119, 108, 121, 104,  49,   1,   0,   0,   0,   0,   0,   0,\n",
      "          0,   0,   0,   0,   0,   0,   0,   0,   0,   0,   0,   0,   0,   0,\n",
      "          0,   0,   0,   0,   0,   0,   0,   0,   0,   0,   0,   0,   0,   0,\n",
      "          0,   0,   0,   0,   0,   0,   0,   0,   0,   0,   0,   0,   0,   0,\n",
      "          0,   0,   0,   0,   0,   0,   0,   0,   0,   0,   0,   0,   0,   0,\n",
      "          0,   0,   0,   0,   0,   0,   0,   0,   0,   0,   0,   0,   0,   0,\n",
      "          0,   0]), tensor([ 80, 117,  35,  83, 117, 104, 118, 108, 103, 104, 113, 119,  47,  35,\n",
      "        119, 107, 104,  35, 112, 100, 117, 110, 104, 119,  35, 100, 113, 103,\n",
      "         35, 113, 100, 119, 108, 114, 113, 100, 111,  35, 100, 120, 119, 107,\n",
      "        114, 117, 108, 119, 108, 104, 118,  35, 107, 100, 121, 104,  35, 101,\n",
      "        104, 104, 113,  35, 111, 114, 114, 110, 108, 113, 106,  35, 105, 114,\n",
      "        117, 122, 100, 117, 103,  35, 119, 114,  35, 119, 107, 104,  35, 103,\n",
      "        108, 117, 104, 102, 119, 108, 121, 104,  35, 114, 113,  35, 119, 107,\n",
      "        104,  35, 117, 104, 114, 117, 106, 100, 113, 108, 118, 100, 119, 108,\n",
      "        114, 113,  35, 100, 113, 103,  35, 119, 107, 104,  35, 122, 108, 113,\n",
      "        103,   1]), tensor([ 87, 107, 108, 118,  35, 103, 108, 117, 104, 102, 119, 108, 121, 104,\n",
      "         47,  35, 108, 113,  35, 105, 100, 102, 119,  47,  35, 100, 108, 112,\n",
      "        118,  35, 119, 114,  35, 115, 117, 114, 121, 108, 103, 104,  35, 100,\n",
      "         35, 106, 120, 100, 117, 100, 113, 119, 104, 104,  35, 122, 108, 119,\n",
      "        107,  35, 117, 104, 106, 100, 117, 103,  35, 119, 114,  35, 119, 107,\n",
      "        104,  35, 117, 104, 106, 120, 111, 100, 119, 108, 114, 113, 118,  35,\n",
      "        122, 107, 108, 102, 107,  47,  35, 108, 113,  35, 100, 113,  35, 114,\n",
      "        117, 106, 100, 113, 108, 102,  35, 112, 100, 113, 113, 104, 117,  35,\n",
      "        100, 113, 103,  35, 108, 113,  35, 100,  35, 122, 100, 124,  35, 122,\n",
      "        107,   1]), tensor([ 87, 107, 108, 118,  35, 103, 108, 117, 104, 102, 119, 108, 121, 104,\n",
      "         35, 118, 115, 104, 100, 117, 107, 104, 100, 103, 118,  35, 119, 107,\n",
      "        104,  35, 100, 102, 119, 108, 114, 113,  35, 115, 111, 100, 113,  35,\n",
      "        105, 114, 117,  35, 105, 108, 113, 100, 113, 102, 108, 100, 111,  35,\n",
      "        118, 104, 117, 121, 108, 102, 104, 118,  49,   1,   0,   0,   0,   0,\n",
      "          0,   0,   0,   0,   0,   0,   0,   0,   0,   0,   0,   0,   0,   0,\n",
      "          0,   0,   0,   0,   0,   0,   0,   0,   0,   0,   0,   0,   0,   0,\n",
      "          0,   0,   0,   0,   0,   0,   0,   0,   0,   0,   0,   0,   0,   0,\n",
      "          0,   0,   0,   0,   0,   0,   0,   0,   0,   0,   0,   0,   0,   0,\n",
      "          0,   0]), tensor([ 76, 113,  35, 108, 119, 118,  35, 102, 114, 112, 112, 114, 113,  35,\n",
      "        115, 114, 118, 108, 119, 108, 114, 113,  47,  35, 104, 118, 119, 100,\n",
      "        101, 111, 108, 118, 107, 104, 103,  35, 101, 124,  35, 116, 120, 100,\n",
      "        111, 108, 105, 108, 104, 103,  35, 112, 100, 109, 114, 117, 108, 119,\n",
      "        124,  47,  35, 119, 107, 104,  35,  70, 114, 120, 113, 102, 108, 111,\n",
      "         35, 103, 108, 118, 115, 111, 100, 124, 104, 103,  35, 100,  35, 103,\n",
      "        108, 118, 102, 104, 117, 113, 108, 113, 106,  35, 100, 113, 103,  35,\n",
      "        110, 104, 104, 113,  35, 108, 113, 118, 108, 106, 107, 119,  35, 108,\n",
      "        113, 119, 114,  35, 119, 107, 104,  35, 118, 115, 104, 102, 108, 105,\n",
      "        108,   1]), tensor([ 87, 107, 108, 118,  35, 108, 118,  35, 122, 107, 124,  35,  68, 117,\n",
      "        119, 108, 102, 111, 104,  35,  53,  51,  35, 114, 105,  35, 119, 107,\n",
      "        104,  35, 102, 114, 112, 112, 114, 113,  35, 115, 114, 118, 108, 119,\n",
      "        108, 114, 113,  35, 106, 117, 100, 113, 119, 118,  35, 119, 107, 104,\n",
      "         35, 101, 100, 113, 110, 108, 113, 106,  35, 118, 104, 102, 119, 114,\n",
      "        117,  35, 118, 115, 104, 102, 108, 100, 111,  35, 119, 117, 104, 100,\n",
      "        119, 112, 104, 113, 119,  35, 114, 113,  35, 100,  35, 113, 120, 112,\n",
      "        101, 104, 117,  35, 114, 105,  35, 118, 102, 114, 117, 104, 118,  49,\n",
      "          1,   0,   0,   0,   0,   0,   0,   0,   0,   0,   0,   0,   0,   0,\n",
      "          0,   0]), tensor([ 87, 107, 108, 118,  35, 118, 115, 104, 102, 108, 100, 111,  35, 119,\n",
      "        117, 104, 100, 119, 112, 104, 113, 119,  35, 103, 114, 104, 118,  35,\n",
      "        113, 114, 119,  35, 108, 113,  35, 100, 113, 124,  35, 122, 100, 124,\n",
      "         35, 115, 117, 104, 109, 120, 103, 108, 102, 104,  35, 119, 107, 104,\n",
      "         35, 107, 100, 117, 112, 114, 113, 124,  35, 100, 113, 103,  35, 111,\n",
      "        114, 106, 108, 102,  35, 114, 105,  35, 100,  35, 118, 104, 119,  35,\n",
      "        114, 105,  35, 117, 120, 111, 104, 118,  35, 105, 114, 117,  35, 119,\n",
      "        107, 104,  35, 105, 108, 113, 100, 113, 102, 108, 100, 111,  35, 118,\n",
      "        104, 117, 121, 108, 102, 104, 118,  35, 100, 118,  35, 100,  35, 122,\n",
      "        107,   1]), tensor([ 84, 120, 108, 119, 104,  35, 119, 107, 104,  35, 117, 104, 121, 104,\n",
      "        117, 118, 104,  47,  35, 108, 113,  35, 105, 100, 102, 119,  62,  35,\n",
      "        108, 119,  35, 103, 114, 104, 118,  35, 109, 120, 118, 119, 108, 102,\n",
      "        104,  35, 119, 114,  35, 119, 107, 104,  35, 118, 115, 104, 102, 108,\n",
      "        105, 108, 102,  35, 102, 107, 100, 117, 100, 102, 119, 104, 117, 108,\n",
      "        118, 119, 108, 102, 118,  35, 114, 105,  35, 101, 100, 113, 110, 108,\n",
      "        113, 106,  47,  35, 119, 107, 120, 118,  35, 106, 108, 121, 108, 113,\n",
      "        106,  35, 100,  35, 101, 104, 119, 119, 104, 117,  35, 106, 120, 100,\n",
      "        117, 100, 113, 119, 104, 104,  35, 105, 114, 117,  35, 118, 119, 100,\n",
      "        101,   1]), tensor([ 87, 107, 104,  35, 117, 104, 115, 114, 117, 119,  35, 101, 124,  35,\n",
      "         80, 117, 118,  35,  83, 104, 108, 109, 118,  47,  35, 114, 113,  35,\n",
      "        122, 107, 108, 102, 107,  35,  76,  35, 122, 114, 120, 111, 103,  35,\n",
      "        111, 108, 110, 104,  35, 119, 114,  35, 102, 114, 113, 106, 117, 100,\n",
      "        119, 120, 111, 100, 119, 104,  35, 107, 104, 117,  35, 114, 113,  35,\n",
      "        101, 104, 107, 100, 111, 105,  35, 114, 105,  35, 119, 107, 104,  35,\n",
      "         70, 114, 112, 112, 108, 118, 118, 108, 114, 113,  47,  35, 100, 113,\n",
      "        103,  35, 108, 113,  35, 117, 104, 118, 115, 104, 102, 119,  35, 114,\n",
      "        105,  35, 122, 107, 108, 102, 107,  35,  76,  35, 122, 114, 120, 111,\n",
      "        103,   1]), tensor([ 87, 107, 104,  35,  70, 114, 112, 112, 108, 118, 118, 108, 114, 113,\n",
      "         35, 102, 100, 113,  35, 100, 115, 115, 117, 114, 121, 104,  35, 119,\n",
      "        107, 104,  35, 115, 120, 117, 115, 114, 117, 119,  35, 114, 105,  35,\n",
      "        119, 107, 104, 118, 104,  35, 100, 112, 104, 113, 103, 112, 104, 113,\n",
      "        119, 118,  47,  35, 101, 100, 117, 117, 108, 113, 106,  35, 114, 113,\n",
      "        104,  49,   1,   0,   0,   0,   0,   0,   0,   0,   0,   0,   0,   0,\n",
      "          0,   0,   0,   0,   0,   0,   0,   0,   0,   0,   0,   0,   0,   0,\n",
      "          0,   0,   0,   0,   0,   0,   0,   0,   0,   0,   0,   0,   0,   0,\n",
      "          0,   0,   0,   0,   0,   0,   0,   0,   0,   0,   0,   0,   0,   0,\n",
      "          0,   0]), tensor([ 76, 119,  35, 114, 101, 109, 104, 102, 119, 118,  47,  35, 100, 119,\n",
      "         35, 111, 104, 100, 118, 119,  35, 108, 113,  35, 115, 117, 108, 113,\n",
      "        102, 108, 115, 111, 104,  47,  35, 119, 114,  35,  68, 112, 104, 113,\n",
      "        103, 112, 104, 113, 119,  35,  81, 114,  35,  52,  35, 122, 108, 119,\n",
      "        107,  35, 117, 104, 106, 100, 117, 103,  35, 119, 114,  35, 117, 104,\n",
      "        115, 120, 117, 102, 107, 100, 118, 104,  35, 100, 106, 117, 104, 104,\n",
      "        112, 104, 113, 119, 118,  49,   1,   0,   0,   0,   0,   0,   0,   0,\n",
      "          0,   0,   0,   0,   0,   0,   0,   0,   0,   0,   0,   0,   0,   0,\n",
      "          0,   0,   0,   0,   0,   0,   0,   0,   0,   0,   0,   0,   0,   0,\n",
      "          0,   0]), tensor([ 68, 105, 119, 104, 117,  35, 100, 111, 111,  47,  35, 108, 119,  35,\n",
      "        108, 118,  35, 114, 105,  35, 110, 104, 124,  35, 108, 112, 115, 114,\n",
      "        117, 119, 100, 113, 102, 104,  35, 119, 107, 100, 119,  35, 119, 107,\n",
      "        104,  35, 101, 100, 113, 110, 118,  35, 110, 113, 114, 122,  35, 108,\n",
      "        113,  35, 100, 103, 121, 100, 113, 102, 104,  35, 122, 107, 100, 119,\n",
      "         35, 111, 104, 106, 108, 118, 111, 100, 119, 108, 114, 113,  35, 122,\n",
      "        108, 111, 111,  35, 106, 114, 121, 104, 117, 113,  35, 117, 104, 115,\n",
      "        120, 117, 102, 107, 100, 118, 104,  35, 100, 106, 117, 104, 104, 112,\n",
      "        104, 113, 119, 118,  49,   1,   0,   0,   0,   0,   0,   0,   0,   0,\n",
      "          0,   0]), tensor([ 68, 118,  35, 108, 119,  35, 107, 100, 115, 115, 104, 113, 118,  47,\n",
      "         35,  80, 117, 118,  35,  83, 104, 108, 109, 118,  47,  35, 114, 113,\n",
      "         35, 101, 104, 107, 100, 111, 105,  35, 114, 105,  35, 119, 107, 104,\n",
      "         35,  83,  83,  72,  48,  71,  72,  35,  74, 117, 114, 120, 115,  47,\n",
      "         35, 107, 100, 118,  35, 119, 100, 101, 111, 104, 103,  35, 105, 108,\n",
      "        121, 104,  35, 113, 104, 122,  35, 100, 112, 104, 113, 103, 112, 104,\n",
      "        113, 119, 118,  49,   1,   0,   0,   0,   0,   0,   0,   0,   0,   0,\n",
      "          0,   0,   0,   0,   0,   0,   0,   0,   0,   0,   0,   0,   0,   0,\n",
      "          0,   0,   0,   0,   0,   0,   0,   0,   0,   0,   0,   0,   0,   0,\n",
      "          0,   0]), tensor([ 87, 107, 104, 118, 104,  35, 100, 112, 104, 113, 103, 112, 104, 113,\n",
      "        119, 118,  35, 103, 117, 100, 122,  35, 119, 107, 104,  35, 100, 112,\n",
      "        104, 113, 103, 112, 104, 113, 119, 118,  35, 100, 103, 114, 115, 119,\n",
      "        104, 103,  35, 101, 124,  35, 119, 107, 104,  35,  72, 102, 114, 113,\n",
      "        114, 112, 108, 102,  35, 100, 113, 103,  35,  80, 114, 113, 104, 119,\n",
      "        100, 117, 124,  35,  70, 114, 112, 112, 108, 118, 118, 108, 114, 113,\n",
      "         35, 119, 114, 106, 104, 119, 107, 104, 117,  35, 108, 113,  35, 100,\n",
      "         35, 102, 114, 107, 104, 117, 104, 113, 119,  35, 112, 100, 113, 113,\n",
      "        104, 117,  35, 122, 107, 108, 102, 107,  35, 103, 114, 104, 118,  35,\n",
      "        109,   1]), tensor([ 88, 113, 103, 104, 117,  35, 100,  35, 103, 108, 105, 105, 104, 117,\n",
      "        104, 113, 119,  35, 106, 120, 108, 118, 104,  47,  35, 119, 107, 104,\n",
      "         35, 113, 104, 122,  35, 100, 112, 104, 113, 103, 112, 104, 113, 119,\n",
      "        118,  35, 119, 100, 110, 104,  35, 108, 113, 119, 114,  35, 102, 114,\n",
      "        113, 118, 108, 103, 104, 117, 100, 119, 108, 114, 113,  35, 119, 107,\n",
      "        104,  35, 118, 115, 104, 102, 108, 105, 108, 102,  35, 117, 104, 116,\n",
      "        120, 108, 117, 104, 112, 104, 113, 119, 118,  35, 122, 107, 108, 102,\n",
      "        107,  35, 100, 117, 104,  35, 115, 117, 104, 118, 102, 117, 108, 101,\n",
      "        104, 103,  35, 108, 113,  35, 119, 107, 104,  35, 101, 100, 113, 110,\n",
      "        108,   1]), tensor([ 87, 107, 104,  35,  70, 114, 112, 112, 108, 118, 118, 108, 114, 113,\n",
      "         35, 102, 100, 113,  35, 106, 114,  35, 100, 111, 114, 113, 106,  35,\n",
      "        122, 108, 119, 107,  35, 119, 107, 104,  35, 118, 115, 108, 117, 108,\n",
      "        119,  35, 114, 105,  35, 119, 107, 104, 118, 104,  35, 100, 112, 104,\n",
      "        113, 103, 112, 104, 113, 119, 118,  47,  35, 100, 118,  35, 108, 118,\n",
      "         35, 100, 115, 115, 100, 117, 104, 113, 119,  35, 108, 113,  35, 108,\n",
      "        119, 118,  35, 104, 123, 115, 111, 100, 113, 100, 119, 114, 117, 124,\n",
      "         35, 118, 119, 100, 119, 104, 112, 104, 113, 119,  49,   1,   0,   0,\n",
      "          0,   0,   0,   0,   0,   0,   0,   0,   0,   0,   0,   0,   0,   0,\n",
      "          0,   0]), tensor([ 76, 105,  35, 119, 107, 104,  35, 105, 108, 121, 104,  35, 113, 104,\n",
      "        122,  35, 100, 112, 104, 113, 103, 112, 104, 113, 119, 118,  35, 100,\n",
      "        117, 104,  35, 100, 103, 114, 115, 119, 104, 103,  35, 101, 124,  35,\n",
      "        119, 107, 108, 118,  35,  83, 100, 117, 111, 108, 100, 112, 104, 113,\n",
      "        119,  47,  35, 119, 107, 104,  35,  70, 114, 112, 112, 108, 118, 118,\n",
      "        108, 114, 113,  35, 102, 100, 113,  35, 100, 118, 118, 104, 113, 119,\n",
      "         35, 119, 114,  35, 119, 107, 104,  35, 118, 115, 108, 117, 108, 119,\n",
      "         35, 114, 105,  35, 100, 111, 111,  35, 100, 112, 104, 113, 103, 112,\n",
      "        104, 113, 119, 118,  35, 115, 117, 114, 115, 114, 118, 104, 103,  35,\n",
      "        108,   1]), tensor([ 75, 114, 122, 104, 121, 104, 117,  47,  35, 119, 107, 104,  35, 122,\n",
      "        114, 117, 103, 108, 113, 106,  35, 114, 105,  35, 100, 111, 111,  35,\n",
      "        100, 112, 104, 113, 103, 112, 104, 113, 119, 118,  35,  48,  35, 100,\n",
      "        113, 103,  35,  76,  35, 100, 112,  35, 100, 111, 118, 114,  35, 112,\n",
      "        100, 110, 108, 113, 106,  35, 119, 107, 108, 118,  35, 115, 114, 108,\n",
      "        113, 119,  35, 108, 113,  35, 117, 104, 118, 115, 114, 113, 118, 104,\n",
      "         35, 119, 114,  35, 102, 114, 112, 112, 104, 113, 119, 118,  35, 112,\n",
      "        100, 103, 104,  35, 101, 124,  35,  80, 117, 118,  35,  89, 108, 111,\n",
      "        111, 108, 104, 117, 118,  35,  48,  35, 122, 114, 120, 111, 103,  35,\n",
      "        119,   1]), tensor([ 87, 107, 104,  35, 103, 104, 101, 100, 119, 104,  35, 108, 118,  35,\n",
      "        102, 111, 114, 118, 104, 103,  49,   1,   0,   0,   0,   0,   0,   0,\n",
      "          0,   0,   0,   0,   0,   0,   0,   0,   0,   0,   0,   0,   0,   0,\n",
      "          0,   0,   0,   0,   0,   0,   0,   0,   0,   0,   0,   0,   0,   0,\n",
      "          0,   0,   0,   0,   0,   0,   0,   0,   0,   0,   0,   0,   0,   0,\n",
      "          0,   0,   0,   0,   0,   0,   0,   0,   0,   0,   0,   0,   0,   0,\n",
      "          0,   0,   0,   0,   0,   0,   0,   0,   0,   0,   0,   0,   0,   0,\n",
      "          0,   0,   0,   0,   0,   0,   0,   0,   0,   0,   0,   0,   0,   0,\n",
      "          0,   0,   0,   0,   0,   0,   0,   0,   0,   0,   0,   0,   0,   0,\n",
      "          0,   0]), tensor([ 87, 107, 104,  35, 121, 114, 119, 104,  35, 122, 108, 111, 111,  35,\n",
      "        101, 104,  35, 119, 100, 110, 104, 113,  35, 119, 114, 112, 114, 117,\n",
      "        117, 114, 122,  35, 100, 119,  35,  52,  53,  35, 113, 114, 114, 113,\n",
      "         49,   1,   0,   0,   0,   0,   0,   0,   0,   0,   0,   0,   0,   0,\n",
      "          0,   0,   0,   0,   0,   0,   0,   0,   0,   0,   0,   0,   0,   0,\n",
      "          0,   0,   0,   0,   0,   0,   0,   0,   0,   0,   0,   0,   0,   0,\n",
      "          0,   0,   0,   0,   0,   0,   0,   0,   0,   0,   0,   0,   0,   0,\n",
      "          0,   0,   0,   0,   0,   0,   0,   0,   0,   0,   0,   0,   0,   0,\n",
      "          0,   0,   0,   0,   0,   0,   0,   0,   0,   0,   0,   0,   0,   0,\n",
      "          0,   0]), tensor([ 86, 108, 112, 115, 111, 104, 117,  35, 111, 104, 106, 108, 118, 111,\n",
      "        100, 119, 108, 114, 113,  35, 105, 114, 117,  35, 119, 107, 104,  35,\n",
      "        108, 113, 119, 104, 117, 113, 100, 111,  35, 112, 100, 117, 110, 104,\n",
      "        119,  35,  43,  86,  79,  76,  80,  44,   1,   0,   0,   0,   0,   0,\n",
      "          0,   0,   0,   0,   0,   0,   0,   0,   0,   0,   0,   0,   0,   0,\n",
      "          0,   0,   0,   0,   0,   0,   0,   0,   0,   0,   0,   0,   0,   0,\n",
      "          0,   0,   0,   0,   0,   0,   0,   0,   0,   0,   0,   0,   0,   0,\n",
      "          0,   0,   0,   0,   0,   0,   0,   0,   0,   0,   0,   0,   0,   0,\n",
      "          0,   0,   0,   0,   0,   0,   0,   0,   0,   0,   0,   0,   0,   0,\n",
      "          0,   0]), tensor([ 87, 107, 104,  35, 113, 104, 123, 119,  35, 108, 119, 104, 112,  35,\n",
      "        108, 118,  35, 119, 107, 104,  35, 117, 104, 115, 114, 117, 119,  35,\n",
      "        101, 124,  35,  80, 117,  35,  71, 114, 114, 117, 113,  35, 114, 113,\n",
      "         35, 101, 104, 107, 100, 111, 105,  35, 114, 105,  35, 119, 107, 104,\n",
      "         35,  70, 114, 112, 112, 108, 119, 119, 104, 104,  35, 114, 113,  35,\n",
      "         79, 104, 106, 100, 111,  35,  68, 105, 105, 100, 108, 117, 118,  35,\n",
      "        100, 113, 103,  35, 119, 107, 104,  35,  76, 113, 119, 104, 117, 113,\n",
      "        100, 111,  35,  80, 100, 117, 110, 104, 119,  35, 114, 113,  35, 119,\n",
      "        107, 104,  35, 102, 114, 112, 112, 120, 113, 108, 102, 100, 119, 108,\n",
      "        114,   1]), tensor([ 80, 117,  35,  83, 117, 104, 118, 108, 103, 104, 113, 119,  47,  35,\n",
      "        117, 104, 103,  35, 119, 100, 115, 104,  35, 122, 108, 119, 107, 108,\n",
      "        113,  35,  71, 120, 119, 102, 107,  35, 108, 113, 103, 120, 118, 119,\n",
      "        117, 124,  35, 100, 112, 114, 120, 113, 119, 118,  35, 119, 114,  35,\n",
      "        113, 104, 100, 117,  35, 104, 113, 114, 120, 106, 107,  35,  72,  88,\n",
      "         85,  35,  60,  35, 101, 108, 111, 111, 108, 114, 113,  35, 115, 104,\n",
      "        117,  35, 100, 113, 113, 120, 112,  49,  35,  87, 107, 108, 118,  35,\n",
      "        122, 100, 118,  35, 117, 104, 121, 104, 100, 111, 104, 103,  35, 108,\n",
      "        113,  35, 119, 107, 104,  35,  81, 104, 119, 107, 104, 117, 111, 100,\n",
      "        113,   1]), tensor([ 87, 107, 104,  35, 100, 121, 104, 117, 100, 106, 104,  35, 104, 113,\n",
      "        119, 117, 104, 115, 117, 104, 113, 104, 120, 117,  35, 118, 115, 104,\n",
      "        113, 103, 118,  35, 100, 115, 115, 117, 114, 123, 108, 112, 100, 119,\n",
      "        104, 111, 124,  35, 119, 104, 113,  35, 107, 114, 120, 117, 118,  35,\n",
      "        114, 113,  35, 102, 114, 112, 115, 111, 104, 119, 108, 113, 106,  35,\n",
      "        100, 103, 112, 108, 113, 108, 118, 119, 117, 100, 119, 108, 121, 104,\n",
      "         35, 119, 100, 118, 110, 118,  35, 100, 113, 103,  35, 105, 114, 117,\n",
      "        112, 118,  49,   1,   0,   0,   0,   0,   0,   0,   0,   0,   0,   0,\n",
      "          0,   0,   0,   0,   0,   0,   0,   0,   0,   0,   0,   0,   0,   0,\n",
      "          0,   0]), tensor([ 87, 107, 104,  35,  81, 104, 119, 107, 104, 117, 111, 100, 113, 103,\n",
      "        118,  47,  35, 100, 118,  35, 105, 100, 117,  35, 100, 118,  35, 119,\n",
      "        107, 108, 118,  35, 108, 118,  35, 102, 114, 113, 102, 104, 117, 113,\n",
      "        104, 103,  47,  35, 108, 118,  35, 113, 114,  35, 104, 123, 102, 104,\n",
      "        115, 119, 108, 114, 113,  49,   1,   0,   0,   0,   0,   0,   0,   0,\n",
      "          0,   0,   0,   0,   0,   0,   0,   0,   0,   0,   0,   0,   0,   0,\n",
      "          0,   0,   0,   0,   0,   0,   0,   0,   0,   0,   0,   0,   0,   0,\n",
      "          0,   0,   0,   0,   0,   0,   0,   0,   0,   0,   0,   0,   0,   0,\n",
      "          0,   0,   0,   0,   0,   0,   0,   0,   0,   0,   0,   0,   0,   0,\n",
      "          0,   0]), tensor([ 85, 104, 118, 104, 100, 117, 102, 107,  35, 107, 100, 118,  35, 118,\n",
      "        107, 114, 122, 113,  35, 119, 107, 100, 119,  35, 120, 113, 113, 104,\n",
      "        102, 104, 118, 118, 100, 117, 124,  35, 101, 120, 117, 104, 100, 120,\n",
      "        102, 117, 100, 119, 108, 102,  35, 115, 117, 114, 102, 104, 103, 120,\n",
      "        117, 104, 118,  35, 122, 108, 119, 107, 108, 113,  35, 102, 114, 112,\n",
      "        115, 100, 113, 108, 104, 118,  35, 100, 102, 102, 114, 120, 113, 119,\n",
      "         35, 105, 114, 117,  35,  55,  35, 119, 114,  35,  57,  35, 115, 104,\n",
      "        117,  35, 102, 104, 113, 119,  35, 114, 105,  35, 119, 107, 104,  35,\n",
      "         74,  81,  83,  35, 114, 105,  35,  72,  88,  35,  80, 104, 112, 101,\n",
      "        104,   1]), tensor([ 87, 107, 108, 118,  35, 108, 118,  35, 100,  35, 107, 104, 100, 121,\n",
      "        124,  35, 101, 120, 117, 103, 104, 113,  47,  35, 122, 107, 108, 102,\n",
      "        107,  35, 107, 108, 119, 118,  35, 118, 112, 100, 111, 111,  35, 102,\n",
      "        114, 112, 115, 100, 113, 108, 104, 118,  35, 115, 100, 117, 119, 108,\n",
      "        102, 120, 111, 100, 117, 111, 124,  35, 107, 100, 117, 103,  49,   1,\n",
      "          0,   0,   0,   0,   0,   0,   0,   0,   0,   0,   0,   0,   0,   0,\n",
      "          0,   0,   0,   0,   0,   0,   0,   0,   0,   0,   0,   0,   0,   0,\n",
      "          0,   0,   0,   0,   0,   0,   0,   0,   0,   0,   0,   0,   0,   0,\n",
      "          0,   0,   0,   0,   0,   0,   0,   0,   0,   0,   0,   0,   0,   0,\n",
      "          0,   0]), tensor([ 76,  35, 110, 113, 114, 122,  35, 114, 105,  35, 104, 113, 119, 117,\n",
      "        104, 115, 117, 104, 113, 104, 120, 117, 118,  35, 122, 107, 114,  35,\n",
      "        107, 100, 121, 104,  35, 116, 120, 108, 119, 104,  35, 102, 114, 113,\n",
      "        118, 102, 108, 114, 120, 118, 111, 124,  35, 103, 104, 102, 108, 103,\n",
      "        104, 103,  35, 100, 106, 100, 108, 113, 118, 119,  35, 105, 120, 117,\n",
      "        119, 107, 104, 117,  35, 104, 123, 115, 100, 113, 118, 108, 114, 113,\n",
      "         35, 114, 105,  35, 119, 107, 104, 108, 117,  35, 101, 120, 118, 108,\n",
      "        113, 104, 118, 118, 104, 118,  35, 101, 104, 102, 100, 120, 118, 104,\n",
      "         35, 119, 107, 104, 124,  35, 122, 100, 113, 119,  35, 119, 114,  35,\n",
      "        100,   1]), tensor([ 80, 100, 113, 124,  35, 100, 117, 104,  35, 103, 104, 119, 104, 117,\n",
      "        117, 104, 103,  35, 101, 124,  35, 119, 107, 104,  35, 100, 103, 112,\n",
      "        108, 113, 108, 118, 119, 117, 100, 119, 108, 121, 104,  35, 117, 104,\n",
      "        103,  35, 119, 100, 115, 104,  35, 108, 113, 121, 114, 111, 121, 104,\n",
      "        103,  49,   1,   0,   0,   0,   0,   0,   0,   0,   0,   0,   0,   0,\n",
      "          0,   0,   0,   0,   0,   0,   0,   0,   0,   0,   0,   0,   0,   0,\n",
      "          0,   0,   0,   0,   0,   0,   0,   0,   0,   0,   0,   0,   0,   0,\n",
      "          0,   0,   0,   0,   0,   0,   0,   0,   0,   0,   0,   0,   0,   0,\n",
      "          0,   0,   0,   0,   0,   0,   0,   0,   0,   0,   0,   0,   0,   0,\n",
      "          0,   0]), tensor([ 76, 113,  35, 119, 107, 108, 118,  35, 122, 100, 124,  47,  35, 119,\n",
      "        107, 104,  35, 112, 100, 113, 124,  35, 114, 101, 111, 108, 106, 100,\n",
      "        119, 108, 114, 113, 118,  35, 108, 112, 115, 114, 118, 104, 103,  35,\n",
      "        101, 124,  35, 106, 114, 121, 104, 117, 113, 112, 104, 113, 119, 118,\n",
      "         35, 114, 113,  35, 104, 113, 119, 117, 104, 115, 117, 104, 113, 104,\n",
      "        120, 117, 118,  35, 107, 108, 113, 103, 104, 117,  35, 119, 107, 104,\n",
      "         35, 106, 117, 114, 122, 119, 107,  35, 114, 105,  35, 115, 117, 114,\n",
      "        103, 120, 102, 119, 108, 114, 113,  35, 100, 113, 103,  35, 104, 112,\n",
      "        115, 111, 114, 124, 112, 104, 113, 119,  49,   1,   0,   0,   0,   0,\n",
      "          0,   0]), tensor([ 86, 114, 112, 104,  35, 114, 105,  35, 119, 107, 104,  35, 119, 108,\n",
      "        112, 104,  47,  35, 108, 119,  35, 108, 118,  35, 113, 114, 119,  35,\n",
      "        104, 121, 104, 113,  35, 119, 107, 104,  35, 111, 104, 106, 108, 118,\n",
      "        111, 100, 119, 108, 114, 113,  35, 122, 107, 108, 102, 107,  35, 108,\n",
      "        118,  35, 122, 117, 114, 113, 106,  35, 114, 117,  35, 108, 113, 104,\n",
      "        105, 105, 104, 102, 119, 108, 121, 104,  47,  35, 101, 120, 119,  35,\n",
      "        108, 119,  35, 108, 118,  35, 114, 105, 119, 104, 113,  35, 119, 107,\n",
      "        104,  35, 100, 102, 102, 120, 112, 120, 111, 100, 119, 108, 114, 113,\n",
      "         35, 114, 105,  35, 114, 101, 111, 108, 106, 100, 119, 108, 114, 113,\n",
      "        118,   1]), tensor([ 87, 107, 108, 118,  35, 117, 104, 112, 108, 113, 103, 118,  35, 112,\n",
      "        104,  35, 114, 105,  35, 100,  35, 117, 104, 115, 114, 117, 119,  35,\n",
      "        122, 104,  35, 103, 108, 118, 102, 120, 118, 118, 104, 103,  35, 111,\n",
      "        100, 118, 119,  35, 124, 104, 100, 117,  35, 122, 107, 108, 102, 107,\n",
      "         35, 117, 104, 111, 100, 119, 104, 103,  35, 119, 114,  35, 119, 107,\n",
      "        104,  35, 122, 114, 117, 110, 108, 113, 106,  35, 102, 114, 113, 103,\n",
      "        108, 119, 108, 114, 113, 118,  35, 114, 113,  35, 102, 114, 113, 118,\n",
      "        119, 117, 120, 102, 119, 108, 114, 113,  35, 118, 108, 119, 104, 118,\n",
      "         49,   1,   0,   0,   0,   0,   0,   0,   0,   0,   0,   0,   0,   0,\n",
      "          0,   0]), tensor([ 82, 113, 104,  35, 114, 105,  35, 119, 107, 104,  35, 115, 117, 114,\n",
      "        107, 108, 101, 108, 119, 108, 114, 113, 118,  35, 108, 113,  35, 119,\n",
      "        107, 100, 119,  35, 117, 104, 115, 114, 117, 119,  47,  35, 119, 107,\n",
      "        100, 113, 110, 118,  35, 119, 114,  35, 100, 113,  35, 100, 112, 104,\n",
      "        113, 103, 112, 104, 113, 119,  35, 108, 113,  35,  83, 100, 117, 111,\n",
      "        108, 100, 112, 104, 113, 119,  47,  35, 115, 104, 117, 119, 100, 108,\n",
      "        113, 118,  35, 119, 114,  35, 107, 114, 111, 103, 108, 113, 106,  35,\n",
      "        100,  35, 111, 100, 103, 103, 104, 117,  35, 122, 107, 108, 111, 104,\n",
      "         35, 118, 114, 112, 104, 114, 113, 104,  35, 108, 118,  35, 118, 119,\n",
      "        100,   1]), tensor([ 84, 120, 108, 119, 104,  35, 100, 115, 100, 117, 119,  35, 105, 117,\n",
      "        114, 112,  35, 119, 107, 104,  35, 100, 101, 118, 120, 117, 103, 108,\n",
      "        119, 124,  35, 114, 105,  35, 118, 120, 102, 107,  35, 115, 117, 114,\n",
      "        121, 108, 118, 108, 114, 113, 118,  47,  35, 114, 113, 104,  35, 122,\n",
      "        114, 113, 103, 104, 117, 118,  35, 122, 107, 114,  35, 118, 120, 101,\n",
      "        118, 104, 116, 120, 104, 113, 119, 111, 124,  35, 112, 114, 113, 108,\n",
      "        119, 114, 117, 118,  35, 102, 114, 112, 115, 111, 108, 100, 113, 102,\n",
      "        104,  35, 122, 108, 119, 107,  35, 119, 107, 108, 118,  35, 110, 108,\n",
      "        113, 103,  35, 114, 105,  35, 111, 104, 106, 108, 118, 111, 100, 119,\n",
      "        108,   1]), tensor([ 82, 113, 104,  35, 114, 105,  35, 119, 107, 104,  35, 110, 104, 124,\n",
      "         35, 115, 117, 114, 101, 111, 104, 112, 118,  35, 108, 113,  35, 114,\n",
      "        120, 117,  35, 102, 114, 112, 115, 111, 104, 123,  35, 118, 114, 102,\n",
      "        108, 104, 119, 124,  35, 108, 118,  35, 115, 117, 114, 101, 100, 101,\n",
      "        111, 124,  35, 119, 107, 104,  35, 105, 100, 102, 119,  35, 119, 107,\n",
      "        100, 119,  35, 122, 104,  35, 115, 117, 114, 103, 120, 102, 104,  35,\n",
      "        105, 100, 117,  35, 119, 114, 114,  35, 112, 100, 113, 124,  35, 117,\n",
      "        104, 106, 120, 111, 100, 119, 108, 114, 113, 118,  35, 108, 113,  35,\n",
      "        118, 120, 102, 107,  35, 100, 101, 120, 113, 103, 100, 113, 102, 104,\n",
      "         35,   1]), tensor([ 87, 107, 104,  35, 102, 114, 113, 118, 104, 116, 120, 104, 113, 102,\n",
      "        104, 118,  35, 102, 100, 113,  35, 101, 104,  35, 103, 108, 118, 100,\n",
      "        118, 119, 117, 114, 120, 118,  47,  35, 100, 118,  35, 100,  35, 117,\n",
      "        104, 102, 104, 113, 119,  35, 108, 113, 102, 108, 103, 104, 113, 119,\n",
      "         35, 108, 113,  35, 119, 107, 104,  35,  81, 104, 119, 107, 104, 117,\n",
      "        111, 100, 113, 103, 118,  35, 115, 117, 114, 121, 104, 103,  35, 114,\n",
      "        113, 102, 104,  35, 112, 114, 117, 104,  49,   1,   0,   0,   0,   0,\n",
      "          0,   0,   0,   0,   0,   0,   0,   0,   0,   0,   0,   0,   0,   0,\n",
      "          0,   0,   0,   0,   0,   0,   0,   0,   0,   0,   0,   0,   0,   0,\n",
      "          0,   0]), tensor([ 76, 113,  35, 112, 124,  35, 114, 115, 108, 113, 108, 114, 113,  47,\n",
      "         35, 119, 107, 104,  35, 107, 104, 100, 121, 124,  35, 100, 103, 112,\n",
      "        108, 113, 108, 118, 119, 117, 100, 119, 108, 121, 104,  35, 101, 120,\n",
      "        117, 103, 104, 113,  35, 114, 113,  35, 102, 108, 119, 108, 125, 104,\n",
      "        113, 118,  35, 100, 113, 103,  35, 101, 120, 118, 108, 113, 104, 118,\n",
      "        118, 104, 118,  47,  35, 102, 114, 112, 101, 108, 113, 104, 103,  35,\n",
      "        122, 108, 119, 107,  35, 119, 107, 104,  35, 106, 114, 121, 104, 117,\n",
      "        113, 112, 104, 113, 119,  42,  35, 118,  35, 108, 113, 102, 100, 115,\n",
      "        100, 102, 108, 119, 124,  35, 119, 114,  35, 104, 113, 118, 120, 117,\n",
      "        104,   1]), tensor([ 90, 107, 108, 111, 104,  35,  76,  35, 122, 104, 111, 102, 114, 112,\n",
      "        104,  35, 119, 107, 104,  35,  86,  79,  76,  80,  35, 115, 117, 114,\n",
      "        109, 104, 102, 119,  47,  35, 122, 107, 108, 102, 107,  35, 119, 107,\n",
      "        104,  35,  70, 114, 112, 112, 108, 118, 118, 108, 114, 113,  35, 111,\n",
      "        100, 120, 113, 102, 107, 104, 103,  35, 108, 113,  35,  52,  60,  60,\n",
      "         57,  35, 100, 113, 103,  35, 122, 107, 108, 102, 107,  35, 108, 118,\n",
      "         35, 120, 113, 103, 104, 117,  35, 103, 108, 118, 102, 120, 118, 118,\n",
      "        108, 114, 113,  35, 119, 107, 108, 118,  35, 104, 121, 104, 113, 108,\n",
      "        113, 106,  47,  35, 100, 118,  35,  76,  35, 118, 119, 100, 119, 104,\n",
      "        103,   1]), tensor([ 70, 114, 112, 115, 100, 117, 104, 103,  35, 119, 114,  35, 119, 107,\n",
      "        104,  35, 111, 104, 106, 108, 118, 111, 100, 119, 108, 121, 104,  35,\n",
      "        112, 100, 102, 107, 108, 113, 104, 117, 124,  35, 100, 118,  35, 100,\n",
      "         35, 122, 107, 114, 111, 104,  47,  35, 108, 119,  35, 108, 118,  35,\n",
      "        114, 113, 111, 124,  35, 100,  35, 103, 117, 114, 115,  35, 108, 113,\n",
      "         35, 119, 107, 104,  35, 114, 102, 104, 100, 113,  49,   1,   0,   0,\n",
      "          0,   0,   0,   0,   0,   0,   0,   0,   0,   0,   0,   0,   0,   0,\n",
      "          0,   0,   0,   0,   0,   0,   0,   0,   0,   0,   0,   0,   0,   0,\n",
      "          0,   0,   0,   0,   0,   0,   0,   0,   0,   0,   0,   0,   0,   0,\n",
      "          0,   0]), tensor([ 87, 107, 100, 119,  35, 108, 118,  35, 122, 107, 124,  35,  76,  35,\n",
      "        100, 117, 106, 120, 104,  35, 108, 113,  35, 105, 100, 121, 114, 120,\n",
      "        117,  35, 114, 105,  35, 100, 103, 103, 104, 103,  35, 112, 114, 112,\n",
      "        104, 113, 119, 120, 112,  47,  35, 100, 118,  35, 122, 104, 111, 111,\n",
      "         35, 100, 118,  35, 118, 107, 114, 117, 119, 104, 117,  35, 108, 112,\n",
      "        115, 111, 104, 112, 104, 113, 119, 100, 119, 108, 114, 113,  35, 115,\n",
      "        104, 117, 108, 114, 103, 118,  35, 105, 114, 117,  35, 119, 107, 104,\n",
      "         35, 117, 104, 118, 120, 111, 119, 118,  35, 114, 105,  35, 119, 107,\n",
      "        104,  35,  86,  79,  76,  80,  35, 122, 114, 117, 110, 108, 113, 106,\n",
      "         35,   1]), tensor([ 75, 114, 122, 104, 121, 104, 117,  47,  35,  76,  35, 100, 119, 119,\n",
      "        100, 102, 107,  35, 124, 104, 119,  35, 112, 114, 117, 104,  35, 108,\n",
      "        112, 115, 114, 117, 119, 100, 113, 102, 104,  35, 119, 114,  35, 118,\n",
      "        108, 112, 115, 111, 108, 105, 124, 108, 113, 106,  35, 111, 104, 106,\n",
      "        108, 118, 111, 100, 119, 108, 114, 113,  35, 108, 113,  35, 108, 119,\n",
      "        118,  35, 104, 113, 119, 108, 117, 104, 119, 124,  49,   1,   0,   0,\n",
      "          0,   0,   0,   0,   0,   0,   0,   0,   0,   0,   0,   0,   0,   0,\n",
      "          0,   0,   0,   0,   0,   0,   0,   0,   0,   0,   0,   0,   0,   0,\n",
      "          0,   0,   0,   0,   0,   0,   0,   0,   0,   0,   0,   0,   0,   0,\n",
      "          0,   0]), tensor([ 83, 100, 117, 119, 108, 102, 120, 111, 100, 117,  35, 100, 119, 119,\n",
      "        104, 113, 119, 108, 114, 113,  35, 122, 108, 111, 111,  35, 113, 104,\n",
      "        104, 103,  35, 119, 114,  35, 101, 104,  35, 115, 100, 108, 103,  35,\n",
      "        119, 114,  35, 119, 107, 104,  35, 122, 100, 124,  35, 108, 113,  35,\n",
      "        122, 107, 108, 102, 107,  35, 111, 104, 106, 108, 118, 111, 100, 119,\n",
      "        108, 114, 113,  35, 108, 118,  35, 103, 104, 121, 104, 111, 114, 115,\n",
      "        104, 103,  49,   1,   0,   0,   0,   0,   0,   0,   0,   0,   0,   0,\n",
      "          0,   0,   0,   0,   0,   0,   0,   0,   0,   0,   0,   0,   0,   0,\n",
      "          0,   0,   0,   0,   0,   0,   0,   0,   0,   0,   0,   0,   0,   0,\n",
      "          0,   0]), tensor([ 68, 105, 119, 104, 117,  35, 100, 111, 111,  47,  35, 108, 119,  35,\n",
      "        108, 118,  35, 112, 120, 102, 107,  35, 104, 100, 118, 108, 104, 117,\n",
      "         35, 119, 114,  35, 119, 100, 110, 104,  35, 118, 108, 112, 115, 111,\n",
      "        108, 105, 124, 108, 113, 106,  35, 112, 104, 100, 118, 120, 117, 104,\n",
      "        118,  35, 108, 113,  35, 119, 107, 104,  35, 104, 100, 117, 111, 124,\n",
      "         35, 118, 119, 100, 106, 104, 118,  35, 119, 107, 100, 113,  35, 119,\n",
      "        114,  35, 100, 103, 100, 115, 119,  35, 104, 123, 108, 118, 119, 108,\n",
      "        113, 106,  35, 111, 104, 106, 108, 118, 111, 100, 119, 108, 114, 113,\n",
      "         35, 111, 100, 119, 104, 117,  35, 114, 113,  47,  35, 100, 119,  35,\n",
      "        106,   1]), tensor([ 72, 121, 104, 117, 124,  35, 100, 121, 100, 108, 111, 100, 101, 111,\n",
      "        104,  35, 104, 105, 105, 114, 117, 119,  35, 112, 120, 118, 119,  35,\n",
      "        101, 104,  35, 112, 100, 103, 104,  35, 104, 100, 117, 111, 124,  35,\n",
      "        114, 113,  35, 119, 114,  35, 111, 100, 124,  35, 103, 114, 122, 113,\n",
      "         35, 107, 108, 106, 107,  48, 116, 120, 100, 111, 108, 119, 124,  35,\n",
      "        111, 104, 106, 108, 118, 111, 100, 119, 108, 114, 113,  35, 100, 113,\n",
      "        103,  35, 119, 114,  35, 117, 104, 118, 119, 117, 108, 102, 119,  35,\n",
      "        119, 107, 104,  35, 100, 103, 112, 108, 113, 108, 118, 119, 117, 100,\n",
      "        119, 108, 121, 104,  35, 100, 113, 103,  35, 105, 108, 113, 100, 113,\n",
      "        102,   1]), tensor([ 87, 107, 104,  35,  81, 104, 119, 107, 104, 117, 111, 100, 113, 103,\n",
      "        118,  35, 107, 100, 118,  35, 118, 104, 104, 113,  35, 119, 107, 104,\n",
      "         35, 117, 104, 102, 104, 113, 119,  35, 108, 113, 119, 117, 114, 103,\n",
      "        120, 102, 119, 108, 114, 113,  35, 114, 105,  35,  68, 102, 119, 100,\n",
      "        111,  47,  35, 122, 107, 108, 102, 107,  35,  76,  35, 112, 104, 113,\n",
      "        119, 108, 114, 113, 104, 103,  35, 100,  35, 112, 114, 112, 104, 113,\n",
      "        119,  35, 100, 106, 114,  49,   1,   0,   0,   0,   0,   0,   0,   0,\n",
      "          0,   0,   0,   0,   0,   0,   0,   0,   0,   0,   0,   0,   0,   0,\n",
      "          0,   0,   0,   0,   0,   0,   0,   0,   0,   0,   0,   0,   0,   0,\n",
      "          0,   0]), tensor([ 68, 102, 119, 100, 111,  35, 108, 118,  35, 100, 113,  35, 108, 113,\n",
      "        103, 104, 115, 104, 113, 103, 104, 113, 119,  35, 122, 100, 119, 102,\n",
      "        107, 103, 114, 106,  35, 122, 107, 114, 118, 104,  35, 103, 120, 119,\n",
      "        124,  35, 108, 119,  35, 108, 118,  35, 119, 114,  35, 104, 123, 100,\n",
      "        112, 108, 113, 104,  35, 103, 117, 100, 105, 119,  35, 111, 104, 106,\n",
      "        108, 118, 111, 100, 119, 108, 121, 104,  35, 115, 117, 114, 115, 114,\n",
      "        118, 100, 111, 118,  35, 100, 113, 103,  35, 119, 114,  35, 104, 123,\n",
      "        115, 114, 118, 104,  35, 100, 113, 124,  35, 113, 104, 106, 100, 119,\n",
      "        108, 121, 104,  35, 100, 103, 112, 108, 113, 108, 118, 119, 117, 100,\n",
      "        119,   1]), tensor([ 68, 113,  35, 104, 123, 102, 104, 111, 111, 104, 113, 119,  35, 108,\n",
      "        113, 108, 119, 108, 100, 119, 108, 121, 104,  35, 122, 107, 108, 102,\n",
      "        107,  47,  35,  76,  35, 107, 114, 115, 104,  47,  35, 122, 108, 111,\n",
      "        111,  35, 101, 104,  35, 102, 114, 115, 108, 104, 103,  35, 111, 108,\n",
      "        101, 104, 117, 100, 111, 111, 124,  35, 108, 113,  35, 114, 119, 107,\n",
      "        104, 117,  35,  80, 104, 112, 101, 104, 117,  35,  86, 119, 100, 119,\n",
      "        104, 118,  35, 100, 113, 103,  35, 100, 119,  35,  72,  88,  35, 111,\n",
      "        104, 121, 104, 111,  49,   1,   0,   0,   0,   0,   0,   0,   0,   0,\n",
      "          0,   0,   0,   0,   0,   0,   0,   0,   0,   0,   0,   0,   0,   0,\n",
      "          0,   0]), tensor([ 76,  35, 122, 114, 120, 111, 103,  35, 112, 100, 110, 104,  35, 100,\n",
      "        113,  35, 120, 117, 106, 104, 113, 119,  35, 100, 115, 115, 104, 100,\n",
      "        111,  35, 119, 114,  35, 119, 107, 104,  35,  72, 120, 117, 114, 115,\n",
      "        104, 100, 113,  35,  70, 114, 112, 112, 108, 118, 118, 108, 114, 113,\n",
      "         35, 119, 114,  35, 112, 100, 110, 104,  35, 100,  35, 112, 100, 123,\n",
      "        108, 112, 120, 112,  35, 104, 105, 105, 114, 117, 119,  35, 119, 114,\n",
      "         35, 108, 112, 115, 117, 114, 121, 104,  35, 119, 107, 104,  35, 116,\n",
      "        120, 100, 111, 108, 119, 124,  35, 114, 105,  35, 111, 104, 106, 108,\n",
      "        118, 111, 100, 119, 108, 114, 113,  35, 100, 113, 103,  35, 119, 114,\n",
      "         35,   1]), tensor([ 76, 105,  35, 119, 107, 104,  35, 102, 120, 117, 117, 104, 113, 119,\n",
      "         35, 118, 108, 119, 120, 100, 119, 108, 114, 113,  35, 102, 114, 113,\n",
      "        119, 108, 113, 120, 104, 118,  35, 105, 114, 117,  35, 112, 120, 102,\n",
      "        107,  35, 111, 114, 113, 106, 104, 117,  47,  35, 119, 107, 104,  35,\n",
      "         72, 120, 117, 114, 115, 104, 100, 113,  35,  83, 100, 117, 111, 108,\n",
      "        100, 112, 104, 113, 119,  47,  35, 119, 114, 114,  47,  35, 122, 108,\n",
      "        111, 111,  35, 113, 104, 104, 103,  35, 119, 114,  35, 102, 114, 113,\n",
      "        118, 108, 103, 104, 117,  35, 119, 107, 104,  35, 102, 114, 113, 118,\n",
      "        104, 116, 120, 104, 113, 102, 104, 118,  35, 114, 105,  35, 111, 104,\n",
      "        106,   1]), tensor([ 76, 105,  35, 114, 119, 107, 104, 117, 118,  35, 105, 100, 108, 111,\n",
      "         35, 119, 114,  35, 102, 114, 112, 104,  35, 120, 115,  35, 122, 108,\n",
      "        119, 107,  35, 119, 107, 104,  35, 106, 114, 114, 103, 118,  47,  35,\n",
      "        122, 104,  35, 112, 108, 106, 107, 119,  35, 107, 100, 121, 104,  35,\n",
      "        119, 114,  35, 105, 114, 111, 111, 114, 122,  35, 108, 113,  35, 119,\n",
      "        107, 104,  35, 105, 114, 114, 119, 118, 119, 104, 115, 118,  35, 114,\n",
      "        105,  35, 119, 107, 104,  35,  68, 112, 104, 117, 108, 102, 100, 113,\n",
      "         35,  70, 114, 113, 106, 117, 104, 118, 118,  35, 100, 113, 103,  35,\n",
      "        118, 104, 119,  35, 120, 115,  35, 100,  35, 118, 104, 117, 121, 108,\n",
      "        102,   1]), tensor([ 80, 117,  35,  83, 117, 104, 118, 108, 103, 104, 113, 119,  47,  35,\n",
      "         70, 114, 112, 112, 108, 118, 118, 108, 114, 113, 104, 117,  35,  69,\n",
      "        114, 111, 110, 104, 118, 119, 104, 108, 113,  47,  35, 111, 100, 103,\n",
      "        108, 104, 118,  35, 100, 113, 103,  35, 106, 104, 113, 119, 111, 104,\n",
      "        112, 104, 113,  47,  35, 119, 107, 104,  35, 118, 108, 112, 115, 111,\n",
      "        104, 117,  35, 111, 104, 106, 108, 118, 111, 100, 119, 108, 114, 113,\n",
      "         35, 105, 114, 117,  35, 119, 107, 104,  35, 108, 113, 119, 104, 117,\n",
      "        113, 100, 111,  35, 112, 100, 117, 110, 104, 119,  35, 108, 113, 108,\n",
      "        119, 108, 100, 119, 108, 121, 104,  35, 108, 118,  35, 114, 113, 104,\n",
      "         35,   1]), tensor([ 68, 119,  35, 111, 104, 100, 118, 119,  35, 105, 114, 117,  35, 112,\n",
      "        124,  35, 115, 100, 117, 119, 124,  35, 108, 113,  35,  73, 108, 113,\n",
      "        111, 100, 113, 103,  47,  35, 119, 107, 104,  35,  81, 100, 119, 108,\n",
      "        114, 113, 100, 111,  35,  70, 114, 100, 111, 108, 119, 108, 114, 113,\n",
      "         47,  35, 119, 107, 104,  35, 118, 119, 117, 104, 100, 112, 111, 108,\n",
      "        113, 108, 113, 106,  35, 114, 105,  35, 111, 104, 106, 108, 118, 111,\n",
      "        100, 119, 108, 114, 113,  35, 100, 113, 103,  35, 100, 113,  35, 104,\n",
      "        113, 103,  35, 119, 114,  35, 119, 107, 104,  35, 113, 104, 104, 103,\n",
      "        111, 104, 118, 118,  35, 102, 107, 120, 117, 113, 108, 113, 106,  35,\n",
      "        114,   1]), tensor([ 76,  35, 101, 104, 111, 108, 104, 121, 104,  35, 119, 107, 100, 119,\n",
      "         35, 112, 120, 102, 107,  35, 121, 100, 111, 120, 104,  35, 108, 118,\n",
      "         35, 100, 119, 119, 100, 102, 107, 104, 103,  35, 119, 114,  35, 119,\n",
      "        107, 108, 118,  35, 100, 115, 115, 117, 114, 100, 102, 107,  35, 108,\n",
      "        113,  35, 112, 100, 113, 124,  35, 114, 119, 107, 104, 117,  35, 116,\n",
      "        120, 100, 117, 119, 104, 117, 118,  35, 119, 114, 114,  49,   1,   0,\n",
      "          0,   0,   0,   0,   0,   0,   0,   0,   0,   0,   0,   0,   0,   0,\n",
      "          0,   0,   0,   0,   0,   0,   0,   0,   0,   0,   0,   0,   0,   0,\n",
      "          0,   0,   0,   0,   0,   0,   0,   0,   0,   0,   0,   0,   0,   0,\n",
      "          0,   0]), tensor([ 87, 107, 104,  35,  70, 114, 112, 112, 108, 118, 118, 108, 114, 113,\n",
      "         35, 102, 114, 112, 112, 120, 113, 108, 102, 100, 119, 108, 114, 113,\n",
      "         35, 114, 113,  35, 119, 107, 104,  35, 115, 117, 104, 118, 104, 113,\n",
      "        119,  35, 118, 119, 100, 119, 104,  35, 114, 105,  35, 119, 107, 104,\n",
      "         35,  86,  79,  76,  80,  35, 115, 117, 114, 109, 104, 102, 119,  35,\n",
      "        108, 118,  35, 121, 104, 117, 124,  35, 106, 117, 100, 119, 108, 105,\n",
      "        124, 108, 113, 106,  47,  35, 101, 120, 119,  35, 101, 124,  35, 113,\n",
      "        114,  35, 112, 104, 100, 113, 118,  35, 105, 120, 111, 111, 124,  35,\n",
      "        100, 103, 104, 116, 120, 100, 119, 104,  47,  35, 100, 118,  35, 124,\n",
      "        104,   1]), tensor([ 76, 119,  35, 108, 118,  35, 121, 108, 119, 100, 111, 111, 124,  35,\n",
      "        108, 112, 115, 114, 117, 119, 100, 113, 119,  35, 119, 107, 100, 119,\n",
      "         35, 119, 107, 104,  35,  70, 114, 112, 112, 108, 118, 118, 108, 114,\n",
      "        113,  35, 108, 118,  35, 100, 101, 111, 104,  35, 119, 114,  35, 112,\n",
      "        100, 110, 104,  35, 119, 107, 104,  35, 115, 117, 114, 115, 114, 118,\n",
      "        100, 111, 118,  35, 105, 114, 117,  35, 119, 107, 104,  35, 115, 117,\n",
      "        114, 109, 104, 102, 119,  42,  35, 118,  35, 119, 107, 108, 117, 103,\n",
      "         35, 100, 113, 103,  35, 105, 114, 120, 117, 119, 107,  35, 115, 107,\n",
      "        100, 118, 104, 118,  35, 108, 113, 119, 114,  35, 102, 111, 104, 100,\n",
      "        117,   1]), tensor([ 73, 120, 117, 119, 107, 104, 117, 112, 114, 117, 104,  47,  35, 119,\n",
      "        107, 104,  35, 118, 108, 123,  48, 112, 114, 113, 119, 107,  35, 103,\n",
      "        104, 100, 103, 111, 108, 113, 104,  35, 115, 117, 114, 115, 114, 118,\n",
      "        104, 103,  35, 101, 124,  35, 119, 107, 104,  35, 117, 100, 115, 115,\n",
      "        114, 117, 119, 104, 120, 117,  35, 118, 107, 114, 120, 111, 103,  35,\n",
      "        101, 104,  35, 119, 100, 110, 104, 113,  35, 118, 104, 117, 108, 114,\n",
      "        120, 118, 111, 124,  49,   1,   0,   0,   0,   0,   0,   0,   0,   0,\n",
      "          0,   0,   0,   0,   0,   0,   0,   0,   0,   0,   0,   0,   0,   0,\n",
      "          0,   0,   0,   0,   0,   0,   0,   0,   0,   0,   0,   0,   0,   0,\n",
      "          0,   0]), tensor([ 76,  35, 122, 100, 117, 112, 111, 124,  35, 118, 120, 115, 115, 114,\n",
      "        117, 119,  35, 114, 120, 117,  35, 117, 100, 115, 115, 114, 117, 119,\n",
      "        104, 120, 117,  42,  35, 118,  35, 115, 117, 114, 115, 114, 118, 100,\n",
      "        111, 118,  35, 119, 107, 100, 119,  35, 119, 107, 104,  35, 120, 118,\n",
      "        104, 117, 118,  35, 114, 105,  35, 119, 107, 104,  35, 111, 104, 106,\n",
      "        108, 118, 111, 100, 119, 108, 114, 113,  35,  48,  35, 119, 107, 104,\n",
      "         35, 102, 120, 118, 119, 114, 112, 104, 117, 118,  35, 114, 105,  35,\n",
      "        114, 120, 117,  35, 103, 104, 102, 108, 118, 108, 114, 113,  35, 112,\n",
      "        100, 110, 104, 117, 118,  35,  48,  35, 118, 107, 114, 120, 111, 103,\n",
      "         35,   1]), tensor([ 82, 113, 111, 124,  35, 119, 107, 108, 118,  35, 118, 114, 117, 119,\n",
      "         35, 114, 105,  35, 102, 114, 117, 104, 106, 120, 111, 100, 119, 108,\n",
      "        114, 113,  35, 102, 100, 113,  35, 105, 120, 111, 111, 124,  35, 118,\n",
      "        104, 117, 121, 104,  35, 119, 114,  35, 118, 115, 104, 104, 103,  35,\n",
      "        120, 115,  35, 119, 107, 104,  35, 103, 104, 121, 104, 111, 114, 115,\n",
      "        112, 104, 113, 119,  35, 114, 105,  35, 119, 107, 104,  35,  72, 120,\n",
      "        117, 114, 115, 104, 100, 113,  35, 108, 113, 119, 104, 117, 113, 100,\n",
      "        111,  35, 112, 100, 117, 110, 104, 119,  47,  35, 100, 113, 103,  47,\n",
      "         35, 120, 111, 119, 108, 112, 100, 119, 104, 111, 124,  47,  35, 106,\n",
      "        120,   1]), tensor([ 83, 117, 114, 115, 114, 118, 100, 111, 118,  35, 100, 111, 114, 113,\n",
      "        104,  35, 100, 117, 104,  35, 114, 101, 121, 108, 114, 120, 118, 111,\n",
      "        124,  35, 113, 114, 119,  35, 104, 113, 114, 120, 106, 107,  61,  35,\n",
      "        119, 107, 104, 124,  35, 112, 120, 118, 119,  35, 100, 111, 118, 114,\n",
      "         35, 101, 104,  35, 100, 101, 111, 104,  35, 119, 114,  35, 101, 104,\n",
      "         35, 115, 117, 114, 102, 104, 118, 118, 104, 103,  35, 118, 122, 108,\n",
      "        105, 119, 111, 124,  35, 101, 114, 119, 107,  35, 108, 113,  35,  83,\n",
      "        100, 117, 111, 108, 100, 112, 104, 113, 119,  35, 100, 113, 103,  35,\n",
      "        108, 113,  35, 119, 107, 104,  35,  70, 114, 120, 113, 102, 108, 111,\n",
      "         49,   1]), tensor([ 90, 104,  35, 103, 114,  35, 107, 100, 121, 104,  35, 103, 104, 101,\n",
      "        100, 119, 104, 118,  35, 114, 113,  35, 118, 115, 104, 104, 103, 108,\n",
      "        113, 106,  35, 120, 115,  35, 119, 107, 104,  35, 111, 104, 106, 108,\n",
      "        118, 111, 100, 119, 108, 121, 104,  35, 115, 117, 114, 102, 104, 118,\n",
      "        118,  35, 105, 117, 114, 112,  35, 119, 108, 112, 104,  35, 119, 114,\n",
      "         35, 119, 108, 112, 104,  35, 107, 104, 117, 104,  35, 108, 113,  35,\n",
      "         83, 100, 117, 111, 108, 100, 112, 104, 113, 119,  49,   1,   0,   0,\n",
      "          0,   0,   0,   0,   0,   0,   0,   0,   0,   0,   0,   0,   0,   0,\n",
      "          0,   0,   0,   0,   0,   0,   0,   0,   0,   0,   0,   0,   0,   0,\n",
      "          0,   0]), tensor([ 90, 104,  35, 112, 104, 112, 101, 104, 117, 118,  35, 114, 105,  35,\n",
      "        119, 107, 104,  35,  70, 114, 112, 112, 108, 119, 119, 104, 104,  35,\n",
      "        114, 113,  35,  72, 102, 114, 113, 114, 112, 108, 102,  35, 100, 113,\n",
      "        103,  35,  80, 114, 113, 104, 119, 100, 117, 124,  35,  68, 105, 105,\n",
      "        100, 108, 117, 118,  35, 108, 113,  35, 115, 100, 117, 119, 108, 102,\n",
      "        120, 111, 100, 117,  35, 100, 122, 100, 108, 119,  35, 122, 108, 119,\n",
      "        107,  35, 108, 113, 119, 104, 117, 104, 118, 119,  35, 119, 107, 104,\n",
      "         35, 115, 117, 114, 115, 114, 118, 100, 111, 118,  35, 101, 124,  35,\n",
      "        119, 107, 104,  35,  79, 100, 112, 105, 100, 111, 120, 118, 118, 124,\n",
      "         35,   1]), tensor([ 68, 111, 119, 107, 114, 120, 106, 107,  35, 119, 107, 104, 108, 117,\n",
      "         35, 108, 113, 119, 104, 117, 108, 112,  35, 117, 104, 115, 114, 117,\n",
      "        119,  35, 122, 100, 118,  35, 118, 119, 108, 111, 111,  35, 113, 114,\n",
      "        119,  35, 121, 104, 117, 124,  35, 103, 104, 119, 100, 108, 111, 104,\n",
      "        103,  47,  35, 108, 119,  35, 113, 104, 121, 104, 117, 119, 107, 104,\n",
      "        111, 104, 118, 118,  35, 106, 108, 121, 104, 118,  35, 120, 118,  35,\n",
      "        119, 114,  35, 120, 113, 103, 104, 117, 118, 119, 100, 113, 103,  35,\n",
      "        119, 107, 100, 119,  35, 119, 107, 104,  35, 122, 114, 117, 110, 108,\n",
      "        113, 106,  35, 115, 100, 117, 119, 124,  35, 108, 118,  35, 115, 114,\n",
      "        113,   1]), tensor([ 76, 113,  35, 115, 117, 108, 113, 102, 108, 115, 111, 104,  47,  35,\n",
      "         76,  35, 119, 100, 110, 104,  35, 100,  35, 115, 114, 118, 108, 119,\n",
      "        108, 121, 104,  35, 121, 108, 104, 122,  35, 114, 105,  35, 118, 120,\n",
      "        102, 107,  35, 115, 117, 114, 115, 114, 118, 100, 111, 118,  47,  35,\n",
      "        100, 111, 119, 107, 114, 120, 106, 107,  35, 108, 119,  35, 108, 118,\n",
      "         35, 113, 114, 119, 114, 117, 108, 114, 120, 118, 111, 124,  35, 103,\n",
      "        108, 105, 105, 108, 102, 120, 111, 119,  35, 105, 114, 117,  35, 120,\n",
      "        118,  35, 115, 100, 117, 111, 108, 100, 112, 104, 113, 119, 100, 117,\n",
      "        108, 100, 113, 118,  35, 119, 114,  35, 117, 104, 111, 108, 113, 116,\n",
      "        120,   1]), tensor([ 76,  35, 101, 104, 111, 108, 104, 121, 104,  35, 119, 107, 100, 119,\n",
      "         35, 119, 107, 104,  35, 117, 104, 111, 108, 113, 116, 120, 108, 118,\n",
      "        107, 112, 104, 113, 119,  35, 114, 105,  35, 115, 114, 122, 104, 117,\n",
      "         35, 108, 113,  35, 102, 104, 117, 119, 100, 108, 113,  35, 117, 104,\n",
      "        118, 115, 104, 102, 119, 118,  35, 122, 108, 111, 111,  35, 101, 104,\n",
      "         35, 108, 113, 104, 121, 108, 119, 100, 101, 111, 104,  35, 119, 114,\n",
      "         35, 117, 104, 112, 114, 121, 104,  35, 119, 107, 104,  35, 105, 108,\n",
      "        113, 100, 111,  35, 101, 100, 117, 117, 108, 104, 117, 118,  35, 119,\n",
      "        114,  35, 119, 107, 104,  35, 108, 113, 119, 104, 117, 113, 100, 111,\n",
      "         35,   1]), tensor([ 80, 124,  35, 105, 108, 113, 100, 111,  35, 115, 114, 118, 108, 119,\n",
      "        108, 114, 113,  47,  35, 100, 113, 103,  35, 119, 107, 100, 119,  35,\n",
      "        114, 105,  35, 112, 124,  35, 106, 117, 114, 120, 115,  47,  35, 122,\n",
      "        108, 111, 111,  35, 118, 120, 117, 104, 111, 124,  35, 103, 104, 115,\n",
      "        104, 113, 103,  35, 114, 113,  35, 122, 107, 100, 119,  35, 105, 114,\n",
      "        117, 112,  35, 119, 107, 104,  35, 105, 100, 118, 119,  48, 119, 117,\n",
      "        100, 102, 110,  35, 115, 117, 114, 102, 104, 103, 120, 117, 104,  35,\n",
      "        122, 108, 111, 111,  35, 119, 100, 110, 104,  49,   1,   0,   0,   0,\n",
      "          0,   0,   0,   0,   0,   0,   0,   0,   0,   0,   0,   0,   0,   0,\n",
      "          0,   0]), tensor([ 76, 113,  35, 113, 114,  35, 102, 100, 118, 104,  35, 118, 107, 114,\n",
      "        120, 111, 103,  35, 108, 119,  35, 101, 104,  35, 100, 113,  35, 108,\n",
      "        112, 108, 119, 100, 119, 108, 114, 113,  35, 114, 105,  35, 119, 107,\n",
      "        104,  35, 115, 117, 104, 118, 104, 113, 119,  35, 102, 114, 112, 108,\n",
      "        119, 114, 111, 114, 106, 124,  35, 115, 117, 114, 102, 104, 103, 120,\n",
      "        117, 104,  47,  35, 122, 107, 104, 117, 104,  35, 119, 107, 104, 117,\n",
      "        104,  35, 108, 118,  35, 100,  35, 121, 104, 117, 124,  35, 106, 117,\n",
      "        104, 100, 119,  35, 113, 104, 104, 103,  35, 105, 114, 117,  35, 117,\n",
      "        104, 105, 114, 117, 112,  47,  35, 104, 118, 115, 104, 102, 108, 100,\n",
      "        111,   1]), tensor([ 82, 120, 117,  35, 117, 100, 115, 115, 114, 117, 119, 104, 120, 117,\n",
      "         35, 100, 111, 118, 114,  35, 117, 104, 105, 104, 117, 117, 104, 103,\n",
      "         35, 119, 114,  35, 119, 107, 108, 118,  49,   1,   0,   0,   0,   0,\n",
      "          0,   0,   0,   0,   0,   0,   0,   0,   0,   0,   0,   0,   0,   0,\n",
      "          0,   0,   0,   0,   0,   0,   0,   0,   0,   0,   0,   0,   0,   0,\n",
      "          0,   0,   0,   0,   0,   0,   0,   0,   0,   0,   0,   0,   0,   0,\n",
      "          0,   0,   0,   0,   0,   0,   0,   0,   0,   0,   0,   0,   0,   0,\n",
      "          0,   0,   0,   0,   0,   0,   0,   0,   0,   0,   0,   0,   0,   0,\n",
      "          0,   0,   0,   0,   0,   0,   0,   0,   0,   0,   0,   0,   0,   0,\n",
      "          0,   0]), tensor([ 68, 118,  35, 117, 104, 106, 100, 117, 103, 118,  35, 119, 107, 104,\n",
      "         35, 106, 104, 113, 104, 117, 100, 111,  35, 103, 104, 121, 104, 111,\n",
      "        114, 115, 112, 104, 113, 119,  35, 114, 105,  35, 119, 107, 104,  35,\n",
      "        111, 104, 106, 108, 118, 111, 100, 119, 108, 121, 104,  35, 115, 117,\n",
      "        114, 102, 104, 118, 118,  47,  35,  76,  35, 100, 111, 118, 114,  35,\n",
      "        100, 122, 100, 108, 119,  35, 122, 108, 119, 107,  35, 108, 113, 119,\n",
      "        104, 117, 104, 118, 119,  35, 119, 107, 104,  35,  70, 114, 112, 112,\n",
      "        108, 118, 118, 108, 114, 113,  42,  35, 118,  35, 122, 107, 108, 119,\n",
      "        104,  35, 115, 100, 115, 104, 117,  35, 114, 113,  35, 106, 114, 121,\n",
      "        104,   1]), tensor([ 90, 107, 100, 119, 104, 121, 104, 117,  35, 119, 107, 104,  35,  70,\n",
      "        114, 112, 112, 108, 118, 118, 108, 114, 113,  35, 115, 117, 114, 115,\n",
      "        114, 118, 104, 118,  35, 108, 113,  35, 108, 119, 118,  35, 115, 100,\n",
      "        115, 104, 117,  35, 122, 108, 111, 111,  35, 103, 104, 119, 104, 117,\n",
      "        112, 108, 113, 104,  35, 107, 114, 122,  35, 116, 120, 108, 102, 110,\n",
      "        111, 124,  35, 113, 104, 122,  35, 115, 117, 114, 109, 104, 102, 119,\n",
      "        118,  35, 105, 114, 117,  35, 111, 104, 106, 108, 118, 111, 100, 119,\n",
      "        108, 114, 113,  35, 100, 117, 104,  35, 103, 104, 100, 111, 119,  35,\n",
      "        122, 108, 119, 107,  47,  35, 100, 113, 103,  47,  35, 107, 114, 122,\n",
      "         35,   1]), tensor([ 75, 114, 115, 104, 105, 120, 111, 111, 124,  47,  35, 119, 107, 104,\n",
      "         35, 115, 100, 115, 104, 117,  35, 122, 108, 111, 111,  35, 102, 114,\n",
      "        113, 119, 100, 108, 113,  35, 106, 114, 114, 103,  47,  35, 102, 114,\n",
      "        113, 102, 117, 104, 119, 104,  35, 115, 117, 114, 115, 114, 118, 100,\n",
      "        111, 118,  47,  35, 101, 120, 119,  35,  76,  35, 100, 111, 118, 114,\n",
      "         35, 107, 114, 115, 104,  35, 119, 107, 100, 119,  35, 122, 104,  35,\n",
      "        102, 100, 113,  35, 118, 119, 108, 111, 111,  35, 115, 120, 119,  35,\n",
      "        118, 114, 112, 104,  35, 104, 105, 105, 114, 117, 119,  35, 108, 113,\n",
      "        119, 114,  35, 119, 107, 104,  35,  86,  79,  76,  80,  35, 115, 117,\n",
      "        114,   1]), tensor([ 80, 117,  35,  83, 117, 104, 118, 108, 103, 104, 113, 119,  47,  35,\n",
      "        108, 119,  35, 108, 118,  35, 102, 111, 104, 100, 117,  35, 119, 107,\n",
      "        100, 119,  35, 108, 112, 115, 117, 114, 121, 108, 113, 106,  35, 119,\n",
      "        107, 104,  35, 116, 120, 100, 111, 108, 119, 124,  35, 114, 105,  35,\n",
      "        111, 104, 106, 108, 118, 111, 100, 119, 108, 114, 113,  35, 108, 118,\n",
      "         35, 104, 118, 118, 104, 113, 119, 108, 100, 111,  35, 119, 114,  35,\n",
      "        119, 107, 104,  35, 104, 105, 105, 104, 102, 119, 108, 121, 104,  35,\n",
      "        105, 120, 113, 102, 119, 108, 114, 113, 108, 113, 106,  35, 114, 105,\n",
      "         35, 119, 107, 104,  35, 108, 113, 119, 104, 117, 113, 100, 111,  35,\n",
      "        112,   1]), tensor([ 86, 114,  35, 122, 104,  35, 100, 111, 111,  35, 122, 104, 111, 102,\n",
      "        114, 112, 104,  35, 119, 107, 104,  35,  86,  79,  76,  80,  35, 108,\n",
      "        113, 108, 119, 108, 100, 119, 108, 121, 104,  47,  35, 101, 120, 119,\n",
      "         35, 122, 104,  35, 112, 120, 118, 119,  35, 100, 111, 111,  35, 118,\n",
      "        107, 100, 117, 104,  35, 119, 107, 104,  35, 117, 100, 115, 115, 114,\n",
      "        117, 119, 104, 120, 117,  42, 118,  35, 117, 104, 118, 104, 117, 121,\n",
      "        100, 119, 108, 114, 113, 118,  35, 100, 101, 114, 120, 119,  35, 107,\n",
      "        114, 122,  35, 108, 119,  35, 107, 100, 118,  35, 122, 114, 117, 110,\n",
      "        104, 103,  35, 118, 114,  35, 105, 100, 117,  49,   1,   0,   0,   0,\n",
      "          0,   0]), tensor([ 87, 107, 104, 117, 104,  35, 100, 117, 104,  35, 118, 120, 117, 115,\n",
      "        117, 108, 118, 108, 113, 106, 111, 124,  35, 105, 104, 122,  35, 100,\n",
      "        117, 104, 100, 118,  35, 122, 107, 108, 102, 107,  35, 107, 100, 121,\n",
      "        104,  35, 101, 104, 104, 113,  35, 118, 120, 101, 109, 104, 102, 119,\n",
      "         35, 119, 114,  35, 119, 107, 104,  35,  86,  79,  76,  80,  35, 115,\n",
      "        117, 114, 102, 104, 118, 118,  35, 100, 113, 103,  35, 108, 119,  35,\n",
      "        108, 118,  35, 113, 114, 119,  35, 100, 111, 122, 100, 124, 118,  35,\n",
      "        102, 111, 104, 100, 117,  35, 122, 107, 124,  35, 119, 107, 114, 118,\n",
      "        104,  35, 115, 100, 117, 119, 108, 102, 120, 111, 100, 117,  35, 100,\n",
      "        117,   1]), tensor([ 90, 104,  35, 113, 104, 104, 103,  47,  35, 122, 108, 119, 107, 114,\n",
      "        120, 119,  35, 100,  35, 103, 114, 120, 101, 119,  47,  35, 100,  35,\n",
      "        105, 100, 118, 119,  48, 119, 117, 100, 102, 110,  35, 115, 117, 114,\n",
      "        102, 104, 103, 120, 117, 104,  35, 119, 114,  35, 119, 120, 117, 113,\n",
      "         35,  86,  79,  76,  80,  35, 114, 115, 108, 113, 108, 114, 113, 118,\n",
      "         35, 108, 113, 119, 114,  35, 111, 104, 106, 108, 118, 111, 100, 119,\n",
      "        108, 121, 104,  35, 115, 117, 114, 115, 114, 118, 100, 111, 118,  47,\n",
      "         35, 101, 104, 102, 100, 120, 118, 104,  35, 108, 119,  35, 100, 111,\n",
      "        111,  35, 118, 104, 104, 112, 118,  35, 119, 114,  35, 119, 100, 110,\n",
      "        104,   1]), tensor([ 86, 114,  35, 122, 104,  35, 122, 104, 111, 102, 114, 112, 104,  35,\n",
      "        119, 107, 104,  35, 115, 117, 114, 115, 114, 118, 100, 111,  35, 119,\n",
      "        114,  35, 118, 104, 119,  35, 120, 115,  35, 100,  35, 118, 115, 104,\n",
      "        102, 108, 100, 111,  35, 106, 117, 114, 120, 115,  35, 122, 108, 119,\n",
      "        107, 108, 113,  35, 119, 107, 104,  35,  68, 103, 121, 108, 118, 114,\n",
      "        117, 124,  35,  70, 114, 112, 112, 108, 119, 119, 104, 104,  35, 100,\n",
      "        113, 103,  35, 122, 104,  35, 122, 104, 111, 102, 114, 112, 104,  35,\n",
      "        119, 107, 104,  35, 117, 100, 115, 115, 114, 117, 119, 104, 120, 117,\n",
      "         42, 118,  35, 118, 120, 106, 106, 104, 118, 119, 108, 114, 113,  35,\n",
      "        119,   1]), tensor([ 70, 111, 104, 100, 117, 111, 124,  35, 122, 104,  35, 100, 111, 118,\n",
      "        114,  35, 113, 104, 104, 103,  35, 106, 117, 104, 100, 119, 104, 117,\n",
      "         35, 118, 124, 113, 104, 117, 106, 124,  35, 101, 104, 119, 122, 104,\n",
      "        104, 113,  35, 119, 107, 104,  35, 103, 108, 105, 105, 104, 117, 104,\n",
      "        113, 119,  35,  70, 114, 112, 112, 108, 118, 118, 108, 114, 113,  35,\n",
      "        108, 113, 108, 119, 108, 100, 119, 108, 121, 104, 118,  35, 105, 114,\n",
      "        117,  35, 108, 112, 115, 117, 114, 121, 108, 113, 106,  35, 111, 104,\n",
      "        106, 108, 118, 111, 100, 119, 108, 114, 113,  49,   1,   0,   0,   0,\n",
      "          0,   0,   0,   0,   0,   0,   0,   0,   0,   0,   0,   0,   0,   0,\n",
      "          0,   0]), tensor([ 90, 104,  35, 118, 114, 112, 104, 119, 108, 112, 104, 118,  35, 119,\n",
      "        107, 108, 113, 110,  35, 119, 107, 100, 119,  35, 119, 107, 104,  35,\n",
      "        103, 108, 105, 105, 104, 117, 104, 113, 119,  35, 115, 100, 117, 119,\n",
      "        118,  35, 100, 117, 104,  35, 114, 115, 104, 117, 100, 119, 108, 113,\n",
      "        106,  35, 108, 113,  35, 108, 118, 114, 111, 100, 119, 108, 114, 113,\n",
      "         49,   1,   0,   0,   0,   0,   0,   0,   0,   0,   0,   0,   0,   0,\n",
      "          0,   0,   0,   0,   0,   0,   0,   0,   0,   0,   0,   0,   0,   0,\n",
      "          0,   0,   0,   0,   0,   0,   0,   0,   0,   0,   0,   0,   0,   0,\n",
      "          0,   0,   0,   0,   0,   0,   0,   0,   0,   0,   0,   0,   0,   0,\n",
      "          0,   0]), tensor([ 68, 113, 103,  47,  35, 114, 105,  35, 102, 114, 120, 117, 118, 104,\n",
      "         47,  35, 122, 104,  35, 113, 104, 104, 103,  35, 106, 117, 104, 100,\n",
      "        119, 104, 117,  35, 102, 114, 114, 115, 104, 117, 100, 119, 108, 114,\n",
      "        113,  35, 101, 104, 119, 122, 104, 104, 113,  35,  80, 104, 112, 101,\n",
      "        104, 117,  35,  86, 119, 100, 119, 104, 118,  35, 100, 113, 103,  35,\n",
      "        119, 114,  35, 114, 121, 104, 117, 121, 108, 104, 122,  35, 101, 104,\n",
      "        118, 119,  35, 115, 117, 100, 102, 119, 108, 102, 104,  35, 100, 113,\n",
      "        103,  35, 118, 104, 104, 110,  35, 119, 114,  35, 117, 104, 115, 104,\n",
      "        100, 119,  35, 101, 104, 118, 119,  35, 115, 117, 100, 102, 119, 108,\n",
      "        102,   1]), tensor([ 68, 113, 103,  35, 105, 108, 113, 100, 111, 111, 124,  47,  35, 108,\n",
      "        119,  35, 108, 118,  35, 102, 117, 120, 102, 108, 100, 111,  35, 119,\n",
      "        114,  35, 104, 113, 118, 120, 117, 104,  35, 112, 100, 123, 108, 112,\n",
      "        120, 112,  35, 108, 113, 121, 114, 111, 121, 104, 112, 104, 113, 119,\n",
      "         35, 114, 105,  35, 119, 107, 104,  35, 120, 118, 104, 117, 118,  35,\n",
      "        114, 105,  35, 119, 107, 108, 118,  35, 111, 104, 106, 108, 118, 111,\n",
      "        100, 119, 108, 114, 113,  47,  35, 115, 100, 117, 119, 108, 102, 120,\n",
      "        111, 100, 117, 111, 124,  35, 101, 120, 118, 108, 113, 104, 118, 118,\n",
      "        104, 118,  47,  35, 101, 104, 102, 100, 120, 118, 104,  35, 119, 107,\n",
      "        104,   1]), tensor([ 75, 114, 122, 104, 121, 104, 117,  47,  35, 107, 100, 121, 108, 113,\n",
      "        106,  35, 118, 100, 108, 103,  35, 119, 107, 100, 119,  47,  35, 124,\n",
      "        114, 120,  35, 102, 114, 120, 111, 103,  35, 116, 120, 108, 119, 104,\n",
      "         35, 102, 114, 113, 102, 104, 108, 121, 100, 101, 111, 124,  35, 115,\n",
      "        117, 114, 103, 120, 102, 104,  35, 122, 114, 113, 103, 104, 117, 105,\n",
      "        120, 111,  47,  35, 118, 108, 112, 115, 111, 104,  35, 111, 104, 106,\n",
      "        108, 118, 111, 100, 119, 108, 114, 113,  47,  35, 124, 104, 119,  35,\n",
      "        108, 119,  35, 102, 114, 120, 111, 103,  35, 101, 104,  35, 102, 114,\n",
      "        112, 115, 111, 104, 119, 104, 111, 124,  35, 103, 104, 118, 119, 117,\n",
      "        114,   1]), tensor([ 90, 104,  35, 112, 120, 118, 119,  35, 120, 113, 103, 104, 117, 118,\n",
      "        119, 100, 113, 103,  35, 119, 107, 100, 119,  35, 119, 107, 104, 117,\n",
      "        104,  35, 100, 117, 104,  35, 119, 107, 117, 104, 104,  35, 118, 119,\n",
      "        100, 106, 104, 118,  35, 114, 105,  35, 111, 104, 106, 108, 118, 111,\n",
      "        100, 119, 108, 114, 113,  35,  48,  35, 105, 114, 117, 112, 120, 111,\n",
      "        100, 119, 108, 114, 113,  47,  35, 108, 112, 115, 111, 104, 112, 104,\n",
      "        113, 119, 100, 119, 108, 114, 113,  47,  35, 108, 113, 102, 111, 120,\n",
      "        103, 108, 113, 106,  35, 119, 117, 100, 113, 118, 115, 114, 118, 108,\n",
      "        119, 108, 114, 113,  47,  35, 100, 113, 103,  35, 104, 113, 105, 114,\n",
      "        117,   1]), tensor([ 90, 104,  35, 114, 105, 119, 104, 113,  35, 105, 108, 113, 103,  35,\n",
      "        119, 107, 104,  35, 106, 117, 104, 100, 119, 104, 118, 119,  35, 115,\n",
      "        117, 114, 101, 111, 104, 112,  35, 108, 118,  35, 113, 114, 119,  35,\n",
      "        119, 107, 104,  35, 114, 117, 108, 106, 108, 113, 100, 111,  35, 111,\n",
      "        104, 106, 108, 118, 111, 100, 119, 108, 114, 113,  35, 101, 120, 119,\n",
      "         35, 107, 114, 122,  35, 108, 119,  35, 107, 100, 118,  35, 101, 104,\n",
      "        104, 113,  35, 119, 117, 100, 113, 118, 115, 114, 118, 104, 103,  35,\n",
      "        101, 124,  35,  80, 104, 112, 101, 104, 117,  35,  86, 119, 100, 119,\n",
      "        104, 118,  35, 100, 113, 103,  35, 119, 107, 104,  35, 118, 115, 104,\n",
      "        104,   1]), tensor([ 76,  35, 100, 112,  35, 114, 105, 119, 104, 113,  35, 116, 120, 108,\n",
      "        119, 104,  35, 118, 120, 117, 115, 117, 108, 118, 104, 103,  35, 101,\n",
      "        124,  35, 107, 114, 122,  35, 117, 104, 111, 100, 119, 108, 121, 104,\n",
      "        111, 124,  35, 118, 108, 112, 115, 111, 104,  35, 108, 103, 104, 100,\n",
      "        118,  35, 100, 117, 104,  35, 119, 120, 117, 113, 104, 103,  35, 108,\n",
      "        113, 119, 114,  35, 119, 107, 104,  35, 112, 114, 118, 119,  35, 102,\n",
      "        114, 112, 115, 111, 104, 123,  35, 113, 108, 106, 107, 119, 112, 100,\n",
      "        117, 104, 118,  35, 100, 118,  35, 122, 104,  35, 106, 114,  35, 119,\n",
      "        107, 117, 114, 120, 106, 107,  35, 119, 107, 100, 119,  35, 115, 117,\n",
      "        114,   1]), tensor([ 68, 118,  35, 115, 100, 117, 119,  35, 114, 105,  35, 119, 107, 108,\n",
      "        118,  35, 114, 113,  48, 106, 114, 108, 113, 106,  35, 103, 104, 119,\n",
      "        104, 117, 112, 108, 113, 100, 119, 108, 114, 113,  35, 101, 124,  35,\n",
      "        119, 107, 104,  35,  70, 114, 112, 112, 108, 118, 118, 108, 114, 113,\n",
      "         35, 119, 114,  35, 118, 108, 112, 115, 111, 108, 105, 124,  35, 111,\n",
      "        104, 106, 108, 118, 111, 100, 119, 108, 114, 113,  47,  35,  76,  35,\n",
      "        122, 114, 120, 111, 103,  35, 111, 108, 110, 104,  35, 119, 114,  35,\n",
      "        118, 104, 104,  35, 112, 120, 102, 107,  35, 106, 117, 104, 100, 119,\n",
      "        104, 117,  35, 102, 114, 114, 115, 104, 117, 100, 119, 108, 114, 113,\n",
      "         35,   1]), tensor([ 86, 114,  35, 122, 104,  35, 112, 120, 118, 119,  35, 102, 114, 113,\n",
      "        118, 108, 103, 104, 117,  35, 119, 107, 104,  35, 122, 107, 114, 111,\n",
      "        104,  35, 115, 117, 114, 102, 104, 118, 118,  35, 122, 107, 104, 113,\n",
      "         35, 122, 104,  35, 103, 117, 100, 105, 119,  35, 119, 107, 104,  35,\n",
      "        114, 117, 108, 106, 108, 113, 100, 111,  35, 111, 104, 106, 108, 118,\n",
      "        111, 100, 119, 108, 114, 113,  49,   1,   0,   0,   0,   0,   0,   0,\n",
      "          0,   0,   0,   0,   0,   0,   0,   0,   0,   0,   0,   0,   0,   0,\n",
      "          0,   0,   0,   0,   0,   0,   0,   0,   0,   0,   0,   0,   0,   0,\n",
      "          0,   0,   0,   0,   0,   0,   0,   0,   0,   0,   0,   0,   0,   0,\n",
      "          0,   0]), tensor([ 76, 113,  35, 118, 114, 112, 104,  35, 122, 100, 124, 118,  47,  35,\n",
      "        124, 114, 120,  35, 102, 114, 120, 111, 103,  35, 100, 117, 106, 120,\n",
      "        104,  47,  35, 122, 104,  35, 118, 107, 114, 120, 111, 103,  35, 118,\n",
      "        119, 100, 117, 119,  35, 100, 119,  35, 119, 107, 104,  35, 104, 113,\n",
      "        103,  35, 100, 113, 103,  35, 111, 114, 114, 110,  35, 100, 119,  35,\n",
      "        107, 114, 122,  35, 122, 104,  35, 104, 113, 105, 114, 117, 102, 104,\n",
      "         35, 108, 119,  35, 100, 113, 103,  35, 119, 107, 104, 113,  35, 122,\n",
      "        114, 117, 110,  35, 101, 100, 102, 110, 122, 100, 117, 103, 118,  35,\n",
      "        100, 118,  35, 100,  35, 122, 100, 124,  35, 114, 105,  35, 106, 104,\n",
      "        119,   1]), tensor([ 69, 120, 119,  35, 119, 107, 104,  35,  86,  79,  76,  80,  35, 115,\n",
      "        117, 114, 102, 104, 118, 118,  35, 114, 120, 106, 107, 119,  35, 119,\n",
      "        114,  35, 106, 114,  35, 112, 120, 102, 107,  35, 105, 120, 117, 119,\n",
      "        107, 104, 117,  49,   1,   0,   0,   0,   0,   0,   0,   0,   0,   0,\n",
      "          0,   0,   0,   0,   0,   0,   0,   0,   0,   0,   0,   0,   0,   0,\n",
      "          0,   0,   0,   0,   0,   0,   0,   0,   0,   0,   0,   0,   0,   0,\n",
      "          0,   0,   0,   0,   0,   0,   0,   0,   0,   0,   0,   0,   0,   0,\n",
      "          0,   0,   0,   0,   0,   0,   0,   0,   0,   0,   0,   0,   0,   0,\n",
      "          0,   0,   0,   0,   0,   0,   0,   0,   0,   0,   0,   0,   0,   0,\n",
      "          0,   0]), tensor([ 90, 104,  35, 113, 104, 104, 103,  35, 100,  35, 117, 114, 111, 111,\n",
      "        108, 113, 106,  35, 115, 117, 114, 106, 117, 100, 112, 112, 104,  35,\n",
      "        122, 107, 108, 102, 107,  35, 122, 108, 111, 111,  35, 102, 114, 121,\n",
      "        104, 117,  35, 100, 111, 111,  35, 111, 104, 106, 108, 118, 111, 100,\n",
      "        119, 108, 114, 113,  35, 100, 113, 103,  35, 111, 114, 114, 110,  35,\n",
      "        100, 119,  35, 118, 108, 112, 115, 111, 108, 105, 124, 108, 113, 106,\n",
      "         47,  35, 102, 114, 113, 118, 114, 111, 108, 103, 100, 119, 108, 113,\n",
      "        106,  47,  35, 117, 104,  48, 102, 100, 118, 119, 108, 113, 106,  47,\n",
      "         35, 118, 114, 112, 104, 119, 108, 112, 104, 118,  35, 117, 104, 115,\n",
      "        104,   1]), tensor([ 86, 114, 112, 104, 119, 108, 112, 104, 118,  35, 122, 104,  35, 112,\n",
      "        100, 124,  35, 113, 104, 104, 103,  35, 119, 114,  35, 106, 114,  35,\n",
      "        105, 114, 117,  35, 119, 107, 104,  35, 118, 119, 100, 119, 120, 118,\n",
      "         35, 116, 120, 114,  47,  35, 101, 120, 119,  35, 122, 104,  35, 113,\n",
      "        104, 104, 103,  35, 100,  35, 112, 114, 117, 104,  35, 103, 124, 113,\n",
      "        100, 112, 108, 102,  35, 115, 117, 114, 102, 104, 118, 118,  35, 119,\n",
      "        107, 100, 113,  35, 122, 104,  35, 107, 100, 121, 104,  35, 107, 100,\n",
      "        103,  35, 118, 114,  35, 105, 100, 117,  49,   1,   0,   0,   0,   0,\n",
      "          0,   0,   0,   0,   0,   0,   0,   0,   0,   0,   0,   0,   0,   0,\n",
      "          0,   0]), tensor([ 80, 117,  35,  83, 117, 104, 118, 108, 103, 104, 113, 119,  47,  35,\n",
      "         70, 114, 112, 112, 108, 118, 118, 108, 114, 113, 104, 117,  47,  35,\n",
      "        111, 100, 103, 108, 104, 118,  35, 100, 113, 103,  35, 106, 104, 113,\n",
      "        119, 111, 104, 112, 104, 113,  47,  35,  76,  35, 118, 107, 100, 117,\n",
      "        104,  35, 119, 107, 104,  35, 117, 100, 115, 115, 114, 117, 119, 104,\n",
      "        120, 117,  42,  35, 118,  35, 102, 114, 113, 102, 104, 117, 113,  35,\n",
      "        100, 101, 114, 120, 119,  35, 119, 107, 104,  35, 105, 100, 102, 119,\n",
      "         35, 119, 107, 100, 119,  35, 104, 121, 108, 103, 104, 113, 119, 111,\n",
      "        124,  47,  35,  72, 120, 117, 114, 115, 104, 100, 113,  35, 108, 113,\n",
      "        118,   1]), tensor([ 68, 111, 111,  35, 102, 117, 104, 103, 108, 119,  35, 119, 114,  35,\n",
      "         80, 117,  35,  71, 114, 114, 117, 113,  47,  35, 122, 107, 114,  35,\n",
      "        107, 100, 118,  35, 112, 100, 113, 100, 106, 104, 103,  35, 119, 114,\n",
      "         35, 115, 120, 119,  35, 107, 108, 118,  35, 105, 108, 113, 106, 104,\n",
      "        117,  35, 114, 113,  35, 119, 107, 104,  35, 115, 117, 114, 101, 111,\n",
      "        104, 112,  49,   1,   0,   0,   0,   0,   0,   0,   0,   0,   0,   0,\n",
      "          0,   0,   0,   0,   0,   0,   0,   0,   0,   0,   0,   0,   0,   0,\n",
      "          0,   0,   0,   0,   0,   0,   0,   0,   0,   0,   0,   0,   0,   0,\n",
      "          0,   0,   0,   0,   0,   0,   0,   0,   0,   0,   0,   0,   0,   0,\n",
      "          0,   0]), tensor([ 76, 119,  35, 118, 107, 114, 120, 111, 103,  35, 101, 104,  35, 107,\n",
      "        108, 106, 107, 111, 108, 106, 107, 119, 104, 103,  47,  35, 117, 108,\n",
      "        106, 107, 119, 111, 124,  35, 118, 114,  47,  35, 119, 107, 100, 119,\n",
      "         35,  72,  88,  35, 102, 108, 119, 108, 125, 104, 113, 118,  35, 100,\n",
      "        113, 103,  35, 101, 120, 118, 108, 113, 104, 118, 118, 104, 118,  35,\n",
      "        102, 114, 113, 118, 108, 103, 104, 117,  35, 102, 114, 112, 115, 111,\n",
      "        104, 123,  35, 111, 104, 106, 108, 118, 111, 100, 119, 108, 114, 113,\n",
      "         35, 100, 113, 103,  35, 117, 104, 103,  35, 119, 100, 115, 104,  35,\n",
      "        119, 114,  35, 101, 104,  35, 104, 121, 108, 103, 104, 113, 102, 104,\n",
      "         35,   1]), tensor([ 87, 107, 104,  35, 102, 100, 120, 118, 104, 118,  35, 100, 117, 104,\n",
      "         35, 114, 101, 121, 108, 114, 120, 118,  49,   1,   0,   0,   0,   0,\n",
      "          0,   0,   0,   0,   0,   0,   0,   0,   0,   0,   0,   0,   0,   0,\n",
      "          0,   0,   0,   0,   0,   0,   0,   0,   0,   0,   0,   0,   0,   0,\n",
      "          0,   0,   0,   0,   0,   0,   0,   0,   0,   0,   0,   0,   0,   0,\n",
      "          0,   0,   0,   0,   0,   0,   0,   0,   0,   0,   0,   0,   0,   0,\n",
      "          0,   0,   0,   0,   0,   0,   0,   0,   0,   0,   0,   0,   0,   0,\n",
      "          0,   0,   0,   0,   0,   0,   0,   0,   0,   0,   0,   0,   0,   0,\n",
      "          0,   0,   0,   0,   0,   0,   0,   0,   0,   0,   0,   0,   0,   0,\n",
      "          0,   0]), tensor([ 68, 118,  35, 111, 114, 113, 106,  35, 100, 118,  35, 119, 107, 104,\n",
      "         35,  70, 114, 112, 112, 108, 118, 118, 108, 114, 113,  35, 103, 114,\n",
      "        104, 118,  35, 113, 114, 119,  35, 100, 103, 114, 115, 119,  35, 100,\n",
      "         35, 102, 111, 104, 100, 117,  47,  35, 102, 104, 113, 119, 117, 100,\n",
      "        111, 108, 118, 104, 103,  35, 100, 115, 115, 117, 114, 100, 102, 107,\n",
      "         35, 119, 114,  35,  86,  79,  76,  80,  47,  35, 119, 107, 104,  35,\n",
      "         86,  79,  76,  80,  35, 108, 113, 108, 119, 108, 100, 119, 108, 121,\n",
      "        104,  35, 117, 104, 112, 100, 108, 113, 118,  35, 100, 113,  35, 104,\n",
      "        123, 104, 117, 102, 108, 118, 104,  35, 122, 108, 119, 107,  35, 113,\n",
      "        114,   1]), tensor([ 76, 119,  35, 118, 107, 114, 120, 111, 103,  35, 101, 104,  35, 100,\n",
      "        113, 124, 119, 107, 108, 113, 106,  35, 101, 120, 119,  35, 119, 107,\n",
      "        100, 119,  49,   1,   0,   0,   0,   0,   0,   0,   0,   0,   0,   0,\n",
      "          0,   0,   0,   0,   0,   0,   0,   0,   0,   0,   0,   0,   0,   0,\n",
      "          0,   0,   0,   0,   0,   0,   0,   0,   0,   0,   0,   0,   0,   0,\n",
      "          0,   0,   0,   0,   0,   0,   0,   0,   0,   0,   0,   0,   0,   0,\n",
      "          0,   0,   0,   0,   0,   0,   0,   0,   0,   0,   0,   0,   0,   0,\n",
      "          0,   0,   0,   0,   0,   0,   0,   0,   0,   0,   0,   0,   0,   0,\n",
      "          0,   0,   0,   0,   0,   0,   0,   0,   0,   0,   0,   0,   0,   0,\n",
      "          0,   0]), tensor([ 76, 113,  35, 112, 124,  35, 114, 115, 108, 113, 108, 114, 113,  47,\n",
      "         35, 119, 122, 114,  35, 106, 114, 100, 111, 118,  35, 113, 104, 104,\n",
      "        103,  35, 119, 114,  35, 101, 104,  35, 101, 117, 114, 120, 106, 107,\n",
      "        119,  35, 108, 113, 119, 114,  35, 105, 114, 102, 120, 118,  47,  35,\n",
      "        108, 113,  35, 100, 103, 103, 108, 119, 108, 114, 113,  35, 119, 114,\n",
      "         35, 119, 107, 104,  35, 117, 104, 102, 114, 112, 112, 104, 113, 103,\n",
      "        100, 119, 108, 114, 113, 118,  35, 122, 107, 108, 102, 107,  35, 100,\n",
      "        117, 104,  35, 102, 120, 117, 117, 104, 113, 119, 111, 124,  35, 108,\n",
      "        113,  35, 119, 107, 104,  35, 117, 104, 115, 114, 117, 119,  49,   1,\n",
      "          0,   0]), tensor([ 73, 108, 117, 118, 119,  35, 114, 105,  35, 100, 111, 111,  47,  35,\n",
      "        119, 107, 104,  35,  86,  79,  76,  80,  35, 108, 113, 108, 119, 108,\n",
      "        100, 119, 108, 121, 104,  35, 112, 120, 118, 119,  35, 101, 104,  35,\n",
      "        111, 104, 113, 119,  35, 100,  35, 101, 108, 113, 103, 108, 113, 106,\n",
      "         35, 102, 107, 100, 117, 100, 102, 119, 104, 117,  47,  35, 115, 100,\n",
      "        117, 119, 108, 102, 120, 111, 100, 117, 111, 124,  35, 122, 108, 119,\n",
      "        107,  35,  72,  88,  35, 104, 113, 111, 100, 117, 106, 104, 112, 104,\n",
      "        113, 119,  35, 114, 113,  35, 119, 107, 104,  35, 107, 114, 117, 108,\n",
      "        125, 114, 113,  49,   1,   0,   0,   0,   0,   0,   0,   0,   0,   0,\n",
      "          0,   0]), tensor([ 86, 104, 102, 114, 113, 103, 111, 124,  47,  35,  80, 104, 112, 101,\n",
      "        104, 117,  35,  86, 119, 100, 119, 104, 118,  35, 112, 120, 118, 119,\n",
      "         47,  35, 100, 118,  35, 114, 105,  35, 113, 114, 122,  47,  35, 118,\n",
      "        104, 119,  35, 100,  35, 106, 114, 114, 103,  35, 104, 123, 100, 112,\n",
      "        115, 111, 104,  35, 101, 124,  35, 106, 120, 100, 117, 100, 113, 119,\n",
      "        104, 104, 108, 113, 106,  35, 100,  35, 102, 114, 117, 117, 104, 102,\n",
      "        119,  47,  35, 101, 120, 119,  35, 100, 101, 114, 121, 104,  35, 100,\n",
      "        111, 111,  47,  35, 119, 108, 112, 104, 111, 124,  35, 119, 117, 100,\n",
      "        113, 118, 115, 114, 118, 108, 119, 108, 114, 113,  35, 114, 105,  35,\n",
      "         72,   1]), tensor([ 68, 111, 111,  35, 119, 114, 114,  35, 114, 105, 119, 104, 113,  47,\n",
      "         35, 122, 104,  35, 107, 100, 121, 104,  35, 101, 104, 104, 113,  35,\n",
      "        120, 113, 103, 104, 117,  35, 119, 107, 104,  35, 108, 112, 115, 117,\n",
      "        104, 118, 118, 108, 114, 113,  35, 119, 107, 100, 119,  35, 119, 107,\n",
      "        104,  35, 115, 117, 114, 102, 104, 118, 118,  35, 114, 105,  35, 118,\n",
      "        108, 112, 115, 111, 108, 105, 108, 102, 100, 119, 108, 114, 113,  47,\n",
      "         35, 122, 107, 108, 102, 107,  35, 108, 118,  35, 118, 114,  35, 102,\n",
      "        117, 120, 102, 108, 100, 111,  47,  35, 108, 118,  35, 112, 120, 102,\n",
      "        107,  35, 111, 108, 110, 104,  35, 100,  35, 115, 117, 114, 102, 104,\n",
      "        118,   1]), tensor([ 83, 104, 113, 103, 108, 113, 106,  35, 119, 107, 104,  35,  88, 113,\n",
      "        108, 114, 113,  42,  35, 118,  35, 104, 113, 111, 100, 117, 106, 104,\n",
      "        112, 104, 113, 119,  47,  35, 122, 104,  35, 112, 120, 118, 119,  35,\n",
      "        118, 107, 108, 105, 119,  35, 120, 115,  35, 100,  35, 106, 104, 100,\n",
      "        117,  35, 108, 105,  35, 122, 104,  35, 122, 100, 113, 119,  35, 119,\n",
      "        114,  35, 103, 104, 121, 104, 111, 114, 115,  35, 119, 107, 104,  35,\n",
      "        108, 113, 119, 104, 117, 113, 100, 111,  35, 112, 100, 117, 110, 104,\n",
      "        119,  35, 108, 113,  35, 100,  35, 115, 117, 114, 105, 104, 118, 118,\n",
      "        108, 114, 113, 100, 111, 111, 124,  35, 117, 104, 118, 115, 114, 113,\n",
      "        118,   1]), tensor([ 76,  35, 100, 112,  35, 103, 104, 111, 108, 106, 107, 119, 104, 103,\n",
      "         35, 119, 107, 100, 119,  35, 119, 107, 104,  35,  80, 104, 112, 101,\n",
      "        104, 117,  35,  86, 119, 100, 119, 104,  35, 122, 107, 108, 102, 107,\n",
      "         35,  76,  35, 107, 100, 121, 104,  35, 119, 107, 104,  35, 107, 114,\n",
      "        113, 114, 120, 117,  35, 114, 105,  35, 117, 104, 115, 117, 104, 118,\n",
      "        104, 113, 119, 108, 113, 106,  35, 107, 104, 117, 104,  47,  35, 107,\n",
      "        100, 118,  35, 117, 104, 100, 111, 108, 118, 104, 103,  35, 119, 107,\n",
      "        100, 119,  35, 118, 115, 104, 102, 108, 100, 111,  35, 112, 104, 100,\n",
      "        118, 120, 117, 104, 118,  35, 113, 104, 104, 103,  35, 119, 114,  35,\n",
      "        101,   1]), tensor([ 70, 114, 113, 121, 108, 113, 102, 104, 103,  35, 114, 105,  35, 119,\n",
      "        107, 104,  35, 113, 104, 104, 103,  35, 105, 114, 117,  35, 118, 108,\n",
      "        112, 115, 111, 108, 105, 108, 104, 103,  35, 111, 104, 106, 108, 118,\n",
      "        111, 100, 119, 108, 114, 113,  47,  35, 119, 107, 104,  35,  79, 108,\n",
      "        101, 104, 117, 100, 111,  35,  74, 117, 114, 120, 115,  35, 122, 108,\n",
      "        111, 111,  35, 101, 104,  35, 111, 104, 113, 103, 108, 113, 106,  35,\n",
      "        119, 107, 104,  35,  71, 114, 114, 117, 113,  35, 117, 104, 115, 114,\n",
      "        117, 119,  35, 108, 119, 118,  35, 120, 113, 116, 120, 100, 111, 108,\n",
      "        105, 108, 104, 103,  35, 118, 120, 115, 115, 114, 117, 119,  49,   1,\n",
      "          0,   0]), tensor([ 80, 117,  35,  83, 117, 104, 118, 108, 103, 104, 113, 119,  47,  35,\n",
      "         76,  35, 122, 108, 118, 107,  35, 119, 114,  35, 101, 104, 106, 108,\n",
      "        113,  35, 101, 124,  35, 118, 100, 124, 108, 113, 106,  35, 119, 107,\n",
      "        100, 119,  35, 100, 111, 119, 107, 114, 120, 106, 107,  35,  76,  35,\n",
      "        107, 100, 121, 104,  35, 101, 104, 104, 113,  35, 100, 111, 111, 114,\n",
      "        102, 100, 119, 104, 103,  35, 105, 114, 120, 117,  35, 112, 108, 113,\n",
      "        120, 119, 104, 118,  47,  35,  76,  35, 118, 107, 114, 120, 111, 103,\n",
      "         35, 111, 108, 110, 104,  35, 119, 114,  35, 103, 114,  35, 112, 124,\n",
      "         35, 101, 108, 119,  35, 105, 114, 117,  35, 119, 107, 104,  35, 118,\n",
      "        108,   1]), tensor([ 76,  35, 102, 114, 113, 106, 117, 100, 119, 120, 111, 100, 119, 104,\n",
      "         35, 119, 107, 104,  35, 117, 100, 115, 115, 114, 117, 119, 104, 120,\n",
      "        117,  35, 114, 113,  35, 107, 108, 106, 107, 111, 108, 106, 107, 119,\n",
      "        108, 113, 106,  35, 118, 120, 102, 107,  35, 100,  35, 121, 104, 117,\n",
      "        124,  35, 108, 112, 115, 114, 117, 119, 100, 113, 119,  35, 108, 118,\n",
      "        118, 120, 104,  35, 100, 113, 103,  35, 100, 111, 118, 114,  35, 107,\n",
      "        108, 106, 107, 111, 108, 106, 107, 119, 108, 113, 106,  35, 119, 107,\n",
      "        104,  35, 105, 100, 108, 111, 120, 117, 104, 118,  35, 114, 105,  35,\n",
      "        119, 107, 104,  35,  70, 114, 112, 112, 108, 118, 118, 108, 114, 113,\n",
      "         35,   1]), tensor([ 76,  35, 107, 114, 115, 104,  35, 119, 107, 100, 119,  35, 119, 107,\n",
      "        104,  35,  70, 114, 112, 112, 108, 118, 118, 108, 114, 113, 104, 117,\n",
      "         35, 122, 108, 111, 111,  35, 118, 100, 124,  35, 122, 107, 100, 119,\n",
      "         35, 112, 114, 117, 104,  35, 108, 118,  35, 119, 114,  35, 101, 104,\n",
      "         35, 103, 114, 113, 104,  35, 119, 114,  35, 106, 108, 121, 104,  35,\n",
      "        100, 103, 103, 104, 103,  35, 120, 117, 106, 104, 113, 102, 124,  35,\n",
      "        119, 114,  35, 122, 107, 100, 119,  35, 108, 118,  35, 118, 120, 102,\n",
      "        107,  35, 100,  35, 121, 104, 117, 124,  35, 108, 112, 115, 114, 117,\n",
      "        119, 100, 113, 119,  35, 115, 117, 114, 106, 117, 100, 112, 112, 104,\n",
      "         49,   1]), tensor([ 75, 114, 122, 104, 121, 104, 117,  47,  35, 117, 100, 119, 107, 104,\n",
      "        117,  35, 119, 107, 100, 113,  35, 102, 117, 108, 119, 108, 102, 108,\n",
      "        118, 104,  35, 119, 107, 104,  35,  70, 114, 112, 112, 108, 118, 118,\n",
      "        108, 114, 113,  35, 112, 114, 117, 104,  35, 119, 107, 100, 113,  35,\n",
      "        119, 107, 104,  35, 117, 100, 115, 115, 114, 117, 119, 104, 120, 117,\n",
      "         35, 107, 100, 118,  35, 100, 111, 117, 104, 100, 103, 124,  35, 103,\n",
      "        114, 113, 104,  47,  35, 117, 100, 119, 107, 104, 117,  35, 104, 121,\n",
      "        104, 113,  35, 119, 107, 100, 113,  35, 117, 104, 105, 104, 117,  35,\n",
      "        109, 120, 118, 119,  35, 119, 114,  35, 119, 107, 104,  35, 105, 114,\n",
      "        120,   1]), tensor([ 75, 104,  35, 122, 114, 113, 103, 104, 117, 104, 103,  35, 119, 114,\n",
      "         35, 122, 107, 100, 119,  35, 104, 123, 119, 104, 113, 119,  35, 111,\n",
      "        104, 106, 108, 118, 111, 100, 119, 108, 114, 113,  35, 118, 107, 114,\n",
      "        120, 111, 103,  35, 103, 104, 111, 121, 104,  35, 108, 113, 119, 114,\n",
      "         35, 103, 104, 119, 100, 108, 111, 118,  35, 100, 113, 103,  35, 106,\n",
      "        100, 121, 104,  35, 100, 113,  35, 104, 123, 100, 112, 115, 111, 104,\n",
      "         35, 108, 113, 121, 114, 111, 121, 108, 113, 106,  35, 115, 104, 114,\n",
      "        115, 111, 104,  35, 107, 114, 111, 103, 108, 113, 106,  35, 111, 100,\n",
      "        103, 103, 104, 117, 118,  49,   1,   0,   0,   0,   0,   0,   0,   0,\n",
      "          0,   0]), tensor([ 87, 107, 100, 119,  35, 115, 100, 117, 119, 108, 102, 120, 111, 100,\n",
      "        117,  35, 118, 120, 101, 109, 104, 102, 119,  35, 102, 100, 112, 104,\n",
      "         35, 120, 115,  35, 108, 113,  35, 119, 107, 104,  35,  70, 114, 112,\n",
      "        112, 108, 119, 119, 104, 104,  35, 114, 113,  35,  72, 112, 115, 111,\n",
      "        114, 124, 112, 104, 113, 119,  35, 100, 113, 103,  35,  86, 114, 102,\n",
      "        108, 100, 111,  35,  68, 105, 105, 100, 108, 117, 118,  49,   1,   0,\n",
      "          0,   0,   0,   0,   0,   0,   0,   0,   0,   0,   0,   0,   0,   0,\n",
      "          0,   0,   0,   0,   0,   0,   0,   0,   0,   0,   0,   0,   0,   0,\n",
      "          0,   0,   0,   0,   0,   0,   0,   0,   0,   0,   0,   0,   0,   0,\n",
      "          0,   0]), tensor([ 76, 119,  35, 112, 120, 118, 119,  35, 101, 104,  35, 118, 100, 108,\n",
      "        103,  35, 119, 107, 100, 119,  35, 119, 107, 108, 118,  35, 115, 100,\n",
      "        117, 119, 108, 102, 120, 111, 100, 117,  35, 102, 114, 112, 112, 108,\n",
      "        119, 119, 104, 104,  35, 107, 100, 118,  35, 102, 114, 113, 119, 117,\n",
      "        108, 101, 120, 119, 104, 103,  35, 121, 104, 117, 124,  35, 118, 108,\n",
      "        106, 113, 108, 105, 108, 102, 100, 113, 119, 111, 124,  35, 119, 114,\n",
      "         35, 119, 107, 104,  35, 104, 123, 119, 117, 100,  35, 101, 120, 117,\n",
      "        104, 100, 120, 102, 117, 100, 102, 124,  35, 119, 107, 100, 119,  35,\n",
      "        122, 104,  35, 100, 117, 104,  35, 113, 114, 122,  35, 115, 100, 118,\n",
      "        118,   1]), tensor([ 75, 114, 122,  35, 112, 120, 102, 107,  35, 101, 104, 119, 119, 104,\n",
      "        117,  35, 108, 119,  35, 122, 114, 120, 111, 103,  35, 101, 104,  35,\n",
      "        108, 105,  35, 119, 107, 100, 119,  35, 102, 114, 112, 112, 108, 119,\n",
      "        119, 104, 104,  47,  35, 100, 113, 103,  35, 108, 113, 103, 104, 104,\n",
      "        103,  35, 100, 111, 111,  35, 114, 119, 107, 104, 117,  35, 102, 114,\n",
      "        112, 112, 108, 119, 119, 104, 104, 118,  47,  35, 107, 100, 103,  35,\n",
      "        111, 104, 105, 119,  35, 118, 120, 102, 107,  35, 111, 104, 106, 108,\n",
      "        118, 111, 100, 119, 108, 114, 113,  35, 100, 111, 114, 113, 104,  35,\n",
      "        108, 113,  35, 108, 119, 118,  35, 118, 108, 112, 115, 111, 104, 117,\n",
      "         35,   1]), tensor([ 80, 124,  35, 105, 108, 113, 100, 111,  35, 118, 120, 106, 106, 104,\n",
      "        118, 119, 108, 114, 113,  35, 108, 118,  35, 119, 107, 100, 119,  35,\n",
      "        105, 114, 117,  35, 120, 118,  35, 119, 107, 104,  35, 100, 102, 117,\n",
      "        114, 113, 124, 112,  35,  86,  79,  76,  80,  35,  48,  35,  37,  86,\n",
      "        108, 112, 115, 111, 104, 117,  35,  79, 104, 106, 108, 118, 111, 100,\n",
      "        119, 108, 114, 113,  35, 105, 114, 117,  35, 119, 107, 104,  35,  76,\n",
      "        113, 119, 104, 117, 113, 100, 111,  35,  80, 100, 117, 110, 104, 119,\n",
      "         37,  35,  48,  35, 118, 107, 114, 120, 111, 103,  35, 117, 104, 115,\n",
      "        117, 104, 118, 104, 113, 119,  35,  37,  86, 120, 101, 118, 119, 100,\n",
      "        113,   1]), tensor([ 80, 117,  35,  83, 117, 104, 118, 108, 103, 104, 113, 119,  47,  35,\n",
      "         76,  35, 122, 108, 118, 107,  35, 119, 114,  35, 102, 114, 113, 106,\n",
      "        117, 100, 119, 120, 111, 100, 119, 104,  35, 119, 107, 104,  35, 117,\n",
      "        100, 115, 115, 114, 117, 119, 104, 120, 117,  35, 114, 113,  35, 107,\n",
      "        108, 118,  35, 117, 104, 115, 114, 117, 119,  35, 100, 113, 103,  35,\n",
      "        118, 100, 124,  35, 119, 107, 100, 119,  35, 119, 107, 104,  35, 115,\n",
      "        117, 114, 115, 114, 118, 100, 111, 118,  35, 114, 113,  35, 119, 107,\n",
      "        104,  35, 118, 108, 112, 115, 111, 108, 105, 108, 102, 100, 119, 108,\n",
      "        114, 113,  35, 114, 105,  35, 111, 104, 106, 108, 118, 111, 100, 119,\n",
      "        108,   1]), tensor([ 68, 113,  35, 100, 119, 119, 104, 112, 115, 119,  35, 122, 100, 118,\n",
      "         35, 112, 100, 103, 104,  35, 119, 107, 104, 117, 104,  35, 119, 114,\n",
      "         35, 108, 112, 115, 117, 114, 121, 104,  35, 119, 107, 104,  35, 116,\n",
      "        120, 100, 111, 108, 119, 124,  35, 114, 105,  35, 111, 104, 106, 108,\n",
      "        118, 111, 100, 119, 108, 114, 113,  47,  35, 119, 114,  35, 119, 117,\n",
      "        124,  35, 119, 114,  35, 102, 120, 119,  35, 103, 114, 122, 113,  35,\n",
      "        114, 113,  35, 118, 120, 115, 104, 117, 105, 111, 120, 114, 120, 118,\n",
      "         35, 111, 104, 106, 108, 118, 111, 100, 119, 108, 114, 113,  35, 100,\n",
      "        113, 103,  35, 119, 114,  35, 111, 108, 112, 108, 119,  35, 119, 107,\n",
      "        104,   1]), tensor([ 81, 114, 122,  35, 119, 107, 100, 119,  35, 122, 104,  35, 107, 100,\n",
      "        121, 104,  35, 105, 108, 113, 108, 118, 107, 104, 103,  35, 119, 107,\n",
      "        104,  35, 119, 107, 108, 117, 103,  35, 100, 113, 103,  35, 105, 114,\n",
      "        120, 117, 119, 107,  35, 115, 107, 100, 118, 104, 118,  47,  35, 122,\n",
      "        108, 119, 107,  35, 119, 104, 100, 112, 118,  35, 114, 105,  35,  80,\n",
      "        104, 112, 101, 104, 117,  35,  86, 119, 100, 119, 104,  35, 114, 105,\n",
      "        105, 108, 102, 108, 100, 111, 118,  35, 100, 113, 103,  35, 120, 118,\n",
      "        104, 117, 118,  35, 108, 103, 104, 113, 119, 108, 105, 124, 108, 113,\n",
      "        106,  35, 102, 114, 113, 102, 117, 104, 119, 104,  35, 118, 120, 106,\n",
      "        106,   1]), tensor([ 80, 100, 103, 100, 112,  35,  83, 117, 104, 118, 108, 103, 104, 113,\n",
      "        119,  47,  35, 119, 107, 104,  35, 101, 108, 106,  35, 115, 117, 114,\n",
      "        101, 111, 104, 112,  35, 108, 118,  35, 119, 107, 100, 119,  35, 118,\n",
      "        114,  35, 112, 120, 102, 107,  35, 108, 118,  35, 107, 100, 115, 115,\n",
      "        104, 113, 108, 113, 106,  35, 114, 113,  35, 119, 107, 104,  35, 122,\n",
      "        114, 117, 111, 103,  35, 118, 119, 100, 106, 104,  49,   1,   0,   0,\n",
      "          0,   0,   0,   0,   0,   0,   0,   0,   0,   0,   0,   0,   0,   0,\n",
      "          0,   0,   0,   0,   0,   0,   0,   0,   0,   0,   0,   0,   0,   0,\n",
      "          0,   0,   0,   0,   0,   0,   0,   0,   0,   0,   0,   0,   0,   0,\n",
      "          0,   0]), tensor([ 79, 114, 114, 110, 108, 113, 106,  35, 100, 119,  35, 119, 107, 104,\n",
      "         35, 108, 113, 118, 119, 100, 113, 102, 104, 118,  35, 108, 113, 103,\n",
      "        108, 121, 108, 103, 120, 100, 111, 111, 124,  47,  35, 122, 104,  35,\n",
      "        122, 114, 113, 103, 104, 117,  35, 122, 107, 124,  35, 119, 107, 104,\n",
      "        124,  35, 100, 117, 104,  35, 113, 114, 119,  35, 106, 108, 121, 104,\n",
      "        113,  35, 119, 107, 104,  35, 107, 108, 106, 107, 104, 118, 119,  35,\n",
      "        115, 117, 108, 114, 117, 108, 119, 124,  49,   1,   0,   0,   0,   0,\n",
      "          0,   0,   0,   0,   0,   0,   0,   0,   0,   0,   0,   0,   0,   0,\n",
      "          0,   0,   0,   0,   0,   0,   0,   0,   0,   0,   0,   0,   0,   0,\n",
      "          0,   0]), tensor([ 87, 107, 108, 118,  35, 108, 118,  35, 119, 107, 104,  35, 102, 100,\n",
      "        118, 104,  35, 105, 114, 117,  35,  68, 111, 106, 104, 117, 108, 100,\n",
      "         49,   1,   0,   0,   0,   0,   0,   0,   0,   0,   0,   0,   0,   0,\n",
      "          0,   0,   0,   0,   0,   0,   0,   0,   0,   0,   0,   0,   0,   0,\n",
      "          0,   0,   0,   0,   0,   0,   0,   0,   0,   0,   0,   0,   0,   0,\n",
      "          0,   0,   0,   0,   0,   0,   0,   0,   0,   0,   0,   0,   0,   0,\n",
      "          0,   0,   0,   0,   0,   0,   0,   0,   0,   0,   0,   0,   0,   0,\n",
      "          0,   0,   0,   0,   0,   0,   0,   0,   0,   0,   0,   0,   0,   0,\n",
      "          0,   0,   0,   0,   0,   0,   0,   0,   0,   0,   0,   0,   0,   0,\n",
      "          0,   0]), tensor([ 69, 120, 119,  35, 119, 107, 104, 113,  35, 119, 107, 104, 117, 104,\n",
      "         35, 108, 118,  35, 100, 111, 118, 114,  35, 119, 107, 104,  35, 121,\n",
      "        108, 118, 100,  35, 114, 101, 111, 108, 106, 100, 119, 108, 114, 113,\n",
      "         35, 122, 107, 108, 102, 107,  35,  85, 120, 118, 118, 108, 100,  35,\n",
      "        107, 100, 118,  35, 120, 113, 108, 111, 100, 119, 104, 117, 100, 111,\n",
      "        111, 124,  35, 108, 112, 115, 114, 118, 104, 103,  35, 114, 113,  35,\n",
      "         74, 104, 114, 117, 106, 108, 100,  35, 118, 108, 113, 102, 104,  35,\n",
      "         56,  35,  71, 104, 102, 104, 112, 101, 104, 117,  35,  53,  51,  51,\n",
      "         51,  49,   1,   0,   0,   0,   0,   0,   0,   0,   0,   0,   0,   0,\n",
      "          0,   0]), tensor([ 90, 107, 114, 104, 121, 104, 117,  35, 108, 118,  35, 100, 102, 116,\n",
      "        120, 100, 108, 113, 119, 104, 103,  35, 122, 108, 119, 107,  35, 119,\n",
      "        107, 104,  35, 118, 108, 119, 120, 100, 119, 108, 114, 113,  35, 100,\n",
      "        102, 117, 114, 118, 118,  35, 119, 107, 104,  35, 104, 113, 119, 108,\n",
      "        117, 104,  35, 117, 104, 106, 108, 114, 113,  47,  35, 110, 113, 114,\n",
      "        122, 118,  35, 119, 107, 100, 119,  35, 119, 107, 108, 118,  35, 108,\n",
      "        118,  35, 100,  35, 101, 120, 117, 113, 108, 113, 106,  35, 108, 118,\n",
      "        118, 120, 104,  47,  35, 100, 113, 103,  35, 122, 104,  35, 102, 100,\n",
      "        113,  35, 119, 107, 120, 118,  35, 104, 123, 115, 104, 102, 119,  35,\n",
      "        102,   1]), tensor([ 82, 120, 117,  35, 115, 100, 117, 111, 108, 100, 112, 104, 113, 119,\n",
      "        100, 117, 124,  35, 102, 114, 112, 112, 108, 119, 119, 104, 104,  35,\n",
      "        107, 100, 118,  35, 104, 123, 115, 111, 108, 102, 108, 119, 111, 124,\n",
      "         35, 100, 118, 110, 104, 103,  35, 119, 114,  35, 115, 117, 108, 114,\n",
      "        117, 108, 119, 108, 118, 104,  35, 119, 107, 108, 118,  35, 119, 114,\n",
      "        115, 108, 102,  47,  35, 122, 107, 108, 102, 107,  35, 122, 100, 118,\n",
      "         35, 118, 107, 104, 111, 121, 104, 103,  35, 111, 100, 118, 119,  35,\n",
      "        119, 108, 112, 104,  49,   1,   0,   0,   0,   0,   0,   0,   0,   0,\n",
      "          0,   0,   0,   0,   0,   0,   0,   0,   0,   0,   0,   0,   0,   0,\n",
      "          0,   0]), tensor([ 86, 114,  35,  76,  35, 119, 107, 108, 113, 110,  35, 108, 119,  35,\n",
      "        108, 118,  35, 114, 113, 111, 124,  35, 105, 100, 108, 117,  35, 119,\n",
      "        107, 100, 119,  35, 122, 104,  35, 118, 107, 114, 120, 111, 103,  35,\n",
      "        119, 120, 117, 113,  35, 119, 107, 104,  35, 118, 115, 114, 119, 111,\n",
      "        108, 106, 107, 119,  35, 114, 113,  35, 119, 107, 108, 118,  35, 117,\n",
      "        104, 106, 108, 114, 113,  47,  35, 118, 114,  35, 100, 118,  35, 119,\n",
      "        114,  35, 100, 121, 114, 108, 103,  35, 102, 114, 113, 105, 111, 108,\n",
      "        102, 119,  35, 100, 119,  35, 100,  35, 111, 100, 119, 104, 117,  35,\n",
      "        103, 100, 119, 104,  35, 100, 118,  35, 105, 100, 117,  35, 100, 118,\n",
      "         35,   1]), tensor([ 80, 100, 103, 100, 112,  35,  83, 117, 104, 118, 108, 103, 104, 113,\n",
      "        119,  47,  35, 108, 113,  35, 114, 117, 103, 104, 117,  35, 119, 114,\n",
      "         35, 100, 121, 114, 108, 103,  35, 102, 114, 112, 115, 104, 119, 108,\n",
      "        119, 108, 114, 113,  35, 100, 117, 108, 118, 108, 113, 106,  35, 101,\n",
      "        104, 119, 122, 104, 104, 113,  35, 119, 107, 104, 118, 104,  35, 119,\n",
      "        122, 114,  35, 108, 118, 118, 120, 104, 118,  47,  35, 122, 114, 120,\n",
      "        111, 103,  35, 108, 119,  35, 115, 104, 117, 107, 100, 115, 118,  35,\n",
      "        101, 104,  35, 115, 114, 118, 118, 108, 101, 111, 104,  35, 119, 114,\n",
      "         35, 103, 108, 118, 102, 120, 118, 118,  35, 119, 107, 104,  35, 118,\n",
      "        108,   1]), tensor([ 80, 100, 103, 100, 112,  35,  83, 117, 104, 118, 108, 103, 104, 113,\n",
      "        119,  47,  35,  76,  35, 122, 114, 120, 111, 103,  35, 111, 108, 110,\n",
      "        104,  35, 119, 114,  35, 102, 114, 113, 119, 108, 113, 120, 104,  35,\n",
      "        122, 108, 119, 107,  35, 119, 107, 104,  35, 118, 120, 101, 109, 104,\n",
      "        102, 119,  35, 114, 105,  35, 119, 107, 104,  35,  87, 107, 120, 117,\n",
      "        118, 103, 100, 124,  35, 118, 108, 119, 119, 108, 113, 106,  49,   1,\n",
      "          0,   0,   0,   0,   0,   0,   0,   0,   0,   0,   0,   0,   0,   0,\n",
      "          0,   0,   0,   0,   0,   0,   0,   0,   0,   0,   0,   0,   0,   0,\n",
      "          0,   0,   0,   0,   0,   0,   0,   0,   0,   0,   0,   0,   0,   0,\n",
      "          0,   0]), tensor([ 76,  35, 122, 114, 120, 111, 103,  35, 111, 108, 110, 104,  35, 119,\n",
      "        114,  35, 103, 117, 100, 122,  35, 124, 114, 120, 117,  35, 100, 119,\n",
      "        119, 104, 113, 119, 108, 114, 113,  35, 119, 114,  35, 119, 107, 104,\n",
      "         35, 115, 111, 100, 113,  35, 105, 114, 117,  35,  87, 107, 120, 117,\n",
      "        118, 103, 100, 124,  42,  35, 118,  35, 118, 108, 119, 119, 108, 113,\n",
      "        106,  47,  35, 122, 107, 108, 102, 107,  35, 107, 100, 118,  35, 119,\n",
      "        107, 104,  35, 103, 104, 101, 100, 119, 104,  35, 114, 113,  35, 117,\n",
      "        104, 115, 114, 117, 119, 118,  35, 102, 114, 113, 119, 108, 113, 120,\n",
      "        108, 113, 106,  35, 100, 105, 119, 104, 117,  35,  56,  49,  54,  51,\n",
      "         35,   1]), tensor([ 86, 120, 117, 115, 117, 108, 118, 108, 113, 106, 111, 124,  47,  35,\n",
      "        119, 107, 104,  35, 117, 104, 115, 114, 117, 119,  35, 119, 114,  35,\n",
      "        101, 104,  35, 103, 108, 118, 102, 120, 118, 118, 104, 103,  35, 100,\n",
      "        119,  35, 119, 107, 100, 119,  35, 119, 108, 112, 104,  35, 102, 114,\n",
      "        113, 102, 104, 117, 113, 118,  35, 119, 107, 104,  35, 102, 114, 112,\n",
      "        115, 104, 119, 108, 119, 108, 121, 104, 113, 104, 118, 118,  35, 114,\n",
      "        105,  35, 105, 114, 117, 104, 118, 119,  48, 101, 100, 118, 104, 103,\n",
      "         35, 108, 113, 103, 120, 118, 119, 117, 108, 104, 118,  47,  35, 122,\n",
      "        107, 108, 102, 107,  35,  76,  35, 119, 100, 101, 111, 104, 103,  35,\n",
      "        105,   1]), tensor([ 68, 105, 119, 104, 117,  35, 119, 107, 100, 119,  47,  35, 100, 119,\n",
      "         35,  57,  49,  54,  51,  35, 115,  49, 112,  49,  47,  35, 119, 107,\n",
      "        104, 117, 104,  35, 108, 118,  35, 119, 107, 104,  35, 121, 114, 119,\n",
      "        104,  35, 114, 113,  35, 119, 107, 108, 118,  35, 117, 104, 115, 114,\n",
      "        117, 119,  47,  35, 122, 107, 108, 102, 107,  35, 100, 105, 105, 104,\n",
      "        102, 119, 118,  35, 119, 107, 104,  35, 109, 114, 101, 118,  35, 114,\n",
      "        105,  35, 105, 114, 120, 117,  35, 112, 108, 111, 111, 108, 114, 113,\n",
      "         35, 104, 112, 115, 111, 114, 124, 104, 104, 118,  35, 108, 113,  35,\n",
      "         72, 120, 117, 114, 115, 104,  35, 100, 113, 103,  35, 102, 114, 112,\n",
      "        115,   1]), tensor([ 76, 113,  35, 112, 124,  35, 114, 115, 108, 113, 108, 114, 113,  47,\n",
      "         35, 108, 105,  35, 122, 104,  35, 107, 100, 121, 104,  35, 119, 114,\n",
      "         35, 103, 104, 101, 100, 119, 104,  35, 100,  35, 117, 104, 115, 114,\n",
      "        117, 119,  35, 111, 108, 110, 104,  35, 119, 107, 108, 118,  35, 114,\n",
      "        113, 104,  47,  35, 122, 107, 108, 102, 107,  35, 100, 105, 105, 104,\n",
      "        102, 119, 118,  35, 119, 107, 104,  35, 109, 114, 101, 118,  35, 114,\n",
      "        105,  35, 105, 114, 120, 117,  35, 112, 108, 111, 111, 108, 114, 113,\n",
      "         35, 115, 104, 114, 115, 111, 104,  47,  35, 100, 119,  35,  56,  49,\n",
      "         54,  51,  35, 115,  49, 112,  49,  47,  35, 119, 107, 104, 113,  35,\n",
      "        119,   1]), tensor([ 76,  35, 110, 113, 114, 122,  35, 119, 107, 100, 119,  35, 100,  35,\n",
      "        105, 104, 122,  35, 103, 114, 125, 104, 113,  35, 115, 104, 114, 115,\n",
      "        111, 104,  35, 100, 119,  35, 112, 114, 118, 119,  35, 122, 108, 111,\n",
      "        111,  35, 117, 104, 112, 100, 108, 113,  35, 119, 114,  35, 121, 114,\n",
      "        119, 104,  49,   1,   0,   0,   0,   0,   0,   0,   0,   0,   0,   0,\n",
      "          0,   0,   0,   0,   0,   0,   0,   0,   0,   0,   0,   0,   0,   0,\n",
      "          0,   0,   0,   0,   0,   0,   0,   0,   0,   0,   0,   0,   0,   0,\n",
      "          0,   0,   0,   0,   0,   0,   0,   0,   0,   0,   0,   0,   0,   0,\n",
      "          0,   0,   0,   0,   0,   0,   0,   0,   0,   0,   0,   0,   0,   0,\n",
      "          0,   0]), tensor([ 76, 119,  35, 108, 118,  35, 103, 104, 106, 117, 100, 103, 108, 113,\n",
      "        106,  35, 105, 114, 117,  35,  83, 100, 117, 111, 108, 100, 112, 104,\n",
      "        113, 119,  35, 119, 107, 100, 119,  35, 122, 104,  35, 118, 107, 114,\n",
      "        120, 111, 103,  35, 100, 103, 114, 115, 119,  35, 100,  35, 115, 114,\n",
      "        118, 108, 119, 108, 114, 113,  35, 114, 113,  35, 100,  35, 117, 104,\n",
      "        115, 114, 117, 119,  35, 114, 113,  35, 118, 120, 102, 107,  35, 100,\n",
      "         35, 122, 108, 103, 104,  35, 108, 118, 118, 120, 104,  35, 122, 108,\n",
      "        119, 107,  35, 118, 120, 102, 107,  35, 100,  35, 118, 112, 100, 111,\n",
      "        111,  35, 106, 117, 114, 120, 115,  35, 114, 105,  35,  80, 104, 112,\n",
      "        101,   1]), tensor([ 73, 114, 117,  35, 119, 107, 108, 118,  35, 117, 104, 100, 118, 114,\n",
      "        113,  35,  76,  35, 122, 114, 120, 111, 103,  35, 115, 117, 104, 105,\n",
      "        104, 117,  35, 108, 119,  35, 108, 105,  35,  87, 107, 120, 117, 118,\n",
      "        103, 100, 124,  42,  35, 118,  35, 104, 121, 104, 113, 108, 113, 106,\n",
      "         35, 118, 108, 119, 119, 108, 113, 106,  35, 102, 114, 120, 111, 103,\n",
      "         35, 101, 104,  35, 120, 118, 104, 103,  35, 109, 120, 118, 119,  35,\n",
      "        119, 114,  35, 121, 114, 119, 104,  35, 114, 113,  35, 120, 117, 106,\n",
      "        104, 113, 119,  35, 112, 100, 119, 119, 104, 117, 118,  47,  35, 100,\n",
      "        113, 103,  35, 121, 114, 119, 108, 113, 106,  35, 102, 114, 113, 113,\n",
      "        104,   1]), tensor([ 80, 100, 103, 100, 112,  35,  83, 117, 104, 118, 108, 103, 104, 113,\n",
      "        119,  47,  35, 114, 113,  35, 100,  35, 115, 114, 108, 113, 119,  35,\n",
      "        114, 105,  35, 114, 117, 103, 104, 117,  49,   1,   0,   0,   0,   0,\n",
      "          0,   0,   0,   0,   0,   0,   0,   0,   0,   0,   0,   0,   0,   0,\n",
      "          0,   0,   0,   0,   0,   0,   0,   0,   0,   0,   0,   0,   0,   0,\n",
      "          0,   0,   0,   0,   0,   0,   0,   0,   0,   0,   0,   0,   0,   0,\n",
      "          0,   0,   0,   0,   0,   0,   0,   0,   0,   0,   0,   0,   0,   0,\n",
      "          0,   0,   0,   0,   0,   0,   0,   0,   0,   0,   0,   0,   0,   0,\n",
      "          0,   0,   0,   0,   0,   0,   0,   0,   0,   0,   0,   0,   0,   0,\n",
      "          0,   0]), tensor([ 76,  35, 103, 117, 100, 122,  35, 124, 114, 120, 117,  35, 100, 119,\n",
      "        119, 104, 113, 119, 108, 114, 113,  35, 119, 114,  35, 119, 107, 104,\n",
      "         35, 105, 100, 102, 119,  35, 119, 107, 100, 119,  35, 100, 111, 100,\n",
      "        117, 112, 108, 113, 106,  35, 104, 121, 104, 113, 119, 118,  35, 107,\n",
      "        100, 121, 104,  35, 101, 104, 104, 113,  35, 119, 100, 110, 108, 113,\n",
      "        106,  35, 115, 111, 100, 102, 104,  35, 108, 113,  35,  80, 114, 118,\n",
      "        102, 114, 122,  35, 108, 113,  35, 119, 107, 104,  35, 115, 100, 118,\n",
      "        119,  35,  53,  55,  35, 107, 114, 120, 117, 118,  47,  35, 112, 100,\n",
      "        108, 113, 111, 124,  35, 100, 108, 112, 104, 103,  35, 100, 119,  35,\n",
      "        119,   1]), tensor([ 80, 104, 103, 108, 100,  48,  80, 114, 118, 119,  35, 117, 120, 113,\n",
      "        118,  35, 119, 107, 104,  35, 108, 113, 103, 104, 115, 104, 113, 103,\n",
      "        104, 113, 119,  35, 119, 104, 111, 104, 121, 108, 118, 108, 114, 113,\n",
      "         35, 114, 105,  35,  85, 120, 118, 118, 108, 100,  35, 100, 113, 103,\n",
      "         35, 108, 119, 118,  35, 114, 117, 106, 100, 113, 108, 118, 100, 119,\n",
      "        108, 114, 113,  35, 107, 100, 118,  35, 100,  35, 113, 120, 112, 101,\n",
      "        104, 117,  35, 114, 105,  35, 117, 100, 103, 108, 114,  35, 118, 119,\n",
      "        100, 119, 108, 114, 113, 118,  35, 100, 113, 103,  35, 108, 113, 103,\n",
      "        104, 115, 104, 113, 103, 104, 113, 119,  35, 112, 100, 106, 100, 125,\n",
      "        108,   1]), tensor([ 80, 117,  35,  68, 113, 103, 117, 104, 124,  35,  87, 118, 108, 112,\n",
      "        100, 124, 111, 114,  47,  35, 119, 107, 104,  35, 103, 104, 115, 120,\n",
      "        119, 124,  35, 102, 107, 100, 108, 117, 112, 100, 113,  35, 114, 105,\n",
      "         35,  80, 104, 103, 108, 100,  48,  80, 114, 118, 119,  47,  35, 122,\n",
      "        100, 118,  35, 124, 104, 118, 119, 104, 117, 103, 100, 124,  35, 100,\n",
      "        117, 117, 104, 118, 119, 104, 103,  35, 100, 113, 103,  35, 118, 120,\n",
      "        101, 109, 104, 102, 119, 104, 103,  35, 119, 114,  35, 105, 108, 121,\n",
      "        104,  35, 107, 114, 120, 117, 118,  35, 114, 105,  35, 108, 113, 119,\n",
      "        104, 117, 117, 114, 106, 100, 119, 108, 114, 113,  47,  35, 105, 114,\n",
      "        111,   1]), tensor([ 68,  35, 113, 120, 112, 101, 104, 117,  35, 114, 105,  35, 114, 119,\n",
      "        107, 104, 117,  35, 109, 120, 113, 108, 114, 117,  35, 104, 112, 115,\n",
      "        111, 114, 124, 104, 104, 118,  35, 114, 105,  35, 108, 113, 103, 104,\n",
      "        115, 104, 113, 103, 104, 113, 119,  35, 119, 104, 111, 104, 121, 108,\n",
      "        118, 108, 114, 113,  35, 100, 117, 104,  35, 101, 104, 108, 113, 106,\n",
      "         35, 100, 117, 117, 104, 118, 119, 104, 103,  35, 100, 113, 103,  35,\n",
      "        108, 113, 119, 104, 117, 117, 114, 106, 100, 119, 104, 103,  35, 100,\n",
      "        118,  35, 122, 104,  35, 118, 108, 119,  35, 107, 104, 117, 104,  35,\n",
      "        113, 114, 122,  49,   1,   0,   0,   0,   0,   0,   0,   0,   0,   0,\n",
      "          0,   0]), tensor([ 87, 107, 108, 118,  35, 108, 118,  35, 100, 113,  35, 100, 111, 100,\n",
      "        117, 112, 108, 113, 106,  35, 103, 104, 121, 104, 111, 114, 115, 112,\n",
      "        104, 113, 119,  35, 100, 113, 103,  35, 108, 119,  35, 106, 114, 104,\n",
      "        118,  35, 101, 104, 124, 114, 113, 103,  35, 119, 107, 104,  35, 115,\n",
      "        104, 117, 118, 114, 113, 100, 111,  35, 116, 120, 104, 118, 119, 108,\n",
      "        114, 113,  35, 114, 105,  35,  80, 117,  35,  74, 120, 118, 108, 113,\n",
      "        118, 110, 124,  47,  35, 122, 107, 108, 102, 107,  35,  76,  35, 107,\n",
      "        100, 121, 104,  35, 117, 100, 108, 118, 104, 103,  35, 101, 104, 105,\n",
      "        114, 117, 104,  35, 100, 113, 103,  47,  35, 100, 118,  35, 108, 118,\n",
      "         35,   1]), tensor([ 80, 100, 103, 100, 112,  35,  83, 117, 104, 118, 108, 103, 104, 113,\n",
      "        119,  47,  35, 102, 114, 120, 111, 103,  35, 122, 104,  35, 119, 100,\n",
      "        110, 104,  35, 119, 107, 108, 118,  35, 112, 100, 119, 119, 104, 117,\n",
      "         35, 108, 113, 119, 114,  35, 102, 114, 113, 118, 108, 103, 104, 117,\n",
      "        100, 119, 108, 114, 113,  66,   1,   0,   0,   0,   0,   0,   0,   0,\n",
      "          0,   0,   0,   0,   0,   0,   0,   0,   0,   0,   0,   0,   0,   0,\n",
      "          0,   0,   0,   0,   0,   0,   0,   0,   0,   0,   0,   0,   0,   0,\n",
      "          0,   0,   0,   0,   0,   0,   0,   0,   0,   0,   0,   0,   0,   0,\n",
      "          0,   0,   0,   0,   0,   0,   0,   0,   0,   0,   0,   0,   0,   0,\n",
      "          0,   0]), tensor([ 92, 114, 120,  35, 112, 104, 119,  35, 119, 107, 104,  35, 103, 104,\n",
      "        115, 120, 119, 124,  35, 102, 107, 100, 108, 117, 112, 100, 113,  35,\n",
      "        114, 105,  35,  80, 104, 103, 108, 100,  48,  80, 114, 118, 119,  35,\n",
      "        108, 113,  35,  77, 120, 113, 104,  47,  35,  80, 117,  35,  80, 100,\n",
      "        111, 100, 118, 107, 104, 113, 110, 114,  49,   1,   0,   0,   0,   0,\n",
      "          0,   0,   0,   0,   0,   0,   0,   0,   0,   0,   0,   0,   0,   0,\n",
      "          0,   0,   0,   0,   0,   0,   0,   0,   0,   0,   0,   0,   0,   0,\n",
      "          0,   0,   0,   0,   0,   0,   0,   0,   0,   0,   0,   0,   0,   0,\n",
      "          0,   0,   0,   0,   0,   0,   0,   0,   0,   0,   0,   0,   0,   0,\n",
      "          0,   0]), tensor([ 92, 114, 120,  35, 118, 115, 114, 110, 104,  35, 119, 114,  35, 107,\n",
      "        108, 112,  35, 100, 101, 114, 120, 119,  35, 119, 107, 108, 118,  35,\n",
      "        115, 117, 114, 101, 111, 104, 112,  35, 114, 105,  35, 106, 114, 121,\n",
      "        104, 117, 113, 112, 104, 113, 119,  35, 115, 117, 104, 118, 118, 120,\n",
      "        117, 104,  35, 114, 113,  35, 105, 117, 104, 104, 103, 114, 112,  35,\n",
      "        114, 105,  35, 119, 107, 104,  35, 115, 117, 104, 118, 118,  35, 100,\n",
      "        113, 103,  35, 124, 114, 120,  35, 118, 120, 106, 106, 104, 118, 119,\n",
      "        104, 103,  35, 119, 107, 100, 119,  35, 118, 114, 112, 104, 119, 107,\n",
      "        108, 113, 106,  35, 118, 107, 114, 120, 111, 103,  35, 101, 104,  35,\n",
      "        103,   1]), tensor([ 70, 100, 113,  35, 122, 104,  35, 119, 117, 124,  35, 119, 114,  35,\n",
      "        105, 108, 113, 103,  35, 118, 114, 112, 104,  35, 122, 100, 124,  35,\n",
      "        114, 105,  35, 102, 114, 113, 121, 104, 124, 108, 113, 106,  35, 114,\n",
      "        120, 117,  35, 121, 108, 104, 122, 118,  35, 119, 114,  35, 119, 107,\n",
      "        104,  35,  85, 120, 118, 118, 108, 100, 113,  35,  74, 114, 121, 104,\n",
      "        117, 113, 112, 104, 113, 119,  35, 100, 113, 103,  35, 118, 114, 117,\n",
      "        119, 108, 113, 106,  35, 114, 120, 119,  35, 119, 107, 108, 118,  35,\n",
      "        116, 120, 104, 118, 119, 108, 114, 113,  35, 114, 105,  35, 105, 117,\n",
      "        104, 104, 103, 114, 112,  35, 114, 105,  35, 119, 107, 104,  35, 115,\n",
      "        117,   1]), tensor([ 80, 100, 103, 100, 112,  35,  83, 117, 104, 118, 108, 103, 104, 113,\n",
      "        119,  47,  35, 108, 105,  35,  76,  35, 117, 104, 102, 100, 111, 111,\n",
      "         35, 102, 114, 117, 117, 104, 102, 119, 111, 124,  47,  35, 105, 114,\n",
      "        111, 111, 114, 122, 108, 113, 106,  35, 119, 107, 104,  35, 117, 104,\n",
      "        118, 114, 111, 120, 119, 108, 114, 113,  35, 114, 113,  35,  87, 120,\n",
      "        113, 108, 118, 108, 100,  35, 122, 107, 108, 102, 107,  35, 122, 104,\n",
      "         35, 100, 103, 114, 115, 119, 104, 103,  35, 108, 113,  35,  71, 104,\n",
      "        102, 104, 112, 101, 104, 117,  47,  35,  83, 117, 104, 118, 108, 103,\n",
      "        104, 113, 119,  35,  69, 104, 113,  35,  68, 111, 108,  35, 122, 100,\n",
      "        118,   1]), tensor([ 76, 105,  35, 119, 107, 108, 118,  35, 108, 118,  35, 102, 114, 117,\n",
      "        117, 104, 102, 119,  47,  35, 122, 114, 120, 111, 103,  35, 124, 114,\n",
      "        120,  35, 118, 107, 100, 117, 104,  35, 119, 107, 104,  35, 102, 114,\n",
      "        113, 119, 104, 113, 119, 118,  35, 114, 105,  35, 119, 107, 100, 119,\n",
      "         35, 111, 104, 119, 119, 104, 117,  35, 122, 108, 119, 107,  35, 120,\n",
      "        118,  66,   1,   0,   0,   0,   0,   0,   0,   0,   0,   0,   0,   0,\n",
      "          0,   0,   0,   0,   0,   0,   0,   0,   0,   0,   0,   0,   0,   0,\n",
      "          0,   0,   0,   0,   0,   0,   0,   0,   0,   0,   0,   0,   0,   0,\n",
      "          0,   0,   0,   0,   0,   0,   0,   0,   0,   0,   0,   0,   0,   0,\n",
      "          0,   0]), tensor([ 76,  35, 107, 100, 121, 104,  35, 113, 114, 119,  35, 117, 104, 102,\n",
      "        104, 108, 121, 104, 103,  35, 100, 113, 124,  35, 118, 120, 102, 107,\n",
      "         35, 111, 104, 119, 119, 104, 117,  49,   1,   0,   0,   0,   0,   0,\n",
      "          0,   0,   0,   0,   0,   0,   0,   0,   0,   0,   0,   0,   0,   0,\n",
      "          0,   0,   0,   0,   0,   0,   0,   0,   0,   0,   0,   0,   0,   0,\n",
      "          0,   0,   0,   0,   0,   0,   0,   0,   0,   0,   0,   0,   0,   0,\n",
      "          0,   0,   0,   0,   0,   0,   0,   0,   0,   0,   0,   0,   0,   0,\n",
      "          0,   0,   0,   0,   0,   0,   0,   0,   0,   0,   0,   0,   0,   0,\n",
      "          0,   0,   0,   0,   0,   0,   0,   0,   0,   0,   0,   0,   0,   0,\n",
      "          0,   0]), tensor([ 76, 105,  35,  76,  35, 107, 100, 103,  47,  35,  76,  35, 122, 114,\n",
      "        120, 111, 103,  35, 113, 100, 119, 120, 117, 100, 111, 111, 124,  35,\n",
      "        107, 100, 121, 104,  35, 108, 113, 105, 114, 117, 112, 104, 103,  35,\n",
      "        119, 107, 104,  35,  75, 114, 120, 118, 104,  49,   1,   0,   0,   0,\n",
      "          0,   0,   0,   0,   0,   0,   0,   0,   0,   0,   0,   0,   0,   0,\n",
      "          0,   0,   0,   0,   0,   0,   0,   0,   0,   0,   0,   0,   0,   0,\n",
      "          0,   0,   0,   0,   0,   0,   0,   0,   0,   0,   0,   0,   0,   0,\n",
      "          0,   0,   0,   0,   0,   0,   0,   0,   0,   0,   0,   0,   0,   0,\n",
      "          0,   0,   0,   0,   0,   0,   0,   0,   0,   0,   0,   0,   0,   0,\n",
      "          0,   0]), tensor([ 80, 100, 103, 100, 112,  35,  83, 117, 104, 118, 108, 103, 104, 113,\n",
      "        119,  47,  35, 108, 113,  35, 117, 104, 102, 104, 113, 119,  35, 103,\n",
      "        100, 124, 118,  47,  35, 104, 121, 104, 113,  35, 100, 118,  35, 122,\n",
      "        104,  35, 118, 115, 104, 100, 110,  47,  35, 117, 104, 115, 114, 117,\n",
      "        119, 118,  35, 107, 100, 121, 104,  35, 101, 104, 104, 113,  35, 105,\n",
      "        111, 114, 114, 103, 108, 113, 106,  35, 108, 113,  35, 114, 105,  35,\n",
      "        119, 107, 104,  35, 108, 113, 102, 117, 104, 100, 118, 108, 113, 106,\n",
      "         35, 113, 120, 112, 101, 104, 117,  35, 114, 105,  35, 102, 100, 118,\n",
      "        104, 118,  35, 114, 105,  35, 124, 114, 120, 113, 106,  35, 118, 114,\n",
      "        111,   1]), tensor([ 73, 108, 117, 118, 119, 111, 124,  47,  35,  80, 100, 103, 100, 112,\n",
      "         35,  83, 117, 104, 118, 108, 103, 104, 113, 119,  47,  35,  76,  35,\n",
      "        100, 112,  35, 118, 120, 117, 104,  35, 122, 104,  35, 122, 114, 120,\n",
      "        111, 103,  35, 100, 111, 111,  35, 122, 108, 118, 107,  35, 119, 114,\n",
      "         35, 118, 104, 113, 103,  35, 114, 120, 117,  35, 103, 104, 104, 115,\n",
      "        104, 118, 119,  35, 118, 124, 112, 115, 100, 119, 107, 124,  35, 119,\n",
      "        114,  35, 119, 107, 104,  35, 105, 100, 112, 108, 111, 108, 104, 118,\n",
      "         35, 114, 105,  35, 119, 107, 104,  35, 124, 114, 120, 113, 106,  35,\n",
      "        118, 114, 111, 103, 108, 104, 117, 118,  47,  35, 119, 107, 104,  35,\n",
      "         72,   1]), tensor([ 86, 104, 102, 114, 113, 103, 111, 124,  47,  35,  76,  35, 112, 120,\n",
      "        118, 119,  35, 119, 104, 111, 111,  35, 124, 114, 120,  35, 119, 107,\n",
      "        100, 119,  35,  76,  35, 106, 117, 104, 100, 119, 111, 124,  35, 122,\n",
      "        104, 111, 102, 114, 112, 104,  35, 124, 114, 120, 117,  35, 118, 119,\n",
      "        100, 119, 104, 112, 104, 113, 119, 118,  35, 114, 113,  35, 119, 107,\n",
      "        104,  35, 103, 104, 115, 111, 104, 119, 104, 103,  35, 120, 117, 100,\n",
      "        113, 108, 120, 112,  35, 108, 118, 118, 120, 104,  49,  35,  76, 113,\n",
      "         35, 115, 100, 117, 119, 108, 102, 120, 111, 100, 117,  47,  35,  76,\n",
      "         35, 118, 120, 115, 115, 114, 117, 119,  35, 124, 114, 120, 117,  35,\n",
      "        102,   1]), tensor([ 76,  35, 100, 112,  35, 116, 120, 108, 119, 104,  35, 100, 122, 100,\n",
      "        117, 104,  35, 119, 107, 100, 119,  35, 118, 114, 112, 104,  35, 115,\n",
      "        104, 114, 115, 111, 104,  35, 103, 104, 113, 124,  35, 119, 107, 100,\n",
      "        119,  35, 119, 107, 104, 117, 104,  35, 108, 118,  35, 100, 113, 124,\n",
      "         35, 100, 118, 118, 114, 102, 108, 100, 119, 108, 114, 113,  35, 101,\n",
      "        104, 119, 122, 104, 104, 113,  35, 119, 107, 104,  35, 103, 104, 100,\n",
      "        119, 107, 118,  35, 100, 113, 103,  35, 108, 111, 111,  35, 107, 104,\n",
      "        100, 111, 119, 107,  35, 100, 113, 103,  35, 119, 107, 104,  35, 120,\n",
      "        118, 104,  35, 114, 105,  35, 119, 107, 104,  35, 118, 107, 104, 111,\n",
      "        111,   1]), tensor([ 87, 107, 104, 117, 104, 105, 114, 117, 104,  47,  35, 108, 105,  35,\n",
      "        108, 119,  35, 108, 118,  35, 113, 114, 119,  35, 115, 114, 118, 118,\n",
      "        108, 101, 111, 104,  35, 119, 114,  35, 114, 101, 119, 100, 108, 113,\n",
      "         35, 100, 113,  35, 108, 112, 112, 104, 103, 108, 100, 119, 104,  35,\n",
      "        101, 100, 113,  47,  35, 108, 119,  35, 108, 118,  35, 104, 118, 118,\n",
      "        104, 113, 119, 108, 100, 111,  35, 119, 114,  35, 108, 112, 115, 114,\n",
      "        118, 104,  35, 100, 113,  35, 108, 112, 112, 104, 103, 108, 100, 119,\n",
      "        104,  35, 112, 114, 117, 100, 119, 114, 117, 108, 120, 112,  47,  35,\n",
      "        105, 114, 117,  35, 100, 111, 119, 107, 114, 120, 106, 107,  35, 119,\n",
      "        107,   1]), tensor([ 76,  35, 119, 117, 120, 118, 119,  35, 119, 107, 100, 119,  35, 124,\n",
      "        114, 120,  35, 122, 108, 111, 111,  35, 115, 120, 117, 118, 120, 104,\n",
      "         35, 119, 107, 108, 118,  35, 112, 100, 119, 119, 104, 117,  49,   1,\n",
      "          0,   0,   0,   0,   0,   0,   0,   0,   0,   0,   0,   0,   0,   0,\n",
      "          0,   0,   0,   0,   0,   0,   0,   0,   0,   0,   0,   0,   0,   0,\n",
      "          0,   0,   0,   0,   0,   0,   0,   0,   0,   0,   0,   0,   0,   0,\n",
      "          0,   0,   0,   0,   0,   0,   0,   0,   0,   0,   0,   0,   0,   0,\n",
      "          0,   0,   0,   0,   0,   0,   0,   0,   0,   0,   0,   0,   0,   0,\n",
      "          0,   0,   0,   0,   0,   0,   0,   0,   0,   0,   0,   0,   0,   0,\n",
      "          0,   0]), tensor([ 80, 100, 103, 100, 112,  35,  83, 117, 104, 118, 108, 103, 104, 113,\n",
      "        119,  47,  35, 100, 119,  35,  59,  35, 100,  49, 112,  49,  35, 119,\n",
      "        107, 108, 118,  35, 112, 114, 117, 113, 108, 113, 106,  47,  35,  76,\n",
      "         35, 105, 114, 120, 113, 103,  35, 112, 124, 118, 104, 111, 105,  35,\n",
      "        108, 113,  35, 119, 107, 104,  35, 106, 114, 114, 103,  35, 102, 114,\n",
      "        112, 115, 100, 113, 124,  35, 114, 105,  35,  53,  55,  35, 114, 119,\n",
      "        107, 104, 117,  35,  80,  72,  83, 118,  47,  35, 118, 119, 100, 105,\n",
      "        105,  35, 100, 113, 103,  35, 114, 113, 104,  35,  70, 114, 112, 112,\n",
      "        108, 118, 118, 108, 114, 113, 104, 117,  35, 100, 119,  35,  86, 102,\n",
      "        107,   1]), tensor([ 90, 104,  35, 122, 104, 117, 104,  35, 117, 104, 100, 111, 111, 124,\n",
      "         35, 111, 114, 114, 110, 108, 113, 106,  35, 105, 114, 117, 122, 100,\n",
      "        117, 103,  35, 119, 114,  35, 118, 115, 104, 113, 103, 108, 113, 106,\n",
      "         35, 100, 113, 114, 119, 107, 104, 117,  35, 122, 104, 104, 110,  35,\n",
      "        108, 113,  35,  86, 119, 117, 100, 118, 101, 114, 120, 117, 106,  35,\n",
      "        100, 105, 119, 104, 117,  35, 119, 107, 104,  35, 107, 114, 111, 108,\n",
      "        103, 100, 124, 118,  47,  35, 101, 120, 119,  35, 114, 120, 117,  35,\n",
      "        105, 111, 108, 106, 107, 119,  35, 122, 100, 118,  35, 102, 100, 113,\n",
      "        102, 104, 111, 111, 104, 103,  47,  35, 120, 113, 105, 114, 117, 119,\n",
      "        120,   1]), tensor([ 87, 107, 108, 118,  35, 108, 118,  35, 113, 114, 119,  35, 119, 107,\n",
      "        104,  35, 105, 108, 117, 118, 119,  35, 119, 108, 112, 104,  49,   1,\n",
      "          0,   0,   0,   0,   0,   0,   0,   0,   0,   0,   0,   0,   0,   0,\n",
      "          0,   0,   0,   0,   0,   0,   0,   0,   0,   0,   0,   0,   0,   0,\n",
      "          0,   0,   0,   0,   0,   0,   0,   0,   0,   0,   0,   0,   0,   0,\n",
      "          0,   0,   0,   0,   0,   0,   0,   0,   0,   0,   0,   0,   0,   0,\n",
      "          0,   0,   0,   0,   0,   0,   0,   0,   0,   0,   0,   0,   0,   0,\n",
      "          0,   0,   0,   0,   0,   0,   0,   0,   0,   0,   0,   0,   0,   0,\n",
      "          0,   0,   0,   0,   0,   0,   0,   0,   0,   0,   0,   0,   0,   0,\n",
      "          0,   0]), tensor([ 90, 104,  35, 105, 111, 124,  35, 119, 114,  35,  86, 119, 117, 100,\n",
      "        118, 101, 114, 120, 117, 106,  35, 122, 108, 119, 107,  35,  85, 104,\n",
      "        106, 108, 114, 113, 100, 111,  35,  68, 108, 117, 111, 108, 113, 104,\n",
      "        118,  49,   1,   0,   0,   0,   0,   0,   0,   0,   0,   0,   0,   0,\n",
      "          0,   0,   0,   0,   0,   0,   0,   0,   0,   0,   0,   0,   0,   0,\n",
      "          0,   0,   0,   0,   0,   0,   0,   0,   0,   0,   0,   0,   0,   0,\n",
      "          0,   0,   0,   0,   0,   0,   0,   0,   0,   0,   0,   0,   0,   0,\n",
      "          0,   0,   0,   0,   0,   0,   0,   0,   0,   0,   0,   0,   0,   0,\n",
      "          0,   0,   0,   0,   0,   0,   0,   0,   0,   0,   0,   0,   0,   0,\n",
      "          0,   0]), tensor([ 86, 108, 113, 102, 104,  35, 119, 107, 108, 118,  35, 100, 121, 108,\n",
      "        100, 119, 108, 114, 113,  35, 102, 114, 112, 115, 100, 113, 124,  35,\n",
      "        122, 100, 118,  35, 119, 100, 110, 104, 113,  35, 114, 121, 104, 117,\n",
      "         35, 101, 124,  35,  68, 108, 117,  35,  73, 117, 100, 113, 102, 104,\n",
      "         35, 119, 107, 108, 118,  35, 124, 104, 100, 117,  47,  35, 114, 113,\n",
      "        104,  35, 108, 113,  35, 119, 122, 114,  35, 105, 111, 108, 106, 107,\n",
      "        119, 118,  35, 107, 100, 118,  35, 101, 104, 104, 113,  35, 102, 100,\n",
      "        113, 102, 104, 111, 111, 104, 103,  49,   1,   0,   0,   0,   0,   0,\n",
      "          0,   0,   0,   0,   0,   0,   0,   0,   0,   0,   0,   0,   0,   0,\n",
      "          0,   0]), tensor([ 87, 107, 100, 119,  35, 112, 104, 100, 113, 118,  35, 119, 107, 100,\n",
      "        119,  35, 104, 100, 102, 107,  35, 119, 108, 112, 104,  35, 122, 104,\n",
      "         35, 119, 117, 124,  35, 119, 114,  35, 112, 100, 110, 104,  35, 114,\n",
      "        120, 117,  35, 122, 100, 124,  35, 119, 114,  35,  86, 119, 117, 100,\n",
      "        118, 101, 114, 120, 117, 106,  47,  35, 108, 113,  35, 106, 114, 114,\n",
      "        103,  35, 118, 115, 108, 117, 108, 119, 118,  47,  35, 122, 104,  35,\n",
      "        118, 119, 120, 112, 101, 111, 104,  35, 100, 102, 117, 114, 118, 118,\n",
      "         35, 124, 104, 119,  35, 100, 113, 114, 119, 107, 104, 117,  35, 107,\n",
      "        108, 119, 102, 107,  49,   1,   0,   0,   0,   0,   0,   0,   0,   0,\n",
      "          0,   0]), tensor([ 87, 114, 103, 100, 124,  35, 119, 114, 114,  47,  35, 122, 104,  35,\n",
      "        107, 100, 103,  35, 119, 114,  35, 105, 111, 124,  35, 121, 108, 100,\n",
      "         35,  83, 100, 117, 108, 118,  35, 119, 114,  35,  86, 119, 117, 100,\n",
      "        118, 101, 114, 120, 117, 106,  49,   1,   0,   0,   0,   0,   0,   0,\n",
      "          0,   0,   0,   0,   0,   0,   0,   0,   0,   0,   0,   0,   0,   0,\n",
      "          0,   0,   0,   0,   0,   0,   0,   0,   0,   0,   0,   0,   0,   0,\n",
      "          0,   0,   0,   0,   0,   0,   0,   0,   0,   0,   0,   0,   0,   0,\n",
      "          0,   0,   0,   0,   0,   0,   0,   0,   0,   0,   0,   0,   0,   0,\n",
      "          0,   0,   0,   0,   0,   0,   0,   0,   0,   0,   0,   0,   0,   0,\n",
      "          0,   0]), tensor([ 86, 114,  47,  35, 100, 111, 119, 107, 114, 120, 106, 107,  35,  76,\n",
      "         35, 122, 100, 118,  35, 100, 119,  35,  86, 102, 107, 108, 115, 107,\n",
      "        114, 111,  35, 108, 113,  35,  68, 112, 118, 119, 104, 117, 103, 100,\n",
      "        112,  35, 100, 119,  35,  59,  35, 100,  49, 112,  49,  47,  35,  76,\n",
      "         47,  35, 100, 111, 114, 113, 106,  35, 122, 108, 119, 107,  35,  53,\n",
      "         55,  35, 114, 119, 107, 104, 117, 118,  47,  35, 103, 108, 103,  35,\n",
      "        113, 114, 119,  35, 100, 117, 117, 108, 121, 104,  35, 108, 113,  35,\n",
      "         86, 119, 117, 100, 118, 101, 114, 120, 117, 106,  35, 120, 113, 119,\n",
      "        108, 111,  35,  55,  35, 115,  49, 112,  49,   1,   0,   0,   0,   0,\n",
      "          0,   0]), tensor([ 68, 119,  35, 115, 117, 104, 118, 104, 113, 119,  47,  35,  68, 108,\n",
      "        117,  35,  73, 117, 100, 113, 102, 104,  35, 108, 118,  35, 118, 119,\n",
      "        108, 111, 111,  35,  52,  51,  51,  40,  35, 118, 119, 100, 119, 104,\n",
      "         48, 114, 122, 113, 104, 103,  47,  35, 100, 113, 103,  35, 119, 107,\n",
      "        104,  35,  73, 117, 104, 113, 102, 107,  35,  74, 114, 121, 104, 117,\n",
      "        113, 112, 104, 113, 119,  35, 107, 100, 118,  35, 100, 118, 118, 120,\n",
      "        117, 104, 103,  35, 120, 118,  35, 119, 107, 100, 119,  35, 108, 119,\n",
      "         35, 122, 108, 111, 111,  35, 101, 104, 113, 103,  35, 114, 121, 104,\n",
      "        117,  35, 101, 100, 102, 110, 122, 100, 117, 103, 118,  35, 119, 114,\n",
      "         35,   1]), tensor([ 87, 107, 100, 119,  35, 108, 118,  35, 122, 107, 124,  35,  76,  35,\n",
      "        122, 114, 120, 111, 103,  35, 100, 118, 110,  35, 124, 114, 120,  35,\n",
      "        119, 114,  35, 115, 100, 118, 118,  35, 119, 107, 108, 118,  35, 102,\n",
      "        114, 112, 115, 111, 100, 108, 113, 119,  35, 114, 113,  35, 119, 114,\n",
      "         35, 119, 107, 104,  35,  73, 117, 104, 113, 102, 107,  35,  74, 114,\n",
      "        121, 104, 117, 113, 112, 104, 113, 119,  47,  35, 101, 104, 102, 100,\n",
      "        120, 118, 104,  35, 122, 104,  35, 122, 114, 120, 111, 103,  35, 118,\n",
      "        108, 112, 115, 111, 124,  35, 111, 108, 110, 104,  35, 119, 114,  35,\n",
      "        102, 100, 119, 102, 107,  35, 114, 120, 117,  35, 103, 108, 117, 104,\n",
      "        102,   1]), tensor([ 80, 117, 118,  35,  83, 111, 114, 114, 108, 109,  48, 121, 100, 113,\n",
      "         35,  74, 114, 117, 118, 104, 111,  47,  35,  76,  35, 100, 112,  35,\n",
      "        104, 123, 119, 117, 104, 112, 104, 111, 124,  35, 102, 114, 113, 102,\n",
      "        104, 117, 113, 104, 103,  35, 101, 124,  35, 122, 107, 100, 119,  35,\n",
      "        124, 114, 120,  35, 107, 100, 121, 104,  35, 119, 114, 111, 103,  35,\n",
      "        112, 104,  35, 100, 113, 103,  35,  76,  35, 102, 100, 113,  35, 100,\n",
      "        118, 118, 120, 117, 104,  35, 124, 114, 120,  35, 119, 107, 100, 119,\n",
      "         35,  76,  35, 118, 107, 100, 111, 111,  35, 112, 114, 118, 119,  35,\n",
      "        102, 104, 117, 119, 100, 108, 113, 111, 124,  35, 102, 114, 113, 121,\n",
      "        104,   1]), tensor([ 80, 100, 103, 100, 112,  35,  83, 117, 104, 118, 108, 103, 104, 113,\n",
      "        119,  47,  35, 114, 113,  35, 100,  35, 115, 114, 108, 113, 119,  35,\n",
      "        114, 105,  35, 114, 117, 103, 104, 117,  49,   1,   0,   0,   0,   0,\n",
      "          0,   0,   0,   0,   0,   0,   0,   0,   0,   0,   0,   0,   0,   0,\n",
      "          0,   0,   0,   0,   0,   0,   0,   0,   0,   0,   0,   0,   0,   0,\n",
      "          0,   0,   0,   0,   0,   0,   0,   0,   0,   0,   0,   0,   0,   0,\n",
      "          0,   0,   0,   0,   0,   0,   0,   0,   0,   0,   0,   0,   0,   0,\n",
      "          0,   0,   0,   0,   0,   0,   0,   0,   0,   0,   0,   0,   0,   0,\n",
      "          0,   0,   0,   0,   0,   0,   0,   0,   0,   0,   0,   0,   0,   0,\n",
      "          0,   0]), tensor([ 76,  35, 122, 108, 118, 107,  35, 119, 114,  35, 103, 117, 100, 122,\n",
      "         35, 119, 107, 104,  35, 100, 119, 119, 104, 113, 119, 108, 114, 113,\n",
      "         35, 114, 105,  35, 119, 107, 104,  35,  75, 114, 120, 118, 104,  35,\n",
      "        119, 114,  35, 100, 113,  35, 120, 113, 105, 114, 117, 119, 120, 113,\n",
      "        100, 119, 104,  35, 108, 113, 102, 108, 103, 104, 113, 119,  35, 122,\n",
      "        107, 108, 102, 107,  35, 107, 100, 118,  35, 114, 102, 102, 120, 117,\n",
      "        117, 104, 103,  35, 118, 108, 113, 102, 104,  35, 114, 120, 117,  35,\n",
      "        111, 100, 118, 119,  35, 115, 100, 117, 119,  48, 118, 104, 118, 118,\n",
      "        108, 114, 113,  47,  35, 100, 113, 103,  35, 119, 107, 100, 119,  35,\n",
      "        108,   1]), tensor([ 80, 100, 113, 124,  35, 114, 105,  35, 124, 114, 120,  35, 112, 100,\n",
      "        124,  35, 101, 104,  35, 120, 113, 100, 122, 100, 117, 104,  35, 119,\n",
      "        107, 100, 119,  35, 115, 100, 117, 119,  35, 114, 105,  35,  70, 124,\n",
      "        115, 117, 120, 118,  35, 108, 118,  35, 100, 111, 117, 104, 100, 103,\n",
      "        124,  35, 115, 100, 117, 119,  35, 114, 105,  35, 119, 107, 104,  35,\n",
      "         72, 120, 117, 114, 115, 104, 100, 113,  35,  88, 113, 108, 114, 113,\n",
      "         35, 101, 104, 102, 100, 120, 118, 104,  35,  74, 117, 104, 100, 119,\n",
      "         35,  69, 117, 108, 119, 100, 108, 113,  35, 117, 104, 119, 100, 108,\n",
      "        113, 104, 103,  35, 118, 114, 121, 104, 117, 104, 108, 106, 113,  35,\n",
      "        101,   1]), tensor([ 87, 107, 100, 119,  35, 118, 104, 108, 125, 120, 117, 104,  35, 122,\n",
      "        100, 118,  35, 100, 113,  35, 108, 111, 111, 104, 106, 100, 111,  35,\n",
      "        100, 102, 119,  49,   1,   0,   0,   0,   0,   0,   0,   0,   0,   0,\n",
      "          0,   0,   0,   0,   0,   0,   0,   0,   0,   0,   0,   0,   0,   0,\n",
      "          0,   0,   0,   0,   0,   0,   0,   0,   0,   0,   0,   0,   0,   0,\n",
      "          0,   0,   0,   0,   0,   0,   0,   0,   0,   0,   0,   0,   0,   0,\n",
      "          0,   0,   0,   0,   0,   0,   0,   0,   0,   0,   0,   0,   0,   0,\n",
      "          0,   0,   0,   0,   0,   0,   0,   0,   0,   0,   0,   0,   0,   0,\n",
      "          0,   0,   0,   0,   0,   0,   0,   0,   0,   0,   0,   0,   0,   0,\n",
      "          0,   0]), tensor([ 80, 117,  35,  87, 118, 108, 100, 110, 114, 120, 117, 112, 100, 118,\n",
      "         35, 108, 118,  35, 113, 114, 122,  35, 101, 104, 108, 113, 106,  35,\n",
      "        107, 104, 111, 103,  35, 108, 113,  35,  81, 114, 117, 119, 107,  35,\n",
      "         70, 124, 115, 117, 120, 118,  49,   1,   0,   0,   0,   0,   0,   0,\n",
      "          0,   0,   0,   0,   0,   0,   0,   0,   0,   0,   0,   0,   0,   0,\n",
      "          0,   0,   0,   0,   0,   0,   0,   0,   0,   0,   0,   0,   0,   0,\n",
      "          0,   0,   0,   0,   0,   0,   0,   0,   0,   0,   0,   0,   0,   0,\n",
      "          0,   0,   0,   0,   0,   0,   0,   0,   0,   0,   0,   0,   0,   0,\n",
      "          0,   0,   0,   0,   0,   0,   0,   0,   0,   0,   0,   0,   0,   0,\n",
      "          0,   0]), tensor([ 76,  35, 122, 114, 120, 111, 103,  35, 100, 115, 115, 104, 100, 111,\n",
      "         35, 119, 114,  35, 119, 107, 104,  35,  75, 114, 120, 118, 104,  35,\n",
      "        119, 114,  35, 104, 123, 115, 117, 104, 118, 118,  35, 108, 119, 118,\n",
      "         35, 118, 124, 112, 115, 100, 119, 107, 124,  35, 122, 108, 119, 107,\n",
      "         35,  80, 117,  35,  87, 118, 108, 100, 110, 114, 120, 117, 112, 100,\n",
      "        118,  35, 100, 113, 103,  35, 107, 108, 118,  35, 105, 100, 112, 108,\n",
      "        111, 124,  49,   1,   0,   0,   0,   0,   0,   0,   0,   0,   0,   0,\n",
      "          0,   0,   0,   0,   0,   0,   0,   0,   0,   0,   0,   0,   0,   0,\n",
      "          0,   0,   0,   0,   0,   0,   0,   0,   0,   0,   0,   0,   0,   0,\n",
      "          0,   0]), tensor([ 75, 104,  35, 107, 100, 118,  35, 101, 104, 104, 113,  35, 100, 102,\n",
      "        102, 120, 118, 104, 103,  35, 114, 105,  35, 100,  35, 102, 117, 108,\n",
      "        112, 104,  35, 114, 105,  35, 122, 107, 108, 102, 107,  35,  76,  35,\n",
      "        103, 114,  35, 113, 114, 119,  35, 119, 107, 108, 113, 110,  35, 107,\n",
      "        104,  35, 108, 118,  35, 106, 120, 108, 111, 119, 124,  49,   1,   0,\n",
      "          0,   0,   0,   0,   0,   0,   0,   0,   0,   0,   0,   0,   0,   0,\n",
      "          0,   0,   0,   0,   0,   0,   0,   0,   0,   0,   0,   0,   0,   0,\n",
      "          0,   0,   0,   0,   0,   0,   0,   0,   0,   0,   0,   0,   0,   0,\n",
      "          0,   0,   0,   0,   0,   0,   0,   0,   0,   0,   0,   0,   0,   0,\n",
      "          0,   0]), tensor([ 75, 114, 122, 104, 121, 104, 117,  47,  35, 122, 107, 100, 119, 104,\n",
      "        121, 104, 117,  35, 119, 107, 104,  35, 112, 104, 117, 108, 119, 118,\n",
      "         35, 114, 105,  35, 107, 108, 118,  35, 102, 100, 118, 104,  47,  35,\n",
      "        119, 107, 104,  35, 102, 108, 117, 102, 120, 112, 118, 119, 100, 113,\n",
      "        102, 104, 118,  35, 114, 105,  35, 107, 108, 118,  35, 100, 101, 103,\n",
      "        120, 102, 119, 108, 114, 113,  35, 122, 104, 117, 104,  35, 120, 113,\n",
      "        100, 102, 102, 104, 115, 119, 100, 101, 111, 104,  49,   1,   0,   0,\n",
      "          0,   0,   0,   0,   0,   0,   0,   0,   0,   0,   0,   0,   0,   0,\n",
      "          0,   0,   0,   0,   0,   0,   0,   0,   0,   0,   0,   0,   0,   0,\n",
      "          0,   0]), tensor([ 75, 104,  35, 122, 100, 118,  35, 100, 101, 103, 120, 102, 119, 104,\n",
      "        103,  35, 105, 117, 114, 112,  35, 119, 107, 104,  35, 119, 104, 117,\n",
      "        117, 108, 119, 114, 117, 124,  35, 114, 105,  35, 100,  35,  72, 120,\n",
      "        117, 114, 115, 104, 100, 113,  35,  88, 113, 108, 114, 113,  35,  80,\n",
      "        104, 112, 101, 104, 117,  35,  86, 119, 100, 119, 104,  49,   1,   0,\n",
      "          0,   0,   0,   0,   0,   0,   0,   0,   0,   0,   0,   0,   0,   0,\n",
      "          0,   0,   0,   0,   0,   0,   0,   0,   0,   0,   0,   0,   0,   0,\n",
      "          0,   0,   0,   0,   0,   0,   0,   0,   0,   0,   0,   0,   0,   0,\n",
      "          0,   0,   0,   0,   0,   0,   0,   0,   0,   0,   0,   0,   0,   0,\n",
      "          0,   0]), tensor([ 76,  35, 122, 114, 120, 111, 103,  35, 100, 118, 110,  35, 119, 107,\n",
      "        104,  35,  83, 117, 104, 118, 108, 103, 104, 113, 119,  35, 119, 114,\n",
      "         35, 104, 123, 115, 117, 104, 118, 118,  35, 114, 120, 117,  35, 102,\n",
      "        114, 113, 102, 104, 117, 113,  35, 119, 114,  35, 119, 107, 104,  35,\n",
      "         68, 113, 110, 100, 117, 100,  35,  74, 114, 121, 104, 117, 113, 112,\n",
      "        104, 113, 119,  35, 100, 101, 114, 120, 119,  35, 119, 107, 108, 118,\n",
      "         35, 108, 113, 102, 108, 103, 104, 113, 119,  35, 100, 113, 103,  35,\n",
      "        114, 120, 117,  35, 107, 114, 115, 104,  35, 119, 107, 100, 119,  35,\n",
      "        119, 107, 108, 118,  35, 120, 113, 105, 114, 117, 119, 120, 113, 100,\n",
      "        119,   1]), tensor([ 80, 100, 103, 100, 112,  35,  83, 117, 104, 118, 108, 103, 104, 113,\n",
      "        119,  47,  35, 112, 100, 124,  35,  76,  35, 118, 119, 100, 117, 119,\n",
      "         35, 101, 124,  35, 118, 100, 124, 108, 113, 106,  35, 119, 107, 100,\n",
      "        119,  35,  76,  35, 100, 106, 117, 104, 104,  35, 122, 107, 114, 111,\n",
      "        104, 107, 104, 100, 117, 119, 104, 103, 111, 124,  35, 122, 108, 119,\n",
      "        107,  35, 122, 107, 100, 119,  35,  80, 117,  35,  70, 114, 118, 118,\n",
      "        120, 119, 119, 100,  35, 109, 120, 118, 119,  35, 118, 100, 108, 103,\n",
      "         47,  35, 100, 111, 119, 107, 114, 120, 106, 107,  35, 119, 107, 100,\n",
      "        119,  35, 108, 118,  35, 113, 114, 119,  35, 122, 107, 124,  35,  76,\n",
      "         35,   1]), tensor([ 76,  35, 100, 118, 110, 104, 103,  35, 105, 114, 117,  35, 119, 107,\n",
      "        104,  35, 105, 111, 114, 114, 117,  35, 114, 113,  35, 119, 107, 104,\n",
      "         35, 112, 100, 119, 119, 104, 117,  35, 117, 100, 108, 118, 104, 103,\n",
      "         35, 101, 124,  35,  80, 117, 118,  35,  89, 108, 111, 111, 108, 104,\n",
      "        117, 118,  47,  35, 108, 113,  35, 114, 117, 103, 104, 117,  35, 119,\n",
      "        114,  35, 103, 104, 102, 117, 124,  35, 124, 104, 119,  35, 100, 113,\n",
      "        114, 119, 107, 104, 117,  35, 100, 102, 119,  35, 114, 105,  35, 119,\n",
      "        104, 117, 117, 114, 117, 108, 118, 112,  35, 114, 113,  35, 119, 107,\n",
      "        104,  35, 115, 100, 117, 119,  35, 114, 105,  35, 119, 107, 104,  35,\n",
      "         87,   1]), tensor([ 80, 124,  35, 105, 104, 111, 111, 114, 122,  35,  80, 104, 112, 101,\n",
      "        104, 117,  35, 107, 100, 118,  35, 103, 104, 118, 102, 117, 108, 101,\n",
      "        104, 103,  35, 119, 107, 104,  35, 102, 108, 117, 102, 120, 112, 118,\n",
      "        119, 100, 113, 102, 104, 118,  35, 100, 113, 103,  35,  76,  35, 113,\n",
      "        104, 104, 103,  35, 100, 103, 103,  35, 113, 114,  35, 105, 120, 117,\n",
      "        119, 107, 104, 117,  35, 103, 104, 119, 100, 108, 111, 118,  49,   1,\n",
      "          0,   0,   0,   0,   0,   0,   0,   0,   0,   0,   0,   0,   0,   0,\n",
      "          0,   0,   0,   0,   0,   0,   0,   0,   0,   0,   0,   0,   0,   0,\n",
      "          0,   0,   0,   0,   0,   0,   0,   0,   0,   0,   0,   0,   0,   0,\n",
      "          0,   0]), tensor([ 76,  35, 122, 114, 120, 111, 103,  35, 109, 120, 118, 119,  35, 115,\n",
      "        114, 108, 113, 119,  35, 114, 120, 119,  35, 119, 107, 100, 119,  35,\n",
      "        113, 114, 119,  35, 114, 113, 111, 124,  35, 122, 100, 118,  35,  80,\n",
      "        117,  35,  87, 118, 108, 100, 110, 114, 120, 117, 112, 100, 118,  35,\n",
      "        100, 101, 103, 120, 102, 119, 104, 103,  35, 114, 113,  35, 118, 114,\n",
      "        108, 111,  35, 101, 104, 111, 114, 113, 106, 108, 113, 106,  35, 119,\n",
      "        114,  35, 119, 107, 104,  35,  69, 117, 108, 119, 108, 118, 107,  35,\n",
      "        101, 100, 118, 104, 118,  47,  35, 107, 104,  35, 122, 100, 118,  35,\n",
      "        100, 101, 103, 120, 102, 119, 104, 103,  35, 100, 113, 103,  35, 108,\n",
      "        118,   1]), tensor([ 70, 114, 113, 118, 104, 116, 120, 104, 113, 119, 111, 124,  47,  35,\n",
      "        104, 121, 104, 117, 124,  35, 100, 121, 104, 113, 120, 104,  35, 105,\n",
      "        114, 117,  35, 119, 100, 110, 108, 113, 106,  35, 100, 102, 119, 108,\n",
      "        114, 113,  35, 100, 106, 100, 108, 113, 118, 119,  35,  87, 120, 117,\n",
      "        110, 104, 124,  35, 108, 118,  35, 114, 115, 104, 113,  35, 119, 114,\n",
      "         35, 120, 118,  35, 100, 113, 103,  35,  76,  35, 102, 100, 111, 111,\n",
      "         35, 114, 113,  35, 124, 114, 120,  47,  35,  80, 100, 103, 100, 112,\n",
      "         35,  83, 117, 104, 118, 108, 103, 104, 113, 119,  47,  35, 100, 113,\n",
      "        103,  35, 100, 111, 111,  35, 112, 124,  35, 105, 104, 111, 111, 114,\n",
      "        122,   1]), tensor([ 76, 113,  35, 105, 100, 102, 119,  47,  35, 119, 107, 104,  35, 122,\n",
      "        107, 114, 111, 104,  35, 101, 120, 118, 108, 113, 104, 118, 118,  35,\n",
      "        100, 115, 115, 104, 100, 117, 118,  35, 119, 114,  35, 101, 104,  35,\n",
      "        100,  35, 118, 104, 119,  35, 120, 115,  47,  35, 119, 107, 104,  35,\n",
      "        118, 114, 111, 104,  35, 115, 120, 117, 115, 114, 118, 104,  35, 114,\n",
      "        105,  35, 122, 107, 108, 102, 107,  35, 108, 118,  35, 119, 114,  35,\n",
      "        104, 123, 102, 107, 100, 113, 106, 104,  35,  80, 117,  35,  87, 118,\n",
      "        108, 100, 110, 114, 120, 117, 112, 100, 118,  35, 105, 114, 117,  35,\n",
      "        100,  35,  87, 120, 117, 110, 108, 118, 107,  35, 103, 117, 120, 106,\n",
      "         35,   1]), tensor([ 80, 117,  35,  68, 111, 124, 118, 118, 100, 113, 103, 117, 100, 110,\n",
      "        108, 118,  47,  35, 122, 104,  35, 118, 107, 100, 111, 111,  35, 118,\n",
      "        104, 104,  35, 122, 107, 100, 119,  35, 122, 104,  35, 102, 100, 113,\n",
      "         35, 103, 114,  35, 100, 101, 114, 120, 119,  35, 119, 107, 108, 118,\n",
      "         49,   1,   0,   0,   0,   0,   0,   0,   0,   0,   0,   0,   0,   0,\n",
      "          0,   0,   0,   0,   0,   0,   0,   0,   0,   0,   0,   0,   0,   0,\n",
      "          0,   0,   0,   0,   0,   0,   0,   0,   0,   0,   0,   0,   0,   0,\n",
      "          0,   0,   0,   0,   0,   0,   0,   0,   0,   0,   0,   0,   0,   0,\n",
      "          0,   0,   0,   0,   0,   0,   0,   0,   0,   0,   0,   0,   0,   0,\n",
      "          0,   0]), tensor([ 76,  35, 111, 108, 118, 119, 104, 113, 104, 103,  35, 102, 111, 114,\n",
      "        118, 104, 111, 124,  35, 119, 114,  35, 101, 114, 119, 107,  35, 124,\n",
      "        114, 120, 117,  35, 118, 115, 104, 104, 102, 107,  35, 100, 113, 103,\n",
      "         35, 119, 107, 100, 119,  35, 112, 100, 103, 104,  35, 101, 124,  35,\n",
      "        119, 107, 104,  35,  80, 104, 112, 101, 104, 117,  35, 101, 104, 105,\n",
      "        114, 117, 104,  35, 124, 114, 120,  49,   1,   0,   0,   0,   0,   0,\n",
      "          0,   0,   0,   0,   0,   0,   0,   0,   0,   0,   0,   0,   0,   0,\n",
      "          0,   0,   0,   0,   0,   0,   0,   0,   0,   0,   0,   0,   0,   0,\n",
      "          0,   0,   0,   0,   0,   0,   0,   0,   0,   0,   0,   0,   0,   0,\n",
      "          0,   0]), tensor([ 90, 108, 119, 107,  35, 117, 104, 106, 100, 117, 103,  35, 119, 114,\n",
      "         35,  80, 117,  35,  70, 114, 118, 118, 120, 119, 119, 100,  42,  35,\n",
      "        118,  35, 118, 115, 104, 104, 102, 107,  47,  35, 107, 104,  35, 108,\n",
      "        118,  35, 100, 122, 100, 117, 104,  35, 119, 107, 100, 119,  35,  76,\n",
      "         35, 112, 100, 103, 104,  35, 100,  35, 118, 119, 100, 119, 104, 112,\n",
      "        104, 113, 119,  35, 122, 107, 108, 102, 107,  35, 105, 120, 111, 111,\n",
      "        124,  35, 118, 120, 115, 115, 114, 117, 119, 118,  35, 107, 108, 118,\n",
      "         35, 114, 122, 113,  35, 118, 104, 113, 119, 108, 112, 104, 113, 119,\n",
      "        118,  49,   1,   0,   0,   0,   0,   0,   0,   0,   0,   0,   0,   0,\n",
      "          0,   0]), tensor([ 80, 100, 103, 100, 112,  35,  83, 117, 104, 118, 108, 103, 104, 113,\n",
      "        119,  47,  35,  76,  35, 119, 114, 114,  35, 122, 108, 118, 107,  35,\n",
      "        119, 114,  35, 100, 103, 103,  35, 119, 114,  35, 119, 107, 104,  35,\n",
      "        115, 117, 114, 119, 104, 118, 119, 118,  35, 121, 114, 108, 102, 104,\n",
      "        103,  35, 101, 124,  35,  80, 117, 118,  35,  89, 108, 111, 111, 108,\n",
      "        104, 117, 118,  35, 100, 113, 103,  35,  80, 117,  35,  68, 111, 124,\n",
      "        118, 118, 100, 113, 103, 117, 100, 110, 108, 118,  35, 100, 119,  35,\n",
      "        119, 107, 104,  35, 115, 117, 104, 112, 104, 103, 108, 119, 100, 119,\n",
      "        104, 103,  35, 100, 101, 103, 120, 102, 119, 108, 114, 113,  35, 114,\n",
      "        105,   1]), tensor([ 81, 114, 119,  35, 114, 113, 111, 124,  35, 108, 118,  35, 119, 107,\n",
      "        108, 118,  35, 112, 100, 113,  35, 108, 111, 111,  47,  35, 101, 120,\n",
      "        119,  35, 100,  35, 101, 100, 106,  35, 114, 105,  35, 107, 100, 118,\n",
      "        107, 108, 118, 107,  35, 122, 100, 118,  35, 115, 111, 100, 113, 119,\n",
      "        104, 103,  35, 113, 104, 123, 119,  35, 119, 114,  35, 107, 108, 112,\n",
      "         35, 118, 114,  35, 119, 107, 100, 119,  35, 107, 104,  35, 102, 114,\n",
      "        120, 111, 103,  35, 101, 104,  35, 100, 102, 102, 120, 118, 104, 103,\n",
      "         35, 114, 105,  35, 103, 117, 120, 106,  35, 118, 112, 120, 106, 106,\n",
      "        111, 108, 113, 106,  47,  35, 104, 121, 104, 113,  35, 119, 107, 114,\n",
      "        120,   1]), tensor([ 90, 104,  35, 113, 104, 104, 103,  35, 119, 114,  35, 100, 102, 119,\n",
      "         35, 105, 100, 118, 119,  35, 101, 104, 102, 100, 120, 118, 104,  35,\n",
      "         76,  35, 100, 112,  35, 100, 105, 117, 100, 108, 103,  35, 119, 107,\n",
      "        100, 119,  47,  35, 113, 114, 122,  35, 119, 107, 100, 119,  35,  87,\n",
      "        120, 117, 110, 104, 124,  35, 107, 100, 118,  35, 101, 104, 104, 113,\n",
      "         35, 100, 102, 102, 104, 115, 119, 104, 103,  35, 100, 118,  35, 100,\n",
      "         35, 102, 100, 113, 103, 108, 103, 100, 119, 104,  35, 102, 114, 120,\n",
      "        113, 119, 117, 124,  35, 114, 105,  35, 119, 107, 104,  35,  72, 120,\n",
      "        117, 114, 115, 104, 100, 113,  35,  88, 113, 108, 114, 113,  47,  35,\n",
      "        108,   1]), tensor([ 76, 119,  35, 107, 100, 118,  35, 100, 111, 117, 104, 100, 103, 124,\n",
      "         35, 100, 103, 121, 100, 113, 102, 104, 103,  35, 119, 114,  35, 115,\n",
      "        114, 118, 108, 119, 108, 114, 113, 118,  35, 100, 119,  35, 119, 122,\n",
      "        114,  35, 115, 114, 108, 113, 119, 118,  35, 114, 113,  35, 119, 107,\n",
      "        104,  35, 101, 114, 117, 103, 104, 117,  35, 122, 108, 119, 107,  35,\n",
      "        119, 107, 104,  35, 101, 120, 105, 105, 104, 117,  35, 125, 114, 113,\n",
      "        104,  35, 108, 113,  35,  70, 124, 115, 117, 120, 118,  47,  35, 108,\n",
      "        113,  35, 121, 108, 114, 111, 100, 119, 108, 114, 113,  35, 114, 105,\n",
      "         35,  88,  81,  35, 100, 117, 117, 100, 113, 106, 104, 112, 104, 113,\n",
      "        119,   1]), tensor([ 80, 114, 117, 104, 114, 121, 104, 117,  47,  35,  80, 117,  35,  71,\n",
      "        104, 113, 110, 119, 100, 118, 107,  47,  35, 119, 107, 104,  35, 111,\n",
      "        104, 100, 103, 104, 117,  35, 114, 105,  35,  37,  81, 114, 117, 119,\n",
      "        107,  35,  70, 124, 115, 117, 120, 118,  37,  35, 122, 107, 108, 102,\n",
      "        107,  47,  35,  76,  35, 122, 114, 120, 111, 103,  35, 117, 104, 112,\n",
      "        108, 113, 103,  35, 119, 107, 104,  35,  75, 114, 120, 118, 104,  47,\n",
      "         35, 108, 118,  35, 120, 113, 103, 104, 117,  35,  87, 120, 117, 110,\n",
      "        108, 118, 107,  35, 114, 102, 102, 120, 115, 100, 119, 108, 114, 113,\n",
      "         47,  35, 107, 100, 118,  35, 117, 104, 105, 120, 118, 104, 103,  35,\n",
      "        119,   1]), tensor([ 80, 100, 103, 100, 112,  35,  83, 117, 104, 118, 108, 103, 104, 113,\n",
      "        119,  47,  35,  76,  35, 122, 114, 120, 111, 103,  35, 111, 108, 110,\n",
      "        104,  35, 119, 114,  35, 103, 117, 100, 122,  35, 124, 114, 120, 117,\n",
      "         35, 100, 119, 119, 104, 113, 119, 108, 114, 113,  35, 119, 114,  35,\n",
      "        119, 107, 104,  35, 105, 100, 102, 119,  35, 119, 107, 100, 119,  35,\n",
      "        119, 107, 104,  35,  70, 114, 120, 113, 102, 108, 111,  35,  48,  35,\n",
      "        113, 114, 119,  35, 105, 114, 117,  35, 119, 107, 104,  35, 105, 108,\n",
      "        117, 118, 119,  35, 119, 108, 112, 104,  47,  35,  76,  35, 112, 108,\n",
      "        106, 107, 119,  35, 100, 103, 103,  35,  48,  35, 107, 100, 118,  35,\n",
      "        102,   1]), tensor([ 87, 107, 104,  35, 115, 114, 108, 113, 119,  35, 101, 104, 108, 113,\n",
      "        106,  35, 119, 107, 100, 119,  35, 122, 104,  35,  80,  72,  83, 118,\n",
      "         35, 107, 100, 121, 104,  35, 119, 107, 104,  35, 114, 115, 115, 114,\n",
      "        117, 119, 120, 113, 108, 119, 124,  47,  35, 114, 113, 102, 104,  35,\n",
      "        100,  35, 112, 114, 113, 119, 107,  47,  35, 119, 114,  35, 118, 120,\n",
      "        101, 112, 108, 119,  35, 100,  35, 122, 117, 108, 119, 119, 104, 113,\n",
      "         35, 116, 120, 104, 118, 119, 108, 114, 113,  47,  35, 105, 114, 117,\n",
      "         35, 115, 117, 108, 114, 117, 108, 119, 124,  35, 102, 114, 113, 118,\n",
      "        108, 103, 104, 117, 100, 119, 108, 114, 113,  35, 122, 107, 108, 102,\n",
      "        107,   1]), tensor([ 81, 114, 122,  35, 122, 107, 100, 119,  35, 122, 104,  35, 100, 117,\n",
      "        104,  35, 105, 108, 113, 103, 108, 113, 106,  35, 108, 118,  35, 119,\n",
      "        107, 100, 119,  35, 108, 113, 102, 117, 104, 100, 118, 108, 113, 106,\n",
      "        111, 124,  35, 114, 105, 119, 104, 113,  47,  35, 119, 107, 104,  35,\n",
      "         70, 114, 120, 113, 102, 108, 111,  35, 108, 118,  35, 105, 100, 108,\n",
      "        111, 108, 113, 106,  35, 119, 114,  35, 110, 104, 104, 115,  35, 119,\n",
      "        114,  35, 119, 107, 108, 118,  35, 119, 108, 112, 104,  35, 118, 102,\n",
      "        100, 111, 104,  49,   1,   0,   0,   0,   0,   0,   0,   0,   0,   0,\n",
      "          0,   0,   0,   0,   0,   0,   0,   0,   0,   0,   0,   0,   0,   0,\n",
      "          0,   0]), tensor([ 75, 104, 117, 104,  35, 108, 118,  35, 119, 107, 104,  35, 111, 100,\n",
      "        119, 104, 118, 119,  35, 104, 123, 100, 112, 115, 111, 104,  61,  35,\n",
      "         76,  35, 118, 120, 101, 112, 108, 119, 119, 104, 103,  35, 100,  35,\n",
      "        116, 120, 104, 118, 119, 108, 114, 113,  35, 108, 113,  35,  82, 102,\n",
      "        119, 114, 101, 104, 117,  47,  35, 119, 114,  35, 122, 107, 108, 102,\n",
      "        107,  35,  76,  35, 107, 100, 121, 104,  35, 113, 114, 119,  35, 117,\n",
      "        104, 102, 104, 108, 121, 104, 103,  35, 100, 113,  35, 100, 113, 118,\n",
      "        122, 104, 117,  35, 119, 114,  35, 119, 107, 108, 118,  35, 103, 100,\n",
      "        124,  47,  35, 113, 100, 112, 104, 111, 124,  35, 122, 107, 104, 113,\n",
      "         35,   1]), tensor([ 87, 107, 108, 118,  35, 108, 118,  35, 113, 114, 119,  35, 100, 113,\n",
      "         35, 108, 118, 114, 111, 100, 119, 104, 103,  35, 102, 100, 118, 104,\n",
      "         47,  35, 117, 100, 119, 107, 104, 117,  35, 118, 120, 102, 107,  35,\n",
      "        108, 113, 118, 119, 100, 113, 102, 104, 118,  35, 100, 117, 104,  35,\n",
      "        112, 114, 120, 113, 119, 108, 113, 106,  35, 120, 115,  49,   1,   0,\n",
      "          0,   0,   0,   0,   0,   0,   0,   0,   0,   0,   0,   0,   0,   0,\n",
      "          0,   0,   0,   0,   0,   0,   0,   0,   0,   0,   0,   0,   0,   0,\n",
      "          0,   0,   0,   0,   0,   0,   0,   0,   0,   0,   0,   0,   0,   0,\n",
      "          0,   0,   0,   0,   0,   0,   0,   0,   0,   0,   0,   0,   0,   0,\n",
      "          0,   0]), tensor([ 76,  35, 122, 114, 120, 111, 103,  35, 120, 117, 106, 104,  35, 124,\n",
      "        114, 120,  35, 119, 114,  35, 115, 117, 104, 118, 118,  35, 119, 107,\n",
      "        104,  35,  70, 114, 120, 113, 102, 108, 111,  35, 119, 114,  35, 114,\n",
      "        101, 118, 104, 117, 121, 104,  35, 119, 107, 104,  35,  85, 120, 111,\n",
      "        104, 118,  35, 114, 105,  35,  83, 117, 114, 102, 104, 103, 120, 117,\n",
      "        104,  49,   1,   0,   0,   0,   0,   0,   0,   0,   0,   0,   0,   0,\n",
      "          0,   0,   0,   0,   0,   0,   0,   0,   0,   0,   0,   0,   0,   0,\n",
      "          0,   0,   0,   0,   0,   0,   0,   0,   0,   0,   0,   0,   0,   0,\n",
      "          0,   0,   0,   0,   0,   0,   0,   0,   0,   0,   0,   0,   0,   0,\n",
      "          0,   0]), tensor([ 80, 100, 103, 100, 112,  35,  83, 117, 104, 118, 108, 103, 104, 113,\n",
      "        119,  47,  35,  76,  35, 119, 100, 110, 104,  35, 119, 107, 104,  35,\n",
      "        105, 111, 114, 114, 117,  35, 108, 113,  35, 114, 117, 103, 104, 117,\n",
      "         35, 119, 114,  35, 115, 114, 108, 113, 119,  35, 114, 120, 119,  35,\n",
      "        124, 104, 119,  35, 100, 106, 100, 108, 113,  35,  48,  35, 107, 100,\n",
      "        121, 108, 113, 106,  35, 122, 117, 108, 119, 119, 104, 113,  35, 119,\n",
      "        114,  35, 124, 114, 120,  35, 117, 104, 115, 104, 100, 119, 104, 103,\n",
      "        111, 124,  35, 114, 113,  35, 119, 107, 104,  35, 112, 100, 119, 119,\n",
      "        104, 117,  35,  48,  35, 119, 107, 100, 119,  35, 105, 114, 117,  35,\n",
      "        112,   1]), tensor([ 90, 104,  35, 100, 111, 111,  35, 110, 113, 114, 122,  35, 122, 107,\n",
      "        100, 119,  35, 100,  35, 103, 100, 117, 110,  35, 103, 100, 124,  35,\n",
      "        108, 119,  35, 122, 100, 118,  35, 105, 114, 117,  35, 119, 107, 104,\n",
      "         35, 122, 107, 114, 111, 104,  35, 114, 105,  35, 112, 100, 113, 110,\n",
      "        108, 113, 103,  35, 122, 107, 104, 113,  35, 119, 107, 104,  35,  87,\n",
      "        120, 117, 110, 108, 118, 107,  35, 112, 108, 111, 108, 119, 100, 117,\n",
      "        124,  35, 100, 113, 103,  35, 115, 114, 111, 108, 102, 104,  35, 105,\n",
      "        114, 117, 102, 104, 118,  35, 101, 117, 120, 119, 100, 111, 111, 124,\n",
      "         35, 108, 113, 121, 100, 103, 104, 103,  35, 119, 107, 104,  35, 115,\n",
      "        117,   1]), tensor([ 87, 107, 104, 124,  35, 110, 108, 111, 111, 104, 103,  35, 115, 104,\n",
      "        114, 115, 111, 104,  49,   1,   0,   0,   0,   0,   0,   0,   0,   0,\n",
      "          0,   0,   0,   0,   0,   0,   0,   0,   0,   0,   0,   0,   0,   0,\n",
      "          0,   0,   0,   0,   0,   0,   0,   0,   0,   0,   0,   0,   0,   0,\n",
      "          0,   0,   0,   0,   0,   0,   0,   0,   0,   0,   0,   0,   0,   0,\n",
      "          0,   0,   0,   0,   0,   0,   0,   0,   0,   0,   0,   0,   0,   0,\n",
      "          0,   0,   0,   0,   0,   0,   0,   0,   0,   0,   0,   0,   0,   0,\n",
      "          0,   0,   0,   0,   0,   0,   0,   0,   0,   0,   0,   0,   0,   0,\n",
      "          0,   0,   0,   0,   0,   0,   0,   0,   0,   0,   0,   0,   0,   0,\n",
      "          0,   0]), tensor([ 87, 107, 104, 124,  35, 105, 108, 117, 104, 103,  35, 114, 113,  35,\n",
      "        115, 117, 108, 118, 114, 113, 104, 117, 118,  49,   1,   0,   0,   0,\n",
      "          0,   0,   0,   0,   0,   0,   0,   0,   0,   0,   0,   0,   0,   0,\n",
      "          0,   0,   0,   0,   0,   0,   0,   0,   0,   0,   0,   0,   0,   0,\n",
      "          0,   0,   0,   0,   0,   0,   0,   0,   0,   0,   0,   0,   0,   0,\n",
      "          0,   0,   0,   0,   0,   0,   0,   0,   0,   0,   0,   0,   0,   0,\n",
      "          0,   0,   0,   0,   0,   0,   0,   0,   0,   0,   0,   0,   0,   0,\n",
      "          0,   0,   0,   0,   0,   0,   0,   0,   0,   0,   0,   0,   0,   0,\n",
      "          0,   0,   0,   0,   0,   0,   0,   0,   0,   0,   0,   0,   0,   0,\n",
      "          0,   0]), tensor([ 87, 107, 104, 124,  35, 101, 117, 120, 119, 100, 111, 111, 124,  35,\n",
      "        100, 119, 119, 100, 102, 110, 104, 103,  35, 119, 107, 104,  35, 105,\n",
      "        100, 112, 108, 111, 108, 104, 118,  35, 114, 105,  35, 115, 114, 111,\n",
      "        108, 119, 108, 102, 100, 111,  35, 115, 117, 108, 118, 114, 113, 104,\n",
      "        117, 118,  35, 115, 117, 114, 119, 104, 118, 119, 108, 113, 106,  35,\n",
      "        114, 120, 119, 118, 108, 103, 104,  35, 119, 107, 104,  35, 109, 100,\n",
      "        108, 111, 118,  35, 100, 113, 103,  35, 111, 108, 110, 104, 122, 108,\n",
      "        118, 104,  35, 114, 113,  35, 107, 120, 113, 106, 104, 117,  35, 118,\n",
      "        119, 117, 108, 110, 104,  49,   1,   0,   0,   0,   0,   0,   0,   0,\n",
      "          0,   0]), tensor([ 76,  35, 119, 107, 108, 113, 110,  35, 119, 107, 100, 119,  35, 108,\n",
      "        119,  35, 108, 118,  35, 122, 117, 114, 113, 106,  35, 119, 107, 100,\n",
      "        119,  35, 113, 104, 108, 119, 107, 104, 117,  35, 122, 104,  35, 113,\n",
      "        114, 117,  35, 119, 107, 104,  35, 101, 120, 117, 104, 100, 120,  35,\n",
      "        107, 100, 121, 104,  35, 100, 118,  35, 124, 104, 119,  35, 115, 117,\n",
      "        114, 119, 104, 118, 119, 104, 103,  35, 100, 106, 100, 108, 113, 118,\n",
      "        119,  35, 119, 107, 108, 118,  35, 118, 108, 119, 120, 100, 119, 108,\n",
      "        114, 113,  35, 108, 113,  35, 118, 119, 117, 114, 113, 106, 104, 117,\n",
      "         47,  35, 112, 114, 117, 104,  35, 102, 100, 119, 104, 106, 114, 117,\n",
      "        108,   1]), tensor([ 86, 114,  35,  76,  35, 100, 118, 110,  47,  35, 104, 121, 104, 113,\n",
      "         35, 113, 114, 122,  47,  35, 119, 107, 100, 119,  35, 124, 114, 120,\n",
      "         35, 117, 100, 108, 118, 104,  35, 124, 114, 120, 117,  35, 121, 114,\n",
      "        108, 102, 104,  35, 100, 113, 103,  35, 112, 100, 110, 104,  35, 114,\n",
      "        120, 117,  35, 118, 124, 112, 115, 100, 119, 107, 108, 104, 118,  35,\n",
      "        110, 113, 114, 122, 113,  49,   1,   0,   0,   0,   0,   0,   0,   0,\n",
      "          0,   0,   0,   0,   0,   0,   0,   0,   0,   0,   0,   0,   0,   0,\n",
      "          0,   0,   0,   0,   0,   0,   0,   0,   0,   0,   0,   0,   0,   0,\n",
      "          0,   0,   0,   0,   0,   0,   0,   0,   0,   0,   0,   0,   0,   0,\n",
      "          0,   0]), tensor([ 80, 100, 103, 100, 112,  35,  83, 117, 104, 118, 108, 103, 104, 113,\n",
      "        119,  47,  35, 122, 108, 119, 107,  35, 119, 107, 104,  35,  81, 104,\n",
      "        122,  35,  92, 104, 100, 117,  35, 122, 104,  35, 107, 100, 121, 104,\n",
      "         35, 111, 104, 100, 117, 113, 104, 103,  35, 119, 107, 117, 114, 120,\n",
      "        106, 107,  35, 119, 107, 104,  35,  86, 115, 100, 113, 108, 118, 107,\n",
      "         35,  69, 114, 111, 104, 119, 198, 176, 113,  35,  82, 105, 108, 102,\n",
      "        108, 100, 111,  35, 103, 104, 111,  35,  72, 118, 119, 100, 103, 114,\n",
      "         35, 119, 107, 100, 119,  35, 104, 111, 104, 121, 104, 113,  35, 115,\n",
      "        114, 111, 108, 102, 104, 112, 104, 113,  35, 100, 113, 103,  35, 119,\n",
      "        107,   1]), tensor([ 73, 104, 122,  35, 102, 100, 118, 104, 118,  35, 114, 105,  35, 119,\n",
      "        114, 117, 119, 120, 117, 104,  35, 100, 117, 104,  35, 100, 103, 112,\n",
      "        108, 119, 119, 104, 103,  35, 101, 124,  35, 119, 107, 104,  35,  86,\n",
      "        115, 100, 113, 108, 118, 107,  35, 102, 114, 120, 117, 119, 118,  49,\n",
      "          1,   0,   0,   0,   0,   0,   0,   0,   0,   0,   0,   0,   0,   0,\n",
      "          0,   0,   0,   0,   0,   0,   0,   0,   0,   0,   0,   0,   0,   0,\n",
      "          0,   0,   0,   0,   0,   0,   0,   0,   0,   0,   0,   0,   0,   0,\n",
      "          0,   0,   0,   0,   0,   0,   0,   0,   0,   0,   0,   0,   0,   0,\n",
      "          0,   0,   0,   0,   0,   0,   0,   0,   0,   0,   0,   0,   0,   0,\n",
      "          0,   0]), tensor([ 82, 113,  35, 119, 107, 104,  35, 102, 114, 113, 119, 117, 100, 117,\n",
      "        124,  47,  35, 112, 100, 113, 124,  35, 114, 105, 105, 108, 102, 108,\n",
      "        100, 111, 118,  35, 100, 117, 104,  35, 115, 117, 114, 112, 114, 119,\n",
      "        104, 103,  35, 101, 104, 102, 100, 120, 118, 104,  35, 114, 105,  35,\n",
      "        118, 120, 102, 107,  35, 100, 102, 119, 108, 121, 108, 119, 108, 104,\n",
      "        118,  49,   1,   0,   0,   0,   0,   0,   0,   0,   0,   0,   0,   0,\n",
      "          0,   0,   0,   0,   0,   0,   0,   0,   0,   0,   0,   0,   0,   0,\n",
      "          0,   0,   0,   0,   0,   0,   0,   0,   0,   0,   0,   0,   0,   0,\n",
      "          0,   0,   0,   0,   0,   0,   0,   0,   0,   0,   0,   0,   0,   0,\n",
      "          0,   0]), tensor([ 76, 113, 118, 108, 103, 104,  35, 119, 107, 104,  35,  72, 120, 117,\n",
      "        114, 115, 104, 100, 113,  35,  88, 113, 108, 114, 113,  35, 119, 107,\n",
      "        100, 119,  35, 108, 118,  35, 118, 108, 112, 115, 111, 124,  35, 113,\n",
      "        114, 119,  35, 119, 114, 111, 104, 117, 100, 101, 111, 104,  49,   1,\n",
      "          0,   0,   0,   0,   0,   0,   0,   0,   0,   0,   0,   0,   0,   0,\n",
      "          0,   0,   0,   0,   0,   0,   0,   0,   0,   0,   0,   0,   0,   0,\n",
      "          0,   0,   0,   0,   0,   0,   0,   0,   0,   0,   0,   0,   0,   0,\n",
      "          0,   0,   0,   0,   0,   0,   0,   0,   0,   0,   0,   0,   0,   0,\n",
      "          0,   0,   0,   0,   0,   0,   0,   0,   0,   0,   0,   0,   0,   0,\n",
      "          0,   0]), tensor([ 76, 119,  35, 108, 118,  35, 108, 113, 102, 120, 112, 101, 104, 113,\n",
      "        119,  35, 120, 115, 114, 113,  35, 120, 118,  35, 119, 114,  35, 115,\n",
      "        117, 104, 118, 118,  35, 119, 107, 104,  35,  86, 115, 100, 113, 108,\n",
      "        118, 107,  35,  74, 114, 121, 104, 117, 113, 112, 104, 113, 119,  35,\n",
      "        114, 113,  35, 119, 107, 108, 118,  35, 108, 118, 118, 120, 104,  49,\n",
      "          1,   0,   0,   0,   0,   0,   0,   0,   0,   0,   0,   0,   0,   0,\n",
      "          0,   0,   0,   0,   0,   0,   0,   0,   0,   0,   0,   0,   0,   0,\n",
      "          0,   0,   0,   0,   0,   0,   0,   0,   0,   0,   0,   0,   0,   0,\n",
      "          0,   0,   0,   0,   0,   0,   0,   0,   0,   0,   0,   0,   0,   0,\n",
      "          0,   0]), tensor([ 76,  35, 122, 114, 120, 111, 103,  35, 120, 117, 106, 104,  35, 119,\n",
      "        107, 108, 118,  35,  83, 100, 117, 111, 108, 100, 112, 104, 113, 119,\n",
      "         35, 119, 114,  35, 108, 118, 118, 120, 104,  35, 100,  35, 103, 104,\n",
      "        102, 111, 100, 117, 100, 119, 108, 114, 113,  35, 108, 113,  35, 119,\n",
      "        107, 104,  35, 102, 111, 104, 100, 117, 104, 118, 119,  35, 115, 114,\n",
      "        118, 118, 108, 101, 111, 104,  35, 119, 104, 117, 112, 118,  35, 119,\n",
      "        114,  35, 118, 107, 114, 122,  35, 114, 120, 117,  35, 118, 119, 104,\n",
      "        100, 103, 105, 100, 118, 119,  35, 114, 115, 115, 114, 118, 108, 119,\n",
      "        108, 114, 113,  35, 119, 114,  35, 119, 114, 117, 119, 120, 117, 104,\n",
      "         49,   1]), tensor([ 76,  35, 100, 112,  35, 118, 120, 117, 104,  35, 119, 107, 100, 119,\n",
      "         35, 124, 114, 120,  35, 122, 108, 111, 111,  35, 122, 100, 113, 119,\n",
      "         35, 119, 114,  35, 117, 104, 118, 115, 114, 113, 103,  35, 105, 120,\n",
      "        111, 111, 124,  35, 100, 113, 103,  35, 117, 100, 115, 108, 103, 111,\n",
      "        124,  35, 119, 114,  35, 119, 107, 108, 118,  35, 102, 114, 113, 102,\n",
      "        104, 117, 113,  49,   1,   0,   0,   0,   0,   0,   0,   0,   0,   0,\n",
      "          0,   0,   0,   0,   0,   0,   0,   0,   0,   0,   0,   0,   0,   0,\n",
      "          0,   0,   0,   0,   0,   0,   0,   0,   0,   0,   0,   0,   0,   0,\n",
      "          0,   0,   0,   0,   0,   0,   0,   0,   0,   0,   0,   0,   0,   0,\n",
      "          0,   0]), tensor([ 80, 100, 103, 100, 112,  35,  83, 117, 104, 118, 108, 103, 104, 113,\n",
      "        119,  47,  35, 107, 100, 118,  35, 108, 119,  35, 101, 104, 104, 113,\n",
      "         35, 101, 117, 114, 120, 106, 107, 119,  35, 119, 114,  35, 124, 114,\n",
      "        120, 117,  35, 100, 119, 119, 104, 113, 119, 108, 114, 113,  35, 119,\n",
      "        107, 100, 119,  35, 119, 107, 104,  35,  80, 104, 112, 101, 104, 117,\n",
      "        118,  42,  35, 117, 104, 106, 108, 118, 119, 104, 117,  35, 114, 105,\n",
      "         35, 108, 113, 119, 104, 117, 104, 118, 119, 118,  35, 122, 100, 118,\n",
      "         35, 111, 100, 118, 119,  35, 122, 104, 104, 110,  35, 115, 120, 101,\n",
      "        111, 108, 118, 107, 104, 103,  35, 114, 113,  35, 100, 113,  35,  76,\n",
      "        113,   1]), tensor([ 87, 107, 108, 118,  35, 122, 100, 118,  35, 113, 114, 119,  35, 119,\n",
      "        107, 104,  35, 117, 104, 118, 120, 111, 119,  35, 114, 105,  35,  83,\n",
      "        100, 117, 111, 108, 100, 112, 104, 113, 119,  35, 115, 120, 119, 119,\n",
      "        108, 113, 106,  35, 108, 113, 119, 114,  35, 115, 117, 100, 102, 119,\n",
      "        108, 102, 104,  35, 119, 107, 104,  35, 115, 117, 108, 113, 102, 108,\n",
      "        115, 111, 104, 118,  35, 114, 105,  35, 119, 117, 100, 113, 118, 115,\n",
      "        100, 117, 104, 113, 102, 124,  35, 100, 113, 103,  35, 114, 115, 104,\n",
      "        113, 113, 104, 118, 118,  47,  35, 101, 120, 119,  35, 105, 114, 111,\n",
      "        111, 114, 122, 118,  35, 119, 107, 104,  35, 102, 114, 115, 124, 108,\n",
      "        113,   1]), tensor([ 81, 114, 122,  35, 119, 107, 100, 119,  35, 119, 107, 104,  35, 117,\n",
      "        104, 102, 114, 117, 103, 118,  35, 107, 100, 121, 104,  35, 101, 104,\n",
      "        104, 113,  35, 115, 120, 119,  35, 108, 113, 119, 114,  35, 119, 107,\n",
      "        104,  35, 115, 120, 101, 111, 108, 102,  35, 103, 114, 112, 100, 108,\n",
      "        113,  47,  35, 122, 108, 111, 111,  35, 124, 114, 120,  35, 100, 103,\n",
      "        121, 108, 118, 104,  35, 100, 111, 111,  35, 102, 114, 113, 102, 104,\n",
      "        117, 113, 104, 103,  35, 113, 114, 119,  35, 119, 114,  35, 100, 111,\n",
      "        111, 114, 122,  35,  83, 100, 117, 111, 108, 100, 112, 104, 113, 119,\n",
      "         35, 119, 114,  35, 102, 114, 113, 119, 108, 113, 120, 104,  35, 111,\n",
      "        114,   1]), tensor([ 80, 100, 103, 100, 112,  35,  83, 117, 104, 118, 108, 103, 104, 113,\n",
      "        119,  47,  35,  76,  35, 100, 111, 118, 114,  35, 117, 104, 106, 117,\n",
      "        104, 119,  35, 119, 107, 100, 119,  35, 100,  35,  69, 117, 108, 119,\n",
      "        108, 118, 107,  35, 102, 114, 112, 104, 103, 124,  35, 115, 117, 114,\n",
      "        106, 117, 100, 112, 112, 104,  35, 118, 114, 120, 106, 107, 119,  35,\n",
      "        119, 114,  35, 112, 100, 110, 104,  35, 111, 108, 106, 107, 119,  35,\n",
      "        114, 105,  35,  83, 100, 117, 111, 108, 100, 112, 104, 113, 119,  35,\n",
      "        100, 113, 103,  35, 122, 114, 120, 111, 103,  35, 115, 114, 108, 113,\n",
      "        119,  35, 114, 120, 119,  35, 119, 107, 100, 119,  35, 112, 124,  35,\n",
      "        114,   1]), tensor([ 76, 119,  35, 117, 104, 112, 100, 108, 113, 118,  35, 114, 115, 104,\n",
      "        113,  35, 119, 114,  35,  80, 117,  35,  71, 100, 121, 108, 104, 118,\n",
      "         42,  35, 106, 117, 114, 120, 115,  35, 119, 114,  35, 105, 114, 111,\n",
      "        111, 114, 122,  35, 118, 120, 108, 119,  35, 100, 113, 103,  35, 105,\n",
      "        114, 111, 111, 114, 122,  35, 114, 120, 117,  35, 111, 104, 100, 103,\n",
      "         35, 108, 113,  35, 115, 120, 119, 119, 108, 113, 106,  35, 119, 107,\n",
      "        104,  35, 117, 104, 106, 108, 118, 119, 104, 117,  35, 114, 105,  35,\n",
      "        108, 113, 119, 104, 117, 104, 118, 119, 118,  35, 114, 113,  35, 119,\n",
      "        107, 104,  35,  76, 113, 119, 104, 117, 113, 104, 119,  49,   1,   0,\n",
      "          0,   0]), tensor([ 76, 113,  35, 119, 107, 104,  35, 112, 104, 100, 113, 119, 108, 112,\n",
      "        104,  47,  35,  76,  35, 100, 106, 117, 104, 104,  35, 122, 108, 119,\n",
      "        107,  35, 107, 108, 112,  49,   1,   0,   0,   0,   0,   0,   0,   0,\n",
      "          0,   0,   0,   0,   0,   0,   0,   0,   0,   0,   0,   0,   0,   0,\n",
      "          0,   0,   0,   0,   0,   0,   0,   0,   0,   0,   0,   0,   0,   0,\n",
      "          0,   0,   0,   0,   0,   0,   0,   0,   0,   0,   0,   0,   0,   0,\n",
      "          0,   0,   0,   0,   0,   0,   0,   0,   0,   0,   0,   0,   0,   0,\n",
      "          0,   0,   0,   0,   0,   0,   0,   0,   0,   0,   0,   0,   0,   0,\n",
      "          0,   0,   0,   0,   0,   0,   0,   0,   0,   0,   0,   0,   0,   0,\n",
      "          0,   0]), tensor([ 76,  35, 119, 107, 108, 113, 110,  35, 119, 107, 104,  35, 118, 114,\n",
      "        114, 113, 104, 117,  35, 119, 107, 108, 118,  35, 108, 118,  35, 114,\n",
      "        113,  35, 119, 107, 104,  35,  76, 113, 119, 104, 117, 113, 104, 119,\n",
      "         47,  35, 119, 107, 104,  35, 101, 104, 119, 119, 104, 117,  49,   1,\n",
      "          0,   0,   0,   0,   0,   0,   0,   0,   0,   0,   0,   0,   0,   0,\n",
      "          0,   0,   0,   0,   0,   0,   0,   0,   0,   0,   0,   0,   0,   0,\n",
      "          0,   0,   0,   0,   0,   0,   0,   0,   0,   0,   0,   0,   0,   0,\n",
      "          0,   0,   0,   0,   0,   0,   0,   0,   0,   0,   0,   0,   0,   0,\n",
      "          0,   0,   0,   0,   0,   0,   0,   0,   0,   0,   0,   0,   0,   0,\n",
      "          0,   0]), tensor([ 76, 119,  35, 108, 118,  35, 100,  35, 112, 100, 119, 119, 104, 117,\n",
      "         35, 114, 105,  35, 115, 120, 101, 111, 108, 102,  35, 117, 104, 102,\n",
      "        114, 117, 103,  49,   1,   0,   0,   0,   0,   0,   0,   0,   0,   0,\n",
      "          0,   0,   0,   0,   0,   0,   0,   0,   0,   0,   0,   0,   0,   0,\n",
      "          0,   0,   0,   0,   0,   0,   0,   0,   0,   0,   0,   0,   0,   0,\n",
      "          0,   0,   0,   0,   0,   0,   0,   0,   0,   0,   0,   0,   0,   0,\n",
      "          0,   0,   0,   0,   0,   0,   0,   0,   0,   0,   0,   0,   0,   0,\n",
      "          0,   0,   0,   0,   0,   0,   0,   0,   0,   0,   0,   0,   0,   0,\n",
      "          0,   0,   0,   0,   0,   0,   0,   0,   0,   0,   0,   0,   0,   0,\n",
      "          0,   0]), tensor([ 87, 107, 104, 117, 104,  35, 108, 118,  35, 113, 114,  35, 117, 104,\n",
      "        100, 118, 114, 113,  35, 122, 107, 124,  35, 108, 119,  35, 118, 107,\n",
      "        114, 120, 111, 103,  35, 101, 104,  35, 110, 104, 115, 119,  35, 118,\n",
      "        104, 102, 117, 104, 119,  49,   1,   0,   0,   0,   0,   0,   0,   0,\n",
      "          0,   0,   0,   0,   0,   0,   0,   0,   0,   0,   0,   0,   0,   0,\n",
      "          0,   0,   0,   0,   0,   0,   0,   0,   0,   0,   0,   0,   0,   0,\n",
      "          0,   0,   0,   0,   0,   0,   0,   0,   0,   0,   0,   0,   0,   0,\n",
      "          0,   0,   0,   0,   0,   0,   0,   0,   0,   0,   0,   0,   0,   0,\n",
      "          0,   0,   0,   0,   0,   0,   0,   0,   0,   0,   0,   0,   0,   0,\n",
      "          0,   0]), tensor([ 90, 104,  35, 113, 104, 104, 103,  35, 119, 114,  35, 107, 100, 121,\n",
      "        104,  35, 102, 111, 104, 100, 117, 104, 117,  35, 103, 104, 105, 108,\n",
      "        113, 108, 119, 108, 114, 113, 118,  35, 114, 105,  35, 122, 107, 100,\n",
      "        119,  35, 108, 118,  35, 106, 114, 108, 113, 106,  35, 114, 113,  49,\n",
      "          1,   0,   0,   0,   0,   0,   0,   0,   0,   0,   0,   0,   0,   0,\n",
      "          0,   0,   0,   0,   0,   0,   0,   0,   0,   0,   0,   0,   0,   0,\n",
      "          0,   0,   0,   0,   0,   0,   0,   0,   0,   0,   0,   0,   0,   0,\n",
      "          0,   0,   0,   0,   0,   0,   0,   0,   0,   0,   0,   0,   0,   0,\n",
      "          0,   0,   0,   0,   0,   0,   0,   0,   0,   0,   0,   0,   0,   0,\n",
      "          0,   0]), tensor([ 76, 112, 115, 117, 114, 121, 104, 103,  35, 118, 104, 111, 104, 102,\n",
      "        119, 108, 114, 113,  35, 100, 119,  35, 119, 107, 104,  35, 112, 114,\n",
      "        112, 104, 113, 119,  35, 118, 104, 104, 112, 118,  35, 119, 114,  35,\n",
      "        101, 104,  35, 105, 100, 108, 117, 111, 124,  35, 117, 100, 113, 103,\n",
      "        114, 112,  35, 100, 113, 103,  35, 122, 104,  35, 113, 104, 104, 103,\n",
      "         35, 118, 114, 112, 104,  35, 102, 111, 104, 100, 117,  35, 106, 120,\n",
      "        108, 103, 104, 111, 108, 113, 104, 118,  35, 105, 114, 117,  35, 119,\n",
      "        107, 104,  35, 114, 115, 104, 117, 100, 119, 108, 114, 113,  35, 114,\n",
      "        105,  35, 119, 107, 104,  35, 112, 100, 113, 100, 106, 104, 112, 104,\n",
      "        113,   1]), tensor([ 80, 100, 113, 124,  35, 114, 105,  35, 119, 107, 104,  35, 117, 104,\n",
      "        102, 114, 112, 112, 104, 113, 103, 100, 119, 108, 114, 113, 118,  35,\n",
      "        100, 117, 104,  35, 113, 114, 119,  35, 108, 112, 115, 111, 104, 112,\n",
      "        104, 113, 119, 104, 103,  35, 100, 119,  35, 100, 111, 111,  35, 100,\n",
      "        113, 103,  35, 112, 100, 113, 124,  35, 107, 100, 121, 104,  35, 119,\n",
      "        114,  35, 122, 100, 108, 119,  35, 102, 114, 113, 118, 108, 103, 104,\n",
      "        117, 100, 101, 111, 104,  35, 115, 104, 117, 108, 114, 103, 118,  35,\n",
      "        114, 105,  35, 119, 108, 112, 104,  49,   1,   0,   0,   0,   0,   0,\n",
      "          0,   0,   0,   0,   0,   0,   0,   0,   0,   0,   0,   0,   0,   0,\n",
      "          0,   0]), tensor([ 86, 114,  35, 122, 104,  35, 100, 117, 104,  35, 108, 113,  35, 105,\n",
      "        100, 121, 114, 120, 117,  47,  35, 101, 120, 119,  35, 119, 107, 104,\n",
      "        117, 104,  35, 100, 117, 104,  35, 119, 122, 114,  35, 119, 107, 108,\n",
      "        113, 106, 118,  35, 122, 104,  35, 122, 100, 113, 119,  35, 119, 114,\n",
      "         35, 100, 103, 103,  49,   1,   0,   0,   0,   0,   0,   0,   0,   0,\n",
      "          0,   0,   0,   0,   0,   0,   0,   0,   0,   0,   0,   0,   0,   0,\n",
      "          0,   0,   0,   0,   0,   0,   0,   0,   0,   0,   0,   0,   0,   0,\n",
      "          0,   0,   0,   0,   0,   0,   0,   0,   0,   0,   0,   0,   0,   0,\n",
      "          0,   0,   0,   0,   0,   0,   0,   0,   0,   0,   0,   0,   0,   0,\n",
      "          0,   0]), tensor([ 73, 108, 117, 118, 119, 111, 124,  47,  35, 122, 104,  35, 107, 100,\n",
      "        121, 104,  35, 119, 114,  35, 104, 113, 118, 120, 117, 104,  35, 119,\n",
      "        107, 100, 119,  35, 115, 114, 111, 108, 119, 108, 102, 100, 111,  35,\n",
      "        102, 114, 113, 119, 117, 114, 111,  35, 117, 104, 112, 100, 108, 113,\n",
      "        118,  35, 122, 108, 119, 107,  35, 119, 107, 104,  35,  70, 114, 112,\n",
      "        112, 108, 118, 118, 108, 114, 113,  35, 100, 113, 103,  35,  83, 100,\n",
      "        117, 111, 108, 100, 112, 104, 113, 119,  49,   1,   0,   0,   0,   0,\n",
      "          0,   0,   0,   0,   0,   0,   0,   0,   0,   0,   0,   0,   0,   0,\n",
      "          0,   0,   0,   0,   0,   0,   0,   0,   0,   0,   0,   0,   0,   0,\n",
      "          0,   0]), tensor([ 85, 104, 102, 104, 113, 119,  35, 115, 117, 104, 118, 118,  35, 117,\n",
      "        104, 115, 114, 117, 119, 118,  35, 114, 113,  35, 119, 107, 104,  35,\n",
      "        113, 104, 122,  35, 100, 115, 115, 117, 114, 100, 102, 107,  35, 119,\n",
      "        114,  35, 111, 104, 106, 108, 118, 111, 100, 119, 108, 114, 113,  35,\n",
      "        103, 100, 119, 108, 113, 106,  35, 105, 117, 114, 112,  35, 119, 107,\n",
      "        104,  35,  52,  60,  59,  51, 118,  35, 100, 113, 103,  35,  42,  60,\n",
      "         51, 118,  35,  48,  35, 113, 114, 119,  35, 118, 114,  35, 113, 104,\n",
      "        122,  35, 113, 114, 122,  35,  48,  35, 122, 107, 108, 102, 107,  35,\n",
      "        100, 111, 111, 114, 122, 104, 103,  35, 119, 107, 104,  35, 103, 104,\n",
      "        119,   1]), tensor([ 87, 107, 104,  35,  72, 120, 117, 114, 115, 104, 100, 113,  35,  70,\n",
      "        114, 112, 112, 108, 119, 119, 104, 104,  35, 105, 114, 117,  35,  86,\n",
      "        119, 100, 113, 103, 100, 117, 103, 108, 118, 100, 119, 108, 114, 113,\n",
      "         47,  35, 105, 114, 117,  35, 104, 123, 100, 112, 115, 111, 104,  47,\n",
      "         35, 117, 104, 102, 104, 113, 119, 111, 124,  35, 103, 108, 103,  35,\n",
      "        122, 114, 117, 110,  35, 114, 113,  35, 119, 107, 104,  35, 115, 100,\n",
      "        102, 110, 100, 106, 108, 113, 106,  35, 114, 105,  35, 122, 100, 118,\n",
      "        119, 104,  35, 103, 108, 117, 104, 102, 119, 108, 121, 104,  47,  35,\n",
      "        122, 107, 108, 102, 107,  35, 119, 107, 104,  35, 115, 117, 104, 118,\n",
      "        118,   1]), tensor([ 86, 114,  35, 122, 104,  35, 113, 104, 104, 103,  35, 119, 114,  35,\n",
      "        104, 113, 118, 120, 117, 104,  35, 119, 107, 100, 119,  35, 119, 107,\n",
      "        104, 117, 104,  35, 108, 118,  35, 115, 114, 111, 108, 119, 108, 102,\n",
      "        100, 111,  35, 102, 114, 113, 119, 117, 114, 111,  35, 119, 107, 104,\n",
      "        117, 104,  47,  35, 120, 113, 111, 104, 118, 118,  35, 114, 105,  35,\n",
      "        102, 114, 120, 117, 118, 104,  35, 119, 107, 104, 117, 104,  35, 100,\n",
      "        117, 104,  35, 118, 119, 117, 114, 113, 106,  35, 115, 114, 111, 108,\n",
      "        119, 108, 102, 100, 111,  35, 114, 117,  35, 102, 114, 113, 118, 120,\n",
      "        112, 104, 117,  35, 115, 117, 104, 118, 118, 120, 117, 104, 118,  35,\n",
      "        119,   1]), tensor([ 75, 114, 122, 104, 121, 104, 117,  47,  35, 122, 104,  35, 122, 114,\n",
      "        120, 111, 103,  35, 100, 111, 118, 114,  35, 122, 108, 118, 107,  35,\n",
      "        119, 114,  35, 106, 114,  35, 105, 120, 117, 119, 107, 104, 117,  35,\n",
      "        108, 113,  35, 100,  35, 103, 108, 105, 105, 104, 117, 104, 113, 119,\n",
      "         35, 103, 108, 117, 104, 102, 119, 108, 114, 113,  49,   1,   0,   0,\n",
      "          0,   0,   0,   0,   0,   0,   0,   0,   0,   0,   0,   0,   0,   0,\n",
      "          0,   0,   0,   0,   0,   0,   0,   0,   0,   0,   0,   0,   0,   0,\n",
      "          0,   0,   0,   0,   0,   0,   0,   0,   0,   0,   0,   0,   0,   0,\n",
      "          0,   0,   0,   0,   0,   0,   0,   0,   0,   0,   0,   0,   0,   0,\n",
      "          0,   0]), tensor([ 86,  79,  76,  80,  35, 118, 104, 104, 112, 118,  35, 119, 114,  35,\n",
      "        107, 100, 121, 104,  35, 101, 104, 102, 114, 112, 104,  35, 105, 120,\n",
      "        113, 103, 100, 112, 104, 113, 119, 100, 111, 111, 124,  35, 100, 101,\n",
      "        114, 120, 119,  35, 118, 108, 112, 115, 111, 108, 105, 108, 102, 100,\n",
      "        119, 108, 114, 113,  47,  35, 104, 121, 104, 113,  35, 119, 107, 114,\n",
      "        120, 106, 107,  35, 108, 113,  35, 119, 107, 104,  35, 114, 117, 108,\n",
      "        106, 108, 113, 100, 111,  35, 115, 117, 114, 115, 114, 118, 100, 111,\n",
      "        118,  35, 122, 104,  35, 119, 100, 111, 110, 104, 103,  35, 100, 101,\n",
      "        114, 120, 119,  35, 111, 108, 112, 108, 119, 108, 113, 106,  35, 102,\n",
      "        114,   1]), tensor([ 90, 107, 100, 119,  35, 122, 104,  35, 122, 114, 120, 111, 103,  35,\n",
      "        111, 108, 110, 104,  35, 119, 114,  35, 118, 104, 104,  35, 100, 117,\n",
      "        104,  35, 115, 117, 114, 115, 114, 118, 100, 111, 118,  35, 105, 114,\n",
      "        117,  35, 103, 104, 100, 111, 108, 113, 106,  35, 122, 108, 119, 107,\n",
      "         35, 104, 102, 114, 113, 114, 112, 124,  35, 114, 105,  35, 111, 104,\n",
      "        106, 108, 118, 111, 100, 119, 108, 114, 113,  35, 100, 118,  35, 122,\n",
      "        104, 111, 111,  35, 100, 118,  35, 118, 108, 112, 115, 111, 108, 102,\n",
      "        108, 119, 124,  49,   1,   0,   0,   0,   0,   0,   0,   0,   0,   0,\n",
      "          0,   0,   0,   0,   0,   0,   0,   0,   0,   0,   0,   0,   0,   0,\n",
      "          0,   0]), tensor([ 90, 104,  35, 119, 107, 104, 117, 104, 105, 114, 117, 104,  35, 122,\n",
      "        104, 111, 102, 114, 112, 104,  35, 119, 107, 104,  35, 115, 117, 114,\n",
      "        115, 114, 118, 100, 111, 118,  35, 105, 117, 114, 112,  35,  79, 108,\n",
      "        118, 101, 114, 113,  35, 105, 114, 117,  35, 101, 104, 119, 119, 104,\n",
      "        117,  35, 117, 104, 106, 120, 111, 100, 119, 108, 114, 113,  47,  35,\n",
      "        122, 107, 108, 102, 107,  35, 122, 108, 111, 111,  35, 111, 114, 114,\n",
      "        110,  35, 100, 119,  35, 119, 107, 104,  35, 102, 114, 118, 119, 118,\n",
      "         35, 114, 105,  35, 111, 104, 106, 108, 118, 111, 100, 119, 108, 114,\n",
      "        113,  62,  35, 122, 104,  35, 122, 104, 111, 102, 114, 112, 104,  35,\n",
      "        119,   1]), tensor([ 90, 104,  35, 122, 104, 111, 102, 114, 112, 104,  35, 119, 107, 104,\n",
      "         35, 105, 100, 102, 119,  35, 119, 107, 100, 119,  35,  70, 114, 112,\n",
      "        112, 108, 118, 118, 108, 114, 113, 104, 117, 118,  35,  69, 114, 111,\n",
      "        110, 104, 118, 119, 104, 108, 113,  35, 100, 113, 103,  35,  79, 108,\n",
      "        108, 110, 100, 113, 104, 113,  35, 100, 117, 104,  35, 111, 114, 114,\n",
      "        110, 108, 113, 106,  35, 100, 119,  35, 121, 100, 117, 108, 114, 120,\n",
      "        118,  35, 115, 108, 111, 114, 119,  35, 115, 117, 114, 109, 104, 102,\n",
      "        119, 118,  35, 108, 113,  35, 119, 107, 108, 118,  35, 100, 117, 104,\n",
      "        100,  49,   1,   0,   0,   0,   0,   0,   0,   0,   0,   0,   0,   0,\n",
      "          0,   0]), tensor([ 75, 114, 122, 104, 121, 104, 117,  47,  35, 119, 107, 104,  35,  70,\n",
      "        114, 112, 112, 108, 118, 118, 108, 114, 113,  35, 100, 113, 103,  35,\n",
      "         83, 100, 117, 111, 108, 100, 112, 104, 113, 119,  35, 122, 108, 111,\n",
      "        111,  35, 107, 100, 121, 104,  35, 119, 114,  35, 101, 104, 106, 108,\n",
      "        113,  35, 119, 114,  35, 100, 102, 119,  35, 114, 113,  35, 119, 107,\n",
      "        104, 108, 117,  35, 114, 122, 113,  35, 117, 120, 111, 104, 118,  35,\n",
      "        108, 113,  35, 111, 114, 114, 110, 108, 113, 106,  35, 100, 119,  35,\n",
      "        119, 107, 104,  35, 105, 108, 113, 100, 113, 102, 108, 100, 111,  35,\n",
      "        108, 112, 115, 111, 108, 102, 100, 119, 108, 114, 113, 118,  35, 114,\n",
      "        105,   1]), tensor([ 76, 119,  35, 102, 100, 113,  35, 114, 113, 111, 124,  35, 103, 104,\n",
      "        121, 100, 111, 120, 104,  35, 114, 120, 117,  35, 122, 114, 117, 110,\n",
      "         35, 108, 113,  35, 119, 107, 104,  35,  72, 120, 117, 114, 115, 104,\n",
      "        100, 113,  35,  83, 100, 117, 111, 108, 100, 112, 104, 113, 119,  35,\n",
      "        108, 105,  35, 102, 111, 100, 108, 112, 118,  35, 102, 100, 113,  35,\n",
      "        101, 104,  35, 112, 100, 103, 104,  47,  35, 105, 114, 117,  35, 104,\n",
      "        123, 100, 112, 115, 111, 104,  47,  35, 119, 107, 100, 119,  35, 119,\n",
      "        107, 104,  35, 104, 113, 103,  48, 114, 105,  48, 121, 104, 107, 108,\n",
      "        102, 111, 104,  48, 111, 108, 105, 104,  35, 103, 108, 117, 104, 102,\n",
      "        119,   1]), tensor([ 90, 107, 108, 111, 104,  35, 118, 120, 102, 107,  35, 102, 111, 100,\n",
      "        108, 112, 118,  35, 102, 100, 113,  35, 101, 104,  35, 112, 100, 103,\n",
      "        104,  47,  35, 114, 101, 121, 108, 114, 120, 118, 111, 124,  35, 122,\n",
      "        104,  35, 108, 113,  35, 119, 107, 108, 118,  35,  83, 100, 117, 111,\n",
      "        108, 100, 112, 104, 113, 119,  35, 122, 108, 111, 111,  35, 111, 114,\n",
      "        114, 110,  35, 117, 100, 119, 107, 104, 117,  35, 111, 120, 103, 108,\n",
      "        102, 117, 114, 120, 118,  49,   1,   0,   0,   0,   0,   0,   0,   0,\n",
      "          0,   0,   0,   0,   0,   0,   0,   0,   0,   0,   0,   0,   0,   0,\n",
      "          0,   0,   0,   0,   0,   0,   0,   0,   0,   0,   0,   0,   0,   0,\n",
      "          0,   0]), tensor([ 80, 117,  35,  83, 117, 104, 118, 108, 103, 104, 113, 119,  47,  35,\n",
      "         76,  35, 122, 114, 120, 111, 103,  35, 121, 104, 117, 124,  35, 112,\n",
      "        120, 102, 107,  35, 111, 108, 110, 104,  35, 119, 114,  35, 102, 114,\n",
      "        113, 106, 117, 100, 119, 120, 111, 100, 119, 104,  35, 119, 107, 104,\n",
      "         35, 117, 100, 115, 115, 114, 117, 119, 104, 120, 117,  47,  35,  80,\n",
      "        117,  35,  71, 114, 114, 117, 113,  47,  35, 114, 113,  35, 119, 107,\n",
      "        108, 118,  35, 115, 100, 117, 119, 108, 102, 120, 111, 100, 117, 111,\n",
      "        124,  35, 102, 114, 113, 118, 119, 117, 120, 102, 119, 108, 121, 104,\n",
      "         35, 100, 113, 103,  35, 122, 104, 111, 111,  48, 101, 100, 111, 100,\n",
      "        113,   1]), tensor([ 76, 119,  35, 120, 113, 103, 104, 117, 111, 108, 113, 104, 118,  35,\n",
      "        119, 107, 104,  35, 113, 104, 104, 103,  35, 105, 114, 117,  35, 118,\n",
      "        119, 104, 115, 115, 108, 113, 106,  35, 120, 115,  35, 114, 120, 117,\n",
      "         35, 109, 114, 108, 113, 119,  35, 104, 105, 105, 114, 117, 119, 118,\n",
      "         35, 108, 113,  35, 114, 117, 103, 104, 117,  35, 119, 114,  35, 108,\n",
      "        112, 115, 117, 114, 121, 104,  35, 119, 107, 104,  35, 116, 120, 100,\n",
      "        111, 108, 119, 124,  35, 114, 105,  35, 113, 104, 122,  35, 100, 113,\n",
      "        103,  35, 104, 123, 108, 118, 119, 108, 113, 106,  35,  70, 114, 112,\n",
      "        112, 120, 113, 108, 119, 124,  35, 111, 104, 106, 108, 118, 111, 100,\n",
      "        119,   1]), tensor([ 76,  35, 119, 107, 104, 117, 104, 105, 114, 117, 104,  35, 122, 104,\n",
      "        111, 102, 114, 112, 104,  35, 119, 107, 104,  35, 118, 120, 115, 115,\n",
      "        114, 117, 119,  35, 111, 104, 113, 119,  35, 119, 114,  35, 119, 107,\n",
      "        104,  35,  86,  79,  76,  80,  35, 108, 113, 108, 119, 108, 100, 119,\n",
      "        108, 121, 104,  47,  35, 100, 118,  35, 122, 104, 111, 111,  35, 100,\n",
      "        118,  35, 119, 107, 104,  35, 118, 120, 115, 115, 114, 117, 119,  35,\n",
      "        118, 107, 114, 122, 113,  35, 101, 124,  35, 119, 107, 108, 118,  35,\n",
      "         83, 100, 117, 111, 108, 100, 112, 104, 113, 119,  49,   1,   0,   0,\n",
      "          0,   0,   0,   0,   0,   0,   0,   0,   0,   0,   0,   0,   0,   0,\n",
      "          0,   0]), tensor([ 82, 120, 117,  35, 117, 104, 121, 108, 104, 122,  35, 114, 105,  35,\n",
      "        119, 107, 104,  35,  86,  79,  76,  80,  35, 108, 113, 108, 119, 108,\n",
      "        100, 119, 108, 121, 104,  35, 100, 113, 103,  35, 119, 107, 108, 118,\n",
      "         35, 117, 104, 115, 114, 117, 119,  35, 107, 100, 121, 104,  35, 103,\n",
      "        104, 112, 114, 113, 118, 119, 117, 100, 119, 104, 103,  35, 122, 107,\n",
      "        104, 117, 104,  35, 100, 113, 103,  35, 107, 114, 122,  35, 119, 107,\n",
      "        104,  35, 108, 113, 108, 119, 108, 100, 119, 108, 121, 104,  35, 102,\n",
      "        100, 113,  35, 101, 104,  35, 108, 112, 115, 117, 114, 121, 104, 103,\n",
      "         49,   1,   0,   0,   0,   0,   0,   0,   0,   0,   0,   0,   0,   0,\n",
      "          0,   0]), tensor([ 70, 114, 113, 118, 104, 116, 120, 104, 113, 119, 111, 124,  47,  35,\n",
      "        108, 113,  35, 119, 100, 113, 103, 104, 112,  35, 122, 108, 119, 107,\n",
      "         35, 119, 107, 104,  35, 117, 104, 115, 117, 104, 118, 104, 113, 119,\n",
      "        100, 119, 108, 121, 104, 118,  35, 114, 105,  35, 119, 107, 104,  35,\n",
      "         80, 104, 112, 101, 104, 117,  35,  86, 119, 100, 119, 104, 118,  47,\n",
      "         35, 122, 104,  35, 100, 117, 104,  47,  35, 108, 113,  35, 119, 107,\n",
      "        108, 118,  35, 102, 114, 113, 113, 104, 102, 119, 108, 114, 113,  47,\n",
      "         35, 111, 114, 114, 110, 108, 113, 106,  35, 105, 114, 117, 122, 100,\n",
      "        117, 103,  35, 119, 114,  35, 112, 100, 110, 108, 113, 106,  35, 100,\n",
      "        113,   1]), tensor([ 90, 108, 119, 107,  35, 119, 107, 104,  35, 105, 108, 105, 119, 107,\n",
      "         35, 100, 113, 103,  35, 118, 120, 101, 118, 104, 116, 120, 104, 113,\n",
      "        119,  35, 118, 119, 100, 106, 104, 118,  35, 114, 105,  35, 119, 107,\n",
      "        104,  35,  86,  79,  76,  80,  35, 108, 113,  35, 112, 108, 113, 103,\n",
      "         47,  35, 122, 104,  35, 100, 117, 104,  35, 102, 120, 117, 117, 104,\n",
      "        113, 119, 111, 124,  35, 102, 114, 113, 118, 108, 103, 104, 117, 108,\n",
      "        113, 106,  35, 118, 120, 106, 106, 104, 118, 119, 108, 114, 113, 118,\n",
      "         35, 122, 108, 119, 107,  35, 117, 104, 106, 100, 117, 103,  35, 119,\n",
      "        114,  35, 118, 104, 102, 119, 114, 117, 118,  35, 122, 107, 108, 102,\n",
      "        107,   1]), tensor([ 68, 113, 124,  35, 118, 120, 106, 106, 104, 118, 119, 108, 114, 113,\n",
      "        118,  35, 108, 113,  35, 119, 107, 108, 118,  35, 102, 114, 113, 113,\n",
      "        104, 102, 119, 108, 114, 113,  35, 105, 117, 114, 112,  35, 119, 107,\n",
      "        108, 118,  35,  83, 100, 117, 111, 108, 100, 112, 104, 113, 119,  35,\n",
      "        100, 117, 104,  47,  35, 114, 105,  35, 102, 114, 120, 117, 118, 104,\n",
      "         47,  35, 122, 104, 111, 102, 114, 112, 104,  49,   1,   0,   0,   0,\n",
      "          0,   0,   0,   0,   0,   0,   0,   0,   0,   0,   0,   0,   0,   0,\n",
      "          0,   0,   0,   0,   0,   0,   0,   0,   0,   0,   0,   0,   0,   0,\n",
      "          0,   0,   0,   0,   0,   0,   0,   0,   0,   0,   0,   0,   0,   0,\n",
      "          0,   0]), tensor([ 68, 118,  35, 118, 114, 114, 113,  35, 100, 118,  35, 100, 106, 117,\n",
      "        104, 104, 112, 104, 113, 119,  35, 107, 100, 118,  35, 101, 104, 104,\n",
      "        113,  35, 117, 104, 100, 102, 107, 104, 103,  35, 114, 113,  35, 100,\n",
      "         35, 118, 107, 114, 117, 119, 111, 108, 118, 119,  35, 114, 105,  35,\n",
      "        118, 104, 102, 119, 114, 117, 118,  35, 122, 107, 108, 102, 107,  35,\n",
      "        102, 100, 113,  35, 101, 104,  35, 114, 121, 104, 117, 107, 100, 120,\n",
      "        111, 104, 103,  47,  35, 122, 104,  35, 122, 108, 111, 111,  35, 102,\n",
      "        114, 113, 119, 100, 102, 119,  35, 117, 104, 115, 117, 104, 118, 104,\n",
      "        113, 119, 100, 119, 108, 121, 104, 118,  35, 114, 105,  35, 119, 107,\n",
      "        104,   1]), tensor([ 87, 107, 100, 119,  35, 118, 107, 114, 120, 111, 103,  35, 114, 105,\n",
      "        105, 104, 117,  35, 119, 107, 104, 112,  35, 119, 107, 104,  35, 114,\n",
      "        115, 115, 114, 117, 119, 120, 113, 108, 119, 124,  35, 114, 105,  35,\n",
      "        102, 114, 113, 119, 117, 108, 101, 120, 119, 108, 113, 106,  35, 119,\n",
      "        114,  35, 119, 107, 104,  35,  86,  79,  76,  80,  35, 108, 113, 108,\n",
      "        119, 108, 100, 119, 108, 121, 104,  47,  35, 104, 108, 119, 107, 104,\n",
      "        117,  35, 103, 108, 117, 104, 102, 119, 111, 124,  35, 114, 117,  35,\n",
      "        108, 113, 103, 108, 117, 104, 102, 119, 111, 124,  47,  35, 100, 113,\n",
      "        103,  35, 114, 105,  35, 101, 104, 108, 113, 106,  35, 108, 113, 105,\n",
      "        114,   1]), tensor([ 76,  35, 100, 112,  35, 102, 114, 113, 121, 108, 113, 102, 104, 103,\n",
      "         35, 119, 107, 100, 119,  35, 119, 107, 108, 118,  35, 100, 115, 115,\n",
      "        117, 114, 100, 102, 107,  35, 122, 108, 111, 111,  35, 100, 111, 111,\n",
      "        114, 122,  35, 100, 111, 111,  35, 119, 107, 114, 118, 104,  35, 119,\n",
      "        100, 110, 108, 113, 106,  35, 115, 100, 117, 119,  35, 108, 113,  35,\n",
      "        119, 107, 108, 118,  35, 114, 121, 104, 117, 107, 100, 120, 111,  35,\n",
      "        104, 123, 104, 117, 102, 108, 118, 104,  35, 119, 114,  35, 105, 114,\n",
      "        102, 120, 118,  35, 114, 113,  35, 119, 107, 104,  35, 110, 104, 124,\n",
      "         35, 108, 118, 118, 120, 104, 118,  35, 114, 105,  35, 118, 108, 112,\n",
      "        115,   1]), tensor([ 76,  35, 100, 112,  35, 119, 107, 104, 117, 104, 105, 114, 117, 104,\n",
      "         35, 111, 114, 114, 110, 108, 113, 106,  35, 105, 114, 117, 122, 100,\n",
      "        117, 103,  35, 119, 114,  35, 117, 104, 115, 114, 117, 119, 108, 113,\n",
      "        106,  35, 114, 113,  35, 119, 107, 104,  35, 115, 117, 114, 106, 117,\n",
      "        104, 118, 118,  35, 112, 100, 103, 104,  35, 103, 120, 117, 108, 113,\n",
      "        106,  35, 119, 107, 104,  35, 113, 104, 123, 119,  35, 102, 114, 120,\n",
      "        115, 111, 104,  35, 114, 105,  35, 112, 114, 113, 119, 107, 118,  49,\n",
      "          1,   0,   0,   0,   0,   0,   0,   0,   0,   0,   0,   0,   0,   0,\n",
      "          0,   0,   0,   0,   0,   0,   0,   0,   0,   0,   0,   0,   0,   0,\n",
      "          0,   0]), tensor([ 68, 118,  35, 124, 114, 120,  35, 110, 113, 114, 122,  47,  35, 119,\n",
      "        107, 104,  35,  70, 114, 112, 112, 108, 118, 118, 108, 114, 113,  35,\n",
      "        108, 118,  35, 117, 104, 116, 120, 108, 117, 104, 103,  35, 119, 114,\n",
      "         35, 118, 120, 101, 112, 108, 119,  35, 115, 117, 114, 115, 114, 118,\n",
      "        100, 111, 118,  35, 119, 114,  35, 119, 107, 104,  35, 101, 104, 118,\n",
      "        119,  35, 114, 105,  35, 108, 119, 118,  35, 100, 101, 108, 111, 108,\n",
      "        119, 124,  35, 122, 108, 119, 107, 108, 113,  35, 118, 108, 123,  35,\n",
      "        112, 114, 113, 119, 107, 118,  35, 114, 105,  35, 117, 104, 102, 104,\n",
      "        108, 121, 108, 113, 106,  35, 119, 107, 104,  35, 117, 104, 102, 114,\n",
      "        112,   1]), tensor([ 90, 104,  35, 122, 108, 111, 111,  35, 112, 100, 110, 104,  35, 104,\n",
      "        121, 104, 117, 124,  35, 104, 105, 105, 114, 117, 119,  35, 119, 114,\n",
      "         35, 105, 120, 111, 105, 108, 111,  35, 119, 107, 108, 118,  35, 102,\n",
      "        114, 112, 112, 108, 119, 112, 104, 113, 119,  47,  35, 100, 113, 103,\n",
      "         35,  76,  35, 100, 112,  35, 100, 103, 103, 117, 104, 118, 118, 108,\n",
      "        113, 106,  35,  80, 117,  35,  69, 120, 118, 107, 108, 111, 111,  48,\n",
      "         80, 100, 119, 119, 107, 104, 122, 118,  35, 108, 113,  35, 115, 100,\n",
      "        117, 119, 108, 102, 120, 111, 100, 117,  35, 122, 108, 119, 107,  35,\n",
      "        119, 107, 108, 118,  35, 118, 119, 100, 119, 104, 112, 104, 113, 119,\n",
      "         49,   1]), tensor([ 90, 104,  35, 100, 117, 104,  35, 119, 107, 117, 108, 111, 111, 104,\n",
      "        103,  35, 122, 108, 119, 107,  35,  80, 117,  35,  71, 114, 114, 117,\n",
      "        113,  42,  35, 118,  35, 117, 104, 102, 114, 112, 112, 104, 113, 103,\n",
      "        100, 119, 108, 114, 113, 118,  35, 119, 107, 100, 119,  35,  83, 100,\n",
      "        117, 111, 108, 100, 112, 104, 113, 119,  35, 100, 113, 103,  35, 119,\n",
      "        107, 104,  35,  70, 114, 120, 113, 102, 108, 111,  35, 122, 108, 111,\n",
      "        111,  35, 104, 100, 102, 107,  35, 100, 118, 118, 120, 112, 104,  35,\n",
      "        119, 107, 104, 108, 117,  35, 117, 104, 118, 115, 114, 113, 118, 108,\n",
      "        101, 108, 111, 108, 119, 108, 104, 118,  47,  35, 101, 124,  35, 102,\n",
      "        100,   1]), tensor([ 76,  35, 118, 107, 100, 117, 104,  35,  80, 117,  35,  71, 114, 114,\n",
      "        117, 113,  42,  35, 118,  35, 121, 108, 104, 122,  35, 119, 107, 100,\n",
      "        119,  35, 100, 113,  35, 108, 113, 102, 117, 104, 100, 118, 108, 113,\n",
      "        106,  35, 113, 120, 112, 101, 104, 117,  35, 114, 105,  35, 111, 104,\n",
      "        106, 108, 118, 111, 100, 119, 108, 121, 104,  35, 100, 117, 104, 100,\n",
      "        118,  35, 118, 107, 114, 120, 111, 103,  35, 101, 104,  35, 118, 108,\n",
      "        112, 115, 111, 108, 105, 108, 104, 103,  49,   1,   0,   0,   0,   0,\n",
      "          0,   0,   0,   0,   0,   0,   0,   0,   0,   0,   0,   0,   0,   0,\n",
      "          0,   0,   0,   0,   0,   0,   0,   0,   0,   0,   0,   0,   0,   0,\n",
      "          0,   0]), tensor([ 76,  35, 100, 112,  35, 122, 108, 119, 107,  35, 107, 108, 112,  35,\n",
      "        114, 113,  35, 119, 107, 100, 119,  35, 114, 113, 104,  49,   1,   0,\n",
      "          0,   0,   0,   0,   0,   0,   0,   0,   0,   0,   0,   0,   0,   0,\n",
      "          0,   0,   0,   0,   0,   0,   0,   0,   0,   0,   0,   0,   0,   0,\n",
      "          0,   0,   0,   0,   0,   0,   0,   0,   0,   0,   0,   0,   0,   0,\n",
      "          0,   0,   0,   0,   0,   0,   0,   0,   0,   0,   0,   0,   0,   0,\n",
      "          0,   0,   0,   0,   0,   0,   0,   0,   0,   0,   0,   0,   0,   0,\n",
      "          0,   0,   0,   0,   0,   0,   0,   0,   0,   0,   0,   0,   0,   0,\n",
      "          0,   0,   0,   0,   0,   0,   0,   0,   0,   0,   0,   0,   0,   0,\n",
      "          0,   0]), tensor([ 76,  47,  35, 119, 114, 114,  47,  35, 122, 114, 120, 111, 103,  35,\n",
      "        111, 108, 110, 104,  35, 119, 114,  35, 118, 104, 104,  35, 119, 107,\n",
      "        108, 118,  35, 107, 100, 115, 115, 104, 113,  49,   1,   0,   0,   0,\n",
      "          0,   0,   0,   0,   0,   0,   0,   0,   0,   0,   0,   0,   0,   0,\n",
      "          0,   0,   0,   0,   0,   0,   0,   0,   0,   0,   0,   0,   0,   0,\n",
      "          0,   0,   0,   0,   0,   0,   0,   0,   0,   0,   0,   0,   0,   0,\n",
      "          0,   0,   0,   0,   0,   0,   0,   0,   0,   0,   0,   0,   0,   0,\n",
      "          0,   0,   0,   0,   0,   0,   0,   0,   0,   0,   0,   0,   0,   0,\n",
      "          0,   0,   0,   0,   0,   0,   0,   0,   0,   0,   0,   0,   0,   0,\n",
      "          0,   0]), tensor([ 87, 107, 100, 119,  35, 108, 118,  47,  35, 114, 105,  35, 102, 114,\n",
      "        120, 117, 118, 104,  47,  35, 114, 113, 111, 124,  35, 115, 114, 118,\n",
      "        118, 108, 101, 111, 104,  35, 122, 108, 119, 107, 108, 113,  35, 119,\n",
      "        107, 104,  35, 102, 114, 113, 105, 108, 113, 104, 118,  35, 108, 112,\n",
      "        115, 114, 118, 104, 103,  35, 101, 124,  35, 114, 119, 107, 104, 117,\n",
      "         35, 115, 117, 108, 114, 117, 108, 119, 124,  35, 103, 120, 119, 108,\n",
      "        104, 118,  35, 100, 113, 103,  35, 122, 108, 119, 107, 108, 113,  35,\n",
      "        119, 107, 104,  35, 101, 120, 103, 106, 104, 119, 100, 117, 124,  35,\n",
      "        118, 102, 114, 115, 104,  35, 100, 121, 100, 108, 111, 100, 101, 111,\n",
      "        104,   1]), tensor([ 76,  35, 122, 114, 120, 111, 103,  35, 111, 108, 110, 104,  35, 119,\n",
      "        114,  35, 120, 113, 103, 104, 117, 111, 108, 113, 104,  35, 119, 107,\n",
      "        108, 118,  35, 115, 114, 108, 113, 119,  49,   1,   0,   0,   0,   0,\n",
      "          0,   0,   0,   0,   0,   0,   0,   0,   0,   0,   0,   0,   0,   0,\n",
      "          0,   0,   0,   0,   0,   0,   0,   0,   0,   0,   0,   0,   0,   0,\n",
      "          0,   0,   0,   0,   0,   0,   0,   0,   0,   0,   0,   0,   0,   0,\n",
      "          0,   0,   0,   0,   0,   0,   0,   0,   0,   0,   0,   0,   0,   0,\n",
      "          0,   0,   0,   0,   0,   0,   0,   0,   0,   0,   0,   0,   0,   0,\n",
      "          0,   0,   0,   0,   0,   0,   0,   0,   0,   0,   0,   0,   0,   0,\n",
      "          0,   0]), tensor([ 87, 107, 104,  35,  70, 114, 112, 112, 108, 118, 118, 108, 114, 113,\n",
      "         35, 117, 104, 102, 104, 108, 121, 104, 118,  35, 112, 100, 113, 124,\n",
      "         35, 117, 104, 116, 120, 104, 118, 119, 118,  49,   1,   0,   0,   0,\n",
      "          0,   0,   0,   0,   0,   0,   0,   0,   0,   0,   0,   0,   0,   0,\n",
      "          0,   0,   0,   0,   0,   0,   0,   0,   0,   0,   0,   0,   0,   0,\n",
      "          0,   0,   0,   0,   0,   0,   0,   0,   0,   0,   0,   0,   0,   0,\n",
      "          0,   0,   0,   0,   0,   0,   0,   0,   0,   0,   0,   0,   0,   0,\n",
      "          0,   0,   0,   0,   0,   0,   0,   0,   0,   0,   0,   0,   0,   0,\n",
      "          0,   0,   0,   0,   0,   0,   0,   0,   0,   0,   0,   0,   0,   0,\n",
      "          0,   0]), tensor([ 87, 107, 104,  35,  70, 114, 112, 112, 108, 118, 118, 108, 114, 113,\n",
      "         35, 107, 100, 118,  35, 112, 100, 113, 124,  35, 103, 120, 119, 108,\n",
      "        104, 118,  47,  35, 101, 120, 119,  35, 108, 119,  35, 103, 114, 104,\n",
      "        118,  35, 113, 114, 119,  35, 100, 111, 122, 100, 124, 118,  35, 107,\n",
      "        100, 121, 104,  35, 119, 107, 104,  35, 112, 104, 100, 113, 118,  35,\n",
      "        100, 121, 100, 108, 111, 100, 101, 111, 104,  35, 119, 114,  35, 105,\n",
      "        120, 111, 105, 108, 111,  35, 119, 107, 104, 118, 104,  35, 103, 120,\n",
      "        119, 108, 104, 118,  35, 105, 100, 118, 119,  35, 100, 113, 103,  35,\n",
      "        104, 105, 105, 108, 102, 108, 104, 113, 119, 111, 124,  49,   1,   0,\n",
      "          0,   0]), tensor([ 87, 107, 100, 119,  35, 108, 118,  35, 100, 113,  35, 108, 112, 115,\n",
      "        114, 117, 119, 100, 113, 119,  35, 112, 100, 119, 119, 104, 117,  35,\n",
      "        122, 107, 108, 102, 107,  35, 100, 111, 118, 114,  35, 112, 104, 117,\n",
      "        108, 119, 118,  35, 112, 120, 102, 107,  35, 100, 119, 119, 104, 113,\n",
      "        119, 108, 114, 113,  35, 108, 113,  35, 119, 107, 108, 118,  35,  83,\n",
      "        100, 117, 111, 108, 100, 112, 104, 113, 119,  49,   1,   0,   0,   0,\n",
      "          0,   0,   0,   0,   0,   0,   0,   0,   0,   0,   0,   0,   0,   0,\n",
      "          0,   0,   0,   0,   0,   0,   0,   0,   0,   0,   0,   0,   0,   0,\n",
      "          0,   0,   0,   0,   0,   0,   0,   0,   0,   0,   0,   0,   0,   0,\n",
      "          0,   0]), tensor([ 81, 104, 121, 104, 117, 119, 107, 104, 111, 104, 118, 118,  47,  35,\n",
      "         76,  35, 107, 100, 121, 104,  35, 113, 114,  35, 103, 114, 120, 101,\n",
      "        119,  35, 119, 107, 100, 119,  35, 122, 104,  35, 102, 100, 113,  35,\n",
      "        100, 102, 102, 104, 111, 104, 117, 100, 119, 104,  35, 119, 107, 104,\n",
      "         35, 118, 108, 112, 115, 111, 108, 105, 108, 102, 100, 119, 108, 114,\n",
      "        113,  35, 115, 117, 114, 102, 104, 118, 118,  47,  35, 113, 114, 119,\n",
      "         35, 111, 104, 100, 118, 119,  35, 100, 118,  35, 100,  35, 117, 104,\n",
      "        118, 120, 111, 119,  35, 114, 105,  35, 119, 107, 104,  35, 122, 114,\n",
      "        117, 110,  35, 108, 113,  35, 122, 107, 108, 102, 107,  35, 119, 107,\n",
      "        104,   1]), tensor([ 76, 113,  35, 117, 104, 118, 115, 114, 113, 118, 104,  35, 119, 114,\n",
      "         35, 119, 107, 104,  35, 100, 115, 115, 104, 100, 111,  35, 112, 100,\n",
      "        103, 104,  35, 100, 119,  35, 119, 107, 104,  35,  72, 120, 117, 114,\n",
      "        115, 104, 100, 113,  35,  70, 114, 120, 113, 102, 108, 111,  35, 108,\n",
      "        113,  35,  79, 108, 118, 101, 114, 113,  47,  35, 119, 114,  35, 117,\n",
      "        104, 100, 102, 107,  35, 100,  35, 102, 114, 114, 117, 103, 108, 113,\n",
      "        100, 119, 104, 103,  35, 115, 114, 111, 108, 102, 124,  35, 118, 114,\n",
      "         35, 100, 118,  35, 119, 114,  35, 118, 108, 112, 115, 111, 108, 105,\n",
      "        124,  35, 119, 107, 104,  35, 111, 104, 106, 108, 118, 111, 100, 119,\n",
      "        108,   1]), tensor([ 76, 119,  35, 108, 118,  35, 104, 123, 100, 112, 108, 113, 108, 113,\n",
      "        106,  35, 100, 117, 104, 100, 118,  35, 122, 107, 104, 117, 104,  35,\n",
      "        113, 114, 113,  48, 117, 104, 106, 120, 111, 100, 119, 114, 117, 124,\n",
      "         35, 100, 111, 119, 104, 117, 113, 100, 119, 108, 121, 104, 118,  35,\n",
      "        102, 114, 120, 111, 103,  35, 101, 104,  35, 108, 113, 119, 117, 114,\n",
      "        103, 120, 102, 104, 103,  49,   1,   0,   0,   0,   0,   0,   0,   0,\n",
      "          0,   0,   0,   0,   0,   0,   0,   0,   0,   0,   0,   0,   0,   0,\n",
      "          0,   0,   0,   0,   0,   0,   0,   0,   0,   0,   0,   0,   0,   0,\n",
      "          0,   0,   0,   0,   0,   0,   0,   0,   0,   0,   0,   0,   0,   0,\n",
      "          0,   0]), tensor([ 80, 114, 117, 104, 114, 121, 104, 117,  47,  35, 108, 119,  35, 108,\n",
      "        118,  35, 115, 117, 104, 118, 118, 108, 113, 106,  35, 105, 114, 117,\n",
      "         35, 119, 107, 104,  35, 103, 104, 121, 104, 111, 114, 115, 112, 104,\n",
      "        113, 119,  35, 114, 105,  35, 101, 104, 119, 119, 104, 117,  35, 122,\n",
      "        100, 124, 118,  35, 114, 105,  35, 106, 100, 120, 106, 108, 113, 106,\n",
      "         35, 119, 107, 104,  35, 104, 105, 105, 104, 102, 119,  35, 114, 105,\n",
      "         35, 113, 104, 122, 111, 124,  35, 115, 117, 114, 115, 114, 118, 104,\n",
      "        103,  35, 111, 104, 106, 108, 118, 111, 100, 119, 108, 114, 113,  35,\n",
      "        114, 113,  35, 119, 107, 104,  35, 101, 120, 118, 108, 113, 104, 118,\n",
      "        118,   1]), tensor([ 68, 113,  35, 104, 113, 116, 120, 108, 117, 124,  35, 108, 113,  35,\n",
      "        119, 107, 108, 118,  35, 102, 114, 113, 113, 104, 102, 119, 108, 114,\n",
      "        113,  35, 122, 100, 118,  35, 100, 111, 118, 114,  35, 118, 120, 101,\n",
      "        112, 108, 119, 119, 104, 103,  35, 119, 107, 108, 118,  35, 100, 105,\n",
      "        119, 104, 117, 113, 114, 114, 113,  49,   1,   0,   0,   0,   0,   0,\n",
      "          0,   0,   0,   0,   0,   0,   0,   0,   0,   0,   0,   0,   0,   0,\n",
      "          0,   0,   0,   0,   0,   0,   0,   0,   0,   0,   0,   0,   0,   0,\n",
      "          0,   0,   0,   0,   0,   0,   0,   0,   0,   0,   0,   0,   0,   0,\n",
      "          0,   0,   0,   0,   0,   0,   0,   0,   0,   0,   0,   0,   0,   0,\n",
      "          0,   0]), tensor([ 87, 107, 104,  35, 104, 105, 105, 114, 117, 119, 118,  35, 122, 107,\n",
      "        108, 102, 107,  35, 100, 117, 104,  35, 113, 114, 122,  35, 101, 104,\n",
      "        108, 113, 106,  35, 112, 100, 103, 104,  35, 119, 114,  35, 103, 117,\n",
      "        100, 105, 119,  35, 101, 104, 119, 119, 104, 117,  35, 111, 104, 106,\n",
      "        108, 118, 111, 100, 119, 108, 114, 113,  35, 102, 114, 108, 113, 102,\n",
      "        108, 103, 104,  35, 122, 108, 119, 107,  35, 115, 117, 104, 115, 100,\n",
      "        117, 100, 119, 108, 114, 113, 118,  35, 105, 114, 117,  35, 119, 107,\n",
      "        104,  35, 122, 107, 108, 119, 104,  35, 115, 100, 115, 104, 117,  35,\n",
      "        114, 113,  35, 101, 104, 119, 119, 104, 117,  35, 112, 100, 113, 100,\n",
      "        106,   1]), tensor([ 76,  35, 100, 112,  35, 112, 104, 113, 119, 108, 114, 113, 108, 113,\n",
      "        106,  35, 119, 107, 108, 118,  35, 115, 100, 117, 119, 108, 102, 120,\n",
      "        111, 100, 117, 111, 124,  35, 105, 114, 117,  35, 119, 107, 104,  35,\n",
      "        101, 104, 113, 104, 105, 108, 119,  35, 114, 105,  35,  80, 117, 118,\n",
      "         35,  78, 100, 120, 115, 115, 108,  49,   1,   0,   0,   0,   0,   0,\n",
      "          0,   0,   0,   0,   0,   0,   0,   0,   0,   0,   0,   0,   0,   0,\n",
      "          0,   0,   0,   0,   0,   0,   0,   0,   0,   0,   0,   0,   0,   0,\n",
      "          0,   0,   0,   0,   0,   0,   0,   0,   0,   0,   0,   0,   0,   0,\n",
      "          0,   0,   0,   0,   0,   0,   0,   0,   0,   0,   0,   0,   0,   0,\n",
      "          0,   0]), tensor([ 87, 107, 104,  35,  70, 114, 112, 112, 108, 118, 118, 108, 114, 113,\n",
      "         42,  35, 118,  35, 122, 114, 117, 110,  35, 122, 108, 111, 111,  35,\n",
      "        101, 104,  35, 102, 114, 112, 115, 111, 104, 112, 104, 113, 119, 104,\n",
      "        103,  35, 101, 124,  35, 119, 107, 104,  35, 117, 104, 118, 120, 111,\n",
      "        119, 118,  35, 114, 105,  35, 119, 107, 104,  35, 103, 108, 118, 102,\n",
      "        120, 118, 118, 108, 114, 113, 118,  35, 107, 104, 111, 103,  35, 108,\n",
      "        113,  35, 100,  35, 107, 108, 106, 107,  48, 111, 104, 121, 104, 111,\n",
      "         35, 122, 114, 117, 110, 108, 113, 106,  35, 106, 117, 114, 120, 115,\n",
      "         35, 114, 113,  35, 101, 104, 119, 119, 104, 117,  35, 111, 104, 106,\n",
      "        108,   1]), tensor([ 76, 119,  35, 108, 118,  35, 119, 107, 108, 118,  35, 122, 114, 117,\n",
      "        110, 108, 113, 106,  35, 106, 117, 114, 120, 115,  42,  35, 118,  35,\n",
      "        103, 120, 119, 124,  47,  35, 100, 113, 103,  35,  80, 117,  35,  73,\n",
      "        114, 117, 103,  35, 102, 100, 111, 111, 104, 103,  35, 105, 114, 117,\n",
      "         35, 100, 119, 119, 104, 113, 119, 108, 114, 113,  35, 119, 114,  35,\n",
      "        101, 104,  35, 106, 108, 121, 104, 113,  35, 119, 114,  35, 119, 107,\n",
      "        108, 118,  47,  35, 119, 114,  35, 104, 123, 100, 112, 108, 113, 104,\n",
      "         35, 119, 107, 104,  35, 116, 120, 100, 111, 108, 119, 124,  35, 100,\n",
      "        113, 103,  35, 118, 108, 112, 115, 111, 108, 105, 108, 102, 100, 119,\n",
      "        108,   1]), tensor([ 76,  35, 100, 112,  35, 100, 111, 117, 104, 100, 103, 124,  35, 111,\n",
      "        114, 114, 110, 108, 113, 106,  35, 105, 114, 117, 122, 100, 117, 103,\n",
      "         35, 119, 114,  35, 119, 107, 104,  35, 117, 104, 115, 114, 117, 119,\n",
      "         35, 100, 113, 103,  35, 119, 107, 104,  35, 117, 104, 102, 114, 112,\n",
      "        112, 104, 113, 103, 100, 119, 108, 114, 113, 118,  35, 114, 105,  35,\n",
      "        119, 107, 108, 118,  35, 122, 114, 117, 110, 108, 113, 106,  35, 106,\n",
      "        117, 114, 120, 115,  49,   1,   0,   0,   0,   0,   0,   0,   0,   0,\n",
      "          0,   0,   0,   0,   0,   0,   0,   0,   0,   0,   0,   0,   0,   0,\n",
      "          0,   0,   0,   0,   0,   0,   0,   0,   0,   0,   0,   0,   0,   0,\n",
      "          0,   0]), tensor([ 87, 107, 108, 118,  35, 111, 104, 106, 108, 118, 111, 100, 119, 108,\n",
      "        121, 104,  35, 115, 117, 114, 102, 104, 118, 118,  35, 105, 114, 117,\n",
      "         35, 122, 107, 108, 102, 107,  35, 122, 104,  35, 100, 111, 111,  35,\n",
      "        102, 100, 117, 117, 124,  35, 118, 114, 112, 104,  35, 117, 104, 118,\n",
      "        115, 114, 113, 118, 108, 101, 108, 111, 108, 119, 124,  47,  35, 102,\n",
      "        114, 113, 102, 104, 117, 113, 118,  35, 120, 118,  35, 100, 111, 111,\n",
      "         47,  35, 114, 105,  35, 102, 114, 120, 117, 118, 104,  49,   1,   0,\n",
      "          0,   0,   0,   0,   0,   0,   0,   0,   0,   0,   0,   0,   0,   0,\n",
      "          0,   0,   0,   0,   0,   0,   0,   0,   0,   0,   0,   0,   0,   0,\n",
      "          0,   0]), tensor([ 76,  35, 100, 112,  35, 102, 114, 113, 121, 108, 113, 102, 104, 103,\n",
      "         35, 119, 107, 100, 119,  35, 119, 107, 104,  35, 102, 120, 117, 117,\n",
      "        104, 113, 119,  35, 115, 114, 111, 108, 119, 108, 102, 100, 111,  35,\n",
      "        102, 114, 113, 118, 104, 113, 118, 120, 118,  35, 108, 113,  35, 100,\n",
      "        108, 103,  35, 114, 105,  35, 100,  35, 101, 104, 119, 119, 104, 117,\n",
      "         35, 111, 104, 106, 108, 118, 111, 100, 119, 108, 121, 104,  35, 102,\n",
      "        111, 108, 112, 100, 119, 104,  35, 122, 108, 119, 107, 108, 113,  35,\n",
      "        119, 107, 104,  35,  72, 120, 117, 114, 115, 104, 100, 113,  35,  88,\n",
      "        113, 108, 114, 113,  35, 122, 108, 111, 111,  35, 111, 104, 100, 103,\n",
      "         35,   1]), tensor([ 76,  35, 122, 114, 120, 111, 103,  35, 100, 111, 118, 114,  35, 111,\n",
      "        108, 110, 104,  35, 119, 114,  35, 119, 107, 100, 113, 110,  35,  80,\n",
      "        117,  35,  69, 120, 118, 107, 108, 111, 111,  48,  80, 100, 119, 119,\n",
      "        107, 104, 122, 118,  35, 105, 114, 117,  35, 119, 107, 104,  35, 100,\n",
      "        111, 119, 104, 117, 113, 100, 119, 108, 121, 104,  35, 112, 104, 100,\n",
      "        113, 108, 113, 106,  35, 107, 104,  35, 106, 100, 121, 104,  35, 119,\n",
      "        114,  35, 119, 107, 104,  35, 100, 102, 117, 114, 113, 124, 112,  35,\n",
      "         86,  79,  76,  80,  47,  35, 113, 100, 112, 104, 111, 124,  35,  42,\n",
      "         86, 120, 101, 118, 119, 100, 113, 119, 108, 100, 111, 111, 124,  35,\n",
      "         79,   1]), tensor([ 76,  35, 100, 112,  35, 121, 104, 117, 124,  35, 106, 117, 100, 119,\n",
      "        104, 105, 120, 111,  35, 119, 114,  35, 107, 108, 112,  35, 105, 114,\n",
      "        117,  35, 119, 107, 100, 119,  49,   1,   0,   0,   0,   0,   0,   0,\n",
      "          0,   0,   0,   0,   0,   0,   0,   0,   0,   0,   0,   0,   0,   0,\n",
      "          0,   0,   0,   0,   0,   0,   0,   0,   0,   0,   0,   0,   0,   0,\n",
      "          0,   0,   0,   0,   0,   0,   0,   0,   0,   0,   0,   0,   0,   0,\n",
      "          0,   0,   0,   0,   0,   0,   0,   0,   0,   0,   0,   0,   0,   0,\n",
      "          0,   0,   0,   0,   0,   0,   0,   0,   0,   0,   0,   0,   0,   0,\n",
      "          0,   0,   0,   0,   0,   0,   0,   0,   0,   0,   0,   0,   0,   0,\n",
      "          0,   0]), tensor([ 76,  35, 122, 108, 111, 111,  35, 119, 117, 124,  35, 119, 114,  35,\n",
      "        116, 120, 114, 119, 104,  35, 119, 107, 108, 118,  35, 100, 119,  35,\n",
      "        119, 107, 104,  35, 100, 115, 115, 117, 114, 115, 117, 108, 100, 119,\n",
      "        104,  35, 115, 111, 100, 102, 104,  35, 100, 113, 103,  35, 119, 108,\n",
      "        112, 104,  47,  35, 100, 113, 103,  35, 119, 107, 114, 118, 104,  35,\n",
      "        122, 107, 114, 112,  35, 119, 107, 104,  35, 102, 100, 115,  35, 105,\n",
      "        108, 119, 118,  35, 102, 100, 113,  35, 122, 104, 100, 117,  35, 108,\n",
      "        119,  49,   1,   0,   0,   0,   0,   0,   0,   0,   0,   0,   0,   0,\n",
      "          0,   0,   0,   0,   0,   0,   0,   0,   0,   0,   0,   0,   0,   0,\n",
      "          0,   0]), tensor([ 82, 113,  35, 100,  35, 105, 108, 113, 100, 111,  35, 113, 114, 119,\n",
      "        104,  47,  35,  76,  35, 122, 114, 120, 111, 103,  35, 111, 108, 110,\n",
      "        104,  35, 119, 114,  35, 111, 104, 119,  35,  80, 117,  35,  71, 114,\n",
      "        114, 117, 113,  35, 100, 113, 103,  35, 124, 114, 120, 117,  35,  83,\n",
      "        100, 117, 111, 108, 100, 112, 104, 113, 119,  35, 110, 113, 114, 122,\n",
      "         35, 119, 107, 100, 119,  35, 119, 107, 104,  35, 100, 112, 104, 113,\n",
      "        103, 112, 104, 113, 119, 118,  35, 100, 117, 104,  35, 100, 102, 102,\n",
      "        104, 115, 119, 100, 101, 111, 104,  35, 119, 114,  35, 119, 107, 104,\n",
      "         35,  70, 114, 112, 112, 108, 118, 118, 108, 114, 113,  49,   1,   0,\n",
      "          0,   0]), tensor([ 87, 107, 100, 113, 110,  35, 124, 114, 120,  35, 121, 104, 117, 124,\n",
      "         35, 112, 120, 102, 107,  35,  70, 114, 112, 112, 108, 118, 118, 108,\n",
      "        114, 113, 104, 117,  35,  69, 114, 111, 110, 104, 118, 119, 104, 108,\n",
      "        113,  47,  35, 100, 118,  35, 120, 118, 120, 100, 111,  47,  35, 105,\n",
      "        114, 117,  35, 124, 114, 120, 117,  35, 107, 104, 111, 115, 105, 120,\n",
      "        111,  35, 117, 104, 112, 100, 117, 110, 118,  35, 108, 113,  35, 119,\n",
      "        107, 108, 118,  35, 103, 104, 101, 100, 119, 104,  49,   1,   0,   0,\n",
      "          0,   0,   0,   0,   0,   0,   0,   0,   0,   0,   0,   0,   0,   0,\n",
      "          0,   0,   0,   0,   0,   0,   0,   0,   0,   0,   0,   0,   0,   0,\n",
      "          0,   0]), tensor([ 87, 107, 104,  35, 103, 104, 101, 100, 119, 104,  35, 108, 118,  35,\n",
      "        102, 111, 114, 118, 104, 103,  49,   1,   0,   0,   0,   0,   0,   0,\n",
      "          0,   0,   0,   0,   0,   0,   0,   0,   0,   0,   0,   0,   0,   0,\n",
      "          0,   0,   0,   0,   0,   0,   0,   0,   0,   0,   0,   0,   0,   0,\n",
      "          0,   0,   0,   0,   0,   0,   0,   0,   0,   0,   0,   0,   0,   0,\n",
      "          0,   0,   0,   0,   0,   0,   0,   0,   0,   0,   0,   0,   0,   0,\n",
      "          0,   0,   0,   0,   0,   0,   0,   0,   0,   0,   0,   0,   0,   0,\n",
      "          0,   0,   0,   0,   0,   0,   0,   0,   0,   0,   0,   0,   0,   0,\n",
      "          0,   0,   0,   0,   0,   0,   0,   0,   0,   0,   0,   0,   0,   0,\n",
      "          0,   0]), tensor([ 87, 107, 104,  35, 121, 114, 119, 104,  35, 122, 108, 111, 111,  35,\n",
      "        101, 104,  35, 119, 100, 110, 104, 113,  35, 119, 114, 112, 114, 117,\n",
      "        117, 114, 122,  35, 100, 119,  35,  52,  53,  35, 113, 114, 114, 113,\n",
      "         49,   1,   0,   0,   0,   0,   0,   0,   0,   0,   0,   0,   0,   0,\n",
      "          0,   0,   0,   0,   0,   0,   0,   0,   0,   0,   0,   0,   0,   0,\n",
      "          0,   0,   0,   0,   0,   0,   0,   0,   0,   0,   0,   0,   0,   0,\n",
      "          0,   0,   0,   0,   0,   0,   0,   0,   0,   0,   0,   0,   0,   0,\n",
      "          0,   0,   0,   0,   0,   0,   0,   0,   0,   0,   0,   0,   0,   0,\n",
      "          0,   0,   0,   0,   0,   0,   0,   0,   0,   0,   0,   0,   0,   0,\n",
      "          0,   0]), tensor([ 84, 120, 100, 111, 108, 119, 124,  35, 104, 121, 100, 111, 120, 100,\n",
      "        119, 108, 114, 113,  35, 108, 113,  35, 118, 102, 107, 114, 114, 111,\n",
      "         35, 104, 103, 120, 102, 100, 119, 108, 114, 113,   1,   0,   0,   0,\n",
      "          0,   0,   0,   0,   0,   0,   0,   0,   0,   0,   0,   0,   0,   0,\n",
      "          0,   0,   0,   0,   0,   0,   0,   0,   0,   0,   0,   0,   0,   0,\n",
      "          0,   0,   0,   0,   0,   0,   0,   0,   0,   0,   0,   0,   0,   0,\n",
      "          0,   0,   0,   0,   0,   0,   0,   0,   0,   0,   0,   0,   0,   0,\n",
      "          0,   0,   0,   0,   0,   0,   0,   0,   0,   0,   0,   0,   0,   0,\n",
      "          0,   0,   0,   0,   0,   0,   0,   0,   0,   0,   0,   0,   0,   0,\n",
      "          0,   0]), tensor([ 87, 107, 104,  35, 113, 104, 123, 119,  35, 108, 119, 104, 112,  35,\n",
      "        108, 118,  35, 119, 107, 104,  35, 117, 104, 102, 114, 112, 112, 104,\n",
      "        113, 103, 100, 119, 108, 114, 113,  35, 105, 114, 117,  35, 118, 104,\n",
      "        102, 114, 113, 103,  35, 117, 104, 100, 103, 108, 113, 106,  35,  43,\n",
      "         68,  56,  48,  51,  54,  58,  56,  50,  53,  51,  51,  51,  44,  47,\n",
      "         35, 101, 124,  35,  80, 117, 118,  35,  86, 100, 113, 103, 104, 117,\n",
      "        118,  48, 119, 104, 113,  35,  75, 114, 111, 119, 104,  47,  35, 114,\n",
      "        113,  35, 101, 104, 107, 100, 111, 105,  35, 114, 105,  35, 119, 107,\n",
      "        104,  35,  70, 114, 112, 112, 108, 119, 119, 104, 104,  35, 114, 113,\n",
      "         35,   1]), tensor([ 80, 117,  35,  83, 117, 104, 118, 108, 103, 104, 113, 119,  47,  35,\n",
      "        119, 107, 104,  35, 116, 120, 100, 111, 108, 119, 124,  35, 114, 105,\n",
      "         35, 104, 103, 120, 102, 100, 119, 108, 114, 113,  35, 108, 118,  35,\n",
      "        107, 108, 106, 107,  35, 114, 113,  35, 119, 107, 104,  35, 115, 114,\n",
      "        111, 108, 119, 108, 102, 100, 111,  35, 100, 106, 104, 113, 103, 100,\n",
      "         35, 114, 105,  35, 104, 121, 104, 117, 124,  35,  80, 104, 112, 101,\n",
      "        104, 117,  35,  86, 119, 100, 119, 104,  47,  35, 100, 113, 103,  35,\n",
      "        119, 107, 100, 119,  35, 102, 114, 112, 104, 118,  35, 100, 118,  35,\n",
      "        113, 114,  35, 118, 120, 117, 115, 117, 108, 118, 104,  49,   1,   0,\n",
      "          0,   0]), tensor([ 87, 107, 104,  35, 119, 107, 108, 117, 103,  35, 112, 108, 111, 111,\n",
      "        104, 113, 113, 108, 120, 112,  35, 114, 105, 105, 104, 117, 118,  35,\n",
      "        120, 113, 110, 113, 114, 122, 113,  35, 114, 115, 115, 114, 117, 119,\n",
      "        120, 113, 108, 119, 108, 104, 118,  35, 100, 113, 103,  35, 115, 117,\n",
      "        114, 118, 115, 104, 102, 119, 118,  35, 122, 108, 119, 107, 108, 113,\n",
      "         35, 100,  35, 118, 114, 102, 108, 104, 119, 124,  35, 122, 107, 108,\n",
      "        102, 107,  35, 108, 118,  35, 101, 104, 102, 114, 112, 108, 113, 106,\n",
      "         35, 108, 113, 102, 117, 104, 100, 118, 108, 113, 106, 111, 124,  35,\n",
      "        112, 114, 117, 104,  35, 100, 122, 100, 117, 104,  47,  35, 112, 114,\n",
      "        117,   1]), tensor([ 72, 103, 120, 102, 100, 119, 108, 114, 113,  35, 112, 120, 118, 119,\n",
      "         35, 100, 113, 103,  35, 102, 100, 113,  35, 107, 104, 111, 115,  35,\n",
      "        107, 104, 117, 104,  47,  35, 100, 113, 103,  35, 100, 111, 111,  35,\n",
      "        119, 107, 104, 118, 104,  35, 113, 104, 122,  35, 103, 104, 121, 104,\n",
      "        111, 114, 115, 112, 104, 113, 119, 118,  35, 114, 105, 105, 104, 117,\n",
      "         35, 104, 103, 120, 102, 100, 119, 108, 114, 113,  35, 114, 115, 115,\n",
      "        114, 117, 119, 120, 113, 108, 119, 108, 104, 118,  35, 100, 113, 103,\n",
      "         35, 102, 107, 100, 111, 111, 104, 113, 106, 104, 118,  47,  35, 101,\n",
      "        104, 102, 100, 120, 118, 104,  35, 104, 103, 120, 102, 100, 119, 108,\n",
      "        114,   1]), tensor([ 70, 114, 113, 118, 108, 103, 104, 117,  47,  35, 108, 113,  35, 100,\n",
      "        103, 103, 108, 119, 108, 114, 113,  47,  35, 119, 104, 102, 107, 113,\n",
      "        114, 111, 114, 106, 124,  47,  35, 108, 113, 105, 114, 117, 112, 100,\n",
      "        119, 108, 114, 113,  35, 119, 104, 102, 107, 113, 114, 111, 114, 106,\n",
      "        124,  35, 100, 113, 103,  35, 119, 107, 104,  35, 103, 108, 105, 105,\n",
      "        104, 117, 104, 113, 119,  35, 102, 120, 111, 119, 120, 117, 104, 118,\n",
      "         49,   1,   0,   0,   0,   0,   0,   0,   0,   0,   0,   0,   0,   0,\n",
      "          0,   0,   0,   0,   0,   0,   0,   0,   0,   0,   0,   0,   0,   0,\n",
      "          0,   0,   0,   0,   0,   0,   0,   0,   0,   0,   0,   0,   0,   0,\n",
      "          0,   0]), tensor([ 87, 107, 100, 119,  35, 108, 118,  35, 122, 107, 124,  35, 108, 119,\n",
      "         35, 108, 118,  35, 118, 114,  35, 108, 112, 115, 114, 117, 119, 100,\n",
      "        113, 119,  35, 119, 107, 100, 119,  35, 119, 107, 104,  35,  72,  88,\n",
      "         35,  80, 104, 112, 101, 104, 117,  35,  86, 119, 100, 119, 104, 118,\n",
      "         35, 109, 114, 108, 113,  35, 105, 114, 117, 102, 104, 118,  35, 100,\n",
      "        113, 103,  35, 122, 100, 113, 119,  35, 119, 114,  35, 122, 114, 117,\n",
      "        110,  35, 119, 114, 106, 104, 119, 107, 104, 117,  35, 114, 113,  35,\n",
      "        105, 120, 119, 120, 117, 104,  48, 114, 117, 108, 104, 113, 119, 100,\n",
      "        119, 104, 103,  35, 104, 103, 120, 102, 100, 119, 108, 114, 113,  47,\n",
      "         35,   1]), tensor([ 68, 118,  35, 117, 100, 115, 115, 114, 117, 119, 104, 120, 117,  47,\n",
      "         35,  76,  35, 100, 112,  35, 119, 107, 120, 118,  35, 103, 104, 111,\n",
      "        108, 106, 107, 119, 104, 103,  35, 122, 108, 119, 107,  35, 119, 107,\n",
      "        104,  35, 117, 104, 118, 120, 111, 119, 118,  35, 114, 105,  35, 119,\n",
      "        107, 104,  35, 102, 114, 112, 112, 114, 113,  35, 115, 114, 118, 108,\n",
      "        119, 108, 114, 113,  35, 100, 118,  35, 108, 119,  35, 108, 118,  35,\n",
      "        113, 114, 122,  35, 101, 104, 105, 114, 117, 104,  35, 120, 118,  49,\n",
      "          1,   0,   0,   0,   0,   0,   0,   0,   0,   0,   0,   0,   0,   0,\n",
      "          0,   0,   0,   0,   0,   0,   0,   0,   0,   0,   0,   0,   0,   0,\n",
      "          0,   0]), tensor([ 76, 113, 108, 119, 108, 100, 111, 111, 124,  47,  35,  76,  35, 105,\n",
      "        114, 120, 113, 103,  35, 119, 107, 104,  35,  70, 114, 112, 112, 108,\n",
      "        118, 118, 108, 114, 113,  35, 115, 117, 114, 115, 114, 118, 100, 111,\n",
      "         35, 118, 114, 112, 104, 122, 107, 100, 119,  35, 121, 100, 106, 120,\n",
      "        104,  35, 100, 113, 103,  35, 121, 104, 117, 124,  35, 113, 114, 113,\n",
      "         48, 102, 114, 112, 112, 108, 119, 119, 100, 111,  47,  35, 106, 108,\n",
      "        121, 104, 113,  35, 119, 107, 104,  35, 107, 120, 106, 104,  35, 108,\n",
      "        112, 115, 114, 117, 119, 100, 113, 102, 104,  35, 114, 105,  35, 118,\n",
      "        114, 120, 113, 103,  35, 104, 103, 120, 102, 100, 119, 108, 114, 113,\n",
      "         47,   1]), tensor([ 75, 114, 122, 104, 121, 104, 117,  47,  35, 108, 113,  35, 119, 107,\n",
      "        104,  35, 102, 114, 120, 117, 118, 104,  35, 114, 105,  35, 119, 107,\n",
      "        104,  35, 103, 108, 118, 102, 120, 118, 118, 108, 114, 113, 118,  47,\n",
      "         35, 119, 107, 104, 124,  35, 102, 100, 112, 104,  35, 119, 114,  35,\n",
      "        118, 107, 100, 117, 104,  35,  83, 100, 117, 111, 108, 100, 112, 104,\n",
      "        113, 119,  42,  35, 118,  35, 114, 115, 108, 113, 108, 114, 113,  35,\n",
      "        119, 107, 100, 119,  35, 119, 107, 104,  35, 116, 120, 100, 111, 108,\n",
      "        119, 124,  35, 114, 105,  35, 104, 103, 120, 102, 100, 119, 108, 114,\n",
      "        113,  35, 118, 107, 114, 120, 111, 103,  35, 101, 104,  35, 112, 114,\n",
      "        113,   1]), tensor([ 87, 107, 104,  35, 117, 104, 102, 114, 112, 112, 104, 113, 103, 100,\n",
      "        119, 108, 114, 113, 118,  35, 100, 117, 104,  35, 113, 114, 122,  35,\n",
      "        102, 111, 104, 100, 117,  35, 108, 113,  35, 119, 107, 104,  35, 100,\n",
      "        112, 104, 113, 103, 112, 104, 113, 119, 118,  35, 119, 100, 101, 111,\n",
      "        104, 103,  35, 101, 124,  35, 119, 107, 104,  35,  80,  72,  83, 118,\n",
      "         35, 100, 113, 103,  35, 112, 124, 118, 104, 111, 105,  35, 100, 118,\n",
      "         35, 117, 100, 115, 115, 114, 117, 119, 104, 120, 117,  49,   1,   0,\n",
      "          0,   0,   0,   0,   0,   0,   0,   0,   0,   0,   0,   0,   0,   0,\n",
      "          0,   0,   0,   0,   0,   0,   0,   0,   0,   0,   0,   0,   0,   0,\n",
      "          0,   0]), tensor([ 76, 113,  35, 119, 107, 104, 118, 104,  47,  35, 122, 104,  35, 118,\n",
      "        119, 108, 115, 120, 111, 100, 119, 104,  35, 102, 111, 104, 100, 117,\n",
      "        111, 124,  35, 119, 107, 100, 119,  35,  80, 104, 112, 101, 104, 117,\n",
      "         35,  86, 119, 100, 119, 104, 118,  35, 112, 120, 118, 119,  35, 103,\n",
      "        104, 121, 104, 111, 114, 115,  35, 119, 117, 100, 113, 118, 115, 100,\n",
      "        117, 104, 113, 119,  35, 116, 120, 100, 111, 108, 119, 124,  35, 104,\n",
      "        121, 100, 111, 120, 100, 119, 108, 114, 113,  35, 122, 108, 119, 107,\n",
      "         35, 107, 108, 106, 107,  48, 116, 120, 100, 111, 108, 119, 124,  35,\n",
      "        104, 103, 120, 102, 100, 119, 108, 114, 113,  35, 100, 118,  35, 119,\n",
      "        107,   1]), tensor([ 87, 107, 108, 118,  35, 122, 100, 118,  35, 113, 114, 119,  35, 108,\n",
      "        113,  35, 119, 107, 104,  35, 105, 108, 117, 118, 119,  35,  70, 114,\n",
      "        112, 112, 108, 118, 118, 108, 114, 113,  35, 115, 117, 114, 115, 114,\n",
      "        118, 100, 111,  47,  35, 100, 113, 103,  35, 113, 104, 108, 119, 107,\n",
      "        104, 117,  35, 122, 100, 118,  35, 119, 107, 104,  35, 115, 117, 114,\n",
      "        112, 114, 119, 108, 114, 113,  35, 114, 105,  35, 118, 114, 102, 108,\n",
      "        100, 111,  35, 108, 113, 119, 104, 106, 117, 100, 119, 108, 114, 113,\n",
      "         49,   1,   0,   0,   0,   0,   0,   0,   0,   0,   0,   0,   0,   0,\n",
      "          0,   0,   0,   0,   0,   0,   0,   0,   0,   0,   0,   0,   0,   0,\n",
      "          0,   0]), tensor([ 82, 105, 105, 104, 117, 108, 113, 106,  35, 104, 116, 120, 100, 111,\n",
      "         35, 114, 115, 115, 114, 117, 119, 120, 113, 108, 119, 108, 104, 118,\n",
      "         35, 119, 114,  35, 101, 114, 124, 118,  35, 100, 113, 103,  35, 106,\n",
      "        108, 117, 111, 118,  47,  35, 119, 107, 100, 119,  35, 122, 100, 118,\n",
      "         35, 100, 111, 118, 114,  35, 107, 100, 117, 103,  35, 119, 114,  35,\n",
      "        118, 104, 111, 111,  49,   1,   0,   0,   0,   0,   0,   0,   0,   0,\n",
      "          0,   0,   0,   0,   0,   0,   0,   0,   0,   0,   0,   0,   0,   0,\n",
      "          0,   0,   0,   0,   0,   0,   0,   0,   0,   0,   0,   0,   0,   0,\n",
      "          0,   0,   0,   0,   0,   0,   0,   0,   0,   0,   0,   0,   0,   0,\n",
      "          0,   0]), tensor([ 76, 119,  35, 122, 100, 118,  35, 103, 108, 105, 105, 108, 102, 120,\n",
      "        111, 119,  35, 119, 114,  35, 102, 114, 113, 121, 108, 113, 102, 104,\n",
      "         35, 119, 107, 104,  35,  70, 114, 120, 113, 102, 108, 111,  35, 119,\n",
      "        114,  35, 100, 103, 114, 115, 119,  35, 119, 107, 108, 118,  35, 122,\n",
      "        114, 117, 103, 108, 113, 106,  47,  35, 101, 120, 119,  35, 100, 118,\n",
      "         35, 117, 100, 115, 115, 114, 117, 119, 104, 120, 117,  47,  35,  76,\n",
      "         35, 100, 112,  35, 103, 104, 111, 108, 106, 107, 119, 104, 103,  35,\n",
      "        119, 107, 100, 119,  35, 101, 114, 119, 107,  35, 119, 107, 104,  35,\n",
      "         70, 114, 120, 113, 102, 108, 111,  35, 100, 113, 103,  35,  70, 114,\n",
      "        112,   1]), tensor([ 68, 113, 114, 119, 107, 104, 117,  35, 100, 118, 115, 104, 102, 119,\n",
      "         35, 122, 107, 108, 102, 107,  35, 122, 100, 118,  35, 102, 111, 114,\n",
      "        118, 104,  35, 119, 114,  35, 112, 124,  35, 107, 104, 100, 117, 119,\n",
      "         35, 108, 118,  35, 119, 107, 100, 119,  35, 115, 100, 117, 104, 113,\n",
      "        119, 118,  47,  35, 115, 120, 115, 108, 111, 118,  35, 100, 113, 103,\n",
      "         35, 119, 104, 100, 102, 107, 104, 117, 118,  35, 119, 114, 114,  35,\n",
      "        118, 107, 114, 120, 111, 103,  35, 101, 104,  35, 108, 113, 121, 114,\n",
      "        111, 121, 104, 103,  35, 108, 113,  35, 119, 107, 104,  35, 115, 117,\n",
      "        114, 102, 104, 118, 118,  49,   1,   0,   0,   0,   0,   0,   0,   0,\n",
      "          0,   0]), tensor([ 87, 107, 108, 118,  47,  35, 119, 114, 114,  47,  35, 107, 100, 118,\n",
      "         35, 113, 114, 122,  35, 101, 104, 104, 113,  35, 108, 113, 102, 111,\n",
      "        120, 103, 104, 103,  47,  35, 100, 113, 103,  35, 119, 107, 108, 118,\n",
      "         35, 108, 118,  35, 108, 112, 115, 114, 117, 119, 100, 113, 119,  35,\n",
      "        105, 114, 117,  35, 119, 107, 104,  35, 118, 120, 115, 115, 114, 117,\n",
      "        119,  35, 118, 119, 117, 120, 102, 119, 120, 117, 104,  35, 114, 105,\n",
      "         35, 104, 121, 100, 111, 120, 100, 119, 108, 114, 113,  35, 115, 117,\n",
      "        114, 102, 104, 118, 118, 104, 118,  35, 100, 113, 103,  35, 108, 112,\n",
      "        115, 117, 114, 121, 104, 112, 104, 113, 119, 118,  35, 108, 113,  35,\n",
      "        104,   1]), tensor([ 76, 119,  35, 108, 118,  35, 100, 111, 118, 114,  35, 108, 112, 115,\n",
      "        114, 117, 119, 100, 113, 119,  35, 119, 114,  35, 104, 113, 102, 114,\n",
      "        120, 117, 100, 106, 104,  35, 118, 102, 107, 114, 114, 111, 118,  35,\n",
      "        119, 114,  35, 102, 114, 114, 115, 104, 117, 100, 119, 104,  35, 100,\n",
      "        119,  35, 113, 100, 119, 108, 114, 113, 100, 111,  35, 100, 113, 103,\n",
      "         35,  72, 120, 117, 114, 115, 104, 100, 113,  35, 111, 104, 121, 104,\n",
      "        111,  49,   1,   0,   0,   0,   0,   0,   0,   0,   0,   0,   0,   0,\n",
      "          0,   0,   0,   0,   0,   0,   0,   0,   0,   0,   0,   0,   0,   0,\n",
      "          0,   0,   0,   0,   0,   0,   0,   0,   0,   0,   0,   0,   0,   0,\n",
      "          0,   0]), tensor([ 75, 114, 122, 104, 121, 104, 117,  47,  35,  76,  35, 101, 104, 111,\n",
      "        108, 104, 121, 104,  35, 119, 107, 100, 119,  35, 118, 102, 107, 114,\n",
      "        114, 111, 118,  35, 118, 107, 114, 120, 111, 103,  35, 113, 114, 119,\n",
      "         35, 101, 104,  35, 115, 117, 104, 121, 104, 113, 119, 104, 103,  35,\n",
      "        105, 117, 114, 112,  35, 111, 114, 114, 110, 108, 113, 106,  35, 105,\n",
      "        114, 117,  35, 118, 114, 120, 113, 103,  35, 102, 114, 114, 115, 104,\n",
      "        117, 100, 119, 108, 114, 113,  35, 115, 100, 117, 119, 113, 104, 117,\n",
      "        118,  35, 108, 113,  35, 119, 107, 104, 108, 117,  35, 108, 112, 112,\n",
      "        104, 103, 108, 100, 119, 104,  35, 118, 120, 117, 117, 114, 120, 113,\n",
      "        103,   1]), tensor([ 73, 108, 113, 100, 111, 111, 124,  47,  35,  76,  35, 118, 107, 114,\n",
      "        120, 111, 103,  35, 111, 108, 110, 104,  35, 119, 114,  35, 120, 113,\n",
      "        103, 104, 117, 111, 108, 113, 104,  35, 119, 107, 104,  35, 108, 112,\n",
      "        115, 114, 117, 119, 100, 113, 102, 104,  35, 114, 105,  35, 102, 114,\n",
      "        111, 111, 100, 119, 108, 113, 106,  35, 108, 113, 105, 114, 117, 112,\n",
      "        100, 119, 108, 114, 113,  35, 100, 113, 103,  35, 103, 104, 121, 104,\n",
      "        111, 114, 115, 108, 113, 106,  35, 108, 113, 103, 108, 102, 100, 119,\n",
      "        114, 117, 118,  35, 100, 113, 103,  35, 117, 104, 105, 104, 117, 104,\n",
      "        113, 102, 104, 118,  47,  35, 100, 113, 103,  35, 114, 105,  35, 104,\n",
      "        113,   1]), tensor([ 87, 107, 100, 119,  35, 108, 118,  35, 119, 107, 104,  35, 112, 114,\n",
      "        103, 104, 117, 113,  35, 122, 100, 124,  35, 114, 105,  35, 102, 114,\n",
      "        112, 112, 120, 113, 108, 102, 100, 119, 108, 113, 106,  49,   1,   0,\n",
      "          0,   0,   0,   0,   0,   0,   0,   0,   0,   0,   0,   0,   0,   0,\n",
      "          0,   0,   0,   0,   0,   0,   0,   0,   0,   0,   0,   0,   0,   0,\n",
      "          0,   0,   0,   0,   0,   0,   0,   0,   0,   0,   0,   0,   0,   0,\n",
      "          0,   0,   0,   0,   0,   0,   0,   0,   0,   0,   0,   0,   0,   0,\n",
      "          0,   0,   0,   0,   0,   0,   0,   0,   0,   0,   0,   0,   0,   0,\n",
      "          0,   0,   0,   0,   0,   0,   0,   0,   0,   0,   0,   0,   0,   0,\n",
      "          0,   0]), tensor([ 76, 119,  35, 101, 117, 108, 113, 106, 118,  35, 112, 104,  35, 115,\n",
      "        111, 104, 100, 118, 120, 117, 104,  35, 115, 104, 117, 118, 114, 113,\n",
      "        100, 111, 111, 124,  35, 100, 118,  35, 117, 100, 115, 115, 114, 117,\n",
      "        119, 104, 120, 117,  35, 119, 114,  35, 118, 104, 104,  35, 119, 107,\n",
      "        100, 119,  35, 119, 107, 104,  35,  80, 104, 112, 101, 104, 117,  35,\n",
      "         86, 119, 100, 119, 104, 118,  35, 107, 100, 121, 104,  35, 106, 114,\n",
      "        119,  35, 103, 114, 122, 113,  35, 119, 114,  35, 122, 114, 117, 110,\n",
      "         35, 101, 114, 119, 107,  35, 108, 113, 103, 104, 115, 104, 113, 103,\n",
      "        104, 113, 119, 111, 124,  35, 100, 113, 103,  35, 120, 113, 103, 104,\n",
      "        117,   1]), tensor([ 83, 100, 117, 111, 108, 100, 112, 104, 113, 119,  35, 122, 108, 111,\n",
      "        111,  35, 101, 104,  35, 112, 114, 113, 108, 119, 114, 117, 108, 113,\n",
      "        106,  35, 119, 107, 104,  35, 103, 104, 121, 104, 111, 114, 115, 112,\n",
      "        104, 113, 119, 118,  35, 102, 111, 114, 118, 104, 111, 124,  49,   1,\n",
      "          0,   0,   0,   0,   0,   0,   0,   0,   0,   0,   0,   0,   0,   0,\n",
      "          0,   0,   0,   0,   0,   0,   0,   0,   0,   0,   0,   0,   0,   0,\n",
      "          0,   0,   0,   0,   0,   0,   0,   0,   0,   0,   0,   0,   0,   0,\n",
      "          0,   0,   0,   0,   0,   0,   0,   0,   0,   0,   0,   0,   0,   0,\n",
      "          0,   0,   0,   0,   0,   0,   0,   0,   0,   0,   0,   0,   0,   0,\n",
      "          0,   0]), tensor([ 80, 117,  35,  83, 117, 104, 118, 108, 103, 104, 113, 119,  47,  35,\n",
      "         70, 114, 112, 112, 108, 118, 118, 108, 114, 113, 104, 117,  47,  35,\n",
      "        119, 107, 104,  35, 102, 114, 112, 112, 114, 113,  35, 115, 114, 118,\n",
      "        108, 119, 108, 114, 113,  35, 100, 118,  35, 108, 119,  35, 108, 118,\n",
      "         35, 113, 114, 122,  35, 101, 104, 105, 114, 117, 104,  35, 120, 118,\n",
      "         35, 108, 118,  35, 119, 107, 104,  35, 117, 104, 118, 120, 111, 119,\n",
      "         35, 114, 105,  35, 118, 114, 120, 113, 103,  35, 100, 113, 103,  35,\n",
      "        102, 114, 113, 118, 119, 117, 120, 102, 119, 108, 121, 104,  35, 102,\n",
      "        114, 114, 115, 104, 117, 100, 119, 108, 114, 113,  35, 122, 108, 119,\n",
      "        107,   1]), tensor([ 76,  35, 100, 112,  35, 108, 113, 119, 104, 117, 104, 118, 119, 104,\n",
      "        103,  35, 119, 114,  35, 107, 104, 100, 117,  35, 124, 114, 120, 117,\n",
      "         35, 117, 104, 100, 102, 119, 108, 114, 113,  49,   1,   0,   0,   0,\n",
      "          0,   0,   0,   0,   0,   0,   0,   0,   0,   0,   0,   0,   0,   0,\n",
      "          0,   0,   0,   0,   0,   0,   0,   0,   0,   0,   0,   0,   0,   0,\n",
      "          0,   0,   0,   0,   0,   0,   0,   0,   0,   0,   0,   0,   0,   0,\n",
      "          0,   0,   0,   0,   0,   0,   0,   0,   0,   0,   0,   0,   0,   0,\n",
      "          0,   0,   0,   0,   0,   0,   0,   0,   0,   0,   0,   0,   0,   0,\n",
      "          0,   0,   0,   0,   0,   0,   0,   0,   0,   0,   0,   0,   0,   0,\n",
      "          0,   0]), tensor([ 80, 117,  35,  83, 117, 104, 118, 108, 103, 104, 113, 119,  47,  35,\n",
      "         70, 114, 112, 112, 108, 118, 118, 108, 114, 113, 104, 117,  47,  35,\n",
      "         80, 117, 118,  35,  83, 104, 108, 109, 118,  47,  35, 111, 100, 103,\n",
      "        108, 104, 118,  35, 100, 113, 103,  35, 106, 104, 113, 119, 111, 104,\n",
      "        112, 104, 113,  47,  35,  76,  35, 122, 108, 118, 107,  35, 119, 114,\n",
      "         35, 101, 104, 106, 108, 113,  35, 101, 124,  35, 119, 107, 100, 113,\n",
      "        110, 108, 113, 106,  35,  80, 117, 118,  35,  86, 100, 113, 103, 104,\n",
      "        117, 118,  48, 119, 104, 113,  35,  75, 114, 111, 119, 104,  35, 105,\n",
      "        114, 117,  35, 119, 107, 104,  35, 122, 114, 117, 110,  35, 118, 107,\n",
      "        104,   1]), tensor([ 82, 113,  35, 101, 104, 107, 100, 111, 105,  35, 114, 105,  35, 112,\n",
      "        124,  35, 102, 114, 112, 112, 108, 119, 119, 104, 104,  47,  35, 119,\n",
      "        107, 104,  35,  70, 114, 112, 112, 108, 119, 119, 104, 104,  35, 114,\n",
      "        113,  35,  72, 112, 115, 111, 114, 124, 112, 104, 113, 119,  35, 100,\n",
      "        113, 103,  35,  86, 114, 102, 108, 100, 111,  35,  68, 105, 105, 100,\n",
      "        108, 117, 118,  47,  35,  76,  35, 122, 114, 120, 111, 103,  35, 115,\n",
      "        100, 117, 119, 108, 102, 120, 111, 100, 117, 111, 124,  35, 111, 108,\n",
      "        110, 104,  35, 119, 114,  35, 118, 119, 117, 104, 118, 118,  35, 119,\n",
      "        107, 104,  35, 108, 112, 115, 114, 117, 119, 100, 113, 102, 104,  35,\n",
      "        114,   1]), tensor([ 75, 108, 106, 107,  35, 116, 120, 100, 111, 108, 119, 124,  35, 104,\n",
      "        103, 120, 102, 100, 119, 108, 114, 113,  35, 118, 124, 118, 119, 104,\n",
      "        112, 118,  35, 112, 120, 118, 119,  35, 118, 119, 117, 108, 121, 104,\n",
      "         35, 119, 114,  35, 100, 102, 107, 108, 104, 121, 104,  35, 114, 101,\n",
      "        109, 104, 102, 119, 108, 121, 104, 118,  47,  35, 118, 120, 102, 107,\n",
      "         35, 100, 118,  35, 119, 114,  35, 106, 104, 119,  35, 115, 104, 114,\n",
      "        115, 111, 104,  35, 108, 113, 119, 114,  35, 119, 107, 104,  35, 111,\n",
      "        100, 101, 114, 120, 117,  35, 112, 100, 117, 110, 104, 119,  47,  35,\n",
      "        119, 114,  35, 117, 104, 103, 120, 102, 104,  35, 119, 107, 104,  35,\n",
      "        113,   1]), tensor([ 76,  35, 112, 120, 118, 119,  35, 107, 108, 106, 107, 111, 108, 106,\n",
      "        107, 119,  35, 119, 122, 114,  35, 115, 114, 108, 113, 119, 118,  35,\n",
      "        108, 113,  35, 119, 107, 108, 118,  35, 116, 120, 100, 111, 108, 119,\n",
      "        124,  35, 104, 121, 100, 111, 120, 100, 119, 108, 114, 113,  35, 100,\n",
      "        118,  35, 118, 115, 104, 102, 108, 105, 108, 104, 103,  35, 108, 113,\n",
      "         35, 119, 107, 104,  35, 102, 114, 112, 112, 114, 113,  35, 115, 114,\n",
      "        118, 108, 119, 108, 114, 113,  49,   1,   0,   0,   0,   0,   0,   0,\n",
      "          0,   0,   0,   0,   0,   0,   0,   0,   0,   0,   0,   0,   0,   0,\n",
      "          0,   0,   0,   0,   0,   0,   0,   0,   0,   0,   0,   0,   0,   0,\n",
      "          0,   0]), tensor([ 73, 108, 117, 118, 119,  35, 114, 105,  35, 100, 111, 111,  47,  35,\n",
      "        119, 107, 108, 118,  35, 115, 117, 114, 102, 104, 118, 118,  35, 112,\n",
      "        100, 110, 104, 118,  35, 100,  35, 102, 111, 104, 100, 117,  35, 103,\n",
      "        108, 118, 119, 108, 113, 102, 119, 108, 114, 113,  35, 101, 104, 119,\n",
      "        122, 104, 104, 113,  35, 100, 103, 112, 108, 113, 108, 118, 119, 117,\n",
      "        100, 119, 108, 121, 104,  35, 104, 121, 100, 111, 120, 100, 119, 108,\n",
      "        114, 113,  35, 100, 113, 103,  35, 119, 107, 104,  35, 108, 113, 113,\n",
      "        114, 121, 100, 119, 108, 121, 104,  35, 115, 117, 114, 102, 104, 103,\n",
      "        120, 117, 104, 118,  35, 119, 107, 100, 119,  35, 122, 104,  35, 122,\n",
      "        114,   1]), tensor([ 87, 107, 104,  35, 118, 104, 102, 114, 113, 103,  35, 115, 114, 108,\n",
      "        113, 119,  35, 122, 107, 108, 102, 107,  35,  76,  35, 122, 114, 120,\n",
      "        111, 103,  35, 111, 108, 110, 104,  35, 119, 114,  35, 107, 108, 106,\n",
      "        107, 111, 108, 106, 107, 119,  35, 107, 100, 118,  35, 115, 104, 117,\n",
      "        107, 100, 115, 118,  35, 113, 114, 119,  35, 101, 104, 104, 113,  35,\n",
      "        105, 120, 111, 111, 124,  35, 119, 100, 110, 104, 113,  35, 114, 113,\n",
      "         35, 101, 114, 100, 117, 103,  47,  35, 100, 118,  35, 122, 104,  35,\n",
      "        122, 114, 120, 111, 103,  35, 107, 100, 121, 104,  35, 122, 108, 118,\n",
      "        107, 104, 103,  49,   1,   0,   0,   0,   0,   0,   0,   0,   0,   0,\n",
      "          0,   0]), tensor([ 90, 107, 100, 119,  35, 122, 104,  35, 103, 114,  35, 113, 114, 119,\n",
      "         35, 122, 100, 113, 119,  35, 119, 114,  35, 103, 114,  35, 108, 118,\n",
      "         35, 119, 114,  35, 119, 120, 117, 113,  35, 119, 107, 104,  35, 116,\n",
      "        120, 100, 111, 108, 119, 124,  35, 104, 121, 100, 111, 120, 100, 119,\n",
      "        108, 114, 113,  35, 115, 117, 114, 102, 104, 118, 118,  35, 108, 113,\n",
      "        119, 114,  35, 100,  35, 105, 100, 102, 119, 114, 117,  35, 105, 114,\n",
      "        117,  35, 104, 118, 119, 100, 101, 111, 108, 118, 107, 108, 113, 106,\n",
      "         35, 100,  35, 107, 108, 104, 117, 100, 117, 102, 107, 124,  47,  35,\n",
      "        102, 111, 100, 118, 118, 108, 105, 108, 102, 100, 119, 108, 114, 113,\n",
      "         35,   1]), tensor([ 82, 113,  35, 119, 107, 104,  35, 102, 114, 113, 119, 117, 100, 117,\n",
      "        124,  47,  35, 119, 107, 108, 118,  35, 105, 114, 117, 112,  35, 114,\n",
      "        105,  35, 104, 121, 100, 111, 120, 100, 119, 108, 114, 113,  35, 118,\n",
      "        107, 114, 120, 111, 103,  35, 100, 111, 111, 114, 122,  35, 104, 100,\n",
      "        102, 107,  35, 104, 118, 119, 100, 101, 111, 108, 118, 107, 112, 104,\n",
      "        113, 119,  47,  35, 107, 114, 122, 104, 121, 104, 117,  35, 103, 108,\n",
      "        105, 105, 104, 117, 104, 113, 119,  35, 108, 113,  35, 119, 104, 117,\n",
      "        112, 118,  35, 114, 105,  35, 108, 119, 118,  35, 118, 119, 120, 103,\n",
      "        104, 113, 119, 118,  35, 114, 117,  35, 119, 107, 104,  35, 112, 104,\n",
      "        119,   1]), tensor([ 80, 117,  35,  83, 117, 104, 118, 108, 103, 104, 113, 119,  47,  35,\n",
      "        119, 107, 108, 118,  35, 117, 104, 115, 114, 117, 119,  35, 108, 118,\n",
      "         35, 118, 119, 117, 114, 113, 106, 111, 124,  35, 118, 120, 115, 115,\n",
      "        114, 117, 119, 104, 103,  35, 101, 124,  35, 119, 107, 104,  35,  83,\n",
      "         83,  72,  48,  71,  72,  35,  74, 117, 114, 120, 115,  49,   1,   0,\n",
      "          0,   0,   0,   0,   0,   0,   0,   0,   0,   0,   0,   0,   0,   0,\n",
      "          0,   0,   0,   0,   0,   0,   0,   0,   0,   0,   0,   0,   0,   0,\n",
      "          0,   0,   0,   0,   0,   0,   0,   0,   0,   0,   0,   0,   0,   0,\n",
      "          0,   0,   0,   0,   0,   0,   0,   0,   0,   0,   0,   0,   0,   0,\n",
      "          0,   0]), tensor([ 76, 113, 103, 104, 104, 103,  47,  35, 122, 104,  35, 107, 100, 121,\n",
      "        104,  35, 118, 120, 115, 115, 114, 117, 119, 104, 103,  35, 108, 119,\n",
      "         35, 119, 107, 117, 114, 120, 106, 107, 114, 120, 119,  35, 119, 107,\n",
      "        104,  35, 104, 113, 119, 108, 117, 104,  35, 115, 117, 114, 102, 104,\n",
      "        103, 120, 117, 104,  49,   1,   0,   0,   0,   0,   0,   0,   0,   0,\n",
      "          0,   0,   0,   0,   0,   0,   0,   0,   0,   0,   0,   0,   0,   0,\n",
      "          0,   0,   0,   0,   0,   0,   0,   0,   0,   0,   0,   0,   0,   0,\n",
      "          0,   0,   0,   0,   0,   0,   0,   0,   0,   0,   0,   0,   0,   0,\n",
      "          0,   0,   0,   0,   0,   0,   0,   0,   0,   0,   0,   0,   0,   0,\n",
      "          0,   0]), tensor([ 90, 104,  35, 117, 104, 106, 117, 104, 119, 119, 104, 103,  35, 119,\n",
      "        107, 100, 119,  35, 108, 113, 108, 119, 108, 100, 111, 111, 124,  35,\n",
      "        119, 107, 104, 117, 104,  35, 122, 100, 118,  35, 118, 114, 112, 104,\n",
      "         35, 118, 111, 108, 106, 107, 119,  35, 117, 104, 118, 108, 118, 119,\n",
      "        100, 113, 102, 104,  35, 105, 117, 114, 112,  35, 119, 107, 104,  35,\n",
      "         70, 114, 120, 113, 102, 108, 111,  35, 101, 120, 119,  35, 122, 104,\n",
      "         35, 100, 117, 104,  35, 121, 104, 117, 124,  35, 115, 111, 104, 100,\n",
      "        118, 104, 103,  35, 119, 107, 100, 119,  47,  35, 100, 118,  35, 100,\n",
      "         35, 117, 104, 118, 120, 111, 119,  35, 114, 105,  35, 118, 119, 117,\n",
      "        114,   1]), tensor([ 90, 104,  35, 102, 114, 113, 106, 117, 100, 119, 120, 111, 100, 119,\n",
      "        104,  35, 119, 107, 104,  35,  70, 114, 112, 112, 108, 118, 118, 108,\n",
      "        114, 113, 104, 117,  35, 100, 113, 103,  35, 119, 107, 104,  35, 117,\n",
      "        100, 115, 115, 114, 117, 119, 104, 120, 117,  35, 114, 113,  35, 119,\n",
      "        107, 104, 108, 117,  35, 122, 114, 117, 110,  35, 119, 114,  35, 100,\n",
      "        102, 107, 108, 104, 121, 104,  35, 119, 107, 100, 119,  49,   1,   0,\n",
      "          0,   0,   0,   0,   0,   0,   0,   0,   0,   0,   0,   0,   0,   0,\n",
      "          0,   0,   0,   0,   0,   0,   0,   0,   0,   0,   0,   0,   0,   0,\n",
      "          0,   0,   0,   0,   0,   0,   0,   0,   0,   0,   0,   0,   0,   0,\n",
      "          0,   0]), tensor([ 90, 104,  35, 102, 104, 117, 119, 100, 108, 113, 111, 124,  35, 100,\n",
      "        111, 111,  35, 100, 106, 117, 104, 104,  35, 107, 104, 117, 104,  35,\n",
      "        108, 113,  35, 119, 107, 108, 118,  35,  70, 107, 100, 112, 101, 104,\n",
      "        117,  35, 119, 107, 100, 119,  35, 104, 103, 120, 102, 100, 119, 108,\n",
      "        114, 113,  35, 108, 118,  35, 114, 105,  35, 121, 108, 119, 100, 111,\n",
      "         35, 108, 112, 115, 114, 117, 119, 100, 113, 102, 104,  35, 100, 113,\n",
      "        103,  35, 119, 107, 100, 119,  35, 100, 113,  35, 104, 103, 120, 102,\n",
      "        100, 119, 104, 103,  35, 122, 114, 117, 110, 105, 114, 117, 102, 104,\n",
      "         35, 108, 118,  35, 119, 107, 104,  35, 102, 114, 117, 113, 104, 117,\n",
      "        118,   1]), tensor([ 87, 107, 104, 117, 104, 105, 114, 117, 104,  47,  35, 100, 113, 124,\n",
      "         35, 100, 119, 119, 104, 112, 115, 119, 118,  35, 119, 114,  35, 108,\n",
      "        112, 115, 117, 114, 121, 104,  35, 118, 119, 100, 113, 103, 100, 117,\n",
      "        103, 118,  35, 108, 113,  35, 114, 120, 117,  35, 118, 102, 107, 114,\n",
      "        114, 111, 118,  35, 112, 120, 118, 119,  35, 101, 104,  35, 122, 104,\n",
      "        111, 102, 114, 112, 104, 103,  35, 122, 108, 119, 107,  35, 114, 115,\n",
      "        104, 113,  35, 100, 117, 112, 118,  49,   1,   0,   0,   0,   0,   0,\n",
      "          0,   0,   0,   0,   0,   0,   0,   0,   0,   0,   0,   0,   0,   0,\n",
      "          0,   0,   0,   0,   0,   0,   0,   0,   0,   0,   0,   0,   0,   0,\n",
      "          0,   0]), tensor([ 90, 104,  35, 100, 111, 118, 114,  35, 100, 111, 111,  35, 100, 106,\n",
      "        117, 104, 104,  35, 119, 107, 100, 119,  35, 104, 103, 120, 102, 100,\n",
      "        119, 108, 114, 113,  35, 108, 118,  35, 117, 108, 106, 107, 119, 111,\n",
      "        124,  35, 100,  35, 112, 100, 119, 119, 104, 117,  35, 105, 114, 117,\n",
      "         35, 119, 107, 104,  35, 108, 113, 103, 108, 121, 108, 103, 120, 100,\n",
      "        111,  35,  80, 104, 112, 101, 104, 117,  35,  86, 119, 100, 119, 104,\n",
      "        118,  35, 100, 113, 103,  35, 119, 107, 104,  35, 117, 104, 106, 108,\n",
      "        114, 113, 118,  49,   1,   0,   0,   0,   0,   0,   0,   0,   0,   0,\n",
      "          0,   0,   0,   0,   0,   0,   0,   0,   0,   0,   0,   0,   0,   0,\n",
      "          0,   0]), tensor([ 69, 120, 119,  35, 119, 107, 104, 117, 104,  35, 108, 118,  35, 117,\n",
      "        114, 114, 112,  35, 105, 114, 117,  35, 119, 107, 104,  35,  70, 114,\n",
      "        112, 112, 108, 118, 118, 108, 114, 113,  35, 119, 114,  35, 102, 114,\n",
      "        114, 117, 103, 108, 113, 100, 119, 104,  35, 100, 113, 103,  35, 108,\n",
      "        112, 115, 117, 114, 121, 104,  35, 104, 121, 100, 111, 120, 100, 119,\n",
      "        108, 114, 113,  35, 118, 124, 118, 119, 104, 112, 118,  35, 100, 118,\n",
      "         35, 115, 117, 114, 121, 108, 103, 104, 103,  35, 105, 114, 117,  35,\n",
      "        108, 113,  35, 119, 107, 104,  35,  87, 117, 104, 100, 119, 124,  35,\n",
      "        100, 113, 103,  35,  76,  35, 122, 100, 118,  35, 106, 111, 100, 103,\n",
      "         35,   1]), tensor([ 70, 104, 117, 119, 100, 108, 113, 111, 124,  47,  35, 100, 119,  35,\n",
      "        119, 107, 104,  35, 112, 114, 112, 104, 113, 119,  35, 108, 119,  35,\n",
      "        108, 118,  35, 103, 108, 105, 105, 108, 102, 120, 111, 119,  35, 119,\n",
      "        114,  35, 106, 104, 119,  35, 115, 100, 118, 119,  35, 104, 100, 102,\n",
      "        107,  35, 102, 114, 120, 113, 119, 117, 124,  42, 118,  35, 121, 100,\n",
      "        117, 108, 114, 120, 118,  35, 104, 123, 100, 112, 108, 113, 100, 119,\n",
      "        108, 114, 113,  35, 118, 124, 118, 119, 104, 112, 118,  35, 100, 113,\n",
      "        103,  35, 119, 104, 100, 102, 107, 108, 113, 106,  35, 115, 107, 108,\n",
      "        111, 114, 118, 114, 115, 107, 108, 104, 118,  35, 119, 114,  35, 117,\n",
      "        104,   1]), tensor([ 68, 118,  35, 100,  35, 105, 114, 117, 112, 104, 117,  35, 111, 104,\n",
      "        102, 119, 120, 117, 104, 117,  35, 112, 124, 118, 104, 111, 105,  47,\n",
      "         35,  76,  35, 122, 114, 120, 111, 103,  35, 107, 100, 121, 104,  35,\n",
      "        122, 104, 111, 102, 114, 112, 104, 103,  35, 100,  35, 102, 111, 104,\n",
      "        100, 117,  35, 108, 103, 104, 100,  35, 114, 105,  35, 107, 114, 122,\n",
      "         35,  69, 117, 108, 119, 108, 118, 107,  35, 119, 104, 100, 102, 107,\n",
      "        108, 113, 106,  35, 100, 113, 103,  35, 104, 103, 120, 102, 100, 119,\n",
      "        108, 114, 113, 100, 111,  35, 118, 119, 100, 113, 103, 100, 117, 103,\n",
      "        118,  35, 102, 114, 112, 115, 100, 117, 104, 103,  35, 119, 114,  35,\n",
      "        119,   1])]\n"
     ]
    }
   ],
   "source": [
    "print(trgt[:500])"
   ],
   "metadata": {
    "collapsed": false,
    "ExecuteTime": {
     "end_time": "2024-06-24T22:08:28.649352800Z",
     "start_time": "2024-06-24T22:08:28.507065100Z"
    }
   },
   "id": "6ebe0d5915106d",
   "execution_count": 15
  },
  {
   "cell_type": "code",
   "outputs": [],
   "source": [
    "translation_dataset = TranslationDataset(tokenized_source_texts, tokenized_target_texts)\n",
    "dataset_size = len(translation_dataset)\n",
    "train_size = int(0.8 * dataset_size)\n",
    "test_size = dataset_size - train_size\n",
    "train_dataset, test_dataset = torch.utils.data.random_split(translation_dataset, [train_size, test_size])\n",
    "train_loader = DataLoader(train_dataset, batch_size=batch_size, shuffle=True)\n",
    "test_loader = DataLoader(test_dataset, batch_size=batch_size, shuffle=True)"
   ],
   "metadata": {
    "collapsed": false,
    "ExecuteTime": {
     "end_time": "2024-06-24T22:08:28.709194800Z",
     "start_time": "2024-06-24T22:08:28.653352300Z"
    }
   },
   "id": "7832e3ebab290ddf",
   "execution_count": 16
  },
  {
   "cell_type": "code",
   "outputs": [],
   "source": [
    "criterion = torch.nn.CrossEntropyLoss()\n",
    "inputEmbedding = InputEmbeddingTensor(vocab_size, embed_size)\n",
    "# size and all params according to the paper, reduce for performance\n",
    "encoder_decoder = EncoderDecoderStacking(n_sets=3, blocks_per_set=5, output_channels=vocab_size,emb_size=embed_size).to(\n",
    "    device)\n",
    "\n",
    "# Define a loss function and an optimizer\n",
    "# When changing Loss function, make sure to check if the decoder should have the softmax layer, and adjust that\n",
    "optimizer = torch.optim.Adam(encoder_decoder.parameters(), lr=0.0003)  #  Paper: 0.0003\n",
    "# Number of epochs\n",
    "num_epochs = 3\n"
   ],
   "metadata": {
    "collapsed": false,
    "ExecuteTime": {
     "end_time": "2024-06-24T22:08:30.055279700Z",
     "start_time": "2024-06-24T22:08:28.701194800Z"
    }
   },
   "id": "102fd7de4aaea82a",
   "execution_count": 17
  },
  {
   "cell_type": "code",
   "outputs": [
    {
     "name": "stderr",
     "output_type": "stream",
     "text": [
      "  0%|          | 1/18411 [00:00<4:42:46,  1.09it/s]"
     ]
    },
    {
     "name": "stdout",
     "output_type": "stream",
     "text": [
      "Epoch [1/1], Step [1/18411], Loss: 5.923763275146484\n"
     ]
    },
    {
     "name": "stderr",
     "output_type": "stream",
     "text": [
      "  0%|          | 26/18411 [00:15<3:01:21,  1.69it/s]"
     ]
    },
    {
     "name": "stdout",
     "output_type": "stream",
     "text": [
      "Epoch [1/1], Step [26/18411], Loss: 2.747082471847534\n"
     ]
    },
    {
     "name": "stderr",
     "output_type": "stream",
     "text": [
      "  0%|          | 51/18411 [00:30<3:01:23,  1.69it/s]"
     ]
    },
    {
     "name": "stdout",
     "output_type": "stream",
     "text": [
      "Epoch [1/1], Step [51/18411], Loss: 2.7317094802856445\n"
     ]
    },
    {
     "name": "stderr",
     "output_type": "stream",
     "text": [
      "  0%|          | 76/18411 [00:44<3:01:31,  1.68it/s]"
     ]
    },
    {
     "name": "stdout",
     "output_type": "stream",
     "text": [
      "Epoch [1/1], Step [76/18411], Loss: 2.5172066688537598\n"
     ]
    },
    {
     "name": "stderr",
     "output_type": "stream",
     "text": [
      "  1%|          | 101/18411 [00:59<3:01:33,  1.68it/s]"
     ]
    },
    {
     "name": "stdout",
     "output_type": "stream",
     "text": [
      "Epoch [1/1], Step [101/18411], Loss: 2.671386241912842\n"
     ]
    },
    {
     "name": "stderr",
     "output_type": "stream",
     "text": [
      "  1%|          | 126/18411 [01:13<2:46:32,  1.83it/s]"
     ]
    },
    {
     "name": "stdout",
     "output_type": "stream",
     "text": [
      "Epoch [1/1], Step [126/18411], Loss: 2.6472041606903076\n"
     ]
    },
    {
     "name": "stderr",
     "output_type": "stream",
     "text": [
      "  1%|          | 151/18411 [01:27<2:46:17,  1.83it/s]"
     ]
    },
    {
     "name": "stdout",
     "output_type": "stream",
     "text": [
      "Epoch [1/1], Step [151/18411], Loss: 2.480778455734253\n"
     ]
    },
    {
     "name": "stderr",
     "output_type": "stream",
     "text": [
      "  1%|          | 176/18411 [01:40<2:45:58,  1.83it/s]"
     ]
    },
    {
     "name": "stdout",
     "output_type": "stream",
     "text": [
      "Epoch [1/1], Step [176/18411], Loss: 2.647597074508667\n"
     ]
    },
    {
     "name": "stderr",
     "output_type": "stream",
     "text": [
      "  1%|          | 201/18411 [01:54<2:45:50,  1.83it/s]"
     ]
    },
    {
     "name": "stdout",
     "output_type": "stream",
     "text": [
      "Epoch [1/1], Step [201/18411], Loss: 2.5525224208831787\n"
     ]
    },
    {
     "name": "stderr",
     "output_type": "stream",
     "text": [
      "  1%|          | 226/18411 [02:07<2:49:08,  1.79it/s]"
     ]
    },
    {
     "name": "stdout",
     "output_type": "stream",
     "text": [
      "Epoch [1/1], Step [226/18411], Loss: 2.499941110610962\n"
     ]
    },
    {
     "name": "stderr",
     "output_type": "stream",
     "text": [
      "  1%|▏         | 251/18411 [02:21<2:45:47,  1.83it/s]"
     ]
    },
    {
     "name": "stdout",
     "output_type": "stream",
     "text": [
      "Epoch [1/1], Step [251/18411], Loss: 2.643735885620117\n"
     ]
    },
    {
     "name": "stderr",
     "output_type": "stream",
     "text": [
      "  1%|▏         | 276/18411 [02:34<2:45:17,  1.83it/s]"
     ]
    },
    {
     "name": "stdout",
     "output_type": "stream",
     "text": [
      "Epoch [1/1], Step [276/18411], Loss: 2.3605775833129883\n"
     ]
    },
    {
     "name": "stderr",
     "output_type": "stream",
     "text": [
      "  2%|▏         | 301/18411 [02:49<2:59:47,  1.68it/s]"
     ]
    },
    {
     "name": "stdout",
     "output_type": "stream",
     "text": [
      "Epoch [1/1], Step [301/18411], Loss: 2.3085131645202637\n"
     ]
    },
    {
     "name": "stderr",
     "output_type": "stream",
     "text": [
      "  2%|▏         | 326/18411 [03:03<3:00:01,  1.67it/s]"
     ]
    },
    {
     "name": "stdout",
     "output_type": "stream",
     "text": [
      "Epoch [1/1], Step [326/18411], Loss: 2.4324731826782227\n"
     ]
    },
    {
     "name": "stderr",
     "output_type": "stream",
     "text": [
      "  2%|▏         | 351/18411 [03:18<2:58:59,  1.68it/s]"
     ]
    },
    {
     "name": "stdout",
     "output_type": "stream",
     "text": [
      "Epoch [1/1], Step [351/18411], Loss: 2.3233516216278076\n"
     ]
    },
    {
     "name": "stderr",
     "output_type": "stream",
     "text": [
      "  2%|▏         | 376/18411 [03:33<2:58:13,  1.69it/s]"
     ]
    },
    {
     "name": "stdout",
     "output_type": "stream",
     "text": [
      "Epoch [1/1], Step [376/18411], Loss: 2.6174752712249756\n"
     ]
    },
    {
     "name": "stderr",
     "output_type": "stream",
     "text": [
      "  2%|▏         | 401/18411 [03:47<2:59:10,  1.68it/s]"
     ]
    },
    {
     "name": "stdout",
     "output_type": "stream",
     "text": [
      "Epoch [1/1], Step [401/18411], Loss: 2.561753511428833\n"
     ]
    },
    {
     "name": "stderr",
     "output_type": "stream",
     "text": [
      "  2%|▏         | 426/18411 [04:02<2:55:44,  1.71it/s]"
     ]
    },
    {
     "name": "stdout",
     "output_type": "stream",
     "text": [
      "Epoch [1/1], Step [426/18411], Loss: 2.4332828521728516\n"
     ]
    },
    {
     "name": "stderr",
     "output_type": "stream",
     "text": [
      "  2%|▏         | 451/18411 [04:16<2:50:30,  1.76it/s]"
     ]
    },
    {
     "name": "stdout",
     "output_type": "stream",
     "text": [
      "Epoch [1/1], Step [451/18411], Loss: 2.639113664627075\n"
     ]
    },
    {
     "name": "stderr",
     "output_type": "stream",
     "text": [
      "  3%|▎         | 476/18411 [04:31<2:57:58,  1.68it/s]"
     ]
    },
    {
     "name": "stdout",
     "output_type": "stream",
     "text": [
      "Epoch [1/1], Step [476/18411], Loss: 2.461958646774292\n"
     ]
    },
    {
     "name": "stderr",
     "output_type": "stream",
     "text": [
      "  3%|▎         | 501/18411 [04:46<2:57:39,  1.68it/s]"
     ]
    },
    {
     "name": "stdout",
     "output_type": "stream",
     "text": [
      "Epoch [1/1], Step [501/18411], Loss: 2.5045981407165527\n"
     ]
    },
    {
     "name": "stderr",
     "output_type": "stream",
     "text": [
      "  3%|▎         | 526/18411 [05:00<2:58:22,  1.67it/s]"
     ]
    },
    {
     "name": "stdout",
     "output_type": "stream",
     "text": [
      "Epoch [1/1], Step [526/18411], Loss: 2.499451160430908\n"
     ]
    },
    {
     "name": "stderr",
     "output_type": "stream",
     "text": [
      "  3%|▎         | 551/18411 [05:15<2:58:31,  1.67it/s]"
     ]
    },
    {
     "name": "stdout",
     "output_type": "stream",
     "text": [
      "Epoch [1/1], Step [551/18411], Loss: 2.3568837642669678\n"
     ]
    },
    {
     "name": "stderr",
     "output_type": "stream",
     "text": [
      "  3%|▎         | 576/18411 [05:30<2:57:23,  1.68it/s]"
     ]
    },
    {
     "name": "stdout",
     "output_type": "stream",
     "text": [
      "Epoch [1/1], Step [576/18411], Loss: 2.387563467025757\n"
     ]
    },
    {
     "name": "stderr",
     "output_type": "stream",
     "text": [
      "  3%|▎         | 601/18411 [05:45<2:55:30,  1.69it/s]"
     ]
    },
    {
     "name": "stdout",
     "output_type": "stream",
     "text": [
      "Epoch [1/1], Step [601/18411], Loss: 2.5116448402404785\n"
     ]
    },
    {
     "name": "stderr",
     "output_type": "stream",
     "text": [
      "  3%|▎         | 626/18411 [05:59<2:55:48,  1.69it/s]"
     ]
    },
    {
     "name": "stdout",
     "output_type": "stream",
     "text": [
      "Epoch [1/1], Step [626/18411], Loss: 2.3793277740478516\n"
     ]
    },
    {
     "name": "stderr",
     "output_type": "stream",
     "text": [
      "  4%|▎         | 651/18411 [06:13<2:49:31,  1.75it/s]"
     ]
    },
    {
     "name": "stdout",
     "output_type": "stream",
     "text": [
      "Epoch [1/1], Step [651/18411], Loss: 2.575197696685791\n"
     ]
    },
    {
     "name": "stderr",
     "output_type": "stream",
     "text": [
      "  4%|▎         | 676/18411 [06:27<2:42:36,  1.82it/s]"
     ]
    },
    {
     "name": "stdout",
     "output_type": "stream",
     "text": [
      "Epoch [1/1], Step [676/18411], Loss: 2.216629981994629\n"
     ]
    },
    {
     "name": "stderr",
     "output_type": "stream",
     "text": [
      "  4%|▍         | 701/18411 [06:41<2:45:32,  1.78it/s]"
     ]
    },
    {
     "name": "stdout",
     "output_type": "stream",
     "text": [
      "Epoch [1/1], Step [701/18411], Loss: 2.246415615081787\n"
     ]
    },
    {
     "name": "stderr",
     "output_type": "stream",
     "text": [
      "  4%|▍         | 726/18411 [06:55<2:47:58,  1.75it/s]"
     ]
    },
    {
     "name": "stdout",
     "output_type": "stream",
     "text": [
      "Epoch [1/1], Step [726/18411], Loss: 2.511845827102661\n"
     ]
    },
    {
     "name": "stderr",
     "output_type": "stream",
     "text": [
      "  4%|▍         | 751/18411 [07:08<2:44:01,  1.79it/s]"
     ]
    },
    {
     "name": "stdout",
     "output_type": "stream",
     "text": [
      "Epoch [1/1], Step [751/18411], Loss: 2.3514697551727295\n"
     ]
    },
    {
     "name": "stderr",
     "output_type": "stream",
     "text": [
      "  4%|▍         | 776/18411 [07:22<2:45:00,  1.78it/s]"
     ]
    },
    {
     "name": "stdout",
     "output_type": "stream",
     "text": [
      "Epoch [1/1], Step [776/18411], Loss: 2.4163200855255127\n"
     ]
    },
    {
     "name": "stderr",
     "output_type": "stream",
     "text": [
      "  4%|▍         | 801/18411 [07:36<2:50:43,  1.72it/s]"
     ]
    },
    {
     "name": "stdout",
     "output_type": "stream",
     "text": [
      "Epoch [1/1], Step [801/18411], Loss: 2.4375596046447754\n"
     ]
    },
    {
     "name": "stderr",
     "output_type": "stream",
     "text": [
      "  4%|▍         | 826/18411 [07:50<2:41:37,  1.81it/s]"
     ]
    },
    {
     "name": "stdout",
     "output_type": "stream",
     "text": [
      "Epoch [1/1], Step [826/18411], Loss: 2.332367420196533\n"
     ]
    },
    {
     "name": "stderr",
     "output_type": "stream",
     "text": [
      "  5%|▍         | 851/18411 [08:04<2:43:10,  1.79it/s]"
     ]
    },
    {
     "name": "stdout",
     "output_type": "stream",
     "text": [
      "Epoch [1/1], Step [851/18411], Loss: 2.381592273712158\n"
     ]
    },
    {
     "name": "stderr",
     "output_type": "stream",
     "text": [
      "  5%|▍         | 876/18411 [08:18<2:40:34,  1.82it/s]"
     ]
    },
    {
     "name": "stdout",
     "output_type": "stream",
     "text": [
      "Epoch [1/1], Step [876/18411], Loss: 2.3763983249664307\n"
     ]
    },
    {
     "name": "stderr",
     "output_type": "stream",
     "text": [
      "  5%|▍         | 901/18411 [08:31<2:40:20,  1.82it/s]"
     ]
    },
    {
     "name": "stdout",
     "output_type": "stream",
     "text": [
      "Epoch [1/1], Step [901/18411], Loss: 2.587261915206909\n"
     ]
    },
    {
     "name": "stderr",
     "output_type": "stream",
     "text": [
      "  5%|▌         | 926/18411 [08:45<2:42:16,  1.80it/s]"
     ]
    },
    {
     "name": "stdout",
     "output_type": "stream",
     "text": [
      "Epoch [1/1], Step [926/18411], Loss: 2.3743815422058105\n"
     ]
    },
    {
     "name": "stderr",
     "output_type": "stream",
     "text": [
      "  5%|▌         | 951/18411 [08:59<2:49:15,  1.72it/s]"
     ]
    },
    {
     "name": "stdout",
     "output_type": "stream",
     "text": [
      "Epoch [1/1], Step [951/18411], Loss: 2.3194074630737305\n"
     ]
    },
    {
     "name": "stderr",
     "output_type": "stream",
     "text": [
      "  5%|▌         | 976/18411 [09:13<2:43:09,  1.78it/s]"
     ]
    },
    {
     "name": "stdout",
     "output_type": "stream",
     "text": [
      "Epoch [1/1], Step [976/18411], Loss: 2.442049980163574\n"
     ]
    },
    {
     "name": "stderr",
     "output_type": "stream",
     "text": [
      "  5%|▌         | 1001/18411 [09:27<2:46:14,  1.75it/s]"
     ]
    },
    {
     "name": "stdout",
     "output_type": "stream",
     "text": [
      "Epoch [1/1], Step [1001/18411], Loss: 2.4790656566619873\n"
     ]
    },
    {
     "name": "stderr",
     "output_type": "stream",
     "text": [
      "  6%|▌         | 1026/18411 [09:41<2:47:16,  1.73it/s]"
     ]
    },
    {
     "name": "stdout",
     "output_type": "stream",
     "text": [
      "Epoch [1/1], Step [1026/18411], Loss: 2.3556997776031494\n"
     ]
    },
    {
     "name": "stderr",
     "output_type": "stream",
     "text": [
      "  6%|▌         | 1051/18411 [09:56<2:50:11,  1.70it/s]"
     ]
    },
    {
     "name": "stdout",
     "output_type": "stream",
     "text": [
      "Epoch [1/1], Step [1051/18411], Loss: 2.4562721252441406\n"
     ]
    },
    {
     "name": "stderr",
     "output_type": "stream",
     "text": [
      "  6%|▌         | 1076/18411 [10:10<2:43:07,  1.77it/s]"
     ]
    },
    {
     "name": "stdout",
     "output_type": "stream",
     "text": [
      "Epoch [1/1], Step [1076/18411], Loss: 2.3321778774261475\n"
     ]
    },
    {
     "name": "stderr",
     "output_type": "stream",
     "text": [
      "  6%|▌         | 1101/18411 [10:24<2:45:05,  1.75it/s]"
     ]
    },
    {
     "name": "stdout",
     "output_type": "stream",
     "text": [
      "Epoch [1/1], Step [1101/18411], Loss: 2.400568723678589\n"
     ]
    },
    {
     "name": "stderr",
     "output_type": "stream",
     "text": [
      "  6%|▌         | 1126/18411 [10:38<2:42:39,  1.77it/s]"
     ]
    },
    {
     "name": "stdout",
     "output_type": "stream",
     "text": [
      "Epoch [1/1], Step [1126/18411], Loss: 2.384310007095337\n"
     ]
    },
    {
     "name": "stderr",
     "output_type": "stream",
     "text": [
      "  6%|▋         | 1151/18411 [10:52<2:38:36,  1.81it/s]"
     ]
    },
    {
     "name": "stdout",
     "output_type": "stream",
     "text": [
      "Epoch [1/1], Step [1151/18411], Loss: 2.378422737121582\n"
     ]
    },
    {
     "name": "stderr",
     "output_type": "stream",
     "text": [
      "  6%|▋         | 1176/18411 [11:06<2:43:05,  1.76it/s]"
     ]
    },
    {
     "name": "stdout",
     "output_type": "stream",
     "text": [
      "Epoch [1/1], Step [1176/18411], Loss: 2.342219591140747\n"
     ]
    },
    {
     "name": "stderr",
     "output_type": "stream",
     "text": [
      "  7%|▋         | 1201/18411 [11:20<2:45:47,  1.73it/s]"
     ]
    },
    {
     "name": "stdout",
     "output_type": "stream",
     "text": [
      "Epoch [1/1], Step [1201/18411], Loss: 2.332374095916748\n"
     ]
    },
    {
     "name": "stderr",
     "output_type": "stream",
     "text": [
      "  7%|▋         | 1226/18411 [11:33<2:38:42,  1.80it/s]"
     ]
    },
    {
     "name": "stdout",
     "output_type": "stream",
     "text": [
      "Epoch [1/1], Step [1226/18411], Loss: 2.329695224761963\n"
     ]
    },
    {
     "name": "stderr",
     "output_type": "stream",
     "text": [
      "  7%|▋         | 1251/18411 [11:47<2:40:00,  1.79it/s]"
     ]
    },
    {
     "name": "stdout",
     "output_type": "stream",
     "text": [
      "Epoch [1/1], Step [1251/18411], Loss: 2.5368282794952393\n"
     ]
    },
    {
     "name": "stderr",
     "output_type": "stream",
     "text": [
      "  7%|▋         | 1276/18411 [12:02<2:47:38,  1.70it/s]"
     ]
    },
    {
     "name": "stdout",
     "output_type": "stream",
     "text": [
      "Epoch [1/1], Step [1276/18411], Loss: 2.399980068206787\n"
     ]
    },
    {
     "name": "stderr",
     "output_type": "stream",
     "text": [
      "  7%|▋         | 1301/18411 [12:16<2:43:03,  1.75it/s]"
     ]
    },
    {
     "name": "stdout",
     "output_type": "stream",
     "text": [
      "Epoch [1/1], Step [1301/18411], Loss: 2.334949493408203\n"
     ]
    },
    {
     "name": "stderr",
     "output_type": "stream",
     "text": [
      "  7%|▋         | 1326/18411 [12:30<2:38:19,  1.80it/s]"
     ]
    },
    {
     "name": "stdout",
     "output_type": "stream",
     "text": [
      "Epoch [1/1], Step [1326/18411], Loss: 2.3547780513763428\n"
     ]
    },
    {
     "name": "stderr",
     "output_type": "stream",
     "text": [
      "  7%|▋         | 1351/18411 [12:44<2:49:24,  1.68it/s]"
     ]
    },
    {
     "name": "stdout",
     "output_type": "stream",
     "text": [
      "Epoch [1/1], Step [1351/18411], Loss: 2.5083167552948\n"
     ]
    },
    {
     "name": "stderr",
     "output_type": "stream",
     "text": [
      "  7%|▋         | 1376/18411 [12:58<2:39:53,  1.78it/s]"
     ]
    },
    {
     "name": "stdout",
     "output_type": "stream",
     "text": [
      "Epoch [1/1], Step [1376/18411], Loss: 2.38899564743042\n"
     ]
    },
    {
     "name": "stderr",
     "output_type": "stream",
     "text": [
      "  8%|▊         | 1401/18411 [13:12<2:43:21,  1.74it/s]"
     ]
    },
    {
     "name": "stdout",
     "output_type": "stream",
     "text": [
      "Epoch [1/1], Step [1401/18411], Loss: 2.321938991546631\n"
     ]
    },
    {
     "name": "stderr",
     "output_type": "stream",
     "text": [
      "  8%|▊         | 1426/18411 [13:25<2:34:33,  1.83it/s]"
     ]
    },
    {
     "name": "stdout",
     "output_type": "stream",
     "text": [
      "Epoch [1/1], Step [1426/18411], Loss: 2.398192882537842\n"
     ]
    },
    {
     "name": "stderr",
     "output_type": "stream",
     "text": [
      "  8%|▊         | 1451/18411 [13:39<2:34:23,  1.83it/s]"
     ]
    },
    {
     "name": "stdout",
     "output_type": "stream",
     "text": [
      "Epoch [1/1], Step [1451/18411], Loss: 2.5418567657470703\n"
     ]
    },
    {
     "name": "stderr",
     "output_type": "stream",
     "text": [
      "  8%|▊         | 1476/18411 [13:52<2:33:58,  1.83it/s]"
     ]
    },
    {
     "name": "stdout",
     "output_type": "stream",
     "text": [
      "Epoch [1/1], Step [1476/18411], Loss: 2.4120569229125977\n"
     ]
    },
    {
     "name": "stderr",
     "output_type": "stream",
     "text": [
      "  8%|▊         | 1501/18411 [14:06<2:34:02,  1.83it/s]"
     ]
    },
    {
     "name": "stdout",
     "output_type": "stream",
     "text": [
      "Epoch [1/1], Step [1501/18411], Loss: 2.4061696529388428\n"
     ]
    },
    {
     "name": "stderr",
     "output_type": "stream",
     "text": [
      "  8%|▊         | 1526/18411 [14:20<2:42:40,  1.73it/s]"
     ]
    },
    {
     "name": "stdout",
     "output_type": "stream",
     "text": [
      "Epoch [1/1], Step [1526/18411], Loss: 2.305490732192993\n"
     ]
    },
    {
     "name": "stderr",
     "output_type": "stream",
     "text": [
      "  8%|▊         | 1551/18411 [14:34<2:34:59,  1.81it/s]"
     ]
    },
    {
     "name": "stdout",
     "output_type": "stream",
     "text": [
      "Epoch [1/1], Step [1551/18411], Loss: 2.496818780899048\n"
     ]
    },
    {
     "name": "stderr",
     "output_type": "stream",
     "text": [
      "  9%|▊         | 1576/18411 [14:48<2:33:00,  1.83it/s]"
     ]
    },
    {
     "name": "stdout",
     "output_type": "stream",
     "text": [
      "Epoch [1/1], Step [1576/18411], Loss: 2.199361801147461\n"
     ]
    },
    {
     "name": "stderr",
     "output_type": "stream",
     "text": [
      "  9%|▊         | 1601/18411 [15:01<2:32:54,  1.83it/s]"
     ]
    },
    {
     "name": "stdout",
     "output_type": "stream",
     "text": [
      "Epoch [1/1], Step [1601/18411], Loss: 2.3733959197998047\n"
     ]
    },
    {
     "name": "stderr",
     "output_type": "stream",
     "text": [
      "  9%|▉         | 1626/18411 [15:15<2:32:34,  1.83it/s]"
     ]
    },
    {
     "name": "stdout",
     "output_type": "stream",
     "text": [
      "Epoch [1/1], Step [1626/18411], Loss: 2.412484884262085\n"
     ]
    },
    {
     "name": "stderr",
     "output_type": "stream",
     "text": [
      "  9%|▉         | 1651/18411 [15:28<2:39:24,  1.75it/s]"
     ]
    },
    {
     "name": "stdout",
     "output_type": "stream",
     "text": [
      "Epoch [1/1], Step [1651/18411], Loss: 2.3769032955169678\n"
     ]
    },
    {
     "name": "stderr",
     "output_type": "stream",
     "text": [
      "  9%|▉         | 1676/18411 [15:42<2:32:24,  1.83it/s]"
     ]
    },
    {
     "name": "stdout",
     "output_type": "stream",
     "text": [
      "Epoch [1/1], Step [1676/18411], Loss: 2.316049814224243\n"
     ]
    },
    {
     "name": "stderr",
     "output_type": "stream",
     "text": [
      "  9%|▉         | 1701/18411 [15:56<2:32:47,  1.82it/s]"
     ]
    },
    {
     "name": "stdout",
     "output_type": "stream",
     "text": [
      "Epoch [1/1], Step [1701/18411], Loss: 2.2732865810394287\n"
     ]
    },
    {
     "name": "stderr",
     "output_type": "stream",
     "text": [
      "  9%|▉         | 1726/18411 [16:09<2:31:44,  1.83it/s]"
     ]
    },
    {
     "name": "stdout",
     "output_type": "stream",
     "text": [
      "Epoch [1/1], Step [1726/18411], Loss: 2.1561203002929688\n"
     ]
    },
    {
     "name": "stderr",
     "output_type": "stream",
     "text": [
      " 10%|▉         | 1751/18411 [16:23<2:31:30,  1.83it/s]"
     ]
    },
    {
     "name": "stdout",
     "output_type": "stream",
     "text": [
      "Epoch [1/1], Step [1751/18411], Loss: 2.2484138011932373\n"
     ]
    },
    {
     "name": "stderr",
     "output_type": "stream",
     "text": [
      " 10%|▉         | 1776/18411 [16:36<2:31:13,  1.83it/s]"
     ]
    },
    {
     "name": "stdout",
     "output_type": "stream",
     "text": [
      "Epoch [1/1], Step [1776/18411], Loss: 2.3937935829162598\n"
     ]
    },
    {
     "name": "stderr",
     "output_type": "stream",
     "text": [
      " 10%|▉         | 1801/18411 [16:50<2:31:10,  1.83it/s]"
     ]
    },
    {
     "name": "stdout",
     "output_type": "stream",
     "text": [
      "Epoch [1/1], Step [1801/18411], Loss: 2.432997226715088\n"
     ]
    },
    {
     "name": "stderr",
     "output_type": "stream",
     "text": [
      " 10%|▉         | 1826/18411 [17:03<2:31:58,  1.82it/s]"
     ]
    },
    {
     "name": "stdout",
     "output_type": "stream",
     "text": [
      "Epoch [1/1], Step [1826/18411], Loss: 2.2034530639648438\n"
     ]
    },
    {
     "name": "stderr",
     "output_type": "stream",
     "text": [
      " 10%|█         | 1851/18411 [17:17<2:30:49,  1.83it/s]"
     ]
    },
    {
     "name": "stdout",
     "output_type": "stream",
     "text": [
      "Epoch [1/1], Step [1851/18411], Loss: 2.151792526245117\n"
     ]
    },
    {
     "name": "stderr",
     "output_type": "stream",
     "text": [
      " 10%|█         | 1876/18411 [17:31<2:39:13,  1.73it/s]"
     ]
    },
    {
     "name": "stdout",
     "output_type": "stream",
     "text": [
      "Epoch [1/1], Step [1876/18411], Loss: 2.2072603702545166\n"
     ]
    },
    {
     "name": "stderr",
     "output_type": "stream",
     "text": [
      " 10%|█         | 1901/18411 [17:45<2:31:17,  1.82it/s]"
     ]
    },
    {
     "name": "stdout",
     "output_type": "stream",
     "text": [
      "Epoch [1/1], Step [1901/18411], Loss: 2.4005420207977295\n"
     ]
    },
    {
     "name": "stderr",
     "output_type": "stream",
     "text": [
      " 10%|█         | 1926/18411 [17:58<2:29:54,  1.83it/s]"
     ]
    },
    {
     "name": "stdout",
     "output_type": "stream",
     "text": [
      "Epoch [1/1], Step [1926/18411], Loss: 2.309964418411255\n"
     ]
    },
    {
     "name": "stderr",
     "output_type": "stream",
     "text": [
      " 11%|█         | 1951/18411 [18:12<2:33:17,  1.79it/s]"
     ]
    },
    {
     "name": "stdout",
     "output_type": "stream",
     "text": [
      "Epoch [1/1], Step [1951/18411], Loss: 2.2647526264190674\n"
     ]
    },
    {
     "name": "stderr",
     "output_type": "stream",
     "text": [
      " 11%|█         | 1976/18411 [18:25<2:37:58,  1.73it/s]"
     ]
    },
    {
     "name": "stdout",
     "output_type": "stream",
     "text": [
      "Epoch [1/1], Step [1976/18411], Loss: 2.3270046710968018\n"
     ]
    },
    {
     "name": "stderr",
     "output_type": "stream",
     "text": [
      " 11%|█         | 2001/18411 [18:39<2:29:41,  1.83it/s]"
     ]
    },
    {
     "name": "stdout",
     "output_type": "stream",
     "text": [
      "Epoch [1/1], Step [2001/18411], Loss: 2.1612632274627686\n"
     ]
    },
    {
     "name": "stderr",
     "output_type": "stream",
     "text": [
      " 11%|█         | 2026/18411 [18:53<2:34:38,  1.77it/s]"
     ]
    },
    {
     "name": "stdout",
     "output_type": "stream",
     "text": [
      "Epoch [1/1], Step [2026/18411], Loss: 2.2185962200164795\n"
     ]
    },
    {
     "name": "stderr",
     "output_type": "stream",
     "text": [
      " 11%|█         | 2051/18411 [19:07<2:38:07,  1.72it/s]"
     ]
    },
    {
     "name": "stdout",
     "output_type": "stream",
     "text": [
      "Epoch [1/1], Step [2051/18411], Loss: 2.2663192749023438\n"
     ]
    },
    {
     "name": "stderr",
     "output_type": "stream",
     "text": [
      " 11%|█▏        | 2076/18411 [19:21<2:32:27,  1.79it/s]"
     ]
    },
    {
     "name": "stdout",
     "output_type": "stream",
     "text": [
      "Epoch [1/1], Step [2076/18411], Loss: 2.4309380054473877\n"
     ]
    },
    {
     "name": "stderr",
     "output_type": "stream",
     "text": [
      " 11%|█▏        | 2101/18411 [19:35<2:32:01,  1.79it/s]"
     ]
    },
    {
     "name": "stdout",
     "output_type": "stream",
     "text": [
      "Epoch [1/1], Step [2101/18411], Loss: 2.357823371887207\n"
     ]
    },
    {
     "name": "stderr",
     "output_type": "stream",
     "text": [
      " 12%|█▏        | 2126/18411 [19:49<2:28:08,  1.83it/s]"
     ]
    },
    {
     "name": "stdout",
     "output_type": "stream",
     "text": [
      "Epoch [1/1], Step [2126/18411], Loss: 2.0237832069396973\n"
     ]
    },
    {
     "name": "stderr",
     "output_type": "stream",
     "text": [
      " 12%|█▏        | 2151/18411 [20:02<2:28:13,  1.83it/s]"
     ]
    },
    {
     "name": "stdout",
     "output_type": "stream",
     "text": [
      "Epoch [1/1], Step [2151/18411], Loss: 2.214075803756714\n"
     ]
    },
    {
     "name": "stderr",
     "output_type": "stream",
     "text": [
      " 12%|█▏        | 2176/18411 [20:16<2:28:17,  1.82it/s]"
     ]
    },
    {
     "name": "stdout",
     "output_type": "stream",
     "text": [
      "Epoch [1/1], Step [2176/18411], Loss: 2.376330614089966\n"
     ]
    },
    {
     "name": "stderr",
     "output_type": "stream",
     "text": [
      " 12%|█▏        | 2201/18411 [20:30<2:29:24,  1.81it/s]"
     ]
    },
    {
     "name": "stdout",
     "output_type": "stream",
     "text": [
      "Epoch [1/1], Step [2201/18411], Loss: 2.132284164428711\n"
     ]
    },
    {
     "name": "stderr",
     "output_type": "stream",
     "text": [
      " 12%|█▏        | 2226/18411 [20:43<2:27:34,  1.83it/s]"
     ]
    },
    {
     "name": "stdout",
     "output_type": "stream",
     "text": [
      "Epoch [1/1], Step [2226/18411], Loss: 2.3407204151153564\n"
     ]
    },
    {
     "name": "stderr",
     "output_type": "stream",
     "text": [
      " 12%|█▏        | 2251/18411 [20:57<2:27:04,  1.83it/s]"
     ]
    },
    {
     "name": "stdout",
     "output_type": "stream",
     "text": [
      "Epoch [1/1], Step [2251/18411], Loss: 2.2361741065979004\n"
     ]
    },
    {
     "name": "stderr",
     "output_type": "stream",
     "text": [
      " 12%|█▏        | 2276/18411 [21:10<2:27:04,  1.83it/s]"
     ]
    },
    {
     "name": "stdout",
     "output_type": "stream",
     "text": [
      "Epoch [1/1], Step [2276/18411], Loss: 2.2474606037139893\n"
     ]
    },
    {
     "name": "stderr",
     "output_type": "stream",
     "text": [
      " 12%|█▏        | 2301/18411 [21:24<2:28:49,  1.80it/s]"
     ]
    },
    {
     "name": "stdout",
     "output_type": "stream",
     "text": [
      "Epoch [1/1], Step [2301/18411], Loss: 2.0706958770751953\n"
     ]
    },
    {
     "name": "stderr",
     "output_type": "stream",
     "text": [
      " 13%|█▎        | 2326/18411 [21:38<2:26:28,  1.83it/s]"
     ]
    },
    {
     "name": "stdout",
     "output_type": "stream",
     "text": [
      "Epoch [1/1], Step [2326/18411], Loss: 2.340144634246826\n"
     ]
    },
    {
     "name": "stderr",
     "output_type": "stream",
     "text": [
      " 13%|█▎        | 2351/18411 [21:52<2:34:17,  1.73it/s]"
     ]
    },
    {
     "name": "stdout",
     "output_type": "stream",
     "text": [
      "Epoch [1/1], Step [2351/18411], Loss: 2.3625776767730713\n"
     ]
    },
    {
     "name": "stderr",
     "output_type": "stream",
     "text": [
      " 13%|█▎        | 2376/18411 [22:06<2:29:13,  1.79it/s]"
     ]
    },
    {
     "name": "stdout",
     "output_type": "stream",
     "text": [
      "Epoch [1/1], Step [2376/18411], Loss: 2.2606968879699707\n"
     ]
    },
    {
     "name": "stderr",
     "output_type": "stream",
     "text": [
      " 13%|█▎        | 2401/18411 [22:19<2:29:34,  1.78it/s]"
     ]
    },
    {
     "name": "stdout",
     "output_type": "stream",
     "text": [
      "Epoch [1/1], Step [2401/18411], Loss: 2.0902724266052246\n"
     ]
    },
    {
     "name": "stderr",
     "output_type": "stream",
     "text": [
      " 13%|█▎        | 2426/18411 [22:33<2:26:42,  1.82it/s]"
     ]
    },
    {
     "name": "stdout",
     "output_type": "stream",
     "text": [
      "Epoch [1/1], Step [2426/18411], Loss: 2.2556633949279785\n"
     ]
    },
    {
     "name": "stderr",
     "output_type": "stream",
     "text": [
      " 13%|█▎        | 2451/18411 [22:47<2:25:46,  1.82it/s]"
     ]
    },
    {
     "name": "stdout",
     "output_type": "stream",
     "text": [
      "Epoch [1/1], Step [2451/18411], Loss: 2.1987993717193604\n"
     ]
    },
    {
     "name": "stderr",
     "output_type": "stream",
     "text": [
      " 13%|█▎        | 2476/18411 [23:01<2:25:31,  1.82it/s]"
     ]
    },
    {
     "name": "stdout",
     "output_type": "stream",
     "text": [
      "Epoch [1/1], Step [2476/18411], Loss: 2.096522331237793\n"
     ]
    },
    {
     "name": "stderr",
     "output_type": "stream",
     "text": [
      " 14%|█▎        | 2501/18411 [23:15<2:33:20,  1.73it/s]"
     ]
    },
    {
     "name": "stdout",
     "output_type": "stream",
     "text": [
      "Epoch [1/1], Step [2501/18411], Loss: 2.086077928543091\n"
     ]
    },
    {
     "name": "stderr",
     "output_type": "stream",
     "text": [
      " 14%|█▎        | 2526/18411 [23:29<2:25:17,  1.82it/s]"
     ]
    },
    {
     "name": "stdout",
     "output_type": "stream",
     "text": [
      "Epoch [1/1], Step [2526/18411], Loss: 1.977664828300476\n"
     ]
    },
    {
     "name": "stderr",
     "output_type": "stream",
     "text": [
      " 14%|█▍        | 2551/18411 [23:42<2:24:30,  1.83it/s]"
     ]
    },
    {
     "name": "stdout",
     "output_type": "stream",
     "text": [
      "Epoch [1/1], Step [2551/18411], Loss: 2.2083611488342285\n"
     ]
    },
    {
     "name": "stderr",
     "output_type": "stream",
     "text": [
      " 14%|█▍        | 2576/18411 [23:56<2:29:26,  1.77it/s]"
     ]
    },
    {
     "name": "stdout",
     "output_type": "stream",
     "text": [
      "Epoch [1/1], Step [2576/18411], Loss: 2.149646759033203\n"
     ]
    },
    {
     "name": "stderr",
     "output_type": "stream",
     "text": [
      " 14%|█▍        | 2601/18411 [24:10<2:24:01,  1.83it/s]"
     ]
    },
    {
     "name": "stdout",
     "output_type": "stream",
     "text": [
      "Epoch [1/1], Step [2601/18411], Loss: 2.3141660690307617\n"
     ]
    },
    {
     "name": "stderr",
     "output_type": "stream",
     "text": [
      " 14%|█▍        | 2626/18411 [24:23<2:30:10,  1.75it/s]"
     ]
    },
    {
     "name": "stdout",
     "output_type": "stream",
     "text": [
      "Epoch [1/1], Step [2626/18411], Loss: 2.0532305240631104\n"
     ]
    },
    {
     "name": "stderr",
     "output_type": "stream",
     "text": [
      " 14%|█▍        | 2651/18411 [24:37<2:28:55,  1.76it/s]"
     ]
    },
    {
     "name": "stdout",
     "output_type": "stream",
     "text": [
      "Epoch [1/1], Step [2651/18411], Loss: 2.259791612625122\n"
     ]
    },
    {
     "name": "stderr",
     "output_type": "stream",
     "text": [
      " 15%|█▍        | 2676/18411 [24:51<2:23:21,  1.83it/s]"
     ]
    },
    {
     "name": "stdout",
     "output_type": "stream",
     "text": [
      "Epoch [1/1], Step [2676/18411], Loss: 2.1601245403289795\n"
     ]
    },
    {
     "name": "stderr",
     "output_type": "stream",
     "text": [
      " 15%|█▍        | 2701/18411 [25:04<2:24:21,  1.81it/s]"
     ]
    },
    {
     "name": "stdout",
     "output_type": "stream",
     "text": [
      "Epoch [1/1], Step [2701/18411], Loss: 1.9560511112213135\n"
     ]
    },
    {
     "name": "stderr",
     "output_type": "stream",
     "text": [
      " 15%|█▍        | 2726/18411 [25:18<2:23:46,  1.82it/s]"
     ]
    },
    {
     "name": "stdout",
     "output_type": "stream",
     "text": [
      "Epoch [1/1], Step [2726/18411], Loss: 2.219264030456543\n"
     ]
    },
    {
     "name": "stderr",
     "output_type": "stream",
     "text": [
      " 15%|█▍        | 2751/18411 [25:32<2:22:58,  1.83it/s]"
     ]
    },
    {
     "name": "stdout",
     "output_type": "stream",
     "text": [
      "Epoch [1/1], Step [2751/18411], Loss: 2.057793378829956\n"
     ]
    },
    {
     "name": "stderr",
     "output_type": "stream",
     "text": [
      " 15%|█▌        | 2776/18411 [25:46<2:22:33,  1.83it/s]"
     ]
    },
    {
     "name": "stdout",
     "output_type": "stream",
     "text": [
      "Epoch [1/1], Step [2776/18411], Loss: 2.1320016384124756\n"
     ]
    },
    {
     "name": "stderr",
     "output_type": "stream",
     "text": [
      " 15%|█▌        | 2801/18411 [26:00<2:30:14,  1.73it/s]"
     ]
    },
    {
     "name": "stdout",
     "output_type": "stream",
     "text": [
      "Epoch [1/1], Step [2801/18411], Loss: 2.1052327156066895\n"
     ]
    },
    {
     "name": "stderr",
     "output_type": "stream",
     "text": [
      " 15%|█▌        | 2826/18411 [26:13<2:22:07,  1.83it/s]"
     ]
    },
    {
     "name": "stdout",
     "output_type": "stream",
     "text": [
      "Epoch [1/1], Step [2826/18411], Loss: 2.1620142459869385\n"
     ]
    },
    {
     "name": "stderr",
     "output_type": "stream",
     "text": [
      " 15%|█▌        | 2851/18411 [26:27<2:21:51,  1.83it/s]"
     ]
    },
    {
     "name": "stdout",
     "output_type": "stream",
     "text": [
      "Epoch [1/1], Step [2851/18411], Loss: 1.976346492767334\n"
     ]
    },
    {
     "name": "stderr",
     "output_type": "stream",
     "text": [
      " 16%|█▌        | 2876/18411 [26:40<2:21:25,  1.83it/s]"
     ]
    },
    {
     "name": "stdout",
     "output_type": "stream",
     "text": [
      "Epoch [1/1], Step [2876/18411], Loss: 2.0502567291259766\n"
     ]
    },
    {
     "name": "stderr",
     "output_type": "stream",
     "text": [
      " 16%|█▌        | 2901/18411 [26:55<2:24:21,  1.79it/s]"
     ]
    },
    {
     "name": "stdout",
     "output_type": "stream",
     "text": [
      "Epoch [1/1], Step [2901/18411], Loss: 1.8943650722503662\n"
     ]
    },
    {
     "name": "stderr",
     "output_type": "stream",
     "text": [
      " 16%|█▌        | 2926/18411 [27:08<2:21:26,  1.82it/s]"
     ]
    },
    {
     "name": "stdout",
     "output_type": "stream",
     "text": [
      "Epoch [1/1], Step [2926/18411], Loss: 1.9528934955596924\n"
     ]
    },
    {
     "name": "stderr",
     "output_type": "stream",
     "text": [
      " 16%|█▌        | 2951/18411 [27:22<2:21:16,  1.82it/s]"
     ]
    },
    {
     "name": "stdout",
     "output_type": "stream",
     "text": [
      "Epoch [1/1], Step [2951/18411], Loss: 2.127845287322998\n"
     ]
    },
    {
     "name": "stderr",
     "output_type": "stream",
     "text": [
      " 16%|█▌        | 2976/18411 [27:35<2:20:58,  1.82it/s]"
     ]
    },
    {
     "name": "stdout",
     "output_type": "stream",
     "text": [
      "Epoch [1/1], Step [2976/18411], Loss: 1.9252105951309204\n"
     ]
    },
    {
     "name": "stderr",
     "output_type": "stream",
     "text": [
      " 16%|█▋        | 3001/18411 [27:49<2:20:47,  1.82it/s]"
     ]
    },
    {
     "name": "stdout",
     "output_type": "stream",
     "text": [
      "Epoch [1/1], Step [3001/18411], Loss: 2.117168426513672\n"
     ]
    },
    {
     "name": "stderr",
     "output_type": "stream",
     "text": [
      " 16%|█▋        | 3026/18411 [28:03<2:21:17,  1.81it/s]"
     ]
    },
    {
     "name": "stdout",
     "output_type": "stream",
     "text": [
      "Epoch [1/1], Step [3026/18411], Loss: 2.222215414047241\n"
     ]
    },
    {
     "name": "stderr",
     "output_type": "stream",
     "text": [
      " 17%|█▋        | 3051/18411 [28:17<2:28:01,  1.73it/s]"
     ]
    },
    {
     "name": "stdout",
     "output_type": "stream",
     "text": [
      "Epoch [1/1], Step [3051/18411], Loss: 2.0682241916656494\n"
     ]
    },
    {
     "name": "stderr",
     "output_type": "stream",
     "text": [
      " 17%|█▋        | 3076/18411 [28:31<2:27:48,  1.73it/s]"
     ]
    },
    {
     "name": "stdout",
     "output_type": "stream",
     "text": [
      "Epoch [1/1], Step [3076/18411], Loss: 1.987437129020691\n"
     ]
    },
    {
     "name": "stderr",
     "output_type": "stream",
     "text": [
      " 17%|█▋        | 3101/18411 [28:45<2:27:18,  1.73it/s]"
     ]
    },
    {
     "name": "stdout",
     "output_type": "stream",
     "text": [
      "Epoch [1/1], Step [3101/18411], Loss: 2.0144083499908447\n"
     ]
    },
    {
     "name": "stderr",
     "output_type": "stream",
     "text": [
      " 17%|█▋        | 3126/18411 [28:59<2:25:07,  1.76it/s]"
     ]
    },
    {
     "name": "stdout",
     "output_type": "stream",
     "text": [
      "Epoch [1/1], Step [3126/18411], Loss: 1.863360047340393\n"
     ]
    },
    {
     "name": "stderr",
     "output_type": "stream",
     "text": [
      " 17%|█▋        | 3151/18411 [29:13<2:27:05,  1.73it/s]"
     ]
    },
    {
     "name": "stdout",
     "output_type": "stream",
     "text": [
      "Epoch [1/1], Step [3151/18411], Loss: 1.8451663255691528\n"
     ]
    },
    {
     "name": "stderr",
     "output_type": "stream",
     "text": [
      " 17%|█▋        | 3176/18411 [29:28<2:21:44,  1.79it/s]"
     ]
    },
    {
     "name": "stdout",
     "output_type": "stream",
     "text": [
      "Epoch [1/1], Step [3176/18411], Loss: 1.8633301258087158\n"
     ]
    },
    {
     "name": "stderr",
     "output_type": "stream",
     "text": [
      " 17%|█▋        | 3201/18411 [29:41<2:26:24,  1.73it/s]"
     ]
    },
    {
     "name": "stdout",
     "output_type": "stream",
     "text": [
      "Epoch [1/1], Step [3201/18411], Loss: 2.184072494506836\n"
     ]
    },
    {
     "name": "stderr",
     "output_type": "stream",
     "text": [
      " 18%|█▊        | 3226/18411 [29:56<2:26:20,  1.73it/s]"
     ]
    },
    {
     "name": "stdout",
     "output_type": "stream",
     "text": [
      "Epoch [1/1], Step [3226/18411], Loss: 2.185262441635132\n"
     ]
    },
    {
     "name": "stderr",
     "output_type": "stream",
     "text": [
      " 18%|█▊        | 3251/18411 [30:10<2:26:06,  1.73it/s]"
     ]
    },
    {
     "name": "stdout",
     "output_type": "stream",
     "text": [
      "Epoch [1/1], Step [3251/18411], Loss: 1.956963062286377\n"
     ]
    },
    {
     "name": "stderr",
     "output_type": "stream",
     "text": [
      " 18%|█▊        | 3276/18411 [30:24<2:18:01,  1.83it/s]"
     ]
    },
    {
     "name": "stdout",
     "output_type": "stream",
     "text": [
      "Epoch [1/1], Step [3276/18411], Loss: 1.9974966049194336\n"
     ]
    },
    {
     "name": "stderr",
     "output_type": "stream",
     "text": [
      " 18%|█▊        | 3301/18411 [30:37<2:17:42,  1.83it/s]"
     ]
    },
    {
     "name": "stdout",
     "output_type": "stream",
     "text": [
      "Epoch [1/1], Step [3301/18411], Loss: 2.175577402114868\n"
     ]
    },
    {
     "name": "stderr",
     "output_type": "stream",
     "text": [
      " 18%|█▊        | 3326/18411 [30:51<2:24:28,  1.74it/s]"
     ]
    },
    {
     "name": "stdout",
     "output_type": "stream",
     "text": [
      "Epoch [1/1], Step [3326/18411], Loss: 1.9743428230285645\n"
     ]
    },
    {
     "name": "stderr",
     "output_type": "stream",
     "text": [
      " 18%|█▊        | 3351/18411 [31:05<2:25:10,  1.73it/s]"
     ]
    },
    {
     "name": "stdout",
     "output_type": "stream",
     "text": [
      "Epoch [1/1], Step [3351/18411], Loss: 2.219001054763794\n"
     ]
    },
    {
     "name": "stderr",
     "output_type": "stream",
     "text": [
      " 18%|█▊        | 3376/18411 [31:19<2:16:50,  1.83it/s]"
     ]
    },
    {
     "name": "stdout",
     "output_type": "stream",
     "text": [
      "Epoch [1/1], Step [3376/18411], Loss: 1.9151073694229126\n"
     ]
    },
    {
     "name": "stderr",
     "output_type": "stream",
     "text": [
      " 18%|█▊        | 3401/18411 [31:33<2:24:38,  1.73it/s]"
     ]
    },
    {
     "name": "stdout",
     "output_type": "stream",
     "text": [
      "Epoch [1/1], Step [3401/18411], Loss: 1.6999503374099731\n"
     ]
    },
    {
     "name": "stderr",
     "output_type": "stream",
     "text": [
      " 19%|█▊        | 3426/18411 [31:48<2:24:24,  1.73it/s]"
     ]
    },
    {
     "name": "stdout",
     "output_type": "stream",
     "text": [
      "Epoch [1/1], Step [3426/18411], Loss: 1.8099604845046997\n"
     ]
    },
    {
     "name": "stderr",
     "output_type": "stream",
     "text": [
      " 19%|█▊        | 3451/18411 [32:02<2:23:59,  1.73it/s]"
     ]
    },
    {
     "name": "stdout",
     "output_type": "stream",
     "text": [
      "Epoch [1/1], Step [3451/18411], Loss: 1.8789745569229126\n"
     ]
    },
    {
     "name": "stderr",
     "output_type": "stream",
     "text": [
      " 19%|█▉        | 3476/18411 [32:16<2:23:39,  1.73it/s]"
     ]
    },
    {
     "name": "stdout",
     "output_type": "stream",
     "text": [
      "Epoch [1/1], Step [3476/18411], Loss: 1.9815152883529663\n"
     ]
    },
    {
     "name": "stderr",
     "output_type": "stream",
     "text": [
      " 19%|█▉        | 3501/18411 [32:30<2:16:48,  1.82it/s]"
     ]
    },
    {
     "name": "stdout",
     "output_type": "stream",
     "text": [
      "Epoch [1/1], Step [3501/18411], Loss: 1.9756468534469604\n"
     ]
    },
    {
     "name": "stderr",
     "output_type": "stream",
     "text": [
      " 19%|█▉        | 3526/18411 [32:44<2:17:11,  1.81it/s]"
     ]
    },
    {
     "name": "stdout",
     "output_type": "stream",
     "text": [
      "Epoch [1/1], Step [3526/18411], Loss: 1.9493268728256226\n"
     ]
    },
    {
     "name": "stderr",
     "output_type": "stream",
     "text": [
      " 19%|█▉        | 3551/18411 [32:58<2:22:30,  1.74it/s]"
     ]
    },
    {
     "name": "stdout",
     "output_type": "stream",
     "text": [
      "Epoch [1/1], Step [3551/18411], Loss: 1.7912874221801758\n"
     ]
    },
    {
     "name": "stderr",
     "output_type": "stream",
     "text": [
      " 19%|█▉        | 3576/18411 [33:12<2:22:38,  1.73it/s]"
     ]
    },
    {
     "name": "stdout",
     "output_type": "stream",
     "text": [
      "Epoch [1/1], Step [3576/18411], Loss: 1.7988535165786743\n"
     ]
    },
    {
     "name": "stderr",
     "output_type": "stream",
     "text": [
      " 20%|█▉        | 3601/18411 [33:25<2:16:36,  1.81it/s]"
     ]
    },
    {
     "name": "stdout",
     "output_type": "stream",
     "text": [
      "Epoch [1/1], Step [3601/18411], Loss: 2.0498242378234863\n"
     ]
    },
    {
     "name": "stderr",
     "output_type": "stream",
     "text": [
      " 20%|█▉        | 3626/18411 [33:40<2:22:47,  1.73it/s]"
     ]
    },
    {
     "name": "stdout",
     "output_type": "stream",
     "text": [
      "Epoch [1/1], Step [3626/18411], Loss: 1.7832220792770386\n"
     ]
    },
    {
     "name": "stderr",
     "output_type": "stream",
     "text": [
      " 20%|█▉        | 3651/18411 [33:53<2:15:27,  1.82it/s]"
     ]
    },
    {
     "name": "stdout",
     "output_type": "stream",
     "text": [
      "Epoch [1/1], Step [3651/18411], Loss: 1.8717049360275269\n"
     ]
    },
    {
     "name": "stderr",
     "output_type": "stream",
     "text": [
      " 20%|█▉        | 3676/18411 [34:07<2:14:47,  1.82it/s]"
     ]
    },
    {
     "name": "stdout",
     "output_type": "stream",
     "text": [
      "Epoch [1/1], Step [3676/18411], Loss: 2.0915567874908447\n"
     ]
    },
    {
     "name": "stderr",
     "output_type": "stream",
     "text": [
      " 20%|██        | 3701/18411 [34:21<2:14:02,  1.83it/s]"
     ]
    },
    {
     "name": "stdout",
     "output_type": "stream",
     "text": [
      "Epoch [1/1], Step [3701/18411], Loss: 1.7808892726898193\n"
     ]
    },
    {
     "name": "stderr",
     "output_type": "stream",
     "text": [
      " 20%|██        | 3726/18411 [34:34<2:21:00,  1.74it/s]"
     ]
    },
    {
     "name": "stdout",
     "output_type": "stream",
     "text": [
      "Epoch [1/1], Step [3726/18411], Loss: 2.168504476547241\n"
     ]
    },
    {
     "name": "stderr",
     "output_type": "stream",
     "text": [
      " 20%|██        | 3751/18411 [34:49<2:21:12,  1.73it/s]"
     ]
    },
    {
     "name": "stdout",
     "output_type": "stream",
     "text": [
      "Epoch [1/1], Step [3751/18411], Loss: 1.8735857009887695\n"
     ]
    },
    {
     "name": "stderr",
     "output_type": "stream",
     "text": [
      " 21%|██        | 3776/18411 [35:03<2:20:52,  1.73it/s]"
     ]
    },
    {
     "name": "stdout",
     "output_type": "stream",
     "text": [
      "Epoch [1/1], Step [3776/18411], Loss: 2.0299723148345947\n"
     ]
    },
    {
     "name": "stderr",
     "output_type": "stream",
     "text": [
      " 21%|██        | 3801/18411 [35:17<2:20:50,  1.73it/s]"
     ]
    },
    {
     "name": "stdout",
     "output_type": "stream",
     "text": [
      "Epoch [1/1], Step [3801/18411], Loss: 1.9459038972854614\n"
     ]
    },
    {
     "name": "stderr",
     "output_type": "stream",
     "text": [
      " 21%|██        | 3826/18411 [35:31<2:13:14,  1.82it/s]"
     ]
    },
    {
     "name": "stdout",
     "output_type": "stream",
     "text": [
      "Epoch [1/1], Step [3826/18411], Loss: 1.842344045639038\n"
     ]
    },
    {
     "name": "stderr",
     "output_type": "stream",
     "text": [
      " 21%|██        | 3851/18411 [35:44<2:12:55,  1.83it/s]"
     ]
    },
    {
     "name": "stdout",
     "output_type": "stream",
     "text": [
      "Epoch [1/1], Step [3851/18411], Loss: 1.7119808197021484\n"
     ]
    },
    {
     "name": "stderr",
     "output_type": "stream",
     "text": [
      " 21%|██        | 3876/18411 [35:58<2:12:47,  1.82it/s]"
     ]
    },
    {
     "name": "stdout",
     "output_type": "stream",
     "text": [
      "Epoch [1/1], Step [3876/18411], Loss: 1.9075595140457153\n"
     ]
    },
    {
     "name": "stderr",
     "output_type": "stream",
     "text": [
      " 21%|██        | 3901/18411 [36:12<2:17:13,  1.76it/s]"
     ]
    },
    {
     "name": "stdout",
     "output_type": "stream",
     "text": [
      "Epoch [1/1], Step [3901/18411], Loss: 1.9913164377212524\n"
     ]
    },
    {
     "name": "stderr",
     "output_type": "stream",
     "text": [
      " 21%|██▏       | 3926/18411 [36:25<2:12:10,  1.83it/s]"
     ]
    },
    {
     "name": "stdout",
     "output_type": "stream",
     "text": [
      "Epoch [1/1], Step [3926/18411], Loss: 2.0242254734039307\n"
     ]
    },
    {
     "name": "stderr",
     "output_type": "stream",
     "text": [
      " 21%|██▏       | 3951/18411 [36:40<2:19:16,  1.73it/s]"
     ]
    },
    {
     "name": "stdout",
     "output_type": "stream",
     "text": [
      "Epoch [1/1], Step [3951/18411], Loss: 1.8381426334381104\n"
     ]
    },
    {
     "name": "stderr",
     "output_type": "stream",
     "text": [
      " 22%|██▏       | 3976/18411 [36:53<2:11:32,  1.83it/s]"
     ]
    },
    {
     "name": "stdout",
     "output_type": "stream",
     "text": [
      "Epoch [1/1], Step [3976/18411], Loss: 1.891054630279541\n"
     ]
    },
    {
     "name": "stderr",
     "output_type": "stream",
     "text": [
      " 22%|██▏       | 4001/18411 [37:07<2:18:54,  1.73it/s]"
     ]
    },
    {
     "name": "stdout",
     "output_type": "stream",
     "text": [
      "Epoch [1/1], Step [4001/18411], Loss: 1.7893949747085571\n"
     ]
    },
    {
     "name": "stderr",
     "output_type": "stream",
     "text": [
      " 22%|██▏       | 4026/18411 [37:21<2:11:14,  1.83it/s]"
     ]
    },
    {
     "name": "stdout",
     "output_type": "stream",
     "text": [
      "Epoch [1/1], Step [4026/18411], Loss: 1.781872034072876\n"
     ]
    },
    {
     "name": "stderr",
     "output_type": "stream",
     "text": [
      " 22%|██▏       | 4051/18411 [37:34<2:12:28,  1.81it/s]"
     ]
    },
    {
     "name": "stdout",
     "output_type": "stream",
     "text": [
      "Epoch [1/1], Step [4051/18411], Loss: 1.9259885549545288\n"
     ]
    },
    {
     "name": "stderr",
     "output_type": "stream",
     "text": [
      " 22%|██▏       | 4076/18411 [37:48<2:10:45,  1.83it/s]"
     ]
    },
    {
     "name": "stdout",
     "output_type": "stream",
     "text": [
      "Epoch [1/1], Step [4076/18411], Loss: 1.7448179721832275\n"
     ]
    },
    {
     "name": "stderr",
     "output_type": "stream",
     "text": [
      " 22%|██▏       | 4101/18411 [38:02<2:11:21,  1.82it/s]"
     ]
    },
    {
     "name": "stdout",
     "output_type": "stream",
     "text": [
      "Epoch [1/1], Step [4101/18411], Loss: 1.7274302244186401\n"
     ]
    },
    {
     "name": "stderr",
     "output_type": "stream",
     "text": [
      " 22%|██▏       | 4126/18411 [38:16<2:17:42,  1.73it/s]"
     ]
    },
    {
     "name": "stdout",
     "output_type": "stream",
     "text": [
      "Epoch [1/1], Step [4126/18411], Loss: 1.7262283563613892\n"
     ]
    },
    {
     "name": "stderr",
     "output_type": "stream",
     "text": [
      " 23%|██▎       | 4151/18411 [38:30<2:14:15,  1.77it/s]"
     ]
    },
    {
     "name": "stdout",
     "output_type": "stream",
     "text": [
      "Epoch [1/1], Step [4151/18411], Loss: 1.8195489645004272\n"
     ]
    },
    {
     "name": "stderr",
     "output_type": "stream",
     "text": [
      " 23%|██▎       | 4176/18411 [38:44<2:09:45,  1.83it/s]"
     ]
    },
    {
     "name": "stdout",
     "output_type": "stream",
     "text": [
      "Epoch [1/1], Step [4176/18411], Loss: 1.663744568824768\n"
     ]
    },
    {
     "name": "stderr",
     "output_type": "stream",
     "text": [
      " 23%|██▎       | 4201/18411 [38:58<2:17:53,  1.72it/s]"
     ]
    },
    {
     "name": "stdout",
     "output_type": "stream",
     "text": [
      "Epoch [1/1], Step [4201/18411], Loss: 1.7009767293930054\n"
     ]
    },
    {
     "name": "stderr",
     "output_type": "stream",
     "text": [
      " 23%|██▎       | 4226/18411 [39:12<2:09:23,  1.83it/s]"
     ]
    },
    {
     "name": "stdout",
     "output_type": "stream",
     "text": [
      "Epoch [1/1], Step [4226/18411], Loss: 1.630694031715393\n"
     ]
    },
    {
     "name": "stderr",
     "output_type": "stream",
     "text": [
      " 23%|██▎       | 4251/18411 [39:25<2:08:48,  1.83it/s]"
     ]
    },
    {
     "name": "stdout",
     "output_type": "stream",
     "text": [
      "Epoch [1/1], Step [4251/18411], Loss: 1.7185617685317993\n"
     ]
    },
    {
     "name": "stderr",
     "output_type": "stream",
     "text": [
      " 23%|██▎       | 4276/18411 [39:39<2:15:02,  1.74it/s]"
     ]
    },
    {
     "name": "stdout",
     "output_type": "stream",
     "text": [
      "Epoch [1/1], Step [4276/18411], Loss: 1.6982958316802979\n"
     ]
    },
    {
     "name": "stderr",
     "output_type": "stream",
     "text": [
      " 23%|██▎       | 4301/18411 [39:53<2:15:58,  1.73it/s]"
     ]
    },
    {
     "name": "stdout",
     "output_type": "stream",
     "text": [
      "Epoch [1/1], Step [4301/18411], Loss: 1.5896100997924805\n"
     ]
    },
    {
     "name": "stderr",
     "output_type": "stream",
     "text": [
      " 23%|██▎       | 4326/18411 [40:07<2:09:38,  1.81it/s]"
     ]
    },
    {
     "name": "stdout",
     "output_type": "stream",
     "text": [
      "Epoch [1/1], Step [4326/18411], Loss: 1.7129002809524536\n"
     ]
    },
    {
     "name": "stderr",
     "output_type": "stream",
     "text": [
      " 24%|██▎       | 4351/18411 [40:21<2:08:23,  1.83it/s]"
     ]
    },
    {
     "name": "stdout",
     "output_type": "stream",
     "text": [
      "Epoch [1/1], Step [4351/18411], Loss: 1.7349963188171387\n"
     ]
    },
    {
     "name": "stderr",
     "output_type": "stream",
     "text": [
      " 24%|██▍       | 4376/18411 [40:35<2:14:47,  1.74it/s]"
     ]
    },
    {
     "name": "stdout",
     "output_type": "stream",
     "text": [
      "Epoch [1/1], Step [4376/18411], Loss: 2.1030337810516357\n"
     ]
    },
    {
     "name": "stderr",
     "output_type": "stream",
     "text": [
      " 24%|██▍       | 4401/18411 [40:48<2:07:30,  1.83it/s]"
     ]
    },
    {
     "name": "stdout",
     "output_type": "stream",
     "text": [
      "Epoch [1/1], Step [4401/18411], Loss: 1.7439745664596558\n"
     ]
    },
    {
     "name": "stderr",
     "output_type": "stream",
     "text": [
      " 24%|██▍       | 4426/18411 [41:02<2:14:12,  1.74it/s]"
     ]
    },
    {
     "name": "stdout",
     "output_type": "stream",
     "text": [
      "Epoch [1/1], Step [4426/18411], Loss: 1.787444829940796\n"
     ]
    },
    {
     "name": "stderr",
     "output_type": "stream",
     "text": [
      " 24%|██▍       | 4451/18411 [41:16<2:08:02,  1.82it/s]"
     ]
    },
    {
     "name": "stdout",
     "output_type": "stream",
     "text": [
      "Epoch [1/1], Step [4451/18411], Loss: 1.5983877182006836\n"
     ]
    },
    {
     "name": "stderr",
     "output_type": "stream",
     "text": [
      " 24%|██▍       | 4476/18411 [41:30<2:07:19,  1.82it/s]"
     ]
    },
    {
     "name": "stdout",
     "output_type": "stream",
     "text": [
      "Epoch [1/1], Step [4476/18411], Loss: 1.729569911956787\n"
     ]
    },
    {
     "name": "stderr",
     "output_type": "stream",
     "text": [
      " 24%|██▍       | 4501/18411 [41:44<2:13:19,  1.74it/s]"
     ]
    },
    {
     "name": "stdout",
     "output_type": "stream",
     "text": [
      "Epoch [1/1], Step [4501/18411], Loss: 1.8671914339065552\n"
     ]
    },
    {
     "name": "stderr",
     "output_type": "stream",
     "text": [
      " 25%|██▍       | 4526/18411 [41:58<2:13:57,  1.73it/s]"
     ]
    },
    {
     "name": "stdout",
     "output_type": "stream",
     "text": [
      "Epoch [1/1], Step [4526/18411], Loss: 1.6523369550704956\n"
     ]
    },
    {
     "name": "stderr",
     "output_type": "stream",
     "text": [
      " 25%|██▍       | 4551/18411 [42:12<2:06:19,  1.83it/s]"
     ]
    },
    {
     "name": "stdout",
     "output_type": "stream",
     "text": [
      "Epoch [1/1], Step [4551/18411], Loss: 1.786057949066162\n"
     ]
    },
    {
     "name": "stderr",
     "output_type": "stream",
     "text": [
      " 25%|██▍       | 4576/18411 [42:26<2:09:45,  1.78it/s]"
     ]
    },
    {
     "name": "stdout",
     "output_type": "stream",
     "text": [
      "Epoch [1/1], Step [4576/18411], Loss: 1.5741921663284302\n"
     ]
    },
    {
     "name": "stderr",
     "output_type": "stream",
     "text": [
      " 25%|██▍       | 4601/18411 [42:40<2:08:58,  1.78it/s]"
     ]
    },
    {
     "name": "stdout",
     "output_type": "stream",
     "text": [
      "Epoch [1/1], Step [4601/18411], Loss: 1.6956710815429688\n"
     ]
    },
    {
     "name": "stderr",
     "output_type": "stream",
     "text": [
      " 25%|██▌       | 4626/18411 [42:54<2:07:55,  1.80it/s]"
     ]
    },
    {
     "name": "stdout",
     "output_type": "stream",
     "text": [
      "Epoch [1/1], Step [4626/18411], Loss: 1.518837571144104\n"
     ]
    },
    {
     "name": "stderr",
     "output_type": "stream",
     "text": [
      " 25%|██▌       | 4651/18411 [43:08<2:08:40,  1.78it/s]"
     ]
    },
    {
     "name": "stdout",
     "output_type": "stream",
     "text": [
      "Epoch [1/1], Step [4651/18411], Loss: 1.8305805921554565\n"
     ]
    },
    {
     "name": "stderr",
     "output_type": "stream",
     "text": [
      " 25%|██▌       | 4676/18411 [43:22<2:05:26,  1.82it/s]"
     ]
    },
    {
     "name": "stdout",
     "output_type": "stream",
     "text": [
      "Epoch [1/1], Step [4676/18411], Loss: 1.6954272985458374\n"
     ]
    },
    {
     "name": "stderr",
     "output_type": "stream",
     "text": [
      " 26%|██▌       | 4701/18411 [43:35<2:09:06,  1.77it/s]"
     ]
    },
    {
     "name": "stdout",
     "output_type": "stream",
     "text": [
      "Epoch [1/1], Step [4701/18411], Loss: 1.572740912437439\n"
     ]
    },
    {
     "name": "stderr",
     "output_type": "stream",
     "text": [
      " 26%|██▌       | 4726/18411 [43:49<2:09:50,  1.76it/s]"
     ]
    },
    {
     "name": "stdout",
     "output_type": "stream",
     "text": [
      "Epoch [1/1], Step [4726/18411], Loss: 1.7551435232162476\n"
     ]
    },
    {
     "name": "stderr",
     "output_type": "stream",
     "text": [
      " 26%|██▌       | 4751/18411 [44:03<2:04:58,  1.82it/s]"
     ]
    },
    {
     "name": "stdout",
     "output_type": "stream",
     "text": [
      "Epoch [1/1], Step [4751/18411], Loss: 1.7335880994796753\n"
     ]
    },
    {
     "name": "stderr",
     "output_type": "stream",
     "text": [
      " 26%|██▌       | 4776/18411 [44:16<2:04:34,  1.82it/s]"
     ]
    },
    {
     "name": "stdout",
     "output_type": "stream",
     "text": [
      "Epoch [1/1], Step [4776/18411], Loss: 1.4519269466400146\n"
     ]
    },
    {
     "name": "stderr",
     "output_type": "stream",
     "text": [
      " 26%|██▌       | 4801/18411 [44:30<2:05:33,  1.81it/s]"
     ]
    },
    {
     "name": "stdout",
     "output_type": "stream",
     "text": [
      "Epoch [1/1], Step [4801/18411], Loss: 1.68831205368042\n"
     ]
    },
    {
     "name": "stderr",
     "output_type": "stream",
     "text": [
      " 26%|██▌       | 4826/18411 [44:44<2:04:31,  1.82it/s]"
     ]
    },
    {
     "name": "stdout",
     "output_type": "stream",
     "text": [
      "Epoch [1/1], Step [4826/18411], Loss: 1.928688883781433\n"
     ]
    },
    {
     "name": "stderr",
     "output_type": "stream",
     "text": [
      " 26%|██▋       | 4851/18411 [44:58<2:10:11,  1.74it/s]"
     ]
    },
    {
     "name": "stdout",
     "output_type": "stream",
     "text": [
      "Epoch [1/1], Step [4851/18411], Loss: 1.531905174255371\n"
     ]
    },
    {
     "name": "stderr",
     "output_type": "stream",
     "text": [
      " 26%|██▋       | 4876/18411 [45:12<2:03:25,  1.83it/s]"
     ]
    },
    {
     "name": "stdout",
     "output_type": "stream",
     "text": [
      "Epoch [1/1], Step [4876/18411], Loss: 1.5658639669418335\n"
     ]
    },
    {
     "name": "stderr",
     "output_type": "stream",
     "text": [
      " 27%|██▋       | 4901/18411 [45:25<2:09:13,  1.74it/s]"
     ]
    },
    {
     "name": "stdout",
     "output_type": "stream",
     "text": [
      "Epoch [1/1], Step [4901/18411], Loss: 1.7406339645385742\n"
     ]
    },
    {
     "name": "stderr",
     "output_type": "stream",
     "text": [
      " 27%|██▋       | 4926/18411 [45:40<2:09:11,  1.74it/s]"
     ]
    },
    {
     "name": "stdout",
     "output_type": "stream",
     "text": [
      "Epoch [1/1], Step [4926/18411], Loss: 1.7565667629241943\n"
     ]
    },
    {
     "name": "stderr",
     "output_type": "stream",
     "text": [
      " 27%|██▋       | 4951/18411 [45:54<2:08:37,  1.74it/s]"
     ]
    },
    {
     "name": "stdout",
     "output_type": "stream",
     "text": [
      "Epoch [1/1], Step [4951/18411], Loss: 1.6691784858703613\n"
     ]
    },
    {
     "name": "stderr",
     "output_type": "stream",
     "text": [
      " 27%|██▋       | 4976/18411 [46:08<2:09:47,  1.73it/s]"
     ]
    },
    {
     "name": "stdout",
     "output_type": "stream",
     "text": [
      "Epoch [1/1], Step [4976/18411], Loss: 1.716597080230713\n"
     ]
    },
    {
     "name": "stderr",
     "output_type": "stream",
     "text": [
      " 27%|██▋       | 5001/18411 [46:22<2:09:16,  1.73it/s]"
     ]
    },
    {
     "name": "stdout",
     "output_type": "stream",
     "text": [
      "Epoch [1/1], Step [5001/18411], Loss: 1.7121502161026\n"
     ]
    },
    {
     "name": "stderr",
     "output_type": "stream",
     "text": [
      " 27%|██▋       | 5026/18411 [46:37<2:09:14,  1.73it/s]"
     ]
    },
    {
     "name": "stdout",
     "output_type": "stream",
     "text": [
      "Epoch [1/1], Step [5026/18411], Loss: 1.4408347606658936\n"
     ]
    },
    {
     "name": "stderr",
     "output_type": "stream",
     "text": [
      " 27%|██▋       | 5051/18411 [46:51<2:09:04,  1.73it/s]"
     ]
    },
    {
     "name": "stdout",
     "output_type": "stream",
     "text": [
      "Epoch [1/1], Step [5051/18411], Loss: 1.685478687286377\n"
     ]
    },
    {
     "name": "stderr",
     "output_type": "stream",
     "text": [
      " 28%|██▊       | 5076/18411 [47:05<2:08:45,  1.73it/s]"
     ]
    },
    {
     "name": "stdout",
     "output_type": "stream",
     "text": [
      "Epoch [1/1], Step [5076/18411], Loss: 1.7363418340682983\n"
     ]
    },
    {
     "name": "stderr",
     "output_type": "stream",
     "text": [
      " 28%|██▊       | 5101/18411 [47:20<2:05:32,  1.77it/s]"
     ]
    },
    {
     "name": "stdout",
     "output_type": "stream",
     "text": [
      "Epoch [1/1], Step [5101/18411], Loss: 1.6691275835037231\n"
     ]
    },
    {
     "name": "stderr",
     "output_type": "stream",
     "text": [
      " 28%|██▊       | 5126/18411 [47:33<2:01:45,  1.82it/s]"
     ]
    },
    {
     "name": "stdout",
     "output_type": "stream",
     "text": [
      "Epoch [1/1], Step [5126/18411], Loss: 1.3536968231201172\n"
     ]
    },
    {
     "name": "stderr",
     "output_type": "stream",
     "text": [
      " 28%|██▊       | 5151/18411 [47:47<2:01:22,  1.82it/s]"
     ]
    },
    {
     "name": "stdout",
     "output_type": "stream",
     "text": [
      "Epoch [1/1], Step [5151/18411], Loss: 1.4935821294784546\n"
     ]
    },
    {
     "name": "stderr",
     "output_type": "stream",
     "text": [
      " 28%|██▊       | 5176/18411 [48:01<2:07:52,  1.72it/s]"
     ]
    },
    {
     "name": "stdout",
     "output_type": "stream",
     "text": [
      "Epoch [1/1], Step [5176/18411], Loss: 1.4341446161270142\n"
     ]
    },
    {
     "name": "stderr",
     "output_type": "stream",
     "text": [
      " 28%|██▊       | 5201/18411 [48:15<2:07:33,  1.73it/s]"
     ]
    },
    {
     "name": "stdout",
     "output_type": "stream",
     "text": [
      "Epoch [1/1], Step [5201/18411], Loss: 1.567084789276123\n"
     ]
    },
    {
     "name": "stderr",
     "output_type": "stream",
     "text": [
      " 28%|██▊       | 5226/18411 [48:29<2:05:42,  1.75it/s]"
     ]
    },
    {
     "name": "stdout",
     "output_type": "stream",
     "text": [
      "Epoch [1/1], Step [5226/18411], Loss: 1.6658672094345093\n"
     ]
    },
    {
     "name": "stderr",
     "output_type": "stream",
     "text": [
      " 29%|██▊       | 5251/18411 [48:43<2:01:24,  1.81it/s]"
     ]
    },
    {
     "name": "stdout",
     "output_type": "stream",
     "text": [
      "Epoch [1/1], Step [5251/18411], Loss: 1.7035268545150757\n"
     ]
    },
    {
     "name": "stderr",
     "output_type": "stream",
     "text": [
      " 29%|██▊       | 5276/18411 [48:57<2:06:30,  1.73it/s]"
     ]
    },
    {
     "name": "stdout",
     "output_type": "stream",
     "text": [
      "Epoch [1/1], Step [5276/18411], Loss: 1.7759658098220825\n"
     ]
    },
    {
     "name": "stderr",
     "output_type": "stream",
     "text": [
      " 29%|██▉       | 5301/18411 [49:11<2:04:16,  1.76it/s]"
     ]
    },
    {
     "name": "stdout",
     "output_type": "stream",
     "text": [
      "Epoch [1/1], Step [5301/18411], Loss: 1.5765515565872192\n"
     ]
    },
    {
     "name": "stderr",
     "output_type": "stream",
     "text": [
      " 29%|██▉       | 5326/18411 [49:25<1:59:54,  1.82it/s]"
     ]
    },
    {
     "name": "stdout",
     "output_type": "stream",
     "text": [
      "Epoch [1/1], Step [5326/18411], Loss: 1.5279083251953125\n"
     ]
    },
    {
     "name": "stderr",
     "output_type": "stream",
     "text": [
      " 29%|██▉       | 5351/18411 [49:39<1:59:31,  1.82it/s]"
     ]
    },
    {
     "name": "stdout",
     "output_type": "stream",
     "text": [
      "Epoch [1/1], Step [5351/18411], Loss: 1.4860436916351318\n"
     ]
    },
    {
     "name": "stderr",
     "output_type": "stream",
     "text": [
      " 29%|██▉       | 5376/18411 [49:52<1:59:08,  1.82it/s]"
     ]
    },
    {
     "name": "stdout",
     "output_type": "stream",
     "text": [
      "Epoch [1/1], Step [5376/18411], Loss: 1.5381016731262207\n"
     ]
    },
    {
     "name": "stderr",
     "output_type": "stream",
     "text": [
      " 29%|██▉       | 5401/18411 [50:06<2:04:05,  1.75it/s]"
     ]
    },
    {
     "name": "stdout",
     "output_type": "stream",
     "text": [
      "Epoch [1/1], Step [5401/18411], Loss: 1.6273390054702759\n"
     ]
    },
    {
     "name": "stderr",
     "output_type": "stream",
     "text": [
      " 29%|██▉       | 5426/18411 [50:21<2:07:00,  1.70it/s]"
     ]
    },
    {
     "name": "stdout",
     "output_type": "stream",
     "text": [
      "Epoch [1/1], Step [5426/18411], Loss: 1.6194418668746948\n"
     ]
    },
    {
     "name": "stderr",
     "output_type": "stream",
     "text": [
      " 30%|██▉       | 5451/18411 [50:35<2:05:10,  1.73it/s]"
     ]
    },
    {
     "name": "stdout",
     "output_type": "stream",
     "text": [
      "Epoch [1/1], Step [5451/18411], Loss: 1.634330153465271\n"
     ]
    },
    {
     "name": "stderr",
     "output_type": "stream",
     "text": [
      " 30%|██▉       | 5476/18411 [50:51<2:21:36,  1.52it/s]"
     ]
    },
    {
     "name": "stdout",
     "output_type": "stream",
     "text": [
      "Epoch [1/1], Step [5476/18411], Loss: 1.8238306045532227\n"
     ]
    },
    {
     "name": "stderr",
     "output_type": "stream",
     "text": [
      " 30%|██▉       | 5501/18411 [51:05<1:57:55,  1.82it/s]"
     ]
    },
    {
     "name": "stdout",
     "output_type": "stream",
     "text": [
      "Epoch [1/1], Step [5501/18411], Loss: 1.6153923273086548\n"
     ]
    },
    {
     "name": "stderr",
     "output_type": "stream",
     "text": [
      " 30%|███       | 5526/18411 [51:19<2:04:37,  1.72it/s]"
     ]
    },
    {
     "name": "stdout",
     "output_type": "stream",
     "text": [
      "Epoch [1/1], Step [5526/18411], Loss: 1.5079514980316162\n"
     ]
    },
    {
     "name": "stderr",
     "output_type": "stream",
     "text": [
      " 30%|███       | 5551/18411 [51:33<2:03:05,  1.74it/s]"
     ]
    },
    {
     "name": "stdout",
     "output_type": "stream",
     "text": [
      "Epoch [1/1], Step [5551/18411], Loss: 1.6877772808074951\n"
     ]
    },
    {
     "name": "stderr",
     "output_type": "stream",
     "text": [
      " 30%|███       | 5576/18411 [51:47<1:57:15,  1.82it/s]"
     ]
    },
    {
     "name": "stdout",
     "output_type": "stream",
     "text": [
      "Epoch [1/1], Step [5576/18411], Loss: 1.7173566818237305\n"
     ]
    },
    {
     "name": "stderr",
     "output_type": "stream",
     "text": [
      " 30%|███       | 5601/18411 [52:00<2:00:40,  1.77it/s]"
     ]
    },
    {
     "name": "stdout",
     "output_type": "stream",
     "text": [
      "Epoch [1/1], Step [5601/18411], Loss: 1.6906319856643677\n"
     ]
    },
    {
     "name": "stderr",
     "output_type": "stream",
     "text": [
      " 31%|███       | 5626/18411 [52:14<1:58:37,  1.80it/s]"
     ]
    },
    {
     "name": "stdout",
     "output_type": "stream",
     "text": [
      "Epoch [1/1], Step [5626/18411], Loss: 1.6454144716262817\n"
     ]
    },
    {
     "name": "stderr",
     "output_type": "stream",
     "text": [
      " 31%|███       | 5651/18411 [52:28<2:03:12,  1.73it/s]"
     ]
    },
    {
     "name": "stdout",
     "output_type": "stream",
     "text": [
      "Epoch [1/1], Step [5651/18411], Loss: 1.8651561737060547\n"
     ]
    },
    {
     "name": "stderr",
     "output_type": "stream",
     "text": [
      " 31%|███       | 5676/18411 [52:42<1:57:11,  1.81it/s]"
     ]
    },
    {
     "name": "stdout",
     "output_type": "stream",
     "text": [
      "Epoch [1/1], Step [5676/18411], Loss: 1.689879298210144\n"
     ]
    },
    {
     "name": "stderr",
     "output_type": "stream",
     "text": [
      " 31%|███       | 5701/18411 [52:56<1:56:12,  1.82it/s]"
     ]
    },
    {
     "name": "stdout",
     "output_type": "stream",
     "text": [
      "Epoch [1/1], Step [5701/18411], Loss: 1.8560482263565063\n"
     ]
    },
    {
     "name": "stderr",
     "output_type": "stream",
     "text": [
      " 31%|███       | 5726/18411 [53:10<1:59:20,  1.77it/s]"
     ]
    },
    {
     "name": "stdout",
     "output_type": "stream",
     "text": [
      "Epoch [1/1], Step [5726/18411], Loss: 1.490485429763794\n"
     ]
    },
    {
     "name": "stderr",
     "output_type": "stream",
     "text": [
      " 31%|███       | 5751/18411 [53:24<1:59:58,  1.76it/s]"
     ]
    },
    {
     "name": "stdout",
     "output_type": "stream",
     "text": [
      "Epoch [1/1], Step [5751/18411], Loss: 1.514358401298523\n"
     ]
    },
    {
     "name": "stderr",
     "output_type": "stream",
     "text": [
      " 31%|███▏      | 5776/18411 [53:38<1:58:36,  1.78it/s]"
     ]
    },
    {
     "name": "stdout",
     "output_type": "stream",
     "text": [
      "Epoch [1/1], Step [5776/18411], Loss: 1.5978283882141113\n"
     ]
    },
    {
     "name": "stderr",
     "output_type": "stream",
     "text": [
      " 32%|███▏      | 5801/18411 [53:51<1:57:18,  1.79it/s]"
     ]
    },
    {
     "name": "stdout",
     "output_type": "stream",
     "text": [
      "Epoch [1/1], Step [5801/18411], Loss: 1.7264866828918457\n"
     ]
    },
    {
     "name": "stderr",
     "output_type": "stream",
     "text": [
      " 32%|███▏      | 5826/18411 [54:05<1:57:26,  1.79it/s]"
     ]
    },
    {
     "name": "stdout",
     "output_type": "stream",
     "text": [
      "Epoch [1/1], Step [5826/18411], Loss: 1.5752999782562256\n"
     ]
    },
    {
     "name": "stderr",
     "output_type": "stream",
     "text": [
      " 32%|███▏      | 5851/18411 [54:19<1:54:33,  1.83it/s]"
     ]
    },
    {
     "name": "stdout",
     "output_type": "stream",
     "text": [
      "Epoch [1/1], Step [5851/18411], Loss: 1.5605195760726929\n"
     ]
    },
    {
     "name": "stderr",
     "output_type": "stream",
     "text": [
      " 32%|███▏      | 5876/18411 [54:33<1:55:53,  1.80it/s]"
     ]
    },
    {
     "name": "stdout",
     "output_type": "stream",
     "text": [
      "Epoch [1/1], Step [5876/18411], Loss: 1.4155477285385132\n"
     ]
    },
    {
     "name": "stderr",
     "output_type": "stream",
     "text": [
      " 32%|███▏      | 5901/18411 [54:47<2:00:10,  1.74it/s]"
     ]
    },
    {
     "name": "stdout",
     "output_type": "stream",
     "text": [
      "Epoch [1/1], Step [5901/18411], Loss: 1.4649120569229126\n"
     ]
    },
    {
     "name": "stderr",
     "output_type": "stream",
     "text": [
      " 32%|███▏      | 5926/18411 [55:01<1:54:06,  1.82it/s]"
     ]
    },
    {
     "name": "stdout",
     "output_type": "stream",
     "text": [
      "Epoch [1/1], Step [5926/18411], Loss: 1.491693377494812\n"
     ]
    },
    {
     "name": "stderr",
     "output_type": "stream",
     "text": [
      " 32%|███▏      | 5951/18411 [55:15<1:59:51,  1.73it/s]"
     ]
    },
    {
     "name": "stdout",
     "output_type": "stream",
     "text": [
      "Epoch [1/1], Step [5951/18411], Loss: 1.445594072341919\n"
     ]
    },
    {
     "name": "stderr",
     "output_type": "stream",
     "text": [
      " 32%|███▏      | 5976/18411 [55:28<1:53:09,  1.83it/s]"
     ]
    },
    {
     "name": "stdout",
     "output_type": "stream",
     "text": [
      "Epoch [1/1], Step [5976/18411], Loss: 1.6965978145599365\n"
     ]
    },
    {
     "name": "stderr",
     "output_type": "stream",
     "text": [
      " 33%|███▎      | 6001/18411 [55:42<1:53:21,  1.82it/s]"
     ]
    },
    {
     "name": "stdout",
     "output_type": "stream",
     "text": [
      "Epoch [1/1], Step [6001/18411], Loss: 1.3062732219696045\n"
     ]
    },
    {
     "name": "stderr",
     "output_type": "stream",
     "text": [
      " 33%|███▎      | 6026/18411 [55:55<1:52:57,  1.83it/s]"
     ]
    },
    {
     "name": "stdout",
     "output_type": "stream",
     "text": [
      "Epoch [1/1], Step [6026/18411], Loss: 1.6382101774215698\n"
     ]
    },
    {
     "name": "stderr",
     "output_type": "stream",
     "text": [
      " 33%|███▎      | 6051/18411 [56:09<1:52:51,  1.83it/s]"
     ]
    },
    {
     "name": "stdout",
     "output_type": "stream",
     "text": [
      "Epoch [1/1], Step [6051/18411], Loss: 1.5189719200134277\n"
     ]
    },
    {
     "name": "stderr",
     "output_type": "stream",
     "text": [
      " 33%|███▎      | 6076/18411 [56:23<1:54:51,  1.79it/s]"
     ]
    },
    {
     "name": "stdout",
     "output_type": "stream",
     "text": [
      "Epoch [1/1], Step [6076/18411], Loss: 1.5978960990905762\n"
     ]
    },
    {
     "name": "stderr",
     "output_type": "stream",
     "text": [
      " 33%|███▎      | 6101/18411 [56:37<1:55:47,  1.77it/s]"
     ]
    },
    {
     "name": "stdout",
     "output_type": "stream",
     "text": [
      "Epoch [1/1], Step [6101/18411], Loss: 1.5374795198440552\n"
     ]
    },
    {
     "name": "stderr",
     "output_type": "stream",
     "text": [
      " 33%|███▎      | 6126/18411 [56:50<1:55:46,  1.77it/s]"
     ]
    },
    {
     "name": "stdout",
     "output_type": "stream",
     "text": [
      "Epoch [1/1], Step [6126/18411], Loss: 1.4634836912155151\n"
     ]
    },
    {
     "name": "stderr",
     "output_type": "stream",
     "text": [
      " 33%|███▎      | 6151/18411 [57:05<1:58:11,  1.73it/s]"
     ]
    },
    {
     "name": "stdout",
     "output_type": "stream",
     "text": [
      "Epoch [1/1], Step [6151/18411], Loss: 1.4525070190429688\n"
     ]
    },
    {
     "name": "stderr",
     "output_type": "stream",
     "text": [
      " 34%|███▎      | 6176/18411 [57:18<1:51:45,  1.82it/s]"
     ]
    },
    {
     "name": "stdout",
     "output_type": "stream",
     "text": [
      "Epoch [1/1], Step [6176/18411], Loss: 1.6387927532196045\n"
     ]
    },
    {
     "name": "stderr",
     "output_type": "stream",
     "text": [
      " 34%|███▎      | 6201/18411 [57:32<1:51:55,  1.82it/s]"
     ]
    },
    {
     "name": "stdout",
     "output_type": "stream",
     "text": [
      "Epoch [1/1], Step [6201/18411], Loss: 1.5095691680908203\n"
     ]
    },
    {
     "name": "stderr",
     "output_type": "stream",
     "text": [
      " 34%|███▍      | 6226/18411 [57:46<1:57:21,  1.73it/s]"
     ]
    },
    {
     "name": "stdout",
     "output_type": "stream",
     "text": [
      "Epoch [1/1], Step [6226/18411], Loss: 1.6288237571716309\n"
     ]
    },
    {
     "name": "stderr",
     "output_type": "stream",
     "text": [
      " 34%|███▍      | 6251/18411 [58:00<1:50:59,  1.83it/s]"
     ]
    },
    {
     "name": "stdout",
     "output_type": "stream",
     "text": [
      "Epoch [1/1], Step [6251/18411], Loss: 1.5635703802108765\n"
     ]
    },
    {
     "name": "stderr",
     "output_type": "stream",
     "text": [
      " 34%|███▍      | 6276/18411 [58:14<1:52:25,  1.80it/s]"
     ]
    },
    {
     "name": "stdout",
     "output_type": "stream",
     "text": [
      "Epoch [1/1], Step [6276/18411], Loss: 1.2826642990112305\n"
     ]
    },
    {
     "name": "stderr",
     "output_type": "stream",
     "text": [
      " 34%|███▍      | 6301/18411 [58:27<1:50:36,  1.82it/s]"
     ]
    },
    {
     "name": "stdout",
     "output_type": "stream",
     "text": [
      "Epoch [1/1], Step [6301/18411], Loss: 1.4928513765335083\n"
     ]
    },
    {
     "name": "stderr",
     "output_type": "stream",
     "text": [
      " 34%|███▍      | 6326/18411 [58:41<1:50:18,  1.83it/s]"
     ]
    },
    {
     "name": "stdout",
     "output_type": "stream",
     "text": [
      "Epoch [1/1], Step [6326/18411], Loss: 1.5524675846099854\n"
     ]
    },
    {
     "name": "stderr",
     "output_type": "stream",
     "text": [
      " 34%|███▍      | 6351/18411 [58:54<1:50:30,  1.82it/s]"
     ]
    },
    {
     "name": "stdout",
     "output_type": "stream",
     "text": [
      "Epoch [1/1], Step [6351/18411], Loss: 1.4543945789337158\n"
     ]
    },
    {
     "name": "stderr",
     "output_type": "stream",
     "text": [
      " 35%|███▍      | 6376/18411 [59:08<1:49:44,  1.83it/s]"
     ]
    },
    {
     "name": "stdout",
     "output_type": "stream",
     "text": [
      "Epoch [1/1], Step [6376/18411], Loss: 1.2192491292953491\n"
     ]
    },
    {
     "name": "stderr",
     "output_type": "stream",
     "text": [
      " 35%|███▍      | 6401/18411 [59:22<1:51:33,  1.79it/s]"
     ]
    },
    {
     "name": "stdout",
     "output_type": "stream",
     "text": [
      "Epoch [1/1], Step [6401/18411], Loss: 1.4042856693267822\n"
     ]
    },
    {
     "name": "stderr",
     "output_type": "stream",
     "text": [
      " 35%|███▍      | 6426/18411 [59:35<1:49:54,  1.82it/s]"
     ]
    },
    {
     "name": "stdout",
     "output_type": "stream",
     "text": [
      "Epoch [1/1], Step [6426/18411], Loss: 1.5687335729599\n"
     ]
    },
    {
     "name": "stderr",
     "output_type": "stream",
     "text": [
      " 35%|███▌      | 6451/18411 [59:49<1:54:09,  1.75it/s]"
     ]
    },
    {
     "name": "stdout",
     "output_type": "stream",
     "text": [
      "Epoch [1/1], Step [6451/18411], Loss: 1.4626656770706177\n"
     ]
    },
    {
     "name": "stderr",
     "output_type": "stream",
     "text": [
      " 35%|███▌      | 6476/18411 [1:00:03<1:55:01,  1.73it/s]"
     ]
    },
    {
     "name": "stdout",
     "output_type": "stream",
     "text": [
      "Epoch [1/1], Step [6476/18411], Loss: 1.7944276332855225\n"
     ]
    },
    {
     "name": "stderr",
     "output_type": "stream",
     "text": [
      " 35%|███▌      | 6501/18411 [1:00:18<1:54:47,  1.73it/s]"
     ]
    },
    {
     "name": "stdout",
     "output_type": "stream",
     "text": [
      "Epoch [1/1], Step [6501/18411], Loss: 1.5365537405014038\n"
     ]
    },
    {
     "name": "stderr",
     "output_type": "stream",
     "text": [
      " 35%|███▌      | 6526/18411 [1:00:32<1:54:32,  1.73it/s]"
     ]
    },
    {
     "name": "stdout",
     "output_type": "stream",
     "text": [
      "Epoch [1/1], Step [6526/18411], Loss: 1.398723840713501\n"
     ]
    },
    {
     "name": "stderr",
     "output_type": "stream",
     "text": [
      " 36%|███▌      | 6551/18411 [1:00:46<1:54:24,  1.73it/s]"
     ]
    },
    {
     "name": "stdout",
     "output_type": "stream",
     "text": [
      "Epoch [1/1], Step [6551/18411], Loss: 1.6295033693313599\n"
     ]
    },
    {
     "name": "stderr",
     "output_type": "stream",
     "text": [
      " 36%|███▌      | 6576/18411 [1:01:00<1:49:04,  1.81it/s]"
     ]
    },
    {
     "name": "stdout",
     "output_type": "stream",
     "text": [
      "Epoch [1/1], Step [6576/18411], Loss: 1.3425956964492798\n"
     ]
    },
    {
     "name": "stderr",
     "output_type": "stream",
     "text": [
      " 36%|███▌      | 6601/18411 [1:01:14<1:52:01,  1.76it/s]"
     ]
    },
    {
     "name": "stdout",
     "output_type": "stream",
     "text": [
      "Epoch [1/1], Step [6601/18411], Loss: 1.238918423652649\n"
     ]
    },
    {
     "name": "stderr",
     "output_type": "stream",
     "text": [
      " 36%|███▌      | 6626/18411 [1:01:28<1:52:58,  1.74it/s]"
     ]
    },
    {
     "name": "stdout",
     "output_type": "stream",
     "text": [
      "Epoch [1/1], Step [6626/18411], Loss: 1.6451623439788818\n"
     ]
    },
    {
     "name": "stderr",
     "output_type": "stream",
     "text": [
      " 36%|███▌      | 6651/18411 [1:01:42<1:49:58,  1.78it/s]"
     ]
    },
    {
     "name": "stdout",
     "output_type": "stream",
     "text": [
      "Epoch [1/1], Step [6651/18411], Loss: 1.4057708978652954\n"
     ]
    },
    {
     "name": "stderr",
     "output_type": "stream",
     "text": [
      " 36%|███▋      | 6676/18411 [1:01:56<1:50:29,  1.77it/s]"
     ]
    },
    {
     "name": "stdout",
     "output_type": "stream",
     "text": [
      "Epoch [1/1], Step [6676/18411], Loss: 1.628606915473938\n"
     ]
    },
    {
     "name": "stderr",
     "output_type": "stream",
     "text": [
      " 36%|███▋      | 6701/18411 [1:02:10<1:50:28,  1.77it/s]"
     ]
    },
    {
     "name": "stdout",
     "output_type": "stream",
     "text": [
      "Epoch [1/1], Step [6701/18411], Loss: 1.250679612159729\n"
     ]
    },
    {
     "name": "stderr",
     "output_type": "stream",
     "text": [
      " 37%|███▋      | 6726/18411 [1:02:24<1:47:03,  1.82it/s]"
     ]
    },
    {
     "name": "stdout",
     "output_type": "stream",
     "text": [
      "Epoch [1/1], Step [6726/18411], Loss: 1.5524333715438843\n"
     ]
    },
    {
     "name": "stderr",
     "output_type": "stream",
     "text": [
      " 37%|███▋      | 6751/18411 [1:02:38<1:50:22,  1.76it/s]"
     ]
    },
    {
     "name": "stdout",
     "output_type": "stream",
     "text": [
      "Epoch [1/1], Step [6751/18411], Loss: 1.5324403047561646\n"
     ]
    },
    {
     "name": "stderr",
     "output_type": "stream",
     "text": [
      " 37%|███▋      | 6776/18411 [1:02:52<1:46:44,  1.82it/s]"
     ]
    },
    {
     "name": "stdout",
     "output_type": "stream",
     "text": [
      "Epoch [1/1], Step [6776/18411], Loss: 1.3593963384628296\n"
     ]
    },
    {
     "name": "stderr",
     "output_type": "stream",
     "text": [
      " 37%|███▋      | 6801/18411 [1:03:06<1:51:48,  1.73it/s]"
     ]
    },
    {
     "name": "stdout",
     "output_type": "stream",
     "text": [
      "Epoch [1/1], Step [6801/18411], Loss: 1.2104750871658325\n"
     ]
    },
    {
     "name": "stderr",
     "output_type": "stream",
     "text": [
      " 37%|███▋      | 6826/18411 [1:03:20<1:48:24,  1.78it/s]"
     ]
    },
    {
     "name": "stdout",
     "output_type": "stream",
     "text": [
      "Epoch [1/1], Step [6826/18411], Loss: 1.4331170320510864\n"
     ]
    },
    {
     "name": "stderr",
     "output_type": "stream",
     "text": [
      " 37%|███▋      | 6851/18411 [1:03:34<1:45:12,  1.83it/s]"
     ]
    },
    {
     "name": "stdout",
     "output_type": "stream",
     "text": [
      "Epoch [1/1], Step [6851/18411], Loss: 1.1717991828918457\n"
     ]
    },
    {
     "name": "stderr",
     "output_type": "stream",
     "text": [
      " 37%|███▋      | 6876/18411 [1:03:48<1:48:54,  1.77it/s]"
     ]
    },
    {
     "name": "stdout",
     "output_type": "stream",
     "text": [
      "Epoch [1/1], Step [6876/18411], Loss: 1.5854456424713135\n"
     ]
    },
    {
     "name": "stderr",
     "output_type": "stream",
     "text": [
      " 37%|███▋      | 6901/18411 [1:04:01<1:48:59,  1.76it/s]"
     ]
    },
    {
     "name": "stdout",
     "output_type": "stream",
     "text": [
      "Epoch [1/1], Step [6901/18411], Loss: 1.4900563955307007\n"
     ]
    },
    {
     "name": "stderr",
     "output_type": "stream",
     "text": [
      " 38%|███▊      | 6926/18411 [1:04:15<1:44:30,  1.83it/s]"
     ]
    },
    {
     "name": "stdout",
     "output_type": "stream",
     "text": [
      "Epoch [1/1], Step [6926/18411], Loss: 1.1820507049560547\n"
     ]
    },
    {
     "name": "stderr",
     "output_type": "stream",
     "text": [
      " 38%|███▊      | 6951/18411 [1:04:28<1:44:15,  1.83it/s]"
     ]
    },
    {
     "name": "stdout",
     "output_type": "stream",
     "text": [
      "Epoch [1/1], Step [6951/18411], Loss: 1.4960981607437134\n"
     ]
    },
    {
     "name": "stderr",
     "output_type": "stream",
     "text": [
      " 38%|███▊      | 6976/18411 [1:04:42<1:44:04,  1.83it/s]"
     ]
    },
    {
     "name": "stdout",
     "output_type": "stream",
     "text": [
      "Epoch [1/1], Step [6976/18411], Loss: 1.4505174160003662\n"
     ]
    },
    {
     "name": "stderr",
     "output_type": "stream",
     "text": [
      " 38%|███▊      | 7001/18411 [1:04:56<1:49:51,  1.73it/s]"
     ]
    },
    {
     "name": "stdout",
     "output_type": "stream",
     "text": [
      "Epoch [1/1], Step [7001/18411], Loss: 1.4330251216888428\n"
     ]
    },
    {
     "name": "stderr",
     "output_type": "stream",
     "text": [
      " 38%|███▊      | 7026/18411 [1:05:10<1:49:43,  1.73it/s]"
     ]
    },
    {
     "name": "stdout",
     "output_type": "stream",
     "text": [
      "Epoch [1/1], Step [7026/18411], Loss: 1.3600112199783325\n"
     ]
    },
    {
     "name": "stderr",
     "output_type": "stream",
     "text": [
      " 38%|███▊      | 7051/18411 [1:05:24<1:49:11,  1.73it/s]"
     ]
    },
    {
     "name": "stdout",
     "output_type": "stream",
     "text": [
      "Epoch [1/1], Step [7051/18411], Loss: 1.3776745796203613\n"
     ]
    },
    {
     "name": "stderr",
     "output_type": "stream",
     "text": [
      " 38%|███▊      | 7076/18411 [1:05:38<1:48:16,  1.74it/s]"
     ]
    },
    {
     "name": "stdout",
     "output_type": "stream",
     "text": [
      "Epoch [1/1], Step [7076/18411], Loss: 1.4032278060913086\n"
     ]
    },
    {
     "name": "stderr",
     "output_type": "stream",
     "text": [
      " 39%|███▊      | 7101/18411 [1:05:53<1:48:55,  1.73it/s]"
     ]
    },
    {
     "name": "stdout",
     "output_type": "stream",
     "text": [
      "Epoch [1/1], Step [7101/18411], Loss: 1.5339857339859009\n"
     ]
    },
    {
     "name": "stderr",
     "output_type": "stream",
     "text": [
      " 39%|███▊      | 7126/18411 [1:06:07<1:48:50,  1.73it/s]"
     ]
    },
    {
     "name": "stdout",
     "output_type": "stream",
     "text": [
      "Epoch [1/1], Step [7126/18411], Loss: 1.3903785943984985\n"
     ]
    },
    {
     "name": "stderr",
     "output_type": "stream",
     "text": [
      " 39%|███▉      | 7151/18411 [1:06:21<1:43:20,  1.82it/s]"
     ]
    },
    {
     "name": "stdout",
     "output_type": "stream",
     "text": [
      "Epoch [1/1], Step [7151/18411], Loss: 1.0807887315750122\n"
     ]
    },
    {
     "name": "stderr",
     "output_type": "stream",
     "text": [
      " 39%|███▉      | 7176/18411 [1:06:34<1:42:14,  1.83it/s]"
     ]
    },
    {
     "name": "stdout",
     "output_type": "stream",
     "text": [
      "Epoch [1/1], Step [7176/18411], Loss: 1.6117677688598633\n"
     ]
    },
    {
     "name": "stderr",
     "output_type": "stream",
     "text": [
      " 39%|███▉      | 7201/18411 [1:06:48<1:48:05,  1.73it/s]"
     ]
    },
    {
     "name": "stdout",
     "output_type": "stream",
     "text": [
      "Epoch [1/1], Step [7201/18411], Loss: 1.4227429628372192\n"
     ]
    },
    {
     "name": "stderr",
     "output_type": "stream",
     "text": [
      " 39%|███▉      | 7226/18411 [1:07:02<1:42:01,  1.83it/s]"
     ]
    },
    {
     "name": "stdout",
     "output_type": "stream",
     "text": [
      "Epoch [1/1], Step [7226/18411], Loss: 1.5198951959609985\n"
     ]
    },
    {
     "name": "stderr",
     "output_type": "stream",
     "text": [
      " 39%|███▉      | 7251/18411 [1:07:16<1:44:37,  1.78it/s]"
     ]
    },
    {
     "name": "stdout",
     "output_type": "stream",
     "text": [
      "Epoch [1/1], Step [7251/18411], Loss: 1.5031284093856812\n"
     ]
    },
    {
     "name": "stderr",
     "output_type": "stream",
     "text": [
      " 40%|███▉      | 7276/18411 [1:07:30<1:41:36,  1.83it/s]"
     ]
    },
    {
     "name": "stdout",
     "output_type": "stream",
     "text": [
      "Epoch [1/1], Step [7276/18411], Loss: 1.3477476835250854\n"
     ]
    },
    {
     "name": "stderr",
     "output_type": "stream",
     "text": [
      " 40%|███▉      | 7301/18411 [1:07:44<1:41:25,  1.83it/s]"
     ]
    },
    {
     "name": "stdout",
     "output_type": "stream",
     "text": [
      "Epoch [1/1], Step [7301/18411], Loss: 1.6680216789245605\n"
     ]
    },
    {
     "name": "stderr",
     "output_type": "stream",
     "text": [
      " 40%|███▉      | 7326/18411 [1:07:57<1:42:56,  1.79it/s]"
     ]
    },
    {
     "name": "stdout",
     "output_type": "stream",
     "text": [
      "Epoch [1/1], Step [7326/18411], Loss: 1.5817396640777588\n"
     ]
    },
    {
     "name": "stderr",
     "output_type": "stream",
     "text": [
      " 40%|███▉      | 7351/18411 [1:08:11<1:42:01,  1.81it/s]"
     ]
    },
    {
     "name": "stdout",
     "output_type": "stream",
     "text": [
      "Epoch [1/1], Step [7351/18411], Loss: 1.3776670694351196\n"
     ]
    },
    {
     "name": "stderr",
     "output_type": "stream",
     "text": [
      " 40%|████      | 7376/18411 [1:08:25<1:43:10,  1.78it/s]"
     ]
    },
    {
     "name": "stdout",
     "output_type": "stream",
     "text": [
      "Epoch [1/1], Step [7376/18411], Loss: 1.3064781427383423\n"
     ]
    },
    {
     "name": "stderr",
     "output_type": "stream",
     "text": [
      " 40%|████      | 7401/18411 [1:08:39<1:40:14,  1.83it/s]"
     ]
    },
    {
     "name": "stdout",
     "output_type": "stream",
     "text": [
      "Epoch [1/1], Step [7401/18411], Loss: 1.4331532716751099\n"
     ]
    },
    {
     "name": "stderr",
     "output_type": "stream",
     "text": [
      " 40%|████      | 7426/18411 [1:08:52<1:42:19,  1.79it/s]"
     ]
    },
    {
     "name": "stdout",
     "output_type": "stream",
     "text": [
      "Epoch [1/1], Step [7426/18411], Loss: 1.4119383096694946\n"
     ]
    },
    {
     "name": "stderr",
     "output_type": "stream",
     "text": [
      " 40%|████      | 7451/18411 [1:09:06<1:41:36,  1.80it/s]"
     ]
    },
    {
     "name": "stdout",
     "output_type": "stream",
     "text": [
      "Epoch [1/1], Step [7451/18411], Loss: 1.5577834844589233\n"
     ]
    },
    {
     "name": "stderr",
     "output_type": "stream",
     "text": [
      " 41%|████      | 7476/18411 [1:09:20<1:43:50,  1.76it/s]"
     ]
    },
    {
     "name": "stdout",
     "output_type": "stream",
     "text": [
      "Epoch [1/1], Step [7476/18411], Loss: 1.1532905101776123\n"
     ]
    },
    {
     "name": "stderr",
     "output_type": "stream",
     "text": [
      " 41%|████      | 7501/18411 [1:09:34<1:45:06,  1.73it/s]"
     ]
    },
    {
     "name": "stdout",
     "output_type": "stream",
     "text": [
      "Epoch [1/1], Step [7501/18411], Loss: 1.511551022529602\n"
     ]
    },
    {
     "name": "stderr",
     "output_type": "stream",
     "text": [
      " 41%|████      | 7526/18411 [1:09:48<1:45:02,  1.73it/s]"
     ]
    },
    {
     "name": "stdout",
     "output_type": "stream",
     "text": [
      "Epoch [1/1], Step [7526/18411], Loss: 1.4256017208099365\n"
     ]
    },
    {
     "name": "stderr",
     "output_type": "stream",
     "text": [
      " 41%|████      | 7551/18411 [1:10:03<1:44:35,  1.73it/s]"
     ]
    },
    {
     "name": "stdout",
     "output_type": "stream",
     "text": [
      "Epoch [1/1], Step [7551/18411], Loss: 1.383466124534607\n"
     ]
    },
    {
     "name": "stderr",
     "output_type": "stream",
     "text": [
      " 41%|████      | 7576/18411 [1:10:16<1:38:38,  1.83it/s]"
     ]
    },
    {
     "name": "stdout",
     "output_type": "stream",
     "text": [
      "Epoch [1/1], Step [7576/18411], Loss: 1.5117963552474976\n"
     ]
    },
    {
     "name": "stderr",
     "output_type": "stream",
     "text": [
      " 41%|████▏     | 7601/18411 [1:10:30<1:38:25,  1.83it/s]"
     ]
    },
    {
     "name": "stdout",
     "output_type": "stream",
     "text": [
      "Epoch [1/1], Step [7601/18411], Loss: 1.3726428747177124\n"
     ]
    },
    {
     "name": "stderr",
     "output_type": "stream",
     "text": [
      " 41%|████▏     | 7626/18411 [1:10:43<1:38:07,  1.83it/s]"
     ]
    },
    {
     "name": "stdout",
     "output_type": "stream",
     "text": [
      "Epoch [1/1], Step [7626/18411], Loss: 1.3156884908676147\n"
     ]
    },
    {
     "name": "stderr",
     "output_type": "stream",
     "text": [
      " 42%|████▏     | 7651/18411 [1:10:57<1:37:51,  1.83it/s]"
     ]
    },
    {
     "name": "stdout",
     "output_type": "stream",
     "text": [
      "Epoch [1/1], Step [7651/18411], Loss: 1.3152762651443481\n"
     ]
    },
    {
     "name": "stderr",
     "output_type": "stream",
     "text": [
      " 42%|████▏     | 7676/18411 [1:11:11<1:39:40,  1.80it/s]"
     ]
    },
    {
     "name": "stdout",
     "output_type": "stream",
     "text": [
      "Epoch [1/1], Step [7676/18411], Loss: 1.6884987354278564\n"
     ]
    },
    {
     "name": "stderr",
     "output_type": "stream",
     "text": [
      " 42%|████▏     | 7701/18411 [1:11:25<1:41:44,  1.75it/s]"
     ]
    },
    {
     "name": "stdout",
     "output_type": "stream",
     "text": [
      "Epoch [1/1], Step [7701/18411], Loss: 1.1208381652832031\n"
     ]
    },
    {
     "name": "stderr",
     "output_type": "stream",
     "text": [
      " 42%|████▏     | 7726/18411 [1:11:38<1:37:06,  1.83it/s]"
     ]
    },
    {
     "name": "stdout",
     "output_type": "stream",
     "text": [
      "Epoch [1/1], Step [7726/18411], Loss: 1.3013094663619995\n"
     ]
    },
    {
     "name": "stderr",
     "output_type": "stream",
     "text": [
      " 42%|████▏     | 7751/18411 [1:11:52<1:42:41,  1.73it/s]"
     ]
    },
    {
     "name": "stdout",
     "output_type": "stream",
     "text": [
      "Epoch [1/1], Step [7751/18411], Loss: 1.2731584310531616\n"
     ]
    },
    {
     "name": "stderr",
     "output_type": "stream",
     "text": [
      " 42%|████▏     | 7776/18411 [1:12:07<1:42:30,  1.73it/s]"
     ]
    },
    {
     "name": "stdout",
     "output_type": "stream",
     "text": [
      "Epoch [1/1], Step [7776/18411], Loss: 1.2536534070968628\n"
     ]
    },
    {
     "name": "stderr",
     "output_type": "stream",
     "text": [
      " 42%|████▏     | 7801/18411 [1:12:21<1:41:30,  1.74it/s]"
     ]
    },
    {
     "name": "stdout",
     "output_type": "stream",
     "text": [
      "Epoch [1/1], Step [7801/18411], Loss: 1.3139828443527222\n"
     ]
    },
    {
     "name": "stderr",
     "output_type": "stream",
     "text": [
      " 43%|████▎     | 7826/18411 [1:12:34<1:37:22,  1.81it/s]"
     ]
    },
    {
     "name": "stdout",
     "output_type": "stream",
     "text": [
      "Epoch [1/1], Step [7826/18411], Loss: 1.2383630275726318\n"
     ]
    },
    {
     "name": "stderr",
     "output_type": "stream",
     "text": [
      " 43%|████▎     | 7851/18411 [1:12:48<1:36:20,  1.83it/s]"
     ]
    },
    {
     "name": "stdout",
     "output_type": "stream",
     "text": [
      "Epoch [1/1], Step [7851/18411], Loss: 1.2755337953567505\n"
     ]
    },
    {
     "name": "stderr",
     "output_type": "stream",
     "text": [
      " 43%|████▎     | 7876/18411 [1:13:02<1:36:24,  1.82it/s]"
     ]
    },
    {
     "name": "stdout",
     "output_type": "stream",
     "text": [
      "Epoch [1/1], Step [7876/18411], Loss: 1.3680475950241089\n"
     ]
    },
    {
     "name": "stderr",
     "output_type": "stream",
     "text": [
      " 43%|████▎     | 7901/18411 [1:13:16<1:36:55,  1.81it/s]"
     ]
    },
    {
     "name": "stdout",
     "output_type": "stream",
     "text": [
      "Epoch [1/1], Step [7901/18411], Loss: 1.268527865409851\n"
     ]
    },
    {
     "name": "stderr",
     "output_type": "stream",
     "text": [
      " 43%|████▎     | 7926/18411 [1:13:30<1:35:29,  1.83it/s]"
     ]
    },
    {
     "name": "stdout",
     "output_type": "stream",
     "text": [
      "Epoch [1/1], Step [7926/18411], Loss: 1.386985182762146\n"
     ]
    },
    {
     "name": "stderr",
     "output_type": "stream",
     "text": [
      " 43%|████▎     | 7951/18411 [1:13:43<1:35:07,  1.83it/s]"
     ]
    },
    {
     "name": "stdout",
     "output_type": "stream",
     "text": [
      "Epoch [1/1], Step [7951/18411], Loss: 1.4581211805343628\n"
     ]
    },
    {
     "name": "stderr",
     "output_type": "stream",
     "text": [
      " 43%|████▎     | 7976/18411 [1:13:57<1:34:52,  1.83it/s]"
     ]
    },
    {
     "name": "stdout",
     "output_type": "stream",
     "text": [
      "Epoch [1/1], Step [7976/18411], Loss: 1.3590811491012573\n"
     ]
    },
    {
     "name": "stderr",
     "output_type": "stream",
     "text": [
      " 43%|████▎     | 8001/18411 [1:14:10<1:34:36,  1.83it/s]"
     ]
    },
    {
     "name": "stdout",
     "output_type": "stream",
     "text": [
      "Epoch [1/1], Step [8001/18411], Loss: 1.0623769760131836\n"
     ]
    },
    {
     "name": "stderr",
     "output_type": "stream",
     "text": [
      " 44%|████▎     | 8026/18411 [1:14:24<1:38:36,  1.76it/s]"
     ]
    },
    {
     "name": "stdout",
     "output_type": "stream",
     "text": [
      "Epoch [1/1], Step [8026/18411], Loss: 1.3438650369644165\n"
     ]
    },
    {
     "name": "stderr",
     "output_type": "stream",
     "text": [
      " 44%|████▎     | 8051/18411 [1:14:37<1:37:07,  1.78it/s]"
     ]
    },
    {
     "name": "stdout",
     "output_type": "stream",
     "text": [
      "Epoch [1/1], Step [8051/18411], Loss: 1.1564738750457764\n"
     ]
    },
    {
     "name": "stderr",
     "output_type": "stream",
     "text": [
      " 44%|████▍     | 8076/18411 [1:14:51<1:35:24,  1.81it/s]"
     ]
    },
    {
     "name": "stdout",
     "output_type": "stream",
     "text": [
      "Epoch [1/1], Step [8076/18411], Loss: 1.4804092645645142\n"
     ]
    },
    {
     "name": "stderr",
     "output_type": "stream",
     "text": [
      " 44%|████▍     | 8101/18411 [1:15:05<1:39:24,  1.73it/s]"
     ]
    },
    {
     "name": "stdout",
     "output_type": "stream",
     "text": [
      "Epoch [1/1], Step [8101/18411], Loss: 1.5392193794250488\n"
     ]
    },
    {
     "name": "stderr",
     "output_type": "stream",
     "text": [
      " 44%|████▍     | 8126/18411 [1:15:19<1:33:49,  1.83it/s]"
     ]
    },
    {
     "name": "stdout",
     "output_type": "stream",
     "text": [
      "Epoch [1/1], Step [8126/18411], Loss: 1.0293961763381958\n"
     ]
    },
    {
     "name": "stderr",
     "output_type": "stream",
     "text": [
      " 44%|████▍     | 8151/18411 [1:15:33<1:37:08,  1.76it/s]"
     ]
    },
    {
     "name": "stdout",
     "output_type": "stream",
     "text": [
      "Epoch [1/1], Step [8151/18411], Loss: 1.1544824838638306\n"
     ]
    },
    {
     "name": "stderr",
     "output_type": "stream",
     "text": [
      " 44%|████▍     | 8176/18411 [1:15:47<1:34:22,  1.81it/s]"
     ]
    },
    {
     "name": "stdout",
     "output_type": "stream",
     "text": [
      "Epoch [1/1], Step [8176/18411], Loss: 1.2340534925460815\n"
     ]
    },
    {
     "name": "stderr",
     "output_type": "stream",
     "text": [
      " 45%|████▍     | 8201/18411 [1:16:01<1:36:19,  1.77it/s]"
     ]
    },
    {
     "name": "stdout",
     "output_type": "stream",
     "text": [
      "Epoch [1/1], Step [8201/18411], Loss: 1.2151862382888794\n"
     ]
    },
    {
     "name": "stderr",
     "output_type": "stream",
     "text": [
      " 45%|████▍     | 8226/18411 [1:16:14<1:32:34,  1.83it/s]"
     ]
    },
    {
     "name": "stdout",
     "output_type": "stream",
     "text": [
      "Epoch [1/1], Step [8226/18411], Loss: 1.2628196477890015\n"
     ]
    },
    {
     "name": "stderr",
     "output_type": "stream",
     "text": [
      " 45%|████▍     | 8251/18411 [1:16:28<1:32:20,  1.83it/s]"
     ]
    },
    {
     "name": "stdout",
     "output_type": "stream",
     "text": [
      "Epoch [1/1], Step [8251/18411], Loss: 1.270963191986084\n"
     ]
    },
    {
     "name": "stderr",
     "output_type": "stream",
     "text": [
      " 45%|████▍     | 8276/18411 [1:16:41<1:34:36,  1.79it/s]"
     ]
    },
    {
     "name": "stdout",
     "output_type": "stream",
     "text": [
      "Epoch [1/1], Step [8276/18411], Loss: 1.3455710411071777\n"
     ]
    },
    {
     "name": "stderr",
     "output_type": "stream",
     "text": [
      " 45%|████▌     | 8301/18411 [1:16:55<1:32:02,  1.83it/s]"
     ]
    },
    {
     "name": "stdout",
     "output_type": "stream",
     "text": [
      "Epoch [1/1], Step [8301/18411], Loss: 1.2911356687545776\n"
     ]
    },
    {
     "name": "stderr",
     "output_type": "stream",
     "text": [
      " 45%|████▌     | 8326/18411 [1:17:09<1:37:12,  1.73it/s]"
     ]
    },
    {
     "name": "stdout",
     "output_type": "stream",
     "text": [
      "Epoch [1/1], Step [8326/18411], Loss: 1.2700779438018799\n"
     ]
    },
    {
     "name": "stderr",
     "output_type": "stream",
     "text": [
      " 45%|████▌     | 8351/18411 [1:17:23<1:31:30,  1.83it/s]"
     ]
    },
    {
     "name": "stdout",
     "output_type": "stream",
     "text": [
      "Epoch [1/1], Step [8351/18411], Loss: 1.2409077882766724\n"
     ]
    },
    {
     "name": "stderr",
     "output_type": "stream",
     "text": [
      " 45%|████▌     | 8376/18411 [1:17:36<1:31:12,  1.83it/s]"
     ]
    },
    {
     "name": "stdout",
     "output_type": "stream",
     "text": [
      "Epoch [1/1], Step [8376/18411], Loss: 1.4586353302001953\n"
     ]
    },
    {
     "name": "stderr",
     "output_type": "stream",
     "text": [
      " 46%|████▌     | 8401/18411 [1:17:50<1:36:27,  1.73it/s]"
     ]
    },
    {
     "name": "stdout",
     "output_type": "stream",
     "text": [
      "Epoch [1/1], Step [8401/18411], Loss: 1.2445693016052246\n"
     ]
    },
    {
     "name": "stderr",
     "output_type": "stream",
     "text": [
      " 46%|████▌     | 8426/18411 [1:18:05<1:34:40,  1.76it/s]"
     ]
    },
    {
     "name": "stdout",
     "output_type": "stream",
     "text": [
      "Epoch [1/1], Step [8426/18411], Loss: 1.4322741031646729\n"
     ]
    },
    {
     "name": "stderr",
     "output_type": "stream",
     "text": [
      " 46%|████▌     | 8451/18411 [1:18:19<1:35:53,  1.73it/s]"
     ]
    },
    {
     "name": "stdout",
     "output_type": "stream",
     "text": [
      "Epoch [1/1], Step [8451/18411], Loss: 1.2925877571105957\n"
     ]
    },
    {
     "name": "stderr",
     "output_type": "stream",
     "text": [
      " 46%|████▌     | 8476/18411 [1:18:33<1:35:47,  1.73it/s]"
     ]
    },
    {
     "name": "stdout",
     "output_type": "stream",
     "text": [
      "Epoch [1/1], Step [8476/18411], Loss: 0.9636564254760742\n"
     ]
    },
    {
     "name": "stderr",
     "output_type": "stream",
     "text": [
      " 46%|████▌     | 8501/18411 [1:18:47<1:33:03,  1.77it/s]"
     ]
    },
    {
     "name": "stdout",
     "output_type": "stream",
     "text": [
      "Epoch [1/1], Step [8501/18411], Loss: 1.441537857055664\n"
     ]
    },
    {
     "name": "stderr",
     "output_type": "stream",
     "text": [
      " 46%|████▋     | 8526/18411 [1:19:01<1:29:57,  1.83it/s]"
     ]
    },
    {
     "name": "stdout",
     "output_type": "stream",
     "text": [
      "Epoch [1/1], Step [8526/18411], Loss: 1.2944988012313843\n"
     ]
    },
    {
     "name": "stderr",
     "output_type": "stream",
     "text": [
      " 46%|████▋     | 8551/18411 [1:19:14<1:30:22,  1.82it/s]"
     ]
    },
    {
     "name": "stdout",
     "output_type": "stream",
     "text": [
      "Epoch [1/1], Step [8551/18411], Loss: 1.4667567014694214\n"
     ]
    },
    {
     "name": "stderr",
     "output_type": "stream",
     "text": [
      " 47%|████▋     | 8576/18411 [1:19:28<1:34:54,  1.73it/s]"
     ]
    },
    {
     "name": "stdout",
     "output_type": "stream",
     "text": [
      "Epoch [1/1], Step [8576/18411], Loss: 1.242253065109253\n"
     ]
    },
    {
     "name": "stderr",
     "output_type": "stream",
     "text": [
      " 47%|████▋     | 8601/18411 [1:19:43<1:34:46,  1.73it/s]"
     ]
    },
    {
     "name": "stdout",
     "output_type": "stream",
     "text": [
      "Epoch [1/1], Step [8601/18411], Loss: 1.1578675508499146\n"
     ]
    },
    {
     "name": "stderr",
     "output_type": "stream",
     "text": [
      " 47%|████▋     | 8626/18411 [1:19:57<1:29:40,  1.82it/s]"
     ]
    },
    {
     "name": "stdout",
     "output_type": "stream",
     "text": [
      "Epoch [1/1], Step [8626/18411], Loss: 1.2691891193389893\n"
     ]
    },
    {
     "name": "stderr",
     "output_type": "stream",
     "text": [
      " 47%|████▋     | 8651/18411 [1:20:10<1:31:41,  1.77it/s]"
     ]
    },
    {
     "name": "stdout",
     "output_type": "stream",
     "text": [
      "Epoch [1/1], Step [8651/18411], Loss: 1.3183313608169556\n"
     ]
    },
    {
     "name": "stderr",
     "output_type": "stream",
     "text": [
      " 47%|████▋     | 8676/18411 [1:20:24<1:33:37,  1.73it/s]"
     ]
    },
    {
     "name": "stdout",
     "output_type": "stream",
     "text": [
      "Epoch [1/1], Step [8676/18411], Loss: 1.1361109018325806\n"
     ]
    },
    {
     "name": "stderr",
     "output_type": "stream",
     "text": [
      " 47%|████▋     | 8701/18411 [1:20:39<1:34:02,  1.72it/s]"
     ]
    },
    {
     "name": "stdout",
     "output_type": "stream",
     "text": [
      "Epoch [1/1], Step [8701/18411], Loss: 1.1191238164901733\n"
     ]
    },
    {
     "name": "stderr",
     "output_type": "stream",
     "text": [
      " 47%|████▋     | 8726/18411 [1:20:53<1:31:05,  1.77it/s]"
     ]
    },
    {
     "name": "stdout",
     "output_type": "stream",
     "text": [
      "Epoch [1/1], Step [8726/18411], Loss: 1.380029559135437\n"
     ]
    },
    {
     "name": "stderr",
     "output_type": "stream",
     "text": [
      " 48%|████▊     | 8751/18411 [1:21:07<1:29:16,  1.80it/s]"
     ]
    },
    {
     "name": "stdout",
     "output_type": "stream",
     "text": [
      "Epoch [1/1], Step [8751/18411], Loss: 1.2191193103790283\n"
     ]
    },
    {
     "name": "stderr",
     "output_type": "stream",
     "text": [
      " 48%|████▊     | 8776/18411 [1:21:20<1:28:17,  1.82it/s]"
     ]
    },
    {
     "name": "stdout",
     "output_type": "stream",
     "text": [
      "Epoch [1/1], Step [8776/18411], Loss: 0.939292311668396\n"
     ]
    },
    {
     "name": "stderr",
     "output_type": "stream",
     "text": [
      " 48%|████▊     | 8801/18411 [1:21:34<1:28:28,  1.81it/s]"
     ]
    },
    {
     "name": "stdout",
     "output_type": "stream",
     "text": [
      "Epoch [1/1], Step [8801/18411], Loss: 1.1129425764083862\n"
     ]
    },
    {
     "name": "stderr",
     "output_type": "stream",
     "text": [
      " 48%|████▊     | 8826/18411 [1:21:48<1:33:06,  1.72it/s]"
     ]
    },
    {
     "name": "stdout",
     "output_type": "stream",
     "text": [
      "Epoch [1/1], Step [8826/18411], Loss: 1.2016087770462036\n"
     ]
    },
    {
     "name": "stderr",
     "output_type": "stream",
     "text": [
      " 48%|████▊     | 8851/18411 [1:22:03<1:31:39,  1.74it/s]"
     ]
    },
    {
     "name": "stdout",
     "output_type": "stream",
     "text": [
      "Epoch [1/1], Step [8851/18411], Loss: 0.9878941178321838\n"
     ]
    },
    {
     "name": "stderr",
     "output_type": "stream",
     "text": [
      " 48%|████▊     | 8876/18411 [1:22:16<1:27:27,  1.82it/s]"
     ]
    },
    {
     "name": "stdout",
     "output_type": "stream",
     "text": [
      "Epoch [1/1], Step [8876/18411], Loss: 1.1372157335281372\n"
     ]
    },
    {
     "name": "stderr",
     "output_type": "stream",
     "text": [
      " 48%|████▊     | 8901/18411 [1:22:30<1:27:10,  1.82it/s]"
     ]
    },
    {
     "name": "stdout",
     "output_type": "stream",
     "text": [
      "Epoch [1/1], Step [8901/18411], Loss: 1.2146023511886597\n"
     ]
    },
    {
     "name": "stderr",
     "output_type": "stream",
     "text": [
      " 48%|████▊     | 8926/18411 [1:22:44<1:31:20,  1.73it/s]"
     ]
    },
    {
     "name": "stdout",
     "output_type": "stream",
     "text": [
      "Epoch [1/1], Step [8926/18411], Loss: 1.0751603841781616\n"
     ]
    },
    {
     "name": "stderr",
     "output_type": "stream",
     "text": [
      " 49%|████▊     | 8951/18411 [1:22:58<1:26:07,  1.83it/s]"
     ]
    },
    {
     "name": "stdout",
     "output_type": "stream",
     "text": [
      "Epoch [1/1], Step [8951/18411], Loss: 1.2434719800949097\n"
     ]
    },
    {
     "name": "stderr",
     "output_type": "stream",
     "text": [
      " 49%|████▉     | 8976/18411 [1:23:12<1:31:03,  1.73it/s]"
     ]
    },
    {
     "name": "stdout",
     "output_type": "stream",
     "text": [
      "Epoch [1/1], Step [8976/18411], Loss: 1.0328649282455444\n"
     ]
    },
    {
     "name": "stderr",
     "output_type": "stream",
     "text": [
      " 49%|████▉     | 9001/18411 [1:23:26<1:29:27,  1.75it/s]"
     ]
    },
    {
     "name": "stdout",
     "output_type": "stream",
     "text": [
      "Epoch [1/1], Step [9001/18411], Loss: 1.195564866065979\n"
     ]
    },
    {
     "name": "stderr",
     "output_type": "stream",
     "text": [
      " 49%|████▉     | 9026/18411 [1:23:40<1:30:27,  1.73it/s]"
     ]
    },
    {
     "name": "stdout",
     "output_type": "stream",
     "text": [
      "Epoch [1/1], Step [9026/18411], Loss: 1.1721755266189575\n"
     ]
    },
    {
     "name": "stderr",
     "output_type": "stream",
     "text": [
      " 49%|████▉     | 9051/18411 [1:23:54<1:26:44,  1.80it/s]"
     ]
    },
    {
     "name": "stdout",
     "output_type": "stream",
     "text": [
      "Epoch [1/1], Step [9051/18411], Loss: 1.20404851436615\n"
     ]
    },
    {
     "name": "stderr",
     "output_type": "stream",
     "text": [
      " 49%|████▉     | 9076/18411 [1:24:08<1:25:13,  1.83it/s]"
     ]
    },
    {
     "name": "stdout",
     "output_type": "stream",
     "text": [
      "Epoch [1/1], Step [9076/18411], Loss: 0.9288732409477234\n"
     ]
    },
    {
     "name": "stderr",
     "output_type": "stream",
     "text": [
      " 49%|████▉     | 9101/18411 [1:24:22<1:24:43,  1.83it/s]"
     ]
    },
    {
     "name": "stdout",
     "output_type": "stream",
     "text": [
      "Epoch [1/1], Step [9101/18411], Loss: 1.091562271118164\n"
     ]
    },
    {
     "name": "stderr",
     "output_type": "stream",
     "text": [
      " 50%|████▉     | 9126/18411 [1:24:36<1:28:47,  1.74it/s]"
     ]
    },
    {
     "name": "stdout",
     "output_type": "stream",
     "text": [
      "Epoch [1/1], Step [9126/18411], Loss: 1.2910583019256592\n"
     ]
    },
    {
     "name": "stderr",
     "output_type": "stream",
     "text": [
      " 50%|████▉     | 9151/18411 [1:24:49<1:24:12,  1.83it/s]"
     ]
    },
    {
     "name": "stdout",
     "output_type": "stream",
     "text": [
      "Epoch [1/1], Step [9151/18411], Loss: 1.1706329584121704\n"
     ]
    },
    {
     "name": "stderr",
     "output_type": "stream",
     "text": [
      " 50%|████▉     | 9176/18411 [1:25:03<1:27:30,  1.76it/s]"
     ]
    },
    {
     "name": "stdout",
     "output_type": "stream",
     "text": [
      "Epoch [1/1], Step [9176/18411], Loss: 0.9561737775802612\n"
     ]
    },
    {
     "name": "stderr",
     "output_type": "stream",
     "text": [
      " 50%|████▉     | 9201/18411 [1:25:17<1:28:35,  1.73it/s]"
     ]
    },
    {
     "name": "stdout",
     "output_type": "stream",
     "text": [
      "Epoch [1/1], Step [9201/18411], Loss: 1.0797415971755981\n"
     ]
    },
    {
     "name": "stderr",
     "output_type": "stream",
     "text": [
      " 50%|█████     | 9226/18411 [1:25:31<1:23:42,  1.83it/s]"
     ]
    },
    {
     "name": "stdout",
     "output_type": "stream",
     "text": [
      "Epoch [1/1], Step [9226/18411], Loss: 1.0610122680664062\n"
     ]
    },
    {
     "name": "stderr",
     "output_type": "stream",
     "text": [
      " 50%|█████     | 9251/18411 [1:25:44<1:23:42,  1.82it/s]"
     ]
    },
    {
     "name": "stdout",
     "output_type": "stream",
     "text": [
      "Epoch [1/1], Step [9251/18411], Loss: 1.381881594657898\n"
     ]
    },
    {
     "name": "stderr",
     "output_type": "stream",
     "text": [
      " 50%|█████     | 9276/18411 [1:25:58<1:25:47,  1.77it/s]"
     ]
    },
    {
     "name": "stdout",
     "output_type": "stream",
     "text": [
      "Epoch [1/1], Step [9276/18411], Loss: 1.0501781702041626\n"
     ]
    },
    {
     "name": "stderr",
     "output_type": "stream",
     "text": [
      " 51%|█████     | 9301/18411 [1:26:13<1:27:45,  1.73it/s]"
     ]
    },
    {
     "name": "stdout",
     "output_type": "stream",
     "text": [
      "Epoch [1/1], Step [9301/18411], Loss: 1.1161388158798218\n"
     ]
    },
    {
     "name": "stderr",
     "output_type": "stream",
     "text": [
      " 51%|█████     | 9326/18411 [1:26:27<1:27:28,  1.73it/s]"
     ]
    },
    {
     "name": "stdout",
     "output_type": "stream",
     "text": [
      "Epoch [1/1], Step [9326/18411], Loss: 1.1004501581192017\n"
     ]
    },
    {
     "name": "stderr",
     "output_type": "stream",
     "text": [
      " 51%|█████     | 9351/18411 [1:26:41<1:23:26,  1.81it/s]"
     ]
    },
    {
     "name": "stdout",
     "output_type": "stream",
     "text": [
      "Epoch [1/1], Step [9351/18411], Loss: 1.2069251537322998\n"
     ]
    },
    {
     "name": "stderr",
     "output_type": "stream",
     "text": [
      " 51%|█████     | 9376/18411 [1:26:54<1:22:37,  1.82it/s]"
     ]
    },
    {
     "name": "stdout",
     "output_type": "stream",
     "text": [
      "Epoch [1/1], Step [9376/18411], Loss: 1.0330718755722046\n"
     ]
    },
    {
     "name": "stderr",
     "output_type": "stream",
     "text": [
      " 51%|█████     | 9401/18411 [1:27:08<1:24:25,  1.78it/s]"
     ]
    },
    {
     "name": "stdout",
     "output_type": "stream",
     "text": [
      "Epoch [1/1], Step [9401/18411], Loss: 1.0475965738296509\n"
     ]
    },
    {
     "name": "stderr",
     "output_type": "stream",
     "text": [
      " 51%|█████     | 9426/18411 [1:27:22<1:23:15,  1.80it/s]"
     ]
    },
    {
     "name": "stdout",
     "output_type": "stream",
     "text": [
      "Epoch [1/1], Step [9426/18411], Loss: 1.226586937904358\n"
     ]
    },
    {
     "name": "stderr",
     "output_type": "stream",
     "text": [
      " 51%|█████▏    | 9451/18411 [1:27:36<1:23:55,  1.78it/s]"
     ]
    },
    {
     "name": "stdout",
     "output_type": "stream",
     "text": [
      "Epoch [1/1], Step [9451/18411], Loss: 1.0374358892440796\n"
     ]
    },
    {
     "name": "stderr",
     "output_type": "stream",
     "text": [
      " 51%|█████▏    | 9476/18411 [1:27:50<1:23:17,  1.79it/s]"
     ]
    },
    {
     "name": "stdout",
     "output_type": "stream",
     "text": [
      "Epoch [1/1], Step [9476/18411], Loss: 1.1759958267211914\n"
     ]
    },
    {
     "name": "stderr",
     "output_type": "stream",
     "text": [
      " 52%|█████▏    | 9501/18411 [1:28:03<1:21:07,  1.83it/s]"
     ]
    },
    {
     "name": "stdout",
     "output_type": "stream",
     "text": [
      "Epoch [1/1], Step [9501/18411], Loss: 1.069788932800293\n"
     ]
    },
    {
     "name": "stderr",
     "output_type": "stream",
     "text": [
      " 52%|█████▏    | 9526/18411 [1:28:17<1:22:03,  1.80it/s]"
     ]
    },
    {
     "name": "stdout",
     "output_type": "stream",
     "text": [
      "Epoch [1/1], Step [9526/18411], Loss: 1.0584412813186646\n"
     ]
    },
    {
     "name": "stderr",
     "output_type": "stream",
     "text": [
      " 52%|█████▏    | 9551/18411 [1:28:31<1:20:48,  1.83it/s]"
     ]
    },
    {
     "name": "stdout",
     "output_type": "stream",
     "text": [
      "Epoch [1/1], Step [9551/18411], Loss: 0.9933385252952576\n"
     ]
    },
    {
     "name": "stderr",
     "output_type": "stream",
     "text": [
      " 52%|█████▏    | 9576/18411 [1:28:45<1:23:11,  1.77it/s]"
     ]
    },
    {
     "name": "stdout",
     "output_type": "stream",
     "text": [
      "Epoch [1/1], Step [9576/18411], Loss: 1.074298620223999\n"
     ]
    },
    {
     "name": "stderr",
     "output_type": "stream",
     "text": [
      " 52%|█████▏    | 9601/18411 [1:28:59<1:22:00,  1.79it/s]"
     ]
    },
    {
     "name": "stdout",
     "output_type": "stream",
     "text": [
      "Epoch [1/1], Step [9601/18411], Loss: 1.0309866666793823\n"
     ]
    },
    {
     "name": "stderr",
     "output_type": "stream",
     "text": [
      " 52%|█████▏    | 9626/18411 [1:29:12<1:21:03,  1.81it/s]"
     ]
    },
    {
     "name": "stdout",
     "output_type": "stream",
     "text": [
      "Epoch [1/1], Step [9626/18411], Loss: 1.0777465105056763\n"
     ]
    },
    {
     "name": "stderr",
     "output_type": "stream",
     "text": [
      " 52%|█████▏    | 9651/18411 [1:29:26<1:20:08,  1.82it/s]"
     ]
    },
    {
     "name": "stdout",
     "output_type": "stream",
     "text": [
      "Epoch [1/1], Step [9651/18411], Loss: 1.138648271560669\n"
     ]
    },
    {
     "name": "stderr",
     "output_type": "stream",
     "text": [
      " 53%|█████▎    | 9676/18411 [1:29:40<1:20:14,  1.81it/s]"
     ]
    },
    {
     "name": "stdout",
     "output_type": "stream",
     "text": [
      "Epoch [1/1], Step [9676/18411], Loss: 0.8398889899253845\n"
     ]
    },
    {
     "name": "stderr",
     "output_type": "stream",
     "text": [
      " 53%|█████▎    | 9701/18411 [1:29:54<1:22:54,  1.75it/s]"
     ]
    },
    {
     "name": "stdout",
     "output_type": "stream",
     "text": [
      "Epoch [1/1], Step [9701/18411], Loss: 0.6904557943344116\n"
     ]
    },
    {
     "name": "stderr",
     "output_type": "stream",
     "text": [
      " 53%|█████▎    | 9726/18411 [1:30:07<1:19:05,  1.83it/s]"
     ]
    },
    {
     "name": "stdout",
     "output_type": "stream",
     "text": [
      "Epoch [1/1], Step [9726/18411], Loss: 0.9464301466941833\n"
     ]
    },
    {
     "name": "stderr",
     "output_type": "stream",
     "text": [
      " 53%|█████▎    | 9751/18411 [1:30:21<1:20:01,  1.80it/s]"
     ]
    },
    {
     "name": "stdout",
     "output_type": "stream",
     "text": [
      "Epoch [1/1], Step [9751/18411], Loss: 1.1317353248596191\n"
     ]
    },
    {
     "name": "stderr",
     "output_type": "stream",
     "text": [
      " 53%|█████▎    | 9776/18411 [1:30:35<1:19:46,  1.80it/s]"
     ]
    },
    {
     "name": "stdout",
     "output_type": "stream",
     "text": [
      "Epoch [1/1], Step [9776/18411], Loss: 1.2075152397155762\n"
     ]
    },
    {
     "name": "stderr",
     "output_type": "stream",
     "text": [
      " 53%|█████▎    | 9801/18411 [1:30:48<1:18:56,  1.82it/s]"
     ]
    },
    {
     "name": "stdout",
     "output_type": "stream",
     "text": [
      "Epoch [1/1], Step [9801/18411], Loss: 1.1944007873535156\n"
     ]
    },
    {
     "name": "stderr",
     "output_type": "stream",
     "text": [
      " 53%|█████▎    | 9826/18411 [1:31:02<1:18:19,  1.83it/s]"
     ]
    },
    {
     "name": "stdout",
     "output_type": "stream",
     "text": [
      "Epoch [1/1], Step [9826/18411], Loss: 0.8759249448776245\n"
     ]
    },
    {
     "name": "stderr",
     "output_type": "stream",
     "text": [
      " 54%|█████▎    | 9851/18411 [1:31:16<1:21:36,  1.75it/s]"
     ]
    },
    {
     "name": "stdout",
     "output_type": "stream",
     "text": [
      "Epoch [1/1], Step [9851/18411], Loss: 1.282027006149292\n"
     ]
    },
    {
     "name": "stderr",
     "output_type": "stream",
     "text": [
      " 54%|█████▎    | 9876/18411 [1:31:30<1:19:42,  1.78it/s]"
     ]
    },
    {
     "name": "stdout",
     "output_type": "stream",
     "text": [
      "Epoch [1/1], Step [9876/18411], Loss: 0.9276576638221741\n"
     ]
    },
    {
     "name": "stderr",
     "output_type": "stream",
     "text": [
      " 54%|█████▍    | 9901/18411 [1:31:43<1:17:34,  1.83it/s]"
     ]
    },
    {
     "name": "stdout",
     "output_type": "stream",
     "text": [
      "Epoch [1/1], Step [9901/18411], Loss: 1.0971182584762573\n"
     ]
    },
    {
     "name": "stderr",
     "output_type": "stream",
     "text": [
      " 54%|█████▍    | 9926/18411 [1:31:57<1:21:16,  1.74it/s]"
     ]
    },
    {
     "name": "stdout",
     "output_type": "stream",
     "text": [
      "Epoch [1/1], Step [9926/18411], Loss: 1.1109776496887207\n"
     ]
    },
    {
     "name": "stderr",
     "output_type": "stream",
     "text": [
      " 54%|█████▍    | 9951/18411 [1:32:11<1:20:20,  1.75it/s]"
     ]
    },
    {
     "name": "stdout",
     "output_type": "stream",
     "text": [
      "Epoch [1/1], Step [9951/18411], Loss: 0.9259126782417297\n"
     ]
    },
    {
     "name": "stderr",
     "output_type": "stream",
     "text": [
      " 54%|█████▍    | 9976/18411 [1:32:26<1:21:15,  1.73it/s]"
     ]
    },
    {
     "name": "stdout",
     "output_type": "stream",
     "text": [
      "Epoch [1/1], Step [9976/18411], Loss: 0.92336505651474\n"
     ]
    },
    {
     "name": "stderr",
     "output_type": "stream",
     "text": [
      " 54%|█████▍    | 10001/18411 [1:32:40<1:17:57,  1.80it/s]"
     ]
    },
    {
     "name": "stdout",
     "output_type": "stream",
     "text": [
      "Epoch [1/1], Step [10001/18411], Loss: 0.8067215085029602\n"
     ]
    },
    {
     "name": "stderr",
     "output_type": "stream",
     "text": [
      " 54%|█████▍    | 10026/18411 [1:32:53<1:17:22,  1.81it/s]"
     ]
    },
    {
     "name": "stdout",
     "output_type": "stream",
     "text": [
      "Epoch [1/1], Step [10026/18411], Loss: 0.8977952003479004\n"
     ]
    },
    {
     "name": "stderr",
     "output_type": "stream",
     "text": [
      " 55%|█████▍    | 10051/18411 [1:33:07<1:18:51,  1.77it/s]"
     ]
    },
    {
     "name": "stdout",
     "output_type": "stream",
     "text": [
      "Epoch [1/1], Step [10051/18411], Loss: 1.2365418672561646\n"
     ]
    },
    {
     "name": "stderr",
     "output_type": "stream",
     "text": [
      " 55%|█████▍    | 10076/18411 [1:33:21<1:15:59,  1.83it/s]"
     ]
    },
    {
     "name": "stdout",
     "output_type": "stream",
     "text": [
      "Epoch [1/1], Step [10076/18411], Loss: 0.919282853603363\n"
     ]
    },
    {
     "name": "stderr",
     "output_type": "stream",
     "text": [
      " 55%|█████▍    | 10101/18411 [1:33:35<1:19:18,  1.75it/s]"
     ]
    },
    {
     "name": "stdout",
     "output_type": "stream",
     "text": [
      "Epoch [1/1], Step [10101/18411], Loss: 1.0161352157592773\n"
     ]
    },
    {
     "name": "stderr",
     "output_type": "stream",
     "text": [
      " 55%|█████▍    | 10126/18411 [1:33:48<1:15:36,  1.83it/s]"
     ]
    },
    {
     "name": "stdout",
     "output_type": "stream",
     "text": [
      "Epoch [1/1], Step [10126/18411], Loss: 1.0650736093521118\n"
     ]
    },
    {
     "name": "stderr",
     "output_type": "stream",
     "text": [
      " 55%|█████▌    | 10151/18411 [1:34:02<1:15:14,  1.83it/s]"
     ]
    },
    {
     "name": "stdout",
     "output_type": "stream",
     "text": [
      "Epoch [1/1], Step [10151/18411], Loss: 0.9669404029846191\n"
     ]
    },
    {
     "name": "stderr",
     "output_type": "stream",
     "text": [
      " 55%|█████▌    | 10176/18411 [1:34:16<1:16:01,  1.81it/s]"
     ]
    },
    {
     "name": "stdout",
     "output_type": "stream",
     "text": [
      "Epoch [1/1], Step [10176/18411], Loss: 0.9059196710586548\n"
     ]
    },
    {
     "name": "stderr",
     "output_type": "stream",
     "text": [
      " 55%|█████▌    | 10201/18411 [1:34:29<1:18:53,  1.73it/s]"
     ]
    },
    {
     "name": "stdout",
     "output_type": "stream",
     "text": [
      "Epoch [1/1], Step [10201/18411], Loss: 1.0375210046768188\n"
     ]
    },
    {
     "name": "stderr",
     "output_type": "stream",
     "text": [
      " 56%|█████▌    | 10226/18411 [1:34:43<1:14:35,  1.83it/s]"
     ]
    },
    {
     "name": "stdout",
     "output_type": "stream",
     "text": [
      "Epoch [1/1], Step [10226/18411], Loss: 0.8962680697441101\n"
     ]
    },
    {
     "name": "stderr",
     "output_type": "stream",
     "text": [
      " 56%|█████▌    | 10251/18411 [1:34:57<1:16:25,  1.78it/s]"
     ]
    },
    {
     "name": "stdout",
     "output_type": "stream",
     "text": [
      "Epoch [1/1], Step [10251/18411], Loss: 1.0593687295913696\n"
     ]
    },
    {
     "name": "stderr",
     "output_type": "stream",
     "text": [
      " 56%|█████▌    | 10276/18411 [1:35:11<1:14:17,  1.83it/s]"
     ]
    },
    {
     "name": "stdout",
     "output_type": "stream",
     "text": [
      "Epoch [1/1], Step [10276/18411], Loss: 0.8625479340553284\n"
     ]
    },
    {
     "name": "stderr",
     "output_type": "stream",
     "text": [
      " 56%|█████▌    | 10301/18411 [1:35:25<1:14:50,  1.81it/s]"
     ]
    },
    {
     "name": "stdout",
     "output_type": "stream",
     "text": [
      "Epoch [1/1], Step [10301/18411], Loss: 1.1526802778244019\n"
     ]
    },
    {
     "name": "stderr",
     "output_type": "stream",
     "text": [
      " 56%|█████▌    | 10326/18411 [1:35:38<1:13:38,  1.83it/s]"
     ]
    },
    {
     "name": "stdout",
     "output_type": "stream",
     "text": [
      "Epoch [1/1], Step [10326/18411], Loss: 0.9492884278297424\n"
     ]
    },
    {
     "name": "stderr",
     "output_type": "stream",
     "text": [
      " 56%|█████▌    | 10351/18411 [1:35:52<1:16:59,  1.74it/s]"
     ]
    },
    {
     "name": "stdout",
     "output_type": "stream",
     "text": [
      "Epoch [1/1], Step [10351/18411], Loss: 0.815232515335083\n"
     ]
    },
    {
     "name": "stderr",
     "output_type": "stream",
     "text": [
      " 56%|█████▋    | 10376/18411 [1:36:06<1:15:43,  1.77it/s]"
     ]
    },
    {
     "name": "stdout",
     "output_type": "stream",
     "text": [
      "Epoch [1/1], Step [10376/18411], Loss: 0.9142078757286072\n"
     ]
    },
    {
     "name": "stderr",
     "output_type": "stream",
     "text": [
      " 56%|█████▋    | 10401/18411 [1:36:20<1:16:14,  1.75it/s]"
     ]
    },
    {
     "name": "stdout",
     "output_type": "stream",
     "text": [
      "Epoch [1/1], Step [10401/18411], Loss: 1.193684697151184\n"
     ]
    },
    {
     "name": "stderr",
     "output_type": "stream",
     "text": [
      " 57%|█████▋    | 10426/18411 [1:36:34<1:13:04,  1.82it/s]"
     ]
    },
    {
     "name": "stdout",
     "output_type": "stream",
     "text": [
      "Epoch [1/1], Step [10426/18411], Loss: 1.0577856302261353\n"
     ]
    },
    {
     "name": "stderr",
     "output_type": "stream",
     "text": [
      " 57%|█████▋    | 10451/18411 [1:36:47<1:13:44,  1.80it/s]"
     ]
    },
    {
     "name": "stdout",
     "output_type": "stream",
     "text": [
      "Epoch [1/1], Step [10451/18411], Loss: 1.0433598756790161\n"
     ]
    },
    {
     "name": "stderr",
     "output_type": "stream",
     "text": [
      " 57%|█████▋    | 10476/18411 [1:37:01<1:15:06,  1.76it/s]"
     ]
    },
    {
     "name": "stdout",
     "output_type": "stream",
     "text": [
      "Epoch [1/1], Step [10476/18411], Loss: 0.9257679581642151\n"
     ]
    },
    {
     "name": "stderr",
     "output_type": "stream",
     "text": [
      " 57%|█████▋    | 10501/18411 [1:37:15<1:16:19,  1.73it/s]"
     ]
    },
    {
     "name": "stdout",
     "output_type": "stream",
     "text": [
      "Epoch [1/1], Step [10501/18411], Loss: 1.025530457496643\n"
     ]
    },
    {
     "name": "stderr",
     "output_type": "stream",
     "text": [
      " 57%|█████▋    | 10526/18411 [1:37:29<1:11:55,  1.83it/s]"
     ]
    },
    {
     "name": "stdout",
     "output_type": "stream",
     "text": [
      "Epoch [1/1], Step [10526/18411], Loss: 1.0055030584335327\n"
     ]
    },
    {
     "name": "stderr",
     "output_type": "stream",
     "text": [
      " 57%|█████▋    | 10551/18411 [1:37:42<1:11:52,  1.82it/s]"
     ]
    },
    {
     "name": "stdout",
     "output_type": "stream",
     "text": [
      "Epoch [1/1], Step [10551/18411], Loss: 1.1234527826309204\n"
     ]
    },
    {
     "name": "stderr",
     "output_type": "stream",
     "text": [
      " 57%|█████▋    | 10576/18411 [1:37:56<1:12:50,  1.79it/s]"
     ]
    },
    {
     "name": "stdout",
     "output_type": "stream",
     "text": [
      "Epoch [1/1], Step [10576/18411], Loss: 0.9069619178771973\n"
     ]
    },
    {
     "name": "stderr",
     "output_type": "stream",
     "text": [
      " 58%|█████▊    | 10601/18411 [1:38:10<1:12:03,  1.81it/s]"
     ]
    },
    {
     "name": "stdout",
     "output_type": "stream",
     "text": [
      "Epoch [1/1], Step [10601/18411], Loss: 1.0257165431976318\n"
     ]
    },
    {
     "name": "stderr",
     "output_type": "stream",
     "text": [
      " 58%|█████▊    | 10626/18411 [1:38:24<1:15:08,  1.73it/s]"
     ]
    },
    {
     "name": "stdout",
     "output_type": "stream",
     "text": [
      "Epoch [1/1], Step [10626/18411], Loss: 1.0319300889968872\n"
     ]
    },
    {
     "name": "stderr",
     "output_type": "stream",
     "text": [
      " 58%|█████▊    | 10651/18411 [1:38:38<1:14:40,  1.73it/s]"
     ]
    },
    {
     "name": "stdout",
     "output_type": "stream",
     "text": [
      "Epoch [1/1], Step [10651/18411], Loss: 1.0178370475769043\n"
     ]
    },
    {
     "name": "stderr",
     "output_type": "stream",
     "text": [
      " 58%|█████▊    | 10676/18411 [1:38:52<1:12:41,  1.77it/s]"
     ]
    },
    {
     "name": "stdout",
     "output_type": "stream",
     "text": [
      "Epoch [1/1], Step [10676/18411], Loss: 1.0719130039215088\n"
     ]
    },
    {
     "name": "stderr",
     "output_type": "stream",
     "text": [
      " 58%|█████▊    | 10701/18411 [1:39:06<1:11:33,  1.80it/s]"
     ]
    },
    {
     "name": "stdout",
     "output_type": "stream",
     "text": [
      "Epoch [1/1], Step [10701/18411], Loss: 0.88516765832901\n"
     ]
    },
    {
     "name": "stderr",
     "output_type": "stream",
     "text": [
      " 58%|█████▊    | 10726/18411 [1:39:20<1:12:53,  1.76it/s]"
     ]
    },
    {
     "name": "stdout",
     "output_type": "stream",
     "text": [
      "Epoch [1/1], Step [10726/18411], Loss: 1.052710771560669\n"
     ]
    },
    {
     "name": "stderr",
     "output_type": "stream",
     "text": [
      " 58%|█████▊    | 10751/18411 [1:39:34<1:10:08,  1.82it/s]"
     ]
    },
    {
     "name": "stdout",
     "output_type": "stream",
     "text": [
      "Epoch [1/1], Step [10751/18411], Loss: 1.1113046407699585\n"
     ]
    },
    {
     "name": "stderr",
     "output_type": "stream",
     "text": [
      " 59%|█████▊    | 10776/18411 [1:39:48<1:09:29,  1.83it/s]"
     ]
    },
    {
     "name": "stdout",
     "output_type": "stream",
     "text": [
      "Epoch [1/1], Step [10776/18411], Loss: 1.152193546295166\n"
     ]
    },
    {
     "name": "stderr",
     "output_type": "stream",
     "text": [
      " 59%|█████▊    | 10801/18411 [1:40:01<1:10:30,  1.80it/s]"
     ]
    },
    {
     "name": "stdout",
     "output_type": "stream",
     "text": [
      "Epoch [1/1], Step [10801/18411], Loss: 0.978086531162262\n"
     ]
    },
    {
     "name": "stderr",
     "output_type": "stream",
     "text": [
      " 59%|█████▉    | 10826/18411 [1:40:15<1:10:11,  1.80it/s]"
     ]
    },
    {
     "name": "stdout",
     "output_type": "stream",
     "text": [
      "Epoch [1/1], Step [10826/18411], Loss: 1.0261173248291016\n"
     ]
    },
    {
     "name": "stderr",
     "output_type": "stream",
     "text": [
      " 59%|█████▉    | 10851/18411 [1:40:29<1:09:32,  1.81it/s]"
     ]
    },
    {
     "name": "stdout",
     "output_type": "stream",
     "text": [
      "Epoch [1/1], Step [10851/18411], Loss: 0.9792565703392029\n"
     ]
    },
    {
     "name": "stderr",
     "output_type": "stream",
     "text": [
      " 59%|█████▉    | 10876/18411 [1:40:43<1:09:05,  1.82it/s]"
     ]
    },
    {
     "name": "stdout",
     "output_type": "stream",
     "text": [
      "Epoch [1/1], Step [10876/18411], Loss: 1.0571564435958862\n"
     ]
    },
    {
     "name": "stderr",
     "output_type": "stream",
     "text": [
      " 59%|█████▉    | 10901/18411 [1:40:56<1:09:17,  1.81it/s]"
     ]
    },
    {
     "name": "stdout",
     "output_type": "stream",
     "text": [
      "Epoch [1/1], Step [10901/18411], Loss: 0.968112051486969\n"
     ]
    },
    {
     "name": "stderr",
     "output_type": "stream",
     "text": [
      " 59%|█████▉    | 10926/18411 [1:41:10<1:08:31,  1.82it/s]"
     ]
    },
    {
     "name": "stdout",
     "output_type": "stream",
     "text": [
      "Epoch [1/1], Step [10926/18411], Loss: 1.0862921476364136\n"
     ]
    },
    {
     "name": "stderr",
     "output_type": "stream",
     "text": [
      " 59%|█████▉    | 10951/18411 [1:41:24<1:07:54,  1.83it/s]"
     ]
    },
    {
     "name": "stdout",
     "output_type": "stream",
     "text": [
      "Epoch [1/1], Step [10951/18411], Loss: 0.940789520740509\n"
     ]
    },
    {
     "name": "stderr",
     "output_type": "stream",
     "text": [
      " 60%|█████▉    | 10976/18411 [1:41:37<1:07:41,  1.83it/s]"
     ]
    },
    {
     "name": "stdout",
     "output_type": "stream",
     "text": [
      "Epoch [1/1], Step [10976/18411], Loss: 0.7975807189941406\n"
     ]
    },
    {
     "name": "stderr",
     "output_type": "stream",
     "text": [
      " 60%|█████▉    | 11001/18411 [1:41:51<1:07:58,  1.82it/s]"
     ]
    },
    {
     "name": "stdout",
     "output_type": "stream",
     "text": [
      "Epoch [1/1], Step [11001/18411], Loss: 0.8506855964660645\n"
     ]
    },
    {
     "name": "stderr",
     "output_type": "stream",
     "text": [
      " 60%|█████▉    | 11026/18411 [1:42:05<1:11:17,  1.73it/s]"
     ]
    },
    {
     "name": "stdout",
     "output_type": "stream",
     "text": [
      "Epoch [1/1], Step [11026/18411], Loss: 1.0150864124298096\n"
     ]
    },
    {
     "name": "stderr",
     "output_type": "stream",
     "text": [
      " 60%|██████    | 11051/18411 [1:42:19<1:11:06,  1.72it/s]"
     ]
    },
    {
     "name": "stdout",
     "output_type": "stream",
     "text": [
      "Epoch [1/1], Step [11051/18411], Loss: 0.8932255506515503\n"
     ]
    },
    {
     "name": "stderr",
     "output_type": "stream",
     "text": [
      " 60%|██████    | 11076/18411 [1:42:33<1:08:11,  1.79it/s]"
     ]
    },
    {
     "name": "stdout",
     "output_type": "stream",
     "text": [
      "Epoch [1/1], Step [11076/18411], Loss: 0.9119385480880737\n"
     ]
    },
    {
     "name": "stderr",
     "output_type": "stream",
     "text": [
      " 60%|██████    | 11101/18411 [1:42:47<1:07:32,  1.80it/s]"
     ]
    },
    {
     "name": "stdout",
     "output_type": "stream",
     "text": [
      "Epoch [1/1], Step [11101/18411], Loss: 0.7536417245864868\n"
     ]
    },
    {
     "name": "stderr",
     "output_type": "stream",
     "text": [
      " 60%|██████    | 11126/18411 [1:43:01<1:06:13,  1.83it/s]"
     ]
    },
    {
     "name": "stdout",
     "output_type": "stream",
     "text": [
      "Epoch [1/1], Step [11126/18411], Loss: 0.7568557858467102\n"
     ]
    },
    {
     "name": "stderr",
     "output_type": "stream",
     "text": [
      " 61%|██████    | 11151/18411 [1:43:14<1:07:05,  1.80it/s]"
     ]
    },
    {
     "name": "stdout",
     "output_type": "stream",
     "text": [
      "Epoch [1/1], Step [11151/18411], Loss: 0.7836523056030273\n"
     ]
    },
    {
     "name": "stderr",
     "output_type": "stream",
     "text": [
      " 61%|██████    | 11176/18411 [1:43:29<1:08:42,  1.76it/s]"
     ]
    },
    {
     "name": "stdout",
     "output_type": "stream",
     "text": [
      "Epoch [1/1], Step [11176/18411], Loss: 0.8970882892608643\n"
     ]
    },
    {
     "name": "stderr",
     "output_type": "stream",
     "text": [
      " 61%|██████    | 11201/18411 [1:43:42<1:06:26,  1.81it/s]"
     ]
    },
    {
     "name": "stdout",
     "output_type": "stream",
     "text": [
      "Epoch [1/1], Step [11201/18411], Loss: 0.9764691591262817\n"
     ]
    },
    {
     "name": "stderr",
     "output_type": "stream",
     "text": [
      " 61%|██████    | 11226/18411 [1:43:56<1:06:25,  1.80it/s]"
     ]
    },
    {
     "name": "stdout",
     "output_type": "stream",
     "text": [
      "Epoch [1/1], Step [11226/18411], Loss: 0.76230388879776\n"
     ]
    },
    {
     "name": "stderr",
     "output_type": "stream",
     "text": [
      " 61%|██████    | 11251/18411 [1:44:10<1:05:19,  1.83it/s]"
     ]
    },
    {
     "name": "stdout",
     "output_type": "stream",
     "text": [
      "Epoch [1/1], Step [11251/18411], Loss: 0.8021557331085205\n"
     ]
    },
    {
     "name": "stderr",
     "output_type": "stream",
     "text": [
      " 61%|██████    | 11276/18411 [1:44:24<1:05:07,  1.83it/s]"
     ]
    },
    {
     "name": "stdout",
     "output_type": "stream",
     "text": [
      "Epoch [1/1], Step [11276/18411], Loss: 1.0712175369262695\n"
     ]
    },
    {
     "name": "stderr",
     "output_type": "stream",
     "text": [
      " 61%|██████▏   | 11301/18411 [1:44:37<1:04:50,  1.83it/s]"
     ]
    },
    {
     "name": "stdout",
     "output_type": "stream",
     "text": [
      "Epoch [1/1], Step [11301/18411], Loss: 0.7712180018424988\n"
     ]
    },
    {
     "name": "stderr",
     "output_type": "stream",
     "text": [
      " 62%|██████▏   | 11326/18411 [1:44:51<1:05:17,  1.81it/s]"
     ]
    },
    {
     "name": "stdout",
     "output_type": "stream",
     "text": [
      "Epoch [1/1], Step [11326/18411], Loss: 1.0351349115371704\n"
     ]
    },
    {
     "name": "stderr",
     "output_type": "stream",
     "text": [
      " 62%|██████▏   | 11351/18411 [1:45:05<1:08:01,  1.73it/s]"
     ]
    },
    {
     "name": "stdout",
     "output_type": "stream",
     "text": [
      "Epoch [1/1], Step [11351/18411], Loss: 1.0377403497695923\n"
     ]
    },
    {
     "name": "stderr",
     "output_type": "stream",
     "text": [
      " 62%|██████▏   | 11376/18411 [1:45:19<1:07:00,  1.75it/s]"
     ]
    },
    {
     "name": "stdout",
     "output_type": "stream",
     "text": [
      "Epoch [1/1], Step [11376/18411], Loss: 0.8564895391464233\n"
     ]
    },
    {
     "name": "stderr",
     "output_type": "stream",
     "text": [
      " 62%|██████▏   | 11401/18411 [1:45:33<1:04:41,  1.81it/s]"
     ]
    },
    {
     "name": "stdout",
     "output_type": "stream",
     "text": [
      "Epoch [1/1], Step [11401/18411], Loss: 1.1533570289611816\n"
     ]
    },
    {
     "name": "stderr",
     "output_type": "stream",
     "text": [
      " 62%|██████▏   | 11426/18411 [1:45:47<1:03:38,  1.83it/s]"
     ]
    },
    {
     "name": "stdout",
     "output_type": "stream",
     "text": [
      "Epoch [1/1], Step [11426/18411], Loss: 0.843757152557373\n"
     ]
    },
    {
     "name": "stderr",
     "output_type": "stream",
     "text": [
      " 62%|██████▏   | 11451/18411 [1:46:01<1:04:53,  1.79it/s]"
     ]
    },
    {
     "name": "stdout",
     "output_type": "stream",
     "text": [
      "Epoch [1/1], Step [11451/18411], Loss: 0.7737345695495605\n"
     ]
    },
    {
     "name": "stderr",
     "output_type": "stream",
     "text": [
      " 62%|██████▏   | 11476/18411 [1:46:14<1:04:29,  1.79it/s]"
     ]
    },
    {
     "name": "stdout",
     "output_type": "stream",
     "text": [
      "Epoch [1/1], Step [11476/18411], Loss: 0.9254058003425598\n"
     ]
    },
    {
     "name": "stderr",
     "output_type": "stream",
     "text": [
      " 62%|██████▏   | 11501/18411 [1:46:28<1:03:02,  1.83it/s]"
     ]
    },
    {
     "name": "stdout",
     "output_type": "stream",
     "text": [
      "Epoch [1/1], Step [11501/18411], Loss: 0.9483506679534912\n"
     ]
    },
    {
     "name": "stderr",
     "output_type": "stream",
     "text": [
      " 63%|██████▎   | 11526/18411 [1:46:42<1:03:09,  1.82it/s]"
     ]
    },
    {
     "name": "stdout",
     "output_type": "stream",
     "text": [
      "Epoch [1/1], Step [11526/18411], Loss: 0.6813968420028687\n"
     ]
    },
    {
     "name": "stderr",
     "output_type": "stream",
     "text": [
      " 63%|██████▎   | 11551/18411 [1:46:55<1:02:49,  1.82it/s]"
     ]
    },
    {
     "name": "stdout",
     "output_type": "stream",
     "text": [
      "Epoch [1/1], Step [11551/18411], Loss: 1.0127073526382446\n"
     ]
    },
    {
     "name": "stderr",
     "output_type": "stream",
     "text": [
      " 63%|██████▎   | 11576/18411 [1:47:09<1:04:36,  1.76it/s]"
     ]
    },
    {
     "name": "stdout",
     "output_type": "stream",
     "text": [
      "Epoch [1/1], Step [11576/18411], Loss: 0.9122501611709595\n"
     ]
    },
    {
     "name": "stderr",
     "output_type": "stream",
     "text": [
      " 63%|██████▎   | 11601/18411 [1:47:23<1:04:32,  1.76it/s]"
     ]
    },
    {
     "name": "stdout",
     "output_type": "stream",
     "text": [
      "Epoch [1/1], Step [11601/18411], Loss: 0.7725614905357361\n"
     ]
    },
    {
     "name": "stderr",
     "output_type": "stream",
     "text": [
      " 63%|██████▎   | 11626/18411 [1:47:36<1:02:34,  1.81it/s]"
     ]
    },
    {
     "name": "stdout",
     "output_type": "stream",
     "text": [
      "Epoch [1/1], Step [11626/18411], Loss: 0.8178500533103943\n"
     ]
    },
    {
     "name": "stderr",
     "output_type": "stream",
     "text": [
      " 63%|██████▎   | 11651/18411 [1:47:50<1:03:11,  1.78it/s]"
     ]
    },
    {
     "name": "stdout",
     "output_type": "stream",
     "text": [
      "Epoch [1/1], Step [11651/18411], Loss: 0.9460147619247437\n"
     ]
    },
    {
     "name": "stderr",
     "output_type": "stream",
     "text": [
      " 63%|██████▎   | 11676/18411 [1:48:04<1:03:48,  1.76it/s]"
     ]
    },
    {
     "name": "stdout",
     "output_type": "stream",
     "text": [
      "Epoch [1/1], Step [11676/18411], Loss: 0.9122444987297058\n"
     ]
    },
    {
     "name": "stderr",
     "output_type": "stream",
     "text": [
      " 64%|██████▎   | 11701/18411 [1:48:18<1:01:18,  1.82it/s]"
     ]
    },
    {
     "name": "stdout",
     "output_type": "stream",
     "text": [
      "Epoch [1/1], Step [11701/18411], Loss: 0.6653228998184204\n"
     ]
    },
    {
     "name": "stderr",
     "output_type": "stream",
     "text": [
      " 64%|██████▎   | 11726/18411 [1:48:32<1:01:07,  1.82it/s]"
     ]
    },
    {
     "name": "stdout",
     "output_type": "stream",
     "text": [
      "Epoch [1/1], Step [11726/18411], Loss: 0.7034371495246887\n"
     ]
    },
    {
     "name": "stderr",
     "output_type": "stream",
     "text": [
      " 64%|██████▍   | 11751/18411 [1:48:45<1:00:44,  1.83it/s]"
     ]
    },
    {
     "name": "stdout",
     "output_type": "stream",
     "text": [
      "Epoch [1/1], Step [11751/18411], Loss: 0.7854418754577637\n"
     ]
    },
    {
     "name": "stderr",
     "output_type": "stream",
     "text": [
      " 64%|██████▍   | 11776/18411 [1:48:59<1:04:04,  1.73it/s]"
     ]
    },
    {
     "name": "stdout",
     "output_type": "stream",
     "text": [
      "Epoch [1/1], Step [11776/18411], Loss: 0.7789792418479919\n"
     ]
    },
    {
     "name": "stderr",
     "output_type": "stream",
     "text": [
      " 64%|██████▍   | 11801/18411 [1:49:13<1:01:51,  1.78it/s]"
     ]
    },
    {
     "name": "stdout",
     "output_type": "stream",
     "text": [
      "Epoch [1/1], Step [11801/18411], Loss: 0.8012067079544067\n"
     ]
    },
    {
     "name": "stderr",
     "output_type": "stream",
     "text": [
      " 64%|██████▍   | 11826/18411 [1:49:27<1:03:33,  1.73it/s]"
     ]
    },
    {
     "name": "stdout",
     "output_type": "stream",
     "text": [
      "Epoch [1/1], Step [11826/18411], Loss: 0.7243439555168152\n"
     ]
    },
    {
     "name": "stderr",
     "output_type": "stream",
     "text": [
      " 64%|██████▍   | 11851/18411 [1:49:41<59:48,  1.83it/s]  "
     ]
    },
    {
     "name": "stdout",
     "output_type": "stream",
     "text": [
      "Epoch [1/1], Step [11851/18411], Loss: 0.8860514163970947\n"
     ]
    },
    {
     "name": "stderr",
     "output_type": "stream",
     "text": [
      " 65%|██████▍   | 11876/18411 [1:49:54<59:35,  1.83it/s]  "
     ]
    },
    {
     "name": "stdout",
     "output_type": "stream",
     "text": [
      "Epoch [1/1], Step [11876/18411], Loss: 1.0290262699127197\n"
     ]
    },
    {
     "name": "stderr",
     "output_type": "stream",
     "text": [
      " 65%|██████▍   | 11901/18411 [1:50:09<1:02:52,  1.73it/s]"
     ]
    },
    {
     "name": "stdout",
     "output_type": "stream",
     "text": [
      "Epoch [1/1], Step [11901/18411], Loss: 0.799151599407196\n"
     ]
    },
    {
     "name": "stderr",
     "output_type": "stream",
     "text": [
      " 65%|██████▍   | 11926/18411 [1:50:22<59:16,  1.82it/s]  "
     ]
    },
    {
     "name": "stdout",
     "output_type": "stream",
     "text": [
      "Epoch [1/1], Step [11926/18411], Loss: 0.6544020771980286\n"
     ]
    },
    {
     "name": "stderr",
     "output_type": "stream",
     "text": [
      " 65%|██████▍   | 11951/18411 [1:50:36<1:02:15,  1.73it/s]"
     ]
    },
    {
     "name": "stdout",
     "output_type": "stream",
     "text": [
      "Epoch [1/1], Step [11951/18411], Loss: 0.9186322093009949\n"
     ]
    },
    {
     "name": "stderr",
     "output_type": "stream",
     "text": [
      " 65%|██████▌   | 11976/18411 [1:50:51<1:02:08,  1.73it/s]"
     ]
    },
    {
     "name": "stdout",
     "output_type": "stream",
     "text": [
      "Epoch [1/1], Step [11976/18411], Loss: 0.8120425343513489\n"
     ]
    },
    {
     "name": "stderr",
     "output_type": "stream",
     "text": [
      " 65%|██████▌   | 12001/18411 [1:51:04<58:28,  1.83it/s]  "
     ]
    },
    {
     "name": "stdout",
     "output_type": "stream",
     "text": [
      "Epoch [1/1], Step [12001/18411], Loss: 0.8131251335144043\n"
     ]
    },
    {
     "name": "stderr",
     "output_type": "stream",
     "text": [
      " 65%|██████▌   | 12026/18411 [1:51:18<58:25,  1.82it/s]  "
     ]
    },
    {
     "name": "stdout",
     "output_type": "stream",
     "text": [
      "Epoch [1/1], Step [12026/18411], Loss: 0.9636958837509155\n"
     ]
    },
    {
     "name": "stderr",
     "output_type": "stream",
     "text": [
      " 65%|██████▌   | 12051/18411 [1:51:32<1:01:23,  1.73it/s]"
     ]
    },
    {
     "name": "stdout",
     "output_type": "stream",
     "text": [
      "Epoch [1/1], Step [12051/18411], Loss: 0.7326427698135376\n"
     ]
    },
    {
     "name": "stderr",
     "output_type": "stream",
     "text": [
      " 66%|██████▌   | 12076/18411 [1:51:46<57:45,  1.83it/s]  "
     ]
    },
    {
     "name": "stdout",
     "output_type": "stream",
     "text": [
      "Epoch [1/1], Step [12076/18411], Loss: 0.8094152808189392\n"
     ]
    },
    {
     "name": "stderr",
     "output_type": "stream",
     "text": [
      " 66%|██████▌   | 12101/18411 [1:51:59<57:28,  1.83it/s]"
     ]
    },
    {
     "name": "stdout",
     "output_type": "stream",
     "text": [
      "Epoch [1/1], Step [12101/18411], Loss: 0.9209199547767639\n"
     ]
    },
    {
     "name": "stderr",
     "output_type": "stream",
     "text": [
      " 66%|██████▌   | 12126/18411 [1:52:13<57:20,  1.83it/s]  "
     ]
    },
    {
     "name": "stdout",
     "output_type": "stream",
     "text": [
      "Epoch [1/1], Step [12126/18411], Loss: 0.8921829462051392\n"
     ]
    },
    {
     "name": "stderr",
     "output_type": "stream",
     "text": [
      " 66%|██████▌   | 12151/18411 [1:52:27<57:26,  1.82it/s]"
     ]
    },
    {
     "name": "stdout",
     "output_type": "stream",
     "text": [
      "Epoch [1/1], Step [12151/18411], Loss: 0.800449550151825\n"
     ]
    },
    {
     "name": "stderr",
     "output_type": "stream",
     "text": [
      " 66%|██████▌   | 12176/18411 [1:52:40<56:52,  1.83it/s]"
     ]
    },
    {
     "name": "stdout",
     "output_type": "stream",
     "text": [
      "Epoch [1/1], Step [12176/18411], Loss: 0.8523589968681335\n"
     ]
    },
    {
     "name": "stderr",
     "output_type": "stream",
     "text": [
      " 66%|██████▋   | 12201/18411 [1:52:54<56:39,  1.83it/s]"
     ]
    },
    {
     "name": "stdout",
     "output_type": "stream",
     "text": [
      "Epoch [1/1], Step [12201/18411], Loss: 0.9299212694168091\n"
     ]
    },
    {
     "name": "stderr",
     "output_type": "stream",
     "text": [
      " 66%|██████▋   | 12226/18411 [1:53:07<56:25,  1.83it/s]"
     ]
    },
    {
     "name": "stdout",
     "output_type": "stream",
     "text": [
      "Epoch [1/1], Step [12226/18411], Loss: 0.9275651574134827\n"
     ]
    },
    {
     "name": "stderr",
     "output_type": "stream",
     "text": [
      " 67%|██████▋   | 12251/18411 [1:53:21<56:16,  1.82it/s]"
     ]
    },
    {
     "name": "stdout",
     "output_type": "stream",
     "text": [
      "Epoch [1/1], Step [12251/18411], Loss: 0.9023810029029846\n"
     ]
    },
    {
     "name": "stderr",
     "output_type": "stream",
     "text": [
      " 67%|██████▋   | 12276/18411 [1:53:34<56:21,  1.81it/s]"
     ]
    },
    {
     "name": "stdout",
     "output_type": "stream",
     "text": [
      "Epoch [1/1], Step [12276/18411], Loss: 0.9784999489784241\n"
     ]
    },
    {
     "name": "stderr",
     "output_type": "stream",
     "text": [
      " 67%|██████▋   | 12301/18411 [1:53:48<55:42,  1.83it/s]"
     ]
    },
    {
     "name": "stdout",
     "output_type": "stream",
     "text": [
      "Epoch [1/1], Step [12301/18411], Loss: 0.8945502042770386\n"
     ]
    },
    {
     "name": "stderr",
     "output_type": "stream",
     "text": [
      " 67%|██████▋   | 12326/18411 [1:54:01<55:45,  1.82it/s]"
     ]
    },
    {
     "name": "stdout",
     "output_type": "stream",
     "text": [
      "Epoch [1/1], Step [12326/18411], Loss: 0.8042857050895691\n"
     ]
    },
    {
     "name": "stderr",
     "output_type": "stream",
     "text": [
      " 67%|██████▋   | 12351/18411 [1:54:15<55:17,  1.83it/s]"
     ]
    },
    {
     "name": "stdout",
     "output_type": "stream",
     "text": [
      "Epoch [1/1], Step [12351/18411], Loss: 0.4948694705963135\n"
     ]
    },
    {
     "name": "stderr",
     "output_type": "stream",
     "text": [
      " 67%|██████▋   | 12376/18411 [1:54:28<54:59,  1.83it/s]"
     ]
    },
    {
     "name": "stdout",
     "output_type": "stream",
     "text": [
      "Epoch [1/1], Step [12376/18411], Loss: 0.5260342955589294\n"
     ]
    },
    {
     "name": "stderr",
     "output_type": "stream",
     "text": [
      " 67%|██████▋   | 12401/18411 [1:54:42<54:46,  1.83it/s]"
     ]
    },
    {
     "name": "stdout",
     "output_type": "stream",
     "text": [
      "Epoch [1/1], Step [12401/18411], Loss: 0.9062896370887756\n"
     ]
    },
    {
     "name": "stderr",
     "output_type": "stream",
     "text": [
      " 67%|██████▋   | 12426/18411 [1:54:55<54:42,  1.82it/s]"
     ]
    },
    {
     "name": "stdout",
     "output_type": "stream",
     "text": [
      "Epoch [1/1], Step [12426/18411], Loss: 0.8939958214759827\n"
     ]
    },
    {
     "name": "stderr",
     "output_type": "stream",
     "text": [
      " 68%|██████▊   | 12451/18411 [1:55:09<54:18,  1.83it/s]"
     ]
    },
    {
     "name": "stdout",
     "output_type": "stream",
     "text": [
      "Epoch [1/1], Step [12451/18411], Loss: 0.6490846872329712\n"
     ]
    },
    {
     "name": "stderr",
     "output_type": "stream",
     "text": [
      " 68%|██████▊   | 12476/18411 [1:55:23<54:28,  1.82it/s]"
     ]
    },
    {
     "name": "stdout",
     "output_type": "stream",
     "text": [
      "Epoch [1/1], Step [12476/18411], Loss: 0.7282984256744385\n"
     ]
    },
    {
     "name": "stderr",
     "output_type": "stream",
     "text": [
      " 68%|██████▊   | 12501/18411 [1:55:36<54:41,  1.80it/s]"
     ]
    },
    {
     "name": "stdout",
     "output_type": "stream",
     "text": [
      "Epoch [1/1], Step [12501/18411], Loss: 0.7508687973022461\n"
     ]
    },
    {
     "name": "stderr",
     "output_type": "stream",
     "text": [
      " 68%|██████▊   | 12526/18411 [1:55:50<53:37,  1.83it/s]"
     ]
    },
    {
     "name": "stdout",
     "output_type": "stream",
     "text": [
      "Epoch [1/1], Step [12526/18411], Loss: 0.7942105531692505\n"
     ]
    },
    {
     "name": "stderr",
     "output_type": "stream",
     "text": [
      " 68%|██████▊   | 12551/18411 [1:56:03<53:29,  1.83it/s]"
     ]
    },
    {
     "name": "stdout",
     "output_type": "stream",
     "text": [
      "Epoch [1/1], Step [12551/18411], Loss: 0.5933367013931274\n"
     ]
    },
    {
     "name": "stderr",
     "output_type": "stream",
     "text": [
      " 68%|██████▊   | 12576/18411 [1:56:17<53:10,  1.83it/s]"
     ]
    },
    {
     "name": "stdout",
     "output_type": "stream",
     "text": [
      "Epoch [1/1], Step [12576/18411], Loss: 0.971579909324646\n"
     ]
    },
    {
     "name": "stderr",
     "output_type": "stream",
     "text": [
      " 68%|██████▊   | 12601/18411 [1:56:30<52:59,  1.83it/s]"
     ]
    },
    {
     "name": "stdout",
     "output_type": "stream",
     "text": [
      "Epoch [1/1], Step [12601/18411], Loss: 0.7341657876968384\n"
     ]
    },
    {
     "name": "stderr",
     "output_type": "stream",
     "text": [
      " 69%|██████▊   | 12626/18411 [1:56:44<53:02,  1.82it/s]"
     ]
    },
    {
     "name": "stdout",
     "output_type": "stream",
     "text": [
      "Epoch [1/1], Step [12626/18411], Loss: 0.7840709090232849\n"
     ]
    },
    {
     "name": "stderr",
     "output_type": "stream",
     "text": [
      " 69%|██████▊   | 12651/18411 [1:56:58<52:34,  1.83it/s]"
     ]
    },
    {
     "name": "stdout",
     "output_type": "stream",
     "text": [
      "Epoch [1/1], Step [12651/18411], Loss: 0.942905604839325\n"
     ]
    },
    {
     "name": "stderr",
     "output_type": "stream",
     "text": [
      " 69%|██████▉   | 12676/18411 [1:57:11<52:15,  1.83it/s]"
     ]
    },
    {
     "name": "stdout",
     "output_type": "stream",
     "text": [
      "Epoch [1/1], Step [12676/18411], Loss: 0.846564531326294\n"
     ]
    },
    {
     "name": "stderr",
     "output_type": "stream",
     "text": [
      " 69%|██████▉   | 12701/18411 [1:57:25<52:13,  1.82it/s]"
     ]
    },
    {
     "name": "stdout",
     "output_type": "stream",
     "text": [
      "Epoch [1/1], Step [12701/18411], Loss: 0.7966850399971008\n"
     ]
    },
    {
     "name": "stderr",
     "output_type": "stream",
     "text": [
      " 69%|██████▉   | 12726/18411 [1:57:38<52:41,  1.80it/s]"
     ]
    },
    {
     "name": "stdout",
     "output_type": "stream",
     "text": [
      "Epoch [1/1], Step [12726/18411], Loss: 0.5900649428367615\n"
     ]
    },
    {
     "name": "stderr",
     "output_type": "stream",
     "text": [
      " 69%|██████▉   | 12751/18411 [1:57:52<51:44,  1.82it/s]"
     ]
    },
    {
     "name": "stdout",
     "output_type": "stream",
     "text": [
      "Epoch [1/1], Step [12751/18411], Loss: 0.8846209049224854\n"
     ]
    },
    {
     "name": "stderr",
     "output_type": "stream",
     "text": [
      " 69%|██████▉   | 12776/18411 [1:58:05<51:42,  1.82it/s]"
     ]
    },
    {
     "name": "stdout",
     "output_type": "stream",
     "text": [
      "Epoch [1/1], Step [12776/18411], Loss: 0.5926759243011475\n"
     ]
    },
    {
     "name": "stderr",
     "output_type": "stream",
     "text": [
      " 70%|██████▉   | 12801/18411 [1:58:19<51:52,  1.80it/s]"
     ]
    },
    {
     "name": "stdout",
     "output_type": "stream",
     "text": [
      "Epoch [1/1], Step [12801/18411], Loss: 0.7426736354827881\n"
     ]
    },
    {
     "name": "stderr",
     "output_type": "stream",
     "text": [
      " 70%|██████▉   | 12826/18411 [1:58:33<51:41,  1.80it/s]"
     ]
    },
    {
     "name": "stdout",
     "output_type": "stream",
     "text": [
      "Epoch [1/1], Step [12826/18411], Loss: 0.7999347448348999\n"
     ]
    },
    {
     "name": "stderr",
     "output_type": "stream",
     "text": [
      " 70%|██████▉   | 12851/18411 [1:58:46<50:50,  1.82it/s]"
     ]
    },
    {
     "name": "stdout",
     "output_type": "stream",
     "text": [
      "Epoch [1/1], Step [12851/18411], Loss: 0.5379071831703186\n"
     ]
    },
    {
     "name": "stderr",
     "output_type": "stream",
     "text": [
      " 70%|██████▉   | 12876/18411 [1:59:00<50:30,  1.83it/s]"
     ]
    },
    {
     "name": "stdout",
     "output_type": "stream",
     "text": [
      "Epoch [1/1], Step [12876/18411], Loss: 0.6966395378112793\n"
     ]
    },
    {
     "name": "stderr",
     "output_type": "stream",
     "text": [
      " 70%|███████   | 12901/18411 [1:59:13<50:08,  1.83it/s]"
     ]
    },
    {
     "name": "stdout",
     "output_type": "stream",
     "text": [
      "Epoch [1/1], Step [12901/18411], Loss: 0.6384490728378296\n"
     ]
    },
    {
     "name": "stderr",
     "output_type": "stream",
     "text": [
      " 70%|███████   | 12926/18411 [1:59:27<50:42,  1.80it/s]"
     ]
    },
    {
     "name": "stdout",
     "output_type": "stream",
     "text": [
      "Epoch [1/1], Step [12926/18411], Loss: 0.7684404850006104\n"
     ]
    },
    {
     "name": "stderr",
     "output_type": "stream",
     "text": [
      " 70%|███████   | 12951/18411 [1:59:40<49:49,  1.83it/s]"
     ]
    },
    {
     "name": "stdout",
     "output_type": "stream",
     "text": [
      "Epoch [1/1], Step [12951/18411], Loss: 0.7067668437957764\n"
     ]
    },
    {
     "name": "stderr",
     "output_type": "stream",
     "text": [
      " 70%|███████   | 12976/18411 [1:59:54<49:40,  1.82it/s]"
     ]
    },
    {
     "name": "stdout",
     "output_type": "stream",
     "text": [
      "Epoch [1/1], Step [12976/18411], Loss: 0.5473188161849976\n"
     ]
    },
    {
     "name": "stderr",
     "output_type": "stream",
     "text": [
      " 71%|███████   | 13001/18411 [2:00:08<49:17,  1.83it/s]"
     ]
    },
    {
     "name": "stdout",
     "output_type": "stream",
     "text": [
      "Epoch [1/1], Step [13001/18411], Loss: 0.7405473589897156\n"
     ]
    },
    {
     "name": "stderr",
     "output_type": "stream",
     "text": [
      " 71%|███████   | 13026/18411 [2:00:21<49:06,  1.83it/s]"
     ]
    },
    {
     "name": "stdout",
     "output_type": "stream",
     "text": [
      "Epoch [1/1], Step [13026/18411], Loss: 1.068695068359375\n"
     ]
    },
    {
     "name": "stderr",
     "output_type": "stream",
     "text": [
      " 71%|███████   | 13051/18411 [2:00:35<48:50,  1.83it/s]"
     ]
    },
    {
     "name": "stdout",
     "output_type": "stream",
     "text": [
      "Epoch [1/1], Step [13051/18411], Loss: 0.7788395285606384\n"
     ]
    },
    {
     "name": "stderr",
     "output_type": "stream",
     "text": [
      " 71%|███████   | 13076/18411 [2:00:48<48:36,  1.83it/s]"
     ]
    },
    {
     "name": "stdout",
     "output_type": "stream",
     "text": [
      "Epoch [1/1], Step [13076/18411], Loss: 0.8483514189720154\n"
     ]
    },
    {
     "name": "stderr",
     "output_type": "stream",
     "text": [
      " 71%|███████   | 13101/18411 [2:01:02<48:59,  1.81it/s]"
     ]
    },
    {
     "name": "stdout",
     "output_type": "stream",
     "text": [
      "Epoch [1/1], Step [13101/18411], Loss: 0.706569254398346\n"
     ]
    },
    {
     "name": "stderr",
     "output_type": "stream",
     "text": [
      " 71%|███████▏  | 13126/18411 [2:01:16<50:32,  1.74it/s]"
     ]
    },
    {
     "name": "stdout",
     "output_type": "stream",
     "text": [
      "Epoch [1/1], Step [13126/18411], Loss: 0.7032701373100281\n"
     ]
    },
    {
     "name": "stderr",
     "output_type": "stream",
     "text": [
      " 71%|███████▏  | 13151/18411 [2:01:30<50:46,  1.73it/s]"
     ]
    },
    {
     "name": "stdout",
     "output_type": "stream",
     "text": [
      "Epoch [1/1], Step [13151/18411], Loss: 0.9048652648925781\n"
     ]
    },
    {
     "name": "stderr",
     "output_type": "stream",
     "text": [
      " 72%|███████▏  | 13176/18411 [2:01:44<47:43,  1.83it/s]"
     ]
    },
    {
     "name": "stdout",
     "output_type": "stream",
     "text": [
      "Epoch [1/1], Step [13176/18411], Loss: 0.7859429717063904\n"
     ]
    },
    {
     "name": "stderr",
     "output_type": "stream",
     "text": [
      " 72%|███████▏  | 13201/18411 [2:01:57<47:31,  1.83it/s]"
     ]
    },
    {
     "name": "stdout",
     "output_type": "stream",
     "text": [
      "Epoch [1/1], Step [13201/18411], Loss: 0.6168420910835266\n"
     ]
    },
    {
     "name": "stderr",
     "output_type": "stream",
     "text": [
      " 72%|███████▏  | 13226/18411 [2:02:11<47:15,  1.83it/s]"
     ]
    },
    {
     "name": "stdout",
     "output_type": "stream",
     "text": [
      "Epoch [1/1], Step [13226/18411], Loss: 0.6689770221710205\n"
     ]
    },
    {
     "name": "stderr",
     "output_type": "stream",
     "text": [
      " 72%|███████▏  | 13251/18411 [2:02:24<47:00,  1.83it/s]"
     ]
    },
    {
     "name": "stdout",
     "output_type": "stream",
     "text": [
      "Epoch [1/1], Step [13251/18411], Loss: 0.7568662762641907\n"
     ]
    },
    {
     "name": "stderr",
     "output_type": "stream",
     "text": [
      " 72%|███████▏  | 13276/18411 [2:02:38<46:49,  1.83it/s]"
     ]
    },
    {
     "name": "stdout",
     "output_type": "stream",
     "text": [
      "Epoch [1/1], Step [13276/18411], Loss: 0.7529901266098022\n"
     ]
    },
    {
     "name": "stderr",
     "output_type": "stream",
     "text": [
      " 72%|███████▏  | 13301/18411 [2:02:51<46:40,  1.82it/s]"
     ]
    },
    {
     "name": "stdout",
     "output_type": "stream",
     "text": [
      "Epoch [1/1], Step [13301/18411], Loss: 0.6216385960578918\n"
     ]
    },
    {
     "name": "stderr",
     "output_type": "stream",
     "text": [
      " 72%|███████▏  | 13326/18411 [2:03:05<46:23,  1.83it/s]"
     ]
    },
    {
     "name": "stdout",
     "output_type": "stream",
     "text": [
      "Epoch [1/1], Step [13326/18411], Loss: 0.7842172384262085\n"
     ]
    },
    {
     "name": "stderr",
     "output_type": "stream",
     "text": [
      " 73%|███████▎  | 13351/18411 [2:03:18<46:10,  1.83it/s]"
     ]
    },
    {
     "name": "stdout",
     "output_type": "stream",
     "text": [
      "Epoch [1/1], Step [13351/18411], Loss: 0.739949643611908\n"
     ]
    },
    {
     "name": "stderr",
     "output_type": "stream",
     "text": [
      " 73%|███████▎  | 13376/18411 [2:03:32<47:06,  1.78it/s]"
     ]
    },
    {
     "name": "stdout",
     "output_type": "stream",
     "text": [
      "Epoch [1/1], Step [13376/18411], Loss: 0.5417389273643494\n"
     ]
    },
    {
     "name": "stderr",
     "output_type": "stream",
     "text": [
      " 73%|███████▎  | 13401/18411 [2:03:46<46:30,  1.80it/s]"
     ]
    },
    {
     "name": "stdout",
     "output_type": "stream",
     "text": [
      "Epoch [1/1], Step [13401/18411], Loss: 0.7265773415565491\n"
     ]
    },
    {
     "name": "stderr",
     "output_type": "stream",
     "text": [
      " 73%|███████▎  | 13426/18411 [2:04:00<46:17,  1.79it/s]"
     ]
    },
    {
     "name": "stdout",
     "output_type": "stream",
     "text": [
      "Epoch [1/1], Step [13426/18411], Loss: 0.794725775718689\n"
     ]
    },
    {
     "name": "stderr",
     "output_type": "stream",
     "text": [
      " 73%|███████▎  | 13451/18411 [2:04:13<45:15,  1.83it/s]"
     ]
    },
    {
     "name": "stdout",
     "output_type": "stream",
     "text": [
      "Epoch [1/1], Step [13451/18411], Loss: 0.5658774971961975\n"
     ]
    },
    {
     "name": "stderr",
     "output_type": "stream",
     "text": [
      " 73%|███████▎  | 13476/18411 [2:04:27<45:00,  1.83it/s]"
     ]
    },
    {
     "name": "stdout",
     "output_type": "stream",
     "text": [
      "Epoch [1/1], Step [13476/18411], Loss: 0.5054638385772705\n"
     ]
    },
    {
     "name": "stderr",
     "output_type": "stream",
     "text": [
      " 73%|███████▎  | 13501/18411 [2:04:40<44:46,  1.83it/s]"
     ]
    },
    {
     "name": "stdout",
     "output_type": "stream",
     "text": [
      "Epoch [1/1], Step [13501/18411], Loss: 0.6559200882911682\n"
     ]
    },
    {
     "name": "stderr",
     "output_type": "stream",
     "text": [
      " 73%|███████▎  | 13526/18411 [2:04:54<44:48,  1.82it/s]"
     ]
    },
    {
     "name": "stdout",
     "output_type": "stream",
     "text": [
      "Epoch [1/1], Step [13526/18411], Loss: 0.6749403476715088\n"
     ]
    },
    {
     "name": "stderr",
     "output_type": "stream",
     "text": [
      " 74%|███████▎  | 13551/18411 [2:05:07<44:16,  1.83it/s]"
     ]
    },
    {
     "name": "stdout",
     "output_type": "stream",
     "text": [
      "Epoch [1/1], Step [13551/18411], Loss: 0.706325113773346\n"
     ]
    },
    {
     "name": "stderr",
     "output_type": "stream",
     "text": [
      " 74%|███████▎  | 13576/18411 [2:05:21<44:07,  1.83it/s]"
     ]
    },
    {
     "name": "stdout",
     "output_type": "stream",
     "text": [
      "Epoch [1/1], Step [13576/18411], Loss: 0.4623773396015167\n"
     ]
    },
    {
     "name": "stderr",
     "output_type": "stream",
     "text": [
      " 74%|███████▍  | 13601/18411 [2:05:35<44:27,  1.80it/s]"
     ]
    },
    {
     "name": "stdout",
     "output_type": "stream",
     "text": [
      "Epoch [1/1], Step [13601/18411], Loss: 0.7418451309204102\n"
     ]
    },
    {
     "name": "stderr",
     "output_type": "stream",
     "text": [
      " 74%|███████▍  | 13626/18411 [2:05:48<43:54,  1.82it/s]"
     ]
    },
    {
     "name": "stdout",
     "output_type": "stream",
     "text": [
      "Epoch [1/1], Step [13626/18411], Loss: 0.6907400488853455\n"
     ]
    },
    {
     "name": "stderr",
     "output_type": "stream",
     "text": [
      " 74%|███████▍  | 13651/18411 [2:06:02<43:29,  1.82it/s]"
     ]
    },
    {
     "name": "stdout",
     "output_type": "stream",
     "text": [
      "Epoch [1/1], Step [13651/18411], Loss: 0.5822035670280457\n"
     ]
    },
    {
     "name": "stderr",
     "output_type": "stream",
     "text": [
      " 74%|███████▍  | 13676/18411 [2:06:15<43:10,  1.83it/s]"
     ]
    },
    {
     "name": "stdout",
     "output_type": "stream",
     "text": [
      "Epoch [1/1], Step [13676/18411], Loss: 0.7938037514686584\n"
     ]
    },
    {
     "name": "stderr",
     "output_type": "stream",
     "text": [
      " 74%|███████▍  | 13701/18411 [2:06:29<42:56,  1.83it/s]"
     ]
    },
    {
     "name": "stdout",
     "output_type": "stream",
     "text": [
      "Epoch [1/1], Step [13701/18411], Loss: 0.6775826215744019\n"
     ]
    },
    {
     "name": "stderr",
     "output_type": "stream",
     "text": [
      " 75%|███████▍  | 13726/18411 [2:06:42<43:05,  1.81it/s]"
     ]
    },
    {
     "name": "stdout",
     "output_type": "stream",
     "text": [
      "Epoch [1/1], Step [13726/18411], Loss: 0.6600261330604553\n"
     ]
    },
    {
     "name": "stderr",
     "output_type": "stream",
     "text": [
      " 75%|███████▍  | 13751/18411 [2:06:56<42:30,  1.83it/s]"
     ]
    },
    {
     "name": "stdout",
     "output_type": "stream",
     "text": [
      "Epoch [1/1], Step [13751/18411], Loss: 0.5847415924072266\n"
     ]
    },
    {
     "name": "stderr",
     "output_type": "stream",
     "text": [
      " 75%|███████▍  | 13776/18411 [2:07:09<42:33,  1.82it/s]"
     ]
    },
    {
     "name": "stdout",
     "output_type": "stream",
     "text": [
      "Epoch [1/1], Step [13776/18411], Loss: 0.6718093752861023\n"
     ]
    },
    {
     "name": "stderr",
     "output_type": "stream",
     "text": [
      " 75%|███████▍  | 13801/18411 [2:07:23<42:01,  1.83it/s]"
     ]
    },
    {
     "name": "stdout",
     "output_type": "stream",
     "text": [
      "Epoch [1/1], Step [13801/18411], Loss: 0.5693637728691101\n"
     ]
    },
    {
     "name": "stderr",
     "output_type": "stream",
     "text": [
      " 75%|███████▌  | 13826/18411 [2:07:37<41:48,  1.83it/s]"
     ]
    },
    {
     "name": "stdout",
     "output_type": "stream",
     "text": [
      "Epoch [1/1], Step [13826/18411], Loss: 0.6067602634429932\n"
     ]
    },
    {
     "name": "stderr",
     "output_type": "stream",
     "text": [
      " 75%|███████▌  | 13851/18411 [2:07:50<41:37,  1.83it/s]"
     ]
    },
    {
     "name": "stdout",
     "output_type": "stream",
     "text": [
      "Epoch [1/1], Step [13851/18411], Loss: 0.7149626612663269\n"
     ]
    },
    {
     "name": "stderr",
     "output_type": "stream",
     "text": [
      " 75%|███████▌  | 13876/18411 [2:08:04<42:14,  1.79it/s]"
     ]
    },
    {
     "name": "stdout",
     "output_type": "stream",
     "text": [
      "Epoch [1/1], Step [13876/18411], Loss: 0.7703264951705933\n"
     ]
    },
    {
     "name": "stderr",
     "output_type": "stream",
     "text": [
      " 76%|███████▌  | 13901/18411 [2:08:17<41:06,  1.83it/s]"
     ]
    },
    {
     "name": "stdout",
     "output_type": "stream",
     "text": [
      "Epoch [1/1], Step [13901/18411], Loss: 0.5577892661094666\n"
     ]
    },
    {
     "name": "stderr",
     "output_type": "stream",
     "text": [
      " 76%|███████▌  | 13926/18411 [2:08:31<40:53,  1.83it/s]"
     ]
    },
    {
     "name": "stdout",
     "output_type": "stream",
     "text": [
      "Epoch [1/1], Step [13926/18411], Loss: 0.8010144233703613\n"
     ]
    },
    {
     "name": "stderr",
     "output_type": "stream",
     "text": [
      " 76%|███████▌  | 13951/18411 [2:08:44<40:40,  1.83it/s]"
     ]
    },
    {
     "name": "stdout",
     "output_type": "stream",
     "text": [
      "Epoch [1/1], Step [13951/18411], Loss: 0.6337377429008484\n"
     ]
    },
    {
     "name": "stderr",
     "output_type": "stream",
     "text": [
      " 76%|███████▌  | 13976/18411 [2:08:58<40:27,  1.83it/s]"
     ]
    },
    {
     "name": "stdout",
     "output_type": "stream",
     "text": [
      "Epoch [1/1], Step [13976/18411], Loss: 0.5885214805603027\n"
     ]
    },
    {
     "name": "stderr",
     "output_type": "stream",
     "text": [
      " 76%|███████▌  | 14001/18411 [2:09:11<40:11,  1.83it/s]"
     ]
    },
    {
     "name": "stdout",
     "output_type": "stream",
     "text": [
      "Epoch [1/1], Step [14001/18411], Loss: 0.7636903524398804\n"
     ]
    },
    {
     "name": "stderr",
     "output_type": "stream",
     "text": [
      " 76%|███████▌  | 14026/18411 [2:09:25<40:03,  1.82it/s]"
     ]
    },
    {
     "name": "stdout",
     "output_type": "stream",
     "text": [
      "Epoch [1/1], Step [14026/18411], Loss: 0.5876750946044922\n"
     ]
    },
    {
     "name": "stderr",
     "output_type": "stream",
     "text": [
      " 76%|███████▋  | 14051/18411 [2:09:39<42:02,  1.73it/s]"
     ]
    },
    {
     "name": "stdout",
     "output_type": "stream",
     "text": [
      "Epoch [1/1], Step [14051/18411], Loss: 0.6914359331130981\n"
     ]
    },
    {
     "name": "stderr",
     "output_type": "stream",
     "text": [
      " 76%|███████▋  | 14076/18411 [2:09:53<40:30,  1.78it/s]"
     ]
    },
    {
     "name": "stdout",
     "output_type": "stream",
     "text": [
      "Epoch [1/1], Step [14076/18411], Loss: 0.6971803307533264\n"
     ]
    },
    {
     "name": "stderr",
     "output_type": "stream",
     "text": [
      " 77%|███████▋  | 14101/18411 [2:10:06<39:17,  1.83it/s]"
     ]
    },
    {
     "name": "stdout",
     "output_type": "stream",
     "text": [
      "Epoch [1/1], Step [14101/18411], Loss: 0.6741093993186951\n"
     ]
    },
    {
     "name": "stderr",
     "output_type": "stream",
     "text": [
      " 77%|███████▋  | 14126/18411 [2:10:20<39:02,  1.83it/s]"
     ]
    },
    {
     "name": "stdout",
     "output_type": "stream",
     "text": [
      "Epoch [1/1], Step [14126/18411], Loss: 0.7186462879180908\n"
     ]
    },
    {
     "name": "stderr",
     "output_type": "stream",
     "text": [
      " 77%|███████▋  | 14151/18411 [2:10:33<38:48,  1.83it/s]"
     ]
    },
    {
     "name": "stdout",
     "output_type": "stream",
     "text": [
      "Epoch [1/1], Step [14151/18411], Loss: 0.4515366852283478\n"
     ]
    },
    {
     "name": "stderr",
     "output_type": "stream",
     "text": [
      " 77%|███████▋  | 14176/18411 [2:10:47<38:38,  1.83it/s]"
     ]
    },
    {
     "name": "stdout",
     "output_type": "stream",
     "text": [
      "Epoch [1/1], Step [14176/18411], Loss: 0.8679170608520508\n"
     ]
    },
    {
     "name": "stderr",
     "output_type": "stream",
     "text": [
      " 77%|███████▋  | 14201/18411 [2:11:01<38:22,  1.83it/s]"
     ]
    },
    {
     "name": "stdout",
     "output_type": "stream",
     "text": [
      "Epoch [1/1], Step [14201/18411], Loss: 0.5744237899780273\n"
     ]
    },
    {
     "name": "stderr",
     "output_type": "stream",
     "text": [
      " 77%|███████▋  | 14226/18411 [2:11:14<38:41,  1.80it/s]"
     ]
    },
    {
     "name": "stdout",
     "output_type": "stream",
     "text": [
      "Epoch [1/1], Step [14226/18411], Loss: 0.7627114653587341\n"
     ]
    },
    {
     "name": "stderr",
     "output_type": "stream",
     "text": [
      " 77%|███████▋  | 14251/18411 [2:11:28<38:12,  1.81it/s]"
     ]
    },
    {
     "name": "stdout",
     "output_type": "stream",
     "text": [
      "Epoch [1/1], Step [14251/18411], Loss: 0.7113087177276611\n"
     ]
    },
    {
     "name": "stderr",
     "output_type": "stream",
     "text": [
      " 78%|███████▊  | 14276/18411 [2:11:41<37:52,  1.82it/s]"
     ]
    },
    {
     "name": "stdout",
     "output_type": "stream",
     "text": [
      "Epoch [1/1], Step [14276/18411], Loss: 0.5238170027732849\n"
     ]
    },
    {
     "name": "stderr",
     "output_type": "stream",
     "text": [
      " 78%|███████▊  | 14301/18411 [2:11:55<37:40,  1.82it/s]"
     ]
    },
    {
     "name": "stdout",
     "output_type": "stream",
     "text": [
      "Epoch [1/1], Step [14301/18411], Loss: 0.4769074022769928\n"
     ]
    },
    {
     "name": "stderr",
     "output_type": "stream",
     "text": [
      " 78%|███████▊  | 14326/18411 [2:12:09<37:13,  1.83it/s]"
     ]
    },
    {
     "name": "stdout",
     "output_type": "stream",
     "text": [
      "Epoch [1/1], Step [14326/18411], Loss: 0.6375439763069153\n"
     ]
    },
    {
     "name": "stderr",
     "output_type": "stream",
     "text": [
      " 78%|███████▊  | 14351/18411 [2:12:22<37:45,  1.79it/s]"
     ]
    },
    {
     "name": "stdout",
     "output_type": "stream",
     "text": [
      "Epoch [1/1], Step [14351/18411], Loss: 0.6752530336380005\n"
     ]
    },
    {
     "name": "stderr",
     "output_type": "stream",
     "text": [
      " 78%|███████▊  | 14376/18411 [2:12:36<36:57,  1.82it/s]"
     ]
    },
    {
     "name": "stdout",
     "output_type": "stream",
     "text": [
      "Epoch [1/1], Step [14376/18411], Loss: 0.6421542167663574\n"
     ]
    },
    {
     "name": "stderr",
     "output_type": "stream",
     "text": [
      " 78%|███████▊  | 14401/18411 [2:12:49<36:49,  1.81it/s]"
     ]
    },
    {
     "name": "stdout",
     "output_type": "stream",
     "text": [
      "Epoch [1/1], Step [14401/18411], Loss: 0.5200881958007812\n"
     ]
    },
    {
     "name": "stderr",
     "output_type": "stream",
     "text": [
      " 78%|███████▊  | 14426/18411 [2:13:03<36:17,  1.83it/s]"
     ]
    },
    {
     "name": "stdout",
     "output_type": "stream",
     "text": [
      "Epoch [1/1], Step [14426/18411], Loss: 0.6643665432929993\n"
     ]
    },
    {
     "name": "stderr",
     "output_type": "stream",
     "text": [
      " 78%|███████▊  | 14451/18411 [2:13:17<36:12,  1.82it/s]"
     ]
    },
    {
     "name": "stdout",
     "output_type": "stream",
     "text": [
      "Epoch [1/1], Step [14451/18411], Loss: 0.7370418906211853\n"
     ]
    },
    {
     "name": "stderr",
     "output_type": "stream",
     "text": [
      " 79%|███████▊  | 14476/18411 [2:13:30<36:04,  1.82it/s]"
     ]
    },
    {
     "name": "stdout",
     "output_type": "stream",
     "text": [
      "Epoch [1/1], Step [14476/18411], Loss: 0.7322944402694702\n"
     ]
    },
    {
     "name": "stderr",
     "output_type": "stream",
     "text": [
      " 79%|███████▉  | 14501/18411 [2:13:44<35:43,  1.82it/s]"
     ]
    },
    {
     "name": "stdout",
     "output_type": "stream",
     "text": [
      "Epoch [1/1], Step [14501/18411], Loss: 0.6077839136123657\n"
     ]
    },
    {
     "name": "stderr",
     "output_type": "stream",
     "text": [
      " 79%|███████▉  | 14526/18411 [2:13:57<35:49,  1.81it/s]"
     ]
    },
    {
     "name": "stdout",
     "output_type": "stream",
     "text": [
      "Epoch [1/1], Step [14526/18411], Loss: 0.48758238554000854\n"
     ]
    },
    {
     "name": "stderr",
     "output_type": "stream",
     "text": [
      " 79%|███████▉  | 14551/18411 [2:14:11<37:01,  1.74it/s]"
     ]
    },
    {
     "name": "stdout",
     "output_type": "stream",
     "text": [
      "Epoch [1/1], Step [14551/18411], Loss: 0.7018321752548218\n"
     ]
    },
    {
     "name": "stderr",
     "output_type": "stream",
     "text": [
      " 79%|███████▉  | 14576/18411 [2:14:25<34:58,  1.83it/s]"
     ]
    },
    {
     "name": "stdout",
     "output_type": "stream",
     "text": [
      "Epoch [1/1], Step [14576/18411], Loss: 0.7897995114326477\n"
     ]
    },
    {
     "name": "stderr",
     "output_type": "stream",
     "text": [
      " 79%|███████▉  | 14601/18411 [2:14:39<34:44,  1.83it/s]"
     ]
    },
    {
     "name": "stdout",
     "output_type": "stream",
     "text": [
      "Epoch [1/1], Step [14601/18411], Loss: 0.4923868477344513\n"
     ]
    },
    {
     "name": "stderr",
     "output_type": "stream",
     "text": [
      " 79%|███████▉  | 14626/18411 [2:14:52<34:31,  1.83it/s]"
     ]
    },
    {
     "name": "stdout",
     "output_type": "stream",
     "text": [
      "Epoch [1/1], Step [14626/18411], Loss: 0.7045316100120544\n"
     ]
    },
    {
     "name": "stderr",
     "output_type": "stream",
     "text": [
      " 80%|███████▉  | 14651/18411 [2:15:06<34:29,  1.82it/s]"
     ]
    },
    {
     "name": "stdout",
     "output_type": "stream",
     "text": [
      "Epoch [1/1], Step [14651/18411], Loss: 0.5714495778083801\n"
     ]
    },
    {
     "name": "stderr",
     "output_type": "stream",
     "text": [
      " 80%|███████▉  | 14676/18411 [2:15:20<34:42,  1.79it/s]"
     ]
    },
    {
     "name": "stdout",
     "output_type": "stream",
     "text": [
      "Epoch [1/1], Step [14676/18411], Loss: 0.6839393973350525\n"
     ]
    },
    {
     "name": "stderr",
     "output_type": "stream",
     "text": [
      " 80%|███████▉  | 14701/18411 [2:15:33<34:00,  1.82it/s]"
     ]
    },
    {
     "name": "stdout",
     "output_type": "stream",
     "text": [
      "Epoch [1/1], Step [14701/18411], Loss: 0.43003976345062256\n"
     ]
    },
    {
     "name": "stderr",
     "output_type": "stream",
     "text": [
      " 80%|███████▉  | 14726/18411 [2:15:47<33:37,  1.83it/s]"
     ]
    },
    {
     "name": "stdout",
     "output_type": "stream",
     "text": [
      "Epoch [1/1], Step [14726/18411], Loss: 0.6345674991607666\n"
     ]
    },
    {
     "name": "stderr",
     "output_type": "stream",
     "text": [
      " 80%|████████  | 14751/18411 [2:16:00<33:20,  1.83it/s]"
     ]
    },
    {
     "name": "stdout",
     "output_type": "stream",
     "text": [
      "Epoch [1/1], Step [14751/18411], Loss: 0.7752732634544373\n"
     ]
    },
    {
     "name": "stderr",
     "output_type": "stream",
     "text": [
      " 80%|████████  | 14776/18411 [2:16:14<33:30,  1.81it/s]"
     ]
    },
    {
     "name": "stdout",
     "output_type": "stream",
     "text": [
      "Epoch [1/1], Step [14776/18411], Loss: 0.5552656054496765\n"
     ]
    },
    {
     "name": "stderr",
     "output_type": "stream",
     "text": [
      " 80%|████████  | 14801/18411 [2:16:27<32:53,  1.83it/s]"
     ]
    },
    {
     "name": "stdout",
     "output_type": "stream",
     "text": [
      "Epoch [1/1], Step [14801/18411], Loss: 0.545242428779602\n"
     ]
    },
    {
     "name": "stderr",
     "output_type": "stream",
     "text": [
      " 81%|████████  | 14826/18411 [2:16:41<32:38,  1.83it/s]"
     ]
    },
    {
     "name": "stdout",
     "output_type": "stream",
     "text": [
      "Epoch [1/1], Step [14826/18411], Loss: 0.3978725075721741\n"
     ]
    },
    {
     "name": "stderr",
     "output_type": "stream",
     "text": [
      " 81%|████████  | 14851/18411 [2:16:54<32:27,  1.83it/s]"
     ]
    },
    {
     "name": "stdout",
     "output_type": "stream",
     "text": [
      "Epoch [1/1], Step [14851/18411], Loss: 0.7159889340400696\n"
     ]
    },
    {
     "name": "stderr",
     "output_type": "stream",
     "text": [
      " 81%|████████  | 14876/18411 [2:17:08<32:45,  1.80it/s]"
     ]
    },
    {
     "name": "stdout",
     "output_type": "stream",
     "text": [
      "Epoch [1/1], Step [14876/18411], Loss: 0.7993839979171753\n"
     ]
    },
    {
     "name": "stderr",
     "output_type": "stream",
     "text": [
      " 81%|████████  | 14901/18411 [2:17:22<31:59,  1.83it/s]"
     ]
    },
    {
     "name": "stdout",
     "output_type": "stream",
     "text": [
      "Epoch [1/1], Step [14901/18411], Loss: 0.6405995488166809\n"
     ]
    },
    {
     "name": "stderr",
     "output_type": "stream",
     "text": [
      " 81%|████████  | 14926/18411 [2:17:35<31:45,  1.83it/s]"
     ]
    },
    {
     "name": "stdout",
     "output_type": "stream",
     "text": [
      "Epoch [1/1], Step [14926/18411], Loss: 0.6747318506240845\n"
     ]
    },
    {
     "name": "stderr",
     "output_type": "stream",
     "text": [
      " 81%|████████  | 14951/18411 [2:17:49<31:42,  1.82it/s]"
     ]
    },
    {
     "name": "stdout",
     "output_type": "stream",
     "text": [
      "Epoch [1/1], Step [14951/18411], Loss: 0.5095676183700562\n"
     ]
    },
    {
     "name": "stderr",
     "output_type": "stream",
     "text": [
      " 81%|████████▏ | 14976/18411 [2:18:02<31:19,  1.83it/s]"
     ]
    },
    {
     "name": "stdout",
     "output_type": "stream",
     "text": [
      "Epoch [1/1], Step [14976/18411], Loss: 0.5397247672080994\n"
     ]
    },
    {
     "name": "stderr",
     "output_type": "stream",
     "text": [
      " 81%|████████▏ | 15001/18411 [2:18:16<31:05,  1.83it/s]"
     ]
    },
    {
     "name": "stdout",
     "output_type": "stream",
     "text": [
      "Epoch [1/1], Step [15001/18411], Loss: 0.4905610680580139\n"
     ]
    },
    {
     "name": "stderr",
     "output_type": "stream",
     "text": [
      " 82%|████████▏ | 15026/18411 [2:18:29<30:51,  1.83it/s]"
     ]
    },
    {
     "name": "stdout",
     "output_type": "stream",
     "text": [
      "Epoch [1/1], Step [15026/18411], Loss: 0.5948610305786133\n"
     ]
    },
    {
     "name": "stderr",
     "output_type": "stream",
     "text": [
      " 82%|████████▏ | 15051/18411 [2:18:43<30:37,  1.83it/s]"
     ]
    },
    {
     "name": "stdout",
     "output_type": "stream",
     "text": [
      "Epoch [1/1], Step [15051/18411], Loss: 0.7542818784713745\n"
     ]
    },
    {
     "name": "stderr",
     "output_type": "stream",
     "text": [
      " 82%|████████▏ | 15076/18411 [2:18:56<30:24,  1.83it/s]"
     ]
    },
    {
     "name": "stdout",
     "output_type": "stream",
     "text": [
      "Epoch [1/1], Step [15076/18411], Loss: 0.5687036514282227\n"
     ]
    },
    {
     "name": "stderr",
     "output_type": "stream",
     "text": [
      " 82%|████████▏ | 15101/18411 [2:19:10<30:10,  1.83it/s]"
     ]
    },
    {
     "name": "stdout",
     "output_type": "stream",
     "text": [
      "Epoch [1/1], Step [15101/18411], Loss: 0.6161296963691711\n"
     ]
    },
    {
     "name": "stderr",
     "output_type": "stream",
     "text": [
      " 82%|████████▏ | 15126/18411 [2:19:24<29:56,  1.83it/s]"
     ]
    },
    {
     "name": "stdout",
     "output_type": "stream",
     "text": [
      "Epoch [1/1], Step [15126/18411], Loss: 0.5486301779747009\n"
     ]
    },
    {
     "name": "stderr",
     "output_type": "stream",
     "text": [
      " 82%|████████▏ | 15151/18411 [2:19:37<29:41,  1.83it/s]"
     ]
    },
    {
     "name": "stdout",
     "output_type": "stream",
     "text": [
      "Epoch [1/1], Step [15151/18411], Loss: 0.5002360343933105\n"
     ]
    },
    {
     "name": "stderr",
     "output_type": "stream",
     "text": [
      " 82%|████████▏ | 15176/18411 [2:19:51<29:29,  1.83it/s]"
     ]
    },
    {
     "name": "stdout",
     "output_type": "stream",
     "text": [
      "Epoch [1/1], Step [15176/18411], Loss: 0.5918630957603455\n"
     ]
    },
    {
     "name": "stderr",
     "output_type": "stream",
     "text": [
      " 83%|████████▎ | 15201/18411 [2:20:04<29:15,  1.83it/s]"
     ]
    },
    {
     "name": "stdout",
     "output_type": "stream",
     "text": [
      "Epoch [1/1], Step [15201/18411], Loss: 0.6928386092185974\n"
     ]
    },
    {
     "name": "stderr",
     "output_type": "stream",
     "text": [
      " 83%|████████▎ | 15226/18411 [2:20:18<29:01,  1.83it/s]"
     ]
    },
    {
     "name": "stdout",
     "output_type": "stream",
     "text": [
      "Epoch [1/1], Step [15226/18411], Loss: 0.5154706835746765\n"
     ]
    },
    {
     "name": "stderr",
     "output_type": "stream",
     "text": [
      " 83%|████████▎ | 15251/18411 [2:20:31<28:49,  1.83it/s]"
     ]
    },
    {
     "name": "stdout",
     "output_type": "stream",
     "text": [
      "Epoch [1/1], Step [15251/18411], Loss: 0.4372379779815674\n"
     ]
    },
    {
     "name": "stderr",
     "output_type": "stream",
     "text": [
      " 83%|████████▎ | 15276/18411 [2:20:45<28:41,  1.82it/s]"
     ]
    },
    {
     "name": "stdout",
     "output_type": "stream",
     "text": [
      "Epoch [1/1], Step [15276/18411], Loss: 0.684462308883667\n"
     ]
    },
    {
     "name": "stderr",
     "output_type": "stream",
     "text": [
      " 83%|████████▎ | 15301/18411 [2:20:58<28:21,  1.83it/s]"
     ]
    },
    {
     "name": "stdout",
     "output_type": "stream",
     "text": [
      "Epoch [1/1], Step [15301/18411], Loss: 0.48973405361175537\n"
     ]
    },
    {
     "name": "stderr",
     "output_type": "stream",
     "text": [
      " 83%|████████▎ | 15326/18411 [2:21:12<28:06,  1.83it/s]"
     ]
    },
    {
     "name": "stdout",
     "output_type": "stream",
     "text": [
      "Epoch [1/1], Step [15326/18411], Loss: 0.6463407278060913\n"
     ]
    },
    {
     "name": "stderr",
     "output_type": "stream",
     "text": [
      " 83%|████████▎ | 15351/18411 [2:21:25<27:57,  1.82it/s]"
     ]
    },
    {
     "name": "stdout",
     "output_type": "stream",
     "text": [
      "Epoch [1/1], Step [15351/18411], Loss: 0.6861053705215454\n"
     ]
    },
    {
     "name": "stderr",
     "output_type": "stream",
     "text": [
      " 84%|████████▎ | 15376/18411 [2:21:39<27:39,  1.83it/s]"
     ]
    },
    {
     "name": "stdout",
     "output_type": "stream",
     "text": [
      "Epoch [1/1], Step [15376/18411], Loss: 0.597206711769104\n"
     ]
    },
    {
     "name": "stderr",
     "output_type": "stream",
     "text": [
      " 84%|████████▎ | 15401/18411 [2:21:52<27:27,  1.83it/s]"
     ]
    },
    {
     "name": "stdout",
     "output_type": "stream",
     "text": [
      "Epoch [1/1], Step [15401/18411], Loss: 0.6263267397880554\n"
     ]
    },
    {
     "name": "stderr",
     "output_type": "stream",
     "text": [
      " 84%|████████▍ | 15426/18411 [2:22:06<27:37,  1.80it/s]"
     ]
    },
    {
     "name": "stdout",
     "output_type": "stream",
     "text": [
      "Epoch [1/1], Step [15426/18411], Loss: 0.5706032514572144\n"
     ]
    },
    {
     "name": "stderr",
     "output_type": "stream",
     "text": [
      " 84%|████████▍ | 15451/18411 [2:22:20<28:16,  1.74it/s]"
     ]
    },
    {
     "name": "stdout",
     "output_type": "stream",
     "text": [
      "Epoch [1/1], Step [15451/18411], Loss: 0.6328779458999634\n"
     ]
    },
    {
     "name": "stderr",
     "output_type": "stream",
     "text": [
      " 84%|████████▍ | 15476/18411 [2:22:34<26:53,  1.82it/s]"
     ]
    },
    {
     "name": "stdout",
     "output_type": "stream",
     "text": [
      "Epoch [1/1], Step [15476/18411], Loss: 0.5554161667823792\n"
     ]
    },
    {
     "name": "stderr",
     "output_type": "stream",
     "text": [
      " 84%|████████▍ | 15501/18411 [2:22:48<26:34,  1.83it/s]"
     ]
    },
    {
     "name": "stdout",
     "output_type": "stream",
     "text": [
      "Epoch [1/1], Step [15501/18411], Loss: 0.6238630414009094\n"
     ]
    },
    {
     "name": "stderr",
     "output_type": "stream",
     "text": [
      " 84%|████████▍ | 15526/18411 [2:23:01<26:25,  1.82it/s]"
     ]
    },
    {
     "name": "stdout",
     "output_type": "stream",
     "text": [
      "Epoch [1/1], Step [15526/18411], Loss: 0.801811695098877\n"
     ]
    },
    {
     "name": "stderr",
     "output_type": "stream",
     "text": [
      " 84%|████████▍ | 15551/18411 [2:23:15<26:14,  1.82it/s]"
     ]
    },
    {
     "name": "stdout",
     "output_type": "stream",
     "text": [
      "Epoch [1/1], Step [15551/18411], Loss: 0.5483880639076233\n"
     ]
    },
    {
     "name": "stderr",
     "output_type": "stream",
     "text": [
      " 85%|████████▍ | 15576/18411 [2:23:28<25:56,  1.82it/s]"
     ]
    },
    {
     "name": "stdout",
     "output_type": "stream",
     "text": [
      "Epoch [1/1], Step [15576/18411], Loss: 0.6036145091056824\n"
     ]
    },
    {
     "name": "stderr",
     "output_type": "stream",
     "text": [
      " 85%|████████▍ | 15601/18411 [2:23:42<25:40,  1.82it/s]"
     ]
    },
    {
     "name": "stdout",
     "output_type": "stream",
     "text": [
      "Epoch [1/1], Step [15601/18411], Loss: 0.5174009799957275\n"
     ]
    },
    {
     "name": "stderr",
     "output_type": "stream",
     "text": [
      " 85%|████████▍ | 15626/18411 [2:23:55<25:27,  1.82it/s]"
     ]
    },
    {
     "name": "stdout",
     "output_type": "stream",
     "text": [
      "Epoch [1/1], Step [15626/18411], Loss: 0.4644168019294739\n"
     ]
    },
    {
     "name": "stderr",
     "output_type": "stream",
     "text": [
      " 85%|████████▌ | 15651/18411 [2:24:09<25:11,  1.83it/s]"
     ]
    },
    {
     "name": "stdout",
     "output_type": "stream",
     "text": [
      "Epoch [1/1], Step [15651/18411], Loss: 0.6420789361000061\n"
     ]
    },
    {
     "name": "stderr",
     "output_type": "stream",
     "text": [
      " 85%|████████▌ | 15676/18411 [2:24:23<24:59,  1.82it/s]"
     ]
    },
    {
     "name": "stdout",
     "output_type": "stream",
     "text": [
      "Epoch [1/1], Step [15676/18411], Loss: 0.5514038801193237\n"
     ]
    },
    {
     "name": "stderr",
     "output_type": "stream",
     "text": [
      " 85%|████████▌ | 15701/18411 [2:24:36<25:49,  1.75it/s]"
     ]
    },
    {
     "name": "stdout",
     "output_type": "stream",
     "text": [
      "Epoch [1/1], Step [15701/18411], Loss: 0.5980334281921387\n"
     ]
    },
    {
     "name": "stderr",
     "output_type": "stream",
     "text": [
      " 85%|████████▌ | 15726/18411 [2:24:50<25:38,  1.74it/s]"
     ]
    },
    {
     "name": "stdout",
     "output_type": "stream",
     "text": [
      "Epoch [1/1], Step [15726/18411], Loss: 0.6076196432113647\n"
     ]
    },
    {
     "name": "stderr",
     "output_type": "stream",
     "text": [
      " 86%|████████▌ | 15751/18411 [2:25:04<24:19,  1.82it/s]"
     ]
    },
    {
     "name": "stdout",
     "output_type": "stream",
     "text": [
      "Epoch [1/1], Step [15751/18411], Loss: 0.5141921043395996\n"
     ]
    },
    {
     "name": "stderr",
     "output_type": "stream",
     "text": [
      " 86%|████████▌ | 15776/18411 [2:25:18<24:04,  1.82it/s]"
     ]
    },
    {
     "name": "stdout",
     "output_type": "stream",
     "text": [
      "Epoch [1/1], Step [15776/18411], Loss: 0.5081605315208435\n"
     ]
    },
    {
     "name": "stderr",
     "output_type": "stream",
     "text": [
      " 86%|████████▌ | 15801/18411 [2:25:31<23:57,  1.82it/s]"
     ]
    },
    {
     "name": "stdout",
     "output_type": "stream",
     "text": [
      "Epoch [1/1], Step [15801/18411], Loss: 0.4920215308666229\n"
     ]
    },
    {
     "name": "stderr",
     "output_type": "stream",
     "text": [
      " 86%|████████▌ | 15826/18411 [2:25:45<23:40,  1.82it/s]"
     ]
    },
    {
     "name": "stdout",
     "output_type": "stream",
     "text": [
      "Epoch [1/1], Step [15826/18411], Loss: 0.45416325330734253\n"
     ]
    },
    {
     "name": "stderr",
     "output_type": "stream",
     "text": [
      " 86%|████████▌ | 15851/18411 [2:25:58<23:28,  1.82it/s]"
     ]
    },
    {
     "name": "stdout",
     "output_type": "stream",
     "text": [
      "Epoch [1/1], Step [15851/18411], Loss: 0.5633214712142944\n"
     ]
    },
    {
     "name": "stderr",
     "output_type": "stream",
     "text": [
      " 86%|████████▌ | 15876/18411 [2:26:12<23:10,  1.82it/s]"
     ]
    },
    {
     "name": "stdout",
     "output_type": "stream",
     "text": [
      "Epoch [1/1], Step [15876/18411], Loss: 0.5097110271453857\n"
     ]
    },
    {
     "name": "stderr",
     "output_type": "stream",
     "text": [
      " 86%|████████▋ | 15901/18411 [2:26:26<22:59,  1.82it/s]"
     ]
    },
    {
     "name": "stdout",
     "output_type": "stream",
     "text": [
      "Epoch [1/1], Step [15901/18411], Loss: 0.5909535884857178\n"
     ]
    },
    {
     "name": "stderr",
     "output_type": "stream",
     "text": [
      " 87%|████████▋ | 15926/18411 [2:26:39<22:42,  1.82it/s]"
     ]
    },
    {
     "name": "stdout",
     "output_type": "stream",
     "text": [
      "Epoch [1/1], Step [15926/18411], Loss: 0.5969482660293579\n"
     ]
    },
    {
     "name": "stderr",
     "output_type": "stream",
     "text": [
      " 87%|████████▋ | 15951/18411 [2:26:53<22:28,  1.82it/s]"
     ]
    },
    {
     "name": "stdout",
     "output_type": "stream",
     "text": [
      "Epoch [1/1], Step [15951/18411], Loss: 0.6003382802009583\n"
     ]
    },
    {
     "name": "stderr",
     "output_type": "stream",
     "text": [
      " 87%|████████▋ | 15976/18411 [2:27:06<23:30,  1.73it/s]"
     ]
    },
    {
     "name": "stdout",
     "output_type": "stream",
     "text": [
      "Epoch [1/1], Step [15976/18411], Loss: 0.6937961578369141\n"
     ]
    },
    {
     "name": "stderr",
     "output_type": "stream",
     "text": [
      " 87%|████████▋ | 16001/18411 [2:27:20<21:59,  1.83it/s]"
     ]
    },
    {
     "name": "stdout",
     "output_type": "stream",
     "text": [
      "Epoch [1/1], Step [16001/18411], Loss: 0.6423401236534119\n"
     ]
    },
    {
     "name": "stderr",
     "output_type": "stream",
     "text": [
      " 87%|████████▋ | 16026/18411 [2:27:34<21:46,  1.83it/s]"
     ]
    },
    {
     "name": "stdout",
     "output_type": "stream",
     "text": [
      "Epoch [1/1], Step [16026/18411], Loss: 0.4902324676513672\n"
     ]
    },
    {
     "name": "stderr",
     "output_type": "stream",
     "text": [
      " 87%|████████▋ | 16051/18411 [2:27:48<21:34,  1.82it/s]"
     ]
    },
    {
     "name": "stdout",
     "output_type": "stream",
     "text": [
      "Epoch [1/1], Step [16051/18411], Loss: 0.5188096761703491\n"
     ]
    },
    {
     "name": "stderr",
     "output_type": "stream",
     "text": [
      " 87%|████████▋ | 16076/18411 [2:28:01<21:21,  1.82it/s]"
     ]
    },
    {
     "name": "stdout",
     "output_type": "stream",
     "text": [
      "Epoch [1/1], Step [16076/18411], Loss: 0.6114518046379089\n"
     ]
    },
    {
     "name": "stderr",
     "output_type": "stream",
     "text": [
      " 87%|████████▋ | 16101/18411 [2:28:15<21:07,  1.82it/s]"
     ]
    },
    {
     "name": "stdout",
     "output_type": "stream",
     "text": [
      "Epoch [1/1], Step [16101/18411], Loss: 0.5823948383331299\n"
     ]
    },
    {
     "name": "stderr",
     "output_type": "stream",
     "text": [
      " 88%|████████▊ | 16126/18411 [2:28:28<20:53,  1.82it/s]"
     ]
    },
    {
     "name": "stdout",
     "output_type": "stream",
     "text": [
      "Epoch [1/1], Step [16126/18411], Loss: 0.7778500318527222\n"
     ]
    },
    {
     "name": "stderr",
     "output_type": "stream",
     "text": [
      " 88%|████████▊ | 16151/18411 [2:28:42<20:40,  1.82it/s]"
     ]
    },
    {
     "name": "stdout",
     "output_type": "stream",
     "text": [
      "Epoch [1/1], Step [16151/18411], Loss: 0.5605342984199524\n"
     ]
    },
    {
     "name": "stderr",
     "output_type": "stream",
     "text": [
      " 88%|████████▊ | 16176/18411 [2:28:55<20:26,  1.82it/s]"
     ]
    },
    {
     "name": "stdout",
     "output_type": "stream",
     "text": [
      "Epoch [1/1], Step [16176/18411], Loss: 0.5010561943054199\n"
     ]
    },
    {
     "name": "stderr",
     "output_type": "stream",
     "text": [
      " 88%|████████▊ | 16201/18411 [2:29:09<20:12,  1.82it/s]"
     ]
    },
    {
     "name": "stdout",
     "output_type": "stream",
     "text": [
      "Epoch [1/1], Step [16201/18411], Loss: 0.4717017412185669\n"
     ]
    },
    {
     "name": "stderr",
     "output_type": "stream",
     "text": [
      " 88%|████████▊ | 16226/18411 [2:29:23<20:15,  1.80it/s]"
     ]
    },
    {
     "name": "stdout",
     "output_type": "stream",
     "text": [
      "Epoch [1/1], Step [16226/18411], Loss: 0.5746870636940002\n"
     ]
    },
    {
     "name": "stderr",
     "output_type": "stream",
     "text": [
      " 88%|████████▊ | 16251/18411 [2:29:36<19:46,  1.82it/s]"
     ]
    },
    {
     "name": "stdout",
     "output_type": "stream",
     "text": [
      "Epoch [1/1], Step [16251/18411], Loss: 0.5389412641525269\n"
     ]
    },
    {
     "name": "stderr",
     "output_type": "stream",
     "text": [
      " 88%|████████▊ | 16276/18411 [2:29:50<19:31,  1.82it/s]"
     ]
    },
    {
     "name": "stdout",
     "output_type": "stream",
     "text": [
      "Epoch [1/1], Step [16276/18411], Loss: 0.6200768947601318\n"
     ]
    },
    {
     "name": "stderr",
     "output_type": "stream",
     "text": [
      " 89%|████████▊ | 16301/18411 [2:30:03<19:17,  1.82it/s]"
     ]
    },
    {
     "name": "stdout",
     "output_type": "stream",
     "text": [
      "Epoch [1/1], Step [16301/18411], Loss: 0.3664115071296692\n"
     ]
    },
    {
     "name": "stderr",
     "output_type": "stream",
     "text": [
      " 89%|████████▊ | 16326/18411 [2:30:17<19:03,  1.82it/s]"
     ]
    },
    {
     "name": "stdout",
     "output_type": "stream",
     "text": [
      "Epoch [1/1], Step [16326/18411], Loss: 0.5062811374664307\n"
     ]
    },
    {
     "name": "stderr",
     "output_type": "stream",
     "text": [
      " 89%|████████▉ | 16351/18411 [2:30:31<18:50,  1.82it/s]"
     ]
    },
    {
     "name": "stdout",
     "output_type": "stream",
     "text": [
      "Epoch [1/1], Step [16351/18411], Loss: 0.5469502806663513\n"
     ]
    },
    {
     "name": "stderr",
     "output_type": "stream",
     "text": [
      " 89%|████████▉ | 16376/18411 [2:30:44<18:38,  1.82it/s]"
     ]
    },
    {
     "name": "stdout",
     "output_type": "stream",
     "text": [
      "Epoch [1/1], Step [16376/18411], Loss: 0.4887562692165375\n"
     ]
    },
    {
     "name": "stderr",
     "output_type": "stream",
     "text": [
      " 89%|████████▉ | 16401/18411 [2:30:58<18:21,  1.82it/s]"
     ]
    },
    {
     "name": "stdout",
     "output_type": "stream",
     "text": [
      "Epoch [1/1], Step [16401/18411], Loss: 0.5066556334495544\n"
     ]
    },
    {
     "name": "stderr",
     "output_type": "stream",
     "text": [
      " 89%|████████▉ | 16426/18411 [2:31:11<18:09,  1.82it/s]"
     ]
    },
    {
     "name": "stdout",
     "output_type": "stream",
     "text": [
      "Epoch [1/1], Step [16426/18411], Loss: 0.5614338517189026\n"
     ]
    },
    {
     "name": "stderr",
     "output_type": "stream",
     "text": [
      " 89%|████████▉ | 16451/18411 [2:31:25<18:11,  1.80it/s]"
     ]
    },
    {
     "name": "stdout",
     "output_type": "stream",
     "text": [
      "Epoch [1/1], Step [16451/18411], Loss: 0.5759936571121216\n"
     ]
    },
    {
     "name": "stderr",
     "output_type": "stream",
     "text": [
      " 89%|████████▉ | 16476/18411 [2:31:39<17:39,  1.83it/s]"
     ]
    },
    {
     "name": "stdout",
     "output_type": "stream",
     "text": [
      "Epoch [1/1], Step [16476/18411], Loss: 0.5258963704109192\n"
     ]
    },
    {
     "name": "stderr",
     "output_type": "stream",
     "text": [
      " 90%|████████▉ | 16501/18411 [2:31:52<17:27,  1.82it/s]"
     ]
    },
    {
     "name": "stdout",
     "output_type": "stream",
     "text": [
      "Epoch [1/1], Step [16501/18411], Loss: 0.5379680395126343\n"
     ]
    },
    {
     "name": "stderr",
     "output_type": "stream",
     "text": [
      " 90%|████████▉ | 16526/18411 [2:32:06<17:14,  1.82it/s]"
     ]
    },
    {
     "name": "stdout",
     "output_type": "stream",
     "text": [
      "Epoch [1/1], Step [16526/18411], Loss: 0.4874667227268219\n"
     ]
    },
    {
     "name": "stderr",
     "output_type": "stream",
     "text": [
      " 90%|████████▉ | 16551/18411 [2:32:20<17:00,  1.82it/s]"
     ]
    },
    {
     "name": "stdout",
     "output_type": "stream",
     "text": [
      "Epoch [1/1], Step [16551/18411], Loss: 0.6115305423736572\n"
     ]
    },
    {
     "name": "stderr",
     "output_type": "stream",
     "text": [
      " 90%|█████████ | 16576/18411 [2:32:33<16:58,  1.80it/s]"
     ]
    },
    {
     "name": "stdout",
     "output_type": "stream",
     "text": [
      "Epoch [1/1], Step [16576/18411], Loss: 0.4982704520225525\n"
     ]
    },
    {
     "name": "stderr",
     "output_type": "stream",
     "text": [
      " 90%|█████████ | 16601/18411 [2:32:47<16:37,  1.82it/s]"
     ]
    },
    {
     "name": "stdout",
     "output_type": "stream",
     "text": [
      "Epoch [1/1], Step [16601/18411], Loss: 0.3680025041103363\n"
     ]
    },
    {
     "name": "stderr",
     "output_type": "stream",
     "text": [
      " 90%|█████████ | 16626/18411 [2:33:00<16:18,  1.82it/s]"
     ]
    },
    {
     "name": "stdout",
     "output_type": "stream",
     "text": [
      "Epoch [1/1], Step [16626/18411], Loss: 0.47640350461006165\n"
     ]
    },
    {
     "name": "stderr",
     "output_type": "stream",
     "text": [
      " 90%|█████████ | 16651/18411 [2:33:14<16:06,  1.82it/s]"
     ]
    },
    {
     "name": "stdout",
     "output_type": "stream",
     "text": [
      "Epoch [1/1], Step [16651/18411], Loss: 0.4903671443462372\n"
     ]
    },
    {
     "name": "stderr",
     "output_type": "stream",
     "text": [
      " 91%|█████████ | 16676/18411 [2:33:28<15:52,  1.82it/s]"
     ]
    },
    {
     "name": "stdout",
     "output_type": "stream",
     "text": [
      "Epoch [1/1], Step [16676/18411], Loss: 0.4452381730079651\n"
     ]
    },
    {
     "name": "stderr",
     "output_type": "stream",
     "text": [
      " 91%|█████████ | 16701/18411 [2:33:41<15:37,  1.82it/s]"
     ]
    },
    {
     "name": "stdout",
     "output_type": "stream",
     "text": [
      "Epoch [1/1], Step [16701/18411], Loss: 0.5140186548233032\n"
     ]
    },
    {
     "name": "stderr",
     "output_type": "stream",
     "text": [
      " 91%|█████████ | 16726/18411 [2:33:55<15:32,  1.81it/s]"
     ]
    },
    {
     "name": "stdout",
     "output_type": "stream",
     "text": [
      "Epoch [1/1], Step [16726/18411], Loss: 0.5078063607215881\n"
     ]
    },
    {
     "name": "stderr",
     "output_type": "stream",
     "text": [
      " 91%|█████████ | 16751/18411 [2:34:08<15:10,  1.82it/s]"
     ]
    },
    {
     "name": "stdout",
     "output_type": "stream",
     "text": [
      "Epoch [1/1], Step [16751/18411], Loss: 0.5337066054344177\n"
     ]
    },
    {
     "name": "stderr",
     "output_type": "stream",
     "text": [
      " 91%|█████████ | 16776/18411 [2:34:22<14:59,  1.82it/s]"
     ]
    },
    {
     "name": "stdout",
     "output_type": "stream",
     "text": [
      "Epoch [1/1], Step [16776/18411], Loss: 0.4558230936527252\n"
     ]
    },
    {
     "name": "stderr",
     "output_type": "stream",
     "text": [
      " 91%|█████████▏| 16801/18411 [2:34:35<14:42,  1.82it/s]"
     ]
    },
    {
     "name": "stdout",
     "output_type": "stream",
     "text": [
      "Epoch [1/1], Step [16801/18411], Loss: 0.5873456001281738\n"
     ]
    },
    {
     "name": "stderr",
     "output_type": "stream",
     "text": [
      " 91%|█████████▏| 16826/18411 [2:34:49<14:34,  1.81it/s]"
     ]
    },
    {
     "name": "stdout",
     "output_type": "stream",
     "text": [
      "Epoch [1/1], Step [16826/18411], Loss: 0.4868232309818268\n"
     ]
    },
    {
     "name": "stderr",
     "output_type": "stream",
     "text": [
      " 92%|█████████▏| 16851/18411 [2:35:03<14:17,  1.82it/s]"
     ]
    },
    {
     "name": "stdout",
     "output_type": "stream",
     "text": [
      "Epoch [1/1], Step [16851/18411], Loss: 0.44296565651893616\n"
     ]
    },
    {
     "name": "stderr",
     "output_type": "stream",
     "text": [
      " 92%|█████████▏| 16876/18411 [2:35:16<14:02,  1.82it/s]"
     ]
    },
    {
     "name": "stdout",
     "output_type": "stream",
     "text": [
      "Epoch [1/1], Step [16876/18411], Loss: 0.42814648151397705\n"
     ]
    },
    {
     "name": "stderr",
     "output_type": "stream",
     "text": [
      " 92%|█████████▏| 16901/18411 [2:35:30<13:49,  1.82it/s]"
     ]
    },
    {
     "name": "stdout",
     "output_type": "stream",
     "text": [
      "Epoch [1/1], Step [16901/18411], Loss: 0.510318398475647\n"
     ]
    },
    {
     "name": "stderr",
     "output_type": "stream",
     "text": [
      " 92%|█████████▏| 16926/18411 [2:35:43<13:34,  1.82it/s]"
     ]
    },
    {
     "name": "stdout",
     "output_type": "stream",
     "text": [
      "Epoch [1/1], Step [16926/18411], Loss: 0.4186801612377167\n"
     ]
    },
    {
     "name": "stderr",
     "output_type": "stream",
     "text": [
      " 92%|█████████▏| 16951/18411 [2:35:57<13:24,  1.81it/s]"
     ]
    },
    {
     "name": "stdout",
     "output_type": "stream",
     "text": [
      "Epoch [1/1], Step [16951/18411], Loss: 0.49233385920524597\n"
     ]
    },
    {
     "name": "stderr",
     "output_type": "stream",
     "text": [
      " 92%|█████████▏| 16976/18411 [2:36:11<13:07,  1.82it/s]"
     ]
    },
    {
     "name": "stdout",
     "output_type": "stream",
     "text": [
      "Epoch [1/1], Step [16976/18411], Loss: 0.5307062268257141\n"
     ]
    },
    {
     "name": "stderr",
     "output_type": "stream",
     "text": [
      " 92%|█████████▏| 17001/18411 [2:36:24<12:57,  1.81it/s]"
     ]
    },
    {
     "name": "stdout",
     "output_type": "stream",
     "text": [
      "Epoch [1/1], Step [17001/18411], Loss: 0.48579245805740356\n"
     ]
    },
    {
     "name": "stderr",
     "output_type": "stream",
     "text": [
      " 92%|█████████▏| 17026/18411 [2:36:38<12:40,  1.82it/s]"
     ]
    },
    {
     "name": "stdout",
     "output_type": "stream",
     "text": [
      "Epoch [1/1], Step [17026/18411], Loss: 0.6753261089324951\n"
     ]
    },
    {
     "name": "stderr",
     "output_type": "stream",
     "text": [
      " 93%|█████████▎| 17051/18411 [2:36:52<12:25,  1.82it/s]"
     ]
    },
    {
     "name": "stdout",
     "output_type": "stream",
     "text": [
      "Epoch [1/1], Step [17051/18411], Loss: 0.5422696471214294\n"
     ]
    },
    {
     "name": "stderr",
     "output_type": "stream",
     "text": [
      " 93%|█████████▎| 17076/18411 [2:37:05<12:25,  1.79it/s]"
     ]
    },
    {
     "name": "stdout",
     "output_type": "stream",
     "text": [
      "Epoch [1/1], Step [17076/18411], Loss: 0.5659211874008179\n"
     ]
    },
    {
     "name": "stderr",
     "output_type": "stream",
     "text": [
      " 93%|█████████▎| 17101/18411 [2:37:19<11:58,  1.82it/s]"
     ]
    },
    {
     "name": "stdout",
     "output_type": "stream",
     "text": [
      "Epoch [1/1], Step [17101/18411], Loss: 0.5374500751495361\n"
     ]
    },
    {
     "name": "stderr",
     "output_type": "stream",
     "text": [
      " 93%|█████████▎| 17126/18411 [2:37:32<11:43,  1.83it/s]"
     ]
    },
    {
     "name": "stdout",
     "output_type": "stream",
     "text": [
      "Epoch [1/1], Step [17126/18411], Loss: 0.5238627195358276\n"
     ]
    },
    {
     "name": "stderr",
     "output_type": "stream",
     "text": [
      " 93%|█████████▎| 17151/18411 [2:37:46<11:35,  1.81it/s]"
     ]
    },
    {
     "name": "stdout",
     "output_type": "stream",
     "text": [
      "Epoch [1/1], Step [17151/18411], Loss: 0.4811370074748993\n"
     ]
    },
    {
     "name": "stderr",
     "output_type": "stream",
     "text": [
      " 93%|█████████▎| 17176/18411 [2:38:00<11:55,  1.73it/s]"
     ]
    },
    {
     "name": "stdout",
     "output_type": "stream",
     "text": [
      "Epoch [1/1], Step [17176/18411], Loss: 0.4575045108795166\n"
     ]
    },
    {
     "name": "stderr",
     "output_type": "stream",
     "text": [
      " 93%|█████████▎| 17201/18411 [2:38:14<11:05,  1.82it/s]"
     ]
    },
    {
     "name": "stdout",
     "output_type": "stream",
     "text": [
      "Epoch [1/1], Step [17201/18411], Loss: 0.3474278748035431\n"
     ]
    },
    {
     "name": "stderr",
     "output_type": "stream",
     "text": [
      " 94%|█████████▎| 17226/18411 [2:38:28<10:52,  1.82it/s]"
     ]
    },
    {
     "name": "stdout",
     "output_type": "stream",
     "text": [
      "Epoch [1/1], Step [17226/18411], Loss: 0.42400094866752625\n"
     ]
    },
    {
     "name": "stderr",
     "output_type": "stream",
     "text": [
      " 94%|█████████▎| 17251/18411 [2:38:42<10:48,  1.79it/s]"
     ]
    },
    {
     "name": "stdout",
     "output_type": "stream",
     "text": [
      "Epoch [1/1], Step [17251/18411], Loss: 0.40238991379737854\n"
     ]
    },
    {
     "name": "stderr",
     "output_type": "stream",
     "text": [
      " 94%|█████████▍| 17276/18411 [2:38:56<10:24,  1.82it/s]"
     ]
    },
    {
     "name": "stdout",
     "output_type": "stream",
     "text": [
      "Epoch [1/1], Step [17276/18411], Loss: 0.5837234854698181\n"
     ]
    },
    {
     "name": "stderr",
     "output_type": "stream",
     "text": [
      " 94%|█████████▍| 17301/18411 [2:39:09<10:07,  1.83it/s]"
     ]
    },
    {
     "name": "stdout",
     "output_type": "stream",
     "text": [
      "Epoch [1/1], Step [17301/18411], Loss: 0.4206671714782715\n"
     ]
    },
    {
     "name": "stderr",
     "output_type": "stream",
     "text": [
      " 94%|█████████▍| 17326/18411 [2:39:23<10:26,  1.73it/s]"
     ]
    },
    {
     "name": "stdout",
     "output_type": "stream",
     "text": [
      "Epoch [1/1], Step [17326/18411], Loss: 0.3907450735569\n"
     ]
    },
    {
     "name": "stderr",
     "output_type": "stream",
     "text": [
      " 94%|█████████▍| 17351/18411 [2:39:37<09:56,  1.78it/s]"
     ]
    },
    {
     "name": "stdout",
     "output_type": "stream",
     "text": [
      "Epoch [1/1], Step [17351/18411], Loss: 0.546348512172699\n"
     ]
    },
    {
     "name": "stderr",
     "output_type": "stream",
     "text": [
      " 94%|█████████▍| 17376/18411 [2:39:51<09:28,  1.82it/s]"
     ]
    },
    {
     "name": "stdout",
     "output_type": "stream",
     "text": [
      "Epoch [1/1], Step [17376/18411], Loss: 0.4088731110095978\n"
     ]
    },
    {
     "name": "stderr",
     "output_type": "stream",
     "text": [
      " 95%|█████████▍| 17401/18411 [2:40:05<09:40,  1.74it/s]"
     ]
    },
    {
     "name": "stdout",
     "output_type": "stream",
     "text": [
      "Epoch [1/1], Step [17401/18411], Loss: 0.42063748836517334\n"
     ]
    },
    {
     "name": "stderr",
     "output_type": "stream",
     "text": [
      " 95%|█████████▍| 17426/18411 [2:40:18<09:12,  1.78it/s]"
     ]
    },
    {
     "name": "stdout",
     "output_type": "stream",
     "text": [
      "Epoch [1/1], Step [17426/18411], Loss: 0.4300004243850708\n"
     ]
    },
    {
     "name": "stderr",
     "output_type": "stream",
     "text": [
      " 95%|█████████▍| 17451/18411 [2:40:32<08:45,  1.83it/s]"
     ]
    },
    {
     "name": "stdout",
     "output_type": "stream",
     "text": [
      "Epoch [1/1], Step [17451/18411], Loss: 0.46231070160865784\n"
     ]
    },
    {
     "name": "stderr",
     "output_type": "stream",
     "text": [
      " 95%|█████████▍| 17476/18411 [2:40:46<08:31,  1.83it/s]"
     ]
    },
    {
     "name": "stdout",
     "output_type": "stream",
     "text": [
      "Epoch [1/1], Step [17476/18411], Loss: 0.3340107500553131\n"
     ]
    },
    {
     "name": "stderr",
     "output_type": "stream",
     "text": [
      " 95%|█████████▌| 17501/18411 [2:40:59<08:21,  1.82it/s]"
     ]
    },
    {
     "name": "stdout",
     "output_type": "stream",
     "text": [
      "Epoch [1/1], Step [17501/18411], Loss: 0.45983096957206726\n"
     ]
    },
    {
     "name": "stderr",
     "output_type": "stream",
     "text": [
      " 95%|█████████▌| 17526/18411 [2:41:13<08:06,  1.82it/s]"
     ]
    },
    {
     "name": "stdout",
     "output_type": "stream",
     "text": [
      "Epoch [1/1], Step [17526/18411], Loss: 0.3390153646469116\n"
     ]
    },
    {
     "name": "stderr",
     "output_type": "stream",
     "text": [
      " 95%|█████████▌| 17551/18411 [2:41:27<07:49,  1.83it/s]"
     ]
    },
    {
     "name": "stdout",
     "output_type": "stream",
     "text": [
      "Epoch [1/1], Step [17551/18411], Loss: 0.6015251874923706\n"
     ]
    },
    {
     "name": "stderr",
     "output_type": "stream",
     "text": [
      " 95%|█████████▌| 17576/18411 [2:41:40<07:36,  1.83it/s]"
     ]
    },
    {
     "name": "stdout",
     "output_type": "stream",
     "text": [
      "Epoch [1/1], Step [17576/18411], Loss: 0.7637864351272583\n"
     ]
    },
    {
     "name": "stderr",
     "output_type": "stream",
     "text": [
      " 96%|█████████▌| 17601/18411 [2:41:54<07:22,  1.83it/s]"
     ]
    },
    {
     "name": "stdout",
     "output_type": "stream",
     "text": [
      "Epoch [1/1], Step [17601/18411], Loss: 0.48015347123146057\n"
     ]
    },
    {
     "name": "stderr",
     "output_type": "stream",
     "text": [
      " 96%|█████████▌| 17626/18411 [2:42:07<07:08,  1.83it/s]"
     ]
    },
    {
     "name": "stdout",
     "output_type": "stream",
     "text": [
      "Epoch [1/1], Step [17626/18411], Loss: 0.4779093861579895\n"
     ]
    },
    {
     "name": "stderr",
     "output_type": "stream",
     "text": [
      " 96%|█████████▌| 17651/18411 [2:42:21<06:54,  1.83it/s]"
     ]
    },
    {
     "name": "stdout",
     "output_type": "stream",
     "text": [
      "Epoch [1/1], Step [17651/18411], Loss: 0.46565109491348267\n"
     ]
    },
    {
     "name": "stderr",
     "output_type": "stream",
     "text": [
      " 96%|█████████▌| 17676/18411 [2:42:34<06:40,  1.83it/s]"
     ]
    },
    {
     "name": "stdout",
     "output_type": "stream",
     "text": [
      "Epoch [1/1], Step [17676/18411], Loss: 0.4436546266078949\n"
     ]
    },
    {
     "name": "stderr",
     "output_type": "stream",
     "text": [
      " 96%|█████████▌| 17701/18411 [2:42:48<06:27,  1.83it/s]"
     ]
    },
    {
     "name": "stdout",
     "output_type": "stream",
     "text": [
      "Epoch [1/1], Step [17701/18411], Loss: 0.7213284373283386\n"
     ]
    },
    {
     "name": "stderr",
     "output_type": "stream",
     "text": [
      " 96%|█████████▋| 17726/18411 [2:43:01<06:13,  1.83it/s]"
     ]
    },
    {
     "name": "stdout",
     "output_type": "stream",
     "text": [
      "Epoch [1/1], Step [17726/18411], Loss: 0.3647501766681671\n"
     ]
    },
    {
     "name": "stderr",
     "output_type": "stream",
     "text": [
      " 96%|█████████▋| 17751/18411 [2:43:15<06:00,  1.83it/s]"
     ]
    },
    {
     "name": "stdout",
     "output_type": "stream",
     "text": [
      "Epoch [1/1], Step [17751/18411], Loss: 0.4722226858139038\n"
     ]
    },
    {
     "name": "stderr",
     "output_type": "stream",
     "text": [
      " 97%|█████████▋| 17776/18411 [2:43:28<05:46,  1.83it/s]"
     ]
    },
    {
     "name": "stdout",
     "output_type": "stream",
     "text": [
      "Epoch [1/1], Step [17776/18411], Loss: 0.5298581123352051\n"
     ]
    },
    {
     "name": "stderr",
     "output_type": "stream",
     "text": [
      " 97%|█████████▋| 17801/18411 [2:43:42<05:52,  1.73it/s]"
     ]
    },
    {
     "name": "stdout",
     "output_type": "stream",
     "text": [
      "Epoch [1/1], Step [17801/18411], Loss: 0.5703009366989136\n"
     ]
    },
    {
     "name": "stderr",
     "output_type": "stream",
     "text": [
      " 97%|█████████▋| 17826/18411 [2:43:56<05:22,  1.81it/s]"
     ]
    },
    {
     "name": "stdout",
     "output_type": "stream",
     "text": [
      "Epoch [1/1], Step [17826/18411], Loss: 0.4448164701461792\n"
     ]
    },
    {
     "name": "stderr",
     "output_type": "stream",
     "text": [
      " 97%|█████████▋| 17851/18411 [2:44:10<05:23,  1.73it/s]"
     ]
    },
    {
     "name": "stdout",
     "output_type": "stream",
     "text": [
      "Epoch [1/1], Step [17851/18411], Loss: 0.47591257095336914\n"
     ]
    },
    {
     "name": "stderr",
     "output_type": "stream",
     "text": [
      " 97%|█████████▋| 17876/18411 [2:44:23<04:57,  1.80it/s]"
     ]
    },
    {
     "name": "stdout",
     "output_type": "stream",
     "text": [
      "Epoch [1/1], Step [17876/18411], Loss: 0.3171903192996979\n"
     ]
    },
    {
     "name": "stderr",
     "output_type": "stream",
     "text": [
      " 97%|█████████▋| 17901/18411 [2:44:37<04:39,  1.83it/s]"
     ]
    },
    {
     "name": "stdout",
     "output_type": "stream",
     "text": [
      "Epoch [1/1], Step [17901/18411], Loss: 0.45273056626319885\n"
     ]
    },
    {
     "name": "stderr",
     "output_type": "stream",
     "text": [
      " 97%|█████████▋| 17926/18411 [2:44:51<04:40,  1.73it/s]"
     ]
    },
    {
     "name": "stdout",
     "output_type": "stream",
     "text": [
      "Epoch [1/1], Step [17926/18411], Loss: 0.39849546551704407\n"
     ]
    },
    {
     "name": "stderr",
     "output_type": "stream",
     "text": [
      " 98%|█████████▊| 17951/18411 [2:45:06<04:25,  1.73it/s]"
     ]
    },
    {
     "name": "stdout",
     "output_type": "stream",
     "text": [
      "Epoch [1/1], Step [17951/18411], Loss: 0.41121527552604675\n"
     ]
    },
    {
     "name": "stderr",
     "output_type": "stream",
     "text": [
      " 98%|█████████▊| 17976/18411 [2:45:19<03:58,  1.83it/s]"
     ]
    },
    {
     "name": "stdout",
     "output_type": "stream",
     "text": [
      "Epoch [1/1], Step [17976/18411], Loss: 0.6657997965812683\n"
     ]
    },
    {
     "name": "stderr",
     "output_type": "stream",
     "text": [
      " 98%|█████████▊| 18001/18411 [2:45:33<03:56,  1.73it/s]"
     ]
    },
    {
     "name": "stdout",
     "output_type": "stream",
     "text": [
      "Epoch [1/1], Step [18001/18411], Loss: 0.6297090649604797\n"
     ]
    },
    {
     "name": "stderr",
     "output_type": "stream",
     "text": [
      " 98%|█████████▊| 18026/18411 [2:45:47<03:31,  1.82it/s]"
     ]
    },
    {
     "name": "stdout",
     "output_type": "stream",
     "text": [
      "Epoch [1/1], Step [18026/18411], Loss: 0.30980184674263\n"
     ]
    },
    {
     "name": "stderr",
     "output_type": "stream",
     "text": [
      " 98%|█████████▊| 18051/18411 [2:46:01<03:27,  1.73it/s]"
     ]
    },
    {
     "name": "stdout",
     "output_type": "stream",
     "text": [
      "Epoch [1/1], Step [18051/18411], Loss: 0.2902379631996155\n"
     ]
    },
    {
     "name": "stderr",
     "output_type": "stream",
     "text": [
      " 98%|█████████▊| 18076/18411 [2:46:15<03:10,  1.76it/s]"
     ]
    },
    {
     "name": "stdout",
     "output_type": "stream",
     "text": [
      "Epoch [1/1], Step [18076/18411], Loss: 0.5450282692909241\n"
     ]
    },
    {
     "name": "stderr",
     "output_type": "stream",
     "text": [
      " 98%|█████████▊| 18101/18411 [2:46:29<02:58,  1.73it/s]"
     ]
    },
    {
     "name": "stdout",
     "output_type": "stream",
     "text": [
      "Epoch [1/1], Step [18101/18411], Loss: 0.3808218538761139\n"
     ]
    },
    {
     "name": "stderr",
     "output_type": "stream",
     "text": [
      " 98%|█████████▊| 18126/18411 [2:46:43<02:42,  1.75it/s]"
     ]
    },
    {
     "name": "stdout",
     "output_type": "stream",
     "text": [
      "Epoch [1/1], Step [18126/18411], Loss: 0.45109111070632935\n"
     ]
    },
    {
     "name": "stderr",
     "output_type": "stream",
     "text": [
      " 99%|█████████▊| 18151/18411 [2:46:57<02:27,  1.77it/s]"
     ]
    },
    {
     "name": "stdout",
     "output_type": "stream",
     "text": [
      "Epoch [1/1], Step [18151/18411], Loss: 0.379652738571167\n"
     ]
    },
    {
     "name": "stderr",
     "output_type": "stream",
     "text": [
      " 99%|█████████▊| 18176/18411 [2:47:12<02:17,  1.71it/s]"
     ]
    },
    {
     "name": "stdout",
     "output_type": "stream",
     "text": [
      "Epoch [1/1], Step [18176/18411], Loss: 0.468416303396225\n"
     ]
    },
    {
     "name": "stderr",
     "output_type": "stream",
     "text": [
      " 99%|█████████▉| 18201/18411 [2:47:26<02:01,  1.73it/s]"
     ]
    },
    {
     "name": "stdout",
     "output_type": "stream",
     "text": [
      "Epoch [1/1], Step [18201/18411], Loss: 0.40785351395606995\n"
     ]
    },
    {
     "name": "stderr",
     "output_type": "stream",
     "text": [
      " 99%|█████████▉| 18226/18411 [2:47:40<01:43,  1.80it/s]"
     ]
    },
    {
     "name": "stdout",
     "output_type": "stream",
     "text": [
      "Epoch [1/1], Step [18226/18411], Loss: 0.45526397228240967\n"
     ]
    },
    {
     "name": "stderr",
     "output_type": "stream",
     "text": [
      " 99%|█████████▉| 18251/18411 [2:47:53<01:28,  1.82it/s]"
     ]
    },
    {
     "name": "stdout",
     "output_type": "stream",
     "text": [
      "Epoch [1/1], Step [18251/18411], Loss: 0.3623613119125366\n"
     ]
    },
    {
     "name": "stderr",
     "output_type": "stream",
     "text": [
      " 99%|█████████▉| 18276/18411 [2:48:07<01:15,  1.80it/s]"
     ]
    },
    {
     "name": "stdout",
     "output_type": "stream",
     "text": [
      "Epoch [1/1], Step [18276/18411], Loss: 0.4161825478076935\n"
     ]
    },
    {
     "name": "stderr",
     "output_type": "stream",
     "text": [
      " 99%|█████████▉| 18301/18411 [2:48:21<01:01,  1.78it/s]"
     ]
    },
    {
     "name": "stdout",
     "output_type": "stream",
     "text": [
      "Epoch [1/1], Step [18301/18411], Loss: 0.3143357038497925\n"
     ]
    },
    {
     "name": "stderr",
     "output_type": "stream",
     "text": [
      "100%|█████████▉| 18326/18411 [2:48:35<00:47,  1.80it/s]"
     ]
    },
    {
     "name": "stdout",
     "output_type": "stream",
     "text": [
      "Epoch [1/1], Step [18326/18411], Loss: 0.39217978715896606\n"
     ]
    },
    {
     "name": "stderr",
     "output_type": "stream",
     "text": [
      "100%|█████████▉| 18351/18411 [2:48:49<00:33,  1.78it/s]"
     ]
    },
    {
     "name": "stdout",
     "output_type": "stream",
     "text": [
      "Epoch [1/1], Step [18351/18411], Loss: 0.3902491331100464\n"
     ]
    },
    {
     "name": "stderr",
     "output_type": "stream",
     "text": [
      "100%|█████████▉| 18376/18411 [2:49:03<00:19,  1.82it/s]"
     ]
    },
    {
     "name": "stdout",
     "output_type": "stream",
     "text": [
      "Epoch [1/1], Step [18376/18411], Loss: 0.42874348163604736\n"
     ]
    },
    {
     "name": "stderr",
     "output_type": "stream",
     "text": [
      "100%|█████████▉| 18401/18411 [2:49:16<00:05,  1.82it/s]"
     ]
    },
    {
     "name": "stdout",
     "output_type": "stream",
     "text": [
      "Epoch [1/1], Step [18401/18411], Loss: 0.48884114623069763\n"
     ]
    },
    {
     "name": "stderr",
     "output_type": "stream",
     "text": [
      "100%|██████████| 18411/18411 [2:49:22<00:00,  1.81it/s]\n"
     ]
    }
   ],
   "source": [
    " # Train the model loop\n",
    " for epoch in range(1):\n",
    "    for i, (inputs, targets) in tqdm(enumerate(train_loader), total=len(train_loader)):\n",
    "        # Move data to the appropriate device\n",
    "        # inputs = inputEmbedding.embed(inputs.to(device))  # Add batch dimension\n",
    "        inputs = inputs.to(device)  # Add batch\n",
    "        targets = targets.to(device)  # Add batch\n",
    "\n",
    "        outputs = encoder_decoder(inputs.to(device))\n",
    "        # Compute loss\n",
    "        loss = criterion(outputs, targets)\n",
    "\n",
    "        optimizer.zero_grad()\n",
    "        loss.backward()\n",
    "        optimizer.step()\n",
    "\n",
    "        # Print loss every 100 steps\n",
    "        if i % 25 == 0:\n",
    "            tqdm.write(\n",
    "            f'Epoch [{epoch + 1}/{num_epochs}], Step [{i + 1}/{len(train_loader)}], Loss: {loss.item()}')"
   ],
   "metadata": {
    "collapsed": false,
    "ExecuteTime": {
     "end_time": "2024-06-25T00:57:52.265545800Z",
     "start_time": "2024-06-24T22:08:30.055279700Z"
    }
   },
   "id": "2769f3ba23895957",
   "execution_count": 18
  },
  {
   "cell_type": "code",
   "outputs": [],
   "source": [
    "torch.save(encoder_decoder.state_dict(), 'model_state2.pth')\n"
   ],
   "metadata": {
    "collapsed": false,
    "ExecuteTime": {
     "end_time": "2024-06-25T00:57:52.604399100Z",
     "start_time": "2024-06-25T00:57:52.208042900Z"
    }
   },
   "id": "3a83fbc682708c15",
   "execution_count": 19
  },
  {
   "cell_type": "code",
   "outputs": [],
   "source": [
    "# TODO: I have no idea what I'm doing or if this is correct\n",
    "def translate(to_translate, model, loader):\n",
    "    model.eval()\n",
    "    inp = loader.tokenize_texts([to_translate])[0].unsqueeze(0).to(device)\n",
    "    with torch.no_grad():\n",
    "        out = model(inp)\n",
    "    print(out.shape)\n",
    "\n",
    "    out = torch.argmax(out.squeeze(0), dim=0)\n",
    "    token_ids = out.tolist()\n",
    "    translated_texts = loader.tokenizer.decode(token_ids)\n",
    "\n",
    "    print(f\"Translated text: {translated_texts}\")\n"
   ],
   "metadata": {
    "collapsed": false,
    "ExecuteTime": {
     "end_time": "2024-06-25T01:04:26.164559800Z",
     "start_time": "2024-06-25T01:04:26.151042Z"
    }
   },
   "id": "8457b3d17cd13475",
   "execution_count": 38
  },
  {
   "cell_type": "code",
   "outputs": [
    {
     "name": "stdout",
     "output_type": "stream",
     "text": [
      "Translating: ['Wir brauchen ein neues Auto.']\n",
      "torch.Size([1, 384, 128])\n",
      "Translated text: We weed ao mevantieo to<pad>datte<pad><pad><pad><pad><pad><pad><pad><pad><pad><pad><pad><pad><pad><pad><pad><pad><pad><pad><pad><pad><pad><pad><pad><pad><pad><pad><pad><pad><pad><pad><pad><pad><pad><pad><pad><pad><pad><pad><pad><pad><pad><pad><pad><pad><pad><pad><pad><pad><pad><pad><pad><pad><pad><pad><pad><pad><pad><pad><pad><pad><pad><pad><pad><pad><pad><pad><pad><pad><pad><pad><pad><pad><pad><pad><pad><pad><pad><pad><pad><pad><pad><pad><pad><pad><pad><pad><pad><pad><pad><pad><pad><pad><pad><pad><pad><pad><pad><pad><pad>\n"
     ]
    }
   ],
   "source": [
    "encoder_decoder.eval()\n",
    "text = [\"Wir brauchen einen neuen Datensatz.\"]\n",
    "print(f\"Translating: {text}\")\n",
    "translate(text, encoder_decoder, wmt_json_loader)\n"
   ],
   "metadata": {
    "collapsed": false,
    "ExecuteTime": {
     "end_time": "2024-06-25T01:08:23.738972100Z",
     "start_time": "2024-06-25T01:08:23.473870700Z"
    }
   },
   "id": "77f0ce0d46bc04c4",
   "execution_count": 54
  }
 ],
 "metadata": {
  "kernelspec": {
   "display_name": "Python 3",
   "language": "python",
   "name": "python3"
  },
  "language_info": {
   "codemirror_mode": {
    "name": "ipython",
    "version": 2
   },
   "file_extension": ".py",
   "mimetype": "text/x-python",
   "name": "python",
   "nbconvert_exporter": "python",
   "pygments_lexer": "ipython2",
   "version": "2.7.6"
  }
 },
 "nbformat": 4,
 "nbformat_minor": 5
}
